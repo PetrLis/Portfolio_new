{
  "cells": [
    {
      "cell_type": "markdown",
      "metadata": {
        "id": "GnNEA0k32INw"
      },
      "source": [
        "# Исследование объявлений о продаже квартир\n",
        "\n",
        "В вашем распоряжении данные архива объявлений о продаже квартир в Санкт-Петербурге и соседних населённых пунктах за несколько лет. Нужно научиться определять рыночную стоимость объектов недвижимости. Ваша задача — установить параметры.\n",
        "\n",
        "По каждой квартире на продажу доступны два вида данных. Первые вписаны пользователем, вторые получены автоматически на основе картографических данных. Например, расстояние до центра, аэропорта, ближайшего парка и водоёма. "
      ]
    },
    {
      "cell_type": "markdown",
      "metadata": {
        "id": "-6Zabnye2INy"
      },
      "source": [
        "## Изучение данных из файла"
      ]
    },
    {
      "cell_type": "code",
      "execution_count": null,
      "metadata": {
        "id": "t-LYvP622INz"
      },
      "outputs": [],
      "source": [
        "import pandas as pd"
      ]
    },
    {
      "cell_type": "code",
      "execution_count": null,
      "metadata": {
        "id": "Pg3OuQ-_2IN4",
        "outputId": "5f3f324c-0dd0-4db1-87e8-0f95bfa21f99"
      },
      "outputs": [
        {
          "name": "stdout",
          "output_type": "stream",
          "text": [
            "<class 'pandas.core.frame.DataFrame'>\n",
            "RangeIndex: 23699 entries, 0 to 23698\n",
            "Data columns (total 22 columns):\n",
            "total_images            23699 non-null int64\n",
            "last_price              23699 non-null float64\n",
            "total_area              23699 non-null float64\n",
            "first_day_exposition    23699 non-null object\n",
            "rooms                   23699 non-null int64\n",
            "ceiling_height          14504 non-null float64\n",
            "floors_total            23613 non-null float64\n",
            "living_area             21796 non-null float64\n",
            "floor                   23699 non-null int64\n",
            "is_apartment            2775 non-null object\n",
            "studio                  23699 non-null bool\n",
            "open_plan               23699 non-null bool\n",
            "kitchen_area            21421 non-null float64\n",
            "balcony                 12180 non-null float64\n",
            "locality_name           23650 non-null object\n",
            "airports_nearest        18157 non-null float64\n",
            "cityCenters_nearest     18180 non-null float64\n",
            "parks_around3000        18181 non-null float64\n",
            "parks_nearest           8079 non-null float64\n",
            "ponds_around3000        18181 non-null float64\n",
            "ponds_nearest           9110 non-null float64\n",
            "days_exposition         20518 non-null float64\n",
            "dtypes: bool(2), float64(14), int64(3), object(3)\n",
            "memory usage: 3.7+ MB\n"
          ]
        }
      ],
      "source": [
        "df.info()"
      ]
    },
    {
      "cell_type": "code",
      "execution_count": null,
      "metadata": {
        "id": "UGDlNEjq2IN5",
        "outputId": "abd4d843-2cbc-4ef1-eb41-129ee63165bd"
      },
      "outputs": [
        {
          "data": {
            "text/plain": [
              "total_images                0\n",
              "last_price                  0\n",
              "total_area                  0\n",
              "first_day_exposition        0\n",
              "rooms                       0\n",
              "ceiling_height           9195\n",
              "floors_total               86\n",
              "living_area              1903\n",
              "floor                       0\n",
              "is_apartment            20924\n",
              "studio                      0\n",
              "open_plan                   0\n",
              "kitchen_area             2278\n",
              "balcony                 11519\n",
              "locality_name              49\n",
              "airports_nearest         5542\n",
              "cityCenters_nearest      5519\n",
              "parks_around3000         5518\n",
              "parks_nearest           15620\n",
              "ponds_around3000         5518\n",
              "ponds_nearest           14589\n",
              "days_exposition          3181\n",
              "dtype: int64"
            ]
          },
          "execution_count": 4,
          "metadata": {},
          "output_type": "execute_result"
        }
      ],
      "source": [
        "df.isna().sum()"
      ]
    },
    {
      "cell_type": "markdown",
      "metadata": {
        "id": "uFWXh7-32IN6"
      },
      "source": [
        "### Вывод"
      ]
    },
    {
      "cell_type": "markdown",
      "metadata": {
        "id": "mpD55GYF2IN7"
      },
      "source": [
        "В датафрейме видим 23699 строк и 22 столбца, только 8 столбцов полностью заполнены, в остальных есть пропуски в данных. \n",
        "\n",
        "Столбец 'ceiling_height' (высота потолков) имеет пропуски в 9195 строках, скорее всего высота потолков в этих объявлениях стандартная, можно заменить их медианными значениями, эта замена не должна повлиять на результат исследования.  \n",
        "Столбец 'floors_total' (количество этажей в доме) имеет 86 пропусков, эти пропуки могли появиться, если этаж, на котором расположена квартира в объявлении находится на последнем этаже.  \n",
        "Столбец 'living_area' (жилая площадь) имеет 1903 пропуска, это существенный параметр удалять нельзя.  \n",
        "Столбец 'is_apartment' (обозначение аппартаментов) всего 2775 заполненных строк, нужно проверить принцип заполнения, возможно обозначается ДА/НЕТ, тогда заполненные значения будут свидетельствовать о принадлежности помещения в обьявлении к аппартаментам, а пропуски в данных свидетельствовать о нежелании пользователя заполнять эту ячейку, если помещение не относится к данной категории. Аппартаменты не относятся к жилой недвижимости, поэтому после подтверждения гипотезы о пропусках в данных можно удалить объявления, относящиеся к этой категории.  \n",
        "Столбец 'kitchen_area' (площадь кухни) имеет 2278 пропусков, .  \n",
        "Столбец 'balcony' (количество балконов) имеет 11519 пропусков, можно предположить, что пропуски свидетельствуют об отсутствии балконов, эти пропуски можно заполнить \"0\".  \n",
        "Столбец 'locality_name' (название населенного пункта) имеет 49 пропусков, возможно название населенного пункта добавляется двумя способами: вручную пользователем или по геолокации устройства, с которого выложено объявление, в этом случае пользователь понадеялся на гоелокацию, но включить в настройках её забыл, и это поле осталось пустым. Возможно названия населенного пукта отсутствует в списке населенных пунктов, а также отсутствует возможность добавлять названия вручную. В любом случае разработчикам необходимо сделать так, чтобы объявление невозможно было выложить без названиея населенного пункта.  \n",
        "Столбцы 'airports_nearest' (расстояние до ближайшего аэропорта), 'cityCenters_nearest' (расстояние до центра города), 'parks_around3000' (число парков в радиусе 3 км), 'ponds_nearest' (расстояние до ближайшего водоема), 'days_exposition'(количество дней размещения объявления), пропуски в этих столбцах могут свидетельствовать о сбое во время выгрузки данных.\n"
      ]
    },
    {
      "cell_type": "code",
      "execution_count": null,
      "metadata": {
        "id": "glba_kvT2IN-",
        "outputId": "69289eff-370b-446d-f723-3d8ab6111e3a"
      },
      "outputs": [
        {
          "data": {
            "text/html": [
              "<div>\n",
              "<style scoped>\n",
              "    .dataframe tbody tr th:only-of-type {\n",
              "        vertical-align: middle;\n",
              "    }\n",
              "\n",
              "    .dataframe tbody tr th {\n",
              "        vertical-align: top;\n",
              "    }\n",
              "\n",
              "    .dataframe thead th {\n",
              "        text-align: right;\n",
              "    }\n",
              "</style>\n",
              "<table border=\"1\" class=\"dataframe\">\n",
              "  <thead>\n",
              "    <tr style=\"text-align: right;\">\n",
              "      <th></th>\n",
              "      <th>total_images</th>\n",
              "      <th>last_price</th>\n",
              "      <th>total_area</th>\n",
              "      <th>rooms</th>\n",
              "      <th>ceiling_height</th>\n",
              "      <th>floors_total</th>\n",
              "      <th>living_area</th>\n",
              "      <th>floor</th>\n",
              "      <th>kitchen_area</th>\n",
              "      <th>balcony</th>\n",
              "      <th>airports_nearest</th>\n",
              "      <th>cityCenters_nearest</th>\n",
              "      <th>parks_around3000</th>\n",
              "      <th>parks_nearest</th>\n",
              "      <th>ponds_around3000</th>\n",
              "      <th>ponds_nearest</th>\n",
              "      <th>days_exposition</th>\n",
              "    </tr>\n",
              "  </thead>\n",
              "  <tbody>\n",
              "    <tr>\n",
              "      <td>count</td>\n",
              "      <td>23699.000000</td>\n",
              "      <td>2.369900e+04</td>\n",
              "      <td>23699.000000</td>\n",
              "      <td>23699.000000</td>\n",
              "      <td>14504.000000</td>\n",
              "      <td>23613.000000</td>\n",
              "      <td>21796.000000</td>\n",
              "      <td>23699.000000</td>\n",
              "      <td>21421.000000</td>\n",
              "      <td>12180.000000</td>\n",
              "      <td>18157.000000</td>\n",
              "      <td>18180.000000</td>\n",
              "      <td>18181.000000</td>\n",
              "      <td>8079.000000</td>\n",
              "      <td>18181.000000</td>\n",
              "      <td>9110.000000</td>\n",
              "      <td>20518.000000</td>\n",
              "    </tr>\n",
              "    <tr>\n",
              "      <td>mean</td>\n",
              "      <td>9.858475</td>\n",
              "      <td>6.541549e+06</td>\n",
              "      <td>60.348651</td>\n",
              "      <td>2.070636</td>\n",
              "      <td>2.771499</td>\n",
              "      <td>10.673824</td>\n",
              "      <td>34.457852</td>\n",
              "      <td>5.892358</td>\n",
              "      <td>10.569807</td>\n",
              "      <td>1.150082</td>\n",
              "      <td>28793.672193</td>\n",
              "      <td>14191.277833</td>\n",
              "      <td>0.611408</td>\n",
              "      <td>490.804555</td>\n",
              "      <td>0.770255</td>\n",
              "      <td>517.980900</td>\n",
              "      <td>180.888634</td>\n",
              "    </tr>\n",
              "    <tr>\n",
              "      <td>std</td>\n",
              "      <td>5.682529</td>\n",
              "      <td>1.088701e+07</td>\n",
              "      <td>35.654083</td>\n",
              "      <td>1.078405</td>\n",
              "      <td>1.261056</td>\n",
              "      <td>6.597173</td>\n",
              "      <td>22.030445</td>\n",
              "      <td>4.885249</td>\n",
              "      <td>5.905438</td>\n",
              "      <td>1.071300</td>\n",
              "      <td>12630.880622</td>\n",
              "      <td>8608.386210</td>\n",
              "      <td>0.802074</td>\n",
              "      <td>342.317995</td>\n",
              "      <td>0.938346</td>\n",
              "      <td>277.720643</td>\n",
              "      <td>219.727988</td>\n",
              "    </tr>\n",
              "    <tr>\n",
              "      <td>min</td>\n",
              "      <td>0.000000</td>\n",
              "      <td>1.219000e+04</td>\n",
              "      <td>12.000000</td>\n",
              "      <td>0.000000</td>\n",
              "      <td>1.000000</td>\n",
              "      <td>1.000000</td>\n",
              "      <td>2.000000</td>\n",
              "      <td>1.000000</td>\n",
              "      <td>1.300000</td>\n",
              "      <td>0.000000</td>\n",
              "      <td>0.000000</td>\n",
              "      <td>181.000000</td>\n",
              "      <td>0.000000</td>\n",
              "      <td>1.000000</td>\n",
              "      <td>0.000000</td>\n",
              "      <td>13.000000</td>\n",
              "      <td>1.000000</td>\n",
              "    </tr>\n",
              "    <tr>\n",
              "      <td>25%</td>\n",
              "      <td>6.000000</td>\n",
              "      <td>3.400000e+06</td>\n",
              "      <td>40.000000</td>\n",
              "      <td>1.000000</td>\n",
              "      <td>2.520000</td>\n",
              "      <td>5.000000</td>\n",
              "      <td>18.600000</td>\n",
              "      <td>2.000000</td>\n",
              "      <td>7.000000</td>\n",
              "      <td>0.000000</td>\n",
              "      <td>18585.000000</td>\n",
              "      <td>9238.000000</td>\n",
              "      <td>0.000000</td>\n",
              "      <td>288.000000</td>\n",
              "      <td>0.000000</td>\n",
              "      <td>294.000000</td>\n",
              "      <td>45.000000</td>\n",
              "    </tr>\n",
              "    <tr>\n",
              "      <td>50%</td>\n",
              "      <td>9.000000</td>\n",
              "      <td>4.650000e+06</td>\n",
              "      <td>52.000000</td>\n",
              "      <td>2.000000</td>\n",
              "      <td>2.650000</td>\n",
              "      <td>9.000000</td>\n",
              "      <td>30.000000</td>\n",
              "      <td>4.000000</td>\n",
              "      <td>9.100000</td>\n",
              "      <td>1.000000</td>\n",
              "      <td>26726.000000</td>\n",
              "      <td>13098.500000</td>\n",
              "      <td>0.000000</td>\n",
              "      <td>455.000000</td>\n",
              "      <td>1.000000</td>\n",
              "      <td>502.000000</td>\n",
              "      <td>95.000000</td>\n",
              "    </tr>\n",
              "    <tr>\n",
              "      <td>75%</td>\n",
              "      <td>14.000000</td>\n",
              "      <td>6.800000e+06</td>\n",
              "      <td>69.900000</td>\n",
              "      <td>3.000000</td>\n",
              "      <td>2.800000</td>\n",
              "      <td>16.000000</td>\n",
              "      <td>42.300000</td>\n",
              "      <td>8.000000</td>\n",
              "      <td>12.000000</td>\n",
              "      <td>2.000000</td>\n",
              "      <td>37273.000000</td>\n",
              "      <td>16293.000000</td>\n",
              "      <td>1.000000</td>\n",
              "      <td>612.000000</td>\n",
              "      <td>1.000000</td>\n",
              "      <td>729.000000</td>\n",
              "      <td>232.000000</td>\n",
              "    </tr>\n",
              "    <tr>\n",
              "      <td>max</td>\n",
              "      <td>50.000000</td>\n",
              "      <td>7.630000e+08</td>\n",
              "      <td>900.000000</td>\n",
              "      <td>19.000000</td>\n",
              "      <td>100.000000</td>\n",
              "      <td>60.000000</td>\n",
              "      <td>409.700000</td>\n",
              "      <td>33.000000</td>\n",
              "      <td>112.000000</td>\n",
              "      <td>5.000000</td>\n",
              "      <td>84869.000000</td>\n",
              "      <td>65968.000000</td>\n",
              "      <td>3.000000</td>\n",
              "      <td>3190.000000</td>\n",
              "      <td>3.000000</td>\n",
              "      <td>1344.000000</td>\n",
              "      <td>1580.000000</td>\n",
              "    </tr>\n",
              "  </tbody>\n",
              "</table>\n",
              "</div>"
            ],
            "text/plain": [
              "       total_images    last_price    total_area         rooms  ceiling_height  \\\n",
              "count  23699.000000  2.369900e+04  23699.000000  23699.000000    14504.000000   \n",
              "mean       9.858475  6.541549e+06     60.348651      2.070636        2.771499   \n",
              "std        5.682529  1.088701e+07     35.654083      1.078405        1.261056   \n",
              "min        0.000000  1.219000e+04     12.000000      0.000000        1.000000   \n",
              "25%        6.000000  3.400000e+06     40.000000      1.000000        2.520000   \n",
              "50%        9.000000  4.650000e+06     52.000000      2.000000        2.650000   \n",
              "75%       14.000000  6.800000e+06     69.900000      3.000000        2.800000   \n",
              "max       50.000000  7.630000e+08    900.000000     19.000000      100.000000   \n",
              "\n",
              "       floors_total   living_area         floor  kitchen_area       balcony  \\\n",
              "count  23613.000000  21796.000000  23699.000000  21421.000000  12180.000000   \n",
              "mean      10.673824     34.457852      5.892358     10.569807      1.150082   \n",
              "std        6.597173     22.030445      4.885249      5.905438      1.071300   \n",
              "min        1.000000      2.000000      1.000000      1.300000      0.000000   \n",
              "25%        5.000000     18.600000      2.000000      7.000000      0.000000   \n",
              "50%        9.000000     30.000000      4.000000      9.100000      1.000000   \n",
              "75%       16.000000     42.300000      8.000000     12.000000      2.000000   \n",
              "max       60.000000    409.700000     33.000000    112.000000      5.000000   \n",
              "\n",
              "       airports_nearest  cityCenters_nearest  parks_around3000  parks_nearest  \\\n",
              "count      18157.000000         18180.000000      18181.000000    8079.000000   \n",
              "mean       28793.672193         14191.277833          0.611408     490.804555   \n",
              "std        12630.880622          8608.386210          0.802074     342.317995   \n",
              "min            0.000000           181.000000          0.000000       1.000000   \n",
              "25%        18585.000000          9238.000000          0.000000     288.000000   \n",
              "50%        26726.000000         13098.500000          0.000000     455.000000   \n",
              "75%        37273.000000         16293.000000          1.000000     612.000000   \n",
              "max        84869.000000         65968.000000          3.000000    3190.000000   \n",
              "\n",
              "       ponds_around3000  ponds_nearest  days_exposition  \n",
              "count      18181.000000    9110.000000     20518.000000  \n",
              "mean           0.770255     517.980900       180.888634  \n",
              "std            0.938346     277.720643       219.727988  \n",
              "min            0.000000      13.000000         1.000000  \n",
              "25%            0.000000     294.000000        45.000000  \n",
              "50%            1.000000     502.000000        95.000000  \n",
              "75%            1.000000     729.000000       232.000000  \n",
              "max            3.000000    1344.000000      1580.000000  "
            ]
          },
          "execution_count": 5,
          "metadata": {},
          "output_type": "execute_result"
        }
      ],
      "source": [
        "df.describe()"
      ]
    },
    {
      "cell_type": "markdown",
      "metadata": {
        "id": "swLAsQJG2IN_"
      },
      "source": [
        "<hr style=\"border: 2px solid green;\" />"
      ]
    },
    {
      "cell_type": "markdown",
      "metadata": {
        "id": "VYyoXwD62IN_"
      },
      "source": [
        "## Предобработка данных"
      ]
    },
    {
      "cell_type": "markdown",
      "metadata": {
        "id": "YuYQmLfT2IOA"
      },
      "source": [
        "Для выполнения исследования необходимо подготовить данные. Изменить тип данных в колонках: 'first_day_exposition' на 'dataime', 'balcony', 'parks_around3000', 'ponds_around3000' на 'int' (количество балконов, парков, и водоемов не может быть вещественным числом).  \n",
        "Также необходимо заполнить пропущенные значения.  \n",
        "Пропуски в столбце 'locality_name' можно удалить, так как их количество незначительно.  \n",
        "Пропуски в столбце 'floors_total' (количество этажей в доме)\n",
        "Пропуски в столбцах 'ceiling_height' заполню медианным значением, 'living_area', 'kitchen_area' буду заполнять в зависимости от значений в других столбцах.  \n",
        "Пропуски в столбце 'is_apartment' могут указывать на то, что пользователь пропустил поле с выбором вида недвижимости(аппартаменты или нет) так как его недвижимость не принадлежит к аппартаментам. В нашеи исследовании используются только данные о жилой недвижимости, поэтому объявления о аппартаментах можно удалить, после удаления этих объявлений можно удалить весь столбец 'is_apartment'.  \n",
        "Пропуски в столбцах 'airports_nearest', 'cityCenters_nearest','parks_around3000','parks_nearest', 'ponds_around3000', 'ponds_nearest', 'days_exposition' могут свидетельствовать о сбоях в программе картографических данных, так как в данных нет точного адреса или координат расположения обьекта недвижимости заполним эти пропуски медианными значениями групп данных по населенному пункту.  \n",
        "Для поиска дубликатов в объявлениях в столбцах со строковыми данными приведем значения к одному регистру и произведем замену логически одинаковых названий. "
      ]
    },
    {
      "cell_type": "code",
      "execution_count": null,
      "metadata": {
        "id": "eQPOqhUt2IOA"
      },
      "outputs": [],
      "source": [
        "# изменение типа данных в колонках: 'first_day_exposition' на 'dataime'\n",
        "df['first_day_exposition'] = pd.to_datetime(df['first_day_exposition'], format= '%Y-%m-%dT%H:%M:%S')"
      ]
    },
    {
      "cell_type": "code",
      "execution_count": null,
      "metadata": {
        "id": "LK7PsznO2IOC"
      },
      "outputs": [],
      "source": [
        "#удалил пропущенные значения наименования населенных пуктов\n",
        "df = df.drop(df[df['locality_name'].isna()].index).reset_index(drop=True)"
      ]
    },
    {
      "cell_type": "code",
      "execution_count": null,
      "metadata": {
        "id": "WTy0GW0J2IOC"
      },
      "outputs": [],
      "source": [
        "df = df.drop(df[df['is_apartment']==True].index).reset_index(drop=True) #удалил строки со значением True (об аппартаментах)\n",
        "df = df.drop(['is_apartment'], axis=1)# удалил столбец"
      ]
    },
    {
      "cell_type": "code",
      "execution_count": null,
      "metadata": {
        "id": "1kghxzSz2IOD"
      },
      "outputs": [],
      "source": [
        "#преобразует все строковые значения в таблице в нижний регистр\n",
        "for column in df.select_dtypes('object').columns:\n",
        "    df[column] = df[column].str.lower()"
      ]
    },
    {
      "cell_type": "code",
      "execution_count": null,
      "metadata": {
        "id": "MCLIq2qa2IOE"
      },
      "outputs": [],
      "source": [
        "df['balcony'] = df['balcony'].fillna(0) # заполнил пропуски \"0\""
      ]
    },
    {
      "cell_type": "code",
      "execution_count": null,
      "metadata": {
        "id": "Oup4BnJD2IOE"
      },
      "outputs": [],
      "source": [
        "# скорее всего этаж указанный в объявлении является последним, поэтому не указана этажность дома\n",
        "df.loc[df['floors_total'].isna(), 'floors_total'] = df.loc[df['floors_total'].isna(), 'floor']"
      ]
    },
    {
      "cell_type": "markdown",
      "metadata": {
        "id": "fZ6-2vLW2IOF"
      },
      "source": [
        "Для заполнения пропусков в столбцах 'living_area', 'kitchen_area' определим отношение медиан этих площадей к медиане общей площади и заполним пропущенные значения в столбцах 'living_area', 'kitchen_area' произведением значения в столбце 'total_area' на найденные отношения. Квартиры студии не имеют кухни поэтому пропущеные значения столбца 'kitchen_area' в объявлениях о продаже квартир-студи можно заполнить \"0\"  \n",
        "Также в столбце 'living_area' есть неправдоподобно маленькие значения, такие значения это ошибки ввода данных пользователем, такие значения сравним с получившимся у нас и если оно меньше заменим это значение."
      ]
    },
    {
      "cell_type": "code",
      "execution_count": null,
      "metadata": {
        "id": "_0qlnGtd2IOF"
      },
      "outputs": [],
      "source": [
        "# заполняю пропущеные значения в столбце \"площадь кухни \" на \"0\", если квартира является студией.\n",
        "df.loc[(df['studio'] == True) & (df['kitchen_area'].isna()),  'kitchen_area']=0"
      ]
    },
    {
      "cell_type": "code",
      "execution_count": null,
      "metadata": {
        "id": "8VT3TvYH2IOG"
      },
      "outputs": [],
      "source": [
        "#вычисляю отношение жилой площади к площади общей\n",
        "area_division = df['living_area'].median()/df['total_area'].median()\n",
        "# вычисляю отношение площади кухни к площади общей\n",
        "kitchen_area_division = df['kitchen_area'].median()/df['total_area'].median()\n",
        "# заполняю пропущенные значения жилой площади с учетом общей площади и отношения жилой площади к общей\n",
        "df.loc[df['living_area'].isna(), 'living_area'] = df.loc[df['living_area'].isna(), 'total_area']*area_division\n",
        "#заполняю пропущенные значения площади кухни с учетом общей площади и отношения площади кухни к общей площади\n",
        "df.loc[df['kitchen_area'].isna(), 'kitchen_area'] = df.loc[df['kitchen_area'].isna(), 'total_area']*kitchen_area_division"
      ]
    },
    {
      "cell_type": "code",
      "execution_count": null,
      "metadata": {
        "id": "riaBhVw_2IOG"
      },
      "outputs": [],
      "source": [
        "# заполняю пропущенные значения высоты потолков на медианные значения.\n",
        "df.loc[df['ceiling_height'].isna(), 'ceiling_height'] = df['ceiling_height'].median()"
      ]
    },
    {
      "cell_type": "code",
      "execution_count": null,
      "metadata": {
        "id": "jNc4QO542IOH"
      },
      "outputs": [],
      "source": [
        "#изменяю тип данных в столбце 'balcony'\n",
        "df['balcony'] = df['balcony'].astype('int')"
      ]
    },
    {
      "cell_type": "code",
      "execution_count": null,
      "metadata": {
        "id": "fnXY6qBm2IOH"
      },
      "outputs": [],
      "source": [
        "df['locality_name'] = df['locality_name'].str.replace('поселок', 'посёлок')"
      ]
    },
    {
      "cell_type": "code",
      "execution_count": null,
      "metadata": {
        "id": "cbvcEsSO2IOI"
      },
      "outputs": [],
      "source": [
        "df['locality_name'] = df['locality_name'].str.replace('городской посёлок', 'посёлок городского типа')"
      ]
    },
    {
      "cell_type": "code",
      "execution_count": null,
      "metadata": {
        "id": "AH5sA6fI2IOI"
      },
      "outputs": [],
      "source": [
        "# устраним пропуски в столбце 'balcony', заменим их на 0\n",
        "df['balcony'] = df['balcony'].fillna(0)"
      ]
    },
    {
      "cell_type": "code",
      "execution_count": null,
      "metadata": {
        "id": "OI9t-Nuq2IOK"
      },
      "outputs": [],
      "source": [
        "import warnings\n",
        "warnings.filterwarnings('ignore')\n",
        "# Расстояния до центра, прудов и парков лучше всего заполнить медианой с группировкой по населенному пункту\n",
        "for name in df['locality_name'].unique():\n",
        "    median = df.loc[df['locality_name']==name, 'airports_nearest'].median()\n",
        "    df.loc[(df['airports_nearest'].isna())&(df['locality_name']==name), 'airports_nearest']=median\n",
        "    median_centr = df.loc[df['locality_name']==name, 'cityCenters_nearest'].median()\n",
        "    df.loc[(df['cityCenters_nearest'].isna())&(df['locality_name']==name), 'cityCenters_nearest']=median_centr\n",
        "    median_parks = df.loc[df['locality_name']==name, 'parks_nearest'].median()\n",
        "    df.loc[(df['parks_nearest'].isna())&(df['locality_name']==name), 'parks_nearest']=median_parks\n",
        "    median_ponds = df.loc[df['locality_name']==name, 'ponds_nearest'].median()\n",
        "    df.loc[(df['ponds_nearest'].isna())&(df['locality_name']==name), 'ponds_nearest']=median_ponds"
      ]
    },
    {
      "cell_type": "code",
      "execution_count": null,
      "metadata": {
        "id": "r4HMBTyj2IOT"
      },
      "outputs": [],
      "source": [
        "# оставшиеся пропуски могут сказать о том, что в некоторых группах по названиям населенных пунктов отсутствуют данные о\n",
        "# о расстояниях до аэропорта, центра города, парков и водоемах, а также отсутствуют данные о количестве парков и водоёмов\n",
        "# в радиусе 3 км. поэтому заменим эти пропуски медианными значениями вне зависимости от названия населенного пункта\n",
        "# также приведем значения в столбцах 'parks_around3000' и'ponds_around3000' к типу 'int'.\n",
        "df.loc[df['airports_nearest'].isna(), 'airports_nearest'] = df['airports_nearest'].median()\n",
        "df.loc[df['cityCenters_nearest'].isna(), 'cityCenters_nearest'] = df['cityCenters_nearest'].median()\n",
        "df.loc[df['parks_nearest'].isna(), 'parks_nearest'] = df['parks_nearest'].median()\n",
        "df.loc[df['ponds_nearest'].isna(), 'ponds_nearest'] = df['ponds_nearest'].median()\n",
        "df.loc[df['parks_around3000'].isna(), 'parks_around3000'] = df['parks_around3000'].median()\n",
        "df.loc[df['ponds_around3000'].isna(), 'ponds_around3000'] = df['ponds_around3000'].median()\n",
        "df['parks_around3000'] = df['parks_around3000'].astype('int')\n",
        "df['ponds_around3000'] = df['ponds_around3000'].astype('int')"
      ]
    },
    {
      "cell_type": "code",
      "execution_count": null,
      "metadata": {
        "id": "HqTUKEt92IOU",
        "outputId": "e882a2ee-0ded-4a12-f884-07020dfd429e"
      },
      "outputs": [
        {
          "data": {
            "text/plain": [
              "0"
            ]
          },
          "execution_count": 21,
          "metadata": {},
          "output_type": "execute_result"
        }
      ],
      "source": [
        "df.duplicated().sum() # проверил на наличие явных дубликатов."
      ]
    },
    {
      "cell_type": "markdown",
      "metadata": {
        "id": "vIsa7xnA2IOV"
      },
      "source": [
        "В ходе предобработки данных были заполнены пропуски в столбцах 'parks_around3000', 'ponds_around3000','ceiling_height' медианными значениями. В столбцах 'airports_nearest', 'cityCenters_nearest',  'parks_nearest', 'ponds_nearest' пропуски были заполнены медианными значениями в зависимости от названия населенного пункта.  \n",
        "Пропуски в стоблце 'locality_name' были удалены так как нет данных геолокации или координат объектов продажи и заполнить эти данные не представляется возможным. Названия населенных пунктов привел к однообразным значениям. Строковые данные во всех столбцах привел к нижнему регистру.  \n",
        "Пропуски в столбцах 'living_area', 'kitchen_area' заполнил расчетными данными в зависимости от общей площади квартиры. Квартиры студии не имеют кухни, поэтому площадь кухни в этих объявлениях заполнил \"0\".  \n",
        "Также \"0\" заполнил пропуски в столбце 'balcony' так как предположил, что эти данные не были заполнены пользователем так как балкон отсутствует.  \n",
        "Объявления о продаже аппартаментов также удалил. Исследование мы проводим на продаже жилой недвижимости, аппартаменты являются коммерческой недвижимостью хоть и предназначены для проживания.  \n",
        "Привел данные в столбце 'first_day_exposition' к формату datetime, данные в столбцах 'parks_around3000', 'ponds_around3000', 'balcony' к формату 'int'.\n"
      ]
    },
    {
      "cell_type": "markdown",
      "metadata": {
        "id": "2rI_KDn52IOV"
      },
      "source": [
        "## Расчёты и добавление результатов в таблицу"
      ]
    },
    {
      "cell_type": "code",
      "execution_count": null,
      "metadata": {
        "id": "V_Dyrbpo2IOW"
      },
      "outputs": [],
      "source": [
        "#добавлю столбец с ценой квадратного метра 'total_area_price' \n",
        "df['total_area_price'] = df['last_price']/df['total_area']"
      ]
    },
    {
      "cell_type": "code",
      "execution_count": null,
      "metadata": {
        "id": "7mOTuy0K2IOW"
      },
      "outputs": [],
      "source": [
        "# добавляю столбец с днем недели, месяцем (числовой), месяцем (полный) и годом добавления объявления\n",
        "df['first_weekday_exposition'] = df['first_day_exposition'].dt.weekday # выделяю день номер дня недели\n",
        "# формирую список дней недели\n",
        "weekdays = ['понедельник', 'вторник', 'среда', 'четверг', 'пятница', 'суббота', 'воскресенье']\n",
        "for day in df['first_weekday_exposition'].unique(): # циклом меняю номер на день недели\n",
        "    df.loc[df['first_weekday_exposition']==day,'first_weekday_exposition']=weekdays[day]\n",
        "\n",
        "df['first_year_exposition'] = df['first_day_exposition'].dt.year # добавляю столбец с годом добавления объявления\n",
        "# добавляю столбец с месяцем (числом) добавления объявления\n",
        "df['first_month_exposition'] = df['first_day_exposition'].dt.month\n",
        "# добавляю столбец с месяцем (полный) добавления объявления\n",
        "df['first_month_full_exposition'] = df['first_day_exposition'].astype('datetime64[M]')"
      ]
    },
    {
      "cell_type": "code",
      "execution_count": null,
      "metadata": {
        "id": "qWNcuYuT2IOY"
      },
      "outputs": [],
      "source": [
        "# функция добавляет в столбец 'floor_group' группировку по этажам\n",
        "def floor_category(row):\n",
        "    if row['floor'] == 1: return 'первый'\n",
        "    if row['floor'] == row['floors_total']: return 'последний'\n",
        "    return 'другой'\n",
        "df['floor_group'] = df.apply(floor_category, axis = 1) "
      ]
    },
    {
      "cell_type": "code",
      "execution_count": null,
      "metadata": {
        "id": "wAg9VSqQ2IOZ"
      },
      "outputs": [],
      "source": [
        "# добавляем столбец с отношением жилой площади к общей площади\n",
        "df.loc[: ,'area_ratio'] = df.loc[:, 'living_area']/df.loc[:, 'total_area']"
      ]
    },
    {
      "cell_type": "code",
      "execution_count": null,
      "metadata": {
        "id": "DQmzWGm_2IOZ"
      },
      "outputs": [],
      "source": [
        "# # добавляем столбец с отношением площади кухни к общей площади\n",
        "df.loc[: ,'kitchen_area_ratio'] = df.loc[:, 'kitchen_area']/df.loc[:, 'total_area']"
      ]
    },
    {
      "cell_type": "markdown",
      "metadata": {
        "id": "BBXGptGu2IOa"
      },
      "source": [
        "Добавил в таблицу столбцы:  \n",
        "'total_area_price' - стоимость квадратного метра общей площади.  \n",
        "'first_weekday_exposition' - день недели публикации объявления.  \n",
        "'first_year_exposition' - год публикации объявления.  \n",
        "'first_month_exposition' - месяц публикации объявления, выраженный числом, вне зависимости от года.  \n",
        "'first_month_full_exposition' - месяц вместе с годом, для более корректного отображения зависимости месяца публикации объявления и стоимомти квартиры.  \n",
        "'floor_group' - группировка объявлений по этажу, \"первый\", \"другой\", \"последний\".  \n",
        "'area_ratio' - отношение жилой площади к общей площади.  \n",
        "'kitchen_area_ratio' - отношение площади кухни к общей площади квартиры."
      ]
    },
    {
      "cell_type": "markdown",
      "metadata": {
        "id": "GhZ6ADGT2IOa"
      },
      "source": [
        "## Исследовательский анализ данных"
      ]
    },
    {
      "cell_type": "code",
      "execution_count": null,
      "metadata": {
        "scrolled": false,
        "id": "VqRUeGlu2IOb",
        "outputId": "350b7f7e-94e6-4723-b58f-9c0965270bff"
      },
      "outputs": [
        {
          "data": {
            "image/png": "[encoded data removed]",
            "text/plain": [
              "<Figure size 432x288 with 1 Axes>"
            ]
          },
          "metadata": {
            "needs_background": "light"
          },
          "output_type": "display_data"
        },
        {
          "data": {
            "image/png": "[encoded data removed]",
            "text/plain": [
              "<Figure size 432x288 with 1 Axes>"
            ]
          },
          "metadata": {
            "needs_background": "light"
          },
          "output_type": "display_data"
        },
        {
          "data": {
            "image/png": "[encoded data removed]",
            "text/plain": [
              "<Figure size 432x288 with 1 Axes>"
            ]
          },
          "metadata": {
            "needs_background": "light"
          },
          "output_type": "display_data"
        },
        {
          "data": {
            "image/png": "[encoded data removed]",
            "text/plain": [
              "<Figure size 432x288 with 1 Axes>"
            ]
          },
          "metadata": {
            "needs_background": "light"
          },
          "output_type": "display_data"
        }
      ],
      "source": [
        "# строим гистограммы для площади, цены, числа комнат, высоты полтолков\n",
        "import matplotlib.pyplot as plt\n",
        "columns_for_hist = ['total_area', 'last_price', 'rooms', 'ceiling_height']\n",
        "\n",
        "for name_column in columns_for_hist:\n",
        "    df[name_column].plot(y=name_column, kind='hist', title = name_column, bins=30)\n",
        "    plt.show();\n",
        "    "
      ]
    },
    {
      "cell_type": "code",
      "execution_count": null,
      "metadata": {
        "id": "lqvohr292IOb"
      },
      "outputs": [],
      "source": [
        "# циклом вычисляем анешние границы наборов данных по списку columns_for_hist\n",
        "# и удаляем выбросы \n",
        "for name_column in columns_for_hist:\n",
        "    Q1 = df[name_column].quantile(0.25)\n",
        "    Q3 = df[name_column].quantile(0.75)\n",
        "    IQR = Q3-Q1\n",
        "    df = df.drop(df.loc[~(((df[name_column])<(Q3 + 3 * IQR)) & ((df[name_column])>(Q1 - 3 * IQR)))].index).reset_index(drop=True)\n",
        "    \n",
        "   "
      ]
    },
    {
      "cell_type": "code",
      "execution_count": null,
      "metadata": {
        "id": "FEiDRm_92IOc",
        "outputId": "0c333196-7e05-4abf-f655-b87b2205abd3"
      },
      "outputs": [
        {
          "data": {
            "image/png": "[encoded data removed]",
            "text/plain": [
              "<Figure size 432x288 with 1 Axes>"
            ]
          },
          "metadata": {
            "needs_background": "light"
          },
          "output_type": "display_data"
        },
        {
          "data": {
            "image/png": "[encoded data removed]",
            "text/plain": [
              "<Figure size 432x288 with 1 Axes>"
            ]
          },
          "metadata": {
            "needs_background": "light"
          },
          "output_type": "display_data"
        },
        {
          "data": {
            "image/png": "[encoded data removed]",
            "text/plain": [
              "<Figure size 432x288 with 1 Axes>"
            ]
          },
          "metadata": {
            "needs_background": "light"
          },
          "output_type": "display_data"
        },
        {
          "data": {
            "image/png": "[encoded data removed]",
            "text/plain": [
              "<Figure size 432x288 with 1 Axes>"
            ]
          },
          "metadata": {
            "needs_background": "light"
          },
          "output_type": "display_data"
        }
      ],
      "source": [
        "# строим гистограммы по очищеным от выбросов данным\n",
        "for name_column in columns_for_hist:\n",
        "    df[name_column].plot(y=name_column, kind='hist', title = name_column, bins=30)\n",
        "    plt.show();\n",
        "  "
      ]
    },
    {
      "cell_type": "markdown",
      "metadata": {
        "id": "6Pg_UUSg2IOd"
      },
      "source": [
        "Построили гистограммы для значений общей площади, цены квартиры, количества комнат и высоты потолков. На гистограммах видно, что большинство объявлений имеют приблизительно одинаковые значения, но есть и выбивающиеся из общего правила значения.  \n",
        "На гистограмме общей площади видим, что большинство квартир имеют площадь до 100 квадратных метров, с увеличением площади уменьшается и количество квартир, но есть и квартиры с площадью более 200 квадратных метров. Максимальное значение в 900 квадратных метров возможно ошибка на этапе ввода данных, а возможно и реальная площадь квартиры.  \n",
        "На гистограмме цены квартир видно, что цена распределена более равномерно, но без высоких значений также не обошлось.  \n",
        "Количество комнат начинается с 0, скорее всего у квартир-студий, есть значения и в 19 комнат, что говорит о том, что общая площадь в 900 квадратных метров реальна.  \n",
        "Определили внешние границы набора данных о высоте потолков и удалили строки, содержащие значения за этими границами."
      ]
    },
    {
      "cell_type": "code",
      "execution_count": null,
      "metadata": {
        "id": "HFBrQPIp2IOd",
        "outputId": "f6c77428-aad6-45fe-d2e1-f7da184255be"
      },
      "outputs": [
        {
          "data": {
            "image/png": "[encoded data removed]",
            "text/plain": [
              "<Figure size 432x288 with 1 Axes>"
            ]
          },
          "metadata": {
            "needs_background": "light"
          },
          "output_type": "display_data"
        }
      ],
      "source": [
        "# строим гистограмму по данным столбца  days_exposition\n",
        "df['days_exposition'].hist(range=(0,1600), bins=100);\n"
      ]
    },
    {
      "cell_type": "code",
      "execution_count": null,
      "metadata": {
        "id": "D93tE8I-2IOe",
        "outputId": "d1942ffd-9984-4de2-a91c-5983c93a6c12"
      },
      "outputs": [
        {
          "data": {
            "image/png": "[encoded data removed]",
            "text/plain": [
              "<Figure size 432x288 with 1 Axes>"
            ]
          },
          "metadata": {
            "needs_background": "light"
          },
          "output_type": "display_data"
        }
      ],
      "source": [
        "# строим диаграмму размаха\n",
        "df.boxplot(column = 'days_exposition')\n",
        "plt.ylim(1,1600);"
      ]
    },
    {
      "cell_type": "code",
      "execution_count": null,
      "metadata": {
        "scrolled": true,
        "id": "yrPYAiXO2IOe",
        "outputId": "244b83c9-af13-4010-8fbf-130b3746b9e8"
      },
      "outputs": [
        {
          "data": {
            "text/plain": [
              "count    18720.000000\n",
              "mean       172.832959\n",
              "std        211.881443\n",
              "min          1.000000\n",
              "25%         44.000000\n",
              "50%         91.000000\n",
              "75%        217.000000\n",
              "max       1580.000000\n",
              "Name: days_exposition, dtype: float64"
            ]
          },
          "execution_count": 34,
          "metadata": {},
          "output_type": "execute_result"
        }
      ],
      "source": [
        "df['days_exposition'].describe()"
      ]
    },
    {
      "cell_type": "markdown",
      "metadata": {
        "id": "dOKpNoF92IOf"
      },
      "source": [
        "По гистограмме и диаграмме размаха видно, что среди нормальных значений есть выбивающиеся значения. Также можно сказать, что продажа квартиры в период до 45 дней является быстрой, а продажа свеше 486 дней является медленной. В среднем продажа квартир занимала 180 дней, что нельзя брать в расчет из-за аномально долгой продажи в 1580 дней, такая сверхдолгая продажа может быть обусловлена соотношением высокой цены и состояния квартиры, или забывчивастью продавца (квартира продалась быстро, но продавец не снял объявление с публикации). В такой ситуации можно сделать вывод, что продажа квартиры занимает от 45 до 476 дней.  \n",
        "Определим внутренние границы набора данных столбца 'days_exposition' и удалим выбросы."
      ]
    },
    {
      "cell_type": "code",
      "execution_count": null,
      "metadata": {
        "id": "Lufeil-42IOf",
        "outputId": "4bcb16be-0fd4-423b-d292-825f69926260"
      },
      "outputs": [
        {
          "data": {
            "text/plain": [
              "(-215.5, 476.5)"
            ]
          },
          "execution_count": 35,
          "metadata": {},
          "output_type": "execute_result"
        }
      ],
      "source": [
        "# нижний квартиль Q1 = 45\n",
        "# верхний квартиль Q3 = 231\n",
        "# найдем межквартильный диапазон, внутренние границы набора данных о количестве дней размещения объявления\n",
        "Q1 = df['days_exposition'].quantile(0.25)\n",
        "Q3 = df['days_exposition'].quantile(0.75)\n",
        "IQR = Q3-Q1\n",
        "# внутренние границы набора данных о количестве дней размещения объявления\n",
        "Q1 - 1.5 * IQR, Q3 + 1.5 * IQR\n"
      ]
    },
    {
      "cell_type": "code",
      "execution_count": null,
      "metadata": {
        "id": "EHe6Mhko2IOf"
      },
      "outputs": [],
      "source": [
        "# удалим строки значения столбца 'days_exposition' в которых не попадают во внутренние границы набора данных.\n",
        "df = df.drop(df.loc[~(((df['days_exposition'])<(Q3 + 1.5 * IQR)) & ((df['days_exposition'])>(Q1 - 1.5 * IQR)))].index).reset_index(drop=True)"
      ]
    },
    {
      "cell_type": "code",
      "execution_count": null,
      "metadata": {
        "scrolled": false,
        "id": "l78de3mM2IOg",
        "outputId": "5a41eccf-c4e2-46e0-8da7-64b4380adbc2"
      },
      "outputs": [
        {
          "data": {
            "text/plain": [
              "count    17116.000000\n",
              "mean       120.726104\n",
              "std        112.917634\n",
              "min          1.000000\n",
              "25%         39.000000\n",
              "50%         79.000000\n",
              "75%        172.000000\n",
              "max        476.000000\n",
              "Name: days_exposition, dtype: float64"
            ]
          },
          "execution_count": 37,
          "metadata": {},
          "output_type": "execute_result"
        }
      ],
      "source": [
        "df['days_exposition'].describe() # количество строк уменьшилось до 15462, но и стандартное отклонение уменьшилось почти в два раза"
      ]
    },
    {
      "cell_type": "code",
      "execution_count": null,
      "metadata": {
        "id": "trI-Rao22IOg",
        "outputId": "7eb9f67d-a5d7-4d9a-db6a-8f452623a2e4"
      },
      "outputs": [
        {
          "data": {
            "image/png": "[encoded data removed]",
            "text/plain": [
              "<Figure size 432x288 with 1 Axes>"
            ]
          },
          "metadata": {
            "needs_background": "light"
          },
          "output_type": "display_data"
        }
      ],
      "source": [
        "# после удаления выбросов гистограмма стала более плавной, что говорит о более полных данных\n",
        "df['days_exposition'].hist(range=(0,500), bins=100);"
      ]
    },
    {
      "cell_type": "markdown",
      "metadata": {
        "id": "bmrRs1W12IOh"
      },
      "source": [
        "На гистограмме видны пики на 40 и 60 днях публикации объявлений, это может означать, что продавец, после некоторого времени публикации объявления не получил желаемого количества просмотра квартиры и не продал ее, что побудило его к снижению цены, или объявления автоматически снимаются с публикации на этих сроках."
      ]
    },
    {
      "cell_type": "code",
      "execution_count": null,
      "metadata": {
        "id": "M9nETfJf2IOi",
        "outputId": "f037e99b-ce89-47b9-8a39-937fdff3d482"
      },
      "outputs": [
        {
          "name": "stdout",
          "output_type": "stream",
          "text": [
            "<class 'pandas.core.frame.DataFrame'>\n",
            "RangeIndex: 17116 entries, 0 to 17115\n",
            "Data columns (total 29 columns):\n",
            "total_images                   17116 non-null int64\n",
            "last_price                     17116 non-null float64\n",
            "total_area                     17116 non-null float64\n",
            "first_day_exposition           17116 non-null datetime64[ns]\n",
            "rooms                          17116 non-null int64\n",
            "ceiling_height                 17116 non-null float64\n",
            "floors_total                   17116 non-null float64\n",
            "living_area                    17116 non-null float64\n",
            "floor                          17116 non-null int64\n",
            "studio                         17116 non-null bool\n",
            "open_plan                      17116 non-null bool\n",
            "kitchen_area                   17116 non-null float64\n",
            "balcony                        17116 non-null int64\n",
            "locality_name                  17116 non-null object\n",
            "airports_nearest               17116 non-null float64\n",
            "cityCenters_nearest            17116 non-null float64\n",
            "parks_around3000               17116 non-null int64\n",
            "parks_nearest                  17116 non-null float64\n",
            "ponds_around3000               17116 non-null int64\n",
            "ponds_nearest                  17116 non-null float64\n",
            "days_exposition                17116 non-null float64\n",
            "total_area_price               17116 non-null float64\n",
            "first_weekday_exposition       17116 non-null object\n",
            "first_year_exposition          17116 non-null int64\n",
            "first_month_exposition         17116 non-null int64\n",
            "first_month_full_exposition    17116 non-null datetime64[ns]\n",
            "floor_group                    17116 non-null object\n",
            "area_ratio                     17116 non-null float64\n",
            "kitchen_area_ratio             17116 non-null float64\n",
            "dtypes: bool(2), datetime64[ns](2), float64(14), int64(8), object(3)\n",
            "memory usage: 3.6+ MB\n"
          ]
        }
      ],
      "source": [
        "df.info() # проверим количество строк, оставшихся для анализа"
      ]
    },
    {
      "cell_type": "markdown",
      "metadata": {
        "id": "BAnFH55r2IOi"
      },
      "source": [
        "После удаления редких и выбивающихся значений осталось 17116 строк."
      ]
    },
    {
      "cell_type": "markdown",
      "metadata": {
        "id": "2QvlRmOJ2IOj"
      },
      "source": [
        "Для того, чтобы узнать зависимость цены от других параметров найдем корреляцию."
      ]
    },
    {
      "cell_type": "code",
      "execution_count": null,
      "metadata": {
        "id": "EgYrePTM2IOj"
      },
      "outputs": [],
      "source": [
        "df_sort = df.loc[: , ['total_area_price', 'total_area', 'rooms', 'cityCenters_nearest']]"
      ]
    },
    {
      "cell_type": "code",
      "execution_count": null,
      "metadata": {
        "scrolled": false,
        "id": "8Wj1gWH02IOj",
        "outputId": "9bc08ab9-e1b1-4dc0-fab3-33a89c1da7ca"
      },
      "outputs": [
        {
          "data": {
            "text/html": [
              "<div>\n",
              "<style scoped>\n",
              "    .dataframe tbody tr th:only-of-type {\n",
              "        vertical-align: middle;\n",
              "    }\n",
              "\n",
              "    .dataframe tbody tr th {\n",
              "        vertical-align: top;\n",
              "    }\n",
              "\n",
              "    .dataframe thead th {\n",
              "        text-align: right;\n",
              "    }\n",
              "</style>\n",
              "<table border=\"1\" class=\"dataframe\">\n",
              "  <thead>\n",
              "    <tr style=\"text-align: right;\">\n",
              "      <th></th>\n",
              "      <th>total_area_price</th>\n",
              "      <th>total_area</th>\n",
              "      <th>rooms</th>\n",
              "      <th>cityCenters_nearest</th>\n",
              "    </tr>\n",
              "  </thead>\n",
              "  <tbody>\n",
              "    <tr>\n",
              "      <td>total_area_price</td>\n",
              "      <td>1.000000</td>\n",
              "      <td>-0.010837</td>\n",
              "      <td>-0.186011</td>\n",
              "      <td>-0.227426</td>\n",
              "    </tr>\n",
              "    <tr>\n",
              "      <td>total_area</td>\n",
              "      <td>-0.010837</td>\n",
              "      <td>1.000000</td>\n",
              "      <td>0.801466</td>\n",
              "      <td>-0.122160</td>\n",
              "    </tr>\n",
              "    <tr>\n",
              "      <td>rooms</td>\n",
              "      <td>-0.186011</td>\n",
              "      <td>0.801466</td>\n",
              "      <td>1.000000</td>\n",
              "      <td>-0.085102</td>\n",
              "    </tr>\n",
              "    <tr>\n",
              "      <td>cityCenters_nearest</td>\n",
              "      <td>-0.227426</td>\n",
              "      <td>-0.122160</td>\n",
              "      <td>-0.085102</td>\n",
              "      <td>1.000000</td>\n",
              "    </tr>\n",
              "  </tbody>\n",
              "</table>\n",
              "</div>"
            ],
            "text/plain": [
              "                     total_area_price  total_area     rooms  \\\n",
              "total_area_price             1.000000   -0.010837 -0.186011   \n",
              "total_area                  -0.010837    1.000000  0.801466   \n",
              "rooms                       -0.186011    0.801466  1.000000   \n",
              "cityCenters_nearest         -0.227426   -0.122160 -0.085102   \n",
              "\n",
              "                     cityCenters_nearest  \n",
              "total_area_price               -0.227426  \n",
              "total_area                     -0.122160  \n",
              "rooms                          -0.085102  \n",
              "cityCenters_nearest             1.000000  "
            ]
          },
          "execution_count": 41,
          "metadata": {},
          "output_type": "execute_result"
        }
      ],
      "source": [
        "df_sort.corr()"
      ]
    },
    {
      "cell_type": "markdown",
      "metadata": {
        "id": "h8eYvow92IOk"
      },
      "source": [
        "По коэффициенту корреляции видно, что стоимость квадратного метра жилой площади и общая площадь квартиры имеею отрицательную взаимосвязь, чем больше площадь, тем дешевле стоит квадратный метр (оптом дешевле), но она выражена слабо так как коэффициент корреляции близок к нулю.  \n",
        "Зависимость цены квадратного метра от количества комнат также отрицательна, увеличение количества комнат увеличивает площадь квартиры, увеличение площади ведет к удешевлению квадратного метра.  \n",
        "Расстояние до центра города также снижает стоимость квадратного метра с увеличением.  \n",
        "Визуализируем корреляцию."
      ]
    },
    {
      "cell_type": "code",
      "execution_count": null,
      "metadata": {
        "scrolled": false,
        "id": "HXAGZi3N2IOk",
        "outputId": "53926dd8-d3c1-43a8-a14b-8e855a979bf8"
      },
      "outputs": [
        {
          "data": {
            "image/png": "[encoded data removed]",
            "text/plain": [
              "<Figure size 648x648 with 16 Axes>"
            ]
          },
          "metadata": {
            "needs_background": "light"
          },
          "output_type": "display_data"
        }
      ],
      "source": [
        "# хоть матрица диаграмм рассеяния нне очень информативна, но построим её\n",
        "pd.plotting.scatter_matrix(df_sort, figsize=(9, 9));"
      ]
    },
    {
      "cell_type": "markdown",
      "metadata": {
        "id": "gL2IFRHc2IOl"
      },
      "source": [
        "На матрице рассеяния видно, основная часть данных сосредоточена в одном месте диаграммы, выбивающиеся значения есть, но их не много."
      ]
    },
    {
      "cell_type": "markdown",
      "metadata": {
        "id": "I5p9r7ER2IOl"
      },
      "source": [
        "Влияние этажа, дня недели и даты публикации объявления выразим графиками зависимости.  \n",
        "Для построения графиков сгруппируем нужные столбцы."
      ]
    },
    {
      "cell_type": "code",
      "execution_count": null,
      "metadata": {
        "id": "r1I-FM5r2IOm"
      },
      "outputs": [],
      "source": [
        "# сгруппируем данные о стоимости квадратного метра по этажу квартиры\n",
        "floor_group_price = df.pivot_table(index='floor_group', values='total_area_price', aggfunc='median')\n",
        "floor_group_price = floor_group_price.sort_values(by='total_area_price')"
      ]
    },
    {
      "cell_type": "code",
      "execution_count": null,
      "metadata": {
        "scrolled": true,
        "id": "0Fhz5ae92IOn",
        "outputId": "419d7491-0ef5-4407-e3cd-f8d9f2f6699e"
      },
      "outputs": [
        {
          "data": {
            "image/png": "[encoded data removed]",
            "text/plain": [
              "<Figure size 432x288 with 1 Axes>"
            ]
          },
          "metadata": {
            "needs_background": "light"
          },
          "output_type": "display_data"
        }
      ],
      "source": [
        "floor_group_price = df.pivot_table(index='floor_group', values='total_area_price', aggfunc='median')\n",
        "group=['первый', 'другой', 'последний']\n",
        "floor_group_price = floor_group_price.reindex(group).reset_index()\n",
        "floor_group_price.plot(x='floor_group', y = 'total_area_price', style='o-', xlim=(-0.5, 2.5), grid=True);"
      ]
    },
    {
      "cell_type": "markdown",
      "metadata": {
        "id": "h9tUQggP2IOm"
      },
      "source": [
        "По графику видно, что самая низкая цена квадратного метра у квартир на первом этаже, у квартир на последнем этаже цена квадратного метра выше. Самая высокая стоимость у квартир на других этажах."
      ]
    },
    {
      "cell_type": "code",
      "execution_count": null,
      "metadata": {
        "scrolled": true,
        "id": "z9lvmOig2IOq",
        "outputId": "896cbeff-2201-42a1-8e7b-ce8d5ac12719"
      },
      "outputs": [
        {
          "data": {
            "image/png": "[encoded data removed]",
            "text/plain": [
              "<Figure size 720x216 with 1 Axes>"
            ]
          },
          "metadata": {
            "needs_background": "light"
          },
          "output_type": "display_data"
        }
      ],
      "source": [
        "# сгруппируем данные о стоимости квадратного метра по дню недели публикации объявления\n",
        "# заменим индексы таблицы на индексы списка дней недели и создадим столбец с днями недели\n",
        "# для последовательной визуализации\n",
        "first_weekday_exposition_price = df.pivot_table(index='first_weekday_exposition', values='total_area_price', aggfunc='median')\n",
        "first_weekday_exposition_price = first_weekday_exposition_price.reindex(weekdays).reset_index()\n",
        "plot = first_weekday_exposition_price.plot(x ='first_weekday_exposition', y = 'total_area_price', style='o-', xlim=(-0.5, 7), grid=True, figsize=(10, 3))\n",
        "plt.xticks(rotation=90);"
      ]
    },
    {
      "cell_type": "markdown",
      "metadata": {
        "id": "lgtL6Uxo2IOr"
      },
      "source": [
        "По графику видно, что самая высокая цена квадратного метра в объявлениях, опубликованных в среду, к субботе цена квадратного метра значительно падает, с воскресенья снова начинает подниматься, но по вторникам чуть падает."
      ]
    },
    {
      "cell_type": "code",
      "execution_count": null,
      "metadata": {
        "scrolled": true,
        "id": "rY7VBd092IOr",
        "outputId": "e360b286-8497-4829-b6b2-4da569880e89"
      },
      "outputs": [
        {
          "data": {
            "image/png": "[encoded data removed]",
            "text/plain": [
              "<Figure size 720x216 with 1 Axes>"
            ]
          },
          "metadata": {
            "needs_background": "light"
          },
          "output_type": "display_data"
        }
      ],
      "source": [
        "# сгруппируем данные о стоимости квадратного метра по месяцу публикации объявления\n",
        "# построим график\n",
        "first_month_exposition_price = df.pivot_table(index='first_month_exposition', values='total_area_price')\n",
        "plot = first_month_exposition_price.plot(y = 'total_area_price', style='o-', xlim=(0, 13), grid=True, figsize=(10, 3));"
      ]
    },
    {
      "cell_type": "markdown",
      "metadata": {
        "id": "Os-BOX0t2IOs"
      },
      "source": [
        "По графику видно, что самая высокая цена квадратного метра у объявлений, опубликованных в августе. Возможно большую часть продающихся квартир составляют квартиры с меньшей площадью или с минимальным количеством комнат, что сказывается на цене квадратного метра. \n",
        "Проверим это."
      ]
    },
    {
      "cell_type": "code",
      "execution_count": null,
      "metadata": {
        "scrolled": true,
        "id": "Sh-6dIX-2IOs",
        "outputId": "377faf10-77aa-48ca-9b7a-4d7a67615e08"
      },
      "outputs": [
        {
          "data": {
            "image/png": "[encoded data removed]",
            "text/plain": [
              "<Figure size 720x216 with 1 Axes>"
            ]
          },
          "metadata": {
            "needs_background": "light"
          },
          "output_type": "display_data"
        }
      ],
      "source": [
        "# сгруппируем данные о количестве комнат в квартирах по месяцу публикации объявления\n",
        "# построим график\n",
        "first_month_exposition_price = df.pivot_table(index='first_month_exposition', values='rooms')\n",
        "first_month_exposition_price.plot(y = 'rooms', style='o-', xlim=(0, 13), grid=True, figsize=(10, 3));"
      ]
    },
    {
      "cell_type": "markdown",
      "metadata": {
        "id": "2mT8Vjla2IOt"
      },
      "source": [
        "Предположение о продаже большего количества однокомнатных квартир в августе подтвердилось. "
      ]
    },
    {
      "cell_type": "code",
      "execution_count": null,
      "metadata": {
        "scrolled": false,
        "id": "WSRWXLk92IOt",
        "outputId": "447c7bc2-96b0-4912-bea6-1c28fe83b17d"
      },
      "outputs": [
        {
          "data": {
            "image/png": "[encoded data removed]",
            "text/plain": [
              "<Figure size 720x216 with 1 Axes>"
            ]
          },
          "metadata": {
            "needs_background": "light"
          },
          "output_type": "display_data"
        }
      ],
      "source": [
        "# сгруппируем данные о стоимости квадратного метра по году публикации объявления\n",
        "# построим график\n",
        "first_year_exposition_price = df.pivot_table(index='first_year_exposition', values='total_area_price')\n",
        "first_year_exposition_price.plot(y = 'total_area_price', style='o-', xlim=(2014, 2020), grid=True, figsize=(10, 3));\n"
      ]
    },
    {
      "cell_type": "markdown",
      "metadata": {
        "id": "3EsB7Dt62IOu"
      },
      "source": [
        "\n",
        "На графике видно, что стоимость квадратного метра с каждым годом растет.    Проверим связано ли это с уменьшением количества комнат в продаваемых квартирах."
      ]
    },
    {
      "cell_type": "code",
      "execution_count": null,
      "metadata": {
        "scrolled": true,
        "id": "u4IR9dRK2IOv",
        "outputId": "705efd05-2723-49cc-cd4d-b644bb660274"
      },
      "outputs": [
        {
          "data": {
            "image/png": "[encoded data removed]",
            "text/plain": [
              "<Figure size 720x216 with 1 Axes>"
            ]
          },
          "metadata": {
            "needs_background": "light"
          },
          "output_type": "display_data"
        }
      ],
      "source": [
        "# сгруппируем данные о количестве комнат в квартирах по году публикации объявления\n",
        "# построим график \n",
        "(df.pivot_table(index='first_year_exposition', values='rooms')).plot(y = 'rooms', style='o-', xlim=(2014, 2020), grid=True, figsize=(10, 3));\n"
      ]
    },
    {
      "cell_type": "markdown",
      "metadata": {
        "id": "oHYcg_wd2IOw"
      },
      "source": [
        "На графике видно, что к 2019 году снижается количество комнат в продаваемых квартирах."
      ]
    },
    {
      "cell_type": "code",
      "execution_count": null,
      "metadata": {
        "scrolled": true,
        "id": "4TtmZjiQ2IOw",
        "outputId": "d2446308-b5fe-44a9-c903-f4752953b7ed"
      },
      "outputs": [
        {
          "data": {
            "image/png": "[encoded data removed]",
            "text/plain": [
              "<Figure size 720x216 with 1 Axes>"
            ]
          },
          "metadata": {
            "needs_background": "light"
          },
          "output_type": "display_data"
        }
      ],
      "source": [
        "# сформируем датасет только с однокомнатными квартирами и построим график \n",
        "rooms_group = df.loc[df['rooms']==1]\n",
        "(rooms_group.pivot_table(index='first_year_exposition', values='rooms', aggfunc='count')).plot(style='o-', xlim=(2014, 2020), grid=True, figsize=(10, 3));\n"
      ]
    },
    {
      "cell_type": "markdown",
      "metadata": {
        "id": "_fi7XF-G2IOx"
      },
      "source": [
        "По графику видно, что количество объявлений о продаже однокомнатных квартир росло до 2018 года, к 2019 количество объявлений снизилось. Возможно это произошло из-за общего снижения количества объявлений. В данном случае лучше всего считать и сравнивать по годам долю объявлений о продаже однокомнатных квартир в общем количестве объявлений.  \n",
        "    "
      ]
    },
    {
      "cell_type": "code",
      "execution_count": null,
      "metadata": {
        "scrolled": true,
        "id": "2vUCcak92IOx",
        "outputId": "21662832-12c7-4a0e-e0e0-bdd4006588d7"
      },
      "outputs": [
        {
          "data": {
            "image/png": "[encoded data removed]",
            "text/plain": [
              "<Figure size 720x216 with 1 Axes>"
            ]
          },
          "metadata": {
            "needs_background": "light"
          },
          "output_type": "display_data"
        }
      ],
      "source": [
        "# перезапишем датафрейм для проверки этой гипотезы\n",
        "# в столбце 'rooms' значения не равные 1 заменим на 0\n",
        "# сгруппируем по году публикации и вычислим среднее значение в столбце 'rooms'\n",
        "# построим график\n",
        "df_grit = df\n",
        "df_grit.loc[df['rooms']!=1,'rooms']=0\n",
        "df_grit = df_grit.groupby(['first_year_exposition']).agg({'rooms':['mean']})\n",
        "df_grit.columns = ['grit']\n",
        "df_grit.plot(y='grit', style='o-', xlim=(2014, 2020), grid=True, figsize=(10, 3));"
      ]
    },
    {
      "cell_type": "code",
      "execution_count": null,
      "metadata": {
        "id": "IgGNraGv2IOz"
      },
      "outputs": [],
      "source": [
        "# создадим список из 10 населенных пунктов с самым большим количеством объявлений.\n",
        "name_big = df['locality_name'].value_counts().head(10)"
      ]
    },
    {
      "cell_type": "code",
      "execution_count": null,
      "metadata": {
        "scrolled": true,
        "id": "Dsntnfmv2IO0",
        "outputId": "2de4f08e-76f4-451f-bc44-3d88b3130f63"
      },
      "outputs": [
        {
          "data": {
            "text/html": [
              "<div>\n",
              "<style scoped>\n",
              "    .dataframe tbody tr th:only-of-type {\n",
              "        vertical-align: middle;\n",
              "    }\n",
              "\n",
              "    .dataframe tbody tr th {\n",
              "        vertical-align: top;\n",
              "    }\n",
              "\n",
              "    .dataframe thead th {\n",
              "        text-align: right;\n",
              "    }\n",
              "</style>\n",
              "<table border=\"1\" class=\"dataframe\">\n",
              "  <thead>\n",
              "    <tr style=\"text-align: right;\">\n",
              "      <th></th>\n",
              "      <th>total_area_price</th>\n",
              "    </tr>\n",
              "    <tr>\n",
              "      <th>locality_name</th>\n",
              "      <th></th>\n",
              "    </tr>\n",
              "  </thead>\n",
              "  <tbody>\n",
              "    <tr>\n",
              "      <td>санкт-петербург</td>\n",
              "      <td>105557.396966</td>\n",
              "    </tr>\n",
              "    <tr>\n",
              "      <td>пушкин</td>\n",
              "      <td>99858.693630</td>\n",
              "    </tr>\n",
              "    <tr>\n",
              "      <td>деревня кудрово</td>\n",
              "      <td>92622.015069</td>\n",
              "    </tr>\n",
              "    <tr>\n",
              "      <td>посёлок парголово</td>\n",
              "      <td>89174.255255</td>\n",
              "    </tr>\n",
              "    <tr>\n",
              "      <td>посёлок мурино</td>\n",
              "      <td>85957.989342</td>\n",
              "    </tr>\n",
              "    <tr>\n",
              "      <td>посёлок шушары</td>\n",
              "      <td>77888.640648</td>\n",
              "    </tr>\n",
              "    <tr>\n",
              "      <td>колпино</td>\n",
              "      <td>74553.453366</td>\n",
              "    </tr>\n",
              "    <tr>\n",
              "      <td>гатчина</td>\n",
              "      <td>67917.930255</td>\n",
              "    </tr>\n",
              "    <tr>\n",
              "      <td>всеволожск</td>\n",
              "      <td>66760.545358</td>\n",
              "    </tr>\n",
              "    <tr>\n",
              "      <td>выборг</td>\n",
              "      <td>56668.163021</td>\n",
              "    </tr>\n",
              "  </tbody>\n",
              "</table>\n",
              "</div>"
            ],
            "text/plain": [
              "                   total_area_price\n",
              "locality_name                      \n",
              "санкт-петербург       105557.396966\n",
              "пушкин                 99858.693630\n",
              "деревня кудрово        92622.015069\n",
              "посёлок парголово      89174.255255\n",
              "посёлок мурино         85957.989342\n",
              "посёлок шушары         77888.640648\n",
              "колпино                74553.453366\n",
              "гатчина                67917.930255\n",
              "всеволожск             66760.545358\n",
              "выборг                 56668.163021"
            ]
          },
          "execution_count": 54,
          "metadata": {},
          "output_type": "execute_result"
        }
      ],
      "source": [
        "# создадим новый датасет df_name_big, содержащий только объявления о продаже квартир в топ-10 населенных пунктов\n",
        "# вычислим среднюю стоимость квадратного метра для каждого населенного пункта.\n",
        "# выведем на экран.\n",
        "df_name_big = df.query('locality_name in @name_big.index')\n",
        "name_big_mean = df_name_big.pivot_table(index='locality_name', values='total_area_price', aggfunc='mean')\n",
        "name_big_mean = name_big_mean.sort_values(by='total_area_price', ascending=False)\n",
        "name_big_mean"
      ]
    },
    {
      "cell_type": "code",
      "execution_count": null,
      "metadata": {
        "id": "_2J1VLAA2IO0",
        "outputId": "d9359b2c-e93b-44e4-90c3-218aeb06d724"
      },
      "outputs": [
        {
          "data": {
            "text/html": [
              "<div>\n",
              "<style scoped>\n",
              "    .dataframe tbody tr th:only-of-type {\n",
              "        vertical-align: middle;\n",
              "    }\n",
              "\n",
              "    .dataframe tbody tr th {\n",
              "        vertical-align: top;\n",
              "    }\n",
              "\n",
              "    .dataframe thead th {\n",
              "        text-align: right;\n",
              "    }\n",
              "</style>\n",
              "<table border=\"1\" class=\"dataframe\">\n",
              "  <thead>\n",
              "    <tr style=\"text-align: right;\">\n",
              "      <th></th>\n",
              "      <th>total_area_price</th>\n",
              "    </tr>\n",
              "    <tr>\n",
              "      <th>locality_name</th>\n",
              "      <th></th>\n",
              "    </tr>\n",
              "  </thead>\n",
              "  <tbody>\n",
              "    <tr>\n",
              "      <td>санкт-петербург</td>\n",
              "      <td>105557.396966</td>\n",
              "    </tr>\n",
              "  </tbody>\n",
              "</table>\n",
              "</div>"
            ],
            "text/plain": [
              "                 total_area_price\n",
              "locality_name                    \n",
              "санкт-петербург     105557.396966"
            ]
          },
          "execution_count": 55,
          "metadata": {},
          "output_type": "execute_result"
        }
      ],
      "source": [
        "# выведем на экран населенный пункт с самой высокой стоимостью квадратного метра.\n",
        "name_big_mean.head(1)"
      ]
    },
    {
      "cell_type": "markdown",
      "metadata": {
        "id": "U8uq7WiV2IO1"
      },
      "source": [
        "Ожидаемо первое место занял Санкт-Петербург"
      ]
    },
    {
      "cell_type": "code",
      "execution_count": null,
      "metadata": {
        "id": "mwldiqi42IO5",
        "outputId": "76385644-a136-417f-a0ed-9617c5dc55b1"
      },
      "outputs": [
        {
          "data": {
            "text/html": [
              "<div>\n",
              "<style scoped>\n",
              "    .dataframe tbody tr th:only-of-type {\n",
              "        vertical-align: middle;\n",
              "    }\n",
              "\n",
              "    .dataframe tbody tr th {\n",
              "        vertical-align: top;\n",
              "    }\n",
              "\n",
              "    .dataframe thead th {\n",
              "        text-align: right;\n",
              "    }\n",
              "</style>\n",
              "<table border=\"1\" class=\"dataframe\">\n",
              "  <thead>\n",
              "    <tr style=\"text-align: right;\">\n",
              "      <th></th>\n",
              "      <th>total_area_price</th>\n",
              "    </tr>\n",
              "    <tr>\n",
              "      <th>locality_name</th>\n",
              "      <th></th>\n",
              "    </tr>\n",
              "  </thead>\n",
              "  <tbody>\n",
              "    <tr>\n",
              "      <td>выборг</td>\n",
              "      <td>56668.163021</td>\n",
              "    </tr>\n",
              "  </tbody>\n",
              "</table>\n",
              "</div>"
            ],
            "text/plain": [
              "               total_area_price\n",
              "locality_name                  \n",
              "выборг             56668.163021"
            ]
          },
          "execution_count": 56,
          "metadata": {},
          "output_type": "execute_result"
        }
      ],
      "source": [
        "# выведем на экран населенный пункт 10 места в топ-10\n",
        "name_big_mean.tail(1)"
      ]
    },
    {
      "cell_type": "markdown",
      "metadata": {
        "id": "6VxCsdGz2IO5"
      },
      "source": [
        "На 10 месте по стоимости квадратного метра оказался Выборг"
      ]
    },
    {
      "cell_type": "code",
      "execution_count": null,
      "metadata": {
        "id": "rVb9zerz2IO6",
        "outputId": "0171de13-6ba9-4463-ad08-de5e6ccf292d"
      },
      "outputs": [
        {
          "data": {
            "text/plain": [
              "count    10983.000000\n",
              "mean        12.528999\n",
              "std          4.336872\n",
              "min          0.000000\n",
              "25%         10.000000\n",
              "50%         13.000000\n",
              "75%         15.000000\n",
              "max         29.000000\n",
              "Name: cityCenters_nearest_filter, dtype: float64"
            ]
          },
          "execution_count": 57,
          "metadata": {},
          "output_type": "execute_result"
        }
      ],
      "source": [
        "# создадим датасет с объявлениями о продаже квартир только в Санкт-Петербурге\n",
        "# добавим столбец с расстоянием до тцентра города, выраженным в километрах\n",
        "piter_group = df.loc[df['locality_name']=='санкт-петербург']\n",
        "piter_group['cityCenters_nearest_filter'] = round(piter_group['cityCenters_nearest']/1000)\n",
        "piter_group['cityCenters_nearest_filter'].describe()"
      ]
    },
    {
      "cell_type": "code",
      "execution_count": null,
      "metadata": {
        "scrolled": false,
        "id": "OXL3V3_X2IO6",
        "outputId": "07d3fb6a-125f-4996-b8d7-3ca8a0304ff9"
      },
      "outputs": [
        {
          "data": {
            "image/png": "[encoded data removed]",
            "text/plain": [
              "<Figure size 720x216 with 1 Axes>"
            ]
          },
          "metadata": {
            "needs_background": "light"
          },
          "output_type": "display_data"
        }
      ],
      "source": [
        "# проверим как снижается стоимость квадратного метра жилья с удалением от центра города\n",
        "# сгруппируем по удаленности от центра и высчитаем среднюю стоимость площади квартир\n",
        "# отсортируем по удаленности от центра и построим график\n",
        "piter_group_mean = piter_group.pivot_table(index='cityCenters_nearest_filter', values='total_area_price', aggfunc='mean')\n",
        "piter_group_mean = piter_group_mean.sort_values(by='cityCenters_nearest_filter')\n",
        "piter_group_mean.plot(y = 'total_area_price', style='o-', xlim=(-0.5, 30), grid=True, figsize=(10, 3));"
      ]
    },
    {
      "cell_type": "markdown",
      "metadata": {
        "id": "wiSObEEO2IO7"
      },
      "source": [
        "По графику видно, что с расстоянием от 1 до 3 км цена снижается, от 3 до 5 км цена растет, после 5 км наблюдается общая тенденция к снижению стоимости квадратного метра.  \n",
        "Примем за центр города расстояние менее 4 км."
      ]
    },
    {
      "cell_type": "code",
      "execution_count": null,
      "metadata": {
        "id": "UHufASaG2IO8"
      },
      "outputs": [],
      "source": [
        "# выделяю квартиры в центре (расстояние меньше 4 км)\n",
        "piter_group_center = piter_group.query('cityCenters_nearest_filter < 4')"
      ]
    },
    {
      "cell_type": "code",
      "execution_count": null,
      "metadata": {
        "scrolled": true,
        "id": "aw74RSVp2IO-",
        "outputId": "9898d0c9-679d-4758-b0f3-7db6d1e573bf"
      },
      "outputs": [
        {
          "data": {
            "image/png": "[encoded data removed]",
            "text/plain": [
              "<Figure size 432x288 with 1 Axes>"
            ]
          },
          "metadata": {
            "needs_background": "light"
          },
          "output_type": "display_data"
        }
      ],
      "source": [
        "# проверим измение стоимости квадратного метра от расположения квартиры по этажам \n",
        "floor_group_price_center = piter_group_center.pivot_table(index='floor_group', values='total_area_price', aggfunc='median')\n",
        "floor_group_price_center = floor_group_price_center.reindex(group).reset_index()\n",
        "floor_group_price_center.plot(x='floor_group', y = 'total_area_price', style='o-', xlim=(-0.5, 2.5), grid=True);"
      ]
    },
    {
      "cell_type": "markdown",
      "metadata": {
        "id": "lN5WE7lj2IO-"
      },
      "source": [
        "На графике видно, что стоимость квадратного метра также возрастает от первого к последнему и промежуточным этажам, но по сравнению с общими данными стоимость квадратного метра квартир в центре на последнем и промежуточных этажах меняется не так сильно, чем между первым и последним этажами."
      ]
    },
    {
      "cell_type": "code",
      "execution_count": null,
      "metadata": {
        "scrolled": true,
        "id": "NFqfxXTU2IO_",
        "outputId": "be686c2c-839a-4564-a8c2-36d5d8ee0be4"
      },
      "outputs": [
        {
          "data": {
            "image/png": "[encoded data removed]",
            "text/plain": [
              "<Figure size 720x216 with 1 Axes>"
            ]
          },
          "metadata": {
            "needs_background": "light"
          },
          "output_type": "display_data"
        }
      ],
      "source": [
        "# построим график зависимости стоимости квадратного метра от дня недели публикования объявления.\n",
        "first_weekday_exposition_price_center = piter_group_center.pivot_table(index='first_weekday_exposition', values='total_area_price', aggfunc='median')\n",
        "first_weekday_exposition_price_center = first_weekday_exposition_price_center.reindex(weekdays).reset_index()\n",
        "first_weekday_exposition_price_center.plot(x ='first_weekday_exposition', y = 'total_area_price', style='o-', xlim=(-0.5, 7), grid=True, figsize=(10, 3))\n",
        "plt.xticks(rotation=90);"
      ]
    },
    {
      "cell_type": "markdown",
      "metadata": {
        "id": "iRlRadUj2IO_"
      },
      "source": [
        "Максимальная стоимость также в объявлениях опубликованных в среду, а минимальная у объявлений, опубликованных во вторник."
      ]
    },
    {
      "cell_type": "code",
      "execution_count": null,
      "metadata": {
        "scrolled": false,
        "id": "dA6QHkUX2IPA",
        "outputId": "068fc1d6-35bb-4763-db2e-f6825ee1ada4"
      },
      "outputs": [
        {
          "data": {
            "image/png": "[encoded data removed]",
            "text/plain": [
              "<Figure size 720x216 with 1 Axes>"
            ]
          },
          "metadata": {
            "needs_background": "light"
          },
          "output_type": "display_data"
        }
      ],
      "source": [
        "# Построим график зависимости стоимости квадратного метра от месяца публикования объявления.\n",
        "(piter_group_center.pivot_table(index='first_month_exposition', values='total_area_price')).plot(y ='total_area_price', style='o-', xlim=(0, 13), grid=True, figsize=(10, 3));\n"
      ]
    },
    {
      "cell_type": "markdown",
      "metadata": {
        "id": "15x6Bh_Z2IPA"
      },
      "source": [
        "В отличии от графика зависимости стоимости квдратного метра построенного по всем данным датафрейма, на графике стоимости квартир в центре видно, что самая высокая стоимость квадратного метра в объявлениях опубликованных в январе, а минимальная в апреле."
      ]
    },
    {
      "cell_type": "code",
      "execution_count": null,
      "metadata": {
        "scrolled": false,
        "id": "Tk4AFq4i2IPA",
        "outputId": "af761d99-b26f-47b4-e764-9f654b0623ae"
      },
      "outputs": [
        {
          "data": {
            "image/png": "[encoded data removed]",
            "text/plain": [
              "<Figure size 720x216 with 1 Axes>"
            ]
          },
          "metadata": {
            "needs_background": "light"
          },
          "output_type": "display_data"
        }
      ],
      "source": [
        "# пострим график зависимости стоимости квадратного метра от года продажи квартиры\n",
        "(piter_group_center.pivot_table(index='first_year_exposition', values='total_area_price')).plot(y = 'total_area_price', style='o-', xlim=(2014, 2020), grid=True, figsize=(10, 3));"
      ]
    },
    {
      "cell_type": "markdown",
      "metadata": {
        "id": "MNE_rw6I2IPB"
      },
      "source": [
        "Тенденция к росту стоимости квадратного метра с течением времени, сохраняется, но с 2018 по 2019 год стоимость выросла незначительно."
      ]
    },
    {
      "cell_type": "code",
      "execution_count": null,
      "metadata": {
        "scrolled": true,
        "id": "pbV24wu32IPB",
        "outputId": "68e96283-971d-49df-9a1f-10eb436771b3"
      },
      "outputs": [
        {
          "data": {
            "image/png": "[encoded data removed]",
            "text/plain": [
              "<Figure size 720x216 with 1 Axes>"
            ]
          },
          "metadata": {
            "needs_background": "light"
          },
          "output_type": "display_data"
        }
      ],
      "source": [
        "# построим график зависимости стоимости квдратного метра от удаленности от центра.\n",
        "piter_group_mean_center = piter_group_center.pivot_table(index='cityCenters_nearest_filter', values='total_area_price', aggfunc='mean')\n",
        "piter_group_mean_center = piter_group_mean_center.sort_values(by='cityCenters_nearest_filter')\n",
        "piter_group_mean_center.plot(y = 'total_area_price', style='o-', xlim=(-0.5, 4), grid=True, figsize=(10, 3));\n"
      ]
    },
    {
      "cell_type": "markdown",
      "metadata": {
        "id": "T2NqIxPb2IPB"
      },
      "source": [
        "Этот график увеличенная часть графика до 3 км, построенного по всем объявлениям Санкт-Петербурга. "
      ]
    },
    {
      "cell_type": "code",
      "execution_count": null,
      "metadata": {
        "scrolled": false,
        "id": "jqseZ41l2IPC",
        "outputId": "9a0780cb-69e1-404b-8320-b3e3a71fca8b"
      },
      "outputs": [
        {
          "data": {
            "image/png": "[encoded data removed]",
            "text/plain": [
              "<Figure size 720x216 with 1 Axes>"
            ]
          },
          "metadata": {
            "needs_background": "light"
          },
          "output_type": "display_data"
        }
      ],
      "source": [
        "# построим график зависимости стоимости квадратного метра от количества комнат.\n",
        "rooms_mean_center = piter_group_center.pivot_table(index='rooms', values='total_area_price', aggfunc='mean')\n",
        "rooms_mean_center = rooms_mean_center.sort_values(by='rooms')\n",
        "rooms_mean_center.plot(y = 'total_area_price', style='o-', xlim=(-0.5, 7), grid=True, figsize=(10, 3));\n"
      ]
    },
    {
      "cell_type": "markdown",
      "metadata": {
        "id": "UTxvQZKD2IPC"
      },
      "source": [
        "С увеличением количества комнат стоимость квадратного метра снижается. (Оптом дешевле)"
      ]
    },
    {
      "cell_type": "code",
      "execution_count": null,
      "metadata": {
        "scrolled": false,
        "id": "SsW42-vK2IPC",
        "outputId": "409b5ae4-2197-4f7a-e0c0-e17ce09f5b5c"
      },
      "outputs": [
        {
          "data": {
            "image/png": "[encoded data removed]",
            "text/plain": [
              "<Figure size 432x288 with 1 Axes>"
            ]
          },
          "metadata": {
            "needs_background": "light"
          },
          "output_type": "display_data"
        },
        {
          "data": {
            "image/png": "[encoded data removed]",
            "text/plain": [
              "<Figure size 432x288 with 1 Axes>"
            ]
          },
          "metadata": {
            "needs_background": "light"
          },
          "output_type": "display_data"
        },
        {
          "data": {
            "image/png": "[encoded data removed]",
            "text/plain": [
              "<Figure size 432x288 with 1 Axes>"
            ]
          },
          "metadata": {
            "needs_background": "light"
          },
          "output_type": "display_data"
        },
        {
          "data": {
            "image/png": "[encoded data removed]",
            "text/plain": [
              "<Figure size 432x288 with 1 Axes>"
            ]
          },
          "metadata": {
            "needs_background": "light"
          },
          "output_type": "display_data"
        }
      ],
      "source": [
        "# \n",
        "columns_for_hist_center = ['total_area', 'last_price', 'rooms', 'ceiling_height']\n",
        "\n",
        "for name_column in columns_for_hist_center:\n",
        "    piter_group_center[name_column].plot(y=name_column, kind='hist', title = name_column, bins=30)\n",
        "    plt.show()"
      ]
    },
    {
      "cell_type": "markdown",
      "metadata": {
        "id": "oBaofs0q2IPE"
      },
      "source": [
        "Гистограммы общей площади и цене квартиры близки к нормальному распределению, в отличии от гистограмм по всему датафрейму.  \n",
        "Гистограммы количества комнат и высоты потолков близки к аналогичным гистограммам по всему датафрейму."
      ]
    },
    {
      "cell_type": "markdown",
      "metadata": {
        "id": "DOsXbFfQ2IPF"
      },
      "source": [
        "## Общий вывод"
      ]
    },
    {
      "cell_type": "markdown",
      "metadata": {
        "id": "3YXXNulp2IPF"
      },
      "source": [
        "В ходе исследования проведено заполнение пропущенных значений, преобразование данных в столбцах  к нужному типу, выделены и удалены выбросы дынных.  \n"
      ]
    },
    {
      "cell_type": "markdown",
      "metadata": {
        "id": "fsSZTVcL2IPF"
      },
      "source": [
        "Стоимость квадратного метра зависит от площади квартиры, количества комнат, этажа расположения квартиры и удаленности от центра города. Самые высокая стоимость квадратного метра у однокомнатной квартиры, расположенной между первым и последним этажом на расстоянии до 1 км от центра города.  \n",
        "Для квартир в области точно такое же влияние оказывают те же самые параметры.  \n",
        "Время публикации объявления не оказывает существенного влияния на стоимость квадратного метра. С каждым годом стоимость квадратного метра растет."
      ]
    }
  ],
  "metadata": {
    "ExecuteTimeLog": [
      {
        "duration": 798,
        "start_time": "2022-01-04T11:24:59.365Z"
      },
      {
        "duration": 392,
        "start_time": "2022-01-04T11:25:48.907Z"
      },
      {
        "duration": 81,
        "start_time": "2022-01-04T11:26:06.104Z"
      },
      {
        "duration": 80,
        "start_time": "2022-01-04T11:26:36.143Z"
      },
      {
        "duration": 81,
        "start_time": "2022-01-04T11:28:45.677Z"
      },
      {
        "duration": 99,
        "start_time": "2022-01-04T11:30:52.949Z"
      },
      {
        "duration": 77,
        "start_time": "2022-01-04T11:35:48.795Z"
      },
      {
        "duration": 91,
        "start_time": "2022-01-04T11:42:40.269Z"
      },
      {
        "duration": 88,
        "start_time": "2022-01-04T11:42:48.614Z"
      },
      {
        "duration": 70,
        "start_time": "2022-01-04T11:43:01.781Z"
      },
      {
        "duration": 4802,
        "start_time": "2022-01-04T11:43:10.910Z"
      },
      {
        "duration": 1282,
        "start_time": "2022-01-04T11:43:30.877Z"
      },
      {
        "duration": 4361,
        "start_time": "2022-01-04T11:43:37.597Z"
      },
      {
        "duration": 79,
        "start_time": "2022-01-04T11:43:47.397Z"
      },
      {
        "duration": 400,
        "start_time": "2022-01-04T11:44:00.189Z"
      },
      {
        "duration": 125,
        "start_time": "2022-01-04T11:44:12.443Z"
      },
      {
        "duration": 735,
        "start_time": "2022-01-04T11:44:28.178Z"
      },
      {
        "duration": 142,
        "start_time": "2022-01-04T11:44:30.985Z"
      },
      {
        "duration": 100,
        "start_time": "2022-01-04T11:44:35.630Z"
      },
      {
        "duration": 100,
        "start_time": "2022-01-04T11:44:42.525Z"
      },
      {
        "duration": 77,
        "start_time": "2022-01-04T11:44:49.038Z"
      },
      {
        "duration": 114,
        "start_time": "2022-01-04T11:45:24.341Z"
      },
      {
        "duration": 84,
        "start_time": "2022-01-04T11:45:33.405Z"
      },
      {
        "duration": 76,
        "start_time": "2022-01-04T11:57:08.615Z"
      },
      {
        "duration": 1063,
        "start_time": "2022-01-04T11:57:28.747Z"
      },
      {
        "duration": 82,
        "start_time": "2022-01-04T11:57:30.511Z"
      },
      {
        "duration": 80,
        "start_time": "2022-01-04T11:58:18.472Z"
      },
      {
        "duration": 735,
        "start_time": "2022-01-04T11:58:45.580Z"
      },
      {
        "duration": 80,
        "start_time": "2022-01-04T11:58:48.374Z"
      },
      {
        "duration": 79,
        "start_time": "2022-01-04T11:59:14.730Z"
      },
      {
        "duration": 127,
        "start_time": "2022-01-04T12:03:15.536Z"
      },
      {
        "duration": 106,
        "start_time": "2022-01-04T12:03:40.583Z"
      },
      {
        "duration": 109,
        "start_time": "2022-01-04T12:04:02.479Z"
      },
      {
        "duration": 725,
        "start_time": "2022-01-04T12:39:17.589Z"
      },
      {
        "duration": 107,
        "start_time": "2022-01-04T12:39:19.957Z"
      },
      {
        "duration": 49,
        "start_time": "2022-01-04T13:25:19.792Z"
      },
      {
        "duration": 16,
        "start_time": "2022-01-04T13:25:33.691Z"
      },
      {
        "duration": 12,
        "start_time": "2022-01-04T13:26:11.055Z"
      },
      {
        "duration": 12,
        "start_time": "2022-01-04T13:26:38.983Z"
      },
      {
        "duration": 9,
        "start_time": "2022-01-04T13:30:14.686Z"
      },
      {
        "duration": 527,
        "start_time": "2022-01-04T13:30:51.090Z"
      },
      {
        "duration": 12,
        "start_time": "2022-01-04T13:30:57.584Z"
      },
      {
        "duration": 9,
        "start_time": "2022-01-04T13:31:40.709Z"
      },
      {
        "duration": 281,
        "start_time": "2022-01-04T13:33:59.681Z"
      },
      {
        "duration": 10,
        "start_time": "2022-01-04T13:36:39.853Z"
      },
      {
        "duration": 429,
        "start_time": "2022-01-04T13:41:00.984Z"
      },
      {
        "duration": 279,
        "start_time": "2022-01-04T13:41:14.600Z"
      },
      {
        "duration": 295,
        "start_time": "2022-01-04T13:41:59.042Z"
      },
      {
        "duration": 333,
        "start_time": "2022-01-04T13:42:07.883Z"
      },
      {
        "duration": 356,
        "start_time": "2022-01-04T13:42:18.833Z"
      },
      {
        "duration": 369,
        "start_time": "2022-01-04T13:42:29.931Z"
      },
      {
        "duration": 1733,
        "start_time": "2022-01-04T13:42:37.679Z"
      },
      {
        "duration": 429,
        "start_time": "2022-01-04T13:43:45.642Z"
      },
      {
        "duration": 360,
        "start_time": "2022-01-04T13:43:52.916Z"
      },
      {
        "duration": 355,
        "start_time": "2022-01-04T13:44:00.865Z"
      },
      {
        "duration": 370,
        "start_time": "2022-01-04T13:44:06.163Z"
      },
      {
        "duration": 819,
        "start_time": "2022-01-04T13:44:17.676Z"
      },
      {
        "duration": 870,
        "start_time": "2022-01-04T13:44:22.823Z"
      },
      {
        "duration": 585,
        "start_time": "2022-01-04T13:44:35.003Z"
      },
      {
        "duration": 320,
        "start_time": "2022-01-04T13:44:51.902Z"
      },
      {
        "duration": 331,
        "start_time": "2022-01-04T13:44:59.997Z"
      },
      {
        "duration": 419,
        "start_time": "2022-01-04T13:45:09.307Z"
      },
      {
        "duration": 385,
        "start_time": "2022-01-04T13:45:17.348Z"
      },
      {
        "duration": 94,
        "start_time": "2022-01-04T13:57:29.908Z"
      },
      {
        "duration": 7574,
        "start_time": "2022-01-04T13:57:38.352Z"
      },
      {
        "duration": 766,
        "start_time": "2022-01-04T13:57:54.316Z"
      },
      {
        "duration": 106,
        "start_time": "2022-01-04T13:57:55.660Z"
      },
      {
        "duration": 20,
        "start_time": "2022-01-04T13:57:59.183Z"
      },
      {
        "duration": 14,
        "start_time": "2022-01-04T13:58:07.403Z"
      },
      {
        "duration": 485,
        "start_time": "2022-01-04T13:58:11.555Z"
      },
      {
        "duration": 14,
        "start_time": "2022-01-04T13:58:15.075Z"
      },
      {
        "duration": 11,
        "start_time": "2022-01-04T13:58:20.259Z"
      },
      {
        "duration": 1628,
        "start_time": "2022-01-04T14:00:21.562Z"
      },
      {
        "duration": 15,
        "start_time": "2022-01-04T14:00:43.844Z"
      },
      {
        "duration": 11,
        "start_time": "2022-01-04T14:00:47.078Z"
      },
      {
        "duration": 716,
        "start_time": "2022-01-04T14:02:19.185Z"
      },
      {
        "duration": 101,
        "start_time": "2022-01-04T14:02:20.486Z"
      },
      {
        "duration": 33,
        "start_time": "2022-01-04T14:02:22.484Z"
      },
      {
        "duration": 17,
        "start_time": "2022-01-04T14:02:27.594Z"
      },
      {
        "duration": 9,
        "start_time": "2022-01-04T14:02:30.866Z"
      },
      {
        "duration": 501,
        "start_time": "2022-01-04T14:02:52.772Z"
      },
      {
        "duration": 16,
        "start_time": "2022-01-04T14:03:00.011Z"
      },
      {
        "duration": 10,
        "start_time": "2022-01-04T14:03:12.014Z"
      },
      {
        "duration": 541,
        "start_time": "2022-01-04T14:03:28.043Z"
      },
      {
        "duration": 17,
        "start_time": "2022-01-04T14:03:33.954Z"
      },
      {
        "duration": 11,
        "start_time": "2022-01-04T14:03:35.896Z"
      },
      {
        "duration": 9,
        "start_time": "2022-01-04T14:04:51.033Z"
      },
      {
        "duration": 17,
        "start_time": "2022-01-04T14:05:10.575Z"
      },
      {
        "duration": 11,
        "start_time": "2022-01-04T14:05:12.249Z"
      },
      {
        "duration": 8,
        "start_time": "2022-01-04T14:05:18.047Z"
      },
      {
        "duration": 1653,
        "start_time": "2022-01-04T14:05:27.630Z"
      },
      {
        "duration": 81,
        "start_time": "2022-01-05T09:27:55.033Z"
      },
      {
        "duration": 332,
        "start_time": "2022-01-05T09:28:05.457Z"
      },
      {
        "duration": 752,
        "start_time": "2022-01-05T09:28:16.994Z"
      },
      {
        "duration": 100,
        "start_time": "2022-01-05T09:28:18.630Z"
      },
      {
        "duration": 20,
        "start_time": "2022-01-05T09:28:20.523Z"
      },
      {
        "duration": 15,
        "start_time": "2022-01-05T09:28:26.291Z"
      },
      {
        "duration": 8,
        "start_time": "2022-01-05T09:29:46.180Z"
      },
      {
        "duration": 8,
        "start_time": "2022-01-05T09:30:04.997Z"
      },
      {
        "duration": 368,
        "start_time": "2022-01-05T09:32:01.530Z"
      },
      {
        "duration": 363,
        "start_time": "2022-01-05T09:33:47.439Z"
      },
      {
        "duration": 292,
        "start_time": "2022-01-05T09:39:02.978Z"
      },
      {
        "duration": 259,
        "start_time": "2022-01-05T09:39:10.492Z"
      },
      {
        "duration": 276,
        "start_time": "2022-01-05T09:39:17.209Z"
      },
      {
        "duration": 12,
        "start_time": "2022-01-05T09:41:20.579Z"
      },
      {
        "duration": 9,
        "start_time": "2022-01-05T09:41:36.109Z"
      },
      {
        "duration": 13,
        "start_time": "2022-01-05T09:41:51.066Z"
      },
      {
        "duration": 9,
        "start_time": "2022-01-05T09:41:52.532Z"
      },
      {
        "duration": 703,
        "start_time": "2022-01-05T09:42:09.211Z"
      },
      {
        "duration": 104,
        "start_time": "2022-01-05T09:42:10.559Z"
      },
      {
        "duration": 21,
        "start_time": "2022-01-05T09:42:11.753Z"
      },
      {
        "duration": 9,
        "start_time": "2022-01-05T09:42:18.199Z"
      },
      {
        "duration": 9,
        "start_time": "2022-01-05T09:42:22.474Z"
      },
      {
        "duration": 11,
        "start_time": "2022-01-05T09:42:51.192Z"
      },
      {
        "duration": 8,
        "start_time": "2022-01-05T09:42:52.048Z"
      },
      {
        "duration": 33,
        "start_time": "2022-01-05T09:48:59.460Z"
      },
      {
        "duration": 24,
        "start_time": "2022-01-05T09:50:38.379Z"
      },
      {
        "duration": 11,
        "start_time": "2022-01-05T09:50:48.687Z"
      },
      {
        "duration": 11,
        "start_time": "2022-01-05T09:51:27.577Z"
      },
      {
        "duration": 367,
        "start_time": "2022-01-05T09:52:29.481Z"
      },
      {
        "duration": 302,
        "start_time": "2022-01-05T09:53:12.605Z"
      },
      {
        "duration": 6,
        "start_time": "2022-01-05T09:53:33.259Z"
      },
      {
        "duration": 47,
        "start_time": "2022-01-05T09:55:44.119Z"
      },
      {
        "duration": 24,
        "start_time": "2022-01-05T09:58:39.709Z"
      },
      {
        "duration": 12,
        "start_time": "2022-01-05T09:58:57.900Z"
      },
      {
        "duration": 45,
        "start_time": "2022-01-05T09:59:22.482Z"
      },
      {
        "duration": 768,
        "start_time": "2022-01-05T10:09:41.382Z"
      },
      {
        "duration": 103,
        "start_time": "2022-01-05T10:09:43.266Z"
      },
      {
        "duration": 21,
        "start_time": "2022-01-05T10:09:44.917Z"
      },
      {
        "duration": 10,
        "start_time": "2022-01-05T10:09:49.670Z"
      },
      {
        "duration": 8,
        "start_time": "2022-01-05T10:09:50.925Z"
      },
      {
        "duration": 11,
        "start_time": "2022-01-05T10:09:51.988Z"
      },
      {
        "duration": 9,
        "start_time": "2022-01-05T10:09:53.582Z"
      },
      {
        "duration": 47,
        "start_time": "2022-01-05T10:09:56.531Z"
      },
      {
        "duration": 24,
        "start_time": "2022-01-05T10:09:58.110Z"
      },
      {
        "duration": 46,
        "start_time": "2022-01-05T10:09:59.208Z"
      },
      {
        "duration": 26,
        "start_time": "2022-01-05T10:10:03.286Z"
      },
      {
        "duration": 12,
        "start_time": "2022-01-05T10:10:04.479Z"
      },
      {
        "duration": 241519,
        "start_time": "2022-01-05T10:10:18.019Z"
      },
      {
        "duration": -87,
        "start_time": "2022-01-05T10:22:37.378Z"
      },
      {
        "duration": -18,
        "start_time": "2022-01-05T10:24:06.217Z"
      },
      {
        "duration": 764,
        "start_time": "2022-01-05T10:24:48.128Z"
      },
      {
        "duration": 105,
        "start_time": "2022-01-05T10:24:49.548Z"
      },
      {
        "duration": 22,
        "start_time": "2022-01-05T10:24:50.935Z"
      },
      {
        "duration": 12,
        "start_time": "2022-01-05T10:24:56.911Z"
      },
      {
        "duration": 8,
        "start_time": "2022-01-05T10:24:57.827Z"
      },
      {
        "duration": 12,
        "start_time": "2022-01-05T10:24:58.444Z"
      },
      {
        "duration": 9,
        "start_time": "2022-01-05T10:24:59.052Z"
      },
      {
        "duration": 29,
        "start_time": "2022-01-05T10:24:59.892Z"
      },
      {
        "duration": 25,
        "start_time": "2022-01-05T10:25:03.012Z"
      },
      {
        "duration": 49,
        "start_time": "2022-01-05T10:25:04.116Z"
      },
      {
        "duration": 23,
        "start_time": "2022-01-05T10:25:12.496Z"
      },
      {
        "duration": 13,
        "start_time": "2022-01-05T10:25:13.932Z"
      },
      {
        "duration": 530,
        "start_time": "2022-01-05T10:28:09.435Z"
      },
      {
        "duration": 92,
        "start_time": "2022-01-05T10:31:05.586Z"
      },
      {
        "duration": 8490,
        "start_time": "2022-01-05T10:31:11.084Z"
      },
      {
        "duration": 3130,
        "start_time": "2022-01-05T10:31:54.893Z"
      },
      {
        "duration": 3385,
        "start_time": "2022-01-05T10:32:32.994Z"
      },
      {
        "duration": 8873,
        "start_time": "2022-01-05T10:32:49.205Z"
      },
      {
        "duration": 463,
        "start_time": "2022-01-05T10:33:30.462Z"
      },
      {
        "duration": 457,
        "start_time": "2022-01-05T10:33:58.815Z"
      },
      {
        "duration": 3365,
        "start_time": "2022-01-05T10:34:07.074Z"
      },
      {
        "duration": 8,
        "start_time": "2022-01-05T10:36:43.630Z"
      },
      {
        "duration": 7,
        "start_time": "2022-01-05T10:47:12.407Z"
      },
      {
        "duration": 60,
        "start_time": "2022-01-05T10:57:08.425Z"
      },
      {
        "duration": 13,
        "start_time": "2022-01-05T10:57:31.386Z"
      },
      {
        "duration": 352,
        "start_time": "2022-01-05T11:21:42.872Z"
      },
      {
        "duration": 261,
        "start_time": "2022-01-05T11:21:57.453Z"
      },
      {
        "duration": 4,
        "start_time": "2022-01-05T11:22:14.786Z"
      },
      {
        "duration": 6,
        "start_time": "2022-01-05T11:22:29.441Z"
      },
      {
        "duration": 66,
        "start_time": "2022-01-05T11:22:41.237Z"
      },
      {
        "duration": 40,
        "start_time": "2022-01-05T11:24:55.014Z"
      },
      {
        "duration": 43,
        "start_time": "2022-01-05T11:25:15.815Z"
      },
      {
        "duration": 6,
        "start_time": "2022-01-05T11:26:52.477Z"
      },
      {
        "duration": 745,
        "start_time": "2022-01-05T21:30:39.807Z"
      },
      {
        "duration": 104,
        "start_time": "2022-01-05T21:30:43.043Z"
      },
      {
        "duration": 22,
        "start_time": "2022-01-05T21:30:44.982Z"
      },
      {
        "duration": 10,
        "start_time": "2022-01-05T21:30:50.948Z"
      },
      {
        "duration": 7,
        "start_time": "2022-01-05T21:30:52.427Z"
      },
      {
        "duration": 12,
        "start_time": "2022-01-05T21:30:53.506Z"
      },
      {
        "duration": 8,
        "start_time": "2022-01-05T21:30:54.843Z"
      },
      {
        "duration": 9,
        "start_time": "2022-01-05T21:30:55.709Z"
      },
      {
        "duration": 28,
        "start_time": "2022-01-05T21:30:57.388Z"
      },
      {
        "duration": 26,
        "start_time": "2022-01-05T21:31:04.427Z"
      },
      {
        "duration": 25,
        "start_time": "2022-01-05T21:31:21.156Z"
      },
      {
        "duration": 45,
        "start_time": "2022-01-05T21:31:25.315Z"
      },
      {
        "duration": 13,
        "start_time": "2022-01-05T21:31:34.584Z"
      },
      {
        "duration": 7,
        "start_time": "2022-01-05T21:31:43.357Z"
      },
      {
        "duration": 7,
        "start_time": "2022-01-05T21:31:56.301Z"
      },
      {
        "duration": 12,
        "start_time": "2022-01-05T21:32:03.549Z"
      },
      {
        "duration": 719,
        "start_time": "2022-01-11T10:56:26.950Z"
      },
      {
        "duration": 97,
        "start_time": "2022-01-11T10:56:29.026Z"
      },
      {
        "duration": 19,
        "start_time": "2022-01-11T10:56:30.360Z"
      },
      {
        "duration": 11,
        "start_time": "2022-01-11T10:56:35.423Z"
      },
      {
        "duration": 10,
        "start_time": "2022-01-11T10:56:36.127Z"
      },
      {
        "duration": 16,
        "start_time": "2022-01-11T10:56:36.854Z"
      },
      {
        "duration": 26,
        "start_time": "2022-01-11T10:56:37.609Z"
      },
      {
        "duration": 4,
        "start_time": "2022-01-11T10:56:38.337Z"
      },
      {
        "duration": 8,
        "start_time": "2022-01-11T10:56:39.041Z"
      },
      {
        "duration": 8,
        "start_time": "2022-01-11T10:56:42.359Z"
      },
      {
        "duration": 26,
        "start_time": "2022-01-11T10:56:43.083Z"
      },
      {
        "duration": 9,
        "start_time": "2022-01-11T10:56:44.017Z"
      },
      {
        "duration": 6,
        "start_time": "2022-01-11T10:56:44.713Z"
      },
      {
        "duration": 23,
        "start_time": "2022-01-11T10:56:45.418Z"
      },
      {
        "duration": 24,
        "start_time": "2022-01-11T10:56:46.377Z"
      },
      {
        "duration": 46,
        "start_time": "2022-01-11T10:56:48.063Z"
      },
      {
        "duration": 13,
        "start_time": "2022-01-11T10:56:51.894Z"
      },
      {
        "duration": 7,
        "start_time": "2022-01-11T10:56:55.339Z"
      },
      {
        "duration": 9,
        "start_time": "2022-01-11T10:56:56.760Z"
      },
      {
        "duration": 12,
        "start_time": "2022-01-11T10:57:06.344Z"
      },
      {
        "duration": 13,
        "start_time": "2022-01-11T10:57:17.415Z"
      },
      {
        "duration": 7,
        "start_time": "2022-01-11T10:57:41.318Z"
      },
      {
        "duration": 719,
        "start_time": "2022-01-11T10:58:17.740Z"
      },
      {
        "duration": 99,
        "start_time": "2022-01-11T10:58:19.018Z"
      },
      {
        "duration": 20,
        "start_time": "2022-01-11T10:58:20.025Z"
      },
      {
        "duration": 13,
        "start_time": "2022-01-11T10:58:25.170Z"
      },
      {
        "duration": 11,
        "start_time": "2022-01-11T10:58:25.715Z"
      },
      {
        "duration": 15,
        "start_time": "2022-01-11T10:58:26.270Z"
      },
      {
        "duration": 28,
        "start_time": "2022-01-11T10:58:26.782Z"
      },
      {
        "duration": 5,
        "start_time": "2022-01-11T10:58:27.318Z"
      },
      {
        "duration": 8,
        "start_time": "2022-01-11T10:58:27.808Z"
      },
      {
        "duration": 8,
        "start_time": "2022-01-11T10:58:30.187Z"
      },
      {
        "duration": 21,
        "start_time": "2022-01-11T10:58:30.795Z"
      },
      {
        "duration": 9,
        "start_time": "2022-01-11T10:58:32.896Z"
      },
      {
        "duration": 6,
        "start_time": "2022-01-11T10:58:33.414Z"
      },
      {
        "duration": 23,
        "start_time": "2022-01-11T10:58:33.943Z"
      },
      {
        "duration": 23,
        "start_time": "2022-01-11T10:58:34.423Z"
      },
      {
        "duration": 47,
        "start_time": "2022-01-11T10:58:34.910Z"
      },
      {
        "duration": 15,
        "start_time": "2022-01-11T10:58:37.443Z"
      },
      {
        "duration": 7,
        "start_time": "2022-01-11T10:58:38.384Z"
      },
      {
        "duration": 7,
        "start_time": "2022-01-11T10:58:39.143Z"
      },
      {
        "duration": 12,
        "start_time": "2022-01-11T10:58:40.555Z"
      },
      {
        "duration": 12,
        "start_time": "2022-01-11T10:58:44.000Z"
      },
      {
        "duration": 9,
        "start_time": "2022-01-11T10:58:44.840Z"
      },
      {
        "duration": 6728,
        "start_time": "2022-01-11T10:59:41.301Z"
      },
      {
        "duration": 12,
        "start_time": "2022-01-11T10:59:51.211Z"
      },
      {
        "duration": 7,
        "start_time": "2022-01-11T10:59:56.042Z"
      },
      {
        "duration": 4856,
        "start_time": "2022-01-11T13:14:21.466Z"
      },
      {
        "duration": 4715,
        "start_time": "2022-01-11T13:16:06.739Z"
      },
      {
        "duration": 9537,
        "start_time": "2022-01-11T13:16:50.326Z"
      },
      {
        "duration": 14,
        "start_time": "2022-01-11T13:17:30.380Z"
      },
      {
        "duration": 9,
        "start_time": "2022-01-11T13:20:12.272Z"
      },
      {
        "duration": 10,
        "start_time": "2022-01-11T13:20:14.020Z"
      },
      {
        "duration": 28,
        "start_time": "2022-01-11T13:21:41.350Z"
      },
      {
        "duration": 11,
        "start_time": "2022-01-11T13:21:43.220Z"
      },
      {
        "duration": 8,
        "start_time": "2022-01-11T16:17:02.278Z"
      },
      {
        "duration": 9,
        "start_time": "2022-01-11T16:17:10.767Z"
      },
      {
        "duration": 468,
        "start_time": "2022-01-11T16:17:58.838Z"
      },
      {
        "duration": 8,
        "start_time": "2022-01-11T16:18:11.690Z"
      },
      {
        "duration": 479,
        "start_time": "2022-01-11T16:20:05.797Z"
      },
      {
        "duration": 37,
        "start_time": "2022-01-11T16:20:20.397Z"
      },
      {
        "duration": 1087,
        "start_time": "2022-01-11T16:21:41.589Z"
      },
      {
        "duration": 7,
        "start_time": "2022-01-11T16:21:50.164Z"
      },
      {
        "duration": 4,
        "start_time": "2022-01-11T16:55:42.217Z"
      },
      {
        "duration": 877,
        "start_time": "2022-01-11T16:55:52.384Z"
      },
      {
        "duration": 99,
        "start_time": "2022-01-11T16:55:55.204Z"
      },
      {
        "duration": 20,
        "start_time": "2022-01-11T16:55:58.562Z"
      },
      {
        "duration": 12,
        "start_time": "2022-01-11T16:56:06.232Z"
      },
      {
        "duration": 1047,
        "start_time": "2022-01-11T16:56:07.104Z"
      },
      {
        "duration": 15,
        "start_time": "2022-01-11T16:56:10.079Z"
      },
      {
        "duration": 737,
        "start_time": "2022-01-11T16:57:11.930Z"
      },
      {
        "duration": 96,
        "start_time": "2022-01-11T16:57:13.867Z"
      },
      {
        "duration": 20,
        "start_time": "2022-01-11T16:57:15.044Z"
      },
      {
        "duration": 12,
        "start_time": "2022-01-11T16:57:20.980Z"
      },
      {
        "duration": 209,
        "start_time": "2022-01-11T16:57:21.677Z"
      },
      {
        "duration": 19,
        "start_time": "2022-01-11T16:57:28.859Z"
      },
      {
        "duration": 33,
        "start_time": "2022-01-11T16:57:29.625Z"
      },
      {
        "duration": 6,
        "start_time": "2022-01-11T16:57:30.266Z"
      },
      {
        "duration": 74,
        "start_time": "2022-01-11T16:57:30.898Z"
      },
      {
        "duration": 9,
        "start_time": "2022-01-11T16:57:36.049Z"
      },
      {
        "duration": 22,
        "start_time": "2022-01-11T16:57:36.810Z"
      },
      {
        "duration": 105,
        "start_time": "2022-01-11T16:57:37.627Z"
      },
      {
        "duration": 5,
        "start_time": "2022-01-11T16:57:41.107Z"
      },
      {
        "duration": 23,
        "start_time": "2022-01-11T16:57:41.898Z"
      },
      {
        "duration": 24,
        "start_time": "2022-01-11T16:57:42.601Z"
      },
      {
        "duration": 46,
        "start_time": "2022-01-11T16:57:43.451Z"
      },
      {
        "duration": 15,
        "start_time": "2022-01-11T16:57:47.572Z"
      },
      {
        "duration": 8,
        "start_time": "2022-01-11T16:57:51.148Z"
      },
      {
        "duration": 8,
        "start_time": "2022-01-11T16:57:52.097Z"
      },
      {
        "duration": 8356,
        "start_time": "2022-01-11T16:58:26.493Z"
      },
      {
        "duration": 25,
        "start_time": "2022-01-11T16:58:41.002Z"
      },
      {
        "duration": 12,
        "start_time": "2022-01-11T16:58:44.484Z"
      },
      {
        "duration": 5,
        "start_time": "2022-01-11T17:58:12.511Z"
      },
      {
        "duration": 483,
        "start_time": "2022-01-11T17:58:13.935Z"
      },
      {
        "duration": 1088,
        "start_time": "2022-01-11T17:58:18.158Z"
      },
      {
        "duration": 13,
        "start_time": "2022-01-11T17:58:21.965Z"
      },
      {
        "duration": 7,
        "start_time": "2022-01-11T17:58:22.975Z"
      },
      {
        "duration": 12,
        "start_time": "2022-01-11T17:58:29.111Z"
      },
      {
        "duration": 8,
        "start_time": "2022-01-11T17:58:29.879Z"
      },
      {
        "duration": 575,
        "start_time": "2022-01-12T13:52:25.521Z"
      },
      {
        "duration": 84,
        "start_time": "2022-01-12T13:52:26.866Z"
      },
      {
        "duration": 19,
        "start_time": "2022-01-12T13:52:28.969Z"
      },
      {
        "duration": 9,
        "start_time": "2022-01-12T13:52:32.954Z"
      },
      {
        "duration": 10,
        "start_time": "2022-01-12T13:52:33.561Z"
      },
      {
        "duration": 12,
        "start_time": "2022-01-12T13:52:34.068Z"
      },
      {
        "duration": 17,
        "start_time": "2022-01-12T13:52:34.530Z"
      },
      {
        "duration": 3,
        "start_time": "2022-01-12T13:52:34.962Z"
      },
      {
        "duration": 5,
        "start_time": "2022-01-12T13:52:35.385Z"
      },
      {
        "duration": 7,
        "start_time": "2022-01-12T13:52:38.415Z"
      },
      {
        "duration": 16,
        "start_time": "2022-01-12T13:52:39.738Z"
      },
      {
        "duration": 6,
        "start_time": "2022-01-12T13:52:40.449Z"
      },
      {
        "duration": 6,
        "start_time": "2022-01-12T13:52:41.018Z"
      },
      {
        "duration": 15,
        "start_time": "2022-01-12T13:52:41.537Z"
      },
      {
        "duration": 20,
        "start_time": "2022-01-12T13:52:42.014Z"
      },
      {
        "duration": 33,
        "start_time": "2022-01-12T13:52:42.846Z"
      },
      {
        "duration": 8,
        "start_time": "2022-01-12T13:52:45.354Z"
      },
      {
        "duration": 5,
        "start_time": "2022-01-12T13:52:46.297Z"
      },
      {
        "duration": 5,
        "start_time": "2022-01-12T13:52:48.255Z"
      },
      {
        "duration": 5529,
        "start_time": "2022-01-12T13:52:49.019Z"
      },
      {
        "duration": 20,
        "start_time": "2022-01-12T13:52:56.754Z"
      },
      {
        "duration": 13,
        "start_time": "2022-01-12T13:52:57.914Z"
      },
      {
        "duration": 24,
        "start_time": "2022-01-12T13:53:00.285Z"
      },
      {
        "duration": 468,
        "start_time": "2022-01-12T14:33:39.928Z"
      },
      {
        "duration": 404,
        "start_time": "2022-01-12T14:33:50.488Z"
      },
      {
        "duration": 367,
        "start_time": "2022-01-12T14:33:58.987Z"
      },
      {
        "duration": 368,
        "start_time": "2022-01-12T14:34:13.084Z"
      },
      {
        "duration": 401,
        "start_time": "2022-01-12T14:34:17.547Z"
      },
      {
        "duration": 8,
        "start_time": "2022-01-12T14:35:42.142Z"
      },
      {
        "duration": 452,
        "start_time": "2022-01-12T14:36:11.420Z"
      },
      {
        "duration": 415,
        "start_time": "2022-01-12T14:36:29.913Z"
      },
      {
        "duration": 527,
        "start_time": "2022-01-12T14:36:53.538Z"
      },
      {
        "duration": 457,
        "start_time": "2022-01-12T14:37:00.861Z"
      },
      {
        "duration": 983,
        "start_time": "2022-01-13T06:58:44.926Z"
      },
      {
        "duration": 722,
        "start_time": "2022-01-13T06:58:57.643Z"
      },
      {
        "duration": 134,
        "start_time": "2022-01-13T06:59:03.755Z"
      },
      {
        "duration": 17,
        "start_time": "2022-01-13T06:59:05.872Z"
      },
      {
        "duration": 14,
        "start_time": "2022-01-13T06:59:10.927Z"
      },
      {
        "duration": 14,
        "start_time": "2022-01-13T06:59:18.030Z"
      },
      {
        "duration": 18,
        "start_time": "2022-01-13T06:59:19.723Z"
      },
      {
        "duration": 20,
        "start_time": "2022-01-13T06:59:20.298Z"
      },
      {
        "duration": 28,
        "start_time": "2022-01-13T06:59:20.822Z"
      },
      {
        "duration": 5,
        "start_time": "2022-01-13T06:59:21.319Z"
      },
      {
        "duration": 9,
        "start_time": "2022-01-13T06:59:21.790Z"
      },
      {
        "duration": 9,
        "start_time": "2022-01-13T06:59:24.354Z"
      },
      {
        "duration": 20,
        "start_time": "2022-01-13T06:59:24.844Z"
      },
      {
        "duration": 7,
        "start_time": "2022-01-13T06:59:25.331Z"
      },
      {
        "duration": 6,
        "start_time": "2022-01-13T06:59:26.018Z"
      },
      {
        "duration": 23,
        "start_time": "2022-01-13T06:59:26.491Z"
      },
      {
        "duration": 24,
        "start_time": "2022-01-13T06:59:26.967Z"
      },
      {
        "duration": 4,
        "start_time": "2022-01-13T06:59:27.431Z"
      },
      {
        "duration": 8472,
        "start_time": "2022-01-13T06:59:29.461Z"
      },
      {
        "duration": 37,
        "start_time": "2022-01-13T06:59:39.066Z"
      },
      {
        "duration": 48,
        "start_time": "2022-01-13T06:59:39.764Z"
      },
      {
        "duration": 6,
        "start_time": "2022-01-13T06:59:43.040Z"
      },
      {
        "duration": 901,
        "start_time": "2022-01-13T06:59:43.766Z"
      },
      {
        "duration": 1043,
        "start_time": "2022-01-13T06:59:46.612Z"
      },
      {
        "duration": 13,
        "start_time": "2022-01-13T06:59:48.327Z"
      },
      {
        "duration": 8,
        "start_time": "2022-01-13T06:59:49.355Z"
      },
      {
        "duration": 1520,
        "start_time": "2022-01-13T06:59:54.573Z"
      },
      {
        "duration": 13,
        "start_time": "2022-01-13T07:16:04.989Z"
      },
      {
        "duration": 13,
        "start_time": "2022-01-13T07:16:05.965Z"
      },
      {
        "duration": 11,
        "start_time": "2022-01-13T07:16:07.023Z"
      },
      {
        "duration": 13,
        "start_time": "2022-01-13T07:16:09.918Z"
      },
      {
        "duration": 36,
        "start_time": "2022-01-13T09:09:26.948Z"
      },
      {
        "duration": 37,
        "start_time": "2022-01-13T09:11:14.340Z"
      },
      {
        "duration": 36,
        "start_time": "2022-01-13T09:12:15.276Z"
      },
      {
        "duration": 34,
        "start_time": "2022-01-13T09:13:59.334Z"
      },
      {
        "duration": 564,
        "start_time": "2022-01-13T09:21:30.981Z"
      },
      {
        "duration": 265,
        "start_time": "2022-01-13T09:21:34.479Z"
      },
      {
        "duration": 13,
        "start_time": "2022-01-13T09:21:39.167Z"
      },
      {
        "duration": 11,
        "start_time": "2022-01-13T09:30:10.059Z"
      },
      {
        "duration": 7,
        "start_time": "2022-01-13T09:30:12.897Z"
      },
      {
        "duration": 19,
        "start_time": "2022-01-13T09:34:53.885Z"
      },
      {
        "duration": 11,
        "start_time": "2022-01-13T09:35:01.346Z"
      },
      {
        "duration": 365,
        "start_time": "2022-01-13T09:36:50.830Z"
      },
      {
        "duration": 762,
        "start_time": "2022-01-13T09:38:04.631Z"
      },
      {
        "duration": 137,
        "start_time": "2022-01-13T09:38:05.395Z"
      },
      {
        "duration": 16,
        "start_time": "2022-01-13T09:38:05.536Z"
      },
      {
        "duration": 11,
        "start_time": "2022-01-13T09:38:05.554Z"
      },
      {
        "duration": 12,
        "start_time": "2022-01-13T09:38:05.568Z"
      },
      {
        "duration": 20,
        "start_time": "2022-01-13T09:38:05.617Z"
      },
      {
        "duration": 18,
        "start_time": "2022-01-13T09:38:05.639Z"
      },
      {
        "duration": 58,
        "start_time": "2022-01-13T09:38:05.661Z"
      },
      {
        "duration": 12,
        "start_time": "2022-01-13T09:38:05.723Z"
      },
      {
        "duration": 9,
        "start_time": "2022-01-13T09:38:05.737Z"
      },
      {
        "duration": 8,
        "start_time": "2022-01-13T09:38:05.748Z"
      },
      {
        "duration": 20,
        "start_time": "2022-01-13T09:38:05.758Z"
      },
      {
        "duration": 7,
        "start_time": "2022-01-13T09:38:05.780Z"
      },
      {
        "duration": 37,
        "start_time": "2022-01-13T09:38:05.789Z"
      },
      {
        "duration": 24,
        "start_time": "2022-01-13T09:38:05.830Z"
      },
      {
        "duration": 24,
        "start_time": "2022-01-13T09:38:05.857Z"
      },
      {
        "duration": 36,
        "start_time": "2022-01-13T09:38:05.883Z"
      },
      {
        "duration": 9391,
        "start_time": "2022-01-13T09:38:05.923Z"
      },
      {
        "duration": 37,
        "start_time": "2022-01-13T09:38:15.318Z"
      },
      {
        "duration": 34,
        "start_time": "2022-01-13T09:38:15.357Z"
      },
      {
        "duration": 29,
        "start_time": "2022-01-13T09:38:15.393Z"
      },
      {
        "duration": 673,
        "start_time": "2022-01-13T09:38:15.426Z"
      },
      {
        "duration": 1165,
        "start_time": "2022-01-13T09:38:16.103Z"
      },
      {
        "duration": 13,
        "start_time": "2022-01-13T09:38:17.271Z"
      },
      {
        "duration": 8,
        "start_time": "2022-01-13T09:38:17.287Z"
      },
      {
        "duration": 36,
        "start_time": "2022-01-13T09:38:17.297Z"
      },
      {
        "duration": 35,
        "start_time": "2022-01-13T09:38:17.336Z"
      },
      {
        "duration": 56,
        "start_time": "2022-01-13T09:38:17.374Z"
      },
      {
        "duration": 34,
        "start_time": "2022-01-13T09:38:17.433Z"
      },
      {
        "duration": 10,
        "start_time": "2022-01-13T09:38:17.469Z"
      },
      {
        "duration": 70,
        "start_time": "2022-01-13T09:38:17.482Z"
      },
      {
        "duration": 11,
        "start_time": "2022-01-13T09:38:17.554Z"
      },
      {
        "duration": 67,
        "start_time": "2022-01-13T09:38:17.568Z"
      },
      {
        "duration": 10,
        "start_time": "2022-01-13T09:38:17.638Z"
      },
      {
        "duration": 1675,
        "start_time": "2022-01-13T09:38:17.650Z"
      },
      {
        "duration": 6,
        "start_time": "2022-01-13T09:38:19.328Z"
      },
      {
        "duration": 6,
        "start_time": "2022-01-13T09:38:19.339Z"
      },
      {
        "duration": 5,
        "start_time": "2022-01-13T09:38:19.349Z"
      },
      {
        "duration": 630,
        "start_time": "2022-01-13T09:38:19.357Z"
      },
      {
        "duration": 267,
        "start_time": "2022-01-13T09:38:19.990Z"
      },
      {
        "duration": 11,
        "start_time": "2022-01-13T09:38:20.259Z"
      },
      {
        "duration": 10,
        "start_time": "2022-01-13T09:38:20.272Z"
      },
      {
        "duration": 41,
        "start_time": "2022-01-13T09:38:20.284Z"
      },
      {
        "duration": 762,
        "start_time": "2022-01-13T09:38:53.685Z"
      },
      {
        "duration": 125,
        "start_time": "2022-01-13T09:38:54.450Z"
      },
      {
        "duration": 15,
        "start_time": "2022-01-13T09:38:54.578Z"
      },
      {
        "duration": 28,
        "start_time": "2022-01-13T09:38:54.595Z"
      },
      {
        "duration": 20,
        "start_time": "2022-01-13T09:38:54.627Z"
      },
      {
        "duration": 14,
        "start_time": "2022-01-13T09:38:54.650Z"
      },
      {
        "duration": 55,
        "start_time": "2022-01-13T09:38:54.666Z"
      },
      {
        "duration": 26,
        "start_time": "2022-01-13T09:38:54.727Z"
      },
      {
        "duration": 4,
        "start_time": "2022-01-13T09:38:54.757Z"
      },
      {
        "duration": 9,
        "start_time": "2022-01-13T09:38:54.763Z"
      },
      {
        "duration": 10,
        "start_time": "2022-01-13T09:38:54.774Z"
      },
      {
        "duration": 53,
        "start_time": "2022-01-13T09:38:54.786Z"
      },
      {
        "duration": 7,
        "start_time": "2022-01-13T09:38:54.841Z"
      },
      {
        "duration": 5,
        "start_time": "2022-01-13T09:38:54.850Z"
      },
      {
        "duration": 23,
        "start_time": "2022-01-13T09:38:54.857Z"
      },
      {
        "duration": 59,
        "start_time": "2022-01-13T09:38:54.883Z"
      },
      {
        "duration": 4,
        "start_time": "2022-01-13T09:38:54.944Z"
      },
      {
        "duration": 9192,
        "start_time": "2022-01-13T09:38:54.950Z"
      },
      {
        "duration": 43,
        "start_time": "2022-01-13T09:39:04.145Z"
      },
      {
        "duration": 55,
        "start_time": "2022-01-13T09:39:04.191Z"
      },
      {
        "duration": 9,
        "start_time": "2022-01-13T09:39:04.249Z"
      },
      {
        "duration": 530,
        "start_time": "2022-01-13T09:39:04.261Z"
      },
      {
        "duration": 1176,
        "start_time": "2022-01-13T09:39:04.796Z"
      },
      {
        "duration": 14,
        "start_time": "2022-01-13T09:39:05.976Z"
      },
      {
        "duration": 25,
        "start_time": "2022-01-13T09:39:05.992Z"
      },
      {
        "duration": 11,
        "start_time": "2022-01-13T09:39:06.020Z"
      },
      {
        "duration": 42,
        "start_time": "2022-01-13T09:39:06.034Z"
      },
      {
        "duration": 53,
        "start_time": "2022-01-13T09:39:06.078Z"
      },
      {
        "duration": 34,
        "start_time": "2022-01-13T09:39:06.134Z"
      },
      {
        "duration": 10,
        "start_time": "2022-01-13T09:39:06.170Z"
      },
      {
        "duration": 63,
        "start_time": "2022-01-13T09:39:06.182Z"
      },
      {
        "duration": 10,
        "start_time": "2022-01-13T09:39:06.247Z"
      },
      {
        "duration": 66,
        "start_time": "2022-01-13T09:39:06.259Z"
      },
      {
        "duration": 11,
        "start_time": "2022-01-13T09:39:06.329Z"
      },
      {
        "duration": 1646,
        "start_time": "2022-01-13T09:39:06.343Z"
      },
      {
        "duration": 5,
        "start_time": "2022-01-13T09:39:07.992Z"
      },
      {
        "duration": 5,
        "start_time": "2022-01-13T09:39:08.000Z"
      },
      {
        "duration": 10,
        "start_time": "2022-01-13T09:39:08.022Z"
      },
      {
        "duration": 674,
        "start_time": "2022-01-13T09:39:08.034Z"
      },
      {
        "duration": 267,
        "start_time": "2022-01-13T09:39:08.711Z"
      },
      {
        "duration": 14,
        "start_time": "2022-01-13T09:39:08.981Z"
      },
      {
        "duration": 23,
        "start_time": "2022-01-13T09:39:08.997Z"
      },
      {
        "duration": 9,
        "start_time": "2022-01-13T09:39:09.023Z"
      },
      {
        "duration": 483,
        "start_time": "2022-01-13T09:41:01.572Z"
      },
      {
        "duration": 269,
        "start_time": "2022-01-13T09:41:26.673Z"
      },
      {
        "duration": 72,
        "start_time": "2022-01-13T09:41:40.116Z"
      },
      {
        "duration": 74,
        "start_time": "2022-01-13T09:41:54.507Z"
      },
      {
        "duration": 249,
        "start_time": "2022-01-13T09:42:08.727Z"
      },
      {
        "duration": 70,
        "start_time": "2022-01-13T09:42:27.112Z"
      },
      {
        "duration": 376,
        "start_time": "2022-01-13T09:42:36.328Z"
      },
      {
        "duration": 73,
        "start_time": "2022-01-13T09:42:47.393Z"
      },
      {
        "duration": 72,
        "start_time": "2022-01-13T09:43:43.130Z"
      },
      {
        "duration": 18,
        "start_time": "2022-01-13T09:44:02.519Z"
      },
      {
        "duration": 82,
        "start_time": "2022-01-13T09:44:58.654Z"
      },
      {
        "duration": 107,
        "start_time": "2022-01-13T09:45:07.631Z"
      },
      {
        "duration": 91,
        "start_time": "2022-01-13T09:45:22.050Z"
      },
      {
        "duration": 58,
        "start_time": "2022-01-13T09:45:36.202Z"
      },
      {
        "duration": 291,
        "start_time": "2022-01-13T09:49:38.383Z"
      },
      {
        "duration": 34,
        "start_time": "2022-01-13T09:50:03.008Z"
      },
      {
        "duration": 79,
        "start_time": "2022-01-13T09:51:32.008Z"
      },
      {
        "duration": 69,
        "start_time": "2022-01-13T09:51:50.601Z"
      },
      {
        "duration": 19,
        "start_time": "2022-01-13T09:54:50.944Z"
      },
      {
        "duration": 12,
        "start_time": "2022-01-13T09:55:33.634Z"
      },
      {
        "duration": 12,
        "start_time": "2022-01-13T09:59:16.496Z"
      },
      {
        "duration": 746,
        "start_time": "2022-01-13T14:32:08.246Z"
      },
      {
        "duration": 130,
        "start_time": "2022-01-13T14:32:08.994Z"
      },
      {
        "duration": 15,
        "start_time": "2022-01-13T14:32:09.130Z"
      },
      {
        "duration": 12,
        "start_time": "2022-01-13T14:32:09.147Z"
      },
      {
        "duration": 11,
        "start_time": "2022-01-13T14:32:09.161Z"
      },
      {
        "duration": 54,
        "start_time": "2022-01-13T14:32:09.174Z"
      },
      {
        "duration": 18,
        "start_time": "2022-01-13T14:32:09.232Z"
      },
      {
        "duration": 25,
        "start_time": "2022-01-13T14:32:09.253Z"
      },
      {
        "duration": 10,
        "start_time": "2022-01-13T14:32:09.280Z"
      },
      {
        "duration": 8,
        "start_time": "2022-01-13T14:32:09.317Z"
      },
      {
        "duration": 11,
        "start_time": "2022-01-13T14:32:09.327Z"
      },
      {
        "duration": 21,
        "start_time": "2022-01-13T14:32:09.340Z"
      },
      {
        "duration": 7,
        "start_time": "2022-01-13T14:32:09.363Z"
      },
      {
        "duration": 6,
        "start_time": "2022-01-13T14:32:09.372Z"
      },
      {
        "duration": 56,
        "start_time": "2022-01-13T14:32:09.380Z"
      },
      {
        "duration": 23,
        "start_time": "2022-01-13T14:32:09.438Z"
      },
      {
        "duration": 15,
        "start_time": "2022-01-13T14:32:09.464Z"
      },
      {
        "duration": 8636,
        "start_time": "2022-01-13T14:32:09.481Z"
      },
      {
        "duration": 31,
        "start_time": "2022-01-13T14:32:18.119Z"
      },
      {
        "duration": 37,
        "start_time": "2022-01-13T14:32:18.152Z"
      },
      {
        "duration": 29,
        "start_time": "2022-01-13T14:32:18.192Z"
      },
      {
        "duration": 491,
        "start_time": "2022-01-13T14:32:18.228Z"
      },
      {
        "duration": 1070,
        "start_time": "2022-01-13T14:32:18.723Z"
      },
      {
        "duration": 23,
        "start_time": "2022-01-13T14:32:19.795Z"
      },
      {
        "duration": 10,
        "start_time": "2022-01-13T14:32:19.820Z"
      },
      {
        "duration": 14,
        "start_time": "2022-01-13T14:32:19.832Z"
      },
      {
        "duration": 72,
        "start_time": "2022-01-13T14:32:19.848Z"
      },
      {
        "duration": 11,
        "start_time": "2022-01-13T14:32:19.923Z"
      },
      {
        "duration": 34,
        "start_time": "2022-01-13T14:32:19.936Z"
      },
      {
        "duration": 9,
        "start_time": "2022-01-13T14:32:19.972Z"
      },
      {
        "duration": 67,
        "start_time": "2022-01-13T14:32:19.983Z"
      },
      {
        "duration": 11,
        "start_time": "2022-01-13T14:32:20.052Z"
      },
      {
        "duration": 1554,
        "start_time": "2022-01-13T14:32:20.065Z"
      },
      {
        "duration": 5,
        "start_time": "2022-01-13T14:32:21.622Z"
      },
      {
        "duration": 8,
        "start_time": "2022-01-13T14:32:21.629Z"
      },
      {
        "duration": 6,
        "start_time": "2022-01-13T14:32:21.639Z"
      },
      {
        "duration": 533,
        "start_time": "2022-01-13T14:32:21.648Z"
      },
      {
        "duration": 242,
        "start_time": "2022-01-13T14:32:22.183Z"
      },
      {
        "duration": 15,
        "start_time": "2022-01-13T14:32:22.427Z"
      },
      {
        "duration": 11,
        "start_time": "2022-01-13T14:32:22.444Z"
      },
      {
        "duration": 22,
        "start_time": "2022-01-13T14:32:22.457Z"
      },
      {
        "duration": 52,
        "start_time": "2022-01-13T14:32:22.481Z"
      },
      {
        "duration": 19,
        "start_time": "2022-01-13T14:32:22.535Z"
      },
      {
        "duration": 10,
        "start_time": "2022-01-13T14:32:55.791Z"
      },
      {
        "duration": 6,
        "start_time": "2022-01-13T14:33:17.857Z"
      },
      {
        "duration": 826,
        "start_time": "2022-01-13T14:34:00.379Z"
      },
      {
        "duration": 134,
        "start_time": "2022-01-13T14:34:01.207Z"
      },
      {
        "duration": 17,
        "start_time": "2022-01-13T14:34:01.347Z"
      },
      {
        "duration": 36,
        "start_time": "2022-01-13T14:34:01.366Z"
      },
      {
        "duration": 32,
        "start_time": "2022-01-13T14:34:01.405Z"
      },
      {
        "duration": 38,
        "start_time": "2022-01-13T14:34:01.440Z"
      },
      {
        "duration": 33,
        "start_time": "2022-01-13T14:34:01.482Z"
      },
      {
        "duration": 39,
        "start_time": "2022-01-13T14:34:01.518Z"
      },
      {
        "duration": 139,
        "start_time": "2022-01-13T14:34:01.560Z"
      },
      {
        "duration": 32,
        "start_time": "2022-01-13T14:34:01.702Z"
      },
      {
        "duration": 39,
        "start_time": "2022-01-13T14:34:01.736Z"
      },
      {
        "duration": 42,
        "start_time": "2022-01-13T14:34:01.777Z"
      },
      {
        "duration": 10,
        "start_time": "2022-01-13T14:34:01.822Z"
      },
      {
        "duration": 20,
        "start_time": "2022-01-13T14:34:01.834Z"
      },
      {
        "duration": 46,
        "start_time": "2022-01-13T14:34:01.857Z"
      },
      {
        "duration": 49,
        "start_time": "2022-01-13T14:34:01.905Z"
      },
      {
        "duration": 16,
        "start_time": "2022-01-13T14:34:01.957Z"
      },
      {
        "duration": 8495,
        "start_time": "2022-01-13T14:34:01.976Z"
      },
      {
        "duration": 29,
        "start_time": "2022-01-13T14:34:10.473Z"
      },
      {
        "duration": 43,
        "start_time": "2022-01-13T14:34:10.504Z"
      },
      {
        "duration": 4,
        "start_time": "2022-01-13T14:34:10.550Z"
      },
      {
        "duration": 625,
        "start_time": "2022-01-13T14:34:10.559Z"
      },
      {
        "duration": 1167,
        "start_time": "2022-01-13T14:34:11.187Z"
      },
      {
        "duration": 13,
        "start_time": "2022-01-13T14:34:12.356Z"
      },
      {
        "duration": 11,
        "start_time": "2022-01-13T14:34:12.371Z"
      },
      {
        "duration": 38,
        "start_time": "2022-01-13T14:34:12.384Z"
      },
      {
        "duration": 37,
        "start_time": "2022-01-13T14:34:12.425Z"
      },
      {
        "duration": 13,
        "start_time": "2022-01-13T14:34:12.465Z"
      },
      {
        "duration": 35,
        "start_time": "2022-01-13T14:34:12.518Z"
      },
      {
        "duration": 11,
        "start_time": "2022-01-13T14:34:12.556Z"
      },
      {
        "duration": 67,
        "start_time": "2022-01-13T14:34:12.570Z"
      },
      {
        "duration": 11,
        "start_time": "2022-01-13T14:34:12.640Z"
      },
      {
        "duration": 1545,
        "start_time": "2022-01-13T14:34:12.653Z"
      },
      {
        "duration": 16,
        "start_time": "2022-01-13T14:34:14.201Z"
      },
      {
        "duration": 4,
        "start_time": "2022-01-13T14:34:14.219Z"
      },
      {
        "duration": 5,
        "start_time": "2022-01-13T14:34:14.225Z"
      },
      {
        "duration": 553,
        "start_time": "2022-01-13T14:34:14.233Z"
      },
      {
        "duration": 255,
        "start_time": "2022-01-13T14:34:14.789Z"
      },
      {
        "duration": 11,
        "start_time": "2022-01-13T14:34:15.047Z"
      },
      {
        "duration": 11,
        "start_time": "2022-01-13T14:34:15.060Z"
      },
      {
        "duration": 10,
        "start_time": "2022-01-13T14:34:15.073Z"
      },
      {
        "duration": 23,
        "start_time": "2022-01-13T14:34:15.118Z"
      },
      {
        "duration": 3,
        "start_time": "2022-01-13T14:34:15.144Z"
      },
      {
        "duration": 13,
        "start_time": "2022-01-13T14:34:15.150Z"
      },
      {
        "duration": 93,
        "start_time": "2022-01-13T14:35:36.550Z"
      },
      {
        "duration": 61,
        "start_time": "2022-01-13T14:35:42.578Z"
      },
      {
        "duration": 20,
        "start_time": "2022-01-13T14:36:36.388Z"
      },
      {
        "duration": 7,
        "start_time": "2022-01-13T14:36:38.014Z"
      },
      {
        "duration": 17,
        "start_time": "2022-01-13T14:36:53.773Z"
      },
      {
        "duration": 15,
        "start_time": "2022-01-13T14:39:45.923Z"
      },
      {
        "duration": 6,
        "start_time": "2022-01-13T15:18:24.833Z"
      },
      {
        "duration": 24,
        "start_time": "2022-01-13T15:18:35.495Z"
      },
      {
        "duration": 7,
        "start_time": "2022-01-13T15:19:11.200Z"
      },
      {
        "duration": 17,
        "start_time": "2022-01-13T15:19:51.101Z"
      },
      {
        "duration": 404,
        "start_time": "2022-01-13T15:26:26.939Z"
      },
      {
        "duration": 482,
        "start_time": "2022-01-13T15:28:30.024Z"
      },
      {
        "duration": 541,
        "start_time": "2022-01-13T15:29:21.639Z"
      },
      {
        "duration": 578,
        "start_time": "2022-01-13T15:30:15.681Z"
      },
      {
        "duration": 18,
        "start_time": "2022-01-13T15:33:33.958Z"
      },
      {
        "duration": 277,
        "start_time": "2022-01-13T15:33:47.361Z"
      },
      {
        "duration": 20,
        "start_time": "2022-01-13T15:33:57.016Z"
      },
      {
        "duration": 6500,
        "start_time": "2022-01-13T15:35:04.881Z"
      },
      {
        "duration": 505,
        "start_time": "2022-01-13T15:35:58.607Z"
      },
      {
        "duration": 734,
        "start_time": "2022-01-13T15:39:44.173Z"
      },
      {
        "duration": 232,
        "start_time": "2022-01-13T15:41:19.610Z"
      },
      {
        "duration": 16206,
        "start_time": "2022-01-13T15:42:35.585Z"
      },
      {
        "duration": 7441,
        "start_time": "2022-01-13T15:46:38.740Z"
      },
      {
        "duration": 340,
        "start_time": "2022-01-13T15:47:04.416Z"
      },
      {
        "duration": 342,
        "start_time": "2022-01-13T15:47:25.380Z"
      },
      {
        "duration": 257,
        "start_time": "2022-01-13T15:49:38.834Z"
      },
      {
        "duration": 259,
        "start_time": "2022-01-13T15:50:01.481Z"
      },
      {
        "duration": 288,
        "start_time": "2022-01-13T15:50:27.691Z"
      },
      {
        "duration": 20,
        "start_time": "2022-01-13T15:50:49.638Z"
      },
      {
        "duration": 209,
        "start_time": "2022-01-13T15:50:58.236Z"
      },
      {
        "duration": 290,
        "start_time": "2022-01-13T15:51:01.416Z"
      },
      {
        "duration": 18,
        "start_time": "2022-01-13T15:51:19.983Z"
      },
      {
        "duration": 317,
        "start_time": "2022-01-13T15:51:23.464Z"
      },
      {
        "duration": 255,
        "start_time": "2022-01-13T15:51:26.817Z"
      },
      {
        "duration": 258,
        "start_time": "2022-01-13T15:52:30.645Z"
      },
      {
        "duration": 272,
        "start_time": "2022-01-13T15:52:37.371Z"
      },
      {
        "duration": 280,
        "start_time": "2022-01-13T15:52:42.394Z"
      },
      {
        "duration": 279,
        "start_time": "2022-01-13T15:52:48.291Z"
      },
      {
        "duration": 278,
        "start_time": "2022-01-13T15:52:53.187Z"
      },
      {
        "duration": 256,
        "start_time": "2022-01-13T15:52:58.577Z"
      },
      {
        "duration": 257,
        "start_time": "2022-01-13T15:53:10.907Z"
      },
      {
        "duration": 260,
        "start_time": "2022-01-13T15:53:23.238Z"
      },
      {
        "duration": 412,
        "start_time": "2022-01-13T15:55:50.625Z"
      },
      {
        "duration": 16,
        "start_time": "2022-01-13T15:56:44.278Z"
      },
      {
        "duration": 9,
        "start_time": "2022-01-13T15:56:53.901Z"
      },
      {
        "duration": 257,
        "start_time": "2022-01-13T15:57:23.631Z"
      },
      {
        "duration": 260,
        "start_time": "2022-01-13T15:57:46.503Z"
      },
      {
        "duration": 300,
        "start_time": "2022-01-13T15:58:06.292Z"
      },
      {
        "duration": 355,
        "start_time": "2022-01-13T15:58:15.886Z"
      },
      {
        "duration": 267,
        "start_time": "2022-01-13T15:58:27.403Z"
      },
      {
        "duration": 292,
        "start_time": "2022-01-13T15:58:38.631Z"
      },
      {
        "duration": 15,
        "start_time": "2022-01-13T15:58:57.280Z"
      },
      {
        "duration": 8,
        "start_time": "2022-01-13T15:59:07.210Z"
      },
      {
        "duration": 17,
        "start_time": "2022-01-13T15:59:21.945Z"
      },
      {
        "duration": 12,
        "start_time": "2022-01-13T15:59:23.394Z"
      },
      {
        "duration": 368,
        "start_time": "2022-01-13T16:09:02.788Z"
      },
      {
        "duration": 17,
        "start_time": "2022-01-13T16:09:47.418Z"
      },
      {
        "duration": 9,
        "start_time": "2022-01-13T16:09:51.533Z"
      },
      {
        "duration": 286,
        "start_time": "2022-01-13T16:10:09.582Z"
      },
      {
        "duration": 265,
        "start_time": "2022-01-13T16:11:16.598Z"
      },
      {
        "duration": 9,
        "start_time": "2022-01-13T16:11:21.114Z"
      },
      {
        "duration": 667,
        "start_time": "2022-01-14T08:14:06.504Z"
      },
      {
        "duration": 99,
        "start_time": "2022-01-14T08:14:07.174Z"
      },
      {
        "duration": 11,
        "start_time": "2022-01-14T08:14:07.276Z"
      },
      {
        "duration": 16,
        "start_time": "2022-01-14T08:14:07.289Z"
      },
      {
        "duration": 9,
        "start_time": "2022-01-14T08:14:07.306Z"
      },
      {
        "duration": 18,
        "start_time": "2022-01-14T08:14:07.317Z"
      },
      {
        "duration": 19,
        "start_time": "2022-01-14T08:14:07.337Z"
      },
      {
        "duration": 21,
        "start_time": "2022-01-14T08:14:07.358Z"
      },
      {
        "duration": 9,
        "start_time": "2022-01-14T08:14:07.381Z"
      },
      {
        "duration": 11,
        "start_time": "2022-01-14T08:14:07.391Z"
      },
      {
        "duration": 18,
        "start_time": "2022-01-14T08:14:07.403Z"
      },
      {
        "duration": 13,
        "start_time": "2022-01-14T08:14:07.423Z"
      },
      {
        "duration": 9,
        "start_time": "2022-01-14T08:14:07.437Z"
      },
      {
        "duration": 4,
        "start_time": "2022-01-14T08:14:07.448Z"
      },
      {
        "duration": 19,
        "start_time": "2022-01-14T08:14:07.453Z"
      },
      {
        "duration": 36,
        "start_time": "2022-01-14T08:14:07.474Z"
      },
      {
        "duration": 5,
        "start_time": "2022-01-14T08:14:07.512Z"
      },
      {
        "duration": 6091,
        "start_time": "2022-01-14T08:14:07.518Z"
      },
      {
        "duration": 22,
        "start_time": "2022-01-14T08:14:13.610Z"
      },
      {
        "duration": 25,
        "start_time": "2022-01-14T08:14:13.633Z"
      },
      {
        "duration": 4,
        "start_time": "2022-01-14T08:14:13.659Z"
      },
      {
        "duration": 379,
        "start_time": "2022-01-14T08:14:13.664Z"
      },
      {
        "duration": 671,
        "start_time": "2022-01-14T08:14:14.046Z"
      },
      {
        "duration": 10,
        "start_time": "2022-01-14T08:14:14.719Z"
      },
      {
        "duration": 6,
        "start_time": "2022-01-14T08:14:14.731Z"
      },
      {
        "duration": 10,
        "start_time": "2022-01-14T08:14:14.738Z"
      },
      {
        "duration": 26,
        "start_time": "2022-01-14T08:14:14.749Z"
      },
      {
        "duration": 28,
        "start_time": "2022-01-14T08:14:14.777Z"
      },
      {
        "duration": 22,
        "start_time": "2022-01-14T08:14:14.807Z"
      },
      {
        "duration": 9,
        "start_time": "2022-01-14T08:14:14.830Z"
      },
      {
        "duration": 26,
        "start_time": "2022-01-14T08:14:14.840Z"
      },
      {
        "duration": 37,
        "start_time": "2022-01-14T08:14:14.868Z"
      },
      {
        "duration": 1105,
        "start_time": "2022-01-14T08:14:14.907Z"
      },
      {
        "duration": 4,
        "start_time": "2022-01-14T08:14:16.014Z"
      },
      {
        "duration": 5,
        "start_time": "2022-01-14T08:14:16.021Z"
      },
      {
        "duration": 6,
        "start_time": "2022-01-14T08:14:16.027Z"
      },
      {
        "duration": 396,
        "start_time": "2022-01-14T08:14:16.035Z"
      },
      {
        "duration": 174,
        "start_time": "2022-01-14T08:14:16.433Z"
      },
      {
        "duration": 8,
        "start_time": "2022-01-14T08:14:16.609Z"
      },
      {
        "duration": 9,
        "start_time": "2022-01-14T08:14:16.619Z"
      },
      {
        "duration": 7,
        "start_time": "2022-01-14T08:14:16.629Z"
      },
      {
        "duration": 22,
        "start_time": "2022-01-14T08:14:16.638Z"
      },
      {
        "duration": 38,
        "start_time": "2022-01-14T08:14:16.662Z"
      },
      {
        "duration": 4,
        "start_time": "2022-01-14T08:14:16.702Z"
      },
      {
        "duration": 24,
        "start_time": "2022-01-14T08:14:16.708Z"
      },
      {
        "duration": 5,
        "start_time": "2022-01-14T08:14:16.734Z"
      },
      {
        "duration": 18,
        "start_time": "2022-01-14T08:14:16.740Z"
      },
      {
        "duration": 17,
        "start_time": "2022-01-14T08:14:16.760Z"
      },
      {
        "duration": 188,
        "start_time": "2022-01-14T08:14:16.778Z"
      },
      {
        "duration": 6486,
        "start_time": "2022-01-14T08:14:16.968Z"
      },
      {
        "duration": -58,
        "start_time": "2022-01-14T08:14:23.513Z"
      },
      {
        "duration": -64,
        "start_time": "2022-01-14T08:14:23.520Z"
      },
      {
        "duration": 258,
        "start_time": "2022-01-14T08:16:22.242Z"
      },
      {
        "duration": 690,
        "start_time": "2022-01-14T08:24:45.476Z"
      },
      {
        "duration": 685,
        "start_time": "2022-01-14T08:25:06.701Z"
      },
      {
        "duration": 278,
        "start_time": "2022-01-14T08:32:26.608Z"
      },
      {
        "duration": 739,
        "start_time": "2022-01-14T08:33:25.009Z"
      },
      {
        "duration": 1583,
        "start_time": "2022-01-14T08:34:48.246Z"
      },
      {
        "duration": 203,
        "start_time": "2022-01-14T08:35:22.299Z"
      },
      {
        "duration": 288,
        "start_time": "2022-01-14T09:09:22.118Z"
      },
      {
        "duration": 834,
        "start_time": "2022-01-14T09:09:26.185Z"
      },
      {
        "duration": 214,
        "start_time": "2022-01-14T09:17:53.533Z"
      },
      {
        "duration": 205,
        "start_time": "2022-01-14T09:18:20.669Z"
      },
      {
        "duration": 6918,
        "start_time": "2022-01-14T09:21:02.073Z"
      },
      {
        "duration": 245,
        "start_time": "2022-01-14T09:21:34.682Z"
      },
      {
        "duration": 97,
        "start_time": "2022-01-14T09:21:59.165Z"
      },
      {
        "duration": 229,
        "start_time": "2022-01-14T09:22:31.259Z"
      },
      {
        "duration": 224,
        "start_time": "2022-01-14T09:22:46.850Z"
      },
      {
        "duration": 251,
        "start_time": "2022-01-14T09:23:52.492Z"
      },
      {
        "duration": 250,
        "start_time": "2022-01-14T09:24:28.074Z"
      },
      {
        "duration": 236,
        "start_time": "2022-01-14T09:24:36.053Z"
      },
      {
        "duration": 288,
        "start_time": "2022-01-14T09:24:58.813Z"
      },
      {
        "duration": 215,
        "start_time": "2022-01-14T09:25:21.153Z"
      },
      {
        "duration": 242,
        "start_time": "2022-01-14T09:25:33.105Z"
      },
      {
        "duration": 234,
        "start_time": "2022-01-14T09:26:08.989Z"
      },
      {
        "duration": 252,
        "start_time": "2022-01-14T09:26:51.903Z"
      },
      {
        "duration": 265,
        "start_time": "2022-01-14T09:27:32.810Z"
      },
      {
        "duration": 236,
        "start_time": "2022-01-14T09:27:43.847Z"
      },
      {
        "duration": 5,
        "start_time": "2022-01-14T09:28:20.816Z"
      },
      {
        "duration": 13,
        "start_time": "2022-01-14T09:28:56.330Z"
      },
      {
        "duration": 241,
        "start_time": "2022-01-14T09:29:38.030Z"
      },
      {
        "duration": 238,
        "start_time": "2022-01-14T09:30:09.773Z"
      },
      {
        "duration": 225,
        "start_time": "2022-01-14T09:30:32.614Z"
      },
      {
        "duration": 235,
        "start_time": "2022-01-14T09:30:47.798Z"
      },
      {
        "duration": 291,
        "start_time": "2022-01-14T09:30:55.972Z"
      },
      {
        "duration": 244,
        "start_time": "2022-01-14T09:31:08.505Z"
      },
      {
        "duration": 7,
        "start_time": "2022-01-14T09:31:32.498Z"
      },
      {
        "duration": 4,
        "start_time": "2022-01-14T09:43:01.931Z"
      },
      {
        "duration": 14,
        "start_time": "2022-01-14T09:43:03.192Z"
      },
      {
        "duration": 277,
        "start_time": "2022-01-14T09:44:34.818Z"
      },
      {
        "duration": 10,
        "start_time": "2022-01-14T09:44:42.522Z"
      },
      {
        "duration": 5692,
        "start_time": "2022-01-14T09:55:40.392Z"
      },
      {
        "duration": 5989,
        "start_time": "2022-01-14T10:00:15.763Z"
      },
      {
        "duration": 295,
        "start_time": "2022-01-14T10:00:40.418Z"
      },
      {
        "duration": 10,
        "start_time": "2022-01-14T10:00:45.933Z"
      },
      {
        "duration": 269,
        "start_time": "2022-01-14T10:44:39.270Z"
      },
      {
        "duration": 7,
        "start_time": "2022-01-14T10:45:06.468Z"
      },
      {
        "duration": 6,
        "start_time": "2022-01-14T10:45:19.190Z"
      },
      {
        "duration": 9,
        "start_time": "2022-01-14T10:45:25.053Z"
      },
      {
        "duration": 53,
        "start_time": "2022-01-14T11:21:01.727Z"
      },
      {
        "duration": 276,
        "start_time": "2022-01-14T11:49:47.033Z"
      },
      {
        "duration": 275,
        "start_time": "2022-01-14T11:49:56.148Z"
      },
      {
        "duration": 16,
        "start_time": "2022-01-14T11:50:12.265Z"
      },
      {
        "duration": 20,
        "start_time": "2022-01-14T11:50:22.309Z"
      },
      {
        "duration": 99,
        "start_time": "2022-01-14T12:00:12.051Z"
      },
      {
        "duration": 20,
        "start_time": "2022-01-14T12:00:18.648Z"
      },
      {
        "duration": 21,
        "start_time": "2022-01-14T12:09:15.112Z"
      },
      {
        "duration": 22,
        "start_time": "2022-01-14T12:09:23.542Z"
      },
      {
        "duration": 5,
        "start_time": "2022-01-14T12:12:50.363Z"
      },
      {
        "duration": 6886,
        "start_time": "2022-01-14T12:13:29.950Z"
      },
      {
        "duration": 7363,
        "start_time": "2022-01-14T12:13:54.322Z"
      },
      {
        "duration": 280,
        "start_time": "2022-01-14T12:14:17.989Z"
      },
      {
        "duration": 6,
        "start_time": "2022-01-14T12:18:13.086Z"
      },
      {
        "duration": 43,
        "start_time": "2022-01-14T12:19:57.176Z"
      },
      {
        "duration": 6,
        "start_time": "2022-01-14T12:21:18.406Z"
      },
      {
        "duration": 9,
        "start_time": "2022-01-14T12:24:35.172Z"
      },
      {
        "duration": 45,
        "start_time": "2022-01-14T12:24:43.470Z"
      },
      {
        "duration": 93,
        "start_time": "2022-01-14T12:25:20.168Z"
      },
      {
        "duration": 12,
        "start_time": "2022-01-14T12:25:26.352Z"
      },
      {
        "duration": 14,
        "start_time": "2022-01-14T12:25:48.848Z"
      },
      {
        "duration": 15,
        "start_time": "2022-01-14T12:28:31.612Z"
      },
      {
        "duration": 16,
        "start_time": "2022-01-14T12:29:42.934Z"
      },
      {
        "duration": 220,
        "start_time": "2022-01-14T12:31:15.749Z"
      },
      {
        "duration": 211,
        "start_time": "2022-01-14T12:32:18.883Z"
      },
      {
        "duration": 248,
        "start_time": "2022-01-14T12:32:28.224Z"
      },
      {
        "duration": 217,
        "start_time": "2022-01-14T12:32:53.728Z"
      },
      {
        "duration": 221,
        "start_time": "2022-01-14T12:34:20.337Z"
      },
      {
        "duration": 274,
        "start_time": "2022-01-14T12:38:19.866Z"
      },
      {
        "duration": 42,
        "start_time": "2022-01-14T12:38:50.569Z"
      },
      {
        "duration": 6,
        "start_time": "2022-01-14T12:39:32.428Z"
      },
      {
        "duration": 266,
        "start_time": "2022-01-14T12:42:21.602Z"
      },
      {
        "duration": 6,
        "start_time": "2022-01-14T12:42:27.869Z"
      },
      {
        "duration": 205,
        "start_time": "2022-01-14T12:42:29.201Z"
      },
      {
        "duration": 258,
        "start_time": "2022-01-14T12:56:45.976Z"
      },
      {
        "duration": 218,
        "start_time": "2022-01-14T13:02:16.151Z"
      },
      {
        "duration": 229,
        "start_time": "2022-01-14T13:03:21.152Z"
      },
      {
        "duration": 210,
        "start_time": "2022-01-14T13:13:40.337Z"
      },
      {
        "duration": 213,
        "start_time": "2022-01-14T13:13:48.506Z"
      },
      {
        "duration": 224,
        "start_time": "2022-01-14T13:17:51.015Z"
      },
      {
        "duration": 345,
        "start_time": "2022-01-14T13:18:10.139Z"
      },
      {
        "duration": 244,
        "start_time": "2022-01-14T13:18:21.184Z"
      },
      {
        "duration": 239,
        "start_time": "2022-01-14T13:18:27.836Z"
      },
      {
        "duration": 267,
        "start_time": "2022-01-14T13:18:51.128Z"
      },
      {
        "duration": 246,
        "start_time": "2022-01-14T13:18:58.206Z"
      },
      {
        "duration": 1043,
        "start_time": "2022-01-14T13:21:11.934Z"
      },
      {
        "duration": 659,
        "start_time": "2022-01-14T13:33:24.119Z"
      },
      {
        "duration": 102,
        "start_time": "2022-01-14T13:33:24.780Z"
      },
      {
        "duration": 14,
        "start_time": "2022-01-14T13:33:24.884Z"
      },
      {
        "duration": 19,
        "start_time": "2022-01-14T13:33:24.901Z"
      },
      {
        "duration": 8,
        "start_time": "2022-01-14T13:33:24.922Z"
      },
      {
        "duration": 13,
        "start_time": "2022-01-14T13:33:24.932Z"
      },
      {
        "duration": 13,
        "start_time": "2022-01-14T13:33:24.947Z"
      },
      {
        "duration": 50,
        "start_time": "2022-01-14T13:33:24.963Z"
      },
      {
        "duration": 9,
        "start_time": "2022-01-14T13:33:25.015Z"
      },
      {
        "duration": 7,
        "start_time": "2022-01-14T13:33:25.026Z"
      },
      {
        "duration": 6,
        "start_time": "2022-01-14T13:33:25.035Z"
      },
      {
        "duration": 15,
        "start_time": "2022-01-14T13:33:25.043Z"
      },
      {
        "duration": 6,
        "start_time": "2022-01-14T13:33:25.059Z"
      },
      {
        "duration": 4,
        "start_time": "2022-01-14T13:33:25.066Z"
      },
      {
        "duration": 22,
        "start_time": "2022-01-14T13:33:25.100Z"
      },
      {
        "duration": 17,
        "start_time": "2022-01-14T13:33:25.124Z"
      },
      {
        "duration": 6,
        "start_time": "2022-01-14T13:33:25.143Z"
      },
      {
        "duration": 6435,
        "start_time": "2022-01-14T13:33:25.151Z"
      },
      {
        "duration": 29,
        "start_time": "2022-01-14T13:33:31.588Z"
      },
      {
        "duration": 24,
        "start_time": "2022-01-14T13:33:31.619Z"
      },
      {
        "duration": 4,
        "start_time": "2022-01-14T13:33:31.645Z"
      },
      {
        "duration": 393,
        "start_time": "2022-01-14T13:33:31.650Z"
      },
      {
        "duration": 703,
        "start_time": "2022-01-14T13:33:32.047Z"
      },
      {
        "duration": 9,
        "start_time": "2022-01-14T13:33:32.752Z"
      },
      {
        "duration": 6,
        "start_time": "2022-01-14T13:33:32.763Z"
      },
      {
        "duration": 11,
        "start_time": "2022-01-14T13:33:32.771Z"
      },
      {
        "duration": 29,
        "start_time": "2022-01-14T13:33:32.798Z"
      },
      {
        "duration": 10,
        "start_time": "2022-01-14T13:33:32.828Z"
      },
      {
        "duration": 23,
        "start_time": "2022-01-14T13:33:32.840Z"
      },
      {
        "duration": 44,
        "start_time": "2022-01-14T13:33:32.865Z"
      },
      {
        "duration": 24,
        "start_time": "2022-01-14T13:33:32.912Z"
      },
      {
        "duration": 9,
        "start_time": "2022-01-14T13:33:32.937Z"
      },
      {
        "duration": 1186,
        "start_time": "2022-01-14T13:33:32.947Z"
      },
      {
        "duration": 4,
        "start_time": "2022-01-14T13:33:34.134Z"
      },
      {
        "duration": 403,
        "start_time": "2022-01-14T13:33:34.139Z"
      },
      {
        "duration": 185,
        "start_time": "2022-01-14T13:33:34.544Z"
      },
      {
        "duration": 9,
        "start_time": "2022-01-14T13:33:34.731Z"
      },
      {
        "duration": 7,
        "start_time": "2022-01-14T13:33:34.742Z"
      },
      {
        "duration": 17,
        "start_time": "2022-01-14T13:33:34.751Z"
      },
      {
        "duration": 40,
        "start_time": "2022-01-14T13:33:34.770Z"
      },
      {
        "duration": 15,
        "start_time": "2022-01-14T13:33:34.813Z"
      },
      {
        "duration": 5,
        "start_time": "2022-01-14T13:33:34.829Z"
      },
      {
        "duration": 474,
        "start_time": "2022-01-14T13:33:34.836Z"
      },
      {
        "duration": 12,
        "start_time": "2022-01-14T13:33:35.312Z"
      },
      {
        "duration": 4,
        "start_time": "2022-01-14T13:33:35.325Z"
      },
      {
        "duration": 11,
        "start_time": "2022-01-14T13:33:35.331Z"
      },
      {
        "duration": 5576,
        "start_time": "2022-01-14T13:33:35.344Z"
      },
      {
        "duration": 11,
        "start_time": "2022-01-14T13:33:40.922Z"
      },
      {
        "duration": 224,
        "start_time": "2022-01-14T13:33:40.935Z"
      },
      {
        "duration": 228,
        "start_time": "2022-01-14T13:33:41.160Z"
      },
      {
        "duration": 238,
        "start_time": "2022-01-14T13:33:41.390Z"
      },
      {
        "duration": 234,
        "start_time": "2022-01-14T13:33:41.630Z"
      },
      {
        "duration": 6,
        "start_time": "2022-01-14T13:33:41.866Z"
      },
      {
        "duration": 6,
        "start_time": "2022-01-14T13:33:41.874Z"
      },
      {
        "duration": 36,
        "start_time": "2022-01-14T13:33:41.882Z"
      },
      {
        "duration": 108,
        "start_time": "2022-01-14T13:33:41.920Z"
      },
      {
        "duration": 229,
        "start_time": "2022-01-14T13:33:42.029Z"
      },
      {
        "duration": 7,
        "start_time": "2022-01-14T13:33:42.259Z"
      },
      {
        "duration": 221,
        "start_time": "2022-01-14T13:33:42.267Z"
      },
      {
        "duration": 244,
        "start_time": "2022-01-14T13:33:42.498Z"
      },
      {
        "duration": 239,
        "start_time": "2022-01-14T13:33:42.744Z"
      },
      {
        "duration": 259,
        "start_time": "2022-01-14T13:33:42.984Z"
      },
      {
        "duration": 228,
        "start_time": "2022-01-14T13:33:43.244Z"
      },
      {
        "duration": 259,
        "start_time": "2022-01-14T13:33:43.474Z"
      },
      {
        "duration": 1054,
        "start_time": "2022-01-14T13:33:43.734Z"
      },
      {
        "duration": 9,
        "start_time": "2022-01-14T13:34:35.262Z"
      },
      {
        "duration": 482,
        "start_time": "2022-01-14T13:35:12.560Z"
      },
      {
        "duration": 388,
        "start_time": "2022-01-14T13:35:22.227Z"
      },
      {
        "duration": 400,
        "start_time": "2022-01-14T13:35:38.151Z"
      },
      {
        "duration": 409,
        "start_time": "2022-01-14T13:35:53.409Z"
      },
      {
        "duration": 725,
        "start_time": "2022-01-14T13:36:15.127Z"
      },
      {
        "duration": 106,
        "start_time": "2022-01-14T13:36:15.854Z"
      },
      {
        "duration": 11,
        "start_time": "2022-01-14T13:36:15.966Z"
      },
      {
        "duration": 24,
        "start_time": "2022-01-14T13:36:15.978Z"
      },
      {
        "duration": 12,
        "start_time": "2022-01-14T13:36:16.005Z"
      },
      {
        "duration": 13,
        "start_time": "2022-01-14T13:36:16.019Z"
      },
      {
        "duration": 13,
        "start_time": "2022-01-14T13:36:16.034Z"
      },
      {
        "duration": 19,
        "start_time": "2022-01-14T13:36:16.049Z"
      },
      {
        "duration": 30,
        "start_time": "2022-01-14T13:36:16.070Z"
      },
      {
        "duration": 16,
        "start_time": "2022-01-14T13:36:16.103Z"
      },
      {
        "duration": 6,
        "start_time": "2022-01-14T13:36:16.120Z"
      },
      {
        "duration": 16,
        "start_time": "2022-01-14T13:36:16.128Z"
      },
      {
        "duration": 5,
        "start_time": "2022-01-14T13:36:16.146Z"
      },
      {
        "duration": 4,
        "start_time": "2022-01-14T13:36:16.153Z"
      },
      {
        "duration": 48,
        "start_time": "2022-01-14T13:36:16.159Z"
      },
      {
        "duration": 24,
        "start_time": "2022-01-14T13:36:16.211Z"
      },
      {
        "duration": 10,
        "start_time": "2022-01-14T13:36:16.237Z"
      },
      {
        "duration": 6520,
        "start_time": "2022-01-14T13:36:16.249Z"
      },
      {
        "duration": 22,
        "start_time": "2022-01-14T13:36:22.770Z"
      },
      {
        "duration": 29,
        "start_time": "2022-01-14T13:36:22.799Z"
      },
      {
        "duration": 4,
        "start_time": "2022-01-14T13:36:22.830Z"
      },
      {
        "duration": 403,
        "start_time": "2022-01-14T13:36:22.838Z"
      },
      {
        "duration": 726,
        "start_time": "2022-01-14T13:36:23.244Z"
      },
      {
        "duration": 10,
        "start_time": "2022-01-14T13:36:23.971Z"
      },
      {
        "duration": 17,
        "start_time": "2022-01-14T13:36:23.982Z"
      },
      {
        "duration": 10,
        "start_time": "2022-01-14T13:36:24.001Z"
      },
      {
        "duration": 23,
        "start_time": "2022-01-14T13:36:24.012Z"
      },
      {
        "duration": 8,
        "start_time": "2022-01-14T13:36:24.036Z"
      },
      {
        "duration": 22,
        "start_time": "2022-01-14T13:36:24.046Z"
      },
      {
        "duration": 8,
        "start_time": "2022-01-14T13:36:24.099Z"
      },
      {
        "duration": 22,
        "start_time": "2022-01-14T13:36:24.109Z"
      },
      {
        "duration": 13,
        "start_time": "2022-01-14T13:36:24.133Z"
      },
      {
        "duration": 1171,
        "start_time": "2022-01-14T13:36:24.147Z"
      },
      {
        "duration": 5,
        "start_time": "2022-01-14T13:36:25.320Z"
      },
      {
        "duration": 428,
        "start_time": "2022-01-14T13:36:25.327Z"
      },
      {
        "duration": 186,
        "start_time": "2022-01-14T13:36:25.757Z"
      },
      {
        "duration": 11,
        "start_time": "2022-01-14T13:36:25.946Z"
      },
      {
        "duration": 10,
        "start_time": "2022-01-14T13:36:25.959Z"
      },
      {
        "duration": 28,
        "start_time": "2022-01-14T13:36:25.972Z"
      },
      {
        "duration": 17,
        "start_time": "2022-01-14T13:36:26.002Z"
      },
      {
        "duration": 14,
        "start_time": "2022-01-14T13:36:26.021Z"
      },
      {
        "duration": 9,
        "start_time": "2022-01-14T13:36:26.037Z"
      },
      {
        "duration": 503,
        "start_time": "2022-01-14T13:36:26.047Z"
      },
      {
        "duration": 17,
        "start_time": "2022-01-14T13:36:26.552Z"
      },
      {
        "duration": 8,
        "start_time": "2022-01-14T13:36:26.571Z"
      },
      {
        "duration": 28,
        "start_time": "2022-01-14T13:36:26.581Z"
      },
      {
        "duration": 5902,
        "start_time": "2022-01-14T13:36:26.612Z"
      },
      {
        "duration": 12,
        "start_time": "2022-01-14T13:36:32.516Z"
      },
      {
        "duration": 216,
        "start_time": "2022-01-14T13:36:32.530Z"
      },
      {
        "duration": 229,
        "start_time": "2022-01-14T13:36:32.748Z"
      },
      {
        "duration": 226,
        "start_time": "2022-01-14T13:36:32.979Z"
      },
      {
        "duration": 246,
        "start_time": "2022-01-14T13:36:33.207Z"
      },
      {
        "duration": 5,
        "start_time": "2022-01-14T13:36:33.455Z"
      },
      {
        "duration": 8,
        "start_time": "2022-01-14T13:36:33.462Z"
      },
      {
        "duration": 39,
        "start_time": "2022-01-14T13:36:33.471Z"
      },
      {
        "duration": 101,
        "start_time": "2022-01-14T13:36:33.513Z"
      },
      {
        "duration": 228,
        "start_time": "2022-01-14T13:36:33.616Z"
      },
      {
        "duration": 7,
        "start_time": "2022-01-14T13:36:33.846Z"
      },
      {
        "duration": 216,
        "start_time": "2022-01-14T13:36:33.854Z"
      },
      {
        "duration": 244,
        "start_time": "2022-01-14T13:36:34.072Z"
      },
      {
        "duration": 241,
        "start_time": "2022-01-14T13:36:34.318Z"
      },
      {
        "duration": 254,
        "start_time": "2022-01-14T13:36:34.561Z"
      },
      {
        "duration": 225,
        "start_time": "2022-01-14T13:36:34.817Z"
      },
      {
        "duration": 247,
        "start_time": "2022-01-14T13:36:35.044Z"
      },
      {
        "duration": 1054,
        "start_time": "2022-01-14T13:36:35.292Z"
      },
      {
        "duration": 41,
        "start_time": "2022-01-14T13:38:08.680Z"
      },
      {
        "duration": 679,
        "start_time": "2022-01-14T13:46:26.613Z"
      },
      {
        "duration": 101,
        "start_time": "2022-01-14T13:46:27.294Z"
      },
      {
        "duration": 10,
        "start_time": "2022-01-14T13:46:27.398Z"
      },
      {
        "duration": 29,
        "start_time": "2022-01-14T13:46:27.410Z"
      },
      {
        "duration": 19,
        "start_time": "2022-01-14T13:46:27.441Z"
      },
      {
        "duration": 22,
        "start_time": "2022-01-14T13:46:27.461Z"
      },
      {
        "duration": 17,
        "start_time": "2022-01-14T13:46:27.485Z"
      },
      {
        "duration": 26,
        "start_time": "2022-01-14T13:46:27.505Z"
      },
      {
        "duration": 4,
        "start_time": "2022-01-14T13:46:27.534Z"
      },
      {
        "duration": 7,
        "start_time": "2022-01-14T13:46:27.540Z"
      },
      {
        "duration": 6,
        "start_time": "2022-01-14T13:46:27.549Z"
      },
      {
        "duration": 13,
        "start_time": "2022-01-14T13:46:27.557Z"
      },
      {
        "duration": 6,
        "start_time": "2022-01-14T13:46:27.571Z"
      },
      {
        "duration": 20,
        "start_time": "2022-01-14T13:46:27.578Z"
      },
      {
        "duration": 16,
        "start_time": "2022-01-14T13:46:27.600Z"
      },
      {
        "duration": 18,
        "start_time": "2022-01-14T13:46:27.618Z"
      },
      {
        "duration": 6,
        "start_time": "2022-01-14T13:46:27.638Z"
      },
      {
        "duration": 6026,
        "start_time": "2022-01-14T13:46:27.646Z"
      },
      {
        "duration": 29,
        "start_time": "2022-01-14T13:46:33.673Z"
      },
      {
        "duration": 25,
        "start_time": "2022-01-14T13:46:33.704Z"
      },
      {
        "duration": 4,
        "start_time": "2022-01-14T13:46:33.730Z"
      },
      {
        "duration": 375,
        "start_time": "2022-01-14T13:46:33.736Z"
      },
      {
        "duration": 666,
        "start_time": "2022-01-14T13:46:34.115Z"
      },
      {
        "duration": 14,
        "start_time": "2022-01-14T13:46:34.784Z"
      },
      {
        "duration": 6,
        "start_time": "2022-01-14T13:46:34.800Z"
      },
      {
        "duration": 9,
        "start_time": "2022-01-14T13:46:34.807Z"
      },
      {
        "duration": 86,
        "start_time": "2022-01-14T13:46:34.818Z"
      },
      {
        "duration": 109,
        "start_time": "2022-01-14T13:46:34.797Z"
      },
      {
        "duration": 100,
        "start_time": "2022-01-14T13:46:34.807Z"
      },
      {
        "duration": 89,
        "start_time": "2022-01-14T13:46:34.819Z"
      },
      {
        "duration": 83,
        "start_time": "2022-01-14T13:46:34.826Z"
      },
      {
        "duration": 76,
        "start_time": "2022-01-14T13:46:34.834Z"
      },
      {
        "duration": 69,
        "start_time": "2022-01-14T13:46:34.842Z"
      },
      {
        "duration": 63,
        "start_time": "2022-01-14T13:46:34.849Z"
      },
      {
        "duration": 58,
        "start_time": "2022-01-14T13:46:34.855Z"
      },
      {
        "duration": 43,
        "start_time": "2022-01-14T13:46:34.871Z"
      },
      {
        "duration": 34,
        "start_time": "2022-01-14T13:46:34.881Z"
      },
      {
        "duration": 22,
        "start_time": "2022-01-14T13:46:34.894Z"
      },
      {
        "duration": 14,
        "start_time": "2022-01-14T13:46:34.903Z"
      },
      {
        "duration": 5,
        "start_time": "2022-01-14T13:46:34.914Z"
      },
      {
        "duration": -1,
        "start_time": "2022-01-14T13:46:34.921Z"
      },
      {
        "duration": -8,
        "start_time": "2022-01-14T13:46:34.929Z"
      },
      {
        "duration": -13,
        "start_time": "2022-01-14T13:46:34.934Z"
      },
      {
        "duration": -20,
        "start_time": "2022-01-14T13:46:34.942Z"
      },
      {
        "duration": -26,
        "start_time": "2022-01-14T13:46:34.949Z"
      },
      {
        "duration": -33,
        "start_time": "2022-01-14T13:46:34.957Z"
      },
      {
        "duration": -38,
        "start_time": "2022-01-14T13:46:34.964Z"
      },
      {
        "duration": -47,
        "start_time": "2022-01-14T13:46:34.973Z"
      },
      {
        "duration": -50,
        "start_time": "2022-01-14T13:46:34.978Z"
      },
      {
        "duration": -57,
        "start_time": "2022-01-14T13:46:34.986Z"
      },
      {
        "duration": -64,
        "start_time": "2022-01-14T13:46:34.993Z"
      },
      {
        "duration": -71,
        "start_time": "2022-01-14T13:46:35.001Z"
      },
      {
        "duration": -76,
        "start_time": "2022-01-14T13:46:35.007Z"
      },
      {
        "duration": -83,
        "start_time": "2022-01-14T13:46:35.016Z"
      },
      {
        "duration": -89,
        "start_time": "2022-01-14T13:46:35.023Z"
      },
      {
        "duration": -96,
        "start_time": "2022-01-14T13:46:35.031Z"
      },
      {
        "duration": -104,
        "start_time": "2022-01-14T13:46:35.040Z"
      },
      {
        "duration": -110,
        "start_time": "2022-01-14T13:46:35.047Z"
      },
      {
        "duration": -116,
        "start_time": "2022-01-14T13:46:35.054Z"
      },
      {
        "duration": -122,
        "start_time": "2022-01-14T13:46:35.061Z"
      },
      {
        "duration": -128,
        "start_time": "2022-01-14T13:46:35.068Z"
      },
      {
        "duration": -135,
        "start_time": "2022-01-14T13:46:35.076Z"
      },
      {
        "duration": -140,
        "start_time": "2022-01-14T13:46:35.082Z"
      },
      {
        "duration": -147,
        "start_time": "2022-01-14T13:46:35.090Z"
      },
      {
        "duration": -153,
        "start_time": "2022-01-14T13:46:35.097Z"
      },
      {
        "duration": -107,
        "start_time": "2022-01-14T13:46:35.104Z"
      },
      {
        "duration": -112,
        "start_time": "2022-01-14T13:46:35.111Z"
      },
      {
        "duration": -119,
        "start_time": "2022-01-14T13:46:35.119Z"
      },
      {
        "duration": -125,
        "start_time": "2022-01-14T13:46:35.126Z"
      },
      {
        "duration": -132,
        "start_time": "2022-01-14T13:46:35.134Z"
      },
      {
        "duration": 652,
        "start_time": "2022-01-14T13:48:49.490Z"
      },
      {
        "duration": 102,
        "start_time": "2022-01-14T13:48:50.143Z"
      },
      {
        "duration": 14,
        "start_time": "2022-01-14T13:48:50.248Z"
      },
      {
        "duration": 9,
        "start_time": "2022-01-14T13:48:50.264Z"
      },
      {
        "duration": 25,
        "start_time": "2022-01-14T13:48:50.274Z"
      },
      {
        "duration": 17,
        "start_time": "2022-01-14T13:48:50.301Z"
      },
      {
        "duration": 14,
        "start_time": "2022-01-14T13:48:50.320Z"
      },
      {
        "duration": 18,
        "start_time": "2022-01-14T13:48:50.337Z"
      },
      {
        "duration": 4,
        "start_time": "2022-01-14T13:48:50.357Z"
      },
      {
        "duration": 7,
        "start_time": "2022-01-14T13:48:50.363Z"
      },
      {
        "duration": 31,
        "start_time": "2022-01-14T13:48:50.372Z"
      },
      {
        "duration": 15,
        "start_time": "2022-01-14T13:48:50.406Z"
      },
      {
        "duration": 7,
        "start_time": "2022-01-14T13:48:50.423Z"
      },
      {
        "duration": 4,
        "start_time": "2022-01-14T13:48:50.432Z"
      },
      {
        "duration": 18,
        "start_time": "2022-01-14T13:48:50.438Z"
      },
      {
        "duration": 48,
        "start_time": "2022-01-14T13:48:50.458Z"
      },
      {
        "duration": 6,
        "start_time": "2022-01-14T13:48:50.507Z"
      },
      {
        "duration": 6063,
        "start_time": "2022-01-14T13:48:50.515Z"
      },
      {
        "duration": 26,
        "start_time": "2022-01-14T13:48:56.580Z"
      },
      {
        "duration": 24,
        "start_time": "2022-01-14T13:48:56.608Z"
      },
      {
        "duration": 3,
        "start_time": "2022-01-14T13:48:56.634Z"
      },
      {
        "duration": 371,
        "start_time": "2022-01-14T13:48:56.639Z"
      },
      {
        "duration": 692,
        "start_time": "2022-01-14T13:48:57.013Z"
      },
      {
        "duration": 9,
        "start_time": "2022-01-14T13:48:57.708Z"
      },
      {
        "duration": 6,
        "start_time": "2022-01-14T13:48:57.719Z"
      },
      {
        "duration": 9,
        "start_time": "2022-01-14T13:48:57.727Z"
      },
      {
        "duration": 62,
        "start_time": "2022-01-14T13:48:57.737Z"
      },
      {
        "duration": 9,
        "start_time": "2022-01-14T13:48:57.801Z"
      },
      {
        "duration": 22,
        "start_time": "2022-01-14T13:48:57.812Z"
      },
      {
        "duration": 8,
        "start_time": "2022-01-14T13:48:57.836Z"
      },
      {
        "duration": 53,
        "start_time": "2022-01-14T13:48:57.845Z"
      },
      {
        "duration": 9,
        "start_time": "2022-01-14T13:48:57.900Z"
      },
      {
        "duration": 1094,
        "start_time": "2022-01-14T13:48:57.911Z"
      },
      {
        "duration": 19,
        "start_time": "2022-01-14T13:48:59.007Z"
      },
      {
        "duration": 18,
        "start_time": "2022-01-14T13:48:59.028Z"
      },
      {
        "duration": 15,
        "start_time": "2022-01-14T13:48:59.047Z"
      },
      {
        "duration": 44,
        "start_time": "2022-01-14T13:48:59.064Z"
      },
      {
        "duration": 996,
        "start_time": "2022-01-14T13:48:59.110Z"
      },
      {
        "duration": 4,
        "start_time": "2022-01-14T13:49:00.108Z"
      },
      {
        "duration": 495,
        "start_time": "2022-01-14T13:49:00.113Z"
      },
      {
        "duration": 161,
        "start_time": "2022-01-14T13:49:00.610Z"
      },
      {
        "duration": 8,
        "start_time": "2022-01-14T13:49:00.773Z"
      },
      {
        "duration": 15,
        "start_time": "2022-01-14T13:49:00.783Z"
      },
      {
        "duration": 13,
        "start_time": "2022-01-14T13:49:00.800Z"
      },
      {
        "duration": 22,
        "start_time": "2022-01-14T13:49:00.815Z"
      },
      {
        "duration": 24,
        "start_time": "2022-01-14T13:49:00.839Z"
      },
      {
        "duration": 8,
        "start_time": "2022-01-14T13:49:00.865Z"
      },
      {
        "duration": 378,
        "start_time": "2022-01-14T13:49:00.874Z"
      },
      {
        "duration": 11,
        "start_time": "2022-01-14T13:49:01.254Z"
      },
      {
        "duration": 4,
        "start_time": "2022-01-14T13:49:01.267Z"
      },
      {
        "duration": 22,
        "start_time": "2022-01-14T13:49:01.272Z"
      },
      {
        "duration": 4683,
        "start_time": "2022-01-14T13:49:01.296Z"
      },
      {
        "duration": 21,
        "start_time": "2022-01-14T13:49:05.980Z"
      },
      {
        "duration": 277,
        "start_time": "2022-01-14T13:49:06.002Z"
      },
      {
        "duration": 226,
        "start_time": "2022-01-14T13:49:06.281Z"
      },
      {
        "duration": 217,
        "start_time": "2022-01-14T13:49:06.509Z"
      },
      {
        "duration": 237,
        "start_time": "2022-01-14T13:49:06.727Z"
      },
      {
        "duration": 6,
        "start_time": "2022-01-14T13:49:06.966Z"
      },
      {
        "duration": 14,
        "start_time": "2022-01-14T13:49:06.973Z"
      },
      {
        "duration": 21,
        "start_time": "2022-01-14T13:49:06.998Z"
      },
      {
        "duration": 12,
        "start_time": "2022-01-14T13:49:07.021Z"
      },
      {
        "duration": 264,
        "start_time": "2022-01-14T13:49:07.035Z"
      },
      {
        "duration": 6,
        "start_time": "2022-01-14T13:49:07.301Z"
      },
      {
        "duration": 198,
        "start_time": "2022-01-14T13:49:07.309Z"
      },
      {
        "duration": 214,
        "start_time": "2022-01-14T13:49:07.509Z"
      },
      {
        "duration": 226,
        "start_time": "2022-01-14T13:49:07.725Z"
      },
      {
        "duration": 232,
        "start_time": "2022-01-14T13:49:07.953Z"
      },
      {
        "duration": 228,
        "start_time": "2022-01-14T13:49:08.190Z"
      },
      {
        "duration": 237,
        "start_time": "2022-01-14T13:49:08.420Z"
      },
      {
        "duration": 1059,
        "start_time": "2022-01-14T13:49:08.659Z"
      },
      {
        "duration": 636,
        "start_time": "2022-01-14T13:53:42.745Z"
      },
      {
        "duration": 109,
        "start_time": "2022-01-14T13:53:43.383Z"
      },
      {
        "duration": 17,
        "start_time": "2022-01-14T13:53:43.495Z"
      },
      {
        "duration": 11,
        "start_time": "2022-01-14T13:53:43.514Z"
      },
      {
        "duration": 9,
        "start_time": "2022-01-14T13:53:43.527Z"
      },
      {
        "duration": 14,
        "start_time": "2022-01-14T13:53:43.537Z"
      },
      {
        "duration": 14,
        "start_time": "2022-01-14T13:53:43.552Z"
      },
      {
        "duration": 55,
        "start_time": "2022-01-14T13:53:43.570Z"
      },
      {
        "duration": 3,
        "start_time": "2022-01-14T13:53:43.627Z"
      },
      {
        "duration": 8,
        "start_time": "2022-01-14T13:53:43.632Z"
      },
      {
        "duration": 6,
        "start_time": "2022-01-14T13:53:43.642Z"
      },
      {
        "duration": 14,
        "start_time": "2022-01-14T13:53:43.650Z"
      },
      {
        "duration": 6,
        "start_time": "2022-01-14T13:53:43.666Z"
      },
      {
        "duration": 29,
        "start_time": "2022-01-14T13:53:43.673Z"
      },
      {
        "duration": 25,
        "start_time": "2022-01-14T13:53:43.704Z"
      },
      {
        "duration": 19,
        "start_time": "2022-01-14T13:53:43.731Z"
      },
      {
        "duration": 7,
        "start_time": "2022-01-14T13:53:43.751Z"
      },
      {
        "duration": 6329,
        "start_time": "2022-01-14T13:53:43.760Z"
      },
      {
        "duration": 26,
        "start_time": "2022-01-14T13:53:50.090Z"
      },
      {
        "duration": 30,
        "start_time": "2022-01-14T13:53:50.117Z"
      },
      {
        "duration": 3,
        "start_time": "2022-01-14T13:53:50.149Z"
      },
      {
        "duration": 396,
        "start_time": "2022-01-14T13:53:50.154Z"
      },
      {
        "duration": 714,
        "start_time": "2022-01-14T13:53:50.554Z"
      },
      {
        "duration": 10,
        "start_time": "2022-01-14T13:53:51.271Z"
      },
      {
        "duration": 23,
        "start_time": "2022-01-14T13:53:51.283Z"
      },
      {
        "duration": 18,
        "start_time": "2022-01-14T13:53:51.308Z"
      },
      {
        "duration": 63,
        "start_time": "2022-01-14T13:53:51.328Z"
      },
      {
        "duration": 9,
        "start_time": "2022-01-14T13:53:51.393Z"
      },
      {
        "duration": 32,
        "start_time": "2022-01-14T13:53:51.404Z"
      },
      {
        "duration": 13,
        "start_time": "2022-01-14T13:53:51.438Z"
      },
      {
        "duration": 24,
        "start_time": "2022-01-14T13:53:51.453Z"
      },
      {
        "duration": 11,
        "start_time": "2022-01-14T13:53:51.479Z"
      },
      {
        "duration": 1161,
        "start_time": "2022-01-14T13:53:51.492Z"
      },
      {
        "duration": 20,
        "start_time": "2022-01-14T13:53:52.655Z"
      },
      {
        "duration": 33,
        "start_time": "2022-01-14T13:53:52.677Z"
      },
      {
        "duration": 16,
        "start_time": "2022-01-14T13:53:52.712Z"
      },
      {
        "duration": 16,
        "start_time": "2022-01-14T13:53:52.730Z"
      },
      {
        "duration": 1095,
        "start_time": "2022-01-14T13:53:52.748Z"
      },
      {
        "duration": 4,
        "start_time": "2022-01-14T13:53:53.846Z"
      },
      {
        "duration": 504,
        "start_time": "2022-01-14T13:53:53.852Z"
      },
      {
        "duration": 179,
        "start_time": "2022-01-14T13:53:54.359Z"
      },
      {
        "duration": 11,
        "start_time": "2022-01-14T13:53:54.540Z"
      },
      {
        "duration": 8,
        "start_time": "2022-01-14T13:53:54.553Z"
      },
      {
        "duration": 41,
        "start_time": "2022-01-14T13:53:54.563Z"
      },
      {
        "duration": 16,
        "start_time": "2022-01-14T13:53:54.606Z"
      },
      {
        "duration": 11,
        "start_time": "2022-01-14T13:53:54.624Z"
      },
      {
        "duration": 8,
        "start_time": "2022-01-14T13:53:54.637Z"
      },
      {
        "duration": 428,
        "start_time": "2022-01-14T13:53:54.647Z"
      },
      {
        "duration": 11,
        "start_time": "2022-01-14T13:53:55.077Z"
      },
      {
        "duration": 10,
        "start_time": "2022-01-14T13:53:55.090Z"
      },
      {
        "duration": 17,
        "start_time": "2022-01-14T13:53:55.102Z"
      },
      {
        "duration": 5135,
        "start_time": "2022-01-14T13:53:55.120Z"
      },
      {
        "duration": 11,
        "start_time": "2022-01-14T13:54:00.257Z"
      },
      {
        "duration": 308,
        "start_time": "2022-01-14T13:54:00.270Z"
      },
      {
        "duration": 239,
        "start_time": "2022-01-14T13:54:00.579Z"
      },
      {
        "duration": 240,
        "start_time": "2022-01-14T13:54:00.820Z"
      },
      {
        "duration": 259,
        "start_time": "2022-01-14T13:54:01.062Z"
      },
      {
        "duration": 6,
        "start_time": "2022-01-14T13:54:01.323Z"
      },
      {
        "duration": 12,
        "start_time": "2022-01-14T13:54:01.330Z"
      },
      {
        "duration": 24,
        "start_time": "2022-01-14T13:54:01.343Z"
      },
      {
        "duration": 41,
        "start_time": "2022-01-14T13:54:01.368Z"
      },
      {
        "duration": 244,
        "start_time": "2022-01-14T13:54:01.412Z"
      },
      {
        "duration": 7,
        "start_time": "2022-01-14T13:54:01.658Z"
      },
      {
        "duration": 250,
        "start_time": "2022-01-14T13:54:01.667Z"
      },
      {
        "duration": 253,
        "start_time": "2022-01-14T13:54:01.920Z"
      },
      {
        "duration": 253,
        "start_time": "2022-01-14T13:54:02.175Z"
      },
      {
        "duration": 254,
        "start_time": "2022-01-14T13:54:02.430Z"
      },
      {
        "duration": 235,
        "start_time": "2022-01-14T13:54:02.697Z"
      },
      {
        "duration": 251,
        "start_time": "2022-01-14T13:54:02.934Z"
      },
      {
        "duration": 1179,
        "start_time": "2022-01-14T13:54:03.187Z"
      },
      {
        "duration": 214,
        "start_time": "2022-01-14T13:54:27.716Z"
      },
      {
        "duration": 228,
        "start_time": "2022-01-14T13:54:40.320Z"
      },
      {
        "duration": 617,
        "start_time": "2022-01-14T13:59:03.831Z"
      },
      {
        "duration": 103,
        "start_time": "2022-01-14T13:59:04.451Z"
      },
      {
        "duration": 13,
        "start_time": "2022-01-14T13:59:04.560Z"
      },
      {
        "duration": 29,
        "start_time": "2022-01-14T13:59:04.575Z"
      },
      {
        "duration": 10,
        "start_time": "2022-01-14T13:59:04.606Z"
      },
      {
        "duration": 14,
        "start_time": "2022-01-14T13:59:04.618Z"
      },
      {
        "duration": 15,
        "start_time": "2022-01-14T13:59:04.636Z"
      },
      {
        "duration": 46,
        "start_time": "2022-01-14T13:59:04.653Z"
      },
      {
        "duration": 5,
        "start_time": "2022-01-14T13:59:04.701Z"
      },
      {
        "duration": 13,
        "start_time": "2022-01-14T13:59:04.708Z"
      },
      {
        "duration": 9,
        "start_time": "2022-01-14T13:59:04.723Z"
      },
      {
        "duration": 16,
        "start_time": "2022-01-14T13:59:04.734Z"
      },
      {
        "duration": 7,
        "start_time": "2022-01-14T13:59:04.752Z"
      },
      {
        "duration": 37,
        "start_time": "2022-01-14T13:59:04.761Z"
      },
      {
        "duration": 18,
        "start_time": "2022-01-14T13:59:04.801Z"
      },
      {
        "duration": 23,
        "start_time": "2022-01-14T13:59:04.821Z"
      },
      {
        "duration": 5,
        "start_time": "2022-01-14T13:59:04.846Z"
      },
      {
        "duration": 6096,
        "start_time": "2022-01-14T13:59:04.852Z"
      },
      {
        "duration": 22,
        "start_time": "2022-01-14T13:59:10.950Z"
      },
      {
        "duration": 34,
        "start_time": "2022-01-14T13:59:10.974Z"
      },
      {
        "duration": 4,
        "start_time": "2022-01-14T13:59:11.009Z"
      },
      {
        "duration": 361,
        "start_time": "2022-01-14T13:59:11.017Z"
      },
      {
        "duration": 695,
        "start_time": "2022-01-14T13:59:11.380Z"
      },
      {
        "duration": 12,
        "start_time": "2022-01-14T13:59:12.077Z"
      },
      {
        "duration": 8,
        "start_time": "2022-01-14T13:59:12.098Z"
      },
      {
        "duration": 11,
        "start_time": "2022-01-14T13:59:12.108Z"
      },
      {
        "duration": 63,
        "start_time": "2022-01-14T13:59:12.121Z"
      },
      {
        "duration": 10,
        "start_time": "2022-01-14T13:59:12.199Z"
      },
      {
        "duration": 29,
        "start_time": "2022-01-14T13:59:12.211Z"
      },
      {
        "duration": 7,
        "start_time": "2022-01-14T13:59:12.242Z"
      },
      {
        "duration": 33,
        "start_time": "2022-01-14T13:59:12.251Z"
      },
      {
        "duration": 26,
        "start_time": "2022-01-14T13:59:12.285Z"
      },
      {
        "duration": 1168,
        "start_time": "2022-01-14T13:59:12.313Z"
      },
      {
        "duration": 2,
        "start_time": "2022-01-14T13:59:13.483Z"
      },
      {
        "duration": 11,
        "start_time": "2022-01-14T13:59:13.487Z"
      },
      {
        "duration": 22,
        "start_time": "2022-01-14T13:59:13.500Z"
      },
      {
        "duration": 10,
        "start_time": "2022-01-14T13:59:13.524Z"
      },
      {
        "duration": 70,
        "start_time": "2022-01-14T13:59:13.535Z"
      },
      {
        "duration": 1040,
        "start_time": "2022-01-14T13:59:13.607Z"
      },
      {
        "duration": 4,
        "start_time": "2022-01-14T13:59:14.649Z"
      },
      {
        "duration": 521,
        "start_time": "2022-01-14T13:59:14.655Z"
      },
      {
        "duration": 183,
        "start_time": "2022-01-14T13:59:15.178Z"
      },
      {
        "duration": 9,
        "start_time": "2022-01-14T13:59:15.362Z"
      },
      {
        "duration": 26,
        "start_time": "2022-01-14T13:59:15.373Z"
      },
      {
        "duration": 9,
        "start_time": "2022-01-14T13:59:15.401Z"
      },
      {
        "duration": 31,
        "start_time": "2022-01-14T13:59:15.412Z"
      },
      {
        "duration": 14,
        "start_time": "2022-01-14T13:59:15.444Z"
      },
      {
        "duration": 23,
        "start_time": "2022-01-14T13:59:15.460Z"
      },
      {
        "duration": 415,
        "start_time": "2022-01-14T13:59:15.485Z"
      },
      {
        "duration": 15,
        "start_time": "2022-01-14T13:59:15.903Z"
      },
      {
        "duration": 27,
        "start_time": "2022-01-14T13:59:15.919Z"
      },
      {
        "duration": 31,
        "start_time": "2022-01-14T13:59:15.947Z"
      },
      {
        "duration": 4776,
        "start_time": "2022-01-14T13:59:15.980Z"
      },
      {
        "duration": 10,
        "start_time": "2022-01-14T13:59:20.758Z"
      },
      {
        "duration": 294,
        "start_time": "2022-01-14T13:59:20.770Z"
      },
      {
        "duration": 248,
        "start_time": "2022-01-14T13:59:21.065Z"
      },
      {
        "duration": 241,
        "start_time": "2022-01-14T13:59:21.319Z"
      },
      {
        "duration": 248,
        "start_time": "2022-01-14T13:59:21.562Z"
      },
      {
        "duration": 6,
        "start_time": "2022-01-14T13:59:21.812Z"
      },
      {
        "duration": 11,
        "start_time": "2022-01-14T13:59:21.820Z"
      },
      {
        "duration": 55,
        "start_time": "2022-01-14T13:59:21.832Z"
      },
      {
        "duration": 12,
        "start_time": "2022-01-14T13:59:21.890Z"
      },
      {
        "duration": 228,
        "start_time": "2022-01-14T13:59:21.904Z"
      },
      {
        "duration": 7,
        "start_time": "2022-01-14T13:59:22.134Z"
      },
      {
        "duration": 229,
        "start_time": "2022-01-14T13:59:22.142Z"
      },
      {
        "duration": 228,
        "start_time": "2022-01-14T13:59:22.373Z"
      },
      {
        "duration": 239,
        "start_time": "2022-01-14T13:59:22.605Z"
      },
      {
        "duration": 232,
        "start_time": "2022-01-14T13:59:22.846Z"
      },
      {
        "duration": 230,
        "start_time": "2022-01-14T13:59:23.080Z"
      },
      {
        "duration": 219,
        "start_time": "2022-01-14T13:59:23.311Z"
      },
      {
        "duration": 1095,
        "start_time": "2022-01-14T13:59:23.532Z"
      },
      {
        "duration": 858,
        "start_time": "2022-01-15T03:01:05.612Z"
      },
      {
        "duration": 91,
        "start_time": "2022-01-15T03:01:06.472Z"
      },
      {
        "duration": 10,
        "start_time": "2022-01-15T03:01:06.566Z"
      },
      {
        "duration": 9,
        "start_time": "2022-01-15T03:01:06.578Z"
      },
      {
        "duration": 8,
        "start_time": "2022-01-15T03:01:06.589Z"
      },
      {
        "duration": 36,
        "start_time": "2022-01-15T03:01:06.598Z"
      },
      {
        "duration": 13,
        "start_time": "2022-01-15T03:01:06.636Z"
      },
      {
        "duration": 16,
        "start_time": "2022-01-15T03:01:06.652Z"
      },
      {
        "duration": 4,
        "start_time": "2022-01-15T03:01:06.671Z"
      },
      {
        "duration": 6,
        "start_time": "2022-01-15T03:01:06.677Z"
      },
      {
        "duration": 7,
        "start_time": "2022-01-15T03:01:06.685Z"
      },
      {
        "duration": 41,
        "start_time": "2022-01-15T03:01:06.694Z"
      },
      {
        "duration": 6,
        "start_time": "2022-01-15T03:01:06.737Z"
      },
      {
        "duration": 5,
        "start_time": "2022-01-15T03:01:06.744Z"
      },
      {
        "duration": 15,
        "start_time": "2022-01-15T03:01:06.750Z"
      },
      {
        "duration": 15,
        "start_time": "2022-01-15T03:01:06.766Z"
      },
      {
        "duration": 5,
        "start_time": "2022-01-15T03:01:06.782Z"
      },
      {
        "duration": 5192,
        "start_time": "2022-01-15T03:01:06.788Z"
      },
      {
        "duration": 21,
        "start_time": "2022-01-15T03:01:11.982Z"
      },
      {
        "duration": 36,
        "start_time": "2022-01-15T03:01:12.004Z"
      },
      {
        "duration": 4,
        "start_time": "2022-01-15T03:01:12.042Z"
      },
      {
        "duration": 321,
        "start_time": "2022-01-15T03:01:12.048Z"
      },
      {
        "duration": 579,
        "start_time": "2022-01-15T03:01:12.374Z"
      },
      {
        "duration": 9,
        "start_time": "2022-01-15T03:01:12.956Z"
      },
      {
        "duration": 6,
        "start_time": "2022-01-15T03:01:12.967Z"
      },
      {
        "duration": 8,
        "start_time": "2022-01-15T03:01:12.975Z"
      },
      {
        "duration": 62,
        "start_time": "2022-01-15T03:01:12.985Z"
      },
      {
        "duration": 8,
        "start_time": "2022-01-15T03:01:13.049Z"
      },
      {
        "duration": 19,
        "start_time": "2022-01-15T03:01:13.058Z"
      },
      {
        "duration": 7,
        "start_time": "2022-01-15T03:01:13.079Z"
      },
      {
        "duration": 51,
        "start_time": "2022-01-15T03:01:13.088Z"
      },
      {
        "duration": 8,
        "start_time": "2022-01-15T03:01:13.141Z"
      },
      {
        "duration": 855,
        "start_time": "2022-01-15T03:01:13.151Z"
      },
      {
        "duration": 3,
        "start_time": "2022-01-15T03:01:14.008Z"
      },
      {
        "duration": 15,
        "start_time": "2022-01-15T03:01:14.013Z"
      },
      {
        "duration": 5,
        "start_time": "2022-01-15T03:01:14.029Z"
      },
      {
        "duration": 4,
        "start_time": "2022-01-15T03:01:14.035Z"
      },
      {
        "duration": 60,
        "start_time": "2022-01-15T03:01:14.041Z"
      },
      {
        "duration": 834,
        "start_time": "2022-01-15T03:01:14.103Z"
      },
      {
        "duration": 3,
        "start_time": "2022-01-15T03:01:14.939Z"
      },
      {
        "duration": 357,
        "start_time": "2022-01-15T03:01:14.943Z"
      },
      {
        "duration": 127,
        "start_time": "2022-01-15T03:01:15.302Z"
      },
      {
        "duration": 8,
        "start_time": "2022-01-15T03:01:15.430Z"
      },
      {
        "duration": 6,
        "start_time": "2022-01-15T03:01:15.439Z"
      },
      {
        "duration": 11,
        "start_time": "2022-01-15T03:01:15.446Z"
      },
      {
        "duration": 7,
        "start_time": "2022-01-15T03:01:15.458Z"
      },
      {
        "duration": 303,
        "start_time": "2022-01-15T03:01:15.466Z"
      },
      {
        "duration": 10,
        "start_time": "2022-01-15T03:01:15.771Z"
      },
      {
        "duration": 4,
        "start_time": "2022-01-15T03:01:15.782Z"
      },
      {
        "duration": 10,
        "start_time": "2022-01-15T03:01:15.787Z"
      },
      {
        "duration": 4584,
        "start_time": "2022-01-15T03:01:15.799Z"
      },
      {
        "duration": 12,
        "start_time": "2022-01-15T03:01:20.384Z"
      },
      {
        "duration": 223,
        "start_time": "2022-01-15T03:01:20.397Z"
      },
      {
        "duration": 168,
        "start_time": "2022-01-15T03:01:20.622Z"
      },
      {
        "duration": 176,
        "start_time": "2022-01-15T03:01:20.791Z"
      },
      {
        "duration": 185,
        "start_time": "2022-01-15T03:01:20.968Z"
      },
      {
        "duration": 5,
        "start_time": "2022-01-15T03:01:21.154Z"
      },
      {
        "duration": 7,
        "start_time": "2022-01-15T03:01:21.161Z"
      },
      {
        "duration": 20,
        "start_time": "2022-01-15T03:01:21.169Z"
      },
      {
        "duration": 11,
        "start_time": "2022-01-15T03:01:21.191Z"
      },
      {
        "duration": 196,
        "start_time": "2022-01-15T03:01:21.203Z"
      },
      {
        "duration": 6,
        "start_time": "2022-01-15T03:01:21.400Z"
      },
      {
        "duration": 152,
        "start_time": "2022-01-15T03:01:21.407Z"
      },
      {
        "duration": 171,
        "start_time": "2022-01-15T03:01:21.560Z"
      },
      {
        "duration": 189,
        "start_time": "2022-01-15T03:01:21.732Z"
      },
      {
        "duration": 175,
        "start_time": "2022-01-15T03:01:21.922Z"
      },
      {
        "duration": 185,
        "start_time": "2022-01-15T03:01:22.098Z"
      },
      {
        "duration": 188,
        "start_time": "2022-01-15T03:01:22.288Z"
      },
      {
        "duration": 789,
        "start_time": "2022-01-15T03:01:22.477Z"
      },
      {
        "duration": 168,
        "start_time": "2022-01-15T03:08:11.939Z"
      },
      {
        "duration": 884,
        "start_time": "2022-01-15T13:52:28.129Z"
      },
      {
        "duration": 125,
        "start_time": "2022-01-15T13:52:29.016Z"
      },
      {
        "duration": 23,
        "start_time": "2022-01-15T13:52:29.144Z"
      },
      {
        "duration": 12,
        "start_time": "2022-01-15T13:52:29.170Z"
      },
      {
        "duration": 11,
        "start_time": "2022-01-15T13:52:29.184Z"
      },
      {
        "duration": 15,
        "start_time": "2022-01-15T13:52:29.197Z"
      },
      {
        "duration": 53,
        "start_time": "2022-01-15T13:52:29.214Z"
      },
      {
        "duration": 28,
        "start_time": "2022-01-15T13:52:29.271Z"
      },
      {
        "duration": 5,
        "start_time": "2022-01-15T13:52:29.303Z"
      },
      {
        "duration": 11,
        "start_time": "2022-01-15T13:52:29.311Z"
      },
      {
        "duration": 42,
        "start_time": "2022-01-15T13:52:29.324Z"
      },
      {
        "duration": 18,
        "start_time": "2022-01-15T13:52:29.368Z"
      },
      {
        "duration": 7,
        "start_time": "2022-01-15T13:52:29.389Z"
      },
      {
        "duration": 5,
        "start_time": "2022-01-15T13:52:29.398Z"
      },
      {
        "duration": 59,
        "start_time": "2022-01-15T13:52:29.405Z"
      },
      {
        "duration": 21,
        "start_time": "2022-01-15T13:52:29.467Z"
      },
      {
        "duration": 5,
        "start_time": "2022-01-15T13:52:29.491Z"
      },
      {
        "duration": 8628,
        "start_time": "2022-01-15T13:52:29.498Z"
      },
      {
        "duration": 37,
        "start_time": "2022-01-15T13:52:38.128Z"
      },
      {
        "duration": 37,
        "start_time": "2022-01-15T13:52:38.167Z"
      },
      {
        "duration": 5,
        "start_time": "2022-01-15T13:52:38.206Z"
      },
      {
        "duration": 553,
        "start_time": "2022-01-15T13:52:38.214Z"
      },
      {
        "duration": 1087,
        "start_time": "2022-01-15T13:52:38.772Z"
      },
      {
        "duration": 12,
        "start_time": "2022-01-15T13:52:39.863Z"
      },
      {
        "duration": 7,
        "start_time": "2022-01-15T13:52:39.877Z"
      },
      {
        "duration": 11,
        "start_time": "2022-01-15T13:52:39.886Z"
      },
      {
        "duration": 88,
        "start_time": "2022-01-15T13:52:39.900Z"
      },
      {
        "duration": 12,
        "start_time": "2022-01-15T13:52:39.990Z"
      },
      {
        "duration": 58,
        "start_time": "2022-01-15T13:52:40.004Z"
      },
      {
        "duration": 11,
        "start_time": "2022-01-15T13:52:40.064Z"
      },
      {
        "duration": 35,
        "start_time": "2022-01-15T13:52:40.077Z"
      },
      {
        "duration": 44,
        "start_time": "2022-01-15T13:52:40.115Z"
      },
      {
        "duration": 1500,
        "start_time": "2022-01-15T13:52:40.162Z"
      },
      {
        "duration": 4,
        "start_time": "2022-01-15T13:52:41.664Z"
      },
      {
        "duration": 6,
        "start_time": "2022-01-15T13:52:41.670Z"
      },
      {
        "duration": 4,
        "start_time": "2022-01-15T13:52:41.678Z"
      },
      {
        "duration": 5,
        "start_time": "2022-01-15T13:52:41.685Z"
      },
      {
        "duration": 90,
        "start_time": "2022-01-15T13:52:41.693Z"
      },
      {
        "duration": 1363,
        "start_time": "2022-01-15T13:52:41.785Z"
      },
      {
        "duration": 11,
        "start_time": "2022-01-15T13:52:43.150Z"
      },
      {
        "duration": 589,
        "start_time": "2022-01-15T13:52:43.163Z"
      },
      {
        "duration": 227,
        "start_time": "2022-01-15T13:52:43.755Z"
      },
      {
        "duration": 12,
        "start_time": "2022-01-15T13:52:43.985Z"
      },
      {
        "duration": 11,
        "start_time": "2022-01-15T13:52:44.000Z"
      },
      {
        "duration": 47,
        "start_time": "2022-01-15T13:52:44.013Z"
      },
      {
        "duration": 13,
        "start_time": "2022-01-15T13:52:44.062Z"
      },
      {
        "duration": 626,
        "start_time": "2022-01-15T13:52:44.077Z"
      },
      {
        "duration": 17,
        "start_time": "2022-01-15T13:52:44.705Z"
      },
      {
        "duration": 6,
        "start_time": "2022-01-15T13:52:44.725Z"
      },
      {
        "duration": 38,
        "start_time": "2022-01-15T13:52:44.734Z"
      },
      {
        "duration": 7522,
        "start_time": "2022-01-15T13:52:44.775Z"
      },
      {
        "duration": 17,
        "start_time": "2022-01-15T13:52:52.299Z"
      },
      {
        "duration": 473,
        "start_time": "2022-01-15T13:52:52.319Z"
      },
      {
        "duration": 303,
        "start_time": "2022-01-15T13:52:52.795Z"
      },
      {
        "duration": 310,
        "start_time": "2022-01-15T13:52:53.101Z"
      },
      {
        "duration": 323,
        "start_time": "2022-01-15T13:52:53.414Z"
      },
      {
        "duration": 338,
        "start_time": "2022-01-15T13:52:53.739Z"
      },
      {
        "duration": 9,
        "start_time": "2022-01-15T13:52:54.079Z"
      },
      {
        "duration": 9,
        "start_time": "2022-01-15T13:52:54.091Z"
      },
      {
        "duration": 67,
        "start_time": "2022-01-15T13:52:54.103Z"
      },
      {
        "duration": 20,
        "start_time": "2022-01-15T13:52:54.173Z"
      },
      {
        "duration": 342,
        "start_time": "2022-01-15T13:52:54.197Z"
      },
      {
        "duration": 17,
        "start_time": "2022-01-15T13:52:54.543Z"
      },
      {
        "duration": 298,
        "start_time": "2022-01-15T13:52:54.564Z"
      },
      {
        "duration": 414,
        "start_time": "2022-01-15T13:52:54.865Z"
      },
      {
        "duration": 321,
        "start_time": "2022-01-15T13:52:55.281Z"
      },
      {
        "duration": 320,
        "start_time": "2022-01-15T13:52:55.605Z"
      },
      {
        "duration": 334,
        "start_time": "2022-01-15T13:52:55.933Z"
      },
      {
        "duration": 400,
        "start_time": "2022-01-15T13:52:56.270Z"
      },
      {
        "duration": 1374,
        "start_time": "2022-01-15T13:52:56.673Z"
      },
      {
        "duration": 835,
        "start_time": "2022-01-15T13:54:02.229Z"
      },
      {
        "duration": 130,
        "start_time": "2022-01-15T13:54:03.066Z"
      },
      {
        "duration": 16,
        "start_time": "2022-01-15T13:54:03.200Z"
      },
      {
        "duration": 13,
        "start_time": "2022-01-15T13:54:03.219Z"
      },
      {
        "duration": 13,
        "start_time": "2022-01-15T13:54:03.260Z"
      },
      {
        "duration": 21,
        "start_time": "2022-01-15T13:54:03.275Z"
      },
      {
        "duration": 18,
        "start_time": "2022-01-15T13:54:03.298Z"
      },
      {
        "duration": 53,
        "start_time": "2022-01-15T13:54:03.320Z"
      },
      {
        "duration": 6,
        "start_time": "2022-01-15T13:54:03.376Z"
      },
      {
        "duration": 9,
        "start_time": "2022-01-15T13:54:03.385Z"
      },
      {
        "duration": 8,
        "start_time": "2022-01-15T13:54:03.397Z"
      },
      {
        "duration": 51,
        "start_time": "2022-01-15T13:54:03.408Z"
      },
      {
        "duration": 8,
        "start_time": "2022-01-15T13:54:03.462Z"
      },
      {
        "duration": 6,
        "start_time": "2022-01-15T13:54:03.472Z"
      },
      {
        "duration": 24,
        "start_time": "2022-01-15T13:54:03.480Z"
      },
      {
        "duration": 57,
        "start_time": "2022-01-15T13:54:03.506Z"
      },
      {
        "duration": 6,
        "start_time": "2022-01-15T13:54:03.565Z"
      },
      {
        "duration": 8810,
        "start_time": "2022-01-15T13:54:03.573Z"
      },
      {
        "duration": 29,
        "start_time": "2022-01-15T13:54:12.385Z"
      },
      {
        "duration": 52,
        "start_time": "2022-01-15T13:54:12.416Z"
      },
      {
        "duration": 5,
        "start_time": "2022-01-15T13:54:12.470Z"
      },
      {
        "duration": 636,
        "start_time": "2022-01-15T13:54:12.477Z"
      },
      {
        "duration": 1033,
        "start_time": "2022-01-15T13:54:13.119Z"
      },
      {
        "duration": 11,
        "start_time": "2022-01-15T13:54:14.156Z"
      },
      {
        "duration": 7,
        "start_time": "2022-01-15T13:54:14.170Z"
      },
      {
        "duration": 11,
        "start_time": "2022-01-15T13:54:14.180Z"
      },
      {
        "duration": 93,
        "start_time": "2022-01-15T13:54:14.194Z"
      },
      {
        "duration": 12,
        "start_time": "2022-01-15T13:54:14.289Z"
      },
      {
        "duration": 59,
        "start_time": "2022-01-15T13:54:14.303Z"
      },
      {
        "duration": 12,
        "start_time": "2022-01-15T13:54:14.364Z"
      },
      {
        "duration": 35,
        "start_time": "2022-01-15T13:54:14.379Z"
      },
      {
        "duration": 44,
        "start_time": "2022-01-15T13:54:14.416Z"
      },
      {
        "duration": 1529,
        "start_time": "2022-01-15T13:54:14.463Z"
      },
      {
        "duration": 3,
        "start_time": "2022-01-15T13:54:15.994Z"
      },
      {
        "duration": 5,
        "start_time": "2022-01-15T13:54:15.999Z"
      },
      {
        "duration": 5,
        "start_time": "2022-01-15T13:54:16.006Z"
      },
      {
        "duration": 5,
        "start_time": "2022-01-15T13:54:16.013Z"
      },
      {
        "duration": 101,
        "start_time": "2022-01-15T13:54:16.021Z"
      },
      {
        "duration": 1553,
        "start_time": "2022-01-15T13:54:16.125Z"
      },
      {
        "duration": 5,
        "start_time": "2022-01-15T13:54:17.680Z"
      },
      {
        "duration": 606,
        "start_time": "2022-01-15T13:54:17.687Z"
      },
      {
        "duration": 234,
        "start_time": "2022-01-15T13:54:18.295Z"
      },
      {
        "duration": 12,
        "start_time": "2022-01-15T13:54:18.531Z"
      },
      {
        "duration": 10,
        "start_time": "2022-01-15T13:54:18.560Z"
      },
      {
        "duration": 19,
        "start_time": "2022-01-15T13:54:18.573Z"
      },
      {
        "duration": 11,
        "start_time": "2022-01-15T13:54:18.595Z"
      },
      {
        "duration": 555,
        "start_time": "2022-01-15T13:54:18.609Z"
      },
      {
        "duration": 14,
        "start_time": "2022-01-15T13:54:19.167Z"
      },
      {
        "duration": 5,
        "start_time": "2022-01-15T13:54:19.184Z"
      },
      {
        "duration": 33,
        "start_time": "2022-01-15T13:54:19.192Z"
      },
      {
        "duration": 7339,
        "start_time": "2022-01-15T13:54:19.228Z"
      },
      {
        "duration": 17,
        "start_time": "2022-01-15T13:54:26.569Z"
      },
      {
        "duration": 381,
        "start_time": "2022-01-15T13:54:26.589Z"
      },
      {
        "duration": 414,
        "start_time": "2022-01-15T13:54:26.973Z"
      },
      {
        "duration": 315,
        "start_time": "2022-01-15T13:54:27.389Z"
      },
      {
        "duration": 330,
        "start_time": "2022-01-15T13:54:27.706Z"
      },
      {
        "duration": 359,
        "start_time": "2022-01-15T13:54:28.038Z"
      },
      {
        "duration": 8,
        "start_time": "2022-01-15T13:54:28.400Z"
      },
      {
        "duration": 23,
        "start_time": "2022-01-15T13:54:28.410Z"
      },
      {
        "duration": 47,
        "start_time": "2022-01-15T13:54:28.435Z"
      },
      {
        "duration": 15,
        "start_time": "2022-01-15T13:54:28.485Z"
      },
      {
        "duration": 15,
        "start_time": "2022-01-15T13:54:28.502Z"
      },
      {
        "duration": 40,
        "start_time": "2022-01-15T13:54:28.520Z"
      },
      {
        "duration": 346,
        "start_time": "2022-01-15T13:54:28.563Z"
      },
      {
        "duration": 12,
        "start_time": "2022-01-15T13:54:28.913Z"
      },
      {
        "duration": 293,
        "start_time": "2022-01-15T13:54:28.928Z"
      },
      {
        "duration": 326,
        "start_time": "2022-01-15T13:54:29.223Z"
      },
      {
        "duration": 325,
        "start_time": "2022-01-15T13:54:29.564Z"
      },
      {
        "duration": 355,
        "start_time": "2022-01-15T13:54:29.892Z"
      },
      {
        "duration": 353,
        "start_time": "2022-01-15T13:54:30.249Z"
      },
      {
        "duration": 415,
        "start_time": "2022-01-15T13:54:30.606Z"
      },
      {
        "duration": 1412,
        "start_time": "2022-01-15T13:54:31.024Z"
      },
      {
        "duration": 589,
        "start_time": "2022-01-16T06:52:43.358Z"
      },
      {
        "duration": 95,
        "start_time": "2022-01-16T06:52:43.949Z"
      },
      {
        "duration": 10,
        "start_time": "2022-01-16T06:52:44.046Z"
      },
      {
        "duration": 8,
        "start_time": "2022-01-16T06:52:44.058Z"
      },
      {
        "duration": 24,
        "start_time": "2022-01-16T06:52:44.067Z"
      },
      {
        "duration": 12,
        "start_time": "2022-01-16T06:52:44.093Z"
      },
      {
        "duration": 13,
        "start_time": "2022-01-16T06:52:44.107Z"
      },
      {
        "duration": 17,
        "start_time": "2022-01-16T06:52:44.121Z"
      },
      {
        "duration": 4,
        "start_time": "2022-01-16T06:52:44.141Z"
      },
      {
        "duration": 6,
        "start_time": "2022-01-16T06:52:44.147Z"
      },
      {
        "duration": 37,
        "start_time": "2022-01-16T06:52:44.154Z"
      },
      {
        "duration": 14,
        "start_time": "2022-01-16T06:52:44.193Z"
      },
      {
        "duration": 6,
        "start_time": "2022-01-16T06:52:44.208Z"
      },
      {
        "duration": 5,
        "start_time": "2022-01-16T06:52:44.215Z"
      },
      {
        "duration": 15,
        "start_time": "2022-01-16T06:52:44.222Z"
      },
      {
        "duration": 15,
        "start_time": "2022-01-16T06:52:44.238Z"
      },
      {
        "duration": 6,
        "start_time": "2022-01-16T06:52:44.255Z"
      },
      {
        "duration": 5396,
        "start_time": "2022-01-16T06:52:44.262Z"
      },
      {
        "duration": 20,
        "start_time": "2022-01-16T06:52:49.660Z"
      },
      {
        "duration": 31,
        "start_time": "2022-01-16T06:52:49.681Z"
      },
      {
        "duration": 4,
        "start_time": "2022-01-16T06:52:49.714Z"
      },
      {
        "duration": 324,
        "start_time": "2022-01-16T06:52:49.720Z"
      },
      {
        "duration": 620,
        "start_time": "2022-01-16T06:52:50.046Z"
      },
      {
        "duration": 10,
        "start_time": "2022-01-16T06:52:50.668Z"
      },
      {
        "duration": 14,
        "start_time": "2022-01-16T06:52:50.680Z"
      },
      {
        "duration": 8,
        "start_time": "2022-01-16T06:52:50.696Z"
      },
      {
        "duration": 34,
        "start_time": "2022-01-16T06:52:50.708Z"
      },
      {
        "duration": 8,
        "start_time": "2022-01-16T06:52:50.745Z"
      },
      {
        "duration": 49,
        "start_time": "2022-01-16T06:52:50.754Z"
      },
      {
        "duration": 7,
        "start_time": "2022-01-16T06:52:50.804Z"
      },
      {
        "duration": 21,
        "start_time": "2022-01-16T06:52:50.813Z"
      },
      {
        "duration": 9,
        "start_time": "2022-01-16T06:52:50.836Z"
      },
      {
        "duration": 991,
        "start_time": "2022-01-16T06:52:50.846Z"
      },
      {
        "duration": 2,
        "start_time": "2022-01-16T06:52:51.839Z"
      },
      {
        "duration": 5,
        "start_time": "2022-01-16T06:52:51.843Z"
      },
      {
        "duration": 4,
        "start_time": "2022-01-16T06:52:51.850Z"
      },
      {
        "duration": 4,
        "start_time": "2022-01-16T06:52:51.856Z"
      },
      {
        "duration": 63,
        "start_time": "2022-01-16T06:52:51.861Z"
      },
      {
        "duration": 876,
        "start_time": "2022-01-16T06:52:51.926Z"
      },
      {
        "duration": 4,
        "start_time": "2022-01-16T06:52:52.803Z"
      },
      {
        "duration": 410,
        "start_time": "2022-01-16T06:52:52.809Z"
      },
      {
        "duration": 147,
        "start_time": "2022-01-16T06:52:53.221Z"
      },
      {
        "duration": 9,
        "start_time": "2022-01-16T06:52:53.369Z"
      },
      {
        "duration": 16,
        "start_time": "2022-01-16T06:52:53.380Z"
      },
      {
        "duration": 13,
        "start_time": "2022-01-16T06:52:53.397Z"
      },
      {
        "duration": 8,
        "start_time": "2022-01-16T06:52:53.412Z"
      },
      {
        "duration": 352,
        "start_time": "2022-01-16T06:52:53.421Z"
      },
      {
        "duration": 20,
        "start_time": "2022-01-16T06:52:53.774Z"
      },
      {
        "duration": 6,
        "start_time": "2022-01-16T06:52:53.795Z"
      },
      {
        "duration": 21,
        "start_time": "2022-01-16T06:52:53.803Z"
      },
      {
        "duration": 4150,
        "start_time": "2022-01-16T06:52:53.826Z"
      },
      {
        "duration": 22,
        "start_time": "2022-01-16T06:52:57.978Z"
      },
      {
        "duration": 244,
        "start_time": "2022-01-16T06:52:58.002Z"
      },
      {
        "duration": 192,
        "start_time": "2022-01-16T06:52:58.249Z"
      },
      {
        "duration": 201,
        "start_time": "2022-01-16T06:52:58.443Z"
      },
      {
        "duration": 197,
        "start_time": "2022-01-16T06:52:58.645Z"
      },
      {
        "duration": 202,
        "start_time": "2022-01-16T06:52:58.844Z"
      },
      {
        "duration": 7,
        "start_time": "2022-01-16T06:52:59.047Z"
      },
      {
        "duration": 8,
        "start_time": "2022-01-16T06:52:59.055Z"
      },
      {
        "duration": 41,
        "start_time": "2022-01-16T06:52:59.064Z"
      },
      {
        "duration": 5,
        "start_time": "2022-01-16T06:52:59.107Z"
      },
      {
        "duration": 8,
        "start_time": "2022-01-16T06:52:59.114Z"
      },
      {
        "duration": 14,
        "start_time": "2022-01-16T06:52:59.124Z"
      },
      {
        "duration": 219,
        "start_time": "2022-01-16T06:52:59.140Z"
      },
      {
        "duration": 6,
        "start_time": "2022-01-16T06:52:59.360Z"
      },
      {
        "duration": 179,
        "start_time": "2022-01-16T06:52:59.368Z"
      },
      {
        "duration": 196,
        "start_time": "2022-01-16T06:52:59.549Z"
      },
      {
        "duration": 203,
        "start_time": "2022-01-16T06:52:59.746Z"
      },
      {
        "duration": 217,
        "start_time": "2022-01-16T06:52:59.951Z"
      },
      {
        "duration": 205,
        "start_time": "2022-01-16T06:53:00.170Z"
      },
      {
        "duration": 286,
        "start_time": "2022-01-16T06:53:00.376Z"
      },
      {
        "duration": 933,
        "start_time": "2022-01-16T06:53:00.664Z"
      },
      {
        "duration": 195,
        "start_time": "2022-01-16T06:55:04.087Z"
      },
      {
        "duration": 197,
        "start_time": "2022-01-16T06:55:29.367Z"
      },
      {
        "duration": 59,
        "start_time": "2022-01-16T07:43:02.957Z"
      },
      {
        "duration": 189,
        "start_time": "2022-01-16T07:43:35.669Z"
      },
      {
        "duration": 581,
        "start_time": "2022-01-16T09:45:39.871Z"
      },
      {
        "duration": 92,
        "start_time": "2022-01-16T09:45:40.454Z"
      },
      {
        "duration": 10,
        "start_time": "2022-01-16T09:45:40.548Z"
      },
      {
        "duration": 30,
        "start_time": "2022-01-16T09:45:40.560Z"
      },
      {
        "duration": 26,
        "start_time": "2022-01-16T09:45:40.592Z"
      },
      {
        "duration": 39,
        "start_time": "2022-01-16T09:45:40.620Z"
      },
      {
        "duration": 31,
        "start_time": "2022-01-16T09:45:40.661Z"
      },
      {
        "duration": 28,
        "start_time": "2022-01-16T09:45:40.694Z"
      },
      {
        "duration": 17,
        "start_time": "2022-01-16T09:45:40.725Z"
      },
      {
        "duration": 14,
        "start_time": "2022-01-16T09:45:40.744Z"
      },
      {
        "duration": 28,
        "start_time": "2022-01-16T09:45:40.760Z"
      },
      {
        "duration": 24,
        "start_time": "2022-01-16T09:45:40.790Z"
      },
      {
        "duration": 15,
        "start_time": "2022-01-16T09:45:40.816Z"
      },
      {
        "duration": 18,
        "start_time": "2022-01-16T09:45:40.833Z"
      },
      {
        "duration": 21,
        "start_time": "2022-01-16T09:45:40.853Z"
      },
      {
        "duration": 28,
        "start_time": "2022-01-16T09:45:40.876Z"
      },
      {
        "duration": 10,
        "start_time": "2022-01-16T09:45:40.906Z"
      },
      {
        "duration": 5462,
        "start_time": "2022-01-16T09:45:40.918Z"
      },
      {
        "duration": 21,
        "start_time": "2022-01-16T09:45:46.382Z"
      },
      {
        "duration": 39,
        "start_time": "2022-01-16T09:45:46.405Z"
      },
      {
        "duration": 4,
        "start_time": "2022-01-16T09:45:46.446Z"
      },
      {
        "duration": 345,
        "start_time": "2022-01-16T09:45:46.452Z"
      },
      {
        "duration": 689,
        "start_time": "2022-01-16T09:45:46.799Z"
      },
      {
        "duration": 9,
        "start_time": "2022-01-16T09:45:47.489Z"
      },
      {
        "duration": 8,
        "start_time": "2022-01-16T09:45:47.500Z"
      },
      {
        "duration": 13,
        "start_time": "2022-01-16T09:45:47.509Z"
      },
      {
        "duration": 50,
        "start_time": "2022-01-16T09:45:47.526Z"
      },
      {
        "duration": 8,
        "start_time": "2022-01-16T09:45:47.579Z"
      },
      {
        "duration": 20,
        "start_time": "2022-01-16T09:45:47.589Z"
      },
      {
        "duration": 31,
        "start_time": "2022-01-16T09:45:47.611Z"
      },
      {
        "duration": 21,
        "start_time": "2022-01-16T09:45:47.643Z"
      },
      {
        "duration": 8,
        "start_time": "2022-01-16T09:45:47.666Z"
      },
      {
        "duration": 900,
        "start_time": "2022-01-16T09:45:47.675Z"
      },
      {
        "duration": 2,
        "start_time": "2022-01-16T09:45:48.577Z"
      },
      {
        "duration": 5,
        "start_time": "2022-01-16T09:45:48.581Z"
      },
      {
        "duration": 4,
        "start_time": "2022-01-16T09:45:48.587Z"
      },
      {
        "duration": 5,
        "start_time": "2022-01-16T09:45:48.593Z"
      },
      {
        "duration": 69,
        "start_time": "2022-01-16T09:45:48.599Z"
      },
      {
        "duration": 786,
        "start_time": "2022-01-16T09:45:48.670Z"
      },
      {
        "duration": 3,
        "start_time": "2022-01-16T09:45:49.458Z"
      },
      {
        "duration": 379,
        "start_time": "2022-01-16T09:45:49.463Z"
      },
      {
        "duration": 135,
        "start_time": "2022-01-16T09:45:49.844Z"
      },
      {
        "duration": 8,
        "start_time": "2022-01-16T09:45:49.980Z"
      },
      {
        "duration": 6,
        "start_time": "2022-01-16T09:45:49.990Z"
      },
      {
        "duration": 12,
        "start_time": "2022-01-16T09:45:49.998Z"
      },
      {
        "duration": 31,
        "start_time": "2022-01-16T09:45:50.011Z"
      },
      {
        "duration": 301,
        "start_time": "2022-01-16T09:45:50.044Z"
      },
      {
        "duration": 10,
        "start_time": "2022-01-16T09:45:50.347Z"
      },
      {
        "duration": 3,
        "start_time": "2022-01-16T09:45:50.359Z"
      },
      {
        "duration": 11,
        "start_time": "2022-01-16T09:45:50.364Z"
      },
      {
        "duration": 4865,
        "start_time": "2022-01-16T09:45:50.377Z"
      },
      {
        "duration": 10,
        "start_time": "2022-01-16T09:45:55.244Z"
      },
      {
        "duration": 237,
        "start_time": "2022-01-16T09:45:55.256Z"
      },
      {
        "duration": 187,
        "start_time": "2022-01-16T09:45:55.495Z"
      },
      {
        "duration": 181,
        "start_time": "2022-01-16T09:45:55.684Z"
      },
      {
        "duration": 192,
        "start_time": "2022-01-16T09:45:55.867Z"
      },
      {
        "duration": 198,
        "start_time": "2022-01-16T09:45:56.061Z"
      },
      {
        "duration": 186,
        "start_time": "2022-01-16T09:45:56.260Z"
      },
      {
        "duration": 7,
        "start_time": "2022-01-16T09:45:56.448Z"
      },
      {
        "duration": 22,
        "start_time": "2022-01-16T09:45:56.456Z"
      },
      {
        "duration": 6,
        "start_time": "2022-01-16T09:45:56.479Z"
      },
      {
        "duration": 8,
        "start_time": "2022-01-16T09:45:56.486Z"
      },
      {
        "duration": 14,
        "start_time": "2022-01-16T09:45:56.496Z"
      },
      {
        "duration": 212,
        "start_time": "2022-01-16T09:45:56.512Z"
      },
      {
        "duration": 16,
        "start_time": "2022-01-16T09:45:56.726Z"
      },
      {
        "duration": 163,
        "start_time": "2022-01-16T09:45:56.743Z"
      },
      {
        "duration": 187,
        "start_time": "2022-01-16T09:45:56.908Z"
      },
      {
        "duration": 191,
        "start_time": "2022-01-16T09:45:57.096Z"
      },
      {
        "duration": 190,
        "start_time": "2022-01-16T09:45:57.289Z"
      },
      {
        "duration": 263,
        "start_time": "2022-01-16T09:45:57.480Z"
      },
      {
        "duration": 205,
        "start_time": "2022-01-16T09:45:57.744Z"
      },
      {
        "duration": 808,
        "start_time": "2022-01-16T09:45:57.950Z"
      },
      {
        "duration": 1199,
        "start_time": "2022-01-16T10:02:02.799Z"
      },
      {
        "duration": 694,
        "start_time": "2022-01-16T10:02:08.514Z"
      },
      {
        "duration": 737,
        "start_time": "2022-01-16T10:02:16.017Z"
      },
      {
        "duration": 553,
        "start_time": "2022-01-16T10:15:44.876Z"
      },
      {
        "duration": 94,
        "start_time": "2022-01-16T10:15:45.431Z"
      },
      {
        "duration": 14,
        "start_time": "2022-01-16T10:15:45.527Z"
      },
      {
        "duration": 8,
        "start_time": "2022-01-16T10:15:45.542Z"
      },
      {
        "duration": 7,
        "start_time": "2022-01-16T10:15:45.552Z"
      },
      {
        "duration": 16,
        "start_time": "2022-01-16T10:15:45.561Z"
      },
      {
        "duration": 13,
        "start_time": "2022-01-16T10:15:45.579Z"
      },
      {
        "duration": 19,
        "start_time": "2022-01-16T10:15:45.593Z"
      },
      {
        "duration": 28,
        "start_time": "2022-01-16T10:15:45.615Z"
      },
      {
        "duration": 13,
        "start_time": "2022-01-16T10:15:45.646Z"
      },
      {
        "duration": 7,
        "start_time": "2022-01-16T10:15:45.660Z"
      },
      {
        "duration": 19,
        "start_time": "2022-01-16T10:15:45.668Z"
      },
      {
        "duration": 4,
        "start_time": "2022-01-16T10:15:45.689Z"
      },
      {
        "duration": 11,
        "start_time": "2022-01-16T10:15:45.695Z"
      },
      {
        "duration": 22,
        "start_time": "2022-01-16T10:15:45.707Z"
      },
      {
        "duration": 21,
        "start_time": "2022-01-16T10:15:45.730Z"
      },
      {
        "duration": 9,
        "start_time": "2022-01-16T10:15:45.753Z"
      },
      {
        "duration": 5169,
        "start_time": "2022-01-16T10:15:45.763Z"
      },
      {
        "duration": 22,
        "start_time": "2022-01-16T10:15:50.934Z"
      },
      {
        "duration": 53,
        "start_time": "2022-01-16T10:15:50.957Z"
      },
      {
        "duration": 12,
        "start_time": "2022-01-16T10:15:51.011Z"
      },
      {
        "duration": 325,
        "start_time": "2022-01-16T10:15:51.025Z"
      },
      {
        "duration": 579,
        "start_time": "2022-01-16T10:15:51.352Z"
      },
      {
        "duration": 14,
        "start_time": "2022-01-16T10:15:51.932Z"
      },
      {
        "duration": 7,
        "start_time": "2022-01-16T10:15:51.947Z"
      },
      {
        "duration": 443,
        "start_time": "2022-01-16T10:15:51.955Z"
      },
      {
        "duration": 49,
        "start_time": "2022-01-16T10:15:52.403Z"
      },
      {
        "duration": 357,
        "start_time": "2022-01-16T10:15:52.454Z"
      },
      {
        "duration": 345,
        "start_time": "2022-01-16T10:15:52.813Z"
      },
      {
        "duration": 127,
        "start_time": "2022-01-16T10:15:53.160Z"
      },
      {
        "duration": 9,
        "start_time": "2022-01-16T10:15:53.289Z"
      },
      {
        "duration": 7,
        "start_time": "2022-01-16T10:15:53.300Z"
      },
      {
        "duration": 33,
        "start_time": "2022-01-16T10:15:53.308Z"
      },
      {
        "duration": 8,
        "start_time": "2022-01-16T10:15:53.343Z"
      },
      {
        "duration": 293,
        "start_time": "2022-01-16T10:15:53.352Z"
      },
      {
        "duration": 10,
        "start_time": "2022-01-16T10:15:53.647Z"
      },
      {
        "duration": 5,
        "start_time": "2022-01-16T10:15:53.658Z"
      },
      {
        "duration": 11,
        "start_time": "2022-01-16T10:15:53.664Z"
      },
      {
        "duration": 4815,
        "start_time": "2022-01-16T10:15:53.676Z"
      },
      {
        "duration": 13,
        "start_time": "2022-01-16T10:15:58.493Z"
      },
      {
        "duration": 185,
        "start_time": "2022-01-16T10:15:58.508Z"
      },
      {
        "duration": 172,
        "start_time": "2022-01-16T10:15:58.694Z"
      },
      {
        "duration": 170,
        "start_time": "2022-01-16T10:15:58.867Z"
      },
      {
        "duration": 172,
        "start_time": "2022-01-16T10:15:59.041Z"
      },
      {
        "duration": 184,
        "start_time": "2022-01-16T10:15:59.215Z"
      },
      {
        "duration": 251,
        "start_time": "2022-01-16T10:15:59.401Z"
      },
      {
        "duration": 6,
        "start_time": "2022-01-16T10:15:59.653Z"
      },
      {
        "duration": 19,
        "start_time": "2022-01-16T10:15:59.661Z"
      },
      {
        "duration": 5,
        "start_time": "2022-01-16T10:15:59.681Z"
      },
      {
        "duration": 10,
        "start_time": "2022-01-16T10:15:59.687Z"
      },
      {
        "duration": 13,
        "start_time": "2022-01-16T10:15:59.698Z"
      },
      {
        "duration": 198,
        "start_time": "2022-01-16T10:15:59.712Z"
      },
      {
        "duration": 6,
        "start_time": "2022-01-16T10:15:59.911Z"
      },
      {
        "duration": 160,
        "start_time": "2022-01-16T10:15:59.918Z"
      },
      {
        "duration": 180,
        "start_time": "2022-01-16T10:16:00.080Z"
      },
      {
        "duration": 181,
        "start_time": "2022-01-16T10:16:00.262Z"
      },
      {
        "duration": 179,
        "start_time": "2022-01-16T10:16:00.444Z"
      },
      {
        "duration": 189,
        "start_time": "2022-01-16T10:16:00.625Z"
      },
      {
        "duration": 180,
        "start_time": "2022-01-16T10:16:00.815Z"
      },
      {
        "duration": 844,
        "start_time": "2022-01-16T10:16:00.997Z"
      },
      {
        "duration": 2,
        "start_time": "2022-01-19T04:17:43.316Z"
      },
      {
        "duration": 102,
        "start_time": "2022-01-19T04:17:43.319Z"
      },
      {
        "duration": 10,
        "start_time": "2022-01-19T04:17:43.422Z"
      },
      {
        "duration": 8,
        "start_time": "2022-01-19T04:17:43.434Z"
      },
      {
        "duration": 23,
        "start_time": "2022-01-19T04:17:43.443Z"
      },
      {
        "duration": 23,
        "start_time": "2022-01-19T04:17:43.468Z"
      },
      {
        "duration": 10,
        "start_time": "2022-01-19T04:17:43.493Z"
      },
      {
        "duration": 21,
        "start_time": "2022-01-19T04:17:43.509Z"
      },
      {
        "duration": 4,
        "start_time": "2022-01-19T04:17:43.533Z"
      },
      {
        "duration": 11,
        "start_time": "2022-01-19T04:17:43.538Z"
      },
      {
        "duration": 7,
        "start_time": "2022-01-19T04:17:43.551Z"
      },
      {
        "duration": 12,
        "start_time": "2022-01-19T04:17:43.560Z"
      },
      {
        "duration": 4,
        "start_time": "2022-01-19T04:17:43.574Z"
      },
      {
        "duration": 18,
        "start_time": "2022-01-19T04:17:43.580Z"
      },
      {
        "duration": 16,
        "start_time": "2022-01-19T04:17:43.600Z"
      },
      {
        "duration": 18,
        "start_time": "2022-01-19T04:17:43.618Z"
      },
      {
        "duration": 5,
        "start_time": "2022-01-19T04:17:43.638Z"
      },
      {
        "duration": 5803,
        "start_time": "2022-01-19T04:17:43.645Z"
      },
      {
        "duration": 19,
        "start_time": "2022-01-19T04:17:49.450Z"
      },
      {
        "duration": 36,
        "start_time": "2022-01-19T04:17:49.470Z"
      },
      {
        "duration": 3,
        "start_time": "2022-01-19T04:17:49.508Z"
      },
      {
        "duration": 347,
        "start_time": "2022-01-19T04:17:49.513Z"
      },
      {
        "duration": 618,
        "start_time": "2022-01-19T04:17:49.862Z"
      },
      {
        "duration": 9,
        "start_time": "2022-01-19T04:17:50.481Z"
      },
      {
        "duration": 6,
        "start_time": "2022-01-19T04:17:50.498Z"
      },
      {
        "duration": 410,
        "start_time": "2022-01-19T04:17:50.506Z"
      },
      {
        "duration": 46,
        "start_time": "2022-01-19T04:17:50.918Z"
      },
      {
        "duration": 484,
        "start_time": "2022-01-19T04:17:50.966Z"
      },
      {
        "duration": 336,
        "start_time": "2022-01-19T04:17:51.452Z"
      },
      {
        "duration": 149,
        "start_time": "2022-01-19T04:17:51.790Z"
      },
      {
        "duration": 7,
        "start_time": "2022-01-19T04:17:51.941Z"
      },
      {
        "duration": 7,
        "start_time": "2022-01-19T04:17:51.949Z"
      },
      {
        "duration": 11,
        "start_time": "2022-01-19T04:17:51.958Z"
      },
      {
        "duration": 29,
        "start_time": "2022-01-19T04:17:51.971Z"
      },
      {
        "duration": 356,
        "start_time": "2022-01-19T04:17:52.002Z"
      },
      {
        "duration": 12,
        "start_time": "2022-01-19T04:17:52.360Z"
      },
      {
        "duration": 4,
        "start_time": "2022-01-19T04:17:52.374Z"
      },
      {
        "duration": 26,
        "start_time": "2022-01-19T04:17:52.379Z"
      },
      {
        "duration": 4734,
        "start_time": "2022-01-19T04:17:52.406Z"
      },
      {
        "duration": 10,
        "start_time": "2022-01-19T04:17:57.142Z"
      },
      {
        "duration": 198,
        "start_time": "2022-01-19T04:17:57.154Z"
      },
      {
        "duration": 219,
        "start_time": "2022-01-19T04:17:57.354Z"
      },
      {
        "duration": 220,
        "start_time": "2022-01-19T04:17:57.575Z"
      },
      {
        "duration": 227,
        "start_time": "2022-01-19T04:17:57.798Z"
      },
      {
        "duration": 248,
        "start_time": "2022-01-19T04:17:58.027Z"
      },
      {
        "duration": 234,
        "start_time": "2022-01-19T04:17:58.277Z"
      },
      {
        "duration": 8,
        "start_time": "2022-01-19T04:17:58.513Z"
      },
      {
        "duration": 34,
        "start_time": "2022-01-19T04:17:58.523Z"
      },
      {
        "duration": 7,
        "start_time": "2022-01-19T04:17:58.559Z"
      },
      {
        "duration": 19,
        "start_time": "2022-01-19T04:17:58.568Z"
      },
      {
        "duration": 33,
        "start_time": "2022-01-19T04:17:58.589Z"
      },
      {
        "duration": 250,
        "start_time": "2022-01-19T04:17:58.624Z"
      },
      {
        "duration": 6,
        "start_time": "2022-01-19T04:17:58.876Z"
      },
      {
        "duration": 194,
        "start_time": "2022-01-19T04:17:58.884Z"
      },
      {
        "duration": 220,
        "start_time": "2022-01-19T04:17:59.080Z"
      },
      {
        "duration": 223,
        "start_time": "2022-01-19T04:17:59.302Z"
      },
      {
        "duration": 238,
        "start_time": "2022-01-19T04:17:59.526Z"
      },
      {
        "duration": 334,
        "start_time": "2022-01-19T04:17:59.765Z"
      },
      {
        "duration": 243,
        "start_time": "2022-01-19T04:18:00.101Z"
      },
      {
        "duration": 993,
        "start_time": "2022-01-19T04:18:00.346Z"
      },
      {
        "duration": 74,
        "start_time": "2022-01-19T04:27:44.474Z"
      },
      {
        "duration": 72,
        "start_time": "2022-01-19T04:27:49.871Z"
      },
      {
        "duration": 73,
        "start_time": "2022-01-19T04:28:13.935Z"
      },
      {
        "duration": 897,
        "start_time": "2022-01-19T04:30:13.743Z"
      },
      {
        "duration": 851,
        "start_time": "2022-01-19T04:30:25.985Z"
      },
      {
        "duration": 97,
        "start_time": "2022-01-19T04:30:26.838Z"
      },
      {
        "duration": 10,
        "start_time": "2022-01-19T04:30:26.940Z"
      },
      {
        "duration": 16,
        "start_time": "2022-01-19T04:30:26.952Z"
      },
      {
        "duration": 16,
        "start_time": "2022-01-19T04:30:26.969Z"
      },
      {
        "duration": 24,
        "start_time": "2022-01-19T04:30:26.987Z"
      },
      {
        "duration": 18,
        "start_time": "2022-01-19T04:30:27.014Z"
      },
      {
        "duration": 23,
        "start_time": "2022-01-19T04:30:27.034Z"
      },
      {
        "duration": 12,
        "start_time": "2022-01-19T04:30:27.059Z"
      },
      {
        "duration": 23,
        "start_time": "2022-01-19T04:30:27.073Z"
      },
      {
        "duration": 5,
        "start_time": "2022-01-19T04:30:27.098Z"
      },
      {
        "duration": 13,
        "start_time": "2022-01-19T04:30:27.105Z"
      },
      {
        "duration": 21,
        "start_time": "2022-01-19T04:30:27.119Z"
      },
      {
        "duration": 17,
        "start_time": "2022-01-19T04:30:27.142Z"
      },
      {
        "duration": 23,
        "start_time": "2022-01-19T04:30:27.161Z"
      },
      {
        "duration": 38,
        "start_time": "2022-01-19T04:30:27.185Z"
      },
      {
        "duration": 17,
        "start_time": "2022-01-19T04:30:27.225Z"
      },
      {
        "duration": 5560,
        "start_time": "2022-01-19T04:30:27.244Z"
      },
      {
        "duration": 21,
        "start_time": "2022-01-19T04:30:32.806Z"
      },
      {
        "duration": 23,
        "start_time": "2022-01-19T04:30:32.828Z"
      },
      {
        "duration": 4,
        "start_time": "2022-01-19T04:30:32.852Z"
      },
      {
        "duration": 558,
        "start_time": "2022-01-19T04:30:32.860Z"
      },
      {
        "duration": 111,
        "start_time": "2022-01-19T04:30:33.420Z"
      },
      {
        "duration": 624,
        "start_time": "2022-01-19T04:30:33.533Z"
      },
      {
        "duration": 9,
        "start_time": "2022-01-19T04:30:34.159Z"
      },
      {
        "duration": 29,
        "start_time": "2022-01-19T04:30:34.169Z"
      },
      {
        "duration": 1016,
        "start_time": "2022-01-19T04:30:34.200Z"
      },
      {
        "duration": 46,
        "start_time": "2022-01-19T04:30:35.218Z"
      },
      {
        "duration": 438,
        "start_time": "2022-01-19T04:30:35.266Z"
      },
      {
        "duration": 352,
        "start_time": "2022-01-19T04:30:35.706Z"
      },
      {
        "duration": 159,
        "start_time": "2022-01-19T04:30:36.060Z"
      },
      {
        "duration": 9,
        "start_time": "2022-01-19T04:30:36.221Z"
      },
      {
        "duration": 23,
        "start_time": "2022-01-19T04:30:36.231Z"
      },
      {
        "duration": 45,
        "start_time": "2022-01-19T04:30:36.256Z"
      },
      {
        "duration": 18,
        "start_time": "2022-01-19T04:30:36.303Z"
      },
      {
        "duration": 411,
        "start_time": "2022-01-19T04:30:36.323Z"
      },
      {
        "duration": 11,
        "start_time": "2022-01-19T04:30:36.736Z"
      },
      {
        "duration": 4,
        "start_time": "2022-01-19T04:30:36.749Z"
      },
      {
        "duration": 15,
        "start_time": "2022-01-19T04:30:36.755Z"
      },
      {
        "duration": 4252,
        "start_time": "2022-01-19T04:30:36.772Z"
      },
      {
        "duration": 11,
        "start_time": "2022-01-19T04:30:41.026Z"
      },
      {
        "duration": 183,
        "start_time": "2022-01-19T04:30:41.038Z"
      },
      {
        "duration": 203,
        "start_time": "2022-01-19T04:30:41.223Z"
      },
      {
        "duration": 197,
        "start_time": "2022-01-19T04:30:41.427Z"
      },
      {
        "duration": 265,
        "start_time": "2022-01-19T04:30:41.625Z"
      },
      {
        "duration": 222,
        "start_time": "2022-01-19T04:30:41.892Z"
      },
      {
        "duration": 207,
        "start_time": "2022-01-19T04:30:42.116Z"
      },
      {
        "duration": 7,
        "start_time": "2022-01-19T04:30:42.324Z"
      },
      {
        "duration": 24,
        "start_time": "2022-01-19T04:30:42.333Z"
      },
      {
        "duration": 6,
        "start_time": "2022-01-19T04:30:42.358Z"
      },
      {
        "duration": 7,
        "start_time": "2022-01-19T04:30:42.365Z"
      },
      {
        "duration": 32,
        "start_time": "2022-01-19T04:30:42.373Z"
      },
      {
        "duration": 208,
        "start_time": "2022-01-19T04:30:42.407Z"
      },
      {
        "duration": 6,
        "start_time": "2022-01-19T04:30:42.617Z"
      },
      {
        "duration": 182,
        "start_time": "2022-01-19T04:30:42.624Z"
      },
      {
        "duration": 200,
        "start_time": "2022-01-19T04:30:42.808Z"
      },
      {
        "duration": 204,
        "start_time": "2022-01-19T04:30:43.010Z"
      },
      {
        "duration": 210,
        "start_time": "2022-01-19T04:30:43.216Z"
      },
      {
        "duration": 218,
        "start_time": "2022-01-19T04:30:43.428Z"
      },
      {
        "duration": 223,
        "start_time": "2022-01-19T04:30:43.648Z"
      },
      {
        "duration": 964,
        "start_time": "2022-01-19T04:30:43.873Z"
      },
      {
        "duration": 556,
        "start_time": "2022-01-19T04:32:59.518Z"
      },
      {
        "duration": 100,
        "start_time": "2022-01-19T04:33:00.076Z"
      },
      {
        "duration": 24,
        "start_time": "2022-01-19T04:33:00.181Z"
      },
      {
        "duration": 26,
        "start_time": "2022-01-19T04:33:00.206Z"
      },
      {
        "duration": 19,
        "start_time": "2022-01-19T04:33:00.234Z"
      },
      {
        "duration": 19,
        "start_time": "2022-01-19T04:33:00.255Z"
      },
      {
        "duration": 24,
        "start_time": "2022-01-19T04:33:00.277Z"
      },
      {
        "duration": 17,
        "start_time": "2022-01-19T04:33:00.303Z"
      },
      {
        "duration": 12,
        "start_time": "2022-01-19T04:33:00.321Z"
      },
      {
        "duration": 10,
        "start_time": "2022-01-19T04:33:00.334Z"
      },
      {
        "duration": 6,
        "start_time": "2022-01-19T04:33:00.345Z"
      },
      {
        "duration": 20,
        "start_time": "2022-01-19T04:33:00.352Z"
      },
      {
        "duration": 6,
        "start_time": "2022-01-19T04:33:00.374Z"
      },
      {
        "duration": 16,
        "start_time": "2022-01-19T04:33:00.382Z"
      },
      {
        "duration": 34,
        "start_time": "2022-01-19T04:33:00.400Z"
      },
      {
        "duration": 31,
        "start_time": "2022-01-19T04:33:00.436Z"
      },
      {
        "duration": 44,
        "start_time": "2022-01-19T04:33:00.469Z"
      },
      {
        "duration": 5805,
        "start_time": "2022-01-19T04:33:00.515Z"
      },
      {
        "duration": 20,
        "start_time": "2022-01-19T04:33:06.322Z"
      },
      {
        "duration": 22,
        "start_time": "2022-01-19T04:33:06.344Z"
      },
      {
        "duration": 3,
        "start_time": "2022-01-19T04:33:06.368Z"
      },
      {
        "duration": 353,
        "start_time": "2022-01-19T04:33:06.375Z"
      },
      {
        "duration": 114,
        "start_time": "2022-01-19T04:33:06.730Z"
      },
      {
        "duration": 634,
        "start_time": "2022-01-19T04:33:06.846Z"
      },
      {
        "duration": 9,
        "start_time": "2022-01-19T04:33:07.481Z"
      },
      {
        "duration": 12,
        "start_time": "2022-01-19T04:33:07.492Z"
      },
      {
        "duration": 1038,
        "start_time": "2022-01-19T04:33:07.506Z"
      },
      {
        "duration": 42,
        "start_time": "2022-01-19T04:33:08.546Z"
      },
      {
        "duration": 18,
        "start_time": "2022-01-19T04:33:08.590Z"
      },
      {
        "duration": 918,
        "start_time": "2022-01-19T04:33:08.610Z"
      },
      {
        "duration": 406,
        "start_time": "2022-01-19T04:33:09.530Z"
      },
      {
        "duration": 151,
        "start_time": "2022-01-19T04:33:09.938Z"
      },
      {
        "duration": 10,
        "start_time": "2022-01-19T04:33:10.091Z"
      },
      {
        "duration": 10,
        "start_time": "2022-01-19T04:33:10.102Z"
      },
      {
        "duration": 13,
        "start_time": "2022-01-19T04:33:10.113Z"
      },
      {
        "duration": 8,
        "start_time": "2022-01-19T04:33:10.128Z"
      },
      {
        "duration": 365,
        "start_time": "2022-01-19T04:33:10.137Z"
      },
      {
        "duration": 11,
        "start_time": "2022-01-19T04:33:10.503Z"
      },
      {
        "duration": 3,
        "start_time": "2022-01-19T04:33:10.516Z"
      },
      {
        "duration": 12,
        "start_time": "2022-01-19T04:33:10.521Z"
      },
      {
        "duration": 4284,
        "start_time": "2022-01-19T04:33:10.535Z"
      },
      {
        "duration": 10,
        "start_time": "2022-01-19T04:33:14.820Z"
      },
      {
        "duration": 179,
        "start_time": "2022-01-19T04:33:14.832Z"
      },
      {
        "duration": 275,
        "start_time": "2022-01-19T04:33:15.013Z"
      },
      {
        "duration": 197,
        "start_time": "2022-01-19T04:33:15.290Z"
      },
      {
        "duration": 224,
        "start_time": "2022-01-19T04:33:15.489Z"
      },
      {
        "duration": 213,
        "start_time": "2022-01-19T04:33:15.714Z"
      },
      {
        "duration": 219,
        "start_time": "2022-01-19T04:33:15.928Z"
      },
      {
        "duration": 7,
        "start_time": "2022-01-19T04:33:16.148Z"
      },
      {
        "duration": 21,
        "start_time": "2022-01-19T04:33:16.157Z"
      },
      {
        "duration": 21,
        "start_time": "2022-01-19T04:33:16.179Z"
      },
      {
        "duration": 8,
        "start_time": "2022-01-19T04:33:16.201Z"
      },
      {
        "duration": 14,
        "start_time": "2022-01-19T04:33:16.210Z"
      },
      {
        "duration": 222,
        "start_time": "2022-01-19T04:33:16.225Z"
      },
      {
        "duration": 6,
        "start_time": "2022-01-19T04:33:16.448Z"
      },
      {
        "duration": 176,
        "start_time": "2022-01-19T04:33:16.455Z"
      },
      {
        "duration": 210,
        "start_time": "2022-01-19T04:33:16.632Z"
      },
      {
        "duration": 207,
        "start_time": "2022-01-19T04:33:16.843Z"
      },
      {
        "duration": 206,
        "start_time": "2022-01-19T04:33:17.051Z"
      },
      {
        "duration": 224,
        "start_time": "2022-01-19T04:33:17.258Z"
      },
      {
        "duration": 275,
        "start_time": "2022-01-19T04:33:17.484Z"
      },
      {
        "duration": 925,
        "start_time": "2022-01-19T04:33:17.760Z"
      },
      {
        "duration": 782,
        "start_time": "2022-01-19T07:14:56.113Z"
      },
      {
        "duration": 130,
        "start_time": "2022-01-19T07:14:56.897Z"
      },
      {
        "duration": 15,
        "start_time": "2022-01-19T07:14:57.030Z"
      },
      {
        "duration": 13,
        "start_time": "2022-01-19T07:14:57.059Z"
      },
      {
        "duration": 11,
        "start_time": "2022-01-19T07:14:57.074Z"
      },
      {
        "duration": 15,
        "start_time": "2022-01-19T07:14:57.088Z"
      },
      {
        "duration": 54,
        "start_time": "2022-01-19T07:14:57.105Z"
      },
      {
        "duration": 26,
        "start_time": "2022-01-19T07:14:57.163Z"
      },
      {
        "duration": 5,
        "start_time": "2022-01-19T07:14:57.192Z"
      },
      {
        "duration": 8,
        "start_time": "2022-01-19T07:14:57.200Z"
      },
      {
        "duration": 8,
        "start_time": "2022-01-19T07:14:57.211Z"
      },
      {
        "duration": 51,
        "start_time": "2022-01-19T07:14:57.222Z"
      },
      {
        "duration": 7,
        "start_time": "2022-01-19T07:14:57.276Z"
      },
      {
        "duration": 9,
        "start_time": "2022-01-19T07:14:57.285Z"
      },
      {
        "duration": 24,
        "start_time": "2022-01-19T07:14:57.296Z"
      },
      {
        "duration": 50,
        "start_time": "2022-01-19T07:14:57.322Z"
      },
      {
        "duration": 5,
        "start_time": "2022-01-19T07:14:57.376Z"
      },
      {
        "duration": 8232,
        "start_time": "2022-01-19T07:14:57.384Z"
      },
      {
        "duration": 43,
        "start_time": "2022-01-19T07:15:05.618Z"
      },
      {
        "duration": 38,
        "start_time": "2022-01-19T07:15:05.664Z"
      },
      {
        "duration": 5,
        "start_time": "2022-01-19T07:15:05.706Z"
      },
      {
        "duration": 628,
        "start_time": "2022-01-19T07:15:05.714Z"
      },
      {
        "duration": 174,
        "start_time": "2022-01-19T07:15:06.349Z"
      },
      {
        "duration": 1026,
        "start_time": "2022-01-19T07:15:06.526Z"
      },
      {
        "duration": 12,
        "start_time": "2022-01-19T07:15:07.555Z"
      },
      {
        "duration": 7,
        "start_time": "2022-01-19T07:15:07.569Z"
      },
      {
        "duration": 1484,
        "start_time": "2022-01-19T07:15:07.578Z"
      },
      {
        "duration": 59,
        "start_time": "2022-01-19T07:15:09.064Z"
      },
      {
        "duration": 39,
        "start_time": "2022-01-19T07:15:09.125Z"
      },
      {
        "duration": 1364,
        "start_time": "2022-01-19T07:15:09.167Z"
      },
      {
        "duration": 601,
        "start_time": "2022-01-19T07:15:10.534Z"
      },
      {
        "duration": 232,
        "start_time": "2022-01-19T07:15:11.138Z"
      },
      {
        "duration": 11,
        "start_time": "2022-01-19T07:15:11.373Z"
      },
      {
        "duration": 9,
        "start_time": "2022-01-19T07:15:11.386Z"
      },
      {
        "duration": 16,
        "start_time": "2022-01-19T07:15:11.397Z"
      },
      {
        "duration": 48,
        "start_time": "2022-01-19T07:15:11.415Z"
      },
      {
        "duration": 524,
        "start_time": "2022-01-19T07:15:11.465Z"
      },
      {
        "duration": 16,
        "start_time": "2022-01-19T07:15:11.991Z"
      },
      {
        "duration": 5,
        "start_time": "2022-01-19T07:15:12.009Z"
      },
      {
        "duration": 13,
        "start_time": "2022-01-19T07:15:12.016Z"
      },
      {
        "duration": 7676,
        "start_time": "2022-01-19T07:15:12.031Z"
      },
      {
        "duration": 16,
        "start_time": "2022-01-19T07:15:19.710Z"
      },
      {
        "duration": 272,
        "start_time": "2022-01-19T07:15:19.728Z"
      },
      {
        "duration": 342,
        "start_time": "2022-01-19T07:15:20.003Z"
      },
      {
        "duration": 303,
        "start_time": "2022-01-19T07:15:20.347Z"
      },
      {
        "duration": 302,
        "start_time": "2022-01-19T07:15:20.660Z"
      },
      {
        "duration": 331,
        "start_time": "2022-01-19T07:15:20.964Z"
      },
      {
        "duration": 324,
        "start_time": "2022-01-19T07:15:21.298Z"
      },
      {
        "duration": 316,
        "start_time": "2022-01-19T07:15:21.624Z"
      },
      {
        "duration": 17,
        "start_time": "2022-01-19T07:15:21.942Z"
      },
      {
        "duration": 27,
        "start_time": "2022-01-19T07:15:21.962Z"
      },
      {
        "duration": 9,
        "start_time": "2022-01-19T07:15:21.991Z"
      },
      {
        "duration": 11,
        "start_time": "2022-01-19T07:15:22.002Z"
      },
      {
        "duration": 54,
        "start_time": "2022-01-19T07:15:22.016Z"
      },
      {
        "duration": 319,
        "start_time": "2022-01-19T07:15:22.072Z"
      },
      {
        "duration": 9,
        "start_time": "2022-01-19T07:15:22.393Z"
      },
      {
        "duration": 268,
        "start_time": "2022-01-19T07:15:22.404Z"
      },
      {
        "duration": 307,
        "start_time": "2022-01-19T07:15:22.674Z"
      },
      {
        "duration": 312,
        "start_time": "2022-01-19T07:15:22.983Z"
      },
      {
        "duration": 327,
        "start_time": "2022-01-19T07:15:23.297Z"
      },
      {
        "duration": 379,
        "start_time": "2022-01-19T07:15:23.627Z"
      },
      {
        "duration": 341,
        "start_time": "2022-01-19T07:15:24.008Z"
      },
      {
        "duration": 1388,
        "start_time": "2022-01-19T07:15:24.351Z"
      },
      {
        "duration": 836,
        "start_time": "2022-01-19T07:32:19.961Z"
      },
      {
        "duration": 131,
        "start_time": "2022-01-19T07:32:20.801Z"
      },
      {
        "duration": 29,
        "start_time": "2022-01-19T07:32:20.934Z"
      },
      {
        "duration": 14,
        "start_time": "2022-01-19T07:32:20.966Z"
      },
      {
        "duration": 21,
        "start_time": "2022-01-19T07:32:20.983Z"
      },
      {
        "duration": 17,
        "start_time": "2022-01-19T07:32:21.007Z"
      },
      {
        "duration": 43,
        "start_time": "2022-01-19T07:32:21.027Z"
      },
      {
        "duration": 27,
        "start_time": "2022-01-19T07:32:21.074Z"
      },
      {
        "duration": 19,
        "start_time": "2022-01-19T07:32:21.104Z"
      },
      {
        "duration": 15,
        "start_time": "2022-01-19T07:32:21.125Z"
      },
      {
        "duration": 19,
        "start_time": "2022-01-19T07:32:21.143Z"
      },
      {
        "duration": 48,
        "start_time": "2022-01-19T07:32:21.165Z"
      },
      {
        "duration": 7,
        "start_time": "2022-01-19T07:32:21.216Z"
      },
      {
        "duration": 8,
        "start_time": "2022-01-19T07:32:21.226Z"
      },
      {
        "duration": 33,
        "start_time": "2022-01-19T07:32:21.237Z"
      },
      {
        "duration": 32,
        "start_time": "2022-01-19T07:32:21.272Z"
      },
      {
        "duration": 4,
        "start_time": "2022-01-19T07:32:21.307Z"
      },
      {
        "duration": 8172,
        "start_time": "2022-01-19T07:32:21.313Z"
      },
      {
        "duration": 31,
        "start_time": "2022-01-19T07:32:29.487Z"
      },
      {
        "duration": 50,
        "start_time": "2022-01-19T07:32:29.520Z"
      },
      {
        "duration": 5,
        "start_time": "2022-01-19T07:32:29.572Z"
      },
      {
        "duration": 504,
        "start_time": "2022-01-19T07:32:29.579Z"
      },
      {
        "duration": 163,
        "start_time": "2022-01-19T07:32:30.089Z"
      },
      {
        "duration": 1078,
        "start_time": "2022-01-19T07:32:30.255Z"
      },
      {
        "duration": 23,
        "start_time": "2022-01-19T07:32:31.336Z"
      },
      {
        "duration": 8,
        "start_time": "2022-01-19T07:32:31.362Z"
      },
      {
        "duration": 1534,
        "start_time": "2022-01-19T07:32:31.373Z"
      },
      {
        "duration": 79,
        "start_time": "2022-01-19T07:32:32.910Z"
      },
      {
        "duration": 18,
        "start_time": "2022-01-19T07:32:32.992Z"
      },
      {
        "duration": 1476,
        "start_time": "2022-01-19T07:32:33.012Z"
      },
      {
        "duration": 612,
        "start_time": "2022-01-19T07:32:34.490Z"
      },
      {
        "duration": 229,
        "start_time": "2022-01-19T07:32:35.105Z"
      },
      {
        "duration": 23,
        "start_time": "2022-01-19T07:32:35.337Z"
      },
      {
        "duration": 10,
        "start_time": "2022-01-19T07:32:35.363Z"
      },
      {
        "duration": 17,
        "start_time": "2022-01-19T07:32:35.376Z"
      },
      {
        "duration": 11,
        "start_time": "2022-01-19T07:32:35.395Z"
      },
      {
        "duration": 558,
        "start_time": "2022-01-19T07:32:35.409Z"
      },
      {
        "duration": 18,
        "start_time": "2022-01-19T07:32:35.970Z"
      },
      {
        "duration": 5,
        "start_time": "2022-01-19T07:32:35.991Z"
      },
      {
        "duration": 18,
        "start_time": "2022-01-19T07:32:35.998Z"
      },
      {
        "duration": 6855,
        "start_time": "2022-01-19T07:32:36.018Z"
      },
      {
        "duration": 15,
        "start_time": "2022-01-19T07:32:42.876Z"
      },
      {
        "duration": 277,
        "start_time": "2022-01-19T07:32:42.894Z"
      },
      {
        "duration": 461,
        "start_time": "2022-01-19T07:32:43.173Z"
      },
      {
        "duration": -65,
        "start_time": "2022-01-19T07:32:43.702Z"
      },
      {
        "duration": -72,
        "start_time": "2022-01-19T07:32:43.710Z"
      },
      {
        "duration": -83,
        "start_time": "2022-01-19T07:32:43.722Z"
      },
      {
        "duration": -91,
        "start_time": "2022-01-19T07:32:43.732Z"
      },
      {
        "duration": -98,
        "start_time": "2022-01-19T07:32:43.740Z"
      },
      {
        "duration": -105,
        "start_time": "2022-01-19T07:32:43.749Z"
      },
      {
        "duration": -111,
        "start_time": "2022-01-19T07:32:43.756Z"
      },
      {
        "duration": -119,
        "start_time": "2022-01-19T07:32:43.766Z"
      },
      {
        "duration": -126,
        "start_time": "2022-01-19T07:32:43.775Z"
      },
      {
        "duration": -179,
        "start_time": "2022-01-19T07:32:43.830Z"
      },
      {
        "duration": -187,
        "start_time": "2022-01-19T07:32:43.840Z"
      },
      {
        "duration": -197,
        "start_time": "2022-01-19T07:32:43.853Z"
      },
      {
        "duration": -204,
        "start_time": "2022-01-19T07:32:43.862Z"
      },
      {
        "duration": -215,
        "start_time": "2022-01-19T07:32:43.875Z"
      },
      {
        "duration": -222,
        "start_time": "2022-01-19T07:32:43.885Z"
      },
      {
        "duration": -233,
        "start_time": "2022-01-19T07:32:43.897Z"
      },
      {
        "duration": -242,
        "start_time": "2022-01-19T07:32:43.908Z"
      },
      {
        "duration": -251,
        "start_time": "2022-01-19T07:32:43.918Z"
      },
      {
        "duration": -260,
        "start_time": "2022-01-19T07:32:43.928Z"
      },
      {
        "duration": 802,
        "start_time": "2022-01-19T07:51:23.834Z"
      },
      {
        "duration": 133,
        "start_time": "2022-01-19T07:51:24.639Z"
      },
      {
        "duration": 17,
        "start_time": "2022-01-19T07:51:24.777Z"
      },
      {
        "duration": 13,
        "start_time": "2022-01-19T07:51:24.797Z"
      },
      {
        "duration": 48,
        "start_time": "2022-01-19T07:51:24.813Z"
      },
      {
        "duration": 16,
        "start_time": "2022-01-19T07:51:24.863Z"
      },
      {
        "duration": 17,
        "start_time": "2022-01-19T07:51:24.882Z"
      },
      {
        "duration": 26,
        "start_time": "2022-01-19T07:51:24.903Z"
      },
      {
        "duration": 5,
        "start_time": "2022-01-19T07:51:24.961Z"
      },
      {
        "duration": 9,
        "start_time": "2022-01-19T07:51:24.969Z"
      },
      {
        "duration": 8,
        "start_time": "2022-01-19T07:51:24.981Z"
      },
      {
        "duration": 23,
        "start_time": "2022-01-19T07:51:24.992Z"
      },
      {
        "duration": 45,
        "start_time": "2022-01-19T07:51:25.018Z"
      },
      {
        "duration": 5,
        "start_time": "2022-01-19T07:51:25.066Z"
      },
      {
        "duration": 24,
        "start_time": "2022-01-19T07:51:25.074Z"
      },
      {
        "duration": 24,
        "start_time": "2022-01-19T07:51:25.100Z"
      },
      {
        "duration": 33,
        "start_time": "2022-01-19T07:51:25.126Z"
      },
      {
        "duration": 8753,
        "start_time": "2022-01-19T07:51:25.162Z"
      },
      {
        "duration": 46,
        "start_time": "2022-01-19T07:51:33.918Z"
      },
      {
        "duration": 38,
        "start_time": "2022-01-19T07:51:33.966Z"
      },
      {
        "duration": 6,
        "start_time": "2022-01-19T07:51:34.007Z"
      },
      {
        "duration": 517,
        "start_time": "2022-01-19T07:51:34.015Z"
      },
      {
        "duration": 172,
        "start_time": "2022-01-19T07:51:34.539Z"
      },
      {
        "duration": 1097,
        "start_time": "2022-01-19T07:51:34.715Z"
      },
      {
        "duration": 11,
        "start_time": "2022-01-19T07:51:35.815Z"
      },
      {
        "duration": 30,
        "start_time": "2022-01-19T07:51:35.829Z"
      },
      {
        "duration": 1571,
        "start_time": "2022-01-19T07:51:35.861Z"
      },
      {
        "duration": 70,
        "start_time": "2022-01-19T07:51:37.435Z"
      },
      {
        "duration": 20,
        "start_time": "2022-01-19T07:51:37.508Z"
      },
      {
        "duration": 1408,
        "start_time": "2022-01-19T07:51:37.532Z"
      },
      {
        "duration": 618,
        "start_time": "2022-01-19T07:51:38.943Z"
      },
      {
        "duration": 241,
        "start_time": "2022-01-19T07:51:39.564Z"
      },
      {
        "duration": 12,
        "start_time": "2022-01-19T07:51:39.808Z"
      },
      {
        "duration": 38,
        "start_time": "2022-01-19T07:51:39.823Z"
      },
      {
        "duration": 17,
        "start_time": "2022-01-19T07:51:39.864Z"
      },
      {
        "duration": 13,
        "start_time": "2022-01-19T07:51:39.883Z"
      },
      {
        "duration": 547,
        "start_time": "2022-01-19T07:51:39.898Z"
      },
      {
        "duration": 24,
        "start_time": "2022-01-19T07:51:40.448Z"
      },
      {
        "duration": 5,
        "start_time": "2022-01-19T07:51:40.474Z"
      },
      {
        "duration": 16,
        "start_time": "2022-01-19T07:51:40.481Z"
      },
      {
        "duration": 6709,
        "start_time": "2022-01-19T07:51:40.499Z"
      },
      {
        "duration": 15,
        "start_time": "2022-01-19T07:51:47.210Z"
      },
      {
        "duration": 290,
        "start_time": "2022-01-19T07:51:47.228Z"
      },
      {
        "duration": 342,
        "start_time": "2022-01-19T07:51:47.520Z"
      },
      {
        "duration": 323,
        "start_time": "2022-01-19T07:51:47.864Z"
      },
      {
        "duration": 316,
        "start_time": "2022-01-19T07:51:48.190Z"
      },
      {
        "duration": 361,
        "start_time": "2022-01-19T07:51:48.508Z"
      },
      {
        "duration": 351,
        "start_time": "2022-01-19T07:51:48.871Z"
      },
      {
        "duration": 320,
        "start_time": "2022-01-19T07:51:49.227Z"
      },
      {
        "duration": 15,
        "start_time": "2022-01-19T07:51:49.550Z"
      },
      {
        "duration": 40,
        "start_time": "2022-01-19T07:51:49.568Z"
      },
      {
        "duration": 11,
        "start_time": "2022-01-19T07:51:49.611Z"
      },
      {
        "duration": 50,
        "start_time": "2022-01-19T07:51:49.625Z"
      },
      {
        "duration": 24,
        "start_time": "2022-01-19T07:51:49.679Z"
      },
      {
        "duration": 380,
        "start_time": "2022-01-19T07:51:49.706Z"
      },
      {
        "duration": 9,
        "start_time": "2022-01-19T07:51:50.089Z"
      },
      {
        "duration": 269,
        "start_time": "2022-01-19T07:51:50.100Z"
      },
      {
        "duration": 306,
        "start_time": "2022-01-19T07:51:50.372Z"
      },
      {
        "duration": 322,
        "start_time": "2022-01-19T07:51:50.681Z"
      },
      {
        "duration": 324,
        "start_time": "2022-01-19T07:51:51.006Z"
      },
      {
        "duration": 381,
        "start_time": "2022-01-19T07:51:51.332Z"
      },
      {
        "duration": 346,
        "start_time": "2022-01-19T07:51:51.716Z"
      },
      {
        "duration": 1407,
        "start_time": "2022-01-19T07:51:52.065Z"
      },
      {
        "duration": 785,
        "start_time": "2022-01-19T08:04:05.076Z"
      },
      {
        "duration": 133,
        "start_time": "2022-01-19T08:04:05.864Z"
      },
      {
        "duration": 17,
        "start_time": "2022-01-19T08:04:06.000Z"
      },
      {
        "duration": 41,
        "start_time": "2022-01-19T08:04:06.020Z"
      },
      {
        "duration": 12,
        "start_time": "2022-01-19T08:04:06.064Z"
      },
      {
        "duration": 17,
        "start_time": "2022-01-19T08:04:06.080Z"
      },
      {
        "duration": 19,
        "start_time": "2022-01-19T08:04:06.100Z"
      },
      {
        "duration": 60,
        "start_time": "2022-01-19T08:04:06.124Z"
      },
      {
        "duration": 7,
        "start_time": "2022-01-19T08:04:06.188Z"
      },
      {
        "duration": 10,
        "start_time": "2022-01-19T08:04:06.197Z"
      },
      {
        "duration": 14,
        "start_time": "2022-01-19T08:04:06.209Z"
      },
      {
        "duration": 51,
        "start_time": "2022-01-19T08:04:06.225Z"
      },
      {
        "duration": 7,
        "start_time": "2022-01-19T08:04:06.278Z"
      },
      {
        "duration": 7,
        "start_time": "2022-01-19T08:04:06.288Z"
      },
      {
        "duration": 24,
        "start_time": "2022-01-19T08:04:06.298Z"
      },
      {
        "duration": 41,
        "start_time": "2022-01-19T08:04:06.324Z"
      },
      {
        "duration": 5,
        "start_time": "2022-01-19T08:04:06.367Z"
      },
      {
        "duration": 9185,
        "start_time": "2022-01-19T08:04:06.374Z"
      },
      {
        "duration": 30,
        "start_time": "2022-01-19T08:04:15.561Z"
      },
      {
        "duration": 34,
        "start_time": "2022-01-19T08:04:15.593Z"
      },
      {
        "duration": 5,
        "start_time": "2022-01-19T08:04:15.629Z"
      },
      {
        "duration": 529,
        "start_time": "2022-01-19T08:04:15.659Z"
      },
      {
        "duration": 160,
        "start_time": "2022-01-19T08:04:16.194Z"
      },
      {
        "duration": 1058,
        "start_time": "2022-01-19T08:04:16.361Z"
      },
      {
        "duration": 13,
        "start_time": "2022-01-19T08:04:17.421Z"
      },
      {
        "duration": 24,
        "start_time": "2022-01-19T08:04:17.437Z"
      },
      {
        "duration": 1591,
        "start_time": "2022-01-19T08:04:17.464Z"
      },
      {
        "duration": 98,
        "start_time": "2022-01-19T08:04:19.061Z"
      },
      {
        "duration": 28,
        "start_time": "2022-01-19T08:04:19.162Z"
      },
      {
        "duration": 1760,
        "start_time": "2022-01-19T08:04:19.193Z"
      },
      {
        "duration": 789,
        "start_time": "2022-01-19T08:04:20.955Z"
      },
      {
        "duration": 234,
        "start_time": "2022-01-19T08:04:21.746Z"
      },
      {
        "duration": 13,
        "start_time": "2022-01-19T08:04:21.982Z"
      },
      {
        "duration": 10,
        "start_time": "2022-01-19T08:04:21.998Z"
      },
      {
        "duration": 52,
        "start_time": "2022-01-19T08:04:22.011Z"
      },
      {
        "duration": 11,
        "start_time": "2022-01-19T08:04:22.066Z"
      },
      {
        "duration": 555,
        "start_time": "2022-01-19T08:04:22.080Z"
      },
      {
        "duration": 30,
        "start_time": "2022-01-19T08:04:22.638Z"
      },
      {
        "duration": 6,
        "start_time": "2022-01-19T08:04:22.671Z"
      },
      {
        "duration": 23,
        "start_time": "2022-01-19T08:04:22.680Z"
      },
      {
        "duration": 11438,
        "start_time": "2022-01-19T08:04:22.707Z"
      },
      {
        "duration": 31,
        "start_time": "2022-01-19T08:04:34.149Z"
      },
      {
        "duration": 278,
        "start_time": "2022-01-19T08:04:34.184Z"
      },
      {
        "duration": 381,
        "start_time": "2022-01-19T08:04:34.464Z"
      },
      {
        "duration": 317,
        "start_time": "2022-01-19T08:04:34.847Z"
      },
      {
        "duration": 322,
        "start_time": "2022-01-19T08:04:35.168Z"
      },
      {
        "duration": 327,
        "start_time": "2022-01-19T08:04:35.493Z"
      },
      {
        "duration": 338,
        "start_time": "2022-01-19T08:04:35.824Z"
      },
      {
        "duration": 327,
        "start_time": "2022-01-19T08:04:36.165Z"
      },
      {
        "duration": 8,
        "start_time": "2022-01-19T08:04:36.496Z"
      },
      {
        "duration": 27,
        "start_time": "2022-01-19T08:04:36.507Z"
      },
      {
        "duration": 29,
        "start_time": "2022-01-19T08:04:36.537Z"
      },
      {
        "duration": 11,
        "start_time": "2022-01-19T08:04:36.569Z"
      },
      {
        "duration": 18,
        "start_time": "2022-01-19T08:04:36.583Z"
      },
      {
        "duration": 360,
        "start_time": "2022-01-19T08:04:36.603Z"
      },
      {
        "duration": 8,
        "start_time": "2022-01-19T08:04:36.966Z"
      },
      {
        "duration": 277,
        "start_time": "2022-01-19T08:04:36.977Z"
      },
      {
        "duration": 303,
        "start_time": "2022-01-19T08:04:37.259Z"
      },
      {
        "duration": 330,
        "start_time": "2022-01-19T08:04:37.564Z"
      },
      {
        "duration": 327,
        "start_time": "2022-01-19T08:04:37.897Z"
      },
      {
        "duration": 392,
        "start_time": "2022-01-19T08:04:38.228Z"
      },
      {
        "duration": 343,
        "start_time": "2022-01-19T08:04:38.623Z"
      },
      {
        "duration": 1414,
        "start_time": "2022-01-19T08:04:38.968Z"
      },
      {
        "duration": 37,
        "start_time": "2022-01-19T08:28:27.274Z"
      },
      {
        "duration": 282,
        "start_time": "2022-01-19T08:29:35.940Z"
      },
      {
        "duration": 60,
        "start_time": "2022-01-19T08:40:08.659Z"
      },
      {
        "duration": 302,
        "start_time": "2022-01-19T08:40:35.920Z"
      },
      {
        "duration": 158,
        "start_time": "2022-01-19T08:44:18.240Z"
      },
      {
        "duration": 126,
        "start_time": "2022-01-19T08:44:25.344Z"
      },
      {
        "duration": 114,
        "start_time": "2022-01-19T08:45:24.982Z"
      },
      {
        "duration": 144,
        "start_time": "2022-01-19T08:45:57.461Z"
      },
      {
        "duration": 307,
        "start_time": "2022-01-19T08:46:08.123Z"
      },
      {
        "duration": 30,
        "start_time": "2022-01-19T08:52:58.347Z"
      },
      {
        "duration": 12,
        "start_time": "2022-01-19T09:52:37.917Z"
      },
      {
        "duration": 17,
        "start_time": "2022-01-19T09:52:46.537Z"
      },
      {
        "duration": 22,
        "start_time": "2022-01-19T09:53:45.229Z"
      },
      {
        "duration": 2061,
        "start_time": "2022-01-19T09:59:00.842Z"
      },
      {
        "duration": 19,
        "start_time": "2022-01-19T09:59:12.722Z"
      },
      {
        "duration": 9643,
        "start_time": "2022-01-19T09:59:58.270Z"
      },
      {
        "duration": 17,
        "start_time": "2022-01-19T10:00:26.302Z"
      },
      {
        "duration": 20,
        "start_time": "2022-01-19T10:00:46.375Z"
      },
      {
        "duration": 25,
        "start_time": "2022-01-19T10:01:36.000Z"
      },
      {
        "duration": 123,
        "start_time": "2022-01-19T10:02:39.337Z"
      },
      {
        "duration": 17,
        "start_time": "2022-01-19T10:03:32.135Z"
      },
      {
        "duration": 22,
        "start_time": "2022-01-19T10:06:32.614Z"
      },
      {
        "duration": 28,
        "start_time": "2022-01-19T10:06:46.118Z"
      },
      {
        "duration": 21,
        "start_time": "2022-01-19T10:07:00.189Z"
      },
      {
        "duration": 9472,
        "start_time": "2022-01-19T10:07:22.942Z"
      },
      {
        "duration": 10148,
        "start_time": "2022-01-19T10:07:39.839Z"
      },
      {
        "duration": 20,
        "start_time": "2022-01-19T10:07:57.516Z"
      },
      {
        "duration": 22,
        "start_time": "2022-01-19T10:10:55.292Z"
      },
      {
        "duration": 20,
        "start_time": "2022-01-19T10:14:17.328Z"
      },
      {
        "duration": 133,
        "start_time": "2022-01-19T10:15:13.120Z"
      },
      {
        "duration": 128,
        "start_time": "2022-01-19T10:15:25.037Z"
      },
      {
        "duration": 284,
        "start_time": "2022-01-19T10:19:32.997Z"
      },
      {
        "duration": 11,
        "start_time": "2022-01-19T10:29:57.234Z"
      },
      {
        "duration": 23,
        "start_time": "2022-01-19T10:30:47.299Z"
      },
      {
        "duration": 29,
        "start_time": "2022-01-19T10:31:17.801Z"
      },
      {
        "duration": 28,
        "start_time": "2022-01-19T10:31:57.359Z"
      },
      {
        "duration": 190,
        "start_time": "2022-01-19T10:33:10.788Z"
      },
      {
        "duration": 377,
        "start_time": "2022-01-19T10:33:16.102Z"
      },
      {
        "duration": 405,
        "start_time": "2022-01-19T10:34:56.501Z"
      },
      {
        "duration": 326,
        "start_time": "2022-01-19T10:43:28.126Z"
      },
      {
        "duration": 345,
        "start_time": "2022-01-19T10:45:24.202Z"
      },
      {
        "duration": 787,
        "start_time": "2022-01-19T10:53:54.572Z"
      },
      {
        "duration": 139,
        "start_time": "2022-01-19T10:53:55.363Z"
      },
      {
        "duration": 15,
        "start_time": "2022-01-19T10:53:55.505Z"
      },
      {
        "duration": 12,
        "start_time": "2022-01-19T10:53:55.522Z"
      },
      {
        "duration": 16,
        "start_time": "2022-01-19T10:53:55.560Z"
      },
      {
        "duration": 18,
        "start_time": "2022-01-19T10:53:55.579Z"
      },
      {
        "duration": 18,
        "start_time": "2022-01-19T10:53:55.600Z"
      },
      {
        "duration": 64,
        "start_time": "2022-01-19T10:53:55.622Z"
      },
      {
        "duration": 5,
        "start_time": "2022-01-19T10:53:55.688Z"
      },
      {
        "duration": 8,
        "start_time": "2022-01-19T10:53:55.695Z"
      },
      {
        "duration": 8,
        "start_time": "2022-01-19T10:53:55.706Z"
      },
      {
        "duration": 66,
        "start_time": "2022-01-19T10:53:55.716Z"
      },
      {
        "duration": 8,
        "start_time": "2022-01-19T10:53:55.784Z"
      },
      {
        "duration": 5,
        "start_time": "2022-01-19T10:53:55.794Z"
      },
      {
        "duration": 24,
        "start_time": "2022-01-19T10:53:55.802Z"
      },
      {
        "duration": 61,
        "start_time": "2022-01-19T10:53:55.828Z"
      },
      {
        "duration": 4,
        "start_time": "2022-01-19T10:53:55.891Z"
      },
      {
        "duration": 8930,
        "start_time": "2022-01-19T10:53:55.898Z"
      },
      {
        "duration": 40,
        "start_time": "2022-01-19T10:54:04.831Z"
      },
      {
        "duration": 34,
        "start_time": "2022-01-19T10:54:04.874Z"
      },
      {
        "duration": 4,
        "start_time": "2022-01-19T10:54:04.911Z"
      },
      {
        "duration": 575,
        "start_time": "2022-01-19T10:54:04.918Z"
      },
      {
        "duration": 168,
        "start_time": "2022-01-19T10:54:05.499Z"
      },
      {
        "duration": 1203,
        "start_time": "2022-01-19T10:54:05.671Z"
      },
      {
        "duration": 13,
        "start_time": "2022-01-19T10:54:06.876Z"
      },
      {
        "duration": 8,
        "start_time": "2022-01-19T10:54:06.892Z"
      },
      {
        "duration": 1604,
        "start_time": "2022-01-19T10:54:06.902Z"
      },
      {
        "duration": 71,
        "start_time": "2022-01-19T10:54:08.509Z"
      },
      {
        "duration": 18,
        "start_time": "2022-01-19T10:54:08.583Z"
      },
      {
        "duration": 1691,
        "start_time": "2022-01-19T10:54:08.603Z"
      },
      {
        "duration": 644,
        "start_time": "2022-01-19T10:54:10.297Z"
      },
      {
        "duration": 252,
        "start_time": "2022-01-19T10:54:10.943Z"
      },
      {
        "duration": 12,
        "start_time": "2022-01-19T10:54:11.198Z"
      },
      {
        "duration": 13,
        "start_time": "2022-01-19T10:54:11.213Z"
      },
      {
        "duration": 51,
        "start_time": "2022-01-19T10:54:11.229Z"
      },
      {
        "duration": 11,
        "start_time": "2022-01-19T10:54:11.283Z"
      },
      {
        "duration": 566,
        "start_time": "2022-01-19T10:54:11.297Z"
      },
      {
        "duration": 22,
        "start_time": "2022-01-19T10:54:11.866Z"
      },
      {
        "duration": 14,
        "start_time": "2022-01-19T10:54:11.891Z"
      },
      {
        "duration": 28,
        "start_time": "2022-01-19T10:54:11.908Z"
      },
      {
        "duration": 7681,
        "start_time": "2022-01-19T10:54:11.938Z"
      },
      {
        "duration": 19,
        "start_time": "2022-01-19T10:54:19.622Z"
      },
      {
        "duration": 293,
        "start_time": "2022-01-19T10:54:19.661Z"
      },
      {
        "duration": 385,
        "start_time": "2022-01-19T10:54:19.960Z"
      },
      {
        "duration": 343,
        "start_time": "2022-01-19T10:54:20.348Z"
      },
      {
        "duration": 329,
        "start_time": "2022-01-19T10:54:20.693Z"
      },
      {
        "duration": 442,
        "start_time": "2022-01-19T10:54:21.025Z"
      },
      {
        "duration": 369,
        "start_time": "2022-01-19T10:54:21.471Z"
      },
      {
        "duration": 338,
        "start_time": "2022-01-19T10:54:21.843Z"
      },
      {
        "duration": 324,
        "start_time": "2022-01-19T10:54:22.183Z"
      },
      {
        "duration": 327,
        "start_time": "2022-01-19T10:54:22.510Z"
      },
      {
        "duration": 22,
        "start_time": "2022-01-19T10:54:22.840Z"
      },
      {
        "duration": 67,
        "start_time": "2022-01-19T10:54:22.866Z"
      },
      {
        "duration": 8,
        "start_time": "2022-01-19T10:54:22.935Z"
      },
      {
        "duration": 35,
        "start_time": "2022-01-19T10:54:22.945Z"
      },
      {
        "duration": 43,
        "start_time": "2022-01-19T10:54:22.982Z"
      },
      {
        "duration": 376,
        "start_time": "2022-01-19T10:54:23.028Z"
      },
      {
        "duration": 9,
        "start_time": "2022-01-19T10:54:23.407Z"
      },
      {
        "duration": 307,
        "start_time": "2022-01-19T10:54:23.419Z"
      },
      {
        "duration": 295,
        "start_time": "2022-01-19T10:54:23.728Z"
      },
      {
        "duration": 402,
        "start_time": "2022-01-19T10:54:24.025Z"
      },
      {
        "duration": 341,
        "start_time": "2022-01-19T10:54:24.430Z"
      },
      {
        "duration": 343,
        "start_time": "2022-01-19T10:54:24.774Z"
      },
      {
        "duration": 362,
        "start_time": "2022-01-19T10:54:25.120Z"
      },
      {
        "duration": 356,
        "start_time": "2022-01-19T10:54:25.484Z"
      },
      {
        "duration": 1470,
        "start_time": "2022-01-19T10:54:25.843Z"
      },
      {
        "duration": 806,
        "start_time": "2022-01-20T05:14:16.386Z"
      },
      {
        "duration": 125,
        "start_time": "2022-01-20T05:14:17.194Z"
      },
      {
        "duration": 15,
        "start_time": "2022-01-20T05:14:17.324Z"
      },
      {
        "duration": 11,
        "start_time": "2022-01-20T05:14:17.342Z"
      },
      {
        "duration": 11,
        "start_time": "2022-01-20T05:14:17.356Z"
      },
      {
        "duration": 58,
        "start_time": "2022-01-20T05:14:17.369Z"
      },
      {
        "duration": 16,
        "start_time": "2022-01-20T05:14:17.430Z"
      },
      {
        "duration": 24,
        "start_time": "2022-01-20T05:14:17.450Z"
      },
      {
        "duration": 9,
        "start_time": "2022-01-20T05:14:17.477Z"
      },
      {
        "duration": 35,
        "start_time": "2022-01-20T05:14:17.488Z"
      },
      {
        "duration": 10,
        "start_time": "2022-01-20T05:14:17.525Z"
      },
      {
        "duration": 20,
        "start_time": "2022-01-20T05:14:17.537Z"
      },
      {
        "duration": 9,
        "start_time": "2022-01-20T05:14:17.559Z"
      },
      {
        "duration": 6,
        "start_time": "2022-01-20T05:14:17.571Z"
      },
      {
        "duration": 66,
        "start_time": "2022-01-20T05:14:17.580Z"
      },
      {
        "duration": 24,
        "start_time": "2022-01-20T05:14:17.649Z"
      },
      {
        "duration": 5,
        "start_time": "2022-01-20T05:14:17.676Z"
      },
      {
        "duration": 8355,
        "start_time": "2022-01-20T05:14:17.683Z"
      },
      {
        "duration": 28,
        "start_time": "2022-01-20T05:14:26.041Z"
      },
      {
        "duration": 53,
        "start_time": "2022-01-20T05:14:26.072Z"
      },
      {
        "duration": 5,
        "start_time": "2022-01-20T05:14:26.128Z"
      },
      {
        "duration": 540,
        "start_time": "2022-01-20T05:14:26.135Z"
      },
      {
        "duration": 171,
        "start_time": "2022-01-20T05:14:26.681Z"
      },
      {
        "duration": 1079,
        "start_time": "2022-01-20T05:14:26.856Z"
      },
      {
        "duration": 11,
        "start_time": "2022-01-20T05:14:27.937Z"
      },
      {
        "duration": 7,
        "start_time": "2022-01-20T05:14:27.951Z"
      },
      {
        "duration": 1519,
        "start_time": "2022-01-20T05:14:27.960Z"
      },
      {
        "duration": 78,
        "start_time": "2022-01-20T05:14:29.481Z"
      },
      {
        "duration": 18,
        "start_time": "2022-01-20T05:14:29.561Z"
      },
      {
        "duration": 2029,
        "start_time": "2022-01-20T05:14:29.581Z"
      },
      {
        "duration": 858,
        "start_time": "2022-01-20T05:14:31.614Z"
      },
      {
        "duration": 307,
        "start_time": "2022-01-20T05:14:32.475Z"
      },
      {
        "duration": 15,
        "start_time": "2022-01-20T05:14:32.785Z"
      },
      {
        "duration": 27,
        "start_time": "2022-01-20T05:14:32.803Z"
      },
      {
        "duration": 23,
        "start_time": "2022-01-20T05:14:32.833Z"
      },
      {
        "duration": 14,
        "start_time": "2022-01-20T05:14:32.858Z"
      },
      {
        "duration": 791,
        "start_time": "2022-01-20T05:14:32.875Z"
      },
      {
        "duration": 22,
        "start_time": "2022-01-20T05:14:33.669Z"
      },
      {
        "duration": 29,
        "start_time": "2022-01-20T05:14:33.694Z"
      },
      {
        "duration": 26,
        "start_time": "2022-01-20T05:14:33.726Z"
      },
      {
        "duration": 10370,
        "start_time": "2022-01-20T05:14:33.754Z"
      },
      {
        "duration": 16,
        "start_time": "2022-01-20T05:14:44.126Z"
      },
      {
        "duration": 263,
        "start_time": "2022-01-20T05:14:44.144Z"
      },
      {
        "duration": 330,
        "start_time": "2022-01-20T05:14:44.410Z"
      },
      {
        "duration": 296,
        "start_time": "2022-01-20T05:14:44.742Z"
      },
      {
        "duration": 312,
        "start_time": "2022-01-20T05:14:45.041Z"
      },
      {
        "duration": 308,
        "start_time": "2022-01-20T05:14:45.357Z"
      },
      {
        "duration": 314,
        "start_time": "2022-01-20T05:14:45.667Z"
      },
      {
        "duration": 321,
        "start_time": "2022-01-20T05:14:45.984Z"
      },
      {
        "duration": 291,
        "start_time": "2022-01-20T05:14:46.308Z"
      },
      {
        "duration": 296,
        "start_time": "2022-01-20T05:14:46.603Z"
      },
      {
        "duration": 9,
        "start_time": "2022-01-20T05:14:46.902Z"
      },
      {
        "duration": 28,
        "start_time": "2022-01-20T05:14:46.924Z"
      },
      {
        "duration": 9,
        "start_time": "2022-01-20T05:14:46.954Z"
      },
      {
        "duration": 10,
        "start_time": "2022-01-20T05:14:46.966Z"
      },
      {
        "duration": 18,
        "start_time": "2022-01-20T05:14:47.023Z"
      },
      {
        "duration": 313,
        "start_time": "2022-01-20T05:14:47.043Z"
      },
      {
        "duration": 9,
        "start_time": "2022-01-20T05:14:47.359Z"
      },
      {
        "duration": 268,
        "start_time": "2022-01-20T05:14:47.371Z"
      },
      {
        "duration": 262,
        "start_time": "2022-01-20T05:14:47.642Z"
      },
      {
        "duration": 351,
        "start_time": "2022-01-20T05:14:47.906Z"
      },
      {
        "duration": 308,
        "start_time": "2022-01-20T05:14:48.260Z"
      },
      {
        "duration": 327,
        "start_time": "2022-01-20T05:14:48.570Z"
      },
      {
        "duration": 341,
        "start_time": "2022-01-20T05:14:48.899Z"
      },
      {
        "duration": 316,
        "start_time": "2022-01-20T05:14:49.242Z"
      },
      {
        "duration": 1384,
        "start_time": "2022-01-20T05:14:49.561Z"
      },
      {
        "duration": 121,
        "start_time": "2022-01-20T05:15:32.477Z"
      },
      {
        "duration": 170,
        "start_time": "2022-01-20T06:04:52.301Z"
      },
      {
        "duration": 780,
        "start_time": "2022-01-20T08:19:09.364Z"
      },
      {
        "duration": 121,
        "start_time": "2022-01-20T08:19:10.147Z"
      },
      {
        "duration": 15,
        "start_time": "2022-01-20T08:19:10.271Z"
      },
      {
        "duration": 11,
        "start_time": "2022-01-20T08:19:10.289Z"
      },
      {
        "duration": 122,
        "start_time": "2022-01-20T08:19:10.325Z"
      },
      {
        "duration": 11,
        "start_time": "2022-01-20T08:19:10.449Z"
      },
      {
        "duration": 22,
        "start_time": "2022-01-20T08:19:10.462Z"
      },
      {
        "duration": 36,
        "start_time": "2022-01-20T08:19:10.488Z"
      },
      {
        "duration": 25,
        "start_time": "2022-01-20T08:19:10.528Z"
      },
      {
        "duration": 5,
        "start_time": "2022-01-20T08:19:10.556Z"
      },
      {
        "duration": 9,
        "start_time": "2022-01-20T08:19:10.563Z"
      },
      {
        "duration": 8,
        "start_time": "2022-01-20T08:19:10.574Z"
      },
      {
        "duration": 22,
        "start_time": "2022-01-20T08:19:10.623Z"
      },
      {
        "duration": 7,
        "start_time": "2022-01-20T08:19:10.648Z"
      },
      {
        "duration": 6,
        "start_time": "2022-01-20T08:19:10.657Z"
      },
      {
        "duration": 26,
        "start_time": "2022-01-20T08:19:10.665Z"
      },
      {
        "duration": 22,
        "start_time": "2022-01-20T08:19:10.724Z"
      },
      {
        "duration": 9,
        "start_time": "2022-01-20T08:19:10.748Z"
      },
      {
        "duration": 8286,
        "start_time": "2022-01-20T08:19:10.759Z"
      },
      {
        "duration": 29,
        "start_time": "2022-01-20T08:19:19.048Z"
      },
      {
        "duration": 50,
        "start_time": "2022-01-20T08:19:19.079Z"
      },
      {
        "duration": 5,
        "start_time": "2022-01-20T08:19:19.131Z"
      },
      {
        "duration": 545,
        "start_time": "2022-01-20T08:19:19.142Z"
      },
      {
        "duration": 172,
        "start_time": "2022-01-20T08:19:19.691Z"
      },
      {
        "duration": 1090,
        "start_time": "2022-01-20T08:19:19.865Z"
      },
      {
        "duration": 11,
        "start_time": "2022-01-20T08:19:20.957Z"
      },
      {
        "duration": 7,
        "start_time": "2022-01-20T08:19:20.971Z"
      },
      {
        "duration": 1643,
        "start_time": "2022-01-20T08:19:20.980Z"
      },
      {
        "duration": 63,
        "start_time": "2022-01-20T08:19:22.625Z"
      },
      {
        "duration": 40,
        "start_time": "2022-01-20T08:19:22.690Z"
      },
      {
        "duration": 1457,
        "start_time": "2022-01-20T08:19:22.733Z"
      },
      {
        "duration": 601,
        "start_time": "2022-01-20T08:19:24.193Z"
      },
      {
        "duration": 234,
        "start_time": "2022-01-20T08:19:24.796Z"
      },
      {
        "duration": 13,
        "start_time": "2022-01-20T08:19:25.032Z"
      },
      {
        "duration": 10,
        "start_time": "2022-01-20T08:19:25.047Z"
      },
      {
        "duration": 18,
        "start_time": "2022-01-20T08:19:25.060Z"
      },
      {
        "duration": 43,
        "start_time": "2022-01-20T08:19:25.081Z"
      },
      {
        "duration": 537,
        "start_time": "2022-01-20T08:19:25.127Z"
      },
      {
        "duration": 17,
        "start_time": "2022-01-20T08:19:25.666Z"
      },
      {
        "duration": 7,
        "start_time": "2022-01-20T08:19:25.685Z"
      },
      {
        "duration": 40,
        "start_time": "2022-01-20T08:19:25.694Z"
      },
      {
        "duration": 10856,
        "start_time": "2022-01-20T08:19:25.737Z"
      },
      {
        "duration": 37,
        "start_time": "2022-01-20T08:19:36.595Z"
      },
      {
        "duration": 335,
        "start_time": "2022-01-20T08:19:36.634Z"
      },
      {
        "duration": 282,
        "start_time": "2022-01-20T08:19:36.971Z"
      },
      {
        "duration": 317,
        "start_time": "2022-01-20T08:19:37.255Z"
      },
      {
        "duration": 329,
        "start_time": "2022-01-20T08:19:37.575Z"
      },
      {
        "duration": 332,
        "start_time": "2022-01-20T08:19:37.906Z"
      },
      {
        "duration": 332,
        "start_time": "2022-01-20T08:19:38.240Z"
      },
      {
        "duration": 324,
        "start_time": "2022-01-20T08:19:38.574Z"
      },
      {
        "duration": 427,
        "start_time": "2022-01-20T08:19:38.901Z"
      },
      {
        "duration": 308,
        "start_time": "2022-01-20T08:19:39.330Z"
      },
      {
        "duration": 8,
        "start_time": "2022-01-20T08:19:39.641Z"
      },
      {
        "duration": 32,
        "start_time": "2022-01-20T08:19:39.651Z"
      },
      {
        "duration": 8,
        "start_time": "2022-01-20T08:19:39.685Z"
      },
      {
        "duration": 35,
        "start_time": "2022-01-20T08:19:39.696Z"
      },
      {
        "duration": 22,
        "start_time": "2022-01-20T08:19:39.735Z"
      },
      {
        "duration": 471,
        "start_time": "2022-01-20T08:19:39.760Z"
      },
      {
        "duration": 9,
        "start_time": "2022-01-20T08:19:40.233Z"
      },
      {
        "duration": 278,
        "start_time": "2022-01-20T08:19:40.245Z"
      },
      {
        "duration": 347,
        "start_time": "2022-01-20T08:19:40.525Z"
      },
      {
        "duration": 319,
        "start_time": "2022-01-20T08:19:40.875Z"
      },
      {
        "duration": 331,
        "start_time": "2022-01-20T08:19:41.196Z"
      },
      {
        "duration": 367,
        "start_time": "2022-01-20T08:19:41.530Z"
      },
      {
        "duration": 350,
        "start_time": "2022-01-20T08:19:41.899Z"
      },
      {
        "duration": 338,
        "start_time": "2022-01-20T08:19:42.252Z"
      },
      {
        "duration": 1404,
        "start_time": "2022-01-20T08:19:42.593Z"
      }
    ],
    "kernelspec": {
      "display_name": "Python 3 (ipykernel)",
      "language": "python",
      "name": "python3"
    },
    "language_info": {
      "codemirror_mode": {
        "name": "ipython",
        "version": 3
      },
      "file_extension": ".py",
      "mimetype": "text/x-python",
      "name": "python",
      "nbconvert_exporter": "python",
      "pygments_lexer": "ipython3",
      "version": "3.9.5"
    },
    "toc": {
      "base_numbering": 1,
      "nav_menu": {},
      "number_sections": true,
      "sideBar": true,
      "skip_h1_title": true,
      "title_cell": "Содержание",
      "title_sidebar": "Contents",
      "toc_cell": true,
      "toc_position": {
        "height": "calc(100% - 180px)",
        "left": "10px",
        "top": "150px",
        "width": "165px"
      },
      "toc_section_display": true,
      "toc_window_display": true
    },
    "colab": {
      "name": "Исследование объявлений о продаже квартир",
      "provenance": [],
      "collapsed_sections": [],
      "toc_visible": true
    }
  },
  "nbformat": 4,
  "nbformat_minor": 0
}