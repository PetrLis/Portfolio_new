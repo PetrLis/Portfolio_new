{
  "cells": [
    {
      "cell_type": "markdown",
      "metadata": {
        "id": "dss4HeoJ0B78"
      },
      "source": [
        "# Исследование надёжности заёмщиков\n",
        "\n",
        "Заказчик — кредитный отдел банка. Нужно разобраться, влияет ли семейное положение и количество детей клиента на факт погашения кредита в срок. Входные данные от банка — статистика о платёжеспособности клиентов.\n",
        "\n",
        "Результаты исследования будут учтены при построении модели **кредитного скоринга** — специальной системы, которая оценивает способность потенциального заёмщика вернуть кредит банку."
      ]
    },
    {
      "cell_type": "markdown",
      "metadata": {
        "id": "CB1pPswx0B79"
      },
      "source": [
        "## Шаг 1. Откройте файл с данными и изучите общую информацию"
      ]
    },
    {
      "cell_type": "code",
      "execution_count": null,
      "metadata": {
        "id": "5sHczTeD0B7-",
        "outputId": "3ec319d2-b6e1-4387-b109-ce0a5aded396"
      },
      "outputs": [
        {
          "name": "stdout",
          "output_type": "stream",
          "text": [
            "<class 'pandas.core.frame.DataFrame'>\n",
            "RangeIndex: 21525 entries, 0 to 21524\n",
            "Data columns (total 12 columns):\n",
            "children            21525 non-null int64\n",
            "days_employed       19351 non-null float64\n",
            "dob_years           21525 non-null int64\n",
            "education           21525 non-null object\n",
            "education_id        21525 non-null int64\n",
            "family_status       21525 non-null object\n",
            "family_status_id    21525 non-null int64\n",
            "gender              21525 non-null object\n",
            "income_type         21525 non-null object\n",
            "debt                21525 non-null int64\n",
            "total_income        19351 non-null float64\n",
            "purpose             21525 non-null object\n",
            "dtypes: float64(2), int64(5), object(5)\n",
            "memory usage: 2.0+ MB\n"
          ]
        }
      ],
      "source": [
        "import pandas as pd #импортирую библиотеку Pandas и сохраняю в переменной pd\n",
        "df = pd.read_csv() #открываю датафрейм data и сохраняю в переменную df\n",
        "df.info() # вывожу на экран информацию о датафрейм"
      ]
    },
    {
      "cell_type": "markdown",
      "metadata": {
        "id": "F-BvNUlK0B8D"
      },
      "source": [
        "**Вывод**"
      ]
    },
    {
      "cell_type": "markdown",
      "metadata": {
        "id": "RlrAMxQD0B8F"
      },
      "source": [
        "В датафрейм 21525 строк, 12 столбцов, типы данных по столбцам int64, float64, object. \n",
        "В столбцах 'days_employed' и 'total_income' есть пропуски данных."
      ]
    },
    {
      "cell_type": "markdown",
      "metadata": {
        "id": "GymYUtig0B8H"
      },
      "source": [
        "## Шаг 2. Предобработка данных"
      ]
    },
    {
      "cell_type": "markdown",
      "metadata": {
        "id": "WCCL5APe0B8J"
      },
      "source": [
        "### Обработка пропусков"
      ]
    },
    {
      "cell_type": "code",
      "execution_count": null,
      "metadata": {
        "id": "mD8aosGM0B8K",
        "outputId": "47769bc0-fa24-4eb9-a7a0-eec2ae9b2595"
      },
      "outputs": [
        {
          "data": {
            "text/plain": [
              "children               0\n",
              "days_employed       2174\n",
              "dob_years              0\n",
              "education              0\n",
              "education_id           0\n",
              "family_status          0\n",
              "family_status_id       0\n",
              "gender                 0\n",
              "income_type            0\n",
              "debt                   0\n",
              "total_income        2174\n",
              "purpose                0\n",
              "dtype: int64"
            ]
          },
          "execution_count": 2,
          "metadata": {},
          "output_type": "execute_result"
        }
      ],
      "source": [
        "df.isna().sum() #считаю пропуски в данных"
      ]
    },
    {
      "cell_type": "markdown",
      "metadata": {
        "id": "NbIVKlqB0B8M"
      },
      "source": [
        "В столбцах 'days_employed' и 'total_income' пропущено 2174 значений, одинаковое количество. Пропуски формата 'Nan', т.к. тип данных в этих столбцах float64. Скорее всего ошибка оператора.\n",
        "Так как пропущены данные о стаже работы и доходе клиента можно заполить пропуски медианными значениями групп клиентов по типу занятости."
      ]
    },
    {
      "cell_type": "markdown",
      "metadata": {
        "id": "fmSTmtZy0B8N"
      },
      "source": [
        "Для заполнения пропусков в данных столбца 'days_employed' необходимо все занчения столбца привести к положительным числам, а также все значения записать в днях. Для этого сравню значения стажа с возрастом заемщиков. В столбце 'dob_years' также имеются недействительные значения возраста, заполню их медианными значениями групп заемщиков по типу занятости."
      ]
    },
    {
      "cell_type": "code",
      "execution_count": null,
      "metadata": {
        "id": "VP92ZbyW0B8P"
      },
      "outputs": [],
      "source": [
        "for income in df['income_type'].unique(): # заменяем значения возраста 0 на медианные значения группы по типу занятости\n",
        "    medians = df.loc[df['income_type'] == income,'dob_years'].median()#\n",
        "    df.loc[(df['dob_years'] == 0.0) & (df['income_type'] == income),'dob_years']=medians#"
      ]
    },
    {
      "cell_type": "markdown",
      "metadata": {
        "id": "5DoVN_Q40B8Q"
      },
      "source": [
        "Данные о детях, трудовом стаже и возрасте заемщиков должны быть представлены целым положительным числом, но в данных есть отрицательные значения, вернем их модуль.\n",
        "Данные о трудовом стаже должны быть представлены в днях, данные о возрасте в годах. Проверив данные о трудовом стаже видим что есть слишком большие значения, сравним их с данными о возрасте клиентов. Для этого напишем цикл, который переберет все значения и индексы в столбце 'days_employed' и сравнит их со значениями столбца 'dob_years' сконвертированными в дни и часы."
      ]
    },
    {
      "cell_type": "code",
      "execution_count": null,
      "metadata": {
        "id": "sypAP9n_0B8R"
      },
      "outputs": [],
      "source": [
        "df['days_employed'] = abs(df['days_employed'])# возвращаю модуль значений столбца 'days_employed'\n",
        "df['children'] = abs(df['children'])# возвращаю модуль значений столбца 'children'\n",
        "df['total_income'] = abs(df['total_income'])# возвращаю модуль значений столбца 'total_income'"
      ]
    },
    {
      "cell_type": "code",
      "execution_count": null,
      "metadata": {
        "id": "Tg-jYxnC0B8U"
      },
      "outputs": [],
      "source": [
        "for i, day in enumerate(df['days_employed']): # цикл пробегает по всем значениям и индексам значений в столбце 'days_employed'\n",
        "    try: # в данных может встретиться недествительная информация, применим  try:-except для исключения ошибки кода\n",
        "        if day <= (df.loc[i,'dob_years'] *365): #сравниваю значение в ячейке со значением ячейки возраста переведенным в дни\n",
        "            # когда значение в столбце 'days_employed' меньше или равно значению столбца 'dob_years' оставляем значение столбца \n",
        "            # 'days_employed' без изменений.\n",
        "            df.loc[i, 'days_employed'] = df.loc[i, 'days_employed'] #значение в столбце 'days_employed' не меняются\n",
        "        elif day>(df.loc[i,'dob_years'] *365): #когда значение в столбце 'days_employed' больше значения столбца 'dob_years' \n",
        "            # меняем значение столбца 'days_employed' на значение в днях.\n",
        "            df.loc[i, 'days_employed'] = df.loc[i, 'days_employed']/8760 \n",
        "    except: # в случае недействительных данных код выведет предложение исправить данные и выведет строку с ошибкой.\n",
        "        print('Исправьте данные.', df.loc[i]) "
      ]
    },
    {
      "cell_type": "code",
      "execution_count": null,
      "metadata": {
        "id": "vwoCkRzC0B8X"
      },
      "outputs": [],
      "source": [
        "for income in df['income_type'].unique():     # создаю цикл, который перебирает значения типа занятости      \n",
        "    medians = df.loc[df['income_type'] == income,'total_income'].median()# и вычисляет медианное значение в столбце 'total_income'\n",
        "    df.loc[(df['total_income'].isna()) & (df['income_type'] == income),'total_income']=medians # и заполняет пропущенные значения медианными данными"
      ]
    },
    {
      "cell_type": "code",
      "execution_count": null,
      "metadata": {
        "id": "ju9xeMhv0B8X"
      },
      "outputs": [],
      "source": [
        "for incom in df['income_type'].unique():# этим циклом заполняю пропущенные значения стажа\n",
        "    median = df.loc[df['income_type'] == incom,'days_employed'].median()# также медианными значениями \n",
        "    df.loc[(df['days_employed'].isna()) & (df['income_type'] == incom),'days_employed']=median #в группе по типу занятости"
      ]
    },
    {
      "cell_type": "code",
      "execution_count": null,
      "metadata": {
        "scrolled": true,
        "id": "LSkdN4WK0B8Y",
        "outputId": "c6aa358e-ad58-4354-fe79-591c7b8b24c9"
      },
      "outputs": [
        {
          "name": "stdout",
          "output_type": "stream",
          "text": [
            "<class 'pandas.core.frame.DataFrame'>\n",
            "RangeIndex: 21525 entries, 0 to 21524\n",
            "Data columns (total 12 columns):\n",
            "children            21525 non-null int64\n",
            "days_employed       21525 non-null float64\n",
            "dob_years           21525 non-null float64\n",
            "education           21525 non-null object\n",
            "education_id        21525 non-null int64\n",
            "family_status       21525 non-null object\n",
            "family_status_id    21525 non-null int64\n",
            "gender              21525 non-null object\n",
            "income_type         21525 non-null object\n",
            "debt                21525 non-null int64\n",
            "total_income        21525 non-null float64\n",
            "purpose             21525 non-null object\n",
            "dtypes: float64(3), int64(4), object(5)\n",
            "memory usage: 2.0+ MB\n"
          ]
        }
      ],
      "source": [
        "df.info() #проверяю наличие пропусков"
      ]
    },
    {
      "cell_type": "code",
      "execution_count": null,
      "metadata": {
        "id": "ywk-V-iY0B8Z"
      },
      "outputs": [],
      "source": [
        "df['education'] = df['education'].str.lower()# привожу данные в столбце об образовании в нижний регистр\n",
        "df['family_status'] = df['family_status'].str.lower()# привожу данные в столбце об семейном положении в нижний регистр"
      ]
    },
    {
      "cell_type": "code",
      "execution_count": null,
      "metadata": {
        "scrolled": true,
        "id": "xrr7TliQ0B8a",
        "outputId": "f9604c52-8915-4395-93c9-f5c43929b8e7"
      },
      "outputs": [
        {
          "data": {
            "text/plain": [
              "array([ 1,  0,  3,  2,  4, 20,  5])"
            ]
          },
          "execution_count": 10,
          "metadata": {},
          "output_type": "execute_result"
        }
      ],
      "source": [
        "df['children'].unique() #проверяю коичество детей у заемщиков"
      ]
    },
    {
      "cell_type": "code",
      "execution_count": null,
      "metadata": {
        "id": "KOq2ItUb0B8b",
        "outputId": "65bb19a3-13c3-4bf2-c103-3da31f1f2de5"
      },
      "outputs": [
        {
          "data": {
            "text/plain": [
              "0.3530778164924506"
            ]
          },
          "execution_count": 11,
          "metadata": {},
          "output_type": "execute_result"
        }
      ],
      "source": [
        "child = (df.loc[df.loc[: ,'children'] == 20,'children'].count())/(df['children'].count()) # Вычисляю долю строк, содержащих\n",
        "child*100 # 20 детей у заемщиков."
      ]
    },
    {
      "cell_type": "markdown",
      "metadata": {
        "id": "wpGXZhv00B8b"
      },
      "source": [
        "В датафрем 76 строк имеют данные о наличии 20 детей у заемщиков даже возрастом 21 год, эти данные также ошибка ввода данных приписали лишний 0, удалим его.  \n",
        "Доля всех строк, содержащих у заемщиков 20 детей составляет 0,35% от общего количества строк. Эти строки можно удалить без существенного влияния на конечный результат."
      ]
    },
    {
      "cell_type": "code",
      "execution_count": null,
      "metadata": {
        "id": "mNkG5f3n0B8d"
      },
      "outputs": [],
      "source": [
        "df['children']=df['children'].replace(20,2) #меняю количество детей с 20 до 2"
      ]
    },
    {
      "cell_type": "code",
      "execution_count": null,
      "metadata": {
        "id": "9dh7i30c0B8e",
        "outputId": "709858c3-0c51-4100-e161-f354f28ddb1a"
      },
      "outputs": [
        {
          "data": {
            "text/plain": [
              "array([1, 0, 3, 2, 4, 5])"
            ]
          },
          "execution_count": 13,
          "metadata": {},
          "output_type": "execute_result"
        }
      ],
      "source": [
        "df['children'].unique()# проверяем подготовку данных в столбце 'children'"
      ]
    },
    {
      "cell_type": "markdown",
      "metadata": {
        "id": "24KklH580B8f"
      },
      "source": [
        "**Вывод**"
      ]
    },
    {
      "cell_type": "markdown",
      "metadata": {
        "id": "N2y7PQ0y0B8f"
      },
      "source": [
        "Пропущенные значения в данных о стаже и доходе заполнили медианными значениями в группах, сгруппированных по типу занятости. Провел работу с артефактами.\n"
      ]
    },
    {
      "cell_type": "markdown",
      "metadata": {
        "id": "yvyWDcPx0B8f"
      },
      "source": [
        "### Замена типа данных"
      ]
    },
    {
      "cell_type": "code",
      "execution_count": null,
      "metadata": {
        "id": "D0Z7BWPg0B8g"
      },
      "outputs": [],
      "source": [
        "df['days_employed'] = df['days_employed'].astype('int') # меняем тип данных с 'float64' на 'int64' в столбце 'days_employed'\n"
      ]
    },
    {
      "cell_type": "code",
      "execution_count": null,
      "metadata": {
        "id": "BG4Ii2n80B8h"
      },
      "outputs": [],
      "source": [
        "df['total_income'] = df['total_income'].astype('int') # меняем тип данных с 'float64' на 'int64' в столбце 'total_income'"
      ]
    },
    {
      "cell_type": "code",
      "execution_count": null,
      "metadata": {
        "id": "AthO-mUz0B8h"
      },
      "outputs": [],
      "source": [
        "df['dob_years'] = df['dob_years'].astype('int') # меняем тип данных с 'float64' на 'int64' в столбце 'total_income'"
      ]
    },
    {
      "cell_type": "code",
      "execution_count": null,
      "metadata": {
        "id": "wWfeglmf0B8i",
        "outputId": "a0fb3fe7-22dc-4184-d8ec-9ffd195f072e"
      },
      "outputs": [
        {
          "name": "stdout",
          "output_type": "stream",
          "text": [
            "<class 'pandas.core.frame.DataFrame'>\n",
            "RangeIndex: 21525 entries, 0 to 21524\n",
            "Data columns (total 12 columns):\n",
            "children            21525 non-null int64\n",
            "days_employed       21525 non-null int64\n",
            "dob_years           21525 non-null int64\n",
            "education           21525 non-null object\n",
            "education_id        21525 non-null int64\n",
            "family_status       21525 non-null object\n",
            "family_status_id    21525 non-null int64\n",
            "gender              21525 non-null object\n",
            "income_type         21525 non-null object\n",
            "debt                21525 non-null int64\n",
            "total_income        21525 non-null int64\n",
            "purpose             21525 non-null object\n",
            "dtypes: int64(7), object(5)\n",
            "memory usage: 2.0+ MB\n"
          ]
        }
      ],
      "source": [
        "df.info() # проверяем типы данных"
      ]
    },
    {
      "cell_type": "markdown",
      "metadata": {
        "id": "c8ClIHJC0B8i"
      },
      "source": [
        "**Вывод**"
      ]
    },
    {
      "cell_type": "markdown",
      "metadata": {
        "id": "6x4ynfXY0B8j"
      },
      "source": [
        "Типы данных в столбцах 'days_employed', 'dob_years' и 'total_income' изменились на 'int64'. Для изменения типов данных был применен метод  astype() так как он преобразует 'float64' на 'int64'. Данные типа 'float64' в столбце 'days_employed' появились в моиент перевода данных о стаже в дни или часы. "
      ]
    },
    {
      "cell_type": "markdown",
      "metadata": {
        "id": "3GXRC2Ew0B8k"
      },
      "source": [
        "### Обработка дубликатов"
      ]
    },
    {
      "cell_type": "code",
      "execution_count": null,
      "metadata": {
        "scrolled": true,
        "id": "ii3BZ0Tx0B8k",
        "outputId": "fc3085c1-4acf-4216-d4e6-b1cc9790fea8"
      },
      "outputs": [
        {
          "data": {
            "text/plain": [
              "0.32984901277584205"
            ]
          },
          "execution_count": 18,
          "metadata": {},
          "output_type": "execute_result"
        }
      ],
      "source": [
        "df.duplicated().sum() # нахожу количество явных дубликатов\n",
        "#df = df.drop_duplicates().reset_index(drop=True) #  Перенес эти строки ниже\n",
        "#df.info()\n",
        "dubl = (df.duplicated().sum())/(df['children'].count()) # Вычисляю долю строк содержащих дубликаты.\n",
        "dubl*100 #"
      ]
    },
    {
      "cell_type": "markdown",
      "metadata": {
        "id": "24GvE06d0B8l"
      },
      "source": [
        "Методом duplicated() обнаружили явные дубликаты, их доля составила 0,33% от общего количества строк. Удалим их."
      ]
    },
    {
      "cell_type": "code",
      "execution_count": null,
      "metadata": {
        "id": "Ft9XmObJ0B8l",
        "outputId": "6a8f6476-e1e0-4091-afae-2fdff72aa87a"
      },
      "outputs": [
        {
          "name": "stdout",
          "output_type": "stream",
          "text": [
            "<class 'pandas.core.frame.DataFrame'>\n",
            "RangeIndex: 21454 entries, 0 to 21453\n",
            "Data columns (total 12 columns):\n",
            "children            21454 non-null int64\n",
            "days_employed       21454 non-null int64\n",
            "dob_years           21454 non-null int64\n",
            "education           21454 non-null object\n",
            "education_id        21454 non-null int64\n",
            "family_status       21454 non-null object\n",
            "family_status_id    21454 non-null int64\n",
            "gender              21454 non-null object\n",
            "income_type         21454 non-null object\n",
            "debt                21454 non-null int64\n",
            "total_income        21454 non-null int64\n",
            "purpose             21454 non-null object\n",
            "dtypes: int64(7), object(5)\n",
            "memory usage: 2.0+ MB\n"
          ]
        }
      ],
      "source": [
        "df = df.drop_duplicates().reset_index(drop=True) # удаляю строки с явными дубликатами\n",
        "df.info()"
      ]
    },
    {
      "cell_type": "code",
      "execution_count": null,
      "metadata": {
        "id": "mOFhq7dA0B8n",
        "outputId": "9c1c8f0a-101a-449e-f6c8-123cd095f548"
      },
      "outputs": [
        {
          "data": {
            "text/plain": [
              "array(['F', 'M', 'XNA'], dtype=object)"
            ]
          },
          "execution_count": 20,
          "metadata": {},
          "output_type": "execute_result"
        }
      ],
      "source": [
        "#df['education'] = df['education'].str.lower()# привожу данные в столбце об образовании в нижний регистр\n",
        "#df['family_status'] = df['family_status'].str.lower()# привожу данные в столбце об семейном положении в нижний регистр\n",
        "df['gender'].unique() # проверяю уникальные значения в данных о поле клиента"
      ]
    },
    {
      "cell_type": "code",
      "execution_count": null,
      "metadata": {
        "id": "oPb3hPXl0B8n"
      },
      "outputs": [],
      "source": [
        "df = df.drop(df[df['gender'] == 'XNA'].index)"
      ]
    },
    {
      "cell_type": "code",
      "execution_count": null,
      "metadata": {
        "id": "o4yl47Wr0B8n",
        "outputId": "19fe4651-921d-406c-b19b-d941f3dccb45"
      },
      "outputs": [
        {
          "data": {
            "text/plain": [
              "array(['F', 'M'], dtype=object)"
            ]
          },
          "execution_count": 22,
          "metadata": {},
          "output_type": "execute_result"
        }
      ],
      "source": [
        "df['gender'].unique() # проверяю уникальные значения столбца 'gender'"
      ]
    },
    {
      "cell_type": "markdown",
      "metadata": {
        "id": "U7jR5lgJ0B8o"
      },
      "source": [
        "Пол клиента подразделен: 'F'- женщины, 'M'-мужчины, 'XNA'- ошибка в данных при заполнении анкеты, на результаты исследования не повлияет, поэтому удалим эту строку."
      ]
    },
    {
      "cell_type": "code",
      "execution_count": null,
      "metadata": {
        "scrolled": true,
        "id": "Iv1ZAnYS0B8p",
        "outputId": "14569ad4-0379-427e-f8b7-2a83b78f3285"
      },
      "outputs": [
        {
          "data": {
            "text/plain": [
              "array(['сотрудник', 'пенсионер', 'компаньон', 'госслужащий',\n",
              "       'безработный', 'предприниматель', 'студент', 'в декрете'],\n",
              "      dtype=object)"
            ]
          },
          "execution_count": 23,
          "metadata": {},
          "output_type": "execute_result"
        }
      ],
      "source": [
        "df['income_type'].unique()#уникальные значения столбца тип занятости"
      ]
    },
    {
      "cell_type": "markdown",
      "metadata": {
        "id": "guPnGiKD0B8p"
      },
      "source": [
        "Столбец 'income_type' неявных дубликатов не содержит."
      ]
    },
    {
      "cell_type": "markdown",
      "metadata": {
        "id": "3GdTj9eS0B8q"
      },
      "source": [
        "**Вывод**"
      ]
    },
    {
      "cell_type": "markdown",
      "metadata": {
        "id": "Ly8lPKtu0B8q"
      },
      "source": [
        "Для поиска явных дубликатов использовался метод duplicated(), он создан для автоматизации поиска дубликатов. Для удаления явных дубликатов использовался метод drop_duplicates() он удаляет строки вместе с индексами, для восстановления индексации использовался метод reset_index(drop=True). После удаления дубликатов количество строк уменьшилось до 21471, удаленные 54 строки никак не повлияют на результаты исследования. Столбцы 'education', 'family_status', 'income_type' неявных дубликатов не содержат, в столбце 'gender' в одной строке ошибка в данных при заполнении анкеты, на результат исследования не повлияет.   \n",
        "Количество явных дубликатов составило 71, количество оставшихся строк 21454, достаточно для проведения анализа."
      ]
    },
    {
      "cell_type": "markdown",
      "metadata": {
        "id": "qvhLVJrJ0B8r"
      },
      "source": [
        "### Лемматизация"
      ]
    },
    {
      "cell_type": "markdown",
      "metadata": {
        "id": "oVBogd3E0B8r"
      },
      "source": [
        "Для лемматизации выведем список уникальных значений целей кредитования и преобразуем их с тип str (список целей через запятую)"
      ]
    },
    {
      "cell_type": "code",
      "execution_count": null,
      "metadata": {
        "scrolled": false,
        "id": "0xn6Stjx0B8s",
        "outputId": "66e1d93f-0baf-4e50-ff8c-8464f4f462b6"
      },
      "outputs": [
        {
          "data": {
            "text/plain": [
              "'покупка жилья, приобретение автомобиля, дополнительное образование, сыграть свадьбу, операции с жильем, образование, на проведение свадьбы, покупка жилья для семьи, покупка недвижимости, покупка коммерческой недвижимости, покупка жилой недвижимости, строительство собственной недвижимости, недвижимость, строительство недвижимости, на покупку подержанного автомобиля, на покупку своего автомобиля, операции с коммерческой недвижимостью, строительство жилой недвижимости, жилье, операции со своей недвижимостью, автомобили, заняться образованием, сделка с подержанным автомобилем, получение образования, автомобиль, свадьба, получение дополнительного образования, покупка своего жилья, операции с недвижимостью, получение высшего образования, свой автомобиль, сделка с автомобилем, профильное образование, высшее образование, покупка жилья для сдачи, на покупку автомобиля, ремонт жилью, заняться высшим образованием'"
            ]
          },
          "metadata": {},
          "output_type": "display_data"
        }
      ],
      "source": [
        "purposes = list(df['purpose'].unique()) #возвращаю список уникальных значений в столбце 'purpose' и сохраняю в переменной 'purposes'\n",
        "purposes =\", \". join(purposes) # преобразую список 'purposes' в строку и сохраняю в переменную 'purposes'\n",
        "display(purposes)# вывожу на дисплей"
      ]
    },
    {
      "cell_type": "markdown",
      "metadata": {
        "id": "hQaW6MUw0B8t"
      },
      "source": [
        "Импортируем библиотеку pymystem3 для лемматизации и библиотеку collections для подсчета лемматизированных слов."
      ]
    },
    {
      "cell_type": "code",
      "execution_count": null,
      "metadata": {
        "scrolled": true,
        "id": "80Uz9mH70B8t",
        "outputId": "12d499dd-6b4c-44af-8270-8ac833632ce5"
      },
      "outputs": [
        {
          "data": {
            "text/plain": [
              "Counter({'покупка': 10,\n",
              "         ' ': 59,\n",
              "         'жилье': 7,\n",
              "         ', ': 37,\n",
              "         'приобретение': 1,\n",
              "         'автомобиль': 9,\n",
              "         'дополнительный': 2,\n",
              "         'образование': 9,\n",
              "         'сыграть': 1,\n",
              "         'свадьба': 3,\n",
              "         'операция': 4,\n",
              "         'с': 5,\n",
              "         'на': 4,\n",
              "         'проведение': 1,\n",
              "         'для': 2,\n",
              "         'семья': 1,\n",
              "         'недвижимость': 10,\n",
              "         'коммерческий': 2,\n",
              "         'жилой': 2,\n",
              "         'строительство': 3,\n",
              "         'собственный': 1,\n",
              "         'подержать': 2,\n",
              "         'свой': 4,\n",
              "         'со': 1,\n",
              "         'заниматься': 2,\n",
              "         'сделка': 2,\n",
              "         'получение': 3,\n",
              "         'высокий': 3,\n",
              "         'профильный': 1,\n",
              "         'сдача': 1,\n",
              "         'ремонт': 1,\n",
              "         '\\n': 1})"
            ]
          },
          "execution_count": 25,
          "metadata": {},
          "output_type": "execute_result"
        }
      ],
      "source": [
        "from pymystem3 import Mystem #импортирую библиотеку pymystem3 для лемматизации значений столбца 'purpose'\n",
        "m = Mystem() # сохраняю библиотеку pymystem3 в переменную 'm'\n",
        "from collections import Counter #импортирую библиотеку collections для подсчета слов \n",
        "lemmas = m.lemmatize(purposes) # лемматизирую уникальные значения столбца 'purpose'\n",
        "Counter(lemmas) # подсчитываю количество слов "
      ]
    },
    {
      "cell_type": "markdown",
      "metadata": {
        "id": "ILjNdk3l0B8t"
      },
      "source": [
        "**Вывод**"
      ]
    },
    {
      "cell_type": "markdown",
      "metadata": {
        "id": "s4j5NfuM0B8u"
      },
      "source": [
        "Наиболее часто встречающиеся существительные: 'автомобиль': 9 раз, 'образование': 9 раз,'недвижимость': 10 раз. На основании этих слов создадим категории целей кредитования: 'операции с недвижимостью', 'приобретение автомобиля', 'образование' и 'другое'."
      ]
    },
    {
      "cell_type": "markdown",
      "metadata": {
        "id": "XPHBtaLf0B8u"
      },
      "source": [
        "### Категоризация данных"
      ]
    },
    {
      "cell_type": "code",
      "execution_count": null,
      "metadata": {
        "scrolled": true,
        "id": "payRV-nf0B8v"
      },
      "outputs": [],
      "source": [
        "# для категоризации создаю новый столбец 'purpose_group' в который функция purpose_group добавит значение категории\n",
        "# на основании содержания контрольных слов в леммах значений столбца 'purpose'\n",
        "def purpose_group(purpos):\n",
        "    \"\"\"Возвращает группу целей кредита, используя правило:\n",
        "    - 'операции с недвижимостью', если в ячейке встречаются леммы 'недвижимость и жилье';\n",
        "    - 'приобретение автомобиля', если в ячейке встречаются леммы 'автомобиль';\n",
        "    - 'образование', если в ячейке встречаются леммы 'образование';\n",
        "    - 'другое', в остальных случаях.\"\"\"\n",
        "    lemma = m.lemmatize(purpos)\n",
        "    if 'недвижимость' in lemma:\n",
        "        return 'операции с недвижимостью'\n",
        "    if 'жилье' in lemma:\n",
        "        return 'операции с недвижимостью'\n",
        "    if 'автомобиль' in lemma:\n",
        "        return 'приобретение автомобиля'\n",
        "    if 'образование' in lemma:\n",
        "        return 'образование'\n",
        "    return 'другое'\n",
        "\n",
        "df['purpose_group'] = df['purpose'].apply(purpose_group) # добавляю категорию целей кредитования на основании работы функции"
      ]
    },
    {
      "cell_type": "code",
      "execution_count": null,
      "metadata": {
        "scrolled": false,
        "id": "UiJEQf6S0B8w",
        "outputId": "77453432-f8e5-4535-e6db-de1a105e0ca3"
      },
      "outputs": [
        {
          "data": {
            "text/plain": [
              "операции с недвижимостью    10810\n",
              "приобретение автомобиля      4306\n",
              "образование                  4013\n",
              "другое                       2324\n",
              "Name: purpose_group, dtype: int64"
            ]
          },
          "metadata": {},
          "output_type": "display_data"
        }
      ],
      "source": [
        "display(df['purpose_group'].value_counts()) # количество строк в категориях"
      ]
    },
    {
      "cell_type": "markdown",
      "metadata": {
        "id": "p4tY8lnh0B8x"
      },
      "source": [
        "Категоризируем по уровню дохода. Доходы до 250000 - 'низкие', от 250000 до 500000 - 'средние', выше 500000 - 'высокие'."
      ]
    },
    {
      "cell_type": "code",
      "execution_count": null,
      "metadata": {
        "id": "_GzE42kI0B8y"
      },
      "outputs": [],
      "source": [
        "def total_income_group(income):\n",
        "    \"\"\"Возвращает группу по доходу клиента, используя правило:\n",
        "    - 'низкий', если доход составляет до 250000;\n",
        "    - 'средний', если доход составляет от 250000 до 500000;\n",
        "    - 'высокий', если доход составляет более 500000\"\"\"\n",
        "    \n",
        "    if income <250000:\n",
        "        return 'низкий'\n",
        "    if 250000 <income<500000:\n",
        "        return 'средний'\n",
        "    \n",
        "    return 'высокий'\n",
        "\n",
        "df['total_income_group'] = df['total_income'].apply(total_income_group)"
      ]
    },
    {
      "cell_type": "code",
      "execution_count": null,
      "metadata": {
        "id": "7JXkCLy-0B8z",
        "outputId": "eeca5b08-85e4-4fb7-a351-0d46219abd23"
      },
      "outputs": [
        {
          "data": {
            "text/plain": [
              "низкий     18640\n",
              "средний     2591\n",
              "высокий      222\n",
              "Name: total_income_group, dtype: int64"
            ]
          },
          "metadata": {},
          "output_type": "display_data"
        }
      ],
      "source": [
        "display(df['total_income_group'].value_counts()) # количество строк в категориях"
      ]
    },
    {
      "cell_type": "markdown",
      "metadata": {
        "id": "6OUNWw900B8z"
      },
      "source": [
        "Категоризируем по наличию детей. Присвоим катагории 'Дети есть' и 'Детей нет'"
      ]
    },
    {
      "cell_type": "code",
      "execution_count": null,
      "metadata": {
        "id": "YKcALt2u0B80"
      },
      "outputs": [],
      "source": [
        "def children_group(child):\n",
        "    \"\"\"Возвращает группу по наличию детей у клиента:\n",
        "    - 'Дети есть';\n",
        "    - 'Детей нет'\"\"\"    \n",
        "    if  child >0:\n",
        "        return 'Дети есть'\n",
        "    \n",
        "    \n",
        "    return 'Детей нет'\n",
        "\n",
        "df['children_group'] = df['children'].apply(children_group)"
      ]
    },
    {
      "cell_type": "code",
      "execution_count": null,
      "metadata": {
        "id": "1-KSYqig0B80",
        "outputId": "dd1e557c-62e9-4d4b-802e-1c1d1bd7881a"
      },
      "outputs": [
        {
          "data": {
            "text/plain": [
              "Детей нет    14090\n",
              "Дети есть     7363\n",
              "Name: children_group, dtype: int64"
            ]
          },
          "metadata": {},
          "output_type": "display_data"
        }
      ],
      "source": [
        "display(df['children_group'].value_counts()) # количество строк в категориях"
      ]
    },
    {
      "cell_type": "markdown",
      "metadata": {
        "id": "kMtX-_Ya0B81"
      },
      "source": [
        "**Вывод**"
      ]
    },
    {
      "cell_type": "markdown",
      "metadata": {
        "id": "QPF61lxA0B81"
      },
      "source": [
        "В выбранных категориях видно, что большая часть заявок на кредитование приходится на операции с недвижимостью, категория \"другое\" составила малую часть."
      ]
    },
    {
      "cell_type": "markdown",
      "metadata": {
        "id": "rUGmJQE00B82"
      },
      "source": [
        "## Шаг 3. Ответьте на вопросы"
      ]
    },
    {
      "cell_type": "markdown",
      "metadata": {
        "id": "2Vzk_8Wg0B82"
      },
      "source": [
        "- Есть ли зависимость между наличием детей и возвратом кредита в срок?"
      ]
    },
    {
      "cell_type": "code",
      "execution_count": null,
      "metadata": {
        "scrolled": true,
        "id": "nK7uzIaw0B83",
        "outputId": "b5ca9798-1444-4c77-b448-b6abbac75139"
      },
      "outputs": [
        {
          "data": {
            "text/html": [
              "<div>\n",
              "<style scoped>\n",
              "    .dataframe tbody tr th:only-of-type {\n",
              "        vertical-align: middle;\n",
              "    }\n",
              "\n",
              "    .dataframe tbody tr th {\n",
              "        vertical-align: top;\n",
              "    }\n",
              "\n",
              "    .dataframe thead th {\n",
              "        text-align: right;\n",
              "    }\n",
              "</style>\n",
              "<table border=\"1\" class=\"dataframe\">\n",
              "  <thead>\n",
              "    <tr style=\"text-align: right;\">\n",
              "      <th></th>\n",
              "      <th>total</th>\n",
              "      <th>debt</th>\n",
              "      <th>%</th>\n",
              "    </tr>\n",
              "    <tr>\n",
              "      <th>children</th>\n",
              "      <th></th>\n",
              "      <th></th>\n",
              "      <th></th>\n",
              "    </tr>\n",
              "  </thead>\n",
              "  <tbody>\n",
              "    <tr>\n",
              "      <td>4</td>\n",
              "      <td>41</td>\n",
              "      <td>4</td>\n",
              "      <td>0.097561</td>\n",
              "    </tr>\n",
              "    <tr>\n",
              "      <td>2</td>\n",
              "      <td>2128</td>\n",
              "      <td>202</td>\n",
              "      <td>0.094925</td>\n",
              "    </tr>\n",
              "    <tr>\n",
              "      <td>1</td>\n",
              "      <td>4855</td>\n",
              "      <td>445</td>\n",
              "      <td>0.091658</td>\n",
              "    </tr>\n",
              "    <tr>\n",
              "      <td>3</td>\n",
              "      <td>330</td>\n",
              "      <td>27</td>\n",
              "      <td>0.081818</td>\n",
              "    </tr>\n",
              "    <tr>\n",
              "      <td>0</td>\n",
              "      <td>14090</td>\n",
              "      <td>1063</td>\n",
              "      <td>0.075444</td>\n",
              "    </tr>\n",
              "    <tr>\n",
              "      <td>5</td>\n",
              "      <td>9</td>\n",
              "      <td>0</td>\n",
              "      <td>0.000000</td>\n",
              "    </tr>\n",
              "  </tbody>\n",
              "</table>\n",
              "</div>"
            ],
            "text/plain": [
              "          total  debt         %\n",
              "children                       \n",
              "4            41     4  0.097561\n",
              "2          2128   202  0.094925\n",
              "1          4855   445  0.091658\n",
              "3           330    27  0.081818\n",
              "0         14090  1063  0.075444\n",
              "5             9     0  0.000000"
            ]
          },
          "execution_count": 34,
          "metadata": {},
          "output_type": "execute_result"
        }
      ],
      "source": [
        "report_child = df.groupby('children').agg({'debt':['count', 'sum', 'mean']})\n",
        "report_child.columns = ['total', 'debt', '%']\n",
        "report_child.sort_values(by='%', ascending=False)"
      ]
    },
    {
      "cell_type": "code",
      "execution_count": null,
      "metadata": {
        "id": "6zi8Nz1L0B83",
        "outputId": "558c1e64-37be-4b44-fa1a-8e8b963db422"
      },
      "outputs": [
        {
          "data": {
            "text/html": [
              "<div>\n",
              "<style scoped>\n",
              "    .dataframe tbody tr th:only-of-type {\n",
              "        vertical-align: middle;\n",
              "    }\n",
              "\n",
              "    .dataframe tbody tr th {\n",
              "        vertical-align: top;\n",
              "    }\n",
              "\n",
              "    .dataframe thead th {\n",
              "        text-align: right;\n",
              "    }\n",
              "</style>\n",
              "<table border=\"1\" class=\"dataframe\">\n",
              "  <thead>\n",
              "    <tr style=\"text-align: right;\">\n",
              "      <th></th>\n",
              "      <th>total</th>\n",
              "      <th>debt</th>\n",
              "      <th>%</th>\n",
              "    </tr>\n",
              "    <tr>\n",
              "      <th>children_group</th>\n",
              "      <th></th>\n",
              "      <th></th>\n",
              "      <th></th>\n",
              "    </tr>\n",
              "  </thead>\n",
              "  <tbody>\n",
              "    <tr>\n",
              "      <td>Дети есть</td>\n",
              "      <td>7363</td>\n",
              "      <td>678</td>\n",
              "      <td>0.092082</td>\n",
              "    </tr>\n",
              "    <tr>\n",
              "      <td>Детей нет</td>\n",
              "      <td>14090</td>\n",
              "      <td>1063</td>\n",
              "      <td>0.075444</td>\n",
              "    </tr>\n",
              "  </tbody>\n",
              "</table>\n",
              "</div>"
            ],
            "text/plain": [
              "                total  debt         %\n",
              "children_group                       \n",
              "Дети есть        7363   678  0.092082\n",
              "Детей нет       14090  1063  0.075444"
            ]
          },
          "execution_count": 35,
          "metadata": {},
          "output_type": "execute_result"
        }
      ],
      "source": [
        "report_child_group = df.groupby('children_group').agg({'debt':['count', 'sum', 'mean']})\n",
        "report_child_group.columns = ['total', 'debt', '%']\n",
        "report_child_group.sort_values(by='%', ascending=False)"
      ]
    },
    {
      "cell_type": "markdown",
      "metadata": {
        "id": "ecd15KWX0B84"
      },
      "source": [
        "**Вывод**"
      ]
    },
    {
      "cell_type": "markdown",
      "metadata": {
        "id": "OPExX8Ak0B84"
      },
      "source": [
        "Из таблицы видно, что заемщики с детьми не вернули кредит в срок в 9,2 % случаев. Заемщики без детей не вернули кредит в срок в 7,54% случаев."
      ]
    },
    {
      "cell_type": "markdown",
      "metadata": {
        "id": "VvH0-uV80B85"
      },
      "source": [
        "- Есть ли зависимость между семейным положением и возвратом кредита в срок?"
      ]
    },
    {
      "cell_type": "code",
      "execution_count": null,
      "metadata": {
        "id": "fiY3xuST0B85",
        "outputId": "66c6d28e-9172-4c85-8b68-8c2607b3d6dc"
      },
      "outputs": [
        {
          "data": {
            "text/html": [
              "<div>\n",
              "<style scoped>\n",
              "    .dataframe tbody tr th:only-of-type {\n",
              "        vertical-align: middle;\n",
              "    }\n",
              "\n",
              "    .dataframe tbody tr th {\n",
              "        vertical-align: top;\n",
              "    }\n",
              "\n",
              "    .dataframe thead th {\n",
              "        text-align: right;\n",
              "    }\n",
              "</style>\n",
              "<table border=\"1\" class=\"dataframe\">\n",
              "  <thead>\n",
              "    <tr style=\"text-align: right;\">\n",
              "      <th></th>\n",
              "      <th>total</th>\n",
              "      <th>debt</th>\n",
              "      <th>%</th>\n",
              "    </tr>\n",
              "    <tr>\n",
              "      <th>family_status</th>\n",
              "      <th></th>\n",
              "      <th></th>\n",
              "      <th></th>\n",
              "    </tr>\n",
              "  </thead>\n",
              "  <tbody>\n",
              "    <tr>\n",
              "      <td>не женат / не замужем</td>\n",
              "      <td>2810</td>\n",
              "      <td>274</td>\n",
              "      <td>0.097509</td>\n",
              "    </tr>\n",
              "    <tr>\n",
              "      <td>гражданский брак</td>\n",
              "      <td>4150</td>\n",
              "      <td>388</td>\n",
              "      <td>0.093494</td>\n",
              "    </tr>\n",
              "    <tr>\n",
              "      <td>женат / замужем</td>\n",
              "      <td>12339</td>\n",
              "      <td>931</td>\n",
              "      <td>0.075452</td>\n",
              "    </tr>\n",
              "    <tr>\n",
              "      <td>в разводе</td>\n",
              "      <td>1195</td>\n",
              "      <td>85</td>\n",
              "      <td>0.071130</td>\n",
              "    </tr>\n",
              "    <tr>\n",
              "      <td>вдовец / вдова</td>\n",
              "      <td>959</td>\n",
              "      <td>63</td>\n",
              "      <td>0.065693</td>\n",
              "    </tr>\n",
              "  </tbody>\n",
              "</table>\n",
              "</div>"
            ],
            "text/plain": [
              "                       total  debt         %\n",
              "family_status                               \n",
              "не женат / не замужем   2810   274  0.097509\n",
              "гражданский брак        4150   388  0.093494\n",
              "женат / замужем        12339   931  0.075452\n",
              "в разводе               1195    85  0.071130\n",
              "вдовец / вдова           959    63  0.065693"
            ]
          },
          "execution_count": 36,
          "metadata": {},
          "output_type": "execute_result"
        }
      ],
      "source": [
        "report_family = df.groupby('family_status').agg({'debt':['count', 'sum', 'mean']})\n",
        "report_family.columns = ['total', 'debt', '%']\n",
        "report_family.sort_values(by='%', ascending=False)"
      ]
    },
    {
      "cell_type": "markdown",
      "metadata": {
        "id": "O_bi5vk60B86"
      },
      "source": [
        "**Вывод**"
      ]
    },
    {
      "cell_type": "markdown",
      "metadata": {
        "id": "SbqJLnSk0B86"
      },
      "source": [
        "Люди никогда не состоявшие в браке чаще не возвращают кредит в срок (9,75% случаев), чем люди в браке."
      ]
    },
    {
      "cell_type": "markdown",
      "metadata": {
        "id": "Dcg9uuQ70B87"
      },
      "source": [
        "- Есть ли зависимость между уровнем дохода и возвратом кредита в срок?"
      ]
    },
    {
      "cell_type": "code",
      "execution_count": null,
      "metadata": {
        "scrolled": true,
        "id": "te5S8cF30B87",
        "outputId": "ae98df04-6e9a-4958-ca64-ffaf63d713c5"
      },
      "outputs": [
        {
          "data": {
            "text/html": [
              "<div>\n",
              "<style scoped>\n",
              "    .dataframe tbody tr th:only-of-type {\n",
              "        vertical-align: middle;\n",
              "    }\n",
              "\n",
              "    .dataframe tbody tr th {\n",
              "        vertical-align: top;\n",
              "    }\n",
              "\n",
              "    .dataframe thead th {\n",
              "        text-align: right;\n",
              "    }\n",
              "</style>\n",
              "<table border=\"1\" class=\"dataframe\">\n",
              "  <thead>\n",
              "    <tr style=\"text-align: right;\">\n",
              "      <th></th>\n",
              "      <th>total_income_sum</th>\n",
              "      <th>total</th>\n",
              "      <th>debt</th>\n",
              "      <th>%</th>\n",
              "    </tr>\n",
              "    <tr>\n",
              "      <th>income_type</th>\n",
              "      <th></th>\n",
              "      <th></th>\n",
              "      <th></th>\n",
              "      <th></th>\n",
              "    </tr>\n",
              "  </thead>\n",
              "  <tbody>\n",
              "    <tr>\n",
              "      <td>в декрете</td>\n",
              "      <td>53829.000000</td>\n",
              "      <td>1</td>\n",
              "      <td>1</td>\n",
              "      <td>1.000000</td>\n",
              "    </tr>\n",
              "    <tr>\n",
              "      <td>безработный</td>\n",
              "      <td>131339.000000</td>\n",
              "      <td>2</td>\n",
              "      <td>1</td>\n",
              "      <td>0.500000</td>\n",
              "    </tr>\n",
              "    <tr>\n",
              "      <td>сотрудник</td>\n",
              "      <td>159566.262901</td>\n",
              "      <td>11084</td>\n",
              "      <td>1061</td>\n",
              "      <td>0.095724</td>\n",
              "    </tr>\n",
              "    <tr>\n",
              "      <td>компаньон</td>\n",
              "      <td>199450.347843</td>\n",
              "      <td>5077</td>\n",
              "      <td>376</td>\n",
              "      <td>0.074059</td>\n",
              "    </tr>\n",
              "    <tr>\n",
              "      <td>госслужащий</td>\n",
              "      <td>168862.543583</td>\n",
              "      <td>1457</td>\n",
              "      <td>86</td>\n",
              "      <td>0.059025</td>\n",
              "    </tr>\n",
              "    <tr>\n",
              "      <td>пенсионер</td>\n",
              "      <td>135250.604597</td>\n",
              "      <td>3829</td>\n",
              "      <td>216</td>\n",
              "      <td>0.056412</td>\n",
              "    </tr>\n",
              "    <tr>\n",
              "      <td>предприниматель</td>\n",
              "      <td>499163.000000</td>\n",
              "      <td>2</td>\n",
              "      <td>0</td>\n",
              "      <td>0.000000</td>\n",
              "    </tr>\n",
              "    <tr>\n",
              "      <td>студент</td>\n",
              "      <td>98201.000000</td>\n",
              "      <td>1</td>\n",
              "      <td>0</td>\n",
              "      <td>0.000000</td>\n",
              "    </tr>\n",
              "  </tbody>\n",
              "</table>\n",
              "</div>"
            ],
            "text/plain": [
              "                 total_income_sum  total  debt         %\n",
              "income_type                                             \n",
              "в декрете            53829.000000      1     1  1.000000\n",
              "безработный         131339.000000      2     1  0.500000\n",
              "сотрудник           159566.262901  11084  1061  0.095724\n",
              "компаньон           199450.347843   5077   376  0.074059\n",
              "госслужащий         168862.543583   1457    86  0.059025\n",
              "пенсионер           135250.604597   3829   216  0.056412\n",
              "предприниматель     499163.000000      2     0  0.000000\n",
              "студент              98201.000000      1     0  0.000000"
            ]
          },
          "execution_count": 37,
          "metadata": {},
          "output_type": "execute_result"
        }
      ],
      "source": [
        "report = df.groupby('income_type').agg({'total_income':['mean'], 'debt':['count', 'sum', 'mean']})\n",
        "report.columns = ['total_income_sum', 'total', 'debt', '%']\n",
        "report.sort_values(by='%', ascending=False)"
      ]
    },
    {
      "cell_type": "code",
      "execution_count": null,
      "metadata": {
        "scrolled": true,
        "id": "TpPV9Tv60B87",
        "outputId": "a7c509bd-e88c-48c4-c3b8-5211c8a9825a"
      },
      "outputs": [
        {
          "data": {
            "text/html": [
              "<div>\n",
              "<style scoped>\n",
              "    .dataframe tbody tr th:only-of-type {\n",
              "        vertical-align: middle;\n",
              "    }\n",
              "\n",
              "    .dataframe tbody tr th {\n",
              "        vertical-align: top;\n",
              "    }\n",
              "\n",
              "    .dataframe thead th {\n",
              "        text-align: right;\n",
              "    }\n",
              "</style>\n",
              "<table border=\"1\" class=\"dataframe\">\n",
              "  <thead>\n",
              "    <tr style=\"text-align: right;\">\n",
              "      <th></th>\n",
              "      <th>total_income_sum</th>\n",
              "      <th>total</th>\n",
              "      <th>debt</th>\n",
              "      <th>%</th>\n",
              "    </tr>\n",
              "    <tr>\n",
              "      <th>income_type</th>\n",
              "      <th></th>\n",
              "      <th></th>\n",
              "      <th></th>\n",
              "      <th></th>\n",
              "    </tr>\n",
              "  </thead>\n",
              "  <tbody>\n",
              "    <tr>\n",
              "      <td>предприниматель</td>\n",
              "      <td>499163.000000</td>\n",
              "      <td>2</td>\n",
              "      <td>0</td>\n",
              "      <td>0.000000</td>\n",
              "    </tr>\n",
              "    <tr>\n",
              "      <td>компаньон</td>\n",
              "      <td>199450.347843</td>\n",
              "      <td>5077</td>\n",
              "      <td>376</td>\n",
              "      <td>0.074059</td>\n",
              "    </tr>\n",
              "    <tr>\n",
              "      <td>госслужащий</td>\n",
              "      <td>168862.543583</td>\n",
              "      <td>1457</td>\n",
              "      <td>86</td>\n",
              "      <td>0.059025</td>\n",
              "    </tr>\n",
              "    <tr>\n",
              "      <td>сотрудник</td>\n",
              "      <td>159566.262901</td>\n",
              "      <td>11084</td>\n",
              "      <td>1061</td>\n",
              "      <td>0.095724</td>\n",
              "    </tr>\n",
              "    <tr>\n",
              "      <td>пенсионер</td>\n",
              "      <td>135250.604597</td>\n",
              "      <td>3829</td>\n",
              "      <td>216</td>\n",
              "      <td>0.056412</td>\n",
              "    </tr>\n",
              "    <tr>\n",
              "      <td>безработный</td>\n",
              "      <td>131339.000000</td>\n",
              "      <td>2</td>\n",
              "      <td>1</td>\n",
              "      <td>0.500000</td>\n",
              "    </tr>\n",
              "    <tr>\n",
              "      <td>студент</td>\n",
              "      <td>98201.000000</td>\n",
              "      <td>1</td>\n",
              "      <td>0</td>\n",
              "      <td>0.000000</td>\n",
              "    </tr>\n",
              "    <tr>\n",
              "      <td>в декрете</td>\n",
              "      <td>53829.000000</td>\n",
              "      <td>1</td>\n",
              "      <td>1</td>\n",
              "      <td>1.000000</td>\n",
              "    </tr>\n",
              "  </tbody>\n",
              "</table>\n",
              "</div>"
            ],
            "text/plain": [
              "                 total_income_sum  total  debt         %\n",
              "income_type                                             \n",
              "предприниматель     499163.000000      2     0  0.000000\n",
              "компаньон           199450.347843   5077   376  0.074059\n",
              "госслужащий         168862.543583   1457    86  0.059025\n",
              "сотрудник           159566.262901  11084  1061  0.095724\n",
              "пенсионер           135250.604597   3829   216  0.056412\n",
              "безработный         131339.000000      2     1  0.500000\n",
              "студент              98201.000000      1     0  0.000000\n",
              "в декрете            53829.000000      1     1  1.000000"
            ]
          },
          "execution_count": 38,
          "metadata": {},
          "output_type": "execute_result"
        }
      ],
      "source": [
        "report = df.groupby('income_type').agg({'total_income':['mean'], 'debt':['count', 'sum', 'mean']})\n",
        "report.columns = ['total_income_sum', 'total', 'debt', '%']\n",
        "report.sort_values(by='total_income_sum', ascending=False)"
      ]
    },
    {
      "cell_type": "code",
      "execution_count": null,
      "metadata": {
        "id": "PGNx97nZ0B88",
        "outputId": "45d62493-37b1-4c1f-fd76-d97574292948"
      },
      "outputs": [
        {
          "data": {
            "text/html": [
              "<div>\n",
              "<style scoped>\n",
              "    .dataframe tbody tr th:only-of-type {\n",
              "        vertical-align: middle;\n",
              "    }\n",
              "\n",
              "    .dataframe tbody tr th {\n",
              "        vertical-align: top;\n",
              "    }\n",
              "\n",
              "    .dataframe thead th {\n",
              "        text-align: right;\n",
              "    }\n",
              "</style>\n",
              "<table border=\"1\" class=\"dataframe\">\n",
              "  <thead>\n",
              "    <tr style=\"text-align: right;\">\n",
              "      <th></th>\n",
              "      <th>total</th>\n",
              "      <th>debt</th>\n",
              "      <th>%</th>\n",
              "    </tr>\n",
              "    <tr>\n",
              "      <th>total_income_group</th>\n",
              "      <th></th>\n",
              "      <th></th>\n",
              "      <th></th>\n",
              "    </tr>\n",
              "  </thead>\n",
              "  <tbody>\n",
              "    <tr>\n",
              "      <td>низкий</td>\n",
              "      <td>18640</td>\n",
              "      <td>1547</td>\n",
              "      <td>0.082994</td>\n",
              "    </tr>\n",
              "    <tr>\n",
              "      <td>средний</td>\n",
              "      <td>2591</td>\n",
              "      <td>180</td>\n",
              "      <td>0.069471</td>\n",
              "    </tr>\n",
              "    <tr>\n",
              "      <td>высокий</td>\n",
              "      <td>222</td>\n",
              "      <td>14</td>\n",
              "      <td>0.063063</td>\n",
              "    </tr>\n",
              "  </tbody>\n",
              "</table>\n",
              "</div>"
            ],
            "text/plain": [
              "                    total  debt         %\n",
              "total_income_group                       \n",
              "низкий              18640  1547  0.082994\n",
              "средний              2591   180  0.069471\n",
              "высокий               222    14  0.063063"
            ]
          },
          "execution_count": 39,
          "metadata": {},
          "output_type": "execute_result"
        }
      ],
      "source": [
        "report = df.groupby('total_income_group').agg({'debt':['count', 'sum', 'mean']})\n",
        "report.columns = ['total', 'debt', '%']\n",
        "report.sort_values(by='%', ascending=False)"
      ]
    },
    {
      "cell_type": "markdown",
      "metadata": {
        "id": "SDiY95wC0B88"
      },
      "source": [
        "**Вывод**"
      ]
    },
    {
      "cell_type": "markdown",
      "metadata": {
        "id": "rdw5bjDM0B89"
      },
      "source": [
        "Если судить по имеющимся данным, то заемщик в декрете точно не вернет кредит, но на основании этих данных нельзя делать такой вывод так как в исследование попал только один такой случай. На основании других, более полных данных видно, что заемщики с доходом чуть ниже медианного не вернули кредит в срок в 9,57% случаев.  При формировании таблицы по сгруппированным данным уровня дохода видно, что люди с низким доходом не вернули вовремя кредит в 8,3% случаях."
      ]
    },
    {
      "cell_type": "markdown",
      "metadata": {
        "id": "kBNEgfqs0B8-"
      },
      "source": [
        "- Как разные цели кредита влияют на его возврат в срок?"
      ]
    },
    {
      "cell_type": "code",
      "execution_count": null,
      "metadata": {
        "id": "CSQAsX9d0B8-",
        "outputId": "152cae98-10a5-4a11-8a61-6ed9036110d3"
      },
      "outputs": [
        {
          "data": {
            "text/html": [
              "<div>\n",
              "<style scoped>\n",
              "    .dataframe tbody tr th:only-of-type {\n",
              "        vertical-align: middle;\n",
              "    }\n",
              "\n",
              "    .dataframe tbody tr th {\n",
              "        vertical-align: top;\n",
              "    }\n",
              "\n",
              "    .dataframe thead th {\n",
              "        text-align: right;\n",
              "    }\n",
              "</style>\n",
              "<table border=\"1\" class=\"dataframe\">\n",
              "  <thead>\n",
              "    <tr style=\"text-align: right;\">\n",
              "      <th></th>\n",
              "      <th>total</th>\n",
              "      <th>debt</th>\n",
              "      <th>%</th>\n",
              "    </tr>\n",
              "    <tr>\n",
              "      <th>purpose_group</th>\n",
              "      <th></th>\n",
              "      <th></th>\n",
              "      <th></th>\n",
              "    </tr>\n",
              "  </thead>\n",
              "  <tbody>\n",
              "    <tr>\n",
              "      <td>приобретение автомобиля</td>\n",
              "      <td>4306</td>\n",
              "      <td>403</td>\n",
              "      <td>0.093590</td>\n",
              "    </tr>\n",
              "    <tr>\n",
              "      <td>образование</td>\n",
              "      <td>4013</td>\n",
              "      <td>370</td>\n",
              "      <td>0.092200</td>\n",
              "    </tr>\n",
              "    <tr>\n",
              "      <td>другое</td>\n",
              "      <td>2324</td>\n",
              "      <td>186</td>\n",
              "      <td>0.080034</td>\n",
              "    </tr>\n",
              "    <tr>\n",
              "      <td>операции с недвижимостью</td>\n",
              "      <td>10810</td>\n",
              "      <td>782</td>\n",
              "      <td>0.072340</td>\n",
              "    </tr>\n",
              "  </tbody>\n",
              "</table>\n",
              "</div>"
            ],
            "text/plain": [
              "                          total  debt         %\n",
              "purpose_group                                  \n",
              "приобретение автомобиля    4306   403  0.093590\n",
              "образование                4013   370  0.092200\n",
              "другое                     2324   186  0.080034\n",
              "операции с недвижимостью  10810   782  0.072340"
            ]
          },
          "execution_count": 40,
          "metadata": {},
          "output_type": "execute_result"
        }
      ],
      "source": [
        "report_purpose = df.groupby('purpose_group').agg({'debt':['count', 'sum', 'mean']})\n",
        "report_purpose.columns = ['total', 'debt', '%']\n",
        "report_purpose.sort_values(by='%', ascending=False)"
      ]
    },
    {
      "cell_type": "markdown",
      "metadata": {
        "id": "nQs3Rk-I0B8_"
      },
      "source": [
        "**Вывод**"
      ]
    },
    {
      "cell_type": "markdown",
      "metadata": {
        "id": "D-kGpEFV0B9M"
      },
      "source": [
        "Из таблицы видно, что заемщики, потратившие средства на приобретение автомобиля не вернули кредит в срок в 9,35% случаев, когда заемщики средств на операции с недвижимость не вернули кредит в срок в 7,23% случаев."
      ]
    },
    {
      "cell_type": "markdown",
      "metadata": {
        "id": "8weLDqqh0B9M"
      },
      "source": [
        "## Шаг 4. Общий вывод"
      ]
    },
    {
      "cell_type": "markdown",
      "metadata": {
        "id": "dDUDw_jR0B9N"
      },
      "source": [
        "В ходе исследования надежности заемщиков проведена очистка статистики о платежеспособности клиентов банка от дубликатов, пропуски данных заполнены медианными значениями групп клиентов по типу их занятости. Все данные приведены к формату, облегчающему восприятие, обработку и анализ. Выделены группы клиентов по цели кредитования и сформированы выводы по каждому вопросу. Применена на практике лемматизация и котегоризация данных.</n>  \n",
        "    \n",
        "Определено, наличие детей почти на 2% увеличивают вероятность возврата кредита не в срок, люди никогда не состоявшие в браке или находящиеся в гражданском браке  не вернули кредит в срок на 2 % чаще чем люди когда-либо состаявшие в браке. \n",
        "    Низкий уровень дохода также увеличивает вероятность возврата кредита не в срок, но изменение порогов категорий доходов изменит и процент клиентов невовремя вернувших кредит. \n",
        "    Разницу в 2% между максимальными и минимальными долями в различных категориях считаю незначительной. "
      ]
    },
    {
      "cell_type": "code",
      "execution_count": null,
      "metadata": {
        "id": "CNIzMJGZ0B9Q"
      },
      "outputs": [],
      "source": [
        ""
      ]
    }
  ],
  "metadata": {
    "ExecuteTimeLog": [
      {
        "duration": 5591,
        "start_time": "2021-12-15T14:24:30.702Z"
      },
      {
        "duration": 75,
        "start_time": "2021-12-15T14:25:31.825Z"
      },
      {
        "duration": 506,
        "start_time": "2021-12-15T14:29:05.874Z"
      },
      {
        "duration": 20,
        "start_time": "2021-12-15T14:29:13.413Z"
      },
      {
        "duration": 89,
        "start_time": "2021-12-15T14:36:35.234Z"
      },
      {
        "duration": 101,
        "start_time": "2021-12-15T14:39:09.860Z"
      },
      {
        "duration": 15,
        "start_time": "2021-12-15T14:39:58.354Z"
      },
      {
        "duration": 19,
        "start_time": "2021-12-15T14:48:10.392Z"
      },
      {
        "duration": 70,
        "start_time": "2021-12-15T14:53:16.012Z"
      },
      {
        "duration": 32,
        "start_time": "2021-12-15T14:59:20.707Z"
      },
      {
        "duration": 6,
        "start_time": "2021-12-15T15:03:20.582Z"
      },
      {
        "duration": 8,
        "start_time": "2021-12-15T15:10:25.805Z"
      },
      {
        "duration": 1145,
        "start_time": "2021-12-15T15:14:52.655Z"
      },
      {
        "duration": 3730,
        "start_time": "2021-12-15T15:22:07.297Z"
      },
      {
        "duration": 24,
        "start_time": "2021-12-15T15:22:36.385Z"
      },
      {
        "duration": 10,
        "start_time": "2021-12-15T15:23:59.332Z"
      },
      {
        "duration": 9,
        "start_time": "2021-12-15T17:28:41.224Z"
      },
      {
        "duration": 279,
        "start_time": "2021-12-15T17:29:16.314Z"
      },
      {
        "duration": 650,
        "start_time": "2021-12-15T17:29:29.084Z"
      },
      {
        "duration": 9,
        "start_time": "2021-12-15T17:29:34.684Z"
      },
      {
        "duration": 37,
        "start_time": "2021-12-15T17:29:36.295Z"
      },
      {
        "duration": 35,
        "start_time": "2021-12-15T17:29:36.954Z"
      },
      {
        "duration": 10,
        "start_time": "2021-12-15T17:29:37.824Z"
      },
      {
        "duration": 12,
        "start_time": "2021-12-15T17:29:40.734Z"
      },
      {
        "duration": 32,
        "start_time": "2021-12-15T17:29:43.404Z"
      },
      {
        "duration": 21,
        "start_time": "2021-12-15T17:29:44.152Z"
      },
      {
        "duration": 5,
        "start_time": "2021-12-15T17:29:45.726Z"
      },
      {
        "duration": 6,
        "start_time": "2021-12-15T17:29:49.713Z"
      },
      {
        "duration": 598,
        "start_time": "2021-12-15T17:29:50.611Z"
      },
      {
        "duration": 2611,
        "start_time": "2021-12-15T17:29:55.326Z"
      },
      {
        "duration": 6,
        "start_time": "2021-12-15T17:29:57.939Z"
      },
      {
        "duration": 14,
        "start_time": "2021-12-15T17:30:02.420Z"
      },
      {
        "duration": 256,
        "start_time": "2021-12-15T17:32:29.638Z"
      },
      {
        "duration": 11,
        "start_time": "2021-12-15T17:32:37.220Z"
      },
      {
        "duration": 13,
        "start_time": "2021-12-15T17:32:41.225Z"
      },
      {
        "duration": 12,
        "start_time": "2021-12-15T17:35:30.214Z"
      },
      {
        "duration": 236,
        "start_time": "2021-12-15T17:35:57.843Z"
      },
      {
        "duration": 13,
        "start_time": "2021-12-15T17:36:23.996Z"
      },
      {
        "duration": 7,
        "start_time": "2021-12-15T17:37:18.924Z"
      },
      {
        "duration": 12,
        "start_time": "2021-12-15T17:37:29.884Z"
      },
      {
        "duration": 15,
        "start_time": "2021-12-15T17:39:48.207Z"
      },
      {
        "duration": 19,
        "start_time": "2021-12-15T17:40:07.013Z"
      },
      {
        "duration": 11,
        "start_time": "2021-12-15T17:41:16.962Z"
      },
      {
        "duration": 9,
        "start_time": "2021-12-15T17:44:35.580Z"
      },
      {
        "duration": 10,
        "start_time": "2021-12-15T17:44:45.757Z"
      },
      {
        "duration": 3,
        "start_time": "2021-12-15T17:46:50.809Z"
      },
      {
        "duration": 4,
        "start_time": "2021-12-15T17:47:00.428Z"
      },
      {
        "duration": 13,
        "start_time": "2021-12-15T17:47:29.279Z"
      },
      {
        "duration": 3,
        "start_time": "2021-12-15T17:48:39.599Z"
      },
      {
        "duration": 668,
        "start_time": "2021-12-16T14:17:59.463Z"
      },
      {
        "duration": 14,
        "start_time": "2021-12-16T14:18:04.661Z"
      },
      {
        "duration": 40,
        "start_time": "2021-12-16T14:18:08.243Z"
      },
      {
        "duration": 4,
        "start_time": "2021-12-16T14:18:10.595Z"
      },
      {
        "duration": 153,
        "start_time": "2021-12-16T14:18:12.431Z"
      },
      {
        "duration": 7578,
        "start_time": "2021-12-16T14:18:25.397Z"
      },
      {
        "duration": 340,
        "start_time": "2021-12-16T14:18:38.607Z"
      },
      {
        "duration": 4,
        "start_time": "2021-12-16T14:19:13.047Z"
      },
      {
        "duration": 38,
        "start_time": "2021-12-16T14:19:15.953Z"
      },
      {
        "duration": 64,
        "start_time": "2021-12-16T14:19:17.287Z"
      },
      {
        "duration": 13,
        "start_time": "2021-12-16T14:19:20.045Z"
      },
      {
        "duration": 8421,
        "start_time": "2021-12-16T14:19:43.120Z"
      },
      {
        "duration": 16,
        "start_time": "2021-12-16T14:21:00.612Z"
      },
      {
        "duration": 34,
        "start_time": "2021-12-16T14:21:37.940Z"
      },
      {
        "duration": 25,
        "start_time": "2021-12-16T14:21:51.066Z"
      },
      {
        "duration": 5,
        "start_time": "2021-12-16T14:22:04.333Z"
      },
      {
        "duration": 286,
        "start_time": "2021-12-16T14:28:00.438Z"
      },
      {
        "duration": 8,
        "start_time": "2021-12-16T14:28:12.692Z"
      },
      {
        "duration": 5,
        "start_time": "2021-12-16T14:28:27.946Z"
      },
      {
        "duration": 5,
        "start_time": "2021-12-16T14:29:15.594Z"
      },
      {
        "duration": 7,
        "start_time": "2021-12-16T14:29:29.211Z"
      },
      {
        "duration": 919,
        "start_time": "2021-12-16T14:29:41.844Z"
      },
      {
        "duration": 2753,
        "start_time": "2021-12-16T14:30:18.147Z"
      },
      {
        "duration": 8,
        "start_time": "2021-12-16T14:30:24.580Z"
      },
      {
        "duration": 694,
        "start_time": "2021-12-16T14:44:50.407Z"
      },
      {
        "duration": 15,
        "start_time": "2021-12-16T14:44:55.609Z"
      },
      {
        "duration": 41,
        "start_time": "2021-12-16T14:44:58.871Z"
      },
      {
        "duration": 5,
        "start_time": "2021-12-16T14:45:00.545Z"
      },
      {
        "duration": 8209,
        "start_time": "2021-12-16T14:45:02.593Z"
      },
      {
        "duration": 40,
        "start_time": "2021-12-16T14:45:13.449Z"
      },
      {
        "duration": 45,
        "start_time": "2021-12-16T14:45:14.960Z"
      },
      {
        "duration": 17,
        "start_time": "2021-12-16T14:45:20.519Z"
      },
      {
        "duration": 19,
        "start_time": "2021-12-16T14:45:28.488Z"
      },
      {
        "duration": 34,
        "start_time": "2021-12-16T14:45:33.325Z"
      },
      {
        "duration": 24,
        "start_time": "2021-12-16T14:45:39.289Z"
      },
      {
        "duration": 7,
        "start_time": "2021-12-16T14:45:42.032Z"
      },
      {
        "duration": 6,
        "start_time": "2021-12-16T14:45:43.001Z"
      },
      {
        "duration": 5,
        "start_time": "2021-12-16T14:45:59.907Z"
      },
      {
        "duration": 5,
        "start_time": "2021-12-16T14:50:30.715Z"
      },
      {
        "duration": 21,
        "start_time": "2021-12-16T14:51:26.092Z"
      },
      {
        "duration": 682,
        "start_time": "2021-12-16T15:00:51.420Z"
      },
      {
        "duration": 16,
        "start_time": "2021-12-16T15:00:55.822Z"
      },
      {
        "duration": 43,
        "start_time": "2021-12-16T15:00:59.537Z"
      },
      {
        "duration": 6,
        "start_time": "2021-12-16T15:01:00.773Z"
      },
      {
        "duration": 8052,
        "start_time": "2021-12-16T15:01:01.556Z"
      },
      {
        "duration": 38,
        "start_time": "2021-12-16T15:01:11.327Z"
      },
      {
        "duration": 41,
        "start_time": "2021-12-16T15:01:12.949Z"
      },
      {
        "duration": 11,
        "start_time": "2021-12-16T15:01:14.222Z"
      },
      {
        "duration": 6,
        "start_time": "2021-12-16T15:01:19.369Z"
      },
      {
        "duration": 23,
        "start_time": "2021-12-16T15:01:19.701Z"
      },
      {
        "duration": 4,
        "start_time": "2021-12-16T15:01:24.720Z"
      },
      {
        "duration": 5,
        "start_time": "2021-12-16T15:02:12.902Z"
      },
      {
        "duration": 15,
        "start_time": "2021-12-16T15:03:00.681Z"
      },
      {
        "duration": 52,
        "start_time": "2021-12-16T15:03:11.375Z"
      },
      {
        "duration": 23,
        "start_time": "2021-12-16T15:03:29.080Z"
      },
      {
        "duration": 11,
        "start_time": "2021-12-16T15:03:31.337Z"
      },
      {
        "duration": 5,
        "start_time": "2021-12-16T15:03:32.153Z"
      },
      {
        "duration": 5,
        "start_time": "2021-12-16T15:04:37.546Z"
      },
      {
        "duration": 9,
        "start_time": "2021-12-16T15:04:49.495Z"
      },
      {
        "duration": 624,
        "start_time": "2021-12-16T15:04:54.466Z"
      },
      {
        "duration": 2775,
        "start_time": "2021-12-16T15:05:06.509Z"
      },
      {
        "duration": 8,
        "start_time": "2021-12-16T15:05:14.665Z"
      },
      {
        "duration": 21,
        "start_time": "2021-12-16T15:17:08.340Z"
      },
      {
        "duration": 16,
        "start_time": "2021-12-16T15:17:14.280Z"
      },
      {
        "duration": 16,
        "start_time": "2021-12-16T15:17:20.649Z"
      },
      {
        "duration": 13,
        "start_time": "2021-12-16T15:19:02.374Z"
      },
      {
        "duration": 14,
        "start_time": "2021-12-16T15:20:19.074Z"
      },
      {
        "duration": 15,
        "start_time": "2021-12-16T15:22:23.016Z"
      },
      {
        "duration": 13,
        "start_time": "2021-12-16T15:33:40.434Z"
      },
      {
        "duration": 1162,
        "start_time": "2021-12-16T15:34:30.737Z"
      },
      {
        "duration": 17,
        "start_time": "2021-12-16T15:35:38.022Z"
      },
      {
        "duration": 16,
        "start_time": "2021-12-16T15:36:30.017Z"
      },
      {
        "duration": 17,
        "start_time": "2021-12-16T15:38:32.851Z"
      },
      {
        "duration": 17,
        "start_time": "2021-12-16T15:39:48.119Z"
      },
      {
        "duration": 13,
        "start_time": "2021-12-16T15:42:00.095Z"
      },
      {
        "duration": 15,
        "start_time": "2021-12-16T15:43:17.807Z"
      },
      {
        "duration": 14,
        "start_time": "2021-12-16T15:43:45.110Z"
      },
      {
        "duration": 16,
        "start_time": "2021-12-16T15:43:53.377Z"
      },
      {
        "duration": 17,
        "start_time": "2021-12-16T15:44:16.572Z"
      },
      {
        "duration": 15,
        "start_time": "2021-12-16T15:44:30.160Z"
      },
      {
        "duration": 14,
        "start_time": "2021-12-16T15:44:39.927Z"
      },
      {
        "duration": 7,
        "start_time": "2021-12-16T15:54:06.706Z"
      },
      {
        "duration": 7,
        "start_time": "2021-12-16T15:54:27.289Z"
      },
      {
        "duration": 5,
        "start_time": "2021-12-16T15:55:01.970Z"
      },
      {
        "duration": 345,
        "start_time": "2021-12-16T15:55:10.788Z"
      },
      {
        "duration": 276,
        "start_time": "2021-12-16T15:58:57.749Z"
      },
      {
        "duration": 12,
        "start_time": "2021-12-16T15:59:09.346Z"
      },
      {
        "duration": 743,
        "start_time": "2021-12-16T15:59:23.958Z"
      },
      {
        "duration": 16,
        "start_time": "2021-12-16T15:59:28.889Z"
      },
      {
        "duration": 43,
        "start_time": "2021-12-16T15:59:33.287Z"
      },
      {
        "duration": 5,
        "start_time": "2021-12-16T15:59:35.342Z"
      },
      {
        "duration": 8271,
        "start_time": "2021-12-16T15:59:37.248Z"
      },
      {
        "duration": 40,
        "start_time": "2021-12-16T15:59:47.327Z"
      },
      {
        "duration": 12,
        "start_time": "2021-12-16T15:59:51.908Z"
      },
      {
        "duration": 5,
        "start_time": "2021-12-16T15:59:54.766Z"
      },
      {
        "duration": 25,
        "start_time": "2021-12-16T15:59:57.230Z"
      },
      {
        "duration": 5,
        "start_time": "2021-12-16T16:00:01.733Z"
      },
      {
        "duration": 5,
        "start_time": "2021-12-16T16:00:03.842Z"
      },
      {
        "duration": 452,
        "start_time": "2021-12-16T16:00:07.852Z"
      },
      {
        "duration": 683,
        "start_time": "2021-12-16T16:00:58.211Z"
      },
      {
        "duration": 19,
        "start_time": "2021-12-16T16:01:04.479Z"
      },
      {
        "duration": 43,
        "start_time": "2021-12-16T16:01:10.567Z"
      },
      {
        "duration": 5,
        "start_time": "2021-12-16T16:01:12.184Z"
      },
      {
        "duration": 8138,
        "start_time": "2021-12-16T16:01:14.509Z"
      },
      {
        "duration": 43,
        "start_time": "2021-12-16T16:01:25.559Z"
      },
      {
        "duration": 44,
        "start_time": "2021-12-16T16:01:27.551Z"
      },
      {
        "duration": 13,
        "start_time": "2021-12-16T16:01:31.128Z"
      },
      {
        "duration": 4,
        "start_time": "2021-12-16T16:02:22.138Z"
      },
      {
        "duration": 3,
        "start_time": "2021-12-16T16:02:36.117Z"
      },
      {
        "duration": 4,
        "start_time": "2021-12-16T16:02:40.662Z"
      },
      {
        "duration": 4,
        "start_time": "2021-12-16T16:03:46.981Z"
      },
      {
        "duration": 4,
        "start_time": "2021-12-16T16:03:50.471Z"
      },
      {
        "duration": 4,
        "start_time": "2021-12-16T16:03:51.974Z"
      },
      {
        "duration": 13,
        "start_time": "2021-12-16T16:03:53.823Z"
      },
      {
        "duration": 32,
        "start_time": "2021-12-16T16:04:04.123Z"
      },
      {
        "duration": 26,
        "start_time": "2021-12-16T16:04:09.374Z"
      },
      {
        "duration": 7,
        "start_time": "2021-12-16T16:04:11.314Z"
      },
      {
        "duration": 5,
        "start_time": "2021-12-16T16:04:12.554Z"
      },
      {
        "duration": 5,
        "start_time": "2021-12-16T16:04:17.244Z"
      },
      {
        "duration": 7,
        "start_time": "2021-12-16T16:04:26.547Z"
      },
      {
        "duration": 633,
        "start_time": "2021-12-16T16:04:33.041Z"
      },
      {
        "duration": 2708,
        "start_time": "2021-12-16T16:04:40.213Z"
      },
      {
        "duration": 7,
        "start_time": "2021-12-16T16:04:46.566Z"
      },
      {
        "duration": 10,
        "start_time": "2021-12-16T16:06:17.466Z"
      },
      {
        "duration": 4,
        "start_time": "2021-12-16T16:06:21.838Z"
      },
      {
        "duration": 4,
        "start_time": "2021-12-16T16:06:56.121Z"
      },
      {
        "duration": 3,
        "start_time": "2021-12-16T16:07:23.801Z"
      },
      {
        "duration": 334,
        "start_time": "2021-12-16T16:07:34.556Z"
      },
      {
        "duration": 544,
        "start_time": "2021-12-16T16:09:20.691Z"
      },
      {
        "duration": 270,
        "start_time": "2021-12-16T16:20:32.795Z"
      },
      {
        "duration": 270,
        "start_time": "2021-12-16T16:21:08.745Z"
      },
      {
        "duration": 14,
        "start_time": "2021-12-16T16:22:21.160Z"
      },
      {
        "duration": 2653,
        "start_time": "2021-12-16T16:25:38.240Z"
      },
      {
        "duration": 8,
        "start_time": "2021-12-16T16:25:47.075Z"
      },
      {
        "duration": 13,
        "start_time": "2021-12-16T16:26:09.789Z"
      },
      {
        "duration": 15,
        "start_time": "2021-12-16T16:26:13.542Z"
      },
      {
        "duration": 16,
        "start_time": "2021-12-16T16:26:17.306Z"
      },
      {
        "duration": 13,
        "start_time": "2021-12-16T16:26:23.916Z"
      },
      {
        "duration": 13,
        "start_time": "2021-12-16T16:28:07.529Z"
      },
      {
        "duration": 12,
        "start_time": "2021-12-16T16:48:23.878Z"
      },
      {
        "duration": 18,
        "start_time": "2021-12-16T16:56:44.655Z"
      },
      {
        "duration": 101,
        "start_time": "2021-12-19T13:53:33.515Z"
      },
      {
        "duration": 94,
        "start_time": "2021-12-19T14:37:24.727Z"
      },
      {
        "duration": 79,
        "start_time": "2021-12-19T17:27:25.385Z"
      },
      {
        "duration": 750,
        "start_time": "2021-12-19T17:28:34.726Z"
      },
      {
        "duration": 16,
        "start_time": "2021-12-19T17:28:41.011Z"
      },
      {
        "duration": 57,
        "start_time": "2021-12-19T17:28:45.012Z"
      },
      {
        "duration": 5,
        "start_time": "2021-12-19T17:28:48.356Z"
      },
      {
        "duration": 8142,
        "start_time": "2021-12-19T17:28:50.927Z"
      },
      {
        "duration": 46,
        "start_time": "2021-12-19T17:29:05.663Z"
      },
      {
        "duration": 40,
        "start_time": "2021-12-19T17:29:06.685Z"
      },
      {
        "duration": 11,
        "start_time": "2021-12-19T17:29:12.556Z"
      },
      {
        "duration": 25,
        "start_time": "2021-12-19T17:29:24.972Z"
      },
      {
        "duration": 10,
        "start_time": "2021-12-19T17:29:34.375Z"
      },
      {
        "duration": 7,
        "start_time": "2021-12-19T17:29:37.701Z"
      },
      {
        "duration": 4,
        "start_time": "2021-12-19T17:29:43.164Z"
      },
      {
        "duration": 5,
        "start_time": "2021-12-19T17:29:47.238Z"
      },
      {
        "duration": 5,
        "start_time": "2021-12-19T17:30:05.900Z"
      },
      {
        "duration": 5,
        "start_time": "2021-12-19T17:30:08.027Z"
      },
      {
        "duration": 5,
        "start_time": "2021-12-19T17:30:09.148Z"
      },
      {
        "duration": 18,
        "start_time": "2021-12-19T17:30:10.243Z"
      },
      {
        "duration": 39,
        "start_time": "2021-12-19T17:30:22.707Z"
      },
      {
        "duration": 29,
        "start_time": "2021-12-19T17:33:34.338Z"
      },
      {
        "duration": 7,
        "start_time": "2021-12-19T17:33:56.623Z"
      },
      {
        "duration": 9,
        "start_time": "2021-12-19T17:33:59.407Z"
      },
      {
        "duration": 6,
        "start_time": "2021-12-19T17:34:00.692Z"
      },
      {
        "duration": 6,
        "start_time": "2021-12-19T17:34:08.984Z"
      },
      {
        "duration": 6,
        "start_time": "2021-12-19T17:36:36.820Z"
      },
      {
        "duration": 696,
        "start_time": "2021-12-19T17:36:41.538Z"
      },
      {
        "duration": 3431,
        "start_time": "2021-12-19T17:36:51.491Z"
      },
      {
        "duration": 8,
        "start_time": "2021-12-19T17:37:00.038Z"
      },
      {
        "duration": 85,
        "start_time": "2021-12-19T17:37:13.989Z"
      },
      {
        "duration": 1300,
        "start_time": "2021-12-19T17:37:31.581Z"
      },
      {
        "duration": 9,
        "start_time": "2021-12-19T17:43:19.533Z"
      },
      {
        "duration": 12,
        "start_time": "2021-12-19T17:43:26.875Z"
      },
      {
        "duration": 8,
        "start_time": "2021-12-19T17:43:55.738Z"
      },
      {
        "duration": 8,
        "start_time": "2021-12-19T17:43:57.860Z"
      },
      {
        "duration": 25,
        "start_time": "2021-12-19T17:46:08.921Z"
      },
      {
        "duration": 15,
        "start_time": "2021-12-19T17:46:13.851Z"
      },
      {
        "duration": 16,
        "start_time": "2021-12-19T17:48:31.471Z"
      },
      {
        "duration": 19,
        "start_time": "2021-12-19T17:50:50.315Z"
      },
      {
        "duration": 18,
        "start_time": "2021-12-19T17:50:54.707Z"
      },
      {
        "duration": 15,
        "start_time": "2021-12-19T17:50:59.658Z"
      },
      {
        "duration": 16,
        "start_time": "2021-12-19T17:53:52.741Z"
      }
    ],
    "kernelspec": {
      "display_name": "Python 3 (ipykernel)",
      "language": "python",
      "name": "python3"
    },
    "language_info": {
      "codemirror_mode": {
        "name": "ipython",
        "version": 3
      },
      "file_extension": ".py",
      "mimetype": "text/x-python",
      "name": "python",
      "nbconvert_exporter": "python",
      "pygments_lexer": "ipython3",
      "version": "3.9.5"
    },
    "toc": {
      "base_numbering": 1,
      "nav_menu": {},
      "number_sections": true,
      "sideBar": true,
      "skip_h1_title": true,
      "title_cell": "Table of Contents",
      "title_sidebar": "Contents",
      "toc_cell": false,
      "toc_position": {},
      "toc_section_display": true,
      "toc_window_display": false
    },
    "colab": {
      "name": "Исследование надёжности заёмщиков",
      "provenance": [],
      "collapsed_sections": []
    }
  },
  "nbformat": 4,
  "nbformat_minor": 0
}