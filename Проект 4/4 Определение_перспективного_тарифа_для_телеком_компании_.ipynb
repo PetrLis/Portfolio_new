{
  "cells": [
    {
      "cell_type": "markdown",
      "metadata": {
        "id": "XFV-RPxU5rs7"
      },
      "source": [
        "# Определение перспективного тарифа для телеком-компании.  \n"
      ]
    },
    {
      "cell_type": "markdown",
      "metadata": {
        "id": "y2A5Adoz5rs8"
      },
      "source": [
        "\n",
        "Необходимо сделать предварительный анализ тарифов на небольшой выборке клиентов. В распоряжении данные 500 пользователей: кто они, откуда, каким тарифом пользуются, сколько звонков и сообщений каждый отправил за 2018 год. Нужно проанализировать поведение клиентов и сделать вывод — какой тариф лучше."
      ]
    },
    {
      "cell_type": "markdown",
      "metadata": {
        "id": "6Yc6hlqs5rtB"
      },
      "source": [
        "## Открываем файлы с данными и изучим общую информацию"
      ]
    },
    {
      "cell_type": "code",
      "execution_count": null,
      "metadata": {
        "id": "1MXhjLcj5rtD"
      },
      "outputs": [],
      "source": [
        "# импортирую библиотеки\n",
        "import math as mh               # math для математических операций\n",
        "import pandas as pd             # pandas для работы с датафреймами\n",
        "import numpy as np              # numpy \n",
        "import matplotlib.pyplot as plt # matplotlib для построения графиков\n",
        "from scipy import stats as st   # stats для проведения статистического анализа"
      ]
    },
    {
      "cell_type": "code",
      "execution_count": null,
      "metadata": {
        "scrolled": true,
        "id": "hhb-FjRj5rtH",
        "outputId": "894923e6-fcd0-44ef-df1d-bb5061b64c87"
      },
      "outputs": [
        {
          "name": "stdout",
          "output_type": "stream",
          "text": [
            "<class 'pandas.core.frame.DataFrame'>\n",
            "RangeIndex: 202607 entries, 0 to 202606\n",
            "Data columns (total 4 columns):\n",
            "id           202607 non-null object\n",
            "call_date    202607 non-null object\n",
            "duration     202607 non-null float64\n",
            "user_id      202607 non-null int64\n",
            "dtypes: float64(1), int64(1), object(2)\n",
            "memory usage: 6.2+ MB\n"
          ]
        }
      ],
      "source": [
        "df_calls.info()     # вывожу на экран сведения о датафрейме звонков"
      ]
    },
    {
      "cell_type": "markdown",
      "metadata": {
        "id": "k62G-KSb5rtJ"
      },
      "source": [
        "В датафрейме 'df_calls' 202607 строк и 4 столбца, 2 столбца типа object, один float64 и один int64. Данные в столбце 'call_date' нужно привести к формату  'dataime'. Пропусков в данных нет."
      ]
    },
    {
      "cell_type": "code",
      "execution_count": null,
      "metadata": {
        "scrolled": true,
        "id": "_h5g9FCr5rtK",
        "outputId": "7d6c0d97-15bf-401d-d91c-aae0b2fab054"
      },
      "outputs": [
        {
          "data": {
            "text/plain": [
              "count    202607.000000\n",
              "mean          6.755887\n",
              "std           5.843365\n",
              "min           0.000000\n",
              "25%           1.300000\n",
              "50%           6.000000\n",
              "75%          10.700000\n",
              "max          38.000000\n",
              "Name: duration, dtype: float64"
            ]
          },
          "execution_count": 4,
          "metadata": {},
          "output_type": "execute_result"
        }
      ],
      "source": [
        "df_calls['duration'].describe() # вывожу на экран основные статистические характеристики df_calls"
      ]
    },
    {
      "cell_type": "markdown",
      "metadata": {
        "id": "R_nck_-t5rtL"
      },
      "source": [
        "Статистические характеристики столбца 'duration' минимальное значение 0, максимальное 38, среднее значение длительности звонка 6.756, медианное значение 6."
      ]
    },
    {
      "cell_type": "code",
      "execution_count": null,
      "metadata": {
        "id": "VgR5UoU15rtM",
        "outputId": "f1253d0d-2fd7-4fb6-853d-e26a0ed821da"
      },
      "outputs": [
        {
          "data": {
            "text/html": [
              "<div>\n",
              "<style scoped>\n",
              "    .dataframe tbody tr th:only-of-type {\n",
              "        vertical-align: middle;\n",
              "    }\n",
              "\n",
              "    .dataframe tbody tr th {\n",
              "        vertical-align: top;\n",
              "    }\n",
              "\n",
              "    .dataframe thead th {\n",
              "        text-align: right;\n",
              "    }\n",
              "</style>\n",
              "<table border=\"1\" class=\"dataframe\">\n",
              "  <thead>\n",
              "    <tr style=\"text-align: right;\">\n",
              "      <th></th>\n",
              "      <th>id</th>\n",
              "      <th>call_date</th>\n",
              "      <th>duration</th>\n",
              "      <th>user_id</th>\n",
              "    </tr>\n",
              "  </thead>\n",
              "  <tbody>\n",
              "    <tr>\n",
              "      <td>0</td>\n",
              "      <td>1000_0</td>\n",
              "      <td>2018-07-25</td>\n",
              "      <td>0.00</td>\n",
              "      <td>1000</td>\n",
              "    </tr>\n",
              "    <tr>\n",
              "      <td>1</td>\n",
              "      <td>1000_1</td>\n",
              "      <td>2018-08-17</td>\n",
              "      <td>0.00</td>\n",
              "      <td>1000</td>\n",
              "    </tr>\n",
              "    <tr>\n",
              "      <td>2</td>\n",
              "      <td>1000_2</td>\n",
              "      <td>2018-06-11</td>\n",
              "      <td>2.85</td>\n",
              "      <td>1000</td>\n",
              "    </tr>\n",
              "    <tr>\n",
              "      <td>3</td>\n",
              "      <td>1000_3</td>\n",
              "      <td>2018-09-21</td>\n",
              "      <td>13.80</td>\n",
              "      <td>1000</td>\n",
              "    </tr>\n",
              "    <tr>\n",
              "      <td>4</td>\n",
              "      <td>1000_4</td>\n",
              "      <td>2018-12-15</td>\n",
              "      <td>5.18</td>\n",
              "      <td>1000</td>\n",
              "    </tr>\n",
              "  </tbody>\n",
              "</table>\n",
              "</div>"
            ],
            "text/plain": [
              "       id   call_date  duration  user_id\n",
              "0  1000_0  2018-07-25      0.00     1000\n",
              "1  1000_1  2018-08-17      0.00     1000\n",
              "2  1000_2  2018-06-11      2.85     1000\n",
              "3  1000_3  2018-09-21     13.80     1000\n",
              "4  1000_4  2018-12-15      5.18     1000"
            ]
          },
          "execution_count": 5,
          "metadata": {},
          "output_type": "execute_result"
        }
      ],
      "source": [
        "df_calls.head()     # вывожу на экран первые пять строк датафрейма df_calls"
      ]
    },
    {
      "cell_type": "code",
      "execution_count": null,
      "metadata": {
        "scrolled": true,
        "id": "yJPqNwg05rtN",
        "outputId": "8635e3f0-833e-4834-9293-d515908eb13c"
      },
      "outputs": [
        {
          "data": {
            "text/html": [
              "<div>\n",
              "<style scoped>\n",
              "    .dataframe tbody tr th:only-of-type {\n",
              "        vertical-align: middle;\n",
              "    }\n",
              "\n",
              "    .dataframe tbody tr th {\n",
              "        vertical-align: top;\n",
              "    }\n",
              "\n",
              "    .dataframe thead th {\n",
              "        text-align: right;\n",
              "    }\n",
              "</style>\n",
              "<table border=\"1\" class=\"dataframe\">\n",
              "  <thead>\n",
              "    <tr style=\"text-align: right;\">\n",
              "      <th></th>\n",
              "      <th>id</th>\n",
              "      <th>call_date</th>\n",
              "      <th>duration</th>\n",
              "      <th>user_id</th>\n",
              "    </tr>\n",
              "  </thead>\n",
              "  <tbody>\n",
              "    <tr>\n",
              "      <td>202602</td>\n",
              "      <td>1499_215</td>\n",
              "      <td>2018-12-26</td>\n",
              "      <td>0.76</td>\n",
              "      <td>1499</td>\n",
              "    </tr>\n",
              "    <tr>\n",
              "      <td>202603</td>\n",
              "      <td>1499_216</td>\n",
              "      <td>2018-10-18</td>\n",
              "      <td>18.83</td>\n",
              "      <td>1499</td>\n",
              "    </tr>\n",
              "    <tr>\n",
              "      <td>202604</td>\n",
              "      <td>1499_217</td>\n",
              "      <td>2018-11-10</td>\n",
              "      <td>10.81</td>\n",
              "      <td>1499</td>\n",
              "    </tr>\n",
              "    <tr>\n",
              "      <td>202605</td>\n",
              "      <td>1499_218</td>\n",
              "      <td>2018-10-06</td>\n",
              "      <td>4.27</td>\n",
              "      <td>1499</td>\n",
              "    </tr>\n",
              "    <tr>\n",
              "      <td>202606</td>\n",
              "      <td>1499_219</td>\n",
              "      <td>2018-12-14</td>\n",
              "      <td>19.62</td>\n",
              "      <td>1499</td>\n",
              "    </tr>\n",
              "  </tbody>\n",
              "</table>\n",
              "</div>"
            ],
            "text/plain": [
              "              id   call_date  duration  user_id\n",
              "202602  1499_215  2018-12-26      0.76     1499\n",
              "202603  1499_216  2018-10-18     18.83     1499\n",
              "202604  1499_217  2018-11-10     10.81     1499\n",
              "202605  1499_218  2018-10-06      4.27     1499\n",
              "202606  1499_219  2018-12-14     19.62     1499"
            ]
          },
          "execution_count": 6,
          "metadata": {},
          "output_type": "execute_result"
        }
      ],
      "source": [
        "df_calls.tail()     # вывожу на экран последние пять строк датафрейма df_calls"
      ]
    },
    {
      "cell_type": "code",
      "execution_count": null,
      "metadata": {
        "scrolled": true,
        "id": "1XU2Uggo5rtN",
        "outputId": "f9b11aa8-0ab6-44ad-af47-36464919e809"
      },
      "outputs": [
        {
          "data": {
            "text/plain": [
              "1377    1760\n",
              "1168    1692\n",
              "1375    1560\n",
              "1453    1440\n",
              "1196    1240\n",
              "        ... \n",
              "1397      33\n",
              "1442      28\n",
              "1373      24\n",
              "1016      20\n",
              "1257      14\n",
              "Name: user_id, Length: 492, dtype: int64"
            ]
          },
          "execution_count": 7,
          "metadata": {},
          "output_type": "execute_result"
        }
      ],
      "source": [
        "df_calls['user_id'].value_counts()"
      ]
    },
    {
      "cell_type": "markdown",
      "metadata": {
        "id": "_E80JUn65rtO"
      },
      "source": [
        "В датафреме данные о звонка 492 пользователей."
      ]
    },
    {
      "cell_type": "code",
      "execution_count": null,
      "metadata": {
        "scrolled": true,
        "id": "m02P3iVC5rtP",
        "outputId": "f8af6073-d178-4eec-8bdc-ffe43af43806"
      },
      "outputs": [
        {
          "name": "stdout",
          "output_type": "stream",
          "text": [
            "<class 'pandas.core.frame.DataFrame'>\n",
            "RangeIndex: 149396 entries, 0 to 149395\n",
            "Data columns (total 5 columns):\n",
            "Unnamed: 0      149396 non-null int64\n",
            "id              149396 non-null object\n",
            "mb_used         149396 non-null float64\n",
            "session_date    149396 non-null object\n",
            "user_id         149396 non-null int64\n",
            "dtypes: float64(1), int64(2), object(2)\n",
            "memory usage: 5.7+ MB\n"
          ]
        }
      ],
      "source": [
        "df_internet.info()     # вывожу на экран сведения о датафрейме df_internet"
      ]
    },
    {
      "cell_type": "markdown",
      "metadata": {
        "id": "6T5Krx2v5rtQ"
      },
      "source": [
        "Датафрейм df_internet содержит 149396 строк и 5 столбцов. 2 столбца в формате int64, 2 столбца в формате object, один столбец в формате float64. Данные в столбце 'session_date' нужно привести к формату  'dataime'. Пропусков в данных нет."
      ]
    },
    {
      "cell_type": "code",
      "execution_count": null,
      "metadata": {
        "id": "qmiBnZxa5rtQ",
        "outputId": "c4aae2de-1744-4e9e-d1c7-cf74c84320fd"
      },
      "outputs": [
        {
          "data": {
            "text/plain": [
              "count    149396.000000\n",
              "mean        370.192426\n",
              "std         278.300951\n",
              "min           0.000000\n",
              "25%         138.187500\n",
              "50%         348.015000\n",
              "75%         559.552500\n",
              "max        1724.830000\n",
              "Name: mb_used, dtype: float64"
            ]
          },
          "execution_count": 9,
          "metadata": {},
          "output_type": "execute_result"
        }
      ],
      "source": [
        "df_internet['mb_used'].describe() # вывожу на экран основные статистические характеристики df_internet"
      ]
    },
    {
      "cell_type": "markdown",
      "metadata": {
        "id": "3_7afYWb5rtR"
      },
      "source": [
        "Статистические характеристики столбца 'mb_used' минимальное значение 0, максимальное 1724.83, среднее значение траффика интернета 74697.5, медианное значение 74697.5 среднее и медиана равны, что говорит о семметричном расположении данных."
      ]
    },
    {
      "cell_type": "code",
      "execution_count": null,
      "metadata": {
        "id": "KxEJhP6R5rtS",
        "outputId": "0569d1d3-4de8-4283-ee62-ebfcb03f96ff"
      },
      "outputs": [
        {
          "data": {
            "text/html": [
              "<div>\n",
              "<style scoped>\n",
              "    .dataframe tbody tr th:only-of-type {\n",
              "        vertical-align: middle;\n",
              "    }\n",
              "\n",
              "    .dataframe tbody tr th {\n",
              "        vertical-align: top;\n",
              "    }\n",
              "\n",
              "    .dataframe thead th {\n",
              "        text-align: right;\n",
              "    }\n",
              "</style>\n",
              "<table border=\"1\" class=\"dataframe\">\n",
              "  <thead>\n",
              "    <tr style=\"text-align: right;\">\n",
              "      <th></th>\n",
              "      <th>Unnamed: 0</th>\n",
              "      <th>id</th>\n",
              "      <th>mb_used</th>\n",
              "      <th>session_date</th>\n",
              "      <th>user_id</th>\n",
              "    </tr>\n",
              "  </thead>\n",
              "  <tbody>\n",
              "    <tr>\n",
              "      <td>0</td>\n",
              "      <td>0</td>\n",
              "      <td>1000_0</td>\n",
              "      <td>112.95</td>\n",
              "      <td>2018-11-25</td>\n",
              "      <td>1000</td>\n",
              "    </tr>\n",
              "    <tr>\n",
              "      <td>1</td>\n",
              "      <td>1</td>\n",
              "      <td>1000_1</td>\n",
              "      <td>1052.81</td>\n",
              "      <td>2018-09-07</td>\n",
              "      <td>1000</td>\n",
              "    </tr>\n",
              "    <tr>\n",
              "      <td>2</td>\n",
              "      <td>2</td>\n",
              "      <td>1000_2</td>\n",
              "      <td>1197.26</td>\n",
              "      <td>2018-06-25</td>\n",
              "      <td>1000</td>\n",
              "    </tr>\n",
              "    <tr>\n",
              "      <td>3</td>\n",
              "      <td>3</td>\n",
              "      <td>1000_3</td>\n",
              "      <td>550.27</td>\n",
              "      <td>2018-08-22</td>\n",
              "      <td>1000</td>\n",
              "    </tr>\n",
              "    <tr>\n",
              "      <td>4</td>\n",
              "      <td>4</td>\n",
              "      <td>1000_4</td>\n",
              "      <td>302.56</td>\n",
              "      <td>2018-09-24</td>\n",
              "      <td>1000</td>\n",
              "    </tr>\n",
              "  </tbody>\n",
              "</table>\n",
              "</div>"
            ],
            "text/plain": [
              "   Unnamed: 0      id  mb_used session_date  user_id\n",
              "0           0  1000_0   112.95   2018-11-25     1000\n",
              "1           1  1000_1  1052.81   2018-09-07     1000\n",
              "2           2  1000_2  1197.26   2018-06-25     1000\n",
              "3           3  1000_3   550.27   2018-08-22     1000\n",
              "4           4  1000_4   302.56   2018-09-24     1000"
            ]
          },
          "execution_count": 10,
          "metadata": {},
          "output_type": "execute_result"
        }
      ],
      "source": [
        "df_internet.head()     # вывожу на экран первые пять строк датафрейма df_internet"
      ]
    },
    {
      "cell_type": "code",
      "execution_count": null,
      "metadata": {
        "scrolled": true,
        "id": "gBUzksEX5rtZ",
        "outputId": "33943148-8b69-4dfc-adc3-3c9538b7d49a"
      },
      "outputs": [
        {
          "data": {
            "text/html": [
              "<div>\n",
              "<style scoped>\n",
              "    .dataframe tbody tr th:only-of-type {\n",
              "        vertical-align: middle;\n",
              "    }\n",
              "\n",
              "    .dataframe tbody tr th {\n",
              "        vertical-align: top;\n",
              "    }\n",
              "\n",
              "    .dataframe thead th {\n",
              "        text-align: right;\n",
              "    }\n",
              "</style>\n",
              "<table border=\"1\" class=\"dataframe\">\n",
              "  <thead>\n",
              "    <tr style=\"text-align: right;\">\n",
              "      <th></th>\n",
              "      <th>Unnamed: 0</th>\n",
              "      <th>id</th>\n",
              "      <th>mb_used</th>\n",
              "      <th>session_date</th>\n",
              "      <th>user_id</th>\n",
              "    </tr>\n",
              "  </thead>\n",
              "  <tbody>\n",
              "    <tr>\n",
              "      <td>149391</td>\n",
              "      <td>149391</td>\n",
              "      <td>1499_152</td>\n",
              "      <td>318.90</td>\n",
              "      <td>2018-10-03</td>\n",
              "      <td>1499</td>\n",
              "    </tr>\n",
              "    <tr>\n",
              "      <td>149392</td>\n",
              "      <td>149392</td>\n",
              "      <td>1499_153</td>\n",
              "      <td>490.13</td>\n",
              "      <td>2018-12-14</td>\n",
              "      <td>1499</td>\n",
              "    </tr>\n",
              "    <tr>\n",
              "      <td>149393</td>\n",
              "      <td>149393</td>\n",
              "      <td>1499_154</td>\n",
              "      <td>0.00</td>\n",
              "      <td>2018-10-27</td>\n",
              "      <td>1499</td>\n",
              "    </tr>\n",
              "    <tr>\n",
              "      <td>149394</td>\n",
              "      <td>149394</td>\n",
              "      <td>1499_155</td>\n",
              "      <td>1246.32</td>\n",
              "      <td>2018-11-26</td>\n",
              "      <td>1499</td>\n",
              "    </tr>\n",
              "    <tr>\n",
              "      <td>149395</td>\n",
              "      <td>149395</td>\n",
              "      <td>1499_156</td>\n",
              "      <td>544.37</td>\n",
              "      <td>2018-10-26</td>\n",
              "      <td>1499</td>\n",
              "    </tr>\n",
              "  </tbody>\n",
              "</table>\n",
              "</div>"
            ],
            "text/plain": [
              "        Unnamed: 0        id  mb_used session_date  user_id\n",
              "149391      149391  1499_152   318.90   2018-10-03     1499\n",
              "149392      149392  1499_153   490.13   2018-12-14     1499\n",
              "149393      149393  1499_154     0.00   2018-10-27     1499\n",
              "149394      149394  1499_155  1246.32   2018-11-26     1499\n",
              "149395      149395  1499_156   544.37   2018-10-26     1499"
            ]
          },
          "execution_count": 11,
          "metadata": {},
          "output_type": "execute_result"
        }
      ],
      "source": [
        "df_internet.tail()     # вывожу на экран последние пять строк датафрейма df_internet"
      ]
    },
    {
      "cell_type": "code",
      "execution_count": null,
      "metadata": {
        "scrolled": true,
        "id": "f3Bp_RwG5rta",
        "outputId": "a4c7b1df-e3c6-4275-bd53-206e1bc7fda4"
      },
      "outputs": [
        {
          "data": {
            "text/plain": [
              "1496    834\n",
              "1227    812\n",
              "1204    789\n",
              "1240    764\n",
              "1251    759\n",
              "       ... \n",
              "1151     35\n",
              "1467     27\n",
              "1343     26\n",
              "1192     22\n",
              "1399      8\n",
              "Name: user_id, Length: 497, dtype: int64"
            ]
          },
          "execution_count": 12,
          "metadata": {},
          "output_type": "execute_result"
        }
      ],
      "source": [
        "df_internet['user_id'].value_counts()"
      ]
    },
    {
      "cell_type": "markdown",
      "metadata": {
        "id": "5k15VF795rtb"
      },
      "source": [
        "В датафреме данные 497 пользователей."
      ]
    },
    {
      "cell_type": "code",
      "execution_count": null,
      "metadata": {
        "id": "HIBM1w025rtb",
        "outputId": "786630ce-9106-4ba5-f0eb-9f54595cedaf"
      },
      "outputs": [
        {
          "name": "stdout",
          "output_type": "stream",
          "text": [
            "<class 'pandas.core.frame.DataFrame'>\n",
            "RangeIndex: 123036 entries, 0 to 123035\n",
            "Data columns (total 3 columns):\n",
            "id              123036 non-null object\n",
            "message_date    123036 non-null object\n",
            "user_id         123036 non-null int64\n",
            "dtypes: int64(1), object(2)\n",
            "memory usage: 2.8+ MB\n"
          ]
        }
      ],
      "source": [
        "df_messages.info()     # вывожу на экран сведения о датафрейме df_messages"
      ]
    },
    {
      "cell_type": "markdown",
      "metadata": {
        "id": "8F6PydFA5rtb"
      },
      "source": [
        "Датафрейм df_messages содержит 123036 строк и 3 столбца. 2 столбца в формате object, один столбец в формате int64. Данные в столбце 'message_date' нужно привести к формату  'dataime'. Пропусков в данных нет."
      ]
    },
    {
      "cell_type": "code",
      "execution_count": null,
      "metadata": {
        "scrolled": true,
        "id": "Xm8D0WeH5rtc",
        "outputId": "b0845d74-00a8-4cb2-cf68-8b9b63a797b2"
      },
      "outputs": [
        {
          "data": {
            "text/plain": [
              "id              123036\n",
              "message_date    123036\n",
              "user_id         123036\n",
              "dtype: int64"
            ]
          },
          "execution_count": 14,
          "metadata": {},
          "output_type": "execute_result"
        }
      ],
      "source": [
        "df_messages.count() # вывожу на экран основные статистические характеристики df_messages"
      ]
    },
    {
      "cell_type": "markdown",
      "metadata": {
        "id": "LhwtY2kg5rtc"
      },
      "source": [
        "Датафрейм message_date содержит только данные об отправке смс каждого пользователя, сложив количество строк для одного пользователя можно узнать количество отправленных смс."
      ]
    },
    {
      "cell_type": "code",
      "execution_count": null,
      "metadata": {
        "id": "hoxmwkoV5rtc",
        "outputId": "8bcb5411-fe3d-48bb-8e2c-623542760642"
      },
      "outputs": [
        {
          "data": {
            "text/html": [
              "<div>\n",
              "<style scoped>\n",
              "    .dataframe tbody tr th:only-of-type {\n",
              "        vertical-align: middle;\n",
              "    }\n",
              "\n",
              "    .dataframe tbody tr th {\n",
              "        vertical-align: top;\n",
              "    }\n",
              "\n",
              "    .dataframe thead th {\n",
              "        text-align: right;\n",
              "    }\n",
              "</style>\n",
              "<table border=\"1\" class=\"dataframe\">\n",
              "  <thead>\n",
              "    <tr style=\"text-align: right;\">\n",
              "      <th></th>\n",
              "      <th>id</th>\n",
              "      <th>message_date</th>\n",
              "      <th>user_id</th>\n",
              "    </tr>\n",
              "  </thead>\n",
              "  <tbody>\n",
              "    <tr>\n",
              "      <td>0</td>\n",
              "      <td>1000_0</td>\n",
              "      <td>2018-06-27</td>\n",
              "      <td>1000</td>\n",
              "    </tr>\n",
              "    <tr>\n",
              "      <td>1</td>\n",
              "      <td>1000_1</td>\n",
              "      <td>2018-10-08</td>\n",
              "      <td>1000</td>\n",
              "    </tr>\n",
              "    <tr>\n",
              "      <td>2</td>\n",
              "      <td>1000_2</td>\n",
              "      <td>2018-08-04</td>\n",
              "      <td>1000</td>\n",
              "    </tr>\n",
              "    <tr>\n",
              "      <td>3</td>\n",
              "      <td>1000_3</td>\n",
              "      <td>2018-06-16</td>\n",
              "      <td>1000</td>\n",
              "    </tr>\n",
              "    <tr>\n",
              "      <td>4</td>\n",
              "      <td>1000_4</td>\n",
              "      <td>2018-12-05</td>\n",
              "      <td>1000</td>\n",
              "    </tr>\n",
              "  </tbody>\n",
              "</table>\n",
              "</div>"
            ],
            "text/plain": [
              "       id message_date  user_id\n",
              "0  1000_0   2018-06-27     1000\n",
              "1  1000_1   2018-10-08     1000\n",
              "2  1000_2   2018-08-04     1000\n",
              "3  1000_3   2018-06-16     1000\n",
              "4  1000_4   2018-12-05     1000"
            ]
          },
          "execution_count": 15,
          "metadata": {},
          "output_type": "execute_result"
        }
      ],
      "source": [
        "df_messages.head()     # вывожу на экран первые пять строк датафрейма df_messages"
      ]
    },
    {
      "cell_type": "code",
      "execution_count": null,
      "metadata": {
        "scrolled": true,
        "id": "5Jq03T_Z5rtd",
        "outputId": "b0e52dd2-fa42-4bc1-a5d3-d8a1b62256c6"
      },
      "outputs": [
        {
          "data": {
            "text/html": [
              "<div>\n",
              "<style scoped>\n",
              "    .dataframe tbody tr th:only-of-type {\n",
              "        vertical-align: middle;\n",
              "    }\n",
              "\n",
              "    .dataframe tbody tr th {\n",
              "        vertical-align: top;\n",
              "    }\n",
              "\n",
              "    .dataframe thead th {\n",
              "        text-align: right;\n",
              "    }\n",
              "</style>\n",
              "<table border=\"1\" class=\"dataframe\">\n",
              "  <thead>\n",
              "    <tr style=\"text-align: right;\">\n",
              "      <th></th>\n",
              "      <th>id</th>\n",
              "      <th>message_date</th>\n",
              "      <th>user_id</th>\n",
              "    </tr>\n",
              "  </thead>\n",
              "  <tbody>\n",
              "    <tr>\n",
              "      <td>123031</td>\n",
              "      <td>1499_179</td>\n",
              "      <td>2018-12-12</td>\n",
              "      <td>1499</td>\n",
              "    </tr>\n",
              "    <tr>\n",
              "      <td>123032</td>\n",
              "      <td>1499_180</td>\n",
              "      <td>2018-09-28</td>\n",
              "      <td>1499</td>\n",
              "    </tr>\n",
              "    <tr>\n",
              "      <td>123033</td>\n",
              "      <td>1499_181</td>\n",
              "      <td>2018-09-27</td>\n",
              "      <td>1499</td>\n",
              "    </tr>\n",
              "    <tr>\n",
              "      <td>123034</td>\n",
              "      <td>1499_182</td>\n",
              "      <td>2018-11-15</td>\n",
              "      <td>1499</td>\n",
              "    </tr>\n",
              "    <tr>\n",
              "      <td>123035</td>\n",
              "      <td>1499_183</td>\n",
              "      <td>2018-11-16</td>\n",
              "      <td>1499</td>\n",
              "    </tr>\n",
              "  </tbody>\n",
              "</table>\n",
              "</div>"
            ],
            "text/plain": [
              "              id message_date  user_id\n",
              "123031  1499_179   2018-12-12     1499\n",
              "123032  1499_180   2018-09-28     1499\n",
              "123033  1499_181   2018-09-27     1499\n",
              "123034  1499_182   2018-11-15     1499\n",
              "123035  1499_183   2018-11-16     1499"
            ]
          },
          "execution_count": 16,
          "metadata": {},
          "output_type": "execute_result"
        }
      ],
      "source": [
        "df_messages.tail()     # вывожу на экран последние пять строк датафрейма df_messages"
      ]
    },
    {
      "cell_type": "code",
      "execution_count": null,
      "metadata": {
        "scrolled": true,
        "id": "5nN8SLfG5rtd",
        "outputId": "644b9b9b-494b-48e9-fb65-ec40f8e8cd98"
      },
      "outputs": [
        {
          "data": {
            "text/plain": [
              "1277    1463\n",
              "1089    1408\n",
              "1231    1384\n",
              "1385    1380\n",
              "1356    1224\n",
              "        ... \n",
              "1389       6\n",
              "1279       5\n",
              "1074       3\n",
              "1159       2\n",
              "1141       1\n",
              "Name: user_id, Length: 426, dtype: int64"
            ]
          },
          "execution_count": 17,
          "metadata": {},
          "output_type": "execute_result"
        }
      ],
      "source": [
        "df_messages['user_id'].value_counts()"
      ]
    },
    {
      "cell_type": "markdown",
      "metadata": {
        "id": "1xZMdse45rte"
      },
      "source": [
        "В датафреме данные 426 пользователей.Минимальное количество отправленных смс равно 1, максимальное 1463."
      ]
    },
    {
      "cell_type": "code",
      "execution_count": null,
      "metadata": {
        "id": "fi-RYY2C5rte",
        "outputId": "f1f49fcf-b965-4c85-9eb8-d8b41b16bf1e"
      },
      "outputs": [
        {
          "name": "stdout",
          "output_type": "stream",
          "text": [
            "<class 'pandas.core.frame.DataFrame'>\n",
            "RangeIndex: 2 entries, 0 to 1\n",
            "Data columns (total 8 columns):\n",
            "messages_included        2 non-null int64\n",
            "mb_per_month_included    2 non-null int64\n",
            "minutes_included         2 non-null int64\n",
            "rub_monthly_fee          2 non-null int64\n",
            "rub_per_gb               2 non-null int64\n",
            "rub_per_message          2 non-null int64\n",
            "rub_per_minute           2 non-null int64\n",
            "tariff_name              2 non-null object\n",
            "dtypes: int64(7), object(1)\n",
            "memory usage: 256.0+ bytes\n"
          ]
        }
      ],
      "source": [
        "df_tariffs.info()     # вывожу на экран сведения о датафрейме df_tariffs"
      ]
    },
    {
      "cell_type": "markdown",
      "metadata": {
        "id": "-1NH7O7B5rtf"
      },
      "source": [
        "Датафрейм df_tariffs содержит 2 строки и 8 столбцов. 7 столбцов имеют формат int64 и один столбец имеет формат object. Пропусков в данных нет."
      ]
    },
    {
      "cell_type": "code",
      "execution_count": null,
      "metadata": {
        "id": "bjgEYhUQ5rtf",
        "outputId": "88445520-e7e6-45e0-a570-8e44566f42d5"
      },
      "outputs": [
        {
          "data": {
            "text/html": [
              "<div>\n",
              "<style scoped>\n",
              "    .dataframe tbody tr th:only-of-type {\n",
              "        vertical-align: middle;\n",
              "    }\n",
              "\n",
              "    .dataframe tbody tr th {\n",
              "        vertical-align: top;\n",
              "    }\n",
              "\n",
              "    .dataframe thead th {\n",
              "        text-align: right;\n",
              "    }\n",
              "</style>\n",
              "<table border=\"1\" class=\"dataframe\">\n",
              "  <thead>\n",
              "    <tr style=\"text-align: right;\">\n",
              "      <th></th>\n",
              "      <th>messages_included</th>\n",
              "      <th>mb_per_month_included</th>\n",
              "      <th>minutes_included</th>\n",
              "      <th>rub_monthly_fee</th>\n",
              "      <th>rub_per_gb</th>\n",
              "      <th>rub_per_message</th>\n",
              "      <th>rub_per_minute</th>\n",
              "      <th>tariff_name</th>\n",
              "    </tr>\n",
              "  </thead>\n",
              "  <tbody>\n",
              "    <tr>\n",
              "      <td>0</td>\n",
              "      <td>50</td>\n",
              "      <td>15360</td>\n",
              "      <td>500</td>\n",
              "      <td>550</td>\n",
              "      <td>200</td>\n",
              "      <td>3</td>\n",
              "      <td>3</td>\n",
              "      <td>smart</td>\n",
              "    </tr>\n",
              "    <tr>\n",
              "      <td>1</td>\n",
              "      <td>1000</td>\n",
              "      <td>30720</td>\n",
              "      <td>3000</td>\n",
              "      <td>1950</td>\n",
              "      <td>150</td>\n",
              "      <td>1</td>\n",
              "      <td>1</td>\n",
              "      <td>ultra</td>\n",
              "    </tr>\n",
              "  </tbody>\n",
              "</table>\n",
              "</div>"
            ],
            "text/plain": [
              "   messages_included  mb_per_month_included  minutes_included  \\\n",
              "0                 50                  15360               500   \n",
              "1               1000                  30720              3000   \n",
              "\n",
              "   rub_monthly_fee  rub_per_gb  rub_per_message  rub_per_minute tariff_name  \n",
              "0              550         200                3               3       smart  \n",
              "1             1950         150                1               1       ultra  "
            ]
          },
          "execution_count": 19,
          "metadata": {},
          "output_type": "execute_result"
        }
      ],
      "source": [
        "df_tariffs.head()     # вывожу на экран первые пять строк датафрейма df_tariffs"
      ]
    },
    {
      "cell_type": "code",
      "execution_count": null,
      "metadata": {
        "id": "K2gUsU5t5rtg",
        "outputId": "32c57344-1e18-4cf2-df9d-1c1c29bc6b68"
      },
      "outputs": [
        {
          "data": {
            "text/html": [
              "<div>\n",
              "<style scoped>\n",
              "    .dataframe tbody tr th:only-of-type {\n",
              "        vertical-align: middle;\n",
              "    }\n",
              "\n",
              "    .dataframe tbody tr th {\n",
              "        vertical-align: top;\n",
              "    }\n",
              "\n",
              "    .dataframe thead th {\n",
              "        text-align: right;\n",
              "    }\n",
              "</style>\n",
              "<table border=\"1\" class=\"dataframe\">\n",
              "  <thead>\n",
              "    <tr style=\"text-align: right;\">\n",
              "      <th></th>\n",
              "      <th>messages_included</th>\n",
              "      <th>mb_per_month_included</th>\n",
              "      <th>minutes_included</th>\n",
              "      <th>rub_monthly_fee</th>\n",
              "      <th>rub_per_gb</th>\n",
              "      <th>rub_per_message</th>\n",
              "      <th>rub_per_minute</th>\n",
              "      <th>tariff_name</th>\n",
              "    </tr>\n",
              "  </thead>\n",
              "  <tbody>\n",
              "    <tr>\n",
              "      <td>0</td>\n",
              "      <td>50</td>\n",
              "      <td>15360</td>\n",
              "      <td>500</td>\n",
              "      <td>550</td>\n",
              "      <td>200</td>\n",
              "      <td>3</td>\n",
              "      <td>3</td>\n",
              "      <td>smart</td>\n",
              "    </tr>\n",
              "    <tr>\n",
              "      <td>1</td>\n",
              "      <td>1000</td>\n",
              "      <td>30720</td>\n",
              "      <td>3000</td>\n",
              "      <td>1950</td>\n",
              "      <td>150</td>\n",
              "      <td>1</td>\n",
              "      <td>1</td>\n",
              "      <td>ultra</td>\n",
              "    </tr>\n",
              "  </tbody>\n",
              "</table>\n",
              "</div>"
            ],
            "text/plain": [
              "   messages_included  mb_per_month_included  minutes_included  \\\n",
              "0                 50                  15360               500   \n",
              "1               1000                  30720              3000   \n",
              "\n",
              "   rub_monthly_fee  rub_per_gb  rub_per_message  rub_per_minute tariff_name  \n",
              "0              550         200                3               3       smart  \n",
              "1             1950         150                1               1       ultra  "
            ]
          },
          "execution_count": 20,
          "metadata": {},
          "output_type": "execute_result"
        }
      ],
      "source": [
        "df_tariffs.tail()     # вывожу на экран последние пять строк датафрейма df_tariffs"
      ]
    },
    {
      "cell_type": "code",
      "execution_count": null,
      "metadata": {
        "scrolled": true,
        "id": "SD89YVmh5rtg",
        "outputId": "8fd7ca89-9b76-4254-dbbb-63a8357ce64e"
      },
      "outputs": [
        {
          "name": "stdout",
          "output_type": "stream",
          "text": [
            "<class 'pandas.core.frame.DataFrame'>\n",
            "RangeIndex: 500 entries, 0 to 499\n",
            "Data columns (total 8 columns):\n",
            "user_id       500 non-null int64\n",
            "age           500 non-null int64\n",
            "churn_date    38 non-null object\n",
            "city          500 non-null object\n",
            "first_name    500 non-null object\n",
            "last_name     500 non-null object\n",
            "reg_date      500 non-null object\n",
            "tariff        500 non-null object\n",
            "dtypes: int64(2), object(6)\n",
            "memory usage: 31.4+ KB\n"
          ]
        }
      ],
      "source": [
        "df_users.info()     # вывожу на экран сведения о датафрейме df_users"
      ]
    },
    {
      "cell_type": "markdown",
      "metadata": {
        "id": "LNj2bAIG5rth"
      },
      "source": [
        "Датафрейм df_users имеет 500 строк и 8 столбцов. 6 столбцов имею формат object и 2 столбца формат int64. В столбце churn_date заполнены только 38 строк. "
      ]
    },
    {
      "cell_type": "code",
      "execution_count": null,
      "metadata": {
        "id": "4grxQDEr5rth",
        "outputId": "4a5c5e86-9226-40a1-fc02-43a301b0c9cb"
      },
      "outputs": [
        {
          "data": {
            "text/html": [
              "<div>\n",
              "<style scoped>\n",
              "    .dataframe tbody tr th:only-of-type {\n",
              "        vertical-align: middle;\n",
              "    }\n",
              "\n",
              "    .dataframe tbody tr th {\n",
              "        vertical-align: top;\n",
              "    }\n",
              "\n",
              "    .dataframe thead th {\n",
              "        text-align: right;\n",
              "    }\n",
              "</style>\n",
              "<table border=\"1\" class=\"dataframe\">\n",
              "  <thead>\n",
              "    <tr style=\"text-align: right;\">\n",
              "      <th></th>\n",
              "      <th>user_id</th>\n",
              "      <th>age</th>\n",
              "      <th>churn_date</th>\n",
              "      <th>city</th>\n",
              "      <th>first_name</th>\n",
              "      <th>last_name</th>\n",
              "      <th>reg_date</th>\n",
              "      <th>tariff</th>\n",
              "    </tr>\n",
              "  </thead>\n",
              "  <tbody>\n",
              "    <tr>\n",
              "      <td>0</td>\n",
              "      <td>1000</td>\n",
              "      <td>52</td>\n",
              "      <td>NaN</td>\n",
              "      <td>Краснодар</td>\n",
              "      <td>Рафаил</td>\n",
              "      <td>Верещагин</td>\n",
              "      <td>2018-05-25</td>\n",
              "      <td>ultra</td>\n",
              "    </tr>\n",
              "    <tr>\n",
              "      <td>1</td>\n",
              "      <td>1001</td>\n",
              "      <td>41</td>\n",
              "      <td>NaN</td>\n",
              "      <td>Москва</td>\n",
              "      <td>Иван</td>\n",
              "      <td>Ежов</td>\n",
              "      <td>2018-11-01</td>\n",
              "      <td>smart</td>\n",
              "    </tr>\n",
              "    <tr>\n",
              "      <td>2</td>\n",
              "      <td>1002</td>\n",
              "      <td>59</td>\n",
              "      <td>NaN</td>\n",
              "      <td>Стерлитамак</td>\n",
              "      <td>Евгений</td>\n",
              "      <td>Абрамович</td>\n",
              "      <td>2018-06-17</td>\n",
              "      <td>smart</td>\n",
              "    </tr>\n",
              "    <tr>\n",
              "      <td>3</td>\n",
              "      <td>1003</td>\n",
              "      <td>23</td>\n",
              "      <td>NaN</td>\n",
              "      <td>Москва</td>\n",
              "      <td>Белла</td>\n",
              "      <td>Белякова</td>\n",
              "      <td>2018-08-17</td>\n",
              "      <td>ultra</td>\n",
              "    </tr>\n",
              "    <tr>\n",
              "      <td>4</td>\n",
              "      <td>1004</td>\n",
              "      <td>68</td>\n",
              "      <td>NaN</td>\n",
              "      <td>Новокузнецк</td>\n",
              "      <td>Татьяна</td>\n",
              "      <td>Авдеенко</td>\n",
              "      <td>2018-05-14</td>\n",
              "      <td>ultra</td>\n",
              "    </tr>\n",
              "  </tbody>\n",
              "</table>\n",
              "</div>"
            ],
            "text/plain": [
              "   user_id  age churn_date         city first_name  last_name    reg_date  \\\n",
              "0     1000   52        NaN    Краснодар     Рафаил  Верещагин  2018-05-25   \n",
              "1     1001   41        NaN       Москва       Иван       Ежов  2018-11-01   \n",
              "2     1002   59        NaN  Стерлитамак    Евгений  Абрамович  2018-06-17   \n",
              "3     1003   23        NaN       Москва      Белла   Белякова  2018-08-17   \n",
              "4     1004   68        NaN  Новокузнецк    Татьяна   Авдеенко  2018-05-14   \n",
              "\n",
              "  tariff  \n",
              "0  ultra  \n",
              "1  smart  \n",
              "2  smart  \n",
              "3  ultra  \n",
              "4  ultra  "
            ]
          },
          "metadata": {},
          "output_type": "display_data"
        }
      ],
      "source": [
        "display(df_users.head())     # вывожу на экран первые пять строк датафрейма df_users"
      ]
    },
    {
      "cell_type": "code",
      "execution_count": null,
      "metadata": {
        "scrolled": true,
        "id": "I2_JDQs65rti",
        "outputId": "aab0f696-a29f-4d9a-e19a-82b9c1fe240b"
      },
      "outputs": [
        {
          "data": {
            "text/html": [
              "<div>\n",
              "<style scoped>\n",
              "    .dataframe tbody tr th:only-of-type {\n",
              "        vertical-align: middle;\n",
              "    }\n",
              "\n",
              "    .dataframe tbody tr th {\n",
              "        vertical-align: top;\n",
              "    }\n",
              "\n",
              "    .dataframe thead th {\n",
              "        text-align: right;\n",
              "    }\n",
              "</style>\n",
              "<table border=\"1\" class=\"dataframe\">\n",
              "  <thead>\n",
              "    <tr style=\"text-align: right;\">\n",
              "      <th></th>\n",
              "      <th>user_id</th>\n",
              "      <th>age</th>\n",
              "      <th>churn_date</th>\n",
              "      <th>city</th>\n",
              "      <th>first_name</th>\n",
              "      <th>last_name</th>\n",
              "      <th>reg_date</th>\n",
              "      <th>tariff</th>\n",
              "    </tr>\n",
              "  </thead>\n",
              "  <tbody>\n",
              "    <tr>\n",
              "      <td>495</td>\n",
              "      <td>1495</td>\n",
              "      <td>65</td>\n",
              "      <td>NaN</td>\n",
              "      <td>Иркутск</td>\n",
              "      <td>Авксентий</td>\n",
              "      <td>Фокин</td>\n",
              "      <td>2018-08-28</td>\n",
              "      <td>ultra</td>\n",
              "    </tr>\n",
              "    <tr>\n",
              "      <td>496</td>\n",
              "      <td>1496</td>\n",
              "      <td>36</td>\n",
              "      <td>NaN</td>\n",
              "      <td>Вологда</td>\n",
              "      <td>Трифон</td>\n",
              "      <td>Блохин</td>\n",
              "      <td>2018-01-27</td>\n",
              "      <td>smart</td>\n",
              "    </tr>\n",
              "    <tr>\n",
              "      <td>497</td>\n",
              "      <td>1497</td>\n",
              "      <td>32</td>\n",
              "      <td>NaN</td>\n",
              "      <td>Челябинск</td>\n",
              "      <td>Каролина</td>\n",
              "      <td>Агеева</td>\n",
              "      <td>2018-10-09</td>\n",
              "      <td>smart</td>\n",
              "    </tr>\n",
              "    <tr>\n",
              "      <td>498</td>\n",
              "      <td>1498</td>\n",
              "      <td>68</td>\n",
              "      <td>2018-10-25</td>\n",
              "      <td>Владикавказ</td>\n",
              "      <td>Всеволод</td>\n",
              "      <td>Акимчин</td>\n",
              "      <td>2018-07-19</td>\n",
              "      <td>smart</td>\n",
              "    </tr>\n",
              "    <tr>\n",
              "      <td>499</td>\n",
              "      <td>1499</td>\n",
              "      <td>35</td>\n",
              "      <td>NaN</td>\n",
              "      <td>Пермь</td>\n",
              "      <td>Гектор</td>\n",
              "      <td>Корнилов</td>\n",
              "      <td>2018-09-27</td>\n",
              "      <td>smart</td>\n",
              "    </tr>\n",
              "  </tbody>\n",
              "</table>\n",
              "</div>"
            ],
            "text/plain": [
              "     user_id  age  churn_date         city first_name last_name    reg_date  \\\n",
              "495     1495   65         NaN      Иркутск  Авксентий     Фокин  2018-08-28   \n",
              "496     1496   36         NaN      Вологда     Трифон    Блохин  2018-01-27   \n",
              "497     1497   32         NaN    Челябинск   Каролина    Агеева  2018-10-09   \n",
              "498     1498   68  2018-10-25  Владикавказ   Всеволод   Акимчин  2018-07-19   \n",
              "499     1499   35         NaN        Пермь     Гектор  Корнилов  2018-09-27   \n",
              "\n",
              "    tariff  \n",
              "495  ultra  \n",
              "496  smart  \n",
              "497  smart  \n",
              "498  smart  \n",
              "499  smart  "
            ]
          },
          "metadata": {},
          "output_type": "display_data"
        }
      ],
      "source": [
        "display(df_users.tail())     # вывожу на экран последние пять строк датафрейма df_users"
      ]
    },
    {
      "cell_type": "markdown",
      "metadata": {
        "id": "UA5JKTZA5rti"
      },
      "source": [
        "В нашем распоряжении есть 5 датафреймов: данные о продолжительности звонков, количестве смс, потраченном трафике интернета, данные тарифов и данные пользователей. В датафреймах df_calls, df_internet и df_messages необходимо привести данные в столбце с датами к формату  'dataime'. "
      ]
    },
    {
      "cell_type": "markdown",
      "metadata": {
        "id": "zZtOu6g35rtj"
      },
      "source": [
        "## Предобработка данных"
      ]
    },
    {
      "cell_type": "markdown",
      "metadata": {
        "id": "xGiT-gPL5rtj"
      },
      "source": [
        "Для выполнения проекта необходимо провести подготовку данных.  \n",
        "Данные в столбцах 'call_date', 'session_date', 'message_date' датафреймов df_calls, df_internet и df_messages необходимо привести к формату 'dataime'.  \n",
        "Проверить датафреймы на наличие пропусков и дубликатов и обработать их.  \n",
        "Необходимо создать и заполнить столбец с месяцем пользования услугами.  \n",
        "Сгруппировать датафреймы по id пользователя и месяцу пользования услугами.  \n",
        "Собрать все датафреймы в один и для каждого пользователя посчитать:  \n",
        "* количество сделанных звонков и израсходованных минут разговора по месяцам;\n",
        "* количество отправленных сообщений по месяцам;\n",
        "* объем израсходованного интернет-трафика по месяцам;\n",
        "* помесячную выручку с каждого пользователя (вычтем бесплатный лимит из суммарного количества звонков, сообщений и интернет-трафика, остаток умножим на значение из тарифного плана; прибавим абонентскую плату, соответствующую тарифному плану)"
      ]
    },
    {
      "cell_type": "code",
      "execution_count": null,
      "metadata": {
        "id": "UWvk-WAR5rtk",
        "outputId": "f19e3940-eb55-4968-f4fb-2f838dbdf530"
      },
      "outputs": [
        {
          "data": {
            "text/plain": [
              "0"
            ]
          },
          "execution_count": 24,
          "metadata": {},
          "output_type": "execute_result"
        }
      ],
      "source": [
        "df_calls.isna().sum()        # подсчитываю пропуски\n",
        "df_calls.duplicated().sum() # проверяю явные дубликаты"
      ]
    },
    {
      "cell_type": "code",
      "execution_count": null,
      "metadata": {
        "id": "SQhf8Pgg5rtl",
        "outputId": "41189e7e-8d6b-4127-db85-90c2a7bd3d88"
      },
      "outputs": [
        {
          "data": {
            "text/plain": [
              "0"
            ]
          },
          "execution_count": 25,
          "metadata": {},
          "output_type": "execute_result"
        }
      ],
      "source": [
        "df_messages.isna().sum()       # подсчитываю пропуски\n",
        "df_messages.duplicated().sum() # подсчитываю пропуски"
      ]
    },
    {
      "cell_type": "code",
      "execution_count": null,
      "metadata": {
        "id": "wlX3kFYn5rtl",
        "outputId": "a1c06c0c-bb4e-41ab-9279-36338af0a089"
      },
      "outputs": [
        {
          "data": {
            "text/plain": [
              "0"
            ]
          },
          "execution_count": 26,
          "metadata": {},
          "output_type": "execute_result"
        }
      ],
      "source": [
        "df_internet.isna().sum()       # подсчитываю пропуски\n",
        "df_internet.duplicated().sum() # подсчитываю пропуски"
      ]
    },
    {
      "cell_type": "code",
      "execution_count": null,
      "metadata": {
        "id": "NuYeWePU5rtm",
        "outputId": "63151cd7-1565-406d-fbff-fc343c19b873"
      },
      "outputs": [
        {
          "data": {
            "text/plain": [
              "0"
            ]
          },
          "execution_count": 27,
          "metadata": {},
          "output_type": "execute_result"
        }
      ],
      "source": [
        "df_tariffs.isna().sum()        # подсчитываю пропуски\n",
        "df_tariffs.duplicated().sum()  # подсчитываю пропуски"
      ]
    },
    {
      "cell_type": "code",
      "execution_count": null,
      "metadata": {
        "id": "uUMPESFI5rtm",
        "outputId": "e7ec96d3-e05f-419d-8d84-6cbaf417692a"
      },
      "outputs": [
        {
          "data": {
            "text/plain": [
              "0"
            ]
          },
          "execution_count": 28,
          "metadata": {},
          "output_type": "execute_result"
        }
      ],
      "source": [
        "df_users.isna().sum()          # подсчитываю пропуски\n",
        "df_users.duplicated().sum()    # подсчитываю пропуски"
      ]
    },
    {
      "cell_type": "code",
      "execution_count": null,
      "metadata": {
        "id": "uFNO7NjD5rtn"
      },
      "outputs": [],
      "source": [
        "# данные в колонке \"call_date\" приведу к формату datetime\n",
        "df_calls['call_date'] = pd.to_datetime(df_calls['call_date'], format= '%Y-%m-%d')\n",
        "# добавлю столбец с месяцем совершения звонков\n",
        "df_calls['month'] = df_calls['call_date'].dt.month"
      ]
    },
    {
      "cell_type": "code",
      "execution_count": null,
      "metadata": {
        "id": "qiJFLFtB5rtp"
      },
      "outputs": [],
      "source": [
        "# df_calls['month'] = df_calls['call_date'].astype('datetime64[M]')\n",
        "# вот таким методом в прошлом проекте выделял месяц в предложенном тобой формате"
      ]
    },
    {
      "cell_type": "code",
      "execution_count": null,
      "metadata": {
        "id": "Xu1At3j55rtp"
      },
      "outputs": [],
      "source": [
        "# данные в колонке \"message_date\" приведу к формату datetime\n",
        "df_messages['message_date'] = pd.to_datetime(df_messages['message_date'], format= '%Y-%m-%d')\n",
        "# добавлю столбец с месяцем отправки сообщений\n",
        "df_messages['month'] = df_messages['message_date'].dt.month"
      ]
    },
    {
      "cell_type": "code",
      "execution_count": null,
      "metadata": {
        "id": "VyBtjIS25rtq"
      },
      "outputs": [],
      "source": [
        "# данные в колонке \"session_date\" приведу к формату datetime\n",
        "df_internet['session_date'] = pd.to_datetime(df_internet['session_date'], format= '%Y-%m-%d')\n",
        "# добавлю столбец с месяцем пользования интернетом\n",
        "df_internet['month'] = df_internet['session_date'].dt.month"
      ]
    },
    {
      "cell_type": "code",
      "execution_count": null,
      "metadata": {
        "id": "gd2cdd7U5rtq",
        "outputId": "9022fab5-a44c-46a0-8062-bdcaf954a88a"
      },
      "outputs": [
        {
          "data": {
            "text/html": [
              "<div>\n",
              "<style scoped>\n",
              "    .dataframe tbody tr th:only-of-type {\n",
              "        vertical-align: middle;\n",
              "    }\n",
              "\n",
              "    .dataframe tbody tr th {\n",
              "        vertical-align: top;\n",
              "    }\n",
              "\n",
              "    .dataframe thead th {\n",
              "        text-align: right;\n",
              "    }\n",
              "</style>\n",
              "<table border=\"1\" class=\"dataframe\">\n",
              "  <thead>\n",
              "    <tr style=\"text-align: right;\">\n",
              "      <th></th>\n",
              "      <th>user_id</th>\n",
              "      <th>month</th>\n",
              "      <th>call</th>\n",
              "      <th>duration_sum</th>\n",
              "    </tr>\n",
              "  </thead>\n",
              "  <tbody>\n",
              "    <tr>\n",
              "      <td>0</td>\n",
              "      <td>1000</td>\n",
              "      <td>5</td>\n",
              "      <td>22</td>\n",
              "      <td>150.06</td>\n",
              "    </tr>\n",
              "    <tr>\n",
              "      <td>1</td>\n",
              "      <td>1000</td>\n",
              "      <td>6</td>\n",
              "      <td>43</td>\n",
              "      <td>158.90</td>\n",
              "    </tr>\n",
              "    <tr>\n",
              "      <td>2</td>\n",
              "      <td>1000</td>\n",
              "      <td>7</td>\n",
              "      <td>47</td>\n",
              "      <td>318.80</td>\n",
              "    </tr>\n",
              "    <tr>\n",
              "      <td>3</td>\n",
              "      <td>1000</td>\n",
              "      <td>8</td>\n",
              "      <td>52</td>\n",
              "      <td>389.87</td>\n",
              "    </tr>\n",
              "    <tr>\n",
              "      <td>4</td>\n",
              "      <td>1000</td>\n",
              "      <td>9</td>\n",
              "      <td>58</td>\n",
              "      <td>440.14</td>\n",
              "    </tr>\n",
              "  </tbody>\n",
              "</table>\n",
              "</div>"
            ],
            "text/plain": [
              "   user_id  month  call  duration_sum\n",
              "0     1000      5    22        150.06\n",
              "1     1000      6    43        158.90\n",
              "2     1000      7    47        318.80\n",
              "3     1000      8    52        389.87\n",
              "4     1000      9    58        440.14"
            ]
          },
          "execution_count": 32,
          "metadata": {},
          "output_type": "execute_result"
        }
      ],
      "source": [
        "# сгруппирую датафрейм по id пользователя и посчитаю количество звонков и длительность всех звонков за каждый месяц\n",
        "calls = df_calls.groupby(['user_id', 'month']).agg({'duration':['count', 'sum',]}).reset_index()\n",
        "calls.columns = ['user_id', 'month', 'call', 'duration_sum']\n",
        "calls.head()"
      ]
    },
    {
      "cell_type": "code",
      "execution_count": null,
      "metadata": {
        "id": "oSvGwKV65rtr",
        "outputId": "b2d54caa-20a9-438b-b1d7-c96cbcbedeb3"
      },
      "outputs": [
        {
          "data": {
            "text/html": [
              "<div>\n",
              "<style scoped>\n",
              "    .dataframe tbody tr th:only-of-type {\n",
              "        vertical-align: middle;\n",
              "    }\n",
              "\n",
              "    .dataframe tbody tr th {\n",
              "        vertical-align: top;\n",
              "    }\n",
              "\n",
              "    .dataframe thead th {\n",
              "        text-align: right;\n",
              "    }\n",
              "</style>\n",
              "<table border=\"1\" class=\"dataframe\">\n",
              "  <thead>\n",
              "    <tr style=\"text-align: right;\">\n",
              "      <th></th>\n",
              "      <th>user_id</th>\n",
              "      <th>month</th>\n",
              "      <th>message</th>\n",
              "    </tr>\n",
              "  </thead>\n",
              "  <tbody>\n",
              "    <tr>\n",
              "      <td>0</td>\n",
              "      <td>1000</td>\n",
              "      <td>5</td>\n",
              "      <td>22</td>\n",
              "    </tr>\n",
              "    <tr>\n",
              "      <td>1</td>\n",
              "      <td>1000</td>\n",
              "      <td>6</td>\n",
              "      <td>60</td>\n",
              "    </tr>\n",
              "    <tr>\n",
              "      <td>2</td>\n",
              "      <td>1000</td>\n",
              "      <td>7</td>\n",
              "      <td>75</td>\n",
              "    </tr>\n",
              "    <tr>\n",
              "      <td>3</td>\n",
              "      <td>1000</td>\n",
              "      <td>8</td>\n",
              "      <td>81</td>\n",
              "    </tr>\n",
              "    <tr>\n",
              "      <td>4</td>\n",
              "      <td>1000</td>\n",
              "      <td>9</td>\n",
              "      <td>57</td>\n",
              "    </tr>\n",
              "  </tbody>\n",
              "</table>\n",
              "</div>"
            ],
            "text/plain": [
              "   user_id  month  message\n",
              "0     1000      5       22\n",
              "1     1000      6       60\n",
              "2     1000      7       75\n",
              "3     1000      8       81\n",
              "4     1000      9       57"
            ]
          },
          "execution_count": 33,
          "metadata": {},
          "output_type": "execute_result"
        }
      ],
      "source": [
        "# сгруппирую датафрейм по id пользователя и посчитаю количество сообщений за каждый месяц\n",
        "messages = df_messages.groupby(['user_id', 'month']).agg({'id':['count']}).reset_index()\n",
        "messages.columns = ['user_id', 'month','message']\n",
        "messages.head()"
      ]
    },
    {
      "cell_type": "code",
      "execution_count": null,
      "metadata": {
        "id": "YB6_04MS5rtr",
        "outputId": "12c2f0a7-7961-4af4-d44d-708366c86530"
      },
      "outputs": [
        {
          "data": {
            "text/html": [
              "<div>\n",
              "<style scoped>\n",
              "    .dataframe tbody tr th:only-of-type {\n",
              "        vertical-align: middle;\n",
              "    }\n",
              "\n",
              "    .dataframe tbody tr th {\n",
              "        vertical-align: top;\n",
              "    }\n",
              "\n",
              "    .dataframe thead th {\n",
              "        text-align: right;\n",
              "    }\n",
              "</style>\n",
              "<table border=\"1\" class=\"dataframe\">\n",
              "  <thead>\n",
              "    <tr style=\"text-align: right;\">\n",
              "      <th></th>\n",
              "      <th>user_id</th>\n",
              "      <th>month</th>\n",
              "      <th>internet</th>\n",
              "    </tr>\n",
              "  </thead>\n",
              "  <tbody>\n",
              "    <tr>\n",
              "      <td>0</td>\n",
              "      <td>1000</td>\n",
              "      <td>5</td>\n",
              "      <td>2253.49</td>\n",
              "    </tr>\n",
              "    <tr>\n",
              "      <td>1</td>\n",
              "      <td>1000</td>\n",
              "      <td>6</td>\n",
              "      <td>23233.77</td>\n",
              "    </tr>\n",
              "    <tr>\n",
              "      <td>2</td>\n",
              "      <td>1000</td>\n",
              "      <td>7</td>\n",
              "      <td>14003.64</td>\n",
              "    </tr>\n",
              "    <tr>\n",
              "      <td>3</td>\n",
              "      <td>1000</td>\n",
              "      <td>8</td>\n",
              "      <td>14055.93</td>\n",
              "    </tr>\n",
              "    <tr>\n",
              "      <td>4</td>\n",
              "      <td>1000</td>\n",
              "      <td>9</td>\n",
              "      <td>14568.91</td>\n",
              "    </tr>\n",
              "  </tbody>\n",
              "</table>\n",
              "</div>"
            ],
            "text/plain": [
              "   user_id  month  internet\n",
              "0     1000      5   2253.49\n",
              "1     1000      6  23233.77\n",
              "2     1000      7  14003.64\n",
              "3     1000      8  14055.93\n",
              "4     1000      9  14568.91"
            ]
          },
          "execution_count": 34,
          "metadata": {},
          "output_type": "execute_result"
        }
      ],
      "source": [
        "# сгруппирую датафрейм по id пользователя и посчитаю количество сообщений за каждый месяц\n",
        "internet = df_internet.groupby(['user_id', 'month']).agg({'mb_used':['sum']}).reset_index()\n",
        "internet.columns = ['user_id', 'month', 'internet']\n",
        "internet.head()"
      ]
    },
    {
      "cell_type": "code",
      "execution_count": null,
      "metadata": {
        "id": "2iL8QxqL5rts",
        "outputId": "35a125c5-8cbb-4330-bdb7-9ae95f3525df"
      },
      "outputs": [
        {
          "data": {
            "text/html": [
              "<div>\n",
              "<style scoped>\n",
              "    .dataframe tbody tr th:only-of-type {\n",
              "        vertical-align: middle;\n",
              "    }\n",
              "\n",
              "    .dataframe tbody tr th {\n",
              "        vertical-align: top;\n",
              "    }\n",
              "\n",
              "    .dataframe thead th {\n",
              "        text-align: right;\n",
              "    }\n",
              "</style>\n",
              "<table border=\"1\" class=\"dataframe\">\n",
              "  <thead>\n",
              "    <tr style=\"text-align: right;\">\n",
              "      <th></th>\n",
              "      <th>messages_included</th>\n",
              "      <th>mb_per_month_included</th>\n",
              "      <th>minutes_included</th>\n",
              "      <th>rub_monthly_fee</th>\n",
              "      <th>rub_per_gb</th>\n",
              "      <th>rub_per_message</th>\n",
              "      <th>rub_per_minute</th>\n",
              "      <th>tariff</th>\n",
              "    </tr>\n",
              "  </thead>\n",
              "  <tbody>\n",
              "    <tr>\n",
              "      <td>0</td>\n",
              "      <td>50</td>\n",
              "      <td>15360</td>\n",
              "      <td>500</td>\n",
              "      <td>550</td>\n",
              "      <td>200</td>\n",
              "      <td>3</td>\n",
              "      <td>3</td>\n",
              "      <td>smart</td>\n",
              "    </tr>\n",
              "    <tr>\n",
              "      <td>1</td>\n",
              "      <td>1000</td>\n",
              "      <td>30720</td>\n",
              "      <td>3000</td>\n",
              "      <td>1950</td>\n",
              "      <td>150</td>\n",
              "      <td>1</td>\n",
              "      <td>1</td>\n",
              "      <td>ultra</td>\n",
              "    </tr>\n",
              "  </tbody>\n",
              "</table>\n",
              "</div>"
            ],
            "text/plain": [
              "   messages_included  mb_per_month_included  minutes_included  \\\n",
              "0                 50                  15360               500   \n",
              "1               1000                  30720              3000   \n",
              "\n",
              "   rub_monthly_fee  rub_per_gb  rub_per_message  rub_per_minute tariff  \n",
              "0              550         200                3               3  smart  \n",
              "1             1950         150                1               1  ultra  "
            ]
          },
          "execution_count": 35,
          "metadata": {},
          "output_type": "execute_result"
        }
      ],
      "source": [
        "# переименую столбец 'tariff_name' на 'tariff' для соединения с датафреймом df_users\n",
        "df_tariffs=df_tariffs.rename(columns={'tariff_name':'tariff'})\n",
        "df_tariffs "
      ]
    },
    {
      "cell_type": "code",
      "execution_count": null,
      "metadata": {
        "id": "rK0n1NG-5rts",
        "outputId": "86967664-c873-424f-dfa7-64390f25562d"
      },
      "outputs": [
        {
          "data": {
            "text/html": [
              "<div>\n",
              "<style scoped>\n",
              "    .dataframe tbody tr th:only-of-type {\n",
              "        vertical-align: middle;\n",
              "    }\n",
              "\n",
              "    .dataframe tbody tr th {\n",
              "        vertical-align: top;\n",
              "    }\n",
              "\n",
              "    .dataframe thead th {\n",
              "        text-align: right;\n",
              "    }\n",
              "</style>\n",
              "<table border=\"1\" class=\"dataframe\">\n",
              "  <thead>\n",
              "    <tr style=\"text-align: right;\">\n",
              "      <th></th>\n",
              "      <th>user_id</th>\n",
              "      <th>city</th>\n",
              "      <th>tariff</th>\n",
              "    </tr>\n",
              "  </thead>\n",
              "  <tbody>\n",
              "    <tr>\n",
              "      <td>0</td>\n",
              "      <td>1000</td>\n",
              "      <td>Краснодар</td>\n",
              "      <td>ultra</td>\n",
              "    </tr>\n",
              "    <tr>\n",
              "      <td>1</td>\n",
              "      <td>1001</td>\n",
              "      <td>Москва</td>\n",
              "      <td>smart</td>\n",
              "    </tr>\n",
              "    <tr>\n",
              "      <td>2</td>\n",
              "      <td>1002</td>\n",
              "      <td>Стерлитамак</td>\n",
              "      <td>smart</td>\n",
              "    </tr>\n",
              "    <tr>\n",
              "      <td>3</td>\n",
              "      <td>1003</td>\n",
              "      <td>Москва</td>\n",
              "      <td>ultra</td>\n",
              "    </tr>\n",
              "    <tr>\n",
              "      <td>4</td>\n",
              "      <td>1004</td>\n",
              "      <td>Новокузнецк</td>\n",
              "      <td>ultra</td>\n",
              "    </tr>\n",
              "  </tbody>\n",
              "</table>\n",
              "</div>"
            ],
            "text/plain": [
              "   user_id         city tariff\n",
              "0     1000    Краснодар  ultra\n",
              "1     1001       Москва  smart\n",
              "2     1002  Стерлитамак  smart\n",
              "3     1003       Москва  ultra\n",
              "4     1004  Новокузнецк  ultra"
            ]
          },
          "execution_count": 36,
          "metadata": {},
          "output_type": "execute_result"
        }
      ],
      "source": [
        "# сохраним в датафрейме users столбцы 'user_id', 'city','tariff' из датафрейма df_users\n",
        "users = df_users.loc[: ,['user_id', 'city','tariff']]\n",
        "users.head()"
      ]
    },
    {
      "cell_type": "code",
      "execution_count": null,
      "metadata": {
        "id": "YUkTvLsU5rtt",
        "outputId": "61eead21-ad73-475b-b70c-8e3f9bff58c6"
      },
      "outputs": [
        {
          "data": {
            "text/html": [
              "<div>\n",
              "<style scoped>\n",
              "    .dataframe tbody tr th:only-of-type {\n",
              "        vertical-align: middle;\n",
              "    }\n",
              "\n",
              "    .dataframe tbody tr th {\n",
              "        vertical-align: top;\n",
              "    }\n",
              "\n",
              "    .dataframe thead th {\n",
              "        text-align: right;\n",
              "    }\n",
              "</style>\n",
              "<table border=\"1\" class=\"dataframe\">\n",
              "  <thead>\n",
              "    <tr style=\"text-align: right;\">\n",
              "      <th></th>\n",
              "      <th>user_id</th>\n",
              "      <th>month</th>\n",
              "      <th>call</th>\n",
              "      <th>duration_sum</th>\n",
              "      <th>message</th>\n",
              "      <th>internet</th>\n",
              "    </tr>\n",
              "  </thead>\n",
              "  <tbody>\n",
              "    <tr>\n",
              "      <td>0</td>\n",
              "      <td>1000</td>\n",
              "      <td>5</td>\n",
              "      <td>22.0</td>\n",
              "      <td>150.06</td>\n",
              "      <td>22.0</td>\n",
              "      <td>2253.49</td>\n",
              "    </tr>\n",
              "    <tr>\n",
              "      <td>1</td>\n",
              "      <td>1000</td>\n",
              "      <td>6</td>\n",
              "      <td>43.0</td>\n",
              "      <td>158.90</td>\n",
              "      <td>60.0</td>\n",
              "      <td>23233.77</td>\n",
              "    </tr>\n",
              "    <tr>\n",
              "      <td>2</td>\n",
              "      <td>1000</td>\n",
              "      <td>7</td>\n",
              "      <td>47.0</td>\n",
              "      <td>318.80</td>\n",
              "      <td>75.0</td>\n",
              "      <td>14003.64</td>\n",
              "    </tr>\n",
              "    <tr>\n",
              "      <td>3</td>\n",
              "      <td>1000</td>\n",
              "      <td>8</td>\n",
              "      <td>52.0</td>\n",
              "      <td>389.87</td>\n",
              "      <td>81.0</td>\n",
              "      <td>14055.93</td>\n",
              "    </tr>\n",
              "    <tr>\n",
              "      <td>4</td>\n",
              "      <td>1000</td>\n",
              "      <td>9</td>\n",
              "      <td>58.0</td>\n",
              "      <td>440.14</td>\n",
              "      <td>57.0</td>\n",
              "      <td>14568.91</td>\n",
              "    </tr>\n",
              "  </tbody>\n",
              "</table>\n",
              "</div>"
            ],
            "text/plain": [
              "   user_id  month  call  duration_sum  message  internet\n",
              "0     1000      5  22.0        150.06     22.0   2253.49\n",
              "1     1000      6  43.0        158.90     60.0  23233.77\n",
              "2     1000      7  47.0        318.80     75.0  14003.64\n",
              "3     1000      8  52.0        389.87     81.0  14055.93\n",
              "4     1000      9  58.0        440.14     57.0  14568.91"
            ]
          },
          "execution_count": 37,
          "metadata": {},
          "output_type": "execute_result"
        }
      ],
      "source": [
        "# в датафрейме df объединим датафремы calls, messages, internet по столбцам 'user_id', 'month'\n",
        "df = calls.merge(messages, on=['user_id', 'month'],  how='outer' ).merge(internet, on=['user_id', 'month'], how='outer' )\n",
        "df.head()"
      ]
    },
    {
      "cell_type": "code",
      "execution_count": null,
      "metadata": {
        "id": "fRThYRDB5rtt",
        "outputId": "fbf01029-eee4-4589-e19e-971831924aca"
      },
      "outputs": [
        {
          "data": {
            "text/html": [
              "<div>\n",
              "<style scoped>\n",
              "    .dataframe tbody tr th:only-of-type {\n",
              "        vertical-align: middle;\n",
              "    }\n",
              "\n",
              "    .dataframe tbody tr th {\n",
              "        vertical-align: top;\n",
              "    }\n",
              "\n",
              "    .dataframe thead th {\n",
              "        text-align: right;\n",
              "    }\n",
              "</style>\n",
              "<table border=\"1\" class=\"dataframe\">\n",
              "  <thead>\n",
              "    <tr style=\"text-align: right;\">\n",
              "      <th></th>\n",
              "      <th>user_id</th>\n",
              "      <th>city</th>\n",
              "      <th>tariff</th>\n",
              "      <th>messages_included</th>\n",
              "      <th>mb_per_month_included</th>\n",
              "      <th>minutes_included</th>\n",
              "      <th>rub_monthly_fee</th>\n",
              "      <th>rub_per_gb</th>\n",
              "      <th>rub_per_message</th>\n",
              "      <th>rub_per_minute</th>\n",
              "    </tr>\n",
              "  </thead>\n",
              "  <tbody>\n",
              "    <tr>\n",
              "      <td>0</td>\n",
              "      <td>1000</td>\n",
              "      <td>Краснодар</td>\n",
              "      <td>ultra</td>\n",
              "      <td>1000</td>\n",
              "      <td>30720</td>\n",
              "      <td>3000</td>\n",
              "      <td>1950</td>\n",
              "      <td>150</td>\n",
              "      <td>1</td>\n",
              "      <td>1</td>\n",
              "    </tr>\n",
              "    <tr>\n",
              "      <td>1</td>\n",
              "      <td>1003</td>\n",
              "      <td>Москва</td>\n",
              "      <td>ultra</td>\n",
              "      <td>1000</td>\n",
              "      <td>30720</td>\n",
              "      <td>3000</td>\n",
              "      <td>1950</td>\n",
              "      <td>150</td>\n",
              "      <td>1</td>\n",
              "      <td>1</td>\n",
              "    </tr>\n",
              "    <tr>\n",
              "      <td>2</td>\n",
              "      <td>1004</td>\n",
              "      <td>Новокузнецк</td>\n",
              "      <td>ultra</td>\n",
              "      <td>1000</td>\n",
              "      <td>30720</td>\n",
              "      <td>3000</td>\n",
              "      <td>1950</td>\n",
              "      <td>150</td>\n",
              "      <td>1</td>\n",
              "      <td>1</td>\n",
              "    </tr>\n",
              "    <tr>\n",
              "      <td>3</td>\n",
              "      <td>1013</td>\n",
              "      <td>Иваново</td>\n",
              "      <td>ultra</td>\n",
              "      <td>1000</td>\n",
              "      <td>30720</td>\n",
              "      <td>3000</td>\n",
              "      <td>1950</td>\n",
              "      <td>150</td>\n",
              "      <td>1</td>\n",
              "      <td>1</td>\n",
              "    </tr>\n",
              "    <tr>\n",
              "      <td>4</td>\n",
              "      <td>1016</td>\n",
              "      <td>Омск</td>\n",
              "      <td>ultra</td>\n",
              "      <td>1000</td>\n",
              "      <td>30720</td>\n",
              "      <td>3000</td>\n",
              "      <td>1950</td>\n",
              "      <td>150</td>\n",
              "      <td>1</td>\n",
              "      <td>1</td>\n",
              "    </tr>\n",
              "  </tbody>\n",
              "</table>\n",
              "</div>"
            ],
            "text/plain": [
              "   user_id         city tariff  messages_included  mb_per_month_included  \\\n",
              "0     1000    Краснодар  ultra               1000                  30720   \n",
              "1     1003       Москва  ultra               1000                  30720   \n",
              "2     1004  Новокузнецк  ultra               1000                  30720   \n",
              "3     1013      Иваново  ultra               1000                  30720   \n",
              "4     1016         Омск  ultra               1000                  30720   \n",
              "\n",
              "   minutes_included  rub_monthly_fee  rub_per_gb  rub_per_message  \\\n",
              "0              3000             1950         150                1   \n",
              "1              3000             1950         150                1   \n",
              "2              3000             1950         150                1   \n",
              "3              3000             1950         150                1   \n",
              "4              3000             1950         150                1   \n",
              "\n",
              "   rub_per_minute  \n",
              "0               1  \n",
              "1               1  \n",
              "2               1  \n",
              "3               1  \n",
              "4               1  "
            ]
          },
          "execution_count": 38,
          "metadata": {},
          "output_type": "execute_result"
        }
      ],
      "source": [
        "# в датафрейме users_tariffs объeдиним датафреймы users и df_tariffs по столбцу 'tariff'\n",
        "users_tariffs = users.merge(df_tariffs, on='tariff',  how='outer' )\n",
        "users_tariffs.head()"
      ]
    },
    {
      "cell_type": "code",
      "execution_count": null,
      "metadata": {
        "id": "vspW-mno5rtu",
        "outputId": "944c611c-9046-4fd9-c55f-6151b1836d2e"
      },
      "outputs": [
        {
          "data": {
            "text/html": [
              "<div>\n",
              "<style scoped>\n",
              "    .dataframe tbody tr th:only-of-type {\n",
              "        vertical-align: middle;\n",
              "    }\n",
              "\n",
              "    .dataframe tbody tr th {\n",
              "        vertical-align: top;\n",
              "    }\n",
              "\n",
              "    .dataframe thead th {\n",
              "        text-align: right;\n",
              "    }\n",
              "</style>\n",
              "<table border=\"1\" class=\"dataframe\">\n",
              "  <thead>\n",
              "    <tr style=\"text-align: right;\">\n",
              "      <th></th>\n",
              "      <th>user_id</th>\n",
              "      <th>month</th>\n",
              "      <th>call</th>\n",
              "      <th>duration_sum</th>\n",
              "      <th>message</th>\n",
              "      <th>internet</th>\n",
              "      <th>city</th>\n",
              "      <th>tariff</th>\n",
              "      <th>messages_included</th>\n",
              "      <th>mb_per_month_included</th>\n",
              "      <th>minutes_included</th>\n",
              "      <th>rub_monthly_fee</th>\n",
              "      <th>rub_per_gb</th>\n",
              "      <th>rub_per_message</th>\n",
              "      <th>rub_per_minute</th>\n",
              "    </tr>\n",
              "  </thead>\n",
              "  <tbody>\n",
              "    <tr>\n",
              "      <td>0</td>\n",
              "      <td>1000</td>\n",
              "      <td>5.0</td>\n",
              "      <td>22.0</td>\n",
              "      <td>150.06</td>\n",
              "      <td>22.0</td>\n",
              "      <td>2253.49</td>\n",
              "      <td>Краснодар</td>\n",
              "      <td>ultra</td>\n",
              "      <td>1000</td>\n",
              "      <td>30720</td>\n",
              "      <td>3000</td>\n",
              "      <td>1950</td>\n",
              "      <td>150</td>\n",
              "      <td>1</td>\n",
              "      <td>1</td>\n",
              "    </tr>\n",
              "    <tr>\n",
              "      <td>1</td>\n",
              "      <td>1000</td>\n",
              "      <td>6.0</td>\n",
              "      <td>43.0</td>\n",
              "      <td>158.90</td>\n",
              "      <td>60.0</td>\n",
              "      <td>23233.77</td>\n",
              "      <td>Краснодар</td>\n",
              "      <td>ultra</td>\n",
              "      <td>1000</td>\n",
              "      <td>30720</td>\n",
              "      <td>3000</td>\n",
              "      <td>1950</td>\n",
              "      <td>150</td>\n",
              "      <td>1</td>\n",
              "      <td>1</td>\n",
              "    </tr>\n",
              "    <tr>\n",
              "      <td>2</td>\n",
              "      <td>1000</td>\n",
              "      <td>7.0</td>\n",
              "      <td>47.0</td>\n",
              "      <td>318.80</td>\n",
              "      <td>75.0</td>\n",
              "      <td>14003.64</td>\n",
              "      <td>Краснодар</td>\n",
              "      <td>ultra</td>\n",
              "      <td>1000</td>\n",
              "      <td>30720</td>\n",
              "      <td>3000</td>\n",
              "      <td>1950</td>\n",
              "      <td>150</td>\n",
              "      <td>1</td>\n",
              "      <td>1</td>\n",
              "    </tr>\n",
              "    <tr>\n",
              "      <td>3</td>\n",
              "      <td>1000</td>\n",
              "      <td>8.0</td>\n",
              "      <td>52.0</td>\n",
              "      <td>389.87</td>\n",
              "      <td>81.0</td>\n",
              "      <td>14055.93</td>\n",
              "      <td>Краснодар</td>\n",
              "      <td>ultra</td>\n",
              "      <td>1000</td>\n",
              "      <td>30720</td>\n",
              "      <td>3000</td>\n",
              "      <td>1950</td>\n",
              "      <td>150</td>\n",
              "      <td>1</td>\n",
              "      <td>1</td>\n",
              "    </tr>\n",
              "    <tr>\n",
              "      <td>4</td>\n",
              "      <td>1000</td>\n",
              "      <td>9.0</td>\n",
              "      <td>58.0</td>\n",
              "      <td>440.14</td>\n",
              "      <td>57.0</td>\n",
              "      <td>14568.91</td>\n",
              "      <td>Краснодар</td>\n",
              "      <td>ultra</td>\n",
              "      <td>1000</td>\n",
              "      <td>30720</td>\n",
              "      <td>3000</td>\n",
              "      <td>1950</td>\n",
              "      <td>150</td>\n",
              "      <td>1</td>\n",
              "      <td>1</td>\n",
              "    </tr>\n",
              "  </tbody>\n",
              "</table>\n",
              "</div>"
            ],
            "text/plain": [
              "   user_id  month  call  duration_sum  message  internet       city tariff  \\\n",
              "0     1000    5.0  22.0        150.06     22.0   2253.49  Краснодар  ultra   \n",
              "1     1000    6.0  43.0        158.90     60.0  23233.77  Краснодар  ultra   \n",
              "2     1000    7.0  47.0        318.80     75.0  14003.64  Краснодар  ultra   \n",
              "3     1000    8.0  52.0        389.87     81.0  14055.93  Краснодар  ultra   \n",
              "4     1000    9.0  58.0        440.14     57.0  14568.91  Краснодар  ultra   \n",
              "\n",
              "   messages_included  mb_per_month_included  minutes_included  \\\n",
              "0               1000                  30720              3000   \n",
              "1               1000                  30720              3000   \n",
              "2               1000                  30720              3000   \n",
              "3               1000                  30720              3000   \n",
              "4               1000                  30720              3000   \n",
              "\n",
              "   rub_monthly_fee  rub_per_gb  rub_per_message  rub_per_minute  \n",
              "0             1950         150                1               1  \n",
              "1             1950         150                1               1  \n",
              "2             1950         150                1               1  \n",
              "3             1950         150                1               1  \n",
              "4             1950         150                1               1  "
            ]
          },
          "execution_count": 39,
          "metadata": {},
          "output_type": "execute_result"
        }
      ],
      "source": [
        "# в датафрейме df добавим датафрейм users_tariffs по столбцам 'user_id'\n",
        "df = df.merge(users_tariffs, on='user_id',  how='outer' )\n",
        "df.head()"
      ]
    },
    {
      "cell_type": "code",
      "execution_count": null,
      "metadata": {
        "id": "YcwwB7_K5rtu"
      },
      "outputs": [],
      "source": [
        "# в датафрейме df удалим строки с пропущенными значениями месяца\n",
        "df = df.drop(df[df['month'].isna()].index).reset_index(drop=True)\n"
      ]
    },
    {
      "cell_type": "code",
      "execution_count": null,
      "metadata": {
        "id": "k2zs6nKJ5rtu",
        "outputId": "7d00f5fd-0717-4912-fbc1-8d3c10b09058"
      },
      "outputs": [
        {
          "data": {
            "text/plain": [
              "(3214, 9)"
            ]
          },
          "execution_count": 60,
          "metadata": {},
          "output_type": "execute_result"
        }
      ],
      "source": [
        "df.shape"
      ]
    },
    {
      "cell_type": "code",
      "execution_count": null,
      "metadata": {
        "id": "7DkNLpdT5rtv",
        "outputId": "e9c016e2-2ccf-4052-b88f-9ebb05e4c01d"
      },
      "outputs": [
        {
          "data": {
            "text/plain": [
              "498"
            ]
          },
          "execution_count": 61,
          "metadata": {},
          "output_type": "execute_result"
        }
      ],
      "source": [
        "df.user_id.nunique()"
      ]
    },
    {
      "cell_type": "code",
      "execution_count": null,
      "metadata": {
        "id": "rsVSE8Ds5rtw"
      },
      "outputs": [],
      "source": [
        "# пропущенные значения в столбцах заполним 0\n",
        "df = df.fillna(0)"
      ]
    },
    {
      "cell_type": "code",
      "execution_count": null,
      "metadata": {
        "id": "MxnGurfs5rtw"
      },
      "outputs": [],
      "source": [
        "# в цикле посчитаем выручку с каждого пользователя и добавим в столбец 'summa'\n",
        "for index in range(len(df['user_id'])):\n",
        "  c = mh.ceil((df.loc[index, 'duration_sum'] - df.loc[index, 'minutes_included']))*(df.loc[index, 'rub_per_minute'])\n",
        "  m = mh.ceil(df.loc[index, 'message'] - df.loc[index, 'messages_included'])*(df.loc[index, 'rub_per_message'])\n",
        "  g = mh.ceil((df.loc[index, 'internet'] - df.loc[index, 'mb_per_month_included'])/1024)*(df.loc[index, 'rub_per_gb'])\n",
        "  \n",
        "  if c<0:\n",
        "    c=0\n",
        "  if m<0:\n",
        "    m=0\n",
        "  if g<0:\n",
        "    g=0\n",
        "  df.loc[index, 'summa']=c+m+g+df.loc[index, 'rub_monthly_fee']"
      ]
    },
    {
      "cell_type": "code",
      "execution_count": null,
      "metadata": {
        "scrolled": true,
        "id": "4EVtxZjZ5rtx",
        "outputId": "58f6e59f-e83c-4a72-8737-a8fd39843fbf"
      },
      "outputs": [
        {
          "data": {
            "text/plain": [
              "count    3214.000000\n",
              "mean     1506.616366\n",
              "std       792.801111\n",
              "min       550.000000\n",
              "25%       742.000000\n",
              "50%      1565.500000\n",
              "75%      1950.000000\n",
              "max      6614.000000\n",
              "Name: summa, dtype: float64"
            ]
          },
          "execution_count": 62,
          "metadata": {},
          "output_type": "execute_result"
        }
      ],
      "source": [
        "df['summa'].describe()"
      ]
    },
    {
      "cell_type": "code",
      "execution_count": null,
      "metadata": {
        "id": "c3qtalS95rty"
      },
      "outputs": [],
      "source": [
        "# оставим в датафрейме df столбцы 'user_id', 'month', 'call', 'duration_sum', 'message', 'internet', 'city', 'tariff', 'summa'\n",
        "df = df.loc[: ,['user_id', 'month', 'call', 'duration_sum', 'message', 'internet', 'city', 'tariff', 'summa']]"
      ]
    },
    {
      "cell_type": "code",
      "execution_count": null,
      "metadata": {
        "id": "WiHPIKsE5rty",
        "outputId": "d79bed1a-a341-47d6-ddcb-8a07c3abaff9"
      },
      "outputs": [
        {
          "data": {
            "text/html": [
              "<div>\n",
              "<style scoped>\n",
              "    .dataframe tbody tr th:only-of-type {\n",
              "        vertical-align: middle;\n",
              "    }\n",
              "\n",
              "    .dataframe tbody tr th {\n",
              "        vertical-align: top;\n",
              "    }\n",
              "\n",
              "    .dataframe thead th {\n",
              "        text-align: right;\n",
              "    }\n",
              "</style>\n",
              "<table border=\"1\" class=\"dataframe\">\n",
              "  <thead>\n",
              "    <tr style=\"text-align: right;\">\n",
              "      <th></th>\n",
              "      <th>user_id</th>\n",
              "      <th>month</th>\n",
              "      <th>call</th>\n",
              "      <th>duration_sum</th>\n",
              "      <th>message</th>\n",
              "      <th>internet</th>\n",
              "      <th>city</th>\n",
              "      <th>tariff</th>\n",
              "      <th>summa</th>\n",
              "    </tr>\n",
              "  </thead>\n",
              "  <tbody>\n",
              "    <tr>\n",
              "      <td>0</td>\n",
              "      <td>1000</td>\n",
              "      <td>5.0</td>\n",
              "      <td>22.0</td>\n",
              "      <td>150.06</td>\n",
              "      <td>22.0</td>\n",
              "      <td>2253.49</td>\n",
              "      <td>Краснодар</td>\n",
              "      <td>ultra</td>\n",
              "      <td>1950.0</td>\n",
              "    </tr>\n",
              "    <tr>\n",
              "      <td>1</td>\n",
              "      <td>1000</td>\n",
              "      <td>6.0</td>\n",
              "      <td>43.0</td>\n",
              "      <td>158.90</td>\n",
              "      <td>60.0</td>\n",
              "      <td>23233.77</td>\n",
              "      <td>Краснодар</td>\n",
              "      <td>ultra</td>\n",
              "      <td>1950.0</td>\n",
              "    </tr>\n",
              "    <tr>\n",
              "      <td>2</td>\n",
              "      <td>1000</td>\n",
              "      <td>7.0</td>\n",
              "      <td>47.0</td>\n",
              "      <td>318.80</td>\n",
              "      <td>75.0</td>\n",
              "      <td>14003.64</td>\n",
              "      <td>Краснодар</td>\n",
              "      <td>ultra</td>\n",
              "      <td>1950.0</td>\n",
              "    </tr>\n",
              "    <tr>\n",
              "      <td>3</td>\n",
              "      <td>1000</td>\n",
              "      <td>8.0</td>\n",
              "      <td>52.0</td>\n",
              "      <td>389.87</td>\n",
              "      <td>81.0</td>\n",
              "      <td>14055.93</td>\n",
              "      <td>Краснодар</td>\n",
              "      <td>ultra</td>\n",
              "      <td>1950.0</td>\n",
              "    </tr>\n",
              "    <tr>\n",
              "      <td>4</td>\n",
              "      <td>1000</td>\n",
              "      <td>9.0</td>\n",
              "      <td>58.0</td>\n",
              "      <td>440.14</td>\n",
              "      <td>57.0</td>\n",
              "      <td>14568.91</td>\n",
              "      <td>Краснодар</td>\n",
              "      <td>ultra</td>\n",
              "      <td>1950.0</td>\n",
              "    </tr>\n",
              "  </tbody>\n",
              "</table>\n",
              "</div>"
            ],
            "text/plain": [
              "   user_id  month  call  duration_sum  message  internet       city tariff  \\\n",
              "0     1000    5.0  22.0        150.06     22.0   2253.49  Краснодар  ultra   \n",
              "1     1000    6.0  43.0        158.90     60.0  23233.77  Краснодар  ultra   \n",
              "2     1000    7.0  47.0        318.80     75.0  14003.64  Краснодар  ultra   \n",
              "3     1000    8.0  52.0        389.87     81.0  14055.93  Краснодар  ultra   \n",
              "4     1000    9.0  58.0        440.14     57.0  14568.91  Краснодар  ultra   \n",
              "\n",
              "    summa  \n",
              "0  1950.0  \n",
              "1  1950.0  \n",
              "2  1950.0  \n",
              "3  1950.0  \n",
              "4  1950.0  "
            ]
          },
          "execution_count": 44,
          "metadata": {},
          "output_type": "execute_result"
        }
      ],
      "source": [
        "# в датафрейме ultra сохраним данные для тарифа ultra\n",
        "ultra = df.query('tariff==\"ultra\"').reset_index(drop=True)\n",
        "ultra.head()"
      ]
    },
    {
      "cell_type": "code",
      "execution_count": null,
      "metadata": {
        "id": "IqpNf-Vt5rtz",
        "outputId": "5a4b636f-73bc-41d2-def4-957d3b084172"
      },
      "outputs": [
        {
          "data": {
            "text/html": [
              "<div>\n",
              "<style scoped>\n",
              "    .dataframe tbody tr th:only-of-type {\n",
              "        vertical-align: middle;\n",
              "    }\n",
              "\n",
              "    .dataframe tbody tr th {\n",
              "        vertical-align: top;\n",
              "    }\n",
              "\n",
              "    .dataframe thead th {\n",
              "        text-align: right;\n",
              "    }\n",
              "</style>\n",
              "<table border=\"1\" class=\"dataframe\">\n",
              "  <thead>\n",
              "    <tr style=\"text-align: right;\">\n",
              "      <th></th>\n",
              "      <th>user_id</th>\n",
              "      <th>month</th>\n",
              "      <th>call</th>\n",
              "      <th>duration_sum</th>\n",
              "      <th>message</th>\n",
              "      <th>internet</th>\n",
              "      <th>city</th>\n",
              "      <th>tariff</th>\n",
              "      <th>summa</th>\n",
              "    </tr>\n",
              "  </thead>\n",
              "  <tbody>\n",
              "    <tr>\n",
              "      <td>0</td>\n",
              "      <td>1001</td>\n",
              "      <td>11.0</td>\n",
              "      <td>59.0</td>\n",
              "      <td>408.12</td>\n",
              "      <td>0.0</td>\n",
              "      <td>18429.34</td>\n",
              "      <td>Москва</td>\n",
              "      <td>smart</td>\n",
              "      <td>1150.0</td>\n",
              "    </tr>\n",
              "    <tr>\n",
              "      <td>1</td>\n",
              "      <td>1001</td>\n",
              "      <td>12.0</td>\n",
              "      <td>63.0</td>\n",
              "      <td>391.34</td>\n",
              "      <td>0.0</td>\n",
              "      <td>14036.66</td>\n",
              "      <td>Москва</td>\n",
              "      <td>smart</td>\n",
              "      <td>550.0</td>\n",
              "    </tr>\n",
              "    <tr>\n",
              "      <td>2</td>\n",
              "      <td>1002</td>\n",
              "      <td>6.0</td>\n",
              "      <td>15.0</td>\n",
              "      <td>110.37</td>\n",
              "      <td>4.0</td>\n",
              "      <td>10856.82</td>\n",
              "      <td>Стерлитамак</td>\n",
              "      <td>smart</td>\n",
              "      <td>550.0</td>\n",
              "    </tr>\n",
              "    <tr>\n",
              "      <td>3</td>\n",
              "      <td>1002</td>\n",
              "      <td>7.0</td>\n",
              "      <td>26.0</td>\n",
              "      <td>204.75</td>\n",
              "      <td>11.0</td>\n",
              "      <td>17580.10</td>\n",
              "      <td>Стерлитамак</td>\n",
              "      <td>smart</td>\n",
              "      <td>1150.0</td>\n",
              "    </tr>\n",
              "    <tr>\n",
              "      <td>4</td>\n",
              "      <td>1002</td>\n",
              "      <td>8.0</td>\n",
              "      <td>42.0</td>\n",
              "      <td>269.71</td>\n",
              "      <td>13.0</td>\n",
              "      <td>20319.26</td>\n",
              "      <td>Стерлитамак</td>\n",
              "      <td>smart</td>\n",
              "      <td>1550.0</td>\n",
              "    </tr>\n",
              "  </tbody>\n",
              "</table>\n",
              "</div>"
            ],
            "text/plain": [
              "   user_id  month  call  duration_sum  message  internet         city tariff  \\\n",
              "0     1001   11.0  59.0        408.12      0.0  18429.34       Москва  smart   \n",
              "1     1001   12.0  63.0        391.34      0.0  14036.66       Москва  smart   \n",
              "2     1002    6.0  15.0        110.37      4.0  10856.82  Стерлитамак  smart   \n",
              "3     1002    7.0  26.0        204.75     11.0  17580.10  Стерлитамак  smart   \n",
              "4     1002    8.0  42.0        269.71     13.0  20319.26  Стерлитамак  smart   \n",
              "\n",
              "    summa  \n",
              "0  1150.0  \n",
              "1   550.0  \n",
              "2   550.0  \n",
              "3  1150.0  \n",
              "4  1550.0  "
            ]
          },
          "execution_count": 45,
          "metadata": {},
          "output_type": "execute_result"
        }
      ],
      "source": [
        "# в датафрейме smart сохраним данные для тарифа smart\n",
        "smart = df.query('tariff==\"smart\"').reset_index(drop=True)\n",
        "smart.head()"
      ]
    },
    {
      "cell_type": "code",
      "execution_count": null,
      "metadata": {
        "id": "oMLUqAJ_5rtz",
        "outputId": "3afc5b87-11ad-4cd3-f3e6-2c61451acd9d"
      },
      "outputs": [
        {
          "data": {
            "text/html": [
              "<div>\n",
              "<style scoped>\n",
              "    .dataframe tbody tr th:only-of-type {\n",
              "        vertical-align: middle;\n",
              "    }\n",
              "\n",
              "    .dataframe tbody tr th {\n",
              "        vertical-align: top;\n",
              "    }\n",
              "\n",
              "    .dataframe thead th {\n",
              "        text-align: right;\n",
              "    }\n",
              "</style>\n",
              "<table border=\"1\" class=\"dataframe\">\n",
              "  <thead>\n",
              "    <tr style=\"text-align: right;\">\n",
              "      <th></th>\n",
              "      <th>user_id</th>\n",
              "      <th>month</th>\n",
              "      <th>call</th>\n",
              "      <th>duration_sum</th>\n",
              "      <th>message</th>\n",
              "      <th>internet</th>\n",
              "      <th>city</th>\n",
              "      <th>tariff</th>\n",
              "      <th>summa</th>\n",
              "    </tr>\n",
              "  </thead>\n",
              "  <tbody>\n",
              "    <tr>\n",
              "      <td>0</td>\n",
              "      <td>1001</td>\n",
              "      <td>11.0</td>\n",
              "      <td>59.0</td>\n",
              "      <td>408.12</td>\n",
              "      <td>0.0</td>\n",
              "      <td>18429.34</td>\n",
              "      <td>Москва</td>\n",
              "      <td>smart</td>\n",
              "      <td>1150.0</td>\n",
              "    </tr>\n",
              "    <tr>\n",
              "      <td>1</td>\n",
              "      <td>1001</td>\n",
              "      <td>12.0</td>\n",
              "      <td>63.0</td>\n",
              "      <td>391.34</td>\n",
              "      <td>0.0</td>\n",
              "      <td>14036.66</td>\n",
              "      <td>Москва</td>\n",
              "      <td>smart</td>\n",
              "      <td>550.0</td>\n",
              "    </tr>\n",
              "    <tr>\n",
              "      <td>2</td>\n",
              "      <td>1003</td>\n",
              "      <td>8.0</td>\n",
              "      <td>55.0</td>\n",
              "      <td>355.67</td>\n",
              "      <td>37.0</td>\n",
              "      <td>8565.21</td>\n",
              "      <td>Москва</td>\n",
              "      <td>ultra</td>\n",
              "      <td>1950.0</td>\n",
              "    </tr>\n",
              "    <tr>\n",
              "      <td>3</td>\n",
              "      <td>1003</td>\n",
              "      <td>9.0</td>\n",
              "      <td>134.0</td>\n",
              "      <td>904.89</td>\n",
              "      <td>91.0</td>\n",
              "      <td>12468.87</td>\n",
              "      <td>Москва</td>\n",
              "      <td>ultra</td>\n",
              "      <td>1950.0</td>\n",
              "    </tr>\n",
              "    <tr>\n",
              "      <td>4</td>\n",
              "      <td>1003</td>\n",
              "      <td>10.0</td>\n",
              "      <td>108.0</td>\n",
              "      <td>809.07</td>\n",
              "      <td>83.0</td>\n",
              "      <td>14768.14</td>\n",
              "      <td>Москва</td>\n",
              "      <td>ultra</td>\n",
              "      <td>1950.0</td>\n",
              "    </tr>\n",
              "  </tbody>\n",
              "</table>\n",
              "</div>"
            ],
            "text/plain": [
              "   user_id  month   call  duration_sum  message  internet    city tariff  \\\n",
              "0     1001   11.0   59.0        408.12      0.0  18429.34  Москва  smart   \n",
              "1     1001   12.0   63.0        391.34      0.0  14036.66  Москва  smart   \n",
              "2     1003    8.0   55.0        355.67     37.0   8565.21  Москва  ultra   \n",
              "3     1003    9.0  134.0        904.89     91.0  12468.87  Москва  ultra   \n",
              "4     1003   10.0  108.0        809.07     83.0  14768.14  Москва  ultra   \n",
              "\n",
              "    summa  \n",
              "0  1150.0  \n",
              "1   550.0  \n",
              "2  1950.0  \n",
              "3  1950.0  \n",
              "4  1950.0  "
            ]
          },
          "execution_count": 46,
          "metadata": {},
          "output_type": "execute_result"
        }
      ],
      "source": [
        "# в датафрейме moscow сохраним строки с данными для пользователей из Москвы\n",
        "moscow = df.query('city==\"Москва\"').reset_index(drop=True)\n",
        "moscow.head()"
      ]
    },
    {
      "cell_type": "code",
      "execution_count": null,
      "metadata": {
        "id": "mK9yiiBZ5rt0",
        "outputId": "72598471-7726-4886-f9b7-3026774bc0ef"
      },
      "outputs": [
        {
          "data": {
            "text/html": [
              "<div>\n",
              "<style scoped>\n",
              "    .dataframe tbody tr th:only-of-type {\n",
              "        vertical-align: middle;\n",
              "    }\n",
              "\n",
              "    .dataframe tbody tr th {\n",
              "        vertical-align: top;\n",
              "    }\n",
              "\n",
              "    .dataframe thead th {\n",
              "        text-align: right;\n",
              "    }\n",
              "</style>\n",
              "<table border=\"1\" class=\"dataframe\">\n",
              "  <thead>\n",
              "    <tr style=\"text-align: right;\">\n",
              "      <th></th>\n",
              "      <th>user_id</th>\n",
              "      <th>month</th>\n",
              "      <th>call</th>\n",
              "      <th>duration_sum</th>\n",
              "      <th>message</th>\n",
              "      <th>internet</th>\n",
              "      <th>city</th>\n",
              "      <th>tariff</th>\n",
              "      <th>summa</th>\n",
              "    </tr>\n",
              "  </thead>\n",
              "  <tbody>\n",
              "    <tr>\n",
              "      <td>0</td>\n",
              "      <td>1000</td>\n",
              "      <td>5.0</td>\n",
              "      <td>22.0</td>\n",
              "      <td>150.06</td>\n",
              "      <td>22.0</td>\n",
              "      <td>2253.49</td>\n",
              "      <td>Краснодар</td>\n",
              "      <td>ultra</td>\n",
              "      <td>1950.0</td>\n",
              "    </tr>\n",
              "    <tr>\n",
              "      <td>1</td>\n",
              "      <td>1000</td>\n",
              "      <td>6.0</td>\n",
              "      <td>43.0</td>\n",
              "      <td>158.90</td>\n",
              "      <td>60.0</td>\n",
              "      <td>23233.77</td>\n",
              "      <td>Краснодар</td>\n",
              "      <td>ultra</td>\n",
              "      <td>1950.0</td>\n",
              "    </tr>\n",
              "    <tr>\n",
              "      <td>2</td>\n",
              "      <td>1000</td>\n",
              "      <td>7.0</td>\n",
              "      <td>47.0</td>\n",
              "      <td>318.80</td>\n",
              "      <td>75.0</td>\n",
              "      <td>14003.64</td>\n",
              "      <td>Краснодар</td>\n",
              "      <td>ultra</td>\n",
              "      <td>1950.0</td>\n",
              "    </tr>\n",
              "    <tr>\n",
              "      <td>3</td>\n",
              "      <td>1000</td>\n",
              "      <td>8.0</td>\n",
              "      <td>52.0</td>\n",
              "      <td>389.87</td>\n",
              "      <td>81.0</td>\n",
              "      <td>14055.93</td>\n",
              "      <td>Краснодар</td>\n",
              "      <td>ultra</td>\n",
              "      <td>1950.0</td>\n",
              "    </tr>\n",
              "    <tr>\n",
              "      <td>4</td>\n",
              "      <td>1000</td>\n",
              "      <td>9.0</td>\n",
              "      <td>58.0</td>\n",
              "      <td>440.14</td>\n",
              "      <td>57.0</td>\n",
              "      <td>14568.91</td>\n",
              "      <td>Краснодар</td>\n",
              "      <td>ultra</td>\n",
              "      <td>1950.0</td>\n",
              "    </tr>\n",
              "  </tbody>\n",
              "</table>\n",
              "</div>"
            ],
            "text/plain": [
              "   user_id  month  call  duration_sum  message  internet       city tariff  \\\n",
              "0     1000    5.0  22.0        150.06     22.0   2253.49  Краснодар  ultra   \n",
              "1     1000    6.0  43.0        158.90     60.0  23233.77  Краснодар  ultra   \n",
              "2     1000    7.0  47.0        318.80     75.0  14003.64  Краснодар  ultra   \n",
              "3     1000    8.0  52.0        389.87     81.0  14055.93  Краснодар  ultra   \n",
              "4     1000    9.0  58.0        440.14     57.0  14568.91  Краснодар  ultra   \n",
              "\n",
              "    summa  \n",
              "0  1950.0  \n",
              "1  1950.0  \n",
              "2  1950.0  \n",
              "3  1950.0  \n",
              "4  1950.0  "
            ]
          },
          "execution_count": 47,
          "metadata": {},
          "output_type": "execute_result"
        }
      ],
      "source": [
        "# в датафрейме moscow сохраним строки с данными для пользователей из других городов\n",
        "russia = df.query('city!=\"Москва\"').reset_index(drop=True)\n",
        "russia.head()"
      ]
    },
    {
      "cell_type": "markdown",
      "metadata": {
        "id": "tjl6qMB15rt0"
      },
      "source": [
        "## Анализ данных"
      ]
    },
    {
      "cell_type": "code",
      "execution_count": null,
      "metadata": {
        "scrolled": true,
        "id": "35Sf_2-J5rt0",
        "outputId": "ffae97b5-aa4f-4018-8b4f-b00ae6901af7"
      },
      "outputs": [
        {
          "data": {
            "text/html": [
              "<div>\n",
              "<style scoped>\n",
              "    .dataframe tbody tr th:only-of-type {\n",
              "        vertical-align: middle;\n",
              "    }\n",
              "\n",
              "    .dataframe tbody tr th {\n",
              "        vertical-align: top;\n",
              "    }\n",
              "\n",
              "    .dataframe thead th {\n",
              "        text-align: right;\n",
              "    }\n",
              "</style>\n",
              "<table border=\"1\" class=\"dataframe\">\n",
              "  <thead>\n",
              "    <tr style=\"text-align: right;\">\n",
              "      <th></th>\n",
              "      <th>user_id</th>\n",
              "      <th>month</th>\n",
              "      <th>call</th>\n",
              "      <th>duration_sum</th>\n",
              "      <th>message</th>\n",
              "      <th>internet</th>\n",
              "      <th>summa</th>\n",
              "    </tr>\n",
              "  </thead>\n",
              "  <tbody>\n",
              "    <tr>\n",
              "      <td>count</td>\n",
              "      <td>2229.000000</td>\n",
              "      <td>2229.000000</td>\n",
              "      <td>2229.000000</td>\n",
              "      <td>2229.000000</td>\n",
              "      <td>2229.000000</td>\n",
              "      <td>2229.000000</td>\n",
              "      <td>2229.000000</td>\n",
              "    </tr>\n",
              "    <tr>\n",
              "      <td>mean</td>\n",
              "      <td>1246.506505</td>\n",
              "      <td>8.346792</td>\n",
              "      <td>58.463437</td>\n",
              "      <td>394.427026</td>\n",
              "      <td>33.384029</td>\n",
              "      <td>16208.386990</td>\n",
              "      <td>1257.588605</td>\n",
              "    </tr>\n",
              "    <tr>\n",
              "      <td>std</td>\n",
              "      <td>146.119496</td>\n",
              "      <td>2.920316</td>\n",
              "      <td>25.939858</td>\n",
              "      <td>179.962207</td>\n",
              "      <td>28.227876</td>\n",
              "      <td>5870.476681</td>\n",
              "      <td>800.915599</td>\n",
              "    </tr>\n",
              "    <tr>\n",
              "      <td>min</td>\n",
              "      <td>1001.000000</td>\n",
              "      <td>1.000000</td>\n",
              "      <td>0.000000</td>\n",
              "      <td>0.000000</td>\n",
              "      <td>0.000000</td>\n",
              "      <td>0.000000</td>\n",
              "      <td>550.000000</td>\n",
              "    </tr>\n",
              "    <tr>\n",
              "      <td>25%</td>\n",
              "      <td>1121.000000</td>\n",
              "      <td>6.000000</td>\n",
              "      <td>40.000000</td>\n",
              "      <td>267.230000</td>\n",
              "      <td>10.000000</td>\n",
              "      <td>12643.010000</td>\n",
              "      <td>550.000000</td>\n",
              "    </tr>\n",
              "    <tr>\n",
              "      <td>50%</td>\n",
              "      <td>1239.000000</td>\n",
              "      <td>9.000000</td>\n",
              "      <td>60.000000</td>\n",
              "      <td>397.980000</td>\n",
              "      <td>28.000000</td>\n",
              "      <td>16506.840000</td>\n",
              "      <td>962.000000</td>\n",
              "    </tr>\n",
              "    <tr>\n",
              "      <td>75%</td>\n",
              "      <td>1376.000000</td>\n",
              "      <td>11.000000</td>\n",
              "      <td>76.000000</td>\n",
              "      <td>515.070000</td>\n",
              "      <td>51.000000</td>\n",
              "      <td>20042.930000</td>\n",
              "      <td>1733.000000</td>\n",
              "    </tr>\n",
              "    <tr>\n",
              "      <td>max</td>\n",
              "      <td>1499.000000</td>\n",
              "      <td>12.000000</td>\n",
              "      <td>198.000000</td>\n",
              "      <td>1354.220000</td>\n",
              "      <td>143.000000</td>\n",
              "      <td>38552.450000</td>\n",
              "      <td>6614.000000</td>\n",
              "    </tr>\n",
              "  </tbody>\n",
              "</table>\n",
              "</div>"
            ],
            "text/plain": [
              "           user_id        month         call  duration_sum      message  \\\n",
              "count  2229.000000  2229.000000  2229.000000   2229.000000  2229.000000   \n",
              "mean   1246.506505     8.346792    58.463437    394.427026    33.384029   \n",
              "std     146.119496     2.920316    25.939858    179.962207    28.227876   \n",
              "min    1001.000000     1.000000     0.000000      0.000000     0.000000   \n",
              "25%    1121.000000     6.000000    40.000000    267.230000    10.000000   \n",
              "50%    1239.000000     9.000000    60.000000    397.980000    28.000000   \n",
              "75%    1376.000000    11.000000    76.000000    515.070000    51.000000   \n",
              "max    1499.000000    12.000000   198.000000   1354.220000   143.000000   \n",
              "\n",
              "           internet        summa  \n",
              "count   2229.000000  2229.000000  \n",
              "mean   16208.386990  1257.588605  \n",
              "std     5870.476681   800.915599  \n",
              "min        0.000000   550.000000  \n",
              "25%    12643.010000   550.000000  \n",
              "50%    16506.840000   962.000000  \n",
              "75%    20042.930000  1733.000000  \n",
              "max    38552.450000  6614.000000  "
            ]
          },
          "execution_count": 48,
          "metadata": {},
          "output_type": "execute_result"
        }
      ],
      "source": [
        "# статистические характеристики датафрейма smart\n",
        "smart.describe()"
      ]
    },
    {
      "cell_type": "markdown",
      "metadata": {
        "id": "FbKfUSSz5rt1"
      },
      "source": [
        "максимальная выручка на тарифе  smart 6614, минимальная 550 и равна абонентской плате, среднее значение 1257.588 медианное значение 962, стандартное отклонение 800.91"
      ]
    },
    {
      "cell_type": "code",
      "execution_count": null,
      "metadata": {
        "scrolled": true,
        "id": "Z_6RD17k5rt1",
        "outputId": "9168184e-e5be-4c01-d7ac-0821b16b9848"
      },
      "outputs": [
        {
          "data": {
            "text/html": [
              "<div>\n",
              "<style scoped>\n",
              "    .dataframe tbody tr th:only-of-type {\n",
              "        vertical-align: middle;\n",
              "    }\n",
              "\n",
              "    .dataframe tbody tr th {\n",
              "        vertical-align: top;\n",
              "    }\n",
              "\n",
              "    .dataframe thead th {\n",
              "        text-align: right;\n",
              "    }\n",
              "</style>\n",
              "<table border=\"1\" class=\"dataframe\">\n",
              "  <thead>\n",
              "    <tr style=\"text-align: right;\">\n",
              "      <th></th>\n",
              "      <th>user_id</th>\n",
              "      <th>month</th>\n",
              "      <th>call</th>\n",
              "      <th>duration_sum</th>\n",
              "      <th>message</th>\n",
              "      <th>internet</th>\n",
              "      <th>summa</th>\n",
              "    </tr>\n",
              "  </thead>\n",
              "  <tbody>\n",
              "    <tr>\n",
              "      <td>count</td>\n",
              "      <td>985.000000</td>\n",
              "      <td>985.000000</td>\n",
              "      <td>985.000000</td>\n",
              "      <td>985.000000</td>\n",
              "      <td>985.000000</td>\n",
              "      <td>985.000000</td>\n",
              "      <td>985.000000</td>\n",
              "    </tr>\n",
              "    <tr>\n",
              "      <td>mean</td>\n",
              "      <td>1263.094416</td>\n",
              "      <td>8.250761</td>\n",
              "      <td>73.392893</td>\n",
              "      <td>497.068223</td>\n",
              "      <td>49.363452</td>\n",
              "      <td>19468.805208</td>\n",
              "      <td>2070.152284</td>\n",
              "    </tr>\n",
              "    <tr>\n",
              "      <td>std</td>\n",
              "      <td>140.694908</td>\n",
              "      <td>2.871762</td>\n",
              "      <td>43.916853</td>\n",
              "      <td>299.904152</td>\n",
              "      <td>47.804457</td>\n",
              "      <td>10087.170752</td>\n",
              "      <td>376.187114</td>\n",
              "    </tr>\n",
              "    <tr>\n",
              "      <td>min</td>\n",
              "      <td>1000.000000</td>\n",
              "      <td>1.000000</td>\n",
              "      <td>0.000000</td>\n",
              "      <td>0.000000</td>\n",
              "      <td>0.000000</td>\n",
              "      <td>0.000000</td>\n",
              "      <td>1950.000000</td>\n",
              "    </tr>\n",
              "    <tr>\n",
              "      <td>25%</td>\n",
              "      <td>1143.000000</td>\n",
              "      <td>6.000000</td>\n",
              "      <td>41.000000</td>\n",
              "      <td>267.750000</td>\n",
              "      <td>6.000000</td>\n",
              "      <td>11770.260000</td>\n",
              "      <td>1950.000000</td>\n",
              "    </tr>\n",
              "    <tr>\n",
              "      <td>50%</td>\n",
              "      <td>1277.000000</td>\n",
              "      <td>9.000000</td>\n",
              "      <td>74.000000</td>\n",
              "      <td>488.100000</td>\n",
              "      <td>38.000000</td>\n",
              "      <td>19308.010000</td>\n",
              "      <td>1950.000000</td>\n",
              "    </tr>\n",
              "    <tr>\n",
              "      <td>75%</td>\n",
              "      <td>1381.000000</td>\n",
              "      <td>11.000000</td>\n",
              "      <td>104.000000</td>\n",
              "      <td>711.470000</td>\n",
              "      <td>79.000000</td>\n",
              "      <td>26837.690000</td>\n",
              "      <td>1950.000000</td>\n",
              "    </tr>\n",
              "    <tr>\n",
              "      <td>max</td>\n",
              "      <td>1495.000000</td>\n",
              "      <td>12.000000</td>\n",
              "      <td>244.000000</td>\n",
              "      <td>1578.060000</td>\n",
              "      <td>224.000000</td>\n",
              "      <td>49745.690000</td>\n",
              "      <td>4800.000000</td>\n",
              "    </tr>\n",
              "  </tbody>\n",
              "</table>\n",
              "</div>"
            ],
            "text/plain": [
              "           user_id       month        call  duration_sum     message  \\\n",
              "count   985.000000  985.000000  985.000000    985.000000  985.000000   \n",
              "mean   1263.094416    8.250761   73.392893    497.068223   49.363452   \n",
              "std     140.694908    2.871762   43.916853    299.904152   47.804457   \n",
              "min    1000.000000    1.000000    0.000000      0.000000    0.000000   \n",
              "25%    1143.000000    6.000000   41.000000    267.750000    6.000000   \n",
              "50%    1277.000000    9.000000   74.000000    488.100000   38.000000   \n",
              "75%    1381.000000   11.000000  104.000000    711.470000   79.000000   \n",
              "max    1495.000000   12.000000  244.000000   1578.060000  224.000000   \n",
              "\n",
              "           internet        summa  \n",
              "count    985.000000   985.000000  \n",
              "mean   19468.805208  2070.152284  \n",
              "std    10087.170752   376.187114  \n",
              "min        0.000000  1950.000000  \n",
              "25%    11770.260000  1950.000000  \n",
              "50%    19308.010000  1950.000000  \n",
              "75%    26837.690000  1950.000000  \n",
              "max    49745.690000  4800.000000  "
            ]
          },
          "execution_count": 49,
          "metadata": {},
          "output_type": "execute_result"
        }
      ],
      "source": [
        "# статистические характеристики датафрейма ultra\n",
        "ultra.describe()"
      ]
    },
    {
      "cell_type": "markdown",
      "metadata": {
        "id": "B9Grawbf5rt2"
      },
      "source": [
        "максимальная выручка на тарифе  smart 4800, минимальная 1950 и равна медианному значению и равна абонентской плате, среднее значение 2070.152, стандартное отклонение 376.19"
      ]
    },
    {
      "cell_type": "code",
      "execution_count": null,
      "metadata": {
        "scrolled": true,
        "id": "8miDxv4X5rt2",
        "outputId": "817456d0-d719-4192-d9ca-89f4c0e5a1c2"
      },
      "outputs": [
        {
          "data": {
            "text/html": [
              "<div>\n",
              "<style scoped>\n",
              "    .dataframe tbody tr th:only-of-type {\n",
              "        vertical-align: middle;\n",
              "    }\n",
              "\n",
              "    .dataframe tbody tr th {\n",
              "        vertical-align: top;\n",
              "    }\n",
              "\n",
              "    .dataframe thead th {\n",
              "        text-align: right;\n",
              "    }\n",
              "</style>\n",
              "<table border=\"1\" class=\"dataframe\">\n",
              "  <thead>\n",
              "    <tr style=\"text-align: right;\">\n",
              "      <th></th>\n",
              "      <th>user_id</th>\n",
              "      <th>month</th>\n",
              "      <th>call</th>\n",
              "      <th>duration_sum</th>\n",
              "      <th>message</th>\n",
              "      <th>internet</th>\n",
              "      <th>summa</th>\n",
              "    </tr>\n",
              "  </thead>\n",
              "  <tbody>\n",
              "    <tr>\n",
              "      <td>count</td>\n",
              "      <td>611.000000</td>\n",
              "      <td>611.000000</td>\n",
              "      <td>611.000000</td>\n",
              "      <td>611.000000</td>\n",
              "      <td>611.000000</td>\n",
              "      <td>611.000000</td>\n",
              "      <td>611.000000</td>\n",
              "    </tr>\n",
              "    <tr>\n",
              "      <td>mean</td>\n",
              "      <td>1268.872340</td>\n",
              "      <td>8.432079</td>\n",
              "      <td>65.436989</td>\n",
              "      <td>442.814877</td>\n",
              "      <td>37.877250</td>\n",
              "      <td>17963.873584</td>\n",
              "      <td>1526.837971</td>\n",
              "    </tr>\n",
              "    <tr>\n",
              "      <td>std</td>\n",
              "      <td>137.530432</td>\n",
              "      <td>2.888057</td>\n",
              "      <td>33.186021</td>\n",
              "      <td>228.245911</td>\n",
              "      <td>37.160304</td>\n",
              "      <td>7844.966608</td>\n",
              "      <td>750.221433</td>\n",
              "    </tr>\n",
              "    <tr>\n",
              "      <td>min</td>\n",
              "      <td>1001.000000</td>\n",
              "      <td>1.000000</td>\n",
              "      <td>0.000000</td>\n",
              "      <td>0.000000</td>\n",
              "      <td>0.000000</td>\n",
              "      <td>365.090000</td>\n",
              "      <td>550.000000</td>\n",
              "    </tr>\n",
              "    <tr>\n",
              "      <td>25%</td>\n",
              "      <td>1171.000000</td>\n",
              "      <td>6.000000</td>\n",
              "      <td>42.000000</td>\n",
              "      <td>285.755000</td>\n",
              "      <td>6.500000</td>\n",
              "      <td>12612.290000</td>\n",
              "      <td>750.000000</td>\n",
              "    </tr>\n",
              "    <tr>\n",
              "      <td>50%</td>\n",
              "      <td>1291.000000</td>\n",
              "      <td>9.000000</td>\n",
              "      <td>64.000000</td>\n",
              "      <td>425.410000</td>\n",
              "      <td>29.000000</td>\n",
              "      <td>17537.950000</td>\n",
              "      <td>1750.000000</td>\n",
              "    </tr>\n",
              "    <tr>\n",
              "      <td>75%</td>\n",
              "      <td>1385.000000</td>\n",
              "      <td>11.000000</td>\n",
              "      <td>85.500000</td>\n",
              "      <td>585.215000</td>\n",
              "      <td>57.000000</td>\n",
              "      <td>22114.805000</td>\n",
              "      <td>1950.000000</td>\n",
              "    </tr>\n",
              "    <tr>\n",
              "      <td>max</td>\n",
              "      <td>1490.000000</td>\n",
              "      <td>12.000000</td>\n",
              "      <td>188.000000</td>\n",
              "      <td>1248.220000</td>\n",
              "      <td>191.000000</td>\n",
              "      <td>44296.860000</td>\n",
              "      <td>5186.000000</td>\n",
              "    </tr>\n",
              "  </tbody>\n",
              "</table>\n",
              "</div>"
            ],
            "text/plain": [
              "           user_id       month        call  duration_sum     message  \\\n",
              "count   611.000000  611.000000  611.000000    611.000000  611.000000   \n",
              "mean   1268.872340    8.432079   65.436989    442.814877   37.877250   \n",
              "std     137.530432    2.888057   33.186021    228.245911   37.160304   \n",
              "min    1001.000000    1.000000    0.000000      0.000000    0.000000   \n",
              "25%    1171.000000    6.000000   42.000000    285.755000    6.500000   \n",
              "50%    1291.000000    9.000000   64.000000    425.410000   29.000000   \n",
              "75%    1385.000000   11.000000   85.500000    585.215000   57.000000   \n",
              "max    1490.000000   12.000000  188.000000   1248.220000  191.000000   \n",
              "\n",
              "           internet        summa  \n",
              "count    611.000000   611.000000  \n",
              "mean   17963.873584  1526.837971  \n",
              "std     7844.966608   750.221433  \n",
              "min      365.090000   550.000000  \n",
              "25%    12612.290000   750.000000  \n",
              "50%    17537.950000  1750.000000  \n",
              "75%    22114.805000  1950.000000  \n",
              "max    44296.860000  5186.000000  "
            ]
          },
          "metadata": {},
          "output_type": "display_data"
        },
        {
          "data": {
            "text/html": [
              "<div>\n",
              "<style scoped>\n",
              "    .dataframe tbody tr th:only-of-type {\n",
              "        vertical-align: middle;\n",
              "    }\n",
              "\n",
              "    .dataframe tbody tr th {\n",
              "        vertical-align: top;\n",
              "    }\n",
              "\n",
              "    .dataframe thead th {\n",
              "        text-align: right;\n",
              "    }\n",
              "</style>\n",
              "<table border=\"1\" class=\"dataframe\">\n",
              "  <thead>\n",
              "    <tr style=\"text-align: right;\">\n",
              "      <th></th>\n",
              "      <th>user_id</th>\n",
              "      <th>month</th>\n",
              "      <th>call</th>\n",
              "      <th>duration_sum</th>\n",
              "      <th>message</th>\n",
              "      <th>internet</th>\n",
              "      <th>summa</th>\n",
              "    </tr>\n",
              "  </thead>\n",
              "  <tbody>\n",
              "    <tr>\n",
              "      <td>count</td>\n",
              "      <td>2603.000000</td>\n",
              "      <td>2603.000000</td>\n",
              "      <td>2603.000000</td>\n",
              "      <td>2603.000000</td>\n",
              "      <td>2603.000000</td>\n",
              "      <td>2603.000000</td>\n",
              "      <td>2603.000000</td>\n",
              "    </tr>\n",
              "    <tr>\n",
              "      <td>mean</td>\n",
              "      <td>1247.533615</td>\n",
              "      <td>8.290434</td>\n",
              "      <td>62.475989</td>\n",
              "      <td>421.909393</td>\n",
              "      <td>38.376104</td>\n",
              "      <td>17030.096416</td>\n",
              "      <td>1501.869766</td>\n",
              "    </tr>\n",
              "    <tr>\n",
              "      <td>std</td>\n",
              "      <td>146.011387</td>\n",
              "      <td>2.909368</td>\n",
              "      <td>33.229464</td>\n",
              "      <td>228.505014</td>\n",
              "      <td>35.913289</td>\n",
              "      <td>7495.688612</td>\n",
              "      <td>802.533059</td>\n",
              "    </tr>\n",
              "    <tr>\n",
              "      <td>min</td>\n",
              "      <td>1000.000000</td>\n",
              "      <td>1.000000</td>\n",
              "      <td>0.000000</td>\n",
              "      <td>0.000000</td>\n",
              "      <td>0.000000</td>\n",
              "      <td>0.000000</td>\n",
              "      <td>550.000000</td>\n",
              "    </tr>\n",
              "    <tr>\n",
              "      <td>25%</td>\n",
              "      <td>1120.000000</td>\n",
              "      <td>6.000000</td>\n",
              "      <td>40.000000</td>\n",
              "      <td>264.505000</td>\n",
              "      <td>9.500000</td>\n",
              "      <td>12453.065000</td>\n",
              "      <td>716.500000</td>\n",
              "    </tr>\n",
              "    <tr>\n",
              "      <td>50%</td>\n",
              "      <td>1241.000000</td>\n",
              "      <td>9.000000</td>\n",
              "      <td>62.000000</td>\n",
              "      <td>416.290000</td>\n",
              "      <td>30.000000</td>\n",
              "      <td>16853.310000</td>\n",
              "      <td>1550.000000</td>\n",
              "    </tr>\n",
              "    <tr>\n",
              "      <td>75%</td>\n",
              "      <td>1377.000000</td>\n",
              "      <td>11.000000</td>\n",
              "      <td>82.000000</td>\n",
              "      <td>550.650000</td>\n",
              "      <td>57.000000</td>\n",
              "      <td>21231.905000</td>\n",
              "      <td>1950.000000</td>\n",
              "    </tr>\n",
              "    <tr>\n",
              "      <td>max</td>\n",
              "      <td>1499.000000</td>\n",
              "      <td>12.000000</td>\n",
              "      <td>244.000000</td>\n",
              "      <td>1578.060000</td>\n",
              "      <td>224.000000</td>\n",
              "      <td>49745.690000</td>\n",
              "      <td>6614.000000</td>\n",
              "    </tr>\n",
              "  </tbody>\n",
              "</table>\n",
              "</div>"
            ],
            "text/plain": [
              "           user_id        month         call  duration_sum      message  \\\n",
              "count  2603.000000  2603.000000  2603.000000   2603.000000  2603.000000   \n",
              "mean   1247.533615     8.290434    62.475989    421.909393    38.376104   \n",
              "std     146.011387     2.909368    33.229464    228.505014    35.913289   \n",
              "min    1000.000000     1.000000     0.000000      0.000000     0.000000   \n",
              "25%    1120.000000     6.000000    40.000000    264.505000     9.500000   \n",
              "50%    1241.000000     9.000000    62.000000    416.290000    30.000000   \n",
              "75%    1377.000000    11.000000    82.000000    550.650000    57.000000   \n",
              "max    1499.000000    12.000000   244.000000   1578.060000   224.000000   \n",
              "\n",
              "           internet        summa  \n",
              "count   2603.000000  2603.000000  \n",
              "mean   17030.096416  1501.869766  \n",
              "std     7495.688612   802.533059  \n",
              "min        0.000000   550.000000  \n",
              "25%    12453.065000   716.500000  \n",
              "50%    16853.310000  1550.000000  \n",
              "75%    21231.905000  1950.000000  \n",
              "max    49745.690000  6614.000000  "
            ]
          },
          "metadata": {},
          "output_type": "display_data"
        }
      ],
      "source": [
        "display(moscow.describe())\n",
        "display(russia.describe())\n"
      ]
    },
    {
      "cell_type": "markdown",
      "metadata": {
        "id": "cZqPKo705rt2"
      },
      "source": [
        "максимальная выручка пользователей из Москвы 5186, минимальная 550, среднее значение 1526.84, медианное 1750, стандартное отклонение 750.22  \n",
        "максимальная выручка пользователей из других городов 6614, минимальная 550, среднее значение 1501.87, медианное 1550, стандартное отклонение 802.533  \n",
        "средние значения для пользователей из Москвы и пользователей из других городов практически равны. Соответственно нет никакой разницы в каком регионе продвигать услуги."
      ]
    },
    {
      "cell_type": "markdown",
      "metadata": {
        "id": "NyOB1GDj5rt3"
      },
      "source": [
        "Посчитаем дисперсию для тарифов.  \n",
        "Для этого напишу цикл для подсчета дисперсии по столбцам из списка columns_for_var"
      ]
    },
    {
      "cell_type": "code",
      "execution_count": null,
      "metadata": {
        "id": "JW0PVmBJ5rt3"
      },
      "outputs": [],
      "source": [
        "# создам список columns_for_var с наименованиями столбцов на основании которых буду считать дисперсию\n",
        "columns_for_var = ['call', 'duration_sum', 'message', 'internet', 'summa']"
      ]
    },
    {
      "cell_type": "code",
      "execution_count": null,
      "metadata": {
        "id": "OZwwPN-R5rt3",
        "outputId": "961d8735-a6a6-4c49-8c77-5a98713800d9"
      },
      "outputs": [
        {
          "data": {
            "text/plain": [
              "'дисперсия call тарифа ultra составляет: 1926.7319291916824'"
            ]
          },
          "metadata": {},
          "output_type": "display_data"
        },
        {
          "data": {
            "text/plain": [
              "'дисперсия call тарифа smart составляет: 672.5743697067148'"
            ]
          },
          "metadata": {},
          "output_type": "display_data"
        },
        {
          "data": {
            "text/plain": [
              "'дисперсия duration_sum тарифа ultra составляет: 89851.18818638667'"
            ]
          },
          "metadata": {},
          "output_type": "display_data"
        },
        {
          "data": {
            "text/plain": [
              "'дисперсия duration_sum тарифа smart составляет: 32371.866415692934'"
            ]
          },
          "metadata": {},
          "output_type": "display_data"
        },
        {
          "data": {
            "text/plain": [
              "'дисперсия message тарифа ultra составляет: 2282.946075394882'"
            ]
          },
          "metadata": {},
          "output_type": "display_data"
        },
        {
          "data": {
            "text/plain": [
              "'дисперсия message тарифа smart составляет: 796.455482917076'"
            ]
          },
          "metadata": {},
          "output_type": "display_data"
        },
        {
          "data": {
            "text/plain": [
              "'дисперсия internet тарифа ultra составляет: 101647713.26174639'"
            ]
          },
          "metadata": {},
          "output_type": "display_data"
        },
        {
          "data": {
            "text/plain": [
              "'дисперсия internet тарифа smart составляет: 34447035.49528493'"
            ]
          },
          "metadata": {},
          "output_type": "display_data"
        },
        {
          "data": {
            "text/plain": [
              "'дисперсия summa тарифа ultra составляет: 141373.07325620347'"
            ]
          },
          "metadata": {},
          "output_type": "display_data"
        },
        {
          "data": {
            "text/plain": [
              "'дисперсия summa тарифа smart составляет: 641178.0151415706'"
            ]
          },
          "metadata": {},
          "output_type": "display_data"
        }
      ],
      "source": [
        "# вычислим дисперсию по тарифам\n",
        "for name_column in columns_for_var:\n",
        "    a=np.var(ultra[name_column])\n",
        "    b=np.var(smart[name_column])\n",
        "    display(f'дисперсия {name_column} тарифа ultra составляет: {a}')\n",
        "    display(f'дисперсия {name_column} тарифа smart составляет: {b}')"
      ]
    },
    {
      "cell_type": "code",
      "execution_count": null,
      "metadata": {
        "id": "MRyk9m6b5rt5",
        "outputId": "4a6b441c-e194-4fd4-f78a-9d0afccef246"
      },
      "outputs": [
        {
          "data": {
            "text/plain": [
              "'дисперсия call данных для Москвы составляет: 1099.5095320113253'"
            ]
          },
          "metadata": {},
          "output_type": "display_data"
        },
        {
          "data": {
            "text/plain": [
              "'дисперсия call данных для других городов составляет: 672.5743697067148'"
            ]
          },
          "metadata": {},
          "output_type": "display_data"
        },
        {
          "data": {
            "text/plain": [
              "'дисперсия duration_sum данных для Москвы составляет: 52010.93220665433'"
            ]
          },
          "metadata": {},
          "output_type": "display_data"
        },
        {
          "data": {
            "text/plain": [
              "'дисперсия duration_sum данных для других городов составляет: 32371.866415692934'"
            ]
          },
          "metadata": {},
          "output_type": "display_data"
        },
        {
          "data": {
            "text/plain": [
              "'дисперсия message данных для Москвы составляет: 1378.6281403939238'"
            ]
          },
          "metadata": {},
          "output_type": "display_data"
        },
        {
          "data": {
            "text/plain": [
              "'дисперсия message данных для других городов составляет: 796.455482917076'"
            ]
          },
          "metadata": {},
          "output_type": "display_data"
        },
        {
          "data": {
            "text/plain": [
              "'дисперсия internet данных для Москвы составляет: 61442775.21413102'"
            ]
          },
          "metadata": {},
          "output_type": "display_data"
        },
        {
          "data": {
            "text/plain": [
              "'дисперсия internet данных для других городов составляет: 34447035.49528493'"
            ]
          },
          "metadata": {},
          "output_type": "display_data"
        },
        {
          "data": {
            "text/plain": [
              "'дисперсия summa данных для Москвы составляет: 561911.0326662577'"
            ]
          },
          "metadata": {},
          "output_type": "display_data"
        },
        {
          "data": {
            "text/plain": [
              "'дисперсия summa данных для других городов составляет: 641178.0151415706'"
            ]
          },
          "metadata": {},
          "output_type": "display_data"
        }
      ],
      "source": [
        "# вычислим дисперсию по городам\n",
        "for name_column in columns_for_var:\n",
        "    m=np.var(moscow[name_column])\n",
        "    r=np.var(smart[name_column])\n",
        "    display(f'дисперсия {name_column} данных для Москвы составляет: {m}')\n",
        "    display(f'дисперсия {name_column} данных для других городов составляет: {r}')"
      ]
    },
    {
      "cell_type": "code",
      "execution_count": null,
      "metadata": {
        "id": "ewdkXsHZ5rt5",
        "outputId": "62eb255f-36de-4902-a98c-a5ce5e146663"
      },
      "outputs": [
        {
          "data": {
            "image/png": "[encoded data removed]",
            "text/plain": [
              "<Figure size 432x288 with 1 Axes>"
            ]
          },
          "metadata": {
            "needs_background": "light"
          },
          "output_type": "display_data"
        },
        {
          "data": {
            "image/png": "[encoded data removed]",
            "text/plain": [
              "<Figure size 432x288 with 1 Axes>"
            ]
          },
          "metadata": {
            "needs_background": "light"
          },
          "output_type": "display_data"
        },
        {
          "data": {
            "image/png": "[encoded data removed]",
            "text/plain": [
              "<Figure size 432x288 with 1 Axes>"
            ]
          },
          "metadata": {
            "needs_background": "light"
          },
          "output_type": "display_data"
        },
        {
          "data": {
            "image/png": "[encoded data removed]",
            "text/plain": [
              "<Figure size 432x288 with 1 Axes>"
            ]
          },
          "metadata": {
            "needs_background": "light"
          },
          "output_type": "display_data"
        },
        {
          "data": {
            "image/png": "[encoded data removed]",
            "text/plain": [
              "<Figure size 432x288 with 1 Axes>"
            ]
          },
          "metadata": {
            "needs_background": "light"
          },
          "output_type": "display_data"
        }
      ],
      "source": [
        "# построю гистограммы для данных столбцов из списка columns_for_var для тарифа smart\n",
        "for name_column in columns_for_var:\n",
        "    smart[name_column].plot(x='month', y=name_column, kind='hist', title = name_column, bins=30)\n",
        "    plt.show();"
      ]
    },
    {
      "cell_type": "code",
      "execution_count": null,
      "metadata": {
        "scrolled": true,
        "id": "EXQmfR9o5rt6",
        "outputId": "78623465-66c7-460c-92a2-2f4b6d1b1c67"
      },
      "outputs": [
        {
          "data": {
            "image/png": "[encoded data removed]",
            "text/plain": [
              "<Figure size 432x288 with 1 Axes>"
            ]
          },
          "metadata": {
            "needs_background": "light"
          },
          "output_type": "display_data"
        },
        {
          "data": {
            "image/png": "[encoded data removed]",
            "text/plain": [
              "<Figure size 432x288 with 1 Axes>"
            ]
          },
          "metadata": {
            "needs_background": "light"
          },
          "output_type": "display_data"
        },
        {
          "data": {
            "image/png": "[encoded data removed]",
            "text/plain": [
              "<Figure size 432x288 with 1 Axes>"
            ]
          },
          "metadata": {
            "needs_background": "light"
          },
          "output_type": "display_data"
        },
        {
          "data": {
            "image/png": "[encoded data removed]",
            "text/plain": [
              "<Figure size 432x288 with 1 Axes>"
            ]
          },
          "metadata": {
            "needs_background": "light"
          },
          "output_type": "display_data"
        },
        {
          "data": {
            "image/png": "[encoded data removed]",
            "text/plain": [
              "<Figure size 432x288 with 1 Axes>"
            ]
          },
          "metadata": {
            "needs_background": "light"
          },
          "output_type": "display_data"
        }
      ],
      "source": [
        "# построю гистограммы для данных столбцов из списка columns_for_var для тарифа ultra\n",
        "for name_column in columns_for_var:\n",
        "    ultra[name_column].plot(x='month', y=name_column, kind='hist', title = name_column, bins=30)\n",
        "    plt.show();"
      ]
    },
    {
      "cell_type": "markdown",
      "metadata": {
        "id": "UdW3YXIY5rt7"
      },
      "source": [
        "На гистограммах видно, что пользователи тарифов большую часть выручки приносят, оплачивая абонетскую плату, но некоторые пользователи тарифа ultra тратят сверх абонетской платы."
      ]
    },
    {
      "cell_type": "code",
      "execution_count": null,
      "metadata": {
        "scrolled": true,
        "id": "y1Vetwgk5rt7",
        "outputId": "165ff970-71fe-4d56-c28a-d86c03b737c7"
      },
      "outputs": [
        {
          "data": {
            "image/png": "[encoded data removed]",
            "text/plain": [
              "<Figure size 432x288 with 1 Axes>"
            ]
          },
          "metadata": {
            "needs_background": "light"
          },
          "output_type": "display_data"
        },
        {
          "data": {
            "image/png": "[encoded data removed]",
            "text/plain": [
              "<Figure size 432x288 with 1 Axes>"
            ]
          },
          "metadata": {
            "needs_background": "light"
          },
          "output_type": "display_data"
        },
        {
          "data": {
            "image/png": "[encoded data removed]",
            "text/plain": [
              "<Figure size 432x288 with 1 Axes>"
            ]
          },
          "metadata": {
            "needs_background": "light"
          },
          "output_type": "display_data"
        },
        {
          "data": {
            "image/png": "[encoded data removed]",
            "text/plain": [
              "<Figure size 432x288 with 1 Axes>"
            ]
          },
          "metadata": {
            "needs_background": "light"
          },
          "output_type": "display_data"
        },
        {
          "data": {
            "image/png": "[encoded data removed]",
            "text/plain": [
              "<Figure size 432x288 with 1 Axes>"
            ]
          },
          "metadata": {
            "needs_background": "light"
          },
          "output_type": "display_data"
        }
      ],
      "source": [
        "# построю гистограммы для данных столбцов из списка columns_for_var для пользователей из Москвы\n",
        "for name_column in columns_for_var:\n",
        "    moscow[name_column].plot(x='month', y=name_column, kind='hist', title = name_column, bins=30)\n",
        "    plt.show();"
      ]
    },
    {
      "cell_type": "code",
      "execution_count": null,
      "metadata": {
        "scrolled": true,
        "id": "mNOuKCk95rt7",
        "outputId": "a7b8e1ab-75a9-41fd-e70e-865b173202db"
      },
      "outputs": [
        {
          "data": {
            "image/png": "[encoded data removed]",
            "text/plain": [
              "<Figure size 432x288 with 1 Axes>"
            ]
          },
          "metadata": {
            "needs_background": "light"
          },
          "output_type": "display_data"
        },
        {
          "data": {
            "image/png": "[encoded data removed]",
            "text/plain": [
              "<Figure size 432x288 with 1 Axes>"
            ]
          },
          "metadata": {
            "needs_background": "light"
          },
          "output_type": "display_data"
        },
        {
          "data": {
            "image/png": "[encoded data removed]",
            "text/plain": [
              "<Figure size 432x288 with 1 Axes>"
            ]
          },
          "metadata": {
            "needs_background": "light"
          },
          "output_type": "display_data"
        },
        {
          "data": {
            "image/png": "[encoded data removed]",
            "text/plain": [
              "<Figure size 432x288 with 1 Axes>"
            ]
          },
          "metadata": {
            "needs_background": "light"
          },
          "output_type": "display_data"
        },
        {
          "data": {
            "image/png": "[encoded data removed]",
            "text/plain": [
              "<Figure size 432x288 with 1 Axes>"
            ]
          },
          "metadata": {
            "needs_background": "light"
          },
          "output_type": "display_data"
        }
      ],
      "source": [
        "# построю гистограммы для данных столбцов из списка columns_for_var для пользователей из других регионов\n",
        "for name_column in columns_for_var:\n",
        "    russia[name_column].plot(x='month', y=name_column, kind='hist', title = name_column, bins=30)\n",
        "    plt.show();"
      ]
    },
    {
      "cell_type": "raw",
      "metadata": {
        "id": "8lA0UNWO5rt8"
      },
      "source": [
        "Гистограммы выручки от пользователей из Москвы и других регионов одинаковые, можно сделать вывод, что пользователи приносят одинаковую выручку не зависимо от региона проживания."
      ]
    },
    {
      "cell_type": "markdown",
      "metadata": {
        "id": "qvNmGJjU5rt9"
      },
      "source": [
        "##  Проверка гипотез"
      ]
    },
    {
      "cell_type": "markdown",
      "metadata": {
        "id": "uUBOUqHm5rt9"
      },
      "source": [
        "Нулевая гипотеза: средняя выручка компании от пользователей тарифов «Ультра» и «Смарт» равны  \n",
        "Альтернативная гипотеза: средняя выручка компании от пользователей тарифов «Ультра» и «Смарт» не равны\n",
        "Проверим их."
      ]
    },
    {
      "cell_type": "code",
      "execution_count": null,
      "metadata": {
        "id": "632DWRMO5rt_",
        "outputId": "76590f70-f3f0-44f6-91bc-244d38c03214"
      },
      "outputs": [
        {
          "name": "stdout",
          "output_type": "stream",
          "text": [
            "p-значение: 6.179723168444486e-274\n",
            "Отвергаем нулевую гипотезу\n"
          ]
        }
      ],
      "source": [
        "# сравниваем данные датафреймов smart и ultra\n",
        "alpha = 0.05 # критический уровень значимости\n",
        "\n",
        "results =st.ttest_ind(\n",
        "    smart['summa'], \n",
        "    ultra['summa'], equal_var = False) # используем 'equal_var = False' так как выборки различаются\n",
        "\n",
        "print('p-значение:', results.pvalue)\n",
        "\n",
        "if results.pvalue < alpha:\n",
        "    print(\"Отвергаем нулевую гипотезу\")\n",
        "else:\n",
        "    print(\"Не получилось отвергнуть нулевую гипотезу\")"
      ]
    },
    {
      "cell_type": "markdown",
      "metadata": {
        "id": "AxPJpgPW5ruA"
      },
      "source": [
        "Нулевая гипотеза отвергнута.\n",
        "Выручка компании от пользователей тарифов smart и ultra различаются."
      ]
    },
    {
      "cell_type": "markdown",
      "metadata": {
        "id": "Wb3jCgYt5ruB"
      },
      "source": [
        "Нулевая гипотеза: средняя выручка компании от пользователей из Москвы равна выручке пользователей из других регионов.  \n",
        "Альтернативная гипотеза: средняя выручка компании от пользователей из Москвы не равна выручке пользователей из других регионов"
      ]
    },
    {
      "cell_type": "code",
      "execution_count": null,
      "metadata": {
        "id": "wjxz9_w-5ruF",
        "outputId": "298aaef9-dab3-449d-d03e-cacab6db8d01"
      },
      "outputs": [
        {
          "name": "stdout",
          "output_type": "stream",
          "text": [
            "p-значение: 0.46532858228722906\n",
            "Не получилось отвергнуть нулевую гипотезу\n"
          ]
        }
      ],
      "source": [
        "# сравниваем данные датафреймов moscow и russia\n",
        "alpha = 0.05 # критический уровень значимости\n",
        "\n",
        "results_city =st.ttest_ind(\n",
        "    moscow['summa'], \n",
        "    russia['summa'], equal_var = False) # используем 'equal_var = False' так как выборки различаются\n",
        "\n",
        "print('p-значение:', results_city.pvalue)\n",
        "\n",
        "if results_city.pvalue < alpha:\n",
        "    print(\"Отвергаем нулевую гипотезу\")\n",
        "else:\n",
        "    print(\"Не получилось отвергнуть нулевую гипотезу\")"
      ]
    },
    {
      "cell_type": "markdown",
      "metadata": {
        "id": "O56WRzLh5ruF"
      },
      "source": [
        "Выручка компании от пользователей не зависит от региона пользования услугами."
      ]
    },
    {
      "cell_type": "markdown",
      "metadata": {
        "id": "IfRK_84n5ruH"
      },
      "source": [
        "## Общий вывод"
      ]
    },
    {
      "cell_type": "markdown",
      "metadata": {
        "id": "prgUJOjQ5ruI"
      },
      "source": [
        "В ходе исследования я провел подготовку данных по пользователям тарифов \"smart\" и \"ultra\" компании «Мегалайн».  \n",
        "Вычислил ежемесячную выручку от каждого абонента за год.  \n",
        "Сравнил пользователей двух тарифов, а также выручку от пользователей из Москвы и других регионов России.  \n",
        "Сформулировал гипотезы: Средняя выручка компании от пользователей тарифов «Ультра» и «Смарт» равны и средняя выручка компании от пользователей из Москвы равна выручке пользователей из других регионов.  \n",
        "Приверив эти гипотезы сделал вывод:\n",
        "Выручка компании не зависит от региона пользования тарифом.  \n",
        "Пользователи тарифа \"ultra\" приносят компании больше прибыли."
      ]
    },
    {
      "cell_type": "code",
      "execution_count": null,
      "metadata": {
        "id": "am6zkEyQ5ruP"
      },
      "outputs": [],
      "source": [
        ""
      ]
    }
  ],
  "metadata": {
    "ExecuteTimeLog": [
      {
        "duration": 614,
        "start_time": "2022-01-24T06:46:22.662Z"
      },
      {
        "duration": 788,
        "start_time": "2022-01-24T06:46:30.086Z"
      },
      {
        "duration": 704,
        "start_time": "2022-01-24T06:46:46.299Z"
      },
      {
        "duration": 1105,
        "start_time": "2022-01-27T13:45:45.082Z"
      },
      {
        "duration": 513,
        "start_time": "2022-01-27T13:45:47.475Z"
      },
      {
        "duration": 48,
        "start_time": "2022-01-27T13:45:49.325Z"
      },
      {
        "duration": 53,
        "start_time": "2022-01-27T14:02:10.793Z"
      },
      {
        "duration": 21,
        "start_time": "2022-01-27T14:03:30.125Z"
      },
      {
        "duration": 1085,
        "start_time": "2022-01-27T14:04:23.048Z"
      },
      {
        "duration": 366,
        "start_time": "2022-01-27T14:04:24.135Z"
      },
      {
        "duration": 21,
        "start_time": "2022-01-27T14:04:24.503Z"
      },
      {
        "duration": 28,
        "start_time": "2022-01-27T14:04:24.526Z"
      },
      {
        "duration": 6,
        "start_time": "2022-01-27T14:04:24.556Z"
      },
      {
        "duration": 7,
        "start_time": "2022-01-27T14:04:24.564Z"
      },
      {
        "duration": 1480,
        "start_time": "2022-01-27T15:43:10.223Z"
      },
      {
        "duration": 542,
        "start_time": "2022-01-27T15:43:11.706Z"
      },
      {
        "duration": 32,
        "start_time": "2022-01-27T15:43:12.251Z"
      },
      {
        "duration": 40,
        "start_time": "2022-01-27T15:43:12.286Z"
      },
      {
        "duration": 32,
        "start_time": "2022-01-27T15:43:12.329Z"
      },
      {
        "duration": 18,
        "start_time": "2022-01-27T15:43:12.364Z"
      },
      {
        "duration": 9,
        "start_time": "2022-01-27T15:43:12.385Z"
      },
      {
        "duration": 26,
        "start_time": "2022-01-27T15:43:12.398Z"
      },
      {
        "duration": 39,
        "start_time": "2022-01-27T15:43:12.459Z"
      },
      {
        "duration": 12,
        "start_time": "2022-01-27T15:43:12.501Z"
      },
      {
        "duration": 45,
        "start_time": "2022-01-27T15:43:12.516Z"
      },
      {
        "duration": 28,
        "start_time": "2022-01-27T15:43:12.564Z"
      },
      {
        "duration": 19,
        "start_time": "2022-01-27T15:43:12.594Z"
      },
      {
        "duration": 11,
        "start_time": "2022-01-27T15:43:12.615Z"
      },
      {
        "duration": 12,
        "start_time": "2022-01-27T15:43:12.661Z"
      },
      {
        "duration": 10,
        "start_time": "2022-01-27T15:43:12.676Z"
      },
      {
        "duration": 84,
        "start_time": "2022-01-27T15:43:12.688Z"
      },
      {
        "duration": 13,
        "start_time": "2022-01-27T15:43:12.775Z"
      },
      {
        "duration": 14,
        "start_time": "2022-01-27T15:43:12.791Z"
      },
      {
        "duration": 11,
        "start_time": "2022-01-27T15:43:12.807Z"
      },
      {
        "duration": 25,
        "start_time": "2022-01-27T15:43:12.860Z"
      },
      {
        "duration": 19,
        "start_time": "2022-01-27T15:43:12.887Z"
      },
      {
        "duration": 25,
        "start_time": "2022-01-27T15:43:12.911Z"
      },
      {
        "duration": 13,
        "start_time": "2022-01-27T15:43:39.607Z"
      },
      {
        "duration": 12,
        "start_time": "2022-01-27T16:52:10.877Z"
      },
      {
        "duration": 578,
        "start_time": "2022-01-27T17:00:36.045Z"
      },
      {
        "duration": 9,
        "start_time": "2022-01-27T17:00:58.387Z"
      },
      {
        "duration": 1297,
        "start_time": "2022-01-27T17:09:18.218Z"
      },
      {
        "duration": 518,
        "start_time": "2022-01-27T17:09:19.518Z"
      },
      {
        "duration": 30,
        "start_time": "2022-01-27T17:09:20.040Z"
      },
      {
        "duration": 47,
        "start_time": "2022-01-27T17:09:20.073Z"
      },
      {
        "duration": 36,
        "start_time": "2022-01-27T17:09:20.123Z"
      },
      {
        "duration": 12,
        "start_time": "2022-01-27T17:09:20.163Z"
      },
      {
        "duration": 13,
        "start_time": "2022-01-27T17:09:20.179Z"
      },
      {
        "duration": 63,
        "start_time": "2022-01-27T17:09:20.196Z"
      },
      {
        "duration": 38,
        "start_time": "2022-01-27T17:09:20.262Z"
      },
      {
        "duration": 12,
        "start_time": "2022-01-27T17:09:20.302Z"
      },
      {
        "duration": 43,
        "start_time": "2022-01-27T17:09:20.316Z"
      },
      {
        "duration": 10,
        "start_time": "2022-01-27T17:09:20.362Z"
      },
      {
        "duration": 17,
        "start_time": "2022-01-27T17:09:20.375Z"
      },
      {
        "duration": 18,
        "start_time": "2022-01-27T17:09:20.395Z"
      },
      {
        "duration": 46,
        "start_time": "2022-01-27T17:09:20.415Z"
      },
      {
        "duration": 10,
        "start_time": "2022-01-27T17:09:20.464Z"
      },
      {
        "duration": 10,
        "start_time": "2022-01-27T17:09:20.476Z"
      },
      {
        "duration": 8,
        "start_time": "2022-01-27T17:09:20.488Z"
      },
      {
        "duration": 78,
        "start_time": "2022-01-27T17:09:20.498Z"
      },
      {
        "duration": 11,
        "start_time": "2022-01-27T17:09:20.578Z"
      },
      {
        "duration": 13,
        "start_time": "2022-01-27T17:09:20.592Z"
      },
      {
        "duration": 12,
        "start_time": "2022-01-27T17:09:20.608Z"
      },
      {
        "duration": 59,
        "start_time": "2022-01-27T17:09:20.624Z"
      },
      {
        "duration": 16,
        "start_time": "2022-01-27T17:09:20.685Z"
      },
      {
        "duration": 17,
        "start_time": "2022-01-27T17:09:20.703Z"
      },
      {
        "duration": 1427,
        "start_time": "2022-01-27T17:22:01.178Z"
      },
      {
        "duration": 576,
        "start_time": "2022-01-27T17:22:02.608Z"
      },
      {
        "duration": 46,
        "start_time": "2022-01-27T17:22:03.189Z"
      },
      {
        "duration": 52,
        "start_time": "2022-01-27T17:22:03.239Z"
      },
      {
        "duration": 14,
        "start_time": "2022-01-27T17:22:03.294Z"
      },
      {
        "duration": 11,
        "start_time": "2022-01-27T17:22:03.311Z"
      },
      {
        "duration": 45,
        "start_time": "2022-01-27T17:22:03.325Z"
      },
      {
        "duration": 23,
        "start_time": "2022-01-27T17:22:03.373Z"
      },
      {
        "duration": 71,
        "start_time": "2022-01-27T17:22:03.400Z"
      },
      {
        "duration": 12,
        "start_time": "2022-01-27T17:22:03.475Z"
      },
      {
        "duration": 13,
        "start_time": "2022-01-27T17:22:03.489Z"
      },
      {
        "duration": 13,
        "start_time": "2022-01-27T17:22:03.504Z"
      },
      {
        "duration": 51,
        "start_time": "2022-01-27T17:22:03.520Z"
      },
      {
        "duration": 18,
        "start_time": "2022-01-27T17:22:03.573Z"
      },
      {
        "duration": 16,
        "start_time": "2022-01-27T17:22:03.593Z"
      },
      {
        "duration": 14,
        "start_time": "2022-01-27T17:22:03.612Z"
      },
      {
        "duration": 36,
        "start_time": "2022-01-27T17:22:03.628Z"
      },
      {
        "duration": 10,
        "start_time": "2022-01-27T17:22:03.667Z"
      },
      {
        "duration": 11,
        "start_time": "2022-01-27T17:22:03.681Z"
      },
      {
        "duration": 12,
        "start_time": "2022-01-27T17:22:03.695Z"
      },
      {
        "duration": 56,
        "start_time": "2022-01-27T17:22:03.709Z"
      },
      {
        "duration": 15,
        "start_time": "2022-01-27T17:22:03.768Z"
      },
      {
        "duration": 14,
        "start_time": "2022-01-27T17:22:03.785Z"
      },
      {
        "duration": 1337,
        "start_time": "2022-01-29T16:43:47.147Z"
      },
      {
        "duration": 487,
        "start_time": "2022-01-29T16:43:48.487Z"
      },
      {
        "duration": 29,
        "start_time": "2022-01-29T16:43:48.977Z"
      },
      {
        "duration": 44,
        "start_time": "2022-01-29T16:43:49.009Z"
      },
      {
        "duration": 12,
        "start_time": "2022-01-29T16:43:49.057Z"
      },
      {
        "duration": 14,
        "start_time": "2022-01-29T16:43:49.072Z"
      },
      {
        "duration": 50,
        "start_time": "2022-01-29T16:43:49.089Z"
      },
      {
        "duration": 25,
        "start_time": "2022-01-29T16:43:49.142Z"
      },
      {
        "duration": 70,
        "start_time": "2022-01-29T16:43:49.171Z"
      },
      {
        "duration": 12,
        "start_time": "2022-01-29T16:43:49.243Z"
      },
      {
        "duration": 15,
        "start_time": "2022-01-29T16:43:49.258Z"
      },
      {
        "duration": 12,
        "start_time": "2022-01-29T16:43:49.276Z"
      },
      {
        "duration": 20,
        "start_time": "2022-01-29T16:43:49.332Z"
      },
      {
        "duration": 22,
        "start_time": "2022-01-29T16:43:49.354Z"
      },
      {
        "duration": 9,
        "start_time": "2022-01-29T16:43:49.378Z"
      },
      {
        "duration": 43,
        "start_time": "2022-01-29T16:43:49.389Z"
      },
      {
        "duration": 10,
        "start_time": "2022-01-29T16:43:49.435Z"
      },
      {
        "duration": 8,
        "start_time": "2022-01-29T16:43:49.447Z"
      },
      {
        "duration": 21,
        "start_time": "2022-01-29T16:43:49.458Z"
      },
      {
        "duration": 17,
        "start_time": "2022-01-29T16:43:49.482Z"
      },
      {
        "duration": 37,
        "start_time": "2022-01-29T16:43:49.502Z"
      },
      {
        "duration": 17,
        "start_time": "2022-01-29T16:43:49.542Z"
      },
      {
        "duration": 16,
        "start_time": "2022-01-29T16:43:49.566Z"
      },
      {
        "duration": 182,
        "start_time": "2022-01-29T16:43:49.586Z"
      },
      {
        "duration": 88,
        "start_time": "2022-01-29T16:43:49.771Z"
      },
      {
        "duration": 129,
        "start_time": "2022-01-29T16:43:49.862Z"
      },
      {
        "duration": 11,
        "start_time": "2022-01-29T16:43:49.994Z"
      },
      {
        "duration": 30,
        "start_time": "2022-01-29T16:43:50.008Z"
      },
      {
        "duration": 75,
        "start_time": "2022-01-29T16:43:50.041Z"
      },
      {
        "duration": 56,
        "start_time": "2022-01-29T16:43:50.118Z"
      },
      {
        "duration": 73,
        "start_time": "2022-01-29T16:43:50.176Z"
      },
      {
        "duration": 44,
        "start_time": "2022-01-29T16:43:50.252Z"
      },
      {
        "duration": 50,
        "start_time": "2022-01-29T16:43:50.299Z"
      },
      {
        "duration": 33,
        "start_time": "2022-01-29T16:43:50.352Z"
      },
      {
        "duration": 12,
        "start_time": "2022-01-29T16:43:50.388Z"
      },
      {
        "duration": 43,
        "start_time": "2022-01-29T16:43:50.402Z"
      },
      {
        "duration": 37,
        "start_time": "2022-01-29T16:43:50.447Z"
      },
      {
        "duration": 52,
        "start_time": "2022-01-29T16:43:50.486Z"
      },
      {
        "duration": 36,
        "start_time": "2022-01-29T16:43:50.540Z"
      },
      {
        "duration": 7,
        "start_time": "2022-01-29T16:43:50.578Z"
      },
      {
        "duration": 416,
        "start_time": "2022-01-29T16:43:50.587Z"
      },
      {
        "duration": -116243,
        "start_time": "2022-01-29T16:45:47.249Z"
      },
      {
        "duration": -116292,
        "start_time": "2022-01-29T16:45:47.299Z"
      },
      {
        "duration": -116306,
        "start_time": "2022-01-29T16:45:47.314Z"
      },
      {
        "duration": -116318,
        "start_time": "2022-01-29T16:45:47.328Z"
      },
      {
        "duration": -116327,
        "start_time": "2022-01-29T16:45:47.339Z"
      },
      {
        "duration": -116338,
        "start_time": "2022-01-29T16:45:47.351Z"
      },
      {
        "duration": -116347,
        "start_time": "2022-01-29T16:45:47.362Z"
      },
      {
        "duration": -116357,
        "start_time": "2022-01-29T16:45:47.373Z"
      },
      {
        "duration": -116366,
        "start_time": "2022-01-29T16:45:47.383Z"
      },
      {
        "duration": -116395,
        "start_time": "2022-01-29T16:45:47.413Z"
      },
      {
        "duration": -116405,
        "start_time": "2022-01-29T16:45:47.425Z"
      },
      {
        "duration": -116415,
        "start_time": "2022-01-29T16:45:47.436Z"
      },
      {
        "duration": -116424,
        "start_time": "2022-01-29T16:45:47.446Z"
      },
      {
        "duration": -116434,
        "start_time": "2022-01-29T16:45:47.458Z"
      },
      {
        "duration": -116443,
        "start_time": "2022-01-29T16:45:47.468Z"
      },
      {
        "duration": 1294,
        "start_time": "2022-01-29T16:46:55.081Z"
      },
      {
        "duration": 510,
        "start_time": "2022-01-29T16:46:56.378Z"
      },
      {
        "duration": 28,
        "start_time": "2022-01-29T16:46:56.892Z"
      },
      {
        "duration": 42,
        "start_time": "2022-01-29T16:46:56.923Z"
      },
      {
        "duration": 11,
        "start_time": "2022-01-29T16:46:56.967Z"
      },
      {
        "duration": 16,
        "start_time": "2022-01-29T16:46:56.980Z"
      },
      {
        "duration": 41,
        "start_time": "2022-01-29T16:46:56.999Z"
      },
      {
        "duration": 26,
        "start_time": "2022-01-29T16:46:57.045Z"
      },
      {
        "duration": 73,
        "start_time": "2022-01-29T16:46:57.075Z"
      },
      {
        "duration": 11,
        "start_time": "2022-01-29T16:46:57.151Z"
      },
      {
        "duration": 14,
        "start_time": "2022-01-29T16:46:57.164Z"
      },
      {
        "duration": 14,
        "start_time": "2022-01-29T16:46:57.181Z"
      },
      {
        "duration": 51,
        "start_time": "2022-01-29T16:46:57.197Z"
      },
      {
        "duration": 19,
        "start_time": "2022-01-29T16:46:57.251Z"
      },
      {
        "duration": 10,
        "start_time": "2022-01-29T16:46:57.272Z"
      },
      {
        "duration": 48,
        "start_time": "2022-01-29T16:46:57.284Z"
      },
      {
        "duration": 10,
        "start_time": "2022-01-29T16:46:57.335Z"
      },
      {
        "duration": 12,
        "start_time": "2022-01-29T16:46:57.347Z"
      },
      {
        "duration": 25,
        "start_time": "2022-01-29T16:46:57.361Z"
      },
      {
        "duration": 15,
        "start_time": "2022-01-29T16:46:57.389Z"
      },
      {
        "duration": 35,
        "start_time": "2022-01-29T16:46:57.406Z"
      },
      {
        "duration": 14,
        "start_time": "2022-01-29T16:46:57.444Z"
      },
      {
        "duration": 13,
        "start_time": "2022-01-29T16:46:57.464Z"
      },
      {
        "duration": 187,
        "start_time": "2022-01-29T16:46:57.481Z"
      },
      {
        "duration": 87,
        "start_time": "2022-01-29T16:46:57.671Z"
      },
      {
        "duration": 126,
        "start_time": "2022-01-29T16:46:57.760Z"
      },
      {
        "duration": 11,
        "start_time": "2022-01-29T16:46:57.889Z"
      },
      {
        "duration": 33,
        "start_time": "2022-01-29T16:46:57.902Z"
      },
      {
        "duration": 69,
        "start_time": "2022-01-29T16:46:57.937Z"
      },
      {
        "duration": 58,
        "start_time": "2022-01-29T16:46:58.008Z"
      },
      {
        "duration": 76,
        "start_time": "2022-01-29T16:46:58.068Z"
      },
      {
        "duration": 47,
        "start_time": "2022-01-29T16:46:58.147Z"
      },
      {
        "duration": 58,
        "start_time": "2022-01-29T16:46:58.196Z"
      },
      {
        "duration": 33,
        "start_time": "2022-01-29T16:46:58.256Z"
      },
      {
        "duration": 12,
        "start_time": "2022-01-29T16:46:58.291Z"
      },
      {
        "duration": 40,
        "start_time": "2022-01-29T16:46:58.305Z"
      },
      {
        "duration": 37,
        "start_time": "2022-01-29T16:46:58.348Z"
      },
      {
        "duration": 57,
        "start_time": "2022-01-29T16:46:58.388Z"
      },
      {
        "duration": 37,
        "start_time": "2022-01-29T16:46:58.448Z"
      },
      {
        "duration": 11,
        "start_time": "2022-01-29T16:46:58.489Z"
      },
      {
        "duration": 30,
        "start_time": "2022-01-29T16:46:58.502Z"
      },
      {
        "duration": 3674,
        "start_time": "2022-01-29T16:46:58.535Z"
      },
      {
        "duration": 5,
        "start_time": "2022-01-29T16:47:02.211Z"
      },
      {
        "duration": 55,
        "start_time": "2022-01-29T16:47:02.218Z"
      },
      {
        "duration": 21,
        "start_time": "2022-01-29T16:47:02.276Z"
      },
      {
        "duration": 32,
        "start_time": "2022-01-29T16:47:02.300Z"
      },
      {
        "duration": 22,
        "start_time": "2022-01-29T16:47:02.336Z"
      },
      {
        "duration": 44,
        "start_time": "2022-01-29T16:47:02.361Z"
      },
      {
        "duration": 64,
        "start_time": "2022-01-29T16:47:02.408Z"
      },
      {
        "duration": 104,
        "start_time": "2022-01-29T16:47:02.474Z"
      },
      {
        "duration": 4,
        "start_time": "2022-01-29T16:47:02.580Z"
      },
      {
        "duration": 55,
        "start_time": "2022-01-29T16:47:02.587Z"
      },
      {
        "duration": 25,
        "start_time": "2022-01-29T16:47:02.644Z"
      },
      {
        "duration": 1757,
        "start_time": "2022-01-29T16:47:02.671Z"
      },
      {
        "duration": 1770,
        "start_time": "2022-01-29T16:47:04.433Z"
      },
      {
        "duration": 7,
        "start_time": "2022-01-29T16:47:06.205Z"
      },
      {
        "duration": 24,
        "start_time": "2022-01-29T16:47:06.214Z"
      },
      {
        "duration": 20,
        "start_time": "2022-01-29T16:55:46.108Z"
      },
      {
        "duration": 18,
        "start_time": "2022-01-29T16:56:31.138Z"
      },
      {
        "duration": 15,
        "start_time": "2022-01-29T16:57:06.409Z"
      },
      {
        "duration": 294,
        "start_time": "2022-01-30T07:42:40.726Z"
      },
      {
        "duration": 1054,
        "start_time": "2022-01-30T07:42:47.291Z"
      },
      {
        "duration": 404,
        "start_time": "2022-01-30T07:42:48.346Z"
      },
      {
        "duration": 21,
        "start_time": "2022-01-30T07:42:48.752Z"
      },
      {
        "duration": 20,
        "start_time": "2022-01-30T07:42:48.774Z"
      },
      {
        "duration": 9,
        "start_time": "2022-01-30T07:42:48.796Z"
      },
      {
        "duration": 14,
        "start_time": "2022-01-30T07:42:48.806Z"
      },
      {
        "duration": 10,
        "start_time": "2022-01-30T07:42:48.822Z"
      },
      {
        "duration": 33,
        "start_time": "2022-01-30T07:42:48.834Z"
      },
      {
        "duration": 12,
        "start_time": "2022-01-30T07:42:48.869Z"
      },
      {
        "duration": 7,
        "start_time": "2022-01-30T07:42:48.883Z"
      },
      {
        "duration": 11,
        "start_time": "2022-01-30T07:42:48.892Z"
      },
      {
        "duration": 8,
        "start_time": "2022-01-30T07:42:48.905Z"
      },
      {
        "duration": 13,
        "start_time": "2022-01-30T07:42:48.915Z"
      },
      {
        "duration": 40,
        "start_time": "2022-01-30T07:42:48.930Z"
      },
      {
        "duration": 8,
        "start_time": "2022-01-30T07:42:48.971Z"
      },
      {
        "duration": 10,
        "start_time": "2022-01-30T07:42:48.980Z"
      },
      {
        "duration": 9,
        "start_time": "2022-01-30T07:42:48.991Z"
      },
      {
        "duration": 10,
        "start_time": "2022-01-30T07:42:49.001Z"
      },
      {
        "duration": 18,
        "start_time": "2022-01-30T07:42:49.012Z"
      },
      {
        "duration": 11,
        "start_time": "2022-01-30T07:42:49.031Z"
      },
      {
        "duration": 23,
        "start_time": "2022-01-30T07:42:49.043Z"
      },
      {
        "duration": 15,
        "start_time": "2022-01-30T07:42:49.068Z"
      },
      {
        "duration": 8,
        "start_time": "2022-01-30T07:42:49.087Z"
      },
      {
        "duration": 134,
        "start_time": "2022-01-30T07:42:49.097Z"
      },
      {
        "duration": 58,
        "start_time": "2022-01-30T07:42:49.233Z"
      },
      {
        "duration": 77,
        "start_time": "2022-01-30T07:42:49.292Z"
      },
      {
        "duration": 6,
        "start_time": "2022-01-30T07:42:49.371Z"
      },
      {
        "duration": 12,
        "start_time": "2022-01-30T07:42:49.378Z"
      },
      {
        "duration": 69,
        "start_time": "2022-01-30T07:42:49.392Z"
      },
      {
        "duration": 30,
        "start_time": "2022-01-30T07:42:49.462Z"
      },
      {
        "duration": 38,
        "start_time": "2022-01-30T07:42:49.493Z"
      },
      {
        "duration": 52,
        "start_time": "2022-01-30T07:42:49.533Z"
      },
      {
        "duration": 24,
        "start_time": "2022-01-30T07:42:49.587Z"
      },
      {
        "duration": 22,
        "start_time": "2022-01-30T07:42:49.613Z"
      },
      {
        "duration": 31,
        "start_time": "2022-01-30T07:42:49.637Z"
      },
      {
        "duration": 12,
        "start_time": "2022-01-30T07:42:49.670Z"
      },
      {
        "duration": 22,
        "start_time": "2022-01-30T07:42:49.684Z"
      },
      {
        "duration": 13,
        "start_time": "2022-01-30T07:42:49.709Z"
      },
      {
        "duration": 52,
        "start_time": "2022-01-30T07:42:49.724Z"
      },
      {
        "duration": 7,
        "start_time": "2022-01-30T07:42:49.778Z"
      },
      {
        "duration": 5,
        "start_time": "2022-01-30T07:42:49.787Z"
      },
      {
        "duration": 1873,
        "start_time": "2022-01-30T07:42:49.794Z"
      },
      {
        "duration": 4,
        "start_time": "2022-01-30T07:42:51.669Z"
      },
      {
        "duration": 24,
        "start_time": "2022-01-30T07:42:51.675Z"
      },
      {
        "duration": 13,
        "start_time": "2022-01-30T07:42:51.701Z"
      },
      {
        "duration": 12,
        "start_time": "2022-01-30T07:42:51.716Z"
      },
      {
        "duration": 35,
        "start_time": "2022-01-30T07:42:51.730Z"
      },
      {
        "duration": 27,
        "start_time": "2022-01-30T07:42:51.767Z"
      },
      {
        "duration": 26,
        "start_time": "2022-01-30T07:42:51.795Z"
      },
      {
        "duration": 70,
        "start_time": "2022-01-30T07:42:51.823Z"
      },
      {
        "duration": 3,
        "start_time": "2022-01-30T07:42:51.895Z"
      },
      {
        "duration": 23,
        "start_time": "2022-01-30T07:42:51.899Z"
      },
      {
        "duration": 50,
        "start_time": "2022-01-30T07:42:51.924Z"
      },
      {
        "duration": 1004,
        "start_time": "2022-01-30T07:42:51.975Z"
      },
      {
        "duration": 1087,
        "start_time": "2022-01-30T07:42:52.981Z"
      },
      {
        "duration": 4,
        "start_time": "2022-01-30T07:42:54.070Z"
      },
      {
        "duration": 9,
        "start_time": "2022-01-30T07:42:54.076Z"
      },
      {
        "duration": 999,
        "start_time": "2022-01-30T07:45:48.867Z"
      },
      {
        "duration": 1084,
        "start_time": "2022-01-30T07:46:37.847Z"
      },
      {
        "duration": 1059,
        "start_time": "2022-01-30T07:46:44.949Z"
      },
      {
        "duration": 1111,
        "start_time": "2022-01-30T07:47:01.750Z"
      },
      {
        "duration": 424,
        "start_time": "2022-01-30T07:47:02.863Z"
      },
      {
        "duration": 21,
        "start_time": "2022-01-30T07:47:03.289Z"
      },
      {
        "duration": 17,
        "start_time": "2022-01-30T07:47:03.312Z"
      },
      {
        "duration": 9,
        "start_time": "2022-01-30T07:47:03.330Z"
      },
      {
        "duration": 8,
        "start_time": "2022-01-30T07:47:03.340Z"
      },
      {
        "duration": 11,
        "start_time": "2022-01-30T07:47:03.350Z"
      },
      {
        "duration": 17,
        "start_time": "2022-01-30T07:47:03.363Z"
      },
      {
        "duration": 13,
        "start_time": "2022-01-30T07:47:03.381Z"
      },
      {
        "duration": 8,
        "start_time": "2022-01-30T07:47:03.396Z"
      },
      {
        "duration": 9,
        "start_time": "2022-01-30T07:47:03.406Z"
      },
      {
        "duration": 10,
        "start_time": "2022-01-30T07:47:03.416Z"
      },
      {
        "duration": 42,
        "start_time": "2022-01-30T07:47:03.427Z"
      },
      {
        "duration": 13,
        "start_time": "2022-01-30T07:47:03.471Z"
      },
      {
        "duration": 7,
        "start_time": "2022-01-30T07:47:03.485Z"
      },
      {
        "duration": 7,
        "start_time": "2022-01-30T07:47:03.494Z"
      },
      {
        "duration": 16,
        "start_time": "2022-01-30T07:47:03.502Z"
      },
      {
        "duration": 9,
        "start_time": "2022-01-30T07:47:03.519Z"
      },
      {
        "duration": 32,
        "start_time": "2022-01-30T07:47:03.530Z"
      },
      {
        "duration": 9,
        "start_time": "2022-01-30T07:47:03.563Z"
      },
      {
        "duration": 8,
        "start_time": "2022-01-30T07:47:03.574Z"
      },
      {
        "duration": 13,
        "start_time": "2022-01-30T07:47:03.584Z"
      },
      {
        "duration": 9,
        "start_time": "2022-01-30T07:47:03.600Z"
      },
      {
        "duration": 151,
        "start_time": "2022-01-30T07:47:03.611Z"
      },
      {
        "duration": 55,
        "start_time": "2022-01-30T07:47:03.764Z"
      },
      {
        "duration": 96,
        "start_time": "2022-01-30T07:47:03.820Z"
      },
      {
        "duration": 6,
        "start_time": "2022-01-30T07:47:03.918Z"
      },
      {
        "duration": 11,
        "start_time": "2022-01-30T07:47:03.926Z"
      },
      {
        "duration": 60,
        "start_time": "2022-01-30T07:47:03.939Z"
      },
      {
        "duration": 28,
        "start_time": "2022-01-30T07:47:04.001Z"
      },
      {
        "duration": 44,
        "start_time": "2022-01-30T07:47:04.031Z"
      },
      {
        "duration": 29,
        "start_time": "2022-01-30T07:47:04.077Z"
      },
      {
        "duration": 21,
        "start_time": "2022-01-30T07:47:04.107Z"
      },
      {
        "duration": 45,
        "start_time": "2022-01-30T07:47:04.129Z"
      },
      {
        "duration": 7,
        "start_time": "2022-01-30T07:47:04.176Z"
      },
      {
        "duration": 10,
        "start_time": "2022-01-30T07:47:04.185Z"
      },
      {
        "duration": 22,
        "start_time": "2022-01-30T07:47:04.196Z"
      },
      {
        "duration": 11,
        "start_time": "2022-01-30T07:47:04.220Z"
      },
      {
        "duration": 40,
        "start_time": "2022-01-30T07:47:04.233Z"
      },
      {
        "duration": 5,
        "start_time": "2022-01-30T07:47:04.275Z"
      },
      {
        "duration": 4,
        "start_time": "2022-01-30T07:47:04.282Z"
      },
      {
        "duration": 1924,
        "start_time": "2022-01-30T07:47:04.287Z"
      },
      {
        "duration": 4,
        "start_time": "2022-01-30T07:47:06.213Z"
      },
      {
        "duration": 21,
        "start_time": "2022-01-30T07:47:06.218Z"
      },
      {
        "duration": 25,
        "start_time": "2022-01-30T07:47:06.240Z"
      },
      {
        "duration": 12,
        "start_time": "2022-01-30T07:47:06.267Z"
      },
      {
        "duration": 15,
        "start_time": "2022-01-30T07:47:06.281Z"
      },
      {
        "duration": 27,
        "start_time": "2022-01-30T07:47:06.297Z"
      },
      {
        "duration": 51,
        "start_time": "2022-01-30T07:47:06.326Z"
      },
      {
        "duration": 46,
        "start_time": "2022-01-30T07:47:06.379Z"
      },
      {
        "duration": 2,
        "start_time": "2022-01-30T07:47:06.427Z"
      },
      {
        "duration": 38,
        "start_time": "2022-01-30T07:47:06.431Z"
      },
      {
        "duration": 21,
        "start_time": "2022-01-30T07:47:06.471Z"
      },
      {
        "duration": 1027,
        "start_time": "2022-01-30T07:47:06.494Z"
      },
      {
        "duration": 1084,
        "start_time": "2022-01-30T07:47:07.523Z"
      },
      {
        "duration": 990,
        "start_time": "2022-01-30T07:47:08.609Z"
      },
      {
        "duration": 1061,
        "start_time": "2022-01-30T07:47:09.601Z"
      },
      {
        "duration": 5,
        "start_time": "2022-01-30T07:47:10.664Z"
      },
      {
        "duration": 9,
        "start_time": "2022-01-30T07:47:10.671Z"
      },
      {
        "duration": 1068,
        "start_time": "2022-01-30T08:05:45.978Z"
      },
      {
        "duration": 408,
        "start_time": "2022-01-30T08:05:47.048Z"
      },
      {
        "duration": 21,
        "start_time": "2022-01-30T08:05:47.459Z"
      },
      {
        "duration": 18,
        "start_time": "2022-01-30T08:05:47.482Z"
      },
      {
        "duration": 8,
        "start_time": "2022-01-30T08:05:47.502Z"
      },
      {
        "duration": 7,
        "start_time": "2022-01-30T08:05:47.512Z"
      },
      {
        "duration": 9,
        "start_time": "2022-01-30T08:05:47.521Z"
      },
      {
        "duration": 38,
        "start_time": "2022-01-30T08:05:47.533Z"
      },
      {
        "duration": 13,
        "start_time": "2022-01-30T08:05:47.573Z"
      },
      {
        "duration": 7,
        "start_time": "2022-01-30T08:05:47.587Z"
      },
      {
        "duration": 10,
        "start_time": "2022-01-30T08:05:47.596Z"
      },
      {
        "duration": 9,
        "start_time": "2022-01-30T08:05:47.607Z"
      },
      {
        "duration": 43,
        "start_time": "2022-01-30T08:05:47.618Z"
      },
      {
        "duration": 14,
        "start_time": "2022-01-30T08:05:47.662Z"
      },
      {
        "duration": 6,
        "start_time": "2022-01-30T08:05:47.678Z"
      },
      {
        "duration": 8,
        "start_time": "2022-01-30T08:05:47.686Z"
      },
      {
        "duration": 10,
        "start_time": "2022-01-30T08:05:47.695Z"
      },
      {
        "duration": 6,
        "start_time": "2022-01-30T08:05:47.707Z"
      },
      {
        "duration": 8,
        "start_time": "2022-01-30T08:05:47.715Z"
      },
      {
        "duration": 44,
        "start_time": "2022-01-30T08:05:47.725Z"
      },
      {
        "duration": 7,
        "start_time": "2022-01-30T08:05:47.771Z"
      },
      {
        "duration": 10,
        "start_time": "2022-01-30T08:05:47.780Z"
      },
      {
        "duration": 12,
        "start_time": "2022-01-30T08:05:47.793Z"
      },
      {
        "duration": 137,
        "start_time": "2022-01-30T08:05:47.807Z"
      },
      {
        "duration": 54,
        "start_time": "2022-01-30T08:05:47.945Z"
      },
      {
        "duration": 78,
        "start_time": "2022-01-30T08:05:48.000Z"
      },
      {
        "duration": 6,
        "start_time": "2022-01-30T08:05:48.080Z"
      },
      {
        "duration": 12,
        "start_time": "2022-01-30T08:05:48.087Z"
      },
      {
        "duration": 64,
        "start_time": "2022-01-30T08:05:48.100Z"
      },
      {
        "duration": 29,
        "start_time": "2022-01-30T08:05:48.166Z"
      },
      {
        "duration": 38,
        "start_time": "2022-01-30T08:05:48.197Z"
      },
      {
        "duration": 43,
        "start_time": "2022-01-30T08:05:48.236Z"
      },
      {
        "duration": 20,
        "start_time": "2022-01-30T08:05:48.280Z"
      },
      {
        "duration": 19,
        "start_time": "2022-01-30T08:05:48.302Z"
      },
      {
        "duration": 8,
        "start_time": "2022-01-30T08:05:48.322Z"
      },
      {
        "duration": 36,
        "start_time": "2022-01-30T08:05:48.331Z"
      },
      {
        "duration": 23,
        "start_time": "2022-01-30T08:05:48.369Z"
      },
      {
        "duration": 11,
        "start_time": "2022-01-30T08:05:48.394Z"
      },
      {
        "duration": 18,
        "start_time": "2022-01-30T08:05:48.407Z"
      },
      {
        "duration": 7,
        "start_time": "2022-01-30T08:05:48.426Z"
      },
      {
        "duration": 28,
        "start_time": "2022-01-30T08:05:48.434Z"
      },
      {
        "duration": 1864,
        "start_time": "2022-01-30T08:05:48.464Z"
      },
      {
        "duration": 5,
        "start_time": "2022-01-30T08:05:50.330Z"
      },
      {
        "duration": 26,
        "start_time": "2022-01-30T08:05:50.337Z"
      },
      {
        "duration": 14,
        "start_time": "2022-01-30T08:05:50.364Z"
      },
      {
        "duration": 14,
        "start_time": "2022-01-30T08:05:50.380Z"
      },
      {
        "duration": 16,
        "start_time": "2022-01-30T08:05:50.396Z"
      },
      {
        "duration": 54,
        "start_time": "2022-01-30T08:05:50.413Z"
      },
      {
        "duration": 25,
        "start_time": "2022-01-30T08:05:50.469Z"
      },
      {
        "duration": 66,
        "start_time": "2022-01-30T08:05:50.496Z"
      },
      {
        "duration": 2,
        "start_time": "2022-01-30T08:05:50.563Z"
      },
      {
        "duration": 20,
        "start_time": "2022-01-30T08:05:50.567Z"
      },
      {
        "duration": 14,
        "start_time": "2022-01-30T08:05:50.589Z"
      },
      {
        "duration": 1035,
        "start_time": "2022-01-30T08:05:50.604Z"
      },
      {
        "duration": 1101,
        "start_time": "2022-01-30T08:05:51.640Z"
      },
      {
        "duration": 982,
        "start_time": "2022-01-30T08:05:52.743Z"
      },
      {
        "duration": 1071,
        "start_time": "2022-01-30T08:05:53.727Z"
      },
      {
        "duration": 5,
        "start_time": "2022-01-30T08:05:54.799Z"
      },
      {
        "duration": 12,
        "start_time": "2022-01-30T08:05:54.806Z"
      },
      {
        "duration": 1405,
        "start_time": "2022-02-07T19:03:40.371Z"
      },
      {
        "duration": 528,
        "start_time": "2022-02-07T19:03:41.778Z"
      },
      {
        "duration": 28,
        "start_time": "2022-02-07T19:03:42.309Z"
      },
      {
        "duration": 26,
        "start_time": "2022-02-07T19:03:42.340Z"
      },
      {
        "duration": 12,
        "start_time": "2022-02-07T19:03:42.369Z"
      },
      {
        "duration": 49,
        "start_time": "2022-02-07T19:03:42.384Z"
      },
      {
        "duration": 12,
        "start_time": "2022-02-07T19:03:42.436Z"
      },
      {
        "duration": 23,
        "start_time": "2022-02-07T19:03:42.450Z"
      },
      {
        "duration": 51,
        "start_time": "2022-02-07T19:03:42.477Z"
      },
      {
        "duration": 13,
        "start_time": "2022-02-07T19:03:42.531Z"
      },
      {
        "duration": 15,
        "start_time": "2022-02-07T19:03:42.546Z"
      },
      {
        "duration": 14,
        "start_time": "2022-02-07T19:03:42.564Z"
      },
      {
        "duration": 54,
        "start_time": "2022-02-07T19:03:42.581Z"
      },
      {
        "duration": 20,
        "start_time": "2022-02-07T19:03:42.638Z"
      },
      {
        "duration": 11,
        "start_time": "2022-02-07T19:03:42.661Z"
      },
      {
        "duration": 52,
        "start_time": "2022-02-07T19:03:42.675Z"
      },
      {
        "duration": 13,
        "start_time": "2022-02-07T19:03:42.730Z"
      },
      {
        "duration": 9,
        "start_time": "2022-02-07T19:03:42.745Z"
      },
      {
        "duration": 14,
        "start_time": "2022-02-07T19:03:42.757Z"
      },
      {
        "duration": 53,
        "start_time": "2022-02-07T19:03:42.773Z"
      },
      {
        "duration": 9,
        "start_time": "2022-02-07T19:03:42.829Z"
      },
      {
        "duration": 15,
        "start_time": "2022-02-07T19:03:42.841Z"
      },
      {
        "duration": 17,
        "start_time": "2022-02-07T19:03:42.858Z"
      },
      {
        "duration": 226,
        "start_time": "2022-02-07T19:03:42.878Z"
      },
      {
        "duration": 82,
        "start_time": "2022-02-07T19:03:43.107Z"
      },
      {
        "duration": 150,
        "start_time": "2022-02-07T19:03:43.192Z"
      },
      {
        "duration": 9,
        "start_time": "2022-02-07T19:03:43.348Z"
      },
      {
        "duration": 13,
        "start_time": "2022-02-07T19:03:43.362Z"
      },
      {
        "duration": 111,
        "start_time": "2022-02-07T19:03:43.377Z"
      },
      {
        "duration": 51,
        "start_time": "2022-02-07T19:03:43.491Z"
      },
      {
        "duration": 53,
        "start_time": "2022-02-07T19:03:43.544Z"
      },
      {
        "duration": 58,
        "start_time": "2022-02-07T19:03:43.600Z"
      },
      {
        "duration": 28,
        "start_time": "2022-02-07T19:03:43.661Z"
      },
      {
        "duration": 48,
        "start_time": "2022-02-07T19:03:43.692Z"
      },
      {
        "duration": 12,
        "start_time": "2022-02-07T19:03:43.742Z"
      },
      {
        "duration": 12,
        "start_time": "2022-02-07T19:03:43.757Z"
      },
      {
        "duration": 66,
        "start_time": "2022-02-07T19:03:43.772Z"
      },
      {
        "duration": 18,
        "start_time": "2022-02-07T19:03:43.840Z"
      },
      {
        "duration": 27,
        "start_time": "2022-02-07T19:03:43.860Z"
      },
      {
        "duration": 36,
        "start_time": "2022-02-07T19:03:43.889Z"
      },
      {
        "duration": 7,
        "start_time": "2022-02-07T19:03:43.928Z"
      },
      {
        "duration": 3697,
        "start_time": "2022-02-07T19:03:43.938Z"
      },
      {
        "duration": 7,
        "start_time": "2022-02-07T19:03:47.638Z"
      },
      {
        "duration": 31,
        "start_time": "2022-02-07T19:03:47.647Z"
      },
      {
        "duration": 21,
        "start_time": "2022-02-07T19:03:47.681Z"
      },
      {
        "duration": 21,
        "start_time": "2022-02-07T19:03:47.724Z"
      },
      {
        "duration": 29,
        "start_time": "2022-02-07T19:03:47.747Z"
      },
      {
        "duration": 76,
        "start_time": "2022-02-07T19:03:47.779Z"
      },
      {
        "duration": 42,
        "start_time": "2022-02-07T19:03:47.857Z"
      },
      {
        "duration": 99,
        "start_time": "2022-02-07T19:03:47.901Z"
      },
      {
        "duration": 21,
        "start_time": "2022-02-07T19:03:48.002Z"
      },
      {
        "duration": 26,
        "start_time": "2022-02-07T19:03:48.025Z"
      },
      {
        "duration": 75,
        "start_time": "2022-02-07T19:03:48.054Z"
      },
      {
        "duration": 1795,
        "start_time": "2022-02-07T19:03:48.131Z"
      },
      {
        "duration": 2111,
        "start_time": "2022-02-07T19:03:49.928Z"
      },
      {
        "duration": 2151,
        "start_time": "2022-02-07T19:03:52.042Z"
      },
      {
        "duration": 2084,
        "start_time": "2022-02-07T19:03:54.196Z"
      },
      {
        "duration": 7,
        "start_time": "2022-02-07T19:03:56.282Z"
      },
      {
        "duration": 6,
        "start_time": "2022-02-07T19:03:56.292Z"
      },
      {
        "duration": 5,
        "start_time": "2022-02-07T19:04:41.367Z"
      },
      {
        "duration": 7,
        "start_time": "2022-02-07T19:04:45.960Z"
      },
      {
        "duration": 11,
        "start_time": "2022-02-07T19:05:19.272Z"
      },
      {
        "duration": 80,
        "start_time": "2022-02-08T05:12:28.392Z"
      }
    ],
    "kernelspec": {
      "display_name": "Python 3 (ipykernel)",
      "language": "python",
      "name": "python3"
    },
    "language_info": {
      "codemirror_mode": {
        "name": "ipython",
        "version": 3
      },
      "file_extension": ".py",
      "mimetype": "text/x-python",
      "name": "python",
      "nbconvert_exporter": "python",
      "pygments_lexer": "ipython3",
      "version": "3.9.5"
    },
    "toc": {
      "base_numbering": 1,
      "nav_menu": {
        "height": "189px",
        "width": "160px"
      },
      "number_sections": true,
      "sideBar": true,
      "skip_h1_title": true,
      "title_cell": "Table of Contents",
      "title_sidebar": "Contents",
      "toc_cell": false,
      "toc_position": {
        "height": "calc(100% - 180px)",
        "left": "10px",
        "top": "150px",
        "width": "165px"
      },
      "toc_section_display": true,
      "toc_window_display": true
    },
    "colab": {
      "name": "Определение перспективного тарифа для телеком-компании.",
      "provenance": [],
      "collapsed_sections": [],
      "toc_visible": true
    }
  },
  "nbformat": 4,
  "nbformat_minor": 0
}