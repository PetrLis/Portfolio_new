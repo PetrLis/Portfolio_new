{
  "cells": [
    {
      "cell_type": "markdown",
      "id": "4JFprwGthyeg",
      "metadata": {
        "id": "4JFprwGthyeg"
      },
      "source": [
        "# Оценка результатов А/В тестирования изменений, связанных с внедрением улучшенной рекомендательной системы."
      ]
    },
    {
      "cell_type": "markdown",
      "id": "0afc3062",
      "metadata": {
        "toc": true,
        "id": "0afc3062"
      },
      "source": [
        "<h1>Оглавление<span class=\"tocSkip\"></span></h1>\n",
        "<div class=\"toc\"><ul class=\"toc-item\"><li><span><a href=\"#Задача\" data-toc-modified-id=\"Задача-1\"><span class=\"toc-item-num\">1&nbsp;&nbsp;</span>Задача</a></span><ul class=\"toc-item\"><li><span><a href=\"#Техническое-задание\" data-toc-modified-id=\"Техническое-задание-1.1\"><span class=\"toc-item-num\">1.1&nbsp;&nbsp;</span>Техническое задание</a></span></li><li><span><a href=\"#Данные\" data-toc-modified-id=\"Данные-1.2\"><span class=\"toc-item-num\">1.2&nbsp;&nbsp;</span>Данные</a></span></li><li><span><a href=\"#Описание-данных\" data-toc-modified-id=\"Описание-данных-1.3\"><span class=\"toc-item-num\">1.3&nbsp;&nbsp;</span>Описание данных</a></span></li></ul></li><li><span><a href=\"#Исследуем-данные\" data-toc-modified-id=\"Исследуем-данные-2\"><span class=\"toc-item-num\">2&nbsp;&nbsp;</span>Исследуем данные</a></span><ul class=\"toc-item\"><li><span><a href=\"#Оценим-корректность-проведения-теста.\" data-toc-modified-id=\"Оценим-корректность-проведения-теста.-2.1\"><span class=\"toc-item-num\">2.1&nbsp;&nbsp;</span>Оценим корректность проведения теста.</a></span></li></ul></li><li><span><a href=\"#Проведите-исследовательский-анализ-данных\" data-toc-modified-id=\"Проведите-исследовательский-анализ-данных-3\"><span class=\"toc-item-num\">3&nbsp;&nbsp;</span>Проведите исследовательский анализ данных</a></span><ul class=\"toc-item\"><li><span><a href=\"#Распределение-числа-событий-по-дням.\" data-toc-modified-id=\"Распределение-числа-событий-по-дням.-3.1\"><span class=\"toc-item-num\">3.1&nbsp;&nbsp;</span>Распределение числа событий по дням.</a></span></li><li><span><a href=\"#Вывод\" data-toc-modified-id=\"Вывод-3.2\"><span class=\"toc-item-num\">3.2&nbsp;&nbsp;</span>Вывод</a></span></li></ul></li><li><span><a href=\"#Оценим-результаты-A/B-тестирования\" data-toc-modified-id=\"Оценим-результаты-A/B-тестирования-4\"><span class=\"toc-item-num\">4&nbsp;&nbsp;</span>Оценим результаты A/B-тестирования</a></span></li><li><span><a href=\"#Вывод\" data-toc-modified-id=\"Вывод-5\"><span class=\"toc-item-num\">5&nbsp;&nbsp;</span>Вывод</a></span></li><li><span><a href=\"#Общий-вывод\" data-toc-modified-id=\"Общий-вывод-6\"><span class=\"toc-item-num\">6&nbsp;&nbsp;</span>Общий вывод</a></span></li></ul></div>"
      ]
    },
    {
      "cell_type": "markdown",
      "id": "8JRj2XUT2i87",
      "metadata": {
        "id": "8JRj2XUT2i87"
      },
      "source": [
        "\n",
        "\n",
        "\n",
        "## Задача\n",
        "\n",
        "Выяснить влияние изменений, связанных с внедрением улучшенной рекомендательной системы.\n",
        "\n",
        "### Техническое задание\n",
        "\n",
        "- Название теста: `recommender_system_test`;\n",
        "- группы: А — контрольная, B — новая платёжная воронка;\n",
        "- дата запуска: 2020-12-07;\n",
        "- дата остановки набора новых пользователей: 2020-12-21;\n",
        "- дата остановки: 2021-01-04;\n",
        "- аудитория: 15% новых пользователей из региона EU;\n",
        "- назначение теста: тестирование изменений, связанных с внедрением улучшенной рекомендательной системы;\n",
        "- ожидаемое количество участников теста: 6000.\n",
        "- ожидаемый эффект: за 14 дней с момента регистрации пользователи покажут улучшение каждой метрики не менее, чем на 10%:\n",
        "    - конверсии в просмотр карточек товаров — событие `product_page`,\n",
        "    - просмотры корзины — `product_cart`,\n",
        "    - покупки — `purchase`.\n",
        "    \n",
        "\n",
        "### Данные\n",
        "\n",
        "[final_ab_events.csv]\n",
        "\n",
        "[final_ab_project_marketing_events.csv]\n",
        "\n",
        "[final_ab_new_users.csv]\n",
        "\n",
        "[final_ab_participants.csv]\n",
        "\n",
        "### Описание данных\n",
        "\n",
        "`ab_project_marketing_events.csv` — календарь маркетинговых событий на 2020 год.\n",
        "\n",
        "Структура файла:\n",
        "\n",
        "- `name` — название маркетингового события;\n",
        "- `regions` — регионы, в которых будет проводиться рекламная кампания;\n",
        "- `start_dt` — дата начала кампании;\n",
        "- `finish_dt` — дата завершения кампании.\n",
        "\n",
        "`final_ab_new_users.csv` — пользователи, зарегистрировавшиеся с 7 по 21 декабря 2020 года.\n",
        "\n",
        "Структура файла:\n",
        "\n",
        "- `user_id` — идентификатор пользователя;\n",
        "- `first_date` — дата регистрации;\n",
        "- `region` — регион пользователя;\n",
        "- `device` — устройство, с которого происходила регистрация.\n",
        "\n",
        "`final_ab_events.csv` — действия новых пользователей в период с 7 декабря 2020 по 4 января 2021 года.\n",
        "\n",
        "Структура файла:\n",
        "\n",
        "- `user_id` — идентификатор пользователя;\n",
        "- `event_dt` — дата и время покупки;\n",
        "- `event_name` — тип события;\n",
        "- `details` — дополнительные данные о событии. Например, для покупок, `purchase,` в этом поле хранится стоимость покупки в долларах.\n",
        "\n",
        "`final_ab_participants.csv` — таблица участников тестов.\n",
        "\n",
        "Структура файла:\n",
        "\n",
        "- `user_id` — идентификатор пользователя;\n",
        "- `ab_test` — название теста;\n",
        "- `group` — группа пользователя.\n",
        "\n"
      ]
    },
    {
      "cell_type": "code",
      "execution_count": 1,
      "id": "BKh4Ujcp6r2t",
      "metadata": {
        "id": "BKh4Ujcp6r2t"
      },
      "outputs": [],
      "source": [
        "# Загружаем необходимые библиотеки\n",
        "import pandas as pd\n",
        "\n",
        "import matplotlib.pyplot as plt\n",
        "import seaborn as sns\n",
        "import scipy.stats as stats\n",
        "from scipy import stats as st\n",
        "from statsmodels.stats.proportion import proportions_ztest\n",
        "from datetime import datetime\n",
        "import math as mth\n",
        "import numpy as np\n",
        "from plotly import graph_objects as go\n",
        "\n",
        "\n",
        "pd.set_option('display.max_colwidth', 150)\n",
        "#pd.set_option('display.max_rows', 3000)\n",
        "\n",
        "import warnings\n",
        "warnings.filterwarnings('ignore')\n"
      ]
    },
    {
      "cell_type": "markdown",
      "id": "hyrvovPNo7XD",
      "metadata": {
        "id": "hyrvovPNo7XD"
      },
      "source": [
        "## Исследуем данные"
      ]
    },
    {
      "cell_type": "code",
      "execution_count": 4,
      "id": "8bd8239e-1301-4577-b254-f73e1366c3bb",
      "metadata": {
        "colab": {
          "base_uri": "https://localhost:8080/"
        },
        "id": "8bd8239e-1301-4577-b254-f73e1366c3bb",
        "outputId": "4f17f2c0-b979-4b1b-e395-47f00f3488c9"
      },
      "outputs": [
        {
          "output_type": "stream",
          "name": "stdout",
          "text": [
            "Данные загружены успешно!\n"
          ]
        }
      ],
      "source": [
        "# загружаю файлы с данными\n",
        "try:\n",
        "  events = pd.read_csv('https://code.s3.yandex.net/datasets/final_ab_events.csv')\n",
        "  marketing_events = pd.read_csv('https://code.s3.yandex.net/datasets/ab_project_marketing_events.csv')\n",
        "  users = pd.read_csv('https://code.s3.yandex.net/datasets/final_ab_new_users.csv')\n",
        "  participants = pd.read_csv('https://code.s3.yandex.net/datasets/final_ab_participants.csv')\n",
        "finally:\n",
        "  print('Данные загружены успешно!')"
      ]
    },
    {
      "cell_type": "code",
      "execution_count": 5,
      "id": "wgM5QdkSKgSl",
      "metadata": {
        "id": "wgM5QdkSKgSl"
      },
      "outputs": [],
      "source": [
        "# Для вывода общей информации применим функцию info_output\n",
        "def info_output(data):\n",
        " \n",
        "   print('Информация о датасете')\n",
        "   display(data.shape)\n",
        "   print('----------------------------------------------------')\n",
        "   display(data.info())\n",
        "   print('----------------------------------------------------')\n",
        "   print('Первые строки датасета')\n",
        "   display(data.head())\n",
        "   print('----------------------------------------------------')\n",
        "   print('Количество пропусков по столбцам')\n",
        "   display(data.isna().sum())\n",
        "   print('----------------------------------------------------')\n",
        "   print('Количество дубликатов: {0:.0f}'.format(data.duplicated().sum()))\n",
        "   print('Доля дубликатов: {0:.3%}'.format((data.duplicated().sum()/len(data))))\n",
        "   print('----------------------------------------------------')\n",
        "   print('Статистическая информация')\n",
        "   display(data.describe())\n",
        "\n",
        "\n"
      ]
    },
    {
      "cell_type": "code",
      "execution_count": 6,
      "id": "bcrpmFbkfrzA",
      "metadata": {
        "colab": {
          "base_uri": "https://localhost:8080/",
          "height": 1000
        },
        "id": "bcrpmFbkfrzA",
        "outputId": "eeec4ab1-9dfa-4b03-87d8-9be92951750b"
      },
      "outputs": [
        {
          "output_type": "stream",
          "name": "stdout",
          "text": [
            "events\n",
            " \n",
            "Информация о датасете\n"
          ]
        },
        {
          "output_type": "display_data",
          "data": {
            "text/plain": [
              "(440317, 4)"
            ]
          },
          "metadata": {}
        },
        {
          "output_type": "stream",
          "name": "stdout",
          "text": [
            "----------------------------------------------------\n",
            "<class 'pandas.core.frame.DataFrame'>\n",
            "RangeIndex: 440317 entries, 0 to 440316\n",
            "Data columns (total 4 columns):\n",
            " #   Column      Non-Null Count   Dtype  \n",
            "---  ------      --------------   -----  \n",
            " 0   user_id     440317 non-null  object \n",
            " 1   event_dt    440317 non-null  object \n",
            " 2   event_name  440317 non-null  object \n",
            " 3   details     62740 non-null   float64\n",
            "dtypes: float64(1), object(3)\n",
            "memory usage: 13.4+ MB\n"
          ]
        },
        {
          "output_type": "display_data",
          "data": {
            "text/plain": [
              "None"
            ]
          },
          "metadata": {}
        },
        {
          "output_type": "stream",
          "name": "stdout",
          "text": [
            "----------------------------------------------------\n",
            "Первые строки датасета\n"
          ]
        },
        {
          "output_type": "display_data",
          "data": {
            "text/plain": [
              "            user_id             event_dt event_name  details\n",
              "0  E1BDDCE0DAFA2679  2020-12-07 20:22:03   purchase    99.99\n",
              "1  7B6452F081F49504  2020-12-07 09:22:53   purchase     9.99\n",
              "2  9CD9F34546DF254C  2020-12-07 12:59:29   purchase     4.99\n",
              "3  96F27A054B191457  2020-12-07 04:02:40   purchase     4.99\n",
              "4  1FD7660FDF94CA1F  2020-12-07 10:15:09   purchase     4.99"
            ],
            "text/html": [
              "\n",
              "  <div id=\"df-919f2577-0f65-49dc-995b-1c2c7d50cd31\">\n",
              "    <div class=\"colab-df-container\">\n",
              "      <div>\n",
              "<style scoped>\n",
              "    .dataframe tbody tr th:only-of-type {\n",
              "        vertical-align: middle;\n",
              "    }\n",
              "\n",
              "    .dataframe tbody tr th {\n",
              "        vertical-align: top;\n",
              "    }\n",
              "\n",
              "    .dataframe thead th {\n",
              "        text-align: right;\n",
              "    }\n",
              "</style>\n",
              "<table border=\"1\" class=\"dataframe\">\n",
              "  <thead>\n",
              "    <tr style=\"text-align: right;\">\n",
              "      <th></th>\n",
              "      <th>user_id</th>\n",
              "      <th>event_dt</th>\n",
              "      <th>event_name</th>\n",
              "      <th>details</th>\n",
              "    </tr>\n",
              "  </thead>\n",
              "  <tbody>\n",
              "    <tr>\n",
              "      <th>0</th>\n",
              "      <td>E1BDDCE0DAFA2679</td>\n",
              "      <td>2020-12-07 20:22:03</td>\n",
              "      <td>purchase</td>\n",
              "      <td>99.99</td>\n",
              "    </tr>\n",
              "    <tr>\n",
              "      <th>1</th>\n",
              "      <td>7B6452F081F49504</td>\n",
              "      <td>2020-12-07 09:22:53</td>\n",
              "      <td>purchase</td>\n",
              "      <td>9.99</td>\n",
              "    </tr>\n",
              "    <tr>\n",
              "      <th>2</th>\n",
              "      <td>9CD9F34546DF254C</td>\n",
              "      <td>2020-12-07 12:59:29</td>\n",
              "      <td>purchase</td>\n",
              "      <td>4.99</td>\n",
              "    </tr>\n",
              "    <tr>\n",
              "      <th>3</th>\n",
              "      <td>96F27A054B191457</td>\n",
              "      <td>2020-12-07 04:02:40</td>\n",
              "      <td>purchase</td>\n",
              "      <td>4.99</td>\n",
              "    </tr>\n",
              "    <tr>\n",
              "      <th>4</th>\n",
              "      <td>1FD7660FDF94CA1F</td>\n",
              "      <td>2020-12-07 10:15:09</td>\n",
              "      <td>purchase</td>\n",
              "      <td>4.99</td>\n",
              "    </tr>\n",
              "  </tbody>\n",
              "</table>\n",
              "</div>\n",
              "      <button class=\"colab-df-convert\" onclick=\"convertToInteractive('df-919f2577-0f65-49dc-995b-1c2c7d50cd31')\"\n",
              "              title=\"Convert this dataframe to an interactive table.\"\n",
              "              style=\"display:none;\">\n",
              "        \n",
              "  <svg xmlns=\"http://www.w3.org/2000/svg\" height=\"24px\"viewBox=\"0 0 24 24\"\n",
              "       width=\"24px\">\n",
              "    <path d=\"M0 0h24v24H0V0z\" fill=\"none\"/>\n",
              "    <path d=\"M18.56 5.44l.94 2.06.94-2.06 2.06-.94-2.06-.94-.94-2.06-.94 2.06-2.06.94zm-11 1L8.5 8.5l.94-2.06 2.06-.94-2.06-.94L8.5 2.5l-.94 2.06-2.06.94zm10 10l.94 2.06.94-2.06 2.06-.94-2.06-.94-.94-2.06-.94 2.06-2.06.94z\"/><path d=\"M17.41 7.96l-1.37-1.37c-.4-.4-.92-.59-1.43-.59-.52 0-1.04.2-1.43.59L10.3 9.45l-7.72 7.72c-.78.78-.78 2.05 0 2.83L4 21.41c.39.39.9.59 1.41.59.51 0 1.02-.2 1.41-.59l7.78-7.78 2.81-2.81c.8-.78.8-2.07 0-2.86zM5.41 20L4 18.59l7.72-7.72 1.47 1.35L5.41 20z\"/>\n",
              "  </svg>\n",
              "      </button>\n",
              "      \n",
              "  <style>\n",
              "    .colab-df-container {\n",
              "      display:flex;\n",
              "      flex-wrap:wrap;\n",
              "      gap: 12px;\n",
              "    }\n",
              "\n",
              "    .colab-df-convert {\n",
              "      background-color: #E8F0FE;\n",
              "      border: none;\n",
              "      border-radius: 50%;\n",
              "      cursor: pointer;\n",
              "      display: none;\n",
              "      fill: #1967D2;\n",
              "      height: 32px;\n",
              "      padding: 0 0 0 0;\n",
              "      width: 32px;\n",
              "    }\n",
              "\n",
              "    .colab-df-convert:hover {\n",
              "      background-color: #E2EBFA;\n",
              "      box-shadow: 0px 1px 2px rgba(60, 64, 67, 0.3), 0px 1px 3px 1px rgba(60, 64, 67, 0.15);\n",
              "      fill: #174EA6;\n",
              "    }\n",
              "\n",
              "    [theme=dark] .colab-df-convert {\n",
              "      background-color: #3B4455;\n",
              "      fill: #D2E3FC;\n",
              "    }\n",
              "\n",
              "    [theme=dark] .colab-df-convert:hover {\n",
              "      background-color: #434B5C;\n",
              "      box-shadow: 0px 1px 3px 1px rgba(0, 0, 0, 0.15);\n",
              "      filter: drop-shadow(0px 1px 2px rgba(0, 0, 0, 0.3));\n",
              "      fill: #FFFFFF;\n",
              "    }\n",
              "  </style>\n",
              "\n",
              "      <script>\n",
              "        const buttonEl =\n",
              "          document.querySelector('#df-919f2577-0f65-49dc-995b-1c2c7d50cd31 button.colab-df-convert');\n",
              "        buttonEl.style.display =\n",
              "          google.colab.kernel.accessAllowed ? 'block' : 'none';\n",
              "\n",
              "        async function convertToInteractive(key) {\n",
              "          const element = document.querySelector('#df-919f2577-0f65-49dc-995b-1c2c7d50cd31');\n",
              "          const dataTable =\n",
              "            await google.colab.kernel.invokeFunction('convertToInteractive',\n",
              "                                                     [key], {});\n",
              "          if (!dataTable) return;\n",
              "\n",
              "          const docLinkHtml = 'Like what you see? Visit the ' +\n",
              "            '<a target=\"_blank\" href=https://colab.research.google.com/notebooks/data_table.ipynb>data table notebook</a>'\n",
              "            + ' to learn more about interactive tables.';\n",
              "          element.innerHTML = '';\n",
              "          dataTable['output_type'] = 'display_data';\n",
              "          await google.colab.output.renderOutput(dataTable, element);\n",
              "          const docLink = document.createElement('div');\n",
              "          docLink.innerHTML = docLinkHtml;\n",
              "          element.appendChild(docLink);\n",
              "        }\n",
              "      </script>\n",
              "    </div>\n",
              "  </div>\n",
              "  "
            ]
          },
          "metadata": {}
        },
        {
          "output_type": "stream",
          "name": "stdout",
          "text": [
            "----------------------------------------------------\n",
            "Количество пропусков по столбцам\n"
          ]
        },
        {
          "output_type": "display_data",
          "data": {
            "text/plain": [
              "user_id            0\n",
              "event_dt           0\n",
              "event_name         0\n",
              "details       377577\n",
              "dtype: int64"
            ]
          },
          "metadata": {}
        },
        {
          "output_type": "stream",
          "name": "stdout",
          "text": [
            "----------------------------------------------------\n",
            "Количество дубликатов: 0\n",
            "Доля дубликатов: 0.000%\n",
            "----------------------------------------------------\n",
            "Статистическая информация\n"
          ]
        },
        {
          "output_type": "display_data",
          "data": {
            "text/plain": [
              "            details\n",
              "count  62740.000000\n",
              "mean      23.877631\n",
              "std       72.180465\n",
              "min        4.990000\n",
              "25%        4.990000\n",
              "50%        4.990000\n",
              "75%        9.990000\n",
              "max      499.990000"
            ],
            "text/html": [
              "\n",
              "  <div id=\"df-87b7f7b9-1415-45e1-93fd-772395a03b3b\">\n",
              "    <div class=\"colab-df-container\">\n",
              "      <div>\n",
              "<style scoped>\n",
              "    .dataframe tbody tr th:only-of-type {\n",
              "        vertical-align: middle;\n",
              "    }\n",
              "\n",
              "    .dataframe tbody tr th {\n",
              "        vertical-align: top;\n",
              "    }\n",
              "\n",
              "    .dataframe thead th {\n",
              "        text-align: right;\n",
              "    }\n",
              "</style>\n",
              "<table border=\"1\" class=\"dataframe\">\n",
              "  <thead>\n",
              "    <tr style=\"text-align: right;\">\n",
              "      <th></th>\n",
              "      <th>details</th>\n",
              "    </tr>\n",
              "  </thead>\n",
              "  <tbody>\n",
              "    <tr>\n",
              "      <th>count</th>\n",
              "      <td>62740.000000</td>\n",
              "    </tr>\n",
              "    <tr>\n",
              "      <th>mean</th>\n",
              "      <td>23.877631</td>\n",
              "    </tr>\n",
              "    <tr>\n",
              "      <th>std</th>\n",
              "      <td>72.180465</td>\n",
              "    </tr>\n",
              "    <tr>\n",
              "      <th>min</th>\n",
              "      <td>4.990000</td>\n",
              "    </tr>\n",
              "    <tr>\n",
              "      <th>25%</th>\n",
              "      <td>4.990000</td>\n",
              "    </tr>\n",
              "    <tr>\n",
              "      <th>50%</th>\n",
              "      <td>4.990000</td>\n",
              "    </tr>\n",
              "    <tr>\n",
              "      <th>75%</th>\n",
              "      <td>9.990000</td>\n",
              "    </tr>\n",
              "    <tr>\n",
              "      <th>max</th>\n",
              "      <td>499.990000</td>\n",
              "    </tr>\n",
              "  </tbody>\n",
              "</table>\n",
              "</div>\n",
              "      <button class=\"colab-df-convert\" onclick=\"convertToInteractive('df-87b7f7b9-1415-45e1-93fd-772395a03b3b')\"\n",
              "              title=\"Convert this dataframe to an interactive table.\"\n",
              "              style=\"display:none;\">\n",
              "        \n",
              "  <svg xmlns=\"http://www.w3.org/2000/svg\" height=\"24px\"viewBox=\"0 0 24 24\"\n",
              "       width=\"24px\">\n",
              "    <path d=\"M0 0h24v24H0V0z\" fill=\"none\"/>\n",
              "    <path d=\"M18.56 5.44l.94 2.06.94-2.06 2.06-.94-2.06-.94-.94-2.06-.94 2.06-2.06.94zm-11 1L8.5 8.5l.94-2.06 2.06-.94-2.06-.94L8.5 2.5l-.94 2.06-2.06.94zm10 10l.94 2.06.94-2.06 2.06-.94-2.06-.94-.94-2.06-.94 2.06-2.06.94z\"/><path d=\"M17.41 7.96l-1.37-1.37c-.4-.4-.92-.59-1.43-.59-.52 0-1.04.2-1.43.59L10.3 9.45l-7.72 7.72c-.78.78-.78 2.05 0 2.83L4 21.41c.39.39.9.59 1.41.59.51 0 1.02-.2 1.41-.59l7.78-7.78 2.81-2.81c.8-.78.8-2.07 0-2.86zM5.41 20L4 18.59l7.72-7.72 1.47 1.35L5.41 20z\"/>\n",
              "  </svg>\n",
              "      </button>\n",
              "      \n",
              "  <style>\n",
              "    .colab-df-container {\n",
              "      display:flex;\n",
              "      flex-wrap:wrap;\n",
              "      gap: 12px;\n",
              "    }\n",
              "\n",
              "    .colab-df-convert {\n",
              "      background-color: #E8F0FE;\n",
              "      border: none;\n",
              "      border-radius: 50%;\n",
              "      cursor: pointer;\n",
              "      display: none;\n",
              "      fill: #1967D2;\n",
              "      height: 32px;\n",
              "      padding: 0 0 0 0;\n",
              "      width: 32px;\n",
              "    }\n",
              "\n",
              "    .colab-df-convert:hover {\n",
              "      background-color: #E2EBFA;\n",
              "      box-shadow: 0px 1px 2px rgba(60, 64, 67, 0.3), 0px 1px 3px 1px rgba(60, 64, 67, 0.15);\n",
              "      fill: #174EA6;\n",
              "    }\n",
              "\n",
              "    [theme=dark] .colab-df-convert {\n",
              "      background-color: #3B4455;\n",
              "      fill: #D2E3FC;\n",
              "    }\n",
              "\n",
              "    [theme=dark] .colab-df-convert:hover {\n",
              "      background-color: #434B5C;\n",
              "      box-shadow: 0px 1px 3px 1px rgba(0, 0, 0, 0.15);\n",
              "      filter: drop-shadow(0px 1px 2px rgba(0, 0, 0, 0.3));\n",
              "      fill: #FFFFFF;\n",
              "    }\n",
              "  </style>\n",
              "\n",
              "      <script>\n",
              "        const buttonEl =\n",
              "          document.querySelector('#df-87b7f7b9-1415-45e1-93fd-772395a03b3b button.colab-df-convert');\n",
              "        buttonEl.style.display =\n",
              "          google.colab.kernel.accessAllowed ? 'block' : 'none';\n",
              "\n",
              "        async function convertToInteractive(key) {\n",
              "          const element = document.querySelector('#df-87b7f7b9-1415-45e1-93fd-772395a03b3b');\n",
              "          const dataTable =\n",
              "            await google.colab.kernel.invokeFunction('convertToInteractive',\n",
              "                                                     [key], {});\n",
              "          if (!dataTable) return;\n",
              "\n",
              "          const docLinkHtml = 'Like what you see? Visit the ' +\n",
              "            '<a target=\"_blank\" href=https://colab.research.google.com/notebooks/data_table.ipynb>data table notebook</a>'\n",
              "            + ' to learn more about interactive tables.';\n",
              "          element.innerHTML = '';\n",
              "          dataTable['output_type'] = 'display_data';\n",
              "          await google.colab.output.renderOutput(dataTable, element);\n",
              "          const docLink = document.createElement('div');\n",
              "          docLink.innerHTML = docLinkHtml;\n",
              "          element.appendChild(docLink);\n",
              "        }\n",
              "      </script>\n",
              "    </div>\n",
              "  </div>\n",
              "  "
            ]
          },
          "metadata": {}
        },
        {
          "output_type": "stream",
          "name": "stdout",
          "text": [
            "------------------------------------------------- \n",
            "marketing_events\n",
            " \n",
            "Информация о датасете\n"
          ]
        },
        {
          "output_type": "display_data",
          "data": {
            "text/plain": [
              "(14, 4)"
            ]
          },
          "metadata": {}
        },
        {
          "output_type": "stream",
          "name": "stdout",
          "text": [
            "----------------------------------------------------\n",
            "<class 'pandas.core.frame.DataFrame'>\n",
            "RangeIndex: 14 entries, 0 to 13\n",
            "Data columns (total 4 columns):\n",
            " #   Column     Non-Null Count  Dtype \n",
            "---  ------     --------------  ----- \n",
            " 0   name       14 non-null     object\n",
            " 1   regions    14 non-null     object\n",
            " 2   start_dt   14 non-null     object\n",
            " 3   finish_dt  14 non-null     object\n",
            "dtypes: object(4)\n",
            "memory usage: 576.0+ bytes\n"
          ]
        },
        {
          "output_type": "display_data",
          "data": {
            "text/plain": [
              "None"
            ]
          },
          "metadata": {}
        },
        {
          "output_type": "stream",
          "name": "stdout",
          "text": [
            "----------------------------------------------------\n",
            "Первые строки датасета\n"
          ]
        },
        {
          "output_type": "display_data",
          "data": {
            "text/plain": [
              "                           name                   regions    start_dt  \\\n",
              "0      Christmas&New Year Promo             EU, N.America  2020-12-25   \n",
              "1  St. Valentine's Day Giveaway  EU, CIS, APAC, N.America  2020-02-14   \n",
              "2        St. Patric's Day Promo             EU, N.America  2020-03-17   \n",
              "3                  Easter Promo  EU, CIS, APAC, N.America  2020-04-12   \n",
              "4             4th of July Promo                 N.America  2020-07-04   \n",
              "\n",
              "    finish_dt  \n",
              "0  2021-01-03  \n",
              "1  2020-02-16  \n",
              "2  2020-03-19  \n",
              "3  2020-04-19  \n",
              "4  2020-07-11  "
            ],
            "text/html": [
              "\n",
              "  <div id=\"df-e941f39d-2d38-4b06-9c3a-bf56c1dacf91\">\n",
              "    <div class=\"colab-df-container\">\n",
              "      <div>\n",
              "<style scoped>\n",
              "    .dataframe tbody tr th:only-of-type {\n",
              "        vertical-align: middle;\n",
              "    }\n",
              "\n",
              "    .dataframe tbody tr th {\n",
              "        vertical-align: top;\n",
              "    }\n",
              "\n",
              "    .dataframe thead th {\n",
              "        text-align: right;\n",
              "    }\n",
              "</style>\n",
              "<table border=\"1\" class=\"dataframe\">\n",
              "  <thead>\n",
              "    <tr style=\"text-align: right;\">\n",
              "      <th></th>\n",
              "      <th>name</th>\n",
              "      <th>regions</th>\n",
              "      <th>start_dt</th>\n",
              "      <th>finish_dt</th>\n",
              "    </tr>\n",
              "  </thead>\n",
              "  <tbody>\n",
              "    <tr>\n",
              "      <th>0</th>\n",
              "      <td>Christmas&amp;New Year Promo</td>\n",
              "      <td>EU, N.America</td>\n",
              "      <td>2020-12-25</td>\n",
              "      <td>2021-01-03</td>\n",
              "    </tr>\n",
              "    <tr>\n",
              "      <th>1</th>\n",
              "      <td>St. Valentine's Day Giveaway</td>\n",
              "      <td>EU, CIS, APAC, N.America</td>\n",
              "      <td>2020-02-14</td>\n",
              "      <td>2020-02-16</td>\n",
              "    </tr>\n",
              "    <tr>\n",
              "      <th>2</th>\n",
              "      <td>St. Patric's Day Promo</td>\n",
              "      <td>EU, N.America</td>\n",
              "      <td>2020-03-17</td>\n",
              "      <td>2020-03-19</td>\n",
              "    </tr>\n",
              "    <tr>\n",
              "      <th>3</th>\n",
              "      <td>Easter Promo</td>\n",
              "      <td>EU, CIS, APAC, N.America</td>\n",
              "      <td>2020-04-12</td>\n",
              "      <td>2020-04-19</td>\n",
              "    </tr>\n",
              "    <tr>\n",
              "      <th>4</th>\n",
              "      <td>4th of July Promo</td>\n",
              "      <td>N.America</td>\n",
              "      <td>2020-07-04</td>\n",
              "      <td>2020-07-11</td>\n",
              "    </tr>\n",
              "  </tbody>\n",
              "</table>\n",
              "</div>\n",
              "      <button class=\"colab-df-convert\" onclick=\"convertToInteractive('df-e941f39d-2d38-4b06-9c3a-bf56c1dacf91')\"\n",
              "              title=\"Convert this dataframe to an interactive table.\"\n",
              "              style=\"display:none;\">\n",
              "        \n",
              "  <svg xmlns=\"http://www.w3.org/2000/svg\" height=\"24px\"viewBox=\"0 0 24 24\"\n",
              "       width=\"24px\">\n",
              "    <path d=\"M0 0h24v24H0V0z\" fill=\"none\"/>\n",
              "    <path d=\"M18.56 5.44l.94 2.06.94-2.06 2.06-.94-2.06-.94-.94-2.06-.94 2.06-2.06.94zm-11 1L8.5 8.5l.94-2.06 2.06-.94-2.06-.94L8.5 2.5l-.94 2.06-2.06.94zm10 10l.94 2.06.94-2.06 2.06-.94-2.06-.94-.94-2.06-.94 2.06-2.06.94z\"/><path d=\"M17.41 7.96l-1.37-1.37c-.4-.4-.92-.59-1.43-.59-.52 0-1.04.2-1.43.59L10.3 9.45l-7.72 7.72c-.78.78-.78 2.05 0 2.83L4 21.41c.39.39.9.59 1.41.59.51 0 1.02-.2 1.41-.59l7.78-7.78 2.81-2.81c.8-.78.8-2.07 0-2.86zM5.41 20L4 18.59l7.72-7.72 1.47 1.35L5.41 20z\"/>\n",
              "  </svg>\n",
              "      </button>\n",
              "      \n",
              "  <style>\n",
              "    .colab-df-container {\n",
              "      display:flex;\n",
              "      flex-wrap:wrap;\n",
              "      gap: 12px;\n",
              "    }\n",
              "\n",
              "    .colab-df-convert {\n",
              "      background-color: #E8F0FE;\n",
              "      border: none;\n",
              "      border-radius: 50%;\n",
              "      cursor: pointer;\n",
              "      display: none;\n",
              "      fill: #1967D2;\n",
              "      height: 32px;\n",
              "      padding: 0 0 0 0;\n",
              "      width: 32px;\n",
              "    }\n",
              "\n",
              "    .colab-df-convert:hover {\n",
              "      background-color: #E2EBFA;\n",
              "      box-shadow: 0px 1px 2px rgba(60, 64, 67, 0.3), 0px 1px 3px 1px rgba(60, 64, 67, 0.15);\n",
              "      fill: #174EA6;\n",
              "    }\n",
              "\n",
              "    [theme=dark] .colab-df-convert {\n",
              "      background-color: #3B4455;\n",
              "      fill: #D2E3FC;\n",
              "    }\n",
              "\n",
              "    [theme=dark] .colab-df-convert:hover {\n",
              "      background-color: #434B5C;\n",
              "      box-shadow: 0px 1px 3px 1px rgba(0, 0, 0, 0.15);\n",
              "      filter: drop-shadow(0px 1px 2px rgba(0, 0, 0, 0.3));\n",
              "      fill: #FFFFFF;\n",
              "    }\n",
              "  </style>\n",
              "\n",
              "      <script>\n",
              "        const buttonEl =\n",
              "          document.querySelector('#df-e941f39d-2d38-4b06-9c3a-bf56c1dacf91 button.colab-df-convert');\n",
              "        buttonEl.style.display =\n",
              "          google.colab.kernel.accessAllowed ? 'block' : 'none';\n",
              "\n",
              "        async function convertToInteractive(key) {\n",
              "          const element = document.querySelector('#df-e941f39d-2d38-4b06-9c3a-bf56c1dacf91');\n",
              "          const dataTable =\n",
              "            await google.colab.kernel.invokeFunction('convertToInteractive',\n",
              "                                                     [key], {});\n",
              "          if (!dataTable) return;\n",
              "\n",
              "          const docLinkHtml = 'Like what you see? Visit the ' +\n",
              "            '<a target=\"_blank\" href=https://colab.research.google.com/notebooks/data_table.ipynb>data table notebook</a>'\n",
              "            + ' to learn more about interactive tables.';\n",
              "          element.innerHTML = '';\n",
              "          dataTable['output_type'] = 'display_data';\n",
              "          await google.colab.output.renderOutput(dataTable, element);\n",
              "          const docLink = document.createElement('div');\n",
              "          docLink.innerHTML = docLinkHtml;\n",
              "          element.appendChild(docLink);\n",
              "        }\n",
              "      </script>\n",
              "    </div>\n",
              "  </div>\n",
              "  "
            ]
          },
          "metadata": {}
        },
        {
          "output_type": "stream",
          "name": "stdout",
          "text": [
            "----------------------------------------------------\n",
            "Количество пропусков по столбцам\n"
          ]
        },
        {
          "output_type": "display_data",
          "data": {
            "text/plain": [
              "name         0\n",
              "regions      0\n",
              "start_dt     0\n",
              "finish_dt    0\n",
              "dtype: int64"
            ]
          },
          "metadata": {}
        },
        {
          "output_type": "stream",
          "name": "stdout",
          "text": [
            "----------------------------------------------------\n",
            "Количество дубликатов: 0\n",
            "Доля дубликатов: 0.000%\n",
            "----------------------------------------------------\n",
            "Статистическая информация\n"
          ]
        },
        {
          "output_type": "display_data",
          "data": {
            "text/plain": [
              "                            name regions    start_dt   finish_dt\n",
              "count                         14      14          14          14\n",
              "unique                        14       6          14          14\n",
              "top     Christmas&New Year Promo    APAC  2020-12-25  2021-01-03\n",
              "freq                           1       4           1           1"
            ],
            "text/html": [
              "\n",
              "  <div id=\"df-6c4bff93-00cf-41d0-a710-7096583a0e68\">\n",
              "    <div class=\"colab-df-container\">\n",
              "      <div>\n",
              "<style scoped>\n",
              "    .dataframe tbody tr th:only-of-type {\n",
              "        vertical-align: middle;\n",
              "    }\n",
              "\n",
              "    .dataframe tbody tr th {\n",
              "        vertical-align: top;\n",
              "    }\n",
              "\n",
              "    .dataframe thead th {\n",
              "        text-align: right;\n",
              "    }\n",
              "</style>\n",
              "<table border=\"1\" class=\"dataframe\">\n",
              "  <thead>\n",
              "    <tr style=\"text-align: right;\">\n",
              "      <th></th>\n",
              "      <th>name</th>\n",
              "      <th>regions</th>\n",
              "      <th>start_dt</th>\n",
              "      <th>finish_dt</th>\n",
              "    </tr>\n",
              "  </thead>\n",
              "  <tbody>\n",
              "    <tr>\n",
              "      <th>count</th>\n",
              "      <td>14</td>\n",
              "      <td>14</td>\n",
              "      <td>14</td>\n",
              "      <td>14</td>\n",
              "    </tr>\n",
              "    <tr>\n",
              "      <th>unique</th>\n",
              "      <td>14</td>\n",
              "      <td>6</td>\n",
              "      <td>14</td>\n",
              "      <td>14</td>\n",
              "    </tr>\n",
              "    <tr>\n",
              "      <th>top</th>\n",
              "      <td>Christmas&amp;New Year Promo</td>\n",
              "      <td>APAC</td>\n",
              "      <td>2020-12-25</td>\n",
              "      <td>2021-01-03</td>\n",
              "    </tr>\n",
              "    <tr>\n",
              "      <th>freq</th>\n",
              "      <td>1</td>\n",
              "      <td>4</td>\n",
              "      <td>1</td>\n",
              "      <td>1</td>\n",
              "    </tr>\n",
              "  </tbody>\n",
              "</table>\n",
              "</div>\n",
              "      <button class=\"colab-df-convert\" onclick=\"convertToInteractive('df-6c4bff93-00cf-41d0-a710-7096583a0e68')\"\n",
              "              title=\"Convert this dataframe to an interactive table.\"\n",
              "              style=\"display:none;\">\n",
              "        \n",
              "  <svg xmlns=\"http://www.w3.org/2000/svg\" height=\"24px\"viewBox=\"0 0 24 24\"\n",
              "       width=\"24px\">\n",
              "    <path d=\"M0 0h24v24H0V0z\" fill=\"none\"/>\n",
              "    <path d=\"M18.56 5.44l.94 2.06.94-2.06 2.06-.94-2.06-.94-.94-2.06-.94 2.06-2.06.94zm-11 1L8.5 8.5l.94-2.06 2.06-.94-2.06-.94L8.5 2.5l-.94 2.06-2.06.94zm10 10l.94 2.06.94-2.06 2.06-.94-2.06-.94-.94-2.06-.94 2.06-2.06.94z\"/><path d=\"M17.41 7.96l-1.37-1.37c-.4-.4-.92-.59-1.43-.59-.52 0-1.04.2-1.43.59L10.3 9.45l-7.72 7.72c-.78.78-.78 2.05 0 2.83L4 21.41c.39.39.9.59 1.41.59.51 0 1.02-.2 1.41-.59l7.78-7.78 2.81-2.81c.8-.78.8-2.07 0-2.86zM5.41 20L4 18.59l7.72-7.72 1.47 1.35L5.41 20z\"/>\n",
              "  </svg>\n",
              "      </button>\n",
              "      \n",
              "  <style>\n",
              "    .colab-df-container {\n",
              "      display:flex;\n",
              "      flex-wrap:wrap;\n",
              "      gap: 12px;\n",
              "    }\n",
              "\n",
              "    .colab-df-convert {\n",
              "      background-color: #E8F0FE;\n",
              "      border: none;\n",
              "      border-radius: 50%;\n",
              "      cursor: pointer;\n",
              "      display: none;\n",
              "      fill: #1967D2;\n",
              "      height: 32px;\n",
              "      padding: 0 0 0 0;\n",
              "      width: 32px;\n",
              "    }\n",
              "\n",
              "    .colab-df-convert:hover {\n",
              "      background-color: #E2EBFA;\n",
              "      box-shadow: 0px 1px 2px rgba(60, 64, 67, 0.3), 0px 1px 3px 1px rgba(60, 64, 67, 0.15);\n",
              "      fill: #174EA6;\n",
              "    }\n",
              "\n",
              "    [theme=dark] .colab-df-convert {\n",
              "      background-color: #3B4455;\n",
              "      fill: #D2E3FC;\n",
              "    }\n",
              "\n",
              "    [theme=dark] .colab-df-convert:hover {\n",
              "      background-color: #434B5C;\n",
              "      box-shadow: 0px 1px 3px 1px rgba(0, 0, 0, 0.15);\n",
              "      filter: drop-shadow(0px 1px 2px rgba(0, 0, 0, 0.3));\n",
              "      fill: #FFFFFF;\n",
              "    }\n",
              "  </style>\n",
              "\n",
              "      <script>\n",
              "        const buttonEl =\n",
              "          document.querySelector('#df-6c4bff93-00cf-41d0-a710-7096583a0e68 button.colab-df-convert');\n",
              "        buttonEl.style.display =\n",
              "          google.colab.kernel.accessAllowed ? 'block' : 'none';\n",
              "\n",
              "        async function convertToInteractive(key) {\n",
              "          const element = document.querySelector('#df-6c4bff93-00cf-41d0-a710-7096583a0e68');\n",
              "          const dataTable =\n",
              "            await google.colab.kernel.invokeFunction('convertToInteractive',\n",
              "                                                     [key], {});\n",
              "          if (!dataTable) return;\n",
              "\n",
              "          const docLinkHtml = 'Like what you see? Visit the ' +\n",
              "            '<a target=\"_blank\" href=https://colab.research.google.com/notebooks/data_table.ipynb>data table notebook</a>'\n",
              "            + ' to learn more about interactive tables.';\n",
              "          element.innerHTML = '';\n",
              "          dataTable['output_type'] = 'display_data';\n",
              "          await google.colab.output.renderOutput(dataTable, element);\n",
              "          const docLink = document.createElement('div');\n",
              "          docLink.innerHTML = docLinkHtml;\n",
              "          element.appendChild(docLink);\n",
              "        }\n",
              "      </script>\n",
              "    </div>\n",
              "  </div>\n",
              "  "
            ]
          },
          "metadata": {}
        },
        {
          "output_type": "stream",
          "name": "stdout",
          "text": [
            "------------------------------------------------- \n",
            "users\n",
            " \n",
            "Информация о датасете\n"
          ]
        },
        {
          "output_type": "display_data",
          "data": {
            "text/plain": [
              "(61733, 4)"
            ]
          },
          "metadata": {}
        },
        {
          "output_type": "stream",
          "name": "stdout",
          "text": [
            "----------------------------------------------------\n",
            "<class 'pandas.core.frame.DataFrame'>\n",
            "RangeIndex: 61733 entries, 0 to 61732\n",
            "Data columns (total 4 columns):\n",
            " #   Column      Non-Null Count  Dtype \n",
            "---  ------      --------------  ----- \n",
            " 0   user_id     61733 non-null  object\n",
            " 1   first_date  61733 non-null  object\n",
            " 2   region      61733 non-null  object\n",
            " 3   device      61733 non-null  object\n",
            "dtypes: object(4)\n",
            "memory usage: 1.9+ MB\n"
          ]
        },
        {
          "output_type": "display_data",
          "data": {
            "text/plain": [
              "None"
            ]
          },
          "metadata": {}
        },
        {
          "output_type": "stream",
          "name": "stdout",
          "text": [
            "----------------------------------------------------\n",
            "Первые строки датасета\n"
          ]
        },
        {
          "output_type": "display_data",
          "data": {
            "text/plain": [
              "            user_id  first_date     region   device\n",
              "0  D72A72121175D8BE  2020-12-07         EU       PC\n",
              "1  F1C668619DFE6E65  2020-12-07  N.America  Android\n",
              "2  2E1BF1D4C37EA01F  2020-12-07         EU       PC\n",
              "3  50734A22C0C63768  2020-12-07         EU   iPhone\n",
              "4  E1BDDCE0DAFA2679  2020-12-07  N.America   iPhone"
            ],
            "text/html": [
              "\n",
              "  <div id=\"df-8ee2633c-44d2-4b2c-9c2c-9459cadf4c28\">\n",
              "    <div class=\"colab-df-container\">\n",
              "      <div>\n",
              "<style scoped>\n",
              "    .dataframe tbody tr th:only-of-type {\n",
              "        vertical-align: middle;\n",
              "    }\n",
              "\n",
              "    .dataframe tbody tr th {\n",
              "        vertical-align: top;\n",
              "    }\n",
              "\n",
              "    .dataframe thead th {\n",
              "        text-align: right;\n",
              "    }\n",
              "</style>\n",
              "<table border=\"1\" class=\"dataframe\">\n",
              "  <thead>\n",
              "    <tr style=\"text-align: right;\">\n",
              "      <th></th>\n",
              "      <th>user_id</th>\n",
              "      <th>first_date</th>\n",
              "      <th>region</th>\n",
              "      <th>device</th>\n",
              "    </tr>\n",
              "  </thead>\n",
              "  <tbody>\n",
              "    <tr>\n",
              "      <th>0</th>\n",
              "      <td>D72A72121175D8BE</td>\n",
              "      <td>2020-12-07</td>\n",
              "      <td>EU</td>\n",
              "      <td>PC</td>\n",
              "    </tr>\n",
              "    <tr>\n",
              "      <th>1</th>\n",
              "      <td>F1C668619DFE6E65</td>\n",
              "      <td>2020-12-07</td>\n",
              "      <td>N.America</td>\n",
              "      <td>Android</td>\n",
              "    </tr>\n",
              "    <tr>\n",
              "      <th>2</th>\n",
              "      <td>2E1BF1D4C37EA01F</td>\n",
              "      <td>2020-12-07</td>\n",
              "      <td>EU</td>\n",
              "      <td>PC</td>\n",
              "    </tr>\n",
              "    <tr>\n",
              "      <th>3</th>\n",
              "      <td>50734A22C0C63768</td>\n",
              "      <td>2020-12-07</td>\n",
              "      <td>EU</td>\n",
              "      <td>iPhone</td>\n",
              "    </tr>\n",
              "    <tr>\n",
              "      <th>4</th>\n",
              "      <td>E1BDDCE0DAFA2679</td>\n",
              "      <td>2020-12-07</td>\n",
              "      <td>N.America</td>\n",
              "      <td>iPhone</td>\n",
              "    </tr>\n",
              "  </tbody>\n",
              "</table>\n",
              "</div>\n",
              "      <button class=\"colab-df-convert\" onclick=\"convertToInteractive('df-8ee2633c-44d2-4b2c-9c2c-9459cadf4c28')\"\n",
              "              title=\"Convert this dataframe to an interactive table.\"\n",
              "              style=\"display:none;\">\n",
              "        \n",
              "  <svg xmlns=\"http://www.w3.org/2000/svg\" height=\"24px\"viewBox=\"0 0 24 24\"\n",
              "       width=\"24px\">\n",
              "    <path d=\"M0 0h24v24H0V0z\" fill=\"none\"/>\n",
              "    <path d=\"M18.56 5.44l.94 2.06.94-2.06 2.06-.94-2.06-.94-.94-2.06-.94 2.06-2.06.94zm-11 1L8.5 8.5l.94-2.06 2.06-.94-2.06-.94L8.5 2.5l-.94 2.06-2.06.94zm10 10l.94 2.06.94-2.06 2.06-.94-2.06-.94-.94-2.06-.94 2.06-2.06.94z\"/><path d=\"M17.41 7.96l-1.37-1.37c-.4-.4-.92-.59-1.43-.59-.52 0-1.04.2-1.43.59L10.3 9.45l-7.72 7.72c-.78.78-.78 2.05 0 2.83L4 21.41c.39.39.9.59 1.41.59.51 0 1.02-.2 1.41-.59l7.78-7.78 2.81-2.81c.8-.78.8-2.07 0-2.86zM5.41 20L4 18.59l7.72-7.72 1.47 1.35L5.41 20z\"/>\n",
              "  </svg>\n",
              "      </button>\n",
              "      \n",
              "  <style>\n",
              "    .colab-df-container {\n",
              "      display:flex;\n",
              "      flex-wrap:wrap;\n",
              "      gap: 12px;\n",
              "    }\n",
              "\n",
              "    .colab-df-convert {\n",
              "      background-color: #E8F0FE;\n",
              "      border: none;\n",
              "      border-radius: 50%;\n",
              "      cursor: pointer;\n",
              "      display: none;\n",
              "      fill: #1967D2;\n",
              "      height: 32px;\n",
              "      padding: 0 0 0 0;\n",
              "      width: 32px;\n",
              "    }\n",
              "\n",
              "    .colab-df-convert:hover {\n",
              "      background-color: #E2EBFA;\n",
              "      box-shadow: 0px 1px 2px rgba(60, 64, 67, 0.3), 0px 1px 3px 1px rgba(60, 64, 67, 0.15);\n",
              "      fill: #174EA6;\n",
              "    }\n",
              "\n",
              "    [theme=dark] .colab-df-convert {\n",
              "      background-color: #3B4455;\n",
              "      fill: #D2E3FC;\n",
              "    }\n",
              "\n",
              "    [theme=dark] .colab-df-convert:hover {\n",
              "      background-color: #434B5C;\n",
              "      box-shadow: 0px 1px 3px 1px rgba(0, 0, 0, 0.15);\n",
              "      filter: drop-shadow(0px 1px 2px rgba(0, 0, 0, 0.3));\n",
              "      fill: #FFFFFF;\n",
              "    }\n",
              "  </style>\n",
              "\n",
              "      <script>\n",
              "        const buttonEl =\n",
              "          document.querySelector('#df-8ee2633c-44d2-4b2c-9c2c-9459cadf4c28 button.colab-df-convert');\n",
              "        buttonEl.style.display =\n",
              "          google.colab.kernel.accessAllowed ? 'block' : 'none';\n",
              "\n",
              "        async function convertToInteractive(key) {\n",
              "          const element = document.querySelector('#df-8ee2633c-44d2-4b2c-9c2c-9459cadf4c28');\n",
              "          const dataTable =\n",
              "            await google.colab.kernel.invokeFunction('convertToInteractive',\n",
              "                                                     [key], {});\n",
              "          if (!dataTable) return;\n",
              "\n",
              "          const docLinkHtml = 'Like what you see? Visit the ' +\n",
              "            '<a target=\"_blank\" href=https://colab.research.google.com/notebooks/data_table.ipynb>data table notebook</a>'\n",
              "            + ' to learn more about interactive tables.';\n",
              "          element.innerHTML = '';\n",
              "          dataTable['output_type'] = 'display_data';\n",
              "          await google.colab.output.renderOutput(dataTable, element);\n",
              "          const docLink = document.createElement('div');\n",
              "          docLink.innerHTML = docLinkHtml;\n",
              "          element.appendChild(docLink);\n",
              "        }\n",
              "      </script>\n",
              "    </div>\n",
              "  </div>\n",
              "  "
            ]
          },
          "metadata": {}
        },
        {
          "output_type": "stream",
          "name": "stdout",
          "text": [
            "----------------------------------------------------\n",
            "Количество пропусков по столбцам\n"
          ]
        },
        {
          "output_type": "display_data",
          "data": {
            "text/plain": [
              "user_id       0\n",
              "first_date    0\n",
              "region        0\n",
              "device        0\n",
              "dtype: int64"
            ]
          },
          "metadata": {}
        },
        {
          "output_type": "stream",
          "name": "stdout",
          "text": [
            "----------------------------------------------------\n",
            "Количество дубликатов: 0\n",
            "Доля дубликатов: 0.000%\n",
            "----------------------------------------------------\n",
            "Статистическая информация\n"
          ]
        },
        {
          "output_type": "display_data",
          "data": {
            "text/plain": [
              "                 user_id  first_date region   device\n",
              "count              61733       61733  61733    61733\n",
              "unique             61733          17      4        4\n",
              "top     D72A72121175D8BE  2020-12-21     EU  Android\n",
              "freq                   1        6290  46270    27520"
            ],
            "text/html": [
              "\n",
              "  <div id=\"df-62e5a0d5-fe86-4bce-a500-7d9cbb530e9f\">\n",
              "    <div class=\"colab-df-container\">\n",
              "      <div>\n",
              "<style scoped>\n",
              "    .dataframe tbody tr th:only-of-type {\n",
              "        vertical-align: middle;\n",
              "    }\n",
              "\n",
              "    .dataframe tbody tr th {\n",
              "        vertical-align: top;\n",
              "    }\n",
              "\n",
              "    .dataframe thead th {\n",
              "        text-align: right;\n",
              "    }\n",
              "</style>\n",
              "<table border=\"1\" class=\"dataframe\">\n",
              "  <thead>\n",
              "    <tr style=\"text-align: right;\">\n",
              "      <th></th>\n",
              "      <th>user_id</th>\n",
              "      <th>first_date</th>\n",
              "      <th>region</th>\n",
              "      <th>device</th>\n",
              "    </tr>\n",
              "  </thead>\n",
              "  <tbody>\n",
              "    <tr>\n",
              "      <th>count</th>\n",
              "      <td>61733</td>\n",
              "      <td>61733</td>\n",
              "      <td>61733</td>\n",
              "      <td>61733</td>\n",
              "    </tr>\n",
              "    <tr>\n",
              "      <th>unique</th>\n",
              "      <td>61733</td>\n",
              "      <td>17</td>\n",
              "      <td>4</td>\n",
              "      <td>4</td>\n",
              "    </tr>\n",
              "    <tr>\n",
              "      <th>top</th>\n",
              "      <td>D72A72121175D8BE</td>\n",
              "      <td>2020-12-21</td>\n",
              "      <td>EU</td>\n",
              "      <td>Android</td>\n",
              "    </tr>\n",
              "    <tr>\n",
              "      <th>freq</th>\n",
              "      <td>1</td>\n",
              "      <td>6290</td>\n",
              "      <td>46270</td>\n",
              "      <td>27520</td>\n",
              "    </tr>\n",
              "  </tbody>\n",
              "</table>\n",
              "</div>\n",
              "      <button class=\"colab-df-convert\" onclick=\"convertToInteractive('df-62e5a0d5-fe86-4bce-a500-7d9cbb530e9f')\"\n",
              "              title=\"Convert this dataframe to an interactive table.\"\n",
              "              style=\"display:none;\">\n",
              "        \n",
              "  <svg xmlns=\"http://www.w3.org/2000/svg\" height=\"24px\"viewBox=\"0 0 24 24\"\n",
              "       width=\"24px\">\n",
              "    <path d=\"M0 0h24v24H0V0z\" fill=\"none\"/>\n",
              "    <path d=\"M18.56 5.44l.94 2.06.94-2.06 2.06-.94-2.06-.94-.94-2.06-.94 2.06-2.06.94zm-11 1L8.5 8.5l.94-2.06 2.06-.94-2.06-.94L8.5 2.5l-.94 2.06-2.06.94zm10 10l.94 2.06.94-2.06 2.06-.94-2.06-.94-.94-2.06-.94 2.06-2.06.94z\"/><path d=\"M17.41 7.96l-1.37-1.37c-.4-.4-.92-.59-1.43-.59-.52 0-1.04.2-1.43.59L10.3 9.45l-7.72 7.72c-.78.78-.78 2.05 0 2.83L4 21.41c.39.39.9.59 1.41.59.51 0 1.02-.2 1.41-.59l7.78-7.78 2.81-2.81c.8-.78.8-2.07 0-2.86zM5.41 20L4 18.59l7.72-7.72 1.47 1.35L5.41 20z\"/>\n",
              "  </svg>\n",
              "      </button>\n",
              "      \n",
              "  <style>\n",
              "    .colab-df-container {\n",
              "      display:flex;\n",
              "      flex-wrap:wrap;\n",
              "      gap: 12px;\n",
              "    }\n",
              "\n",
              "    .colab-df-convert {\n",
              "      background-color: #E8F0FE;\n",
              "      border: none;\n",
              "      border-radius: 50%;\n",
              "      cursor: pointer;\n",
              "      display: none;\n",
              "      fill: #1967D2;\n",
              "      height: 32px;\n",
              "      padding: 0 0 0 0;\n",
              "      width: 32px;\n",
              "    }\n",
              "\n",
              "    .colab-df-convert:hover {\n",
              "      background-color: #E2EBFA;\n",
              "      box-shadow: 0px 1px 2px rgba(60, 64, 67, 0.3), 0px 1px 3px 1px rgba(60, 64, 67, 0.15);\n",
              "      fill: #174EA6;\n",
              "    }\n",
              "\n",
              "    [theme=dark] .colab-df-convert {\n",
              "      background-color: #3B4455;\n",
              "      fill: #D2E3FC;\n",
              "    }\n",
              "\n",
              "    [theme=dark] .colab-df-convert:hover {\n",
              "      background-color: #434B5C;\n",
              "      box-shadow: 0px 1px 3px 1px rgba(0, 0, 0, 0.15);\n",
              "      filter: drop-shadow(0px 1px 2px rgba(0, 0, 0, 0.3));\n",
              "      fill: #FFFFFF;\n",
              "    }\n",
              "  </style>\n",
              "\n",
              "      <script>\n",
              "        const buttonEl =\n",
              "          document.querySelector('#df-62e5a0d5-fe86-4bce-a500-7d9cbb530e9f button.colab-df-convert');\n",
              "        buttonEl.style.display =\n",
              "          google.colab.kernel.accessAllowed ? 'block' : 'none';\n",
              "\n",
              "        async function convertToInteractive(key) {\n",
              "          const element = document.querySelector('#df-62e5a0d5-fe86-4bce-a500-7d9cbb530e9f');\n",
              "          const dataTable =\n",
              "            await google.colab.kernel.invokeFunction('convertToInteractive',\n",
              "                                                     [key], {});\n",
              "          if (!dataTable) return;\n",
              "\n",
              "          const docLinkHtml = 'Like what you see? Visit the ' +\n",
              "            '<a target=\"_blank\" href=https://colab.research.google.com/notebooks/data_table.ipynb>data table notebook</a>'\n",
              "            + ' to learn more about interactive tables.';\n",
              "          element.innerHTML = '';\n",
              "          dataTable['output_type'] = 'display_data';\n",
              "          await google.colab.output.renderOutput(dataTable, element);\n",
              "          const docLink = document.createElement('div');\n",
              "          docLink.innerHTML = docLinkHtml;\n",
              "          element.appendChild(docLink);\n",
              "        }\n",
              "      </script>\n",
              "    </div>\n",
              "  </div>\n",
              "  "
            ]
          },
          "metadata": {}
        },
        {
          "output_type": "stream",
          "name": "stdout",
          "text": [
            "------------------------------------------------- \n",
            "participants\n",
            " \n",
            "Информация о датасете\n"
          ]
        },
        {
          "output_type": "display_data",
          "data": {
            "text/plain": [
              "(18268, 3)"
            ]
          },
          "metadata": {}
        },
        {
          "output_type": "stream",
          "name": "stdout",
          "text": [
            "----------------------------------------------------\n",
            "<class 'pandas.core.frame.DataFrame'>\n",
            "RangeIndex: 18268 entries, 0 to 18267\n",
            "Data columns (total 3 columns):\n",
            " #   Column   Non-Null Count  Dtype \n",
            "---  ------   --------------  ----- \n",
            " 0   user_id  18268 non-null  object\n",
            " 1   group    18268 non-null  object\n",
            " 2   ab_test  18268 non-null  object\n",
            "dtypes: object(3)\n",
            "memory usage: 428.3+ KB\n"
          ]
        },
        {
          "output_type": "display_data",
          "data": {
            "text/plain": [
              "None"
            ]
          },
          "metadata": {}
        },
        {
          "output_type": "stream",
          "name": "stdout",
          "text": [
            "----------------------------------------------------\n",
            "Первые строки датасета\n"
          ]
        },
        {
          "output_type": "display_data",
          "data": {
            "text/plain": [
              "            user_id group                  ab_test\n",
              "0  D1ABA3E2887B6A73     A  recommender_system_test\n",
              "1  A7A3664BD6242119     A  recommender_system_test\n",
              "2  DABC14FDDFADD29E     A  recommender_system_test\n",
              "3  04988C5DF189632E     A  recommender_system_test\n",
              "4  482F14783456D21B     B  recommender_system_test"
            ],
            "text/html": [
              "\n",
              "  <div id=\"df-2935a07f-ae5f-4d55-9671-56717581bb57\">\n",
              "    <div class=\"colab-df-container\">\n",
              "      <div>\n",
              "<style scoped>\n",
              "    .dataframe tbody tr th:only-of-type {\n",
              "        vertical-align: middle;\n",
              "    }\n",
              "\n",
              "    .dataframe tbody tr th {\n",
              "        vertical-align: top;\n",
              "    }\n",
              "\n",
              "    .dataframe thead th {\n",
              "        text-align: right;\n",
              "    }\n",
              "</style>\n",
              "<table border=\"1\" class=\"dataframe\">\n",
              "  <thead>\n",
              "    <tr style=\"text-align: right;\">\n",
              "      <th></th>\n",
              "      <th>user_id</th>\n",
              "      <th>group</th>\n",
              "      <th>ab_test</th>\n",
              "    </tr>\n",
              "  </thead>\n",
              "  <tbody>\n",
              "    <tr>\n",
              "      <th>0</th>\n",
              "      <td>D1ABA3E2887B6A73</td>\n",
              "      <td>A</td>\n",
              "      <td>recommender_system_test</td>\n",
              "    </tr>\n",
              "    <tr>\n",
              "      <th>1</th>\n",
              "      <td>A7A3664BD6242119</td>\n",
              "      <td>A</td>\n",
              "      <td>recommender_system_test</td>\n",
              "    </tr>\n",
              "    <tr>\n",
              "      <th>2</th>\n",
              "      <td>DABC14FDDFADD29E</td>\n",
              "      <td>A</td>\n",
              "      <td>recommender_system_test</td>\n",
              "    </tr>\n",
              "    <tr>\n",
              "      <th>3</th>\n",
              "      <td>04988C5DF189632E</td>\n",
              "      <td>A</td>\n",
              "      <td>recommender_system_test</td>\n",
              "    </tr>\n",
              "    <tr>\n",
              "      <th>4</th>\n",
              "      <td>482F14783456D21B</td>\n",
              "      <td>B</td>\n",
              "      <td>recommender_system_test</td>\n",
              "    </tr>\n",
              "  </tbody>\n",
              "</table>\n",
              "</div>\n",
              "      <button class=\"colab-df-convert\" onclick=\"convertToInteractive('df-2935a07f-ae5f-4d55-9671-56717581bb57')\"\n",
              "              title=\"Convert this dataframe to an interactive table.\"\n",
              "              style=\"display:none;\">\n",
              "        \n",
              "  <svg xmlns=\"http://www.w3.org/2000/svg\" height=\"24px\"viewBox=\"0 0 24 24\"\n",
              "       width=\"24px\">\n",
              "    <path d=\"M0 0h24v24H0V0z\" fill=\"none\"/>\n",
              "    <path d=\"M18.56 5.44l.94 2.06.94-2.06 2.06-.94-2.06-.94-.94-2.06-.94 2.06-2.06.94zm-11 1L8.5 8.5l.94-2.06 2.06-.94-2.06-.94L8.5 2.5l-.94 2.06-2.06.94zm10 10l.94 2.06.94-2.06 2.06-.94-2.06-.94-.94-2.06-.94 2.06-2.06.94z\"/><path d=\"M17.41 7.96l-1.37-1.37c-.4-.4-.92-.59-1.43-.59-.52 0-1.04.2-1.43.59L10.3 9.45l-7.72 7.72c-.78.78-.78 2.05 0 2.83L4 21.41c.39.39.9.59 1.41.59.51 0 1.02-.2 1.41-.59l7.78-7.78 2.81-2.81c.8-.78.8-2.07 0-2.86zM5.41 20L4 18.59l7.72-7.72 1.47 1.35L5.41 20z\"/>\n",
              "  </svg>\n",
              "      </button>\n",
              "      \n",
              "  <style>\n",
              "    .colab-df-container {\n",
              "      display:flex;\n",
              "      flex-wrap:wrap;\n",
              "      gap: 12px;\n",
              "    }\n",
              "\n",
              "    .colab-df-convert {\n",
              "      background-color: #E8F0FE;\n",
              "      border: none;\n",
              "      border-radius: 50%;\n",
              "      cursor: pointer;\n",
              "      display: none;\n",
              "      fill: #1967D2;\n",
              "      height: 32px;\n",
              "      padding: 0 0 0 0;\n",
              "      width: 32px;\n",
              "    }\n",
              "\n",
              "    .colab-df-convert:hover {\n",
              "      background-color: #E2EBFA;\n",
              "      box-shadow: 0px 1px 2px rgba(60, 64, 67, 0.3), 0px 1px 3px 1px rgba(60, 64, 67, 0.15);\n",
              "      fill: #174EA6;\n",
              "    }\n",
              "\n",
              "    [theme=dark] .colab-df-convert {\n",
              "      background-color: #3B4455;\n",
              "      fill: #D2E3FC;\n",
              "    }\n",
              "\n",
              "    [theme=dark] .colab-df-convert:hover {\n",
              "      background-color: #434B5C;\n",
              "      box-shadow: 0px 1px 3px 1px rgba(0, 0, 0, 0.15);\n",
              "      filter: drop-shadow(0px 1px 2px rgba(0, 0, 0, 0.3));\n",
              "      fill: #FFFFFF;\n",
              "    }\n",
              "  </style>\n",
              "\n",
              "      <script>\n",
              "        const buttonEl =\n",
              "          document.querySelector('#df-2935a07f-ae5f-4d55-9671-56717581bb57 button.colab-df-convert');\n",
              "        buttonEl.style.display =\n",
              "          google.colab.kernel.accessAllowed ? 'block' : 'none';\n",
              "\n",
              "        async function convertToInteractive(key) {\n",
              "          const element = document.querySelector('#df-2935a07f-ae5f-4d55-9671-56717581bb57');\n",
              "          const dataTable =\n",
              "            await google.colab.kernel.invokeFunction('convertToInteractive',\n",
              "                                                     [key], {});\n",
              "          if (!dataTable) return;\n",
              "\n",
              "          const docLinkHtml = 'Like what you see? Visit the ' +\n",
              "            '<a target=\"_blank\" href=https://colab.research.google.com/notebooks/data_table.ipynb>data table notebook</a>'\n",
              "            + ' to learn more about interactive tables.';\n",
              "          element.innerHTML = '';\n",
              "          dataTable['output_type'] = 'display_data';\n",
              "          await google.colab.output.renderOutput(dataTable, element);\n",
              "          const docLink = document.createElement('div');\n",
              "          docLink.innerHTML = docLinkHtml;\n",
              "          element.appendChild(docLink);\n",
              "        }\n",
              "      </script>\n",
              "    </div>\n",
              "  </div>\n",
              "  "
            ]
          },
          "metadata": {}
        },
        {
          "output_type": "stream",
          "name": "stdout",
          "text": [
            "----------------------------------------------------\n",
            "Количество пропусков по столбцам\n"
          ]
        },
        {
          "output_type": "display_data",
          "data": {
            "text/plain": [
              "user_id    0\n",
              "group      0\n",
              "ab_test    0\n",
              "dtype: int64"
            ]
          },
          "metadata": {}
        },
        {
          "output_type": "stream",
          "name": "stdout",
          "text": [
            "----------------------------------------------------\n",
            "Количество дубликатов: 0\n",
            "Доля дубликатов: 0.000%\n",
            "----------------------------------------------------\n",
            "Статистическая информация\n"
          ]
        },
        {
          "output_type": "display_data",
          "data": {
            "text/plain": [
              "                 user_id  group            ab_test\n",
              "count              18268  18268              18268\n",
              "unique             16666      2                  2\n",
              "top     0FDFDA0B2DEC2D91      A  interface_eu_test\n",
              "freq                   2   9655              11567"
            ],
            "text/html": [
              "\n",
              "  <div id=\"df-d47226f3-91d4-4a02-af5e-b78d2525fb92\">\n",
              "    <div class=\"colab-df-container\">\n",
              "      <div>\n",
              "<style scoped>\n",
              "    .dataframe tbody tr th:only-of-type {\n",
              "        vertical-align: middle;\n",
              "    }\n",
              "\n",
              "    .dataframe tbody tr th {\n",
              "        vertical-align: top;\n",
              "    }\n",
              "\n",
              "    .dataframe thead th {\n",
              "        text-align: right;\n",
              "    }\n",
              "</style>\n",
              "<table border=\"1\" class=\"dataframe\">\n",
              "  <thead>\n",
              "    <tr style=\"text-align: right;\">\n",
              "      <th></th>\n",
              "      <th>user_id</th>\n",
              "      <th>group</th>\n",
              "      <th>ab_test</th>\n",
              "    </tr>\n",
              "  </thead>\n",
              "  <tbody>\n",
              "    <tr>\n",
              "      <th>count</th>\n",
              "      <td>18268</td>\n",
              "      <td>18268</td>\n",
              "      <td>18268</td>\n",
              "    </tr>\n",
              "    <tr>\n",
              "      <th>unique</th>\n",
              "      <td>16666</td>\n",
              "      <td>2</td>\n",
              "      <td>2</td>\n",
              "    </tr>\n",
              "    <tr>\n",
              "      <th>top</th>\n",
              "      <td>0FDFDA0B2DEC2D91</td>\n",
              "      <td>A</td>\n",
              "      <td>interface_eu_test</td>\n",
              "    </tr>\n",
              "    <tr>\n",
              "      <th>freq</th>\n",
              "      <td>2</td>\n",
              "      <td>9655</td>\n",
              "      <td>11567</td>\n",
              "    </tr>\n",
              "  </tbody>\n",
              "</table>\n",
              "</div>\n",
              "      <button class=\"colab-df-convert\" onclick=\"convertToInteractive('df-d47226f3-91d4-4a02-af5e-b78d2525fb92')\"\n",
              "              title=\"Convert this dataframe to an interactive table.\"\n",
              "              style=\"display:none;\">\n",
              "        \n",
              "  <svg xmlns=\"http://www.w3.org/2000/svg\" height=\"24px\"viewBox=\"0 0 24 24\"\n",
              "       width=\"24px\">\n",
              "    <path d=\"M0 0h24v24H0V0z\" fill=\"none\"/>\n",
              "    <path d=\"M18.56 5.44l.94 2.06.94-2.06 2.06-.94-2.06-.94-.94-2.06-.94 2.06-2.06.94zm-11 1L8.5 8.5l.94-2.06 2.06-.94-2.06-.94L8.5 2.5l-.94 2.06-2.06.94zm10 10l.94 2.06.94-2.06 2.06-.94-2.06-.94-.94-2.06-.94 2.06-2.06.94z\"/><path d=\"M17.41 7.96l-1.37-1.37c-.4-.4-.92-.59-1.43-.59-.52 0-1.04.2-1.43.59L10.3 9.45l-7.72 7.72c-.78.78-.78 2.05 0 2.83L4 21.41c.39.39.9.59 1.41.59.51 0 1.02-.2 1.41-.59l7.78-7.78 2.81-2.81c.8-.78.8-2.07 0-2.86zM5.41 20L4 18.59l7.72-7.72 1.47 1.35L5.41 20z\"/>\n",
              "  </svg>\n",
              "      </button>\n",
              "      \n",
              "  <style>\n",
              "    .colab-df-container {\n",
              "      display:flex;\n",
              "      flex-wrap:wrap;\n",
              "      gap: 12px;\n",
              "    }\n",
              "\n",
              "    .colab-df-convert {\n",
              "      background-color: #E8F0FE;\n",
              "      border: none;\n",
              "      border-radius: 50%;\n",
              "      cursor: pointer;\n",
              "      display: none;\n",
              "      fill: #1967D2;\n",
              "      height: 32px;\n",
              "      padding: 0 0 0 0;\n",
              "      width: 32px;\n",
              "    }\n",
              "\n",
              "    .colab-df-convert:hover {\n",
              "      background-color: #E2EBFA;\n",
              "      box-shadow: 0px 1px 2px rgba(60, 64, 67, 0.3), 0px 1px 3px 1px rgba(60, 64, 67, 0.15);\n",
              "      fill: #174EA6;\n",
              "    }\n",
              "\n",
              "    [theme=dark] .colab-df-convert {\n",
              "      background-color: #3B4455;\n",
              "      fill: #D2E3FC;\n",
              "    }\n",
              "\n",
              "    [theme=dark] .colab-df-convert:hover {\n",
              "      background-color: #434B5C;\n",
              "      box-shadow: 0px 1px 3px 1px rgba(0, 0, 0, 0.15);\n",
              "      filter: drop-shadow(0px 1px 2px rgba(0, 0, 0, 0.3));\n",
              "      fill: #FFFFFF;\n",
              "    }\n",
              "  </style>\n",
              "\n",
              "      <script>\n",
              "        const buttonEl =\n",
              "          document.querySelector('#df-d47226f3-91d4-4a02-af5e-b78d2525fb92 button.colab-df-convert');\n",
              "        buttonEl.style.display =\n",
              "          google.colab.kernel.accessAllowed ? 'block' : 'none';\n",
              "\n",
              "        async function convertToInteractive(key) {\n",
              "          const element = document.querySelector('#df-d47226f3-91d4-4a02-af5e-b78d2525fb92');\n",
              "          const dataTable =\n",
              "            await google.colab.kernel.invokeFunction('convertToInteractive',\n",
              "                                                     [key], {});\n",
              "          if (!dataTable) return;\n",
              "\n",
              "          const docLinkHtml = 'Like what you see? Visit the ' +\n",
              "            '<a target=\"_blank\" href=https://colab.research.google.com/notebooks/data_table.ipynb>data table notebook</a>'\n",
              "            + ' to learn more about interactive tables.';\n",
              "          element.innerHTML = '';\n",
              "          dataTable['output_type'] = 'display_data';\n",
              "          await google.colab.output.renderOutput(dataTable, element);\n",
              "          const docLink = document.createElement('div');\n",
              "          docLink.innerHTML = docLinkHtml;\n",
              "          element.appendChild(docLink);\n",
              "        }\n",
              "      </script>\n",
              "    </div>\n",
              "  </div>\n",
              "  "
            ]
          },
          "metadata": {}
        },
        {
          "output_type": "stream",
          "name": "stdout",
          "text": [
            "------------------------------------------------- \n"
          ]
        }
      ],
      "source": [
        "df=[events, marketing_events, users, participants]\n",
        "df_name=['events', 'marketing_events', 'users', 'participants']\n",
        "for i, data in enumerate(df):\n",
        "  print(df_name[i])\n",
        "  print(' ')\n",
        "  info_output(data)\n",
        "  print('------------------------------------------------- ')"
      ]
    },
    {
      "cell_type": "markdown",
      "id": "unHNp_6WpGxO",
      "metadata": {
        "id": "unHNp_6WpGxO"
      },
      "source": [
        "В датасете events 440317 строк и 4 столбца, столбцы user_id, event_dt, event_name в формате object, столбец details в формате float64. Столбец event_dt нужно привести к формату datetime, в столбце details есть 377577 пропущеных значений скорее всего не для всех событий есть дополнительные данные.\n",
        "\n",
        "В датасете marketing_events 14 строк и 4 столбца.Все столбцы в формате object, столбцы start_dt и finish_dt нужно привести к формату datetime, пропусков в данных нет, дубликатов тоже нет.\n",
        "\n",
        "В датасете users 61733 строк и 4 столбца, все столбцы в формате object, столбец first_date нужно привести к формату datetime, пропусков в данных нет, дубликатов нет.\n",
        "\n",
        "В датасете participants 18268 строк и 3 столбца, все столбцы в формате object, пропусков в данных нет, дубликатов нет.\n",
        "\n"
      ]
    },
    {
      "cell_type": "code",
      "execution_count": 7,
      "id": "Sk8P6UlSog0P",
      "metadata": {
        "id": "Sk8P6UlSog0P"
      },
      "outputs": [],
      "source": [
        "# Приведем столбцы с датой к формату datetime\n",
        "events['event_dt']= pd.to_datetime(events['event_dt'], format='%Y-%m-%d %H:%M:%S')\n",
        "users['first_date']= pd.to_datetime(users['first_date'], format='%Y-%m-%d')\n",
        "marketing_events['start_dt']= pd.to_datetime(marketing_events['start_dt'], format='%Y-%m-%d')\n",
        "marketing_events['finish_dt']= pd.to_datetime(marketing_events['finish_dt'], format='%Y-%m-%d')"
      ]
    },
    {
      "cell_type": "markdown",
      "id": "QTFklhvZ2iub",
      "metadata": {
        "id": "QTFklhvZ2iub"
      },
      "source": [
        "### Оценим корректность проведения теста."
      ]
    },
    {
      "cell_type": "code",
      "execution_count": 8,
      "id": "bwElEXhaTNUB",
      "metadata": {
        "colab": {
          "base_uri": "https://localhost:8080/",
          "height": 206
        },
        "id": "bwElEXhaTNUB",
        "outputId": "bb2ba390-e9b4-456b-b3bd-3aa4c5514e24"
      },
      "outputs": [
        {
          "output_type": "execute_result",
          "data": {
            "text/plain": [
              "            user_id first_date     region   device            event_dt  \\\n",
              "0  D72A72121175D8BE 2020-12-07         EU       PC 2020-12-07 21:52:10   \n",
              "1  D72A72121175D8BE 2020-12-07         EU       PC 2020-12-07 21:52:07   \n",
              "2  F1C668619DFE6E65 2020-12-07  N.America  Android 2020-12-07 16:38:09   \n",
              "3  F1C668619DFE6E65 2020-12-07  N.America  Android 2020-12-08 02:02:34   \n",
              "4  F1C668619DFE6E65 2020-12-07  N.America  Android 2020-12-23 14:35:41   \n",
              "\n",
              "     event_name  details group                  ab_test  \n",
              "0  product_page      NaN     A  recommender_system_test  \n",
              "1         login      NaN     A  recommender_system_test  \n",
              "2  product_page      NaN   NaN                      NaN  \n",
              "3  product_page      NaN   NaN                      NaN  \n",
              "4  product_page      NaN   NaN                      NaN  "
            ],
            "text/html": [
              "\n",
              "  <div id=\"df-6b5d2e44-61f6-4e52-9353-a2e888e089d9\">\n",
              "    <div class=\"colab-df-container\">\n",
              "      <div>\n",
              "<style scoped>\n",
              "    .dataframe tbody tr th:only-of-type {\n",
              "        vertical-align: middle;\n",
              "    }\n",
              "\n",
              "    .dataframe tbody tr th {\n",
              "        vertical-align: top;\n",
              "    }\n",
              "\n",
              "    .dataframe thead th {\n",
              "        text-align: right;\n",
              "    }\n",
              "</style>\n",
              "<table border=\"1\" class=\"dataframe\">\n",
              "  <thead>\n",
              "    <tr style=\"text-align: right;\">\n",
              "      <th></th>\n",
              "      <th>user_id</th>\n",
              "      <th>first_date</th>\n",
              "      <th>region</th>\n",
              "      <th>device</th>\n",
              "      <th>event_dt</th>\n",
              "      <th>event_name</th>\n",
              "      <th>details</th>\n",
              "      <th>group</th>\n",
              "      <th>ab_test</th>\n",
              "    </tr>\n",
              "  </thead>\n",
              "  <tbody>\n",
              "    <tr>\n",
              "      <th>0</th>\n",
              "      <td>D72A72121175D8BE</td>\n",
              "      <td>2020-12-07</td>\n",
              "      <td>EU</td>\n",
              "      <td>PC</td>\n",
              "      <td>2020-12-07 21:52:10</td>\n",
              "      <td>product_page</td>\n",
              "      <td>NaN</td>\n",
              "      <td>A</td>\n",
              "      <td>recommender_system_test</td>\n",
              "    </tr>\n",
              "    <tr>\n",
              "      <th>1</th>\n",
              "      <td>D72A72121175D8BE</td>\n",
              "      <td>2020-12-07</td>\n",
              "      <td>EU</td>\n",
              "      <td>PC</td>\n",
              "      <td>2020-12-07 21:52:07</td>\n",
              "      <td>login</td>\n",
              "      <td>NaN</td>\n",
              "      <td>A</td>\n",
              "      <td>recommender_system_test</td>\n",
              "    </tr>\n",
              "    <tr>\n",
              "      <th>2</th>\n",
              "      <td>F1C668619DFE6E65</td>\n",
              "      <td>2020-12-07</td>\n",
              "      <td>N.America</td>\n",
              "      <td>Android</td>\n",
              "      <td>2020-12-07 16:38:09</td>\n",
              "      <td>product_page</td>\n",
              "      <td>NaN</td>\n",
              "      <td>NaN</td>\n",
              "      <td>NaN</td>\n",
              "    </tr>\n",
              "    <tr>\n",
              "      <th>3</th>\n",
              "      <td>F1C668619DFE6E65</td>\n",
              "      <td>2020-12-07</td>\n",
              "      <td>N.America</td>\n",
              "      <td>Android</td>\n",
              "      <td>2020-12-08 02:02:34</td>\n",
              "      <td>product_page</td>\n",
              "      <td>NaN</td>\n",
              "      <td>NaN</td>\n",
              "      <td>NaN</td>\n",
              "    </tr>\n",
              "    <tr>\n",
              "      <th>4</th>\n",
              "      <td>F1C668619DFE6E65</td>\n",
              "      <td>2020-12-07</td>\n",
              "      <td>N.America</td>\n",
              "      <td>Android</td>\n",
              "      <td>2020-12-23 14:35:41</td>\n",
              "      <td>product_page</td>\n",
              "      <td>NaN</td>\n",
              "      <td>NaN</td>\n",
              "      <td>NaN</td>\n",
              "    </tr>\n",
              "  </tbody>\n",
              "</table>\n",
              "</div>\n",
              "      <button class=\"colab-df-convert\" onclick=\"convertToInteractive('df-6b5d2e44-61f6-4e52-9353-a2e888e089d9')\"\n",
              "              title=\"Convert this dataframe to an interactive table.\"\n",
              "              style=\"display:none;\">\n",
              "        \n",
              "  <svg xmlns=\"http://www.w3.org/2000/svg\" height=\"24px\"viewBox=\"0 0 24 24\"\n",
              "       width=\"24px\">\n",
              "    <path d=\"M0 0h24v24H0V0z\" fill=\"none\"/>\n",
              "    <path d=\"M18.56 5.44l.94 2.06.94-2.06 2.06-.94-2.06-.94-.94-2.06-.94 2.06-2.06.94zm-11 1L8.5 8.5l.94-2.06 2.06-.94-2.06-.94L8.5 2.5l-.94 2.06-2.06.94zm10 10l.94 2.06.94-2.06 2.06-.94-2.06-.94-.94-2.06-.94 2.06-2.06.94z\"/><path d=\"M17.41 7.96l-1.37-1.37c-.4-.4-.92-.59-1.43-.59-.52 0-1.04.2-1.43.59L10.3 9.45l-7.72 7.72c-.78.78-.78 2.05 0 2.83L4 21.41c.39.39.9.59 1.41.59.51 0 1.02-.2 1.41-.59l7.78-7.78 2.81-2.81c.8-.78.8-2.07 0-2.86zM5.41 20L4 18.59l7.72-7.72 1.47 1.35L5.41 20z\"/>\n",
              "  </svg>\n",
              "      </button>\n",
              "      \n",
              "  <style>\n",
              "    .colab-df-container {\n",
              "      display:flex;\n",
              "      flex-wrap:wrap;\n",
              "      gap: 12px;\n",
              "    }\n",
              "\n",
              "    .colab-df-convert {\n",
              "      background-color: #E8F0FE;\n",
              "      border: none;\n",
              "      border-radius: 50%;\n",
              "      cursor: pointer;\n",
              "      display: none;\n",
              "      fill: #1967D2;\n",
              "      height: 32px;\n",
              "      padding: 0 0 0 0;\n",
              "      width: 32px;\n",
              "    }\n",
              "\n",
              "    .colab-df-convert:hover {\n",
              "      background-color: #E2EBFA;\n",
              "      box-shadow: 0px 1px 2px rgba(60, 64, 67, 0.3), 0px 1px 3px 1px rgba(60, 64, 67, 0.15);\n",
              "      fill: #174EA6;\n",
              "    }\n",
              "\n",
              "    [theme=dark] .colab-df-convert {\n",
              "      background-color: #3B4455;\n",
              "      fill: #D2E3FC;\n",
              "    }\n",
              "\n",
              "    [theme=dark] .colab-df-convert:hover {\n",
              "      background-color: #434B5C;\n",
              "      box-shadow: 0px 1px 3px 1px rgba(0, 0, 0, 0.15);\n",
              "      filter: drop-shadow(0px 1px 2px rgba(0, 0, 0, 0.3));\n",
              "      fill: #FFFFFF;\n",
              "    }\n",
              "  </style>\n",
              "\n",
              "      <script>\n",
              "        const buttonEl =\n",
              "          document.querySelector('#df-6b5d2e44-61f6-4e52-9353-a2e888e089d9 button.colab-df-convert');\n",
              "        buttonEl.style.display =\n",
              "          google.colab.kernel.accessAllowed ? 'block' : 'none';\n",
              "\n",
              "        async function convertToInteractive(key) {\n",
              "          const element = document.querySelector('#df-6b5d2e44-61f6-4e52-9353-a2e888e089d9');\n",
              "          const dataTable =\n",
              "            await google.colab.kernel.invokeFunction('convertToInteractive',\n",
              "                                                     [key], {});\n",
              "          if (!dataTable) return;\n",
              "\n",
              "          const docLinkHtml = 'Like what you see? Visit the ' +\n",
              "            '<a target=\"_blank\" href=https://colab.research.google.com/notebooks/data_table.ipynb>data table notebook</a>'\n",
              "            + ' to learn more about interactive tables.';\n",
              "          element.innerHTML = '';\n",
              "          dataTable['output_type'] = 'display_data';\n",
              "          await google.colab.output.renderOutput(dataTable, element);\n",
              "          const docLink = document.createElement('div');\n",
              "          docLink.innerHTML = docLinkHtml;\n",
              "          element.appendChild(docLink);\n",
              "        }\n",
              "      </script>\n",
              "    </div>\n",
              "  </div>\n",
              "  "
            ]
          },
          "metadata": {},
          "execution_count": 8
        }
      ],
      "source": [
        "# Объеденим датасеты users, events и participants\n",
        "user_new=users.merge(events, on='user_id',how='left').merge(participants, on='user_id', how='left')\n",
        "user_new.head()\n"
      ]
    },
    {
      "cell_type": "code",
      "execution_count": 9,
      "id": "PGqieu1lZii3",
      "metadata": {
        "colab": {
          "base_uri": "https://localhost:8080/"
        },
        "id": "PGqieu1lZii3",
        "outputId": "999c2864-fb91-495e-f48f-2e111b41a0f9"
      },
      "outputs": [
        {
          "output_type": "stream",
          "name": "stdout",
          "text": [
            "Дата начала эксперимента: 2020-12-07 00:00:33\n",
            "Дата окончания эксперимента: 2020-12-30 23:36:33\n",
            "Продолжительность эксперимента: 23 days 23:36:00\n"
          ]
        }
      ],
      "source": [
        "# Определим временные рамки эксперимента\n",
        "print('Дата начала эксперимента: {}'.format(user_new['event_dt'].min()))\n",
        "print('Дата окончания эксперимента: {}'.format(user_new['event_dt'].max()))\n",
        "print('Продолжительность эксперимента: {}'.format(user_new['event_dt'].max()-user_new['event_dt'].min()))"
      ]
    },
    {
      "cell_type": "markdown",
      "id": "Iqsd90V9YlWG",
      "metadata": {
        "id": "Iqsd90V9YlWG"
      },
      "source": [
        "Согласно ТЗ дата остановки теста 2021-01-04, дата последних данных о событиях 2020-12-30, тест должен продолжатся"
      ]
    },
    {
      "cell_type": "code",
      "execution_count": 10,
      "id": "C_st0mOVaB5c",
      "metadata": {
        "colab": {
          "base_uri": "https://localhost:8080/"
        },
        "id": "C_st0mOVaB5c",
        "outputId": "c9300a96-5d4b-40fa-ff15-9bb3f4a987a6"
      },
      "outputs": [
        {
          "output_type": "stream",
          "name": "stdout",
          "text": [
            "Min дата: 2020-12-07 00:00:00\n",
            "Max дата: 2020-12-23 00:00:00\n"
          ]
        }
      ],
      "source": [
        "# посмотрим даты начала набора новых пользователей и даты остановки набора новых пользователей\n",
        "print('Min дата:',  user_new['first_date'].min())\n",
        "print('Max дата:',  user_new['first_date'].max())"
      ]
    },
    {
      "cell_type": "markdown",
      "id": "u5o7Y7ihaWiA",
      "metadata": {
        "id": "u5o7Y7ihaWiA"
      },
      "source": [
        "В датасете видим даты от 7 до 23 декабря 2020 года. По ТЗ дата остановки набора новых пользователей - 21 декабря 2020, поэтому удалим из датасета все строки с более поздней датой."
      ]
    },
    {
      "cell_type": "code",
      "execution_count": 11,
      "id": "BgJT6iQRaZzB",
      "metadata": {
        "id": "BgJT6iQRaZzB"
      },
      "outputs": [],
      "source": [
        "user_new=user_new[user_new['first_date'] <= '2020-12-21']"
      ]
    },
    {
      "cell_type": "markdown",
      "id": "OR2967WGpj5I",
      "metadata": {
        "id": "OR2967WGpj5I"
      },
      "source": [
        "аудитория: 15% новых пользователей из региона EU\n",
        "Проверим регионы пользователей.  \n",
        "Сгруппируем датасет по ```region```\n",
        "\n"
      ]
    },
    {
      "cell_type": "code",
      "execution_count": 12,
      "id": "2gSXa7DvbBpb",
      "metadata": {
        "colab": {
          "base_uri": "https://localhost:8080/"
        },
        "id": "2gSXa7DvbBpb",
        "outputId": "b5780b0f-04a7-4d87-cb37-7100636a7b9f"
      },
      "outputs": [
        {
          "output_type": "execute_result",
          "data": {
            "text/plain": [
              "region\n",
              "APAC          2883\n",
              "CIS           2900\n",
              "EU           42340\n",
              "N.America     8347\n",
              "Name: user_id, dtype: int64"
            ]
          },
          "metadata": {},
          "execution_count": 12
        }
      ],
      "source": [
        "user_new.groupby('region')['user_id'].nunique()"
      ]
    },
    {
      "cell_type": "markdown",
      "id": "nBPfI2i2bEed",
      "metadata": {
        "id": "nBPfI2i2bEed"
      },
      "source": [
        "Видим регионы, отличные от региона \"Европа\" (N.America, CIS, APAC). Так как для проверки результатов теста нам они не понадобятся, удалим данные по всем регионам, кроме Европы."
      ]
    },
    {
      "cell_type": "code",
      "execution_count": 13,
      "id": "7sSGUICTbHgE",
      "metadata": {
        "id": "7sSGUICTbHgE"
      },
      "outputs": [],
      "source": [
        "user_new = user_new[user_new['region'] == 'EU']"
      ]
    },
    {
      "cell_type": "code",
      "execution_count": 14,
      "id": "0459f535",
      "metadata": {
        "id": "0459f535",
        "outputId": "948bd700-bb13-4766-c3c4-2ed3044a9c5d",
        "colab": {
          "base_uri": "https://localhost:8080/"
        }
      },
      "outputs": [
        {
          "output_type": "stream",
          "name": "stdout",
          "text": [
            "Доля участников теста относительно общего количества новых пользователей из региона \"Европа\": 15.00%\n"
          ]
        }
      ],
      "source": [
        "#проверка доли участников теста\n",
        "print(\n",
        "    'Доля участников теста относительно общего количества новых пользователей из региона \"Европа\": {:.2f}%'.format(\n",
        "        user_new[user_new['ab_test'] == 'recommender_system_test']['user_id'].nunique()/(user_new['user_id'].nunique())*100)\n",
        ")"
      ]
    },
    {
      "cell_type": "code",
      "execution_count": 15,
      "id": "a96019d2",
      "metadata": {
        "id": "a96019d2",
        "outputId": "0c0f01b7-90b6-462c-f8d2-85131829ca87",
        "colab": {
          "base_uri": "https://localhost:8080/"
        }
      },
      "outputs": [
        {
          "output_type": "execute_result",
          "data": {
            "text/plain": [
              "42340"
            ]
          },
          "metadata": {},
          "execution_count": 15
        }
      ],
      "source": [
        "user_new[user_new['region'] == 'EU']['user_id'].nunique()"
      ]
    },
    {
      "cell_type": "code",
      "execution_count": 16,
      "id": "c2b330cc",
      "metadata": {
        "id": "c2b330cc",
        "outputId": "8a06426a-7969-431e-b9e2-5e55a28f65d2",
        "colab": {
          "base_uri": "https://localhost:8080/"
        }
      },
      "outputs": [
        {
          "output_type": "execute_result",
          "data": {
            "text/plain": [
              "46270"
            ]
          },
          "metadata": {},
          "execution_count": 16
        }
      ],
      "source": [
        "users[users['region'] == 'EU']['user_id'].nunique()"
      ]
    },
    {
      "cell_type": "markdown",
      "id": "mVmNzhxIRet7",
      "metadata": {
        "id": "mVmNzhxIRet7"
      },
      "source": [
        "Согласно ТЗ аудитория 15% новых пользователей из региона EU в нашем тесте набралась."
      ]
    },
    {
      "cell_type": "code",
      "execution_count": 17,
      "id": "FDLkV7O8LKqX",
      "metadata": {
        "colab": {
          "base_uri": "https://localhost:8080/",
          "height": 206
        },
        "id": "FDLkV7O8LKqX",
        "outputId": "f6bd58e9-d41f-4f26-9ca6-fcd776b37c68"
      },
      "outputs": [
        {
          "output_type": "execute_result",
          "data": {
            "text/plain": [
              "                               user_id\n",
              "ab_test                 group         \n",
              "interface_eu_test       A         5342\n",
              "                        B         5223\n",
              "recommender_system_test A         3634\n",
              "                        B         2717"
            ],
            "text/html": [
              "\n",
              "  <div id=\"df-3fd0268a-bfb9-40a9-8db6-7cc7e291ec9a\">\n",
              "    <div class=\"colab-df-container\">\n",
              "      <div>\n",
              "<style scoped>\n",
              "    .dataframe tbody tr th:only-of-type {\n",
              "        vertical-align: middle;\n",
              "    }\n",
              "\n",
              "    .dataframe tbody tr th {\n",
              "        vertical-align: top;\n",
              "    }\n",
              "\n",
              "    .dataframe thead th {\n",
              "        text-align: right;\n",
              "    }\n",
              "</style>\n",
              "<table border=\"1\" class=\"dataframe\">\n",
              "  <thead>\n",
              "    <tr style=\"text-align: right;\">\n",
              "      <th></th>\n",
              "      <th></th>\n",
              "      <th>user_id</th>\n",
              "    </tr>\n",
              "    <tr>\n",
              "      <th>ab_test</th>\n",
              "      <th>group</th>\n",
              "      <th></th>\n",
              "    </tr>\n",
              "  </thead>\n",
              "  <tbody>\n",
              "    <tr>\n",
              "      <th rowspan=\"2\" valign=\"top\">interface_eu_test</th>\n",
              "      <th>A</th>\n",
              "      <td>5342</td>\n",
              "    </tr>\n",
              "    <tr>\n",
              "      <th>B</th>\n",
              "      <td>5223</td>\n",
              "    </tr>\n",
              "    <tr>\n",
              "      <th rowspan=\"2\" valign=\"top\">recommender_system_test</th>\n",
              "      <th>A</th>\n",
              "      <td>3634</td>\n",
              "    </tr>\n",
              "    <tr>\n",
              "      <th>B</th>\n",
              "      <td>2717</td>\n",
              "    </tr>\n",
              "  </tbody>\n",
              "</table>\n",
              "</div>\n",
              "      <button class=\"colab-df-convert\" onclick=\"convertToInteractive('df-3fd0268a-bfb9-40a9-8db6-7cc7e291ec9a')\"\n",
              "              title=\"Convert this dataframe to an interactive table.\"\n",
              "              style=\"display:none;\">\n",
              "        \n",
              "  <svg xmlns=\"http://www.w3.org/2000/svg\" height=\"24px\"viewBox=\"0 0 24 24\"\n",
              "       width=\"24px\">\n",
              "    <path d=\"M0 0h24v24H0V0z\" fill=\"none\"/>\n",
              "    <path d=\"M18.56 5.44l.94 2.06.94-2.06 2.06-.94-2.06-.94-.94-2.06-.94 2.06-2.06.94zm-11 1L8.5 8.5l.94-2.06 2.06-.94-2.06-.94L8.5 2.5l-.94 2.06-2.06.94zm10 10l.94 2.06.94-2.06 2.06-.94-2.06-.94-.94-2.06-.94 2.06-2.06.94z\"/><path d=\"M17.41 7.96l-1.37-1.37c-.4-.4-.92-.59-1.43-.59-.52 0-1.04.2-1.43.59L10.3 9.45l-7.72 7.72c-.78.78-.78 2.05 0 2.83L4 21.41c.39.39.9.59 1.41.59.51 0 1.02-.2 1.41-.59l7.78-7.78 2.81-2.81c.8-.78.8-2.07 0-2.86zM5.41 20L4 18.59l7.72-7.72 1.47 1.35L5.41 20z\"/>\n",
              "  </svg>\n",
              "      </button>\n",
              "      \n",
              "  <style>\n",
              "    .colab-df-container {\n",
              "      display:flex;\n",
              "      flex-wrap:wrap;\n",
              "      gap: 12px;\n",
              "    }\n",
              "\n",
              "    .colab-df-convert {\n",
              "      background-color: #E8F0FE;\n",
              "      border: none;\n",
              "      border-radius: 50%;\n",
              "      cursor: pointer;\n",
              "      display: none;\n",
              "      fill: #1967D2;\n",
              "      height: 32px;\n",
              "      padding: 0 0 0 0;\n",
              "      width: 32px;\n",
              "    }\n",
              "\n",
              "    .colab-df-convert:hover {\n",
              "      background-color: #E2EBFA;\n",
              "      box-shadow: 0px 1px 2px rgba(60, 64, 67, 0.3), 0px 1px 3px 1px rgba(60, 64, 67, 0.15);\n",
              "      fill: #174EA6;\n",
              "    }\n",
              "\n",
              "    [theme=dark] .colab-df-convert {\n",
              "      background-color: #3B4455;\n",
              "      fill: #D2E3FC;\n",
              "    }\n",
              "\n",
              "    [theme=dark] .colab-df-convert:hover {\n",
              "      background-color: #434B5C;\n",
              "      box-shadow: 0px 1px 3px 1px rgba(0, 0, 0, 0.15);\n",
              "      filter: drop-shadow(0px 1px 2px rgba(0, 0, 0, 0.3));\n",
              "      fill: #FFFFFF;\n",
              "    }\n",
              "  </style>\n",
              "\n",
              "      <script>\n",
              "        const buttonEl =\n",
              "          document.querySelector('#df-3fd0268a-bfb9-40a9-8db6-7cc7e291ec9a button.colab-df-convert');\n",
              "        buttonEl.style.display =\n",
              "          google.colab.kernel.accessAllowed ? 'block' : 'none';\n",
              "\n",
              "        async function convertToInteractive(key) {\n",
              "          const element = document.querySelector('#df-3fd0268a-bfb9-40a9-8db6-7cc7e291ec9a');\n",
              "          const dataTable =\n",
              "            await google.colab.kernel.invokeFunction('convertToInteractive',\n",
              "                                                     [key], {});\n",
              "          if (!dataTable) return;\n",
              "\n",
              "          const docLinkHtml = 'Like what you see? Visit the ' +\n",
              "            '<a target=\"_blank\" href=https://colab.research.google.com/notebooks/data_table.ipynb>data table notebook</a>'\n",
              "            + ' to learn more about interactive tables.';\n",
              "          element.innerHTML = '';\n",
              "          dataTable['output_type'] = 'display_data';\n",
              "          await google.colab.output.renderOutput(dataTable, element);\n",
              "          const docLink = document.createElement('div');\n",
              "          docLink.innerHTML = docLinkHtml;\n",
              "          element.appendChild(docLink);\n",
              "        }\n",
              "      </script>\n",
              "    </div>\n",
              "  </div>\n",
              "  "
            ]
          },
          "metadata": {},
          "execution_count": 17
        }
      ],
      "source": [
        "#оценим группировку значений по тесту и группе теста\n",
        "user_new.groupby(['ab_test', 'group']).agg({'user_id': 'nunique'})"
      ]
    },
    {
      "cell_type": "markdown",
      "id": "SogCDABTmbON",
      "metadata": {
        "id": "SogCDABTmbON"
      },
      "source": [
        "Предоставлены данные о двух тестах  ```interface_eu_test``` и ```recommender_system_test```. Согласно ТЗ нас интересует только ```recommender_system_test``` \n",
        "\n",
        "Проверим пересечения тестовых аудиторий. Для этого создадим датасет, в котором сохраним количество тестов, в которых принимал участие каждый пользователь и присоеденим его к датасету user_new.\n",
        "\n",
        "\n"
      ]
    },
    {
      "cell_type": "code",
      "execution_count": 18,
      "id": "Q6BzYo_zbzYa",
      "metadata": {
        "id": "Q6BzYo_zbzYa"
      },
      "outputs": [],
      "source": [
        "#создадим датафрейм, в котором сохраним количество тестов, в которых принимал участие каждый пользователь\n",
        "two_tests_user_new = user_new.groupby('user_id', as_index=False).agg({'ab_test': 'nunique'})\n",
        "two_tests_user_new = two_tests_user_new.rename(columns={'ab_test': 'number_of_tests'})\n",
        "user_new=user_new.merge(two_tests_user_new, on = 'user_id', how='left')"
      ]
    },
    {
      "cell_type": "markdown",
      "id": "FCjRxkM6oKf9",
      "metadata": {
        "id": "FCjRxkM6oKf9"
      },
      "source": [
        "Оставим в датасете user_new данные только для интересующего нас теста и проверим количество уникальных групп теста."
      ]
    },
    {
      "cell_type": "code",
      "execution_count": 19,
      "id": "k9G3gl1gLzGN",
      "metadata": {
        "colab": {
          "base_uri": "https://localhost:8080/",
          "height": 143
        },
        "id": "k9G3gl1gLzGN",
        "outputId": "245e83bc-2835-4829-f32e-cb8c44d150bb"
      },
      "outputs": [
        {
          "output_type": "execute_result",
          "data": {
            "text/plain": [
              "                 user_id\n",
              "number_of_tests         \n",
              "1                   4749\n",
              "2                   1602"
            ],
            "text/html": [
              "\n",
              "  <div id=\"df-6a57f9d3-37e8-4d28-9157-708fc2b21e28\">\n",
              "    <div class=\"colab-df-container\">\n",
              "      <div>\n",
              "<style scoped>\n",
              "    .dataframe tbody tr th:only-of-type {\n",
              "        vertical-align: middle;\n",
              "    }\n",
              "\n",
              "    .dataframe tbody tr th {\n",
              "        vertical-align: top;\n",
              "    }\n",
              "\n",
              "    .dataframe thead th {\n",
              "        text-align: right;\n",
              "    }\n",
              "</style>\n",
              "<table border=\"1\" class=\"dataframe\">\n",
              "  <thead>\n",
              "    <tr style=\"text-align: right;\">\n",
              "      <th></th>\n",
              "      <th>user_id</th>\n",
              "    </tr>\n",
              "    <tr>\n",
              "      <th>number_of_tests</th>\n",
              "      <th></th>\n",
              "    </tr>\n",
              "  </thead>\n",
              "  <tbody>\n",
              "    <tr>\n",
              "      <th>1</th>\n",
              "      <td>4749</td>\n",
              "    </tr>\n",
              "    <tr>\n",
              "      <th>2</th>\n",
              "      <td>1602</td>\n",
              "    </tr>\n",
              "  </tbody>\n",
              "</table>\n",
              "</div>\n",
              "      <button class=\"colab-df-convert\" onclick=\"convertToInteractive('df-6a57f9d3-37e8-4d28-9157-708fc2b21e28')\"\n",
              "              title=\"Convert this dataframe to an interactive table.\"\n",
              "              style=\"display:none;\">\n",
              "        \n",
              "  <svg xmlns=\"http://www.w3.org/2000/svg\" height=\"24px\"viewBox=\"0 0 24 24\"\n",
              "       width=\"24px\">\n",
              "    <path d=\"M0 0h24v24H0V0z\" fill=\"none\"/>\n",
              "    <path d=\"M18.56 5.44l.94 2.06.94-2.06 2.06-.94-2.06-.94-.94-2.06-.94 2.06-2.06.94zm-11 1L8.5 8.5l.94-2.06 2.06-.94-2.06-.94L8.5 2.5l-.94 2.06-2.06.94zm10 10l.94 2.06.94-2.06 2.06-.94-2.06-.94-.94-2.06-.94 2.06-2.06.94z\"/><path d=\"M17.41 7.96l-1.37-1.37c-.4-.4-.92-.59-1.43-.59-.52 0-1.04.2-1.43.59L10.3 9.45l-7.72 7.72c-.78.78-.78 2.05 0 2.83L4 21.41c.39.39.9.59 1.41.59.51 0 1.02-.2 1.41-.59l7.78-7.78 2.81-2.81c.8-.78.8-2.07 0-2.86zM5.41 20L4 18.59l7.72-7.72 1.47 1.35L5.41 20z\"/>\n",
              "  </svg>\n",
              "      </button>\n",
              "      \n",
              "  <style>\n",
              "    .colab-df-container {\n",
              "      display:flex;\n",
              "      flex-wrap:wrap;\n",
              "      gap: 12px;\n",
              "    }\n",
              "\n",
              "    .colab-df-convert {\n",
              "      background-color: #E8F0FE;\n",
              "      border: none;\n",
              "      border-radius: 50%;\n",
              "      cursor: pointer;\n",
              "      display: none;\n",
              "      fill: #1967D2;\n",
              "      height: 32px;\n",
              "      padding: 0 0 0 0;\n",
              "      width: 32px;\n",
              "    }\n",
              "\n",
              "    .colab-df-convert:hover {\n",
              "      background-color: #E2EBFA;\n",
              "      box-shadow: 0px 1px 2px rgba(60, 64, 67, 0.3), 0px 1px 3px 1px rgba(60, 64, 67, 0.15);\n",
              "      fill: #174EA6;\n",
              "    }\n",
              "\n",
              "    [theme=dark] .colab-df-convert {\n",
              "      background-color: #3B4455;\n",
              "      fill: #D2E3FC;\n",
              "    }\n",
              "\n",
              "    [theme=dark] .colab-df-convert:hover {\n",
              "      background-color: #434B5C;\n",
              "      box-shadow: 0px 1px 3px 1px rgba(0, 0, 0, 0.15);\n",
              "      filter: drop-shadow(0px 1px 2px rgba(0, 0, 0, 0.3));\n",
              "      fill: #FFFFFF;\n",
              "    }\n",
              "  </style>\n",
              "\n",
              "      <script>\n",
              "        const buttonEl =\n",
              "          document.querySelector('#df-6a57f9d3-37e8-4d28-9157-708fc2b21e28 button.colab-df-convert');\n",
              "        buttonEl.style.display =\n",
              "          google.colab.kernel.accessAllowed ? 'block' : 'none';\n",
              "\n",
              "        async function convertToInteractive(key) {\n",
              "          const element = document.querySelector('#df-6a57f9d3-37e8-4d28-9157-708fc2b21e28');\n",
              "          const dataTable =\n",
              "            await google.colab.kernel.invokeFunction('convertToInteractive',\n",
              "                                                     [key], {});\n",
              "          if (!dataTable) return;\n",
              "\n",
              "          const docLinkHtml = 'Like what you see? Visit the ' +\n",
              "            '<a target=\"_blank\" href=https://colab.research.google.com/notebooks/data_table.ipynb>data table notebook</a>'\n",
              "            + ' to learn more about interactive tables.';\n",
              "          element.innerHTML = '';\n",
              "          dataTable['output_type'] = 'display_data';\n",
              "          await google.colab.output.renderOutput(dataTable, element);\n",
              "          const docLink = document.createElement('div');\n",
              "          docLink.innerHTML = docLinkHtml;\n",
              "          element.appendChild(docLink);\n",
              "        }\n",
              "      </script>\n",
              "    </div>\n",
              "  </div>\n",
              "  "
            ]
          },
          "metadata": {},
          "execution_count": 19
        }
      ],
      "source": [
        "user_new=user_new[user_new['ab_test']=='recommender_system_test']\n",
        "user_new.groupby(['number_of_tests']).agg({'user_id': 'nunique'})\n"
      ]
    },
    {
      "cell_type": "markdown",
      "id": "06c29094",
      "metadata": {
        "id": "06c29094"
      },
      "source": [
        "Проверю вхождение в группы нашего теста пользователей, принимавших участие в тесте  ```interface_eu_test```"
      ]
    },
    {
      "cell_type": "code",
      "execution_count": 20,
      "id": "da1c7110",
      "metadata": {
        "scrolled": true,
        "id": "da1c7110",
        "outputId": "f6293dbf-9678-4656-fa59-9adb47560fe4",
        "colab": {
          "base_uri": "https://localhost:8080/",
          "height": 206
        }
      },
      "outputs": [
        {
          "output_type": "execute_result",
          "data": {
            "text/plain": [
              "                       user_id\n",
              "group number_of_tests         \n",
              "A     1                   2713\n",
              "      2                    921\n",
              "B     1                   2036\n",
              "      2                    681"
            ],
            "text/html": [
              "\n",
              "  <div id=\"df-dbf1dc4c-f0ba-4d7a-ba6c-812d83b8e167\">\n",
              "    <div class=\"colab-df-container\">\n",
              "      <div>\n",
              "<style scoped>\n",
              "    .dataframe tbody tr th:only-of-type {\n",
              "        vertical-align: middle;\n",
              "    }\n",
              "\n",
              "    .dataframe tbody tr th {\n",
              "        vertical-align: top;\n",
              "    }\n",
              "\n",
              "    .dataframe thead th {\n",
              "        text-align: right;\n",
              "    }\n",
              "</style>\n",
              "<table border=\"1\" class=\"dataframe\">\n",
              "  <thead>\n",
              "    <tr style=\"text-align: right;\">\n",
              "      <th></th>\n",
              "      <th></th>\n",
              "      <th>user_id</th>\n",
              "    </tr>\n",
              "    <tr>\n",
              "      <th>group</th>\n",
              "      <th>number_of_tests</th>\n",
              "      <th></th>\n",
              "    </tr>\n",
              "  </thead>\n",
              "  <tbody>\n",
              "    <tr>\n",
              "      <th rowspan=\"2\" valign=\"top\">A</th>\n",
              "      <th>1</th>\n",
              "      <td>2713</td>\n",
              "    </tr>\n",
              "    <tr>\n",
              "      <th>2</th>\n",
              "      <td>921</td>\n",
              "    </tr>\n",
              "    <tr>\n",
              "      <th rowspan=\"2\" valign=\"top\">B</th>\n",
              "      <th>1</th>\n",
              "      <td>2036</td>\n",
              "    </tr>\n",
              "    <tr>\n",
              "      <th>2</th>\n",
              "      <td>681</td>\n",
              "    </tr>\n",
              "  </tbody>\n",
              "</table>\n",
              "</div>\n",
              "      <button class=\"colab-df-convert\" onclick=\"convertToInteractive('df-dbf1dc4c-f0ba-4d7a-ba6c-812d83b8e167')\"\n",
              "              title=\"Convert this dataframe to an interactive table.\"\n",
              "              style=\"display:none;\">\n",
              "        \n",
              "  <svg xmlns=\"http://www.w3.org/2000/svg\" height=\"24px\"viewBox=\"0 0 24 24\"\n",
              "       width=\"24px\">\n",
              "    <path d=\"M0 0h24v24H0V0z\" fill=\"none\"/>\n",
              "    <path d=\"M18.56 5.44l.94 2.06.94-2.06 2.06-.94-2.06-.94-.94-2.06-.94 2.06-2.06.94zm-11 1L8.5 8.5l.94-2.06 2.06-.94-2.06-.94L8.5 2.5l-.94 2.06-2.06.94zm10 10l.94 2.06.94-2.06 2.06-.94-2.06-.94-.94-2.06-.94 2.06-2.06.94z\"/><path d=\"M17.41 7.96l-1.37-1.37c-.4-.4-.92-.59-1.43-.59-.52 0-1.04.2-1.43.59L10.3 9.45l-7.72 7.72c-.78.78-.78 2.05 0 2.83L4 21.41c.39.39.9.59 1.41.59.51 0 1.02-.2 1.41-.59l7.78-7.78 2.81-2.81c.8-.78.8-2.07 0-2.86zM5.41 20L4 18.59l7.72-7.72 1.47 1.35L5.41 20z\"/>\n",
              "  </svg>\n",
              "      </button>\n",
              "      \n",
              "  <style>\n",
              "    .colab-df-container {\n",
              "      display:flex;\n",
              "      flex-wrap:wrap;\n",
              "      gap: 12px;\n",
              "    }\n",
              "\n",
              "    .colab-df-convert {\n",
              "      background-color: #E8F0FE;\n",
              "      border: none;\n",
              "      border-radius: 50%;\n",
              "      cursor: pointer;\n",
              "      display: none;\n",
              "      fill: #1967D2;\n",
              "      height: 32px;\n",
              "      padding: 0 0 0 0;\n",
              "      width: 32px;\n",
              "    }\n",
              "\n",
              "    .colab-df-convert:hover {\n",
              "      background-color: #E2EBFA;\n",
              "      box-shadow: 0px 1px 2px rgba(60, 64, 67, 0.3), 0px 1px 3px 1px rgba(60, 64, 67, 0.15);\n",
              "      fill: #174EA6;\n",
              "    }\n",
              "\n",
              "    [theme=dark] .colab-df-convert {\n",
              "      background-color: #3B4455;\n",
              "      fill: #D2E3FC;\n",
              "    }\n",
              "\n",
              "    [theme=dark] .colab-df-convert:hover {\n",
              "      background-color: #434B5C;\n",
              "      box-shadow: 0px 1px 3px 1px rgba(0, 0, 0, 0.15);\n",
              "      filter: drop-shadow(0px 1px 2px rgba(0, 0, 0, 0.3));\n",
              "      fill: #FFFFFF;\n",
              "    }\n",
              "  </style>\n",
              "\n",
              "      <script>\n",
              "        const buttonEl =\n",
              "          document.querySelector('#df-dbf1dc4c-f0ba-4d7a-ba6c-812d83b8e167 button.colab-df-convert');\n",
              "        buttonEl.style.display =\n",
              "          google.colab.kernel.accessAllowed ? 'block' : 'none';\n",
              "\n",
              "        async function convertToInteractive(key) {\n",
              "          const element = document.querySelector('#df-dbf1dc4c-f0ba-4d7a-ba6c-812d83b8e167');\n",
              "          const dataTable =\n",
              "            await google.colab.kernel.invokeFunction('convertToInteractive',\n",
              "                                                     [key], {});\n",
              "          if (!dataTable) return;\n",
              "\n",
              "          const docLinkHtml = 'Like what you see? Visit the ' +\n",
              "            '<a target=\"_blank\" href=https://colab.research.google.com/notebooks/data_table.ipynb>data table notebook</a>'\n",
              "            + ' to learn more about interactive tables.';\n",
              "          element.innerHTML = '';\n",
              "          dataTable['output_type'] = 'display_data';\n",
              "          await google.colab.output.renderOutput(dataTable, element);\n",
              "          const docLink = document.createElement('div');\n",
              "          docLink.innerHTML = docLinkHtml;\n",
              "          element.appendChild(docLink);\n",
              "        }\n",
              "      </script>\n",
              "    </div>\n",
              "  </div>\n",
              "  "
            ]
          },
          "metadata": {},
          "execution_count": 20
        }
      ],
      "source": [
        "user_new.groupby(['group', 'number_of_tests']).agg({'user_id': 'nunique'})"
      ]
    },
    {
      "cell_type": "markdown",
      "id": "7327d2e8",
      "metadata": {
        "id": "7327d2e8"
      },
      "source": [
        "Принимали участие в обоих тестах из группы А 921 человек, из группы В 681 человек."
      ]
    },
    {
      "cell_type": "code",
      "execution_count": 21,
      "id": "jfeiLH8n8G8b",
      "metadata": {
        "colab": {
          "base_uri": "https://localhost:8080/",
          "height": 81
        },
        "id": "jfeiLH8n8G8b",
        "outputId": "e561046b-1712-4ff1-df81-98fa9be37674"
      },
      "outputs": [
        {
          "output_type": "execute_result",
          "data": {
            "text/plain": [
              "Empty DataFrame\n",
              "Columns: [group]\n",
              "Index: []"
            ],
            "text/html": [
              "\n",
              "  <div id=\"df-288fd8ef-f714-41ed-b78a-e52cdca78403\">\n",
              "    <div class=\"colab-df-container\">\n",
              "      <div>\n",
              "<style scoped>\n",
              "    .dataframe tbody tr th:only-of-type {\n",
              "        vertical-align: middle;\n",
              "    }\n",
              "\n",
              "    .dataframe tbody tr th {\n",
              "        vertical-align: top;\n",
              "    }\n",
              "\n",
              "    .dataframe thead th {\n",
              "        text-align: right;\n",
              "    }\n",
              "</style>\n",
              "<table border=\"1\" class=\"dataframe\">\n",
              "  <thead>\n",
              "    <tr style=\"text-align: right;\">\n",
              "      <th></th>\n",
              "      <th>group</th>\n",
              "    </tr>\n",
              "    <tr>\n",
              "      <th>user_id</th>\n",
              "      <th></th>\n",
              "    </tr>\n",
              "  </thead>\n",
              "  <tbody>\n",
              "  </tbody>\n",
              "</table>\n",
              "</div>\n",
              "      <button class=\"colab-df-convert\" onclick=\"convertToInteractive('df-288fd8ef-f714-41ed-b78a-e52cdca78403')\"\n",
              "              title=\"Convert this dataframe to an interactive table.\"\n",
              "              style=\"display:none;\">\n",
              "        \n",
              "  <svg xmlns=\"http://www.w3.org/2000/svg\" height=\"24px\"viewBox=\"0 0 24 24\"\n",
              "       width=\"24px\">\n",
              "    <path d=\"M0 0h24v24H0V0z\" fill=\"none\"/>\n",
              "    <path d=\"M18.56 5.44l.94 2.06.94-2.06 2.06-.94-2.06-.94-.94-2.06-.94 2.06-2.06.94zm-11 1L8.5 8.5l.94-2.06 2.06-.94-2.06-.94L8.5 2.5l-.94 2.06-2.06.94zm10 10l.94 2.06.94-2.06 2.06-.94-2.06-.94-.94-2.06-.94 2.06-2.06.94z\"/><path d=\"M17.41 7.96l-1.37-1.37c-.4-.4-.92-.59-1.43-.59-.52 0-1.04.2-1.43.59L10.3 9.45l-7.72 7.72c-.78.78-.78 2.05 0 2.83L4 21.41c.39.39.9.59 1.41.59.51 0 1.02-.2 1.41-.59l7.78-7.78 2.81-2.81c.8-.78.8-2.07 0-2.86zM5.41 20L4 18.59l7.72-7.72 1.47 1.35L5.41 20z\"/>\n",
              "  </svg>\n",
              "      </button>\n",
              "      \n",
              "  <style>\n",
              "    .colab-df-container {\n",
              "      display:flex;\n",
              "      flex-wrap:wrap;\n",
              "      gap: 12px;\n",
              "    }\n",
              "\n",
              "    .colab-df-convert {\n",
              "      background-color: #E8F0FE;\n",
              "      border: none;\n",
              "      border-radius: 50%;\n",
              "      cursor: pointer;\n",
              "      display: none;\n",
              "      fill: #1967D2;\n",
              "      height: 32px;\n",
              "      padding: 0 0 0 0;\n",
              "      width: 32px;\n",
              "    }\n",
              "\n",
              "    .colab-df-convert:hover {\n",
              "      background-color: #E2EBFA;\n",
              "      box-shadow: 0px 1px 2px rgba(60, 64, 67, 0.3), 0px 1px 3px 1px rgba(60, 64, 67, 0.15);\n",
              "      fill: #174EA6;\n",
              "    }\n",
              "\n",
              "    [theme=dark] .colab-df-convert {\n",
              "      background-color: #3B4455;\n",
              "      fill: #D2E3FC;\n",
              "    }\n",
              "\n",
              "    [theme=dark] .colab-df-convert:hover {\n",
              "      background-color: #434B5C;\n",
              "      box-shadow: 0px 1px 3px 1px rgba(0, 0, 0, 0.15);\n",
              "      filter: drop-shadow(0px 1px 2px rgba(0, 0, 0, 0.3));\n",
              "      fill: #FFFFFF;\n",
              "    }\n",
              "  </style>\n",
              "\n",
              "      <script>\n",
              "        const buttonEl =\n",
              "          document.querySelector('#df-288fd8ef-f714-41ed-b78a-e52cdca78403 button.colab-df-convert');\n",
              "        buttonEl.style.display =\n",
              "          google.colab.kernel.accessAllowed ? 'block' : 'none';\n",
              "\n",
              "        async function convertToInteractive(key) {\n",
              "          const element = document.querySelector('#df-288fd8ef-f714-41ed-b78a-e52cdca78403');\n",
              "          const dataTable =\n",
              "            await google.colab.kernel.invokeFunction('convertToInteractive',\n",
              "                                                     [key], {});\n",
              "          if (!dataTable) return;\n",
              "\n",
              "          const docLinkHtml = 'Like what you see? Visit the ' +\n",
              "            '<a target=\"_blank\" href=https://colab.research.google.com/notebooks/data_table.ipynb>data table notebook</a>'\n",
              "            + ' to learn more about interactive tables.';\n",
              "          element.innerHTML = '';\n",
              "          dataTable['output_type'] = 'display_data';\n",
              "          await google.colab.output.renderOutput(dataTable, element);\n",
              "          const docLink = document.createElement('div');\n",
              "          docLink.innerHTML = docLinkHtml;\n",
              "          element.appendChild(docLink);\n",
              "        }\n",
              "      </script>\n",
              "    </div>\n",
              "  </div>\n",
              "  "
            ]
          },
          "metadata": {},
          "execution_count": 21
        }
      ],
      "source": [
        "users_dubl = user_new.groupby(['user_id']).agg({'group': 'nunique'})\n",
        "users_dubl[users_dubl['group']>1]"
      ]
    },
    {
      "cell_type": "code",
      "execution_count": 22,
      "id": "QkVmTztQMeXg",
      "metadata": {
        "colab": {
          "base_uri": "https://localhost:8080/",
          "height": 143
        },
        "id": "QkVmTztQMeXg",
        "outputId": "9bb3b9c6-4154-45ea-b22d-20c94c349f61",
        "scrolled": true
      },
      "outputs": [
        {
          "output_type": "execute_result",
          "data": {
            "text/plain": [
              "       user_id\n",
              "group         \n",
              "A         3634\n",
              "B         2717"
            ],
            "text/html": [
              "\n",
              "  <div id=\"df-a0354216-6bd6-4aaf-8432-3024b52d86a5\">\n",
              "    <div class=\"colab-df-container\">\n",
              "      <div>\n",
              "<style scoped>\n",
              "    .dataframe tbody tr th:only-of-type {\n",
              "        vertical-align: middle;\n",
              "    }\n",
              "\n",
              "    .dataframe tbody tr th {\n",
              "        vertical-align: top;\n",
              "    }\n",
              "\n",
              "    .dataframe thead th {\n",
              "        text-align: right;\n",
              "    }\n",
              "</style>\n",
              "<table border=\"1\" class=\"dataframe\">\n",
              "  <thead>\n",
              "    <tr style=\"text-align: right;\">\n",
              "      <th></th>\n",
              "      <th>user_id</th>\n",
              "    </tr>\n",
              "    <tr>\n",
              "      <th>group</th>\n",
              "      <th></th>\n",
              "    </tr>\n",
              "  </thead>\n",
              "  <tbody>\n",
              "    <tr>\n",
              "      <th>A</th>\n",
              "      <td>3634</td>\n",
              "    </tr>\n",
              "    <tr>\n",
              "      <th>B</th>\n",
              "      <td>2717</td>\n",
              "    </tr>\n",
              "  </tbody>\n",
              "</table>\n",
              "</div>\n",
              "      <button class=\"colab-df-convert\" onclick=\"convertToInteractive('df-a0354216-6bd6-4aaf-8432-3024b52d86a5')\"\n",
              "              title=\"Convert this dataframe to an interactive table.\"\n",
              "              style=\"display:none;\">\n",
              "        \n",
              "  <svg xmlns=\"http://www.w3.org/2000/svg\" height=\"24px\"viewBox=\"0 0 24 24\"\n",
              "       width=\"24px\">\n",
              "    <path d=\"M0 0h24v24H0V0z\" fill=\"none\"/>\n",
              "    <path d=\"M18.56 5.44l.94 2.06.94-2.06 2.06-.94-2.06-.94-.94-2.06-.94 2.06-2.06.94zm-11 1L8.5 8.5l.94-2.06 2.06-.94-2.06-.94L8.5 2.5l-.94 2.06-2.06.94zm10 10l.94 2.06.94-2.06 2.06-.94-2.06-.94-.94-2.06-.94 2.06-2.06.94z\"/><path d=\"M17.41 7.96l-1.37-1.37c-.4-.4-.92-.59-1.43-.59-.52 0-1.04.2-1.43.59L10.3 9.45l-7.72 7.72c-.78.78-.78 2.05 0 2.83L4 21.41c.39.39.9.59 1.41.59.51 0 1.02-.2 1.41-.59l7.78-7.78 2.81-2.81c.8-.78.8-2.07 0-2.86zM5.41 20L4 18.59l7.72-7.72 1.47 1.35L5.41 20z\"/>\n",
              "  </svg>\n",
              "      </button>\n",
              "      \n",
              "  <style>\n",
              "    .colab-df-container {\n",
              "      display:flex;\n",
              "      flex-wrap:wrap;\n",
              "      gap: 12px;\n",
              "    }\n",
              "\n",
              "    .colab-df-convert {\n",
              "      background-color: #E8F0FE;\n",
              "      border: none;\n",
              "      border-radius: 50%;\n",
              "      cursor: pointer;\n",
              "      display: none;\n",
              "      fill: #1967D2;\n",
              "      height: 32px;\n",
              "      padding: 0 0 0 0;\n",
              "      width: 32px;\n",
              "    }\n",
              "\n",
              "    .colab-df-convert:hover {\n",
              "      background-color: #E2EBFA;\n",
              "      box-shadow: 0px 1px 2px rgba(60, 64, 67, 0.3), 0px 1px 3px 1px rgba(60, 64, 67, 0.15);\n",
              "      fill: #174EA6;\n",
              "    }\n",
              "\n",
              "    [theme=dark] .colab-df-convert {\n",
              "      background-color: #3B4455;\n",
              "      fill: #D2E3FC;\n",
              "    }\n",
              "\n",
              "    [theme=dark] .colab-df-convert:hover {\n",
              "      background-color: #434B5C;\n",
              "      box-shadow: 0px 1px 3px 1px rgba(0, 0, 0, 0.15);\n",
              "      filter: drop-shadow(0px 1px 2px rgba(0, 0, 0, 0.3));\n",
              "      fill: #FFFFFF;\n",
              "    }\n",
              "  </style>\n",
              "\n",
              "      <script>\n",
              "        const buttonEl =\n",
              "          document.querySelector('#df-a0354216-6bd6-4aaf-8432-3024b52d86a5 button.colab-df-convert');\n",
              "        buttonEl.style.display =\n",
              "          google.colab.kernel.accessAllowed ? 'block' : 'none';\n",
              "\n",
              "        async function convertToInteractive(key) {\n",
              "          const element = document.querySelector('#df-a0354216-6bd6-4aaf-8432-3024b52d86a5');\n",
              "          const dataTable =\n",
              "            await google.colab.kernel.invokeFunction('convertToInteractive',\n",
              "                                                     [key], {});\n",
              "          if (!dataTable) return;\n",
              "\n",
              "          const docLinkHtml = 'Like what you see? Visit the ' +\n",
              "            '<a target=\"_blank\" href=https://colab.research.google.com/notebooks/data_table.ipynb>data table notebook</a>'\n",
              "            + ' to learn more about interactive tables.';\n",
              "          element.innerHTML = '';\n",
              "          dataTable['output_type'] = 'display_data';\n",
              "          await google.colab.output.renderOutput(dataTable, element);\n",
              "          const docLink = document.createElement('div');\n",
              "          docLink.innerHTML = docLinkHtml;\n",
              "          element.appendChild(docLink);\n",
              "        }\n",
              "      </script>\n",
              "    </div>\n",
              "  </div>\n",
              "  "
            ]
          },
          "metadata": {},
          "execution_count": 22
        }
      ],
      "source": [
        "user_new.groupby(['group']).agg({'user_id': 'nunique'})"
      ]
    },
    {
      "cell_type": "markdown",
      "id": "HrbmjQ9KMcsk",
      "metadata": {
        "id": "HrbmjQ9KMcsk"
      },
      "source": [
        "Пользователей, принявших участие в  ```recommender_system_test```  6351, что соответствует ТЗ. Участники по группам распределены не равномерно, в гуппе А - 3634 участника, в группе В - 2717 участников, что не очень хорошо для корректного проведения теста.  \n",
        " 1602 участника принимали участие и в тесте ```interface_eu_test``` не буду их удалять, участие в двух тестах не влияет на результат так как снижение мощности теста (уменьшение количества участников), 4749 участников сильно не дотягивает до необходимого по ТЗ.\n",
        " Пеесечений пользователей между гуппами нет.\n",
        "\n",
        "\n"
      ]
    },
    {
      "cell_type": "markdown",
      "id": "ancTaKeepRdC",
      "metadata": {
        "id": "ancTaKeepRdC"
      },
      "source": [
        "Проверим значения в столбце ```details```\n",
        "\n"
      ]
    },
    {
      "cell_type": "code",
      "execution_count": 23,
      "id": "voJvW6Izbb9z",
      "metadata": {
        "colab": {
          "base_uri": "https://localhost:8080/",
          "height": 175
        },
        "id": "voJvW6Izbb9z",
        "outputId": "3094f232-ad5a-4ff6-d14a-afd8a238706c"
      },
      "outputs": [
        {
          "output_type": "execute_result",
          "data": {
            "text/plain": [
              "     event_name  details\n",
              "0         login        0\n",
              "1  product_cart        0\n",
              "2  product_page        0\n",
              "3      purchase     3196"
            ],
            "text/html": [
              "\n",
              "  <div id=\"df-9769f1bf-5440-48b9-8635-93b03fa8da49\">\n",
              "    <div class=\"colab-df-container\">\n",
              "      <div>\n",
              "<style scoped>\n",
              "    .dataframe tbody tr th:only-of-type {\n",
              "        vertical-align: middle;\n",
              "    }\n",
              "\n",
              "    .dataframe tbody tr th {\n",
              "        vertical-align: top;\n",
              "    }\n",
              "\n",
              "    .dataframe thead th {\n",
              "        text-align: right;\n",
              "    }\n",
              "</style>\n",
              "<table border=\"1\" class=\"dataframe\">\n",
              "  <thead>\n",
              "    <tr style=\"text-align: right;\">\n",
              "      <th></th>\n",
              "      <th>event_name</th>\n",
              "      <th>details</th>\n",
              "    </tr>\n",
              "  </thead>\n",
              "  <tbody>\n",
              "    <tr>\n",
              "      <th>0</th>\n",
              "      <td>login</td>\n",
              "      <td>0</td>\n",
              "    </tr>\n",
              "    <tr>\n",
              "      <th>1</th>\n",
              "      <td>product_cart</td>\n",
              "      <td>0</td>\n",
              "    </tr>\n",
              "    <tr>\n",
              "      <th>2</th>\n",
              "      <td>product_page</td>\n",
              "      <td>0</td>\n",
              "    </tr>\n",
              "    <tr>\n",
              "      <th>3</th>\n",
              "      <td>purchase</td>\n",
              "      <td>3196</td>\n",
              "    </tr>\n",
              "  </tbody>\n",
              "</table>\n",
              "</div>\n",
              "      <button class=\"colab-df-convert\" onclick=\"convertToInteractive('df-9769f1bf-5440-48b9-8635-93b03fa8da49')\"\n",
              "              title=\"Convert this dataframe to an interactive table.\"\n",
              "              style=\"display:none;\">\n",
              "        \n",
              "  <svg xmlns=\"http://www.w3.org/2000/svg\" height=\"24px\"viewBox=\"0 0 24 24\"\n",
              "       width=\"24px\">\n",
              "    <path d=\"M0 0h24v24H0V0z\" fill=\"none\"/>\n",
              "    <path d=\"M18.56 5.44l.94 2.06.94-2.06 2.06-.94-2.06-.94-.94-2.06-.94 2.06-2.06.94zm-11 1L8.5 8.5l.94-2.06 2.06-.94-2.06-.94L8.5 2.5l-.94 2.06-2.06.94zm10 10l.94 2.06.94-2.06 2.06-.94-2.06-.94-.94-2.06-.94 2.06-2.06.94z\"/><path d=\"M17.41 7.96l-1.37-1.37c-.4-.4-.92-.59-1.43-.59-.52 0-1.04.2-1.43.59L10.3 9.45l-7.72 7.72c-.78.78-.78 2.05 0 2.83L4 21.41c.39.39.9.59 1.41.59.51 0 1.02-.2 1.41-.59l7.78-7.78 2.81-2.81c.8-.78.8-2.07 0-2.86zM5.41 20L4 18.59l7.72-7.72 1.47 1.35L5.41 20z\"/>\n",
              "  </svg>\n",
              "      </button>\n",
              "      \n",
              "  <style>\n",
              "    .colab-df-container {\n",
              "      display:flex;\n",
              "      flex-wrap:wrap;\n",
              "      gap: 12px;\n",
              "    }\n",
              "\n",
              "    .colab-df-convert {\n",
              "      background-color: #E8F0FE;\n",
              "      border: none;\n",
              "      border-radius: 50%;\n",
              "      cursor: pointer;\n",
              "      display: none;\n",
              "      fill: #1967D2;\n",
              "      height: 32px;\n",
              "      padding: 0 0 0 0;\n",
              "      width: 32px;\n",
              "    }\n",
              "\n",
              "    .colab-df-convert:hover {\n",
              "      background-color: #E2EBFA;\n",
              "      box-shadow: 0px 1px 2px rgba(60, 64, 67, 0.3), 0px 1px 3px 1px rgba(60, 64, 67, 0.15);\n",
              "      fill: #174EA6;\n",
              "    }\n",
              "\n",
              "    [theme=dark] .colab-df-convert {\n",
              "      background-color: #3B4455;\n",
              "      fill: #D2E3FC;\n",
              "    }\n",
              "\n",
              "    [theme=dark] .colab-df-convert:hover {\n",
              "      background-color: #434B5C;\n",
              "      box-shadow: 0px 1px 3px 1px rgba(0, 0, 0, 0.15);\n",
              "      filter: drop-shadow(0px 1px 2px rgba(0, 0, 0, 0.3));\n",
              "      fill: #FFFFFF;\n",
              "    }\n",
              "  </style>\n",
              "\n",
              "      <script>\n",
              "        const buttonEl =\n",
              "          document.querySelector('#df-9769f1bf-5440-48b9-8635-93b03fa8da49 button.colab-df-convert');\n",
              "        buttonEl.style.display =\n",
              "          google.colab.kernel.accessAllowed ? 'block' : 'none';\n",
              "\n",
              "        async function convertToInteractive(key) {\n",
              "          const element = document.querySelector('#df-9769f1bf-5440-48b9-8635-93b03fa8da49');\n",
              "          const dataTable =\n",
              "            await google.colab.kernel.invokeFunction('convertToInteractive',\n",
              "                                                     [key], {});\n",
              "          if (!dataTable) return;\n",
              "\n",
              "          const docLinkHtml = 'Like what you see? Visit the ' +\n",
              "            '<a target=\"_blank\" href=https://colab.research.google.com/notebooks/data_table.ipynb>data table notebook</a>'\n",
              "            + ' to learn more about interactive tables.';\n",
              "          element.innerHTML = '';\n",
              "          dataTable['output_type'] = 'display_data';\n",
              "          await google.colab.output.renderOutput(dataTable, element);\n",
              "          const docLink = document.createElement('div');\n",
              "          docLink.innerHTML = docLinkHtml;\n",
              "          element.appendChild(docLink);\n",
              "        }\n",
              "      </script>\n",
              "    </div>\n",
              "  </div>\n",
              "  "
            ]
          },
          "metadata": {},
          "execution_count": 23
        }
      ],
      "source": [
        "user_new.groupby('event_name', as_index=False).agg({'details': 'count'})"
      ]
    },
    {
      "cell_type": "markdown",
      "id": "urO2t1gkbycD",
      "metadata": {
        "id": "urO2t1gkbycD"
      },
      "source": [
        "В столбце details присутствуют не все значения, так как в нем указана сумма покупки, поэтому данные есть только в событиях типа \"purchase\" (транзакциях, зафиксировавших факт покупки), что вполне логично. Пропуски трогать не будем."
      ]
    },
    {
      "cell_type": "code",
      "execution_count": 24,
      "id": "qoy0PuWgMG6R",
      "metadata": {
        "colab": {
          "base_uri": "https://localhost:8080/"
        },
        "id": "qoy0PuWgMG6R",
        "outputId": "03f34a98-69a8-4c92-923e-aae727ec880f"
      },
      "outputs": [
        {
          "output_type": "stream",
          "name": "stdout",
          "text": [
            "Количество событий, совершенных пользователями, входящими в выборку нашего теста: user_id       23420\n",
            "event_dt      23420\n",
            "event_name    23420\n",
            "details        3196\n",
            "dtype: int64\n"
          ]
        }
      ],
      "source": [
        "ab_events = events[events['user_id'].isin(user_new['user_id'])]\n",
        "print('Количество событий, совершенных пользователями, входящими в выборку нашего теста:', ab_events.count())"
      ]
    },
    {
      "cell_type": "code",
      "execution_count": 25,
      "id": "JGd2f83RSlHq",
      "metadata": {
        "colab": {
          "base_uri": "https://localhost:8080/"
        },
        "id": "JGd2f83RSlHq",
        "outputId": "1507bc7b-91a1-4150-d0fe-762e09576bc9"
      },
      "outputs": [
        {
          "output_type": "stream",
          "name": "stdout",
          "text": [
            "Количество уникальных идентификаторов пользователей в таблице событий: 3481\n",
            "Доля уникальных идентификаторов пользователей в таблице событий: 54.81%\n"
          ]
        }
      ],
      "source": [
        "print('Количество уникальных идентификаторов пользователей в таблице событий:', ab_events['user_id'].nunique())\n",
        "print('Доля уникальных идентификаторов пользователей в таблице событий: {:.2%}'.format(1-(user_new[user_new['event_name'].isna()]['user_id'].nunique()/user_new['user_id'].nunique())))\n"
      ]
    },
    {
      "cell_type": "markdown",
      "id": "Wi0xp1GkTXjp",
      "metadata": {
        "id": "Wi0xp1GkTXjp"
      },
      "source": [
        "Только 55% пользователей очищенной выборки генерировали события в заданный период. Есть вероятность, что произошла ошибка учета активности пользователей, либо возникла проблема в процессе выгрузки данных"
      ]
    },
    {
      "cell_type": "code",
      "execution_count": 26,
      "id": "2f791934",
      "metadata": {
        "scrolled": true,
        "id": "2f791934",
        "outputId": "75c00e5a-d32b-4c61-d087-909a10076780",
        "colab": {
          "base_uri": "https://localhost:8080/",
          "height": 286
        }
      },
      "outputs": [
        {
          "output_type": "display_data",
          "data": {
            "text/plain": [
              "<Figure size 432x288 with 1 Axes>"
            ],
            "image/png": "[encoded data removed]"
          },
          "metadata": {
            "needs_background": "light"
          }
        }
      ],
      "source": [        
        "user_region=user_new.groupby('region')['user_id'].nunique().reset_index()\n",
        "sns.barplot(user_region['region'], user_region['user_id'])\n",
        "plt.xticks(rotation=45);"
      ]
    },
    {
      "cell_type": "markdown",
      "id": "8c3f919c",
      "metadata": {
        "id": "8c3f919c"
      },
      "source": [
        "Все пользователи из нужного нам региона EU."
      ]
    },
    {
      "cell_type": "markdown",
      "id": "2M0AvHuZtmqo",
      "metadata": {
        "id": "2M0AvHuZtmqo"
      },
      "source": [
        "## Проведите исследовательский анализ данных\n",
        "\n",
        "Рассчитаем среднее количество событий на каждого пользователа по группам А и В."
      ]
    },
    {
      "cell_type": "code",
      "execution_count": 27,
      "id": "dsqZPETet4cL",
      "metadata": {
        "colab": {
          "base_uri": "https://localhost:8080/"
        },
        "id": "dsqZPETet4cL",
        "outputId": "320d7d73-a2c1-4c2a-a123-8bf1625a6f26"
      },
      "outputs": [
        {
          "output_type": "stream",
          "name": "stdout",
          "text": [
            "Среднее количество событий на пользователя в группе А: 7\n",
            "Среднее количество событий на пользователя в группе B: 6\n"
          ]
        }
      ],
      "source": [
        "#расчитаем среднее количество событий на каждого пользователа по группам А и В\n",
        "event_by_user_id = user_new.groupby(['user_id', 'group'])['event_name'].count().reset_index()\n",
        "event_by_user_id = event_by_user_id[event_by_user_id['event_name']!=0]\n",
        "\n",
        "print('Среднее количество событий на пользователя в группе А: {:.0f}' \\\n",
        "                              .format(event_by_user_id.query('group == \"A\"')['event_name'].mean()))\n",
        "print('Среднее количество событий на пользователя в группе B: {:.0f}' \\\n",
        "                                .format(event_by_user_id.query('group == \"B\"')['event_name'].mean()))"
      ]
    },
    {
      "cell_type": "markdown",
      "id": "wYpjjrwDUZw7",
      "metadata": {
        "id": "wYpjjrwDUZw7"
      },
      "source": [
        "##Изменение конверсии в воронке на разных этапах\n",
        "Построим сводную таблицу по группам и оценим цифры конверсии из события в событие."
      ]
    },
    {
      "cell_type": "code",
      "execution_count": 28,
      "id": "rU9brJlvLQe_",
      "metadata": {
        "colab": {
          "base_uri": "https://localhost:8080/",
          "height": 175
        },
        "id": "rU9brJlvLQe_",
        "outputId": "c832f252-b8b6-470d-f206-a2a553342264"
      },
      "outputs": [
        {
          "output_type": "execute_result",
          "data": {
            "text/plain": [
              "group    event_name     A    B  total      share\n",
              "0             login  2604  877   3481  54.810266\n",
              "1      product_page  1685  493   2178  34.293812\n",
              "2      product_cart   782  244   1026  16.154936\n",
              "3          purchase   833  249   1082  17.036687"
            ],
            "text/html": [
              "\n",
              "  <div id=\"df-59b3c52a-9bbf-4dbc-9487-8ded6619f87d\">\n",
              "    <div class=\"colab-df-container\">\n",
              "      <div>\n",
              "<style scoped>\n",
              "    .dataframe tbody tr th:only-of-type {\n",
              "        vertical-align: middle;\n",
              "    }\n",
              "\n",
              "    .dataframe tbody tr th {\n",
              "        vertical-align: top;\n",
              "    }\n",
              "\n",
              "    .dataframe thead th {\n",
              "        text-align: right;\n",
              "    }\n",
              "</style>\n",
              "<table border=\"1\" class=\"dataframe\">\n",
              "  <thead>\n",
              "    <tr style=\"text-align: right;\">\n",
              "      <th>group</th>\n",
              "      <th>event_name</th>\n",
              "      <th>A</th>\n",
              "      <th>B</th>\n",
              "      <th>total</th>\n",
              "      <th>share</th>\n",
              "    </tr>\n",
              "  </thead>\n",
              "  <tbody>\n",
              "    <tr>\n",
              "      <th>0</th>\n",
              "      <td>login</td>\n",
              "      <td>2604</td>\n",
              "      <td>877</td>\n",
              "      <td>3481</td>\n",
              "      <td>54.810266</td>\n",
              "    </tr>\n",
              "    <tr>\n",
              "      <th>1</th>\n",
              "      <td>product_page</td>\n",
              "      <td>1685</td>\n",
              "      <td>493</td>\n",
              "      <td>2178</td>\n",
              "      <td>34.293812</td>\n",
              "    </tr>\n",
              "    <tr>\n",
              "      <th>2</th>\n",
              "      <td>product_cart</td>\n",
              "      <td>782</td>\n",
              "      <td>244</td>\n",
              "      <td>1026</td>\n",
              "      <td>16.154936</td>\n",
              "    </tr>\n",
              "    <tr>\n",
              "      <th>3</th>\n",
              "      <td>purchase</td>\n",
              "      <td>833</td>\n",
              "      <td>249</td>\n",
              "      <td>1082</td>\n",
              "      <td>17.036687</td>\n",
              "    </tr>\n",
              "  </tbody>\n",
              "</table>\n",
              "</div>\n",
              "      <button class=\"colab-df-convert\" onclick=\"convertToInteractive('df-59b3c52a-9bbf-4dbc-9487-8ded6619f87d')\"\n",
              "              title=\"Convert this dataframe to an interactive table.\"\n",
              "              style=\"display:none;\">\n",
              "        \n",
              "  <svg xmlns=\"http://www.w3.org/2000/svg\" height=\"24px\"viewBox=\"0 0 24 24\"\n",
              "       width=\"24px\">\n",
              "    <path d=\"M0 0h24v24H0V0z\" fill=\"none\"/>\n",
              "    <path d=\"M18.56 5.44l.94 2.06.94-2.06 2.06-.94-2.06-.94-.94-2.06-.94 2.06-2.06.94zm-11 1L8.5 8.5l.94-2.06 2.06-.94-2.06-.94L8.5 2.5l-.94 2.06-2.06.94zm10 10l.94 2.06.94-2.06 2.06-.94-2.06-.94-.94-2.06-.94 2.06-2.06.94z\"/><path d=\"M17.41 7.96l-1.37-1.37c-.4-.4-.92-.59-1.43-.59-.52 0-1.04.2-1.43.59L10.3 9.45l-7.72 7.72c-.78.78-.78 2.05 0 2.83L4 21.41c.39.39.9.59 1.41.59.51 0 1.02-.2 1.41-.59l7.78-7.78 2.81-2.81c.8-.78.8-2.07 0-2.86zM5.41 20L4 18.59l7.72-7.72 1.47 1.35L5.41 20z\"/>\n",
              "  </svg>\n",
              "      </button>\n",
              "      \n",
              "  <style>\n",
              "    .colab-df-container {\n",
              "      display:flex;\n",
              "      flex-wrap:wrap;\n",
              "      gap: 12px;\n",
              "    }\n",
              "\n",
              "    .colab-df-convert {\n",
              "      background-color: #E8F0FE;\n",
              "      border: none;\n",
              "      border-radius: 50%;\n",
              "      cursor: pointer;\n",
              "      display: none;\n",
              "      fill: #1967D2;\n",
              "      height: 32px;\n",
              "      padding: 0 0 0 0;\n",
              "      width: 32px;\n",
              "    }\n",
              "\n",
              "    .colab-df-convert:hover {\n",
              "      background-color: #E2EBFA;\n",
              "      box-shadow: 0px 1px 2px rgba(60, 64, 67, 0.3), 0px 1px 3px 1px rgba(60, 64, 67, 0.15);\n",
              "      fill: #174EA6;\n",
              "    }\n",
              "\n",
              "    [theme=dark] .colab-df-convert {\n",
              "      background-color: #3B4455;\n",
              "      fill: #D2E3FC;\n",
              "    }\n",
              "\n",
              "    [theme=dark] .colab-df-convert:hover {\n",
              "      background-color: #434B5C;\n",
              "      box-shadow: 0px 1px 3px 1px rgba(0, 0, 0, 0.15);\n",
              "      filter: drop-shadow(0px 1px 2px rgba(0, 0, 0, 0.3));\n",
              "      fill: #FFFFFF;\n",
              "    }\n",
              "  </style>\n",
              "\n",
              "      <script>\n",
              "        const buttonEl =\n",
              "          document.querySelector('#df-59b3c52a-9bbf-4dbc-9487-8ded6619f87d button.colab-df-convert');\n",
              "        buttonEl.style.display =\n",
              "          google.colab.kernel.accessAllowed ? 'block' : 'none';\n",
              "\n",
              "        async function convertToInteractive(key) {\n",
              "          const element = document.querySelector('#df-59b3c52a-9bbf-4dbc-9487-8ded6619f87d');\n",
              "          const dataTable =\n",
              "            await google.colab.kernel.invokeFunction('convertToInteractive',\n",
              "                                                     [key], {});\n",
              "          if (!dataTable) return;\n",
              "\n",
              "          const docLinkHtml = 'Like what you see? Visit the ' +\n",
              "            '<a target=\"_blank\" href=https://colab.research.google.com/notebooks/data_table.ipynb>data table notebook</a>'\n",
              "            + ' to learn more about interactive tables.';\n",
              "          element.innerHTML = '';\n",
              "          dataTable['output_type'] = 'display_data';\n",
              "          await google.colab.output.renderOutput(dataTable, element);\n",
              "          const docLink = document.createElement('div');\n",
              "          docLink.innerHTML = docLinkHtml;\n",
              "          element.appendChild(docLink);\n",
              "        }\n",
              "      </script>\n",
              "    </div>\n",
              "  </div>\n",
              "  "
            ]
          },
          "metadata": {},
          "execution_count": 28
        }
      ],
      "source": [
        "user_total = user_new['user_id'].nunique()\n",
        "events_users = user_new.pivot_table(\n",
        "    index='event_name',\n",
        "    columns='group',\n",
        "    values='user_id',\n",
        "    aggfunc='nunique'\n",
        ").reindex([\"login\", \"product_page\", \"product_cart\", \"purchase\"]) #с помощью reindex расположим события в нужном порядке\n",
        "\n",
        "events_users['total'] = events_users.sum(axis=1)\n",
        "events_users['share'] = (events_users['total']/user_total)*100\n",
        "events_users=events_users.reset_index()\n",
        "events_users"
      ]
    },
    {
      "cell_type": "markdown",
      "id": "5w7k_68XtlA9",
      "metadata": {
        "id": "5w7k_68XtlA9"
      },
      "source": [
        "Всего 4 варианта событий:\n",
        "\n",
        "login - регистрация пользователя  \n",
        "product_page - посещение страницы с товаром  \n",
        "product_cart - добавление товара в корзину  \n",
        "purchase - заказ  \n",
        "Видим, что некоторые пользователи делают заказ, минуя шаг \"добавление заказа в корзину\", так как на этом шаге транзакций меньше, чем на шаге \"заказ\". Вероятно, на сайте можно купить товар сразу, не добавляя его в корзину.\n",
        "\n",
        "Визуализируем воронку конверсий."
      ]
    },
    {
      "cell_type": "code",
      "execution_count": 29,
      "id": "tEVOPn5ZINTU",
      "metadata": {
        "colab": {
          "base_uri": "https://localhost:8080/",
          "height": 542
        },
        "id": "tEVOPn5ZINTU",
        "outputId": "2e6d3cfc-b768-4dd0-f613-1b6c4ef4aa1f"
      },
      "outputs": [
        {
          "output_type": "display_data",
          "data": {
            "text/html": [
              "<html>\n",
              "<head><meta charset=\"utf-8\" /></head>\n",
              "<body>\n",
              "    <div>            <script src=\"https://cdnjs.cloudflare.com/ajax/libs/mathjax/2.7.5/MathJax.js?config=TeX-AMS-MML_SVG\"></script><script type=\"text/javascript\">if (window.MathJax) {MathJax.Hub.Config({SVG: {font: \"STIX-Web\"}});}</script>                <script type=\"text/javascript\">window.PlotlyConfig = {MathJaxConfig: 'local'};</script>\n",
              "        <script src=\"https://cdn.plot.ly/plotly-2.8.3.min.js\"></script>                <div id=\"3a787b7a-ef32-44e3-b644-f12b4cb3e1aa\" class=\"plotly-graph-div\" style=\"height:525px; width:100%;\"></div>            <script type=\"text/javascript\">                                    window.PLOTLYENV=window.PLOTLYENV || {};                                    if (document.getElementById(\"3a787b7a-ef32-44e3-b644-f12b4cb3e1aa\")) {                    Plotly.newPlot(                        \"3a787b7a-ef32-44e3-b644-f12b4cb3e1aa\",                        [{\"name\":\"A\",\"orientation\":\"h\",\"textinfo\":\"value+percent previous+percent initial\",\"x\":[2604,1685,782,833],\"y\":[\"login\",\"product_page\",\"product_cart\",\"purchase\"],\"type\":\"funnel\"},{\"name\":\"B\",\"orientation\":\"h\",\"textinfo\":\"value+percent previous+percent initial\",\"x\":[877,493,244,249],\"y\":[\"login\",\"product_page\",\"product_cart\",\"purchase\"],\"type\":\"funnel\"}],                        {\"template\":{\"data\":{\"bar\":[{\"error_x\":{\"color\":\"#2a3f5f\"},\"error_y\":{\"color\":\"#2a3f5f\"},\"marker\":{\"line\":{\"color\":\"#E5ECF6\",\"width\":0.5},\"pattern\":{\"fillmode\":\"overlay\",\"size\":10,\"solidity\":0.2}},\"type\":\"bar\"}],\"barpolar\":[{\"marker\":{\"line\":{\"color\":\"#E5ECF6\",\"width\":0.5},\"pattern\":{\"fillmode\":\"overlay\",\"size\":10,\"solidity\":0.2}},\"type\":\"barpolar\"}],\"carpet\":[{\"aaxis\":{\"endlinecolor\":\"#2a3f5f\",\"gridcolor\":\"white\",\"linecolor\":\"white\",\"minorgridcolor\":\"white\",\"startlinecolor\":\"#2a3f5f\"},\"baxis\":{\"endlinecolor\":\"#2a3f5f\",\"gridcolor\":\"white\",\"linecolor\":\"white\",\"minorgridcolor\":\"white\",\"startlinecolor\":\"#2a3f5f\"},\"type\":\"carpet\"}],\"choropleth\":[{\"colorbar\":{\"outlinewidth\":0,\"ticks\":\"\"},\"type\":\"choropleth\"}],\"contour\":[{\"colorbar\":{\"outlinewidth\":0,\"ticks\":\"\"},\"colorscale\":[[0.0,\"#0d0887\"],[0.1111111111111111,\"#46039f\"],[0.2222222222222222,\"#7201a8\"],[0.3333333333333333,\"#9c179e\"],[0.4444444444444444,\"#bd3786\"],[0.5555555555555556,\"#d8576b\"],[0.6666666666666666,\"#ed7953\"],[0.7777777777777778,\"#fb9f3a\"],[0.8888888888888888,\"#fdca26\"],[1.0,\"#f0f921\"]],\"type\":\"contour\"}],\"contourcarpet\":[{\"colorbar\":{\"outlinewidth\":0,\"ticks\":\"\"},\"type\":\"contourcarpet\"}],\"heatmap\":[{\"colorbar\":{\"outlinewidth\":0,\"ticks\":\"\"},\"colorscale\":[[0.0,\"#0d0887\"],[0.1111111111111111,\"#46039f\"],[0.2222222222222222,\"#7201a8\"],[0.3333333333333333,\"#9c179e\"],[0.4444444444444444,\"#bd3786\"],[0.5555555555555556,\"#d8576b\"],[0.6666666666666666,\"#ed7953\"],[0.7777777777777778,\"#fb9f3a\"],[0.8888888888888888,\"#fdca26\"],[1.0,\"#f0f921\"]],\"type\":\"heatmap\"}],\"heatmapgl\":[{\"colorbar\":{\"outlinewidth\":0,\"ticks\":\"\"},\"colorscale\":[[0.0,\"#0d0887\"],[0.1111111111111111,\"#46039f\"],[0.2222222222222222,\"#7201a8\"],[0.3333333333333333,\"#9c179e\"],[0.4444444444444444,\"#bd3786\"],[0.5555555555555556,\"#d8576b\"],[0.6666666666666666,\"#ed7953\"],[0.7777777777777778,\"#fb9f3a\"],[0.8888888888888888,\"#fdca26\"],[1.0,\"#f0f921\"]],\"type\":\"heatmapgl\"}],\"histogram\":[{\"marker\":{\"pattern\":{\"fillmode\":\"overlay\",\"size\":10,\"solidity\":0.2}},\"type\":\"histogram\"}],\"histogram2d\":[{\"colorbar\":{\"outlinewidth\":0,\"ticks\":\"\"},\"colorscale\":[[0.0,\"#0d0887\"],[0.1111111111111111,\"#46039f\"],[0.2222222222222222,\"#7201a8\"],[0.3333333333333333,\"#9c179e\"],[0.4444444444444444,\"#bd3786\"],[0.5555555555555556,\"#d8576b\"],[0.6666666666666666,\"#ed7953\"],[0.7777777777777778,\"#fb9f3a\"],[0.8888888888888888,\"#fdca26\"],[1.0,\"#f0f921\"]],\"type\":\"histogram2d\"}],\"histogram2dcontour\":[{\"colorbar\":{\"outlinewidth\":0,\"ticks\":\"\"},\"colorscale\":[[0.0,\"#0d0887\"],[0.1111111111111111,\"#46039f\"],[0.2222222222222222,\"#7201a8\"],[0.3333333333333333,\"#9c179e\"],[0.4444444444444444,\"#bd3786\"],[0.5555555555555556,\"#d8576b\"],[0.6666666666666666,\"#ed7953\"],[0.7777777777777778,\"#fb9f3a\"],[0.8888888888888888,\"#fdca26\"],[1.0,\"#f0f921\"]],\"type\":\"histogram2dcontour\"}],\"mesh3d\":[{\"colorbar\":{\"outlinewidth\":0,\"ticks\":\"\"},\"type\":\"mesh3d\"}],\"parcoords\":[{\"line\":{\"colorbar\":{\"outlinewidth\":0,\"ticks\":\"\"}},\"type\":\"parcoords\"}],\"pie\":[{\"automargin\":true,\"type\":\"pie\"}],\"scatter\":[{\"marker\":{\"colorbar\":{\"outlinewidth\":0,\"ticks\":\"\"}},\"type\":\"scatter\"}],\"scatter3d\":[{\"line\":{\"colorbar\":{\"outlinewidth\":0,\"ticks\":\"\"}},\"marker\":{\"colorbar\":{\"outlinewidth\":0,\"ticks\":\"\"}},\"type\":\"scatter3d\"}],\"scattercarpet\":[{\"marker\":{\"colorbar\":{\"outlinewidth\":0,\"ticks\":\"\"}},\"type\":\"scattercarpet\"}],\"scattergeo\":[{\"marker\":{\"colorbar\":{\"outlinewidth\":0,\"ticks\":\"\"}},\"type\":\"scattergeo\"}],\"scattergl\":[{\"marker\":{\"colorbar\":{\"outlinewidth\":0,\"ticks\":\"\"}},\"type\":\"scattergl\"}],\"scattermapbox\":[{\"marker\":{\"colorbar\":{\"outlinewidth\":0,\"ticks\":\"\"}},\"type\":\"scattermapbox\"}],\"scatterpolar\":[{\"marker\":{\"colorbar\":{\"outlinewidth\":0,\"ticks\":\"\"}},\"type\":\"scatterpolar\"}],\"scatterpolargl\":[{\"marker\":{\"colorbar\":{\"outlinewidth\":0,\"ticks\":\"\"}},\"type\":\"scatterpolargl\"}],\"scatterternary\":[{\"marker\":{\"colorbar\":{\"outlinewidth\":0,\"ticks\":\"\"}},\"type\":\"scatterternary\"}],\"surface\":[{\"colorbar\":{\"outlinewidth\":0,\"ticks\":\"\"},\"colorscale\":[[0.0,\"#0d0887\"],[0.1111111111111111,\"#46039f\"],[0.2222222222222222,\"#7201a8\"],[0.3333333333333333,\"#9c179e\"],[0.4444444444444444,\"#bd3786\"],[0.5555555555555556,\"#d8576b\"],[0.6666666666666666,\"#ed7953\"],[0.7777777777777778,\"#fb9f3a\"],[0.8888888888888888,\"#fdca26\"],[1.0,\"#f0f921\"]],\"type\":\"surface\"}],\"table\":[{\"cells\":{\"fill\":{\"color\":\"#EBF0F8\"},\"line\":{\"color\":\"white\"}},\"header\":{\"fill\":{\"color\":\"#C8D4E3\"},\"line\":{\"color\":\"white\"}},\"type\":\"table\"}]},\"layout\":{\"annotationdefaults\":{\"arrowcolor\":\"#2a3f5f\",\"arrowhead\":0,\"arrowwidth\":1},\"autotypenumbers\":\"strict\",\"coloraxis\":{\"colorbar\":{\"outlinewidth\":0,\"ticks\":\"\"}},\"colorscale\":{\"diverging\":[[0,\"#8e0152\"],[0.1,\"#c51b7d\"],[0.2,\"#de77ae\"],[0.3,\"#f1b6da\"],[0.4,\"#fde0ef\"],[0.5,\"#f7f7f7\"],[0.6,\"#e6f5d0\"],[0.7,\"#b8e186\"],[0.8,\"#7fbc41\"],[0.9,\"#4d9221\"],[1,\"#276419\"]],\"sequential\":[[0.0,\"#0d0887\"],[0.1111111111111111,\"#46039f\"],[0.2222222222222222,\"#7201a8\"],[0.3333333333333333,\"#9c179e\"],[0.4444444444444444,\"#bd3786\"],[0.5555555555555556,\"#d8576b\"],[0.6666666666666666,\"#ed7953\"],[0.7777777777777778,\"#fb9f3a\"],[0.8888888888888888,\"#fdca26\"],[1.0,\"#f0f921\"]],\"sequentialminus\":[[0.0,\"#0d0887\"],[0.1111111111111111,\"#46039f\"],[0.2222222222222222,\"#7201a8\"],[0.3333333333333333,\"#9c179e\"],[0.4444444444444444,\"#bd3786\"],[0.5555555555555556,\"#d8576b\"],[0.6666666666666666,\"#ed7953\"],[0.7777777777777778,\"#fb9f3a\"],[0.8888888888888888,\"#fdca26\"],[1.0,\"#f0f921\"]]},\"colorway\":[\"#636efa\",\"#EF553B\",\"#00cc96\",\"#ab63fa\",\"#FFA15A\",\"#19d3f3\",\"#FF6692\",\"#B6E880\",\"#FF97FF\",\"#FECB52\"],\"font\":{\"color\":\"#2a3f5f\"},\"geo\":{\"bgcolor\":\"white\",\"lakecolor\":\"white\",\"landcolor\":\"#E5ECF6\",\"showlakes\":true,\"showland\":true,\"subunitcolor\":\"white\"},\"hoverlabel\":{\"align\":\"left\"},\"hovermode\":\"closest\",\"mapbox\":{\"style\":\"light\"},\"paper_bgcolor\":\"white\",\"plot_bgcolor\":\"#E5ECF6\",\"polar\":{\"angularaxis\":{\"gridcolor\":\"white\",\"linecolor\":\"white\",\"ticks\":\"\"},\"bgcolor\":\"#E5ECF6\",\"radialaxis\":{\"gridcolor\":\"white\",\"linecolor\":\"white\",\"ticks\":\"\"}},\"scene\":{\"xaxis\":{\"backgroundcolor\":\"#E5ECF6\",\"gridcolor\":\"white\",\"gridwidth\":2,\"linecolor\":\"white\",\"showbackground\":true,\"ticks\":\"\",\"zerolinecolor\":\"white\"},\"yaxis\":{\"backgroundcolor\":\"#E5ECF6\",\"gridcolor\":\"white\",\"gridwidth\":2,\"linecolor\":\"white\",\"showbackground\":true,\"ticks\":\"\",\"zerolinecolor\":\"white\"},\"zaxis\":{\"backgroundcolor\":\"#E5ECF6\",\"gridcolor\":\"white\",\"gridwidth\":2,\"linecolor\":\"white\",\"showbackground\":true,\"ticks\":\"\",\"zerolinecolor\":\"white\"}},\"shapedefaults\":{\"line\":{\"color\":\"#2a3f5f\"}},\"ternary\":{\"aaxis\":{\"gridcolor\":\"white\",\"linecolor\":\"white\",\"ticks\":\"\"},\"baxis\":{\"gridcolor\":\"white\",\"linecolor\":\"white\",\"ticks\":\"\"},\"bgcolor\":\"#E5ECF6\",\"caxis\":{\"gridcolor\":\"white\",\"linecolor\":\"white\",\"ticks\":\"\"}},\"title\":{\"x\":0.05},\"xaxis\":{\"automargin\":true,\"gridcolor\":\"white\",\"linecolor\":\"white\",\"ticks\":\"\",\"title\":{\"standoff\":15},\"zerolinecolor\":\"white\",\"zerolinewidth\":2},\"yaxis\":{\"automargin\":true,\"gridcolor\":\"white\",\"linecolor\":\"white\",\"ticks\":\"\",\"title\":{\"standoff\":15},\"zerolinecolor\":\"white\",\"zerolinewidth\":2}}},\"title\":{\"text\":\"\\u041f\\u0440\\u043e\\u0434\\u0443\\u043a\\u0442\\u043e\\u0432\\u0430\\u044f \\u0432\\u043e\\u0440\\u043e\\u043d\\u043a\\u0430 \\u0441 \\u043a\\u043e\\u043d\\u0432\\u0435\\u0440\\u0441\\u0438\\u0435\\u0439 \\u043a \\u043f\\u0440\\u0435\\u0434\\u044b\\u0434\\u0443\\u0449\\u0435\\u043c\\u0443 \\u0448\\u0430\\u0433\\u0443\",\"y\":0.9,\"x\":0.5,\"xanchor\":\"center\",\"yanchor\":\"top\"}},                        {\"responsive\": true}                    ).then(function(){\n",
              "                            \n",
              "var gd = document.getElementById('3a787b7a-ef32-44e3-b644-f12b4cb3e1aa');\n",
              "var x = new MutationObserver(function (mutations, observer) {{\n",
              "        var display = window.getComputedStyle(gd).display;\n",
              "        if (!display || display === 'none') {{\n",
              "            console.log([gd, 'removed!']);\n",
              "            Plotly.purge(gd);\n",
              "            observer.disconnect();\n",
              "        }}\n",
              "}});\n",
              "\n",
              "// Listen for the removal of the full notebook cells\n",
              "var notebookContainer = gd.closest('#notebook-container');\n",
              "if (notebookContainer) {{\n",
              "    x.observe(notebookContainer, {childList: true});\n",
              "}}\n",
              "\n",
              "// Listen for the clearing of the current output cell\n",
              "var outputEl = gd.closest('.output');\n",
              "if (outputEl) {{\n",
              "    x.observe(outputEl, {childList: true});\n",
              "}}\n",
              "\n",
              "                        })                };                            </script>        </div>\n",
              "</body>\n",
              "</html>"
            ]
          },
          "metadata": {}
        }
      ],
      "source": [
        "groups=['A', 'B']\n",
        "fig = go.Figure()\n",
        "for group in groups:\n",
        "  fig.add_trace(go.Funnel(\n",
        "      name = group,\n",
        "      orientation = \"h\",\n",
        "      y = events_users['event_name'],\n",
        "      x=events_users[group],\n",
        "      textinfo = \"value+percent previous+percent initial\"\n",
        "    )\n",
        "  )\n",
        "\n",
        "fig.update_layout(title={\n",
        "        'text': \"Продуктовая воронка с конверсией к предыдущему шагу\",\n",
        "        'y':0.9,\n",
        "        'x':0.5,\n",
        "        'xanchor': 'center',\n",
        "        'yanchor': 'top'})\n",
        "fig.show() "
      ]
    },
    {
      "cell_type": "markdown",
      "id": "P2uMWnvmKspv",
      "metadata": {
        "id": "P2uMWnvmKspv"
      },
      "source": [
        "Больше всего пользователей теряется между этапами product_page и product_cart."
      ]
    },
    {
      "cell_type": "code",
      "execution_count": 30,
      "id": "VXEObrfQKtUD",
      "metadata": {
        "colab": {
          "base_uri": "https://localhost:8080/"
        },
        "id": "VXEObrfQKtUD",
        "outputId": "d10fc6cc-0a56-4741-83d7-86330364f83d"
      },
      "outputs": [
        {
          "output_type": "stream",
          "name": "stdout",
          "text": [
            "Конверсия пользователей в покупки в группе А составляет: 31.99%\n",
            "Конверсия пользователей в покупки в группе B составляет: 28.39%\n",
            "Отношение конверсии в покупки в группе В к группе А: 88.76%\n"
          ]
        }
      ],
      "source": [
        "print('Конверсия пользователей в покупки в группе А составляет: {:.2f}%'.format(events_users.loc[3,'A']/events_users.loc[0,'A']*100))\n",
        "\n",
        "print('Конверсия пользователей в покупки в группе B составляет: {:.2f}%'.format(events_users.loc[3,'B']/events_users.loc[0,'B']*100))\n",
        "\n",
        "print('Отношение конверсии в покупки в группе В к группе А: {:.2f}%'.format((events_users.loc[3,'B']/events_users.loc[0,'B'])/(events_users.loc[3,'A']/events_users.loc[0,'A'])*100))"
      ]
    },
    {
      "cell_type": "markdown",
      "id": "gimqC5YjN-lP",
      "metadata": {
        "id": "gimqC5YjN-lP"
      },
      "source": [
        "Ожидаемый эффект: за 14 дней с момента регистрации пользователи покажут улучшение каждой метрики не менее, чем на 10%. Судя по полученным результатам, улучшения нет."
      ]
    },
    {
      "cell_type": "markdown",
      "id": "F-_NOTU8Oovj",
      "metadata": {
        "id": "F-_NOTU8Oovj"
      },
      "source": [
        "### Распределение числа событий по дням.\n",
        "Проверим, что тест не совпадает с маркетинговыми и другими активностями."
      ]
    },
    {
      "cell_type": "code",
      "execution_count": 31,
      "id": "y9QUJJ1ySThA",
      "metadata": {
        "colab": {
          "base_uri": "https://localhost:8080/",
          "height": 488
        },
        "id": "y9QUJJ1ySThA",
        "outputId": "c255c096-b677-4059-f656-300db081206c"
      },
      "outputs": [
        {
          "output_type": "execute_result",
          "data": {
            "text/plain": [
              "                                name                   regions   start_dt  \\\n",
              "0           Christmas&New Year Promo             EU, N.America 2020-12-25   \n",
              "1       St. Valentine's Day Giveaway  EU, CIS, APAC, N.America 2020-02-14   \n",
              "2             St. Patric's Day Promo             EU, N.America 2020-03-17   \n",
              "3                       Easter Promo  EU, CIS, APAC, N.America 2020-04-12   \n",
              "4                  4th of July Promo                 N.America 2020-07-04   \n",
              "5          Black Friday Ads Campaign  EU, CIS, APAC, N.America 2020-11-26   \n",
              "6             Chinese New Year Promo                      APAC 2020-01-25   \n",
              "7   Labor day (May 1st) Ads Campaign             EU, CIS, APAC 2020-05-01   \n",
              "8    International Women's Day Promo             EU, CIS, APAC 2020-03-08   \n",
              "9    Victory Day CIS (May 9th) Event                       CIS 2020-05-09   \n",
              "10         CIS New Year Gift Lottery                       CIS 2020-12-30   \n",
              "11     Dragon Boat Festival Giveaway                      APAC 2020-06-25   \n",
              "12           Single's Day Gift Promo                      APAC 2020-11-11   \n",
              "13             Chinese Moon Festival                      APAC 2020-10-01   \n",
              "\n",
              "    finish_dt  \n",
              "0  2021-01-03  \n",
              "1  2020-02-16  \n",
              "2  2020-03-19  \n",
              "3  2020-04-19  \n",
              "4  2020-07-11  \n",
              "5  2020-12-01  \n",
              "6  2020-02-07  \n",
              "7  2020-05-03  \n",
              "8  2020-03-10  \n",
              "9  2020-05-11  \n",
              "10 2021-01-07  \n",
              "11 2020-07-01  \n",
              "12 2020-11-12  \n",
              "13 2020-10-07  "
            ],
            "text/html": [
              "\n",
              "  <div id=\"df-2f43a53c-a2b7-4dbb-bb00-78f8973c698c\">\n",
              "    <div class=\"colab-df-container\">\n",
              "      <div>\n",
              "<style scoped>\n",
              "    .dataframe tbody tr th:only-of-type {\n",
              "        vertical-align: middle;\n",
              "    }\n",
              "\n",
              "    .dataframe tbody tr th {\n",
              "        vertical-align: top;\n",
              "    }\n",
              "\n",
              "    .dataframe thead th {\n",
              "        text-align: right;\n",
              "    }\n",
              "</style>\n",
              "<table border=\"1\" class=\"dataframe\">\n",
              "  <thead>\n",
              "    <tr style=\"text-align: right;\">\n",
              "      <th></th>\n",
              "      <th>name</th>\n",
              "      <th>regions</th>\n",
              "      <th>start_dt</th>\n",
              "      <th>finish_dt</th>\n",
              "    </tr>\n",
              "  </thead>\n",
              "  <tbody>\n",
              "    <tr>\n",
              "      <th>0</th>\n",
              "      <td>Christmas&amp;New Year Promo</td>\n",
              "      <td>EU, N.America</td>\n",
              "      <td>2020-12-25</td>\n",
              "      <td>2021-01-03</td>\n",
              "    </tr>\n",
              "    <tr>\n",
              "      <th>1</th>\n",
              "      <td>St. Valentine's Day Giveaway</td>\n",
              "      <td>EU, CIS, APAC, N.America</td>\n",
              "      <td>2020-02-14</td>\n",
              "      <td>2020-02-16</td>\n",
              "    </tr>\n",
              "    <tr>\n",
              "      <th>2</th>\n",
              "      <td>St. Patric's Day Promo</td>\n",
              "      <td>EU, N.America</td>\n",
              "      <td>2020-03-17</td>\n",
              "      <td>2020-03-19</td>\n",
              "    </tr>\n",
              "    <tr>\n",
              "      <th>3</th>\n",
              "      <td>Easter Promo</td>\n",
              "      <td>EU, CIS, APAC, N.America</td>\n",
              "      <td>2020-04-12</td>\n",
              "      <td>2020-04-19</td>\n",
              "    </tr>\n",
              "    <tr>\n",
              "      <th>4</th>\n",
              "      <td>4th of July Promo</td>\n",
              "      <td>N.America</td>\n",
              "      <td>2020-07-04</td>\n",
              "      <td>2020-07-11</td>\n",
              "    </tr>\n",
              "    <tr>\n",
              "      <th>5</th>\n",
              "      <td>Black Friday Ads Campaign</td>\n",
              "      <td>EU, CIS, APAC, N.America</td>\n",
              "      <td>2020-11-26</td>\n",
              "      <td>2020-12-01</td>\n",
              "    </tr>\n",
              "    <tr>\n",
              "      <th>6</th>\n",
              "      <td>Chinese New Year Promo</td>\n",
              "      <td>APAC</td>\n",
              "      <td>2020-01-25</td>\n",
              "      <td>2020-02-07</td>\n",
              "    </tr>\n",
              "    <tr>\n",
              "      <th>7</th>\n",
              "      <td>Labor day (May 1st) Ads Campaign</td>\n",
              "      <td>EU, CIS, APAC</td>\n",
              "      <td>2020-05-01</td>\n",
              "      <td>2020-05-03</td>\n",
              "    </tr>\n",
              "    <tr>\n",
              "      <th>8</th>\n",
              "      <td>International Women's Day Promo</td>\n",
              "      <td>EU, CIS, APAC</td>\n",
              "      <td>2020-03-08</td>\n",
              "      <td>2020-03-10</td>\n",
              "    </tr>\n",
              "    <tr>\n",
              "      <th>9</th>\n",
              "      <td>Victory Day CIS (May 9th) Event</td>\n",
              "      <td>CIS</td>\n",
              "      <td>2020-05-09</td>\n",
              "      <td>2020-05-11</td>\n",
              "    </tr>\n",
              "    <tr>\n",
              "      <th>10</th>\n",
              "      <td>CIS New Year Gift Lottery</td>\n",
              "      <td>CIS</td>\n",
              "      <td>2020-12-30</td>\n",
              "      <td>2021-01-07</td>\n",
              "    </tr>\n",
              "    <tr>\n",
              "      <th>11</th>\n",
              "      <td>Dragon Boat Festival Giveaway</td>\n",
              "      <td>APAC</td>\n",
              "      <td>2020-06-25</td>\n",
              "      <td>2020-07-01</td>\n",
              "    </tr>\n",
              "    <tr>\n",
              "      <th>12</th>\n",
              "      <td>Single's Day Gift Promo</td>\n",
              "      <td>APAC</td>\n",
              "      <td>2020-11-11</td>\n",
              "      <td>2020-11-12</td>\n",
              "    </tr>\n",
              "    <tr>\n",
              "      <th>13</th>\n",
              "      <td>Chinese Moon Festival</td>\n",
              "      <td>APAC</td>\n",
              "      <td>2020-10-01</td>\n",
              "      <td>2020-10-07</td>\n",
              "    </tr>\n",
              "  </tbody>\n",
              "</table>\n",
              "</div>\n",
              "      <button class=\"colab-df-convert\" onclick=\"convertToInteractive('df-2f43a53c-a2b7-4dbb-bb00-78f8973c698c')\"\n",
              "              title=\"Convert this dataframe to an interactive table.\"\n",
              "              style=\"display:none;\">\n",
              "        \n",
              "  <svg xmlns=\"http://www.w3.org/2000/svg\" height=\"24px\"viewBox=\"0 0 24 24\"\n",
              "       width=\"24px\">\n",
              "    <path d=\"M0 0h24v24H0V0z\" fill=\"none\"/>\n",
              "    <path d=\"M18.56 5.44l.94 2.06.94-2.06 2.06-.94-2.06-.94-.94-2.06-.94 2.06-2.06.94zm-11 1L8.5 8.5l.94-2.06 2.06-.94-2.06-.94L8.5 2.5l-.94 2.06-2.06.94zm10 10l.94 2.06.94-2.06 2.06-.94-2.06-.94-.94-2.06-.94 2.06-2.06.94z\"/><path d=\"M17.41 7.96l-1.37-1.37c-.4-.4-.92-.59-1.43-.59-.52 0-1.04.2-1.43.59L10.3 9.45l-7.72 7.72c-.78.78-.78 2.05 0 2.83L4 21.41c.39.39.9.59 1.41.59.51 0 1.02-.2 1.41-.59l7.78-7.78 2.81-2.81c.8-.78.8-2.07 0-2.86zM5.41 20L4 18.59l7.72-7.72 1.47 1.35L5.41 20z\"/>\n",
              "  </svg>\n",
              "      </button>\n",
              "      \n",
              "  <style>\n",
              "    .colab-df-container {\n",
              "      display:flex;\n",
              "      flex-wrap:wrap;\n",
              "      gap: 12px;\n",
              "    }\n",
              "\n",
              "    .colab-df-convert {\n",
              "      background-color: #E8F0FE;\n",
              "      border: none;\n",
              "      border-radius: 50%;\n",
              "      cursor: pointer;\n",
              "      display: none;\n",
              "      fill: #1967D2;\n",
              "      height: 32px;\n",
              "      padding: 0 0 0 0;\n",
              "      width: 32px;\n",
              "    }\n",
              "\n",
              "    .colab-df-convert:hover {\n",
              "      background-color: #E2EBFA;\n",
              "      box-shadow: 0px 1px 2px rgba(60, 64, 67, 0.3), 0px 1px 3px 1px rgba(60, 64, 67, 0.15);\n",
              "      fill: #174EA6;\n",
              "    }\n",
              "\n",
              "    [theme=dark] .colab-df-convert {\n",
              "      background-color: #3B4455;\n",
              "      fill: #D2E3FC;\n",
              "    }\n",
              "\n",
              "    [theme=dark] .colab-df-convert:hover {\n",
              "      background-color: #434B5C;\n",
              "      box-shadow: 0px 1px 3px 1px rgba(0, 0, 0, 0.15);\n",
              "      filter: drop-shadow(0px 1px 2px rgba(0, 0, 0, 0.3));\n",
              "      fill: #FFFFFF;\n",
              "    }\n",
              "  </style>\n",
              "\n",
              "      <script>\n",
              "        const buttonEl =\n",
              "          document.querySelector('#df-2f43a53c-a2b7-4dbb-bb00-78f8973c698c button.colab-df-convert');\n",
              "        buttonEl.style.display =\n",
              "          google.colab.kernel.accessAllowed ? 'block' : 'none';\n",
              "\n",
              "        async function convertToInteractive(key) {\n",
              "          const element = document.querySelector('#df-2f43a53c-a2b7-4dbb-bb00-78f8973c698c');\n",
              "          const dataTable =\n",
              "            await google.colab.kernel.invokeFunction('convertToInteractive',\n",
              "                                                     [key], {});\n",
              "          if (!dataTable) return;\n",
              "\n",
              "          const docLinkHtml = 'Like what you see? Visit the ' +\n",
              "            '<a target=\"_blank\" href=https://colab.research.google.com/notebooks/data_table.ipynb>data table notebook</a>'\n",
              "            + ' to learn more about interactive tables.';\n",
              "          element.innerHTML = '';\n",
              "          dataTable['output_type'] = 'display_data';\n",
              "          await google.colab.output.renderOutput(dataTable, element);\n",
              "          const docLink = document.createElement('div');\n",
              "          docLink.innerHTML = docLinkHtml;\n",
              "          element.appendChild(docLink);\n",
              "        }\n",
              "      </script>\n",
              "    </div>\n",
              "  </div>\n",
              "  "
            ]
          },
          "metadata": {},
          "execution_count": 31
        }
      ],
      "source": [
        "marketing_events"
      ]
    },
    {
      "cell_type": "code",
      "execution_count": 32,
      "id": "scGfI8K-SX3T",
      "metadata": {
        "colab": {
          "base_uri": "https://localhost:8080/",
          "height": 112
        },
        "id": "scGfI8K-SX3T",
        "outputId": "d2511131-ae5f-42f9-8b16-da182783ae4b"
      },
      "outputs": [
        {
          "output_type": "execute_result",
          "data": {
            "text/plain": [
              "                         name        regions   start_dt  finish_dt\n",
              "0    Christmas&New Year Promo  EU, N.America 2020-12-25 2021-01-03\n",
              "10  CIS New Year Gift Lottery            CIS 2020-12-30 2021-01-07"
            ],
            "text/html": [
              "\n",
              "  <div id=\"df-0189006f-5719-476a-8d9e-962588cbcee8\">\n",
              "    <div class=\"colab-df-container\">\n",
              "      <div>\n",
              "<style scoped>\n",
              "    .dataframe tbody tr th:only-of-type {\n",
              "        vertical-align: middle;\n",
              "    }\n",
              "\n",
              "    .dataframe tbody tr th {\n",
              "        vertical-align: top;\n",
              "    }\n",
              "\n",
              "    .dataframe thead th {\n",
              "        text-align: right;\n",
              "    }\n",
              "</style>\n",
              "<table border=\"1\" class=\"dataframe\">\n",
              "  <thead>\n",
              "    <tr style=\"text-align: right;\">\n",
              "      <th></th>\n",
              "      <th>name</th>\n",
              "      <th>regions</th>\n",
              "      <th>start_dt</th>\n",
              "      <th>finish_dt</th>\n",
              "    </tr>\n",
              "  </thead>\n",
              "  <tbody>\n",
              "    <tr>\n",
              "      <th>0</th>\n",
              "      <td>Christmas&amp;New Year Promo</td>\n",
              "      <td>EU, N.America</td>\n",
              "      <td>2020-12-25</td>\n",
              "      <td>2021-01-03</td>\n",
              "    </tr>\n",
              "    <tr>\n",
              "      <th>10</th>\n",
              "      <td>CIS New Year Gift Lottery</td>\n",
              "      <td>CIS</td>\n",
              "      <td>2020-12-30</td>\n",
              "      <td>2021-01-07</td>\n",
              "    </tr>\n",
              "  </tbody>\n",
              "</table>\n",
              "</div>\n",
              "      <button class=\"colab-df-convert\" onclick=\"convertToInteractive('df-0189006f-5719-476a-8d9e-962588cbcee8')\"\n",
              "              title=\"Convert this dataframe to an interactive table.\"\n",
              "              style=\"display:none;\">\n",
              "        \n",
              "  <svg xmlns=\"http://www.w3.org/2000/svg\" height=\"24px\"viewBox=\"0 0 24 24\"\n",
              "       width=\"24px\">\n",
              "    <path d=\"M0 0h24v24H0V0z\" fill=\"none\"/>\n",
              "    <path d=\"M18.56 5.44l.94 2.06.94-2.06 2.06-.94-2.06-.94-.94-2.06-.94 2.06-2.06.94zm-11 1L8.5 8.5l.94-2.06 2.06-.94-2.06-.94L8.5 2.5l-.94 2.06-2.06.94zm10 10l.94 2.06.94-2.06 2.06-.94-2.06-.94-.94-2.06-.94 2.06-2.06.94z\"/><path d=\"M17.41 7.96l-1.37-1.37c-.4-.4-.92-.59-1.43-.59-.52 0-1.04.2-1.43.59L10.3 9.45l-7.72 7.72c-.78.78-.78 2.05 0 2.83L4 21.41c.39.39.9.59 1.41.59.51 0 1.02-.2 1.41-.59l7.78-7.78 2.81-2.81c.8-.78.8-2.07 0-2.86zM5.41 20L4 18.59l7.72-7.72 1.47 1.35L5.41 20z\"/>\n",
              "  </svg>\n",
              "      </button>\n",
              "      \n",
              "  <style>\n",
              "    .colab-df-container {\n",
              "      display:flex;\n",
              "      flex-wrap:wrap;\n",
              "      gap: 12px;\n",
              "    }\n",
              "\n",
              "    .colab-df-convert {\n",
              "      background-color: #E8F0FE;\n",
              "      border: none;\n",
              "      border-radius: 50%;\n",
              "      cursor: pointer;\n",
              "      display: none;\n",
              "      fill: #1967D2;\n",
              "      height: 32px;\n",
              "      padding: 0 0 0 0;\n",
              "      width: 32px;\n",
              "    }\n",
              "\n",
              "    .colab-df-convert:hover {\n",
              "      background-color: #E2EBFA;\n",
              "      box-shadow: 0px 1px 2px rgba(60, 64, 67, 0.3), 0px 1px 3px 1px rgba(60, 64, 67, 0.15);\n",
              "      fill: #174EA6;\n",
              "    }\n",
              "\n",
              "    [theme=dark] .colab-df-convert {\n",
              "      background-color: #3B4455;\n",
              "      fill: #D2E3FC;\n",
              "    }\n",
              "\n",
              "    [theme=dark] .colab-df-convert:hover {\n",
              "      background-color: #434B5C;\n",
              "      box-shadow: 0px 1px 3px 1px rgba(0, 0, 0, 0.15);\n",
              "      filter: drop-shadow(0px 1px 2px rgba(0, 0, 0, 0.3));\n",
              "      fill: #FFFFFF;\n",
              "    }\n",
              "  </style>\n",
              "\n",
              "      <script>\n",
              "        const buttonEl =\n",
              "          document.querySelector('#df-0189006f-5719-476a-8d9e-962588cbcee8 button.colab-df-convert');\n",
              "        buttonEl.style.display =\n",
              "          google.colab.kernel.accessAllowed ? 'block' : 'none';\n",
              "\n",
              "        async function convertToInteractive(key) {\n",
              "          const element = document.querySelector('#df-0189006f-5719-476a-8d9e-962588cbcee8');\n",
              "          const dataTable =\n",
              "            await google.colab.kernel.invokeFunction('convertToInteractive',\n",
              "                                                     [key], {});\n",
              "          if (!dataTable) return;\n",
              "\n",
              "          const docLinkHtml = 'Like what you see? Visit the ' +\n",
              "            '<a target=\"_blank\" href=https://colab.research.google.com/notebooks/data_table.ipynb>data table notebook</a>'\n",
              "            + ' to learn more about interactive tables.';\n",
              "          element.innerHTML = '';\n",
              "          dataTable['output_type'] = 'display_data';\n",
              "          await google.colab.output.renderOutput(dataTable, element);\n",
              "          const docLink = document.createElement('div');\n",
              "          docLink.innerHTML = docLinkHtml;\n",
              "          element.appendChild(docLink);\n",
              "        }\n",
              "      </script>\n",
              "    </div>\n",
              "  </div>\n",
              "  "
            ]
          },
          "metadata": {},
          "execution_count": 32
        }
      ],
      "source": [
        "marketing_events[\n",
        "    (marketing_events['start_dt'] >= '2020-11-30') & (\n",
        "        marketing_events['start_dt'] <= '2021-01-04')]"
      ]
    },
    {
      "cell_type": "markdown",
      "id": "kdAxv2WjSiA1",
      "metadata": {
        "id": "kdAxv2WjSiA1"
      },
      "source": [
        "Для региона EU подходит событие Christmas&New Year Promo, оно же имеет сильное пересечение с периодом теста.\n",
        "\n",
        "Этот факт дополнительно может неблагоприятно повлиять на результаты теста.\n",
        "\n",
        "Посмотрим на распределение событий по датам."
      ]
    },
    {
      "cell_type": "code",
      "execution_count": 33,
      "id": "JKYGcyGfQlSV",
      "metadata": {
        "colab": {
          "base_uri": "https://localhost:8080/",
          "height": 768
        },
        "id": "JKYGcyGfQlSV",
        "outputId": "d8786304-d026-4c14-b307-d3db1e7a6a6d"
      },
      "outputs": [
        {
          "output_type": "display_data",
          "data": {
            "text/plain": [
              "<Figure size 2016x864 with 1 Axes>"
            ],
            "image/png": "[encoded data removed]"
          },
          "metadata": {
            "needs_background": "light"
          }
        }
      ],
      "source": [
        "plt.figure(figsize =(28,12))\n",
        "sns.histplot(data=user_new, x=user_new['event_dt'], hue = 'group', multiple=\"dodge\", palette = 'coolwarm_r')\n",
        "\n",
        "plt.axvline(x=datetime.strptime('2020-12-25', '%Y-%m-%d'), color='green', linestyle='--', label='Christmas&New Year Promo Start')\n",
        "plt.axvline(x=datetime.strptime('2021-01-03', '%Y-%m-%d'), color='black', linestyle='--', label='Christmas&New Year Promo End')\n",
        "plt.axvline(x=datetime.strptime('2020-12-18', '%Y-%m-%d'), color='red', linestyle='--', label='1 Week Before Christmas&New Year Promo')\n",
        "plt.title('Распределение событий по датам')\n",
        "plt.legend()\n",
        "plt.xlabel('Дата')\n",
        "plt.xticks(rotation=45)\n",
        "plt.ylabel('Частота')\n",
        "plt.grid(True)\n",
        "plt.show()"
      ]
    },
    {
      "cell_type": "markdown",
      "id": "jHCwU9oiaCeE",
      "metadata": {
        "id": "jHCwU9oiaCeE"
      },
      "source": [
        "В контрольной группе А примерно больше событий, чем в \n",
        "тестируемой группе В. Это произошло из-за резкого всплеска с 14 декабря в группе А (больше 600 собыий), который после 21 декабря медленно пошел на спад. Максимальное количество событий произошло для группы А 21 декабря (больше 1200). В группе В сильного всплеска активности не наблюдается."
      ]
    },
    {
      "cell_type": "markdown",
      "id": "ORJh7FaMh8t5",
      "metadata": {
        "id": "ORJh7FaMh8t5"
      },
      "source": [
        "### Вывод\n",
        "События в рамках теста имеют сильное пересечение с рождественской маркетинговой активностью. Пик продаж в предпраздничные дни. Выбор этих дат для теста может неблагоприятно повлиять на результаты теста. Количество событий на пользователя распределены неравномерно в выборках. В группе А - 7 событий, в группе В - 6 событий.\n",
        "\n",
        "Воронка состоит из 4х этапов:\n",
        "\n",
        "login - пользователь зашел на сайт,  \n",
        "product_page - просмотрел товар,  \n",
        "product_cart - попал в корзину,  \n",
        "purchase - совершил покупку.  \n",
        "Количество пользователей, совершивших покупку, больше, чем количествово пользователей, попавших в корзину - вероятно, это связано с тем, что часть пользователей совершили покупку, минуя корзину.\n",
        "\n",
        "Больше всего пользователей теряется между этапами product_page и product_cart (54% для группы А и 51% для группы Б)."
      ]
    },
    {
      "cell_type": "markdown",
      "id": "eKMZw4O7iRE5",
      "metadata": {
        "id": "eKMZw4O7iRE5"
      },
      "source": [
        "## Оценим результаты A/B-тестирования\n"
      ]
    },
    {
      "cell_type": "markdown",
      "id": "gdXKCe_ZigyQ",
      "metadata": {
        "id": "gdXKCe_ZigyQ"
      },
      "source": [
        "Сформулируем нулевую гипотезу Н0:  \n",
        "Доли пользователей групп А и В на каждом шаге воронки равны.  \n",
        "\n",
        "Альтернативная гипотеза Н1:  \n",
        "Доли пользователей групп А и В на каждом шаге воронки не равны.\n",
        "\n",
        "Для сравнения долей будем использовать Z-тест. Z-тест – это статистический тест, позволяющий определить, различаются ли два средних значения генеральной совокупности.\n",
        "\n",
        "\n",
        "Посчитаем число пользователей и долю пользователей в каждой группее, совершивших каждое событие. Проверим отличие между группам. Для этого напишем функцию test_stat, на вход которой передадим необходимый датасет, названия групп и уровень статистической значимости."
      ]
    },
    {
      "cell_type": "code",
      "execution_count": 34,
      "id": "yAuc-fDgprxh",
      "metadata": {
        "id": "yAuc-fDgprxh"
      },
      "outputs": [],
      "source": [
        "def test_stat(df, groups_1, groups_2, alpha):\n",
        "  # датасет сгруппируем по названию событий, посчитаем уникальное число пользователей.\n",
        "  df_full_stat = df.pivot_table(index='event_name', columns='group', values='user_id', aggfunc='nunique').reset_index()\n",
        "  users=[df_full_stat.loc[0,groups_1], df_full_stat.loc[0,groups_2]]\n",
        "  df_full_stat=df_full_stat.loc[1:].reset_index(drop=True)\n",
        "  # циклом создадим список числа уникальных пользователей для каждого события по группам.\n",
        "  for i, event in enumerate (df_full_stat['event_name']):\n",
        "    events = [df_full_stat.loc[i,groups_1], df_full_stat.loc[i,groups_2]]\n",
        "    #print(events) # проверка\n",
        "    #print(i) # проверка\n",
        "    p1 = events[0] / users[0] # считаем долю для 1 группы\n",
        "    p2 = events[1] / users[1] # считаем долю для 2 группы\n",
        "    p_combined = sum(events) / sum(users)\n",
        "    difference = p1 - p2 # разница в датасетах\n",
        "    z_value = difference / mth.sqrt(\n",
        "    p_combined * (1 - p_combined) * (1 / users[0] + 1 / users[1]) #считаем z-value, которая покажет, насколько она далека от среднего значения точки данных\n",
        "    )\n",
        "    distr = st.norm(0, 1) # задаем стандартное нормальное распределение (среднее 0, ст.отклонение 1)\n",
        "    p_value = (1 - distr.cdf(abs(z_value))) * 2 # считаем p-value\n",
        "        \n",
        "    print(event)\n",
        "    print('Доля пользователей группы %s: {0:.2f}'.format(p1)% (groups_1))\n",
        "    print('Доля пользователей группы %s: {0:.2f}'.format(p2)% (groups_2))\n",
        "    print('p-значение: ', p_value)\n",
        "    # сравниваем p-value и alpha\n",
        "    if p_value < alpha:\n",
        "        print('Отвергаем нулевую гипотезу по событию %s: между долями есть значимая разница' % (event))\n",
        "    else:\n",
        "        print('Не получилось отвергнуть нулевую гипотезу по событию %s: нет оснований считать доли разными' % (event))\n",
        "            \n",
        "    print('-------------------------------')\n",
        "    print(' ')"
      ]
    },
    {
      "cell_type": "code",
      "execution_count": 35,
      "id": "FhN6v9THp6Dc",
      "metadata": {
        "colab": {
          "base_uri": "https://localhost:8080/"
        },
        "id": "FhN6v9THp6Dc",
        "outputId": "3726f1cf-3afb-4606-d008-9336d081038e"
      },
      "outputs": [
        {
          "output_type": "stream",
          "name": "stdout",
          "text": [
            "product_cart\n",
            "Доля пользователей группы A: 0.30\n",
            "Доля пользователей группы B: 0.28\n",
            "p-значение:  0.21469192029582396\n",
            "Не получилось отвергнуть нулевую гипотезу по событию product_cart: нет оснований считать доли разными\n",
            "-------------------------------\n",
            " \n",
            "product_page\n",
            "Доля пользователей группы A: 0.65\n",
            "Доля пользователей группы B: 0.56\n",
            "p-значение:  6.942739359416805e-06\n",
            "Отвергаем нулевую гипотезу по событию product_page: между долями есть значимая разница\n",
            "-------------------------------\n",
            " \n",
            "purchase\n",
            "Доля пользователей группы A: 0.32\n",
            "Доля пользователей группы B: 0.28\n",
            "p-значение:  0.04652482738393027\n",
            "Отвергаем нулевую гипотезу по событию purchase: между долями есть значимая разница\n",
            "-------------------------------\n",
            " \n"
          ]
        }
      ],
      "source": [
        "test_stat(user_new, 'A', 'B', 0.05)"
      ]
    },
    {
      "cell_type": "markdown",
      "id": "2Z2nVyFv9ERp",
      "metadata": {
        "id": "2Z2nVyFv9ERp"
      },
      "source": [
        "Одну и ту же гипотезу мы тестируем в разных вариациях. Важная особенность множественного теста в том, что вероятность ошибки первого рода увеличивается с каждой новой проверкой гипотезы.\n",
        "\n",
        "Чтобы снизить вероятность ложнопозитивного результата при множественном тестировании гипотез, применим метод Бонферони. Для этого поделим принятый уровень значимости (0.05) на число сравнений (4), которые проводят на одних и тех же данных, без сбора новых наблюдений для каждого теста.\n",
        "\n",
        "Всего 3 варианта - 3 события. С учетом поправки, альфа будет равна 0.05/3 = 0.017.\n",
        "\n",
        "Сравним группы с новым уровнем статистической значимости."
      ]
    },
    {
      "cell_type": "code",
      "execution_count": 36,
      "id": "TI-AeqU_961h",
      "metadata": {
        "colab": {
          "base_uri": "https://localhost:8080/"
        },
        "id": "TI-AeqU_961h",
        "outputId": "4f572d8f-afb9-4382-85da-66f4ad76c4f9"
      },
      "outputs": [
        {
          "output_type": "stream",
          "name": "stdout",
          "text": [
            "product_cart\n",
            "Доля пользователей группы A: 0.30\n",
            "Доля пользователей группы B: 0.28\n",
            "p-значение:  0.21469192029582396\n",
            "Не получилось отвергнуть нулевую гипотезу по событию product_cart: нет оснований считать доли разными\n",
            "-------------------------------\n",
            " \n",
            "product_page\n",
            "Доля пользователей группы A: 0.65\n",
            "Доля пользователей группы B: 0.56\n",
            "p-значение:  6.942739359416805e-06\n",
            "Отвергаем нулевую гипотезу по событию product_page: между долями есть значимая разница\n",
            "-------------------------------\n",
            " \n",
            "purchase\n",
            "Доля пользователей группы A: 0.32\n",
            "Доля пользователей группы B: 0.28\n",
            "p-значение:  0.04652482738393027\n",
            "Не получилось отвергнуть нулевую гипотезу по событию purchase: нет оснований считать доли разными\n",
            "-------------------------------\n",
            " \n"
          ]
        }
      ],
      "source": [
        "test_stat(user_new, 'A', 'B', 0.017)"
      ]
    },
    {
      "cell_type": "markdown",
      "id": "hgJXo5Yrd5Xn",
      "metadata": {
        "id": "hgJXo5Yrd5Xn"
      },
      "source": [
        "Для события login проверка статистической разницы долей z-критерием невозможна, так как это действие совершили все пользователи группы А и группы В, совершившие события.\n",
        "\n",
        "Различие между экспериментальной группой В и контрольной А для событий \"Просмотр карточек товаров\" и \"Покупка\" статистически значимо (p-value < 0.05).\n",
        "\n",
        "Видим, что различие между экспериментальной группой В и контрольной А для события на этапах \"Просмотр корзины\" статистически не значимо. Высокое p-value (выше критерия значимости 0.05) обозначает, что мы имеем высокую вероятность случайных различий между показателями, обусловленных обычной дисперсий/вариацией в данных, а не реальной разницей.\n",
        "\n",
        "\n",
        "При применении поправки Бонферони Различия между экспеиментальной группой В и контрольной А для событий \"Покупка\" стало статистически не значимо, что указывает на вероятность ложнопозитивного результата при савнении групп на этапе \"Покупка\""
      ]
    },
    {
      "cell_type": "markdown",
      "id": "8EBIVQmUeLoK",
      "metadata": {
        "id": "8EBIVQmUeLoK"
      },
      "source": [
        "## Вывод\n",
        "Согласно ТЗ за 14 дней с момента регистрации в системе пользователи покажут улучшение каждой метрики не менее, чем на 10%. Улучшения не произошло. Различия между группами A и B на этапе \"Авторизация\" -> \"Просмотр карточек товаров\" статистически не значимы, на этапах \"Просмотр карточек товаров\" -> \"Просмотр корзины\" и \"Просмотр корзины\" -> \"Покупка\" статистически значимо, но при применении поправки Бонферони различия в группах на этапе \"Просмотр корзины\" -> \"Покупка\" становятся статистически незначимы. Это может говорить о том, что различия между группами поличились случайно. \n",
        "\n",
        "Конверсия группы А больше конверсии группы В."
      ]
    },
    {
      "cell_type": "markdown",
      "id": "_niNwsdik6kJ",
      "metadata": {
        "id": "_niNwsdik6kJ"
      },
      "source": [
        "## Общий вывод\n",
        "\n",
        "Согласно ТЗ окончание теста назначено на  2021-01-04 самая поздняя дата в предоставленных данных 2020-12-30.\n",
        "Последняя дата регистрации новых пользователей заявленная-  2020-12-21 в данных 2020-12-23.\n",
        "Также присутствуют пересечения тестовой аудитории между тестами, что при очистке и приведению к требованиям ТЗ значительно снижает мощность теста. Нам не известно время проведения дугого теста, и пересекается ли он по времени и действиям с целевым тестом. Поэтому мы включили этих пользователей в наше исследование.\n",
        "\n",
        "Тест проводили во время рождественской маркетинговой активности, что в значительной мере повлияло на результаты теста.  \n",
        "Только 55% выборки совершали события, что возможно стало результатом некоректной выгрузки данных или низкой заинтересованностью пользователей при ознакомлении с сайтом.  \n",
        "Пользователи по группам распределены неравномерно, что также влияет на результат теста не  лучшую сторону.  \n",
        "\n",
        "Пользовател проходит 4 шага:  \n",
        "* login - регистрация пользователя\n",
        "* product_page - посещение страницы с товаром\n",
        "* product_cart - добавление товара в корзину\n",
        "* purchase - покупка   \n",
        "Но в покупку можно совершить со страницы с товаром, минуя корзину.\n",
        "\n",
        "Конверсия заегистрировавшихся пользователей в покупки группы А составляет: 31.99% Конверсия заегистрировавшихся пользователей в покупки группы B составляет: 28.39%\n",
        "\n",
        "По результатам А/В теста можно сделать следущие выводы:\n",
        "* Доля пользователей сконвертировашихся в шаг \"посещение страницы с товаром\" группы В меньше доли таких же ползователей группы А\n",
        "* Доля пользователей сконвертировашихся в шаг \"добавление товара в корзину\" в обоих группах не имеют статистически значимых различий\n",
        "* Доля пользователей сконвертировашихся в шаг \"покупка\" при уровне статистической значимости  0,017 (с поправкой Бонефеони) в обоих группах не имеют статистически значимых различий, хотя при уровне статистической значимости 0,05 доли групп имели статистически значимые различия.\n",
        "\n",
        "В целом тест нельзя признать успешным. Необходимо более тщательно подойти к формированию групп теста и выбрать время его проведения без влияния внешних маркетинговых факторов. \n"
      ]
    }
  ],
  "metadata": {
    "ExecuteTimeLog": [
      {
        "duration": 1312,
        "start_time": "2022-06-10T04:53:24.772Z"
      },
      {
        "duration": 1423,
        "start_time": "2022-06-10T04:53:26.086Z"
      },
      {
        "duration": 5,
        "start_time": "2022-06-10T04:53:27.511Z"
      },
      {
        "duration": 980,
        "start_time": "2022-06-10T04:53:27.518Z"
      },
      {
        "duration": 121,
        "start_time": "2022-06-10T04:53:28.499Z"
      },
      {
        "duration": 319,
        "start_time": "2022-06-10T04:53:28.622Z"
      },
      {
        "duration": 18,
        "start_time": "2022-06-10T04:53:28.944Z"
      },
      {
        "duration": 7,
        "start_time": "2022-06-10T04:53:28.964Z"
      },
      {
        "duration": 91,
        "start_time": "2022-06-10T04:53:28.973Z"
      },
      {
        "duration": 70,
        "start_time": "2022-06-10T04:53:29.066Z"
      },
      {
        "duration": 57,
        "start_time": "2022-06-10T04:53:29.138Z"
      },
      {
        "duration": 95,
        "start_time": "2022-06-10T04:53:29.196Z"
      },
      {
        "duration": 83,
        "start_time": "2022-06-10T04:53:29.293Z"
      },
      {
        "duration": 254,
        "start_time": "2022-06-10T04:53:29.378Z"
      },
      {
        "duration": 54,
        "start_time": "2022-06-10T04:53:29.634Z"
      },
      {
        "duration": 19,
        "start_time": "2022-06-10T04:53:29.689Z"
      },
      {
        "duration": 23,
        "start_time": "2022-06-10T04:53:29.709Z"
      },
      {
        "duration": 26,
        "start_time": "2022-06-10T04:53:29.733Z"
      },
      {
        "duration": 30,
        "start_time": "2022-06-10T04:53:29.761Z"
      },
      {
        "duration": 17,
        "start_time": "2022-06-10T04:53:29.792Z"
      },
      {
        "duration": 24,
        "start_time": "2022-06-10T04:53:29.810Z"
      },
      {
        "duration": 33,
        "start_time": "2022-06-10T04:53:29.857Z"
      },
      {
        "duration": 159,
        "start_time": "2022-06-10T04:53:29.892Z"
      },
      {
        "duration": 9,
        "start_time": "2022-06-10T04:53:30.052Z"
      },
      {
        "duration": 19,
        "start_time": "2022-06-10T04:53:30.063Z"
      },
      {
        "duration": 15,
        "start_time": "2022-06-10T04:53:30.084Z"
      },
      {
        "duration": 863,
        "start_time": "2022-06-10T04:53:30.101Z"
      },
      {
        "duration": 8,
        "start_time": "2022-06-10T04:53:30.968Z"
      },
      {
        "duration": 56,
        "start_time": "2022-06-10T04:53:30.978Z"
      },
      {
        "duration": 28,
        "start_time": "2022-06-10T04:53:31.036Z"
      },
      {
        "duration": 1260,
        "start_time": "2022-06-10T12:36:01.308Z"
      },
      {
        "duration": 1163,
        "start_time": "2022-06-10T12:36:02.574Z"
      },
      {
        "duration": 5,
        "start_time": "2022-06-10T12:36:03.738Z"
      },
      {
        "duration": 1156,
        "start_time": "2022-06-10T12:36:03.745Z"
      },
      {
        "duration": 109,
        "start_time": "2022-06-10T12:36:04.902Z"
      },
      {
        "duration": 333,
        "start_time": "2022-06-10T12:36:05.013Z"
      },
      {
        "duration": 33,
        "start_time": "2022-06-10T12:36:05.347Z"
      },
      {
        "duration": 14,
        "start_time": "2022-06-10T12:36:05.383Z"
      },
      {
        "duration": 115,
        "start_time": "2022-06-10T12:36:05.401Z"
      },
      {
        "duration": 88,
        "start_time": "2022-06-10T12:36:05.520Z"
      },
      {
        "duration": 57,
        "start_time": "2022-06-10T12:36:05.609Z"
      },
      {
        "duration": 110,
        "start_time": "2022-06-10T12:36:05.672Z"
      },
      {
        "duration": 86,
        "start_time": "2022-06-10T12:36:05.783Z"
      },
      {
        "duration": 271,
        "start_time": "2022-06-10T12:36:05.871Z"
      },
      {
        "duration": 74,
        "start_time": "2022-06-10T12:36:06.144Z"
      },
      {
        "duration": 25,
        "start_time": "2022-06-10T12:36:06.219Z"
      },
      {
        "duration": 27,
        "start_time": "2022-06-10T12:36:06.246Z"
      },
      {
        "duration": 15,
        "start_time": "2022-06-10T12:36:06.274Z"
      },
      {
        "duration": 48,
        "start_time": "2022-06-10T12:36:06.293Z"
      },
      {
        "duration": 24,
        "start_time": "2022-06-10T12:36:06.343Z"
      },
      {
        "duration": 34,
        "start_time": "2022-06-10T12:36:06.369Z"
      },
      {
        "duration": 31,
        "start_time": "2022-06-10T12:36:06.405Z"
      },
      {
        "duration": 184,
        "start_time": "2022-06-10T12:36:06.437Z"
      },
      {
        "duration": 17,
        "start_time": "2022-06-10T12:36:06.623Z"
      },
      {
        "duration": 78,
        "start_time": "2022-06-10T12:36:06.642Z"
      },
      {
        "duration": 39,
        "start_time": "2022-06-10T12:36:06.722Z"
      },
      {
        "duration": 958,
        "start_time": "2022-06-10T12:36:06.764Z"
      },
      {
        "duration": 10,
        "start_time": "2022-06-10T12:36:07.729Z"
      },
      {
        "duration": 62,
        "start_time": "2022-06-10T12:36:07.740Z"
      },
      {
        "duration": 37,
        "start_time": "2022-06-10T12:36:07.804Z"
      },
      {
        "duration": 14,
        "start_time": "2022-06-10T12:42:45.323Z"
      },
      {
        "duration": 35,
        "start_time": "2022-06-10T12:42:53.356Z"
      },
      {
        "duration": 1127,
        "start_time": "2022-06-10T12:43:09.641Z"
      },
      {
        "duration": 1062,
        "start_time": "2022-06-10T12:43:10.771Z"
      },
      {
        "duration": 4,
        "start_time": "2022-06-10T12:43:11.835Z"
      },
      {
        "duration": 1032,
        "start_time": "2022-06-10T12:43:11.840Z"
      },
      {
        "duration": 143,
        "start_time": "2022-06-10T12:43:12.875Z"
      },
      {
        "duration": 356,
        "start_time": "2022-06-10T12:43:13.020Z"
      },
      {
        "duration": 20,
        "start_time": "2022-06-10T12:43:13.379Z"
      },
      {
        "duration": 9,
        "start_time": "2022-06-10T12:43:13.401Z"
      },
      {
        "duration": 106,
        "start_time": "2022-06-10T12:43:13.411Z"
      },
      {
        "duration": 79,
        "start_time": "2022-06-10T12:43:13.519Z"
      },
      {
        "duration": 43,
        "start_time": "2022-06-10T12:43:13.601Z"
      },
      {
        "duration": 109,
        "start_time": "2022-06-10T12:43:13.646Z"
      },
      {
        "duration": 93,
        "start_time": "2022-06-10T12:43:13.757Z"
      },
      {
        "duration": 28,
        "start_time": "2022-06-10T12:43:13.861Z"
      },
      {
        "duration": 95,
        "start_time": "2022-06-10T12:43:13.891Z"
      },
      {
        "duration": 241,
        "start_time": "2022-06-10T12:43:13.992Z"
      },
      {
        "duration": 75,
        "start_time": "2022-06-10T12:43:14.234Z"
      },
      {
        "duration": 27,
        "start_time": "2022-06-10T12:43:14.310Z"
      },
      {
        "duration": 11,
        "start_time": "2022-06-10T12:43:14.339Z"
      },
      {
        "duration": 47,
        "start_time": "2022-06-10T12:43:14.352Z"
      },
      {
        "duration": 27,
        "start_time": "2022-06-10T12:43:14.400Z"
      },
      {
        "duration": 13,
        "start_time": "2022-06-10T12:43:14.429Z"
      },
      {
        "duration": 24,
        "start_time": "2022-06-10T12:43:14.444Z"
      },
      {
        "duration": 41,
        "start_time": "2022-06-10T12:43:14.479Z"
      },
      {
        "duration": 143,
        "start_time": "2022-06-10T12:43:14.521Z"
      },
      {
        "duration": 9,
        "start_time": "2022-06-10T12:43:14.676Z"
      },
      {
        "duration": 30,
        "start_time": "2022-06-10T12:43:14.686Z"
      },
      {
        "duration": 12,
        "start_time": "2022-06-10T12:43:14.719Z"
      },
      {
        "duration": 807,
        "start_time": "2022-06-10T12:43:14.733Z"
      },
      {
        "duration": 7,
        "start_time": "2022-06-10T12:43:15.541Z"
      },
      {
        "duration": 78,
        "start_time": "2022-06-10T12:43:15.549Z"
      },
      {
        "duration": 26,
        "start_time": "2022-06-10T12:43:15.628Z"
      },
      {
        "duration": 4,
        "start_time": "2022-06-10T12:44:19.119Z"
      },
      {
        "duration": 208,
        "start_time": "2022-06-10T12:56:40.446Z"
      },
      {
        "duration": 9,
        "start_time": "2022-06-10T12:56:58.222Z"
      },
      {
        "duration": 30,
        "start_time": "2022-06-10T12:57:02.975Z"
      },
      {
        "duration": 37,
        "start_time": "2022-06-10T12:57:15.492Z"
      },
      {
        "duration": 1323,
        "start_time": "2022-06-10T16:22:23.534Z"
      },
      {
        "duration": 933,
        "start_time": "2022-06-10T16:22:24.859Z"
      },
      {
        "duration": 7,
        "start_time": "2022-06-10T16:22:25.794Z"
      },
      {
        "duration": 970,
        "start_time": "2022-06-10T16:22:25.803Z"
      },
      {
        "duration": 123,
        "start_time": "2022-06-10T16:22:26.798Z"
      },
      {
        "duration": 320,
        "start_time": "2022-06-10T16:22:26.922Z"
      },
      {
        "duration": 14,
        "start_time": "2022-06-10T16:22:27.244Z"
      },
      {
        "duration": 6,
        "start_time": "2022-06-10T16:22:27.260Z"
      },
      {
        "duration": 122,
        "start_time": "2022-06-10T16:22:27.268Z"
      },
      {
        "duration": 79,
        "start_time": "2022-06-10T16:22:27.393Z"
      },
      {
        "duration": 57,
        "start_time": "2022-06-10T16:22:27.474Z"
      },
      {
        "duration": 111,
        "start_time": "2022-06-10T16:22:27.533Z"
      },
      {
        "duration": 86,
        "start_time": "2022-06-10T16:22:27.646Z"
      },
      {
        "duration": 19,
        "start_time": "2022-06-10T16:22:27.734Z"
      },
      {
        "duration": 78,
        "start_time": "2022-06-10T16:22:27.755Z"
      },
      {
        "duration": 92,
        "start_time": "2022-06-10T16:22:27.835Z"
      },
      {
        "duration": 271,
        "start_time": "2022-06-10T16:22:27.929Z"
      },
      {
        "duration": 63,
        "start_time": "2022-06-10T16:22:28.202Z"
      },
      {
        "duration": 38,
        "start_time": "2022-06-10T16:22:28.267Z"
      },
      {
        "duration": 15,
        "start_time": "2022-06-10T16:22:28.307Z"
      },
      {
        "duration": 11,
        "start_time": "2022-06-10T16:22:28.323Z"
      },
      {
        "duration": 33,
        "start_time": "2022-06-10T16:22:28.336Z"
      },
      {
        "duration": 43,
        "start_time": "2022-06-10T16:22:28.371Z"
      },
      {
        "duration": 22,
        "start_time": "2022-06-10T16:22:28.417Z"
      },
      {
        "duration": 29,
        "start_time": "2022-06-10T16:22:28.441Z"
      },
      {
        "duration": 172,
        "start_time": "2022-06-10T16:22:28.496Z"
      },
      {
        "duration": 5,
        "start_time": "2022-06-10T16:22:28.670Z"
      },
      {
        "duration": 13,
        "start_time": "2022-06-10T16:22:28.678Z"
      },
      {
        "duration": 23,
        "start_time": "2022-06-10T16:22:28.696Z"
      },
      {
        "duration": 989,
        "start_time": "2022-06-10T16:22:28.720Z"
      },
      {
        "duration": 7,
        "start_time": "2022-06-10T16:22:29.710Z"
      },
      {
        "duration": 37,
        "start_time": "2022-06-10T16:22:29.719Z"
      },
      {
        "duration": 40,
        "start_time": "2022-06-10T16:22:29.758Z"
      },
      {
        "duration": 1255,
        "start_time": "2022-06-10T16:29:50.714Z"
      },
      {
        "duration": 1293,
        "start_time": "2022-06-10T16:29:51.971Z"
      },
      {
        "duration": 4,
        "start_time": "2022-06-10T16:29:53.266Z"
      },
      {
        "duration": 1141,
        "start_time": "2022-06-10T16:29:53.272Z"
      },
      {
        "duration": 120,
        "start_time": "2022-06-10T16:29:54.415Z"
      },
      {
        "duration": 329,
        "start_time": "2022-06-10T16:29:54.539Z"
      },
      {
        "duration": 12,
        "start_time": "2022-06-10T16:29:54.870Z"
      },
      {
        "duration": 10,
        "start_time": "2022-06-10T16:29:54.894Z"
      },
      {
        "duration": 114,
        "start_time": "2022-06-10T16:29:54.905Z"
      },
      {
        "duration": 91,
        "start_time": "2022-06-10T16:29:55.022Z"
      },
      {
        "duration": 46,
        "start_time": "2022-06-10T16:29:55.115Z"
      },
      {
        "duration": 102,
        "start_time": "2022-06-10T16:29:55.162Z"
      },
      {
        "duration": 94,
        "start_time": "2022-06-10T16:29:55.266Z"
      },
      {
        "duration": 39,
        "start_time": "2022-06-10T16:29:55.362Z"
      },
      {
        "duration": 64,
        "start_time": "2022-06-10T16:29:55.402Z"
      },
      {
        "duration": 101,
        "start_time": "2022-06-10T16:29:55.468Z"
      },
      {
        "duration": 294,
        "start_time": "2022-06-10T16:29:55.571Z"
      },
      {
        "duration": 69,
        "start_time": "2022-06-10T16:29:55.866Z"
      },
      {
        "duration": 23,
        "start_time": "2022-06-10T16:29:55.936Z"
      },
      {
        "duration": 52,
        "start_time": "2022-06-10T16:29:55.961Z"
      },
      {
        "duration": 13,
        "start_time": "2022-06-10T16:29:56.015Z"
      },
      {
        "duration": 34,
        "start_time": "2022-06-10T16:29:56.030Z"
      },
      {
        "duration": 17,
        "start_time": "2022-06-10T16:29:56.066Z"
      },
      {
        "duration": 29,
        "start_time": "2022-06-10T16:29:56.085Z"
      },
      {
        "duration": 34,
        "start_time": "2022-06-10T16:29:56.117Z"
      },
      {
        "duration": 61,
        "start_time": "2022-06-10T16:29:56.153Z"
      },
      {
        "duration": 196,
        "start_time": "2022-06-10T16:29:56.216Z"
      },
      {
        "duration": 8,
        "start_time": "2022-06-10T16:29:56.417Z"
      },
      {
        "duration": 76,
        "start_time": "2022-06-10T16:29:56.427Z"
      },
      {
        "duration": 16,
        "start_time": "2022-06-10T16:29:56.511Z"
      },
      {
        "duration": 847,
        "start_time": "2022-06-10T16:29:56.529Z"
      },
      {
        "duration": 7,
        "start_time": "2022-06-10T16:29:57.378Z"
      },
      {
        "duration": 37,
        "start_time": "2022-06-10T16:29:57.394Z"
      },
      {
        "duration": 28,
        "start_time": "2022-06-10T16:29:57.433Z"
      },
      {
        "duration": 1260,
        "start_time": "2022-06-10T16:32:26.491Z"
      },
      {
        "duration": 1254,
        "start_time": "2022-06-10T16:32:27.752Z"
      },
      {
        "duration": 5,
        "start_time": "2022-06-10T16:32:29.013Z"
      },
      {
        "duration": 1245,
        "start_time": "2022-06-10T16:32:29.021Z"
      },
      {
        "duration": 164,
        "start_time": "2022-06-10T16:32:30.269Z"
      },
      {
        "duration": 387,
        "start_time": "2022-06-10T16:32:30.436Z"
      },
      {
        "duration": 13,
        "start_time": "2022-06-10T16:32:30.825Z"
      },
      {
        "duration": 34,
        "start_time": "2022-06-10T16:32:30.840Z"
      },
      {
        "duration": 87,
        "start_time": "2022-06-10T16:32:30.876Z"
      },
      {
        "duration": 87,
        "start_time": "2022-06-10T16:32:30.966Z"
      },
      {
        "duration": 66,
        "start_time": "2022-06-10T16:32:31.055Z"
      },
      {
        "duration": 111,
        "start_time": "2022-06-10T16:32:31.123Z"
      },
      {
        "duration": 97,
        "start_time": "2022-06-10T16:32:31.236Z"
      },
      {
        "duration": 23,
        "start_time": "2022-06-10T16:32:31.335Z"
      },
      {
        "duration": 90,
        "start_time": "2022-06-10T16:32:31.360Z"
      },
      {
        "duration": 96,
        "start_time": "2022-06-10T16:32:31.452Z"
      },
      {
        "duration": 319,
        "start_time": "2022-06-10T16:32:31.550Z"
      },
      {
        "duration": 71,
        "start_time": "2022-06-10T16:32:31.871Z"
      },
      {
        "duration": 24,
        "start_time": "2022-06-10T16:32:31.945Z"
      },
      {
        "duration": 42,
        "start_time": "2022-06-10T16:32:31.971Z"
      },
      {
        "duration": 26,
        "start_time": "2022-06-10T16:32:32.015Z"
      },
      {
        "duration": 56,
        "start_time": "2022-06-10T16:32:32.043Z"
      },
      {
        "duration": 43,
        "start_time": "2022-06-10T16:32:32.102Z"
      },
      {
        "duration": 136,
        "start_time": "2022-06-10T16:32:32.148Z"
      },
      {
        "duration": 34,
        "start_time": "2022-06-10T16:32:32.287Z"
      },
      {
        "duration": 36,
        "start_time": "2022-06-10T16:32:32.323Z"
      },
      {
        "duration": 213,
        "start_time": "2022-06-10T16:32:32.361Z"
      },
      {
        "duration": 6,
        "start_time": "2022-06-10T16:32:32.578Z"
      },
      {
        "duration": 63,
        "start_time": "2022-06-10T16:32:32.586Z"
      },
      {
        "duration": 44,
        "start_time": "2022-06-10T16:32:32.652Z"
      },
      {
        "duration": 817,
        "start_time": "2022-06-10T16:32:32.698Z"
      },
      {
        "duration": 97,
        "start_time": "2022-06-10T16:32:33.518Z"
      },
      {
        "duration": 36,
        "start_time": "2022-06-10T16:32:33.617Z"
      },
      {
        "duration": 41,
        "start_time": "2022-06-10T16:32:33.655Z"
      },
      {
        "duration": 19,
        "start_time": "2022-06-10T17:02:45.444Z"
      },
      {
        "duration": 40,
        "start_time": "2022-06-10T17:03:12.537Z"
      },
      {
        "duration": 27,
        "start_time": "2022-06-11T05:45:22.923Z"
      }
    ],
    "colab": {
      "collapsed_sections": [],
      "provenance": []
    },
    "kernelspec": {
      "display_name": "Python 3 (ipykernel)",
      "language": "python",
      "name": "python3"
    },
    "language_info": {
      "codemirror_mode": {
        "name": "ipython",
        "version": 3
      },
      "file_extension": ".py",
      "mimetype": "text/x-python",
      "name": "python",
      "nbconvert_exporter": "python",
      "pygments_lexer": "ipython3",
      "version": "3.9.5"
    },
    "toc": {
      "base_numbering": 1,
      "nav_menu": {},
      "number_sections": true,
      "sideBar": true,
      "skip_h1_title": true,
      "title_cell": "Оглавление",
      "title_sidebar": "Contents",
      "toc_cell": true,
      "toc_position": {
        "height": "calc(100% - 180px)",
        "left": "10px",
        "top": "150px",
        "width": "255.594px"
      },
      "toc_section_display": true,
      "toc_window_display": false
    }
  },
  "nbformat": 4,
  "nbformat_minor": 5
}
