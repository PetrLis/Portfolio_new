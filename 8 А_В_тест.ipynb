{
  "cells": [
    {
      "cell_type": "markdown",
      "metadata": {
        "id": "sxZUxVPZHuhM"
      },
      "source": [
        "Для увеличения выручки интернет-магазина необходимо приоритизировать гипотезы, сформулированные отделом маркетинга, провести А/В-тест и проанализировать результаты."
      ]
    },
    {
      "cell_type": "code",
      "execution_count": null,
      "metadata": {
        "id": "1Zru9KbcmblS"
      },
      "outputs": [],
      "source": [
        "import pandas as pd\n",
        "import numpy as np\n",
        "import scipy.stats as stats\n",
        "import matplotlib.pyplot as plt\n",
        "import datetime as dt\n",
        "\n"
      ]
    },
    {
      "cell_type": "markdown",
      "metadata": {
        "id": "p-tEPgZHmWwb"
      },
      "source": [
        "## 1. Приоритизация гипотез."
      ]
    },
    {
      "cell_type": "code",
      "source": [
        "from google.colab import drive\n",
        "drive.mount('/content/drive')"
      ],
      "metadata": {
        "colab": {
          "base_uri": "https://localhost:8080/"
        },
        "id": "OLeMsxWj-pTz",
        "outputId": "c9a89cc2-3349-4dae-e5e4-a73a2026fe9e"
      },
      "execution_count": null,
      "outputs": [
        {
          "output_type": "stream",
          "name": "stdout",
          "text": [
            "Drive already mounted at /content/drive; to attempt to forcibly remount, call drive.mount(\"/content/drive\", force_remount=True).\n"
          ]
        }
      ]
    },
    {
      "cell_type": "code",
      "execution_count": null,
      "metadata": {
        "scrolled": true,
        "id": "Qupqc_p4_5u1",
        "outputId": "7d09a852-2ead-42d8-c610-62144930c8f5",
        "colab": {
          "base_uri": "https://localhost:8080/",
          "height": 206
        }
      },
      "outputs": [
        {
          "output_type": "execute_result",
          "data": {
            "text/plain": [
              "                                                                                                     Hypothesis  \\\n",
              "0            Добавить два новых канала привлечения трафика, что позволит привлекать на 30% больше пользователей   \n",
              "1                                     Запустить собственную службу доставки, что сократит срок доставки заказов   \n",
              "2  Добавить блоки рекомендаций товаров на сайт интернет магазина, чтобы повысить конверсию и средний чек заказа   \n",
              "3           Изменить структура категорий, что увеличит конверсию, т.к. пользователи быстрее найдут нужный товар   \n",
              "4                              Изменить цвет фона главной страницы, чтобы увеличить вовлеченность пользователей   \n",
              "\n",
              "   Reach  Impact  Confidence  Efforts  \n",
              "0      3      10           8        6  \n",
              "1      2       5           4       10  \n",
              "2      8       3           7        3  \n",
              "3      8       3           3        8  \n",
              "4      3       1           1        1  "
            ],
            "text/html": [
              "\n",
              "  <div id=\"df-9712efac-b0f6-42a5-9d91-ee8653ff289a\">\n",
              "    <div class=\"colab-df-container\">\n",
              "      <div>\n",
              "<style scoped>\n",
              "    .dataframe tbody tr th:only-of-type {\n",
              "        vertical-align: middle;\n",
              "    }\n",
              "\n",
              "    .dataframe tbody tr th {\n",
              "        vertical-align: top;\n",
              "    }\n",
              "\n",
              "    .dataframe thead th {\n",
              "        text-align: right;\n",
              "    }\n",
              "</style>\n",
              "<table border=\"1\" class=\"dataframe\">\n",
              "  <thead>\n",
              "    <tr style=\"text-align: right;\">\n",
              "      <th></th>\n",
              "      <th>Hypothesis</th>\n",
              "      <th>Reach</th>\n",
              "      <th>Impact</th>\n",
              "      <th>Confidence</th>\n",
              "      <th>Efforts</th>\n",
              "    </tr>\n",
              "  </thead>\n",
              "  <tbody>\n",
              "    <tr>\n",
              "      <th>0</th>\n",
              "      <td>Добавить два новых канала привлечения трафика, что позволит привлекать на 30% больше пользователей</td>\n",
              "      <td>3</td>\n",
              "      <td>10</td>\n",
              "      <td>8</td>\n",
              "      <td>6</td>\n",
              "    </tr>\n",
              "    <tr>\n",
              "      <th>1</th>\n",
              "      <td>Запустить собственную службу доставки, что сократит срок доставки заказов</td>\n",
              "      <td>2</td>\n",
              "      <td>5</td>\n",
              "      <td>4</td>\n",
              "      <td>10</td>\n",
              "    </tr>\n",
              "    <tr>\n",
              "      <th>2</th>\n",
              "      <td>Добавить блоки рекомендаций товаров на сайт интернет магазина, чтобы повысить конверсию и средний чек заказа</td>\n",
              "      <td>8</td>\n",
              "      <td>3</td>\n",
              "      <td>7</td>\n",
              "      <td>3</td>\n",
              "    </tr>\n",
              "    <tr>\n",
              "      <th>3</th>\n",
              "      <td>Изменить структура категорий, что увеличит конверсию, т.к. пользователи быстрее найдут нужный товар</td>\n",
              "      <td>8</td>\n",
              "      <td>3</td>\n",
              "      <td>3</td>\n",
              "      <td>8</td>\n",
              "    </tr>\n",
              "    <tr>\n",
              "      <th>4</th>\n",
              "      <td>Изменить цвет фона главной страницы, чтобы увеличить вовлеченность пользователей</td>\n",
              "      <td>3</td>\n",
              "      <td>1</td>\n",
              "      <td>1</td>\n",
              "      <td>1</td>\n",
              "    </tr>\n",
              "  </tbody>\n",
              "</table>\n",
              "</div>\n",
              "      <button class=\"colab-df-convert\" onclick=\"convertToInteractive('df-9712efac-b0f6-42a5-9d91-ee8653ff289a')\"\n",
              "              title=\"Convert this dataframe to an interactive table.\"\n",
              "              style=\"display:none;\">\n",
              "        \n",
              "  <svg xmlns=\"http://www.w3.org/2000/svg\" height=\"24px\"viewBox=\"0 0 24 24\"\n",
              "       width=\"24px\">\n",
              "    <path d=\"M0 0h24v24H0V0z\" fill=\"none\"/>\n",
              "    <path d=\"M18.56 5.44l.94 2.06.94-2.06 2.06-.94-2.06-.94-.94-2.06-.94 2.06-2.06.94zm-11 1L8.5 8.5l.94-2.06 2.06-.94-2.06-.94L8.5 2.5l-.94 2.06-2.06.94zm10 10l.94 2.06.94-2.06 2.06-.94-2.06-.94-.94-2.06-.94 2.06-2.06.94z\"/><path d=\"M17.41 7.96l-1.37-1.37c-.4-.4-.92-.59-1.43-.59-.52 0-1.04.2-1.43.59L10.3 9.45l-7.72 7.72c-.78.78-.78 2.05 0 2.83L4 21.41c.39.39.9.59 1.41.59.51 0 1.02-.2 1.41-.59l7.78-7.78 2.81-2.81c.8-.78.8-2.07 0-2.86zM5.41 20L4 18.59l7.72-7.72 1.47 1.35L5.41 20z\"/>\n",
              "  </svg>\n",
              "      </button>\n",
              "      \n",
              "  <style>\n",
              "    .colab-df-container {\n",
              "      display:flex;\n",
              "      flex-wrap:wrap;\n",
              "      gap: 12px;\n",
              "    }\n",
              "\n",
              "    .colab-df-convert {\n",
              "      background-color: #E8F0FE;\n",
              "      border: none;\n",
              "      border-radius: 50%;\n",
              "      cursor: pointer;\n",
              "      display: none;\n",
              "      fill: #1967D2;\n",
              "      height: 32px;\n",
              "      padding: 0 0 0 0;\n",
              "      width: 32px;\n",
              "    }\n",
              "\n",
              "    .colab-df-convert:hover {\n",
              "      background-color: #E2EBFA;\n",
              "      box-shadow: 0px 1px 2px rgba(60, 64, 67, 0.3), 0px 1px 3px 1px rgba(60, 64, 67, 0.15);\n",
              "      fill: #174EA6;\n",
              "    }\n",
              "\n",
              "    [theme=dark] .colab-df-convert {\n",
              "      background-color: #3B4455;\n",
              "      fill: #D2E3FC;\n",
              "    }\n",
              "\n",
              "    [theme=dark] .colab-df-convert:hover {\n",
              "      background-color: #434B5C;\n",
              "      box-shadow: 0px 1px 3px 1px rgba(0, 0, 0, 0.15);\n",
              "      filter: drop-shadow(0px 1px 2px rgba(0, 0, 0, 0.3));\n",
              "      fill: #FFFFFF;\n",
              "    }\n",
              "  </style>\n",
              "\n",
              "      <script>\n",
              "        const buttonEl =\n",
              "          document.querySelector('#df-9712efac-b0f6-42a5-9d91-ee8653ff289a button.colab-df-convert');\n",
              "        buttonEl.style.display =\n",
              "          google.colab.kernel.accessAllowed ? 'block' : 'none';\n",
              "\n",
              "        async function convertToInteractive(key) {\n",
              "          const element = document.querySelector('#df-9712efac-b0f6-42a5-9d91-ee8653ff289a');\n",
              "          const dataTable =\n",
              "            await google.colab.kernel.invokeFunction('convertToInteractive',\n",
              "                                                     [key], {});\n",
              "          if (!dataTable) return;\n",
              "\n",
              "          const docLinkHtml = 'Like what you see? Visit the ' +\n",
              "            '<a target=\"_blank\" href=https://colab.research.google.com/notebooks/data_table.ipynb>data table notebook</a>'\n",
              "            + ' to learn more about interactive tables.';\n",
              "          element.innerHTML = '';\n",
              "          dataTable['output_type'] = 'display_data';\n",
              "          await google.colab.output.renderOutput(dataTable, element);\n",
              "          const docLink = document.createElement('div');\n",
              "          docLink.innerHTML = docLinkHtml;\n",
              "          element.appendChild(docLink);\n",
              "        }\n",
              "      </script>\n",
              "    </div>\n",
              "  </div>\n",
              "  "
            ]
          },
          "metadata": {},
          "execution_count": 3
        }
      ],
      "source": [
        "pd.set_option('display.max_colwidth', 150)\n",
        "df = pd.read_csv()\n",
        "df.head()"
      ]
    },
    {
      "cell_type": "markdown",
      "metadata": {
        "id": "gju3TnWT_5u2"
      },
      "source": [
        "<hr style=\"border: 1px solid grey;\" />"
      ]
    },
    {
      "cell_type": "code",
      "execution_count": null,
      "metadata": {
        "id": "tj2Lmjjen3Dp"
      },
      "outputs": [],
      "source": [
        "# приводим названия колонок к нижнему регистру\n",
        "df.columns = [x.lower().replace(' ', '_') for x in df.columns.values]"
      ]
    },
    {
      "cell_type": "markdown",
      "metadata": {
        "id": "yCaRkyBUSoE7"
      },
      "source": [
        "1.1 Применим фреймворк ICE для приоритизации гипотез. Отсортируем их по убыванию приоритета."
      ]
    },
    {
      "cell_type": "code",
      "execution_count": null,
      "metadata": {
        "colab": {
          "base_uri": "https://localhost:8080/",
          "height": 332
        },
        "id": "2prZ8qAWnNd8",
        "outputId": "470c2b3b-8e40-413d-d711-dfbe1b534ee4"
      },
      "outputs": [
        {
          "output_type": "execute_result",
          "data": {
            "text/plain": [
              "                                                                                                     hypothesis  \\\n",
              "8                                                       Запустить акцию, дающую скидку на товар в день рождения   \n",
              "0            Добавить два новых канала привлечения трафика, что позволит привлекать на 30% больше пользователей   \n",
              "7              Добавить форму подписки на все основные страницы, чтобы собрать базу клиентов для email-рассылок   \n",
              "6          Показать на главной странице баннеры с актуальными акциями и распродажами, чтобы увеличить конверсию   \n",
              "2  Добавить блоки рекомендаций товаров на сайт интернет магазина, чтобы повысить конверсию и средний чек заказа   \n",
              "1                                     Запустить собственную службу доставки, что сократит срок доставки заказов   \n",
              "5                      Добавить страницу отзывов клиентов о магазине, что позволит увеличить количество заказов   \n",
              "3           Изменить структура категорий, что увеличит конверсию, т.к. пользователи быстрее найдут нужный товар   \n",
              "4                              Изменить цвет фона главной страницы, чтобы увеличить вовлеченность пользователей   \n",
              "\n",
              "     ICE  \n",
              "8  16.20  \n",
              "0  13.33  \n",
              "7  11.20  \n",
              "6   8.00  \n",
              "2   7.00  \n",
              "1   2.00  \n",
              "5   1.33  \n",
              "3   1.12  \n",
              "4   1.00  "
            ],
            "text/html": [
              "\n",
              "  <div id=\"df-75356869-8ad2-4a01-a849-3f1184f2bba7\">\n",
              "    <div class=\"colab-df-container\">\n",
              "      <div>\n",
              "<style scoped>\n",
              "    .dataframe tbody tr th:only-of-type {\n",
              "        vertical-align: middle;\n",
              "    }\n",
              "\n",
              "    .dataframe tbody tr th {\n",
              "        vertical-align: top;\n",
              "    }\n",
              "\n",
              "    .dataframe thead th {\n",
              "        text-align: right;\n",
              "    }\n",
              "</style>\n",
              "<table border=\"1\" class=\"dataframe\">\n",
              "  <thead>\n",
              "    <tr style=\"text-align: right;\">\n",
              "      <th></th>\n",
              "      <th>hypothesis</th>\n",
              "      <th>ICE</th>\n",
              "    </tr>\n",
              "  </thead>\n",
              "  <tbody>\n",
              "    <tr>\n",
              "      <th>8</th>\n",
              "      <td>Запустить акцию, дающую скидку на товар в день рождения</td>\n",
              "      <td>16.20</td>\n",
              "    </tr>\n",
              "    <tr>\n",
              "      <th>0</th>\n",
              "      <td>Добавить два новых канала привлечения трафика, что позволит привлекать на 30% больше пользователей</td>\n",
              "      <td>13.33</td>\n",
              "    </tr>\n",
              "    <tr>\n",
              "      <th>7</th>\n",
              "      <td>Добавить форму подписки на все основные страницы, чтобы собрать базу клиентов для email-рассылок</td>\n",
              "      <td>11.20</td>\n",
              "    </tr>\n",
              "    <tr>\n",
              "      <th>6</th>\n",
              "      <td>Показать на главной странице баннеры с актуальными акциями и распродажами, чтобы увеличить конверсию</td>\n",
              "      <td>8.00</td>\n",
              "    </tr>\n",
              "    <tr>\n",
              "      <th>2</th>\n",
              "      <td>Добавить блоки рекомендаций товаров на сайт интернет магазина, чтобы повысить конверсию и средний чек заказа</td>\n",
              "      <td>7.00</td>\n",
              "    </tr>\n",
              "    <tr>\n",
              "      <th>1</th>\n",
              "      <td>Запустить собственную службу доставки, что сократит срок доставки заказов</td>\n",
              "      <td>2.00</td>\n",
              "    </tr>\n",
              "    <tr>\n",
              "      <th>5</th>\n",
              "      <td>Добавить страницу отзывов клиентов о магазине, что позволит увеличить количество заказов</td>\n",
              "      <td>1.33</td>\n",
              "    </tr>\n",
              "    <tr>\n",
              "      <th>3</th>\n",
              "      <td>Изменить структура категорий, что увеличит конверсию, т.к. пользователи быстрее найдут нужный товар</td>\n",
              "      <td>1.12</td>\n",
              "    </tr>\n",
              "    <tr>\n",
              "      <th>4</th>\n",
              "      <td>Изменить цвет фона главной страницы, чтобы увеличить вовлеченность пользователей</td>\n",
              "      <td>1.00</td>\n",
              "    </tr>\n",
              "  </tbody>\n",
              "</table>\n",
              "</div>\n",
              "      <button class=\"colab-df-convert\" onclick=\"convertToInteractive('df-75356869-8ad2-4a01-a849-3f1184f2bba7')\"\n",
              "              title=\"Convert this dataframe to an interactive table.\"\n",
              "              style=\"display:none;\">\n",
              "        \n",
              "  <svg xmlns=\"http://www.w3.org/2000/svg\" height=\"24px\"viewBox=\"0 0 24 24\"\n",
              "       width=\"24px\">\n",
              "    <path d=\"M0 0h24v24H0V0z\" fill=\"none\"/>\n",
              "    <path d=\"M18.56 5.44l.94 2.06.94-2.06 2.06-.94-2.06-.94-.94-2.06-.94 2.06-2.06.94zm-11 1L8.5 8.5l.94-2.06 2.06-.94-2.06-.94L8.5 2.5l-.94 2.06-2.06.94zm10 10l.94 2.06.94-2.06 2.06-.94-2.06-.94-.94-2.06-.94 2.06-2.06.94z\"/><path d=\"M17.41 7.96l-1.37-1.37c-.4-.4-.92-.59-1.43-.59-.52 0-1.04.2-1.43.59L10.3 9.45l-7.72 7.72c-.78.78-.78 2.05 0 2.83L4 21.41c.39.39.9.59 1.41.59.51 0 1.02-.2 1.41-.59l7.78-7.78 2.81-2.81c.8-.78.8-2.07 0-2.86zM5.41 20L4 18.59l7.72-7.72 1.47 1.35L5.41 20z\"/>\n",
              "  </svg>\n",
              "      </button>\n",
              "      \n",
              "  <style>\n",
              "    .colab-df-container {\n",
              "      display:flex;\n",
              "      flex-wrap:wrap;\n",
              "      gap: 12px;\n",
              "    }\n",
              "\n",
              "    .colab-df-convert {\n",
              "      background-color: #E8F0FE;\n",
              "      border: none;\n",
              "      border-radius: 50%;\n",
              "      cursor: pointer;\n",
              "      display: none;\n",
              "      fill: #1967D2;\n",
              "      height: 32px;\n",
              "      padding: 0 0 0 0;\n",
              "      width: 32px;\n",
              "    }\n",
              "\n",
              "    .colab-df-convert:hover {\n",
              "      background-color: #E2EBFA;\n",
              "      box-shadow: 0px 1px 2px rgba(60, 64, 67, 0.3), 0px 1px 3px 1px rgba(60, 64, 67, 0.15);\n",
              "      fill: #174EA6;\n",
              "    }\n",
              "\n",
              "    [theme=dark] .colab-df-convert {\n",
              "      background-color: #3B4455;\n",
              "      fill: #D2E3FC;\n",
              "    }\n",
              "\n",
              "    [theme=dark] .colab-df-convert:hover {\n",
              "      background-color: #434B5C;\n",
              "      box-shadow: 0px 1px 3px 1px rgba(0, 0, 0, 0.15);\n",
              "      filter: drop-shadow(0px 1px 2px rgba(0, 0, 0, 0.3));\n",
              "      fill: #FFFFFF;\n",
              "    }\n",
              "  </style>\n",
              "\n",
              "      <script>\n",
              "        const buttonEl =\n",
              "          document.querySelector('#df-75356869-8ad2-4a01-a849-3f1184f2bba7 button.colab-df-convert');\n",
              "        buttonEl.style.display =\n",
              "          google.colab.kernel.accessAllowed ? 'block' : 'none';\n",
              "\n",
              "        async function convertToInteractive(key) {\n",
              "          const element = document.querySelector('#df-75356869-8ad2-4a01-a849-3f1184f2bba7');\n",
              "          const dataTable =\n",
              "            await google.colab.kernel.invokeFunction('convertToInteractive',\n",
              "                                                     [key], {});\n",
              "          if (!dataTable) return;\n",
              "\n",
              "          const docLinkHtml = 'Like what you see? Visit the ' +\n",
              "            '<a target=\"_blank\" href=https://colab.research.google.com/notebooks/data_table.ipynb>data table notebook</a>'\n",
              "            + ' to learn more about interactive tables.';\n",
              "          element.innerHTML = '';\n",
              "          dataTable['output_type'] = 'display_data';\n",
              "          await google.colab.output.renderOutput(dataTable, element);\n",
              "          const docLink = document.createElement('div');\n",
              "          docLink.innerHTML = docLinkHtml;\n",
              "          element.appendChild(docLink);\n",
              "        }\n",
              "      </script>\n",
              "    </div>\n",
              "  </div>\n",
              "  "
            ]
          },
          "metadata": {},
          "execution_count": 5
        }
      ],
      "source": [
        "# добавляем новый столбец 'ICE'\n",
        "df['ICE'] = (df['impact']*df['confidence'])/df['efforts']\n",
        "df.loc[: , ['hypothesis', 'ICE']].sort_values(by='ICE', ascending=False).round(2)"
      ]
    },
    {
      "cell_type": "markdown",
      "metadata": {
        "id": "UBPn0w6monB8"
      },
      "source": [
        "Наиболее перспективные гипотезы с индексами 8, 0, 7"
      ]
    },
    {
      "cell_type": "markdown",
      "metadata": {
        "id": "JdGl3H-3S3Kr"
      },
      "source": [
        "### 1.2 Применим фреймворк RICE для приоритизации гипотез. Отсортируем их по убыванию приоритета."
      ]
    },
    {
      "cell_type": "code",
      "execution_count": null,
      "metadata": {
        "colab": {
          "base_uri": "https://localhost:8080/",
          "height": 332
        },
        "id": "AX-ZJxnWoPY_",
        "outputId": "d96d8067-40f8-4f0d-f2c9-00890db83355"
      },
      "outputs": [
        {
          "output_type": "execute_result",
          "data": {
            "text/plain": [
              "                                                                                                     hypothesis  \\\n",
              "7              Добавить форму подписки на все основные страницы, чтобы собрать базу клиентов для email-рассылок   \n",
              "2  Добавить блоки рекомендаций товаров на сайт интернет магазина, чтобы повысить конверсию и средний чек заказа   \n",
              "0            Добавить два новых канала привлечения трафика, что позволит привлекать на 30% больше пользователей   \n",
              "6          Показать на главной странице баннеры с актуальными акциями и распродажами, чтобы увеличить конверсию   \n",
              "8                                                       Запустить акцию, дающую скидку на товар в день рождения   \n",
              "3           Изменить структура категорий, что увеличит конверсию, т.к. пользователи быстрее найдут нужный товар   \n",
              "1                                     Запустить собственную службу доставки, что сократит срок доставки заказов   \n",
              "5                      Добавить страницу отзывов клиентов о магазине, что позволит увеличить количество заказов   \n",
              "4                              Изменить цвет фона главной страницы, чтобы увеличить вовлеченность пользователей   \n",
              "\n",
              "    RICE  \n",
              "7  112.0  \n",
              "2   56.0  \n",
              "0   40.0  \n",
              "6   40.0  \n",
              "8   16.2  \n",
              "3    9.0  \n",
              "1    4.0  \n",
              "5    4.0  \n",
              "4    3.0  "
            ],
            "text/html": [
              "\n",
              "  <div id=\"df-9815d33f-df08-46c0-be57-3a40959a37c1\">\n",
              "    <div class=\"colab-df-container\">\n",
              "      <div>\n",
              "<style scoped>\n",
              "    .dataframe tbody tr th:only-of-type {\n",
              "        vertical-align: middle;\n",
              "    }\n",
              "\n",
              "    .dataframe tbody tr th {\n",
              "        vertical-align: top;\n",
              "    }\n",
              "\n",
              "    .dataframe thead th {\n",
              "        text-align: right;\n",
              "    }\n",
              "</style>\n",
              "<table border=\"1\" class=\"dataframe\">\n",
              "  <thead>\n",
              "    <tr style=\"text-align: right;\">\n",
              "      <th></th>\n",
              "      <th>hypothesis</th>\n",
              "      <th>RICE</th>\n",
              "    </tr>\n",
              "  </thead>\n",
              "  <tbody>\n",
              "    <tr>\n",
              "      <th>7</th>\n",
              "      <td>Добавить форму подписки на все основные страницы, чтобы собрать базу клиентов для email-рассылок</td>\n",
              "      <td>112.0</td>\n",
              "    </tr>\n",
              "    <tr>\n",
              "      <th>2</th>\n",
              "      <td>Добавить блоки рекомендаций товаров на сайт интернет магазина, чтобы повысить конверсию и средний чек заказа</td>\n",
              "      <td>56.0</td>\n",
              "    </tr>\n",
              "    <tr>\n",
              "      <th>0</th>\n",
              "      <td>Добавить два новых канала привлечения трафика, что позволит привлекать на 30% больше пользователей</td>\n",
              "      <td>40.0</td>\n",
              "    </tr>\n",
              "    <tr>\n",
              "      <th>6</th>\n",
              "      <td>Показать на главной странице баннеры с актуальными акциями и распродажами, чтобы увеличить конверсию</td>\n",
              "      <td>40.0</td>\n",
              "    </tr>\n",
              "    <tr>\n",
              "      <th>8</th>\n",
              "      <td>Запустить акцию, дающую скидку на товар в день рождения</td>\n",
              "      <td>16.2</td>\n",
              "    </tr>\n",
              "    <tr>\n",
              "      <th>3</th>\n",
              "      <td>Изменить структура категорий, что увеличит конверсию, т.к. пользователи быстрее найдут нужный товар</td>\n",
              "      <td>9.0</td>\n",
              "    </tr>\n",
              "    <tr>\n",
              "      <th>1</th>\n",
              "      <td>Запустить собственную службу доставки, что сократит срок доставки заказов</td>\n",
              "      <td>4.0</td>\n",
              "    </tr>\n",
              "    <tr>\n",
              "      <th>5</th>\n",
              "      <td>Добавить страницу отзывов клиентов о магазине, что позволит увеличить количество заказов</td>\n",
              "      <td>4.0</td>\n",
              "    </tr>\n",
              "    <tr>\n",
              "      <th>4</th>\n",
              "      <td>Изменить цвет фона главной страницы, чтобы увеличить вовлеченность пользователей</td>\n",
              "      <td>3.0</td>\n",
              "    </tr>\n",
              "  </tbody>\n",
              "</table>\n",
              "</div>\n",
              "      <button class=\"colab-df-convert\" onclick=\"convertToInteractive('df-9815d33f-df08-46c0-be57-3a40959a37c1')\"\n",
              "              title=\"Convert this dataframe to an interactive table.\"\n",
              "              style=\"display:none;\">\n",
              "        \n",
              "  <svg xmlns=\"http://www.w3.org/2000/svg\" height=\"24px\"viewBox=\"0 0 24 24\"\n",
              "       width=\"24px\">\n",
              "    <path d=\"M0 0h24v24H0V0z\" fill=\"none\"/>\n",
              "    <path d=\"M18.56 5.44l.94 2.06.94-2.06 2.06-.94-2.06-.94-.94-2.06-.94 2.06-2.06.94zm-11 1L8.5 8.5l.94-2.06 2.06-.94-2.06-.94L8.5 2.5l-.94 2.06-2.06.94zm10 10l.94 2.06.94-2.06 2.06-.94-2.06-.94-.94-2.06-.94 2.06-2.06.94z\"/><path d=\"M17.41 7.96l-1.37-1.37c-.4-.4-.92-.59-1.43-.59-.52 0-1.04.2-1.43.59L10.3 9.45l-7.72 7.72c-.78.78-.78 2.05 0 2.83L4 21.41c.39.39.9.59 1.41.59.51 0 1.02-.2 1.41-.59l7.78-7.78 2.81-2.81c.8-.78.8-2.07 0-2.86zM5.41 20L4 18.59l7.72-7.72 1.47 1.35L5.41 20z\"/>\n",
              "  </svg>\n",
              "      </button>\n",
              "      \n",
              "  <style>\n",
              "    .colab-df-container {\n",
              "      display:flex;\n",
              "      flex-wrap:wrap;\n",
              "      gap: 12px;\n",
              "    }\n",
              "\n",
              "    .colab-df-convert {\n",
              "      background-color: #E8F0FE;\n",
              "      border: none;\n",
              "      border-radius: 50%;\n",
              "      cursor: pointer;\n",
              "      display: none;\n",
              "      fill: #1967D2;\n",
              "      height: 32px;\n",
              "      padding: 0 0 0 0;\n",
              "      width: 32px;\n",
              "    }\n",
              "\n",
              "    .colab-df-convert:hover {\n",
              "      background-color: #E2EBFA;\n",
              "      box-shadow: 0px 1px 2px rgba(60, 64, 67, 0.3), 0px 1px 3px 1px rgba(60, 64, 67, 0.15);\n",
              "      fill: #174EA6;\n",
              "    }\n",
              "\n",
              "    [theme=dark] .colab-df-convert {\n",
              "      background-color: #3B4455;\n",
              "      fill: #D2E3FC;\n",
              "    }\n",
              "\n",
              "    [theme=dark] .colab-df-convert:hover {\n",
              "      background-color: #434B5C;\n",
              "      box-shadow: 0px 1px 3px 1px rgba(0, 0, 0, 0.15);\n",
              "      filter: drop-shadow(0px 1px 2px rgba(0, 0, 0, 0.3));\n",
              "      fill: #FFFFFF;\n",
              "    }\n",
              "  </style>\n",
              "\n",
              "      <script>\n",
              "        const buttonEl =\n",
              "          document.querySelector('#df-9815d33f-df08-46c0-be57-3a40959a37c1 button.colab-df-convert');\n",
              "        buttonEl.style.display =\n",
              "          google.colab.kernel.accessAllowed ? 'block' : 'none';\n",
              "\n",
              "        async function convertToInteractive(key) {\n",
              "          const element = document.querySelector('#df-9815d33f-df08-46c0-be57-3a40959a37c1');\n",
              "          const dataTable =\n",
              "            await google.colab.kernel.invokeFunction('convertToInteractive',\n",
              "                                                     [key], {});\n",
              "          if (!dataTable) return;\n",
              "\n",
              "          const docLinkHtml = 'Like what you see? Visit the ' +\n",
              "            '<a target=\"_blank\" href=https://colab.research.google.com/notebooks/data_table.ipynb>data table notebook</a>'\n",
              "            + ' to learn more about interactive tables.';\n",
              "          element.innerHTML = '';\n",
              "          dataTable['output_type'] = 'display_data';\n",
              "          await google.colab.output.renderOutput(dataTable, element);\n",
              "          const docLink = document.createElement('div');\n",
              "          docLink.innerHTML = docLinkHtml;\n",
              "          element.appendChild(docLink);\n",
              "        }\n",
              "      </script>\n",
              "    </div>\n",
              "  </div>\n",
              "  "
            ]
          },
          "metadata": {},
          "execution_count": 6
        }
      ],
      "source": [
        "# добавляем новый столбец 'RICE'\n",
        "df['RICE'] = (df['reach']*df['impact']*df['confidence'])/df['efforts']\n",
        "df.loc[: , ['hypothesis', 'RICE']].sort_values(by='RICE', ascending=False)"
      ]
    },
    {
      "cell_type": "markdown",
      "metadata": {
        "id": "DzZMPVYgo7V_"
      },
      "source": [
        "По методу RICE наиболее перспективные гипотезы с индексами 7, 2, 0\n",
        " Приоритезация гипотез изменилась в следствии изменения метода. "
      ]
    },
    {
      "cell_type": "markdown",
      "metadata": {
        "id": "Tzt38QyuTGoo"
      },
      "source": [
        "### 1.3 Вывод по приоритизации гипотез."
      ]
    },
    {
      "cell_type": "code",
      "execution_count": null,
      "metadata": {
        "colab": {
          "base_uri": "https://localhost:8080/",
          "height": 332
        },
        "id": "1zQA6WO5qUPt",
        "outputId": "78c0753f-e3a4-4b13-d235-7aa659a30556"
      },
      "outputs": [
        {
          "output_type": "execute_result",
          "data": {
            "text/plain": [
              "                                                                                                     hypothesis  \\\n",
              "7              Добавить форму подписки на все основные страницы, чтобы собрать базу клиентов для email-рассылок   \n",
              "2  Добавить блоки рекомендаций товаров на сайт интернет магазина, чтобы повысить конверсию и средний чек заказа   \n",
              "0            Добавить два новых канала привлечения трафика, что позволит привлекать на 30% больше пользователей   \n",
              "6          Показать на главной странице баннеры с актуальными акциями и распродажами, чтобы увеличить конверсию   \n",
              "8                                                       Запустить акцию, дающую скидку на товар в день рождения   \n",
              "3           Изменить структура категорий, что увеличит конверсию, т.к. пользователи быстрее найдут нужный товар   \n",
              "1                                     Запустить собственную службу доставки, что сократит срок доставки заказов   \n",
              "5                      Добавить страницу отзывов клиентов о магазине, что позволит увеличить количество заказов   \n",
              "4                              Изменить цвет фона главной страницы, чтобы увеличить вовлеченность пользователей   \n",
              "\n",
              "     ICE   RICE  \n",
              "7  11.20  112.0  \n",
              "2   7.00   56.0  \n",
              "0  13.33   40.0  \n",
              "6   8.00   40.0  \n",
              "8  16.20   16.2  \n",
              "3   1.12    9.0  \n",
              "1   2.00    4.0  \n",
              "5   1.33    4.0  \n",
              "4   1.00    3.0  "
            ],
            "text/html": [
              "\n",
              "  <div id=\"df-76ddf104-c7f8-474a-b03a-c3dcee695ea3\">\n",
              "    <div class=\"colab-df-container\">\n",
              "      <div>\n",
              "<style scoped>\n",
              "    .dataframe tbody tr th:only-of-type {\n",
              "        vertical-align: middle;\n",
              "    }\n",
              "\n",
              "    .dataframe tbody tr th {\n",
              "        vertical-align: top;\n",
              "    }\n",
              "\n",
              "    .dataframe thead th {\n",
              "        text-align: right;\n",
              "    }\n",
              "</style>\n",
              "<table border=\"1\" class=\"dataframe\">\n",
              "  <thead>\n",
              "    <tr style=\"text-align: right;\">\n",
              "      <th></th>\n",
              "      <th>hypothesis</th>\n",
              "      <th>ICE</th>\n",
              "      <th>RICE</th>\n",
              "    </tr>\n",
              "  </thead>\n",
              "  <tbody>\n",
              "    <tr>\n",
              "      <th>7</th>\n",
              "      <td>Добавить форму подписки на все основные страницы, чтобы собрать базу клиентов для email-рассылок</td>\n",
              "      <td>11.20</td>\n",
              "      <td>112.0</td>\n",
              "    </tr>\n",
              "    <tr>\n",
              "      <th>2</th>\n",
              "      <td>Добавить блоки рекомендаций товаров на сайт интернет магазина, чтобы повысить конверсию и средний чек заказа</td>\n",
              "      <td>7.00</td>\n",
              "      <td>56.0</td>\n",
              "    </tr>\n",
              "    <tr>\n",
              "      <th>0</th>\n",
              "      <td>Добавить два новых канала привлечения трафика, что позволит привлекать на 30% больше пользователей</td>\n",
              "      <td>13.33</td>\n",
              "      <td>40.0</td>\n",
              "    </tr>\n",
              "    <tr>\n",
              "      <th>6</th>\n",
              "      <td>Показать на главной странице баннеры с актуальными акциями и распродажами, чтобы увеличить конверсию</td>\n",
              "      <td>8.00</td>\n",
              "      <td>40.0</td>\n",
              "    </tr>\n",
              "    <tr>\n",
              "      <th>8</th>\n",
              "      <td>Запустить акцию, дающую скидку на товар в день рождения</td>\n",
              "      <td>16.20</td>\n",
              "      <td>16.2</td>\n",
              "    </tr>\n",
              "    <tr>\n",
              "      <th>3</th>\n",
              "      <td>Изменить структура категорий, что увеличит конверсию, т.к. пользователи быстрее найдут нужный товар</td>\n",
              "      <td>1.12</td>\n",
              "      <td>9.0</td>\n",
              "    </tr>\n",
              "    <tr>\n",
              "      <th>1</th>\n",
              "      <td>Запустить собственную службу доставки, что сократит срок доставки заказов</td>\n",
              "      <td>2.00</td>\n",
              "      <td>4.0</td>\n",
              "    </tr>\n",
              "    <tr>\n",
              "      <th>5</th>\n",
              "      <td>Добавить страницу отзывов клиентов о магазине, что позволит увеличить количество заказов</td>\n",
              "      <td>1.33</td>\n",
              "      <td>4.0</td>\n",
              "    </tr>\n",
              "    <tr>\n",
              "      <th>4</th>\n",
              "      <td>Изменить цвет фона главной страницы, чтобы увеличить вовлеченность пользователей</td>\n",
              "      <td>1.00</td>\n",
              "      <td>3.0</td>\n",
              "    </tr>\n",
              "  </tbody>\n",
              "</table>\n",
              "</div>\n",
              "      <button class=\"colab-df-convert\" onclick=\"convertToInteractive('df-76ddf104-c7f8-474a-b03a-c3dcee695ea3')\"\n",
              "              title=\"Convert this dataframe to an interactive table.\"\n",
              "              style=\"display:none;\">\n",
              "        \n",
              "  <svg xmlns=\"http://www.w3.org/2000/svg\" height=\"24px\"viewBox=\"0 0 24 24\"\n",
              "       width=\"24px\">\n",
              "    <path d=\"M0 0h24v24H0V0z\" fill=\"none\"/>\n",
              "    <path d=\"M18.56 5.44l.94 2.06.94-2.06 2.06-.94-2.06-.94-.94-2.06-.94 2.06-2.06.94zm-11 1L8.5 8.5l.94-2.06 2.06-.94-2.06-.94L8.5 2.5l-.94 2.06-2.06.94zm10 10l.94 2.06.94-2.06 2.06-.94-2.06-.94-.94-2.06-.94 2.06-2.06.94z\"/><path d=\"M17.41 7.96l-1.37-1.37c-.4-.4-.92-.59-1.43-.59-.52 0-1.04.2-1.43.59L10.3 9.45l-7.72 7.72c-.78.78-.78 2.05 0 2.83L4 21.41c.39.39.9.59 1.41.59.51 0 1.02-.2 1.41-.59l7.78-7.78 2.81-2.81c.8-.78.8-2.07 0-2.86zM5.41 20L4 18.59l7.72-7.72 1.47 1.35L5.41 20z\"/>\n",
              "  </svg>\n",
              "      </button>\n",
              "      \n",
              "  <style>\n",
              "    .colab-df-container {\n",
              "      display:flex;\n",
              "      flex-wrap:wrap;\n",
              "      gap: 12px;\n",
              "    }\n",
              "\n",
              "    .colab-df-convert {\n",
              "      background-color: #E8F0FE;\n",
              "      border: none;\n",
              "      border-radius: 50%;\n",
              "      cursor: pointer;\n",
              "      display: none;\n",
              "      fill: #1967D2;\n",
              "      height: 32px;\n",
              "      padding: 0 0 0 0;\n",
              "      width: 32px;\n",
              "    }\n",
              "\n",
              "    .colab-df-convert:hover {\n",
              "      background-color: #E2EBFA;\n",
              "      box-shadow: 0px 1px 2px rgba(60, 64, 67, 0.3), 0px 1px 3px 1px rgba(60, 64, 67, 0.15);\n",
              "      fill: #174EA6;\n",
              "    }\n",
              "\n",
              "    [theme=dark] .colab-df-convert {\n",
              "      background-color: #3B4455;\n",
              "      fill: #D2E3FC;\n",
              "    }\n",
              "\n",
              "    [theme=dark] .colab-df-convert:hover {\n",
              "      background-color: #434B5C;\n",
              "      box-shadow: 0px 1px 3px 1px rgba(0, 0, 0, 0.15);\n",
              "      filter: drop-shadow(0px 1px 2px rgba(0, 0, 0, 0.3));\n",
              "      fill: #FFFFFF;\n",
              "    }\n",
              "  </style>\n",
              "\n",
              "      <script>\n",
              "        const buttonEl =\n",
              "          document.querySelector('#df-76ddf104-c7f8-474a-b03a-c3dcee695ea3 button.colab-df-convert');\n",
              "        buttonEl.style.display =\n",
              "          google.colab.kernel.accessAllowed ? 'block' : 'none';\n",
              "\n",
              "        async function convertToInteractive(key) {\n",
              "          const element = document.querySelector('#df-76ddf104-c7f8-474a-b03a-c3dcee695ea3');\n",
              "          const dataTable =\n",
              "            await google.colab.kernel.invokeFunction('convertToInteractive',\n",
              "                                                     [key], {});\n",
              "          if (!dataTable) return;\n",
              "\n",
              "          const docLinkHtml = 'Like what you see? Visit the ' +\n",
              "            '<a target=\"_blank\" href=https://colab.research.google.com/notebooks/data_table.ipynb>data table notebook</a>'\n",
              "            + ' to learn more about interactive tables.';\n",
              "          element.innerHTML = '';\n",
              "          dataTable['output_type'] = 'display_data';\n",
              "          await google.colab.output.renderOutput(dataTable, element);\n",
              "          const docLink = document.createElement('div');\n",
              "          docLink.innerHTML = docLinkHtml;\n",
              "          element.appendChild(docLink);\n",
              "        }\n",
              "      </script>\n",
              "    </div>\n",
              "  </div>\n",
              "  "
            ]
          },
          "metadata": {},
          "execution_count": 7
        }
      ],
      "source": [
        "# Выведем на экран столбцы 'hypothesis', 'ICE', 'RICE'\n",
        "df.loc[: , ['hypothesis', 'ICE', 'RICE']].sort_values(by='RICE', ascending=False).round(2)"
      ]
    },
    {
      "cell_type": "markdown",
      "metadata": {
        "id": "ojK0FNR5rYUS"
      },
      "source": [
        "Параметр охвата (Reach), использующийся в методе RICE изменил всю приоритетность, полученную по методу ICE, только 6 и 4 гипотезы остались на прежних местах.  \n",
        "\n",
        "В нашем случае наиболее приоритетными гипотезами будут 7, 2, 0."
      ]
    },
    {
      "cell_type": "markdown",
      "metadata": {
        "id": "q7fcdqQxp3nm"
      },
      "source": [
        "## 2. Анализ A/B-теста"
      ]
    },
    {
      "cell_type": "code",
      "execution_count": null,
      "metadata": {
        "colab": {
          "base_uri": "https://localhost:8080/",
          "height": 206
        },
        "id": "eNC7pvL5p7TY",
        "outputId": "86131e43-6241-4d65-ca66-02678cec1909"
      },
      "outputs": [
        {
          "output_type": "execute_result",
          "data": {
            "text/plain": [
              "   transactionId   visitorId       date  revenue group\n",
              "0     3667963787  3312258926 2019-08-15     1650     B\n",
              "1     2804400009  3642806036 2019-08-15      730     B\n",
              "2     2961555356  4069496402 2019-08-15      400     A\n",
              "3     3797467345  1196621759 2019-08-15     9759     B\n",
              "4     2282983706  2322279887 2019-08-15     2308     B"
            ],
            "text/html": [
              "\n",
              "  <div id=\"df-67cb91ea-268d-42b8-a9b5-5c38410c8694\">\n",
              "    <div class=\"colab-df-container\">\n",
              "      <div>\n",
              "<style scoped>\n",
              "    .dataframe tbody tr th:only-of-type {\n",
              "        vertical-align: middle;\n",
              "    }\n",
              "\n",
              "    .dataframe tbody tr th {\n",
              "        vertical-align: top;\n",
              "    }\n",
              "\n",
              "    .dataframe thead th {\n",
              "        text-align: right;\n",
              "    }\n",
              "</style>\n",
              "<table border=\"1\" class=\"dataframe\">\n",
              "  <thead>\n",
              "    <tr style=\"text-align: right;\">\n",
              "      <th></th>\n",
              "      <th>transactionId</th>\n",
              "      <th>visitorId</th>\n",
              "      <th>date</th>\n",
              "      <th>revenue</th>\n",
              "      <th>group</th>\n",
              "    </tr>\n",
              "  </thead>\n",
              "  <tbody>\n",
              "    <tr>\n",
              "      <th>0</th>\n",
              "      <td>3667963787</td>\n",
              "      <td>3312258926</td>\n",
              "      <td>2019-08-15</td>\n",
              "      <td>1650</td>\n",
              "      <td>B</td>\n",
              "    </tr>\n",
              "    <tr>\n",
              "      <th>1</th>\n",
              "      <td>2804400009</td>\n",
              "      <td>3642806036</td>\n",
              "      <td>2019-08-15</td>\n",
              "      <td>730</td>\n",
              "      <td>B</td>\n",
              "    </tr>\n",
              "    <tr>\n",
              "      <th>2</th>\n",
              "      <td>2961555356</td>\n",
              "      <td>4069496402</td>\n",
              "      <td>2019-08-15</td>\n",
              "      <td>400</td>\n",
              "      <td>A</td>\n",
              "    </tr>\n",
              "    <tr>\n",
              "      <th>3</th>\n",
              "      <td>3797467345</td>\n",
              "      <td>1196621759</td>\n",
              "      <td>2019-08-15</td>\n",
              "      <td>9759</td>\n",
              "      <td>B</td>\n",
              "    </tr>\n",
              "    <tr>\n",
              "      <th>4</th>\n",
              "      <td>2282983706</td>\n",
              "      <td>2322279887</td>\n",
              "      <td>2019-08-15</td>\n",
              "      <td>2308</td>\n",
              "      <td>B</td>\n",
              "    </tr>\n",
              "  </tbody>\n",
              "</table>\n",
              "</div>\n",
              "      <button class=\"colab-df-convert\" onclick=\"convertToInteractive('df-67cb91ea-268d-42b8-a9b5-5c38410c8694')\"\n",
              "              title=\"Convert this dataframe to an interactive table.\"\n",
              "              style=\"display:none;\">\n",
              "        \n",
              "  <svg xmlns=\"http://www.w3.org/2000/svg\" height=\"24px\"viewBox=\"0 0 24 24\"\n",
              "       width=\"24px\">\n",
              "    <path d=\"M0 0h24v24H0V0z\" fill=\"none\"/>\n",
              "    <path d=\"M18.56 5.44l.94 2.06.94-2.06 2.06-.94-2.06-.94-.94-2.06-.94 2.06-2.06.94zm-11 1L8.5 8.5l.94-2.06 2.06-.94-2.06-.94L8.5 2.5l-.94 2.06-2.06.94zm10 10l.94 2.06.94-2.06 2.06-.94-2.06-.94-.94-2.06-.94 2.06-2.06.94z\"/><path d=\"M17.41 7.96l-1.37-1.37c-.4-.4-.92-.59-1.43-.59-.52 0-1.04.2-1.43.59L10.3 9.45l-7.72 7.72c-.78.78-.78 2.05 0 2.83L4 21.41c.39.39.9.59 1.41.59.51 0 1.02-.2 1.41-.59l7.78-7.78 2.81-2.81c.8-.78.8-2.07 0-2.86zM5.41 20L4 18.59l7.72-7.72 1.47 1.35L5.41 20z\"/>\n",
              "  </svg>\n",
              "      </button>\n",
              "      \n",
              "  <style>\n",
              "    .colab-df-container {\n",
              "      display:flex;\n",
              "      flex-wrap:wrap;\n",
              "      gap: 12px;\n",
              "    }\n",
              "\n",
              "    .colab-df-convert {\n",
              "      background-color: #E8F0FE;\n",
              "      border: none;\n",
              "      border-radius: 50%;\n",
              "      cursor: pointer;\n",
              "      display: none;\n",
              "      fill: #1967D2;\n",
              "      height: 32px;\n",
              "      padding: 0 0 0 0;\n",
              "      width: 32px;\n",
              "    }\n",
              "\n",
              "    .colab-df-convert:hover {\n",
              "      background-color: #E2EBFA;\n",
              "      box-shadow: 0px 1px 2px rgba(60, 64, 67, 0.3), 0px 1px 3px 1px rgba(60, 64, 67, 0.15);\n",
              "      fill: #174EA6;\n",
              "    }\n",
              "\n",
              "    [theme=dark] .colab-df-convert {\n",
              "      background-color: #3B4455;\n",
              "      fill: #D2E3FC;\n",
              "    }\n",
              "\n",
              "    [theme=dark] .colab-df-convert:hover {\n",
              "      background-color: #434B5C;\n",
              "      box-shadow: 0px 1px 3px 1px rgba(0, 0, 0, 0.15);\n",
              "      filter: drop-shadow(0px 1px 2px rgba(0, 0, 0, 0.3));\n",
              "      fill: #FFFFFF;\n",
              "    }\n",
              "  </style>\n",
              "\n",
              "      <script>\n",
              "        const buttonEl =\n",
              "          document.querySelector('#df-67cb91ea-268d-42b8-a9b5-5c38410c8694 button.colab-df-convert');\n",
              "        buttonEl.style.display =\n",
              "          google.colab.kernel.accessAllowed ? 'block' : 'none';\n",
              "\n",
              "        async function convertToInteractive(key) {\n",
              "          const element = document.querySelector('#df-67cb91ea-268d-42b8-a9b5-5c38410c8694');\n",
              "          const dataTable =\n",
              "            await google.colab.kernel.invokeFunction('convertToInteractive',\n",
              "                                                     [key], {});\n",
              "          if (!dataTable) return;\n",
              "\n",
              "          const docLinkHtml = 'Like what you see? Visit the ' +\n",
              "            '<a target=\"_blank\" href=https://colab.research.google.com/notebooks/data_table.ipynb>data table notebook</a>'\n",
              "            + ' to learn more about interactive tables.';\n",
              "          element.innerHTML = '';\n",
              "          dataTable['output_type'] = 'display_data';\n",
              "          await google.colab.output.renderOutput(dataTable, element);\n",
              "          const docLink = document.createElement('div');\n",
              "          docLink.innerHTML = docLinkHtml;\n",
              "          element.appendChild(docLink);\n",
              "        }\n",
              "      </script>\n",
              "    </div>\n",
              "  </div>\n",
              "  "
            ]
          },
          "metadata": {},
          "execution_count": 8
        }
      ],
      "source": [
        "# Загрузим датафрейм orders и приведем данные в столбце 'date' к формату datetime\n",
        "orders = pd.read_csv()\n",
        "orders['date'] = orders['date'].map(lambda x: dt.datetime.strptime(x, '%Y-%m-%d'))\n",
        "orders.head()"
      ]
    },
    {
      "cell_type": "code",
      "execution_count": null,
      "metadata": {
        "colab": {
          "base_uri": "https://localhost:8080/",
          "height": 206
        },
        "id": "U6MG663dzfJO",
        "outputId": "7510ef9c-945a-4fc2-99ea-d37f9b9ce8d3"
      },
      "outputs": [
        {
          "output_type": "execute_result",
          "data": {
            "text/plain": [
              "        date group  visitors\n",
              "0 2019-08-01     A       719\n",
              "1 2019-08-02     A       619\n",
              "2 2019-08-03     A       507\n",
              "3 2019-08-04     A       717\n",
              "4 2019-08-05     A       756"
            ],
            "text/html": [
              "\n",
              "  <div id=\"df-d73587c4-2042-4f42-9eaf-dde54bd41879\">\n",
              "    <div class=\"colab-df-container\">\n",
              "      <div>\n",
              "<style scoped>\n",
              "    .dataframe tbody tr th:only-of-type {\n",
              "        vertical-align: middle;\n",
              "    }\n",
              "\n",
              "    .dataframe tbody tr th {\n",
              "        vertical-align: top;\n",
              "    }\n",
              "\n",
              "    .dataframe thead th {\n",
              "        text-align: right;\n",
              "    }\n",
              "</style>\n",
              "<table border=\"1\" class=\"dataframe\">\n",
              "  <thead>\n",
              "    <tr style=\"text-align: right;\">\n",
              "      <th></th>\n",
              "      <th>date</th>\n",
              "      <th>group</th>\n",
              "      <th>visitors</th>\n",
              "    </tr>\n",
              "  </thead>\n",
              "  <tbody>\n",
              "    <tr>\n",
              "      <th>0</th>\n",
              "      <td>2019-08-01</td>\n",
              "      <td>A</td>\n",
              "      <td>719</td>\n",
              "    </tr>\n",
              "    <tr>\n",
              "      <th>1</th>\n",
              "      <td>2019-08-02</td>\n",
              "      <td>A</td>\n",
              "      <td>619</td>\n",
              "    </tr>\n",
              "    <tr>\n",
              "      <th>2</th>\n",
              "      <td>2019-08-03</td>\n",
              "      <td>A</td>\n",
              "      <td>507</td>\n",
              "    </tr>\n",
              "    <tr>\n",
              "      <th>3</th>\n",
              "      <td>2019-08-04</td>\n",
              "      <td>A</td>\n",
              "      <td>717</td>\n",
              "    </tr>\n",
              "    <tr>\n",
              "      <th>4</th>\n",
              "      <td>2019-08-05</td>\n",
              "      <td>A</td>\n",
              "      <td>756</td>\n",
              "    </tr>\n",
              "  </tbody>\n",
              "</table>\n",
              "</div>\n",
              "      <button class=\"colab-df-convert\" onclick=\"convertToInteractive('df-d73587c4-2042-4f42-9eaf-dde54bd41879')\"\n",
              "              title=\"Convert this dataframe to an interactive table.\"\n",
              "              style=\"display:none;\">\n",
              "        \n",
              "  <svg xmlns=\"http://www.w3.org/2000/svg\" height=\"24px\"viewBox=\"0 0 24 24\"\n",
              "       width=\"24px\">\n",
              "    <path d=\"M0 0h24v24H0V0z\" fill=\"none\"/>\n",
              "    <path d=\"M18.56 5.44l.94 2.06.94-2.06 2.06-.94-2.06-.94-.94-2.06-.94 2.06-2.06.94zm-11 1L8.5 8.5l.94-2.06 2.06-.94-2.06-.94L8.5 2.5l-.94 2.06-2.06.94zm10 10l.94 2.06.94-2.06 2.06-.94-2.06-.94-.94-2.06-.94 2.06-2.06.94z\"/><path d=\"M17.41 7.96l-1.37-1.37c-.4-.4-.92-.59-1.43-.59-.52 0-1.04.2-1.43.59L10.3 9.45l-7.72 7.72c-.78.78-.78 2.05 0 2.83L4 21.41c.39.39.9.59 1.41.59.51 0 1.02-.2 1.41-.59l7.78-7.78 2.81-2.81c.8-.78.8-2.07 0-2.86zM5.41 20L4 18.59l7.72-7.72 1.47 1.35L5.41 20z\"/>\n",
              "  </svg>\n",
              "      </button>\n",
              "      \n",
              "  <style>\n",
              "    .colab-df-container {\n",
              "      display:flex;\n",
              "      flex-wrap:wrap;\n",
              "      gap: 12px;\n",
              "    }\n",
              "\n",
              "    .colab-df-convert {\n",
              "      background-color: #E8F0FE;\n",
              "      border: none;\n",
              "      border-radius: 50%;\n",
              "      cursor: pointer;\n",
              "      display: none;\n",
              "      fill: #1967D2;\n",
              "      height: 32px;\n",
              "      padding: 0 0 0 0;\n",
              "      width: 32px;\n",
              "    }\n",
              "\n",
              "    .colab-df-convert:hover {\n",
              "      background-color: #E2EBFA;\n",
              "      box-shadow: 0px 1px 2px rgba(60, 64, 67, 0.3), 0px 1px 3px 1px rgba(60, 64, 67, 0.15);\n",
              "      fill: #174EA6;\n",
              "    }\n",
              "\n",
              "    [theme=dark] .colab-df-convert {\n",
              "      background-color: #3B4455;\n",
              "      fill: #D2E3FC;\n",
              "    }\n",
              "\n",
              "    [theme=dark] .colab-df-convert:hover {\n",
              "      background-color: #434B5C;\n",
              "      box-shadow: 0px 1px 3px 1px rgba(0, 0, 0, 0.15);\n",
              "      filter: drop-shadow(0px 1px 2px rgba(0, 0, 0, 0.3));\n",
              "      fill: #FFFFFF;\n",
              "    }\n",
              "  </style>\n",
              "\n",
              "      <script>\n",
              "        const buttonEl =\n",
              "          document.querySelector('#df-d73587c4-2042-4f42-9eaf-dde54bd41879 button.colab-df-convert');\n",
              "        buttonEl.style.display =\n",
              "          google.colab.kernel.accessAllowed ? 'block' : 'none';\n",
              "\n",
              "        async function convertToInteractive(key) {\n",
              "          const element = document.querySelector('#df-d73587c4-2042-4f42-9eaf-dde54bd41879');\n",
              "          const dataTable =\n",
              "            await google.colab.kernel.invokeFunction('convertToInteractive',\n",
              "                                                     [key], {});\n",
              "          if (!dataTable) return;\n",
              "\n",
              "          const docLinkHtml = 'Like what you see? Visit the ' +\n",
              "            '<a target=\"_blank\" href=https://colab.research.google.com/notebooks/data_table.ipynb>data table notebook</a>'\n",
              "            + ' to learn more about interactive tables.';\n",
              "          element.innerHTML = '';\n",
              "          dataTable['output_type'] = 'display_data';\n",
              "          await google.colab.output.renderOutput(dataTable, element);\n",
              "          const docLink = document.createElement('div');\n",
              "          docLink.innerHTML = docLinkHtml;\n",
              "          element.appendChild(docLink);\n",
              "        }\n",
              "      </script>\n",
              "    </div>\n",
              "  </div>\n",
              "  "
            ]
          },
          "metadata": {},
          "execution_count": 9
        }
      ],
      "source": [
        "# Загрузим датафрейм visitors и приведем данные в столбце 'date' к формату datetime\n",
        "visitors = pd.read_csv()\n",
        "visitors['date'] = visitors['date'].map(lambda x: dt.datetime.strptime(x, '%Y-%m-%d'))\n",
        "visitors.head()"
      ]
    },
    {
      "cell_type": "code",
      "execution_count": null,
      "metadata": {
        "colab": {
          "base_uri": "https://localhost:8080/"
        },
        "id": "MpLXa_H5zfRC",
        "outputId": "7bb85546-8431-415c-ca56-9567946ebe4d"
      },
      "outputs": [
        {
          "output_type": "stream",
          "name": "stdout",
          "text": [
            "<class 'pandas.core.frame.DataFrame'>\n",
            "Int64Index: 557 entries, 2 to 1195\n",
            "Data columns (total 5 columns):\n",
            " #   Column         Non-Null Count  Dtype         \n",
            "---  ------         --------------  -----         \n",
            " 0   transactionId  557 non-null    int64         \n",
            " 1   visitorId      557 non-null    int64         \n",
            " 2   date           557 non-null    datetime64[ns]\n",
            " 3   revenue        557 non-null    int64         \n",
            " 4   group          557 non-null    object        \n",
            "dtypes: datetime64[ns](1), int64(3), object(1)\n",
            "memory usage: 26.1+ KB\n",
            "None\n",
            "<class 'pandas.core.frame.DataFrame'>\n",
            "Int64Index: 640 entries, 0 to 1196\n",
            "Data columns (total 5 columns):\n",
            " #   Column         Non-Null Count  Dtype         \n",
            "---  ------         --------------  -----         \n",
            " 0   transactionId  640 non-null    int64         \n",
            " 1   visitorId      640 non-null    int64         \n",
            " 2   date           640 non-null    datetime64[ns]\n",
            " 3   revenue        640 non-null    int64         \n",
            " 4   group          640 non-null    object        \n",
            "dtypes: datetime64[ns](1), int64(3), object(1)\n",
            "memory usage: 30.0+ KB\n",
            "None\n"
          ]
        }
      ],
      "source": [
        "# датафрейм orders разделим на группы и выведем информацию о группах на экран\n",
        "orders_group_a = orders[orders['group'] == 'A']\n",
        "orders_group_b = orders[orders['group'] == 'B']\n",
        "print(orders_group_a.info())\n",
        "print(orders_group_b.info())"
      ]
    },
    {
      "cell_type": "markdown",
      "metadata": {
        "id": "Zvy9e0x0UNsw"
      },
      "source": [
        "В группе \"А\" 557 строк, пропусков данных нет.  В группе \"В\" 640 строк, пропусков данных нет. Проверим присутствие одних и тех же пользователей в обоих группах."
      ]
    },
    {
      "cell_type": "code",
      "execution_count": null,
      "metadata": {
        "id": "vKZKjwGp2gtM"
      },
      "outputs": [],
      "source": [
        "# В список group_a сохраним уникальные значения столбца visitorId\n",
        "group_a = orders_group_a['visitorId'].unique()\n",
        "orders_share = orders_group_b.query('visitorId in @group_a')  # сделаем срез  датафрейма orders_group_b по значениям столбца visitorId из списка group_a"
      ]
    },
    {
      "cell_type": "markdown",
      "metadata": {
        "id": "lBwyT5sTs5OX"
      },
      "source": [
        "57 пользователей попали в обе группы одновременно, удалим этих пользователей."
      ]
    },
    {
      "cell_type": "code",
      "execution_count": null,
      "metadata": {
        "id": "7ZrqIWWoR6GY"
      },
      "outputs": [],
      "source": [
        "#  в список orders_share_list сохраним уникальные значения из столбца visitorId датасета orders_share\n",
        "orders_share_list = orders_share['visitorId'].unique()\n",
        "# в датасете orders оставим только те данные, visitorId которых не входят в список orders_share_list\n",
        "orders= orders.query(('visitorId not in @orders_share_list'))"
      ]
    },
    {
      "cell_type": "markdown",
      "metadata": {
        "id": "FMayj0hxpxMz"
      },
      "source": [
        "В датасете orders осталось 1016 строк, все пользователи поделены на группы и в каждой группе уникальные пользователи. \n",
        "Датасет visitors тоже проверим."
      ]
    },
    {
      "cell_type": "code",
      "execution_count": null,
      "metadata": {
        "colab": {
          "base_uri": "https://localhost:8080/"
        },
        "id": "r_t5bESrqhhH",
        "outputId": "5be4eaed-d51c-43ab-8b1b-86522de762d6"
      },
      "outputs": [
        {
          "output_type": "stream",
          "name": "stdout",
          "text": [
            "<class 'pandas.core.frame.DataFrame'>\n",
            "Int64Index: 31 entries, 0 to 30\n",
            "Data columns (total 3 columns):\n",
            " #   Column    Non-Null Count  Dtype         \n",
            "---  ------    --------------  -----         \n",
            " 0   date      31 non-null     datetime64[ns]\n",
            " 1   group     31 non-null     object        \n",
            " 2   visitors  31 non-null     int64         \n",
            "dtypes: datetime64[ns](1), int64(1), object(1)\n",
            "memory usage: 992.0+ bytes\n",
            "None\n",
            "<class 'pandas.core.frame.DataFrame'>\n",
            "Int64Index: 31 entries, 31 to 61\n",
            "Data columns (total 3 columns):\n",
            " #   Column    Non-Null Count  Dtype         \n",
            "---  ------    --------------  -----         \n",
            " 0   date      31 non-null     datetime64[ns]\n",
            " 1   group     31 non-null     object        \n",
            " 2   visitors  31 non-null     int64         \n",
            "dtypes: datetime64[ns](1), int64(1), object(1)\n",
            "memory usage: 992.0+ bytes\n",
            "None\n"
          ]
        }
      ],
      "source": [
        "# датафрейм visitors разделим на группы и выведем информацию о группах на экран\n",
        "visitors_group_a = visitors[visitors['group'] == 'A']\n",
        "visitors_group_b = visitors[visitors['group'] == 'B']\n",
        "print(visitors_group_a.info())\n",
        "print(visitors_group_b.info())"
      ]
    },
    {
      "cell_type": "markdown",
      "metadata": {
        "id": "J6n0z-OzfLDh"
      },
      "source": [
        "В группах \"А\" и \"В\" датафрейма visitors одиноковое количество строк. Проверим пользователей в группах. "
      ]
    },
    {
      "cell_type": "code",
      "execution_count": null,
      "metadata": {
        "colab": {
          "base_uri": "https://localhost:8080/",
          "height": 143
        },
        "id": "3Bz-Z2JPq9WJ",
        "outputId": "494d88dc-05c3-4476-d71f-73c6e9527ccd"
      },
      "outputs": [
        {
          "output_type": "execute_result",
          "data": {
            "text/plain": [
              "         date group  visitors\n",
              "39 2019-08-09     B       610\n",
              "60 2019-08-30     B       490\n",
              "61 2019-08-31     B       718"
            ],
            "text/html": [
              "\n",
              "  <div id=\"df-86b9dd68-0879-4644-a794-2ec63f71bede\">\n",
              "    <div class=\"colab-df-container\">\n",
              "      <div>\n",
              "<style scoped>\n",
              "    .dataframe tbody tr th:only-of-type {\n",
              "        vertical-align: middle;\n",
              "    }\n",
              "\n",
              "    .dataframe tbody tr th {\n",
              "        vertical-align: top;\n",
              "    }\n",
              "\n",
              "    .dataframe thead th {\n",
              "        text-align: right;\n",
              "    }\n",
              "</style>\n",
              "<table border=\"1\" class=\"dataframe\">\n",
              "  <thead>\n",
              "    <tr style=\"text-align: right;\">\n",
              "      <th></th>\n",
              "      <th>date</th>\n",
              "      <th>group</th>\n",
              "      <th>visitors</th>\n",
              "    </tr>\n",
              "  </thead>\n",
              "  <tbody>\n",
              "    <tr>\n",
              "      <th>39</th>\n",
              "      <td>2019-08-09</td>\n",
              "      <td>B</td>\n",
              "      <td>610</td>\n",
              "    </tr>\n",
              "    <tr>\n",
              "      <th>60</th>\n",
              "      <td>2019-08-30</td>\n",
              "      <td>B</td>\n",
              "      <td>490</td>\n",
              "    </tr>\n",
              "    <tr>\n",
              "      <th>61</th>\n",
              "      <td>2019-08-31</td>\n",
              "      <td>B</td>\n",
              "      <td>718</td>\n",
              "    </tr>\n",
              "  </tbody>\n",
              "</table>\n",
              "</div>\n",
              "      <button class=\"colab-df-convert\" onclick=\"convertToInteractive('df-86b9dd68-0879-4644-a794-2ec63f71bede')\"\n",
              "              title=\"Convert this dataframe to an interactive table.\"\n",
              "              style=\"display:none;\">\n",
              "        \n",
              "  <svg xmlns=\"http://www.w3.org/2000/svg\" height=\"24px\"viewBox=\"0 0 24 24\"\n",
              "       width=\"24px\">\n",
              "    <path d=\"M0 0h24v24H0V0z\" fill=\"none\"/>\n",
              "    <path d=\"M18.56 5.44l.94 2.06.94-2.06 2.06-.94-2.06-.94-.94-2.06-.94 2.06-2.06.94zm-11 1L8.5 8.5l.94-2.06 2.06-.94-2.06-.94L8.5 2.5l-.94 2.06-2.06.94zm10 10l.94 2.06.94-2.06 2.06-.94-2.06-.94-.94-2.06-.94 2.06-2.06.94z\"/><path d=\"M17.41 7.96l-1.37-1.37c-.4-.4-.92-.59-1.43-.59-.52 0-1.04.2-1.43.59L10.3 9.45l-7.72 7.72c-.78.78-.78 2.05 0 2.83L4 21.41c.39.39.9.59 1.41.59.51 0 1.02-.2 1.41-.59l7.78-7.78 2.81-2.81c.8-.78.8-2.07 0-2.86zM5.41 20L4 18.59l7.72-7.72 1.47 1.35L5.41 20z\"/>\n",
              "  </svg>\n",
              "      </button>\n",
              "      \n",
              "  <style>\n",
              "    .colab-df-container {\n",
              "      display:flex;\n",
              "      flex-wrap:wrap;\n",
              "      gap: 12px;\n",
              "    }\n",
              "\n",
              "    .colab-df-convert {\n",
              "      background-color: #E8F0FE;\n",
              "      border: none;\n",
              "      border-radius: 50%;\n",
              "      cursor: pointer;\n",
              "      display: none;\n",
              "      fill: #1967D2;\n",
              "      height: 32px;\n",
              "      padding: 0 0 0 0;\n",
              "      width: 32px;\n",
              "    }\n",
              "\n",
              "    .colab-df-convert:hover {\n",
              "      background-color: #E2EBFA;\n",
              "      box-shadow: 0px 1px 2px rgba(60, 64, 67, 0.3), 0px 1px 3px 1px rgba(60, 64, 67, 0.15);\n",
              "      fill: #174EA6;\n",
              "    }\n",
              "\n",
              "    [theme=dark] .colab-df-convert {\n",
              "      background-color: #3B4455;\n",
              "      fill: #D2E3FC;\n",
              "    }\n",
              "\n",
              "    [theme=dark] .colab-df-convert:hover {\n",
              "      background-color: #434B5C;\n",
              "      box-shadow: 0px 1px 3px 1px rgba(0, 0, 0, 0.15);\n",
              "      filter: drop-shadow(0px 1px 2px rgba(0, 0, 0, 0.3));\n",
              "      fill: #FFFFFF;\n",
              "    }\n",
              "  </style>\n",
              "\n",
              "      <script>\n",
              "        const buttonEl =\n",
              "          document.querySelector('#df-86b9dd68-0879-4644-a794-2ec63f71bede button.colab-df-convert');\n",
              "        buttonEl.style.display =\n",
              "          google.colab.kernel.accessAllowed ? 'block' : 'none';\n",
              "\n",
              "        async function convertToInteractive(key) {\n",
              "          const element = document.querySelector('#df-86b9dd68-0879-4644-a794-2ec63f71bede');\n",
              "          const dataTable =\n",
              "            await google.colab.kernel.invokeFunction('convertToInteractive',\n",
              "                                                     [key], {});\n",
              "          if (!dataTable) return;\n",
              "\n",
              "          const docLinkHtml = 'Like what you see? Visit the ' +\n",
              "            '<a target=\"_blank\" href=https://colab.research.google.com/notebooks/data_table.ipynb>data table notebook</a>'\n",
              "            + ' to learn more about interactive tables.';\n",
              "          element.innerHTML = '';\n",
              "          dataTable['output_type'] = 'display_data';\n",
              "          await google.colab.output.renderOutput(dataTable, element);\n",
              "          const docLink = document.createElement('div');\n",
              "          docLink.innerHTML = docLinkHtml;\n",
              "          element.appendChild(docLink);\n",
              "        }\n",
              "      </script>\n",
              "    </div>\n",
              "  </div>\n",
              "  "
            ]
          },
          "metadata": {},
          "execution_count": 14
        }
      ],
      "source": [
        "# В список visitors_a сохраним уникальные значения столбца visitors датасета visitors_group_a\n",
        "visitors_a = visitors_group_a['visitors'].unique()\n",
        "visitors_share = visitors_group_b.query('visitors in @visitors_a') # сделаем срез датасета visitors_group_b по значениям столбца visitors входящим в список visitors_a\n",
        "visitors_share # выведем на экран полученный датасет"
      ]
    },
    {
      "cell_type": "markdown",
      "metadata": {
        "id": "q8X6FuMWqzR0"
      },
      "source": [
        "В датасете visitors 3 пользователя попали в обе группы. "
      ]
    },
    {
      "cell_type": "code",
      "execution_count": null,
      "metadata": {
        "id": "uFG-cdfare1p"
      },
      "outputs": [],
      "source": [
        "#  в список visitors_share_list сохраним уникальные значения из столбца visitorId датасета orders_share\n",
        "visitors_share_list = visitors_share['visitors'].unique()\n",
        "# в датасете visitors оставим только те данные, visitorId которых не входят в список visitors_share_list\n",
        "visitors= visitors.query(('visitors not in @visitors_share_list'))"
      ]
    },
    {
      "cell_type": "markdown",
      "metadata": {
        "id": "OA7eEKZOv8V0"
      },
      "source": [
        "### 2.1 Построим график кумулятивной выручки по группам."
      ]
    },
    {
      "cell_type": "code",
      "execution_count": null,
      "metadata": {
        "colab": {
          "base_uri": "https://localhost:8080/",
          "height": 333
        },
        "id": "LG5YoArnvHh_",
        "outputId": "56989ef5-c938-4e47-a37e-63066c0fae5e",
        "scrolled": true
      },
      "outputs": [
        {
          "output_type": "display_data",
          "data": {
            "text/plain": [
              "<Figure size 432x288 with 1 Axes>"
            ],
            "image/png": "[encoded data removed]"
          },
          "metadata": {
            "needs_background": "light"
          }
        }
      ],
      "source": [
        "# создаем массив уникальных пар значений дат и групп теста\n",
        "datesGroups = orders[['date', 'group']].drop_duplicates()\n",
        "# Вычислим максимальную дату, найдём число уникальных ID заказов и пользователей, подсчитаем сумму средних чеков в датасете orders\n",
        "ordersAggregated = datesGroups.apply(\n",
        "    lambda x: orders[\n",
        "        np.logical_and(\n",
        "            orders['date'] <= x['date'], orders['group'] == x['group'])].agg({'date': 'max', 'group': 'max', 'transactionId': 'nunique', 'visitorId': 'nunique', 'revenue': 'sum',}), axis=1,).sort_values(by=['date', 'group'])\n",
        "# Вычислим максимальную дату, найдём число ID пользователей в датасете visitors\n",
        "visitorsAggregated = datesGroups.apply(\n",
        "    lambda x: visitors[\n",
        "        np.logical_and(\n",
        "            visitors['date'] <= x['date'], visitors['group'] == x['group']\n",
        "        )\n",
        "    ].agg({'date': 'max', 'group': 'max', 'visitors': 'sum'}),\n",
        "    axis=1,\n",
        ").sort_values(by=['date', 'group'])\n",
        "\n",
        "# объединяем кумулятивные данные в одной таблице и изменяем названия столбцов\n",
        "cumulativeData = ordersAggregated.merge(\n",
        "    visitorsAggregated, left_on=['date', 'group'], right_on=['date', 'group']\n",
        ")\n",
        "cumulativeData.columns = [\n",
        "    'date',\n",
        "    'group',\n",
        "    'orders',\n",
        "    'buyers',\n",
        "    'revenue',\n",
        "    'visitors',\n",
        "]\n",
        "# датасет с кумулятивным количеством заказов и кумулятивной выручкой по дням в группе А\n",
        "cumulativeRevenueA = cumulativeData[cumulativeData['group']=='A'][['date','revenue', 'orders']]\n",
        "\n",
        "# датасет с кумулятивным количеством заказов и кумулятивной выручкой по дням в группе B\n",
        "cumulativeRevenueB = cumulativeData[cumulativeData['group']=='B'][['date','revenue', 'orders']]\n",
        "\n",
        "# Строим график выручки группы А\n",
        "plt.plot(cumulativeRevenueA['date'], cumulativeRevenueA['revenue'], label='A')\n",
        "\n",
        "# Строим график выручки группы B\n",
        "plt.plot(cumulativeRevenueB['date'], cumulativeRevenueB['revenue'], label='B')\n",
        "\n",
        "plt.legend() \n",
        "plt.xticks(rotation=45)\n",
        "plt.grid()\n",
        "plt.title(\"График кумулятивной выручки по группам\")\n",
        "plt.xlabel(\"Дата\")\n",
        "plt.ylabel(\"Сумма заказов\");\n"
      ]
    },
    {
      "cell_type": "markdown",
      "metadata": {
        "id": "qb6MF4LWwHFR"
      },
      "source": [
        "Выручка в группах увеличивается. В группе \"В\" резкое увеличение после 17 августа. Скорее всего один из покупателей совершил крупную покупку."
      ]
    },
    {
      "cell_type": "markdown",
      "metadata": {
        "id": "Zwn1Gwk319VN"
      },
      "source": [
        "### 2.2 Построим график кумулятивного среднего чека по группам."
      ]
    },
    {
      "cell_type": "code",
      "execution_count": null,
      "metadata": {
        "colab": {
          "base_uri": "https://localhost:8080/",
          "height": 333
        },
        "id": "gwhS5ue71ohF",
        "outputId": "b9a9e12e-be25-4edf-c865-3b813b726681"
      },
      "outputs": [
        {
          "output_type": "display_data",
          "data": {
            "text/plain": [
              "<Figure size 432x288 with 1 Axes>"
            ],
            "image/png": "[encoded data removed]"
          },
          "metadata": {
            "needs_background": "light"
          }
        }
      ],
      "source": [
        "# Строим график кумулятивного среднего чека группы А\n",
        "plt.plot(cumulativeRevenueA['date'], cumulativeRevenueA['revenue']/cumulativeRevenueA['orders'], label='A')\n",
        "# Строим график кумулятивного среднего чека группы B\n",
        "plt.plot(cumulativeRevenueB['date'], cumulativeRevenueB['revenue']/cumulativeRevenueB['orders'], label='B')\n",
        "plt.legend() \n",
        "plt.xticks(rotation=45)\n",
        "plt.grid()\n",
        "plt.title(\"График кумулятивного среднего чека по группам\")\n",
        "plt.xlabel(\"Дата\")\n",
        "plt.ylabel(\"Средний чек\");"
      ]
    },
    {
      "cell_type": "markdown",
      "metadata": {
        "id": "YpZNHUWSwn1M"
      },
      "source": [
        "В графике кумулятивного среднего группы \"В\" также наблюдается резкое увеличение, сумма чека выросла значительно, а количество покупателей практически не увеличилось. После резкого увеличения кумулятивное среднего чека в группе \"В\" падает. В группе \"А\" кумулятивное среднего чека растет."
      ]
    },
    {
      "cell_type": "markdown",
      "metadata": {
        "id": "3S1rKdWU2NU1"
      },
      "source": [
        "### 2.3 Построим график относительного изменения кумулятивного среднего чека группы B к группе A."
      ]
    },
    {
      "cell_type": "code",
      "execution_count": null,
      "metadata": {
        "colab": {
          "base_uri": "https://localhost:8080/",
          "height": 333
        },
        "id": "5ht_KYqV2R-m",
        "outputId": "240cb4ea-c980-45eb-b150-aa2f45a810b6",
        "scrolled": true
      },
      "outputs": [
        {
          "output_type": "display_data",
          "data": {
            "text/plain": [
              "<Figure size 432x288 with 1 Axes>"
            ],
            "image/png": "[encoded data removed]"
          },
          "metadata": {
            "needs_background": "light"
          }
        }
      ],
      "source": [
        "# собираем данные в одном датасете и удаляем пропущенные значения\n",
        "mergedCumulativeRevenue = cumulativeRevenueA.merge(cumulativeRevenueB, left_on='date', right_on='date', how='left', suffixes=['A', 'B']).dropna()\n",
        "\n",
        "# cтроим отношение средних чеков\n",
        "plt.plot(mergedCumulativeRevenue['date'], (mergedCumulativeRevenue['revenueB']/mergedCumulativeRevenue['ordersB'])/(mergedCumulativeRevenue['revenueA']/mergedCumulativeRevenue['ordersA'])-1)\n",
        "\n",
        "# добавляем ось X\n",
        "plt.axhline(y=0, color='black', linestyle='--') \n",
        "plt.xticks(rotation=45)\n",
        "plt.grid()\n",
        "plt.title(\"График относительного изменения кумулятивного среднего чека группы B к группе A\")\n",
        "plt.xlabel(\"Дата\")\n",
        "plt.ylabel(\"Изменение среднего чека\");"
      ]
    },
    {
      "cell_type": "markdown",
      "metadata": {
        "id": "n2SFtDGX9QNJ"
      },
      "source": [
        "В нескольких точках график различия резко меняется. Подтверждается наличие крупного заказа.\n"
      ]
    },
    {
      "cell_type": "markdown",
      "metadata": {
        "id": "rlPb5u6T2YWL"
      },
      "source": [
        "### 2.4 Построим график кумулятивной конверсии по группам."
      ]
    },
    {
      "cell_type": "code",
      "execution_count": null,
      "metadata": {
        "colab": {
          "base_uri": "https://localhost:8080/",
          "height": 333
        },
        "id": "IRZU_rdK2do9",
        "outputId": "a8ce7dc2-e744-4ed7-8fb9-5960f239cc9e"
      },
      "outputs": [
        {
          "output_type": "display_data",
          "data": {
            "text/plain": [
              "<Figure size 432x288 with 1 Axes>"
            ],
            "image/png": "[encoded data removed]"
          },
          "metadata": {
            "needs_background": "light"
          }
        }
      ],
      "source": [
        "# считаем кумулятивную конверсию\n",
        "cumulativeData['conversion'] = cumulativeData['orders']/cumulativeData['visitors']\n",
        "\n",
        "# отделяем данные по группе A\n",
        "cumulativeDataA = cumulativeData[cumulativeData['group']=='A']\n",
        "\n",
        "# отделяем данные по группе B\n",
        "cumulativeDataB = cumulativeData[cumulativeData['group']=='B']\n",
        "\n",
        "# строим графики\n",
        "plt.plot(cumulativeDataA['date'], cumulativeDataA['conversion'], label='A')\n",
        "plt.plot(cumulativeDataB['date'], cumulativeDataB['conversion'], label='B')\n",
        "plt.legend() \n",
        "plt.xticks(rotation=45)\n",
        "plt.grid()\n",
        "plt.title(\"График кумулятивной конверсии по группам\")\n",
        "plt.xlabel(\"Дата\")\n",
        "plt.ylabel(\"Конверсия\");\n",
        "\n"
      ]
    },
    {
      "cell_type": "markdown",
      "metadata": {
        "id": "gQjj1dRL9r44"
      },
      "source": [
        "График группы \"В\" после 5 августа вырывается вверх, но постепенно снижается. График группы \"А\" снижается на всем своем протяжении."
      ]
    },
    {
      "cell_type": "markdown",
      "metadata": {
        "id": "PXN5zfzx2jr7"
      },
      "source": [
        "### 2.5 Построим график относительного изменения кумулятивной конверсии группы B к группе A."
      ]
    },
    {
      "cell_type": "code",
      "execution_count": null,
      "metadata": {
        "colab": {
          "base_uri": "https://localhost:8080/",
          "height": 333
        },
        "id": "fcs92Nfu2pw8",
        "outputId": "9787fb15-170c-409e-82fb-d8adc069002a"
      },
      "outputs": [
        {
          "output_type": "display_data",
          "data": {
            "text/plain": [
              "<Figure size 432x288 with 1 Axes>"
            ],
            "image/png": "[encoded data removed]"
          },
          "metadata": {
            "needs_background": "light"
          }
        }
      ],
      "source": [
        "# собираем данные в одном датафрейме\n",
        "mergedCumulativeConversions = cumulativeDataA[['date','conversion']].merge(cumulativeDataB[['date','conversion']], left_on='date', right_on='date', how='left', suffixes=['A', 'B']).dropna()\n",
        "# строим график относительного изменения конверсии\n",
        "plt.plot(mergedCumulativeConversions['date'], mergedCumulativeConversions['conversionB']/mergedCumulativeConversions['conversionA']-1, label=\"Относительный прирост конверсии группы B относительно группы A\")\n",
        "plt.xticks(rotation=45)\n",
        "plt.grid()\n",
        "plt.title(\"Относительный прирост конверсии группы B относительно группы A\")\n",
        "plt.xlabel(\"Дата\")\n",
        "plt.ylabel(\"Относительный прирост конверсии\");"
      ]
    },
    {
      "cell_type": "markdown",
      "metadata": {
        "id": "aBOhiuzt-viS"
      },
      "source": [
        "В начале теста группа B значительно проигрывала группе A, затем вырвалась вперёд и там и осталась."
      ]
    },
    {
      "cell_type": "markdown",
      "metadata": {
        "id": "S2qKhbUV2zKo"
      },
      "source": [
        "### 2.6 Построим точечный график количества заказов по пользователям."
      ]
    },
    {
      "cell_type": "code",
      "execution_count": null,
      "metadata": {
        "colab": {
          "base_uri": "https://localhost:8080/",
          "height": 295
        },
        "id": "cx_WTBUH24JM",
        "outputId": "b97bee04-17df-486d-9470-3c23e3489d47"
      },
      "outputs": [
        {
          "output_type": "display_data",
          "data": {
            "text/plain": [
              "<Figure size 432x288 with 1 Axes>"
            ],
            "image/png": "[encoded data removed]"
          },
          "metadata": {
            "needs_background": "light"
          }
        }
      ],
      "source": [
        "# Подсчитаем количество заказов по пользователям и построим точечный график\n",
        "ordersByUsers = (\n",
        "    orders.groupby('visitorId', as_index=False)\n",
        "    .agg({'transactionId': pd.Series.nunique})\n",
        ")\n",
        "ordersByUsers.columns = ['userId', 'orders']\n",
        "\n",
        "# серия из чисел от 0 до количества наблюдений в ordersByUsers\n",
        "x_values = pd.Series(range(0, len(ordersByUsers)))\n",
        "\n",
        "plt.scatter(x_values, ordersByUsers['orders'])\n",
        "plt.title(\"Точечный график количества заказов по пользователям\")\n",
        "plt.xlabel(\"Пользователи\")\n",
        "plt.ylabel(\"Кол-во заказов\");"
      ]
    },
    {
      "cell_type": "markdown",
      "metadata": {
        "id": "HdBWj1-x_fP6"
      },
      "source": [
        "В основном пользватели делают 1 заказ, меньшее кол-во поьзователей делает 2 заказа, но их все же много. Есть пользователи, которые делают 3 заказа."
      ]
    },
    {
      "cell_type": "markdown",
      "metadata": {
        "id": "W-xMtLmN35JJ"
      },
      "source": [
        "### 2.7 Посчитаем 95-й и 99-й перцентили количества заказов на пользователя. Выберем границу для определения аномальных пользователей."
      ]
    },
    {
      "cell_type": "code",
      "execution_count": null,
      "metadata": {
        "colab": {
          "base_uri": "https://localhost:8080/"
        },
        "id": "Swymvxte39bu",
        "outputId": "a4684137-701f-424a-af36-3ed404efe01e"
      },
      "outputs": [
        {
          "output_type": "stream",
          "name": "stdout",
          "text": [
            "[1. 1. 2.]\n"
          ]
        }
      ],
      "source": [
        "# Методом np.percentile() найдем перцентили.\n",
        "print(np.percentile(ordersByUsers['orders'], [90, 95, 99])) "
      ]
    },
    {
      "cell_type": "markdown",
      "metadata": {
        "id": "eRIQZ78vBKx5"
      },
      "source": [
        "99-му персентилю соотвествует значение 2, то есть больше 2 заказов сделали меньше 1% пользователей, 95-му персентилю соотвестует число 1, то есть больше 1 заказов совершили меньше 5% пользователей, 90-му персентилю также соотвестует число 1."
      ]
    },
    {
      "cell_type": "markdown",
      "metadata": {
        "id": "mX_8dLQw4Mpe"
      },
      "source": [
        "### 2.8 Построим точечный график стоимостей заказов."
      ]
    },
    {
      "cell_type": "code",
      "execution_count": null,
      "metadata": {
        "colab": {
          "base_uri": "https://localhost:8080/",
          "height": 295
        },
        "id": "yIiz3LeR4Qt9",
        "outputId": "4d8a5061-dc55-4670-dd31-ec879ab73d87"
      },
      "outputs": [
        {
          "output_type": "display_data",
          "data": {
            "text/plain": [
              "<Figure size 432x288 with 1 Axes>"
            ],
            "image/png": "[encoded data removed]"
          },
          "metadata": {
            "needs_background": "light"
          }
        }
      ],
      "source": [
        "# серия из чисел от 0 до количества наблюдений в orders\n",
        "x_values = pd.Series(range(0, len(orders['revenue'])))\n",
        "\n",
        "plt.scatter(x_values, orders['revenue'])\n",
        "plt.title(\"Точечный график стоимости заказов по пользователям\")\n",
        "plt.xlabel(\"Пользователи\")\n",
        "plt.ylabel(\"Стоимость заказов\");"
      ]
    },
    {
      "cell_type": "markdown",
      "metadata": {
        "id": "1GU8XbYQBxb0"
      },
      "source": [
        "На графиках кумулятивного среднего чека по группам и относительного изменения кумулятивного среднего чека группы B к группе A 17 августа резкое увеличение значений, на точечном графике стоимостей заказов отчетливо виден выброс, искажающий график."
      ]
    },
    {
      "cell_type": "markdown",
      "metadata": {
        "id": "Im_NTBqt4aj0"
      },
      "source": [
        "### 2.9 Посчитаем 95-й и 99-й перцентили стоимости заказов. Выберем границу для определения аномальных заказов."
      ]
    },
    {
      "cell_type": "code",
      "execution_count": null,
      "metadata": {
        "colab": {
          "base_uri": "https://localhost:8080/"
        },
        "id": "C1WkcrWR4eOj",
        "outputId": "d8534287-db29-49bc-a9d3-8250d609226d"
      },
      "outputs": [
        {
          "output_type": "stream",
          "name": "stdout",
          "text": [
            "[17990. 26785. 53904.]\n"
          ]
        }
      ],
      "source": [
        "# Методом np.percentile() найдем перцентили.\n",
        "print(np.percentile(orders['revenue'], [90, 95, 99])) "
      ]
    },
    {
      "cell_type": "markdown",
      "metadata": {
        "id": "olKaviXCCM0m"
      },
      "source": [
        "99-му персентилю соотвествует значение 53904, то есть стоимость заказа больше 53904 у 1% пользователей, 95-му персентилю соотвестует число 26785, то есть сумма заказа больше 26785 у 5% пользователей, 90-му персентилю соотвестует число 17900."
      ]
    },
    {
      "cell_type": "markdown",
      "metadata": {
        "id": "iW0F9FokChe0"
      },
      "source": [
        "Аномалиями будем считать более одного заказа и заказы стоимостью более 27 тыс. "
      ]
    },
    {
      "cell_type": "markdown",
      "metadata": {
        "id": "vqhsbLg-4jkT"
      },
      "source": [
        "### 2.10 Посчитаем статистическую значимость различий в конверсии между группами по «сырым» данным."
      ]
    },
    {
      "cell_type": "markdown",
      "metadata": {
        "id": "NSR7pvP0De0R"
      },
      "source": [
        "Для расчета р-value, я решил использовать непараметрический тест Уилкоксона-Манна-Уитни, так как у нас имеются выбросы, а сам тест работает с рангами, не учитывая сами значения. Так же сформирую нулевую и альтернативную гипотезы.  \n",
        " Нулевая гипотеза H0: по «сырым» данным различий в конверсии групп A и B нет.  \n",
        " Альтернативная гипотеза Н1: по «сырым» данным конверсии групп A и B различаются.  \n",
        "  Порогом статистической значимости установим alpha=.05"
      ]
    },
    {
      "cell_type": "code",
      "execution_count": null,
      "metadata": {
        "colab": {
          "base_uri": "https://localhost:8080/"
        },
        "id": "gshN7olD8GYo",
        "outputId": "cec3cde2-9fe7-4f00-f75c-61875f7b40d7"
      },
      "outputs": [
        {
          "output_type": "stream",
          "name": "stdout",
          "text": [
            "\n",
            "Относительный прирост конверсии группы B по отношению к группе A: 0.159\n",
            "P-value: 0.00571\n",
            "Отвергаем нулевую гипотезу. Конверсии групп различны\n"
          ]
        }
      ],
      "source": [
        "\n",
        "\n",
        "visitorsADaily = visitors[visitors['group'] == 'A'][['date', 'visitors']]\n",
        "visitorsADaily.columns = ['date', 'visitorsPerDateA']\n",
        "\n",
        "visitorsACummulative = visitorsADaily.apply(lambda x: visitorsADaily[visitorsADaily['date'] <= x['date']].agg(\n",
        "        {'date': 'max', 'visitorsPerDateA': 'sum'}), axis=1,)\n",
        "\n",
        "visitorsACummulative.columns = ['date', 'visitorsCummulativeA']\n",
        "\n",
        "visitorsBDaily = visitors[visitors['group'] == 'B'][['date', 'visitors']]\n",
        "visitorsBDaily.columns = ['date', 'visitorsPerDateB']\n",
        "\n",
        "visitorsBCummulative = visitorsBDaily.apply(lambda x: visitorsBDaily[visitorsBDaily['date'] <= x['date']].agg(\n",
        "        {'date': 'max', 'visitorsPerDateB': 'sum'}), axis=1,)\n",
        "\n",
        "visitorsBCummulative.columns = ['date', 'visitorsCummulativeB']\n",
        "\n",
        "ordersADaily = (orders[orders['group'] == 'A'][['date', 'transactionId', 'visitorId', 'revenue']]\n",
        "    .groupby('date', as_index=False).agg({'transactionId': pd.Series.nunique, 'revenue': 'sum'}))\n",
        "\n",
        "ordersADaily.columns = ['date', 'ordersPerDateA', 'revenuePerDateA']\n",
        "\n",
        "ordersACummulative = ordersADaily.apply(lambda x: ordersADaily[ordersADaily['date'] <= x['date']].agg(\n",
        "        {'date': 'max', 'ordersPerDateA': 'sum', 'revenuePerDateA': 'sum'}), axis=1,).sort_values(by=['date'])\n",
        "\n",
        "ordersACummulative.columns = [\n",
        "    'date',\n",
        "    'ordersCummulativeA',\n",
        "    'revenueCummulativeA',]\n",
        "\n",
        "ordersBDaily = (\n",
        "    orders[orders['group'] == 'B'][['date', 'transactionId', 'visitorId', 'revenue']]\n",
        "    .groupby('date', as_index=False)\n",
        "    .agg({'transactionId': pd.Series.nunique, 'revenue': 'sum'})\n",
        ")\n",
        "ordersBDaily.columns = ['date', 'ordersPerDateB', 'revenuePerDateB']\n",
        "\n",
        "ordersBCummulative = ordersBDaily.apply(lambda x: ordersBDaily[ordersBDaily['date'] <= x['date']].agg(\n",
        "        {'date': 'max', 'ordersPerDateB': 'sum', 'revenuePerDateB': 'sum'}), axis=1,).sort_values(by=['date'])\n",
        "\n",
        "ordersBCummulative.columns = [\n",
        "    'date',\n",
        "    'ordersCummulativeB',\n",
        "    'revenueCummulativeB',\n",
        "]\n",
        "\n",
        "data = (ordersADaily.merge( ordersBDaily, left_on='date', right_on='date', how='left'\n",
        "    )\n",
        "    .merge(ordersACummulative, left_on='date', right_on='date', how='left')\n",
        "    .merge(ordersBCummulative, left_on='date', right_on='date', how='left')\n",
        "    .merge(visitorsADaily, left_on='date', right_on='date', how='left')\n",
        "    .merge(visitorsBDaily, left_on='date', right_on='date', how='left')\n",
        "    .merge(visitorsACummulative, left_on='date', right_on='date', how='left')\n",
        "    .merge(visitorsBCummulative, left_on='date', right_on='date', how='left')\n",
        ")\n",
        "\n",
        "\n",
        "ordersByUsersA = (\n",
        "    orders[orders['group'] == 'A']\n",
        "    .groupby('visitorId', as_index=False)\n",
        "    .agg({'transactionId': pd.Series.nunique})\n",
        ")\n",
        "ordersByUsersA.columns = ['userId', 'orders']\n",
        "\n",
        "ordersByUsersB = (\n",
        "    orders[orders['group'] == 'B']\n",
        "    .groupby('visitorId', as_index=False)\n",
        "    .agg({'transactionId': pd.Series.nunique})\n",
        ")\n",
        "ordersByUsersB.columns = ['userId', 'orders']\n",
        "\n",
        "sampleA = pd.concat([ordersByUsersA['orders'], pd.Series(0, index=np.arange(data['visitorsPerDateA'].sum() - len(ordersByUsersA['orders'])), name='orders',),],axis=0,)\n",
        "\n",
        "sampleB = pd.concat([ordersByUsersB['orders'], pd.Series(0, index=np.arange(data['visitorsPerDateB'].sum() - len(ordersByUsersB['orders'])), name='orders',),],axis=0,)\n",
        "\n",
        "print('\\nОтносительный прирост конверсии группы B по отношению к группе A: {:.3f}'.format(sampleB.mean()/sampleA.mean()-1))\n",
        "alpha = 0.05\n",
        "results = stats.mannwhitneyu(sampleA, sampleB)\n",
        "print('P-value: {0:.5f}'.format(results.pvalue))\n",
        "if results.pvalue < alpha:\n",
        "    print('Отвергаем нулевую гипотезу. Конверсии групп различны')\n",
        "else:\n",
        "    print('Не получилось отвергнуть нулевую гипотезу.')\n"
      ]
    },
    {
      "cell_type": "markdown",
      "metadata": {
        "id": "0ENlykYuEaMp"
      },
      "source": [
        "### 2.11 Посчитаем статистическую значимость различий в среднем чеке заказа между группами по «сырым» данным."
      ]
    },
    {
      "cell_type": "markdown",
      "metadata": {
        "id": "KqUMEAlVPb5D"
      },
      "source": [
        "Нулевая гипотеза H0: по «сырым» данным различий в среднем чеке групп A и B нет.  \n",
        " Альтернативная гипотеза Н1: по «сырым» данным средние чеки групп A и B различаются."
      ]
    },
    {
      "cell_type": "code",
      "execution_count": null,
      "metadata": {
        "colab": {
          "base_uri": "https://localhost:8080/"
        },
        "id": "qebo2nBZ4nsW",
        "outputId": "fa0397f8-cca7-4dfd-cdea-23b5da34417d"
      },
      "outputs": [
        {
          "output_type": "stream",
          "name": "stdout",
          "text": [
            "Относительное изменение среднего чека в группе B по отношению группы A: 0.287\n",
            "P-value: 0.415\n",
            "Не получилось отвергнуть нулевую гипотезу.\n"
          ]
        }
      ],
      "source": [
        "print('Относительное изменение среднего чека в группе B по отношению группы A: {:.3f}'.format(orders[orders['group']=='B']['revenue'].mean()/orders[orders['group']=='A']['revenue'].mean()-1))\n",
        "results = stats.mannwhitneyu(orders[orders['group']=='A']['revenue'], orders[orders['group']=='B']['revenue'])\n",
        "print('P-value: {0:.3f}'.format(results.pvalue))\n",
        "if results.pvalue < alpha:\n",
        "    print('Отвергаем нулевую гипотезу. Средние чеки групп по \"сырым\" данным различны')\n",
        "else:\n",
        "    print('Не получилось отвергнуть нулевую гипотезу.')"
      ]
    },
    {
      "cell_type": "markdown",
      "metadata": {
        "id": "ijd9KsNoL1fY"
      },
      "source": [
        "2.12 Посчитаем статистическую значимость различий в конверсии между группами по «очищенным» данным."
      ]
    },
    {
      "cell_type": "markdown",
      "metadata": {
        "id": "JwYG4cdxOhwM"
      },
      "source": [
        "По очищеным данным также используем тест Уилкоксона-Манна-Уитни.  \n",
        "И сформулируем гипотезы.  \n",
        " Нулевая гипотеза H0: по «очищеным» данным различий в конверсии групп A и B нет.  \n",
        " Альтернативная гипотеза Н1: по «очищеным» данным конверсии групп A и B различаются.  \n",
        "  Порогом статистической значимости установим alpha=.05"
      ]
    },
    {
      "cell_type": "code",
      "execution_count": null,
      "metadata": {
        "colab": {
          "base_uri": "https://localhost:8080/"
        },
        "id": "hogbdtTZMILm",
        "outputId": "dbcf5994-6d9a-414f-fc9c-72f3ae254e3f"
      },
      "outputs": [
        {
          "output_type": "stream",
          "name": "stdout",
          "text": [
            "\n",
            "Относительный прирост конверсии группы B по отношению к группе A после очистки данных: 0.173\n",
            "P-value: 0.00822\n",
            "Отвергаем нулевую гипотезу. Конверсии групп по \"очищеным\" данным различны\n"
          ]
        }
      ],
      "source": [
        "# отфильтруем пользователей с количестовом заказов больше 1\n",
        "usersWithManyOrders = pd.concat([ordersByUsersA[ordersByUsersA['orders'] > 1]['userId'],\n",
        "        ordersByUsersB[ordersByUsersB['orders'] > 1]['userId'],],axis=0,)\n",
        "\n",
        "usersWithExpensiveOrders = orders[orders['revenue'] > 27000]['visitorId']\n",
        "\n",
        "abnormalUsers = (pd.concat([usersWithManyOrders, usersWithExpensiveOrders], axis=0).drop_duplicates().sort_values())\n",
        "\n",
        "# отфильтруем заказы свеше 27 тыс\n",
        "sampleAFiltered = pd.concat([ordersByUsersA[np.logical_not(ordersByUsersA['userId'].isin(abnormalUsers))]['orders'],\n",
        "        pd.Series( 0, index=np.arange(data['visitorsPerDateA'].sum() - len(ordersByUsersA['orders'])), name='orders',),], axis=0,)\n",
        "\n",
        "sampleBFiltered = pd.concat([ordersByUsersB[np.logical_not(ordersByUsersB['userId'].isin(abnormalUsers))]['orders'],\n",
        "        pd.Series(0, index=np.arange(data['visitorsPerDateB'].sum() - len(ordersByUsersB['orders'])), name='orders',),], axis=0,)\n",
        "\n",
        "\n",
        "print('\\nОтносительный прирост конверсии группы B по отношению к группе A после очистки данных: {:.3f}'.format(sampleBFiltered.mean()/sampleAFiltered.mean()-1))\n",
        "results = stats.mannwhitneyu(sampleAFiltered, sampleBFiltered)\n",
        "print('P-value: {0:.5f}'.format(results.pvalue))\n",
        "if results.pvalue < alpha:\n",
        "    print('Отвергаем нулевую гипотезу. Конверсии групп по \"очищеным\" данным различны')\n",
        "else:\n",
        "    print('Не получилось отвергнуть нулевую гипотезу.')"
      ]
    },
    {
      "cell_type": "markdown",
      "metadata": {
        "id": "sgo893SeO3gw"
      },
      "source": [
        "### 2.13 Посчитаем статистическую значимость различий в среднем чеке заказа между группами по «очищенным» данным."
      ]
    },
    {
      "cell_type": "markdown",
      "metadata": {
        "id": "W858_lpJPsCj"
      },
      "source": [
        "Нулевая гипотеза H0: по «очищеным» данным различий в среднем чеке групп A и B нет.  \n",
        " Альтернативная гипотеза Н1: по «очищеным» данным средние чеки групп A и B различаются."
      ]
    },
    {
      "cell_type": "code",
      "execution_count": null,
      "metadata": {
        "colab": {
          "base_uri": "https://localhost:8080/"
        },
        "id": "uiXd330DO-Ht",
        "outputId": "c1644748-70e2-495a-df57-74795d16c1dd"
      },
      "outputs": [
        {
          "output_type": "stream",
          "name": "stdout",
          "text": [
            "Относительное изменение среднего чека в группе B по отношению группы A после очистки данных: -0.034\n",
            "P-value: 0.364\n",
            "Не получилось отвергнуть нулевую гипотезу.\n"
          ]
        }
      ],
      "source": [
        "print('Относительное изменение среднего чека в группе B по отношению группы A после очистки данных: {:.3f}'.format(orders[\n",
        "            np.logical_and(orders['group'] == 'B',np.logical_not(orders['visitorId'].isin(abnormalUsers)),)]['revenue'].mean()/ orders[np.logical_and(orders['group'] == 'A',\n",
        "            np.logical_not(orders['visitorId'].isin(abnormalUsers)),)]['revenue'].mean()- 1))\n",
        "results =stats.mannwhitneyu(orders[np.logical_and(orders['group'] == 'A',np.logical_not(orders['visitorId'].isin(abnormalUsers)),)]['revenue'], orders[np.logical_and(orders['group'] == 'B',np.logical_not(orders['visitorId'].isin(abnormalUsers)),)]['revenue'],)\n",
        "\n",
        "print('P-value: {0:.3f}'.format(results.pvalue))\n",
        "if results.pvalue < alpha:\n",
        "    print('Отвергаем нулевую гипотезу.  Средние чеки в группах по \"очищеным\" данным различны')\n",
        "else:\n",
        "    print('Не получилось отвергнуть нулевую гипотезу.')"
      ]
    },
    {
      "cell_type": "markdown",
      "metadata": {
        "id": "7kI7cSEhRKn4"
      },
      "source": [
        "### 2.14 Решение по результатам теста."
      ]
    },
    {
      "cell_type": "markdown",
      "metadata": {
        "id": "HIVlIbOZUA23"
      },
      "source": [
        "На основе полученных данных при проведении А/В-теста можно сделать вывод:  \n",
        "Конверсии по группам различаются и по \"сырым\" и по \"очищеным\" данным.  \n",
        "Средние чеки по группам одинаковы и по \"сырым\" и по \"очищеным\" данным.  \n",
        "График различия конверсии между группами сообщает, что результаты группы B лучше группы A.  \n",
        "График различия среднего чека говорит о том, что результаты группы B хоть и лучше результатов группы А, но они ухудшаются.  \n",
        " Исходя из имеющихся данных тест можно остановить и зафиксировать победу группы В."
      ]
    },
    {
      "cell_type": "markdown",
      "metadata": {
        "id": "oAv0KM55RNuk"
      },
      "source": [
        "## 3 Общий вывод"
      ]
    },
    {
      "cell_type": "markdown",
      "metadata": {
        "id": "_7W8fp4l_5vq"
      },
      "source": [
        "Отделу маркетинга можно обратить внимание на гипотезы:  \n",
        "    Добавить форму подписки на все основные страницы, чтобы собрать базу клиентов для email-рассылок  \n",
        "    Добавить блоки рекомендаций товаров на сайт интернет магазина, чтобы повысить конверсию и средний чек заказа  \n",
        "    Добавить два новых канала привлечения трафика, что позволит привлекать на 30% больше пользователей.\n",
        "    \n",
        "    \n",
        "Взять за основу своих дальнейших действий стратегию примененую к группе В."
      ]
    },
    {
      "cell_type": "code",
      "execution_count": null,
      "metadata": {
        "id": "4LyigiWr_5vs"
      },
      "outputs": [],
      "source": [
        ""
      ]
    }
  ],
  "metadata": {
    "ExecuteTimeLog": [
      {
        "duration": 1707,
        "start_time": "2022-03-22T11:29:56.349Z"
      },
      {
        "duration": 58,
        "start_time": "2022-03-22T11:29:58.058Z"
      },
      {
        "duration": 5,
        "start_time": "2022-03-22T11:29:58.118Z"
      },
      {
        "duration": 20,
        "start_time": "2022-03-22T11:29:58.126Z"
      },
      {
        "duration": 11,
        "start_time": "2022-03-22T11:29:58.148Z"
      },
      {
        "duration": 22,
        "start_time": "2022-03-22T11:29:58.162Z"
      },
      {
        "duration": 65,
        "start_time": "2022-03-22T11:29:58.187Z"
      },
      {
        "duration": 39,
        "start_time": "2022-03-22T11:29:58.254Z"
      },
      {
        "duration": 31,
        "start_time": "2022-03-22T11:29:58.295Z"
      },
      {
        "duration": 13,
        "start_time": "2022-03-22T11:29:58.330Z"
      },
      {
        "duration": 10,
        "start_time": "2022-03-22T11:29:58.346Z"
      },
      {
        "duration": 34,
        "start_time": "2022-03-22T11:29:58.367Z"
      },
      {
        "duration": 16,
        "start_time": "2022-03-22T11:29:58.403Z"
      },
      {
        "duration": 8,
        "start_time": "2022-03-22T11:29:58.422Z"
      },
      {
        "duration": 1061,
        "start_time": "2022-03-22T11:29:58.469Z"
      },
      {
        "duration": 334,
        "start_time": "2022-03-22T11:29:59.533Z"
      },
      {
        "duration": 369,
        "start_time": "2022-03-22T11:29:59.870Z"
      },
      {
        "duration": 344,
        "start_time": "2022-03-22T11:30:00.242Z"
      },
      {
        "duration": 312,
        "start_time": "2022-03-22T11:30:00.589Z"
      },
      {
        "duration": 547,
        "start_time": "2022-03-22T11:30:00.903Z"
      },
      {
        "duration": 5,
        "start_time": "2022-03-22T11:30:01.452Z"
      },
      {
        "duration": 239,
        "start_time": "2022-03-22T11:30:01.469Z"
      },
      {
        "duration": 6,
        "start_time": "2022-03-22T11:30:01.710Z"
      },
      {
        "duration": 650,
        "start_time": "2022-03-22T11:30:01.719Z"
      },
      {
        "duration": 17,
        "start_time": "2022-03-22T11:30:02.372Z"
      },
      {
        "duration": 60,
        "start_time": "2022-03-22T11:30:02.391Z"
      },
      {
        "duration": 34,
        "start_time": "2022-03-22T11:30:02.454Z"
      },
      {
        "duration": 1379,
        "start_time": "2022-03-22T11:30:45.232Z"
      },
      {
        "duration": 86,
        "start_time": "2022-03-22T11:30:46.614Z"
      },
      {
        "duration": 4,
        "start_time": "2022-03-22T11:30:46.703Z"
      },
      {
        "duration": 20,
        "start_time": "2022-03-22T11:30:46.710Z"
      },
      {
        "duration": 12,
        "start_time": "2022-03-22T11:30:46.732Z"
      },
      {
        "duration": 18,
        "start_time": "2022-03-22T11:30:46.774Z"
      },
      {
        "duration": 57,
        "start_time": "2022-03-22T11:30:46.796Z"
      },
      {
        "duration": 30,
        "start_time": "2022-03-22T11:30:46.855Z"
      },
      {
        "duration": 35,
        "start_time": "2022-03-22T11:30:46.888Z"
      },
      {
        "duration": 8,
        "start_time": "2022-03-22T11:30:46.928Z"
      },
      {
        "duration": 35,
        "start_time": "2022-03-22T11:30:46.938Z"
      },
      {
        "duration": 43,
        "start_time": "2022-03-22T11:30:46.975Z"
      },
      {
        "duration": 18,
        "start_time": "2022-03-22T11:30:47.021Z"
      },
      {
        "duration": 34,
        "start_time": "2022-03-22T11:30:47.042Z"
      },
      {
        "duration": 178,
        "start_time": "2022-03-22T11:30:47.080Z"
      },
      {
        "duration": 0,
        "start_time": "2022-03-22T11:30:47.268Z"
      },
      {
        "duration": 0,
        "start_time": "2022-03-22T11:30:47.270Z"
      },
      {
        "duration": 0,
        "start_time": "2022-03-22T11:30:47.273Z"
      },
      {
        "duration": 0,
        "start_time": "2022-03-22T11:30:47.275Z"
      },
      {
        "duration": 0,
        "start_time": "2022-03-22T11:30:47.277Z"
      },
      {
        "duration": 0,
        "start_time": "2022-03-22T11:30:47.280Z"
      },
      {
        "duration": 0,
        "start_time": "2022-03-22T11:30:47.281Z"
      },
      {
        "duration": 0,
        "start_time": "2022-03-22T11:30:47.285Z"
      },
      {
        "duration": 0,
        "start_time": "2022-03-22T11:30:47.287Z"
      },
      {
        "duration": 0,
        "start_time": "2022-03-22T11:30:47.289Z"
      },
      {
        "duration": 0,
        "start_time": "2022-03-22T11:30:47.291Z"
      },
      {
        "duration": 0,
        "start_time": "2022-03-22T11:30:47.293Z"
      },
      {
        "duration": 1343,
        "start_time": "2022-03-22T11:31:25.813Z"
      },
      {
        "duration": 86,
        "start_time": "2022-03-22T11:31:27.159Z"
      },
      {
        "duration": 5,
        "start_time": "2022-03-22T11:31:27.247Z"
      },
      {
        "duration": 16,
        "start_time": "2022-03-22T11:31:27.267Z"
      },
      {
        "duration": 13,
        "start_time": "2022-03-22T11:31:27.285Z"
      },
      {
        "duration": 13,
        "start_time": "2022-03-22T11:31:27.301Z"
      },
      {
        "duration": 68,
        "start_time": "2022-03-22T11:31:27.317Z"
      },
      {
        "duration": 23,
        "start_time": "2022-03-22T11:31:27.388Z"
      },
      {
        "duration": 54,
        "start_time": "2022-03-22T11:31:27.414Z"
      },
      {
        "duration": 9,
        "start_time": "2022-03-22T11:31:27.472Z"
      },
      {
        "duration": 11,
        "start_time": "2022-03-22T11:31:27.483Z"
      },
      {
        "duration": 35,
        "start_time": "2022-03-22T11:31:27.496Z"
      },
      {
        "duration": 44,
        "start_time": "2022-03-22T11:31:27.533Z"
      },
      {
        "duration": 8,
        "start_time": "2022-03-22T11:31:27.580Z"
      },
      {
        "duration": 894,
        "start_time": "2022-03-22T11:31:27.590Z"
      },
      {
        "duration": 312,
        "start_time": "2022-03-22T11:31:28.486Z"
      },
      {
        "duration": 396,
        "start_time": "2022-03-22T11:31:28.801Z"
      },
      {
        "duration": 309,
        "start_time": "2022-03-22T11:31:29.200Z"
      },
      {
        "duration": 326,
        "start_time": "2022-03-22T11:31:29.511Z"
      },
      {
        "duration": 523,
        "start_time": "2022-03-22T11:31:29.839Z"
      },
      {
        "duration": 7,
        "start_time": "2022-03-22T11:31:30.364Z"
      },
      {
        "duration": 253,
        "start_time": "2022-03-22T11:31:30.373Z"
      },
      {
        "duration": 6,
        "start_time": "2022-03-22T11:31:30.629Z"
      },
      {
        "duration": 681,
        "start_time": "2022-03-22T11:31:30.637Z"
      },
      {
        "duration": 17,
        "start_time": "2022-03-22T11:31:31.320Z"
      },
      {
        "duration": 65,
        "start_time": "2022-03-22T11:31:31.339Z"
      },
      {
        "duration": 21,
        "start_time": "2022-03-22T11:31:31.407Z"
      },
      {
        "duration": 1372,
        "start_time": "2022-03-22T11:46:33.658Z"
      },
      {
        "duration": 87,
        "start_time": "2022-03-22T11:46:35.033Z"
      },
      {
        "duration": 5,
        "start_time": "2022-03-22T11:46:35.123Z"
      },
      {
        "duration": 37,
        "start_time": "2022-03-22T11:46:35.131Z"
      },
      {
        "duration": 14,
        "start_time": "2022-03-22T11:46:35.176Z"
      },
      {
        "duration": 13,
        "start_time": "2022-03-22T11:46:35.192Z"
      },
      {
        "duration": 49,
        "start_time": "2022-03-22T11:46:35.208Z"
      },
      {
        "duration": 32,
        "start_time": "2022-03-22T11:46:35.259Z"
      },
      {
        "duration": 31,
        "start_time": "2022-03-22T11:46:35.293Z"
      },
      {
        "duration": 8,
        "start_time": "2022-03-22T11:46:35.328Z"
      },
      {
        "duration": 40,
        "start_time": "2022-03-22T11:46:35.338Z"
      },
      {
        "duration": 31,
        "start_time": "2022-03-22T11:46:35.381Z"
      },
      {
        "duration": 19,
        "start_time": "2022-03-22T11:46:35.414Z"
      },
      {
        "duration": 40,
        "start_time": "2022-03-22T11:46:35.435Z"
      },
      {
        "duration": 904,
        "start_time": "2022-03-22T11:46:35.480Z"
      },
      {
        "duration": 297,
        "start_time": "2022-03-22T11:46:36.389Z"
      },
      {
        "duration": 348,
        "start_time": "2022-03-22T11:46:36.689Z"
      },
      {
        "duration": 307,
        "start_time": "2022-03-22T11:46:37.039Z"
      },
      {
        "duration": 292,
        "start_time": "2022-03-22T11:46:37.349Z"
      },
      {
        "duration": 487,
        "start_time": "2022-03-22T11:46:37.644Z"
      },
      {
        "duration": 6,
        "start_time": "2022-03-22T11:46:38.133Z"
      },
      {
        "duration": 245,
        "start_time": "2022-03-22T11:46:38.143Z"
      },
      {
        "duration": 5,
        "start_time": "2022-03-22T11:46:38.391Z"
      },
      {
        "duration": 657,
        "start_time": "2022-03-22T11:46:38.399Z"
      },
      {
        "duration": 29,
        "start_time": "2022-03-22T11:46:39.058Z"
      },
      {
        "duration": 42,
        "start_time": "2022-03-22T11:46:39.089Z"
      },
      {
        "duration": 45,
        "start_time": "2022-03-22T11:46:39.133Z"
      },
      {
        "duration": 1234,
        "start_time": "2022-03-23T09:26:03.829Z"
      },
      {
        "duration": 85,
        "start_time": "2022-03-23T09:26:07.961Z"
      },
      {
        "duration": 9,
        "start_time": "2022-03-23T09:26:11.270Z"
      },
      {
        "duration": 3,
        "start_time": "2022-03-23T09:26:21.573Z"
      },
      {
        "duration": 11,
        "start_time": "2022-03-23T09:26:24.770Z"
      },
      {
        "duration": 9,
        "start_time": "2022-03-23T09:29:28.287Z"
      },
      {
        "duration": 8,
        "start_time": "2022-03-23T09:29:39.872Z"
      },
      {
        "duration": 12,
        "start_time": "2022-03-23T09:30:12.998Z"
      },
      {
        "duration": 11,
        "start_time": "2022-03-23T09:30:24.744Z"
      },
      {
        "duration": 43,
        "start_time": "2022-03-23T09:30:35.850Z"
      },
      {
        "duration": 17,
        "start_time": "2022-03-23T09:30:37.598Z"
      },
      {
        "duration": 20,
        "start_time": "2022-03-23T09:30:39.685Z"
      },
      {
        "duration": 6,
        "start_time": "2022-03-23T09:30:44.347Z"
      },
      {
        "duration": 6,
        "start_time": "2022-03-23T09:30:47.023Z"
      },
      {
        "duration": 18,
        "start_time": "2022-03-23T09:30:50.891Z"
      },
      {
        "duration": 9,
        "start_time": "2022-03-23T09:31:00.801Z"
      },
      {
        "duration": 12,
        "start_time": "2022-03-23T09:31:40.806Z"
      },
      {
        "duration": 593,
        "start_time": "2022-03-23T09:38:59.767Z"
      },
      {
        "duration": 417,
        "start_time": "2022-03-23T09:39:27.045Z"
      },
      {
        "duration": 443,
        "start_time": "2022-03-23T09:42:15.412Z"
      },
      {
        "duration": 200,
        "start_time": "2022-03-23T09:42:52.922Z"
      },
      {
        "duration": 431,
        "start_time": "2022-03-23T09:43:02.660Z"
      },
      {
        "duration": 116,
        "start_time": "2022-03-23T09:43:40.894Z"
      },
      {
        "duration": 181,
        "start_time": "2022-03-23T09:44:30.410Z"
      },
      {
        "duration": 115,
        "start_time": "2022-03-23T09:44:42.079Z"
      },
      {
        "duration": 178,
        "start_time": "2022-03-23T09:44:49.076Z"
      },
      {
        "duration": 179,
        "start_time": "2022-03-23T09:45:52.606Z"
      },
      {
        "duration": 190,
        "start_time": "2022-03-23T09:45:59.233Z"
      },
      {
        "duration": 300,
        "start_time": "2022-03-23T09:51:06.811Z"
      },
      {
        "duration": 188,
        "start_time": "2022-03-23T09:52:29.357Z"
      },
      {
        "duration": 118,
        "start_time": "2022-03-23T09:54:22.838Z"
      },
      {
        "duration": 11,
        "start_time": "2022-03-23T09:54:27.498Z"
      },
      {
        "duration": 323,
        "start_time": "2022-03-23T09:54:37.240Z"
      },
      {
        "duration": 298,
        "start_time": "2022-03-23T09:54:40.799Z"
      },
      {
        "duration": 12,
        "start_time": "2022-03-23T09:56:19.912Z"
      },
      {
        "duration": 185,
        "start_time": "2022-03-23T09:56:23.582Z"
      },
      {
        "duration": 196,
        "start_time": "2022-03-23T09:56:27.185Z"
      },
      {
        "duration": 168,
        "start_time": "2022-03-23T11:11:10.746Z"
      },
      {
        "duration": 173,
        "start_time": "2022-03-23T11:11:17.557Z"
      },
      {
        "duration": 174,
        "start_time": "2022-03-23T11:11:21.532Z"
      },
      {
        "duration": 151,
        "start_time": "2022-03-23T11:11:27.950Z"
      },
      {
        "duration": 196,
        "start_time": "2022-03-23T11:12:11.866Z"
      },
      {
        "duration": 276,
        "start_time": "2022-03-23T11:12:26.123Z"
      },
      {
        "duration": 293,
        "start_time": "2022-03-23T11:12:54.668Z"
      },
      {
        "duration": 280,
        "start_time": "2022-03-23T11:13:09.667Z"
      },
      {
        "duration": 258,
        "start_time": "2022-03-23T11:13:21.179Z"
      },
      {
        "duration": 1157,
        "start_time": "2022-03-23T11:46:09.012Z"
      },
      {
        "duration": 99,
        "start_time": "2022-03-23T11:46:10.171Z"
      },
      {
        "duration": 8,
        "start_time": "2022-03-23T11:46:10.272Z"
      },
      {
        "duration": 5,
        "start_time": "2022-03-23T11:46:10.283Z"
      },
      {
        "duration": 17,
        "start_time": "2022-03-23T11:46:10.289Z"
      },
      {
        "duration": 39,
        "start_time": "2022-03-23T11:46:10.308Z"
      },
      {
        "duration": 14,
        "start_time": "2022-03-23T11:46:10.348Z"
      },
      {
        "duration": 36,
        "start_time": "2022-03-23T11:46:10.364Z"
      },
      {
        "duration": 16,
        "start_time": "2022-03-23T11:46:10.402Z"
      },
      {
        "duration": 41,
        "start_time": "2022-03-23T11:46:10.420Z"
      },
      {
        "duration": 7,
        "start_time": "2022-03-23T11:46:10.463Z"
      },
      {
        "duration": 12,
        "start_time": "2022-03-23T11:46:10.472Z"
      },
      {
        "duration": 29,
        "start_time": "2022-03-23T11:46:10.486Z"
      },
      {
        "duration": 36,
        "start_time": "2022-03-23T11:46:10.517Z"
      },
      {
        "duration": 20,
        "start_time": "2022-03-23T11:46:10.556Z"
      },
      {
        "duration": 533,
        "start_time": "2022-03-23T11:46:10.578Z"
      },
      {
        "duration": 210,
        "start_time": "2022-03-23T11:46:11.113Z"
      },
      {
        "duration": 194,
        "start_time": "2022-03-23T11:46:11.326Z"
      },
      {
        "duration": 203,
        "start_time": "2022-03-23T11:46:11.522Z"
      },
      {
        "duration": 318,
        "start_time": "2022-03-23T11:46:11.728Z"
      },
      {
        "duration": 310,
        "start_time": "2022-03-23T11:46:12.048Z"
      },
      {
        "duration": 187,
        "start_time": "2022-03-23T11:46:12.359Z"
      },
      {
        "duration": 215,
        "start_time": "2022-03-23T11:46:12.548Z"
      },
      {
        "duration": 179,
        "start_time": "2022-03-23T11:46:12.765Z"
      },
      {
        "duration": 374,
        "start_time": "2022-03-23T11:46:12.947Z"
      },
      {
        "duration": 275,
        "start_time": "2022-03-23T11:46:13.323Z"
      },
      {
        "duration": 4,
        "start_time": "2022-03-23T11:46:13.600Z"
      },
      {
        "duration": 151,
        "start_time": "2022-03-23T11:46:13.608Z"
      },
      {
        "duration": 4,
        "start_time": "2022-03-23T11:46:13.761Z"
      },
      {
        "duration": 346,
        "start_time": "2022-03-23T11:46:13.767Z"
      },
      {
        "duration": 12,
        "start_time": "2022-03-23T11:46:14.114Z"
      },
      {
        "duration": 30,
        "start_time": "2022-03-23T11:46:14.138Z"
      },
      {
        "duration": 13,
        "start_time": "2022-03-23T11:46:14.170Z"
      },
      {
        "duration": 192,
        "start_time": "2022-03-23T16:14:21.556Z"
      }
    ],
    "colab": {
      "collapsed_sections": [],
      "name": "А/В-тест",
      "provenance": [],
      "toc_visible": true
    },
    "kernelspec": {
      "display_name": "Python 3 (ipykernel)",
      "language": "python",
      "name": "python3"
    },
    "language_info": {
      "codemirror_mode": {
        "name": "ipython",
        "version": 3
      },
      "file_extension": ".py",
      "mimetype": "text/x-python",
      "name": "python",
      "nbconvert_exporter": "python",
      "pygments_lexer": "ipython3",
      "version": "3.9.5"
    },
    "toc": {
      "base_numbering": 1,
      "nav_menu": {},
      "number_sections": false,
      "sideBar": true,
      "skip_h1_title": true,
      "title_cell": "Table of Contents",
      "title_sidebar": "Contents",
      "toc_cell": false,
      "toc_position": {
        "height": "calc(100% - 180px)",
        "left": "10px",
        "top": "150px",
        "width": "165px"
      },
      "toc_section_display": true,
      "toc_window_display": true
    }
  },
  "nbformat": 4,
  "nbformat_minor": 0
}