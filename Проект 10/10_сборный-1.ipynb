{
  "cells": [
    {
      "cell_type": "markdown",
      "metadata": {
        "id": "BK3tIySiVNhM"
      },
      "source": [
        "# Анализ улучшений мобильного приложения по доставке продуктов"
      ]
    },
    {
      "cell_type": "markdown",
      "metadata": {
        "id": "WKhOi4WRlBm_"
      },
      "source": [
        "Имеются данные о продажах интернет-магазина продуктов питания через мобильное приложение, нужно изучить воронку продаж и определить узкие места. Изучить результаты А/А/В-тестирования измененного шрифта в приложении и выяснить как измененный шрифт повлиял на продажи."
      ]
    },
    {
      "cell_type": "code",
      "execution_count": 1,
      "metadata": {
        "id": "yxpQe3VZt3bX"
      },
      "outputs": [],
      "source": [
        "# Загрузим необходимые библиотеки\n",
        "import pandas as pd\n",
        "from datetime import date\n",
        "from plotly import graph_objects as go\n",
        "import math as mth\n",
        "from scipy import stats as st\n",
        "import matplotlib.pyplot as plt\n",
        "\n",
        "# Определим ширину визуализации и количество разрядов.\n",
        "pd.set_option('display.max_colwidth', 350)\n",
        "pd.set_option('display.precision', 2)\n",
        "pd.set_option('display.float_format','{:.2f}'.format)"
      ]
    },
    {
      "cell_type": "markdown",
      "metadata": {
        "id": "MMe3f-c2l91Q"
      },
      "source": [
        "## Загрузим датасет.\n",
        "Изучим общуюю информацию"
      ]
    },
    {
      "cell_type": "code",
      "execution_count": 2,
      "metadata": {
        "id": "p5lPIWKNuCjr"
      },
      "outputs": [],
      "source": [
        "df = pd.read_csv('/content/drive/MyDrive/Яндекс Практикум /10. Сборный проект 2/сборный проект 2.csv', sep='\\t')\n"
      ]
    },
    {
      "cell_type": "code",
      "execution_count": 3,
      "metadata": {
        "id": "DQcCFyQsuYAu"
      },
      "outputs": [],
      "source": [
        "# Для вывода общей информации применим функцию info_output\n",
        "def info_output(data):\n",
        " \n",
        "  return (print('Информация о датасете'),\n",
        "         display(data.info()),\n",
        "         print('----------------------------------------------------'),\n",
        "         print('Первые строки датасета'),\n",
        "         display(data.head()),\n",
        "         print('----------------------------------------------------'),\n",
        "         print('Количество пропусков по столбцам'),\n",
        "         display(data.isna().sum()),\n",
        "         print('----------------------------------------------------'),\n",
        "         print('Количество дубликатов: {0:.0f}'.format(df.duplicated().sum())),\n",
        "         print('Доля дубликатов: {0:.3%}'.format((df.duplicated().sum()/df['DeviceIDHash'].count())))\n",
        "         )\n",
        "  "
      ]
    },
    {
      "cell_type": "code",
      "execution_count": 4,
      "metadata": {
        "colab": {
          "base_uri": "https://localhost:8080/",
          "height": 658
        },
        "id": "_dB5WyqUvy-O",
        "outputId": "5bb30026-b9aa-4a38-90c4-42145c46616f"
      },
      "outputs": [
        {
          "output_type": "stream",
          "name": "stdout",
          "text": [
            "Информация о датасете\n",
            "<class 'pandas.core.frame.DataFrame'>\n",
            "RangeIndex: 244126 entries, 0 to 244125\n",
            "Data columns (total 4 columns):\n",
            " #   Column          Non-Null Count   Dtype \n",
            "---  ------          --------------   ----- \n",
            " 0   EventName       244126 non-null  object\n",
            " 1   DeviceIDHash    244126 non-null  int64 \n",
            " 2   EventTimestamp  244126 non-null  int64 \n",
            " 3   ExpId           244126 non-null  int64 \n",
            "dtypes: int64(3), object(1)\n",
            "memory usage: 7.5+ MB\n"
          ]
        },
        {
          "output_type": "display_data",
          "data": {
            "text/plain": [
              "None"
            ]
          },
          "metadata": {}
        },
        {
          "output_type": "stream",
          "name": "stdout",
          "text": [
            "----------------------------------------------------\n",
            "Первые строки датасета\n"
          ]
        },
        {
          "output_type": "display_data",
          "data": {
            "text/plain": [
              "                 EventName         DeviceIDHash  EventTimestamp  ExpId\n",
              "0         MainScreenAppear  4575588528974610257      1564029816    246\n",
              "1         MainScreenAppear  7416695313311560658      1564053102    246\n",
              "2  PaymentScreenSuccessful  3518123091307005509      1564054127    248\n",
              "3         CartScreenAppear  3518123091307005509      1564054127    248\n",
              "4  PaymentScreenSuccessful  6217807653094995999      1564055322    248"
            ],
            "text/html": [
              "\n",
              "  <div id=\"df-fdbd9b31-76c1-47f8-bdaf-1b302554d8f8\">\n",
              "    <div class=\"colab-df-container\">\n",
              "      <div>\n",
              "<style scoped>\n",
              "    .dataframe tbody tr th:only-of-type {\n",
              "        vertical-align: middle;\n",
              "    }\n",
              "\n",
              "    .dataframe tbody tr th {\n",
              "        vertical-align: top;\n",
              "    }\n",
              "\n",
              "    .dataframe thead th {\n",
              "        text-align: right;\n",
              "    }\n",
              "</style>\n",
              "<table border=\"1\" class=\"dataframe\">\n",
              "  <thead>\n",
              "    <tr style=\"text-align: right;\">\n",
              "      <th></th>\n",
              "      <th>EventName</th>\n",
              "      <th>DeviceIDHash</th>\n",
              "      <th>EventTimestamp</th>\n",
              "      <th>ExpId</th>\n",
              "    </tr>\n",
              "  </thead>\n",
              "  <tbody>\n",
              "    <tr>\n",
              "      <th>0</th>\n",
              "      <td>MainScreenAppear</td>\n",
              "      <td>4575588528974610257</td>\n",
              "      <td>1564029816</td>\n",
              "      <td>246</td>\n",
              "    </tr>\n",
              "    <tr>\n",
              "      <th>1</th>\n",
              "      <td>MainScreenAppear</td>\n",
              "      <td>7416695313311560658</td>\n",
              "      <td>1564053102</td>\n",
              "      <td>246</td>\n",
              "    </tr>\n",
              "    <tr>\n",
              "      <th>2</th>\n",
              "      <td>PaymentScreenSuccessful</td>\n",
              "      <td>3518123091307005509</td>\n",
              "      <td>1564054127</td>\n",
              "      <td>248</td>\n",
              "    </tr>\n",
              "    <tr>\n",
              "      <th>3</th>\n",
              "      <td>CartScreenAppear</td>\n",
              "      <td>3518123091307005509</td>\n",
              "      <td>1564054127</td>\n",
              "      <td>248</td>\n",
              "    </tr>\n",
              "    <tr>\n",
              "      <th>4</th>\n",
              "      <td>PaymentScreenSuccessful</td>\n",
              "      <td>6217807653094995999</td>\n",
              "      <td>1564055322</td>\n",
              "      <td>248</td>\n",
              "    </tr>\n",
              "  </tbody>\n",
              "</table>\n",
              "</div>\n",
              "      <button class=\"colab-df-convert\" onclick=\"convertToInteractive('df-fdbd9b31-76c1-47f8-bdaf-1b302554d8f8')\"\n",
              "              title=\"Convert this dataframe to an interactive table.\"\n",
              "              style=\"display:none;\">\n",
              "        \n",
              "  <svg xmlns=\"http://www.w3.org/2000/svg\" height=\"24px\"viewBox=\"0 0 24 24\"\n",
              "       width=\"24px\">\n",
              "    <path d=\"M0 0h24v24H0V0z\" fill=\"none\"/>\n",
              "    <path d=\"M18.56 5.44l.94 2.06.94-2.06 2.06-.94-2.06-.94-.94-2.06-.94 2.06-2.06.94zm-11 1L8.5 8.5l.94-2.06 2.06-.94-2.06-.94L8.5 2.5l-.94 2.06-2.06.94zm10 10l.94 2.06.94-2.06 2.06-.94-2.06-.94-.94-2.06-.94 2.06-2.06.94z\"/><path d=\"M17.41 7.96l-1.37-1.37c-.4-.4-.92-.59-1.43-.59-.52 0-1.04.2-1.43.59L10.3 9.45l-7.72 7.72c-.78.78-.78 2.05 0 2.83L4 21.41c.39.39.9.59 1.41.59.51 0 1.02-.2 1.41-.59l7.78-7.78 2.81-2.81c.8-.78.8-2.07 0-2.86zM5.41 20L4 18.59l7.72-7.72 1.47 1.35L5.41 20z\"/>\n",
              "  </svg>\n",
              "      </button>\n",
              "      \n",
              "  <style>\n",
              "    .colab-df-container {\n",
              "      display:flex;\n",
              "      flex-wrap:wrap;\n",
              "      gap: 12px;\n",
              "    }\n",
              "\n",
              "    .colab-df-convert {\n",
              "      background-color: #E8F0FE;\n",
              "      border: none;\n",
              "      border-radius: 50%;\n",
              "      cursor: pointer;\n",
              "      display: none;\n",
              "      fill: #1967D2;\n",
              "      height: 32px;\n",
              "      padding: 0 0 0 0;\n",
              "      width: 32px;\n",
              "    }\n",
              "\n",
              "    .colab-df-convert:hover {\n",
              "      background-color: #E2EBFA;\n",
              "      box-shadow: 0px 1px 2px rgba(60, 64, 67, 0.3), 0px 1px 3px 1px rgba(60, 64, 67, 0.15);\n",
              "      fill: #174EA6;\n",
              "    }\n",
              "\n",
              "    [theme=dark] .colab-df-convert {\n",
              "      background-color: #3B4455;\n",
              "      fill: #D2E3FC;\n",
              "    }\n",
              "\n",
              "    [theme=dark] .colab-df-convert:hover {\n",
              "      background-color: #434B5C;\n",
              "      box-shadow: 0px 1px 3px 1px rgba(0, 0, 0, 0.15);\n",
              "      filter: drop-shadow(0px 1px 2px rgba(0, 0, 0, 0.3));\n",
              "      fill: #FFFFFF;\n",
              "    }\n",
              "  </style>\n",
              "\n",
              "      <script>\n",
              "        const buttonEl =\n",
              "          document.querySelector('#df-fdbd9b31-76c1-47f8-bdaf-1b302554d8f8 button.colab-df-convert');\n",
              "        buttonEl.style.display =\n",
              "          google.colab.kernel.accessAllowed ? 'block' : 'none';\n",
              "\n",
              "        async function convertToInteractive(key) {\n",
              "          const element = document.querySelector('#df-fdbd9b31-76c1-47f8-bdaf-1b302554d8f8');\n",
              "          const dataTable =\n",
              "            await google.colab.kernel.invokeFunction('convertToInteractive',\n",
              "                                                     [key], {});\n",
              "          if (!dataTable) return;\n",
              "\n",
              "          const docLinkHtml = 'Like what you see? Visit the ' +\n",
              "            '<a target=\"_blank\" href=https://colab.research.google.com/notebooks/data_table.ipynb>data table notebook</a>'\n",
              "            + ' to learn more about interactive tables.';\n",
              "          element.innerHTML = '';\n",
              "          dataTable['output_type'] = 'display_data';\n",
              "          await google.colab.output.renderOutput(dataTable, element);\n",
              "          const docLink = document.createElement('div');\n",
              "          docLink.innerHTML = docLinkHtml;\n",
              "          element.appendChild(docLink);\n",
              "        }\n",
              "      </script>\n",
              "    </div>\n",
              "  </div>\n",
              "  "
            ]
          },
          "metadata": {}
        },
        {
          "output_type": "stream",
          "name": "stdout",
          "text": [
            "----------------------------------------------------\n",
            "Количество пропусков по столбцам\n"
          ]
        },
        {
          "output_type": "display_data",
          "data": {
            "text/plain": [
              "EventName         0\n",
              "DeviceIDHash      0\n",
              "EventTimestamp    0\n",
              "ExpId             0\n",
              "dtype: int64"
            ]
          },
          "metadata": {}
        },
        {
          "output_type": "stream",
          "name": "stdout",
          "text": [
            "----------------------------------------------------\n",
            "Количество дубликатов: 413\n",
            "Доля дубликатов: 0.169%\n"
          ]
        },
        {
          "output_type": "execute_result",
          "data": {
            "text/plain": [
              "(None, None, None, None, None, None, None, None, None, None, None)"
            ]
          },
          "metadata": {},
          "execution_count": 4
        }
      ],
      "source": [
        "# Передадим функции датасет df\n",
        "info_output(df)"
      ]
    },
    {
      "cell_type": "markdown",
      "metadata": {
        "id": "PUFox8tHm1f2"
      },
      "source": [
        "В представленном датасете 4 столбца и 244126 строк, пропуски в данных отсутствуют, дубликатов 143, доля дубликатов 0,169 %. Столбец EventName в формате object, остальные в формате int64.  \n",
        "В столбце EventTimestamp время представлено в формате UTC, добавим новый столбец и преведем время в привычный нам вид.  \n"
      ]
    },
    {
      "cell_type": "markdown",
      "metadata": {
        "id": "uXTEOWxmxzYp"
      },
      "source": [
        "## Предобработка данных."
      ]
    },
    {
      "cell_type": "code",
      "execution_count": 5,
      "metadata": {
        "id": "5tji2RmZGXKo"
      },
      "outputs": [],
      "source": [
        "# Для удобства переименуем столбцы и приведем строковые данные к нижнему регистру.\n",
        "df.columns=['event_name', 'user_id','time_stamp', 'group']\n",
        "df['event_name'] = df['event_name'].str.lower()"
      ]
    },
    {
      "cell_type": "code",
      "execution_count": 6,
      "metadata": {
        "id": "Y8PY1LtsULx2"
      },
      "outputs": [],
      "source": [
        "# Изменим названия групп экспериментов\n",
        "d = {246: 'A_1', 247: 'A_2', 248: 'B'}\n",
        "df['group'] = df['group'].map(d)"
      ]
    },
    {
      "cell_type": "code",
      "execution_count": 7,
      "metadata": {
        "colab": {
          "base_uri": "https://localhost:8080/",
          "height": 206
        },
        "id": "LGMoRQ-lVJu6",
        "outputId": "471c8284-5657-4c9b-8954-dd078707bdcb"
      },
      "outputs": [
        {
          "output_type": "execute_result",
          "data": {
            "text/plain": [
              "                event_name              user_id  time_stamp group  \\\n",
              "0         mainscreenappear  4575588528974610257  1564029816   A_1   \n",
              "1         mainscreenappear  7416695313311560658  1564053102   A_1   \n",
              "2  paymentscreensuccessful  3518123091307005509  1564054127     B   \n",
              "3         cartscreenappear  3518123091307005509  1564054127     B   \n",
              "4  paymentscreensuccessful  6217807653094995999  1564055322     B   \n",
              "\n",
              "            date_time       dates  \n",
              "0 2019-07-25 04:43:36  2019-07-25  \n",
              "1 2019-07-25 11:11:42  2019-07-25  \n",
              "2 2019-07-25 11:28:47  2019-07-25  \n",
              "3 2019-07-25 11:28:47  2019-07-25  \n",
              "4 2019-07-25 11:48:42  2019-07-25  "
            ],
            "text/html": [
              "\n",
              "  <div id=\"df-407d8688-9a07-4c57-b660-c7eded8a4a6c\">\n",
              "    <div class=\"colab-df-container\">\n",
              "      <div>\n",
              "<style scoped>\n",
              "    .dataframe tbody tr th:only-of-type {\n",
              "        vertical-align: middle;\n",
              "    }\n",
              "\n",
              "    .dataframe tbody tr th {\n",
              "        vertical-align: top;\n",
              "    }\n",
              "\n",
              "    .dataframe thead th {\n",
              "        text-align: right;\n",
              "    }\n",
              "</style>\n",
              "<table border=\"1\" class=\"dataframe\">\n",
              "  <thead>\n",
              "    <tr style=\"text-align: right;\">\n",
              "      <th></th>\n",
              "      <th>event_name</th>\n",
              "      <th>user_id</th>\n",
              "      <th>time_stamp</th>\n",
              "      <th>group</th>\n",
              "      <th>date_time</th>\n",
              "      <th>dates</th>\n",
              "    </tr>\n",
              "  </thead>\n",
              "  <tbody>\n",
              "    <tr>\n",
              "      <th>0</th>\n",
              "      <td>mainscreenappear</td>\n",
              "      <td>4575588528974610257</td>\n",
              "      <td>1564029816</td>\n",
              "      <td>A_1</td>\n",
              "      <td>2019-07-25 04:43:36</td>\n",
              "      <td>2019-07-25</td>\n",
              "    </tr>\n",
              "    <tr>\n",
              "      <th>1</th>\n",
              "      <td>mainscreenappear</td>\n",
              "      <td>7416695313311560658</td>\n",
              "      <td>1564053102</td>\n",
              "      <td>A_1</td>\n",
              "      <td>2019-07-25 11:11:42</td>\n",
              "      <td>2019-07-25</td>\n",
              "    </tr>\n",
              "    <tr>\n",
              "      <th>2</th>\n",
              "      <td>paymentscreensuccessful</td>\n",
              "      <td>3518123091307005509</td>\n",
              "      <td>1564054127</td>\n",
              "      <td>B</td>\n",
              "      <td>2019-07-25 11:28:47</td>\n",
              "      <td>2019-07-25</td>\n",
              "    </tr>\n",
              "    <tr>\n",
              "      <th>3</th>\n",
              "      <td>cartscreenappear</td>\n",
              "      <td>3518123091307005509</td>\n",
              "      <td>1564054127</td>\n",
              "      <td>B</td>\n",
              "      <td>2019-07-25 11:28:47</td>\n",
              "      <td>2019-07-25</td>\n",
              "    </tr>\n",
              "    <tr>\n",
              "      <th>4</th>\n",
              "      <td>paymentscreensuccessful</td>\n",
              "      <td>6217807653094995999</td>\n",
              "      <td>1564055322</td>\n",
              "      <td>B</td>\n",
              "      <td>2019-07-25 11:48:42</td>\n",
              "      <td>2019-07-25</td>\n",
              "    </tr>\n",
              "  </tbody>\n",
              "</table>\n",
              "</div>\n",
              "      <button class=\"colab-df-convert\" onclick=\"convertToInteractive('df-407d8688-9a07-4c57-b660-c7eded8a4a6c')\"\n",
              "              title=\"Convert this dataframe to an interactive table.\"\n",
              "              style=\"display:none;\">\n",
              "        \n",
              "  <svg xmlns=\"http://www.w3.org/2000/svg\" height=\"24px\"viewBox=\"0 0 24 24\"\n",
              "       width=\"24px\">\n",
              "    <path d=\"M0 0h24v24H0V0z\" fill=\"none\"/>\n",
              "    <path d=\"M18.56 5.44l.94 2.06.94-2.06 2.06-.94-2.06-.94-.94-2.06-.94 2.06-2.06.94zm-11 1L8.5 8.5l.94-2.06 2.06-.94-2.06-.94L8.5 2.5l-.94 2.06-2.06.94zm10 10l.94 2.06.94-2.06 2.06-.94-2.06-.94-.94-2.06-.94 2.06-2.06.94z\"/><path d=\"M17.41 7.96l-1.37-1.37c-.4-.4-.92-.59-1.43-.59-.52 0-1.04.2-1.43.59L10.3 9.45l-7.72 7.72c-.78.78-.78 2.05 0 2.83L4 21.41c.39.39.9.59 1.41.59.51 0 1.02-.2 1.41-.59l7.78-7.78 2.81-2.81c.8-.78.8-2.07 0-2.86zM5.41 20L4 18.59l7.72-7.72 1.47 1.35L5.41 20z\"/>\n",
              "  </svg>\n",
              "      </button>\n",
              "      \n",
              "  <style>\n",
              "    .colab-df-container {\n",
              "      display:flex;\n",
              "      flex-wrap:wrap;\n",
              "      gap: 12px;\n",
              "    }\n",
              "\n",
              "    .colab-df-convert {\n",
              "      background-color: #E8F0FE;\n",
              "      border: none;\n",
              "      border-radius: 50%;\n",
              "      cursor: pointer;\n",
              "      display: none;\n",
              "      fill: #1967D2;\n",
              "      height: 32px;\n",
              "      padding: 0 0 0 0;\n",
              "      width: 32px;\n",
              "    }\n",
              "\n",
              "    .colab-df-convert:hover {\n",
              "      background-color: #E2EBFA;\n",
              "      box-shadow: 0px 1px 2px rgba(60, 64, 67, 0.3), 0px 1px 3px 1px rgba(60, 64, 67, 0.15);\n",
              "      fill: #174EA6;\n",
              "    }\n",
              "\n",
              "    [theme=dark] .colab-df-convert {\n",
              "      background-color: #3B4455;\n",
              "      fill: #D2E3FC;\n",
              "    }\n",
              "\n",
              "    [theme=dark] .colab-df-convert:hover {\n",
              "      background-color: #434B5C;\n",
              "      box-shadow: 0px 1px 3px 1px rgba(0, 0, 0, 0.15);\n",
              "      filter: drop-shadow(0px 1px 2px rgba(0, 0, 0, 0.3));\n",
              "      fill: #FFFFFF;\n",
              "    }\n",
              "  </style>\n",
              "\n",
              "      <script>\n",
              "        const buttonEl =\n",
              "          document.querySelector('#df-407d8688-9a07-4c57-b660-c7eded8a4a6c button.colab-df-convert');\n",
              "        buttonEl.style.display =\n",
              "          google.colab.kernel.accessAllowed ? 'block' : 'none';\n",
              "\n",
              "        async function convertToInteractive(key) {\n",
              "          const element = document.querySelector('#df-407d8688-9a07-4c57-b660-c7eded8a4a6c');\n",
              "          const dataTable =\n",
              "            await google.colab.kernel.invokeFunction('convertToInteractive',\n",
              "                                                     [key], {});\n",
              "          if (!dataTable) return;\n",
              "\n",
              "          const docLinkHtml = 'Like what you see? Visit the ' +\n",
              "            '<a target=\"_blank\" href=https://colab.research.google.com/notebooks/data_table.ipynb>data table notebook</a>'\n",
              "            + ' to learn more about interactive tables.';\n",
              "          element.innerHTML = '';\n",
              "          dataTable['output_type'] = 'display_data';\n",
              "          await google.colab.output.renderOutput(dataTable, element);\n",
              "          const docLink = document.createElement('div');\n",
              "          docLink.innerHTML = docLinkHtml;\n",
              "          element.appendChild(docLink);\n",
              "        }\n",
              "      </script>\n",
              "    </div>\n",
              "  </div>\n",
              "  "
            ]
          },
          "metadata": {},
          "execution_count": 7
        }
      ],
      "source": [
        "# В столбце date_time сохраним дату и время в привычном нам формате \n",
        "df['date_time'] = pd.to_datetime(df['time_stamp'], unit='s')\n",
        "# В столбце dates сохраним только дату \n",
        "df['dates']=pd.to_datetime(df['date_time']).dt.date\n",
        "df.head()"
      ]
    },
    {
      "cell_type": "code",
      "execution_count": 8,
      "metadata": {
        "colab": {
          "base_uri": "https://localhost:8080/"
        },
        "id": "GeId31JtYWIv",
        "outputId": "f5613cd2-a59f-463c-ab37-30dee7852d37"
      },
      "outputs": [
        {
          "output_type": "stream",
          "name": "stdout",
          "text": [
            "Количество дубликатов: 0\n",
            "Доля дубликатов: 0.000%\n"
          ]
        }
      ],
      "source": [
        "# Удалим дубликаты\n",
        "df=df.drop_duplicates().reset_index(drop=True)\n",
        "print('Количество дубликатов: {0:.0f}'.format(df.duplicated().sum()))\n",
        "print('Доля дубликатов: {0:.3%}'.format((df.duplicated().sum()/df['user_id'].count())))"
      ]
    },
    {
      "cell_type": "code",
      "execution_count": 9,
      "metadata": {
        "colab": {
          "base_uri": "https://localhost:8080/"
        },
        "id": "71N1QHQm0W2z",
        "outputId": "21aa0af0-2890-4095-cfee-0aa3db12c42d"
      },
      "outputs": [
        {
          "output_type": "execute_result",
          "data": {
            "text/plain": [
              "243713"
            ]
          },
          "metadata": {},
          "execution_count": 9
        }
      ],
      "source": [
        "df['event_name']. count()"
      ]
    },
    {
      "cell_type": "markdown",
      "metadata": {
        "id": "3gFb9dz30d9S"
      },
      "source": [
        " В ходе предобработки изменили названия столбцов, перевели данные в столбце event_name в нижний регистр, перевели дату в привычный нам формат и сохранили в отдельном столбце, выделили только дату и сохранили в отдельном столбце, удалили дудликаты, после удаления дубликатов осталось 243713 строк."
      ]
    },
    {
      "cell_type": "markdown",
      "metadata": {
        "id": "zgONaC5DzFHb"
      },
      "source": [
        "## Изучим данные"
      ]
    },
    {
      "cell_type": "code",
      "execution_count": 10,
      "metadata": {
        "colab": {
          "base_uri": "https://localhost:8080/"
        },
        "id": "t_1rDE20fcZo",
        "outputId": "671c96a1-c6f7-4188-b547-8981d45a9162"
      },
      "outputs": [
        {
          "output_type": "stream",
          "name": "stdout",
          "text": [
            "Количество уникальных событий: 5\n",
            "Общее количество событий: 243713\n",
            "Количество уникальных пользователей: 7551\n",
            "Среднее количество событий одного пользователя: 32.28\n"
          ]
        }
      ],
      "source": [
        "print('Количество уникальных событий: {0:.0f}'.format(df['event_name'].nunique()))\n",
        "event = df['event_name']. count()\n",
        "print('Общее количество событий: {0:.0f}'.format(event))\n",
        "users = df['user_id'].nunique()\n",
        "print('Количество уникальных пользователей: {0:.0f}'.format(users))\n",
        "print('Среднее количество событий одного пользователя: {0:.2f}'.format(event/users))"
      ]
    },
    {
      "cell_type": "markdown",
      "metadata": {
        "id": "IkA2I8mmVNi3"
      },
      "source": [
        "Посмотрим на характер распределения пользователей, построим гистограмму </font>"
      ]
    },
    {
      "cell_type": "code",
      "execution_count": 11,
      "metadata": {
        "scrolled": true,
        "colab": {
          "base_uri": "https://localhost:8080/",
          "height": 406
        },
        "id": "UnLLjXonVNi4",
        "outputId": "38645211-7bd5-41f2-f1b1-54b582167da0"
      },
      "outputs": [
        {
          "output_type": "display_data",
          "data": {
            "text/plain": [
              "<Figure size 576x432 with 1 Axes>"
            ],
            "image/png": "[encoded data removed]"
          },
          "metadata": {
            "needs_background": "light"
          }
        }
      ],
      "source": [
        "plt.figure(figsize =(8, 6))\n",
        "df['user_id'].hist(bins=7000, edgecolor='black')\n",
        "plt.title('Распределение по столбцу user_id')\n",
        "plt.xlabel('Пользователи')\n",
        "plt.xticks(rotation=45)\n",
        "plt.ylabel('Частота')\n",
        "plt.grid()\n",
        "plt.show()"
      ]
    },
    {
      "cell_type": "markdown",
      "metadata": {
        "id": "YrJr6amiVNi5"
      },
      "source": [
        "Есть несколько очень активных пользователей пользователей </font>"
      ]
    },
    {
      "cell_type": "code",
      "execution_count": 12,
      "metadata": {
        "scrolled": true,
        "colab": {
          "base_uri": "https://localhost:8080/",
          "height": 424
        },
        "id": "hSytuK4BVNi6",
        "outputId": "73b4e483-8373-4aca-c1c7-9abc16c499f2"
      },
      "outputs": [
        {
          "output_type": "execute_result",
          "data": {
            "text/plain": [
              "                    index  user_id\n",
              "0     6304868067479728361     2307\n",
              "1      197027893265565660     1998\n",
              "2     4623191541214045580     1768\n",
              "3     6932517045703054087     1439\n",
              "4     1754140665440434215     1221\n",
              "...                   ...      ...\n",
              "7546     6888746892508752        1\n",
              "7547  6671109879025379318        1\n",
              "7548  1223708690315846789        1\n",
              "7549  5229230634268921313        1\n",
              "7550  2408195006658927235        1\n",
              "\n",
              "[7551 rows x 2 columns]"
            ],
            "text/html": [
              "\n",
              "  <div id=\"df-8f34d2b7-98d5-4eaa-a39d-3a4756acadc8\">\n",
              "    <div class=\"colab-df-container\">\n",
              "      <div>\n",
              "<style scoped>\n",
              "    .dataframe tbody tr th:only-of-type {\n",
              "        vertical-align: middle;\n",
              "    }\n",
              "\n",
              "    .dataframe tbody tr th {\n",
              "        vertical-align: top;\n",
              "    }\n",
              "\n",
              "    .dataframe thead th {\n",
              "        text-align: right;\n",
              "    }\n",
              "</style>\n",
              "<table border=\"1\" class=\"dataframe\">\n",
              "  <thead>\n",
              "    <tr style=\"text-align: right;\">\n",
              "      <th></th>\n",
              "      <th>index</th>\n",
              "      <th>user_id</th>\n",
              "    </tr>\n",
              "  </thead>\n",
              "  <tbody>\n",
              "    <tr>\n",
              "      <th>0</th>\n",
              "      <td>6304868067479728361</td>\n",
              "      <td>2307</td>\n",
              "    </tr>\n",
              "    <tr>\n",
              "      <th>1</th>\n",
              "      <td>197027893265565660</td>\n",
              "      <td>1998</td>\n",
              "    </tr>\n",
              "    <tr>\n",
              "      <th>2</th>\n",
              "      <td>4623191541214045580</td>\n",
              "      <td>1768</td>\n",
              "    </tr>\n",
              "    <tr>\n",
              "      <th>3</th>\n",
              "      <td>6932517045703054087</td>\n",
              "      <td>1439</td>\n",
              "    </tr>\n",
              "    <tr>\n",
              "      <th>4</th>\n",
              "      <td>1754140665440434215</td>\n",
              "      <td>1221</td>\n",
              "    </tr>\n",
              "    <tr>\n",
              "      <th>...</th>\n",
              "      <td>...</td>\n",
              "      <td>...</td>\n",
              "    </tr>\n",
              "    <tr>\n",
              "      <th>7546</th>\n",
              "      <td>6888746892508752</td>\n",
              "      <td>1</td>\n",
              "    </tr>\n",
              "    <tr>\n",
              "      <th>7547</th>\n",
              "      <td>6671109879025379318</td>\n",
              "      <td>1</td>\n",
              "    </tr>\n",
              "    <tr>\n",
              "      <th>7548</th>\n",
              "      <td>1223708690315846789</td>\n",
              "      <td>1</td>\n",
              "    </tr>\n",
              "    <tr>\n",
              "      <th>7549</th>\n",
              "      <td>5229230634268921313</td>\n",
              "      <td>1</td>\n",
              "    </tr>\n",
              "    <tr>\n",
              "      <th>7550</th>\n",
              "      <td>2408195006658927235</td>\n",
              "      <td>1</td>\n",
              "    </tr>\n",
              "  </tbody>\n",
              "</table>\n",
              "<p>7551 rows × 2 columns</p>\n",
              "</div>\n",
              "      <button class=\"colab-df-convert\" onclick=\"convertToInteractive('df-8f34d2b7-98d5-4eaa-a39d-3a4756acadc8')\"\n",
              "              title=\"Convert this dataframe to an interactive table.\"\n",
              "              style=\"display:none;\">\n",
              "        \n",
              "  <svg xmlns=\"http://www.w3.org/2000/svg\" height=\"24px\"viewBox=\"0 0 24 24\"\n",
              "       width=\"24px\">\n",
              "    <path d=\"M0 0h24v24H0V0z\" fill=\"none\"/>\n",
              "    <path d=\"M18.56 5.44l.94 2.06.94-2.06 2.06-.94-2.06-.94-.94-2.06-.94 2.06-2.06.94zm-11 1L8.5 8.5l.94-2.06 2.06-.94-2.06-.94L8.5 2.5l-.94 2.06-2.06.94zm10 10l.94 2.06.94-2.06 2.06-.94-2.06-.94-.94-2.06-.94 2.06-2.06.94z\"/><path d=\"M17.41 7.96l-1.37-1.37c-.4-.4-.92-.59-1.43-.59-.52 0-1.04.2-1.43.59L10.3 9.45l-7.72 7.72c-.78.78-.78 2.05 0 2.83L4 21.41c.39.39.9.59 1.41.59.51 0 1.02-.2 1.41-.59l7.78-7.78 2.81-2.81c.8-.78.8-2.07 0-2.86zM5.41 20L4 18.59l7.72-7.72 1.47 1.35L5.41 20z\"/>\n",
              "  </svg>\n",
              "      </button>\n",
              "      \n",
              "  <style>\n",
              "    .colab-df-container {\n",
              "      display:flex;\n",
              "      flex-wrap:wrap;\n",
              "      gap: 12px;\n",
              "    }\n",
              "\n",
              "    .colab-df-convert {\n",
              "      background-color: #E8F0FE;\n",
              "      border: none;\n",
              "      border-radius: 50%;\n",
              "      cursor: pointer;\n",
              "      display: none;\n",
              "      fill: #1967D2;\n",
              "      height: 32px;\n",
              "      padding: 0 0 0 0;\n",
              "      width: 32px;\n",
              "    }\n",
              "\n",
              "    .colab-df-convert:hover {\n",
              "      background-color: #E2EBFA;\n",
              "      box-shadow: 0px 1px 2px rgba(60, 64, 67, 0.3), 0px 1px 3px 1px rgba(60, 64, 67, 0.15);\n",
              "      fill: #174EA6;\n",
              "    }\n",
              "\n",
              "    [theme=dark] .colab-df-convert {\n",
              "      background-color: #3B4455;\n",
              "      fill: #D2E3FC;\n",
              "    }\n",
              "\n",
              "    [theme=dark] .colab-df-convert:hover {\n",
              "      background-color: #434B5C;\n",
              "      box-shadow: 0px 1px 3px 1px rgba(0, 0, 0, 0.15);\n",
              "      filter: drop-shadow(0px 1px 2px rgba(0, 0, 0, 0.3));\n",
              "      fill: #FFFFFF;\n",
              "    }\n",
              "  </style>\n",
              "\n",
              "      <script>\n",
              "        const buttonEl =\n",
              "          document.querySelector('#df-8f34d2b7-98d5-4eaa-a39d-3a4756acadc8 button.colab-df-convert');\n",
              "        buttonEl.style.display =\n",
              "          google.colab.kernel.accessAllowed ? 'block' : 'none';\n",
              "\n",
              "        async function convertToInteractive(key) {\n",
              "          const element = document.querySelector('#df-8f34d2b7-98d5-4eaa-a39d-3a4756acadc8');\n",
              "          const dataTable =\n",
              "            await google.colab.kernel.invokeFunction('convertToInteractive',\n",
              "                                                     [key], {});\n",
              "          if (!dataTable) return;\n",
              "\n",
              "          const docLinkHtml = 'Like what you see? Visit the ' +\n",
              "            '<a target=\"_blank\" href=https://colab.research.google.com/notebooks/data_table.ipynb>data table notebook</a>'\n",
              "            + ' to learn more about interactive tables.';\n",
              "          element.innerHTML = '';\n",
              "          dataTable['output_type'] = 'display_data';\n",
              "          await google.colab.output.renderOutput(dataTable, element);\n",
              "          const docLink = document.createElement('div');\n",
              "          docLink.innerHTML = docLinkHtml;\n",
              "          element.appendChild(docLink);\n",
              "        }\n",
              "      </script>\n",
              "    </div>\n",
              "  </div>\n",
              "  "
            ]
          },
          "metadata": {},
          "execution_count": 12
        }
      ],
      "source": [
        "# подсчитаем количество событий каждого пользователя\n",
        "user = df['user_id'].value_counts().reset_index()\n",
        "user"
      ]
    },
    {
      "cell_type": "code",
      "execution_count": 13,
      "metadata": {
        "scrolled": false,
        "colab": {
          "base_uri": "https://localhost:8080/"
        },
        "id": "TUJte2FgVNi7",
        "outputId": "d8adacc9-32bc-44d1-ed0c-3d31932c2571"
      },
      "outputs": [
        {
          "output_type": "execute_result",
          "data": {
            "text/plain": [
              "count   7551.00\n",
              "mean      32.28\n",
              "std       65.15\n",
              "min        1.00\n",
              "25%        9.00\n",
              "50%       20.00\n",
              "75%       37.00\n",
              "max     2307.00\n",
              "Name: user_id, dtype: float64"
            ]
          },
          "metadata": {},
          "execution_count": 13
        }
      ],
      "source": [
        "user['user_id'].describe()"
      ]
    },
    {
      "cell_type": "markdown",
      "metadata": {
        "id": "oC6851PMVNi8"
      },
      "source": [
        "Максимальное количество заказов на одного пользователя - 2307<br>\n",
        "минмальное - 1 <br>\n",
        "среднее - 32,28 <br>\n",
        "медианное - 20 <br>\n",
        "у 25% пользователей больше 37 заказов</font>"
      ]
    },
    {
      "cell_type": "code",
      "execution_count": 14,
      "metadata": {
        "colab": {
          "base_uri": "https://localhost:8080/"
        },
        "id": "Dfnbh8lgzQi9",
        "outputId": "9e4f9eda-6071-46ae-e662-6da1c2638d4a"
      },
      "outputs": [
        {
          "output_type": "stream",
          "name": "stdout",
          "text": [
            "Дата начала эксперимента: 2019-07-25\n",
            "Дата окончания эксперимента: 2019-08-07\n",
            "Продолжительность эксперимента: 13 days 16:31:41\n"
          ]
        }
      ],
      "source": [
        "# Определим временные рамки эксперимента\n",
        "print('Дата начала эксперимента: {}'.format(df['dates'].min()))\n",
        "print('Дата окончания эксперимента: {}'.format(df['dates'].max()))\n",
        "print('Продолжительность эксперимента: {}'.format(df['date_time'].max()-df['date_time'].min()))"
      ]
    },
    {
      "cell_type": "code",
      "execution_count": 15,
      "metadata": {
        "colab": {
          "base_uri": "https://localhost:8080/",
          "height": 442
        },
        "id": "rlgpjh2UmKNc",
        "outputId": "9d290a3c-32eb-4904-c848-b0b32c8b5107"
      },
      "outputs": [
        {
          "output_type": "display_data",
          "data": {
            "text/plain": [
              "<Figure size 576x432 with 1 Axes>"
            ],
            "image/png": "[encoded data removed]"
          },
          "metadata": {
            "needs_background": "light"
          }
        }
      ],
      "source": [
        "# Пострим гистограмму для наглядности распределения событий по дням\n",
        "plt.figure(figsize =(8, 6))\n",
        "df['dates'].hist(bins=14, edgecolor='black')\n",
        "plt.title('Распределение по столбцу date')\n",
        "plt.xlabel('Дата')\n",
        "plt.xticks(rotation=45)\n",
        "plt.ylabel('Частота')\n",
        "plt.grid()\n",
        "plt.show()"
      ]
    },
    {
      "cell_type": "markdown",
      "metadata": {
        "id": "gj7Ec2foVNjD"
      },
      "source": [
        "Построим гистограмму по столбцу date_time"
      ]
    },
    {
      "cell_type": "code",
      "execution_count": 16,
      "metadata": {
        "scrolled": true,
        "colab": {
          "base_uri": "https://localhost:8080/",
          "height": 768
        },
        "id": "J6K5R9HUVNjF",
        "outputId": "8c279068-907f-4689-97dd-b65a12398163"
      },
      "outputs": [
        {
          "output_type": "display_data",
          "data": {
            "text/plain": [
              "<Figure size 2016x864 with 1 Axes>"
            ],
            "image/png": "[encoded data removed]"
          },
          "metadata": {
            "needs_background": "light"
          }
        }
      ],
      "source": [
        "plt.figure(figsize =(28,12))\n",
        "df['date_time'].hist(bins=336, edgecolor='black')\n",
        "plt.title('Распределение по столбцу date_time')\n",
        "plt.xlabel('Дата')\n",
        "plt.xticks(rotation=45)\n",
        "plt.ylabel('Частота')\n",
        "plt.grid()\n",
        "plt.show()"
      ]
    },
    {
      "cell_type": "markdown",
      "metadata": {
        "id": "dDG8GqlVVNjG"
      },
      "source": [
        "<br> По гистограмме можно увидеть, что хоть эксперимент и начался 25 июля, более-менее активно пользователи начали включаться только к вечеру 26 июля, а на точку близкую к максимуму вышли только к полудню 1 августа. 1 августа 2019 - четверг. Максимальное количество пользователей пришлось на полдень четверга и понедельника. <br>\n",
        "    "
      ]
    },
    {
      "cell_type": "code",
      "execution_count": 17,
      "metadata": {
        "colab": {
          "base_uri": "https://localhost:8080/",
          "height": 488
        },
        "id": "KkG8YM3FmwuX",
        "outputId": "d3d9df1e-1348-4401-8a49-ecb9cf7e1cd8"
      },
      "outputs": [
        {
          "output_type": "execute_result",
          "data": {
            "text/plain": [
              "         index  dates\n",
              "13  2019-07-25      9\n",
              "12  2019-07-26     31\n",
              "11  2019-07-27     55\n",
              "10  2019-07-28    105\n",
              "9   2019-07-29    184\n",
              "8   2019-07-30    412\n",
              "7   2019-07-31   2030\n",
              "0   2019-08-01  36141\n",
              "3   2019-08-02  35554\n",
              "4   2019-08-03  33282\n",
              "5   2019-08-04  32968\n",
              "1   2019-08-05  36058\n",
              "2   2019-08-06  35788\n",
              "6   2019-08-07  31096"
            ],
            "text/html": [
              "\n",
              "  <div id=\"df-5254b1d5-5baf-480a-90e5-c73b11d61bef\">\n",
              "    <div class=\"colab-df-container\">\n",
              "      <div>\n",
              "<style scoped>\n",
              "    .dataframe tbody tr th:only-of-type {\n",
              "        vertical-align: middle;\n",
              "    }\n",
              "\n",
              "    .dataframe tbody tr th {\n",
              "        vertical-align: top;\n",
              "    }\n",
              "\n",
              "    .dataframe thead th {\n",
              "        text-align: right;\n",
              "    }\n",
              "</style>\n",
              "<table border=\"1\" class=\"dataframe\">\n",
              "  <thead>\n",
              "    <tr style=\"text-align: right;\">\n",
              "      <th></th>\n",
              "      <th>index</th>\n",
              "      <th>dates</th>\n",
              "    </tr>\n",
              "  </thead>\n",
              "  <tbody>\n",
              "    <tr>\n",
              "      <th>13</th>\n",
              "      <td>2019-07-25</td>\n",
              "      <td>9</td>\n",
              "    </tr>\n",
              "    <tr>\n",
              "      <th>12</th>\n",
              "      <td>2019-07-26</td>\n",
              "      <td>31</td>\n",
              "    </tr>\n",
              "    <tr>\n",
              "      <th>11</th>\n",
              "      <td>2019-07-27</td>\n",
              "      <td>55</td>\n",
              "    </tr>\n",
              "    <tr>\n",
              "      <th>10</th>\n",
              "      <td>2019-07-28</td>\n",
              "      <td>105</td>\n",
              "    </tr>\n",
              "    <tr>\n",
              "      <th>9</th>\n",
              "      <td>2019-07-29</td>\n",
              "      <td>184</td>\n",
              "    </tr>\n",
              "    <tr>\n",
              "      <th>8</th>\n",
              "      <td>2019-07-30</td>\n",
              "      <td>412</td>\n",
              "    </tr>\n",
              "    <tr>\n",
              "      <th>7</th>\n",
              "      <td>2019-07-31</td>\n",
              "      <td>2030</td>\n",
              "    </tr>\n",
              "    <tr>\n",
              "      <th>0</th>\n",
              "      <td>2019-08-01</td>\n",
              "      <td>36141</td>\n",
              "    </tr>\n",
              "    <tr>\n",
              "      <th>3</th>\n",
              "      <td>2019-08-02</td>\n",
              "      <td>35554</td>\n",
              "    </tr>\n",
              "    <tr>\n",
              "      <th>4</th>\n",
              "      <td>2019-08-03</td>\n",
              "      <td>33282</td>\n",
              "    </tr>\n",
              "    <tr>\n",
              "      <th>5</th>\n",
              "      <td>2019-08-04</td>\n",
              "      <td>32968</td>\n",
              "    </tr>\n",
              "    <tr>\n",
              "      <th>1</th>\n",
              "      <td>2019-08-05</td>\n",
              "      <td>36058</td>\n",
              "    </tr>\n",
              "    <tr>\n",
              "      <th>2</th>\n",
              "      <td>2019-08-06</td>\n",
              "      <td>35788</td>\n",
              "    </tr>\n",
              "    <tr>\n",
              "      <th>6</th>\n",
              "      <td>2019-08-07</td>\n",
              "      <td>31096</td>\n",
              "    </tr>\n",
              "  </tbody>\n",
              "</table>\n",
              "</div>\n",
              "      <button class=\"colab-df-convert\" onclick=\"convertToInteractive('df-5254b1d5-5baf-480a-90e5-c73b11d61bef')\"\n",
              "              title=\"Convert this dataframe to an interactive table.\"\n",
              "              style=\"display:none;\">\n",
              "        \n",
              "  <svg xmlns=\"http://www.w3.org/2000/svg\" height=\"24px\"viewBox=\"0 0 24 24\"\n",
              "       width=\"24px\">\n",
              "    <path d=\"M0 0h24v24H0V0z\" fill=\"none\"/>\n",
              "    <path d=\"M18.56 5.44l.94 2.06.94-2.06 2.06-.94-2.06-.94-.94-2.06-.94 2.06-2.06.94zm-11 1L8.5 8.5l.94-2.06 2.06-.94-2.06-.94L8.5 2.5l-.94 2.06-2.06.94zm10 10l.94 2.06.94-2.06 2.06-.94-2.06-.94-.94-2.06-.94 2.06-2.06.94z\"/><path d=\"M17.41 7.96l-1.37-1.37c-.4-.4-.92-.59-1.43-.59-.52 0-1.04.2-1.43.59L10.3 9.45l-7.72 7.72c-.78.78-.78 2.05 0 2.83L4 21.41c.39.39.9.59 1.41.59.51 0 1.02-.2 1.41-.59l7.78-7.78 2.81-2.81c.8-.78.8-2.07 0-2.86zM5.41 20L4 18.59l7.72-7.72 1.47 1.35L5.41 20z\"/>\n",
              "  </svg>\n",
              "      </button>\n",
              "      \n",
              "  <style>\n",
              "    .colab-df-container {\n",
              "      display:flex;\n",
              "      flex-wrap:wrap;\n",
              "      gap: 12px;\n",
              "    }\n",
              "\n",
              "    .colab-df-convert {\n",
              "      background-color: #E8F0FE;\n",
              "      border: none;\n",
              "      border-radius: 50%;\n",
              "      cursor: pointer;\n",
              "      display: none;\n",
              "      fill: #1967D2;\n",
              "      height: 32px;\n",
              "      padding: 0 0 0 0;\n",
              "      width: 32px;\n",
              "    }\n",
              "\n",
              "    .colab-df-convert:hover {\n",
              "      background-color: #E2EBFA;\n",
              "      box-shadow: 0px 1px 2px rgba(60, 64, 67, 0.3), 0px 1px 3px 1px rgba(60, 64, 67, 0.15);\n",
              "      fill: #174EA6;\n",
              "    }\n",
              "\n",
              "    [theme=dark] .colab-df-convert {\n",
              "      background-color: #3B4455;\n",
              "      fill: #D2E3FC;\n",
              "    }\n",
              "\n",
              "    [theme=dark] .colab-df-convert:hover {\n",
              "      background-color: #434B5C;\n",
              "      box-shadow: 0px 1px 3px 1px rgba(0, 0, 0, 0.15);\n",
              "      filter: drop-shadow(0px 1px 2px rgba(0, 0, 0, 0.3));\n",
              "      fill: #FFFFFF;\n",
              "    }\n",
              "  </style>\n",
              "\n",
              "      <script>\n",
              "        const buttonEl =\n",
              "          document.querySelector('#df-5254b1d5-5baf-480a-90e5-c73b11d61bef button.colab-df-convert');\n",
              "        buttonEl.style.display =\n",
              "          google.colab.kernel.accessAllowed ? 'block' : 'none';\n",
              "\n",
              "        async function convertToInteractive(key) {\n",
              "          const element = document.querySelector('#df-5254b1d5-5baf-480a-90e5-c73b11d61bef');\n",
              "          const dataTable =\n",
              "            await google.colab.kernel.invokeFunction('convertToInteractive',\n",
              "                                                     [key], {});\n",
              "          if (!dataTable) return;\n",
              "\n",
              "          const docLinkHtml = 'Like what you see? Visit the ' +\n",
              "            '<a target=\"_blank\" href=https://colab.research.google.com/notebooks/data_table.ipynb>data table notebook</a>'\n",
              "            + ' to learn more about interactive tables.';\n",
              "          element.innerHTML = '';\n",
              "          dataTable['output_type'] = 'display_data';\n",
              "          await google.colab.output.renderOutput(dataTable, element);\n",
              "          const docLink = document.createElement('div');\n",
              "          docLink.innerHTML = docLinkHtml;\n",
              "          element.appendChild(docLink);\n",
              "        }\n",
              "      </script>\n",
              "    </div>\n",
              "  </div>\n",
              "  "
            ]
          },
          "metadata": {},
          "execution_count": 17
        }
      ],
      "source": [
        "# Посчитаем количество событий по дням\n",
        "df['dates'].value_counts().reset_index().sort_values('index')"
      ]
    },
    {
      "cell_type": "markdown",
      "metadata": {
        "id": "2frM3BSo4ZQm"
      },
      "source": [
        "В эксперименте произведено 243713 событий 5 видов, 7551 пользователем. В среднем каждый пользователь провел почти 32 события.  \n",
        "Эксперимент длился 14 дней, начался 25 июля 2019 года и закончился 7 августа того же года.\n",
        "По гистограмме видно, что первую неделю эксперимента событий было гораздо меньше и их количество значительно различалось по дням, чем во вторую неделю. Во вторую неделю эксперимента количество событий по дням было примерно равное.  \n",
        "Дальнейший анализ будем проводить на данных с 1 августа 2019 года."
      ]
    },
    {
      "cell_type": "code",
      "execution_count": 18,
      "metadata": {
        "colab": {
          "base_uri": "https://localhost:8080/",
          "height": 424
        },
        "id": "O3meoJWWrz3i",
        "outputId": "8f0b70fb-6487-46e3-8816-556ac18476bc"
      },
      "outputs": [
        {
          "output_type": "execute_result",
          "data": {
            "text/plain": [
              "                event_name              user_id  time_stamp group  \\\n",
              "2826              tutorial  3737462046622621720  1564618048   A_1   \n",
              "2827      mainscreenappear  3737462046622621720  1564618080   A_1   \n",
              "2828      mainscreenappear  3737462046622621720  1564618135   A_1   \n",
              "2829    offersscreenappear  3737462046622621720  1564618138   A_1   \n",
              "2830      mainscreenappear  1433840883824088890  1564618139   A_2   \n",
              "...                    ...                  ...         ...   ...   \n",
              "243708    mainscreenappear  4599628364049201812  1565212345   A_2   \n",
              "243709    mainscreenappear  5849806612437486590  1565212439   A_1   \n",
              "243710    mainscreenappear  5746969938801999050  1565212483   A_1   \n",
              "243711    mainscreenappear  5746969938801999050  1565212498   A_1   \n",
              "243712  offersscreenappear  5746969938801999050  1565212517   A_1   \n",
              "\n",
              "                 date_time       dates  \n",
              "2826   2019-08-01 00:07:28  2019-08-01  \n",
              "2827   2019-08-01 00:08:00  2019-08-01  \n",
              "2828   2019-08-01 00:08:55  2019-08-01  \n",
              "2829   2019-08-01 00:08:58  2019-08-01  \n",
              "2830   2019-08-01 00:08:59  2019-08-01  \n",
              "...                    ...         ...  \n",
              "243708 2019-08-07 21:12:25  2019-08-07  \n",
              "243709 2019-08-07 21:13:59  2019-08-07  \n",
              "243710 2019-08-07 21:14:43  2019-08-07  \n",
              "243711 2019-08-07 21:14:58  2019-08-07  \n",
              "243712 2019-08-07 21:15:17  2019-08-07  \n",
              "\n",
              "[240887 rows x 6 columns]"
            ],
            "text/html": [
              "\n",
              "  <div id=\"df-205f27b7-035a-4c66-a4bf-c3cb3ad58a84\">\n",
              "    <div class=\"colab-df-container\">\n",
              "      <div>\n",
              "<style scoped>\n",
              "    .dataframe tbody tr th:only-of-type {\n",
              "        vertical-align: middle;\n",
              "    }\n",
              "\n",
              "    .dataframe tbody tr th {\n",
              "        vertical-align: top;\n",
              "    }\n",
              "\n",
              "    .dataframe thead th {\n",
              "        text-align: right;\n",
              "    }\n",
              "</style>\n",
              "<table border=\"1\" class=\"dataframe\">\n",
              "  <thead>\n",
              "    <tr style=\"text-align: right;\">\n",
              "      <th></th>\n",
              "      <th>event_name</th>\n",
              "      <th>user_id</th>\n",
              "      <th>time_stamp</th>\n",
              "      <th>group</th>\n",
              "      <th>date_time</th>\n",
              "      <th>dates</th>\n",
              "    </tr>\n",
              "  </thead>\n",
              "  <tbody>\n",
              "    <tr>\n",
              "      <th>2826</th>\n",
              "      <td>tutorial</td>\n",
              "      <td>3737462046622621720</td>\n",
              "      <td>1564618048</td>\n",
              "      <td>A_1</td>\n",
              "      <td>2019-08-01 00:07:28</td>\n",
              "      <td>2019-08-01</td>\n",
              "    </tr>\n",
              "    <tr>\n",
              "      <th>2827</th>\n",
              "      <td>mainscreenappear</td>\n",
              "      <td>3737462046622621720</td>\n",
              "      <td>1564618080</td>\n",
              "      <td>A_1</td>\n",
              "      <td>2019-08-01 00:08:00</td>\n",
              "      <td>2019-08-01</td>\n",
              "    </tr>\n",
              "    <tr>\n",
              "      <th>2828</th>\n",
              "      <td>mainscreenappear</td>\n",
              "      <td>3737462046622621720</td>\n",
              "      <td>1564618135</td>\n",
              "      <td>A_1</td>\n",
              "      <td>2019-08-01 00:08:55</td>\n",
              "      <td>2019-08-01</td>\n",
              "    </tr>\n",
              "    <tr>\n",
              "      <th>2829</th>\n",
              "      <td>offersscreenappear</td>\n",
              "      <td>3737462046622621720</td>\n",
              "      <td>1564618138</td>\n",
              "      <td>A_1</td>\n",
              "      <td>2019-08-01 00:08:58</td>\n",
              "      <td>2019-08-01</td>\n",
              "    </tr>\n",
              "    <tr>\n",
              "      <th>2830</th>\n",
              "      <td>mainscreenappear</td>\n",
              "      <td>1433840883824088890</td>\n",
              "      <td>1564618139</td>\n",
              "      <td>A_2</td>\n",
              "      <td>2019-08-01 00:08:59</td>\n",
              "      <td>2019-08-01</td>\n",
              "    </tr>\n",
              "    <tr>\n",
              "      <th>...</th>\n",
              "      <td>...</td>\n",
              "      <td>...</td>\n",
              "      <td>...</td>\n",
              "      <td>...</td>\n",
              "      <td>...</td>\n",
              "      <td>...</td>\n",
              "    </tr>\n",
              "    <tr>\n",
              "      <th>243708</th>\n",
              "      <td>mainscreenappear</td>\n",
              "      <td>4599628364049201812</td>\n",
              "      <td>1565212345</td>\n",
              "      <td>A_2</td>\n",
              "      <td>2019-08-07 21:12:25</td>\n",
              "      <td>2019-08-07</td>\n",
              "    </tr>\n",
              "    <tr>\n",
              "      <th>243709</th>\n",
              "      <td>mainscreenappear</td>\n",
              "      <td>5849806612437486590</td>\n",
              "      <td>1565212439</td>\n",
              "      <td>A_1</td>\n",
              "      <td>2019-08-07 21:13:59</td>\n",
              "      <td>2019-08-07</td>\n",
              "    </tr>\n",
              "    <tr>\n",
              "      <th>243710</th>\n",
              "      <td>mainscreenappear</td>\n",
              "      <td>5746969938801999050</td>\n",
              "      <td>1565212483</td>\n",
              "      <td>A_1</td>\n",
              "      <td>2019-08-07 21:14:43</td>\n",
              "      <td>2019-08-07</td>\n",
              "    </tr>\n",
              "    <tr>\n",
              "      <th>243711</th>\n",
              "      <td>mainscreenappear</td>\n",
              "      <td>5746969938801999050</td>\n",
              "      <td>1565212498</td>\n",
              "      <td>A_1</td>\n",
              "      <td>2019-08-07 21:14:58</td>\n",
              "      <td>2019-08-07</td>\n",
              "    </tr>\n",
              "    <tr>\n",
              "      <th>243712</th>\n",
              "      <td>offersscreenappear</td>\n",
              "      <td>5746969938801999050</td>\n",
              "      <td>1565212517</td>\n",
              "      <td>A_1</td>\n",
              "      <td>2019-08-07 21:15:17</td>\n",
              "      <td>2019-08-07</td>\n",
              "    </tr>\n",
              "  </tbody>\n",
              "</table>\n",
              "<p>240887 rows × 6 columns</p>\n",
              "</div>\n",
              "      <button class=\"colab-df-convert\" onclick=\"convertToInteractive('df-205f27b7-035a-4c66-a4bf-c3cb3ad58a84')\"\n",
              "              title=\"Convert this dataframe to an interactive table.\"\n",
              "              style=\"display:none;\">\n",
              "        \n",
              "  <svg xmlns=\"http://www.w3.org/2000/svg\" height=\"24px\"viewBox=\"0 0 24 24\"\n",
              "       width=\"24px\">\n",
              "    <path d=\"M0 0h24v24H0V0z\" fill=\"none\"/>\n",
              "    <path d=\"M18.56 5.44l.94 2.06.94-2.06 2.06-.94-2.06-.94-.94-2.06-.94 2.06-2.06.94zm-11 1L8.5 8.5l.94-2.06 2.06-.94-2.06-.94L8.5 2.5l-.94 2.06-2.06.94zm10 10l.94 2.06.94-2.06 2.06-.94-2.06-.94-.94-2.06-.94 2.06-2.06.94z\"/><path d=\"M17.41 7.96l-1.37-1.37c-.4-.4-.92-.59-1.43-.59-.52 0-1.04.2-1.43.59L10.3 9.45l-7.72 7.72c-.78.78-.78 2.05 0 2.83L4 21.41c.39.39.9.59 1.41.59.51 0 1.02-.2 1.41-.59l7.78-7.78 2.81-2.81c.8-.78.8-2.07 0-2.86zM5.41 20L4 18.59l7.72-7.72 1.47 1.35L5.41 20z\"/>\n",
              "  </svg>\n",
              "      </button>\n",
              "      \n",
              "  <style>\n",
              "    .colab-df-container {\n",
              "      display:flex;\n",
              "      flex-wrap:wrap;\n",
              "      gap: 12px;\n",
              "    }\n",
              "\n",
              "    .colab-df-convert {\n",
              "      background-color: #E8F0FE;\n",
              "      border: none;\n",
              "      border-radius: 50%;\n",
              "      cursor: pointer;\n",
              "      display: none;\n",
              "      fill: #1967D2;\n",
              "      height: 32px;\n",
              "      padding: 0 0 0 0;\n",
              "      width: 32px;\n",
              "    }\n",
              "\n",
              "    .colab-df-convert:hover {\n",
              "      background-color: #E2EBFA;\n",
              "      box-shadow: 0px 1px 2px rgba(60, 64, 67, 0.3), 0px 1px 3px 1px rgba(60, 64, 67, 0.15);\n",
              "      fill: #174EA6;\n",
              "    }\n",
              "\n",
              "    [theme=dark] .colab-df-convert {\n",
              "      background-color: #3B4455;\n",
              "      fill: #D2E3FC;\n",
              "    }\n",
              "\n",
              "    [theme=dark] .colab-df-convert:hover {\n",
              "      background-color: #434B5C;\n",
              "      box-shadow: 0px 1px 3px 1px rgba(0, 0, 0, 0.15);\n",
              "      filter: drop-shadow(0px 1px 2px rgba(0, 0, 0, 0.3));\n",
              "      fill: #FFFFFF;\n",
              "    }\n",
              "  </style>\n",
              "\n",
              "      <script>\n",
              "        const buttonEl =\n",
              "          document.querySelector('#df-205f27b7-035a-4c66-a4bf-c3cb3ad58a84 button.colab-df-convert');\n",
              "        buttonEl.style.display =\n",
              "          google.colab.kernel.accessAllowed ? 'block' : 'none';\n",
              "\n",
              "        async function convertToInteractive(key) {\n",
              "          const element = document.querySelector('#df-205f27b7-035a-4c66-a4bf-c3cb3ad58a84');\n",
              "          const dataTable =\n",
              "            await google.colab.kernel.invokeFunction('convertToInteractive',\n",
              "                                                     [key], {});\n",
              "          if (!dataTable) return;\n",
              "\n",
              "          const docLinkHtml = 'Like what you see? Visit the ' +\n",
              "            '<a target=\"_blank\" href=https://colab.research.google.com/notebooks/data_table.ipynb>data table notebook</a>'\n",
              "            + ' to learn more about interactive tables.';\n",
              "          element.innerHTML = '';\n",
              "          dataTable['output_type'] = 'display_data';\n",
              "          await google.colab.output.renderOutput(dataTable, element);\n",
              "          const docLink = document.createElement('div');\n",
              "          docLink.innerHTML = docLinkHtml;\n",
              "          element.appendChild(docLink);\n",
              "        }\n",
              "      </script>\n",
              "    </div>\n",
              "  </div>\n",
              "  "
            ]
          },
          "metadata": {},
          "execution_count": 18
        }
      ],
      "source": [
        "# Отфильтруем датасет по дате.\n",
        "df = df[df.dates > date(2019, 7, 31)].copy()\n",
        "df"
      ]
    },
    {
      "cell_type": "code",
      "execution_count": 19,
      "metadata": {
        "colab": {
          "base_uri": "https://localhost:8080/"
        },
        "id": "5BWfsH9ysE2b",
        "outputId": "c55c2d05-fe00-4de2-f782-e60b589f3950"
      },
      "outputs": [
        {
          "output_type": "stream",
          "name": "stdout",
          "text": [
            "Потеренное количество событий: 1.16%\n",
            "Потеренное количество уникальных пользователей: 0.23%\n",
            "Среднее количество событий одного пользователя: 31.97\n"
          ]
        }
      ],
      "source": [
        "print('Потеренное количество событий: {0:.2%}'.format((event-(df['event_name']. count()))/event))\n",
        "print('Потеренное количество уникальных пользователей: {0:.2%}'.format((users-(df['user_id'].nunique()))/users))\n",
        "print('Среднее количество событий одного пользователя: {0:.2f}'.format(df['event_name']. count()/df['user_id'].nunique()))"
      ]
    },
    {
      "cell_type": "markdown",
      "metadata": {
        "id": "Pxo18Xvv6EuT"
      },
      "source": [
        "После фильтрации мы потеряли 1,16% событий и 0,23% пользователей, среднее количество событий на одного пользователя практтически не изменилось."
      ]
    },
    {
      "cell_type": "code",
      "execution_count": 20,
      "metadata": {
        "scrolled": true,
        "colab": {
          "base_uri": "https://localhost:8080/"
        },
        "id": "LhZ6EnSpVNjU",
        "outputId": "7ba060c3-26c5-44e1-c4c3-bc5bbe31a6e8"
      },
      "outputs": [
        {
          "output_type": "execute_result",
          "data": {
            "text/plain": [
              "group\n",
              "A_1    2484\n",
              "A_2    2513\n",
              "B      2537\n",
              "Name: user_id, dtype: int64"
            ]
          },
          "metadata": {},
          "execution_count": 20
        }
      ],
      "source": [
        "# Проверим количестов пользователей по группам эксперимента.\n",
        "df.groupby('group')['user_id'].nunique()"
      ]
    },
    {
      "cell_type": "markdown",
      "metadata": {
        "id": "Dih4TmfI6og5"
      },
      "source": [
        "Пользователи есть во всех группах эксперимента. "
      ]
    },
    {
      "cell_type": "markdown",
      "metadata": {
        "id": "FSDiFdaC6iKY"
      },
      "source": [
        "## Изучим воронку событий"
      ]
    },
    {
      "cell_type": "code",
      "execution_count": 21,
      "metadata": {
        "scrolled": true,
        "colab": {
          "base_uri": "https://localhost:8080/",
          "height": 206
        },
        "id": "5T8j_SqZVNjf",
        "outputId": "9f7d6156-338b-49a6-c499-4002d5f1959b"
      },
      "outputs": [
        {
          "output_type": "execute_result",
          "data": {
            "text/plain": [
              "                event_name  event_count  user_count  share\n",
              "1         mainscreenappear       117328        7419  98.47\n",
              "2       offersscreenappear        46333        4593  60.96\n",
              "0         cartscreenappear        42303        3734  49.56\n",
              "3  paymentscreensuccessful        33918        3539  46.97\n",
              "4                 tutorial         1005         840  11.15"
            ],
            "text/html": [
              "\n",
              "  <div id=\"df-05b7057f-f329-49b2-a042-7f510938d055\">\n",
              "    <div class=\"colab-df-container\">\n",
              "      <div>\n",
              "<style scoped>\n",
              "    .dataframe tbody tr th:only-of-type {\n",
              "        vertical-align: middle;\n",
              "    }\n",
              "\n",
              "    .dataframe tbody tr th {\n",
              "        vertical-align: top;\n",
              "    }\n",
              "\n",
              "    .dataframe thead th {\n",
              "        text-align: right;\n",
              "    }\n",
              "</style>\n",
              "<table border=\"1\" class=\"dataframe\">\n",
              "  <thead>\n",
              "    <tr style=\"text-align: right;\">\n",
              "      <th></th>\n",
              "      <th>event_name</th>\n",
              "      <th>event_count</th>\n",
              "      <th>user_count</th>\n",
              "      <th>share</th>\n",
              "    </tr>\n",
              "  </thead>\n",
              "  <tbody>\n",
              "    <tr>\n",
              "      <th>1</th>\n",
              "      <td>mainscreenappear</td>\n",
              "      <td>117328</td>\n",
              "      <td>7419</td>\n",
              "      <td>98.47</td>\n",
              "    </tr>\n",
              "    <tr>\n",
              "      <th>2</th>\n",
              "      <td>offersscreenappear</td>\n",
              "      <td>46333</td>\n",
              "      <td>4593</td>\n",
              "      <td>60.96</td>\n",
              "    </tr>\n",
              "    <tr>\n",
              "      <th>0</th>\n",
              "      <td>cartscreenappear</td>\n",
              "      <td>42303</td>\n",
              "      <td>3734</td>\n",
              "      <td>49.56</td>\n",
              "    </tr>\n",
              "    <tr>\n",
              "      <th>3</th>\n",
              "      <td>paymentscreensuccessful</td>\n",
              "      <td>33918</td>\n",
              "      <td>3539</td>\n",
              "      <td>46.97</td>\n",
              "    </tr>\n",
              "    <tr>\n",
              "      <th>4</th>\n",
              "      <td>tutorial</td>\n",
              "      <td>1005</td>\n",
              "      <td>840</td>\n",
              "      <td>11.15</td>\n",
              "    </tr>\n",
              "  </tbody>\n",
              "</table>\n",
              "</div>\n",
              "      <button class=\"colab-df-convert\" onclick=\"convertToInteractive('df-05b7057f-f329-49b2-a042-7f510938d055')\"\n",
              "              title=\"Convert this dataframe to an interactive table.\"\n",
              "              style=\"display:none;\">\n",
              "        \n",
              "  <svg xmlns=\"http://www.w3.org/2000/svg\" height=\"24px\"viewBox=\"0 0 24 24\"\n",
              "       width=\"24px\">\n",
              "    <path d=\"M0 0h24v24H0V0z\" fill=\"none\"/>\n",
              "    <path d=\"M18.56 5.44l.94 2.06.94-2.06 2.06-.94-2.06-.94-.94-2.06-.94 2.06-2.06.94zm-11 1L8.5 8.5l.94-2.06 2.06-.94-2.06-.94L8.5 2.5l-.94 2.06-2.06.94zm10 10l.94 2.06.94-2.06 2.06-.94-2.06-.94-.94-2.06-.94 2.06-2.06.94z\"/><path d=\"M17.41 7.96l-1.37-1.37c-.4-.4-.92-.59-1.43-.59-.52 0-1.04.2-1.43.59L10.3 9.45l-7.72 7.72c-.78.78-.78 2.05 0 2.83L4 21.41c.39.39.9.59 1.41.59.51 0 1.02-.2 1.41-.59l7.78-7.78 2.81-2.81c.8-.78.8-2.07 0-2.86zM5.41 20L4 18.59l7.72-7.72 1.47 1.35L5.41 20z\"/>\n",
              "  </svg>\n",
              "      </button>\n",
              "      \n",
              "  <style>\n",
              "    .colab-df-container {\n",
              "      display:flex;\n",
              "      flex-wrap:wrap;\n",
              "      gap: 12px;\n",
              "    }\n",
              "\n",
              "    .colab-df-convert {\n",
              "      background-color: #E8F0FE;\n",
              "      border: none;\n",
              "      border-radius: 50%;\n",
              "      cursor: pointer;\n",
              "      display: none;\n",
              "      fill: #1967D2;\n",
              "      height: 32px;\n",
              "      padding: 0 0 0 0;\n",
              "      width: 32px;\n",
              "    }\n",
              "\n",
              "    .colab-df-convert:hover {\n",
              "      background-color: #E2EBFA;\n",
              "      box-shadow: 0px 1px 2px rgba(60, 64, 67, 0.3), 0px 1px 3px 1px rgba(60, 64, 67, 0.15);\n",
              "      fill: #174EA6;\n",
              "    }\n",
              "\n",
              "    [theme=dark] .colab-df-convert {\n",
              "      background-color: #3B4455;\n",
              "      fill: #D2E3FC;\n",
              "    }\n",
              "\n",
              "    [theme=dark] .colab-df-convert:hover {\n",
              "      background-color: #434B5C;\n",
              "      box-shadow: 0px 1px 3px 1px rgba(0, 0, 0, 0.15);\n",
              "      filter: drop-shadow(0px 1px 2px rgba(0, 0, 0, 0.3));\n",
              "      fill: #FFFFFF;\n",
              "    }\n",
              "  </style>\n",
              "\n",
              "      <script>\n",
              "        const buttonEl =\n",
              "          document.querySelector('#df-05b7057f-f329-49b2-a042-7f510938d055 button.colab-df-convert');\n",
              "        buttonEl.style.display =\n",
              "          google.colab.kernel.accessAllowed ? 'block' : 'none';\n",
              "\n",
              "        async function convertToInteractive(key) {\n",
              "          const element = document.querySelector('#df-05b7057f-f329-49b2-a042-7f510938d055');\n",
              "          const dataTable =\n",
              "            await google.colab.kernel.invokeFunction('convertToInteractive',\n",
              "                                                     [key], {});\n",
              "          if (!dataTable) return;\n",
              "\n",
              "          const docLinkHtml = 'Like what you see? Visit the ' +\n",
              "            '<a target=\"_blank\" href=https://colab.research.google.com/notebooks/data_table.ipynb>data table notebook</a>'\n",
              "            + ' to learn more about interactive tables.';\n",
              "          element.innerHTML = '';\n",
              "          dataTable['output_type'] = 'display_data';\n",
              "          await google.colab.output.renderOutput(dataTable, element);\n",
              "          const docLink = document.createElement('div');\n",
              "          docLink.innerHTML = docLinkHtml;\n",
              "          element.appendChild(docLink);\n",
              "        }\n",
              "      </script>\n",
              "    </div>\n",
              "  </div>\n",
              "  "
            ]
          },
          "metadata": {},
          "execution_count": 21
        }
      ],
      "source": [
        "# Сгруппируем датасет по событиям, посчитаем количество каждого вида событий, количество уникальных пользователей для каждого вида событий\n",
        "# и долю пользователей каждого уровня воронки и сохраним в переменную event_user\n",
        "user_total = df['user_id'].nunique() # найдем количество уникальных пользователей\n",
        "event_user = df.groupby('event_name').agg({'user_id':['count', 'nunique']}).reset_index()\n",
        "event_user.columns=['event_name', 'event_count', 'user_count']\n",
        "event_user=event_user.sort_values(by='event_count', ascending=False)\n",
        "event_user['share'] = (event_user['user_count']/user_total)*100\n",
        "event_user\n"
      ]
    },
    {
      "cell_type": "markdown",
      "metadata": {
        "id": "kzu4MWZHa__J"
      },
      "source": [
        "События происходят в следующем порядке:\n",
        "\n",
        "* mainscreenappear - Главный экран  \n",
        "* tutorial - обучение (по желанию)  \n",
        "* offersscreenappear - Экран с товаром  \n",
        "* cartscreenappear - Переход в корзину  \n",
        "* paymentscreensuccessful\t - Экран успешной оплаты заказа  \n",
        "\n",
        "Этап Tutorial тут лишний, так как обязательным не является и не влияет на то, дойдет ли пользователь до финальной покупки или нет. Так же событий этого типа слишком мало для анализа по сравнению с другими. Уберем этат этап из нашего анализа."
      ]
    },
    {
      "cell_type": "code",
      "source": [
        "# исключим из переменной event_user обучение\n",
        "event_user = event_user[event_user['event_name']!='tutorial']"
      ],
      "metadata": {
        "id": "96VWFzTkZ18a"
      },
      "execution_count": 22,
      "outputs": []
    },
    {
      "cell_type": "code",
      "execution_count": 23,
      "metadata": {
        "id": "FNqEsRRJlhY1"
      },
      "outputs": [],
      "source": [
        "# исключим из датасета df обучение и сохраним в переменной df_full\n",
        "df_full = df[df['event_name']!='tutorial']"
      ]
    },
    {
      "cell_type": "code",
      "execution_count": 24,
      "metadata": {
        "colab": {
          "base_uri": "https://localhost:8080/",
          "height": 542
        },
        "id": "HyMVZ5vXVNkd",
        "outputId": "bb7bb360-0432-4ae3-ad4d-4c6923fdf956"
      },
      "outputs": [
        {
          "output_type": "display_data",
          "data": {
            "text/html": [
              "<html>\n",
              "<head><meta charset=\"utf-8\" /></head>\n",
              "<body>\n",
              "    <div>            <script src=\"https://cdnjs.cloudflare.com/ajax/libs/mathjax/2.7.5/MathJax.js?config=TeX-AMS-MML_SVG\"></script><script type=\"text/javascript\">if (window.MathJax) {MathJax.Hub.Config({SVG: {font: \"STIX-Web\"}});}</script>                <script type=\"text/javascript\">window.PlotlyConfig = {MathJaxConfig: 'local'};</script>\n",
              "        <script src=\"https://cdn.plot.ly/plotly-2.8.3.min.js\"></script>                <div id=\"a25370a2-f7cd-4c31-9428-9a7708dc1088\" class=\"plotly-graph-div\" style=\"height:525px; width:100%;\"></div>            <script type=\"text/javascript\">                                    window.PLOTLYENV=window.PLOTLYENV || {};                                    if (document.getElementById(\"a25370a2-f7cd-4c31-9428-9a7708dc1088\")) {                    Plotly.newPlot(                        \"a25370a2-f7cd-4c31-9428-9a7708dc1088\",                        [{\"textinfo\":\"value+percent previous+percent initial\",\"textposition\":\"inside\",\"x\":[7534,7419,4593,3734,3539],\"y\":[\"\\u041f\\u043e\\u043b\\u044c\\u0437\\u043e\\u0432\\u0430\\u0442\\u0435\\u043b\\u0435\\u0439 \\u0432\\u0441\\u0435\\u0433\\u043e\",\" \\u0413\\u043b\\u0430\\u0432\\u043d\\u044b\\u0439 \\u044d\\u043a\\u0440\\u0430\\u043d\",\"\\u042d\\u043a\\u0440\\u0430\\u043d \\u0441 \\u0442\\u043e\\u0432\\u0430\\u0440\\u043e\\u043c\",\"\\u041f\\u0435\\u0440\\u0435\\u0445\\u043e\\u0434 \\u0432 \\u043a\\u043e\\u0440\\u0437\\u0438\\u043d\\u0443\",\"\\u042d\\u043a\\u0440\\u0430\\u043d \\u0443\\u0441\\u043f\\u0435\\u0448\\u043d\\u043e\\u0439 \\u043e\\u043f\\u043b\\u0430\\u0442\\u044b \\u0437\\u0430\\u043a\\u0430\\u0437\\u0430\"],\"type\":\"funnel\"}],                        {\"template\":{\"data\":{\"bar\":[{\"error_x\":{\"color\":\"#2a3f5f\"},\"error_y\":{\"color\":\"#2a3f5f\"},\"marker\":{\"line\":{\"color\":\"#E5ECF6\",\"width\":0.5},\"pattern\":{\"fillmode\":\"overlay\",\"size\":10,\"solidity\":0.2}},\"type\":\"bar\"}],\"barpolar\":[{\"marker\":{\"line\":{\"color\":\"#E5ECF6\",\"width\":0.5},\"pattern\":{\"fillmode\":\"overlay\",\"size\":10,\"solidity\":0.2}},\"type\":\"barpolar\"}],\"carpet\":[{\"aaxis\":{\"endlinecolor\":\"#2a3f5f\",\"gridcolor\":\"white\",\"linecolor\":\"white\",\"minorgridcolor\":\"white\",\"startlinecolor\":\"#2a3f5f\"},\"baxis\":{\"endlinecolor\":\"#2a3f5f\",\"gridcolor\":\"white\",\"linecolor\":\"white\",\"minorgridcolor\":\"white\",\"startlinecolor\":\"#2a3f5f\"},\"type\":\"carpet\"}],\"choropleth\":[{\"colorbar\":{\"outlinewidth\":0,\"ticks\":\"\"},\"type\":\"choropleth\"}],\"contour\":[{\"colorbar\":{\"outlinewidth\":0,\"ticks\":\"\"},\"colorscale\":[[0.0,\"#0d0887\"],[0.1111111111111111,\"#46039f\"],[0.2222222222222222,\"#7201a8\"],[0.3333333333333333,\"#9c179e\"],[0.4444444444444444,\"#bd3786\"],[0.5555555555555556,\"#d8576b\"],[0.6666666666666666,\"#ed7953\"],[0.7777777777777778,\"#fb9f3a\"],[0.8888888888888888,\"#fdca26\"],[1.0,\"#f0f921\"]],\"type\":\"contour\"}],\"contourcarpet\":[{\"colorbar\":{\"outlinewidth\":0,\"ticks\":\"\"},\"type\":\"contourcarpet\"}],\"heatmap\":[{\"colorbar\":{\"outlinewidth\":0,\"ticks\":\"\"},\"colorscale\":[[0.0,\"#0d0887\"],[0.1111111111111111,\"#46039f\"],[0.2222222222222222,\"#7201a8\"],[0.3333333333333333,\"#9c179e\"],[0.4444444444444444,\"#bd3786\"],[0.5555555555555556,\"#d8576b\"],[0.6666666666666666,\"#ed7953\"],[0.7777777777777778,\"#fb9f3a\"],[0.8888888888888888,\"#fdca26\"],[1.0,\"#f0f921\"]],\"type\":\"heatmap\"}],\"heatmapgl\":[{\"colorbar\":{\"outlinewidth\":0,\"ticks\":\"\"},\"colorscale\":[[0.0,\"#0d0887\"],[0.1111111111111111,\"#46039f\"],[0.2222222222222222,\"#7201a8\"],[0.3333333333333333,\"#9c179e\"],[0.4444444444444444,\"#bd3786\"],[0.5555555555555556,\"#d8576b\"],[0.6666666666666666,\"#ed7953\"],[0.7777777777777778,\"#fb9f3a\"],[0.8888888888888888,\"#fdca26\"],[1.0,\"#f0f921\"]],\"type\":\"heatmapgl\"}],\"histogram\":[{\"marker\":{\"pattern\":{\"fillmode\":\"overlay\",\"size\":10,\"solidity\":0.2}},\"type\":\"histogram\"}],\"histogram2d\":[{\"colorbar\":{\"outlinewidth\":0,\"ticks\":\"\"},\"colorscale\":[[0.0,\"#0d0887\"],[0.1111111111111111,\"#46039f\"],[0.2222222222222222,\"#7201a8\"],[0.3333333333333333,\"#9c179e\"],[0.4444444444444444,\"#bd3786\"],[0.5555555555555556,\"#d8576b\"],[0.6666666666666666,\"#ed7953\"],[0.7777777777777778,\"#fb9f3a\"],[0.8888888888888888,\"#fdca26\"],[1.0,\"#f0f921\"]],\"type\":\"histogram2d\"}],\"histogram2dcontour\":[{\"colorbar\":{\"outlinewidth\":0,\"ticks\":\"\"},\"colorscale\":[[0.0,\"#0d0887\"],[0.1111111111111111,\"#46039f\"],[0.2222222222222222,\"#7201a8\"],[0.3333333333333333,\"#9c179e\"],[0.4444444444444444,\"#bd3786\"],[0.5555555555555556,\"#d8576b\"],[0.6666666666666666,\"#ed7953\"],[0.7777777777777778,\"#fb9f3a\"],[0.8888888888888888,\"#fdca26\"],[1.0,\"#f0f921\"]],\"type\":\"histogram2dcontour\"}],\"mesh3d\":[{\"colorbar\":{\"outlinewidth\":0,\"ticks\":\"\"},\"type\":\"mesh3d\"}],\"parcoords\":[{\"line\":{\"colorbar\":{\"outlinewidth\":0,\"ticks\":\"\"}},\"type\":\"parcoords\"}],\"pie\":[{\"automargin\":true,\"type\":\"pie\"}],\"scatter\":[{\"marker\":{\"colorbar\":{\"outlinewidth\":0,\"ticks\":\"\"}},\"type\":\"scatter\"}],\"scatter3d\":[{\"line\":{\"colorbar\":{\"outlinewidth\":0,\"ticks\":\"\"}},\"marker\":{\"colorbar\":{\"outlinewidth\":0,\"ticks\":\"\"}},\"type\":\"scatter3d\"}],\"scattercarpet\":[{\"marker\":{\"colorbar\":{\"outlinewidth\":0,\"ticks\":\"\"}},\"type\":\"scattercarpet\"}],\"scattergeo\":[{\"marker\":{\"colorbar\":{\"outlinewidth\":0,\"ticks\":\"\"}},\"type\":\"scattergeo\"}],\"scattergl\":[{\"marker\":{\"colorbar\":{\"outlinewidth\":0,\"ticks\":\"\"}},\"type\":\"scattergl\"}],\"scattermapbox\":[{\"marker\":{\"colorbar\":{\"outlinewidth\":0,\"ticks\":\"\"}},\"type\":\"scattermapbox\"}],\"scatterpolar\":[{\"marker\":{\"colorbar\":{\"outlinewidth\":0,\"ticks\":\"\"}},\"type\":\"scatterpolar\"}],\"scatterpolargl\":[{\"marker\":{\"colorbar\":{\"outlinewidth\":0,\"ticks\":\"\"}},\"type\":\"scatterpolargl\"}],\"scatterternary\":[{\"marker\":{\"colorbar\":{\"outlinewidth\":0,\"ticks\":\"\"}},\"type\":\"scatterternary\"}],\"surface\":[{\"colorbar\":{\"outlinewidth\":0,\"ticks\":\"\"},\"colorscale\":[[0.0,\"#0d0887\"],[0.1111111111111111,\"#46039f\"],[0.2222222222222222,\"#7201a8\"],[0.3333333333333333,\"#9c179e\"],[0.4444444444444444,\"#bd3786\"],[0.5555555555555556,\"#d8576b\"],[0.6666666666666666,\"#ed7953\"],[0.7777777777777778,\"#fb9f3a\"],[0.8888888888888888,\"#fdca26\"],[1.0,\"#f0f921\"]],\"type\":\"surface\"}],\"table\":[{\"cells\":{\"fill\":{\"color\":\"#EBF0F8\"},\"line\":{\"color\":\"white\"}},\"header\":{\"fill\":{\"color\":\"#C8D4E3\"},\"line\":{\"color\":\"white\"}},\"type\":\"table\"}]},\"layout\":{\"annotationdefaults\":{\"arrowcolor\":\"#2a3f5f\",\"arrowhead\":0,\"arrowwidth\":1},\"autotypenumbers\":\"strict\",\"coloraxis\":{\"colorbar\":{\"outlinewidth\":0,\"ticks\":\"\"}},\"colorscale\":{\"diverging\":[[0,\"#8e0152\"],[0.1,\"#c51b7d\"],[0.2,\"#de77ae\"],[0.3,\"#f1b6da\"],[0.4,\"#fde0ef\"],[0.5,\"#f7f7f7\"],[0.6,\"#e6f5d0\"],[0.7,\"#b8e186\"],[0.8,\"#7fbc41\"],[0.9,\"#4d9221\"],[1,\"#276419\"]],\"sequential\":[[0.0,\"#0d0887\"],[0.1111111111111111,\"#46039f\"],[0.2222222222222222,\"#7201a8\"],[0.3333333333333333,\"#9c179e\"],[0.4444444444444444,\"#bd3786\"],[0.5555555555555556,\"#d8576b\"],[0.6666666666666666,\"#ed7953\"],[0.7777777777777778,\"#fb9f3a\"],[0.8888888888888888,\"#fdca26\"],[1.0,\"#f0f921\"]],\"sequentialminus\":[[0.0,\"#0d0887\"],[0.1111111111111111,\"#46039f\"],[0.2222222222222222,\"#7201a8\"],[0.3333333333333333,\"#9c179e\"],[0.4444444444444444,\"#bd3786\"],[0.5555555555555556,\"#d8576b\"],[0.6666666666666666,\"#ed7953\"],[0.7777777777777778,\"#fb9f3a\"],[0.8888888888888888,\"#fdca26\"],[1.0,\"#f0f921\"]]},\"colorway\":[\"#636efa\",\"#EF553B\",\"#00cc96\",\"#ab63fa\",\"#FFA15A\",\"#19d3f3\",\"#FF6692\",\"#B6E880\",\"#FF97FF\",\"#FECB52\"],\"font\":{\"color\":\"#2a3f5f\"},\"geo\":{\"bgcolor\":\"white\",\"lakecolor\":\"white\",\"landcolor\":\"#E5ECF6\",\"showlakes\":true,\"showland\":true,\"subunitcolor\":\"white\"},\"hoverlabel\":{\"align\":\"left\"},\"hovermode\":\"closest\",\"mapbox\":{\"style\":\"light\"},\"paper_bgcolor\":\"white\",\"plot_bgcolor\":\"#E5ECF6\",\"polar\":{\"angularaxis\":{\"gridcolor\":\"white\",\"linecolor\":\"white\",\"ticks\":\"\"},\"bgcolor\":\"#E5ECF6\",\"radialaxis\":{\"gridcolor\":\"white\",\"linecolor\":\"white\",\"ticks\":\"\"}},\"scene\":{\"xaxis\":{\"backgroundcolor\":\"#E5ECF6\",\"gridcolor\":\"white\",\"gridwidth\":2,\"linecolor\":\"white\",\"showbackground\":true,\"ticks\":\"\",\"zerolinecolor\":\"white\"},\"yaxis\":{\"backgroundcolor\":\"#E5ECF6\",\"gridcolor\":\"white\",\"gridwidth\":2,\"linecolor\":\"white\",\"showbackground\":true,\"ticks\":\"\",\"zerolinecolor\":\"white\"},\"zaxis\":{\"backgroundcolor\":\"#E5ECF6\",\"gridcolor\":\"white\",\"gridwidth\":2,\"linecolor\":\"white\",\"showbackground\":true,\"ticks\":\"\",\"zerolinecolor\":\"white\"}},\"shapedefaults\":{\"line\":{\"color\":\"#2a3f5f\"}},\"ternary\":{\"aaxis\":{\"gridcolor\":\"white\",\"linecolor\":\"white\",\"ticks\":\"\"},\"baxis\":{\"gridcolor\":\"white\",\"linecolor\":\"white\",\"ticks\":\"\"},\"bgcolor\":\"#E5ECF6\",\"caxis\":{\"gridcolor\":\"white\",\"linecolor\":\"white\",\"ticks\":\"\"}},\"title\":{\"x\":0.05},\"xaxis\":{\"automargin\":true,\"gridcolor\":\"white\",\"linecolor\":\"white\",\"ticks\":\"\",\"title\":{\"standoff\":15},\"zerolinecolor\":\"white\",\"zerolinewidth\":2},\"yaxis\":{\"automargin\":true,\"gridcolor\":\"white\",\"linecolor\":\"white\",\"ticks\":\"\",\"title\":{\"standoff\":15},\"zerolinecolor\":\"white\",\"zerolinewidth\":2}}},\"title\":{\"text\":\"\\u0412\\u043e\\u0440\\u043e\\u043d\\u043a\\u0430 \\u043f\\u0440\\u043e\\u0434\\u0430\\u0436\",\"y\":0.9,\"x\":0.5,\"xanchor\":\"center\",\"yanchor\":\"top\"}},                        {\"responsive\": true}                    ).then(function(){\n",
              "                            \n",
              "var gd = document.getElementById('a25370a2-f7cd-4c31-9428-9a7708dc1088');\n",
              "var x = new MutationObserver(function (mutations, observer) {{\n",
              "        var display = window.getComputedStyle(gd).display;\n",
              "        if (!display || display === 'none') {{\n",
              "            console.log([gd, 'removed!']);\n",
              "            Plotly.purge(gd);\n",
              "            observer.disconnect();\n",
              "        }}\n",
              "}});\n",
              "\n",
              "// Listen for the removal of the full notebook cells\n",
              "var notebookContainer = gd.closest('#notebook-container');\n",
              "if (notebookContainer) {{\n",
              "    x.observe(notebookContainer, {childList: true});\n",
              "}}\n",
              "\n",
              "// Listen for the clearing of the current output cell\n",
              "var outputEl = gd.closest('.output');\n",
              "if (outputEl) {{\n",
              "    x.observe(outputEl, {childList: true});\n",
              "}}\n",
              "\n",
              "                        })                };                            </script>        </div>\n",
              "</body>\n",
              "</html>"
            ]
          },
          "metadata": {}
        }
      ],
      "source": [
        "# Построим воронку продаж\n",
        "user_1=list(event_user['user_count'])\n",
        "user_1.insert(0, user_total)\n",
        "fig_1 = go.Figure(\n",
        "    go.Funnel(\n",
        "        y=['Пользователей всего', ' Главный экран', 'Экран с товаром', 'Переход в корзину', 'Экран успешной оплаты заказа'],\n",
        "        x=user_1,\n",
        "        textposition = \"inside\",\n",
        "        textinfo = \"value+percent previous+percent initial\",\n",
        "    )\n",
        ")\n",
        "fig_1.update_layout(title={\n",
        "        'text': \"Воронка продаж\",\n",
        "        'y':0.9,\n",
        "        'x':0.5,\n",
        "        'xanchor': 'center',\n",
        "        'yanchor': 'top'})\n",
        "fig_1.show() "
      ]
    },
    {
      "cell_type": "markdown",
      "metadata": {
        "id": "-tGUTR79khC3"
      },
      "source": [
        "Больше всего пользователей теряется во время перехода с главного экрана на экран товара, т.е. 38% пользователей не заинтересовались нашим предложением.  \n",
        "Только 48% пользователей видят экран успешной оплаты.\n",
        "Воронка продаж не строгая. Некоторые пользователи оплачивали товар минуя все предыдущие уровни воронки. "
      ]
    },
    {
      "cell_type": "markdown",
      "metadata": {
        "id": "JDhwVhZJlQUY"
      },
      "source": [
        "## Изучим результаты эксперимента"
      ]
    },
    {
      "cell_type": "code",
      "execution_count": 25,
      "metadata": {
        "colab": {
          "base_uri": "https://localhost:8080/",
          "height": 143
        },
        "id": "6kw5jHpoB8Ib",
        "outputId": "fbf565f0-eb20-4975-dfed-9b56b4e88841"
      },
      "outputs": [
        {
          "output_type": "execute_result",
          "data": {
            "text/plain": [
              "  group  event_count  user_count\n",
              "2     B        84213        2535\n",
              "0   A_1        78985        2483\n",
              "1   A_2        76684        2512"
            ],
            "text/html": [
              "\n",
              "  <div id=\"df-22bcdd91-89e5-43d1-85a7-1b790e8c01f4\">\n",
              "    <div class=\"colab-df-container\">\n",
              "      <div>\n",
              "<style scoped>\n",
              "    .dataframe tbody tr th:only-of-type {\n",
              "        vertical-align: middle;\n",
              "    }\n",
              "\n",
              "    .dataframe tbody tr th {\n",
              "        vertical-align: top;\n",
              "    }\n",
              "\n",
              "    .dataframe thead th {\n",
              "        text-align: right;\n",
              "    }\n",
              "</style>\n",
              "<table border=\"1\" class=\"dataframe\">\n",
              "  <thead>\n",
              "    <tr style=\"text-align: right;\">\n",
              "      <th></th>\n",
              "      <th>group</th>\n",
              "      <th>event_count</th>\n",
              "      <th>user_count</th>\n",
              "    </tr>\n",
              "  </thead>\n",
              "  <tbody>\n",
              "    <tr>\n",
              "      <th>2</th>\n",
              "      <td>B</td>\n",
              "      <td>84213</td>\n",
              "      <td>2535</td>\n",
              "    </tr>\n",
              "    <tr>\n",
              "      <th>0</th>\n",
              "      <td>A_1</td>\n",
              "      <td>78985</td>\n",
              "      <td>2483</td>\n",
              "    </tr>\n",
              "    <tr>\n",
              "      <th>1</th>\n",
              "      <td>A_2</td>\n",
              "      <td>76684</td>\n",
              "      <td>2512</td>\n",
              "    </tr>\n",
              "  </tbody>\n",
              "</table>\n",
              "</div>\n",
              "      <button class=\"colab-df-convert\" onclick=\"convertToInteractive('df-22bcdd91-89e5-43d1-85a7-1b790e8c01f4')\"\n",
              "              title=\"Convert this dataframe to an interactive table.\"\n",
              "              style=\"display:none;\">\n",
              "        \n",
              "  <svg xmlns=\"http://www.w3.org/2000/svg\" height=\"24px\"viewBox=\"0 0 24 24\"\n",
              "       width=\"24px\">\n",
              "    <path d=\"M0 0h24v24H0V0z\" fill=\"none\"/>\n",
              "    <path d=\"M18.56 5.44l.94 2.06.94-2.06 2.06-.94-2.06-.94-.94-2.06-.94 2.06-2.06.94zm-11 1L8.5 8.5l.94-2.06 2.06-.94-2.06-.94L8.5 2.5l-.94 2.06-2.06.94zm10 10l.94 2.06.94-2.06 2.06-.94-2.06-.94-.94-2.06-.94 2.06-2.06.94z\"/><path d=\"M17.41 7.96l-1.37-1.37c-.4-.4-.92-.59-1.43-.59-.52 0-1.04.2-1.43.59L10.3 9.45l-7.72 7.72c-.78.78-.78 2.05 0 2.83L4 21.41c.39.39.9.59 1.41.59.51 0 1.02-.2 1.41-.59l7.78-7.78 2.81-2.81c.8-.78.8-2.07 0-2.86zM5.41 20L4 18.59l7.72-7.72 1.47 1.35L5.41 20z\"/>\n",
              "  </svg>\n",
              "      </button>\n",
              "      \n",
              "  <style>\n",
              "    .colab-df-container {\n",
              "      display:flex;\n",
              "      flex-wrap:wrap;\n",
              "      gap: 12px;\n",
              "    }\n",
              "\n",
              "    .colab-df-convert {\n",
              "      background-color: #E8F0FE;\n",
              "      border: none;\n",
              "      border-radius: 50%;\n",
              "      cursor: pointer;\n",
              "      display: none;\n",
              "      fill: #1967D2;\n",
              "      height: 32px;\n",
              "      padding: 0 0 0 0;\n",
              "      width: 32px;\n",
              "    }\n",
              "\n",
              "    .colab-df-convert:hover {\n",
              "      background-color: #E2EBFA;\n",
              "      box-shadow: 0px 1px 2px rgba(60, 64, 67, 0.3), 0px 1px 3px 1px rgba(60, 64, 67, 0.15);\n",
              "      fill: #174EA6;\n",
              "    }\n",
              "\n",
              "    [theme=dark] .colab-df-convert {\n",
              "      background-color: #3B4455;\n",
              "      fill: #D2E3FC;\n",
              "    }\n",
              "\n",
              "    [theme=dark] .colab-df-convert:hover {\n",
              "      background-color: #434B5C;\n",
              "      box-shadow: 0px 1px 3px 1px rgba(0, 0, 0, 0.15);\n",
              "      filter: drop-shadow(0px 1px 2px rgba(0, 0, 0, 0.3));\n",
              "      fill: #FFFFFF;\n",
              "    }\n",
              "  </style>\n",
              "\n",
              "      <script>\n",
              "        const buttonEl =\n",
              "          document.querySelector('#df-22bcdd91-89e5-43d1-85a7-1b790e8c01f4 button.colab-df-convert');\n",
              "        buttonEl.style.display =\n",
              "          google.colab.kernel.accessAllowed ? 'block' : 'none';\n",
              "\n",
              "        async function convertToInteractive(key) {\n",
              "          const element = document.querySelector('#df-22bcdd91-89e5-43d1-85a7-1b790e8c01f4');\n",
              "          const dataTable =\n",
              "            await google.colab.kernel.invokeFunction('convertToInteractive',\n",
              "                                                     [key], {});\n",
              "          if (!dataTable) return;\n",
              "\n",
              "          const docLinkHtml = 'Like what you see? Visit the ' +\n",
              "            '<a target=\"_blank\" href=https://colab.research.google.com/notebooks/data_table.ipynb>data table notebook</a>'\n",
              "            + ' to learn more about interactive tables.';\n",
              "          element.innerHTML = '';\n",
              "          dataTable['output_type'] = 'display_data';\n",
              "          await google.colab.output.renderOutput(dataTable, element);\n",
              "          const docLink = document.createElement('div');\n",
              "          docLink.innerHTML = docLinkHtml;\n",
              "          element.appendChild(docLink);\n",
              "        }\n",
              "      </script>\n",
              "    </div>\n",
              "  </div>\n",
              "  "
            ]
          },
          "metadata": {},
          "execution_count": 25
        }
      ],
      "source": [
        "# Посчитаем количество событий и количество пользователей в каждой группе\n",
        "group_count = df_full.groupby('group').agg({'user_id':['count', 'nunique']}).reset_index()\n",
        "group_count.columns=['group', 'event_count', 'user_count']\n",
        "group_count=group_count.sort_values(by='event_count', ascending=False)\n",
        "group_count"
      ]
    },
    {
      "cell_type": "markdown",
      "metadata": {
        "id": "sqbT9KdiBckf"
      },
      "source": [
        "В контрольных группах А_1 и А_2 количество событий примерно одинаковое, в группе В событий больше.  \n",
        "Количество уникальных пользователей во всех группах примернор одинаковое."
      ]
    },
    {
      "cell_type": "code",
      "execution_count": 26,
      "metadata": {
        "id": "PCQQWAmEl-Dp"
      },
      "outputs": [],
      "source": [
        "# Разделим все данные по группам эксперимента\n",
        "df_full_a_1 = df_full[df_full['group'] == 'A_1']\n",
        "df_full_a_2 = df_full[df_full['group'] == 'A_2']\n",
        "df_full_b = df_full[df_full['group'] == 'B']"
      ]
    },
    {
      "cell_type": "code",
      "execution_count": 27,
      "metadata": {
        "id": "gGhmXJ9L0p7t"
      },
      "outputs": [],
      "source": [
        "# проверим уникальность пользователей по группам\n",
        "A_1=df_full_a_1['user_id'].unique() # список уникальных id в группе А_1\n",
        "A_2=df_full_a_2['user_id'].unique() # список уникальных id в группе А_2\n"
      ]
    },
    {
      "cell_type": "code",
      "execution_count": 28,
      "metadata": {
        "colab": {
          "base_uri": "https://localhost:8080/",
          "height": 49
        },
        "id": "LTxh1Iov1CFq",
        "outputId": "51c5bfe5-6ad1-4cb8-d955-a9c14c29e047"
      },
      "outputs": [
        {
          "output_type": "execute_result",
          "data": {
            "text/plain": [
              "Empty DataFrame\n",
              "Columns: [event_name, user_id, time_stamp, group, date_time, dates]\n",
              "Index: []"
            ],
            "text/html": [
              "\n",
              "  <div id=\"df-29aa32e0-0c43-4201-a318-651e92e72f7c\">\n",
              "    <div class=\"colab-df-container\">\n",
              "      <div>\n",
              "<style scoped>\n",
              "    .dataframe tbody tr th:only-of-type {\n",
              "        vertical-align: middle;\n",
              "    }\n",
              "\n",
              "    .dataframe tbody tr th {\n",
              "        vertical-align: top;\n",
              "    }\n",
              "\n",
              "    .dataframe thead th {\n",
              "        text-align: right;\n",
              "    }\n",
              "</style>\n",
              "<table border=\"1\" class=\"dataframe\">\n",
              "  <thead>\n",
              "    <tr style=\"text-align: right;\">\n",
              "      <th></th>\n",
              "      <th>event_name</th>\n",
              "      <th>user_id</th>\n",
              "      <th>time_stamp</th>\n",
              "      <th>group</th>\n",
              "      <th>date_time</th>\n",
              "      <th>dates</th>\n",
              "    </tr>\n",
              "  </thead>\n",
              "  <tbody>\n",
              "  </tbody>\n",
              "</table>\n",
              "</div>\n",
              "      <button class=\"colab-df-convert\" onclick=\"convertToInteractive('df-29aa32e0-0c43-4201-a318-651e92e72f7c')\"\n",
              "              title=\"Convert this dataframe to an interactive table.\"\n",
              "              style=\"display:none;\">\n",
              "        \n",
              "  <svg xmlns=\"http://www.w3.org/2000/svg\" height=\"24px\"viewBox=\"0 0 24 24\"\n",
              "       width=\"24px\">\n",
              "    <path d=\"M0 0h24v24H0V0z\" fill=\"none\"/>\n",
              "    <path d=\"M18.56 5.44l.94 2.06.94-2.06 2.06-.94-2.06-.94-.94-2.06-.94 2.06-2.06.94zm-11 1L8.5 8.5l.94-2.06 2.06-.94-2.06-.94L8.5 2.5l-.94 2.06-2.06.94zm10 10l.94 2.06.94-2.06 2.06-.94-2.06-.94-.94-2.06-.94 2.06-2.06.94z\"/><path d=\"M17.41 7.96l-1.37-1.37c-.4-.4-.92-.59-1.43-.59-.52 0-1.04.2-1.43.59L10.3 9.45l-7.72 7.72c-.78.78-.78 2.05 0 2.83L4 21.41c.39.39.9.59 1.41.59.51 0 1.02-.2 1.41-.59l7.78-7.78 2.81-2.81c.8-.78.8-2.07 0-2.86zM5.41 20L4 18.59l7.72-7.72 1.47 1.35L5.41 20z\"/>\n",
              "  </svg>\n",
              "      </button>\n",
              "      \n",
              "  <style>\n",
              "    .colab-df-container {\n",
              "      display:flex;\n",
              "      flex-wrap:wrap;\n",
              "      gap: 12px;\n",
              "    }\n",
              "\n",
              "    .colab-df-convert {\n",
              "      background-color: #E8F0FE;\n",
              "      border: none;\n",
              "      border-radius: 50%;\n",
              "      cursor: pointer;\n",
              "      display: none;\n",
              "      fill: #1967D2;\n",
              "      height: 32px;\n",
              "      padding: 0 0 0 0;\n",
              "      width: 32px;\n",
              "    }\n",
              "\n",
              "    .colab-df-convert:hover {\n",
              "      background-color: #E2EBFA;\n",
              "      box-shadow: 0px 1px 2px rgba(60, 64, 67, 0.3), 0px 1px 3px 1px rgba(60, 64, 67, 0.15);\n",
              "      fill: #174EA6;\n",
              "    }\n",
              "\n",
              "    [theme=dark] .colab-df-convert {\n",
              "      background-color: #3B4455;\n",
              "      fill: #D2E3FC;\n",
              "    }\n",
              "\n",
              "    [theme=dark] .colab-df-convert:hover {\n",
              "      background-color: #434B5C;\n",
              "      box-shadow: 0px 1px 3px 1px rgba(0, 0, 0, 0.15);\n",
              "      filter: drop-shadow(0px 1px 2px rgba(0, 0, 0, 0.3));\n",
              "      fill: #FFFFFF;\n",
              "    }\n",
              "  </style>\n",
              "\n",
              "      <script>\n",
              "        const buttonEl =\n",
              "          document.querySelector('#df-29aa32e0-0c43-4201-a318-651e92e72f7c button.colab-df-convert');\n",
              "        buttonEl.style.display =\n",
              "          google.colab.kernel.accessAllowed ? 'block' : 'none';\n",
              "\n",
              "        async function convertToInteractive(key) {\n",
              "          const element = document.querySelector('#df-29aa32e0-0c43-4201-a318-651e92e72f7c');\n",
              "          const dataTable =\n",
              "            await google.colab.kernel.invokeFunction('convertToInteractive',\n",
              "                                                     [key], {});\n",
              "          if (!dataTable) return;\n",
              "\n",
              "          const docLinkHtml = 'Like what you see? Visit the ' +\n",
              "            '<a target=\"_blank\" href=https://colab.research.google.com/notebooks/data_table.ipynb>data table notebook</a>'\n",
              "            + ' to learn more about interactive tables.';\n",
              "          element.innerHTML = '';\n",
              "          dataTable['output_type'] = 'display_data';\n",
              "          await google.colab.output.renderOutput(dataTable, element);\n",
              "          const docLink = document.createElement('div');\n",
              "          docLink.innerHTML = docLinkHtml;\n",
              "          element.appendChild(docLink);\n",
              "        }\n",
              "      </script>\n",
              "    </div>\n",
              "  </div>\n",
              "  "
            ]
          },
          "metadata": {},
          "execution_count": 28
        }
      ],
      "source": [
        "# Проверим имеются ли id группы А_2 в списке  id в группы А_1\n",
        "df_full_a_2.query('user_id in @A_1')"
      ]
    },
    {
      "cell_type": "code",
      "execution_count": 29,
      "metadata": {
        "colab": {
          "base_uri": "https://localhost:8080/",
          "height": 49
        },
        "id": "aesVx-bW2Cfu",
        "outputId": "5e54dc0f-d91a-4f88-c660-dcaad2c6d3b3"
      },
      "outputs": [
        {
          "output_type": "execute_result",
          "data": {
            "text/plain": [
              "Empty DataFrame\n",
              "Columns: [event_name, user_id, time_stamp, group, date_time, dates]\n",
              "Index: []"
            ],
            "text/html": [
              "\n",
              "  <div id=\"df-34afcc8b-0f01-463e-8865-84e43dd4039d\">\n",
              "    <div class=\"colab-df-container\">\n",
              "      <div>\n",
              "<style scoped>\n",
              "    .dataframe tbody tr th:only-of-type {\n",
              "        vertical-align: middle;\n",
              "    }\n",
              "\n",
              "    .dataframe tbody tr th {\n",
              "        vertical-align: top;\n",
              "    }\n",
              "\n",
              "    .dataframe thead th {\n",
              "        text-align: right;\n",
              "    }\n",
              "</style>\n",
              "<table border=\"1\" class=\"dataframe\">\n",
              "  <thead>\n",
              "    <tr style=\"text-align: right;\">\n",
              "      <th></th>\n",
              "      <th>event_name</th>\n",
              "      <th>user_id</th>\n",
              "      <th>time_stamp</th>\n",
              "      <th>group</th>\n",
              "      <th>date_time</th>\n",
              "      <th>dates</th>\n",
              "    </tr>\n",
              "  </thead>\n",
              "  <tbody>\n",
              "  </tbody>\n",
              "</table>\n",
              "</div>\n",
              "      <button class=\"colab-df-convert\" onclick=\"convertToInteractive('df-34afcc8b-0f01-463e-8865-84e43dd4039d')\"\n",
              "              title=\"Convert this dataframe to an interactive table.\"\n",
              "              style=\"display:none;\">\n",
              "        \n",
              "  <svg xmlns=\"http://www.w3.org/2000/svg\" height=\"24px\"viewBox=\"0 0 24 24\"\n",
              "       width=\"24px\">\n",
              "    <path d=\"M0 0h24v24H0V0z\" fill=\"none\"/>\n",
              "    <path d=\"M18.56 5.44l.94 2.06.94-2.06 2.06-.94-2.06-.94-.94-2.06-.94 2.06-2.06.94zm-11 1L8.5 8.5l.94-2.06 2.06-.94-2.06-.94L8.5 2.5l-.94 2.06-2.06.94zm10 10l.94 2.06.94-2.06 2.06-.94-2.06-.94-.94-2.06-.94 2.06-2.06.94z\"/><path d=\"M17.41 7.96l-1.37-1.37c-.4-.4-.92-.59-1.43-.59-.52 0-1.04.2-1.43.59L10.3 9.45l-7.72 7.72c-.78.78-.78 2.05 0 2.83L4 21.41c.39.39.9.59 1.41.59.51 0 1.02-.2 1.41-.59l7.78-7.78 2.81-2.81c.8-.78.8-2.07 0-2.86zM5.41 20L4 18.59l7.72-7.72 1.47 1.35L5.41 20z\"/>\n",
              "  </svg>\n",
              "      </button>\n",
              "      \n",
              "  <style>\n",
              "    .colab-df-container {\n",
              "      display:flex;\n",
              "      flex-wrap:wrap;\n",
              "      gap: 12px;\n",
              "    }\n",
              "\n",
              "    .colab-df-convert {\n",
              "      background-color: #E8F0FE;\n",
              "      border: none;\n",
              "      border-radius: 50%;\n",
              "      cursor: pointer;\n",
              "      display: none;\n",
              "      fill: #1967D2;\n",
              "      height: 32px;\n",
              "      padding: 0 0 0 0;\n",
              "      width: 32px;\n",
              "    }\n",
              "\n",
              "    .colab-df-convert:hover {\n",
              "      background-color: #E2EBFA;\n",
              "      box-shadow: 0px 1px 2px rgba(60, 64, 67, 0.3), 0px 1px 3px 1px rgba(60, 64, 67, 0.15);\n",
              "      fill: #174EA6;\n",
              "    }\n",
              "\n",
              "    [theme=dark] .colab-df-convert {\n",
              "      background-color: #3B4455;\n",
              "      fill: #D2E3FC;\n",
              "    }\n",
              "\n",
              "    [theme=dark] .colab-df-convert:hover {\n",
              "      background-color: #434B5C;\n",
              "      box-shadow: 0px 1px 3px 1px rgba(0, 0, 0, 0.15);\n",
              "      filter: drop-shadow(0px 1px 2px rgba(0, 0, 0, 0.3));\n",
              "      fill: #FFFFFF;\n",
              "    }\n",
              "  </style>\n",
              "\n",
              "      <script>\n",
              "        const buttonEl =\n",
              "          document.querySelector('#df-34afcc8b-0f01-463e-8865-84e43dd4039d button.colab-df-convert');\n",
              "        buttonEl.style.display =\n",
              "          google.colab.kernel.accessAllowed ? 'block' : 'none';\n",
              "\n",
              "        async function convertToInteractive(key) {\n",
              "          const element = document.querySelector('#df-34afcc8b-0f01-463e-8865-84e43dd4039d');\n",
              "          const dataTable =\n",
              "            await google.colab.kernel.invokeFunction('convertToInteractive',\n",
              "                                                     [key], {});\n",
              "          if (!dataTable) return;\n",
              "\n",
              "          const docLinkHtml = 'Like what you see? Visit the ' +\n",
              "            '<a target=\"_blank\" href=https://colab.research.google.com/notebooks/data_table.ipynb>data table notebook</a>'\n",
              "            + ' to learn more about interactive tables.';\n",
              "          element.innerHTML = '';\n",
              "          dataTable['output_type'] = 'display_data';\n",
              "          await google.colab.output.renderOutput(dataTable, element);\n",
              "          const docLink = document.createElement('div');\n",
              "          docLink.innerHTML = docLinkHtml;\n",
              "          element.appendChild(docLink);\n",
              "        }\n",
              "      </script>\n",
              "    </div>\n",
              "  </div>\n",
              "  "
            ]
          },
          "metadata": {},
          "execution_count": 29
        }
      ],
      "source": [
        "# Проверим имеются ли id группы В в списке  id в группы А_1\n",
        "df_full_b.query('user_id in @A_1')"
      ]
    },
    {
      "cell_type": "code",
      "execution_count": 30,
      "metadata": {
        "colab": {
          "base_uri": "https://localhost:8080/",
          "height": 49
        },
        "id": "pan_A7h02HGp",
        "outputId": "6fdd4b1a-6151-4bb5-a1c9-f848e81ba07a"
      },
      "outputs": [
        {
          "output_type": "execute_result",
          "data": {
            "text/plain": [
              "Empty DataFrame\n",
              "Columns: [event_name, user_id, time_stamp, group, date_time, dates]\n",
              "Index: []"
            ],
            "text/html": [
              "\n",
              "  <div id=\"df-882553cb-c015-4b90-9ebe-436301d226d2\">\n",
              "    <div class=\"colab-df-container\">\n",
              "      <div>\n",
              "<style scoped>\n",
              "    .dataframe tbody tr th:only-of-type {\n",
              "        vertical-align: middle;\n",
              "    }\n",
              "\n",
              "    .dataframe tbody tr th {\n",
              "        vertical-align: top;\n",
              "    }\n",
              "\n",
              "    .dataframe thead th {\n",
              "        text-align: right;\n",
              "    }\n",
              "</style>\n",
              "<table border=\"1\" class=\"dataframe\">\n",
              "  <thead>\n",
              "    <tr style=\"text-align: right;\">\n",
              "      <th></th>\n",
              "      <th>event_name</th>\n",
              "      <th>user_id</th>\n",
              "      <th>time_stamp</th>\n",
              "      <th>group</th>\n",
              "      <th>date_time</th>\n",
              "      <th>dates</th>\n",
              "    </tr>\n",
              "  </thead>\n",
              "  <tbody>\n",
              "  </tbody>\n",
              "</table>\n",
              "</div>\n",
              "      <button class=\"colab-df-convert\" onclick=\"convertToInteractive('df-882553cb-c015-4b90-9ebe-436301d226d2')\"\n",
              "              title=\"Convert this dataframe to an interactive table.\"\n",
              "              style=\"display:none;\">\n",
              "        \n",
              "  <svg xmlns=\"http://www.w3.org/2000/svg\" height=\"24px\"viewBox=\"0 0 24 24\"\n",
              "       width=\"24px\">\n",
              "    <path d=\"M0 0h24v24H0V0z\" fill=\"none\"/>\n",
              "    <path d=\"M18.56 5.44l.94 2.06.94-2.06 2.06-.94-2.06-.94-.94-2.06-.94 2.06-2.06.94zm-11 1L8.5 8.5l.94-2.06 2.06-.94-2.06-.94L8.5 2.5l-.94 2.06-2.06.94zm10 10l.94 2.06.94-2.06 2.06-.94-2.06-.94-.94-2.06-.94 2.06-2.06.94z\"/><path d=\"M17.41 7.96l-1.37-1.37c-.4-.4-.92-.59-1.43-.59-.52 0-1.04.2-1.43.59L10.3 9.45l-7.72 7.72c-.78.78-.78 2.05 0 2.83L4 21.41c.39.39.9.59 1.41.59.51 0 1.02-.2 1.41-.59l7.78-7.78 2.81-2.81c.8-.78.8-2.07 0-2.86zM5.41 20L4 18.59l7.72-7.72 1.47 1.35L5.41 20z\"/>\n",
              "  </svg>\n",
              "      </button>\n",
              "      \n",
              "  <style>\n",
              "    .colab-df-container {\n",
              "      display:flex;\n",
              "      flex-wrap:wrap;\n",
              "      gap: 12px;\n",
              "    }\n",
              "\n",
              "    .colab-df-convert {\n",
              "      background-color: #E8F0FE;\n",
              "      border: none;\n",
              "      border-radius: 50%;\n",
              "      cursor: pointer;\n",
              "      display: none;\n",
              "      fill: #1967D2;\n",
              "      height: 32px;\n",
              "      padding: 0 0 0 0;\n",
              "      width: 32px;\n",
              "    }\n",
              "\n",
              "    .colab-df-convert:hover {\n",
              "      background-color: #E2EBFA;\n",
              "      box-shadow: 0px 1px 2px rgba(60, 64, 67, 0.3), 0px 1px 3px 1px rgba(60, 64, 67, 0.15);\n",
              "      fill: #174EA6;\n",
              "    }\n",
              "\n",
              "    [theme=dark] .colab-df-convert {\n",
              "      background-color: #3B4455;\n",
              "      fill: #D2E3FC;\n",
              "    }\n",
              "\n",
              "    [theme=dark] .colab-df-convert:hover {\n",
              "      background-color: #434B5C;\n",
              "      box-shadow: 0px 1px 3px 1px rgba(0, 0, 0, 0.15);\n",
              "      filter: drop-shadow(0px 1px 2px rgba(0, 0, 0, 0.3));\n",
              "      fill: #FFFFFF;\n",
              "    }\n",
              "  </style>\n",
              "\n",
              "      <script>\n",
              "        const buttonEl =\n",
              "          document.querySelector('#df-882553cb-c015-4b90-9ebe-436301d226d2 button.colab-df-convert');\n",
              "        buttonEl.style.display =\n",
              "          google.colab.kernel.accessAllowed ? 'block' : 'none';\n",
              "\n",
              "        async function convertToInteractive(key) {\n",
              "          const element = document.querySelector('#df-882553cb-c015-4b90-9ebe-436301d226d2');\n",
              "          const dataTable =\n",
              "            await google.colab.kernel.invokeFunction('convertToInteractive',\n",
              "                                                     [key], {});\n",
              "          if (!dataTable) return;\n",
              "\n",
              "          const docLinkHtml = 'Like what you see? Visit the ' +\n",
              "            '<a target=\"_blank\" href=https://colab.research.google.com/notebooks/data_table.ipynb>data table notebook</a>'\n",
              "            + ' to learn more about interactive tables.';\n",
              "          element.innerHTML = '';\n",
              "          dataTable['output_type'] = 'display_data';\n",
              "          await google.colab.output.renderOutput(dataTable, element);\n",
              "          const docLink = document.createElement('div');\n",
              "          docLink.innerHTML = docLinkHtml;\n",
              "          element.appendChild(docLink);\n",
              "        }\n",
              "      </script>\n",
              "    </div>\n",
              "  </div>\n",
              "  "
            ]
          },
          "metadata": {},
          "execution_count": 30
        }
      ],
      "source": [
        "# Проверим имеются ли id группы В в списке  id в группы А_2\n",
        "df_full_b.query('user_id in @A_2')"
      ]
    },
    {
      "cell_type": "markdown",
      "metadata": {
        "id": "ukIZoyfw2NMi"
      },
      "source": [
        "Пользователи в группах уникальны."
      ]
    },
    {
      "cell_type": "markdown",
      "metadata": {
        "id": "ZLEkVdt3l8jD"
      },
      "source": [
        "Для определения корректности проведения А/В-теста проведем А/А-тест.  \n",
        "При проведении А/А-теста исключим случайное влияние на ход эксперимента.  \n",
        "Проверим корректность проведения А/А-тест проверкой гипотезы."
      ]
    },
    {
      "cell_type": "markdown",
      "metadata": {
        "id": "43xc79G02h10"
      },
      "source": [
        "Нулевая гипотеза Н0: в контрольных группах нет статистических различий."
      ]
    },
    {
      "cell_type": "markdown",
      "metadata": {
        "id": "Z13uIjC2VNkm"
      },
      "source": [
        "Альтернативная гипотеза Н1: контрольные группы различаются."
      ]
    },
    {
      "cell_type": "code",
      "execution_count": 31,
      "metadata": {
        "colab": {
          "base_uri": "https://localhost:8080/"
        },
        "id": "bwStkMMDm7DI",
        "outputId": "853df9eb-7664-4726-a456-b0a40eacccfe"
      },
      "outputs": [
        {
          "output_type": "stream",
          "name": "stdout",
          "text": [
            "Количество уникальных пользователей группы А_1: 2483\n",
            "Количество уникальных пользователей группы А_2: 2512\n",
            "Различие в количестве пользователей групп А_1 и А_2: 1.15%\n",
            "Различие в количестве событий групп А_1 и А_2: 2.91%\n"
          ]
        }
      ],
      "source": [
        "# проверим различие количества участников в группах\n",
        "print('Количество уникальных пользователей группы А_1: {0:.0f}'.format(df_full_a_1['user_id'].nunique()))\n",
        "print('Количество уникальных пользователей группы А_2: {0:.0f}'.format(df_full_a_2['user_id'].nunique()))\n",
        "print('Различие в количестве пользователей групп А_1 и А_2: {0:.2%}'.format((df_full_a_2['user_id'].nunique()-df_full_a_1['user_id'].nunique())/df_full_a_2['user_id'].nunique()))\n",
        "print('Различие в количестве событий групп А_1 и А_2: {0:.2%}'.format((df_full_a_1['user_id'].count()-df_full_a_2['user_id'].count())/df_full_a_1['user_id'].count()))"
      ]
    },
    {
      "cell_type": "markdown",
      "metadata": {
        "id": "1dxB66hD3HPH"
      },
      "source": [
        "Различия в количестве пользователей и событий по группам не значительно."
      ]
    },
    {
      "cell_type": "markdown",
      "metadata": {
        "id": "UovcZvtShGcG"
      },
      "source": [
        "Посчитаем число пользователей и долю пользователей в каждой группе, совершивших каждое событие. Проверим отличие между группами. Для этого напишем функцию test_stat, на вход которой передадим необходимый датасет, названия групп и уровень статистической значимости."
      ]
    },
    {
      "cell_type": "code",
      "execution_count": 32,
      "metadata": {
        "id": "bSkhutGOVNkt"
      },
      "outputs": [],
      "source": [
        "def test_stat(df, groups_1, groups_2, alpha):\n",
        "  # датасет сгруппируем по названию событий, посчитаем уникальное число пользователей.\n",
        "  df_full_stat = df.pivot_table(index='event_name', columns='group', values='user_id', aggfunc='nunique').reset_index()\n",
        "  df_full_stat = df_full_stat.sort_values(by=groups_1, ascending=False).reset_index(drop=True)\n",
        "  # в переменную users сохраним посчитанные общее количество уникальных пользователей каждой группы\n",
        "  users = [df[df['group']== groups_1]['user_id'].nunique(), df[df['group']== groups_2]['user_id'].nunique()]\n",
        "  # циклом создадим список числа уникальных пользователей для каждого события по группам.\n",
        "  for i, event in enumerate (df_full_stat['event_name']):\n",
        "    events = [df_full_stat.loc[i,groups_1], df_full_stat.loc[i,groups_2]]\n",
        "    print(events) # проверка\n",
        "    print(i) # проверка\n",
        "    p1 = events[0] / users[0] # считаем долю для 1 группы\n",
        "    p2 = events[1] / users[1] # считаем долю для 2 группы\n",
        "    p_combined = sum(events) / sum(users)\n",
        "    difference = p1 - p2 # разница в датасетах\n",
        "    z_value = difference / mth.sqrt(\n",
        "    p_combined * (1 - p_combined) * (1 / users[0] + 1 / users[1]) #считаем z-value, которая покажет, насколько она далека от среднего значения точки данных\n",
        "    )\n",
        "    distr = st.norm(0, 1) # задаем стандартное нормальное распределение (среднее 0, ст.отклонение 1)\n",
        "    p_value = (1 - distr.cdf(abs(z_value))) * 2 # считаем p-value\n",
        "        \n",
        "    print(event)\n",
        "    print('Доля пользователей группы %s: {0:.2f}'.format(p1)% (groups_1))\n",
        "    print('Доля пользователей группы %s: {0:.2f}'.format(p2)% (groups_2))\n",
        "    print('p-значение: ', p_value)\n",
        "    # сравниваем p-value и alpha\n",
        "    if p_value < alpha:\n",
        "        print('Отвергаем нулевую гипотезу по событию %s: между долями есть значимая разница' % (event))\n",
        "    else:\n",
        "        print('Не получилось отвергнуть нулевую гипотезу по событию %s: нет оснований считать доли разными' % (event))\n",
        "            \n",
        "    print('-------------------------------')\n",
        "    print(' ')"
      ]
    },
    {
      "cell_type": "markdown",
      "metadata": {
        "id": "KAxN6t0Ih9Ea"
      },
      "source": [
        "\n",
        "\n",
        "Сравним группу В с контрольными группами. Применим функцию  test_stat"
      ]
    },
    {
      "cell_type": "code",
      "execution_count": 33,
      "metadata": {
        "colab": {
          "base_uri": "https://localhost:8080/"
        },
        "id": "wqSO8Db0h99m",
        "outputId": "e1a36f90-495f-4774-9eec-66e1bc7461c9"
      },
      "outputs": [
        {
          "output_type": "stream",
          "name": "stdout",
          "text": [
            "[2450, 2493]\n",
            "0\n",
            "mainscreenappear\n",
            "Доля пользователей группы A_1: 0.99\n",
            "Доля пользователей группы B: 0.98\n",
            "p-значение:  0.3387114076159288\n",
            "Не получилось отвергнуть нулевую гипотезу по событию mainscreenappear: нет оснований считать доли разными\n",
            "-------------------------------\n",
            " \n",
            "[1542, 1531]\n",
            "1\n",
            "offersscreenappear\n",
            "Доля пользователей группы A_1: 0.62\n",
            "Доля пользователей группы B: 0.60\n",
            "p-значение:  0.21442476639710506\n",
            "Не получилось отвергнуть нулевую гипотезу по событию offersscreenappear: нет оснований считать доли разными\n",
            "-------------------------------\n",
            " \n",
            "[1266, 1230]\n",
            "2\n",
            "cartscreenappear\n",
            "Доля пользователей группы A_1: 0.51\n",
            "Доля пользователей группы B: 0.49\n",
            "p-значение:  0.08067367598823139\n",
            "Не получилось отвергнуть нулевую гипотезу по событию cartscreenappear: нет оснований считать доли разными\n",
            "-------------------------------\n",
            " \n",
            "[1200, 1181]\n",
            "3\n",
            "paymentscreensuccessful\n",
            "Доля пользователей группы A_1: 0.48\n",
            "Доля пользователей группы B: 0.47\n",
            "p-значение:  0.21693033984516674\n",
            "Не получилось отвергнуть нулевую гипотезу по событию paymentscreensuccessful: нет оснований считать доли разными\n",
            "-------------------------------\n",
            " \n"
          ]
        }
      ],
      "source": [
        "# Сравниваем группы А_1 и В\n",
        "test_stat(df_full, 'A_1', 'B', 0.05)"
      ]
    },
    {
      "cell_type": "code",
      "execution_count": 34,
      "metadata": {
        "colab": {
          "base_uri": "https://localhost:8080/"
        },
        "id": "e6yWGg8AikNm",
        "outputId": "e32b09e7-d28a-4765-c77d-84132e9b3679"
      },
      "outputs": [
        {
          "output_type": "stream",
          "name": "stdout",
          "text": [
            "[2476, 2493]\n",
            "0\n",
            "mainscreenappear\n",
            "Доля пользователей группы A_2: 0.99\n",
            "Доля пользователей группы B: 0.98\n",
            "p-значение:  0.5194964354051703\n",
            "Не получилось отвергнуть нулевую гипотезу по событию mainscreenappear: нет оснований считать доли разными\n",
            "-------------------------------\n",
            " \n",
            "[1520, 1531]\n",
            "1\n",
            "offersscreenappear\n",
            "Доля пользователей группы A_2: 0.61\n",
            "Доля пользователей группы B: 0.60\n",
            "p-значение:  0.9333751305879443\n",
            "Не получилось отвергнуть нулевую гипотезу по событию offersscreenappear: нет оснований считать доли разными\n",
            "-------------------------------\n",
            " \n",
            "[1238, 1230]\n",
            "2\n",
            "cartscreenappear\n",
            "Доля пользователей группы A_2: 0.49\n",
            "Доля пользователей группы B: 0.49\n",
            "p-значение:  0.5878284605111943\n",
            "Не получилось отвергнуть нулевую гипотезу по событию cartscreenappear: нет оснований считать доли разными\n",
            "-------------------------------\n",
            " \n",
            "[1158, 1181]\n",
            "3\n",
            "paymentscreensuccessful\n",
            "Доля пользователей группы A_2: 0.46\n",
            "Доля пользователей группы B: 0.47\n",
            "p-значение:  0.7275718682261119\n",
            "Не получилось отвергнуть нулевую гипотезу по событию paymentscreensuccessful: нет оснований считать доли разными\n",
            "-------------------------------\n",
            " \n"
          ]
        }
      ],
      "source": [
        "# Сравниваем группы А_2 и В\n",
        "test_stat(df_full, 'A_2', 'B', 0.05)"
      ]
    },
    {
      "cell_type": "code",
      "execution_count": 35,
      "metadata": {
        "colab": {
          "base_uri": "https://localhost:8080/"
        },
        "id": "p3zxgjYAmbNc",
        "outputId": "982bbbaf-c372-4a6e-e902-2ca788961f3c"
      },
      "outputs": [
        {
          "output_type": "execute_result",
          "data": {
            "text/plain": [
              "A_1    155669\n",
              "B       84213\n",
              "Name: group, dtype: int64"
            ]
          },
          "metadata": {},
          "execution_count": 35
        }
      ],
      "source": [
        "# Создадим копию датасета df_full, заменим значения группы А_2 на А_1 и сохраним в перемнную df_full_share\n",
        "df_full_share = df_full.copy()\n",
        "df_full_share['group'].replace({'A_2':'A_1'}, inplace=True)\n",
        "df_full_share['group'].value_counts() # сосчитаем количество событий в обновленных группах"
      ]
    },
    {
      "cell_type": "code",
      "execution_count": 36,
      "metadata": {
        "colab": {
          "base_uri": "https://localhost:8080/"
        },
        "id": "5ODffSLflsfE",
        "outputId": "d54a3f33-bbea-48c5-8f65-1e98781ef625"
      },
      "outputs": [
        {
          "output_type": "stream",
          "name": "stdout",
          "text": [
            "[4926, 2493]\n",
            "0\n",
            "mainscreenappear\n",
            "Доля пользователей группы A_1: 0.99\n",
            "Доля пользователей группы B: 0.98\n",
            "p-значение:  0.3486684291093256\n",
            "Не получилось отвергнуть нулевую гипотезу по событию mainscreenappear: нет оснований считать доли разными\n",
            "-------------------------------\n",
            " \n",
            "[3062, 1531]\n",
            "1\n",
            "offersscreenappear\n",
            "Доля пользователей группы A_1: 0.61\n",
            "Доля пользователей группы B: 0.60\n",
            "p-значение:  0.44582745409482394\n",
            "Не получилось отвергнуть нулевую гипотезу по событию offersscreenappear: нет оснований считать доли разными\n",
            "-------------------------------\n",
            " \n",
            "[2504, 1230]\n",
            "2\n",
            "cartscreenappear\n",
            "Доля пользователей группы A_1: 0.50\n",
            "Доля пользователей группы B: 0.49\n",
            "p-значение:  0.18683558686831558\n",
            "Не получилось отвергнуть нулевую гипотезу по событию cartscreenappear: нет оснований считать доли разными\n",
            "-------------------------------\n",
            " \n",
            "[2358, 1181]\n",
            "3\n",
            "paymentscreensuccessful\n",
            "Доля пользователей группы A_1: 0.47\n",
            "Доля пользователей группы B: 0.47\n",
            "p-значение:  0.6107918742187335\n",
            "Не получилось отвергнуть нулевую гипотезу по событию paymentscreensuccessful: нет оснований считать доли разными\n",
            "-------------------------------\n",
            " \n"
          ]
        }
      ],
      "source": [
        "# Передадим функции новый датасет df_full_share\n",
        "# и сравним группы A_1 и B.\n",
        "test_stat(df_full_share, 'A_1', 'B', 0.05)"
      ]
    },
    {
      "cell_type": "markdown",
      "metadata": {
        "id": "SzPcONALoxIe"
      },
      "source": [
        "Одну и ту же гипотезу мы тестируем в разных вариациях. Важная особенность множественного теста в том, что вероятность ошибки первого рода увеличивается с каждой новой проверкой гипотезы.\n",
        "\n",
        "Чтобы снизить вероятность ложнопозитивного результата при множественном тестировании гипотез, применим метод Бонферони. Для этого поделим принятый уровень значимости (0.05) на число сравнений (16), которые проводят на одних и тех же данных, без сбора новых наблюдений для каждого теста.\n",
        "\n",
        "Всего 16 вариантов - 4 пары групп и 4 события. С учетом поправки, альфа будет равна 0.05/16 = 0.003."
      ]
    },
    {
      "cell_type": "code",
      "execution_count": 37,
      "metadata": {
        "colab": {
          "base_uri": "https://localhost:8080/"
        },
        "id": "BUuxy_O3n8KO",
        "outputId": "101db768-d0ac-4e0e-bd90-bd1fb1cd2c53"
      },
      "outputs": [
        {
          "output_type": "stream",
          "name": "stdout",
          "text": [
            "[2450, 2476]\n",
            "0\n",
            "mainscreenappear\n",
            "Доля пользователей группы A_1: 0.99\n",
            "Доля пользователей группы A_2: 0.99\n",
            "p-значение:  0.7526703436483038\n",
            "Не получилось отвергнуть нулевую гипотезу по событию mainscreenappear: нет оснований считать доли разными\n",
            "-------------------------------\n",
            " \n",
            "[1542, 1520]\n",
            "1\n",
            "offersscreenappear\n",
            "Доля пользователей группы A_1: 0.62\n",
            "Доля пользователей группы A_2: 0.61\n",
            "p-значение:  0.24786096925282264\n",
            "Не получилось отвергнуть нулевую гипотезу по событию offersscreenappear: нет оснований считать доли разными\n",
            "-------------------------------\n",
            " \n",
            "[1266, 1238]\n",
            "2\n",
            "cartscreenappear\n",
            "Доля пользователей группы A_1: 0.51\n",
            "Доля пользователей группы A_2: 0.49\n",
            "p-значение:  0.22867643757335676\n",
            "Не получилось отвергнуть нулевую гипотезу по событию cartscreenappear: нет оснований считать доли разными\n",
            "-------------------------------\n",
            " \n",
            "[1200, 1158]\n",
            "3\n",
            "paymentscreensuccessful\n",
            "Доля пользователей группы A_1: 0.48\n",
            "Доля пользователей группы A_2: 0.46\n",
            "p-значение:  0.11446627829276612\n",
            "Не получилось отвергнуть нулевую гипотезу по событию paymentscreensuccessful: нет оснований считать доли разными\n",
            "-------------------------------\n",
            " \n"
          ]
        }
      ],
      "source": [
        "# Сравниваем контрольные группы А_1 и А_2 с новым уровнем статистической значимости\n",
        "test_stat(df_full, 'A_1', 'A_2', 0.003)"
      ]
    },
    {
      "cell_type": "code",
      "execution_count": 38,
      "metadata": {
        "colab": {
          "base_uri": "https://localhost:8080/"
        },
        "id": "U4b9nPlZo4ew",
        "outputId": "ea7d6a64-03aa-4a29-bbdc-9515733e1fe7"
      },
      "outputs": [
        {
          "output_type": "stream",
          "name": "stdout",
          "text": [
            "[2450, 2493]\n",
            "0\n",
            "mainscreenappear\n",
            "Доля пользователей группы A_1: 0.99\n",
            "Доля пользователей группы B: 0.98\n",
            "p-значение:  0.3387114076159288\n",
            "Не получилось отвергнуть нулевую гипотезу по событию mainscreenappear: нет оснований считать доли разными\n",
            "-------------------------------\n",
            " \n",
            "[1542, 1531]\n",
            "1\n",
            "offersscreenappear\n",
            "Доля пользователей группы A_1: 0.62\n",
            "Доля пользователей группы B: 0.60\n",
            "p-значение:  0.21442476639710506\n",
            "Не получилось отвергнуть нулевую гипотезу по событию offersscreenappear: нет оснований считать доли разными\n",
            "-------------------------------\n",
            " \n",
            "[1266, 1230]\n",
            "2\n",
            "cartscreenappear\n",
            "Доля пользователей группы A_1: 0.51\n",
            "Доля пользователей группы B: 0.49\n",
            "p-значение:  0.08067367598823139\n",
            "Не получилось отвергнуть нулевую гипотезу по событию cartscreenappear: нет оснований считать доли разными\n",
            "-------------------------------\n",
            " \n",
            "[1200, 1181]\n",
            "3\n",
            "paymentscreensuccessful\n",
            "Доля пользователей группы A_1: 0.48\n",
            "Доля пользователей группы B: 0.47\n",
            "p-значение:  0.21693033984516674\n",
            "Не получилось отвергнуть нулевую гипотезу по событию paymentscreensuccessful: нет оснований считать доли разными\n",
            "-------------------------------\n",
            " \n"
          ]
        }
      ],
      "source": [
        "# Сравниваем группы А_1 и В с новым уровнем статистической значимости\n",
        "test_stat(df_full, 'A_1', 'B', 0.003)"
      ]
    },
    {
      "cell_type": "code",
      "execution_count": 39,
      "metadata": {
        "colab": {
          "base_uri": "https://localhost:8080/"
        },
        "id": "Y20P6pj5o5i-",
        "outputId": "fd633250-9a99-4b9e-c8e0-aa963f15fd74"
      },
      "outputs": [
        {
          "output_type": "stream",
          "name": "stdout",
          "text": [
            "[2476, 2493]\n",
            "0\n",
            "mainscreenappear\n",
            "Доля пользователей группы A_2: 0.99\n",
            "Доля пользователей группы B: 0.98\n",
            "p-значение:  0.5194964354051703\n",
            "Не получилось отвергнуть нулевую гипотезу по событию mainscreenappear: нет оснований считать доли разными\n",
            "-------------------------------\n",
            " \n",
            "[1520, 1531]\n",
            "1\n",
            "offersscreenappear\n",
            "Доля пользователей группы A_2: 0.61\n",
            "Доля пользователей группы B: 0.60\n",
            "p-значение:  0.9333751305879443\n",
            "Не получилось отвергнуть нулевую гипотезу по событию offersscreenappear: нет оснований считать доли разными\n",
            "-------------------------------\n",
            " \n",
            "[1238, 1230]\n",
            "2\n",
            "cartscreenappear\n",
            "Доля пользователей группы A_2: 0.49\n",
            "Доля пользователей группы B: 0.49\n",
            "p-значение:  0.5878284605111943\n",
            "Не получилось отвергнуть нулевую гипотезу по событию cartscreenappear: нет оснований считать доли разными\n",
            "-------------------------------\n",
            " \n",
            "[1158, 1181]\n",
            "3\n",
            "paymentscreensuccessful\n",
            "Доля пользователей группы A_2: 0.46\n",
            "Доля пользователей группы B: 0.47\n",
            "p-значение:  0.7275718682261119\n",
            "Не получилось отвергнуть нулевую гипотезу по событию paymentscreensuccessful: нет оснований считать доли разными\n",
            "-------------------------------\n",
            " \n"
          ]
        }
      ],
      "source": [
        "# Сравниваем группы А_2 и В с новым уровнем статистической значимости\n",
        "test_stat(df_full, 'A_2', 'B', 0.003)"
      ]
    },
    {
      "cell_type": "code",
      "execution_count": 40,
      "metadata": {
        "colab": {
          "base_uri": "https://localhost:8080/"
        },
        "id": "in1MmRF3o6tc",
        "outputId": "a08fb726-7e00-490b-9a3f-b32500990bc4"
      },
      "outputs": [
        {
          "output_type": "stream",
          "name": "stdout",
          "text": [
            "[4926, 2493]\n",
            "0\n",
            "mainscreenappear\n",
            "Доля пользователей группы A_1: 0.99\n",
            "Доля пользователей группы B: 0.98\n",
            "p-значение:  0.3486684291093256\n",
            "Не получилось отвергнуть нулевую гипотезу по событию mainscreenappear: нет оснований считать доли разными\n",
            "-------------------------------\n",
            " \n",
            "[3062, 1531]\n",
            "1\n",
            "offersscreenappear\n",
            "Доля пользователей группы A_1: 0.61\n",
            "Доля пользователей группы B: 0.60\n",
            "p-значение:  0.44582745409482394\n",
            "Не получилось отвергнуть нулевую гипотезу по событию offersscreenappear: нет оснований считать доли разными\n",
            "-------------------------------\n",
            " \n",
            "[2504, 1230]\n",
            "2\n",
            "cartscreenappear\n",
            "Доля пользователей группы A_1: 0.50\n",
            "Доля пользователей группы B: 0.49\n",
            "p-значение:  0.18683558686831558\n",
            "Не получилось отвергнуть нулевую гипотезу по событию cartscreenappear: нет оснований считать доли разными\n",
            "-------------------------------\n",
            " \n",
            "[2358, 1181]\n",
            "3\n",
            "paymentscreensuccessful\n",
            "Доля пользователей группы A_1: 0.47\n",
            "Доля пользователей группы B: 0.47\n",
            "p-значение:  0.6107918742187335\n",
            "Не получилось отвергнуть нулевую гипотезу по событию paymentscreensuccessful: нет оснований считать доли разными\n",
            "-------------------------------\n",
            " \n"
          ]
        }
      ],
      "source": [
        "# Сравниваем группы А_1 и В датасета df_full_share с новым уровнем статистической значимости\n",
        "test_stat(df_full_share, 'A_1', 'B', 0.003)"
      ]
    },
    {
      "cell_type": "markdown",
      "metadata": {
        "id": "dkm3PUcUTFW_"
      },
      "source": [
        "## Вывод"
      ]
    },
    {
      "cell_type": "markdown",
      "metadata": {
        "id": "d0yAf66rTT8T"
      },
      "source": [
        "Результатом проведенного А/А/В-теста нулевую гипотезу отвергнуть не получилось. Изменение шрифта не повлияло на продажи в приложении.  \n",
        "Возможно продление сроков эксперимента каким-либо образом повлияет на значимость различий."
      ]
    }
  ],
  "metadata": {
    "ExecuteTimeLog": [
      {
        "duration": 1230,
        "start_time": "2022-04-13T09:52:14.503Z"
      },
      {
        "duration": 207,
        "start_time": "2022-04-13T09:52:15.735Z"
      },
      {
        "duration": 13,
        "start_time": "2022-04-13T09:52:15.944Z"
      },
      {
        "duration": 177,
        "start_time": "2022-04-13T09:52:15.959Z"
      },
      {
        "duration": 126,
        "start_time": "2022-04-13T09:52:16.137Z"
      },
      {
        "duration": 19,
        "start_time": "2022-04-13T09:52:16.265Z"
      },
      {
        "duration": 153,
        "start_time": "2022-04-13T09:52:16.286Z"
      },
      {
        "duration": 524,
        "start_time": "2022-04-13T09:52:16.441Z"
      },
      {
        "duration": 22,
        "start_time": "2022-04-13T09:52:16.967Z"
      },
      {
        "duration": 99,
        "start_time": "2022-04-13T09:52:16.993Z"
      },
      {
        "duration": 68,
        "start_time": "2022-04-13T09:52:17.094Z"
      },
      {
        "duration": 782,
        "start_time": "2022-04-13T09:52:17.164Z"
      },
      {
        "duration": 51,
        "start_time": "2022-04-13T09:52:17.948Z"
      },
      {
        "duration": 81,
        "start_time": "2022-04-13T09:52:18.001Z"
      },
      {
        "duration": 40,
        "start_time": "2022-04-13T09:52:18.084Z"
      },
      {
        "duration": 33,
        "start_time": "2022-04-13T09:52:18.126Z"
      },
      {
        "duration": 77,
        "start_time": "2022-04-13T09:52:18.160Z"
      },
      {
        "duration": 3,
        "start_time": "2022-04-13T09:52:18.239Z"
      },
      {
        "duration": 32,
        "start_time": "2022-04-13T09:52:18.243Z"
      },
      {
        "duration": 168,
        "start_time": "2022-04-13T09:52:18.277Z"
      },
      {
        "duration": 115,
        "start_time": "2022-04-13T09:52:18.446Z"
      },
      {
        "duration": 57,
        "start_time": "2022-04-13T09:52:18.563Z"
      },
      {
        "duration": 34,
        "start_time": "2022-04-13T09:52:18.621Z"
      },
      {
        "duration": 10,
        "start_time": "2022-04-13T09:52:18.656Z"
      },
      {
        "duration": 8,
        "start_time": "2022-04-13T09:52:18.668Z"
      },
      {
        "duration": 8,
        "start_time": "2022-04-13T09:52:18.678Z"
      },
      {
        "duration": 11,
        "start_time": "2022-04-13T09:52:18.688Z"
      },
      {
        "duration": 7,
        "start_time": "2022-04-13T09:52:18.702Z"
      },
      {
        "duration": 145,
        "start_time": "2022-04-13T09:52:18.754Z"
      },
      {
        "duration": 153,
        "start_time": "2022-04-13T09:52:18.901Z"
      },
      {
        "duration": 152,
        "start_time": "2022-04-13T09:52:19.056Z"
      },
      {
        "duration": 63,
        "start_time": "2022-04-13T09:52:19.210Z"
      },
      {
        "duration": 154,
        "start_time": "2022-04-13T09:52:19.275Z"
      },
      {
        "duration": 152,
        "start_time": "2022-04-13T09:52:19.431Z"
      },
      {
        "duration": 219,
        "start_time": "2022-04-13T09:52:19.586Z"
      },
      {
        "duration": 218,
        "start_time": "2022-04-13T09:52:19.807Z"
      },
      {
        "duration": 221,
        "start_time": "2022-04-13T09:52:20.027Z"
      },
      {
        "duration": 1282,
        "start_time": "2022-04-13T09:52:58.146Z"
      },
      {
        "duration": 191,
        "start_time": "2022-04-13T09:52:59.430Z"
      },
      {
        "duration": 4,
        "start_time": "2022-04-13T09:52:59.623Z"
      },
      {
        "duration": 180,
        "start_time": "2022-04-13T09:52:59.629Z"
      },
      {
        "duration": 79,
        "start_time": "2022-04-13T09:52:59.811Z"
      },
      {
        "duration": 13,
        "start_time": "2022-04-13T09:52:59.892Z"
      },
      {
        "duration": 99,
        "start_time": "2022-04-13T09:52:59.906Z"
      },
      {
        "duration": 344,
        "start_time": "2022-04-13T09:53:00.007Z"
      },
      {
        "duration": 13,
        "start_time": "2022-04-13T09:53:00.355Z"
      },
      {
        "duration": 54,
        "start_time": "2022-04-13T09:53:00.371Z"
      },
      {
        "duration": 49,
        "start_time": "2022-04-13T09:53:00.427Z"
      },
      {
        "duration": 502,
        "start_time": "2022-04-13T09:53:00.478Z"
      },
      {
        "duration": 29,
        "start_time": "2022-04-13T09:53:00.982Z"
      },
      {
        "duration": 87,
        "start_time": "2022-04-13T09:53:01.013Z"
      },
      {
        "duration": 60,
        "start_time": "2022-04-13T09:53:01.102Z"
      },
      {
        "duration": 36,
        "start_time": "2022-04-13T09:53:01.164Z"
      },
      {
        "duration": 124,
        "start_time": "2022-04-13T09:53:01.202Z"
      },
      {
        "duration": 4,
        "start_time": "2022-04-13T09:53:01.328Z"
      },
      {
        "duration": 35,
        "start_time": "2022-04-13T09:53:01.333Z"
      },
      {
        "duration": 202,
        "start_time": "2022-04-13T09:53:01.370Z"
      },
      {
        "duration": 107,
        "start_time": "2022-04-13T09:53:01.574Z"
      },
      {
        "duration": 97,
        "start_time": "2022-04-13T09:53:01.683Z"
      },
      {
        "duration": 6,
        "start_time": "2022-04-13T09:53:01.782Z"
      },
      {
        "duration": 47,
        "start_time": "2022-04-13T09:53:01.790Z"
      },
      {
        "duration": 32,
        "start_time": "2022-04-13T09:53:01.839Z"
      },
      {
        "duration": 36,
        "start_time": "2022-04-13T09:53:01.873Z"
      },
      {
        "duration": 46,
        "start_time": "2022-04-13T09:53:01.911Z"
      },
      {
        "duration": 7,
        "start_time": "2022-04-13T09:53:01.961Z"
      },
      {
        "duration": 160,
        "start_time": "2022-04-13T09:53:01.970Z"
      },
      {
        "duration": 146,
        "start_time": "2022-04-13T09:53:02.132Z"
      },
      {
        "duration": 154,
        "start_time": "2022-04-13T09:53:02.280Z"
      },
      {
        "duration": 58,
        "start_time": "2022-04-13T09:53:02.435Z"
      },
      {
        "duration": 153,
        "start_time": "2022-04-13T09:53:02.495Z"
      },
      {
        "duration": 145,
        "start_time": "2022-04-13T09:53:02.649Z"
      },
      {
        "duration": 149,
        "start_time": "2022-04-13T09:53:02.796Z"
      },
      {
        "duration": 149,
        "start_time": "2022-04-13T09:53:02.947Z"
      },
      {
        "duration": 151,
        "start_time": "2022-04-13T09:53:03.098Z"
      },
      {
        "duration": 1202,
        "start_time": "2022-04-13T18:45:48.301Z"
      },
      {
        "duration": 225,
        "start_time": "2022-04-13T18:45:49.505Z"
      },
      {
        "duration": 5,
        "start_time": "2022-04-13T18:45:49.732Z"
      },
      {
        "duration": 219,
        "start_time": "2022-04-13T18:45:49.740Z"
      },
      {
        "duration": 91,
        "start_time": "2022-04-13T18:45:49.961Z"
      },
      {
        "duration": 19,
        "start_time": "2022-04-13T18:45:50.054Z"
      },
      {
        "duration": 138,
        "start_time": "2022-04-13T18:45:50.075Z"
      },
      {
        "duration": 499,
        "start_time": "2022-04-13T18:45:50.219Z"
      },
      {
        "duration": 20,
        "start_time": "2022-04-13T18:45:50.722Z"
      },
      {
        "duration": 53,
        "start_time": "2022-04-13T18:45:50.745Z"
      },
      {
        "duration": 65,
        "start_time": "2022-04-13T18:45:50.800Z"
      },
      {
        "duration": 578,
        "start_time": "2022-04-13T18:45:50.866Z"
      },
      {
        "duration": 34,
        "start_time": "2022-04-13T18:45:51.446Z"
      },
      {
        "duration": 69,
        "start_time": "2022-04-13T18:45:51.482Z"
      },
      {
        "duration": 35,
        "start_time": "2022-04-13T18:45:51.553Z"
      },
      {
        "duration": 47,
        "start_time": "2022-04-13T18:45:51.590Z"
      },
      {
        "duration": 127,
        "start_time": "2022-04-13T18:45:51.639Z"
      },
      {
        "duration": 4,
        "start_time": "2022-04-13T18:45:51.769Z"
      },
      {
        "duration": 52,
        "start_time": "2022-04-13T18:45:51.776Z"
      },
      {
        "duration": 7941,
        "start_time": "2022-04-13T18:45:51.830Z"
      },
      {
        "duration": 174,
        "start_time": "2022-04-13T18:45:59.773Z"
      },
      {
        "duration": 125,
        "start_time": "2022-04-13T18:45:59.949Z"
      },
      {
        "duration": 6,
        "start_time": "2022-04-13T18:46:00.077Z"
      },
      {
        "duration": 19,
        "start_time": "2022-04-13T18:46:00.086Z"
      },
      {
        "duration": 14,
        "start_time": "2022-04-13T18:46:00.119Z"
      },
      {
        "duration": 23,
        "start_time": "2022-04-13T18:46:00.135Z"
      },
      {
        "duration": 25,
        "start_time": "2022-04-13T18:46:00.159Z"
      },
      {
        "duration": 20,
        "start_time": "2022-04-13T18:46:00.189Z"
      },
      {
        "duration": 172,
        "start_time": "2022-04-13T18:46:00.219Z"
      },
      {
        "duration": 159,
        "start_time": "2022-04-13T18:46:00.393Z"
      },
      {
        "duration": 166,
        "start_time": "2022-04-13T18:46:00.554Z"
      },
      {
        "duration": 55,
        "start_time": "2022-04-13T18:46:00.723Z"
      },
      {
        "duration": 188,
        "start_time": "2022-04-13T18:46:00.781Z"
      },
      {
        "duration": 166,
        "start_time": "2022-04-13T18:46:00.971Z"
      },
      {
        "duration": 166,
        "start_time": "2022-04-13T18:46:01.139Z"
      },
      {
        "duration": 172,
        "start_time": "2022-04-13T18:46:01.307Z"
      },
      {
        "duration": 171,
        "start_time": "2022-04-13T18:46:01.481Z"
      },
      {
        "duration": 113,
        "start_time": "2022-04-13T18:51:40.677Z"
      },
      {
        "duration": 36444,
        "start_time": "2022-04-13T18:51:46.425Z"
      },
      {
        "duration": 11,
        "start_time": "2022-04-13T18:52:44.055Z"
      },
      {
        "duration": 227,
        "start_time": "2022-04-13T18:52:45.229Z"
      },
      {
        "duration": 10,
        "start_time": "2022-04-13T18:53:27.391Z"
      },
      {
        "duration": 230,
        "start_time": "2022-04-13T18:53:28.194Z"
      },
      {
        "duration": 9,
        "start_time": "2022-04-13T18:54:00.019Z"
      },
      {
        "duration": 156,
        "start_time": "2022-04-13T18:54:01.314Z"
      },
      {
        "duration": 8,
        "start_time": "2022-04-13T18:56:34.440Z"
      },
      {
        "duration": 227,
        "start_time": "2022-04-13T18:56:50.647Z"
      },
      {
        "duration": 146,
        "start_time": "2022-04-14T05:19:38.980Z"
      },
      {
        "duration": 1712,
        "start_time": "2022-04-14T05:19:43.942Z"
      },
      {
        "duration": 289,
        "start_time": "2022-04-14T05:19:45.658Z"
      },
      {
        "duration": 7,
        "start_time": "2022-04-14T05:19:45.949Z"
      },
      {
        "duration": 310,
        "start_time": "2022-04-14T05:19:45.959Z"
      },
      {
        "duration": 133,
        "start_time": "2022-04-14T05:19:46.271Z"
      },
      {
        "duration": 30,
        "start_time": "2022-04-14T05:19:46.406Z"
      },
      {
        "duration": 147,
        "start_time": "2022-04-14T05:19:46.438Z"
      },
      {
        "duration": 581,
        "start_time": "2022-04-14T05:19:46.587Z"
      },
      {
        "duration": 18,
        "start_time": "2022-04-14T05:19:47.170Z"
      },
      {
        "duration": 97,
        "start_time": "2022-04-14T05:19:47.192Z"
      },
      {
        "duration": 48,
        "start_time": "2022-04-14T05:19:47.291Z"
      },
      {
        "duration": 43,
        "start_time": "2022-04-14T05:19:47.342Z"
      },
      {
        "duration": 804,
        "start_time": "2022-04-14T05:19:47.387Z"
      },
      {
        "duration": 46,
        "start_time": "2022-04-14T05:19:48.193Z"
      },
      {
        "duration": 92,
        "start_time": "2022-04-14T05:19:48.241Z"
      },
      {
        "duration": 41,
        "start_time": "2022-04-14T05:19:48.335Z"
      },
      {
        "duration": 48,
        "start_time": "2022-04-14T05:19:48.378Z"
      },
      {
        "duration": 133,
        "start_time": "2022-04-14T05:19:48.429Z"
      },
      {
        "duration": 5,
        "start_time": "2022-04-14T05:19:48.564Z"
      },
      {
        "duration": 61,
        "start_time": "2022-04-14T05:19:48.571Z"
      },
      {
        "duration": 249,
        "start_time": "2022-04-14T05:19:48.634Z"
      },
      {
        "duration": 173,
        "start_time": "2022-04-14T05:19:48.885Z"
      },
      {
        "duration": 111,
        "start_time": "2022-04-14T05:19:49.060Z"
      },
      {
        "duration": 6,
        "start_time": "2022-04-14T05:19:49.174Z"
      },
      {
        "duration": 23,
        "start_time": "2022-04-14T05:19:49.182Z"
      },
      {
        "duration": 29,
        "start_time": "2022-04-14T05:19:49.207Z"
      },
      {
        "duration": 14,
        "start_time": "2022-04-14T05:19:49.238Z"
      },
      {
        "duration": 17,
        "start_time": "2022-04-14T05:19:49.256Z"
      },
      {
        "duration": 53,
        "start_time": "2022-04-14T05:19:49.276Z"
      },
      {
        "duration": 321,
        "start_time": "2022-04-14T05:19:49.331Z"
      },
      {
        "duration": 17,
        "start_time": "2022-04-14T05:19:49.655Z"
      },
      {
        "duration": 312,
        "start_time": "2022-04-14T05:19:49.676Z"
      },
      {
        "duration": 381,
        "start_time": "2022-04-14T05:19:49.991Z"
      },
      {
        "duration": 330,
        "start_time": "2022-04-14T05:19:50.375Z"
      },
      {
        "duration": 125,
        "start_time": "2022-04-14T05:19:50.707Z"
      },
      {
        "duration": 352,
        "start_time": "2022-04-14T05:19:50.834Z"
      },
      {
        "duration": 354,
        "start_time": "2022-04-14T05:19:51.189Z"
      },
      {
        "duration": 349,
        "start_time": "2022-04-14T05:19:51.546Z"
      },
      {
        "duration": 241,
        "start_time": "2022-04-14T05:19:51.898Z"
      },
      {
        "duration": 236,
        "start_time": "2022-04-14T05:19:52.142Z"
      },
      {
        "duration": 17,
        "start_time": "2022-04-14T05:20:52.342Z"
      },
      {
        "duration": 1692,
        "start_time": "2022-04-14T05:21:01.954Z"
      },
      {
        "duration": 279,
        "start_time": "2022-04-14T05:21:03.649Z"
      },
      {
        "duration": 7,
        "start_time": "2022-04-14T05:21:03.931Z"
      },
      {
        "duration": 306,
        "start_time": "2022-04-14T05:21:03.941Z"
      },
      {
        "duration": 118,
        "start_time": "2022-04-14T05:21:04.250Z"
      },
      {
        "duration": 22,
        "start_time": "2022-04-14T05:21:04.370Z"
      },
      {
        "duration": 149,
        "start_time": "2022-04-14T05:21:04.394Z"
      },
      {
        "duration": 587,
        "start_time": "2022-04-14T05:21:04.545Z"
      },
      {
        "duration": 19,
        "start_time": "2022-04-14T05:21:05.134Z"
      },
      {
        "duration": 84,
        "start_time": "2022-04-14T05:21:05.155Z"
      },
      {
        "duration": 36,
        "start_time": "2022-04-14T05:21:05.241Z"
      },
      {
        "duration": 19,
        "start_time": "2022-04-14T05:21:05.279Z"
      },
      {
        "duration": 52,
        "start_time": "2022-04-14T05:21:05.300Z"
      },
      {
        "duration": 1006,
        "start_time": "2022-04-14T05:21:05.357Z"
      },
      {
        "duration": 43,
        "start_time": "2022-04-14T05:21:06.365Z"
      },
      {
        "duration": 80,
        "start_time": "2022-04-14T05:21:06.411Z"
      },
      {
        "duration": 55,
        "start_time": "2022-04-14T05:21:06.493Z"
      },
      {
        "duration": 31,
        "start_time": "2022-04-14T05:21:06.550Z"
      },
      {
        "duration": 248,
        "start_time": "2022-04-14T05:21:06.583Z"
      },
      {
        "duration": 6,
        "start_time": "2022-04-14T05:21:06.833Z"
      },
      {
        "duration": 83,
        "start_time": "2022-04-14T05:21:06.842Z"
      },
      {
        "duration": 361,
        "start_time": "2022-04-14T05:21:06.928Z"
      },
      {
        "duration": 234,
        "start_time": "2022-04-14T05:21:07.292Z"
      },
      {
        "duration": 134,
        "start_time": "2022-04-14T05:21:07.528Z"
      },
      {
        "duration": 7,
        "start_time": "2022-04-14T05:21:07.664Z"
      },
      {
        "duration": 60,
        "start_time": "2022-04-14T05:21:07.673Z"
      },
      {
        "duration": 15,
        "start_time": "2022-04-14T05:21:07.735Z"
      },
      {
        "duration": 27,
        "start_time": "2022-04-14T05:21:07.752Z"
      },
      {
        "duration": 46,
        "start_time": "2022-04-14T05:21:07.781Z"
      },
      {
        "duration": 11,
        "start_time": "2022-04-14T05:21:07.829Z"
      },
      {
        "duration": 233,
        "start_time": "2022-04-14T05:21:07.842Z"
      },
      {
        "duration": 11,
        "start_time": "2022-04-14T05:21:08.077Z"
      },
      {
        "duration": 237,
        "start_time": "2022-04-14T05:21:08.090Z"
      },
      {
        "duration": 230,
        "start_time": "2022-04-14T05:21:08.329Z"
      },
      {
        "duration": 231,
        "start_time": "2022-04-14T05:21:08.561Z"
      },
      {
        "duration": 82,
        "start_time": "2022-04-14T05:21:08.794Z"
      },
      {
        "duration": 239,
        "start_time": "2022-04-14T05:21:08.879Z"
      },
      {
        "duration": 225,
        "start_time": "2022-04-14T05:21:09.125Z"
      },
      {
        "duration": 227,
        "start_time": "2022-04-14T05:21:09.352Z"
      },
      {
        "duration": 229,
        "start_time": "2022-04-14T05:21:09.581Z"
      },
      {
        "duration": 225,
        "start_time": "2022-04-14T05:21:09.824Z"
      },
      {
        "duration": 1543,
        "start_time": "2022-04-14T05:24:05.652Z"
      },
      {
        "duration": 274,
        "start_time": "2022-04-14T05:24:07.197Z"
      },
      {
        "duration": 7,
        "start_time": "2022-04-14T05:24:07.473Z"
      },
      {
        "duration": 452,
        "start_time": "2022-04-14T05:24:07.484Z"
      },
      {
        "duration": 124,
        "start_time": "2022-04-14T05:24:07.938Z"
      },
      {
        "duration": 20,
        "start_time": "2022-04-14T05:24:08.064Z"
      },
      {
        "duration": 149,
        "start_time": "2022-04-14T05:24:08.087Z"
      },
      {
        "duration": 574,
        "start_time": "2022-04-14T05:24:08.239Z"
      },
      {
        "duration": 24,
        "start_time": "2022-04-14T05:24:08.815Z"
      },
      {
        "duration": 88,
        "start_time": "2022-04-14T05:24:08.844Z"
      },
      {
        "duration": 34,
        "start_time": "2022-04-14T05:24:08.934Z"
      },
      {
        "duration": 18,
        "start_time": "2022-04-14T05:24:08.970Z"
      },
      {
        "duration": 322,
        "start_time": "2022-04-14T05:24:08.991Z"
      },
      {
        "duration": 48,
        "start_time": "2022-04-14T05:24:09.316Z"
      },
      {
        "duration": 814,
        "start_time": "2022-04-14T05:24:09.368Z"
      },
      {
        "duration": 50,
        "start_time": "2022-04-14T05:24:10.184Z"
      },
      {
        "duration": 87,
        "start_time": "2022-04-14T05:24:10.237Z"
      },
      {
        "duration": 42,
        "start_time": "2022-04-14T05:24:10.327Z"
      },
      {
        "duration": 29,
        "start_time": "2022-04-14T05:24:10.371Z"
      },
      {
        "duration": 154,
        "start_time": "2022-04-14T05:24:10.401Z"
      },
      {
        "duration": 5,
        "start_time": "2022-04-14T05:24:10.557Z"
      },
      {
        "duration": 45,
        "start_time": "2022-04-14T05:24:10.564Z"
      },
      {
        "duration": 229,
        "start_time": "2022-04-14T05:24:10.612Z"
      },
      {
        "duration": 197,
        "start_time": "2022-04-14T05:24:10.843Z"
      },
      {
        "duration": 109,
        "start_time": "2022-04-14T05:24:11.042Z"
      },
      {
        "duration": 9,
        "start_time": "2022-04-14T05:24:11.153Z"
      },
      {
        "duration": 18,
        "start_time": "2022-04-14T05:24:11.164Z"
      },
      {
        "duration": 44,
        "start_time": "2022-04-14T05:24:11.189Z"
      },
      {
        "duration": 19,
        "start_time": "2022-04-14T05:24:11.236Z"
      },
      {
        "duration": 23,
        "start_time": "2022-04-14T05:24:11.258Z"
      },
      {
        "duration": 54,
        "start_time": "2022-04-14T05:24:11.284Z"
      },
      {
        "duration": 372,
        "start_time": "2022-04-14T05:24:11.341Z"
      },
      {
        "duration": 22,
        "start_time": "2022-04-14T05:24:11.716Z"
      },
      {
        "duration": 399,
        "start_time": "2022-04-14T05:24:11.742Z"
      },
      {
        "duration": 380,
        "start_time": "2022-04-14T05:24:12.144Z"
      },
      {
        "duration": 386,
        "start_time": "2022-04-14T05:24:12.527Z"
      },
      {
        "duration": 134,
        "start_time": "2022-04-14T05:24:12.916Z"
      },
      {
        "duration": 392,
        "start_time": "2022-04-14T05:24:13.053Z"
      },
      {
        "duration": 383,
        "start_time": "2022-04-14T05:24:13.449Z"
      },
      {
        "duration": 348,
        "start_time": "2022-04-14T05:24:13.835Z"
      },
      {
        "duration": 344,
        "start_time": "2022-04-14T05:24:14.185Z"
      },
      {
        "duration": 353,
        "start_time": "2022-04-14T05:24:14.532Z"
      },
      {
        "duration": 531,
        "start_time": "2022-04-14T05:26:23.600Z"
      },
      {
        "duration": 520,
        "start_time": "2022-04-14T05:26:46.928Z"
      },
      {
        "duration": 755,
        "start_time": "2022-04-14T05:27:02.744Z"
      },
      {
        "duration": 16052,
        "start_time": "2022-04-14T05:55:19.892Z"
      },
      {
        "duration": 463,
        "start_time": "2022-04-14T06:01:37.130Z"
      },
      {
        "duration": 454,
        "start_time": "2022-04-14T06:01:45.119Z"
      },
      {
        "duration": 457,
        "start_time": "2022-04-14T06:02:04.608Z"
      },
      {
        "duration": 412,
        "start_time": "2022-04-14T06:02:17.108Z"
      },
      {
        "duration": 461,
        "start_time": "2022-04-14T06:02:24.463Z"
      },
      {
        "duration": 661,
        "start_time": "2022-04-14T06:02:30.651Z"
      },
      {
        "duration": 675,
        "start_time": "2022-04-14T06:02:39.189Z"
      },
      {
        "duration": 18,
        "start_time": "2022-04-14T06:04:33.976Z"
      },
      {
        "duration": 9,
        "start_time": "2022-04-14T06:04:58.385Z"
      },
      {
        "duration": 10,
        "start_time": "2022-04-14T06:05:11.094Z"
      },
      {
        "duration": 20,
        "start_time": "2022-04-14T06:05:16.122Z"
      },
      {
        "duration": 11,
        "start_time": "2022-04-14T06:05:59.444Z"
      },
      {
        "duration": 2104,
        "start_time": "2022-04-14T06:11:30.529Z"
      },
      {
        "duration": 1438,
        "start_time": "2022-04-14T06:11:43.336Z"
      },
      {
        "duration": 265,
        "start_time": "2022-04-14T06:11:44.776Z"
      },
      {
        "duration": 7,
        "start_time": "2022-04-14T06:11:45.043Z"
      },
      {
        "duration": 293,
        "start_time": "2022-04-14T06:11:45.053Z"
      },
      {
        "duration": 121,
        "start_time": "2022-04-14T06:11:45.348Z"
      },
      {
        "duration": 22,
        "start_time": "2022-04-14T06:11:45.471Z"
      },
      {
        "duration": 157,
        "start_time": "2022-04-14T06:11:45.495Z"
      },
      {
        "duration": 555,
        "start_time": "2022-04-14T06:11:45.654Z"
      },
      {
        "duration": 22,
        "start_time": "2022-04-14T06:11:46.212Z"
      },
      {
        "duration": 90,
        "start_time": "2022-04-14T06:11:46.238Z"
      },
      {
        "duration": 34,
        "start_time": "2022-04-14T06:11:46.330Z"
      },
      {
        "duration": 16,
        "start_time": "2022-04-14T06:11:46.366Z"
      },
      {
        "duration": 14883,
        "start_time": "2022-04-14T06:11:46.384Z"
      },
      {
        "duration": 20,
        "start_time": "2022-04-14T06:12:01.269Z"
      },
      {
        "duration": 34,
        "start_time": "2022-04-14T06:12:01.292Z"
      },
      {
        "duration": 57,
        "start_time": "2022-04-14T06:12:01.329Z"
      },
      {
        "duration": 788,
        "start_time": "2022-04-14T06:12:01.388Z"
      },
      {
        "duration": 972,
        "start_time": "2022-04-14T06:12:02.178Z"
      },
      {
        "duration": 40,
        "start_time": "2022-04-14T06:12:03.153Z"
      },
      {
        "duration": 119,
        "start_time": "2022-04-14T06:12:03.195Z"
      },
      {
        "duration": 41,
        "start_time": "2022-04-14T06:12:03.317Z"
      },
      {
        "duration": 38,
        "start_time": "2022-04-14T06:12:03.360Z"
      },
      {
        "duration": 134,
        "start_time": "2022-04-14T06:12:03.400Z"
      },
      {
        "duration": 6,
        "start_time": "2022-04-14T06:12:03.536Z"
      },
      {
        "duration": 43,
        "start_time": "2022-04-14T06:12:03.544Z"
      },
      {
        "duration": 244,
        "start_time": "2022-04-14T06:12:03.589Z"
      },
      {
        "duration": 201,
        "start_time": "2022-04-14T06:12:03.835Z"
      },
      {
        "duration": 104,
        "start_time": "2022-04-14T06:12:04.041Z"
      },
      {
        "duration": 7,
        "start_time": "2022-04-14T06:12:04.147Z"
      },
      {
        "duration": 19,
        "start_time": "2022-04-14T06:12:04.156Z"
      },
      {
        "duration": 15,
        "start_time": "2022-04-14T06:12:04.177Z"
      },
      {
        "duration": 14,
        "start_time": "2022-04-14T06:12:04.225Z"
      },
      {
        "duration": 15,
        "start_time": "2022-04-14T06:12:04.241Z"
      },
      {
        "duration": 10,
        "start_time": "2022-04-14T06:12:04.259Z"
      },
      {
        "duration": 252,
        "start_time": "2022-04-14T06:12:04.272Z"
      },
      {
        "duration": 13,
        "start_time": "2022-04-14T06:12:04.526Z"
      },
      {
        "duration": 221,
        "start_time": "2022-04-14T06:12:04.541Z"
      },
      {
        "duration": 222,
        "start_time": "2022-04-14T06:12:04.764Z"
      },
      {
        "duration": 1320,
        "start_time": "2022-04-14T06:12:04.989Z"
      },
      {
        "duration": 76,
        "start_time": "2022-04-14T06:12:06.311Z"
      },
      {
        "duration": 244,
        "start_time": "2022-04-14T06:12:06.389Z"
      },
      {
        "duration": 232,
        "start_time": "2022-04-14T06:12:06.635Z"
      },
      {
        "duration": 227,
        "start_time": "2022-04-14T06:12:06.869Z"
      },
      {
        "duration": 228,
        "start_time": "2022-04-14T06:12:07.098Z"
      },
      {
        "duration": 230,
        "start_time": "2022-04-14T06:12:07.328Z"
      },
      {
        "duration": 1413,
        "start_time": "2022-04-14T06:13:44.960Z"
      },
      {
        "duration": 270,
        "start_time": "2022-04-14T06:13:46.376Z"
      },
      {
        "duration": 6,
        "start_time": "2022-04-14T06:13:46.649Z"
      },
      {
        "duration": 290,
        "start_time": "2022-04-14T06:13:46.658Z"
      },
      {
        "duration": 121,
        "start_time": "2022-04-14T06:13:46.951Z"
      },
      {
        "duration": 21,
        "start_time": "2022-04-14T06:13:47.074Z"
      },
      {
        "duration": 155,
        "start_time": "2022-04-14T06:13:47.098Z"
      },
      {
        "duration": 557,
        "start_time": "2022-04-14T06:13:47.256Z"
      },
      {
        "duration": 23,
        "start_time": "2022-04-14T06:13:47.816Z"
      },
      {
        "duration": 91,
        "start_time": "2022-04-14T06:13:47.844Z"
      },
      {
        "duration": 33,
        "start_time": "2022-04-14T06:13:47.938Z"
      },
      {
        "duration": 19,
        "start_time": "2022-04-14T06:13:47.974Z"
      },
      {
        "duration": 15515,
        "start_time": "2022-04-14T06:13:48.025Z"
      },
      {
        "duration": 19,
        "start_time": "2022-04-14T06:14:03.543Z"
      },
      {
        "duration": 12,
        "start_time": "2022-04-14T06:14:03.564Z"
      },
      {
        "duration": 76,
        "start_time": "2022-04-14T06:14:03.578Z"
      },
      {
        "duration": 1180,
        "start_time": "2022-04-14T06:14:03.656Z"
      },
      {
        "duration": 1056,
        "start_time": "2022-04-14T06:14:04.838Z"
      },
      {
        "duration": 48,
        "start_time": "2022-04-14T06:14:05.896Z"
      },
      {
        "duration": 96,
        "start_time": "2022-04-14T06:14:05.946Z"
      },
      {
        "duration": 41,
        "start_time": "2022-04-14T06:14:06.045Z"
      },
      {
        "duration": 45,
        "start_time": "2022-04-14T06:14:06.088Z"
      },
      {
        "duration": 131,
        "start_time": "2022-04-14T06:14:06.136Z"
      },
      {
        "duration": 5,
        "start_time": "2022-04-14T06:14:06.269Z"
      },
      {
        "duration": 52,
        "start_time": "2022-04-14T06:14:06.276Z"
      },
      {
        "duration": 238,
        "start_time": "2022-04-14T06:14:06.330Z"
      },
      {
        "duration": 171,
        "start_time": "2022-04-14T06:14:06.571Z"
      },
      {
        "duration": 109,
        "start_time": "2022-04-14T06:14:06.747Z"
      },
      {
        "duration": 7,
        "start_time": "2022-04-14T06:14:06.858Z"
      },
      {
        "duration": 17,
        "start_time": "2022-04-14T06:14:06.867Z"
      },
      {
        "duration": 45,
        "start_time": "2022-04-14T06:14:06.886Z"
      },
      {
        "duration": 15,
        "start_time": "2022-04-14T06:14:06.933Z"
      },
      {
        "duration": 20,
        "start_time": "2022-04-14T06:14:06.951Z"
      },
      {
        "duration": 15,
        "start_time": "2022-04-14T06:14:06.974Z"
      },
      {
        "duration": 303,
        "start_time": "2022-04-14T06:14:07.024Z"
      },
      {
        "duration": 12,
        "start_time": "2022-04-14T06:14:07.330Z"
      },
      {
        "duration": 226,
        "start_time": "2022-04-14T06:14:07.345Z"
      },
      {
        "duration": 225,
        "start_time": "2022-04-14T06:14:07.574Z"
      },
      {
        "duration": 1273,
        "start_time": "2022-04-14T06:14:07.801Z"
      },
      {
        "duration": 138,
        "start_time": "2022-04-14T06:14:09.097Z"
      },
      {
        "duration": 311,
        "start_time": "2022-04-14T06:14:09.237Z"
      },
      {
        "duration": 325,
        "start_time": "2022-04-14T06:14:09.550Z"
      },
      {
        "duration": 309,
        "start_time": "2022-04-14T06:14:09.877Z"
      },
      {
        "duration": 310,
        "start_time": "2022-04-14T06:14:10.189Z"
      },
      {
        "duration": 239,
        "start_time": "2022-04-14T06:14:10.502Z"
      },
      {
        "duration": 1552,
        "start_time": "2022-04-14T06:14:33.709Z"
      },
      {
        "duration": 395,
        "start_time": "2022-04-14T06:14:35.265Z"
      },
      {
        "duration": 8,
        "start_time": "2022-04-14T06:14:35.663Z"
      },
      {
        "duration": 382,
        "start_time": "2022-04-14T06:14:35.675Z"
      },
      {
        "duration": 201,
        "start_time": "2022-04-14T06:14:36.060Z"
      },
      {
        "duration": 30,
        "start_time": "2022-04-14T06:14:36.264Z"
      },
      {
        "duration": 251,
        "start_time": "2022-04-14T06:14:36.297Z"
      },
      {
        "duration": 670,
        "start_time": "2022-04-14T06:14:36.551Z"
      },
      {
        "duration": 19,
        "start_time": "2022-04-14T06:14:37.223Z"
      },
      {
        "duration": 92,
        "start_time": "2022-04-14T06:14:37.246Z"
      },
      {
        "duration": 34,
        "start_time": "2022-04-14T06:14:37.340Z"
      },
      {
        "duration": 18,
        "start_time": "2022-04-14T06:14:37.376Z"
      },
      {
        "duration": 17438,
        "start_time": "2022-04-14T06:14:37.397Z"
      },
      {
        "duration": 19,
        "start_time": "2022-04-14T06:14:54.837Z"
      },
      {
        "duration": 10,
        "start_time": "2022-04-14T06:14:54.858Z"
      },
      {
        "duration": 72,
        "start_time": "2022-04-14T06:14:54.870Z"
      },
      {
        "duration": 788,
        "start_time": "2022-04-14T06:14:54.944Z"
      },
      {
        "duration": 1083,
        "start_time": "2022-04-14T06:14:55.735Z"
      },
      {
        "duration": 39,
        "start_time": "2022-04-14T06:14:56.825Z"
      },
      {
        "duration": 112,
        "start_time": "2022-04-14T06:14:56.867Z"
      },
      {
        "duration": 52,
        "start_time": "2022-04-14T06:14:56.981Z"
      },
      {
        "duration": 29,
        "start_time": "2022-04-14T06:14:57.036Z"
      },
      {
        "duration": 142,
        "start_time": "2022-04-14T06:14:57.067Z"
      },
      {
        "duration": 5,
        "start_time": "2022-04-14T06:14:57.211Z"
      },
      {
        "duration": 46,
        "start_time": "2022-04-14T06:14:57.218Z"
      },
      {
        "duration": 241,
        "start_time": "2022-04-14T06:14:57.266Z"
      },
      {
        "duration": 151,
        "start_time": "2022-04-14T06:14:57.510Z"
      },
      {
        "duration": 120,
        "start_time": "2022-04-14T06:14:57.666Z"
      },
      {
        "duration": 8,
        "start_time": "2022-04-14T06:14:57.788Z"
      },
      {
        "duration": 37,
        "start_time": "2022-04-14T06:14:57.799Z"
      },
      {
        "duration": 17,
        "start_time": "2022-04-14T06:14:57.838Z"
      },
      {
        "duration": 13,
        "start_time": "2022-04-14T06:14:57.857Z"
      },
      {
        "duration": 53,
        "start_time": "2022-04-14T06:14:57.873Z"
      },
      {
        "duration": 11,
        "start_time": "2022-04-14T06:14:57.929Z"
      },
      {
        "duration": 231,
        "start_time": "2022-04-14T06:14:57.942Z"
      },
      {
        "duration": 13,
        "start_time": "2022-04-14T06:14:58.176Z"
      },
      {
        "duration": 227,
        "start_time": "2022-04-14T06:14:58.192Z"
      },
      {
        "duration": 226,
        "start_time": "2022-04-14T06:14:58.425Z"
      },
      {
        "duration": 1331,
        "start_time": "2022-04-14T06:14:58.654Z"
      },
      {
        "duration": 82,
        "start_time": "2022-04-14T06:14:59.987Z"
      },
      {
        "duration": 220,
        "start_time": "2022-04-14T06:15:00.072Z"
      },
      {
        "duration": 229,
        "start_time": "2022-04-14T06:15:00.295Z"
      },
      {
        "duration": 222,
        "start_time": "2022-04-14T06:15:00.526Z"
      },
      {
        "duration": 317,
        "start_time": "2022-04-14T06:15:00.750Z"
      },
      {
        "duration": 319,
        "start_time": "2022-04-14T06:15:01.069Z"
      },
      {
        "duration": 1491,
        "start_time": "2022-04-14T06:15:39.910Z"
      },
      {
        "duration": 276,
        "start_time": "2022-04-14T06:15:41.404Z"
      },
      {
        "duration": 6,
        "start_time": "2022-04-14T06:15:41.683Z"
      },
      {
        "duration": 409,
        "start_time": "2022-04-14T06:15:41.692Z"
      },
      {
        "duration": 200,
        "start_time": "2022-04-14T06:15:42.103Z"
      },
      {
        "duration": 35,
        "start_time": "2022-04-14T06:15:42.306Z"
      },
      {
        "duration": 224,
        "start_time": "2022-04-14T06:15:42.344Z"
      },
      {
        "duration": 834,
        "start_time": "2022-04-14T06:15:42.571Z"
      },
      {
        "duration": 42,
        "start_time": "2022-04-14T06:15:43.408Z"
      },
      {
        "duration": 97,
        "start_time": "2022-04-14T06:15:43.455Z"
      },
      {
        "duration": 35,
        "start_time": "2022-04-14T06:15:43.554Z"
      },
      {
        "duration": 54,
        "start_time": "2022-04-14T06:15:43.592Z"
      },
      {
        "duration": 16714,
        "start_time": "2022-04-14T06:15:43.648Z"
      },
      {
        "duration": 19,
        "start_time": "2022-04-14T06:16:00.365Z"
      },
      {
        "duration": 37,
        "start_time": "2022-04-14T06:16:00.387Z"
      },
      {
        "duration": 44,
        "start_time": "2022-04-14T06:16:00.427Z"
      },
      {
        "duration": 846,
        "start_time": "2022-04-14T06:16:00.473Z"
      },
      {
        "duration": 1162,
        "start_time": "2022-04-14T06:16:01.326Z"
      },
      {
        "duration": 47,
        "start_time": "2022-04-14T06:16:02.490Z"
      },
      {
        "duration": 99,
        "start_time": "2022-04-14T06:16:02.540Z"
      },
      {
        "duration": 41,
        "start_time": "2022-04-14T06:16:02.641Z"
      },
      {
        "duration": 45,
        "start_time": "2022-04-14T06:16:02.685Z"
      },
      {
        "duration": 134,
        "start_time": "2022-04-14T06:16:02.732Z"
      },
      {
        "duration": 5,
        "start_time": "2022-04-14T06:16:02.868Z"
      },
      {
        "duration": 60,
        "start_time": "2022-04-14T06:16:02.875Z"
      },
      {
        "duration": 231,
        "start_time": "2022-04-14T06:16:02.938Z"
      },
      {
        "duration": 177,
        "start_time": "2022-04-14T06:16:03.171Z"
      },
      {
        "duration": 120,
        "start_time": "2022-04-14T06:16:03.353Z"
      },
      {
        "duration": 8,
        "start_time": "2022-04-14T06:16:03.476Z"
      },
      {
        "duration": 20,
        "start_time": "2022-04-14T06:16:03.486Z"
      },
      {
        "duration": 32,
        "start_time": "2022-04-14T06:16:03.508Z"
      },
      {
        "duration": 14,
        "start_time": "2022-04-14T06:16:03.543Z"
      },
      {
        "duration": 16,
        "start_time": "2022-04-14T06:16:03.559Z"
      },
      {
        "duration": 51,
        "start_time": "2022-04-14T06:16:03.578Z"
      },
      {
        "duration": 232,
        "start_time": "2022-04-14T06:16:03.631Z"
      },
      {
        "duration": 13,
        "start_time": "2022-04-14T06:16:03.865Z"
      },
      {
        "duration": 232,
        "start_time": "2022-04-14T06:16:03.880Z"
      },
      {
        "duration": 229,
        "start_time": "2022-04-14T06:16:04.114Z"
      },
      {
        "duration": 1344,
        "start_time": "2022-04-14T06:16:04.345Z"
      },
      {
        "duration": 76,
        "start_time": "2022-04-14T06:16:05.691Z"
      },
      {
        "duration": 231,
        "start_time": "2022-04-14T06:16:05.769Z"
      },
      {
        "duration": 228,
        "start_time": "2022-04-14T06:16:06.002Z"
      },
      {
        "duration": 223,
        "start_time": "2022-04-14T06:16:06.233Z"
      },
      {
        "duration": 231,
        "start_time": "2022-04-14T06:16:06.458Z"
      },
      {
        "duration": 243,
        "start_time": "2022-04-14T06:16:06.692Z"
      },
      {
        "duration": 1536,
        "start_time": "2022-04-14T06:17:19.457Z"
      },
      {
        "duration": 269,
        "start_time": "2022-04-14T06:17:20.996Z"
      },
      {
        "duration": 7,
        "start_time": "2022-04-14T06:17:21.268Z"
      },
      {
        "duration": 297,
        "start_time": "2022-04-14T06:17:21.278Z"
      },
      {
        "duration": 120,
        "start_time": "2022-04-14T06:17:21.578Z"
      },
      {
        "duration": 33,
        "start_time": "2022-04-14T06:17:21.700Z"
      },
      {
        "duration": 146,
        "start_time": "2022-04-14T06:17:21.736Z"
      },
      {
        "duration": 572,
        "start_time": "2022-04-14T06:17:21.884Z"
      },
      {
        "duration": 19,
        "start_time": "2022-04-14T06:17:22.458Z"
      },
      {
        "duration": 98,
        "start_time": "2022-04-14T06:17:22.481Z"
      },
      {
        "duration": 44,
        "start_time": "2022-04-14T06:17:22.582Z"
      },
      {
        "duration": 19,
        "start_time": "2022-04-14T06:17:22.628Z"
      },
      {
        "duration": 15590,
        "start_time": "2022-04-14T06:17:22.650Z"
      },
      {
        "duration": 18,
        "start_time": "2022-04-14T06:17:38.242Z"
      },
      {
        "duration": 11,
        "start_time": "2022-04-14T06:17:38.262Z"
      },
      {
        "duration": 75,
        "start_time": "2022-04-14T06:17:38.275Z"
      },
      {
        "duration": 924,
        "start_time": "2022-04-14T06:17:38.353Z"
      },
      {
        "duration": 1229,
        "start_time": "2022-04-14T06:17:39.280Z"
      },
      {
        "duration": 49,
        "start_time": "2022-04-14T06:17:40.512Z"
      },
      {
        "duration": 103,
        "start_time": "2022-04-14T06:17:40.563Z"
      },
      {
        "duration": 62,
        "start_time": "2022-04-14T06:17:40.669Z"
      },
      {
        "duration": 31,
        "start_time": "2022-04-14T06:17:40.734Z"
      },
      {
        "duration": 139,
        "start_time": "2022-04-14T06:17:40.768Z"
      },
      {
        "duration": 15,
        "start_time": "2022-04-14T06:17:40.910Z"
      },
      {
        "duration": 44,
        "start_time": "2022-04-14T06:17:40.927Z"
      },
      {
        "duration": 250,
        "start_time": "2022-04-14T06:17:40.974Z"
      },
      {
        "duration": 211,
        "start_time": "2022-04-14T06:17:41.228Z"
      },
      {
        "duration": 113,
        "start_time": "2022-04-14T06:17:41.444Z"
      },
      {
        "duration": 7,
        "start_time": "2022-04-14T06:17:41.559Z"
      },
      {
        "duration": 17,
        "start_time": "2022-04-14T06:17:41.568Z"
      },
      {
        "duration": 50,
        "start_time": "2022-04-14T06:17:41.588Z"
      },
      {
        "duration": 17,
        "start_time": "2022-04-14T06:17:41.641Z"
      },
      {
        "duration": 15,
        "start_time": "2022-04-14T06:17:41.661Z"
      },
      {
        "duration": 46,
        "start_time": "2022-04-14T06:17:41.679Z"
      },
      {
        "duration": 223,
        "start_time": "2022-04-14T06:17:41.728Z"
      },
      {
        "duration": 12,
        "start_time": "2022-04-14T06:17:41.953Z"
      },
      {
        "duration": 229,
        "start_time": "2022-04-14T06:17:41.968Z"
      },
      {
        "duration": 229,
        "start_time": "2022-04-14T06:17:42.199Z"
      },
      {
        "duration": 1266,
        "start_time": "2022-04-14T06:17:42.430Z"
      },
      {
        "duration": 73,
        "start_time": "2022-04-14T06:17:43.698Z"
      },
      {
        "duration": 226,
        "start_time": "2022-04-14T06:17:43.773Z"
      },
      {
        "duration": 227,
        "start_time": "2022-04-14T06:17:44.001Z"
      },
      {
        "duration": 220,
        "start_time": "2022-04-14T06:17:44.230Z"
      },
      {
        "duration": 217,
        "start_time": "2022-04-14T06:17:44.452Z"
      },
      {
        "duration": 235,
        "start_time": "2022-04-14T06:17:44.672Z"
      },
      {
        "duration": 1412,
        "start_time": "2022-04-14T06:34:57.293Z"
      },
      {
        "duration": 271,
        "start_time": "2022-04-14T06:34:58.708Z"
      },
      {
        "duration": 8,
        "start_time": "2022-04-14T06:34:58.981Z"
      },
      {
        "duration": 318,
        "start_time": "2022-04-14T06:34:58.993Z"
      },
      {
        "duration": 137,
        "start_time": "2022-04-14T06:34:59.314Z"
      },
      {
        "duration": 22,
        "start_time": "2022-04-14T06:34:59.454Z"
      },
      {
        "duration": 161,
        "start_time": "2022-04-14T06:34:59.478Z"
      },
      {
        "duration": 601,
        "start_time": "2022-04-14T06:34:59.641Z"
      },
      {
        "duration": 19,
        "start_time": "2022-04-14T06:35:00.244Z"
      },
      {
        "duration": 96,
        "start_time": "2022-04-14T06:35:00.266Z"
      },
      {
        "duration": 38,
        "start_time": "2022-04-14T06:35:00.365Z"
      },
      {
        "duration": 29,
        "start_time": "2022-04-14T06:35:00.405Z"
      },
      {
        "duration": 14975,
        "start_time": "2022-04-14T06:35:00.436Z"
      },
      {
        "duration": 28,
        "start_time": "2022-04-14T06:35:15.413Z"
      },
      {
        "duration": 12,
        "start_time": "2022-04-14T06:35:15.444Z"
      },
      {
        "duration": 72,
        "start_time": "2022-04-14T06:35:15.458Z"
      },
      {
        "duration": 914,
        "start_time": "2022-04-14T06:35:15.533Z"
      },
      {
        "duration": 1189,
        "start_time": "2022-04-14T06:35:16.450Z"
      },
      {
        "duration": 39,
        "start_time": "2022-04-14T06:35:17.641Z"
      },
      {
        "duration": 104,
        "start_time": "2022-04-14T06:35:17.683Z"
      },
      {
        "duration": 53,
        "start_time": "2022-04-14T06:35:17.790Z"
      },
      {
        "duration": 28,
        "start_time": "2022-04-14T06:35:17.845Z"
      },
      {
        "duration": 84,
        "start_time": "2022-04-14T06:35:17.876Z"
      },
      {
        "duration": 121,
        "start_time": "2022-04-14T06:35:17.962Z"
      },
      {
        "duration": 5,
        "start_time": "2022-04-14T06:35:18.085Z"
      },
      {
        "duration": 58,
        "start_time": "2022-04-14T06:35:18.092Z"
      },
      {
        "duration": 235,
        "start_time": "2022-04-14T06:35:18.152Z"
      },
      {
        "duration": 186,
        "start_time": "2022-04-14T06:35:18.393Z"
      },
      {
        "duration": 156,
        "start_time": "2022-04-14T06:35:18.583Z"
      },
      {
        "duration": 10,
        "start_time": "2022-04-14T06:35:18.742Z"
      },
      {
        "duration": 16,
        "start_time": "2022-04-14T06:35:18.755Z"
      },
      {
        "duration": 14,
        "start_time": "2022-04-14T06:35:18.774Z"
      },
      {
        "duration": 43,
        "start_time": "2022-04-14T06:35:18.790Z"
      },
      {
        "duration": 15,
        "start_time": "2022-04-14T06:35:18.836Z"
      },
      {
        "duration": 12,
        "start_time": "2022-04-14T06:35:18.853Z"
      },
      {
        "duration": 238,
        "start_time": "2022-04-14T06:35:18.867Z"
      },
      {
        "duration": 21,
        "start_time": "2022-04-14T06:35:19.108Z"
      },
      {
        "duration": 221,
        "start_time": "2022-04-14T06:35:19.131Z"
      },
      {
        "duration": 220,
        "start_time": "2022-04-14T06:35:19.355Z"
      },
      {
        "duration": 1393,
        "start_time": "2022-04-14T06:35:19.578Z"
      },
      {
        "duration": 75,
        "start_time": "2022-04-14T06:35:20.973Z"
      },
      {
        "duration": 234,
        "start_time": "2022-04-14T06:35:21.051Z"
      },
      {
        "duration": 226,
        "start_time": "2022-04-14T06:35:21.287Z"
      },
      {
        "duration": 235,
        "start_time": "2022-04-14T06:35:21.516Z"
      },
      {
        "duration": 226,
        "start_time": "2022-04-14T06:35:21.753Z"
      },
      {
        "duration": 243,
        "start_time": "2022-04-14T06:35:21.982Z"
      },
      {
        "duration": 118,
        "start_time": "2022-04-14T06:37:04.282Z"
      },
      {
        "duration": 11,
        "start_time": "2022-04-14T06:39:30.135Z"
      },
      {
        "duration": 1460,
        "start_time": "2022-04-14T06:40:14.826Z"
      },
      {
        "duration": 263,
        "start_time": "2022-04-14T06:40:16.289Z"
      },
      {
        "duration": 6,
        "start_time": "2022-04-14T06:40:16.554Z"
      },
      {
        "duration": 263,
        "start_time": "2022-04-14T06:40:16.563Z"
      },
      {
        "duration": 120,
        "start_time": "2022-04-14T06:40:16.829Z"
      },
      {
        "duration": 20,
        "start_time": "2022-04-14T06:40:16.952Z"
      },
      {
        "duration": 148,
        "start_time": "2022-04-14T06:40:16.974Z"
      },
      {
        "duration": 528,
        "start_time": "2022-04-14T06:40:17.124Z"
      },
      {
        "duration": 20,
        "start_time": "2022-04-14T06:40:17.654Z"
      },
      {
        "duration": 90,
        "start_time": "2022-04-14T06:40:17.677Z"
      },
      {
        "duration": 34,
        "start_time": "2022-04-14T06:40:17.769Z"
      },
      {
        "duration": 35,
        "start_time": "2022-04-14T06:40:17.805Z"
      },
      {
        "duration": 15458,
        "start_time": "2022-04-14T06:40:17.842Z"
      },
      {
        "duration": 34,
        "start_time": "2022-04-14T06:40:33.302Z"
      },
      {
        "duration": 13,
        "start_time": "2022-04-14T06:40:33.339Z"
      },
      {
        "duration": 81,
        "start_time": "2022-04-14T06:40:33.355Z"
      },
      {
        "duration": 810,
        "start_time": "2022-04-14T06:40:33.439Z"
      },
      {
        "duration": 1228,
        "start_time": "2022-04-14T06:40:34.252Z"
      },
      {
        "duration": 51,
        "start_time": "2022-04-14T06:40:35.483Z"
      },
      {
        "duration": 94,
        "start_time": "2022-04-14T06:40:35.537Z"
      },
      {
        "duration": 41,
        "start_time": "2022-04-14T06:40:35.633Z"
      },
      {
        "duration": 49,
        "start_time": "2022-04-14T06:40:35.677Z"
      },
      {
        "duration": 60,
        "start_time": "2022-04-14T06:40:35.728Z"
      },
      {
        "duration": 140,
        "start_time": "2022-04-14T06:40:35.790Z"
      },
      {
        "duration": 106,
        "start_time": "2022-04-14T06:40:35.932Z"
      },
      {
        "duration": 7,
        "start_time": "2022-04-14T06:40:36.040Z"
      },
      {
        "duration": 53,
        "start_time": "2022-04-14T06:40:36.050Z"
      },
      {
        "duration": 238,
        "start_time": "2022-04-14T06:40:36.108Z"
      },
      {
        "duration": 186,
        "start_time": "2022-04-14T06:40:36.349Z"
      },
      {
        "duration": 107,
        "start_time": "2022-04-14T06:40:36.537Z"
      },
      {
        "duration": 7,
        "start_time": "2022-04-14T06:40:36.646Z"
      },
      {
        "duration": 27,
        "start_time": "2022-04-14T06:40:36.655Z"
      },
      {
        "duration": 15,
        "start_time": "2022-04-14T06:40:36.684Z"
      },
      {
        "duration": 35,
        "start_time": "2022-04-14T06:40:36.701Z"
      },
      {
        "duration": 15,
        "start_time": "2022-04-14T06:40:36.738Z"
      },
      {
        "duration": 10,
        "start_time": "2022-04-14T06:40:36.756Z"
      },
      {
        "duration": 244,
        "start_time": "2022-04-14T06:40:36.769Z"
      },
      {
        "duration": 10,
        "start_time": "2022-04-14T06:40:37.024Z"
      },
      {
        "duration": 218,
        "start_time": "2022-04-14T06:40:37.037Z"
      },
      {
        "duration": 220,
        "start_time": "2022-04-14T06:40:37.257Z"
      },
      {
        "duration": 1294,
        "start_time": "2022-04-14T06:40:37.478Z"
      },
      {
        "duration": 80,
        "start_time": "2022-04-14T06:40:38.774Z"
      },
      {
        "duration": 232,
        "start_time": "2022-04-14T06:40:38.857Z"
      },
      {
        "duration": 238,
        "start_time": "2022-04-14T06:40:39.091Z"
      },
      {
        "duration": 237,
        "start_time": "2022-04-14T06:40:39.332Z"
      },
      {
        "duration": 220,
        "start_time": "2022-04-14T06:40:39.571Z"
      },
      {
        "duration": 233,
        "start_time": "2022-04-14T06:40:39.794Z"
      },
      {
        "duration": 7,
        "start_time": "2022-04-14T06:59:48.757Z"
      },
      {
        "duration": 157,
        "start_time": "2022-04-14T07:00:42.782Z"
      },
      {
        "duration": 7,
        "start_time": "2022-04-14T07:00:59.893Z"
      },
      {
        "duration": 6,
        "start_time": "2022-04-14T07:01:13.616Z"
      },
      {
        "duration": 4,
        "start_time": "2022-04-14T07:01:27.928Z"
      },
      {
        "duration": 4,
        "start_time": "2022-04-14T07:01:31.920Z"
      },
      {
        "duration": 1491,
        "start_time": "2022-04-14T07:01:48.788Z"
      },
      {
        "duration": 269,
        "start_time": "2022-04-14T07:01:50.282Z"
      },
      {
        "duration": 7,
        "start_time": "2022-04-14T07:01:50.554Z"
      },
      {
        "duration": 297,
        "start_time": "2022-04-14T07:01:50.565Z"
      },
      {
        "duration": 116,
        "start_time": "2022-04-14T07:01:50.865Z"
      },
      {
        "duration": 21,
        "start_time": "2022-04-14T07:01:50.984Z"
      },
      {
        "duration": 152,
        "start_time": "2022-04-14T07:01:51.008Z"
      },
      {
        "duration": 563,
        "start_time": "2022-04-14T07:01:51.162Z"
      },
      {
        "duration": 18,
        "start_time": "2022-04-14T07:01:51.728Z"
      },
      {
        "duration": 97,
        "start_time": "2022-04-14T07:01:51.749Z"
      },
      {
        "duration": 35,
        "start_time": "2022-04-14T07:01:51.848Z"
      },
      {
        "duration": 40,
        "start_time": "2022-04-14T07:01:51.885Z"
      },
      {
        "duration": 15503,
        "start_time": "2022-04-14T07:01:51.927Z"
      },
      {
        "duration": 18,
        "start_time": "2022-04-14T07:02:07.433Z"
      },
      {
        "duration": 11,
        "start_time": "2022-04-14T07:02:07.453Z"
      },
      {
        "duration": 71,
        "start_time": "2022-04-14T07:02:07.466Z"
      },
      {
        "duration": 796,
        "start_time": "2022-04-14T07:02:07.539Z"
      },
      {
        "duration": 1210,
        "start_time": "2022-04-14T07:02:08.338Z"
      },
      {
        "duration": 38,
        "start_time": "2022-04-14T07:02:09.550Z"
      },
      {
        "duration": 101,
        "start_time": "2022-04-14T07:02:09.590Z"
      },
      {
        "duration": 52,
        "start_time": "2022-04-14T07:02:09.693Z"
      },
      {
        "duration": 28,
        "start_time": "2022-04-14T07:02:09.748Z"
      },
      {
        "duration": 81,
        "start_time": "2022-04-14T07:02:09.778Z"
      },
      {
        "duration": 127,
        "start_time": "2022-04-14T07:02:09.861Z"
      },
      {
        "duration": 100,
        "start_time": "2022-04-14T07:02:09.990Z"
      },
      {
        "duration": 5,
        "start_time": "2022-04-14T07:02:10.092Z"
      },
      {
        "duration": 59,
        "start_time": "2022-04-14T07:02:10.099Z"
      },
      {
        "duration": 229,
        "start_time": "2022-04-14T07:02:10.163Z"
      },
      {
        "duration": 13,
        "start_time": "2022-04-14T07:02:10.394Z"
      },
      {
        "duration": 7,
        "start_time": "2022-04-14T07:02:10.425Z"
      },
      {
        "duration": 13,
        "start_time": "2022-04-14T07:02:10.434Z"
      },
      {
        "duration": 221,
        "start_time": "2022-04-14T07:02:10.449Z"
      },
      {
        "duration": 116,
        "start_time": "2022-04-14T07:02:10.673Z"
      },
      {
        "duration": 9,
        "start_time": "2022-04-14T07:02:10.791Z"
      },
      {
        "duration": 39,
        "start_time": "2022-04-14T07:02:10.802Z"
      },
      {
        "duration": 18,
        "start_time": "2022-04-14T07:02:10.843Z"
      },
      {
        "duration": 16,
        "start_time": "2022-04-14T07:02:10.864Z"
      },
      {
        "duration": 60,
        "start_time": "2022-04-14T07:02:10.882Z"
      },
      {
        "duration": 14,
        "start_time": "2022-04-14T07:02:10.945Z"
      },
      {
        "duration": 1301,
        "start_time": "2022-04-14T07:02:10.961Z"
      },
      {
        "duration": 11,
        "start_time": "2022-04-14T07:02:12.265Z"
      },
      {
        "duration": 295,
        "start_time": "2022-04-14T07:02:12.279Z"
      },
      {
        "duration": 231,
        "start_time": "2022-04-14T07:02:12.576Z"
      },
      {
        "duration": 224,
        "start_time": "2022-04-14T07:02:12.810Z"
      },
      {
        "duration": 89,
        "start_time": "2022-04-14T07:02:13.036Z"
      },
      {
        "duration": 226,
        "start_time": "2022-04-14T07:02:13.127Z"
      },
      {
        "duration": 218,
        "start_time": "2022-04-14T07:02:13.355Z"
      },
      {
        "duration": 222,
        "start_time": "2022-04-14T07:02:13.576Z"
      },
      {
        "duration": 227,
        "start_time": "2022-04-14T07:02:13.801Z"
      },
      {
        "duration": 228,
        "start_time": "2022-04-14T07:02:14.030Z"
      },
      {
        "duration": 6,
        "start_time": "2022-04-14T07:03:04.976Z"
      },
      {
        "duration": 3,
        "start_time": "2022-04-14T07:03:15.489Z"
      },
      {
        "duration": 6,
        "start_time": "2022-04-14T07:03:21.641Z"
      },
      {
        "duration": 168,
        "start_time": "2022-04-14T07:03:32.163Z"
      },
      {
        "duration": 5,
        "start_time": "2022-04-14T07:03:39.394Z"
      },
      {
        "duration": 5,
        "start_time": "2022-04-14T07:03:46.683Z"
      },
      {
        "duration": 3,
        "start_time": "2022-04-14T07:03:50.962Z"
      },
      {
        "duration": 1378,
        "start_time": "2022-04-14T07:04:35.475Z"
      },
      {
        "duration": 387,
        "start_time": "2022-04-14T07:04:36.855Z"
      },
      {
        "duration": 9,
        "start_time": "2022-04-14T07:04:37.245Z"
      },
      {
        "duration": 296,
        "start_time": "2022-04-14T07:04:37.259Z"
      },
      {
        "duration": 123,
        "start_time": "2022-04-14T07:04:37.557Z"
      },
      {
        "duration": 22,
        "start_time": "2022-04-14T07:04:37.683Z"
      },
      {
        "duration": 158,
        "start_time": "2022-04-14T07:04:37.707Z"
      },
      {
        "duration": 530,
        "start_time": "2022-04-14T07:04:37.868Z"
      },
      {
        "duration": 27,
        "start_time": "2022-04-14T07:04:38.400Z"
      },
      {
        "duration": 69,
        "start_time": "2022-04-14T07:04:38.431Z"
      },
      {
        "duration": 50,
        "start_time": "2022-04-14T07:04:38.503Z"
      },
      {
        "duration": 18,
        "start_time": "2022-04-14T07:04:38.555Z"
      },
      {
        "duration": 14983,
        "start_time": "2022-04-14T07:04:38.576Z"
      },
      {
        "duration": 19,
        "start_time": "2022-04-14T07:04:53.561Z"
      },
      {
        "duration": 12,
        "start_time": "2022-04-14T07:04:53.582Z"
      },
      {
        "duration": 71,
        "start_time": "2022-04-14T07:04:53.597Z"
      },
      {
        "duration": 783,
        "start_time": "2022-04-14T07:04:53.670Z"
      },
      {
        "duration": 1202,
        "start_time": "2022-04-14T07:04:54.456Z"
      },
      {
        "duration": 40,
        "start_time": "2022-04-14T07:04:55.661Z"
      },
      {
        "duration": 98,
        "start_time": "2022-04-14T07:04:55.703Z"
      },
      {
        "duration": 57,
        "start_time": "2022-04-14T07:04:55.803Z"
      },
      {
        "duration": 30,
        "start_time": "2022-04-14T07:04:55.862Z"
      },
      {
        "duration": 114,
        "start_time": "2022-04-14T07:04:55.896Z"
      },
      {
        "duration": 172,
        "start_time": "2022-04-14T07:04:56.026Z"
      },
      {
        "duration": 150,
        "start_time": "2022-04-14T07:04:56.201Z"
      },
      {
        "duration": 7,
        "start_time": "2022-04-14T07:04:56.354Z"
      },
      {
        "duration": 80,
        "start_time": "2022-04-14T07:04:56.364Z"
      },
      {
        "duration": 329,
        "start_time": "2022-04-14T07:04:56.453Z"
      },
      {
        "duration": 20,
        "start_time": "2022-04-14T07:04:56.785Z"
      },
      {
        "duration": 9,
        "start_time": "2022-04-14T07:04:56.826Z"
      },
      {
        "duration": 5,
        "start_time": "2022-04-14T07:04:56.839Z"
      },
      {
        "duration": 211,
        "start_time": "2022-04-14T07:04:56.847Z"
      },
      {
        "duration": 96,
        "start_time": "2022-04-14T07:04:57.061Z"
      },
      {
        "duration": 6,
        "start_time": "2022-04-14T07:04:57.159Z"
      },
      {
        "duration": 17,
        "start_time": "2022-04-14T07:04:57.168Z"
      },
      {
        "duration": 39,
        "start_time": "2022-04-14T07:04:57.187Z"
      },
      {
        "duration": 16,
        "start_time": "2022-04-14T07:04:57.228Z"
      },
      {
        "duration": 18,
        "start_time": "2022-04-14T07:04:57.246Z"
      },
      {
        "duration": 13,
        "start_time": "2022-04-14T07:04:57.267Z"
      },
      {
        "duration": 258,
        "start_time": "2022-04-14T07:04:57.283Z"
      },
      {
        "duration": 981,
        "start_time": "2022-04-14T07:04:57.544Z"
      },
      {
        "duration": 213,
        "start_time": "2022-04-14T07:04:58.528Z"
      },
      {
        "duration": 218,
        "start_time": "2022-04-14T07:04:58.743Z"
      },
      {
        "duration": 220,
        "start_time": "2022-04-14T07:04:58.964Z"
      },
      {
        "duration": 81,
        "start_time": "2022-04-14T07:04:59.187Z"
      },
      {
        "duration": 223,
        "start_time": "2022-04-14T07:04:59.271Z"
      },
      {
        "duration": 222,
        "start_time": "2022-04-14T07:04:59.496Z"
      },
      {
        "duration": 209,
        "start_time": "2022-04-14T07:04:59.725Z"
      },
      {
        "duration": 231,
        "start_time": "2022-04-14T07:04:59.937Z"
      },
      {
        "duration": 238,
        "start_time": "2022-04-14T07:05:00.170Z"
      },
      {
        "duration": 296,
        "start_time": "2022-04-14T07:05:51.778Z"
      },
      {
        "duration": 13,
        "start_time": "2022-04-14T07:06:06.709Z"
      },
      {
        "duration": 8,
        "start_time": "2022-04-14T07:06:23.364Z"
      },
      {
        "duration": 4,
        "start_time": "2022-04-14T07:06:41.493Z"
      },
      {
        "duration": 1655,
        "start_time": "2022-04-14T07:07:24.389Z"
      },
      {
        "duration": 413,
        "start_time": "2022-04-14T07:07:26.046Z"
      },
      {
        "duration": 7,
        "start_time": "2022-04-14T07:07:26.461Z"
      },
      {
        "duration": 300,
        "start_time": "2022-04-14T07:07:26.471Z"
      },
      {
        "duration": 132,
        "start_time": "2022-04-14T07:07:26.774Z"
      },
      {
        "duration": 25,
        "start_time": "2022-04-14T07:07:26.908Z"
      },
      {
        "duration": 165,
        "start_time": "2022-04-14T07:07:26.936Z"
      },
      {
        "duration": 599,
        "start_time": "2022-04-14T07:07:27.103Z"
      },
      {
        "duration": 25,
        "start_time": "2022-04-14T07:07:27.705Z"
      },
      {
        "duration": 118,
        "start_time": "2022-04-14T07:07:27.736Z"
      },
      {
        "duration": 36,
        "start_time": "2022-04-14T07:07:27.857Z"
      },
      {
        "duration": 44,
        "start_time": "2022-04-14T07:07:27.895Z"
      },
      {
        "duration": 15697,
        "start_time": "2022-04-14T07:07:27.941Z"
      },
      {
        "duration": 20,
        "start_time": "2022-04-14T07:07:43.640Z"
      },
      {
        "duration": 11,
        "start_time": "2022-04-14T07:07:43.662Z"
      },
      {
        "duration": 77,
        "start_time": "2022-04-14T07:07:43.675Z"
      },
      {
        "duration": 805,
        "start_time": "2022-04-14T07:07:43.754Z"
      },
      {
        "duration": 1220,
        "start_time": "2022-04-14T07:07:44.561Z"
      },
      {
        "duration": 49,
        "start_time": "2022-04-14T07:07:45.783Z"
      },
      {
        "duration": 97,
        "start_time": "2022-04-14T07:07:45.834Z"
      },
      {
        "duration": 43,
        "start_time": "2022-04-14T07:07:45.933Z"
      },
      {
        "duration": 50,
        "start_time": "2022-04-14T07:07:45.979Z"
      },
      {
        "duration": 62,
        "start_time": "2022-04-14T07:07:46.032Z"
      },
      {
        "duration": 142,
        "start_time": "2022-04-14T07:07:46.096Z"
      },
      {
        "duration": 101,
        "start_time": "2022-04-14T07:07:46.240Z"
      },
      {
        "duration": 5,
        "start_time": "2022-04-14T07:07:46.344Z"
      },
      {
        "duration": 46,
        "start_time": "2022-04-14T07:07:46.351Z"
      },
      {
        "duration": 248,
        "start_time": "2022-04-14T07:07:46.403Z"
      },
      {
        "duration": 15,
        "start_time": "2022-04-14T07:07:46.654Z"
      },
      {
        "duration": 7,
        "start_time": "2022-04-14T07:07:46.672Z"
      },
      {
        "duration": 6,
        "start_time": "2022-04-14T07:07:46.681Z"
      },
      {
        "duration": 149,
        "start_time": "2022-04-14T07:07:46.724Z"
      },
      {
        "duration": 112,
        "start_time": "2022-04-14T07:07:46.876Z"
      },
      {
        "duration": 7,
        "start_time": "2022-04-14T07:07:46.990Z"
      },
      {
        "duration": 34,
        "start_time": "2022-04-14T07:07:46.999Z"
      },
      {
        "duration": 15,
        "start_time": "2022-04-14T07:07:47.036Z"
      },
      {
        "duration": 15,
        "start_time": "2022-04-14T07:07:47.054Z"
      },
      {
        "duration": 59,
        "start_time": "2022-04-14T07:07:47.072Z"
      },
      {
        "duration": 13,
        "start_time": "2022-04-14T07:07:47.135Z"
      },
      {
        "duration": 230,
        "start_time": "2022-04-14T07:07:47.151Z"
      },
      {
        "duration": 1096,
        "start_time": "2022-04-14T07:07:47.384Z"
      },
      {
        "duration": 228,
        "start_time": "2022-04-14T07:07:48.482Z"
      },
      {
        "duration": 220,
        "start_time": "2022-04-14T07:07:48.712Z"
      },
      {
        "duration": 229,
        "start_time": "2022-04-14T07:07:48.934Z"
      },
      {
        "duration": 81,
        "start_time": "2022-04-14T07:07:49.165Z"
      },
      {
        "duration": 234,
        "start_time": "2022-04-14T07:07:49.248Z"
      },
      {
        "duration": 229,
        "start_time": "2022-04-14T07:07:49.484Z"
      },
      {
        "duration": 231,
        "start_time": "2022-04-14T07:07:49.716Z"
      },
      {
        "duration": 230,
        "start_time": "2022-04-14T07:07:49.949Z"
      },
      {
        "duration": 233,
        "start_time": "2022-04-14T07:07:50.182Z"
      },
      {
        "duration": 6,
        "start_time": "2022-04-14T07:09:47.719Z"
      },
      {
        "duration": 1476,
        "start_time": "2022-04-14T07:11:40.025Z"
      },
      {
        "duration": 289,
        "start_time": "2022-04-14T07:11:41.504Z"
      },
      {
        "duration": 7,
        "start_time": "2022-04-14T07:11:41.795Z"
      },
      {
        "duration": 290,
        "start_time": "2022-04-14T07:11:41.806Z"
      },
      {
        "duration": 114,
        "start_time": "2022-04-14T07:11:42.098Z"
      },
      {
        "duration": 30,
        "start_time": "2022-04-14T07:11:42.214Z"
      },
      {
        "duration": 156,
        "start_time": "2022-04-14T07:11:42.246Z"
      },
      {
        "duration": 554,
        "start_time": "2022-04-14T07:11:42.405Z"
      },
      {
        "duration": 20,
        "start_time": "2022-04-14T07:11:42.962Z"
      },
      {
        "duration": 99,
        "start_time": "2022-04-14T07:11:42.987Z"
      },
      {
        "duration": 47,
        "start_time": "2022-04-14T07:11:43.088Z"
      },
      {
        "duration": 18,
        "start_time": "2022-04-14T07:11:43.137Z"
      },
      {
        "duration": 15999,
        "start_time": "2022-04-14T07:11:43.157Z"
      },
      {
        "duration": 19,
        "start_time": "2022-04-14T07:11:59.159Z"
      },
      {
        "duration": 11,
        "start_time": "2022-04-14T07:11:59.181Z"
      },
      {
        "duration": 69,
        "start_time": "2022-04-14T07:11:59.195Z"
      },
      {
        "duration": 915,
        "start_time": "2022-04-14T07:11:59.267Z"
      },
      {
        "duration": 1280,
        "start_time": "2022-04-14T07:12:00.185Z"
      },
      {
        "duration": 40,
        "start_time": "2022-04-14T07:12:01.468Z"
      },
      {
        "duration": 79,
        "start_time": "2022-04-14T07:12:01.525Z"
      },
      {
        "duration": 41,
        "start_time": "2022-04-14T07:12:01.624Z"
      },
      {
        "duration": 104,
        "start_time": "2022-04-14T07:12:01.667Z"
      },
      {
        "duration": 97,
        "start_time": "2022-04-14T07:12:01.773Z"
      },
      {
        "duration": 129,
        "start_time": "2022-04-14T07:12:01.872Z"
      },
      {
        "duration": 103,
        "start_time": "2022-04-14T07:12:02.003Z"
      },
      {
        "duration": 5,
        "start_time": "2022-04-14T07:12:02.108Z"
      },
      {
        "duration": 97,
        "start_time": "2022-04-14T07:12:02.115Z"
      },
      {
        "duration": 252,
        "start_time": "2022-04-14T07:12:02.217Z"
      },
      {
        "duration": 14,
        "start_time": "2022-04-14T07:12:02.471Z"
      },
      {
        "duration": 39,
        "start_time": "2022-04-14T07:12:02.487Z"
      },
      {
        "duration": 28,
        "start_time": "2022-04-14T07:12:02.528Z"
      },
      {
        "duration": 200,
        "start_time": "2022-04-14T07:12:02.558Z"
      },
      {
        "duration": 126,
        "start_time": "2022-04-14T07:12:02.760Z"
      },
      {
        "duration": 7,
        "start_time": "2022-04-14T07:12:02.889Z"
      },
      {
        "duration": 58,
        "start_time": "2022-04-14T07:12:02.899Z"
      },
      {
        "duration": 33,
        "start_time": "2022-04-14T07:12:02.959Z"
      },
      {
        "duration": 67,
        "start_time": "2022-04-14T07:12:02.995Z"
      },
      {
        "duration": 55,
        "start_time": "2022-04-14T07:12:03.064Z"
      },
      {
        "duration": 24,
        "start_time": "2022-04-14T07:12:03.122Z"
      },
      {
        "duration": 425,
        "start_time": "2022-04-14T07:12:03.148Z"
      },
      {
        "duration": 1311,
        "start_time": "2022-04-14T07:12:03.578Z"
      },
      {
        "duration": 338,
        "start_time": "2022-04-14T07:12:04.892Z"
      },
      {
        "duration": 344,
        "start_time": "2022-04-14T07:12:05.233Z"
      },
      {
        "duration": 262,
        "start_time": "2022-04-14T07:12:05.580Z"
      },
      {
        "duration": 127,
        "start_time": "2022-04-14T07:12:05.845Z"
      },
      {
        "duration": 335,
        "start_time": "2022-04-14T07:12:05.975Z"
      },
      {
        "duration": 214,
        "start_time": "2022-04-14T07:12:06.323Z"
      },
      {
        "duration": 225,
        "start_time": "2022-04-14T07:12:06.540Z"
      },
      {
        "duration": 224,
        "start_time": "2022-04-14T07:12:06.768Z"
      },
      {
        "duration": 234,
        "start_time": "2022-04-14T07:12:06.994Z"
      },
      {
        "duration": 179,
        "start_time": "2022-04-14T08:10:20.268Z"
      },
      {
        "duration": 11,
        "start_time": "2022-04-14T08:44:19.075Z"
      },
      {
        "duration": 1418,
        "start_time": "2022-04-14T09:28:09.767Z"
      },
      {
        "duration": 262,
        "start_time": "2022-04-14T09:28:11.188Z"
      },
      {
        "duration": 6,
        "start_time": "2022-04-14T09:28:11.453Z"
      },
      {
        "duration": 317,
        "start_time": "2022-04-14T09:28:11.462Z"
      },
      {
        "duration": 125,
        "start_time": "2022-04-14T09:28:11.782Z"
      },
      {
        "duration": 25,
        "start_time": "2022-04-14T09:28:11.910Z"
      },
      {
        "duration": 162,
        "start_time": "2022-04-14T09:28:11.938Z"
      },
      {
        "duration": 555,
        "start_time": "2022-04-14T09:28:12.102Z"
      },
      {
        "duration": 19,
        "start_time": "2022-04-14T09:28:12.659Z"
      },
      {
        "duration": 93,
        "start_time": "2022-04-14T09:28:12.682Z"
      },
      {
        "duration": 49,
        "start_time": "2022-04-14T09:28:12.777Z"
      },
      {
        "duration": 18,
        "start_time": "2022-04-14T09:28:12.829Z"
      },
      {
        "duration": 15882,
        "start_time": "2022-04-14T09:28:12.849Z"
      },
      {
        "duration": 21,
        "start_time": "2022-04-14T09:28:28.734Z"
      },
      {
        "duration": 14,
        "start_time": "2022-04-14T09:28:28.758Z"
      },
      {
        "duration": 80,
        "start_time": "2022-04-14T09:28:28.774Z"
      },
      {
        "duration": 910,
        "start_time": "2022-04-14T09:28:28.856Z"
      },
      {
        "duration": 1222,
        "start_time": "2022-04-14T09:28:29.768Z"
      },
      {
        "duration": 53,
        "start_time": "2022-04-14T09:28:30.993Z"
      },
      {
        "duration": 98,
        "start_time": "2022-04-14T09:28:31.050Z"
      },
      {
        "duration": 44,
        "start_time": "2022-04-14T09:28:31.151Z"
      },
      {
        "duration": 56,
        "start_time": "2022-04-14T09:28:31.198Z"
      },
      {
        "duration": 85,
        "start_time": "2022-04-14T09:28:31.256Z"
      },
      {
        "duration": 129,
        "start_time": "2022-04-14T09:28:31.343Z"
      },
      {
        "duration": 107,
        "start_time": "2022-04-14T09:28:31.474Z"
      },
      {
        "duration": 5,
        "start_time": "2022-04-14T09:28:31.583Z"
      },
      {
        "duration": 61,
        "start_time": "2022-04-14T09:28:31.590Z"
      },
      {
        "duration": 251,
        "start_time": "2022-04-14T09:28:31.657Z"
      },
      {
        "duration": 21,
        "start_time": "2022-04-14T09:28:31.911Z"
      },
      {
        "duration": 207,
        "start_time": "2022-04-14T09:28:31.935Z"
      },
      {
        "duration": 135,
        "start_time": "2022-04-14T09:28:32.144Z"
      },
      {
        "duration": 7,
        "start_time": "2022-04-14T09:28:32.282Z"
      },
      {
        "duration": 37,
        "start_time": "2022-04-14T09:28:32.291Z"
      },
      {
        "duration": 15,
        "start_time": "2022-04-14T09:28:32.331Z"
      },
      {
        "duration": 15,
        "start_time": "2022-04-14T09:28:32.348Z"
      },
      {
        "duration": 64,
        "start_time": "2022-04-14T09:28:32.365Z"
      },
      {
        "duration": 1157,
        "start_time": "2022-04-14T09:28:32.432Z"
      },
      {
        "duration": 234,
        "start_time": "2022-04-14T09:28:33.591Z"
      },
      {
        "duration": 11,
        "start_time": "2022-04-14T09:28:33.828Z"
      },
      {
        "duration": 240,
        "start_time": "2022-04-14T09:28:33.841Z"
      },
      {
        "duration": 12,
        "start_time": "2022-04-14T09:28:34.083Z"
      },
      {
        "duration": 242,
        "start_time": "2022-04-14T09:28:34.097Z"
      },
      {
        "duration": 231,
        "start_time": "2022-04-14T09:28:34.341Z"
      },
      {
        "duration": 91,
        "start_time": "2022-04-14T09:28:34.574Z"
      },
      {
        "duration": 235,
        "start_time": "2022-04-14T09:28:34.667Z"
      },
      {
        "duration": 230,
        "start_time": "2022-04-14T09:28:34.904Z"
      },
      {
        "duration": 224,
        "start_time": "2022-04-14T09:28:35.136Z"
      },
      {
        "duration": 227,
        "start_time": "2022-04-14T09:28:35.362Z"
      },
      {
        "duration": 224,
        "start_time": "2022-04-14T09:28:35.591Z"
      },
      {
        "duration": 224,
        "start_time": "2022-04-14T09:28:35.825Z"
      },
      {
        "duration": 231,
        "start_time": "2022-04-14T09:28:36.051Z"
      },
      {
        "duration": 231,
        "start_time": "2022-04-14T09:28:36.285Z"
      },
      {
        "duration": 222,
        "start_time": "2022-04-14T09:28:36.518Z"
      },
      {
        "duration": 230,
        "start_time": "2022-04-14T09:28:36.742Z"
      },
      {
        "duration": 230,
        "start_time": "2022-04-14T09:28:36.977Z"
      },
      {
        "duration": 2216,
        "start_time": "2022-04-14T09:39:10.238Z"
      },
      {
        "duration": 284,
        "start_time": "2022-04-14T09:39:12.457Z"
      },
      {
        "duration": 6,
        "start_time": "2022-04-14T09:39:12.744Z"
      },
      {
        "duration": 315,
        "start_time": "2022-04-14T09:39:12.754Z"
      },
      {
        "duration": 125,
        "start_time": "2022-04-14T09:39:13.071Z"
      },
      {
        "duration": 39,
        "start_time": "2022-04-14T09:39:13.199Z"
      },
      {
        "duration": 153,
        "start_time": "2022-04-14T09:39:13.240Z"
      },
      {
        "duration": 580,
        "start_time": "2022-04-14T09:39:13.396Z"
      },
      {
        "duration": 20,
        "start_time": "2022-04-14T09:39:13.978Z"
      },
      {
        "duration": 140,
        "start_time": "2022-04-14T09:39:14.023Z"
      },
      {
        "duration": 64,
        "start_time": "2022-04-14T09:39:14.167Z"
      },
      {
        "duration": 24,
        "start_time": "2022-04-14T09:39:14.235Z"
      },
      {
        "duration": 22462,
        "start_time": "2022-04-14T09:39:14.262Z"
      },
      {
        "duration": 18,
        "start_time": "2022-04-14T09:39:36.727Z"
      },
      {
        "duration": 11,
        "start_time": "2022-04-14T09:39:36.748Z"
      },
      {
        "duration": 79,
        "start_time": "2022-04-14T09:39:36.761Z"
      },
      {
        "duration": 1218,
        "start_time": "2022-04-14T09:39:36.843Z"
      },
      {
        "duration": 2503,
        "start_time": "2022-04-14T09:39:38.064Z"
      },
      {
        "duration": 39,
        "start_time": "2022-04-14T09:39:40.570Z"
      },
      {
        "duration": 77,
        "start_time": "2022-04-14T09:39:40.626Z"
      },
      {
        "duration": 42,
        "start_time": "2022-04-14T09:39:40.725Z"
      },
      {
        "duration": 31,
        "start_time": "2022-04-14T09:39:40.770Z"
      },
      {
        "duration": 62,
        "start_time": "2022-04-14T09:39:40.826Z"
      },
      {
        "duration": 136,
        "start_time": "2022-04-14T09:39:40.891Z"
      },
      {
        "duration": 102,
        "start_time": "2022-04-14T09:39:41.029Z"
      },
      {
        "duration": 6,
        "start_time": "2022-04-14T09:39:41.133Z"
      },
      {
        "duration": 43,
        "start_time": "2022-04-14T09:39:41.142Z"
      },
      {
        "duration": 270,
        "start_time": "2022-04-14T09:39:41.192Z"
      },
      {
        "duration": 21,
        "start_time": "2022-04-14T09:39:41.464Z"
      },
      {
        "duration": 174,
        "start_time": "2022-04-14T09:39:41.487Z"
      },
      {
        "duration": 109,
        "start_time": "2022-04-14T09:39:41.663Z"
      },
      {
        "duration": 6,
        "start_time": "2022-04-14T09:39:41.775Z"
      },
      {
        "duration": 19,
        "start_time": "2022-04-14T09:39:41.784Z"
      },
      {
        "duration": 29,
        "start_time": "2022-04-14T09:39:41.806Z"
      },
      {
        "duration": 13,
        "start_time": "2022-04-14T09:39:41.838Z"
      },
      {
        "duration": 15,
        "start_time": "2022-04-14T09:39:41.853Z"
      },
      {
        "duration": 1063,
        "start_time": "2022-04-14T09:39:41.870Z"
      },
      {
        "duration": 240,
        "start_time": "2022-04-14T09:39:42.935Z"
      },
      {
        "duration": 11,
        "start_time": "2022-04-14T09:39:43.178Z"
      },
      {
        "duration": 244,
        "start_time": "2022-04-14T09:39:43.192Z"
      },
      {
        "duration": 11,
        "start_time": "2022-04-14T09:39:43.439Z"
      },
      {
        "duration": 254,
        "start_time": "2022-04-14T09:39:43.452Z"
      },
      {
        "duration": 230,
        "start_time": "2022-04-14T09:39:43.708Z"
      },
      {
        "duration": 87,
        "start_time": "2022-04-14T09:39:43.940Z"
      },
      {
        "duration": 229,
        "start_time": "2022-04-14T09:39:44.029Z"
      },
      {
        "duration": 227,
        "start_time": "2022-04-14T09:39:44.260Z"
      },
      {
        "duration": 223,
        "start_time": "2022-04-14T09:39:44.490Z"
      },
      {
        "duration": 222,
        "start_time": "2022-04-14T09:39:44.715Z"
      },
      {
        "duration": 227,
        "start_time": "2022-04-14T09:39:44.940Z"
      },
      {
        "duration": 224,
        "start_time": "2022-04-14T09:39:45.169Z"
      },
      {
        "duration": 225,
        "start_time": "2022-04-14T09:39:45.395Z"
      },
      {
        "duration": 226,
        "start_time": "2022-04-14T09:39:45.626Z"
      },
      {
        "duration": 223,
        "start_time": "2022-04-14T09:39:45.854Z"
      },
      {
        "duration": 223,
        "start_time": "2022-04-14T09:39:46.079Z"
      },
      {
        "duration": 233,
        "start_time": "2022-04-14T09:39:46.304Z"
      },
      {
        "duration": 1511,
        "start_time": "2022-04-14T09:47:00.257Z"
      },
      {
        "duration": 271,
        "start_time": "2022-04-14T09:47:01.771Z"
      },
      {
        "duration": 6,
        "start_time": "2022-04-14T09:47:02.044Z"
      },
      {
        "duration": 299,
        "start_time": "2022-04-14T09:47:02.053Z"
      },
      {
        "duration": 123,
        "start_time": "2022-04-14T09:47:02.355Z"
      },
      {
        "duration": 21,
        "start_time": "2022-04-14T09:47:02.480Z"
      },
      {
        "duration": 162,
        "start_time": "2022-04-14T09:47:02.503Z"
      },
      {
        "duration": 590,
        "start_time": "2022-04-14T09:47:02.667Z"
      },
      {
        "duration": 19,
        "start_time": "2022-04-14T09:47:03.259Z"
      },
      {
        "duration": 104,
        "start_time": "2022-04-14T09:47:03.282Z"
      },
      {
        "duration": 47,
        "start_time": "2022-04-14T09:47:03.388Z"
      },
      {
        "duration": 19,
        "start_time": "2022-04-14T09:47:03.437Z"
      },
      {
        "duration": 14896,
        "start_time": "2022-04-14T09:47:03.458Z"
      },
      {
        "duration": 19,
        "start_time": "2022-04-14T09:47:18.357Z"
      },
      {
        "duration": 12,
        "start_time": "2022-04-14T09:47:18.378Z"
      },
      {
        "duration": 71,
        "start_time": "2022-04-14T09:47:18.392Z"
      },
      {
        "duration": 781,
        "start_time": "2022-04-14T09:47:18.465Z"
      },
      {
        "duration": 1170,
        "start_time": "2022-04-14T09:47:19.248Z"
      },
      {
        "duration": 39,
        "start_time": "2022-04-14T09:47:20.424Z"
      },
      {
        "duration": 155,
        "start_time": "2022-04-14T09:47:20.466Z"
      },
      {
        "duration": 39,
        "start_time": "2022-04-14T09:47:20.623Z"
      },
      {
        "duration": 29,
        "start_time": "2022-04-14T09:47:20.664Z"
      },
      {
        "duration": 86,
        "start_time": "2022-04-14T09:47:20.695Z"
      },
      {
        "duration": 139,
        "start_time": "2022-04-14T09:47:20.783Z"
      },
      {
        "duration": 102,
        "start_time": "2022-04-14T09:47:20.924Z"
      },
      {
        "duration": 6,
        "start_time": "2022-04-14T09:47:21.028Z"
      },
      {
        "duration": 53,
        "start_time": "2022-04-14T09:47:21.036Z"
      },
      {
        "duration": 241,
        "start_time": "2022-04-14T09:47:21.095Z"
      },
      {
        "duration": 29,
        "start_time": "2022-04-14T09:47:21.338Z"
      },
      {
        "duration": 275,
        "start_time": "2022-04-14T09:47:21.369Z"
      },
      {
        "duration": 102,
        "start_time": "2022-04-14T09:47:21.647Z"
      },
      {
        "duration": 7,
        "start_time": "2022-04-14T09:47:21.751Z"
      },
      {
        "duration": 20,
        "start_time": "2022-04-14T09:47:21.760Z"
      },
      {
        "duration": 17,
        "start_time": "2022-04-14T09:47:21.782Z"
      },
      {
        "duration": 36,
        "start_time": "2022-04-14T09:47:21.801Z"
      },
      {
        "duration": 128,
        "start_time": "2022-04-14T09:47:21.840Z"
      },
      {
        "duration": 1195,
        "start_time": "2022-04-14T09:47:21.970Z"
      },
      {
        "duration": 269,
        "start_time": "2022-04-14T09:47:23.167Z"
      },
      {
        "duration": 12,
        "start_time": "2022-04-14T09:47:23.438Z"
      },
      {
        "duration": 239,
        "start_time": "2022-04-14T09:47:23.452Z"
      },
      {
        "duration": 12,
        "start_time": "2022-04-14T09:47:23.693Z"
      },
      {
        "duration": 231,
        "start_time": "2022-04-14T09:47:23.707Z"
      },
      {
        "duration": 214,
        "start_time": "2022-04-14T09:47:23.940Z"
      },
      {
        "duration": 83,
        "start_time": "2022-04-14T09:47:24.156Z"
      },
      {
        "duration": 221,
        "start_time": "2022-04-14T09:47:24.241Z"
      },
      {
        "duration": 223,
        "start_time": "2022-04-14T09:47:24.464Z"
      },
      {
        "duration": 228,
        "start_time": "2022-04-14T09:47:24.689Z"
      },
      {
        "duration": 369,
        "start_time": "2022-04-14T09:47:24.923Z"
      },
      {
        "duration": 230,
        "start_time": "2022-04-14T09:47:25.295Z"
      },
      {
        "duration": 227,
        "start_time": "2022-04-14T09:47:25.528Z"
      },
      {
        "duration": 230,
        "start_time": "2022-04-14T09:47:25.757Z"
      },
      {
        "duration": 234,
        "start_time": "2022-04-14T09:47:25.990Z"
      },
      {
        "duration": 223,
        "start_time": "2022-04-14T09:47:26.226Z"
      },
      {
        "duration": 225,
        "start_time": "2022-04-14T09:47:26.451Z"
      },
      {
        "duration": 231,
        "start_time": "2022-04-14T09:47:26.678Z"
      },
      {
        "duration": 1800,
        "start_time": "2022-04-14T11:35:04.143Z"
      },
      {
        "duration": 272,
        "start_time": "2022-04-14T11:35:05.946Z"
      },
      {
        "duration": 6,
        "start_time": "2022-04-14T11:35:06.221Z"
      },
      {
        "duration": 301,
        "start_time": "2022-04-14T11:35:06.230Z"
      },
      {
        "duration": 123,
        "start_time": "2022-04-14T11:35:06.535Z"
      },
      {
        "duration": 20,
        "start_time": "2022-04-14T11:35:06.660Z"
      },
      {
        "duration": 150,
        "start_time": "2022-04-14T11:35:06.683Z"
      },
      {
        "duration": 552,
        "start_time": "2022-04-14T11:35:06.835Z"
      },
      {
        "duration": 18,
        "start_time": "2022-04-14T11:35:07.390Z"
      },
      {
        "duration": 72,
        "start_time": "2022-04-14T11:35:07.425Z"
      },
      {
        "duration": 52,
        "start_time": "2022-04-14T11:35:07.500Z"
      },
      {
        "duration": 17,
        "start_time": "2022-04-14T11:35:07.554Z"
      },
      {
        "duration": 14739,
        "start_time": "2022-04-14T11:35:07.573Z"
      },
      {
        "duration": 23,
        "start_time": "2022-04-14T11:35:22.316Z"
      },
      {
        "duration": 11,
        "start_time": "2022-04-14T11:35:22.342Z"
      },
      {
        "duration": 69,
        "start_time": "2022-04-14T11:35:22.355Z"
      },
      {
        "duration": 773,
        "start_time": "2022-04-14T11:35:22.427Z"
      },
      {
        "duration": 1389,
        "start_time": "2022-04-14T11:35:23.202Z"
      },
      {
        "duration": 46,
        "start_time": "2022-04-14T11:35:24.594Z"
      },
      {
        "duration": 97,
        "start_time": "2022-04-14T11:35:24.643Z"
      },
      {
        "duration": 39,
        "start_time": "2022-04-14T11:35:24.743Z"
      },
      {
        "duration": 45,
        "start_time": "2022-04-14T11:35:24.785Z"
      },
      {
        "duration": 67,
        "start_time": "2022-04-14T11:35:24.832Z"
      },
      {
        "duration": 125,
        "start_time": "2022-04-14T11:35:24.901Z"
      },
      {
        "duration": 102,
        "start_time": "2022-04-14T11:35:25.028Z"
      },
      {
        "duration": 6,
        "start_time": "2022-04-14T11:35:25.132Z"
      },
      {
        "duration": 41,
        "start_time": "2022-04-14T11:35:25.140Z"
      },
      {
        "duration": 9487,
        "start_time": "2022-04-14T11:35:25.184Z"
      },
      {
        "duration": 21,
        "start_time": "2022-04-14T11:35:34.674Z"
      },
      {
        "duration": 170,
        "start_time": "2022-04-14T11:35:34.697Z"
      },
      {
        "duration": 116,
        "start_time": "2022-04-14T11:35:34.870Z"
      },
      {
        "duration": 6,
        "start_time": "2022-04-14T11:35:34.989Z"
      },
      {
        "duration": 40,
        "start_time": "2022-04-14T11:35:34.997Z"
      },
      {
        "duration": 14,
        "start_time": "2022-04-14T11:35:35.040Z"
      },
      {
        "duration": 25,
        "start_time": "2022-04-14T11:35:35.056Z"
      },
      {
        "duration": 41,
        "start_time": "2022-04-14T11:35:35.083Z"
      },
      {
        "duration": 1016,
        "start_time": "2022-04-14T11:35:35.127Z"
      },
      {
        "duration": 220,
        "start_time": "2022-04-14T11:35:36.145Z"
      },
      {
        "duration": 10,
        "start_time": "2022-04-14T11:35:36.367Z"
      },
      {
        "duration": 222,
        "start_time": "2022-04-14T11:35:36.380Z"
      },
      {
        "duration": 21,
        "start_time": "2022-04-14T11:35:36.608Z"
      },
      {
        "duration": 211,
        "start_time": "2022-04-14T11:35:36.631Z"
      },
      {
        "duration": 215,
        "start_time": "2022-04-14T11:35:36.845Z"
      },
      {
        "duration": 88,
        "start_time": "2022-04-14T11:35:37.062Z"
      },
      {
        "duration": 223,
        "start_time": "2022-04-14T11:35:37.152Z"
      },
      {
        "duration": 218,
        "start_time": "2022-04-14T11:35:37.377Z"
      },
      {
        "duration": 221,
        "start_time": "2022-04-14T11:35:37.598Z"
      },
      {
        "duration": 367,
        "start_time": "2022-04-14T11:35:37.825Z"
      },
      {
        "duration": 230,
        "start_time": "2022-04-14T11:35:38.195Z"
      },
      {
        "duration": 219,
        "start_time": "2022-04-14T11:35:38.427Z"
      },
      {
        "duration": 224,
        "start_time": "2022-04-14T11:35:38.649Z"
      },
      {
        "duration": 225,
        "start_time": "2022-04-14T11:35:38.875Z"
      },
      {
        "duration": 229,
        "start_time": "2022-04-14T11:35:39.102Z"
      },
      {
        "duration": 223,
        "start_time": "2022-04-14T11:35:39.333Z"
      },
      {
        "duration": 226,
        "start_time": "2022-04-14T11:35:39.558Z"
      },
      {
        "duration": 22,
        "start_time": "2022-04-14T11:35:53.170Z"
      },
      {
        "duration": 380,
        "start_time": "2022-04-14T11:36:31.080Z"
      },
      {
        "duration": 396,
        "start_time": "2022-04-14T11:36:37.697Z"
      },
      {
        "duration": 225,
        "start_time": "2022-04-14T11:36:43.053Z"
      },
      {
        "duration": 209,
        "start_time": "2022-04-14T11:37:27.891Z"
      },
      {
        "duration": 211,
        "start_time": "2022-04-14T11:37:36.141Z"
      },
      {
        "duration": 351,
        "start_time": "2022-04-14T11:37:39.236Z"
      },
      {
        "duration": 550,
        "start_time": "2022-04-14T11:37:47.317Z"
      },
      {
        "duration": 310,
        "start_time": "2022-04-14T11:37:51.255Z"
      },
      {
        "duration": 664,
        "start_time": "2022-04-14T11:37:56.552Z"
      }
    ],
    "colab": {
      "collapsed_sections": [],
      "name": "10 сборный.ipynb",
      "provenance": []
    },
    "kernelspec": {
      "display_name": "Python 3 (ipykernel)",
      "language": "python",
      "name": "python3"
    },
    "language_info": {
      "codemirror_mode": {
        "name": "ipython",
        "version": 3
      },
      "file_extension": ".py",
      "mimetype": "text/x-python",
      "name": "python",
      "nbconvert_exporter": "python",
      "pygments_lexer": "ipython3",
      "version": "3.9.7"
    },
    "toc": {
      "base_numbering": 1,
      "nav_menu": {},
      "number_sections": true,
      "sideBar": true,
      "skip_h1_title": true,
      "title_cell": "Table of Contents",
      "title_sidebar": "Contents",
      "toc_cell": false,
      "toc_position": {
        "height": "calc(100% - 180px)",
        "left": "10px",
        "top": "150px",
        "width": "260.868px"
      },
      "toc_section_display": true,
      "toc_window_display": true
    }
  },
  "nbformat": 4,
  "nbformat_minor": 0
}