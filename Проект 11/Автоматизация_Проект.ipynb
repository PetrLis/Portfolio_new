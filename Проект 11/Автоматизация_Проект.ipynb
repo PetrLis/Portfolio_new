{
  "cells": [
    {
      "cell_type": "code",
      "execution_count": null,
      "id": "9cce4384",
      "metadata": {
        "id": "9cce4384"
      },
      "outputs": [],
      "source": [
        "# импортируем библиотеки\n",
        "import pandas as pd\n",
        "from sqlalchemy import create_engine\n",
        "# создаем подключение к БД \n",
        "db_config = {'user': '', # имя пользователя\n",
        "            'pwd': '', # пароль\n",
        "            'host': '',\n",
        "            'port': , # порт подключения\n",
        "            'db': ''} # название базы данных\n",
        "\n",
        "connection_string = 'postgresql://{}:{}@{}:{}/{}'.format(db_config['user'],\n",
        "                                                db_config['pwd'],\n",
        "                                                db_config['host'],\n",
        "                                                db_config['port'],\n",
        "                                                db_config['db'])\n",
        "\n",
        "engine = create_engine(connection_string)\n",
        "# формируем запрос к БД\n",
        "query = '''\n",
        "           SELECT *\n",
        "           FROM dash_visits\n",
        "        '''\n",
        "# выполняем sql-запрос\n",
        "dash_visits = pd.io.sql.read_sql(query, con = engine)\n",
        "# сохраняем сырые данные в файл\n",
        "dash_visits.to_csv('', index=False)"
      ]
    },
    {
      "cell_type": "code",
      "execution_count": null,
      "id": "910f690a",
      "metadata": {
        "id": "910f690a",
        "outputId": "1f183117-59ce-4653-8cad-181d365e550d"
      },
      "outputs": [
        {
          "data": {
            "text/html": [
              "<div>\n",
              "<style scoped>\n",
              "    .dataframe tbody tr th:only-of-type {\n",
              "        vertical-align: middle;\n",
              "    }\n",
              "\n",
              "    .dataframe tbody tr th {\n",
              "        vertical-align: top;\n",
              "    }\n",
              "\n",
              "    .dataframe thead th {\n",
              "        text-align: right;\n",
              "    }\n",
              "</style>\n",
              "<table border=\"1\" class=\"dataframe\">\n",
              "  <thead>\n",
              "    <tr style=\"text-align: right;\">\n",
              "      <th></th>\n",
              "      <th>record_id</th>\n",
              "      <th>item_topic</th>\n",
              "      <th>source_topic</th>\n",
              "      <th>age_segment</th>\n",
              "      <th>dt</th>\n",
              "      <th>visits</th>\n",
              "    </tr>\n",
              "  </thead>\n",
              "  <tbody>\n",
              "    <tr>\n",
              "      <th>0</th>\n",
              "      <td>1040597</td>\n",
              "      <td>Деньги</td>\n",
              "      <td>Авто</td>\n",
              "      <td>18-25</td>\n",
              "      <td>2019-09-24 18:32:00</td>\n",
              "      <td>3</td>\n",
              "    </tr>\n",
              "    <tr>\n",
              "      <th>1</th>\n",
              "      <td>1040598</td>\n",
              "      <td>Деньги</td>\n",
              "      <td>Авто</td>\n",
              "      <td>18-25</td>\n",
              "      <td>2019-09-24 18:35:00</td>\n",
              "      <td>1</td>\n",
              "    </tr>\n",
              "    <tr>\n",
              "      <th>2</th>\n",
              "      <td>1040599</td>\n",
              "      <td>Деньги</td>\n",
              "      <td>Авто</td>\n",
              "      <td>18-25</td>\n",
              "      <td>2019-09-24 18:54:00</td>\n",
              "      <td>4</td>\n",
              "    </tr>\n",
              "    <tr>\n",
              "      <th>3</th>\n",
              "      <td>1040600</td>\n",
              "      <td>Деньги</td>\n",
              "      <td>Авто</td>\n",
              "      <td>18-25</td>\n",
              "      <td>2019-09-24 18:55:00</td>\n",
              "      <td>17</td>\n",
              "    </tr>\n",
              "    <tr>\n",
              "      <th>4</th>\n",
              "      <td>1040601</td>\n",
              "      <td>Деньги</td>\n",
              "      <td>Авто</td>\n",
              "      <td>18-25</td>\n",
              "      <td>2019-09-24 18:56:00</td>\n",
              "      <td>27</td>\n",
              "    </tr>\n",
              "  </tbody>\n",
              "</table>\n",
              "</div>"
            ],
            "text/plain": [
              "   record_id item_topic source_topic age_segment                  dt  visits\n",
              "0    1040597     Деньги         Авто       18-25 2019-09-24 18:32:00       3\n",
              "1    1040598     Деньги         Авто       18-25 2019-09-24 18:35:00       1\n",
              "2    1040599     Деньги         Авто       18-25 2019-09-24 18:54:00       4\n",
              "3    1040600     Деньги         Авто       18-25 2019-09-24 18:55:00      17\n",
              "4    1040601     Деньги         Авто       18-25 2019-09-24 18:56:00      27"
            ]
          },
          "execution_count": 2,
          "metadata": {},
          "output_type": "execute_result"
        }
      ],
      "source": [
        "dash_visits.head()"
      ]
    },
    {
      "cell_type": "markdown",
      "source": [
        "Презентация  «Анализ взаимодействия пользователей с карточками Яндекс.Дзен» доступна по ссылке:\n",
        "https://docs.google.com/presentation/d/1jWyMiZmfcSKxYDd9UG4uZXvYL6My-a5LieBrqn9ogy8/edit?usp=sharing\n"
      ],
      "metadata": {
        "id": "vpetZnUDut_9"
      },
      "id": "vpetZnUDut_9"
    },
    {
      "cell_type": "markdown",
      "source": [
        "Дашборд «Анализ взаимодействия пользователей с карточками Яндекс.Дзен» доступен по ссылке:\n",
        "https://public.tableau.com/views/__16513922663760/sheet1?:language=en-US&:display_count=n&:origin=viz_share_link"
      ],
      "metadata": {
        "id": "3BefOlJRu2Vx"
      },
      "id": "3BefOlJRu2Vx"
    },
    {
      "cell_type": "code",
      "execution_count": null,
      "id": "5e2afc18",
      "metadata": {
        "id": "5e2afc18"
      },
      "outputs": [],
      "source": [
        ""
      ]
    }
  ],
  "metadata": {
    "kernelspec": {
      "display_name": "Python 3",
      "language": "python",
      "name": "python3"
    },
    "language_info": {
      "codemirror_mode": {
        "name": "ipython",
        "version": 3
      },
      "file_extension": ".py",
      "mimetype": "text/x-python",
      "name": "python",
      "nbconvert_exporter": "python",
      "pygments_lexer": "ipython3",
      "version": "3.8.8"
    },
    "colab": {
      "name": "Автоматизация. Проект.ipynb",
      "provenance": [],
      "collapsed_sections": []
    }
  },
  "nbformat": 4,
  "nbformat_minor": 5
}