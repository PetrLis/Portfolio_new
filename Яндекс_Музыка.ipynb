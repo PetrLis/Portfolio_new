{
  "cells": [
    {
      "cell_type": "markdown",
      "metadata": {
        "id": "E0vqbgi9ay0H"
      },
      "source": [
        "# Яндекс.Музыка"
      ]
    },
    {
      "cell_type": "markdown",
      "metadata": {
        "id": "VUC88oWjTJw2"
      },
      "source": [
        "Сравнение Москвы и Петербурга окружено мифами. Например:\n",
        " * Москва — мегаполис, подчинённый жёсткому ритму рабочей недели;\n",
        " * Петербург — культурная столица, со своими вкусами.\n",
        "\n",
        "На данных Яндекс.Музыки вы сравните поведение пользователей двух столиц.\n",
        "\n",
        "**Цель исследования** — проверьте три гипотезы:\n",
        "1. Активность пользователей зависит от дня недели. Причём в Москве и Петербурге это проявляется по-разному.\n",
        "2. В понедельник утром в Москве преобладают одни жанры, а в Петербурге — другие. Так же и вечером пятницы преобладают разные жанры — в зависимости от города. \n",
        "3. Москва и Петербург предпочитают разные жанры музыки. В Москве чаще слушают поп-музыку, в Петербурге — русский рэп.\n",
        "\n",
        "**Ход исследования**\n",
        "\n",
        "Вы проверите данные на ошибки и оцените их влияние на исследование. Затем, на этапе предобработки вы поищете возможность исправить самые критичные ошибки данных.\n",
        " \n",
        "Таким образом, исследование пройдёт в три этапа:\n",
        " 1. Обзор данных.\n",
        " 2. Предобработка данных.\n",
        " 3. Проверка гипотез.\n",
        "\n"
      ]
    },
    {
      "cell_type": "markdown",
      "metadata": {
        "id": "Ml1hmfXC_Zcs"
      },
      "source": [
        "## Обзор данных\n",
        "\n",
        "Составьте первое представление о данных Яндекс.Музыки.\n",
        "\n",
        "\n"
      ]
    },
    {
      "cell_type": "code",
      "execution_count": null,
      "metadata": {
        "id": "AXN7PHPN_Zcs"
      },
      "outputs": [],
      "source": [
        "import pandas as pd# импорт библиотеки pandas"
      ]
    },
    {
      "cell_type": "markdown",
      "metadata": {
        "id": "rDoOMd3uTqnZ"
      },
      "source": [
        "Выведите на экран первые десять строк таблицы:"
      ]
    },
    {
      "cell_type": "code",
      "execution_count": null,
      "metadata": {
        "id": "oWTVX3gW_Zct",
        "outputId": "3b5e4560-186b-458c-df9c-824ff45e0286"
      },
      "outputs": [
        {
          "name": "stdout",
          "output_type": "stream",
          "text": [
            "     userID                        Track            artist   genre  \\\n",
            "0  FFB692EC            Kamigata To Boots  The Mass Missile    rock   \n",
            "1  55204538  Delayed Because of Accident  Andreas Rönnberg    rock   \n",
            "2    20EC38            Funiculì funiculà       Mario Lanza     pop   \n",
            "3  A3DD03C9        Dragons in the Sunset        Fire + Ice    folk   \n",
            "4  E2DC1FAE                  Soul People        Space Echo   dance   \n",
            "5  842029A1                    Преданная         IMPERVTOR  rusrap   \n",
            "6  4CB90AA5                         True      Roman Messer   dance   \n",
            "7  F03E1C1F             Feeling This Way   Polina Griffith   dance   \n",
            "8  8FA1D3BE     И вновь продолжается бой               NaN  ruspop   \n",
            "9  E772D5C0                    Pessimist               NaN   dance   \n",
            "\n",
            "             City        time        Day  \n",
            "0  Saint-Petersburg  20:28:33  Wednesday  \n",
            "1            Moscow  14:07:09     Friday  \n",
            "2  Saint-Petersburg  20:58:07  Wednesday  \n",
            "3  Saint-Petersburg  08:37:09     Monday  \n",
            "4            Moscow  08:34:34     Monday  \n",
            "5  Saint-Petersburg  13:09:41     Friday  \n",
            "6            Moscow  13:00:07  Wednesday  \n",
            "7            Moscow  20:47:49  Wednesday  \n",
            "8            Moscow  09:17:40     Friday  \n",
            "9  Saint-Petersburg  21:20:49  Wednesday  \n"
          ]
        }
      ],
      "source": [
        "print(df.head(10)) # получение первых 10 строк таблицы df"
      ]
    },
    {
      "cell_type": "markdown",
      "metadata": {
        "id": "EO73Kwic_Zct"
      },
      "source": [
        "Одной командой получить общую информацию о таблице:"
      ]
    },
    {
      "cell_type": "code",
      "execution_count": null,
      "metadata": {
        "id": "DSf2kIb-_Zct",
        "outputId": "ea84b689-cf6d-4272-a398-5c90fb60463d"
      },
      "outputs": [
        {
          "name": "stdout",
          "output_type": "stream",
          "text": [
            "(65079, 7)\n"
          ]
        }
      ],
      "source": [
        "print(df.shape) # получение общей информации о данных в таблице df"
      ]
    },
    {
      "cell_type": "code",
      "execution_count": null,
      "metadata": {
        "scrolled": true,
        "id": "InPPUti5wZj7",
        "outputId": "ceb7e1e0-f4b0-43ef-9236-ec1c9d2436fd"
      },
      "outputs": [
        {
          "data": {
            "text/plain": [
              "  userID    object\n",
              "Track       object\n",
              "artist      object\n",
              "genre       object\n",
              "  City      object\n",
              "time        object\n",
              "Day         object\n",
              "dtype: object"
            ]
          },
          "metadata": {},
          "output_type": "display_data"
        }
      ],
      "source": [
        "display(df.dtypes)"
      ]
    },
    {
      "cell_type": "code",
      "execution_count": null,
      "metadata": {
        "id": "aPevizxBwZj-",
        "outputId": "0bc722e1-7500-4d0f-9b5a-45ff9af9efdd"
      },
      "outputs": [
        {
          "data": {
            "text/plain": [
              "Index(['  userID', 'Track', 'artist', 'genre', '  City  ', 'time', 'Day'], dtype='object')"
            ]
          },
          "metadata": {},
          "output_type": "display_data"
        }
      ],
      "source": [
        "display(df.columns)"
      ]
    },
    {
      "cell_type": "markdown",
      "metadata": {
        "id": "TaQ2Iwbr_Zct"
      },
      "source": [
        "Итак, в таблице семь столбцов. Тип данных во всех столбцах — `object`.\n",
        "\n",
        "Согласно документации к данным:\n",
        "* `userID` — идентификатор пользователя;\n",
        "* `Track` — название трека;  \n",
        "* `artist` — имя исполнителя;\n",
        "* `genre` — название жанра;\n",
        "* `City` — город пользователя;\n",
        "* `time` — время начала прослушивания;\n",
        "* `Day` — день недели.\n",
        "\n",
        "В названиях колонок видны три нарушения стиля:\n",
        "1. Строчные буквы сочетаются с прописными.\n",
        "2. Встречаются пробелы.\n",
        "3. `userID` лучше записать змеиным регистром.\n",
        "\n",
        "\n",
        "\n",
        "\n",
        "Количество значений в столбцах различается. Значит, в данных есть пропущенные значения.\n"
      ]
    },
    {
      "cell_type": "markdown",
      "metadata": {
        "id": "MCB6-dXG_Zct"
      },
      "source": [
        "**Выводы**\n",
        "\n",
        "В каждой строке таблицы — данные о прослушанном треке. Часть колонок описывает саму композицию: название, исполнителя и жанр. Остальные данные рассказывают о пользователе: из какого он города, когда он слушал музыку. \n",
        "\n",
        "Предварительно можно утверждать, что, данных достаточно для проверки гипотез. Но встречаются пропуски в данных, а в названиях колонок — расхождения с хорошим стилем.\n",
        "\n",
        "Чтобы двигаться дальше, нужно устранить проблемы в данных."
      ]
    },
    {
      "cell_type": "markdown",
      "metadata": {
        "id": "SjYF6Ub9_Zct"
      },
      "source": [
        "## Предобработка данных\n",
        "Исправьте стиль в заголовках столбцов, исключите пропуски. Затем проверьте данные на дубликаты."
      ]
    },
    {
      "cell_type": "markdown",
      "metadata": {
        "id": "dIaKXr29_Zct"
      },
      "source": [
        "### Стиль заголовков\n",
        "Выведите на экран названия столбцов:"
      ]
    },
    {
      "cell_type": "code",
      "execution_count": null,
      "metadata": {
        "id": "oKOTdF_Q_Zct",
        "outputId": "4caa1fb6-db96-476d-858b-6b2ed22a9ee6"
      },
      "outputs": [
        {
          "name": "stdout",
          "output_type": "stream",
          "text": [
            "Index(['  userID', 'Track', 'artist', 'genre', '  City  ', 'time', 'Day'], dtype='object')\n"
          ]
        }
      ],
      "source": [
        "print(df.columns) # перечень названий столбцов таблицы df"
      ]
    },
    {
      "cell_type": "markdown",
      "metadata": {
        "id": "zj5534cv_Zct"
      },
      "source": [
        "Приведите названия в соответствие с хорошим стилем:\n",
        "* несколько слов в названии запишите в «змеином_регистре»,\n",
        "* все символы сделайте строчными,\n",
        "* устраните пробелы.\n",
        "\n",
        "Для этого переименуйте колонки так:\n",
        "* `'  userID'` → `'user_id'`;\n",
        "* `'Track'` → `'track'`;\n",
        "* `'  City  '` → `'city'`;\n",
        "* `'Day'` → `'day'`."
      ]
    },
    {
      "cell_type": "code",
      "execution_count": null,
      "metadata": {
        "id": "ISlFqs5y_Zct"
      },
      "outputs": [],
      "source": [
        "df = df.rename(columns={'  userID': 'user_id', 'Track': 'track', '  City  ': 'city', 'Day': 'day'})\n",
        "# переименование столбцов"
      ]
    },
    {
      "cell_type": "markdown",
      "metadata": {
        "id": "1dqbh00J_Zct"
      },
      "source": [
        "Проверьте результат. Для этого ещё раз выведите на экран названия столбцов:"
      ]
    },
    {
      "cell_type": "code",
      "execution_count": null,
      "metadata": {
        "id": "d4NOAmTW_Zct",
        "outputId": "cfc42522-b509-4361-b0c5-13e84ddaa141"
      },
      "outputs": [
        {
          "data": {
            "text/plain": [
              "Index(['user_id', 'track', 'artist', 'genre', 'city', 'time', 'day'], dtype='object')"
            ]
          },
          "execution_count": 37,
          "metadata": {},
          "output_type": "execute_result"
        }
      ],
      "source": [
        "df.columns # проверка результатов - перечень названий столбцов"
      ]
    },
    {
      "cell_type": "markdown",
      "metadata": {
        "id": "5ISfbcfY_Zct"
      },
      "source": [
        "### Пропуски значений\n",
        "Сначала посчитайте, сколько в таблице пропущенных значений. Для этого достаточно двух методов `pandas`:"
      ]
    },
    {
      "cell_type": "code",
      "execution_count": null,
      "metadata": {
        "id": "RskX29qr_Zct",
        "outputId": "5037b912-d552-4c8a-a700-f9b93cfefbf8"
      },
      "outputs": [
        {
          "data": {
            "text/plain": [
              "user_id       0\n",
              "track      1231\n",
              "artist     7203\n",
              "genre      1198\n",
              "city          0\n",
              "time          0\n",
              "day           0\n",
              "dtype: int64"
            ]
          },
          "execution_count": 38,
          "metadata": {},
          "output_type": "execute_result"
        }
      ],
      "source": [
        "df.isna().sum() # подсчёт пропусков"
      ]
    },
    {
      "cell_type": "markdown",
      "metadata": {
        "id": "qubhgnlO_Zct"
      },
      "source": [
        "Не все пропущенные значения влияют на исследование. Так в `track` и `artist` пропуски не важны для вашей работы. Достаточно заменить их явными обозначениями.\n",
        "\n",
        "Но пропуски в `genre` могут помешать сравнению музыкальных вкусов в Москве и Санкт-Петербурге. На практике было бы правильно установить причину пропусков и восстановить данные. Такой возможности нет в учебном проекте. Придётся:\n",
        "* заполнить и эти пропуски явными обозначениями,\n",
        "* оценить, насколько они повредят расчётам. "
      ]
    },
    {
      "cell_type": "markdown",
      "metadata": {
        "id": "fSv2laPA_Zct"
      },
      "source": [
        "Замените пропущенные значения в столбцах `track`, `artist` и `genre` на строку `'unknown'`. Для этого создайте список `columns_to_replace`, переберите его элементы циклом `for` и для каждого столбца выполните замену пропущенных значений:"
      ]
    },
    {
      "cell_type": "code",
      "execution_count": null,
      "metadata": {
        "id": "KplB5qWs_Zct"
      },
      "outputs": [],
      "source": [
        "# перебор названий столбцов в цикле и замена пропущенных значений на 'unknown'\n",
        "columns_to_replace = ['track', 'artist', 'genre'] # создание списока с названиями столбцов, в которых нужно заполнить пропущенные значения\n",
        "for element in columns_to_replace:  # цикл заполнит пропуски для каждого из столбцов\n",
        "    df[element] = df[element].fillna('unknown')"
      ]
    },
    {
      "cell_type": "markdown",
      "metadata": {
        "id": "Ilsm-MZo_Zct"
      },
      "source": [
        "Убедитесь, что в таблице не осталось пропусков. Для этого ещё раз посчитайте пропущенные значения."
      ]
    },
    {
      "cell_type": "code",
      "execution_count": null,
      "metadata": {
        "id": "Tq4nYRX4_Zct",
        "outputId": "96a8be57-62c1-434d-b52a-e5a23d48650e"
      },
      "outputs": [
        {
          "data": {
            "text/plain": [
              "user_id    0\n",
              "track      0\n",
              "artist     0\n",
              "genre      0\n",
              "city       0\n",
              "time       0\n",
              "day        0\n",
              "dtype: int64"
            ]
          },
          "execution_count": 40,
          "metadata": {},
          "output_type": "execute_result"
        }
      ],
      "source": [
        "df.isna().sum()# подсчёт пропусков"
      ]
    },
    {
      "cell_type": "markdown",
      "metadata": {
        "id": "BWKRtBJ3_Zct"
      },
      "source": [
        "### Дубликаты\n",
        "Посчитайте явные дубликаты в таблице одной командой:"
      ]
    },
    {
      "cell_type": "code",
      "execution_count": null,
      "metadata": {
        "id": "36eES_S0_Zct",
        "outputId": "e9f17d55-2d8e-403d-a2b5-df1c2192bcf4"
      },
      "outputs": [
        {
          "data": {
            "text/plain": [
              "3826"
            ]
          },
          "execution_count": 41,
          "metadata": {},
          "output_type": "execute_result"
        }
      ],
      "source": [
        "df.duplicated().sum() # подсчёт явных дубликатов"
      ]
    },
    {
      "cell_type": "markdown",
      "metadata": {
        "id": "Ot25h6XR_Zct"
      },
      "source": [
        "Вызовите специальный метод `pandas`, чтобы удалить явные дубликаты:"
      ]
    },
    {
      "cell_type": "code",
      "execution_count": null,
      "metadata": {
        "id": "exFHq6tt_Zct"
      },
      "outputs": [],
      "source": [
        "df = df.drop_duplicates().reset_index(drop= True)# удаление явных дубликатов (с удалением старых индексов и формированием новых)"
      ]
    },
    {
      "cell_type": "markdown",
      "metadata": {
        "id": "Im2YwBEG_Zct"
      },
      "source": [
        "Ещё раз посчитайте явные дубликаты в таблице — убедитесь, что полностью от них избавились:"
      ]
    },
    {
      "cell_type": "code",
      "execution_count": null,
      "metadata": {
        "id": "-8PuNWQ0_Zct",
        "outputId": "514a7240-c5cd-4188-b60e-f013a519ffd5"
      },
      "outputs": [
        {
          "data": {
            "text/plain": [
              "0"
            ]
          },
          "execution_count": 43,
          "metadata": {},
          "output_type": "execute_result"
        }
      ],
      "source": [
        "df.duplicated().sum()# проверка на отсутствие дубликатов"
      ]
    },
    {
      "cell_type": "markdown",
      "metadata": {
        "id": "QlFBsxAr_Zct"
      },
      "source": [
        "Теперь избавьтесь от неявных дубликатов в колонке `genre`. Например, название одного и того же жанра может быть записано немного по-разному. Такие ошибки тоже повлияют на результат исследования."
      ]
    },
    {
      "cell_type": "markdown",
      "metadata": {
        "id": "eSjWwsOh_Zct"
      },
      "source": [
        "Выведите на экран список уникальных названий жанров, отсортированный в алфавитном порядке. Для этого:\n",
        "* извлеките нужный столбец датафрейма, \n",
        "* примените к нему метод сортировки,\n",
        "* для отсортированного столбца вызовите метод, который вернёт уникальные значения из столбца."
      ]
    },
    {
      "cell_type": "code",
      "execution_count": null,
      "metadata": {
        "id": "JIUcqzZN_Zct"
      },
      "outputs": [],
      "source": [
        "genre_sorted = df['genre'].unique() # Просмотр уникальных названий жанров\n",
        "genre_sorted.sort()\n"
      ]
    },
    {
      "cell_type": "markdown",
      "metadata": {
        "id": "qej-Qmuo_Zct"
      },
      "source": [
        "Просмотрите список и найдите неявные дубликаты названия `hiphop`. Это могут быть названия с ошибками или альтернативные названия того же жанра.\n",
        "\n",
        "Вы увидите следующие неявные дубликаты:\n",
        "* *hip*,\n",
        "* *hop*,\n",
        "* *hip-hop*.\n",
        "\n",
        "Чтобы очистить от них таблицу, напишите функцию `replace_wrong_genres()` с двумя параметрами: \n",
        "* `wrong_genres` — список дубликатов,\n",
        "* `correct_genre` — строка с правильным значением.\n",
        "\n",
        "Функция должна исправить колонку `genre` в таблице `df`: заменить каждое значение из списка `wrong_genres` на значение из `correct_genre`."
      ]
    },
    {
      "cell_type": "code",
      "execution_count": null,
      "metadata": {
        "id": "ErNDkmns_Zct"
      },
      "outputs": [],
      "source": [
        "def replace_wrong_genres(wrong_genres, correct_genre): # Функция для замены неявных дубликатов\n",
        "    for wrong_genre in wrong_genres: # цикл ищет имена из списка duplicates и меняет их на имя из переменной genre_name \n",
        "        df['genre'] = df['genre'].replace(wrong_genre, correct_genre)\n",
        "wrong_genres = ['hip', 'hop', 'hip-hop'] # список неправильных имен\n",
        "correct_genre = 'hiphop'# сторока с правильным именем\n"
      ]
    },
    {
      "cell_type": "markdown",
      "metadata": {
        "id": "aDoBJxbA_Zct"
      },
      "source": [
        "Вызовите `replace_wrong_genres()` и передайте ей такие аргументы, чтобы она устранила неявные дубликаты: вместо `hip`, `hop` и `hip-hop` в таблице должно быть значение `hiphop`:"
      ]
    },
    {
      "cell_type": "code",
      "execution_count": null,
      "metadata": {
        "id": "YN5i2hpmSo09"
      },
      "outputs": [],
      "source": [
        "replace_wrong_genres(wrong_genres, correct_genre)# Устранение неявных дубликатов"
      ]
    },
    {
      "cell_type": "markdown",
      "metadata": {
        "id": "zQKF16_RG15m"
      },
      "source": [
        "Проверьте, что заменили неправильные названия:\n",
        "\n",
        "*   hip\n",
        "*   hop\n",
        "*   hip-hop\n",
        "\n",
        "Выведите отсортированный список уникальных значений столбца `genre`:"
      ]
    },
    {
      "cell_type": "code",
      "execution_count": null,
      "metadata": {
        "id": "wvixALnFG15m"
      },
      "outputs": [],
      "source": [
        "df['genre'].unique().sort()# Проверка на неявные дубликаты"
      ]
    },
    {
      "cell_type": "markdown",
      "metadata": {
        "id": "jz6a9-7HQUDd"
      },
      "source": [
        "**Выводы**\n",
        "\n",
        "Предобработка обнаружила три проблемы в данных:\n",
        "\n",
        "- нарушения в стиле заголовков,\n",
        "- пропущенные значения,\n",
        "- дубликаты — явные и неявные.\n",
        "\n",
        "Вы исправили заголовки, чтобы упростить работу с таблицей. Без дубликатов исследование станет более точным.\n",
        "\n",
        "Пропущенные значения вы заменили на `'unknown'`. Ещё предстоит увидеть, не повредят ли исследованию пропуски в колонке `genre`.\n",
        "\n",
        "Теперь можно перейти к проверке гипотез. "
      ]
    },
    {
      "cell_type": "markdown",
      "metadata": {
        "id": "WttZHXH0SqKk"
      },
      "source": [
        "## Проверка гипотез"
      ]
    },
    {
      "cell_type": "markdown",
      "metadata": {
        "id": "Im936VVi_Zcu"
      },
      "source": [
        "### Сравнение поведения пользователей двух столиц"
      ]
    },
    {
      "cell_type": "markdown",
      "metadata": {
        "id": "nwt_MuaL_Zcu"
      },
      "source": [
        "Первая гипотеза утверждает, что пользователи по-разному слушают музыку в Москве и Санкт-Петербурге. Проверьте это предположение по данным о трёх днях недели — понедельнике, среде и пятнице. Для этого:\n",
        "\n",
        "* Разделите пользователей Москвы и Санкт-Петербурга\n",
        "* Сравните, сколько треков послушала каждая группа пользователей в понедельник, среду и пятницу.\n"
      ]
    },
    {
      "cell_type": "markdown",
      "metadata": {
        "id": "8Dw_YMmT_Zcu"
      },
      "source": [
        "Для тренировки сначала выполните каждый из расчётов по отдельности. \n",
        "\n",
        "Оцените активность пользователей в каждом городе. Сгруппируйте данные по городу и посчитайте прослушивания в каждой группе.\n",
        "\n"
      ]
    },
    {
      "cell_type": "code",
      "execution_count": null,
      "metadata": {
        "id": "0_Qs96oh_Zcu",
        "outputId": "74669e10-5c4b-4f52-e907-792a2e2ed54b"
      },
      "outputs": [
        {
          "data": {
            "text/html": [
              "<div>\n",
              "<style scoped>\n",
              "    .dataframe tbody tr th:only-of-type {\n",
              "        vertical-align: middle;\n",
              "    }\n",
              "\n",
              "    .dataframe tbody tr th {\n",
              "        vertical-align: top;\n",
              "    }\n",
              "\n",
              "    .dataframe thead th {\n",
              "        text-align: right;\n",
              "    }\n",
              "</style>\n",
              "<table border=\"1\" class=\"dataframe\">\n",
              "  <thead>\n",
              "    <tr style=\"text-align: right;\">\n",
              "      <th></th>\n",
              "      <th>user_id</th>\n",
              "      <th>track</th>\n",
              "      <th>artist</th>\n",
              "      <th>genre</th>\n",
              "      <th>time</th>\n",
              "      <th>day</th>\n",
              "    </tr>\n",
              "    <tr>\n",
              "      <th>city</th>\n",
              "      <th></th>\n",
              "      <th></th>\n",
              "      <th></th>\n",
              "      <th></th>\n",
              "      <th></th>\n",
              "      <th></th>\n",
              "    </tr>\n",
              "  </thead>\n",
              "  <tbody>\n",
              "    <tr>\n",
              "      <td>Moscow</td>\n",
              "      <td>42741</td>\n",
              "      <td>42741</td>\n",
              "      <td>42741</td>\n",
              "      <td>42741</td>\n",
              "      <td>42741</td>\n",
              "      <td>42741</td>\n",
              "    </tr>\n",
              "    <tr>\n",
              "      <td>Saint-Petersburg</td>\n",
              "      <td>18512</td>\n",
              "      <td>18512</td>\n",
              "      <td>18512</td>\n",
              "      <td>18512</td>\n",
              "      <td>18512</td>\n",
              "      <td>18512</td>\n",
              "    </tr>\n",
              "  </tbody>\n",
              "</table>\n",
              "</div>"
            ],
            "text/plain": [
              "                  user_id  track  artist  genre   time    day\n",
              "city                                                         \n",
              "Moscow              42741  42741   42741  42741  42741  42741\n",
              "Saint-Petersburg    18512  18512   18512  18512  18512  18512"
            ]
          },
          "execution_count": 60,
          "metadata": {},
          "output_type": "execute_result"
        }
      ],
      "source": [
        "df.groupby('city').count() # Подсчёт прослушиваний в каждом городе"
      ]
    },
    {
      "cell_type": "markdown",
      "metadata": {
        "id": "dzli3w8o_Zcu"
      },
      "source": [
        "В Москве прослушиваний больше, чем в Петербурге. Из этого не следует, что московские пользователи чаще слушают музыку. Просто самих пользователей в Москве больше.\n",
        "\n",
        "Теперь сгруппируйте данные по дню недели и подсчитайте прослушивания в понедельник, среду и пятницу. Учтите, что в данных есть информация только о прослушиваниях только за эти дни.\n"
      ]
    },
    {
      "cell_type": "code",
      "execution_count": null,
      "metadata": {
        "id": "BYtvmqVOwZkv",
        "outputId": "3cf19f69-f727-4f10-ece6-413d0399e308"
      },
      "outputs": [
        {
          "data": {
            "text/plain": [
              "day\n",
              "Friday       21840\n",
              "Monday       21354\n",
              "Wednesday    18059\n",
              "Name: track, dtype: int64"
            ]
          },
          "execution_count": 62,
          "metadata": {},
          "output_type": "execute_result"
        }
      ],
      "source": [
        "df.groupby('day')['track'].count()# Подсчёт прослушиваний в каждый из трёх дней"
      ]
    },
    {
      "cell_type": "markdown",
      "metadata": {
        "id": "cC2tNrlL_Zcu"
      },
      "source": [
        "В среднем пользователи из двух городов менее активны по средам. Но картина может измениться, если рассмотреть каждый город в отдельности."
      ]
    },
    {
      "cell_type": "markdown",
      "metadata": {
        "id": "POzs8bGa_Zcu"
      },
      "source": [
        "Вы видели, как работает группировка по городу и по дням недели. Теперь напишите функцию, которая объединит два эти расчёта.\n",
        "\n",
        "Создайте функцию `number_tracks()`, которая посчитает прослушивания для заданного дня и города. Ей понадобятся два параметра:\n",
        "* день недели,\n",
        "* название города.\n",
        "\n",
        "В функции сохраните в переменную строки исходной таблицы, у которых значение:\n",
        "  * в колонке `day` равно параметру `day`,\n",
        "  * в колонке `city` равно параметру `city`.\n",
        "\n",
        "Для этого примените последовательную фильтрацию с логической индексацией.\n",
        "\n",
        "Затем посчитайте значения в столбце `user_id` получившейся таблицы. Результат сохраните в новую переменную. Верните эту переменную из функции."
      ]
    },
    {
      "cell_type": "code",
      "execution_count": null,
      "metadata": {
        "id": "Nz3GdQB1_Zcu"
      },
      "outputs": [],
      "source": [
        "# <создание функции number_tracks()>\n",
        "def number_tracks(day, city):  # Объявляется функция с двумя параметрами: day, city.\n",
        "    track_list = df.loc[df.loc[: , 'day'] == day] # В переменной track_list сохраняются те строки таблицы df, для которых \n",
        "    track_list = df.loc[df.loc[: , 'city'] == city] # значение в столбце 'day' равно параметру day и одновременно значение # в столбце 'city' равно параметру city\n",
        "    track_list_count = track_list['user_id'].count() # В переменной track_list_count сохраняется число значений столбца 'user_id', рассчитанное методом count() для таблицы track_list.\n",
        "    return track_list_count # Функция возвращает число - значение track_list_count."
      ]
    },
    {
      "cell_type": "markdown",
      "metadata": {
        "id": "ytf7xFrFJQ2r"
      },
      "source": [
        "Вызовите `number_tracks()` шесть раз, меняя значение параметров — так, чтобы получить данные для каждого города в каждый из трёх дней."
      ]
    },
    {
      "cell_type": "code",
      "execution_count": null,
      "metadata": {
        "id": "rJcRATNQ_Zcu"
      },
      "outputs": [],
      "source": [
        "tracks_monday_moscow = number_tracks('Monday', 'Moscow') # количество прослушиваний в Москве по понедельникам"
      ]
    },
    {
      "cell_type": "code",
      "execution_count": null,
      "metadata": {
        "id": "hq_ncZ5T_Zcu"
      },
      "outputs": [],
      "source": [
        "tracks_monday_petersburg = number_tracks('Monday', 'Saint-Petersburg') # количество прослушиваний в Санкт-Петербурге по понедельникам"
      ]
    },
    {
      "cell_type": "code",
      "execution_count": null,
      "metadata": {
        "id": "_NTy2VPU_Zcu"
      },
      "outputs": [],
      "source": [
        "tracks_wednesday_moscow = number_tracks('Wednesday', 'Moscow') # количество прослушиваний в Москве по средам"
      ]
    },
    {
      "cell_type": "code",
      "execution_count": null,
      "metadata": {
        "id": "j2y3TAwo_Zcu"
      },
      "outputs": [],
      "source": [
        "tracks_wednesdayy_petersburg = number_tracks('Wednesday', 'Saint-Petersburg') # количество прослушиваний в Санкт-Петербурге по средам"
      ]
    },
    {
      "cell_type": "code",
      "execution_count": null,
      "metadata": {
        "id": "vYDw5u_K_Zcu"
      },
      "outputs": [],
      "source": [
        "tracks_friday_moscow = number_tracks('Friday', 'Moscow') # количество прослушиваний в Москве по пятницам"
      ]
    },
    {
      "cell_type": "code",
      "execution_count": null,
      "metadata": {
        "id": "8_yzFtW3_Zcu"
      },
      "outputs": [],
      "source": [
        "tracks_friday_petersburg = number_tracks('Friday', 'Saint-Petersburg') # количество прослушиваний в Санкт-Петербурге по пятницам"
      ]
    },
    {
      "cell_type": "markdown",
      "metadata": {
        "id": "7QXffbO-_Zcu"
      },
      "source": [
        "Создайте c помощью конструктора `pd.DataFrame` таблицу, где\n",
        "* названия колонок — `['city', 'monday', 'wednesday', 'friday']`;\n",
        "* данные — результаты, которые вы получили с помощью `number_tracks`."
      ]
    },
    {
      "cell_type": "code",
      "execution_count": null,
      "metadata": {
        "id": "APAcLpOr_Zcu",
        "outputId": "25fba3c7-49f2-464a-ba86-734991eeab52"
      },
      "outputs": [
        {
          "data": {
            "text/html": [
              "<div>\n",
              "<style scoped>\n",
              "    .dataframe tbody tr th:only-of-type {\n",
              "        vertical-align: middle;\n",
              "    }\n",
              "\n",
              "    .dataframe tbody tr th {\n",
              "        vertical-align: top;\n",
              "    }\n",
              "\n",
              "    .dataframe thead th {\n",
              "        text-align: right;\n",
              "    }\n",
              "</style>\n",
              "<table border=\"1\" class=\"dataframe\">\n",
              "  <thead>\n",
              "    <tr style=\"text-align: right;\">\n",
              "      <th></th>\n",
              "      <th>city</th>\n",
              "      <th>monday</th>\n",
              "      <th>wednesday</th>\n",
              "      <th>friday</th>\n",
              "    </tr>\n",
              "  </thead>\n",
              "  <tbody>\n",
              "    <tr>\n",
              "      <td>0</td>\n",
              "      <td>Moscow</td>\n",
              "      <td>42741</td>\n",
              "      <td>42741</td>\n",
              "      <td>42741</td>\n",
              "    </tr>\n",
              "    <tr>\n",
              "      <td>1</td>\n",
              "      <td>Saint-Petersburg</td>\n",
              "      <td>18512</td>\n",
              "      <td>18512</td>\n",
              "      <td>18512</td>\n",
              "    </tr>\n",
              "  </tbody>\n",
              "</table>\n",
              "</div>"
            ],
            "text/plain": [
              "               city  monday  wednesday  friday\n",
              "0            Moscow   42741      42741   42741\n",
              "1  Saint-Petersburg   18512      18512   18512"
            ]
          },
          "metadata": {},
          "output_type": "display_data"
        }
      ],
      "source": [
        "# создание таблицы с числом прослушиваний по городам и дням недели\n",
        "# в списке data сохраним списки с названиями городов и количеством прослушиваний по дням недели\n",
        "data = [['Moscow', tracks_monday_moscow, tracks_wednesday_moscow, tracks_friday_moscow], \n",
        " ['Saint-Petersburg', tracks_monday_petersburg, tracks_wednesdayy_petersburg, tracks_friday_petersburg]]\n",
        "columns=['city', 'monday', 'wednesday', 'friday']   # список с названиями столбцов  \n",
        "tracks_result = pd.DataFrame(data=data, columns=columns) # создание таблицы tracks_result\n",
        "display(tracks_result)# Таблица с результатами"
      ]
    },
    {
      "cell_type": "markdown",
      "metadata": {
        "id": "-EgPIHYu_Zcu"
      },
      "source": [
        "**Выводы**\n",
        "\n",
        "Данные показывают разницу поведения пользователей:\n",
        "\n",
        "- В Москве пик прослушиваний приходится на понедельник и пятницу, а в среду заметен спад.\n",
        "- В Петербурге, наоборот, больше слушают музыку по средам. Активность в понедельник и пятницу здесь почти в равной мере уступает среде.\n",
        "\n",
        "Значит, данные говорят в пользу первой гипотезы."
      ]
    },
    {
      "cell_type": "markdown",
      "metadata": {
        "id": "atZAxtq4_Zcu"
      },
      "source": [
        "### Музыка в начале и в конце недели"
      ]
    },
    {
      "cell_type": "markdown",
      "metadata": {
        "id": "eXrQqXFH_Zcu"
      },
      "source": [
        "Согласно второй гипотезе, утром в понедельник в Москве преобладают одни жанры, а в Петербурге — другие. Так же и вечером пятницы преобладают разные жанры — в зависимости от города."
      ]
    },
    {
      "cell_type": "markdown",
      "metadata": {
        "id": "S8UcW6Hw_Zcu"
      },
      "source": [
        "Сохраните таблицы с данными в две переменные:\n",
        "* по Москве — в `moscow_general`;\n",
        "* по Санкт-Петербургу — в `spb_general`."
      ]
    },
    {
      "cell_type": "code",
      "execution_count": null,
      "metadata": {
        "id": "qeaFfM_P_Zcu"
      },
      "outputs": [],
      "source": [
        "# получение таблицы moscow_general из тех строк таблицы df, \n",
        "# для которых значение в столбце 'city' равно 'Moscow'\n",
        "moscow_general = df.loc[df.loc[: , 'city'] == 'Moscow']\n"
      ]
    },
    {
      "cell_type": "code",
      "execution_count": null,
      "metadata": {
        "id": "ORaVRKto_Zcu"
      },
      "outputs": [],
      "source": [
        "# получение таблицы spb_general из тех строк таблицы df,\n",
        "# для которых значение в столбце 'city' равно 'Saint-Petersburg'\n",
        "spb_general = df.loc[df.loc[: , 'city'] == 'Saint-Petersburg']"
      ]
    },
    {
      "cell_type": "markdown",
      "metadata": {
        "id": "MEJV-CX2_Zcu"
      },
      "source": [
        "Создайте функцию `genre_weekday()` с четырьмя параметрами:\n",
        "* таблица (датафрейм) с данными,\n",
        "* день недели,\n",
        "* начальная временная метка в формате 'hh:mm', \n",
        "* последняя временная метка в формате 'hh:mm'.\n",
        "\n",
        "Функция должна вернуть информацию о топ-10 жанров тех треков, которые прослушивали в указанный день, в промежутке между двумя отметками времени."
      ]
    },
    {
      "cell_type": "code",
      "execution_count": null,
      "metadata": {
        "id": "laJT9BYl_Zcu"
      },
      "outputs": [],
      "source": [
        "# Объявление функции genre_weekday() с параметрами table, day, time1, time2,\n",
        "# которая возвращает информацию о самых популярных жанрах в указанный день в\n",
        "# заданное время:\n",
        "\n",
        "def genre_weekday(table, day, time1, time2):\n",
        "    genre_df = table.loc[table.loc[: , 'day']==day] #      - значение в столбце day равно значению аргумента day\n",
        "    genre_df = table.loc[table.loc[: , 'time']>time1] #    - значение в столбце time больше значения аргумента time1\n",
        "    genre_df = table.loc[table.loc[: , 'time']<time2] #    - значение в столбце time меньше значения аргумента time2\n",
        "    genre_df_count = genre_df.groupby('genre')['genre'].count() # группировка genre_df по столбцу genre и подсчет кол-ва записей\n",
        "    genre_df_sorted = genre_df_count.sort_values(ascending=False)# сортировка genre_df_count по убыванию встречаемости\n",
        "    return genre_df_sorted.head(10) # вернуть Series из топ-10 первых значений genre_df_sorted (в указанный день, в заданное время)\n"
      ]
    },
    {
      "cell_type": "markdown",
      "metadata": {
        "id": "la2s2_PF_Zcu"
      },
      "source": [
        "Cравните результаты функции `genre_weekday()` для Москвы и Санкт-Петербурга в понедельник утром (с 7:00 до 11:00) и в пятницу вечером (с 17:00 до 23:00):"
      ]
    },
    {
      "cell_type": "code",
      "execution_count": null,
      "metadata": {
        "id": "yz7itPUQ_Zcu",
        "outputId": "c294420b-054d-4e57-b93c-f6e465dec945"
      },
      "outputs": [
        {
          "data": {
            "text/plain": [
              "genre\n",
              "pop            2015\n",
              "dance          1444\n",
              "rock           1259\n",
              "electronic     1249\n",
              "hiphop          709\n",
              "ruspop          510\n",
              "classical       473\n",
              "world           439\n",
              "alternative     436\n",
              "rusrap          406\n",
              "Name: genre, dtype: int64"
            ]
          },
          "execution_count": 74,
          "metadata": {},
          "output_type": "execute_result"
        }
      ],
      "source": [
        "genre_weekday(moscow_general, 'Monday', '07:00', '11:00')\n",
        "# вызов функции для утра понедельника в Москве (вместо df — таблица moscow_general)"
      ]
    },
    {
      "cell_type": "code",
      "execution_count": null,
      "metadata": {
        "id": "kwUcHPdy_Zcu",
        "outputId": "78a26f92-9650-41bc-8b96-a6baf5912889"
      },
      "outputs": [
        {
          "data": {
            "text/plain": [
              "genre\n",
              "pop            701\n",
              "dance          606\n",
              "rock           520\n",
              "electronic     519\n",
              "hiphop         288\n",
              "rusrap         195\n",
              "alternative    184\n",
              "ruspop         174\n",
              "classical      155\n",
              "world          130\n",
              "Name: genre, dtype: int64"
            ]
          },
          "execution_count": 75,
          "metadata": {},
          "output_type": "execute_result"
        }
      ],
      "source": [
        "genre_weekday(spb_general, 'Monday', '07:00', '11:00')\n",
        "# вызов функции для утра понедельника в Петербурге "
      ]
    },
    {
      "cell_type": "code",
      "execution_count": null,
      "metadata": {
        "id": "EzXVRE1o_Zcu",
        "outputId": "afc234a2-3518-474d-b235-16a0d7e47496"
      },
      "outputs": [
        {
          "data": {
            "text/plain": [
              "genre\n",
              "pop            5892\n",
              "dance          4435\n",
              "rock           3965\n",
              "electronic     3786\n",
              "hiphop         2096\n",
              "classical      1616\n",
              "world          1432\n",
              "alternative    1379\n",
              "ruspop         1372\n",
              "rusrap         1161\n",
              "Name: genre, dtype: int64"
            ]
          },
          "execution_count": 76,
          "metadata": {},
          "output_type": "execute_result"
        }
      ],
      "source": [
        "genre_weekday(moscow_general, 'Friday', '17:00', '23:00')\n",
        "# вызов функции для вечера пятницы в Москве"
      ]
    },
    {
      "cell_type": "code",
      "execution_count": null,
      "metadata": {
        "id": "JZaEKu5v_Zcu",
        "outputId": "fd8b6ee3-df1e-4899-cc31-4378c48b7836"
      },
      "outputs": [
        {
          "data": {
            "text/plain": [
              "genre\n",
              "pop            2431\n",
              "dance          1932\n",
              "rock           1879\n",
              "electronic     1736\n",
              "hiphop          960\n",
              "alternative     649\n",
              "classical       646\n",
              "rusrap          564\n",
              "ruspop          538\n",
              "world           515\n",
              "Name: genre, dtype: int64"
            ]
          },
          "execution_count": 77,
          "metadata": {},
          "output_type": "execute_result"
        }
      ],
      "source": [
        "genre_weekday(spb_general, 'Friday', '17:00', '23:00')\n",
        "# вызов функции для вечера пятницы в Петербурге"
      ]
    },
    {
      "cell_type": "markdown",
      "metadata": {
        "id": "wrCe4MNX_Zcu"
      },
      "source": [
        "**Выводы**\n",
        "\n",
        "Если сравнить топ-10 жанров в понедельник утром, можно сделать такие выводы:\n",
        "\n",
        "1. В Москве и Петербурге слушают похожую музыку. Единственное отличие — в московский рейтинг вошёл жанр “world”, а в петербургский — джаз и классика.\n",
        "\n",
        "2. В Москве пропущенных значений оказалось так много, что значение `'unknown'` заняло десятое место среди самых популярных жанров. Значит, пропущенные значения занимают существенную долю в данных и угрожают достоверности исследования.\n",
        "\n",
        "Вечер пятницы не меняет эту картину. Некоторые жанры поднимаются немного выше, другие спускаются, но в целом топ-10 остаётся тем же самым.\n",
        "\n",
        "Таким образом, вторая гипотеза подтвердилась лишь частично:\n",
        "* Пользователи слушают похожую музыку в начале недели и в конце.\n",
        "* Разница между Москвой и Петербургом не слишком выражена. В Москве чаще слушают русскую популярную музыку, в Петербурге — джаз.\n",
        "\n",
        "Однако пропуски в данных ставят под сомнение этот результат. В Москве их так много, что рейтинг топ-10 мог бы выглядеть иначе, если бы не утерянные  данные о жанрах."
      ]
    },
    {
      "cell_type": "markdown",
      "metadata": {
        "id": "JolODAqr_Zcu"
      },
      "source": [
        "### Жанровые предпочтения в Москве и Петербурге\n",
        "\n",
        "Гипотеза: Петербург — столица рэпа, музыку этого жанра там слушают чаще, чем в Москве.  А Москва — город контрастов, в котором, тем не менее, преобладает поп-музыка."
      ]
    },
    {
      "cell_type": "markdown",
      "metadata": {
        "id": "DlegSvaT_Zcu"
      },
      "source": [
        "Сгруппируйте таблицу `moscow_general` по жанру и посчитайте прослушивания треков каждого жанра методом `count()`. Затем отсортируйте результат в порядке убывания и сохраните его в таблице `moscow_genres`."
      ]
    },
    {
      "cell_type": "code",
      "execution_count": null,
      "metadata": {
        "id": "r19lIPke_Zcu"
      },
      "outputs": [],
      "source": [
        "moscow_genres = moscow_general.groupby('genre')['genre'].count().sort_values(ascending=False)\n",
        "#moscow_genres.sort_values(ascending=False)\n",
        "# группировка таблицы moscow_general по столбцу 'genre',\n",
        "# подсчёт числа значений 'genre' в этой группировке методом count(), \n",
        "# сортировка получившегося Series в порядке убывания и сохранение в moscow_genres"
      ]
    },
    {
      "cell_type": "markdown",
      "metadata": {
        "id": "6kMuomxTiIr8"
      },
      "source": [
        "Выведите на экран первые десять строк `moscow_genres`:"
      ]
    },
    {
      "cell_type": "code",
      "execution_count": null,
      "metadata": {
        "id": "WhCSooF8_Zcv",
        "outputId": "92f2fce1-e1ae-4a1f-bb38-fc149a6e5055"
      },
      "outputs": [
        {
          "data": {
            "text/plain": [
              "genre\n",
              "pop            5892\n",
              "dance          4435\n",
              "rock           3965\n",
              "electronic     3786\n",
              "hiphop         2096\n",
              "classical      1616\n",
              "world          1432\n",
              "alternative    1379\n",
              "ruspop         1372\n",
              "rusrap         1161\n",
              "Name: genre, dtype: int64"
            ]
          },
          "metadata": {},
          "output_type": "display_data"
        }
      ],
      "source": [
        " display(moscow_genres.head(10))# просмотр первых 10 строк moscow_genres"
      ]
    },
    {
      "cell_type": "markdown",
      "metadata": {
        "id": "cnPG2vnN_Zcv"
      },
      "source": [
        "Теперь повторите то же и для Петербурга.\n",
        "\n",
        "Сгруппируйте таблицу `spb_general` по жанру. Посчитайте прослушивания треков каждого жанра. Результат отсортируйте в порядке убывания и сохраните в таблице `spb_genres`:\n"
      ]
    },
    {
      "cell_type": "code",
      "execution_count": null,
      "metadata": {
        "id": "gluLIpE7_Zcv"
      },
      "outputs": [],
      "source": [
        "spb_genres = spb_general.groupby('genre')['genre'].count().sort_values(ascending=False)\n",
        "# одной строкой: группировка таблицы spb_general по столбцу 'genre', \n",
        "# подсчёт числа значений 'genre' в этой группировке методом count(), \n",
        "# сортировка получившегося Series в порядке убывания и сохранение в spb_genres"
      ]
    },
    {
      "cell_type": "markdown",
      "metadata": {
        "id": "5Doha_ODgyQ8"
      },
      "source": [
        "Выведите на экран первые десять строк `spb_genres`:"
      ]
    },
    {
      "cell_type": "code",
      "execution_count": null,
      "metadata": {
        "id": "uaGJHjVU_Zcv",
        "outputId": "6dddf6e7-f357-42e8-d557-97aa46370393"
      },
      "outputs": [
        {
          "data": {
            "text/plain": [
              "genre\n",
              "pop            2431\n",
              "dance          1932\n",
              "rock           1879\n",
              "electronic     1736\n",
              "hiphop          960\n",
              "alternative     649\n",
              "classical       646\n",
              "rusrap          564\n",
              "ruspop          538\n",
              "world           515\n",
              "Name: genre, dtype: int64"
            ]
          },
          "metadata": {},
          "output_type": "display_data"
        }
      ],
      "source": [
        "display(spb_genres.head(10))# просмотр первых 10 строк spb_genres"
      ]
    },
    {
      "cell_type": "markdown",
      "metadata": {
        "id": "RY51YJYu_Zcv"
      },
      "source": [
        "**Выводы**"
      ]
    },
    {
      "cell_type": "markdown",
      "metadata": {
        "id": "nVhnJEm__Zcv"
      },
      "source": [
        "Гипотеза частично подтвердилась:\n",
        "* Поп-музыка — самый популярный жанр в Москве, как и предполагала гипотеза. Более того, в топ-10 жанров встречается близкий жанр — русская популярная музыка.\n",
        "* Вопреки ожиданиям, рэп одинаково популярен в Москве и Петербурге. \n"
      ]
    },
    {
      "cell_type": "markdown",
      "metadata": {
        "id": "ykKQ0N65_Zcv"
      },
      "source": [
        "## Итоги исследования"
      ]
    },
    {
      "cell_type": "markdown",
      "metadata": {
        "id": "tjUwbHb3_Zcv"
      },
      "source": [
        "Вы проверили три гипотезы и установили:\n",
        "\n",
        "1. День недели по-разному влияет на активность пользователей в Москве и Петербурге. \n",
        "\n",
        "Первая гипотеза полностью подтвердилась.\n",
        "\n",
        "2. Музыкальные предпочтения не сильно меняются в течение недели — будь то Москва или Петербург. Небольшие различия заметны в начале недели, по понедельникам:\n",
        "* в Москве слушают музыку жанра “world”,\n",
        "* в Петербурге — джаз и классику.\n",
        "\n",
        "Таким образом, вторая гипотеза подтвердилась лишь отчасти. Этот результат мог оказаться иным, если бы не пропуски в данных.\n",
        "\n",
        "3. Во вкусах пользователей Москвы и Петербурга больше общего чем различий. Вопреки ожиданиям, предпочтения жанров в Петербурге напоминают московские.\n",
        "\n",
        "Третья гипотеза не подтвердилась. Если различия в предпочтениях и существуют, на основной массе пользователей они незаметны.\n",
        "\n",
        "**На практике исследования содержат проверки статистических гипотез.**\n",
        "Из данных одного сервиса не всегда можно сделать вывод о всех жителях города.\n",
        "Проверки статистических гипотез покажут, насколько они достоверны, исходя из имеющихся данных. \n",
        "С методами проверок гипотез вы ещё познакомитесь в следующих темах."
      ]
    },
    {
      "cell_type": "code",
      "execution_count": null,
      "metadata": {
        "id": "As0aYkvIwZlX"
      },
      "outputs": [],
      "source": [
        ""
      ]
    }
  ],
  "metadata": {
    "ExecuteTimeLog": [
      {
        "duration": 620,
        "start_time": "2021-12-02T16:37:33.631Z"
      },
      {
        "duration": 81,
        "start_time": "2021-12-02T16:39:32.679Z"
      },
      {
        "duration": 2131,
        "start_time": "2021-12-02T16:39:48.293Z"
      },
      {
        "duration": 139,
        "start_time": "2021-12-02T16:40:25.799Z"
      },
      {
        "duration": 8,
        "start_time": "2021-12-02T16:40:56.540Z"
      },
      {
        "duration": 251,
        "start_time": "2021-12-02T16:41:32.812Z"
      },
      {
        "duration": 80,
        "start_time": "2021-12-02T16:41:40.682Z"
      },
      {
        "duration": 3,
        "start_time": "2021-12-02T16:41:47.184Z"
      },
      {
        "duration": 244,
        "start_time": "2021-12-02T16:47:55.723Z"
      },
      {
        "duration": 91,
        "start_time": "2021-12-02T16:48:02.300Z"
      },
      {
        "duration": 3,
        "start_time": "2021-12-02T16:48:09.311Z"
      },
      {
        "duration": 260,
        "start_time": "2021-12-02T16:55:59.849Z"
      },
      {
        "duration": 233,
        "start_time": "2021-12-02T16:56:09.753Z"
      },
      {
        "duration": 21,
        "start_time": "2021-12-02T16:56:18.178Z"
      },
      {
        "duration": 12,
        "start_time": "2021-12-02T16:56:22.056Z"
      },
      {
        "duration": 21,
        "start_time": "2021-12-02T16:56:39.908Z"
      },
      {
        "duration": 4,
        "start_time": "2021-12-02T16:56:42.550Z"
      },
      {
        "duration": 24,
        "start_time": "2021-12-02T17:19:30.134Z"
      },
      {
        "duration": 17,
        "start_time": "2021-12-02T17:24:49.525Z"
      },
      {
        "duration": 26,
        "start_time": "2021-12-02T17:25:03.204Z"
      },
      {
        "duration": 65,
        "start_time": "2021-12-02T17:26:51.638Z"
      },
      {
        "duration": 86,
        "start_time": "2021-12-02T17:27:28.040Z"
      },
      {
        "duration": 56,
        "start_time": "2021-12-02T17:27:45.583Z"
      },
      {
        "duration": 10,
        "start_time": "2021-12-02T17:29:08.416Z"
      },
      {
        "duration": 414,
        "start_time": "2021-12-02T17:42:25.051Z"
      },
      {
        "duration": 19,
        "start_time": "2021-12-02T17:42:55.935Z"
      },
      {
        "duration": 16,
        "start_time": "2021-12-02T17:43:54.755Z"
      },
      {
        "duration": 12,
        "start_time": "2021-12-02T17:44:22.520Z"
      },
      {
        "duration": 16,
        "start_time": "2021-12-02T17:44:38.454Z"
      },
      {
        "duration": 3,
        "start_time": "2021-12-02T17:46:25.911Z"
      },
      {
        "duration": 12,
        "start_time": "2021-12-02T17:46:36.087Z"
      },
      {
        "duration": 4,
        "start_time": "2021-12-02T17:47:04.598Z"
      },
      {
        "duration": 14,
        "start_time": "2021-12-02T17:47:08.285Z"
      },
      {
        "duration": 11,
        "start_time": "2021-12-02T17:47:17.088Z"
      },
      {
        "duration": 11,
        "start_time": "2021-12-02T17:47:38.249Z"
      },
      {
        "duration": 18,
        "start_time": "2021-12-02T17:48:09.297Z"
      },
      {
        "duration": 10,
        "start_time": "2021-12-02T17:48:19.976Z"
      },
      {
        "duration": 10,
        "start_time": "2021-12-02T17:48:52.825Z"
      },
      {
        "duration": 5,
        "start_time": "2021-12-02T17:52:12.223Z"
      },
      {
        "duration": 45,
        "start_time": "2021-12-02T17:54:12.848Z"
      },
      {
        "duration": 51,
        "start_time": "2021-12-02T17:54:53.457Z"
      },
      {
        "duration": 4,
        "start_time": "2021-12-02T18:54:41.648Z"
      },
      {
        "duration": 23,
        "start_time": "2021-12-02T19:02:30.937Z"
      },
      {
        "duration": 235,
        "start_time": "2021-12-02T19:05:12.976Z"
      },
      {
        "duration": 24,
        "start_time": "2021-12-02T19:05:51.344Z"
      },
      {
        "duration": 21,
        "start_time": "2021-12-02T19:05:52.707Z"
      },
      {
        "duration": 24,
        "start_time": "2021-12-02T19:05:53.219Z"
      },
      {
        "duration": 20,
        "start_time": "2021-12-02T19:05:54.023Z"
      },
      {
        "duration": 23,
        "start_time": "2021-12-02T19:05:54.632Z"
      },
      {
        "duration": 22,
        "start_time": "2021-12-02T19:05:55.636Z"
      },
      {
        "duration": 248,
        "start_time": "2021-12-02T19:06:00.977Z"
      },
      {
        "duration": 4,
        "start_time": "2021-12-02T19:08:53.398Z"
      },
      {
        "duration": 9,
        "start_time": "2021-12-02T19:12:03.667Z"
      },
      {
        "duration": 13,
        "start_time": "2021-12-02T19:13:41.905Z"
      },
      {
        "duration": 12,
        "start_time": "2021-12-02T19:14:11.185Z"
      },
      {
        "duration": 5,
        "start_time": "2021-12-05T08:54:29.408Z"
      },
      {
        "duration": 293,
        "start_time": "2021-12-05T08:57:29.634Z"
      },
      {
        "duration": 322,
        "start_time": "2021-12-05T08:57:43.879Z"
      },
      {
        "duration": 606,
        "start_time": "2021-12-05T08:57:58.326Z"
      },
      {
        "duration": 139,
        "start_time": "2021-12-05T08:58:01.672Z"
      },
      {
        "duration": 8,
        "start_time": "2021-12-05T08:58:21.306Z"
      },
      {
        "duration": 4,
        "start_time": "2021-12-05T08:58:25.529Z"
      },
      {
        "duration": 4,
        "start_time": "2021-12-05T08:58:30.642Z"
      },
      {
        "duration": 21,
        "start_time": "2021-12-05T08:58:35.305Z"
      },
      {
        "duration": 9,
        "start_time": "2021-12-05T08:58:39.719Z"
      },
      {
        "duration": 21,
        "start_time": "2021-12-05T08:58:45.151Z"
      },
      {
        "duration": 16,
        "start_time": "2021-12-05T08:58:49.664Z"
      },
      {
        "duration": 23,
        "start_time": "2021-12-05T08:58:52.638Z"
      },
      {
        "duration": 60,
        "start_time": "2021-12-05T08:58:57.116Z"
      },
      {
        "duration": 72,
        "start_time": "2021-12-05T08:59:00.233Z"
      },
      {
        "duration": 51,
        "start_time": "2021-12-05T08:59:04.826Z"
      },
      {
        "duration": 7,
        "start_time": "2021-12-05T08:59:08.911Z"
      },
      {
        "duration": 3,
        "start_time": "2021-12-05T08:59:14.034Z"
      },
      {
        "duration": 11,
        "start_time": "2021-12-05T08:59:16.907Z"
      },
      {
        "duration": 8,
        "start_time": "2021-12-05T08:59:21.060Z"
      },
      {
        "duration": 34,
        "start_time": "2021-12-05T08:59:27.404Z"
      },
      {
        "duration": 32,
        "start_time": "2021-12-05T08:59:31.450Z"
      },
      {
        "duration": 3,
        "start_time": "2021-12-05T08:59:35.798Z"
      },
      {
        "duration": 23,
        "start_time": "2021-12-05T08:59:39.433Z"
      },
      {
        "duration": 20,
        "start_time": "2021-12-05T08:59:40.193Z"
      },
      {
        "duration": 24,
        "start_time": "2021-12-05T08:59:40.911Z"
      },
      {
        "duration": 19,
        "start_time": "2021-12-05T08:59:41.505Z"
      },
      {
        "duration": 24,
        "start_time": "2021-12-05T08:59:42.158Z"
      },
      {
        "duration": 20,
        "start_time": "2021-12-05T08:59:42.994Z"
      },
      {
        "duration": 2,
        "start_time": "2021-12-05T08:59:57.646Z"
      },
      {
        "duration": 279,
        "start_time": "2021-12-05T09:00:11.024Z"
      },
      {
        "duration": 125,
        "start_time": "2021-12-05T09:06:10.934Z"
      },
      {
        "duration": 9,
        "start_time": "2021-12-05T09:06:24.504Z"
      },
      {
        "duration": 12,
        "start_time": "2021-12-05T09:12:19.980Z"
      },
      {
        "duration": 10,
        "start_time": "2021-12-05T09:12:21.713Z"
      },
      {
        "duration": 5,
        "start_time": "2021-12-05T09:12:27.398Z"
      },
      {
        "duration": 31,
        "start_time": "2021-12-05T09:12:31.617Z"
      },
      {
        "duration": 18,
        "start_time": "2021-12-05T09:12:37.502Z"
      },
      {
        "duration": 31,
        "start_time": "2021-12-05T09:12:42.118Z"
      },
      {
        "duration": 18,
        "start_time": "2021-12-05T09:12:45.944Z"
      },
      {
        "duration": 21,
        "start_time": "2021-12-05T09:21:15.474Z"
      },
      {
        "duration": 306,
        "start_time": "2021-12-05T09:23:31.223Z"
      },
      {
        "duration": 285,
        "start_time": "2021-12-05T09:24:48.679Z"
      },
      {
        "duration": 554,
        "start_time": "2021-12-05T09:25:18.072Z"
      },
      {
        "duration": 303,
        "start_time": "2021-12-05T09:26:47.823Z"
      },
      {
        "duration": 703,
        "start_time": "2021-12-05T09:27:58.948Z"
      },
      {
        "duration": 892,
        "start_time": "2021-12-05T09:28:15.734Z"
      },
      {
        "duration": 278,
        "start_time": "2021-12-05T09:28:31.947Z"
      },
      {
        "duration": 11,
        "start_time": "2021-12-05T09:29:39.917Z"
      },
      {
        "duration": 8,
        "start_time": "2021-12-05T09:29:59.710Z"
      },
      {
        "duration": 1562,
        "start_time": "2021-12-05T09:30:06.152Z"
      },
      {
        "duration": 8,
        "start_time": "2021-12-05T09:30:52.195Z"
      },
      {
        "duration": 6,
        "start_time": "2021-12-05T09:31:25.022Z"
      },
      {
        "duration": 6,
        "start_time": "2021-12-05T09:31:57.905Z"
      },
      {
        "duration": 4,
        "start_time": "2021-12-05T09:32:16.322Z"
      },
      {
        "duration": 278,
        "start_time": "2021-12-06T12:46:33.847Z"
      },
      {
        "duration": 563,
        "start_time": "2021-12-06T12:46:41.783Z"
      },
      {
        "duration": 123,
        "start_time": "2021-12-06T12:46:47.135Z"
      },
      {
        "duration": 6,
        "start_time": "2021-12-06T12:46:52.555Z"
      },
      {
        "duration": 3,
        "start_time": "2021-12-06T12:47:05.555Z"
      },
      {
        "duration": 299,
        "start_time": "2021-12-06T12:47:10.267Z"
      },
      {
        "duration": 9,
        "start_time": "2021-12-06T12:47:42.217Z"
      },
      {
        "duration": 3,
        "start_time": "2021-12-06T12:48:14.813Z"
      },
      {
        "duration": 92,
        "start_time": "2021-12-06T12:57:23.414Z"
      },
      {
        "duration": 18,
        "start_time": "2021-12-06T12:57:45.445Z"
      },
      {
        "duration": 5,
        "start_time": "2021-12-06T12:57:51.423Z"
      },
      {
        "duration": 25,
        "start_time": "2021-12-06T12:57:56.595Z"
      },
      {
        "duration": 16,
        "start_time": "2021-12-06T12:58:04.415Z"
      },
      {
        "duration": 20,
        "start_time": "2021-12-06T12:58:09.317Z"
      },
      {
        "duration": 52,
        "start_time": "2021-12-06T12:58:15.077Z"
      },
      {
        "duration": 68,
        "start_time": "2021-12-06T12:58:23.617Z"
      },
      {
        "duration": 48,
        "start_time": "2021-12-06T12:58:28.933Z"
      },
      {
        "duration": 53,
        "start_time": "2021-12-06T13:00:12.361Z"
      },
      {
        "duration": 46,
        "start_time": "2021-12-06T13:00:20.315Z"
      },
      {
        "duration": 5,
        "start_time": "2021-12-06T13:03:31.696Z"
      },
      {
        "duration": 8,
        "start_time": "2021-12-06T13:03:50.706Z"
      },
      {
        "duration": 244,
        "start_time": "2021-12-06T13:04:14.573Z"
      },
      {
        "duration": 286,
        "start_time": "2021-12-06T13:07:29.159Z"
      },
      {
        "duration": 235,
        "start_time": "2021-12-06T13:07:55.491Z"
      },
      {
        "duration": 341,
        "start_time": "2021-12-06T13:08:13.555Z"
      },
      {
        "duration": 235,
        "start_time": "2021-12-06T13:08:41.685Z"
      },
      {
        "duration": 245,
        "start_time": "2021-12-06T13:08:52.361Z"
      },
      {
        "duration": 871,
        "start_time": "2021-12-06T13:09:00.720Z"
      },
      {
        "duration": 2,
        "start_time": "2021-12-06T13:09:11.995Z"
      },
      {
        "duration": 114,
        "start_time": "2021-12-06T13:09:16.858Z"
      },
      {
        "duration": 6,
        "start_time": "2021-12-06T13:09:22.217Z"
      },
      {
        "duration": 4,
        "start_time": "2021-12-06T13:09:28.286Z"
      },
      {
        "duration": 5,
        "start_time": "2021-12-06T13:09:33.725Z"
      },
      {
        "duration": 4,
        "start_time": "2021-12-06T13:09:36.906Z"
      },
      {
        "duration": 4,
        "start_time": "2021-12-06T13:09:47.899Z"
      },
      {
        "duration": 19,
        "start_time": "2021-12-06T13:09:56.317Z"
      },
      {
        "duration": 4,
        "start_time": "2021-12-06T13:10:00.590Z"
      },
      {
        "duration": 21,
        "start_time": "2021-12-06T13:10:04.929Z"
      },
      {
        "duration": 16,
        "start_time": "2021-12-06T13:10:10.498Z"
      },
      {
        "duration": 20,
        "start_time": "2021-12-06T13:10:15.797Z"
      },
      {
        "duration": 49,
        "start_time": "2021-12-06T13:10:19.688Z"
      },
      {
        "duration": 54,
        "start_time": "2021-12-06T13:10:26.717Z"
      },
      {
        "duration": 51,
        "start_time": "2021-12-06T13:10:30.269Z"
      },
      {
        "duration": 7,
        "start_time": "2021-12-06T13:10:35.737Z"
      },
      {
        "duration": 4,
        "start_time": "2021-12-06T13:10:51.617Z"
      },
      {
        "duration": 5,
        "start_time": "2021-12-06T13:11:16.388Z"
      },
      {
        "duration": 236,
        "start_time": "2021-12-06T13:11:25.647Z"
      },
      {
        "duration": 5,
        "start_time": "2021-12-06T13:12:27.963Z"
      },
      {
        "duration": 7,
        "start_time": "2021-12-06T13:12:46.986Z"
      },
      {
        "duration": 5,
        "start_time": "2021-12-06T13:14:10.648Z"
      },
      {
        "duration": 79,
        "start_time": "2021-12-06T13:14:43.920Z"
      },
      {
        "duration": 5,
        "start_time": "2021-12-06T13:14:53.065Z"
      },
      {
        "duration": 6,
        "start_time": "2021-12-06T13:15:08.745Z"
      },
      {
        "duration": 7,
        "start_time": "2021-12-06T13:15:53.419Z"
      },
      {
        "duration": 5,
        "start_time": "2021-12-06T13:17:13.118Z"
      },
      {
        "duration": 3,
        "start_time": "2021-12-06T13:18:55.759Z"
      },
      {
        "duration": 10,
        "start_time": "2021-12-06T13:19:00.068Z"
      },
      {
        "duration": 7,
        "start_time": "2021-12-06T13:19:18.680Z"
      },
      {
        "duration": 8,
        "start_time": "2021-12-06T13:19:44.288Z"
      },
      {
        "duration": 28,
        "start_time": "2021-12-06T13:19:58.328Z"
      },
      {
        "duration": 29,
        "start_time": "2021-12-06T13:20:07.798Z"
      },
      {
        "duration": 11,
        "start_time": "2021-12-06T13:24:25.671Z"
      },
      {
        "duration": 4,
        "start_time": "2021-12-06T13:26:44.930Z"
      },
      {
        "duration": 19,
        "start_time": "2021-12-06T13:26:50.491Z"
      },
      {
        "duration": 16,
        "start_time": "2021-12-06T13:26:51.269Z"
      },
      {
        "duration": 23,
        "start_time": "2021-12-06T13:26:52.029Z"
      },
      {
        "duration": 15,
        "start_time": "2021-12-06T13:26:52.691Z"
      },
      {
        "duration": 19,
        "start_time": "2021-12-06T13:26:53.342Z"
      },
      {
        "duration": 18,
        "start_time": "2021-12-06T13:26:53.959Z"
      },
      {
        "duration": 8,
        "start_time": "2021-12-06T13:27:00.021Z"
      },
      {
        "duration": 10,
        "start_time": "2021-12-06T13:28:12.357Z"
      },
      {
        "duration": 10,
        "start_time": "2021-12-06T13:28:13.369Z"
      },
      {
        "duration": 3,
        "start_time": "2021-12-06T13:28:17.842Z"
      },
      {
        "duration": 23,
        "start_time": "2021-12-06T13:28:22.017Z"
      },
      {
        "duration": 16,
        "start_time": "2021-12-06T13:28:24.310Z"
      },
      {
        "duration": 25,
        "start_time": "2021-12-06T13:28:26.497Z"
      },
      {
        "duration": 17,
        "start_time": "2021-12-06T13:28:28.068Z"
      },
      {
        "duration": 7,
        "start_time": "2021-12-06T13:28:38.198Z"
      },
      {
        "duration": 4,
        "start_time": "2021-12-06T13:28:41.739Z"
      },
      {
        "duration": 5,
        "start_time": "2021-12-06T13:28:46.508Z"
      },
      {
        "duration": 5,
        "start_time": "2021-12-06T13:28:50.018Z"
      }
    ],
    "colab": {
      "collapsed_sections": [],
      "name": "Яндекс.Музыка",
      "provenance": []
    },
    "kernelspec": {
      "display_name": "Python 3 (ipykernel)",
      "language": "python",
      "name": "python3"
    },
    "language_info": {
      "codemirror_mode": {
        "name": "ipython",
        "version": 3
      },
      "file_extension": ".py",
      "mimetype": "text/x-python",
      "name": "python",
      "nbconvert_exporter": "python",
      "pygments_lexer": "ipython3",
      "version": "3.9.5"
    },
    "toc": {
      "base_numbering": 1,
      "nav_menu": {},
      "number_sections": true,
      "sideBar": true,
      "skip_h1_title": true,
      "title_cell": "Table of Contents",
      "title_sidebar": "Contents",
      "toc_cell": false,
      "toc_position": {},
      "toc_section_display": true,
      "toc_window_display": true
    }
  },
  "nbformat": 4,
  "nbformat_minor": 0
}