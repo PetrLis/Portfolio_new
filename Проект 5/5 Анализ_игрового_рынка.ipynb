{
  "cells": [
    {
      "cell_type": "code",
      "execution_count": null,
      "metadata": {
        "id": "n3xn6mk8JXoD"
      },
      "outputs": [],
      "source": [
        "# импортирую библиотеки\n",
        "import math as mh               # math для математических операций\n",
        "import pandas as pd             # pandas для работы с датафреймами\n",
        "import numpy as np              # numpy \n",
        "import matplotlib.pyplot as plt # matplotlib для построения графиков\n",
        "from scipy import stats as st   # stats для проведения статистического анализа\n",
        "import seaborn as sns           # seaborn для визуализации"
      ]
    },
    {
      "cell_type": "markdown",
      "metadata": {
        "id": "VbzwPfjJvxAo"
      },
      "source": [
        "# Описание проекта"
      ]
    },
    {
      "cell_type": "markdown",
      "metadata": {
        "id": "Dmz9-okVv20P"
      },
      "source": [
        "\n",
        "Из открытых источников доступны исторические данные о продажах игр, оценки пользователей и экспертов, жанры и платформы (например, Xboxили PlayStation). Перед нами данные до 2016 года. \n",
        "Необходимо определить перспективные игры для увеличения продаж. \n",
        "\n"
      ]
    },
    {
      "cell_type": "markdown",
      "metadata": {
        "id": "ARgXtsHOB-hf"
      },
      "source": [
        "*Рейтинг игр ESRB (Entertainment Software Rating Board)*  \n",
        "**«EC» («Early childhood»)** — «Для детей младшего возраста»  \n",
        "**«E» («Everyone») и  \"K-A\" (\"Kids to Adults\")** — «Для всех»  \n",
        "**«E10+» («Everyone 10 and older»)** — «Для всех от 10 лет и старше»  \n",
        "**«T» («Teen»)** — «Подросткам»  \n",
        "**«M» («Mature»)** — «Для взрослых»  \n",
        "**«AO» («Adults Only 18+»)** — «Только для взрослых»  \n",
        "**«RP» («Rating Pending»)** — «Рейтинг ожидается»\n"
      ]
    },
    {
      "cell_type": "markdown",
      "metadata": {
        "id": "iET00kzjwxr4"
      },
      "source": [
        "# Открытие файла с данными и изучение общей информации"
      ]
    },
    {
      "cell_type": "code",
      "execution_count": null,
      "metadata": {
        "colab": {
          "base_uri": "https://localhost:8080/",
          "height": 206
        },
        "id": "L-Yy3F_sJ1J9",
        "outputId": "d3ffeb93-ecdb-4809-ba7c-4feafc2ceb92"
      },
      "outputs": [
        {
          "output_type": "execute_result",
          "data": {
            "text/plain": [
              "                       Name Platform  Year_of_Release         Genre  NA_sales  \\\n",
              "0                Wii Sports      Wii           2006.0        Sports     41.36   \n",
              "1         Super Mario Bros.      NES           1985.0      Platform     29.08   \n",
              "2            Mario Kart Wii      Wii           2008.0        Racing     15.68   \n",
              "3         Wii Sports Resort      Wii           2009.0        Sports     15.61   \n",
              "4  Pokemon Red/Pokemon Blue       GB           1996.0  Role-Playing     11.27   \n",
              "\n",
              "   EU_sales  JP_sales  Other_sales  Critic_Score User_Score Rating  \n",
              "0     28.96      3.77         8.45          76.0          8      E  \n",
              "1      3.58      6.81         0.77           NaN        NaN    NaN  \n",
              "2     12.76      3.79         3.29          82.0        8.3      E  \n",
              "3     10.93      3.28         2.95          80.0          8      E  \n",
              "4      8.89     10.22         1.00           NaN        NaN    NaN  "
            ],
            "text/html": [
              "\n",
              "  <div id=\"df-86d93703-4453-43e0-968e-8cde0d667634\">\n",
              "    <div class=\"colab-df-container\">\n",
              "      <div>\n",
              "<style scoped>\n",
              "    .dataframe tbody tr th:only-of-type {\n",
              "        vertical-align: middle;\n",
              "    }\n",
              "\n",
              "    .dataframe tbody tr th {\n",
              "        vertical-align: top;\n",
              "    }\n",
              "\n",
              "    .dataframe thead th {\n",
              "        text-align: right;\n",
              "    }\n",
              "</style>\n",
              "<table border=\"1\" class=\"dataframe\">\n",
              "  <thead>\n",
              "    <tr style=\"text-align: right;\">\n",
              "      <th></th>\n",
              "      <th>Name</th>\n",
              "      <th>Platform</th>\n",
              "      <th>Year_of_Release</th>\n",
              "      <th>Genre</th>\n",
              "      <th>NA_sales</th>\n",
              "      <th>EU_sales</th>\n",
              "      <th>JP_sales</th>\n",
              "      <th>Other_sales</th>\n",
              "      <th>Critic_Score</th>\n",
              "      <th>User_Score</th>\n",
              "      <th>Rating</th>\n",
              "    </tr>\n",
              "  </thead>\n",
              "  <tbody>\n",
              "    <tr>\n",
              "      <th>0</th>\n",
              "      <td>Wii Sports</td>\n",
              "      <td>Wii</td>\n",
              "      <td>2006.0</td>\n",
              "      <td>Sports</td>\n",
              "      <td>41.36</td>\n",
              "      <td>28.96</td>\n",
              "      <td>3.77</td>\n",
              "      <td>8.45</td>\n",
              "      <td>76.0</td>\n",
              "      <td>8</td>\n",
              "      <td>E</td>\n",
              "    </tr>\n",
              "    <tr>\n",
              "      <th>1</th>\n",
              "      <td>Super Mario Bros.</td>\n",
              "      <td>NES</td>\n",
              "      <td>1985.0</td>\n",
              "      <td>Platform</td>\n",
              "      <td>29.08</td>\n",
              "      <td>3.58</td>\n",
              "      <td>6.81</td>\n",
              "      <td>0.77</td>\n",
              "      <td>NaN</td>\n",
              "      <td>NaN</td>\n",
              "      <td>NaN</td>\n",
              "    </tr>\n",
              "    <tr>\n",
              "      <th>2</th>\n",
              "      <td>Mario Kart Wii</td>\n",
              "      <td>Wii</td>\n",
              "      <td>2008.0</td>\n",
              "      <td>Racing</td>\n",
              "      <td>15.68</td>\n",
              "      <td>12.76</td>\n",
              "      <td>3.79</td>\n",
              "      <td>3.29</td>\n",
              "      <td>82.0</td>\n",
              "      <td>8.3</td>\n",
              "      <td>E</td>\n",
              "    </tr>\n",
              "    <tr>\n",
              "      <th>3</th>\n",
              "      <td>Wii Sports Resort</td>\n",
              "      <td>Wii</td>\n",
              "      <td>2009.0</td>\n",
              "      <td>Sports</td>\n",
              "      <td>15.61</td>\n",
              "      <td>10.93</td>\n",
              "      <td>3.28</td>\n",
              "      <td>2.95</td>\n",
              "      <td>80.0</td>\n",
              "      <td>8</td>\n",
              "      <td>E</td>\n",
              "    </tr>\n",
              "    <tr>\n",
              "      <th>4</th>\n",
              "      <td>Pokemon Red/Pokemon Blue</td>\n",
              "      <td>GB</td>\n",
              "      <td>1996.0</td>\n",
              "      <td>Role-Playing</td>\n",
              "      <td>11.27</td>\n",
              "      <td>8.89</td>\n",
              "      <td>10.22</td>\n",
              "      <td>1.00</td>\n",
              "      <td>NaN</td>\n",
              "      <td>NaN</td>\n",
              "      <td>NaN</td>\n",
              "    </tr>\n",
              "  </tbody>\n",
              "</table>\n",
              "</div>\n",
              "      <button class=\"colab-df-convert\" onclick=\"convertToInteractive('df-86d93703-4453-43e0-968e-8cde0d667634')\"\n",
              "              title=\"Convert this dataframe to an interactive table.\"\n",
              "              style=\"display:none;\">\n",
              "        \n",
              "  <svg xmlns=\"http://www.w3.org/2000/svg\" height=\"24px\"viewBox=\"0 0 24 24\"\n",
              "       width=\"24px\">\n",
              "    <path d=\"M0 0h24v24H0V0z\" fill=\"none\"/>\n",
              "    <path d=\"M18.56 5.44l.94 2.06.94-2.06 2.06-.94-2.06-.94-.94-2.06-.94 2.06-2.06.94zm-11 1L8.5 8.5l.94-2.06 2.06-.94-2.06-.94L8.5 2.5l-.94 2.06-2.06.94zm10 10l.94 2.06.94-2.06 2.06-.94-2.06-.94-.94-2.06-.94 2.06-2.06.94z\"/><path d=\"M17.41 7.96l-1.37-1.37c-.4-.4-.92-.59-1.43-.59-.52 0-1.04.2-1.43.59L10.3 9.45l-7.72 7.72c-.78.78-.78 2.05 0 2.83L4 21.41c.39.39.9.59 1.41.59.51 0 1.02-.2 1.41-.59l7.78-7.78 2.81-2.81c.8-.78.8-2.07 0-2.86zM5.41 20L4 18.59l7.72-7.72 1.47 1.35L5.41 20z\"/>\n",
              "  </svg>\n",
              "      </button>\n",
              "      \n",
              "  <style>\n",
              "    .colab-df-container {\n",
              "      display:flex;\n",
              "      flex-wrap:wrap;\n",
              "      gap: 12px;\n",
              "    }\n",
              "\n",
              "    .colab-df-convert {\n",
              "      background-color: #E8F0FE;\n",
              "      border: none;\n",
              "      border-radius: 50%;\n",
              "      cursor: pointer;\n",
              "      display: none;\n",
              "      fill: #1967D2;\n",
              "      height: 32px;\n",
              "      padding: 0 0 0 0;\n",
              "      width: 32px;\n",
              "    }\n",
              "\n",
              "    .colab-df-convert:hover {\n",
              "      background-color: #E2EBFA;\n",
              "      box-shadow: 0px 1px 2px rgba(60, 64, 67, 0.3), 0px 1px 3px 1px rgba(60, 64, 67, 0.15);\n",
              "      fill: #174EA6;\n",
              "    }\n",
              "\n",
              "    [theme=dark] .colab-df-convert {\n",
              "      background-color: #3B4455;\n",
              "      fill: #D2E3FC;\n",
              "    }\n",
              "\n",
              "    [theme=dark] .colab-df-convert:hover {\n",
              "      background-color: #434B5C;\n",
              "      box-shadow: 0px 1px 3px 1px rgba(0, 0, 0, 0.15);\n",
              "      filter: drop-shadow(0px 1px 2px rgba(0, 0, 0, 0.3));\n",
              "      fill: #FFFFFF;\n",
              "    }\n",
              "  </style>\n",
              "\n",
              "      <script>\n",
              "        const buttonEl =\n",
              "          document.querySelector('#df-86d93703-4453-43e0-968e-8cde0d667634 button.colab-df-convert');\n",
              "        buttonEl.style.display =\n",
              "          google.colab.kernel.accessAllowed ? 'block' : 'none';\n",
              "\n",
              "        async function convertToInteractive(key) {\n",
              "          const element = document.querySelector('#df-86d93703-4453-43e0-968e-8cde0d667634');\n",
              "          const dataTable =\n",
              "            await google.colab.kernel.invokeFunction('convertToInteractive',\n",
              "                                                     [key], {});\n",
              "          if (!dataTable) return;\n",
              "\n",
              "          const docLinkHtml = 'Like what you see? Visit the ' +\n",
              "            '<a target=\"_blank\" href=https://colab.research.google.com/notebooks/data_table.ipynb>data table notebook</a>'\n",
              "            + ' to learn more about interactive tables.';\n",
              "          element.innerHTML = '';\n",
              "          dataTable['output_type'] = 'display_data';\n",
              "          await google.colab.output.renderOutput(dataTable, element);\n",
              "          const docLink = document.createElement('div');\n",
              "          docLink.innerHTML = docLinkHtml;\n",
              "          element.appendChild(docLink);\n",
              "        }\n",
              "      </script>\n",
              "    </div>\n",
              "  </div>\n",
              "  "
            ]
          },
          "metadata": {},
          "execution_count": 3
        }
      ],
      "source": [
        "# посмотрим на первые строки датафрейма\n",
        "df.head()"
      ]
    },
    {
      "cell_type": "code",
      "execution_count": null,
      "metadata": {
        "colab": {
          "base_uri": "https://localhost:8080/",
          "height": 206
        },
        "id": "AljUHi3HKLp8",
        "outputId": "bd3c127e-4518-46df-a5f0-1fc9b558dc79"
      },
      "outputs": [
        {
          "output_type": "execute_result",
          "data": {
            "text/plain": [
              "                                Name Platform  Year_of_Release       Genre  \\\n",
              "16710  Samurai Warriors: Sanada Maru      PS3           2016.0      Action   \n",
              "16711               LMA Manager 2007     X360           2006.0      Sports   \n",
              "16712        Haitaka no Psychedelica      PSV           2016.0   Adventure   \n",
              "16713               Spirits & Spells      GBA           2003.0    Platform   \n",
              "16714            Winning Post 8 2016      PSV           2016.0  Simulation   \n",
              "\n",
              "       NA_sales  EU_sales  JP_sales  Other_sales  Critic_Score User_Score  \\\n",
              "16710      0.00      0.00      0.01          0.0           NaN        NaN   \n",
              "16711      0.00      0.01      0.00          0.0           NaN        NaN   \n",
              "16712      0.00      0.00      0.01          0.0           NaN        NaN   \n",
              "16713      0.01      0.00      0.00          0.0           NaN        NaN   \n",
              "16714      0.00      0.00      0.01          0.0           NaN        NaN   \n",
              "\n",
              "      Rating  \n",
              "16710    NaN  \n",
              "16711    NaN  \n",
              "16712    NaN  \n",
              "16713    NaN  \n",
              "16714    NaN  "
            ],
            "text/html": [
              "\n",
              "  <div id=\"df-fb0a9120-81a3-4786-942c-aad3237a91aa\">\n",
              "    <div class=\"colab-df-container\">\n",
              "      <div>\n",
              "<style scoped>\n",
              "    .dataframe tbody tr th:only-of-type {\n",
              "        vertical-align: middle;\n",
              "    }\n",
              "\n",
              "    .dataframe tbody tr th {\n",
              "        vertical-align: top;\n",
              "    }\n",
              "\n",
              "    .dataframe thead th {\n",
              "        text-align: right;\n",
              "    }\n",
              "</style>\n",
              "<table border=\"1\" class=\"dataframe\">\n",
              "  <thead>\n",
              "    <tr style=\"text-align: right;\">\n",
              "      <th></th>\n",
              "      <th>Name</th>\n",
              "      <th>Platform</th>\n",
              "      <th>Year_of_Release</th>\n",
              "      <th>Genre</th>\n",
              "      <th>NA_sales</th>\n",
              "      <th>EU_sales</th>\n",
              "      <th>JP_sales</th>\n",
              "      <th>Other_sales</th>\n",
              "      <th>Critic_Score</th>\n",
              "      <th>User_Score</th>\n",
              "      <th>Rating</th>\n",
              "    </tr>\n",
              "  </thead>\n",
              "  <tbody>\n",
              "    <tr>\n",
              "      <th>16710</th>\n",
              "      <td>Samurai Warriors: Sanada Maru</td>\n",
              "      <td>PS3</td>\n",
              "      <td>2016.0</td>\n",
              "      <td>Action</td>\n",
              "      <td>0.00</td>\n",
              "      <td>0.00</td>\n",
              "      <td>0.01</td>\n",
              "      <td>0.0</td>\n",
              "      <td>NaN</td>\n",
              "      <td>NaN</td>\n",
              "      <td>NaN</td>\n",
              "    </tr>\n",
              "    <tr>\n",
              "      <th>16711</th>\n",
              "      <td>LMA Manager 2007</td>\n",
              "      <td>X360</td>\n",
              "      <td>2006.0</td>\n",
              "      <td>Sports</td>\n",
              "      <td>0.00</td>\n",
              "      <td>0.01</td>\n",
              "      <td>0.00</td>\n",
              "      <td>0.0</td>\n",
              "      <td>NaN</td>\n",
              "      <td>NaN</td>\n",
              "      <td>NaN</td>\n",
              "    </tr>\n",
              "    <tr>\n",
              "      <th>16712</th>\n",
              "      <td>Haitaka no Psychedelica</td>\n",
              "      <td>PSV</td>\n",
              "      <td>2016.0</td>\n",
              "      <td>Adventure</td>\n",
              "      <td>0.00</td>\n",
              "      <td>0.00</td>\n",
              "      <td>0.01</td>\n",
              "      <td>0.0</td>\n",
              "      <td>NaN</td>\n",
              "      <td>NaN</td>\n",
              "      <td>NaN</td>\n",
              "    </tr>\n",
              "    <tr>\n",
              "      <th>16713</th>\n",
              "      <td>Spirits &amp; Spells</td>\n",
              "      <td>GBA</td>\n",
              "      <td>2003.0</td>\n",
              "      <td>Platform</td>\n",
              "      <td>0.01</td>\n",
              "      <td>0.00</td>\n",
              "      <td>0.00</td>\n",
              "      <td>0.0</td>\n",
              "      <td>NaN</td>\n",
              "      <td>NaN</td>\n",
              "      <td>NaN</td>\n",
              "    </tr>\n",
              "    <tr>\n",
              "      <th>16714</th>\n",
              "      <td>Winning Post 8 2016</td>\n",
              "      <td>PSV</td>\n",
              "      <td>2016.0</td>\n",
              "      <td>Simulation</td>\n",
              "      <td>0.00</td>\n",
              "      <td>0.00</td>\n",
              "      <td>0.01</td>\n",
              "      <td>0.0</td>\n",
              "      <td>NaN</td>\n",
              "      <td>NaN</td>\n",
              "      <td>NaN</td>\n",
              "    </tr>\n",
              "  </tbody>\n",
              "</table>\n",
              "</div>\n",
              "      <button class=\"colab-df-convert\" onclick=\"convertToInteractive('df-fb0a9120-81a3-4786-942c-aad3237a91aa')\"\n",
              "              title=\"Convert this dataframe to an interactive table.\"\n",
              "              style=\"display:none;\">\n",
              "        \n",
              "  <svg xmlns=\"http://www.w3.org/2000/svg\" height=\"24px\"viewBox=\"0 0 24 24\"\n",
              "       width=\"24px\">\n",
              "    <path d=\"M0 0h24v24H0V0z\" fill=\"none\"/>\n",
              "    <path d=\"M18.56 5.44l.94 2.06.94-2.06 2.06-.94-2.06-.94-.94-2.06-.94 2.06-2.06.94zm-11 1L8.5 8.5l.94-2.06 2.06-.94-2.06-.94L8.5 2.5l-.94 2.06-2.06.94zm10 10l.94 2.06.94-2.06 2.06-.94-2.06-.94-.94-2.06-.94 2.06-2.06.94z\"/><path d=\"M17.41 7.96l-1.37-1.37c-.4-.4-.92-.59-1.43-.59-.52 0-1.04.2-1.43.59L10.3 9.45l-7.72 7.72c-.78.78-.78 2.05 0 2.83L4 21.41c.39.39.9.59 1.41.59.51 0 1.02-.2 1.41-.59l7.78-7.78 2.81-2.81c.8-.78.8-2.07 0-2.86zM5.41 20L4 18.59l7.72-7.72 1.47 1.35L5.41 20z\"/>\n",
              "  </svg>\n",
              "      </button>\n",
              "      \n",
              "  <style>\n",
              "    .colab-df-container {\n",
              "      display:flex;\n",
              "      flex-wrap:wrap;\n",
              "      gap: 12px;\n",
              "    }\n",
              "\n",
              "    .colab-df-convert {\n",
              "      background-color: #E8F0FE;\n",
              "      border: none;\n",
              "      border-radius: 50%;\n",
              "      cursor: pointer;\n",
              "      display: none;\n",
              "      fill: #1967D2;\n",
              "      height: 32px;\n",
              "      padding: 0 0 0 0;\n",
              "      width: 32px;\n",
              "    }\n",
              "\n",
              "    .colab-df-convert:hover {\n",
              "      background-color: #E2EBFA;\n",
              "      box-shadow: 0px 1px 2px rgba(60, 64, 67, 0.3), 0px 1px 3px 1px rgba(60, 64, 67, 0.15);\n",
              "      fill: #174EA6;\n",
              "    }\n",
              "\n",
              "    [theme=dark] .colab-df-convert {\n",
              "      background-color: #3B4455;\n",
              "      fill: #D2E3FC;\n",
              "    }\n",
              "\n",
              "    [theme=dark] .colab-df-convert:hover {\n",
              "      background-color: #434B5C;\n",
              "      box-shadow: 0px 1px 3px 1px rgba(0, 0, 0, 0.15);\n",
              "      filter: drop-shadow(0px 1px 2px rgba(0, 0, 0, 0.3));\n",
              "      fill: #FFFFFF;\n",
              "    }\n",
              "  </style>\n",
              "\n",
              "      <script>\n",
              "        const buttonEl =\n",
              "          document.querySelector('#df-fb0a9120-81a3-4786-942c-aad3237a91aa button.colab-df-convert');\n",
              "        buttonEl.style.display =\n",
              "          google.colab.kernel.accessAllowed ? 'block' : 'none';\n",
              "\n",
              "        async function convertToInteractive(key) {\n",
              "          const element = document.querySelector('#df-fb0a9120-81a3-4786-942c-aad3237a91aa');\n",
              "          const dataTable =\n",
              "            await google.colab.kernel.invokeFunction('convertToInteractive',\n",
              "                                                     [key], {});\n",
              "          if (!dataTable) return;\n",
              "\n",
              "          const docLinkHtml = 'Like what you see? Visit the ' +\n",
              "            '<a target=\"_blank\" href=https://colab.research.google.com/notebooks/data_table.ipynb>data table notebook</a>'\n",
              "            + ' to learn more about interactive tables.';\n",
              "          element.innerHTML = '';\n",
              "          dataTable['output_type'] = 'display_data';\n",
              "          await google.colab.output.renderOutput(dataTable, element);\n",
              "          const docLink = document.createElement('div');\n",
              "          docLink.innerHTML = docLinkHtml;\n",
              "          element.appendChild(docLink);\n",
              "        }\n",
              "      </script>\n",
              "    </div>\n",
              "  </div>\n",
              "  "
            ]
          },
          "metadata": {},
          "execution_count": 4
        }
      ],
      "source": [
        "# посмотрим последние строки датафрейма\n",
        "df.tail()"
      ]
    },
    {
      "cell_type": "code",
      "execution_count": null,
      "metadata": {
        "colab": {
          "base_uri": "https://localhost:8080/"
        },
        "id": "FpD6DOOvKCRX",
        "outputId": "bc26456a-94f8-4059-8ab7-fd57f149fb53"
      },
      "outputs": [
        {
          "output_type": "stream",
          "name": "stdout",
          "text": [
            "<class 'pandas.core.frame.DataFrame'>\n",
            "RangeIndex: 16715 entries, 0 to 16714\n",
            "Data columns (total 11 columns):\n",
            " #   Column           Non-Null Count  Dtype  \n",
            "---  ------           --------------  -----  \n",
            " 0   Name             16713 non-null  object \n",
            " 1   Platform         16715 non-null  object \n",
            " 2   Year_of_Release  16446 non-null  float64\n",
            " 3   Genre            16713 non-null  object \n",
            " 4   NA_sales         16715 non-null  float64\n",
            " 5   EU_sales         16715 non-null  float64\n",
            " 6   JP_sales         16715 non-null  float64\n",
            " 7   Other_sales      16715 non-null  float64\n",
            " 8   Critic_Score     8137 non-null   float64\n",
            " 9   User_Score       10014 non-null  object \n",
            " 10  Rating           9949 non-null   object \n",
            "dtypes: float64(6), object(5)\n",
            "memory usage: 1.4+ MB\n"
          ]
        }
      ],
      "source": [
        "# посмотрим информацию о датафрейме\n",
        "df.info()"
      ]
    },
    {
      "cell_type": "markdown",
      "metadata": {
        "id": "BASi49m2u7jd"
      },
      "source": [
        "В информации о датафрейме мы видим, что не все строки заполнены в столбцах Name, Year_of_Release, Genre, Critic_Score, User_Score, Rating.  \n",
        "Причинами пропусков в данных может быть ошибка ввода данных, сокрытие информации.  \n",
        "Пропуски в столбце Rating могут буть потому-что, до 1994 года  не было рейтинга ESRB (SRB была основана в 1994 году ESRB_wikipedia ), а также возможно данные просто ошибочно не были введены."
      ]
    },
    {
      "cell_type": "code",
      "execution_count": null,
      "metadata": {
        "colab": {
          "base_uri": "https://localhost:8080/",
          "height": 300
        },
        "id": "G6FxvcNgKHKC",
        "outputId": "8fea94cc-8b9e-47f1-d5dc-2c02e943d87a"
      },
      "outputs": [
        {
          "output_type": "execute_result",
          "data": {
            "text/plain": [
              "       Year_of_Release      NA_sales      EU_sales      JP_sales  \\\n",
              "count     16446.000000  16715.000000  16715.000000  16715.000000   \n",
              "mean       2006.484616      0.263377      0.145060      0.077617   \n",
              "std           5.877050      0.813604      0.503339      0.308853   \n",
              "min        1980.000000      0.000000      0.000000      0.000000   \n",
              "25%        2003.000000      0.000000      0.000000      0.000000   \n",
              "50%        2007.000000      0.080000      0.020000      0.000000   \n",
              "75%        2010.000000      0.240000      0.110000      0.040000   \n",
              "max        2016.000000     41.360000     28.960000     10.220000   \n",
              "\n",
              "        Other_sales  Critic_Score  \n",
              "count  16715.000000   8137.000000  \n",
              "mean       0.047342     68.967679  \n",
              "std        0.186731     13.938165  \n",
              "min        0.000000     13.000000  \n",
              "25%        0.000000     60.000000  \n",
              "50%        0.010000     71.000000  \n",
              "75%        0.030000     79.000000  \n",
              "max       10.570000     98.000000  "
            ],
            "text/html": [
              "\n",
              "  <div id=\"df-8676d3d7-0ada-4b86-80a3-cce7e9862e3a\">\n",
              "    <div class=\"colab-df-container\">\n",
              "      <div>\n",
              "<style scoped>\n",
              "    .dataframe tbody tr th:only-of-type {\n",
              "        vertical-align: middle;\n",
              "    }\n",
              "\n",
              "    .dataframe tbody tr th {\n",
              "        vertical-align: top;\n",
              "    }\n",
              "\n",
              "    .dataframe thead th {\n",
              "        text-align: right;\n",
              "    }\n",
              "</style>\n",
              "<table border=\"1\" class=\"dataframe\">\n",
              "  <thead>\n",
              "    <tr style=\"text-align: right;\">\n",
              "      <th></th>\n",
              "      <th>Year_of_Release</th>\n",
              "      <th>NA_sales</th>\n",
              "      <th>EU_sales</th>\n",
              "      <th>JP_sales</th>\n",
              "      <th>Other_sales</th>\n",
              "      <th>Critic_Score</th>\n",
              "    </tr>\n",
              "  </thead>\n",
              "  <tbody>\n",
              "    <tr>\n",
              "      <th>count</th>\n",
              "      <td>16446.000000</td>\n",
              "      <td>16715.000000</td>\n",
              "      <td>16715.000000</td>\n",
              "      <td>16715.000000</td>\n",
              "      <td>16715.000000</td>\n",
              "      <td>8137.000000</td>\n",
              "    </tr>\n",
              "    <tr>\n",
              "      <th>mean</th>\n",
              "      <td>2006.484616</td>\n",
              "      <td>0.263377</td>\n",
              "      <td>0.145060</td>\n",
              "      <td>0.077617</td>\n",
              "      <td>0.047342</td>\n",
              "      <td>68.967679</td>\n",
              "    </tr>\n",
              "    <tr>\n",
              "      <th>std</th>\n",
              "      <td>5.877050</td>\n",
              "      <td>0.813604</td>\n",
              "      <td>0.503339</td>\n",
              "      <td>0.308853</td>\n",
              "      <td>0.186731</td>\n",
              "      <td>13.938165</td>\n",
              "    </tr>\n",
              "    <tr>\n",
              "      <th>min</th>\n",
              "      <td>1980.000000</td>\n",
              "      <td>0.000000</td>\n",
              "      <td>0.000000</td>\n",
              "      <td>0.000000</td>\n",
              "      <td>0.000000</td>\n",
              "      <td>13.000000</td>\n",
              "    </tr>\n",
              "    <tr>\n",
              "      <th>25%</th>\n",
              "      <td>2003.000000</td>\n",
              "      <td>0.000000</td>\n",
              "      <td>0.000000</td>\n",
              "      <td>0.000000</td>\n",
              "      <td>0.000000</td>\n",
              "      <td>60.000000</td>\n",
              "    </tr>\n",
              "    <tr>\n",
              "      <th>50%</th>\n",
              "      <td>2007.000000</td>\n",
              "      <td>0.080000</td>\n",
              "      <td>0.020000</td>\n",
              "      <td>0.000000</td>\n",
              "      <td>0.010000</td>\n",
              "      <td>71.000000</td>\n",
              "    </tr>\n",
              "    <tr>\n",
              "      <th>75%</th>\n",
              "      <td>2010.000000</td>\n",
              "      <td>0.240000</td>\n",
              "      <td>0.110000</td>\n",
              "      <td>0.040000</td>\n",
              "      <td>0.030000</td>\n",
              "      <td>79.000000</td>\n",
              "    </tr>\n",
              "    <tr>\n",
              "      <th>max</th>\n",
              "      <td>2016.000000</td>\n",
              "      <td>41.360000</td>\n",
              "      <td>28.960000</td>\n",
              "      <td>10.220000</td>\n",
              "      <td>10.570000</td>\n",
              "      <td>98.000000</td>\n",
              "    </tr>\n",
              "  </tbody>\n",
              "</table>\n",
              "</div>\n",
              "      <button class=\"colab-df-convert\" onclick=\"convertToInteractive('df-8676d3d7-0ada-4b86-80a3-cce7e9862e3a')\"\n",
              "              title=\"Convert this dataframe to an interactive table.\"\n",
              "              style=\"display:none;\">\n",
              "        \n",
              "  <svg xmlns=\"http://www.w3.org/2000/svg\" height=\"24px\"viewBox=\"0 0 24 24\"\n",
              "       width=\"24px\">\n",
              "    <path d=\"M0 0h24v24H0V0z\" fill=\"none\"/>\n",
              "    <path d=\"M18.56 5.44l.94 2.06.94-2.06 2.06-.94-2.06-.94-.94-2.06-.94 2.06-2.06.94zm-11 1L8.5 8.5l.94-2.06 2.06-.94-2.06-.94L8.5 2.5l-.94 2.06-2.06.94zm10 10l.94 2.06.94-2.06 2.06-.94-2.06-.94-.94-2.06-.94 2.06-2.06.94z\"/><path d=\"M17.41 7.96l-1.37-1.37c-.4-.4-.92-.59-1.43-.59-.52 0-1.04.2-1.43.59L10.3 9.45l-7.72 7.72c-.78.78-.78 2.05 0 2.83L4 21.41c.39.39.9.59 1.41.59.51 0 1.02-.2 1.41-.59l7.78-7.78 2.81-2.81c.8-.78.8-2.07 0-2.86zM5.41 20L4 18.59l7.72-7.72 1.47 1.35L5.41 20z\"/>\n",
              "  </svg>\n",
              "      </button>\n",
              "      \n",
              "  <style>\n",
              "    .colab-df-container {\n",
              "      display:flex;\n",
              "      flex-wrap:wrap;\n",
              "      gap: 12px;\n",
              "    }\n",
              "\n",
              "    .colab-df-convert {\n",
              "      background-color: #E8F0FE;\n",
              "      border: none;\n",
              "      border-radius: 50%;\n",
              "      cursor: pointer;\n",
              "      display: none;\n",
              "      fill: #1967D2;\n",
              "      height: 32px;\n",
              "      padding: 0 0 0 0;\n",
              "      width: 32px;\n",
              "    }\n",
              "\n",
              "    .colab-df-convert:hover {\n",
              "      background-color: #E2EBFA;\n",
              "      box-shadow: 0px 1px 2px rgba(60, 64, 67, 0.3), 0px 1px 3px 1px rgba(60, 64, 67, 0.15);\n",
              "      fill: #174EA6;\n",
              "    }\n",
              "\n",
              "    [theme=dark] .colab-df-convert {\n",
              "      background-color: #3B4455;\n",
              "      fill: #D2E3FC;\n",
              "    }\n",
              "\n",
              "    [theme=dark] .colab-df-convert:hover {\n",
              "      background-color: #434B5C;\n",
              "      box-shadow: 0px 1px 3px 1px rgba(0, 0, 0, 0.15);\n",
              "      filter: drop-shadow(0px 1px 2px rgba(0, 0, 0, 0.3));\n",
              "      fill: #FFFFFF;\n",
              "    }\n",
              "  </style>\n",
              "\n",
              "      <script>\n",
              "        const buttonEl =\n",
              "          document.querySelector('#df-8676d3d7-0ada-4b86-80a3-cce7e9862e3a button.colab-df-convert');\n",
              "        buttonEl.style.display =\n",
              "          google.colab.kernel.accessAllowed ? 'block' : 'none';\n",
              "\n",
              "        async function convertToInteractive(key) {\n",
              "          const element = document.querySelector('#df-8676d3d7-0ada-4b86-80a3-cce7e9862e3a');\n",
              "          const dataTable =\n",
              "            await google.colab.kernel.invokeFunction('convertToInteractive',\n",
              "                                                     [key], {});\n",
              "          if (!dataTable) return;\n",
              "\n",
              "          const docLinkHtml = 'Like what you see? Visit the ' +\n",
              "            '<a target=\"_blank\" href=https://colab.research.google.com/notebooks/data_table.ipynb>data table notebook</a>'\n",
              "            + ' to learn more about interactive tables.';\n",
              "          element.innerHTML = '';\n",
              "          dataTable['output_type'] = 'display_data';\n",
              "          await google.colab.output.renderOutput(dataTable, element);\n",
              "          const docLink = document.createElement('div');\n",
              "          docLink.innerHTML = docLinkHtml;\n",
              "          element.appendChild(docLink);\n",
              "        }\n",
              "      </script>\n",
              "    </div>\n",
              "  </div>\n",
              "  "
            ]
          },
          "metadata": {},
          "execution_count": 6
        }
      ],
      "source": [
        "# посмотрим статистическую информацию\n",
        "df.describe()"
      ]
    },
    {
      "cell_type": "markdown",
      "metadata": {
        "id": "RCqbEw8RTZ4m"
      },
      "source": [
        "В статистической информации видим только столбцы в числовом формате.  \n",
        "В столбце года выхода игр видим, что самые ранние игры вышли в 1980 году."
      ]
    },
    {
      "cell_type": "code",
      "execution_count": null,
      "metadata": {
        "colab": {
          "base_uri": "https://localhost:8080/"
        },
        "id": "KGsu6c69xGzH",
        "outputId": "baa70d21-36b1-433b-d346-29534b3705e1"
      },
      "outputs": [
        {
          "output_type": "execute_result",
          "data": {
            "text/plain": [
              "PS2     2161\n",
              "DS      2151\n",
              "PS3     1331\n",
              "Wii     1320\n",
              "X360    1262\n",
              "PSP     1209\n",
              "PS      1197\n",
              "PC       974\n",
              "XB       824\n",
              "GBA      822\n",
              "Name: Platform, dtype: int64"
            ]
          },
          "metadata": {},
          "execution_count": 7
        }
      ],
      "source": [
        "# посмотрим ТОП-10 платформ по количеству выпущенных игр.\n",
        "df['Platform'].value_counts().head(10)"
      ]
    },
    {
      "cell_type": "markdown",
      "metadata": {
        "id": "TmNauKf_xF-u"
      },
      "source": [
        "Лидерами по количеству выпущенных за все представленные года игр являются PS2, DS, PS3, Wii, X360, PSP, PS, PC, XB, GBA "
      ]
    },
    {
      "cell_type": "code",
      "execution_count": null,
      "metadata": {
        "colab": {
          "base_uri": "https://localhost:8080/",
          "height": 206
        },
        "id": "KddfkQYAKJlz",
        "outputId": "1e7382eb-c706-4fe6-9416-ca9bfd58cd9e"
      },
      "outputs": [
        {
          "output_type": "execute_result",
          "data": {
            "text/plain": [
              "                       name platform  year_of_release         genre  na_sales  \\\n",
              "0                Wii Sports      Wii           2006.0        Sports     41.36   \n",
              "1         Super Mario Bros.      NES           1985.0      Platform     29.08   \n",
              "2            Mario Kart Wii      Wii           2008.0        Racing     15.68   \n",
              "3         Wii Sports Resort      Wii           2009.0        Sports     15.61   \n",
              "4  Pokemon Red/Pokemon Blue       GB           1996.0  Role-Playing     11.27   \n",
              "\n",
              "   eu_sales  jp_sales  other_sales  critic_score user_score rating  \n",
              "0     28.96      3.77         8.45          76.0          8      E  \n",
              "1      3.58      6.81         0.77           NaN        NaN    NaN  \n",
              "2     12.76      3.79         3.29          82.0        8.3      E  \n",
              "3     10.93      3.28         2.95          80.0          8      E  \n",
              "4      8.89     10.22         1.00           NaN        NaN    NaN  "
            ],
            "text/html": [
              "\n",
              "  <div id=\"df-50a3e25a-232b-4431-bf94-7ccfb4b3dc19\">\n",
              "    <div class=\"colab-df-container\">\n",
              "      <div>\n",
              "<style scoped>\n",
              "    .dataframe tbody tr th:only-of-type {\n",
              "        vertical-align: middle;\n",
              "    }\n",
              "\n",
              "    .dataframe tbody tr th {\n",
              "        vertical-align: top;\n",
              "    }\n",
              "\n",
              "    .dataframe thead th {\n",
              "        text-align: right;\n",
              "    }\n",
              "</style>\n",
              "<table border=\"1\" class=\"dataframe\">\n",
              "  <thead>\n",
              "    <tr style=\"text-align: right;\">\n",
              "      <th></th>\n",
              "      <th>name</th>\n",
              "      <th>platform</th>\n",
              "      <th>year_of_release</th>\n",
              "      <th>genre</th>\n",
              "      <th>na_sales</th>\n",
              "      <th>eu_sales</th>\n",
              "      <th>jp_sales</th>\n",
              "      <th>other_sales</th>\n",
              "      <th>critic_score</th>\n",
              "      <th>user_score</th>\n",
              "      <th>rating</th>\n",
              "    </tr>\n",
              "  </thead>\n",
              "  <tbody>\n",
              "    <tr>\n",
              "      <th>0</th>\n",
              "      <td>Wii Sports</td>\n",
              "      <td>Wii</td>\n",
              "      <td>2006.0</td>\n",
              "      <td>Sports</td>\n",
              "      <td>41.36</td>\n",
              "      <td>28.96</td>\n",
              "      <td>3.77</td>\n",
              "      <td>8.45</td>\n",
              "      <td>76.0</td>\n",
              "      <td>8</td>\n",
              "      <td>E</td>\n",
              "    </tr>\n",
              "    <tr>\n",
              "      <th>1</th>\n",
              "      <td>Super Mario Bros.</td>\n",
              "      <td>NES</td>\n",
              "      <td>1985.0</td>\n",
              "      <td>Platform</td>\n",
              "      <td>29.08</td>\n",
              "      <td>3.58</td>\n",
              "      <td>6.81</td>\n",
              "      <td>0.77</td>\n",
              "      <td>NaN</td>\n",
              "      <td>NaN</td>\n",
              "      <td>NaN</td>\n",
              "    </tr>\n",
              "    <tr>\n",
              "      <th>2</th>\n",
              "      <td>Mario Kart Wii</td>\n",
              "      <td>Wii</td>\n",
              "      <td>2008.0</td>\n",
              "      <td>Racing</td>\n",
              "      <td>15.68</td>\n",
              "      <td>12.76</td>\n",
              "      <td>3.79</td>\n",
              "      <td>3.29</td>\n",
              "      <td>82.0</td>\n",
              "      <td>8.3</td>\n",
              "      <td>E</td>\n",
              "    </tr>\n",
              "    <tr>\n",
              "      <th>3</th>\n",
              "      <td>Wii Sports Resort</td>\n",
              "      <td>Wii</td>\n",
              "      <td>2009.0</td>\n",
              "      <td>Sports</td>\n",
              "      <td>15.61</td>\n",
              "      <td>10.93</td>\n",
              "      <td>3.28</td>\n",
              "      <td>2.95</td>\n",
              "      <td>80.0</td>\n",
              "      <td>8</td>\n",
              "      <td>E</td>\n",
              "    </tr>\n",
              "    <tr>\n",
              "      <th>4</th>\n",
              "      <td>Pokemon Red/Pokemon Blue</td>\n",
              "      <td>GB</td>\n",
              "      <td>1996.0</td>\n",
              "      <td>Role-Playing</td>\n",
              "      <td>11.27</td>\n",
              "      <td>8.89</td>\n",
              "      <td>10.22</td>\n",
              "      <td>1.00</td>\n",
              "      <td>NaN</td>\n",
              "      <td>NaN</td>\n",
              "      <td>NaN</td>\n",
              "    </tr>\n",
              "  </tbody>\n",
              "</table>\n",
              "</div>\n",
              "      <button class=\"colab-df-convert\" onclick=\"convertToInteractive('df-50a3e25a-232b-4431-bf94-7ccfb4b3dc19')\"\n",
              "              title=\"Convert this dataframe to an interactive table.\"\n",
              "              style=\"display:none;\">\n",
              "        \n",
              "  <svg xmlns=\"http://www.w3.org/2000/svg\" height=\"24px\"viewBox=\"0 0 24 24\"\n",
              "       width=\"24px\">\n",
              "    <path d=\"M0 0h24v24H0V0z\" fill=\"none\"/>\n",
              "    <path d=\"M18.56 5.44l.94 2.06.94-2.06 2.06-.94-2.06-.94-.94-2.06-.94 2.06-2.06.94zm-11 1L8.5 8.5l.94-2.06 2.06-.94-2.06-.94L8.5 2.5l-.94 2.06-2.06.94zm10 10l.94 2.06.94-2.06 2.06-.94-2.06-.94-.94-2.06-.94 2.06-2.06.94z\"/><path d=\"M17.41 7.96l-1.37-1.37c-.4-.4-.92-.59-1.43-.59-.52 0-1.04.2-1.43.59L10.3 9.45l-7.72 7.72c-.78.78-.78 2.05 0 2.83L4 21.41c.39.39.9.59 1.41.59.51 0 1.02-.2 1.41-.59l7.78-7.78 2.81-2.81c.8-.78.8-2.07 0-2.86zM5.41 20L4 18.59l7.72-7.72 1.47 1.35L5.41 20z\"/>\n",
              "  </svg>\n",
              "      </button>\n",
              "      \n",
              "  <style>\n",
              "    .colab-df-container {\n",
              "      display:flex;\n",
              "      flex-wrap:wrap;\n",
              "      gap: 12px;\n",
              "    }\n",
              "\n",
              "    .colab-df-convert {\n",
              "      background-color: #E8F0FE;\n",
              "      border: none;\n",
              "      border-radius: 50%;\n",
              "      cursor: pointer;\n",
              "      display: none;\n",
              "      fill: #1967D2;\n",
              "      height: 32px;\n",
              "      padding: 0 0 0 0;\n",
              "      width: 32px;\n",
              "    }\n",
              "\n",
              "    .colab-df-convert:hover {\n",
              "      background-color: #E2EBFA;\n",
              "      box-shadow: 0px 1px 2px rgba(60, 64, 67, 0.3), 0px 1px 3px 1px rgba(60, 64, 67, 0.15);\n",
              "      fill: #174EA6;\n",
              "    }\n",
              "\n",
              "    [theme=dark] .colab-df-convert {\n",
              "      background-color: #3B4455;\n",
              "      fill: #D2E3FC;\n",
              "    }\n",
              "\n",
              "    [theme=dark] .colab-df-convert:hover {\n",
              "      background-color: #434B5C;\n",
              "      box-shadow: 0px 1px 3px 1px rgba(0, 0, 0, 0.15);\n",
              "      filter: drop-shadow(0px 1px 2px rgba(0, 0, 0, 0.3));\n",
              "      fill: #FFFFFF;\n",
              "    }\n",
              "  </style>\n",
              "\n",
              "      <script>\n",
              "        const buttonEl =\n",
              "          document.querySelector('#df-50a3e25a-232b-4431-bf94-7ccfb4b3dc19 button.colab-df-convert');\n",
              "        buttonEl.style.display =\n",
              "          google.colab.kernel.accessAllowed ? 'block' : 'none';\n",
              "\n",
              "        async function convertToInteractive(key) {\n",
              "          const element = document.querySelector('#df-50a3e25a-232b-4431-bf94-7ccfb4b3dc19');\n",
              "          const dataTable =\n",
              "            await google.colab.kernel.invokeFunction('convertToInteractive',\n",
              "                                                     [key], {});\n",
              "          if (!dataTable) return;\n",
              "\n",
              "          const docLinkHtml = 'Like what you see? Visit the ' +\n",
              "            '<a target=\"_blank\" href=https://colab.research.google.com/notebooks/data_table.ipynb>data table notebook</a>'\n",
              "            + ' to learn more about interactive tables.';\n",
              "          element.innerHTML = '';\n",
              "          dataTable['output_type'] = 'display_data';\n",
              "          await google.colab.output.renderOutput(dataTable, element);\n",
              "          const docLink = document.createElement('div');\n",
              "          docLink.innerHTML = docLinkHtml;\n",
              "          element.appendChild(docLink);\n",
              "        }\n",
              "      </script>\n",
              "    </div>\n",
              "  </div>\n",
              "  "
            ]
          },
          "metadata": {},
          "execution_count": 8
        }
      ],
      "source": [
        "# приведем названия колонок к нижненму регистру\n",
        "\n",
        "df.columns = [x.lower() for x in df.columns]\n",
        "df.head()"
      ]
    },
    {
      "cell_type": "code",
      "execution_count": null,
      "metadata": {
        "colab": {
          "base_uri": "https://localhost:8080/"
        },
        "id": "RPSHHHwizaUE",
        "outputId": "b507f4f2-2387-4650-b925-a2d280fa51b4"
      },
      "outputs": [
        {
          "output_type": "execute_result",
          "data": {
            "text/plain": [
              "name                  2\n",
              "platform              0\n",
              "year_of_release     269\n",
              "genre                 2\n",
              "na_sales              0\n",
              "eu_sales              0\n",
              "jp_sales              0\n",
              "other_sales           0\n",
              "critic_score       8578\n",
              "user_score         6701\n",
              "rating             6766\n",
              "dtype: int64"
            ]
          },
          "metadata": {},
          "execution_count": 9
        }
      ],
      "source": [
        "# проверим количество пропущенных значений по столбцам датафрейма\n",
        "df.isna().sum()"
      ]
    },
    {
      "cell_type": "markdown",
      "metadata": {
        "id": "ZB9V6obqzMMH"
      },
      "source": [
        "# Подготовка данных."
      ]
    },
    {
      "cell_type": "code",
      "execution_count": null,
      "metadata": {
        "colab": {
          "base_uri": "https://localhost:8080/",
          "height": 112
        },
        "id": "7Gor0Om0znCU",
        "outputId": "b04ad9a1-35fc-4a8d-8499-1c2417f3268b"
      },
      "outputs": [
        {
          "output_type": "execute_result",
          "data": {
            "text/plain": [
              "      name platform  year_of_release genre  na_sales  eu_sales  jp_sales  \\\n",
              "659    NaN      GEN           1993.0   NaN      1.78      0.53      0.00   \n",
              "14244  NaN      GEN           1993.0   NaN      0.00      0.00      0.03   \n",
              "\n",
              "       other_sales  critic_score user_score rating  \n",
              "659           0.08           NaN        NaN    NaN  \n",
              "14244         0.00           NaN        NaN    NaN  "
            ],
            "text/html": [
              "\n",
              "  <div id=\"df-12809a9d-de3c-4f9e-a0f4-9999a71e20e9\">\n",
              "    <div class=\"colab-df-container\">\n",
              "      <div>\n",
              "<style scoped>\n",
              "    .dataframe tbody tr th:only-of-type {\n",
              "        vertical-align: middle;\n",
              "    }\n",
              "\n",
              "    .dataframe tbody tr th {\n",
              "        vertical-align: top;\n",
              "    }\n",
              "\n",
              "    .dataframe thead th {\n",
              "        text-align: right;\n",
              "    }\n",
              "</style>\n",
              "<table border=\"1\" class=\"dataframe\">\n",
              "  <thead>\n",
              "    <tr style=\"text-align: right;\">\n",
              "      <th></th>\n",
              "      <th>name</th>\n",
              "      <th>platform</th>\n",
              "      <th>year_of_release</th>\n",
              "      <th>genre</th>\n",
              "      <th>na_sales</th>\n",
              "      <th>eu_sales</th>\n",
              "      <th>jp_sales</th>\n",
              "      <th>other_sales</th>\n",
              "      <th>critic_score</th>\n",
              "      <th>user_score</th>\n",
              "      <th>rating</th>\n",
              "    </tr>\n",
              "  </thead>\n",
              "  <tbody>\n",
              "    <tr>\n",
              "      <th>659</th>\n",
              "      <td>NaN</td>\n",
              "      <td>GEN</td>\n",
              "      <td>1993.0</td>\n",
              "      <td>NaN</td>\n",
              "      <td>1.78</td>\n",
              "      <td>0.53</td>\n",
              "      <td>0.00</td>\n",
              "      <td>0.08</td>\n",
              "      <td>NaN</td>\n",
              "      <td>NaN</td>\n",
              "      <td>NaN</td>\n",
              "    </tr>\n",
              "    <tr>\n",
              "      <th>14244</th>\n",
              "      <td>NaN</td>\n",
              "      <td>GEN</td>\n",
              "      <td>1993.0</td>\n",
              "      <td>NaN</td>\n",
              "      <td>0.00</td>\n",
              "      <td>0.00</td>\n",
              "      <td>0.03</td>\n",
              "      <td>0.00</td>\n",
              "      <td>NaN</td>\n",
              "      <td>NaN</td>\n",
              "      <td>NaN</td>\n",
              "    </tr>\n",
              "  </tbody>\n",
              "</table>\n",
              "</div>\n",
              "      <button class=\"colab-df-convert\" onclick=\"convertToInteractive('df-12809a9d-de3c-4f9e-a0f4-9999a71e20e9')\"\n",
              "              title=\"Convert this dataframe to an interactive table.\"\n",
              "              style=\"display:none;\">\n",
              "        \n",
              "  <svg xmlns=\"http://www.w3.org/2000/svg\" height=\"24px\"viewBox=\"0 0 24 24\"\n",
              "       width=\"24px\">\n",
              "    <path d=\"M0 0h24v24H0V0z\" fill=\"none\"/>\n",
              "    <path d=\"M18.56 5.44l.94 2.06.94-2.06 2.06-.94-2.06-.94-.94-2.06-.94 2.06-2.06.94zm-11 1L8.5 8.5l.94-2.06 2.06-.94-2.06-.94L8.5 2.5l-.94 2.06-2.06.94zm10 10l.94 2.06.94-2.06 2.06-.94-2.06-.94-.94-2.06-.94 2.06-2.06.94z\"/><path d=\"M17.41 7.96l-1.37-1.37c-.4-.4-.92-.59-1.43-.59-.52 0-1.04.2-1.43.59L10.3 9.45l-7.72 7.72c-.78.78-.78 2.05 0 2.83L4 21.41c.39.39.9.59 1.41.59.51 0 1.02-.2 1.41-.59l7.78-7.78 2.81-2.81c.8-.78.8-2.07 0-2.86zM5.41 20L4 18.59l7.72-7.72 1.47 1.35L5.41 20z\"/>\n",
              "  </svg>\n",
              "      </button>\n",
              "      \n",
              "  <style>\n",
              "    .colab-df-container {\n",
              "      display:flex;\n",
              "      flex-wrap:wrap;\n",
              "      gap: 12px;\n",
              "    }\n",
              "\n",
              "    .colab-df-convert {\n",
              "      background-color: #E8F0FE;\n",
              "      border: none;\n",
              "      border-radius: 50%;\n",
              "      cursor: pointer;\n",
              "      display: none;\n",
              "      fill: #1967D2;\n",
              "      height: 32px;\n",
              "      padding: 0 0 0 0;\n",
              "      width: 32px;\n",
              "    }\n",
              "\n",
              "    .colab-df-convert:hover {\n",
              "      background-color: #E2EBFA;\n",
              "      box-shadow: 0px 1px 2px rgba(60, 64, 67, 0.3), 0px 1px 3px 1px rgba(60, 64, 67, 0.15);\n",
              "      fill: #174EA6;\n",
              "    }\n",
              "\n",
              "    [theme=dark] .colab-df-convert {\n",
              "      background-color: #3B4455;\n",
              "      fill: #D2E3FC;\n",
              "    }\n",
              "\n",
              "    [theme=dark] .colab-df-convert:hover {\n",
              "      background-color: #434B5C;\n",
              "      box-shadow: 0px 1px 3px 1px rgba(0, 0, 0, 0.15);\n",
              "      filter: drop-shadow(0px 1px 2px rgba(0, 0, 0, 0.3));\n",
              "      fill: #FFFFFF;\n",
              "    }\n",
              "  </style>\n",
              "\n",
              "      <script>\n",
              "        const buttonEl =\n",
              "          document.querySelector('#df-12809a9d-de3c-4f9e-a0f4-9999a71e20e9 button.colab-df-convert');\n",
              "        buttonEl.style.display =\n",
              "          google.colab.kernel.accessAllowed ? 'block' : 'none';\n",
              "\n",
              "        async function convertToInteractive(key) {\n",
              "          const element = document.querySelector('#df-12809a9d-de3c-4f9e-a0f4-9999a71e20e9');\n",
              "          const dataTable =\n",
              "            await google.colab.kernel.invokeFunction('convertToInteractive',\n",
              "                                                     [key], {});\n",
              "          if (!dataTable) return;\n",
              "\n",
              "          const docLinkHtml = 'Like what you see? Visit the ' +\n",
              "            '<a target=\"_blank\" href=https://colab.research.google.com/notebooks/data_table.ipynb>data table notebook</a>'\n",
              "            + ' to learn more about interactive tables.';\n",
              "          element.innerHTML = '';\n",
              "          dataTable['output_type'] = 'display_data';\n",
              "          await google.colab.output.renderOutput(dataTable, element);\n",
              "          const docLink = document.createElement('div');\n",
              "          docLink.innerHTML = docLinkHtml;\n",
              "          element.appendChild(docLink);\n",
              "        }\n",
              "      </script>\n",
              "    </div>\n",
              "  </div>\n",
              "  "
            ]
          },
          "metadata": {},
          "execution_count": 10
        }
      ],
      "source": [
        "# выведем на экран строки с пропущеным названием игры\n",
        "df.loc[df['name'].isna()]"
      ]
    },
    {
      "cell_type": "markdown",
      "metadata": {
        "id": "6JR_XiYHUVUf"
      },
      "source": [
        "Строк с пропущеным названием игр всего две, их можно удалить."
      ]
    },
    {
      "cell_type": "code",
      "execution_count": null,
      "metadata": {
        "id": "raYcCpvIz4Xy"
      },
      "outputs": [],
      "source": [
        "# удаляем строки с пропущенным названием игр\n",
        "df = df.drop(df[df['name'].isna()].index).reset_index(drop=True)\n"
      ]
    },
    {
      "cell_type": "code",
      "execution_count": null,
      "metadata": {
        "colab": {
          "base_uri": "https://localhost:8080/"
        },
        "id": "ZPKgFK62aMxY",
        "outputId": "7f9cc8b4-a486-4c97-fa78-dba8bb14127d"
      },
      "outputs": [
        {
          "output_type": "execute_result",
          "data": {
            "text/plain": [
              "tbd    2424\n",
              "7.8     324\n",
              "8       290\n",
              "8.2     282\n",
              "8.3     254\n",
              "       ... \n",
              "1.1       2\n",
              "1.9       2\n",
              "9.6       2\n",
              "0         1\n",
              "9.7       1\n",
              "Name: user_score, Length: 96, dtype: int64"
            ]
          },
          "metadata": {},
          "execution_count": 12
        }
      ],
      "source": [
        "# Посмотрим какие оценки ставят играм пользователи\n",
        "df['user_score'].value_counts()"
      ]
    },
    {
      "cell_type": "markdown",
      "metadata": {
        "id": "A2hdpAPUvNxD"
      },
      "source": [
        "Оценка \"0\" есть только у одной игры, пропуски в значениях и значения \"tbd\" можно заменить на \"0\" и при проверке гипотез не учитывать такие данные."
      ]
    },
    {
      "cell_type": "code",
      "execution_count": null,
      "metadata": {
        "colab": {
          "base_uri": "https://localhost:8080/",
          "height": 206
        },
        "id": "xdCmkOF1eyMo",
        "outputId": "f0c81551-2fdb-4dd9-a727-c3068ca7e894"
      },
      "outputs": [
        {
          "output_type": "execute_result",
          "data": {
            "text/plain": [
              "                       name platform  year_of_release         genre  na_sales  \\\n",
              "0                Wii Sports      Wii           2006.0        Sports     41.36   \n",
              "1         Super Mario Bros.      NES           1985.0      Platform     29.08   \n",
              "2            Mario Kart Wii      Wii           2008.0        Racing     15.68   \n",
              "3         Wii Sports Resort      Wii           2009.0        Sports     15.61   \n",
              "4  Pokemon Red/Pokemon Blue       GB           1996.0  Role-Playing     11.27   \n",
              "\n",
              "   eu_sales  jp_sales  other_sales  critic_score user_score rating  \n",
              "0     28.96      3.77         8.45          76.0          8      E  \n",
              "1      3.58      6.81         0.77           0.0          0      0  \n",
              "2     12.76      3.79         3.29          82.0        8.3      E  \n",
              "3     10.93      3.28         2.95          80.0          8      E  \n",
              "4      8.89     10.22         1.00           0.0          0      0  "
            ],
            "text/html": [
              "\n",
              "  <div id=\"df-d52efb07-7c22-4415-ad88-c14b4d2a4f28\">\n",
              "    <div class=\"colab-df-container\">\n",
              "      <div>\n",
              "<style scoped>\n",
              "    .dataframe tbody tr th:only-of-type {\n",
              "        vertical-align: middle;\n",
              "    }\n",
              "\n",
              "    .dataframe tbody tr th {\n",
              "        vertical-align: top;\n",
              "    }\n",
              "\n",
              "    .dataframe thead th {\n",
              "        text-align: right;\n",
              "    }\n",
              "</style>\n",
              "<table border=\"1\" class=\"dataframe\">\n",
              "  <thead>\n",
              "    <tr style=\"text-align: right;\">\n",
              "      <th></th>\n",
              "      <th>name</th>\n",
              "      <th>platform</th>\n",
              "      <th>year_of_release</th>\n",
              "      <th>genre</th>\n",
              "      <th>na_sales</th>\n",
              "      <th>eu_sales</th>\n",
              "      <th>jp_sales</th>\n",
              "      <th>other_sales</th>\n",
              "      <th>critic_score</th>\n",
              "      <th>user_score</th>\n",
              "      <th>rating</th>\n",
              "    </tr>\n",
              "  </thead>\n",
              "  <tbody>\n",
              "    <tr>\n",
              "      <th>0</th>\n",
              "      <td>Wii Sports</td>\n",
              "      <td>Wii</td>\n",
              "      <td>2006.0</td>\n",
              "      <td>Sports</td>\n",
              "      <td>41.36</td>\n",
              "      <td>28.96</td>\n",
              "      <td>3.77</td>\n",
              "      <td>8.45</td>\n",
              "      <td>76.0</td>\n",
              "      <td>8</td>\n",
              "      <td>E</td>\n",
              "    </tr>\n",
              "    <tr>\n",
              "      <th>1</th>\n",
              "      <td>Super Mario Bros.</td>\n",
              "      <td>NES</td>\n",
              "      <td>1985.0</td>\n",
              "      <td>Platform</td>\n",
              "      <td>29.08</td>\n",
              "      <td>3.58</td>\n",
              "      <td>6.81</td>\n",
              "      <td>0.77</td>\n",
              "      <td>0.0</td>\n",
              "      <td>0</td>\n",
              "      <td>0</td>\n",
              "    </tr>\n",
              "    <tr>\n",
              "      <th>2</th>\n",
              "      <td>Mario Kart Wii</td>\n",
              "      <td>Wii</td>\n",
              "      <td>2008.0</td>\n",
              "      <td>Racing</td>\n",
              "      <td>15.68</td>\n",
              "      <td>12.76</td>\n",
              "      <td>3.79</td>\n",
              "      <td>3.29</td>\n",
              "      <td>82.0</td>\n",
              "      <td>8.3</td>\n",
              "      <td>E</td>\n",
              "    </tr>\n",
              "    <tr>\n",
              "      <th>3</th>\n",
              "      <td>Wii Sports Resort</td>\n",
              "      <td>Wii</td>\n",
              "      <td>2009.0</td>\n",
              "      <td>Sports</td>\n",
              "      <td>15.61</td>\n",
              "      <td>10.93</td>\n",
              "      <td>3.28</td>\n",
              "      <td>2.95</td>\n",
              "      <td>80.0</td>\n",
              "      <td>8</td>\n",
              "      <td>E</td>\n",
              "    </tr>\n",
              "    <tr>\n",
              "      <th>4</th>\n",
              "      <td>Pokemon Red/Pokemon Blue</td>\n",
              "      <td>GB</td>\n",
              "      <td>1996.0</td>\n",
              "      <td>Role-Playing</td>\n",
              "      <td>11.27</td>\n",
              "      <td>8.89</td>\n",
              "      <td>10.22</td>\n",
              "      <td>1.00</td>\n",
              "      <td>0.0</td>\n",
              "      <td>0</td>\n",
              "      <td>0</td>\n",
              "    </tr>\n",
              "  </tbody>\n",
              "</table>\n",
              "</div>\n",
              "      <button class=\"colab-df-convert\" onclick=\"convertToInteractive('df-d52efb07-7c22-4415-ad88-c14b4d2a4f28')\"\n",
              "              title=\"Convert this dataframe to an interactive table.\"\n",
              "              style=\"display:none;\">\n",
              "        \n",
              "  <svg xmlns=\"http://www.w3.org/2000/svg\" height=\"24px\"viewBox=\"0 0 24 24\"\n",
              "       width=\"24px\">\n",
              "    <path d=\"M0 0h24v24H0V0z\" fill=\"none\"/>\n",
              "    <path d=\"M18.56 5.44l.94 2.06.94-2.06 2.06-.94-2.06-.94-.94-2.06-.94 2.06-2.06.94zm-11 1L8.5 8.5l.94-2.06 2.06-.94-2.06-.94L8.5 2.5l-.94 2.06-2.06.94zm10 10l.94 2.06.94-2.06 2.06-.94-2.06-.94-.94-2.06-.94 2.06-2.06.94z\"/><path d=\"M17.41 7.96l-1.37-1.37c-.4-.4-.92-.59-1.43-.59-.52 0-1.04.2-1.43.59L10.3 9.45l-7.72 7.72c-.78.78-.78 2.05 0 2.83L4 21.41c.39.39.9.59 1.41.59.51 0 1.02-.2 1.41-.59l7.78-7.78 2.81-2.81c.8-.78.8-2.07 0-2.86zM5.41 20L4 18.59l7.72-7.72 1.47 1.35L5.41 20z\"/>\n",
              "  </svg>\n",
              "      </button>\n",
              "      \n",
              "  <style>\n",
              "    .colab-df-container {\n",
              "      display:flex;\n",
              "      flex-wrap:wrap;\n",
              "      gap: 12px;\n",
              "    }\n",
              "\n",
              "    .colab-df-convert {\n",
              "      background-color: #E8F0FE;\n",
              "      border: none;\n",
              "      border-radius: 50%;\n",
              "      cursor: pointer;\n",
              "      display: none;\n",
              "      fill: #1967D2;\n",
              "      height: 32px;\n",
              "      padding: 0 0 0 0;\n",
              "      width: 32px;\n",
              "    }\n",
              "\n",
              "    .colab-df-convert:hover {\n",
              "      background-color: #E2EBFA;\n",
              "      box-shadow: 0px 1px 2px rgba(60, 64, 67, 0.3), 0px 1px 3px 1px rgba(60, 64, 67, 0.15);\n",
              "      fill: #174EA6;\n",
              "    }\n",
              "\n",
              "    [theme=dark] .colab-df-convert {\n",
              "      background-color: #3B4455;\n",
              "      fill: #D2E3FC;\n",
              "    }\n",
              "\n",
              "    [theme=dark] .colab-df-convert:hover {\n",
              "      background-color: #434B5C;\n",
              "      box-shadow: 0px 1px 3px 1px rgba(0, 0, 0, 0.15);\n",
              "      filter: drop-shadow(0px 1px 2px rgba(0, 0, 0, 0.3));\n",
              "      fill: #FFFFFF;\n",
              "    }\n",
              "  </style>\n",
              "\n",
              "      <script>\n",
              "        const buttonEl =\n",
              "          document.querySelector('#df-d52efb07-7c22-4415-ad88-c14b4d2a4f28 button.colab-df-convert');\n",
              "        buttonEl.style.display =\n",
              "          google.colab.kernel.accessAllowed ? 'block' : 'none';\n",
              "\n",
              "        async function convertToInteractive(key) {\n",
              "          const element = document.querySelector('#df-d52efb07-7c22-4415-ad88-c14b4d2a4f28');\n",
              "          const dataTable =\n",
              "            await google.colab.kernel.invokeFunction('convertToInteractive',\n",
              "                                                     [key], {});\n",
              "          if (!dataTable) return;\n",
              "\n",
              "          const docLinkHtml = 'Like what you see? Visit the ' +\n",
              "            '<a target=\"_blank\" href=https://colab.research.google.com/notebooks/data_table.ipynb>data table notebook</a>'\n",
              "            + ' to learn more about interactive tables.';\n",
              "          element.innerHTML = '';\n",
              "          dataTable['output_type'] = 'display_data';\n",
              "          await google.colab.output.renderOutput(dataTable, element);\n",
              "          const docLink = document.createElement('div');\n",
              "          docLink.innerHTML = docLinkHtml;\n",
              "          element.appendChild(docLink);\n",
              "        }\n",
              "      </script>\n",
              "    </div>\n",
              "  </div>\n",
              "  "
            ]
          },
          "metadata": {},
          "execution_count": 13
        }
      ],
      "source": [
        "# заменим все NaN-данные нулем, чтобы было удобнее считать и преобразовывать данные\n",
        "\n",
        "df = df.fillna(0)\n",
        "df.head()"
      ]
    },
    {
      "cell_type": "code",
      "execution_count": null,
      "metadata": {
        "id": "ATV8mVr6WiCe"
      },
      "outputs": [],
      "source": [
        "# приведем данные в колонке year_of_release к формату  int\n",
        "\n",
        "df['year_of_release'] = df['year_of_release'].astype('int')\n"
      ]
    },
    {
      "cell_type": "code",
      "execution_count": null,
      "metadata": {
        "colab": {
          "base_uri": "https://localhost:8080/"
        },
        "id": "RzmOpL6Bz9kv",
        "outputId": "1aab88a7-cbc9-4dfe-ddca-a23cb7f92008"
      },
      "outputs": [
        {
          "output_type": "execute_result",
          "data": {
            "text/plain": [
              "user_score  critic_score\n",
              "0           0.0             6661\n",
              "            33.0               1\n",
              "            40.0               1\n",
              "            44.0               1\n",
              "            46.0               1\n",
              "                            ... \n",
              "tbd         86.0               2\n",
              "            87.0               1\n",
              "            88.0               1\n",
              "            89.0               1\n",
              "            90.0               1\n",
              "Name: genre, Length: 2499, dtype: int64"
            ]
          },
          "metadata": {},
          "execution_count": 15
        }
      ],
      "source": [
        "# cгруппируем данные в столбцах с рейтингом, чтобы  найти аббревиатуру 'tbd'\n",
        "df.groupby(['user_score', 'critic_score'])['genre'].count()"
      ]
    },
    {
      "cell_type": "markdown",
      "metadata": {
        "id": "EBDb5MV4HI3V"
      },
      "source": [
        "tbd расшифровывается - To Be Determined, то есть \"Будет определено\", то есть можно сказать что оценка пользователями еще не проставлена. Поэтому заменим эти значения на 0, чтобы было удобнее считать."
      ]
    },
    {
      "cell_type": "code",
      "execution_count": null,
      "metadata": {
        "id": "Cyjz5qTPHuoT"
      },
      "outputs": [],
      "source": [
        "# заменим \"tbd\" на ноль для того, чтобы было удобно считать\n",
        "df['user_score']=df['user_score'].replace('tbd',0.00)"
      ]
    },
    {
      "cell_type": "code",
      "execution_count": null,
      "metadata": {
        "colab": {
          "base_uri": "https://localhost:8080/"
        },
        "id": "M16G3puw80ml",
        "outputId": "0bec3719-3058-4a88-9694-0885910883fb"
      },
      "outputs": [
        {
          "output_type": "execute_result",
          "data": {
            "text/plain": [
              "name                object\n",
              "platform            object\n",
              "year_of_release      int64\n",
              "genre               object\n",
              "na_sales           float64\n",
              "eu_sales           float64\n",
              "jp_sales           float64\n",
              "other_sales        float64\n",
              "critic_score       float64\n",
              "user_score         float64\n",
              "rating              object\n",
              "dtype: object"
            ]
          },
          "metadata": {},
          "execution_count": 17
        }
      ],
      "source": [
        "# поменяем тип данных user_score на float, чтобы было удобно считать \n",
        "df['user_score'] = df['user_score'].astype(float)\n",
        "df.dtypes"
      ]
    },
    {
      "cell_type": "code",
      "execution_count": null,
      "metadata": {
        "id": "LZpJrXJcE7L0"
      },
      "outputs": [],
      "source": [
        "# заменим рейтинг 'K-A' на 'E'\n",
        "df['rating']=df['rating'].replace('K-A','E')"
      ]
    },
    {
      "cell_type": "code",
      "execution_count": null,
      "metadata": {
        "colab": {
          "base_uri": "https://localhost:8080/"
        },
        "id": "wGvZ3PANFQOE",
        "outputId": "5539dc1c-9970-43d9-a48b-6090c18dda82"
      },
      "outputs": [
        {
          "output_type": "execute_result",
          "data": {
            "text/plain": [
              "array(['E', 0, 'M', 'T', 'E10+', 'AO', 'EC', 'RP'], dtype=object)"
            ]
          },
          "metadata": {},
          "execution_count": 19
        }
      ],
      "source": [
        "# проверим значения в столбце rating\n",
        "df['rating'].unique()"
      ]
    },
    {
      "cell_type": "code",
      "execution_count": null,
      "metadata": {
        "colab": {
          "base_uri": "https://localhost:8080/",
          "height": 206
        },
        "id": "r31ikCQkAmPv",
        "outputId": "2285506f-24f3-459e-cc00-14007f711b53"
      },
      "outputs": [
        {
          "output_type": "execute_result",
          "data": {
            "text/plain": [
              "                       name platform  year_of_release         genre  na_sales  \\\n",
              "0                Wii Sports      Wii             2006        Sports     41.36   \n",
              "1         Super Mario Bros.      NES             1985      Platform     29.08   \n",
              "2            Mario Kart Wii      Wii             2008        Racing     15.68   \n",
              "3         Wii Sports Resort      Wii             2009        Sports     15.61   \n",
              "4  Pokemon Red/Pokemon Blue       GB             1996  Role-Playing     11.27   \n",
              "\n",
              "   eu_sales  jp_sales  other_sales  critic_score  user_score rating  \\\n",
              "0     28.96      3.77         8.45          76.0         8.0      E   \n",
              "1      3.58      6.81         0.77           0.0         0.0      0   \n",
              "2     12.76      3.79         3.29          82.0         8.3      E   \n",
              "3     10.93      3.28         2.95          80.0         8.0      E   \n",
              "4      8.89     10.22         1.00           0.0         0.0      0   \n",
              "\n",
              "   total_sales  \n",
              "0        82.54  \n",
              "1        40.24  \n",
              "2        35.52  \n",
              "3        32.77  \n",
              "4        31.38  "
            ],
            "text/html": [
              "\n",
              "  <div id=\"df-63257084-30ed-4a4d-b0fb-fc5fdfe12371\">\n",
              "    <div class=\"colab-df-container\">\n",
              "      <div>\n",
              "<style scoped>\n",
              "    .dataframe tbody tr th:only-of-type {\n",
              "        vertical-align: middle;\n",
              "    }\n",
              "\n",
              "    .dataframe tbody tr th {\n",
              "        vertical-align: top;\n",
              "    }\n",
              "\n",
              "    .dataframe thead th {\n",
              "        text-align: right;\n",
              "    }\n",
              "</style>\n",
              "<table border=\"1\" class=\"dataframe\">\n",
              "  <thead>\n",
              "    <tr style=\"text-align: right;\">\n",
              "      <th></th>\n",
              "      <th>name</th>\n",
              "      <th>platform</th>\n",
              "      <th>year_of_release</th>\n",
              "      <th>genre</th>\n",
              "      <th>na_sales</th>\n",
              "      <th>eu_sales</th>\n",
              "      <th>jp_sales</th>\n",
              "      <th>other_sales</th>\n",
              "      <th>critic_score</th>\n",
              "      <th>user_score</th>\n",
              "      <th>rating</th>\n",
              "      <th>total_sales</th>\n",
              "    </tr>\n",
              "  </thead>\n",
              "  <tbody>\n",
              "    <tr>\n",
              "      <th>0</th>\n",
              "      <td>Wii Sports</td>\n",
              "      <td>Wii</td>\n",
              "      <td>2006</td>\n",
              "      <td>Sports</td>\n",
              "      <td>41.36</td>\n",
              "      <td>28.96</td>\n",
              "      <td>3.77</td>\n",
              "      <td>8.45</td>\n",
              "      <td>76.0</td>\n",
              "      <td>8.0</td>\n",
              "      <td>E</td>\n",
              "      <td>82.54</td>\n",
              "    </tr>\n",
              "    <tr>\n",
              "      <th>1</th>\n",
              "      <td>Super Mario Bros.</td>\n",
              "      <td>NES</td>\n",
              "      <td>1985</td>\n",
              "      <td>Platform</td>\n",
              "      <td>29.08</td>\n",
              "      <td>3.58</td>\n",
              "      <td>6.81</td>\n",
              "      <td>0.77</td>\n",
              "      <td>0.0</td>\n",
              "      <td>0.0</td>\n",
              "      <td>0</td>\n",
              "      <td>40.24</td>\n",
              "    </tr>\n",
              "    <tr>\n",
              "      <th>2</th>\n",
              "      <td>Mario Kart Wii</td>\n",
              "      <td>Wii</td>\n",
              "      <td>2008</td>\n",
              "      <td>Racing</td>\n",
              "      <td>15.68</td>\n",
              "      <td>12.76</td>\n",
              "      <td>3.79</td>\n",
              "      <td>3.29</td>\n",
              "      <td>82.0</td>\n",
              "      <td>8.3</td>\n",
              "      <td>E</td>\n",
              "      <td>35.52</td>\n",
              "    </tr>\n",
              "    <tr>\n",
              "      <th>3</th>\n",
              "      <td>Wii Sports Resort</td>\n",
              "      <td>Wii</td>\n",
              "      <td>2009</td>\n",
              "      <td>Sports</td>\n",
              "      <td>15.61</td>\n",
              "      <td>10.93</td>\n",
              "      <td>3.28</td>\n",
              "      <td>2.95</td>\n",
              "      <td>80.0</td>\n",
              "      <td>8.0</td>\n",
              "      <td>E</td>\n",
              "      <td>32.77</td>\n",
              "    </tr>\n",
              "    <tr>\n",
              "      <th>4</th>\n",
              "      <td>Pokemon Red/Pokemon Blue</td>\n",
              "      <td>GB</td>\n",
              "      <td>1996</td>\n",
              "      <td>Role-Playing</td>\n",
              "      <td>11.27</td>\n",
              "      <td>8.89</td>\n",
              "      <td>10.22</td>\n",
              "      <td>1.00</td>\n",
              "      <td>0.0</td>\n",
              "      <td>0.0</td>\n",
              "      <td>0</td>\n",
              "      <td>31.38</td>\n",
              "    </tr>\n",
              "  </tbody>\n",
              "</table>\n",
              "</div>\n",
              "      <button class=\"colab-df-convert\" onclick=\"convertToInteractive('df-63257084-30ed-4a4d-b0fb-fc5fdfe12371')\"\n",
              "              title=\"Convert this dataframe to an interactive table.\"\n",
              "              style=\"display:none;\">\n",
              "        \n",
              "  <svg xmlns=\"http://www.w3.org/2000/svg\" height=\"24px\"viewBox=\"0 0 24 24\"\n",
              "       width=\"24px\">\n",
              "    <path d=\"M0 0h24v24H0V0z\" fill=\"none\"/>\n",
              "    <path d=\"M18.56 5.44l.94 2.06.94-2.06 2.06-.94-2.06-.94-.94-2.06-.94 2.06-2.06.94zm-11 1L8.5 8.5l.94-2.06 2.06-.94-2.06-.94L8.5 2.5l-.94 2.06-2.06.94zm10 10l.94 2.06.94-2.06 2.06-.94-2.06-.94-.94-2.06-.94 2.06-2.06.94z\"/><path d=\"M17.41 7.96l-1.37-1.37c-.4-.4-.92-.59-1.43-.59-.52 0-1.04.2-1.43.59L10.3 9.45l-7.72 7.72c-.78.78-.78 2.05 0 2.83L4 21.41c.39.39.9.59 1.41.59.51 0 1.02-.2 1.41-.59l7.78-7.78 2.81-2.81c.8-.78.8-2.07 0-2.86zM5.41 20L4 18.59l7.72-7.72 1.47 1.35L5.41 20z\"/>\n",
              "  </svg>\n",
              "      </button>\n",
              "      \n",
              "  <style>\n",
              "    .colab-df-container {\n",
              "      display:flex;\n",
              "      flex-wrap:wrap;\n",
              "      gap: 12px;\n",
              "    }\n",
              "\n",
              "    .colab-df-convert {\n",
              "      background-color: #E8F0FE;\n",
              "      border: none;\n",
              "      border-radius: 50%;\n",
              "      cursor: pointer;\n",
              "      display: none;\n",
              "      fill: #1967D2;\n",
              "      height: 32px;\n",
              "      padding: 0 0 0 0;\n",
              "      width: 32px;\n",
              "    }\n",
              "\n",
              "    .colab-df-convert:hover {\n",
              "      background-color: #E2EBFA;\n",
              "      box-shadow: 0px 1px 2px rgba(60, 64, 67, 0.3), 0px 1px 3px 1px rgba(60, 64, 67, 0.15);\n",
              "      fill: #174EA6;\n",
              "    }\n",
              "\n",
              "    [theme=dark] .colab-df-convert {\n",
              "      background-color: #3B4455;\n",
              "      fill: #D2E3FC;\n",
              "    }\n",
              "\n",
              "    [theme=dark] .colab-df-convert:hover {\n",
              "      background-color: #434B5C;\n",
              "      box-shadow: 0px 1px 3px 1px rgba(0, 0, 0, 0.15);\n",
              "      filter: drop-shadow(0px 1px 2px rgba(0, 0, 0, 0.3));\n",
              "      fill: #FFFFFF;\n",
              "    }\n",
              "  </style>\n",
              "\n",
              "      <script>\n",
              "        const buttonEl =\n",
              "          document.querySelector('#df-63257084-30ed-4a4d-b0fb-fc5fdfe12371 button.colab-df-convert');\n",
              "        buttonEl.style.display =\n",
              "          google.colab.kernel.accessAllowed ? 'block' : 'none';\n",
              "\n",
              "        async function convertToInteractive(key) {\n",
              "          const element = document.querySelector('#df-63257084-30ed-4a4d-b0fb-fc5fdfe12371');\n",
              "          const dataTable =\n",
              "            await google.colab.kernel.invokeFunction('convertToInteractive',\n",
              "                                                     [key], {});\n",
              "          if (!dataTable) return;\n",
              "\n",
              "          const docLinkHtml = 'Like what you see? Visit the ' +\n",
              "            '<a target=\"_blank\" href=https://colab.research.google.com/notebooks/data_table.ipynb>data table notebook</a>'\n",
              "            + ' to learn more about interactive tables.';\n",
              "          element.innerHTML = '';\n",
              "          dataTable['output_type'] = 'display_data';\n",
              "          await google.colab.output.renderOutput(dataTable, element);\n",
              "          const docLink = document.createElement('div');\n",
              "          docLink.innerHTML = docLinkHtml;\n",
              "          element.appendChild(docLink);\n",
              "        }\n",
              "      </script>\n",
              "    </div>\n",
              "  </div>\n",
              "  "
            ]
          },
          "metadata": {},
          "execution_count": 20
        }
      ],
      "source": [
        "# создам колонку с общей суммой продаж\n",
        "df['total_sales'] = df['eu_sales']+df['jp_sales']+df['na_sales']+df['other_sales']\n",
        "df.head()"
      ]
    },
    {
      "cell_type": "markdown",
      "metadata": {
        "id": "Zli583MJoI-y"
      },
      "source": [
        "В процессе подготовки данных удалили две строки с пропущенным названием игр, в колонке 'user_score' нашли аббревиатуру 'tbd' и заменили на \"0\", также на \"0\" заменили все пропуски. Изменили тип данных в столбцах  year_of_release и user_score. Посчитали сумму всех продаж и добалили новый столбец 'total_sales'."
      ]
    },
    {
      "cell_type": "markdown",
      "metadata": {
        "id": "nFYkTZ8ezrEo"
      },
      "source": [
        "# Исследовательский анализ данных."
      ]
    },
    {
      "cell_type": "code",
      "execution_count": null,
      "metadata": {
        "colab": {
          "base_uri": "https://localhost:8080/",
          "height": 206
        },
        "id": "CkxpByHvLbe1",
        "outputId": "138a3c81-d35d-4217-b1d5-fb26a93b14e8"
      },
      "outputs": [
        {
          "output_type": "execute_result",
          "data": {
            "text/plain": [
              "   year_of_release  count\n",
              "0                0    269\n",
              "1             1980      9\n",
              "2             1981     46\n",
              "3             1982     36\n",
              "4             1983     17"
            ],
            "text/html": [
              "\n",
              "  <div id=\"df-ea88dec2-15c9-49df-8a8b-0574541e7303\">\n",
              "    <div class=\"colab-df-container\">\n",
              "      <div>\n",
              "<style scoped>\n",
              "    .dataframe tbody tr th:only-of-type {\n",
              "        vertical-align: middle;\n",
              "    }\n",
              "\n",
              "    .dataframe tbody tr th {\n",
              "        vertical-align: top;\n",
              "    }\n",
              "\n",
              "    .dataframe thead th {\n",
              "        text-align: right;\n",
              "    }\n",
              "</style>\n",
              "<table border=\"1\" class=\"dataframe\">\n",
              "  <thead>\n",
              "    <tr style=\"text-align: right;\">\n",
              "      <th></th>\n",
              "      <th>year_of_release</th>\n",
              "      <th>count</th>\n",
              "    </tr>\n",
              "  </thead>\n",
              "  <tbody>\n",
              "    <tr>\n",
              "      <th>0</th>\n",
              "      <td>0</td>\n",
              "      <td>269</td>\n",
              "    </tr>\n",
              "    <tr>\n",
              "      <th>1</th>\n",
              "      <td>1980</td>\n",
              "      <td>9</td>\n",
              "    </tr>\n",
              "    <tr>\n",
              "      <th>2</th>\n",
              "      <td>1981</td>\n",
              "      <td>46</td>\n",
              "    </tr>\n",
              "    <tr>\n",
              "      <th>3</th>\n",
              "      <td>1982</td>\n",
              "      <td>36</td>\n",
              "    </tr>\n",
              "    <tr>\n",
              "      <th>4</th>\n",
              "      <td>1983</td>\n",
              "      <td>17</td>\n",
              "    </tr>\n",
              "  </tbody>\n",
              "</table>\n",
              "</div>\n",
              "      <button class=\"colab-df-convert\" onclick=\"convertToInteractive('df-ea88dec2-15c9-49df-8a8b-0574541e7303')\"\n",
              "              title=\"Convert this dataframe to an interactive table.\"\n",
              "              style=\"display:none;\">\n",
              "        \n",
              "  <svg xmlns=\"http://www.w3.org/2000/svg\" height=\"24px\"viewBox=\"0 0 24 24\"\n",
              "       width=\"24px\">\n",
              "    <path d=\"M0 0h24v24H0V0z\" fill=\"none\"/>\n",
              "    <path d=\"M18.56 5.44l.94 2.06.94-2.06 2.06-.94-2.06-.94-.94-2.06-.94 2.06-2.06.94zm-11 1L8.5 8.5l.94-2.06 2.06-.94-2.06-.94L8.5 2.5l-.94 2.06-2.06.94zm10 10l.94 2.06.94-2.06 2.06-.94-2.06-.94-.94-2.06-.94 2.06-2.06.94z\"/><path d=\"M17.41 7.96l-1.37-1.37c-.4-.4-.92-.59-1.43-.59-.52 0-1.04.2-1.43.59L10.3 9.45l-7.72 7.72c-.78.78-.78 2.05 0 2.83L4 21.41c.39.39.9.59 1.41.59.51 0 1.02-.2 1.41-.59l7.78-7.78 2.81-2.81c.8-.78.8-2.07 0-2.86zM5.41 20L4 18.59l7.72-7.72 1.47 1.35L5.41 20z\"/>\n",
              "  </svg>\n",
              "      </button>\n",
              "      \n",
              "  <style>\n",
              "    .colab-df-container {\n",
              "      display:flex;\n",
              "      flex-wrap:wrap;\n",
              "      gap: 12px;\n",
              "    }\n",
              "\n",
              "    .colab-df-convert {\n",
              "      background-color: #E8F0FE;\n",
              "      border: none;\n",
              "      border-radius: 50%;\n",
              "      cursor: pointer;\n",
              "      display: none;\n",
              "      fill: #1967D2;\n",
              "      height: 32px;\n",
              "      padding: 0 0 0 0;\n",
              "      width: 32px;\n",
              "    }\n",
              "\n",
              "    .colab-df-convert:hover {\n",
              "      background-color: #E2EBFA;\n",
              "      box-shadow: 0px 1px 2px rgba(60, 64, 67, 0.3), 0px 1px 3px 1px rgba(60, 64, 67, 0.15);\n",
              "      fill: #174EA6;\n",
              "    }\n",
              "\n",
              "    [theme=dark] .colab-df-convert {\n",
              "      background-color: #3B4455;\n",
              "      fill: #D2E3FC;\n",
              "    }\n",
              "\n",
              "    [theme=dark] .colab-df-convert:hover {\n",
              "      background-color: #434B5C;\n",
              "      box-shadow: 0px 1px 3px 1px rgba(0, 0, 0, 0.15);\n",
              "      filter: drop-shadow(0px 1px 2px rgba(0, 0, 0, 0.3));\n",
              "      fill: #FFFFFF;\n",
              "    }\n",
              "  </style>\n",
              "\n",
              "      <script>\n",
              "        const buttonEl =\n",
              "          document.querySelector('#df-ea88dec2-15c9-49df-8a8b-0574541e7303 button.colab-df-convert');\n",
              "        buttonEl.style.display =\n",
              "          google.colab.kernel.accessAllowed ? 'block' : 'none';\n",
              "\n",
              "        async function convertToInteractive(key) {\n",
              "          const element = document.querySelector('#df-ea88dec2-15c9-49df-8a8b-0574541e7303');\n",
              "          const dataTable =\n",
              "            await google.colab.kernel.invokeFunction('convertToInteractive',\n",
              "                                                     [key], {});\n",
              "          if (!dataTable) return;\n",
              "\n",
              "          const docLinkHtml = 'Like what you see? Visit the ' +\n",
              "            '<a target=\"_blank\" href=https://colab.research.google.com/notebooks/data_table.ipynb>data table notebook</a>'\n",
              "            + ' to learn more about interactive tables.';\n",
              "          element.innerHTML = '';\n",
              "          dataTable['output_type'] = 'display_data';\n",
              "          await google.colab.output.renderOutput(dataTable, element);\n",
              "          const docLink = document.createElement('div');\n",
              "          docLink.innerHTML = docLinkHtml;\n",
              "          element.appendChild(docLink);\n",
              "        }\n",
              "      </script>\n",
              "    </div>\n",
              "  </div>\n",
              "  "
            ]
          },
          "metadata": {},
          "execution_count": 21
        }
      ],
      "source": [
        "# сгруппирую датафрейм по годам выпуска видеоигр и подсчитаю количество выпущенных игр\n",
        "year = df.groupby(['year_of_release']).agg({'name':['count']}).reset_index()\n",
        "year.columns = ['year_of_release', 'count']\n",
        "year.head()"
      ]
    },
    {
      "cell_type": "code",
      "execution_count": null,
      "metadata": {
        "colab": {
          "base_uri": "https://localhost:8080/",
          "height": 637
        },
        "id": "vXmfH2p-oI-0",
        "outputId": "0ddc0729-253a-4fed-ebf2-f43dbac04340"
      },
      "outputs": [
        {
          "output_type": "display_data",
          "data": {
            "text/plain": [
              "<Figure size 1440x720 with 1 Axes>"
            ],
            "image/png": "[encoded data removed]"
          },
          "metadata": {
            "needs_background": "light"
          }
        }
      ],
      "source": [
        "# построю диаграмму для визуализации распределения количества выпускаемых игр по годам.\n",
        "plt.figure(figsize=(20,10))\n",
        "pl=sns.barplot(data=year, x=\"year_of_release\", y=\"count\")\n",
        "pl.set(title='Выпуск игр по годам', xlabel = 'Год выпуска', ylabel = 'Количество игр')\n",
        "plt.xticks(rotation=45)\n",
        "plt.grid();"
      ]
    },
    {
      "cell_type": "markdown",
      "metadata": {
        "id": "642LCL4sliwO"
      },
      "source": [
        "до 1994 года мало количество выпущенных игр, удалим данные до 1994 года."
      ]
    },
    {
      "cell_type": "code",
      "execution_count": null,
      "metadata": {
        "colab": {
          "base_uri": "https://localhost:8080/"
        },
        "id": "0laABUTllt7l",
        "outputId": "8982151a-a8a3-4a18-cf6f-fdb4fb9db1e6"
      },
      "outputs": [
        {
          "output_type": "execute_result",
          "data": {
            "text/plain": [
              "634"
            ]
          },
          "metadata": {},
          "execution_count": 23
        }
      ],
      "source": [
        "# проверим количество игр выпущенных до 1994 года\n",
        "df.loc[df['year_of_release']<1994, 'year_of_release'].count()"
      ]
    },
    {
      "cell_type": "code",
      "execution_count": null,
      "metadata": {
        "id": "P5dzcMQ04P3o"
      },
      "outputs": [],
      "source": [
        "# удалим данные до 1994 года\n",
        "df = df.loc[df['year_of_release'] >= 1994]"
      ]
    },
    {
      "cell_type": "code",
      "execution_count": null,
      "metadata": {
        "colab": {
          "base_uri": "https://localhost:8080/",
          "height": 959
        },
        "id": "lxqZKBZy4e47",
        "outputId": "93af63eb-7003-4190-8d4a-19fdec66dfc6"
      },
      "outputs": [
        {
          "output_type": "execute_result",
          "data": {
            "text/plain": [
              "   platform  eu_sales  jp_sales  na_sales  other_sales  total_sales\n",
              "0       PS2    332.63    137.54    572.92       190.47      1233.56\n",
              "1      X360    268.32     12.30    595.74        84.88       961.24\n",
              "2       PS3    327.21     79.41    390.13       134.59       931.34\n",
              "3       Wii    258.32     68.28    486.87        77.71       891.18\n",
              "4        DS    188.41    175.00    380.31        59.04       802.76\n",
              "5        PS    212.39    139.78    334.72        40.69       727.58\n",
              "6       PS4    141.09     15.96    108.74        48.35       314.14\n",
              "7       GBA     74.59     46.56    184.12         7.61       312.88\n",
              "8       PSP     65.62     75.88    107.27        40.76       289.53\n",
              "9       3DS     61.27    100.62     82.65        13.27       257.81\n",
              "10       PC    138.66      0.17     92.08        21.75       252.66\n",
              "11       XB     59.65      1.38    182.06         8.48       251.57\n",
              "12      N64     41.03     33.76    138.91         4.31       218.01\n",
              "13       GC     38.32     21.34    131.94         5.13       196.73\n",
              "14     XOne     51.59      0.34     93.12        14.27       159.32\n",
              "15       GB     33.87     56.39     56.24         5.58       152.08\n",
              "16     SNES      5.46     59.53     18.78         0.90        84.67\n",
              "17     WiiU     25.13     13.01     38.10         5.95        82.19\n",
              "18      PSV     13.07     21.84     12.47         6.43        53.81\n",
              "19      SAT      0.54     32.26      0.72         0.07        33.59\n",
              "20       DC      1.69      8.56      5.43         0.27        15.95\n",
              "21      GEN      1.68      0.93      5.21         0.31         8.13\n",
              "22       WS      0.00      1.42      0.00         0.00         1.42\n",
              "23       NG      0.00      1.23      0.00         0.00         1.23\n",
              "24      SCD      0.00      0.36      0.00         0.00         0.36\n",
              "25     TG16      0.00      0.16      0.00         0.00         0.16\n",
              "26      NES      0.00      0.11      0.00         0.00         0.11\n",
              "27      3DO      0.00      0.10      0.00         0.00         0.10\n",
              "28     PCFX      0.00      0.03      0.00         0.00         0.03"
            ],
            "text/html": [
              "\n",
              "  <div id=\"df-60aea1e8-bb63-43e7-a807-58528b736ab3\">\n",
              "    <div class=\"colab-df-container\">\n",
              "      <div>\n",
              "<style scoped>\n",
              "    .dataframe tbody tr th:only-of-type {\n",
              "        vertical-align: middle;\n",
              "    }\n",
              "\n",
              "    .dataframe tbody tr th {\n",
              "        vertical-align: top;\n",
              "    }\n",
              "\n",
              "    .dataframe thead th {\n",
              "        text-align: right;\n",
              "    }\n",
              "</style>\n",
              "<table border=\"1\" class=\"dataframe\">\n",
              "  <thead>\n",
              "    <tr style=\"text-align: right;\">\n",
              "      <th></th>\n",
              "      <th>platform</th>\n",
              "      <th>eu_sales</th>\n",
              "      <th>jp_sales</th>\n",
              "      <th>na_sales</th>\n",
              "      <th>other_sales</th>\n",
              "      <th>total_sales</th>\n",
              "    </tr>\n",
              "  </thead>\n",
              "  <tbody>\n",
              "    <tr>\n",
              "      <th>0</th>\n",
              "      <td>PS2</td>\n",
              "      <td>332.63</td>\n",
              "      <td>137.54</td>\n",
              "      <td>572.92</td>\n",
              "      <td>190.47</td>\n",
              "      <td>1233.56</td>\n",
              "    </tr>\n",
              "    <tr>\n",
              "      <th>1</th>\n",
              "      <td>X360</td>\n",
              "      <td>268.32</td>\n",
              "      <td>12.30</td>\n",
              "      <td>595.74</td>\n",
              "      <td>84.88</td>\n",
              "      <td>961.24</td>\n",
              "    </tr>\n",
              "    <tr>\n",
              "      <th>2</th>\n",
              "      <td>PS3</td>\n",
              "      <td>327.21</td>\n",
              "      <td>79.41</td>\n",
              "      <td>390.13</td>\n",
              "      <td>134.59</td>\n",
              "      <td>931.34</td>\n",
              "    </tr>\n",
              "    <tr>\n",
              "      <th>3</th>\n",
              "      <td>Wii</td>\n",
              "      <td>258.32</td>\n",
              "      <td>68.28</td>\n",
              "      <td>486.87</td>\n",
              "      <td>77.71</td>\n",
              "      <td>891.18</td>\n",
              "    </tr>\n",
              "    <tr>\n",
              "      <th>4</th>\n",
              "      <td>DS</td>\n",
              "      <td>188.41</td>\n",
              "      <td>175.00</td>\n",
              "      <td>380.31</td>\n",
              "      <td>59.04</td>\n",
              "      <td>802.76</td>\n",
              "    </tr>\n",
              "    <tr>\n",
              "      <th>5</th>\n",
              "      <td>PS</td>\n",
              "      <td>212.39</td>\n",
              "      <td>139.78</td>\n",
              "      <td>334.72</td>\n",
              "      <td>40.69</td>\n",
              "      <td>727.58</td>\n",
              "    </tr>\n",
              "    <tr>\n",
              "      <th>6</th>\n",
              "      <td>PS4</td>\n",
              "      <td>141.09</td>\n",
              "      <td>15.96</td>\n",
              "      <td>108.74</td>\n",
              "      <td>48.35</td>\n",
              "      <td>314.14</td>\n",
              "    </tr>\n",
              "    <tr>\n",
              "      <th>7</th>\n",
              "      <td>GBA</td>\n",
              "      <td>74.59</td>\n",
              "      <td>46.56</td>\n",
              "      <td>184.12</td>\n",
              "      <td>7.61</td>\n",
              "      <td>312.88</td>\n",
              "    </tr>\n",
              "    <tr>\n",
              "      <th>8</th>\n",
              "      <td>PSP</td>\n",
              "      <td>65.62</td>\n",
              "      <td>75.88</td>\n",
              "      <td>107.27</td>\n",
              "      <td>40.76</td>\n",
              "      <td>289.53</td>\n",
              "    </tr>\n",
              "    <tr>\n",
              "      <th>9</th>\n",
              "      <td>3DS</td>\n",
              "      <td>61.27</td>\n",
              "      <td>100.62</td>\n",
              "      <td>82.65</td>\n",
              "      <td>13.27</td>\n",
              "      <td>257.81</td>\n",
              "    </tr>\n",
              "    <tr>\n",
              "      <th>10</th>\n",
              "      <td>PC</td>\n",
              "      <td>138.66</td>\n",
              "      <td>0.17</td>\n",
              "      <td>92.08</td>\n",
              "      <td>21.75</td>\n",
              "      <td>252.66</td>\n",
              "    </tr>\n",
              "    <tr>\n",
              "      <th>11</th>\n",
              "      <td>XB</td>\n",
              "      <td>59.65</td>\n",
              "      <td>1.38</td>\n",
              "      <td>182.06</td>\n",
              "      <td>8.48</td>\n",
              "      <td>251.57</td>\n",
              "    </tr>\n",
              "    <tr>\n",
              "      <th>12</th>\n",
              "      <td>N64</td>\n",
              "      <td>41.03</td>\n",
              "      <td>33.76</td>\n",
              "      <td>138.91</td>\n",
              "      <td>4.31</td>\n",
              "      <td>218.01</td>\n",
              "    </tr>\n",
              "    <tr>\n",
              "      <th>13</th>\n",
              "      <td>GC</td>\n",
              "      <td>38.32</td>\n",
              "      <td>21.34</td>\n",
              "      <td>131.94</td>\n",
              "      <td>5.13</td>\n",
              "      <td>196.73</td>\n",
              "    </tr>\n",
              "    <tr>\n",
              "      <th>14</th>\n",
              "      <td>XOne</td>\n",
              "      <td>51.59</td>\n",
              "      <td>0.34</td>\n",
              "      <td>93.12</td>\n",
              "      <td>14.27</td>\n",
              "      <td>159.32</td>\n",
              "    </tr>\n",
              "    <tr>\n",
              "      <th>15</th>\n",
              "      <td>GB</td>\n",
              "      <td>33.87</td>\n",
              "      <td>56.39</td>\n",
              "      <td>56.24</td>\n",
              "      <td>5.58</td>\n",
              "      <td>152.08</td>\n",
              "    </tr>\n",
              "    <tr>\n",
              "      <th>16</th>\n",
              "      <td>SNES</td>\n",
              "      <td>5.46</td>\n",
              "      <td>59.53</td>\n",
              "      <td>18.78</td>\n",
              "      <td>0.90</td>\n",
              "      <td>84.67</td>\n",
              "    </tr>\n",
              "    <tr>\n",
              "      <th>17</th>\n",
              "      <td>WiiU</td>\n",
              "      <td>25.13</td>\n",
              "      <td>13.01</td>\n",
              "      <td>38.10</td>\n",
              "      <td>5.95</td>\n",
              "      <td>82.19</td>\n",
              "    </tr>\n",
              "    <tr>\n",
              "      <th>18</th>\n",
              "      <td>PSV</td>\n",
              "      <td>13.07</td>\n",
              "      <td>21.84</td>\n",
              "      <td>12.47</td>\n",
              "      <td>6.43</td>\n",
              "      <td>53.81</td>\n",
              "    </tr>\n",
              "    <tr>\n",
              "      <th>19</th>\n",
              "      <td>SAT</td>\n",
              "      <td>0.54</td>\n",
              "      <td>32.26</td>\n",
              "      <td>0.72</td>\n",
              "      <td>0.07</td>\n",
              "      <td>33.59</td>\n",
              "    </tr>\n",
              "    <tr>\n",
              "      <th>20</th>\n",
              "      <td>DC</td>\n",
              "      <td>1.69</td>\n",
              "      <td>8.56</td>\n",
              "      <td>5.43</td>\n",
              "      <td>0.27</td>\n",
              "      <td>15.95</td>\n",
              "    </tr>\n",
              "    <tr>\n",
              "      <th>21</th>\n",
              "      <td>GEN</td>\n",
              "      <td>1.68</td>\n",
              "      <td>0.93</td>\n",
              "      <td>5.21</td>\n",
              "      <td>0.31</td>\n",
              "      <td>8.13</td>\n",
              "    </tr>\n",
              "    <tr>\n",
              "      <th>22</th>\n",
              "      <td>WS</td>\n",
              "      <td>0.00</td>\n",
              "      <td>1.42</td>\n",
              "      <td>0.00</td>\n",
              "      <td>0.00</td>\n",
              "      <td>1.42</td>\n",
              "    </tr>\n",
              "    <tr>\n",
              "      <th>23</th>\n",
              "      <td>NG</td>\n",
              "      <td>0.00</td>\n",
              "      <td>1.23</td>\n",
              "      <td>0.00</td>\n",
              "      <td>0.00</td>\n",
              "      <td>1.23</td>\n",
              "    </tr>\n",
              "    <tr>\n",
              "      <th>24</th>\n",
              "      <td>SCD</td>\n",
              "      <td>0.00</td>\n",
              "      <td>0.36</td>\n",
              "      <td>0.00</td>\n",
              "      <td>0.00</td>\n",
              "      <td>0.36</td>\n",
              "    </tr>\n",
              "    <tr>\n",
              "      <th>25</th>\n",
              "      <td>TG16</td>\n",
              "      <td>0.00</td>\n",
              "      <td>0.16</td>\n",
              "      <td>0.00</td>\n",
              "      <td>0.00</td>\n",
              "      <td>0.16</td>\n",
              "    </tr>\n",
              "    <tr>\n",
              "      <th>26</th>\n",
              "      <td>NES</td>\n",
              "      <td>0.00</td>\n",
              "      <td>0.11</td>\n",
              "      <td>0.00</td>\n",
              "      <td>0.00</td>\n",
              "      <td>0.11</td>\n",
              "    </tr>\n",
              "    <tr>\n",
              "      <th>27</th>\n",
              "      <td>3DO</td>\n",
              "      <td>0.00</td>\n",
              "      <td>0.10</td>\n",
              "      <td>0.00</td>\n",
              "      <td>0.00</td>\n",
              "      <td>0.10</td>\n",
              "    </tr>\n",
              "    <tr>\n",
              "      <th>28</th>\n",
              "      <td>PCFX</td>\n",
              "      <td>0.00</td>\n",
              "      <td>0.03</td>\n",
              "      <td>0.00</td>\n",
              "      <td>0.00</td>\n",
              "      <td>0.03</td>\n",
              "    </tr>\n",
              "  </tbody>\n",
              "</table>\n",
              "</div>\n",
              "      <button class=\"colab-df-convert\" onclick=\"convertToInteractive('df-60aea1e8-bb63-43e7-a807-58528b736ab3')\"\n",
              "              title=\"Convert this dataframe to an interactive table.\"\n",
              "              style=\"display:none;\">\n",
              "        \n",
              "  <svg xmlns=\"http://www.w3.org/2000/svg\" height=\"24px\"viewBox=\"0 0 24 24\"\n",
              "       width=\"24px\">\n",
              "    <path d=\"M0 0h24v24H0V0z\" fill=\"none\"/>\n",
              "    <path d=\"M18.56 5.44l.94 2.06.94-2.06 2.06-.94-2.06-.94-.94-2.06-.94 2.06-2.06.94zm-11 1L8.5 8.5l.94-2.06 2.06-.94-2.06-.94L8.5 2.5l-.94 2.06-2.06.94zm10 10l.94 2.06.94-2.06 2.06-.94-2.06-.94-.94-2.06-.94 2.06-2.06.94z\"/><path d=\"M17.41 7.96l-1.37-1.37c-.4-.4-.92-.59-1.43-.59-.52 0-1.04.2-1.43.59L10.3 9.45l-7.72 7.72c-.78.78-.78 2.05 0 2.83L4 21.41c.39.39.9.59 1.41.59.51 0 1.02-.2 1.41-.59l7.78-7.78 2.81-2.81c.8-.78.8-2.07 0-2.86zM5.41 20L4 18.59l7.72-7.72 1.47 1.35L5.41 20z\"/>\n",
              "  </svg>\n",
              "      </button>\n",
              "      \n",
              "  <style>\n",
              "    .colab-df-container {\n",
              "      display:flex;\n",
              "      flex-wrap:wrap;\n",
              "      gap: 12px;\n",
              "    }\n",
              "\n",
              "    .colab-df-convert {\n",
              "      background-color: #E8F0FE;\n",
              "      border: none;\n",
              "      border-radius: 50%;\n",
              "      cursor: pointer;\n",
              "      display: none;\n",
              "      fill: #1967D2;\n",
              "      height: 32px;\n",
              "      padding: 0 0 0 0;\n",
              "      width: 32px;\n",
              "    }\n",
              "\n",
              "    .colab-df-convert:hover {\n",
              "      background-color: #E2EBFA;\n",
              "      box-shadow: 0px 1px 2px rgba(60, 64, 67, 0.3), 0px 1px 3px 1px rgba(60, 64, 67, 0.15);\n",
              "      fill: #174EA6;\n",
              "    }\n",
              "\n",
              "    [theme=dark] .colab-df-convert {\n",
              "      background-color: #3B4455;\n",
              "      fill: #D2E3FC;\n",
              "    }\n",
              "\n",
              "    [theme=dark] .colab-df-convert:hover {\n",
              "      background-color: #434B5C;\n",
              "      box-shadow: 0px 1px 3px 1px rgba(0, 0, 0, 0.15);\n",
              "      filter: drop-shadow(0px 1px 2px rgba(0, 0, 0, 0.3));\n",
              "      fill: #FFFFFF;\n",
              "    }\n",
              "  </style>\n",
              "\n",
              "      <script>\n",
              "        const buttonEl =\n",
              "          document.querySelector('#df-60aea1e8-bb63-43e7-a807-58528b736ab3 button.colab-df-convert');\n",
              "        buttonEl.style.display =\n",
              "          google.colab.kernel.accessAllowed ? 'block' : 'none';\n",
              "\n",
              "        async function convertToInteractive(key) {\n",
              "          const element = document.querySelector('#df-60aea1e8-bb63-43e7-a807-58528b736ab3');\n",
              "          const dataTable =\n",
              "            await google.colab.kernel.invokeFunction('convertToInteractive',\n",
              "                                                     [key], {});\n",
              "          if (!dataTable) return;\n",
              "\n",
              "          const docLinkHtml = 'Like what you see? Visit the ' +\n",
              "            '<a target=\"_blank\" href=https://colab.research.google.com/notebooks/data_table.ipynb>data table notebook</a>'\n",
              "            + ' to learn more about interactive tables.';\n",
              "          element.innerHTML = '';\n",
              "          dataTable['output_type'] = 'display_data';\n",
              "          await google.colab.output.renderOutput(dataTable, element);\n",
              "          const docLink = document.createElement('div');\n",
              "          docLink.innerHTML = docLinkHtml;\n",
              "          element.appendChild(docLink);\n",
              "        }\n",
              "      </script>\n",
              "    </div>\n",
              "  </div>\n",
              "  "
            ]
          },
          "metadata": {},
          "execution_count": 25
        }
      ],
      "source": [
        "# посмотрим, как менялись продажи по платформам, создадим сводную таблицу и отсортируем по убыванию\n",
        "\n",
        "df_pivot = df.pivot_table(index='platform', values=['na_sales', 'eu_sales', 'jp_sales', 'other_sales', 'total_sales']\n",
        "                          , aggfunc='sum').sort_values(by = 'total_sales', ascending=False).reset_index()\n",
        "df_pivot"
      ]
    },
    {
      "cell_type": "code",
      "execution_count": null,
      "metadata": {
        "id": "_OE1BmEx416v"
      },
      "outputs": [],
      "source": [
        "# отберем 5 платформ с наибольшими суммарными продажами\n",
        "df_pivot = df_pivot.sort_values(by = 'total_sales', ascending=False).head()\n"
      ]
    },
    {
      "cell_type": "code",
      "execution_count": null,
      "metadata": {
        "id": "43nxwxkq9RSE"
      },
      "outputs": [],
      "source": [
        "# создадим список платформ с наибольшими суммарными продажами\n",
        "platform_good = df_pivot['platform'].unique()"
      ]
    },
    {
      "cell_type": "code",
      "execution_count": null,
      "metadata": {
        "colab": {
          "base_uri": "https://localhost:8080/",
          "height": 1000
        },
        "id": "O3kTWSh8qURn",
        "outputId": "e6d82433-48d7-41b7-ad9f-cf15b19d4416"
      },
      "outputs": [
        {
          "output_type": "execute_result",
          "data": {
            "text/plain": [
              "   platform  year_of_release  sales_sum\n",
              "0        DS             2004      17.27\n",
              "1        DS             2005     130.14\n",
              "2        DS             2006     119.81\n",
              "3        DS             2007     146.94\n",
              "4        DS             2008     145.31\n",
              "5        DS             2009     119.54\n",
              "6        DS             2010      85.02\n",
              "7        DS             2011      26.18\n",
              "8        DS             2012      11.01\n",
              "9        DS             2013       1.54\n",
              "10      PS2             2000      39.17\n",
              "11      PS2             2001     166.43\n",
              "12      PS2             2002     205.38\n",
              "13      PS2             2003     184.31\n",
              "14      PS2             2004     211.81\n",
              "15      PS2             2005     160.66\n",
              "16      PS2             2006     103.42\n",
              "17      PS2             2007      75.99\n",
              "18      PS2             2008      53.90\n",
              "19      PS2             2009      26.40\n",
              "20      PS2             2010       5.64\n",
              "21      PS2             2011       0.45\n",
              "22      PS3             2006      20.96\n",
              "23      PS3             2007      73.19\n",
              "24      PS3             2008     118.52\n",
              "25      PS3             2009     130.93\n",
              "26      PS3             2010     142.17\n",
              "27      PS3             2011     156.78\n",
              "28      PS3             2012     107.36\n",
              "29      PS3             2013     113.25\n",
              "30      PS3             2014      47.76\n",
              "31      PS3             2015      16.82\n",
              "32      PS3             2016       3.60"
            ],
            "text/html": [
              "\n",
              "  <div id=\"df-5e33cfe2-b766-4390-8155-d2576aa5cde7\">\n",
              "    <div class=\"colab-df-container\">\n",
              "      <div>\n",
              "<style scoped>\n",
              "    .dataframe tbody tr th:only-of-type {\n",
              "        vertical-align: middle;\n",
              "    }\n",
              "\n",
              "    .dataframe tbody tr th {\n",
              "        vertical-align: top;\n",
              "    }\n",
              "\n",
              "    .dataframe thead th {\n",
              "        text-align: right;\n",
              "    }\n",
              "</style>\n",
              "<table border=\"1\" class=\"dataframe\">\n",
              "  <thead>\n",
              "    <tr style=\"text-align: right;\">\n",
              "      <th></th>\n",
              "      <th>platform</th>\n",
              "      <th>year_of_release</th>\n",
              "      <th>sales_sum</th>\n",
              "    </tr>\n",
              "  </thead>\n",
              "  <tbody>\n",
              "    <tr>\n",
              "      <th>0</th>\n",
              "      <td>DS</td>\n",
              "      <td>2004</td>\n",
              "      <td>17.27</td>\n",
              "    </tr>\n",
              "    <tr>\n",
              "      <th>1</th>\n",
              "      <td>DS</td>\n",
              "      <td>2005</td>\n",
              "      <td>130.14</td>\n",
              "    </tr>\n",
              "    <tr>\n",
              "      <th>2</th>\n",
              "      <td>DS</td>\n",
              "      <td>2006</td>\n",
              "      <td>119.81</td>\n",
              "    </tr>\n",
              "    <tr>\n",
              "      <th>3</th>\n",
              "      <td>DS</td>\n",
              "      <td>2007</td>\n",
              "      <td>146.94</td>\n",
              "    </tr>\n",
              "    <tr>\n",
              "      <th>4</th>\n",
              "      <td>DS</td>\n",
              "      <td>2008</td>\n",
              "      <td>145.31</td>\n",
              "    </tr>\n",
              "    <tr>\n",
              "      <th>5</th>\n",
              "      <td>DS</td>\n",
              "      <td>2009</td>\n",
              "      <td>119.54</td>\n",
              "    </tr>\n",
              "    <tr>\n",
              "      <th>6</th>\n",
              "      <td>DS</td>\n",
              "      <td>2010</td>\n",
              "      <td>85.02</td>\n",
              "    </tr>\n",
              "    <tr>\n",
              "      <th>7</th>\n",
              "      <td>DS</td>\n",
              "      <td>2011</td>\n",
              "      <td>26.18</td>\n",
              "    </tr>\n",
              "    <tr>\n",
              "      <th>8</th>\n",
              "      <td>DS</td>\n",
              "      <td>2012</td>\n",
              "      <td>11.01</td>\n",
              "    </tr>\n",
              "    <tr>\n",
              "      <th>9</th>\n",
              "      <td>DS</td>\n",
              "      <td>2013</td>\n",
              "      <td>1.54</td>\n",
              "    </tr>\n",
              "    <tr>\n",
              "      <th>10</th>\n",
              "      <td>PS2</td>\n",
              "      <td>2000</td>\n",
              "      <td>39.17</td>\n",
              "    </tr>\n",
              "    <tr>\n",
              "      <th>11</th>\n",
              "      <td>PS2</td>\n",
              "      <td>2001</td>\n",
              "      <td>166.43</td>\n",
              "    </tr>\n",
              "    <tr>\n",
              "      <th>12</th>\n",
              "      <td>PS2</td>\n",
              "      <td>2002</td>\n",
              "      <td>205.38</td>\n",
              "    </tr>\n",
              "    <tr>\n",
              "      <th>13</th>\n",
              "      <td>PS2</td>\n",
              "      <td>2003</td>\n",
              "      <td>184.31</td>\n",
              "    </tr>\n",
              "    <tr>\n",
              "      <th>14</th>\n",
              "      <td>PS2</td>\n",
              "      <td>2004</td>\n",
              "      <td>211.81</td>\n",
              "    </tr>\n",
              "    <tr>\n",
              "      <th>15</th>\n",
              "      <td>PS2</td>\n",
              "      <td>2005</td>\n",
              "      <td>160.66</td>\n",
              "    </tr>\n",
              "    <tr>\n",
              "      <th>16</th>\n",
              "      <td>PS2</td>\n",
              "      <td>2006</td>\n",
              "      <td>103.42</td>\n",
              "    </tr>\n",
              "    <tr>\n",
              "      <th>17</th>\n",
              "      <td>PS2</td>\n",
              "      <td>2007</td>\n",
              "      <td>75.99</td>\n",
              "    </tr>\n",
              "    <tr>\n",
              "      <th>18</th>\n",
              "      <td>PS2</td>\n",
              "      <td>2008</td>\n",
              "      <td>53.90</td>\n",
              "    </tr>\n",
              "    <tr>\n",
              "      <th>19</th>\n",
              "      <td>PS2</td>\n",
              "      <td>2009</td>\n",
              "      <td>26.40</td>\n",
              "    </tr>\n",
              "    <tr>\n",
              "      <th>20</th>\n",
              "      <td>PS2</td>\n",
              "      <td>2010</td>\n",
              "      <td>5.64</td>\n",
              "    </tr>\n",
              "    <tr>\n",
              "      <th>21</th>\n",
              "      <td>PS2</td>\n",
              "      <td>2011</td>\n",
              "      <td>0.45</td>\n",
              "    </tr>\n",
              "    <tr>\n",
              "      <th>22</th>\n",
              "      <td>PS3</td>\n",
              "      <td>2006</td>\n",
              "      <td>20.96</td>\n",
              "    </tr>\n",
              "    <tr>\n",
              "      <th>23</th>\n",
              "      <td>PS3</td>\n",
              "      <td>2007</td>\n",
              "      <td>73.19</td>\n",
              "    </tr>\n",
              "    <tr>\n",
              "      <th>24</th>\n",
              "      <td>PS3</td>\n",
              "      <td>2008</td>\n",
              "      <td>118.52</td>\n",
              "    </tr>\n",
              "    <tr>\n",
              "      <th>25</th>\n",
              "      <td>PS3</td>\n",
              "      <td>2009</td>\n",
              "      <td>130.93</td>\n",
              "    </tr>\n",
              "    <tr>\n",
              "      <th>26</th>\n",
              "      <td>PS3</td>\n",
              "      <td>2010</td>\n",
              "      <td>142.17</td>\n",
              "    </tr>\n",
              "    <tr>\n",
              "      <th>27</th>\n",
              "      <td>PS3</td>\n",
              "      <td>2011</td>\n",
              "      <td>156.78</td>\n",
              "    </tr>\n",
              "    <tr>\n",
              "      <th>28</th>\n",
              "      <td>PS3</td>\n",
              "      <td>2012</td>\n",
              "      <td>107.36</td>\n",
              "    </tr>\n",
              "    <tr>\n",
              "      <th>29</th>\n",
              "      <td>PS3</td>\n",
              "      <td>2013</td>\n",
              "      <td>113.25</td>\n",
              "    </tr>\n",
              "    <tr>\n",
              "      <th>30</th>\n",
              "      <td>PS3</td>\n",
              "      <td>2014</td>\n",
              "      <td>47.76</td>\n",
              "    </tr>\n",
              "    <tr>\n",
              "      <th>31</th>\n",
              "      <td>PS3</td>\n",
              "      <td>2015</td>\n",
              "      <td>16.82</td>\n",
              "    </tr>\n",
              "    <tr>\n",
              "      <th>32</th>\n",
              "      <td>PS3</td>\n",
              "      <td>2016</td>\n",
              "      <td>3.60</td>\n",
              "    </tr>\n",
              "  </tbody>\n",
              "</table>\n",
              "</div>\n",
              "      <button class=\"colab-df-convert\" onclick=\"convertToInteractive('df-5e33cfe2-b766-4390-8155-d2576aa5cde7')\"\n",
              "              title=\"Convert this dataframe to an interactive table.\"\n",
              "              style=\"display:none;\">\n",
              "        \n",
              "  <svg xmlns=\"http://www.w3.org/2000/svg\" height=\"24px\"viewBox=\"0 0 24 24\"\n",
              "       width=\"24px\">\n",
              "    <path d=\"M0 0h24v24H0V0z\" fill=\"none\"/>\n",
              "    <path d=\"M18.56 5.44l.94 2.06.94-2.06 2.06-.94-2.06-.94-.94-2.06-.94 2.06-2.06.94zm-11 1L8.5 8.5l.94-2.06 2.06-.94-2.06-.94L8.5 2.5l-.94 2.06-2.06.94zm10 10l.94 2.06.94-2.06 2.06-.94-2.06-.94-.94-2.06-.94 2.06-2.06.94z\"/><path d=\"M17.41 7.96l-1.37-1.37c-.4-.4-.92-.59-1.43-.59-.52 0-1.04.2-1.43.59L10.3 9.45l-7.72 7.72c-.78.78-.78 2.05 0 2.83L4 21.41c.39.39.9.59 1.41.59.51 0 1.02-.2 1.41-.59l7.78-7.78 2.81-2.81c.8-.78.8-2.07 0-2.86zM5.41 20L4 18.59l7.72-7.72 1.47 1.35L5.41 20z\"/>\n",
              "  </svg>\n",
              "      </button>\n",
              "      \n",
              "  <style>\n",
              "    .colab-df-container {\n",
              "      display:flex;\n",
              "      flex-wrap:wrap;\n",
              "      gap: 12px;\n",
              "    }\n",
              "\n",
              "    .colab-df-convert {\n",
              "      background-color: #E8F0FE;\n",
              "      border: none;\n",
              "      border-radius: 50%;\n",
              "      cursor: pointer;\n",
              "      display: none;\n",
              "      fill: #1967D2;\n",
              "      height: 32px;\n",
              "      padding: 0 0 0 0;\n",
              "      width: 32px;\n",
              "    }\n",
              "\n",
              "    .colab-df-convert:hover {\n",
              "      background-color: #E2EBFA;\n",
              "      box-shadow: 0px 1px 2px rgba(60, 64, 67, 0.3), 0px 1px 3px 1px rgba(60, 64, 67, 0.15);\n",
              "      fill: #174EA6;\n",
              "    }\n",
              "\n",
              "    [theme=dark] .colab-df-convert {\n",
              "      background-color: #3B4455;\n",
              "      fill: #D2E3FC;\n",
              "    }\n",
              "\n",
              "    [theme=dark] .colab-df-convert:hover {\n",
              "      background-color: #434B5C;\n",
              "      box-shadow: 0px 1px 3px 1px rgba(0, 0, 0, 0.15);\n",
              "      filter: drop-shadow(0px 1px 2px rgba(0, 0, 0, 0.3));\n",
              "      fill: #FFFFFF;\n",
              "    }\n",
              "  </style>\n",
              "\n",
              "      <script>\n",
              "        const buttonEl =\n",
              "          document.querySelector('#df-5e33cfe2-b766-4390-8155-d2576aa5cde7 button.colab-df-convert');\n",
              "        buttonEl.style.display =\n",
              "          google.colab.kernel.accessAllowed ? 'block' : 'none';\n",
              "\n",
              "        async function convertToInteractive(key) {\n",
              "          const element = document.querySelector('#df-5e33cfe2-b766-4390-8155-d2576aa5cde7');\n",
              "          const dataTable =\n",
              "            await google.colab.kernel.invokeFunction('convertToInteractive',\n",
              "                                                     [key], {});\n",
              "          if (!dataTable) return;\n",
              "\n",
              "          const docLinkHtml = 'Like what you see? Visit the ' +\n",
              "            '<a target=\"_blank\" href=https://colab.research.google.com/notebooks/data_table.ipynb>data table notebook</a>'\n",
              "            + ' to learn more about interactive tables.';\n",
              "          element.innerHTML = '';\n",
              "          dataTable['output_type'] = 'display_data';\n",
              "          await google.colab.output.renderOutput(dataTable, element);\n",
              "          const docLink = document.createElement('div');\n",
              "          docLink.innerHTML = docLinkHtml;\n",
              "          element.appendChild(docLink);\n",
              "        }\n",
              "      </script>\n",
              "    </div>\n",
              "  </div>\n",
              "  "
            ]
          },
          "metadata": {},
          "execution_count": 28
        }
      ],
      "source": [
        "# построим распределение по годам по платформам с наибольшими суммарными продажами\n",
        "platform_max = df.query('platform in @platform_good').groupby(['platform', 'year_of_release']).agg({'total_sales':'sum'}).reset_index()\n",
        "platform_max.columns=['platform', 'year_of_release', 'sales_sum']\n",
        "platform_max.head(33)\n"
      ]
    },
    {
      "cell_type": "code",
      "execution_count": null,
      "metadata": {
        "colab": {
          "base_uri": "https://localhost:8080/",
          "height": 530
        },
        "id": "56KMjOAFQ7NA",
        "outputId": "1bc35152-2e8a-4c08-fd16-71de59684752"
      },
      "outputs": [
        {
          "output_type": "display_data",
          "data": {
            "text/plain": [
              "<Figure size 1440x576 with 0 Axes>"
            ]
          },
          "metadata": {}
        },
        {
          "output_type": "display_data",
          "data": {
            "text/plain": [
              "<Figure size 1440x576 with 1 Axes>"
            ],
            "image/png": "[encoded data removed]"
          },
          "metadata": {
            "needs_background": "light"
          }
        }
      ],
      "source": [
        "plt.figure(figsize=(20,8))\n",
        "platform_plot=platform_max.pivot('year_of_release', 'platform', 'sales_sum').plot(grid = True, figsize=(20,8))\n",
        "platform_plot.set(title='Продажи игр ТОП-5 платформ по годам ', xlabel = 'Год', ylabel = 'Суммарные продажи')\n",
        "plt.show();"
      ]
    },
    {
      "cell_type": "markdown",
      "metadata": {
        "id": "8Ckk67oHBdWr"
      },
      "source": [
        "Видим снижение продаж по платформам с наибольшими суммарными продажами к 2016 году.  \n",
        "Наибольшее количество продаж пришлось на первое десятилетие 2000 годов.  \n",
        "C 2001 PS2 делает значительный рывок по продажам и исчезают старые платформы. С 2007 набирает оборот по продажам PS3, а с 2014 - PS4"
      ]
    },
    {
      "cell_type": "code",
      "execution_count": null,
      "metadata": {
        "colab": {
          "base_uri": "https://localhost:8080/",
          "height": 1000
        },
        "id": "wDYNUu7ESPFG",
        "outputId": "423970bb-12c3-4947-80d9-72e0d83dcbce"
      },
      "outputs": [
        {
          "output_type": "display_data",
          "data": {
            "text/plain": [
              "<Figure size 432x288 with 1 Axes>"
            ],
            "image/png": "[encoded data removed]"
          },
          "metadata": {
            "needs_background": "light"
          }
        },
        {
          "output_type": "display_data",
          "data": {
            "text/plain": [
              "<Figure size 432x288 with 1 Axes>"
            ],
            "image/png": "[encoded data removed]"
          },
          "metadata": {
            "needs_background": "light"
          }
        },
        {
          "output_type": "display_data",
          "data": {
            "text/plain": [
              "<Figure size 432x288 with 1 Axes>"
            ],
            "image/png": "[encoded data removed]"
          },
          "metadata": {
            "needs_background": "light"
          }
        },
        {
          "output_type": "display_data",
          "data": {
            "text/plain": [
              "<Figure size 432x288 with 1 Axes>"
            ],
            "image/png": "[encoded data removed]"
          },
          "metadata": {
            "needs_background": "light"
          }
        },
        {
          "output_type": "display_data",
          "data": {
            "text/plain": [
              "<Figure size 432x288 with 1 Axes>"
            ],
            "image/png": "[encoded data removed]"
          },
          "metadata": {
            "needs_background": "light"
          }
        }
      ],
      "source": [
        "for name in platform_good:\n",
        "  games = df.query('platform == @name').groupby(['platform', 'year_of_release'], as_index = False).agg({'total_sales':'sum'})  \n",
        "  sns.barplot(data=games, x='year_of_release', y='total_sales', estimator=np.sum, hue=\"platform\")\n",
        "  plt.show();"
      ]
    },
    {
      "cell_type": "code",
      "execution_count": null,
      "metadata": {
        "colab": {
          "base_uri": "https://localhost:8080/"
        },
        "id": "8l-hQ4fSWVIP",
        "outputId": "2aef174f-57a1-49c2-aaff-515ac72f5be8"
      },
      "outputs": [
        {
          "output_type": "execute_result",
          "data": {
            "text/plain": [
              "10.2"
            ]
          },
          "metadata": {},
          "execution_count": 31
        }
      ],
      "source": [
        "# найдем средний период жизни по самым продаваемым платформам\n",
        "total = 0\n",
        "for game in platform_good:\n",
        "  time_min = df[df['platform'] == game].year_of_release.max() - df[df['platform'] == game].year_of_release.min()\n",
        "  total +=time_min\n",
        "total = total/5\n",
        "total  "
      ]
    },
    {
      "cell_type": "markdown",
      "metadata": {
        "id": "0yzV5eKvCv4J"
      },
      "source": [
        "Платформы, которые собрали больше всего продаж (наш топ-5), уже не покупаются к 2016 году. Средняя продолжительность существования платформы составляет примерно 10 лет. C 2001 PS2 делает значительный рывок по продажам и исчезают старые платформы. С 2007 набирает оборот по продажам PS3, а с 2014 - PS4 Проверим какие же платформы пользуются наибольшей популярностью в 2016 г.\n"
      ]
    },
    {
      "cell_type": "code",
      "execution_count": null,
      "metadata": {
        "colab": {
          "base_uri": "https://localhost:8080/"
        },
        "id": "cGO-3BKlL5gF",
        "outputId": "70ad0660-9bb3-4428-b2c4-843818eb29f4"
      },
      "outputs": [
        {
          "output_type": "execute_result",
          "data": {
            "text/plain": [
              "year_of_release  platform\n",
              "2016             3DS         15.14\n",
              "                 PC           5.25\n",
              "                 PS3          3.60\n",
              "                 PS4         69.25\n",
              "                 PSV          4.25\n",
              "                 Wii          0.18\n",
              "                 WiiU         4.60\n",
              "                 X360         1.52\n",
              "                 XOne        26.15\n",
              "Name: total_sales, dtype: float64"
            ]
          },
          "metadata": {},
          "execution_count": 32
        }
      ],
      "source": [
        "# определим какие данные за какой период нужно взять, чтобы исключить значимое искажение распределения по платформам в 2016 году\n",
        "\n",
        "df.query('year_of_release == 2016').groupby(['year_of_release', 'platform'])['total_sales'].sum()"
      ]
    },
    {
      "cell_type": "markdown",
      "metadata": {
        "id": "tZWPZMtfYVnU"
      },
      "source": [
        "По данным видны явные выбросы, считаю, что для дальнейшего анализа стоит взять данные с 2012 по 2016 год, чтобы исключить значимое искажение распределения по платформам в 2016 году"
      ]
    },
    {
      "cell_type": "code",
      "execution_count": null,
      "metadata": {
        "colab": {
          "base_uri": "https://localhost:8080/",
          "height": 424
        },
        "id": "dxjjZKZkYmbL",
        "outputId": "2113382f-e4a6-4cf1-9d62-8f756426d923"
      },
      "outputs": [
        {
          "output_type": "execute_result",
          "data": {
            "text/plain": [
              "                               name platform  year_of_release         genre  \\\n",
              "0                Grand Theft Auto V      PS3             2013        Action   \n",
              "1                Grand Theft Auto V     X360             2013        Action   \n",
              "2         Call of Duty: Black Ops 3      PS4             2015       Shooter   \n",
              "3               Pokemon X/Pokemon Y      3DS             2013  Role-Playing   \n",
              "4        Call of Duty: Black Ops II      PS3             2012       Shooter   \n",
              "...                             ...      ...              ...           ...   \n",
              "2881               Strawberry Nauts      PSV             2016     Adventure   \n",
              "2882               Aiyoku no Eustia      PSV             2014          Misc   \n",
              "2883  Samurai Warriors: Sanada Maru      PS3             2016        Action   \n",
              "2884        Haitaka no Psychedelica      PSV             2016     Adventure   \n",
              "2885            Winning Post 8 2016      PSV             2016    Simulation   \n",
              "\n",
              "      na_sales  eu_sales  jp_sales  other_sales  critic_score  user_score  \\\n",
              "0         7.02      9.09      0.98         3.96          97.0         8.2   \n",
              "1         9.66      5.14      0.06         1.41          97.0         8.1   \n",
              "2         6.03      5.86      0.36         2.38           0.0         0.0   \n",
              "3         5.28      4.19      4.35         0.78           0.0         0.0   \n",
              "4         4.99      5.73      0.65         2.42          83.0         5.3   \n",
              "...        ...       ...       ...          ...           ...         ...   \n",
              "2881      0.00      0.00      0.01         0.00           0.0         0.0   \n",
              "2882      0.00      0.00      0.01         0.00           0.0         0.0   \n",
              "2883      0.00      0.00      0.01         0.00           0.0         0.0   \n",
              "2884      0.00      0.00      0.01         0.00           0.0         0.0   \n",
              "2885      0.00      0.00      0.01         0.00           0.0         0.0   \n",
              "\n",
              "     rating  total_sales  \n",
              "0         M        21.05  \n",
              "1         M        16.27  \n",
              "2         0        14.63  \n",
              "3         0        14.60  \n",
              "4         M        13.79  \n",
              "...     ...          ...  \n",
              "2881      0         0.01  \n",
              "2882      0         0.01  \n",
              "2883      0         0.01  \n",
              "2884      0         0.01  \n",
              "2885      0         0.01  \n",
              "\n",
              "[2886 rows x 12 columns]"
            ],
            "text/html": [
              "\n",
              "  <div id=\"df-8cc97bcd-5813-474e-b9b1-f81ce761f703\">\n",
              "    <div class=\"colab-df-container\">\n",
              "      <div>\n",
              "<style scoped>\n",
              "    .dataframe tbody tr th:only-of-type {\n",
              "        vertical-align: middle;\n",
              "    }\n",
              "\n",
              "    .dataframe tbody tr th {\n",
              "        vertical-align: top;\n",
              "    }\n",
              "\n",
              "    .dataframe thead th {\n",
              "        text-align: right;\n",
              "    }\n",
              "</style>\n",
              "<table border=\"1\" class=\"dataframe\">\n",
              "  <thead>\n",
              "    <tr style=\"text-align: right;\">\n",
              "      <th></th>\n",
              "      <th>name</th>\n",
              "      <th>platform</th>\n",
              "      <th>year_of_release</th>\n",
              "      <th>genre</th>\n",
              "      <th>na_sales</th>\n",
              "      <th>eu_sales</th>\n",
              "      <th>jp_sales</th>\n",
              "      <th>other_sales</th>\n",
              "      <th>critic_score</th>\n",
              "      <th>user_score</th>\n",
              "      <th>rating</th>\n",
              "      <th>total_sales</th>\n",
              "    </tr>\n",
              "  </thead>\n",
              "  <tbody>\n",
              "    <tr>\n",
              "      <th>0</th>\n",
              "      <td>Grand Theft Auto V</td>\n",
              "      <td>PS3</td>\n",
              "      <td>2013</td>\n",
              "      <td>Action</td>\n",
              "      <td>7.02</td>\n",
              "      <td>9.09</td>\n",
              "      <td>0.98</td>\n",
              "      <td>3.96</td>\n",
              "      <td>97.0</td>\n",
              "      <td>8.2</td>\n",
              "      <td>M</td>\n",
              "      <td>21.05</td>\n",
              "    </tr>\n",
              "    <tr>\n",
              "      <th>1</th>\n",
              "      <td>Grand Theft Auto V</td>\n",
              "      <td>X360</td>\n",
              "      <td>2013</td>\n",
              "      <td>Action</td>\n",
              "      <td>9.66</td>\n",
              "      <td>5.14</td>\n",
              "      <td>0.06</td>\n",
              "      <td>1.41</td>\n",
              "      <td>97.0</td>\n",
              "      <td>8.1</td>\n",
              "      <td>M</td>\n",
              "      <td>16.27</td>\n",
              "    </tr>\n",
              "    <tr>\n",
              "      <th>2</th>\n",
              "      <td>Call of Duty: Black Ops 3</td>\n",
              "      <td>PS4</td>\n",
              "      <td>2015</td>\n",
              "      <td>Shooter</td>\n",
              "      <td>6.03</td>\n",
              "      <td>5.86</td>\n",
              "      <td>0.36</td>\n",
              "      <td>2.38</td>\n",
              "      <td>0.0</td>\n",
              "      <td>0.0</td>\n",
              "      <td>0</td>\n",
              "      <td>14.63</td>\n",
              "    </tr>\n",
              "    <tr>\n",
              "      <th>3</th>\n",
              "      <td>Pokemon X/Pokemon Y</td>\n",
              "      <td>3DS</td>\n",
              "      <td>2013</td>\n",
              "      <td>Role-Playing</td>\n",
              "      <td>5.28</td>\n",
              "      <td>4.19</td>\n",
              "      <td>4.35</td>\n",
              "      <td>0.78</td>\n",
              "      <td>0.0</td>\n",
              "      <td>0.0</td>\n",
              "      <td>0</td>\n",
              "      <td>14.60</td>\n",
              "    </tr>\n",
              "    <tr>\n",
              "      <th>4</th>\n",
              "      <td>Call of Duty: Black Ops II</td>\n",
              "      <td>PS3</td>\n",
              "      <td>2012</td>\n",
              "      <td>Shooter</td>\n",
              "      <td>4.99</td>\n",
              "      <td>5.73</td>\n",
              "      <td>0.65</td>\n",
              "      <td>2.42</td>\n",
              "      <td>83.0</td>\n",
              "      <td>5.3</td>\n",
              "      <td>M</td>\n",
              "      <td>13.79</td>\n",
              "    </tr>\n",
              "    <tr>\n",
              "      <th>...</th>\n",
              "      <td>...</td>\n",
              "      <td>...</td>\n",
              "      <td>...</td>\n",
              "      <td>...</td>\n",
              "      <td>...</td>\n",
              "      <td>...</td>\n",
              "      <td>...</td>\n",
              "      <td>...</td>\n",
              "      <td>...</td>\n",
              "      <td>...</td>\n",
              "      <td>...</td>\n",
              "      <td>...</td>\n",
              "    </tr>\n",
              "    <tr>\n",
              "      <th>2881</th>\n",
              "      <td>Strawberry Nauts</td>\n",
              "      <td>PSV</td>\n",
              "      <td>2016</td>\n",
              "      <td>Adventure</td>\n",
              "      <td>0.00</td>\n",
              "      <td>0.00</td>\n",
              "      <td>0.01</td>\n",
              "      <td>0.00</td>\n",
              "      <td>0.0</td>\n",
              "      <td>0.0</td>\n",
              "      <td>0</td>\n",
              "      <td>0.01</td>\n",
              "    </tr>\n",
              "    <tr>\n",
              "      <th>2882</th>\n",
              "      <td>Aiyoku no Eustia</td>\n",
              "      <td>PSV</td>\n",
              "      <td>2014</td>\n",
              "      <td>Misc</td>\n",
              "      <td>0.00</td>\n",
              "      <td>0.00</td>\n",
              "      <td>0.01</td>\n",
              "      <td>0.00</td>\n",
              "      <td>0.0</td>\n",
              "      <td>0.0</td>\n",
              "      <td>0</td>\n",
              "      <td>0.01</td>\n",
              "    </tr>\n",
              "    <tr>\n",
              "      <th>2883</th>\n",
              "      <td>Samurai Warriors: Sanada Maru</td>\n",
              "      <td>PS3</td>\n",
              "      <td>2016</td>\n",
              "      <td>Action</td>\n",
              "      <td>0.00</td>\n",
              "      <td>0.00</td>\n",
              "      <td>0.01</td>\n",
              "      <td>0.00</td>\n",
              "      <td>0.0</td>\n",
              "      <td>0.0</td>\n",
              "      <td>0</td>\n",
              "      <td>0.01</td>\n",
              "    </tr>\n",
              "    <tr>\n",
              "      <th>2884</th>\n",
              "      <td>Haitaka no Psychedelica</td>\n",
              "      <td>PSV</td>\n",
              "      <td>2016</td>\n",
              "      <td>Adventure</td>\n",
              "      <td>0.00</td>\n",
              "      <td>0.00</td>\n",
              "      <td>0.01</td>\n",
              "      <td>0.00</td>\n",
              "      <td>0.0</td>\n",
              "      <td>0.0</td>\n",
              "      <td>0</td>\n",
              "      <td>0.01</td>\n",
              "    </tr>\n",
              "    <tr>\n",
              "      <th>2885</th>\n",
              "      <td>Winning Post 8 2016</td>\n",
              "      <td>PSV</td>\n",
              "      <td>2016</td>\n",
              "      <td>Simulation</td>\n",
              "      <td>0.00</td>\n",
              "      <td>0.00</td>\n",
              "      <td>0.01</td>\n",
              "      <td>0.00</td>\n",
              "      <td>0.0</td>\n",
              "      <td>0.0</td>\n",
              "      <td>0</td>\n",
              "      <td>0.01</td>\n",
              "    </tr>\n",
              "  </tbody>\n",
              "</table>\n",
              "<p>2886 rows × 12 columns</p>\n",
              "</div>\n",
              "      <button class=\"colab-df-convert\" onclick=\"convertToInteractive('df-8cc97bcd-5813-474e-b9b1-f81ce761f703')\"\n",
              "              title=\"Convert this dataframe to an interactive table.\"\n",
              "              style=\"display:none;\">\n",
              "        \n",
              "  <svg xmlns=\"http://www.w3.org/2000/svg\" height=\"24px\"viewBox=\"0 0 24 24\"\n",
              "       width=\"24px\">\n",
              "    <path d=\"M0 0h24v24H0V0z\" fill=\"none\"/>\n",
              "    <path d=\"M18.56 5.44l.94 2.06.94-2.06 2.06-.94-2.06-.94-.94-2.06-.94 2.06-2.06.94zm-11 1L8.5 8.5l.94-2.06 2.06-.94-2.06-.94L8.5 2.5l-.94 2.06-2.06.94zm10 10l.94 2.06.94-2.06 2.06-.94-2.06-.94-.94-2.06-.94 2.06-2.06.94z\"/><path d=\"M17.41 7.96l-1.37-1.37c-.4-.4-.92-.59-1.43-.59-.52 0-1.04.2-1.43.59L10.3 9.45l-7.72 7.72c-.78.78-.78 2.05 0 2.83L4 21.41c.39.39.9.59 1.41.59.51 0 1.02-.2 1.41-.59l7.78-7.78 2.81-2.81c.8-.78.8-2.07 0-2.86zM5.41 20L4 18.59l7.72-7.72 1.47 1.35L5.41 20z\"/>\n",
              "  </svg>\n",
              "      </button>\n",
              "      \n",
              "  <style>\n",
              "    .colab-df-container {\n",
              "      display:flex;\n",
              "      flex-wrap:wrap;\n",
              "      gap: 12px;\n",
              "    }\n",
              "\n",
              "    .colab-df-convert {\n",
              "      background-color: #E8F0FE;\n",
              "      border: none;\n",
              "      border-radius: 50%;\n",
              "      cursor: pointer;\n",
              "      display: none;\n",
              "      fill: #1967D2;\n",
              "      height: 32px;\n",
              "      padding: 0 0 0 0;\n",
              "      width: 32px;\n",
              "    }\n",
              "\n",
              "    .colab-df-convert:hover {\n",
              "      background-color: #E2EBFA;\n",
              "      box-shadow: 0px 1px 2px rgba(60, 64, 67, 0.3), 0px 1px 3px 1px rgba(60, 64, 67, 0.15);\n",
              "      fill: #174EA6;\n",
              "    }\n",
              "\n",
              "    [theme=dark] .colab-df-convert {\n",
              "      background-color: #3B4455;\n",
              "      fill: #D2E3FC;\n",
              "    }\n",
              "\n",
              "    [theme=dark] .colab-df-convert:hover {\n",
              "      background-color: #434B5C;\n",
              "      box-shadow: 0px 1px 3px 1px rgba(0, 0, 0, 0.15);\n",
              "      filter: drop-shadow(0px 1px 2px rgba(0, 0, 0, 0.3));\n",
              "      fill: #FFFFFF;\n",
              "    }\n",
              "  </style>\n",
              "\n",
              "      <script>\n",
              "        const buttonEl =\n",
              "          document.querySelector('#df-8cc97bcd-5813-474e-b9b1-f81ce761f703 button.colab-df-convert');\n",
              "        buttonEl.style.display =\n",
              "          google.colab.kernel.accessAllowed ? 'block' : 'none';\n",
              "\n",
              "        async function convertToInteractive(key) {\n",
              "          const element = document.querySelector('#df-8cc97bcd-5813-474e-b9b1-f81ce761f703');\n",
              "          const dataTable =\n",
              "            await google.colab.kernel.invokeFunction('convertToInteractive',\n",
              "                                                     [key], {});\n",
              "          if (!dataTable) return;\n",
              "\n",
              "          const docLinkHtml = 'Like what you see? Visit the ' +\n",
              "            '<a target=\"_blank\" href=https://colab.research.google.com/notebooks/data_table.ipynb>data table notebook</a>'\n",
              "            + ' to learn more about interactive tables.';\n",
              "          element.innerHTML = '';\n",
              "          dataTable['output_type'] = 'display_data';\n",
              "          await google.colab.output.renderOutput(dataTable, element);\n",
              "          const docLink = document.createElement('div');\n",
              "          docLink.innerHTML = docLinkHtml;\n",
              "          element.appendChild(docLink);\n",
              "        }\n",
              "      </script>\n",
              "    </div>\n",
              "  </div>\n",
              "  "
            ]
          },
          "metadata": {},
          "execution_count": 33
        }
      ],
      "source": [
        "# создадим новый датафрейм с 2012 по 2016 \n",
        "\n",
        "df_good = df.query('year_of_release >= 2012').reset_index(drop=True)\n",
        "df_good"
      ]
    },
    {
      "cell_type": "code",
      "execution_count": null,
      "metadata": {
        "colab": {
          "base_uri": "https://localhost:8080/"
        },
        "id": "1wdo6FG1Y3MJ",
        "outputId": "98764f89-44b7-4bd4-fda7-ce4a071a8144"
      },
      "outputs": [
        {
          "output_type": "execute_result",
          "data": {
            "text/plain": [
              "year_of_release  platform\n",
              "2012             3DS          51.36\n",
              "                 DS           11.01\n",
              "                 PC           23.22\n",
              "                 PS3         107.36\n",
              "                 PSP           7.69\n",
              "                 PSV          16.19\n",
              "                 Wii          21.71\n",
              "                 WiiU         17.56\n",
              "                 X360         99.74\n",
              "2013             3DS          56.57\n",
              "                 DS            1.54\n",
              "                 PC           12.38\n",
              "                 PS3         113.25\n",
              "                 PS4          25.99\n",
              "                 PSP           3.14\n",
              "                 PSV          10.59\n",
              "                 Wii           8.59\n",
              "                 WiiU         21.65\n",
              "                 X360         88.58\n",
              "                 XOne         18.96\n",
              "2014             3DS          43.76\n",
              "                 PC           13.28\n",
              "                 PS3          47.76\n",
              "                 PS4         100.00\n",
              "                 PSP           0.24\n",
              "                 PSV          11.90\n",
              "                 Wii           3.75\n",
              "                 WiiU         22.03\n",
              "                 X360         34.74\n",
              "                 XOne         54.07\n",
              "2015             3DS          27.78\n",
              "                 PC            8.52\n",
              "                 PS3          16.82\n",
              "                 PS4         118.90\n",
              "                 PSP           0.12\n",
              "                 PSV           6.25\n",
              "                 Wii           1.14\n",
              "                 WiiU         16.35\n",
              "                 X360         11.96\n",
              "                 XOne         60.14\n",
              "2016             3DS          15.14\n",
              "                 PC            5.25\n",
              "                 PS3           3.60\n",
              "                 PS4          69.25\n",
              "                 PSV           4.25\n",
              "                 Wii           0.18\n",
              "                 WiiU          4.60\n",
              "                 X360          1.52\n",
              "                 XOne         26.15\n",
              "Name: total_sales, dtype: float64"
            ]
          },
          "metadata": {},
          "execution_count": 34
        }
      ],
      "source": [
        "# сгруппируем новый датафрейм по году выпуска и платформе и подсчитаю сумму продаж\n",
        "df_good.groupby(['year_of_release', 'platform'])['total_sales'].sum()"
      ]
    },
    {
      "cell_type": "code",
      "execution_count": null,
      "metadata": {
        "colab": {
          "base_uri": "https://localhost:8080/",
          "height": 206
        },
        "id": "O0R5k3S2eMHT",
        "outputId": "774aa3c8-7162-4590-e3fc-a710cff04428"
      },
      "outputs": [
        {
          "output_type": "execute_result",
          "data": {
            "text/plain": [
              "  platform  eu_sales  jp_sales  na_sales  other_sales  total_sales\n",
              "0      PS4    141.09     15.96    108.74        48.35       314.14\n",
              "1      PS3    106.86     35.29    103.38        43.26       288.79\n",
              "2     X360     74.52      1.57    140.05        20.40       236.54\n",
              "3      3DS     42.64     87.79     55.31         8.87       194.61\n",
              "4     XOne     51.59      0.34     93.12        14.27       159.32"
            ],
            "text/html": [
              "\n",
              "  <div id=\"df-180d5bc8-6aa1-4288-bc50-3c1e001d9a68\">\n",
              "    <div class=\"colab-df-container\">\n",
              "      <div>\n",
              "<style scoped>\n",
              "    .dataframe tbody tr th:only-of-type {\n",
              "        vertical-align: middle;\n",
              "    }\n",
              "\n",
              "    .dataframe tbody tr th {\n",
              "        vertical-align: top;\n",
              "    }\n",
              "\n",
              "    .dataframe thead th {\n",
              "        text-align: right;\n",
              "    }\n",
              "</style>\n",
              "<table border=\"1\" class=\"dataframe\">\n",
              "  <thead>\n",
              "    <tr style=\"text-align: right;\">\n",
              "      <th></th>\n",
              "      <th>platform</th>\n",
              "      <th>eu_sales</th>\n",
              "      <th>jp_sales</th>\n",
              "      <th>na_sales</th>\n",
              "      <th>other_sales</th>\n",
              "      <th>total_sales</th>\n",
              "    </tr>\n",
              "  </thead>\n",
              "  <tbody>\n",
              "    <tr>\n",
              "      <th>0</th>\n",
              "      <td>PS4</td>\n",
              "      <td>141.09</td>\n",
              "      <td>15.96</td>\n",
              "      <td>108.74</td>\n",
              "      <td>48.35</td>\n",
              "      <td>314.14</td>\n",
              "    </tr>\n",
              "    <tr>\n",
              "      <th>1</th>\n",
              "      <td>PS3</td>\n",
              "      <td>106.86</td>\n",
              "      <td>35.29</td>\n",
              "      <td>103.38</td>\n",
              "      <td>43.26</td>\n",
              "      <td>288.79</td>\n",
              "    </tr>\n",
              "    <tr>\n",
              "      <th>2</th>\n",
              "      <td>X360</td>\n",
              "      <td>74.52</td>\n",
              "      <td>1.57</td>\n",
              "      <td>140.05</td>\n",
              "      <td>20.40</td>\n",
              "      <td>236.54</td>\n",
              "    </tr>\n",
              "    <tr>\n",
              "      <th>3</th>\n",
              "      <td>3DS</td>\n",
              "      <td>42.64</td>\n",
              "      <td>87.79</td>\n",
              "      <td>55.31</td>\n",
              "      <td>8.87</td>\n",
              "      <td>194.61</td>\n",
              "    </tr>\n",
              "    <tr>\n",
              "      <th>4</th>\n",
              "      <td>XOne</td>\n",
              "      <td>51.59</td>\n",
              "      <td>0.34</td>\n",
              "      <td>93.12</td>\n",
              "      <td>14.27</td>\n",
              "      <td>159.32</td>\n",
              "    </tr>\n",
              "  </tbody>\n",
              "</table>\n",
              "</div>\n",
              "      <button class=\"colab-df-convert\" onclick=\"convertToInteractive('df-180d5bc8-6aa1-4288-bc50-3c1e001d9a68')\"\n",
              "              title=\"Convert this dataframe to an interactive table.\"\n",
              "              style=\"display:none;\">\n",
              "        \n",
              "  <svg xmlns=\"http://www.w3.org/2000/svg\" height=\"24px\"viewBox=\"0 0 24 24\"\n",
              "       width=\"24px\">\n",
              "    <path d=\"M0 0h24v24H0V0z\" fill=\"none\"/>\n",
              "    <path d=\"M18.56 5.44l.94 2.06.94-2.06 2.06-.94-2.06-.94-.94-2.06-.94 2.06-2.06.94zm-11 1L8.5 8.5l.94-2.06 2.06-.94-2.06-.94L8.5 2.5l-.94 2.06-2.06.94zm10 10l.94 2.06.94-2.06 2.06-.94-2.06-.94-.94-2.06-.94 2.06-2.06.94z\"/><path d=\"M17.41 7.96l-1.37-1.37c-.4-.4-.92-.59-1.43-.59-.52 0-1.04.2-1.43.59L10.3 9.45l-7.72 7.72c-.78.78-.78 2.05 0 2.83L4 21.41c.39.39.9.59 1.41.59.51 0 1.02-.2 1.41-.59l7.78-7.78 2.81-2.81c.8-.78.8-2.07 0-2.86zM5.41 20L4 18.59l7.72-7.72 1.47 1.35L5.41 20z\"/>\n",
              "  </svg>\n",
              "      </button>\n",
              "      \n",
              "  <style>\n",
              "    .colab-df-container {\n",
              "      display:flex;\n",
              "      flex-wrap:wrap;\n",
              "      gap: 12px;\n",
              "    }\n",
              "\n",
              "    .colab-df-convert {\n",
              "      background-color: #E8F0FE;\n",
              "      border: none;\n",
              "      border-radius: 50%;\n",
              "      cursor: pointer;\n",
              "      display: none;\n",
              "      fill: #1967D2;\n",
              "      height: 32px;\n",
              "      padding: 0 0 0 0;\n",
              "      width: 32px;\n",
              "    }\n",
              "\n",
              "    .colab-df-convert:hover {\n",
              "      background-color: #E2EBFA;\n",
              "      box-shadow: 0px 1px 2px rgba(60, 64, 67, 0.3), 0px 1px 3px 1px rgba(60, 64, 67, 0.15);\n",
              "      fill: #174EA6;\n",
              "    }\n",
              "\n",
              "    [theme=dark] .colab-df-convert {\n",
              "      background-color: #3B4455;\n",
              "      fill: #D2E3FC;\n",
              "    }\n",
              "\n",
              "    [theme=dark] .colab-df-convert:hover {\n",
              "      background-color: #434B5C;\n",
              "      box-shadow: 0px 1px 3px 1px rgba(0, 0, 0, 0.15);\n",
              "      filter: drop-shadow(0px 1px 2px rgba(0, 0, 0, 0.3));\n",
              "      fill: #FFFFFF;\n",
              "    }\n",
              "  </style>\n",
              "\n",
              "      <script>\n",
              "        const buttonEl =\n",
              "          document.querySelector('#df-180d5bc8-6aa1-4288-bc50-3c1e001d9a68 button.colab-df-convert');\n",
              "        buttonEl.style.display =\n",
              "          google.colab.kernel.accessAllowed ? 'block' : 'none';\n",
              "\n",
              "        async function convertToInteractive(key) {\n",
              "          const element = document.querySelector('#df-180d5bc8-6aa1-4288-bc50-3c1e001d9a68');\n",
              "          const dataTable =\n",
              "            await google.colab.kernel.invokeFunction('convertToInteractive',\n",
              "                                                     [key], {});\n",
              "          if (!dataTable) return;\n",
              "\n",
              "          const docLinkHtml = 'Like what you see? Visit the ' +\n",
              "            '<a target=\"_blank\" href=https://colab.research.google.com/notebooks/data_table.ipynb>data table notebook</a>'\n",
              "            + ' to learn more about interactive tables.';\n",
              "          element.innerHTML = '';\n",
              "          dataTable['output_type'] = 'display_data';\n",
              "          await google.colab.output.renderOutput(dataTable, element);\n",
              "          const docLink = document.createElement('div');\n",
              "          docLink.innerHTML = docLinkHtml;\n",
              "          element.appendChild(docLink);\n",
              "        }\n",
              "      </script>\n",
              "    </div>\n",
              "  </div>\n",
              "  "
            ]
          },
          "metadata": {},
          "execution_count": 35
        }
      ],
      "source": [
        "# сгруппируем данные в столбцах продаж в регионах по платформам, отсортируем по прибыльности и сохраним в переменной df_good_pivot ТОП-5 платформ.\n",
        "df_good_pivot = df_good.pivot_table(index='platform', values=['na_sales', 'eu_sales', 'jp_sales', 'other_sales', 'total_sales']\n",
        "                          , aggfunc='sum').sort_values(by = 'total_sales', ascending=False).reset_index().head()\n",
        "df_good_pivot"
      ]
    },
    {
      "cell_type": "markdown",
      "metadata": {
        "id": "Y8qtKZqfZU3T"
      },
      "source": [
        "В лидерах платформы - PS4, PS3, X360. "
      ]
    },
    {
      "cell_type": "code",
      "execution_count": null,
      "metadata": {
        "colab": {
          "base_uri": "https://localhost:8080/"
        },
        "id": "oN_kvwPF4NDM",
        "outputId": "55b902c2-f52d-47ba-e9b5-0b27e40dd88b"
      },
      "outputs": [
        {
          "output_type": "execute_result",
          "data": {
            "text/plain": [
              "array(['PS4', 'PS3', 'X360', '3DS', 'XOne'], dtype=object)"
            ]
          },
          "metadata": {},
          "execution_count": 36
        }
      ],
      "source": [
        "# Создадим список ТОП-5 платформ\n",
        "df_new_list = df_good_pivot['platform'].unique()\n",
        "df_new_list"
      ]
    },
    {
      "cell_type": "markdown",
      "metadata": {
        "id": "V-wML0KmG_U2"
      },
      "source": [
        "Лидеры продаж игр по платформам 'PS4', 'PS3', 'X360', '3DS', 'XOne'"
      ]
    },
    {
      "cell_type": "code",
      "execution_count": null,
      "metadata": {
        "scrolled": false,
        "colab": {
          "base_uri": "https://localhost:8080/",
          "height": 530
        },
        "id": "voT_ax9IoI-_",
        "outputId": "49c4a366-798e-458c-d3b1-b779c8be2ecf"
      },
      "outputs": [
        {
          "output_type": "display_data",
          "data": {
            "text/plain": [
              "<Figure size 1440x576 with 0 Axes>"
            ]
          },
          "metadata": {}
        },
        {
          "output_type": "display_data",
          "data": {
            "text/plain": [
              "<Figure size 1440x576 with 1 Axes>"
            ],
            "image/png": "[encoded data removed]"
          },
          "metadata": {
            "needs_background": "light"
          }
        }
      ],
      "source": [
        "# построим распределение продаж по платформам-лидерам.\n",
        "platform_max_good =df_good.query('platform in @df_new_list').groupby(['platform', 'year_of_release']).agg({'total_sales':'sum'}).reset_index()\n",
        "platform_max_good.columns=['platform', 'year_of_release', 'sales_sum']\n",
        "plt.figure(figsize=(20,8))\n",
        "platform_plot=platform_max_good.pivot('year_of_release', 'platform', 'sales_sum').plot(grid = True, figsize=(20,8))\n",
        "platform_plot.set(title='Продажи игр ТОП-5 платформ по годам ', xlabel = 'Год', ylabel = 'Суммарные продажи')\n",
        "plt.show();"
      ]
    },
    {
      "cell_type": "markdown",
      "metadata": {
        "id": "5F1MRz0ZoI_A"
      },
      "source": [
        "По графику видно, что продажи игр платформ PS3 и X360 к 2016 году упали практически до 0, по остальным платформам снижение продаж также наблюдается. Меньше всего снизились продажи PS4 и XOne. Платформы PS3, X360 и 3DS выбились в лидеры за счет наличия продаж во всем выбранном нами периоде."
      ]
    },
    {
      "cell_type": "code",
      "execution_count": null,
      "metadata": {
        "colab": {
          "base_uri": "https://localhost:8080/",
          "height": 606
        },
        "id": "h1kEmDdtZdEQ",
        "outputId": "8f518430-df7f-4a6e-adbd-364de044d02d"
      },
      "outputs": [
        {
          "output_type": "display_data",
          "data": {
            "text/plain": [
              "<Figure size 1152x720 with 1 Axes>"
            ],
            "image/png": "[encoded data removed]"
          },
          "metadata": {
            "needs_background": "light"
          }
        }
      ],
      "source": [
        "# Для всех платформ построим \"ящик с усами\"\n",
        "\n",
        "plt.figure(figsize=(16,10))\n",
        "sns.boxplot(y=\"platform\", x=\"total_sales\", data=df_good, orient=\"h\");"
      ]
    },
    {
      "cell_type": "code",
      "source": [
        "# Создам список всех платформ\n",
        "df_good_list = df_good['platform'].unique()"
      ],
      "metadata": {
        "id": "bf1bvaMSsvTG"
      },
      "execution_count": null,
      "outputs": []
    },
    {
      "cell_type": "code",
      "execution_count": null,
      "metadata": {
        "colab": {
          "base_uri": "https://localhost:8080/",
          "height": 1000
        },
        "id": "oJemnW2AcWfW",
        "outputId": "f321ad98-f96c-4afc-e908-c9fe74b51239"
      },
      "outputs": [
        {
          "output_type": "stream",
          "name": "stdout",
          "text": [
            "-------------------------------------------------\n",
            "статистические характеристики платформы: PS3\n",
            "-------------------------------------------------\n"
          ]
        },
        {
          "output_type": "display_data",
          "data": {
            "text/plain": [
              "       year_of_release    na_sales    eu_sales    jp_sales  other_sales  \\\n",
              "count       213.000000  213.000000  213.000000  213.000000   213.000000   \n",
              "mean       2012.737089    0.362019    0.368498    0.095681     0.152019   \n",
              "std           0.743770    0.733912    0.926433    0.162461     0.378903   \n",
              "min        2012.000000    0.000000    0.000000    0.000000     0.000000   \n",
              "25%        2012.000000    0.050000    0.030000    0.000000     0.020000   \n",
              "50%        2013.000000    0.150000    0.130000    0.040000     0.060000   \n",
              "75%        2013.000000    0.380000    0.340000    0.100000     0.150000   \n",
              "max        2015.000000    7.020000    9.090000    0.980000     3.960000   \n",
              "\n",
              "       critic_score  user_score  total_sales  \n",
              "count    213.000000  213.000000   213.000000  \n",
              "mean      71.723005    6.715493     0.978216  \n",
              "std       13.183154    1.506556     2.050723  \n",
              "min       13.000000    1.000000     0.010000  \n",
              "25%       65.000000    5.900000     0.200000  \n",
              "50%       74.000000    7.100000     0.440000  \n",
              "75%       81.000000    7.800000     0.960000  \n",
              "max       97.000000    9.100000    21.050000  "
            ],
            "text/html": [
              "\n",
              "  <div id=\"df-c0caffaa-ce1c-4ba8-a628-e12c7c9b407e\">\n",
              "    <div class=\"colab-df-container\">\n",
              "      <div>\n",
              "<style scoped>\n",
              "    .dataframe tbody tr th:only-of-type {\n",
              "        vertical-align: middle;\n",
              "    }\n",
              "\n",
              "    .dataframe tbody tr th {\n",
              "        vertical-align: top;\n",
              "    }\n",
              "\n",
              "    .dataframe thead th {\n",
              "        text-align: right;\n",
              "    }\n",
              "</style>\n",
              "<table border=\"1\" class=\"dataframe\">\n",
              "  <thead>\n",
              "    <tr style=\"text-align: right;\">\n",
              "      <th></th>\n",
              "      <th>year_of_release</th>\n",
              "      <th>na_sales</th>\n",
              "      <th>eu_sales</th>\n",
              "      <th>jp_sales</th>\n",
              "      <th>other_sales</th>\n",
              "      <th>critic_score</th>\n",
              "      <th>user_score</th>\n",
              "      <th>total_sales</th>\n",
              "    </tr>\n",
              "  </thead>\n",
              "  <tbody>\n",
              "    <tr>\n",
              "      <th>count</th>\n",
              "      <td>213.000000</td>\n",
              "      <td>213.000000</td>\n",
              "      <td>213.000000</td>\n",
              "      <td>213.000000</td>\n",
              "      <td>213.000000</td>\n",
              "      <td>213.000000</td>\n",
              "      <td>213.000000</td>\n",
              "      <td>213.000000</td>\n",
              "    </tr>\n",
              "    <tr>\n",
              "      <th>mean</th>\n",
              "      <td>2012.737089</td>\n",
              "      <td>0.362019</td>\n",
              "      <td>0.368498</td>\n",
              "      <td>0.095681</td>\n",
              "      <td>0.152019</td>\n",
              "      <td>71.723005</td>\n",
              "      <td>6.715493</td>\n",
              "      <td>0.978216</td>\n",
              "    </tr>\n",
              "    <tr>\n",
              "      <th>std</th>\n",
              "      <td>0.743770</td>\n",
              "      <td>0.733912</td>\n",
              "      <td>0.926433</td>\n",
              "      <td>0.162461</td>\n",
              "      <td>0.378903</td>\n",
              "      <td>13.183154</td>\n",
              "      <td>1.506556</td>\n",
              "      <td>2.050723</td>\n",
              "    </tr>\n",
              "    <tr>\n",
              "      <th>min</th>\n",
              "      <td>2012.000000</td>\n",
              "      <td>0.000000</td>\n",
              "      <td>0.000000</td>\n",
              "      <td>0.000000</td>\n",
              "      <td>0.000000</td>\n",
              "      <td>13.000000</td>\n",
              "      <td>1.000000</td>\n",
              "      <td>0.010000</td>\n",
              "    </tr>\n",
              "    <tr>\n",
              "      <th>25%</th>\n",
              "      <td>2012.000000</td>\n",
              "      <td>0.050000</td>\n",
              "      <td>0.030000</td>\n",
              "      <td>0.000000</td>\n",
              "      <td>0.020000</td>\n",
              "      <td>65.000000</td>\n",
              "      <td>5.900000</td>\n",
              "      <td>0.200000</td>\n",
              "    </tr>\n",
              "    <tr>\n",
              "      <th>50%</th>\n",
              "      <td>2013.000000</td>\n",
              "      <td>0.150000</td>\n",
              "      <td>0.130000</td>\n",
              "      <td>0.040000</td>\n",
              "      <td>0.060000</td>\n",
              "      <td>74.000000</td>\n",
              "      <td>7.100000</td>\n",
              "      <td>0.440000</td>\n",
              "    </tr>\n",
              "    <tr>\n",
              "      <th>75%</th>\n",
              "      <td>2013.000000</td>\n",
              "      <td>0.380000</td>\n",
              "      <td>0.340000</td>\n",
              "      <td>0.100000</td>\n",
              "      <td>0.150000</td>\n",
              "      <td>81.000000</td>\n",
              "      <td>7.800000</td>\n",
              "      <td>0.960000</td>\n",
              "    </tr>\n",
              "    <tr>\n",
              "      <th>max</th>\n",
              "      <td>2015.000000</td>\n",
              "      <td>7.020000</td>\n",
              "      <td>9.090000</td>\n",
              "      <td>0.980000</td>\n",
              "      <td>3.960000</td>\n",
              "      <td>97.000000</td>\n",
              "      <td>9.100000</td>\n",
              "      <td>21.050000</td>\n",
              "    </tr>\n",
              "  </tbody>\n",
              "</table>\n",
              "</div>\n",
              "      <button class=\"colab-df-convert\" onclick=\"convertToInteractive('df-c0caffaa-ce1c-4ba8-a628-e12c7c9b407e')\"\n",
              "              title=\"Convert this dataframe to an interactive table.\"\n",
              "              style=\"display:none;\">\n",
              "        \n",
              "  <svg xmlns=\"http://www.w3.org/2000/svg\" height=\"24px\"viewBox=\"0 0 24 24\"\n",
              "       width=\"24px\">\n",
              "    <path d=\"M0 0h24v24H0V0z\" fill=\"none\"/>\n",
              "    <path d=\"M18.56 5.44l.94 2.06.94-2.06 2.06-.94-2.06-.94-.94-2.06-.94 2.06-2.06.94zm-11 1L8.5 8.5l.94-2.06 2.06-.94-2.06-.94L8.5 2.5l-.94 2.06-2.06.94zm10 10l.94 2.06.94-2.06 2.06-.94-2.06-.94-.94-2.06-.94 2.06-2.06.94z\"/><path d=\"M17.41 7.96l-1.37-1.37c-.4-.4-.92-.59-1.43-.59-.52 0-1.04.2-1.43.59L10.3 9.45l-7.72 7.72c-.78.78-.78 2.05 0 2.83L4 21.41c.39.39.9.59 1.41.59.51 0 1.02-.2 1.41-.59l7.78-7.78 2.81-2.81c.8-.78.8-2.07 0-2.86zM5.41 20L4 18.59l7.72-7.72 1.47 1.35L5.41 20z\"/>\n",
              "  </svg>\n",
              "      </button>\n",
              "      \n",
              "  <style>\n",
              "    .colab-df-container {\n",
              "      display:flex;\n",
              "      flex-wrap:wrap;\n",
              "      gap: 12px;\n",
              "    }\n",
              "\n",
              "    .colab-df-convert {\n",
              "      background-color: #E8F0FE;\n",
              "      border: none;\n",
              "      border-radius: 50%;\n",
              "      cursor: pointer;\n",
              "      display: none;\n",
              "      fill: #1967D2;\n",
              "      height: 32px;\n",
              "      padding: 0 0 0 0;\n",
              "      width: 32px;\n",
              "    }\n",
              "\n",
              "    .colab-df-convert:hover {\n",
              "      background-color: #E2EBFA;\n",
              "      box-shadow: 0px 1px 2px rgba(60, 64, 67, 0.3), 0px 1px 3px 1px rgba(60, 64, 67, 0.15);\n",
              "      fill: #174EA6;\n",
              "    }\n",
              "\n",
              "    [theme=dark] .colab-df-convert {\n",
              "      background-color: #3B4455;\n",
              "      fill: #D2E3FC;\n",
              "    }\n",
              "\n",
              "    [theme=dark] .colab-df-convert:hover {\n",
              "      background-color: #434B5C;\n",
              "      box-shadow: 0px 1px 3px 1px rgba(0, 0, 0, 0.15);\n",
              "      filter: drop-shadow(0px 1px 2px rgba(0, 0, 0, 0.3));\n",
              "      fill: #FFFFFF;\n",
              "    }\n",
              "  </style>\n",
              "\n",
              "      <script>\n",
              "        const buttonEl =\n",
              "          document.querySelector('#df-c0caffaa-ce1c-4ba8-a628-e12c7c9b407e button.colab-df-convert');\n",
              "        buttonEl.style.display =\n",
              "          google.colab.kernel.accessAllowed ? 'block' : 'none';\n",
              "\n",
              "        async function convertToInteractive(key) {\n",
              "          const element = document.querySelector('#df-c0caffaa-ce1c-4ba8-a628-e12c7c9b407e');\n",
              "          const dataTable =\n",
              "            await google.colab.kernel.invokeFunction('convertToInteractive',\n",
              "                                                     [key], {});\n",
              "          if (!dataTable) return;\n",
              "\n",
              "          const docLinkHtml = 'Like what you see? Visit the ' +\n",
              "            '<a target=\"_blank\" href=https://colab.research.google.com/notebooks/data_table.ipynb>data table notebook</a>'\n",
              "            + ' to learn more about interactive tables.';\n",
              "          element.innerHTML = '';\n",
              "          dataTable['output_type'] = 'display_data';\n",
              "          await google.colab.output.renderOutput(dataTable, element);\n",
              "          const docLink = document.createElement('div');\n",
              "          docLink.innerHTML = docLinkHtml;\n",
              "          element.appendChild(docLink);\n",
              "        }\n",
              "      </script>\n",
              "    </div>\n",
              "  </div>\n",
              "  "
            ]
          },
          "metadata": {}
        },
        {
          "output_type": "stream",
          "name": "stdout",
          "text": [
            "-------------------------------------------------\n",
            "статистические характеристики платформы: X360\n",
            "-------------------------------------------------\n"
          ]
        },
        {
          "output_type": "display_data",
          "data": {
            "text/plain": [
              "       year_of_release    na_sales    eu_sales    jp_sales  other_sales  \\\n",
              "count       171.000000  171.000000  171.000000  171.000000   171.000000   \n",
              "mean       2012.625731    0.625673    0.334211    0.008070     0.090234   \n",
              "std           0.735834    1.255818    0.672803    0.014362     0.173907   \n",
              "min        2012.000000    0.000000    0.000000    0.000000     0.000000   \n",
              "25%        2012.000000    0.080000    0.050000    0.000000     0.020000   \n",
              "50%        2012.000000    0.280000    0.140000    0.000000     0.040000   \n",
              "75%        2013.000000    0.640000    0.330000    0.010000     0.095000   \n",
              "max        2014.000000    9.660000    5.140000    0.070000     1.410000   \n",
              "\n",
              "       critic_score  user_score  total_sales  \n",
              "count    171.000000  171.000000   171.000000  \n",
              "mean      70.871345    6.448538     1.058187  \n",
              "std       14.193861    1.470308     2.037991  \n",
              "min       19.000000    1.300000     0.010000  \n",
              "25%       63.500000    5.550000     0.180000  \n",
              "50%       74.000000    6.600000     0.480000  \n",
              "75%       81.000000    7.550000     1.090000  \n",
              "max       97.000000    8.900000    16.270000  "
            ],
            "text/html": [
              "\n",
              "  <div id=\"df-e8273d5c-42c6-4af6-a441-8216cc5ac3c3\">\n",
              "    <div class=\"colab-df-container\">\n",
              "      <div>\n",
              "<style scoped>\n",
              "    .dataframe tbody tr th:only-of-type {\n",
              "        vertical-align: middle;\n",
              "    }\n",
              "\n",
              "    .dataframe tbody tr th {\n",
              "        vertical-align: top;\n",
              "    }\n",
              "\n",
              "    .dataframe thead th {\n",
              "        text-align: right;\n",
              "    }\n",
              "</style>\n",
              "<table border=\"1\" class=\"dataframe\">\n",
              "  <thead>\n",
              "    <tr style=\"text-align: right;\">\n",
              "      <th></th>\n",
              "      <th>year_of_release</th>\n",
              "      <th>na_sales</th>\n",
              "      <th>eu_sales</th>\n",
              "      <th>jp_sales</th>\n",
              "      <th>other_sales</th>\n",
              "      <th>critic_score</th>\n",
              "      <th>user_score</th>\n",
              "      <th>total_sales</th>\n",
              "    </tr>\n",
              "  </thead>\n",
              "  <tbody>\n",
              "    <tr>\n",
              "      <th>count</th>\n",
              "      <td>171.000000</td>\n",
              "      <td>171.000000</td>\n",
              "      <td>171.000000</td>\n",
              "      <td>171.000000</td>\n",
              "      <td>171.000000</td>\n",
              "      <td>171.000000</td>\n",
              "      <td>171.000000</td>\n",
              "      <td>171.000000</td>\n",
              "    </tr>\n",
              "    <tr>\n",
              "      <th>mean</th>\n",
              "      <td>2012.625731</td>\n",
              "      <td>0.625673</td>\n",
              "      <td>0.334211</td>\n",
              "      <td>0.008070</td>\n",
              "      <td>0.090234</td>\n",
              "      <td>70.871345</td>\n",
              "      <td>6.448538</td>\n",
              "      <td>1.058187</td>\n",
              "    </tr>\n",
              "    <tr>\n",
              "      <th>std</th>\n",
              "      <td>0.735834</td>\n",
              "      <td>1.255818</td>\n",
              "      <td>0.672803</td>\n",
              "      <td>0.014362</td>\n",
              "      <td>0.173907</td>\n",
              "      <td>14.193861</td>\n",
              "      <td>1.470308</td>\n",
              "      <td>2.037991</td>\n",
              "    </tr>\n",
              "    <tr>\n",
              "      <th>min</th>\n",
              "      <td>2012.000000</td>\n",
              "      <td>0.000000</td>\n",
              "      <td>0.000000</td>\n",
              "      <td>0.000000</td>\n",
              "      <td>0.000000</td>\n",
              "      <td>19.000000</td>\n",
              "      <td>1.300000</td>\n",
              "      <td>0.010000</td>\n",
              "    </tr>\n",
              "    <tr>\n",
              "      <th>25%</th>\n",
              "      <td>2012.000000</td>\n",
              "      <td>0.080000</td>\n",
              "      <td>0.050000</td>\n",
              "      <td>0.000000</td>\n",
              "      <td>0.020000</td>\n",
              "      <td>63.500000</td>\n",
              "      <td>5.550000</td>\n",
              "      <td>0.180000</td>\n",
              "    </tr>\n",
              "    <tr>\n",
              "      <th>50%</th>\n",
              "      <td>2012.000000</td>\n",
              "      <td>0.280000</td>\n",
              "      <td>0.140000</td>\n",
              "      <td>0.000000</td>\n",
              "      <td>0.040000</td>\n",
              "      <td>74.000000</td>\n",
              "      <td>6.600000</td>\n",
              "      <td>0.480000</td>\n",
              "    </tr>\n",
              "    <tr>\n",
              "      <th>75%</th>\n",
              "      <td>2013.000000</td>\n",
              "      <td>0.640000</td>\n",
              "      <td>0.330000</td>\n",
              "      <td>0.010000</td>\n",
              "      <td>0.095000</td>\n",
              "      <td>81.000000</td>\n",
              "      <td>7.550000</td>\n",
              "      <td>1.090000</td>\n",
              "    </tr>\n",
              "    <tr>\n",
              "      <th>max</th>\n",
              "      <td>2014.000000</td>\n",
              "      <td>9.660000</td>\n",
              "      <td>5.140000</td>\n",
              "      <td>0.070000</td>\n",
              "      <td>1.410000</td>\n",
              "      <td>97.000000</td>\n",
              "      <td>8.900000</td>\n",
              "      <td>16.270000</td>\n",
              "    </tr>\n",
              "  </tbody>\n",
              "</table>\n",
              "</div>\n",
              "      <button class=\"colab-df-convert\" onclick=\"convertToInteractive('df-e8273d5c-42c6-4af6-a441-8216cc5ac3c3')\"\n",
              "              title=\"Convert this dataframe to an interactive table.\"\n",
              "              style=\"display:none;\">\n",
              "        \n",
              "  <svg xmlns=\"http://www.w3.org/2000/svg\" height=\"24px\"viewBox=\"0 0 24 24\"\n",
              "       width=\"24px\">\n",
              "    <path d=\"M0 0h24v24H0V0z\" fill=\"none\"/>\n",
              "    <path d=\"M18.56 5.44l.94 2.06.94-2.06 2.06-.94-2.06-.94-.94-2.06-.94 2.06-2.06.94zm-11 1L8.5 8.5l.94-2.06 2.06-.94-2.06-.94L8.5 2.5l-.94 2.06-2.06.94zm10 10l.94 2.06.94-2.06 2.06-.94-2.06-.94-.94-2.06-.94 2.06-2.06.94z\"/><path d=\"M17.41 7.96l-1.37-1.37c-.4-.4-.92-.59-1.43-.59-.52 0-1.04.2-1.43.59L10.3 9.45l-7.72 7.72c-.78.78-.78 2.05 0 2.83L4 21.41c.39.39.9.59 1.41.59.51 0 1.02-.2 1.41-.59l7.78-7.78 2.81-2.81c.8-.78.8-2.07 0-2.86zM5.41 20L4 18.59l7.72-7.72 1.47 1.35L5.41 20z\"/>\n",
              "  </svg>\n",
              "      </button>\n",
              "      \n",
              "  <style>\n",
              "    .colab-df-container {\n",
              "      display:flex;\n",
              "      flex-wrap:wrap;\n",
              "      gap: 12px;\n",
              "    }\n",
              "\n",
              "    .colab-df-convert {\n",
              "      background-color: #E8F0FE;\n",
              "      border: none;\n",
              "      border-radius: 50%;\n",
              "      cursor: pointer;\n",
              "      display: none;\n",
              "      fill: #1967D2;\n",
              "      height: 32px;\n",
              "      padding: 0 0 0 0;\n",
              "      width: 32px;\n",
              "    }\n",
              "\n",
              "    .colab-df-convert:hover {\n",
              "      background-color: #E2EBFA;\n",
              "      box-shadow: 0px 1px 2px rgba(60, 64, 67, 0.3), 0px 1px 3px 1px rgba(60, 64, 67, 0.15);\n",
              "      fill: #174EA6;\n",
              "    }\n",
              "\n",
              "    [theme=dark] .colab-df-convert {\n",
              "      background-color: #3B4455;\n",
              "      fill: #D2E3FC;\n",
              "    }\n",
              "\n",
              "    [theme=dark] .colab-df-convert:hover {\n",
              "      background-color: #434B5C;\n",
              "      box-shadow: 0px 1px 3px 1px rgba(0, 0, 0, 0.15);\n",
              "      filter: drop-shadow(0px 1px 2px rgba(0, 0, 0, 0.3));\n",
              "      fill: #FFFFFF;\n",
              "    }\n",
              "  </style>\n",
              "\n",
              "      <script>\n",
              "        const buttonEl =\n",
              "          document.querySelector('#df-e8273d5c-42c6-4af6-a441-8216cc5ac3c3 button.colab-df-convert');\n",
              "        buttonEl.style.display =\n",
              "          google.colab.kernel.accessAllowed ? 'block' : 'none';\n",
              "\n",
              "        async function convertToInteractive(key) {\n",
              "          const element = document.querySelector('#df-e8273d5c-42c6-4af6-a441-8216cc5ac3c3');\n",
              "          const dataTable =\n",
              "            await google.colab.kernel.invokeFunction('convertToInteractive',\n",
              "                                                     [key], {});\n",
              "          if (!dataTable) return;\n",
              "\n",
              "          const docLinkHtml = 'Like what you see? Visit the ' +\n",
              "            '<a target=\"_blank\" href=https://colab.research.google.com/notebooks/data_table.ipynb>data table notebook</a>'\n",
              "            + ' to learn more about interactive tables.';\n",
              "          element.innerHTML = '';\n",
              "          dataTable['output_type'] = 'display_data';\n",
              "          await google.colab.output.renderOutput(dataTable, element);\n",
              "          const docLink = document.createElement('div');\n",
              "          docLink.innerHTML = docLinkHtml;\n",
              "          element.appendChild(docLink);\n",
              "        }\n",
              "      </script>\n",
              "    </div>\n",
              "  </div>\n",
              "  "
            ]
          },
          "metadata": {}
        },
        {
          "output_type": "stream",
          "name": "stdout",
          "text": [
            "-------------------------------------------------\n",
            "статистические характеристики платформы: PS4\n",
            "-------------------------------------------------\n"
          ]
        },
        {
          "output_type": "display_data",
          "data": {
            "text/plain": [
              "       year_of_release    na_sales    eu_sales    jp_sales  other_sales  \\\n",
              "count       249.000000  249.000000  249.000000  249.000000   249.000000   \n",
              "mean       2015.056225    0.339197    0.451566    0.037871     0.152369   \n",
              "std           0.914076    0.566725    0.885507    0.068243     0.257127   \n",
              "min        2013.000000    0.000000    0.000000    0.000000     0.000000   \n",
              "25%        2014.000000    0.020000    0.030000    0.000000     0.010000   \n",
              "50%        2015.000000    0.090000    0.120000    0.010000     0.040000   \n",
              "75%        2016.000000    0.390000    0.450000    0.050000     0.170000   \n",
              "max        2016.000000    3.960000    6.310000    0.490000     1.970000   \n",
              "\n",
              "       critic_score  user_score  total_sales  \n",
              "count    249.000000  249.000000   249.000000  \n",
              "mean      72.132530    6.749799     0.981004  \n",
              "std       12.550965    1.455693     1.646217  \n",
              "min       19.000000    1.500000     0.010000  \n",
              "25%       66.000000    6.100000     0.080000  \n",
              "50%       74.000000    7.000000     0.300000  \n",
              "75%       80.000000    7.800000     1.100000  \n",
              "max       97.000000    9.200000    12.620000  "
            ],
            "text/html": [
              "\n",
              "  <div id=\"df-8c235568-779b-496d-a633-470c40e5989a\">\n",
              "    <div class=\"colab-df-container\">\n",
              "      <div>\n",
              "<style scoped>\n",
              "    .dataframe tbody tr th:only-of-type {\n",
              "        vertical-align: middle;\n",
              "    }\n",
              "\n",
              "    .dataframe tbody tr th {\n",
              "        vertical-align: top;\n",
              "    }\n",
              "\n",
              "    .dataframe thead th {\n",
              "        text-align: right;\n",
              "    }\n",
              "</style>\n",
              "<table border=\"1\" class=\"dataframe\">\n",
              "  <thead>\n",
              "    <tr style=\"text-align: right;\">\n",
              "      <th></th>\n",
              "      <th>year_of_release</th>\n",
              "      <th>na_sales</th>\n",
              "      <th>eu_sales</th>\n",
              "      <th>jp_sales</th>\n",
              "      <th>other_sales</th>\n",
              "      <th>critic_score</th>\n",
              "      <th>user_score</th>\n",
              "      <th>total_sales</th>\n",
              "    </tr>\n",
              "  </thead>\n",
              "  <tbody>\n",
              "    <tr>\n",
              "      <th>count</th>\n",
              "      <td>249.000000</td>\n",
              "      <td>249.000000</td>\n",
              "      <td>249.000000</td>\n",
              "      <td>249.000000</td>\n",
              "      <td>249.000000</td>\n",
              "      <td>249.000000</td>\n",
              "      <td>249.000000</td>\n",
              "      <td>249.000000</td>\n",
              "    </tr>\n",
              "    <tr>\n",
              "      <th>mean</th>\n",
              "      <td>2015.056225</td>\n",
              "      <td>0.339197</td>\n",
              "      <td>0.451566</td>\n",
              "      <td>0.037871</td>\n",
              "      <td>0.152369</td>\n",
              "      <td>72.132530</td>\n",
              "      <td>6.749799</td>\n",
              "      <td>0.981004</td>\n",
              "    </tr>\n",
              "    <tr>\n",
              "      <th>std</th>\n",
              "      <td>0.914076</td>\n",
              "      <td>0.566725</td>\n",
              "      <td>0.885507</td>\n",
              "      <td>0.068243</td>\n",
              "      <td>0.257127</td>\n",
              "      <td>12.550965</td>\n",
              "      <td>1.455693</td>\n",
              "      <td>1.646217</td>\n",
              "    </tr>\n",
              "    <tr>\n",
              "      <th>min</th>\n",
              "      <td>2013.000000</td>\n",
              "      <td>0.000000</td>\n",
              "      <td>0.000000</td>\n",
              "      <td>0.000000</td>\n",
              "      <td>0.000000</td>\n",
              "      <td>19.000000</td>\n",
              "      <td>1.500000</td>\n",
              "      <td>0.010000</td>\n",
              "    </tr>\n",
              "    <tr>\n",
              "      <th>25%</th>\n",
              "      <td>2014.000000</td>\n",
              "      <td>0.020000</td>\n",
              "      <td>0.030000</td>\n",
              "      <td>0.000000</td>\n",
              "      <td>0.010000</td>\n",
              "      <td>66.000000</td>\n",
              "      <td>6.100000</td>\n",
              "      <td>0.080000</td>\n",
              "    </tr>\n",
              "    <tr>\n",
              "      <th>50%</th>\n",
              "      <td>2015.000000</td>\n",
              "      <td>0.090000</td>\n",
              "      <td>0.120000</td>\n",
              "      <td>0.010000</td>\n",
              "      <td>0.040000</td>\n",
              "      <td>74.000000</td>\n",
              "      <td>7.000000</td>\n",
              "      <td>0.300000</td>\n",
              "    </tr>\n",
              "    <tr>\n",
              "      <th>75%</th>\n",
              "      <td>2016.000000</td>\n",
              "      <td>0.390000</td>\n",
              "      <td>0.450000</td>\n",
              "      <td>0.050000</td>\n",
              "      <td>0.170000</td>\n",
              "      <td>80.000000</td>\n",
              "      <td>7.800000</td>\n",
              "      <td>1.100000</td>\n",
              "    </tr>\n",
              "    <tr>\n",
              "      <th>max</th>\n",
              "      <td>2016.000000</td>\n",
              "      <td>3.960000</td>\n",
              "      <td>6.310000</td>\n",
              "      <td>0.490000</td>\n",
              "      <td>1.970000</td>\n",
              "      <td>97.000000</td>\n",
              "      <td>9.200000</td>\n",
              "      <td>12.620000</td>\n",
              "    </tr>\n",
              "  </tbody>\n",
              "</table>\n",
              "</div>\n",
              "      <button class=\"colab-df-convert\" onclick=\"convertToInteractive('df-8c235568-779b-496d-a633-470c40e5989a')\"\n",
              "              title=\"Convert this dataframe to an interactive table.\"\n",
              "              style=\"display:none;\">\n",
              "        \n",
              "  <svg xmlns=\"http://www.w3.org/2000/svg\" height=\"24px\"viewBox=\"0 0 24 24\"\n",
              "       width=\"24px\">\n",
              "    <path d=\"M0 0h24v24H0V0z\" fill=\"none\"/>\n",
              "    <path d=\"M18.56 5.44l.94 2.06.94-2.06 2.06-.94-2.06-.94-.94-2.06-.94 2.06-2.06.94zm-11 1L8.5 8.5l.94-2.06 2.06-.94-2.06-.94L8.5 2.5l-.94 2.06-2.06.94zm10 10l.94 2.06.94-2.06 2.06-.94-2.06-.94-.94-2.06-.94 2.06-2.06.94z\"/><path d=\"M17.41 7.96l-1.37-1.37c-.4-.4-.92-.59-1.43-.59-.52 0-1.04.2-1.43.59L10.3 9.45l-7.72 7.72c-.78.78-.78 2.05 0 2.83L4 21.41c.39.39.9.59 1.41.59.51 0 1.02-.2 1.41-.59l7.78-7.78 2.81-2.81c.8-.78.8-2.07 0-2.86zM5.41 20L4 18.59l7.72-7.72 1.47 1.35L5.41 20z\"/>\n",
              "  </svg>\n",
              "      </button>\n",
              "      \n",
              "  <style>\n",
              "    .colab-df-container {\n",
              "      display:flex;\n",
              "      flex-wrap:wrap;\n",
              "      gap: 12px;\n",
              "    }\n",
              "\n",
              "    .colab-df-convert {\n",
              "      background-color: #E8F0FE;\n",
              "      border: none;\n",
              "      border-radius: 50%;\n",
              "      cursor: pointer;\n",
              "      display: none;\n",
              "      fill: #1967D2;\n",
              "      height: 32px;\n",
              "      padding: 0 0 0 0;\n",
              "      width: 32px;\n",
              "    }\n",
              "\n",
              "    .colab-df-convert:hover {\n",
              "      background-color: #E2EBFA;\n",
              "      box-shadow: 0px 1px 2px rgba(60, 64, 67, 0.3), 0px 1px 3px 1px rgba(60, 64, 67, 0.15);\n",
              "      fill: #174EA6;\n",
              "    }\n",
              "\n",
              "    [theme=dark] .colab-df-convert {\n",
              "      background-color: #3B4455;\n",
              "      fill: #D2E3FC;\n",
              "    }\n",
              "\n",
              "    [theme=dark] .colab-df-convert:hover {\n",
              "      background-color: #434B5C;\n",
              "      box-shadow: 0px 1px 3px 1px rgba(0, 0, 0, 0.15);\n",
              "      filter: drop-shadow(0px 1px 2px rgba(0, 0, 0, 0.3));\n",
              "      fill: #FFFFFF;\n",
              "    }\n",
              "  </style>\n",
              "\n",
              "      <script>\n",
              "        const buttonEl =\n",
              "          document.querySelector('#df-8c235568-779b-496d-a633-470c40e5989a button.colab-df-convert');\n",
              "        buttonEl.style.display =\n",
              "          google.colab.kernel.accessAllowed ? 'block' : 'none';\n",
              "\n",
              "        async function convertToInteractive(key) {\n",
              "          const element = document.querySelector('#df-8c235568-779b-496d-a633-470c40e5989a');\n",
              "          const dataTable =\n",
              "            await google.colab.kernel.invokeFunction('convertToInteractive',\n",
              "                                                     [key], {});\n",
              "          if (!dataTable) return;\n",
              "\n",
              "          const docLinkHtml = 'Like what you see? Visit the ' +\n",
              "            '<a target=\"_blank\" href=https://colab.research.google.com/notebooks/data_table.ipynb>data table notebook</a>'\n",
              "            + ' to learn more about interactive tables.';\n",
              "          element.innerHTML = '';\n",
              "          dataTable['output_type'] = 'display_data';\n",
              "          await google.colab.output.renderOutput(dataTable, element);\n",
              "          const docLink = document.createElement('div');\n",
              "          docLink.innerHTML = docLinkHtml;\n",
              "          element.appendChild(docLink);\n",
              "        }\n",
              "      </script>\n",
              "    </div>\n",
              "  </div>\n",
              "  "
            ]
          },
          "metadata": {}
        },
        {
          "output_type": "stream",
          "name": "stdout",
          "text": [
            "-------------------------------------------------\n",
            "статистические характеристики платформы: 3DS\n",
            "-------------------------------------------------\n"
          ]
        },
        {
          "output_type": "display_data",
          "data": {
            "text/plain": [
              "       year_of_release    na_sales    eu_sales    jp_sales  other_sales  \\\n",
              "count        100.00000  100.000000  100.000000  100.000000   100.000000   \n",
              "mean        2013.53000    0.285300    0.200100    0.265400     0.044100   \n",
              "std            1.38137    0.491689    0.436306    0.582404     0.083788   \n",
              "min         2012.00000    0.000000    0.000000    0.000000     0.000000   \n",
              "25%         2012.00000    0.050000    0.010000    0.010000     0.010000   \n",
              "50%         2013.00000    0.145000    0.070000    0.090000     0.020000   \n",
              "75%         2015.00000    0.305000    0.200000    0.280000     0.042500   \n",
              "max         2016.00000    3.660000    3.140000    4.390000     0.630000   \n",
              "\n",
              "       critic_score  user_score  total_sales  \n",
              "count    100.000000  100.000000   100.000000  \n",
              "mean      70.420000    7.195000     0.794900  \n",
              "std       11.758668    1.333665     1.496233  \n",
              "min       26.000000    2.400000     0.010000  \n",
              "25%       64.000000    6.300000     0.150000  \n",
              "50%       71.000000    7.550000     0.325000  \n",
              "75%       78.250000    8.200000     0.770000  \n",
              "max       92.000000    9.100000     9.900000  "
            ],
            "text/html": [
              "\n",
              "  <div id=\"df-d11f7bc1-bc9e-4b3e-b59f-bed641c27b59\">\n",
              "    <div class=\"colab-df-container\">\n",
              "      <div>\n",
              "<style scoped>\n",
              "    .dataframe tbody tr th:only-of-type {\n",
              "        vertical-align: middle;\n",
              "    }\n",
              "\n",
              "    .dataframe tbody tr th {\n",
              "        vertical-align: top;\n",
              "    }\n",
              "\n",
              "    .dataframe thead th {\n",
              "        text-align: right;\n",
              "    }\n",
              "</style>\n",
              "<table border=\"1\" class=\"dataframe\">\n",
              "  <thead>\n",
              "    <tr style=\"text-align: right;\">\n",
              "      <th></th>\n",
              "      <th>year_of_release</th>\n",
              "      <th>na_sales</th>\n",
              "      <th>eu_sales</th>\n",
              "      <th>jp_sales</th>\n",
              "      <th>other_sales</th>\n",
              "      <th>critic_score</th>\n",
              "      <th>user_score</th>\n",
              "      <th>total_sales</th>\n",
              "    </tr>\n",
              "  </thead>\n",
              "  <tbody>\n",
              "    <tr>\n",
              "      <th>count</th>\n",
              "      <td>100.00000</td>\n",
              "      <td>100.000000</td>\n",
              "      <td>100.000000</td>\n",
              "      <td>100.000000</td>\n",
              "      <td>100.000000</td>\n",
              "      <td>100.000000</td>\n",
              "      <td>100.000000</td>\n",
              "      <td>100.000000</td>\n",
              "    </tr>\n",
              "    <tr>\n",
              "      <th>mean</th>\n",
              "      <td>2013.53000</td>\n",
              "      <td>0.285300</td>\n",
              "      <td>0.200100</td>\n",
              "      <td>0.265400</td>\n",
              "      <td>0.044100</td>\n",
              "      <td>70.420000</td>\n",
              "      <td>7.195000</td>\n",
              "      <td>0.794900</td>\n",
              "    </tr>\n",
              "    <tr>\n",
              "      <th>std</th>\n",
              "      <td>1.38137</td>\n",
              "      <td>0.491689</td>\n",
              "      <td>0.436306</td>\n",
              "      <td>0.582404</td>\n",
              "      <td>0.083788</td>\n",
              "      <td>11.758668</td>\n",
              "      <td>1.333665</td>\n",
              "      <td>1.496233</td>\n",
              "    </tr>\n",
              "    <tr>\n",
              "      <th>min</th>\n",
              "      <td>2012.00000</td>\n",
              "      <td>0.000000</td>\n",
              "      <td>0.000000</td>\n",
              "      <td>0.000000</td>\n",
              "      <td>0.000000</td>\n",
              "      <td>26.000000</td>\n",
              "      <td>2.400000</td>\n",
              "      <td>0.010000</td>\n",
              "    </tr>\n",
              "    <tr>\n",
              "      <th>25%</th>\n",
              "      <td>2012.00000</td>\n",
              "      <td>0.050000</td>\n",
              "      <td>0.010000</td>\n",
              "      <td>0.010000</td>\n",
              "      <td>0.010000</td>\n",
              "      <td>64.000000</td>\n",
              "      <td>6.300000</td>\n",
              "      <td>0.150000</td>\n",
              "    </tr>\n",
              "    <tr>\n",
              "      <th>50%</th>\n",
              "      <td>2013.00000</td>\n",
              "      <td>0.145000</td>\n",
              "      <td>0.070000</td>\n",
              "      <td>0.090000</td>\n",
              "      <td>0.020000</td>\n",
              "      <td>71.000000</td>\n",
              "      <td>7.550000</td>\n",
              "      <td>0.325000</td>\n",
              "    </tr>\n",
              "    <tr>\n",
              "      <th>75%</th>\n",
              "      <td>2015.00000</td>\n",
              "      <td>0.305000</td>\n",
              "      <td>0.200000</td>\n",
              "      <td>0.280000</td>\n",
              "      <td>0.042500</td>\n",
              "      <td>78.250000</td>\n",
              "      <td>8.200000</td>\n",
              "      <td>0.770000</td>\n",
              "    </tr>\n",
              "    <tr>\n",
              "      <th>max</th>\n",
              "      <td>2016.00000</td>\n",
              "      <td>3.660000</td>\n",
              "      <td>3.140000</td>\n",
              "      <td>4.390000</td>\n",
              "      <td>0.630000</td>\n",
              "      <td>92.000000</td>\n",
              "      <td>9.100000</td>\n",
              "      <td>9.900000</td>\n",
              "    </tr>\n",
              "  </tbody>\n",
              "</table>\n",
              "</div>\n",
              "      <button class=\"colab-df-convert\" onclick=\"convertToInteractive('df-d11f7bc1-bc9e-4b3e-b59f-bed641c27b59')\"\n",
              "              title=\"Convert this dataframe to an interactive table.\"\n",
              "              style=\"display:none;\">\n",
              "        \n",
              "  <svg xmlns=\"http://www.w3.org/2000/svg\" height=\"24px\"viewBox=\"0 0 24 24\"\n",
              "       width=\"24px\">\n",
              "    <path d=\"M0 0h24v24H0V0z\" fill=\"none\"/>\n",
              "    <path d=\"M18.56 5.44l.94 2.06.94-2.06 2.06-.94-2.06-.94-.94-2.06-.94 2.06-2.06.94zm-11 1L8.5 8.5l.94-2.06 2.06-.94-2.06-.94L8.5 2.5l-.94 2.06-2.06.94zm10 10l.94 2.06.94-2.06 2.06-.94-2.06-.94-.94-2.06-.94 2.06-2.06.94z\"/><path d=\"M17.41 7.96l-1.37-1.37c-.4-.4-.92-.59-1.43-.59-.52 0-1.04.2-1.43.59L10.3 9.45l-7.72 7.72c-.78.78-.78 2.05 0 2.83L4 21.41c.39.39.9.59 1.41.59.51 0 1.02-.2 1.41-.59l7.78-7.78 2.81-2.81c.8-.78.8-2.07 0-2.86zM5.41 20L4 18.59l7.72-7.72 1.47 1.35L5.41 20z\"/>\n",
              "  </svg>\n",
              "      </button>\n",
              "      \n",
              "  <style>\n",
              "    .colab-df-container {\n",
              "      display:flex;\n",
              "      flex-wrap:wrap;\n",
              "      gap: 12px;\n",
              "    }\n",
              "\n",
              "    .colab-df-convert {\n",
              "      background-color: #E8F0FE;\n",
              "      border: none;\n",
              "      border-radius: 50%;\n",
              "      cursor: pointer;\n",
              "      display: none;\n",
              "      fill: #1967D2;\n",
              "      height: 32px;\n",
              "      padding: 0 0 0 0;\n",
              "      width: 32px;\n",
              "    }\n",
              "\n",
              "    .colab-df-convert:hover {\n",
              "      background-color: #E2EBFA;\n",
              "      box-shadow: 0px 1px 2px rgba(60, 64, 67, 0.3), 0px 1px 3px 1px rgba(60, 64, 67, 0.15);\n",
              "      fill: #174EA6;\n",
              "    }\n",
              "\n",
              "    [theme=dark] .colab-df-convert {\n",
              "      background-color: #3B4455;\n",
              "      fill: #D2E3FC;\n",
              "    }\n",
              "\n",
              "    [theme=dark] .colab-df-convert:hover {\n",
              "      background-color: #434B5C;\n",
              "      box-shadow: 0px 1px 3px 1px rgba(0, 0, 0, 0.15);\n",
              "      filter: drop-shadow(0px 1px 2px rgba(0, 0, 0, 0.3));\n",
              "      fill: #FFFFFF;\n",
              "    }\n",
              "  </style>\n",
              "\n",
              "      <script>\n",
              "        const buttonEl =\n",
              "          document.querySelector('#df-d11f7bc1-bc9e-4b3e-b59f-bed641c27b59 button.colab-df-convert');\n",
              "        buttonEl.style.display =\n",
              "          google.colab.kernel.accessAllowed ? 'block' : 'none';\n",
              "\n",
              "        async function convertToInteractive(key) {\n",
              "          const element = document.querySelector('#df-d11f7bc1-bc9e-4b3e-b59f-bed641c27b59');\n",
              "          const dataTable =\n",
              "            await google.colab.kernel.invokeFunction('convertToInteractive',\n",
              "                                                     [key], {});\n",
              "          if (!dataTable) return;\n",
              "\n",
              "          const docLinkHtml = 'Like what you see? Visit the ' +\n",
              "            '<a target=\"_blank\" href=https://colab.research.google.com/notebooks/data_table.ipynb>data table notebook</a>'\n",
              "            + ' to learn more about interactive tables.';\n",
              "          element.innerHTML = '';\n",
              "          dataTable['output_type'] = 'display_data';\n",
              "          await google.colab.output.renderOutput(dataTable, element);\n",
              "          const docLink = document.createElement('div');\n",
              "          docLink.innerHTML = docLinkHtml;\n",
              "          element.appendChild(docLink);\n",
              "        }\n",
              "      </script>\n",
              "    </div>\n",
              "  </div>\n",
              "  "
            ]
          },
          "metadata": {}
        },
        {
          "output_type": "stream",
          "name": "stdout",
          "text": [
            "-------------------------------------------------\n",
            "статистические характеристики платформы: DS\n",
            "-------------------------------------------------\n"
          ]
        },
        {
          "output_type": "display_data",
          "data": {
            "text/plain": [
              "       year_of_release  na_sales  eu_sales  jp_sales  other_sales  \\\n",
              "count              1.0      1.00      1.00      1.00         1.00   \n",
              "mean            2012.0      0.56      0.05      0.37         0.04   \n",
              "std                NaN       NaN       NaN       NaN          NaN   \n",
              "min             2012.0      0.56      0.05      0.37         0.04   \n",
              "25%             2012.0      0.56      0.05      0.37         0.04   \n",
              "50%             2012.0      0.56      0.05      0.37         0.04   \n",
              "75%             2012.0      0.56      0.05      0.37         0.04   \n",
              "max             2012.0      0.56      0.05      0.37         0.04   \n",
              "\n",
              "       critic_score  user_score  total_sales  \n",
              "count           1.0         1.0         1.00  \n",
              "mean           80.0         8.2         1.02  \n",
              "std             NaN         NaN          NaN  \n",
              "min            80.0         8.2         1.02  \n",
              "25%            80.0         8.2         1.02  \n",
              "50%            80.0         8.2         1.02  \n",
              "75%            80.0         8.2         1.02  \n",
              "max            80.0         8.2         1.02  "
            ],
            "text/html": [
              "\n",
              "  <div id=\"df-c67bb676-c6a7-4e70-bed4-1a0cd31629f0\">\n",
              "    <div class=\"colab-df-container\">\n",
              "      <div>\n",
              "<style scoped>\n",
              "    .dataframe tbody tr th:only-of-type {\n",
              "        vertical-align: middle;\n",
              "    }\n",
              "\n",
              "    .dataframe tbody tr th {\n",
              "        vertical-align: top;\n",
              "    }\n",
              "\n",
              "    .dataframe thead th {\n",
              "        text-align: right;\n",
              "    }\n",
              "</style>\n",
              "<table border=\"1\" class=\"dataframe\">\n",
              "  <thead>\n",
              "    <tr style=\"text-align: right;\">\n",
              "      <th></th>\n",
              "      <th>year_of_release</th>\n",
              "      <th>na_sales</th>\n",
              "      <th>eu_sales</th>\n",
              "      <th>jp_sales</th>\n",
              "      <th>other_sales</th>\n",
              "      <th>critic_score</th>\n",
              "      <th>user_score</th>\n",
              "      <th>total_sales</th>\n",
              "    </tr>\n",
              "  </thead>\n",
              "  <tbody>\n",
              "    <tr>\n",
              "      <th>count</th>\n",
              "      <td>1.0</td>\n",
              "      <td>1.00</td>\n",
              "      <td>1.00</td>\n",
              "      <td>1.00</td>\n",
              "      <td>1.00</td>\n",
              "      <td>1.0</td>\n",
              "      <td>1.0</td>\n",
              "      <td>1.00</td>\n",
              "    </tr>\n",
              "    <tr>\n",
              "      <th>mean</th>\n",
              "      <td>2012.0</td>\n",
              "      <td>0.56</td>\n",
              "      <td>0.05</td>\n",
              "      <td>0.37</td>\n",
              "      <td>0.04</td>\n",
              "      <td>80.0</td>\n",
              "      <td>8.2</td>\n",
              "      <td>1.02</td>\n",
              "    </tr>\n",
              "    <tr>\n",
              "      <th>std</th>\n",
              "      <td>NaN</td>\n",
              "      <td>NaN</td>\n",
              "      <td>NaN</td>\n",
              "      <td>NaN</td>\n",
              "      <td>NaN</td>\n",
              "      <td>NaN</td>\n",
              "      <td>NaN</td>\n",
              "      <td>NaN</td>\n",
              "    </tr>\n",
              "    <tr>\n",
              "      <th>min</th>\n",
              "      <td>2012.0</td>\n",
              "      <td>0.56</td>\n",
              "      <td>0.05</td>\n",
              "      <td>0.37</td>\n",
              "      <td>0.04</td>\n",
              "      <td>80.0</td>\n",
              "      <td>8.2</td>\n",
              "      <td>1.02</td>\n",
              "    </tr>\n",
              "    <tr>\n",
              "      <th>25%</th>\n",
              "      <td>2012.0</td>\n",
              "      <td>0.56</td>\n",
              "      <td>0.05</td>\n",
              "      <td>0.37</td>\n",
              "      <td>0.04</td>\n",
              "      <td>80.0</td>\n",
              "      <td>8.2</td>\n",
              "      <td>1.02</td>\n",
              "    </tr>\n",
              "    <tr>\n",
              "      <th>50%</th>\n",
              "      <td>2012.0</td>\n",
              "      <td>0.56</td>\n",
              "      <td>0.05</td>\n",
              "      <td>0.37</td>\n",
              "      <td>0.04</td>\n",
              "      <td>80.0</td>\n",
              "      <td>8.2</td>\n",
              "      <td>1.02</td>\n",
              "    </tr>\n",
              "    <tr>\n",
              "      <th>75%</th>\n",
              "      <td>2012.0</td>\n",
              "      <td>0.56</td>\n",
              "      <td>0.05</td>\n",
              "      <td>0.37</td>\n",
              "      <td>0.04</td>\n",
              "      <td>80.0</td>\n",
              "      <td>8.2</td>\n",
              "      <td>1.02</td>\n",
              "    </tr>\n",
              "    <tr>\n",
              "      <th>max</th>\n",
              "      <td>2012.0</td>\n",
              "      <td>0.56</td>\n",
              "      <td>0.05</td>\n",
              "      <td>0.37</td>\n",
              "      <td>0.04</td>\n",
              "      <td>80.0</td>\n",
              "      <td>8.2</td>\n",
              "      <td>1.02</td>\n",
              "    </tr>\n",
              "  </tbody>\n",
              "</table>\n",
              "</div>\n",
              "      <button class=\"colab-df-convert\" onclick=\"convertToInteractive('df-c67bb676-c6a7-4e70-bed4-1a0cd31629f0')\"\n",
              "              title=\"Convert this dataframe to an interactive table.\"\n",
              "              style=\"display:none;\">\n",
              "        \n",
              "  <svg xmlns=\"http://www.w3.org/2000/svg\" height=\"24px\"viewBox=\"0 0 24 24\"\n",
              "       width=\"24px\">\n",
              "    <path d=\"M0 0h24v24H0V0z\" fill=\"none\"/>\n",
              "    <path d=\"M18.56 5.44l.94 2.06.94-2.06 2.06-.94-2.06-.94-.94-2.06-.94 2.06-2.06.94zm-11 1L8.5 8.5l.94-2.06 2.06-.94-2.06-.94L8.5 2.5l-.94 2.06-2.06.94zm10 10l.94 2.06.94-2.06 2.06-.94-2.06-.94-.94-2.06-.94 2.06-2.06.94z\"/><path d=\"M17.41 7.96l-1.37-1.37c-.4-.4-.92-.59-1.43-.59-.52 0-1.04.2-1.43.59L10.3 9.45l-7.72 7.72c-.78.78-.78 2.05 0 2.83L4 21.41c.39.39.9.59 1.41.59.51 0 1.02-.2 1.41-.59l7.78-7.78 2.81-2.81c.8-.78.8-2.07 0-2.86zM5.41 20L4 18.59l7.72-7.72 1.47 1.35L5.41 20z\"/>\n",
              "  </svg>\n",
              "      </button>\n",
              "      \n",
              "  <style>\n",
              "    .colab-df-container {\n",
              "      display:flex;\n",
              "      flex-wrap:wrap;\n",
              "      gap: 12px;\n",
              "    }\n",
              "\n",
              "    .colab-df-convert {\n",
              "      background-color: #E8F0FE;\n",
              "      border: none;\n",
              "      border-radius: 50%;\n",
              "      cursor: pointer;\n",
              "      display: none;\n",
              "      fill: #1967D2;\n",
              "      height: 32px;\n",
              "      padding: 0 0 0 0;\n",
              "      width: 32px;\n",
              "    }\n",
              "\n",
              "    .colab-df-convert:hover {\n",
              "      background-color: #E2EBFA;\n",
              "      box-shadow: 0px 1px 2px rgba(60, 64, 67, 0.3), 0px 1px 3px 1px rgba(60, 64, 67, 0.15);\n",
              "      fill: #174EA6;\n",
              "    }\n",
              "\n",
              "    [theme=dark] .colab-df-convert {\n",
              "      background-color: #3B4455;\n",
              "      fill: #D2E3FC;\n",
              "    }\n",
              "\n",
              "    [theme=dark] .colab-df-convert:hover {\n",
              "      background-color: #434B5C;\n",
              "      box-shadow: 0px 1px 3px 1px rgba(0, 0, 0, 0.15);\n",
              "      filter: drop-shadow(0px 1px 2px rgba(0, 0, 0, 0.3));\n",
              "      fill: #FFFFFF;\n",
              "    }\n",
              "  </style>\n",
              "\n",
              "      <script>\n",
              "        const buttonEl =\n",
              "          document.querySelector('#df-c67bb676-c6a7-4e70-bed4-1a0cd31629f0 button.colab-df-convert');\n",
              "        buttonEl.style.display =\n",
              "          google.colab.kernel.accessAllowed ? 'block' : 'none';\n",
              "\n",
              "        async function convertToInteractive(key) {\n",
              "          const element = document.querySelector('#df-c67bb676-c6a7-4e70-bed4-1a0cd31629f0');\n",
              "          const dataTable =\n",
              "            await google.colab.kernel.invokeFunction('convertToInteractive',\n",
              "                                                     [key], {});\n",
              "          if (!dataTable) return;\n",
              "\n",
              "          const docLinkHtml = 'Like what you see? Visit the ' +\n",
              "            '<a target=\"_blank\" href=https://colab.research.google.com/notebooks/data_table.ipynb>data table notebook</a>'\n",
              "            + ' to learn more about interactive tables.';\n",
              "          element.innerHTML = '';\n",
              "          dataTable['output_type'] = 'display_data';\n",
              "          await google.colab.output.renderOutput(dataTable, element);\n",
              "          const docLink = document.createElement('div');\n",
              "          docLink.innerHTML = docLinkHtml;\n",
              "          element.appendChild(docLink);\n",
              "        }\n",
              "      </script>\n",
              "    </div>\n",
              "  </div>\n",
              "  "
            ]
          },
          "metadata": {}
        },
        {
          "output_type": "stream",
          "name": "stdout",
          "text": [
            "-------------------------------------------------\n",
            "статистические характеристики платформы: XOne\n",
            "-------------------------------------------------\n"
          ]
        },
        {
          "output_type": "display_data",
          "data": {
            "text/plain": [
              "       year_of_release    na_sales    eu_sales    jp_sales  other_sales  \\\n",
              "count       165.000000  165.000000  165.000000  165.000000   165.000000   \n",
              "mean       2014.921212    0.460788    0.255939    0.001758     0.070667   \n",
              "std           0.975229    0.634467    0.389314    0.005942     0.094541   \n",
              "min        2013.000000    0.000000    0.000000    0.000000     0.000000   \n",
              "25%        2014.000000    0.050000    0.040000    0.000000     0.010000   \n",
              "50%        2015.000000    0.210000    0.110000    0.000000     0.030000   \n",
              "75%        2016.000000    0.620000    0.290000    0.000000     0.110000   \n",
              "max        2016.000000    3.220000    2.190000    0.040000     0.480000   \n",
              "\n",
              "       critic_score  user_score  total_sales  \n",
              "count    165.000000  165.000000   165.000000  \n",
              "mean      73.618182    6.538182     0.789152  \n",
              "std       12.883849    1.340298     1.040746  \n",
              "min       20.000000    2.100000     0.010000  \n",
              "25%       67.000000    5.800000     0.120000  \n",
              "50%       76.000000    6.800000     0.340000  \n",
              "75%       83.000000    7.500000     1.160000  \n",
              "max       97.000000    9.200000     5.470000  "
            ],
            "text/html": [
              "\n",
              "  <div id=\"df-61e6182d-cc6b-4759-a80c-d834f2c639e2\">\n",
              "    <div class=\"colab-df-container\">\n",
              "      <div>\n",
              "<style scoped>\n",
              "    .dataframe tbody tr th:only-of-type {\n",
              "        vertical-align: middle;\n",
              "    }\n",
              "\n",
              "    .dataframe tbody tr th {\n",
              "        vertical-align: top;\n",
              "    }\n",
              "\n",
              "    .dataframe thead th {\n",
              "        text-align: right;\n",
              "    }\n",
              "</style>\n",
              "<table border=\"1\" class=\"dataframe\">\n",
              "  <thead>\n",
              "    <tr style=\"text-align: right;\">\n",
              "      <th></th>\n",
              "      <th>year_of_release</th>\n",
              "      <th>na_sales</th>\n",
              "      <th>eu_sales</th>\n",
              "      <th>jp_sales</th>\n",
              "      <th>other_sales</th>\n",
              "      <th>critic_score</th>\n",
              "      <th>user_score</th>\n",
              "      <th>total_sales</th>\n",
              "    </tr>\n",
              "  </thead>\n",
              "  <tbody>\n",
              "    <tr>\n",
              "      <th>count</th>\n",
              "      <td>165.000000</td>\n",
              "      <td>165.000000</td>\n",
              "      <td>165.000000</td>\n",
              "      <td>165.000000</td>\n",
              "      <td>165.000000</td>\n",
              "      <td>165.000000</td>\n",
              "      <td>165.000000</td>\n",
              "      <td>165.000000</td>\n",
              "    </tr>\n",
              "    <tr>\n",
              "      <th>mean</th>\n",
              "      <td>2014.921212</td>\n",
              "      <td>0.460788</td>\n",
              "      <td>0.255939</td>\n",
              "      <td>0.001758</td>\n",
              "      <td>0.070667</td>\n",
              "      <td>73.618182</td>\n",
              "      <td>6.538182</td>\n",
              "      <td>0.789152</td>\n",
              "    </tr>\n",
              "    <tr>\n",
              "      <th>std</th>\n",
              "      <td>0.975229</td>\n",
              "      <td>0.634467</td>\n",
              "      <td>0.389314</td>\n",
              "      <td>0.005942</td>\n",
              "      <td>0.094541</td>\n",
              "      <td>12.883849</td>\n",
              "      <td>1.340298</td>\n",
              "      <td>1.040746</td>\n",
              "    </tr>\n",
              "    <tr>\n",
              "      <th>min</th>\n",
              "      <td>2013.000000</td>\n",
              "      <td>0.000000</td>\n",
              "      <td>0.000000</td>\n",
              "      <td>0.000000</td>\n",
              "      <td>0.000000</td>\n",
              "      <td>20.000000</td>\n",
              "      <td>2.100000</td>\n",
              "      <td>0.010000</td>\n",
              "    </tr>\n",
              "    <tr>\n",
              "      <th>25%</th>\n",
              "      <td>2014.000000</td>\n",
              "      <td>0.050000</td>\n",
              "      <td>0.040000</td>\n",
              "      <td>0.000000</td>\n",
              "      <td>0.010000</td>\n",
              "      <td>67.000000</td>\n",
              "      <td>5.800000</td>\n",
              "      <td>0.120000</td>\n",
              "    </tr>\n",
              "    <tr>\n",
              "      <th>50%</th>\n",
              "      <td>2015.000000</td>\n",
              "      <td>0.210000</td>\n",
              "      <td>0.110000</td>\n",
              "      <td>0.000000</td>\n",
              "      <td>0.030000</td>\n",
              "      <td>76.000000</td>\n",
              "      <td>6.800000</td>\n",
              "      <td>0.340000</td>\n",
              "    </tr>\n",
              "    <tr>\n",
              "      <th>75%</th>\n",
              "      <td>2016.000000</td>\n",
              "      <td>0.620000</td>\n",
              "      <td>0.290000</td>\n",
              "      <td>0.000000</td>\n",
              "      <td>0.110000</td>\n",
              "      <td>83.000000</td>\n",
              "      <td>7.500000</td>\n",
              "      <td>1.160000</td>\n",
              "    </tr>\n",
              "    <tr>\n",
              "      <th>max</th>\n",
              "      <td>2016.000000</td>\n",
              "      <td>3.220000</td>\n",
              "      <td>2.190000</td>\n",
              "      <td>0.040000</td>\n",
              "      <td>0.480000</td>\n",
              "      <td>97.000000</td>\n",
              "      <td>9.200000</td>\n",
              "      <td>5.470000</td>\n",
              "    </tr>\n",
              "  </tbody>\n",
              "</table>\n",
              "</div>\n",
              "      <button class=\"colab-df-convert\" onclick=\"convertToInteractive('df-61e6182d-cc6b-4759-a80c-d834f2c639e2')\"\n",
              "              title=\"Convert this dataframe to an interactive table.\"\n",
              "              style=\"display:none;\">\n",
              "        \n",
              "  <svg xmlns=\"http://www.w3.org/2000/svg\" height=\"24px\"viewBox=\"0 0 24 24\"\n",
              "       width=\"24px\">\n",
              "    <path d=\"M0 0h24v24H0V0z\" fill=\"none\"/>\n",
              "    <path d=\"M18.56 5.44l.94 2.06.94-2.06 2.06-.94-2.06-.94-.94-2.06-.94 2.06-2.06.94zm-11 1L8.5 8.5l.94-2.06 2.06-.94-2.06-.94L8.5 2.5l-.94 2.06-2.06.94zm10 10l.94 2.06.94-2.06 2.06-.94-2.06-.94-.94-2.06-.94 2.06-2.06.94z\"/><path d=\"M17.41 7.96l-1.37-1.37c-.4-.4-.92-.59-1.43-.59-.52 0-1.04.2-1.43.59L10.3 9.45l-7.72 7.72c-.78.78-.78 2.05 0 2.83L4 21.41c.39.39.9.59 1.41.59.51 0 1.02-.2 1.41-.59l7.78-7.78 2.81-2.81c.8-.78.8-2.07 0-2.86zM5.41 20L4 18.59l7.72-7.72 1.47 1.35L5.41 20z\"/>\n",
              "  </svg>\n",
              "      </button>\n",
              "      \n",
              "  <style>\n",
              "    .colab-df-container {\n",
              "      display:flex;\n",
              "      flex-wrap:wrap;\n",
              "      gap: 12px;\n",
              "    }\n",
              "\n",
              "    .colab-df-convert {\n",
              "      background-color: #E8F0FE;\n",
              "      border: none;\n",
              "      border-radius: 50%;\n",
              "      cursor: pointer;\n",
              "      display: none;\n",
              "      fill: #1967D2;\n",
              "      height: 32px;\n",
              "      padding: 0 0 0 0;\n",
              "      width: 32px;\n",
              "    }\n",
              "\n",
              "    .colab-df-convert:hover {\n",
              "      background-color: #E2EBFA;\n",
              "      box-shadow: 0px 1px 2px rgba(60, 64, 67, 0.3), 0px 1px 3px 1px rgba(60, 64, 67, 0.15);\n",
              "      fill: #174EA6;\n",
              "    }\n",
              "\n",
              "    [theme=dark] .colab-df-convert {\n",
              "      background-color: #3B4455;\n",
              "      fill: #D2E3FC;\n",
              "    }\n",
              "\n",
              "    [theme=dark] .colab-df-convert:hover {\n",
              "      background-color: #434B5C;\n",
              "      box-shadow: 0px 1px 3px 1px rgba(0, 0, 0, 0.15);\n",
              "      filter: drop-shadow(0px 1px 2px rgba(0, 0, 0, 0.3));\n",
              "      fill: #FFFFFF;\n",
              "    }\n",
              "  </style>\n",
              "\n",
              "      <script>\n",
              "        const buttonEl =\n",
              "          document.querySelector('#df-61e6182d-cc6b-4759-a80c-d834f2c639e2 button.colab-df-convert');\n",
              "        buttonEl.style.display =\n",
              "          google.colab.kernel.accessAllowed ? 'block' : 'none';\n",
              "\n",
              "        async function convertToInteractive(key) {\n",
              "          const element = document.querySelector('#df-61e6182d-cc6b-4759-a80c-d834f2c639e2');\n",
              "          const dataTable =\n",
              "            await google.colab.kernel.invokeFunction('convertToInteractive',\n",
              "                                                     [key], {});\n",
              "          if (!dataTable) return;\n",
              "\n",
              "          const docLinkHtml = 'Like what you see? Visit the ' +\n",
              "            '<a target=\"_blank\" href=https://colab.research.google.com/notebooks/data_table.ipynb>data table notebook</a>'\n",
              "            + ' to learn more about interactive tables.';\n",
              "          element.innerHTML = '';\n",
              "          dataTable['output_type'] = 'display_data';\n",
              "          await google.colab.output.renderOutput(dataTable, element);\n",
              "          const docLink = document.createElement('div');\n",
              "          docLink.innerHTML = docLinkHtml;\n",
              "          element.appendChild(docLink);\n",
              "        }\n",
              "      </script>\n",
              "    </div>\n",
              "  </div>\n",
              "  "
            ]
          },
          "metadata": {}
        },
        {
          "output_type": "stream",
          "name": "stdout",
          "text": [
            "-------------------------------------------------\n",
            "статистические характеристики платформы: WiiU\n",
            "-------------------------------------------------\n"
          ]
        },
        {
          "output_type": "display_data",
          "data": {
            "text/plain": [
              "       year_of_release   na_sales   eu_sales   jp_sales  other_sales  \\\n",
              "count        89.000000  89.000000  89.000000  89.000000    89.000000   \n",
              "mean       2013.640449   0.344831   0.229438   0.114270     0.053933   \n",
              "std           1.290236   0.549730   0.341096   0.282509     0.083307   \n",
              "min        2012.000000   0.000000   0.000000   0.000000     0.000000   \n",
              "25%        2013.000000   0.070000   0.040000   0.000000     0.010000   \n",
              "50%        2013.000000   0.190000   0.120000   0.010000     0.030000   \n",
              "75%        2015.000000   0.330000   0.270000   0.080000     0.050000   \n",
              "max        2016.000000   3.150000   2.150000   1.460000     0.510000   \n",
              "\n",
              "       critic_score  user_score  total_sales  \n",
              "count     89.000000   89.000000    89.000000  \n",
              "mean      70.674157    7.041573     0.742472  \n",
              "std       14.762341    1.368959     1.215115  \n",
              "min       24.000000    2.700000     0.010000  \n",
              "25%       65.000000    6.400000     0.120000  \n",
              "50%       73.000000    7.400000     0.370000  \n",
              "75%       81.000000    8.000000     0.730000  \n",
              "max       93.000000    9.100000     7.090000  "
            ],
            "text/html": [
              "\n",
              "  <div id=\"df-ddafa4ae-f14d-4f5b-8d38-df9bf2fd5d19\">\n",
              "    <div class=\"colab-df-container\">\n",
              "      <div>\n",
              "<style scoped>\n",
              "    .dataframe tbody tr th:only-of-type {\n",
              "        vertical-align: middle;\n",
              "    }\n",
              "\n",
              "    .dataframe tbody tr th {\n",
              "        vertical-align: top;\n",
              "    }\n",
              "\n",
              "    .dataframe thead th {\n",
              "        text-align: right;\n",
              "    }\n",
              "</style>\n",
              "<table border=\"1\" class=\"dataframe\">\n",
              "  <thead>\n",
              "    <tr style=\"text-align: right;\">\n",
              "      <th></th>\n",
              "      <th>year_of_release</th>\n",
              "      <th>na_sales</th>\n",
              "      <th>eu_sales</th>\n",
              "      <th>jp_sales</th>\n",
              "      <th>other_sales</th>\n",
              "      <th>critic_score</th>\n",
              "      <th>user_score</th>\n",
              "      <th>total_sales</th>\n",
              "    </tr>\n",
              "  </thead>\n",
              "  <tbody>\n",
              "    <tr>\n",
              "      <th>count</th>\n",
              "      <td>89.000000</td>\n",
              "      <td>89.000000</td>\n",
              "      <td>89.000000</td>\n",
              "      <td>89.000000</td>\n",
              "      <td>89.000000</td>\n",
              "      <td>89.000000</td>\n",
              "      <td>89.000000</td>\n",
              "      <td>89.000000</td>\n",
              "    </tr>\n",
              "    <tr>\n",
              "      <th>mean</th>\n",
              "      <td>2013.640449</td>\n",
              "      <td>0.344831</td>\n",
              "      <td>0.229438</td>\n",
              "      <td>0.114270</td>\n",
              "      <td>0.053933</td>\n",
              "      <td>70.674157</td>\n",
              "      <td>7.041573</td>\n",
              "      <td>0.742472</td>\n",
              "    </tr>\n",
              "    <tr>\n",
              "      <th>std</th>\n",
              "      <td>1.290236</td>\n",
              "      <td>0.549730</td>\n",
              "      <td>0.341096</td>\n",
              "      <td>0.282509</td>\n",
              "      <td>0.083307</td>\n",
              "      <td>14.762341</td>\n",
              "      <td>1.368959</td>\n",
              "      <td>1.215115</td>\n",
              "    </tr>\n",
              "    <tr>\n",
              "      <th>min</th>\n",
              "      <td>2012.000000</td>\n",
              "      <td>0.000000</td>\n",
              "      <td>0.000000</td>\n",
              "      <td>0.000000</td>\n",
              "      <td>0.000000</td>\n",
              "      <td>24.000000</td>\n",
              "      <td>2.700000</td>\n",
              "      <td>0.010000</td>\n",
              "    </tr>\n",
              "    <tr>\n",
              "      <th>25%</th>\n",
              "      <td>2013.000000</td>\n",
              "      <td>0.070000</td>\n",
              "      <td>0.040000</td>\n",
              "      <td>0.000000</td>\n",
              "      <td>0.010000</td>\n",
              "      <td>65.000000</td>\n",
              "      <td>6.400000</td>\n",
              "      <td>0.120000</td>\n",
              "    </tr>\n",
              "    <tr>\n",
              "      <th>50%</th>\n",
              "      <td>2013.000000</td>\n",
              "      <td>0.190000</td>\n",
              "      <td>0.120000</td>\n",
              "      <td>0.010000</td>\n",
              "      <td>0.030000</td>\n",
              "      <td>73.000000</td>\n",
              "      <td>7.400000</td>\n",
              "      <td>0.370000</td>\n",
              "    </tr>\n",
              "    <tr>\n",
              "      <th>75%</th>\n",
              "      <td>2015.000000</td>\n",
              "      <td>0.330000</td>\n",
              "      <td>0.270000</td>\n",
              "      <td>0.080000</td>\n",
              "      <td>0.050000</td>\n",
              "      <td>81.000000</td>\n",
              "      <td>8.000000</td>\n",
              "      <td>0.730000</td>\n",
              "    </tr>\n",
              "    <tr>\n",
              "      <th>max</th>\n",
              "      <td>2016.000000</td>\n",
              "      <td>3.150000</td>\n",
              "      <td>2.150000</td>\n",
              "      <td>1.460000</td>\n",
              "      <td>0.510000</td>\n",
              "      <td>93.000000</td>\n",
              "      <td>9.100000</td>\n",
              "      <td>7.090000</td>\n",
              "    </tr>\n",
              "  </tbody>\n",
              "</table>\n",
              "</div>\n",
              "      <button class=\"colab-df-convert\" onclick=\"convertToInteractive('df-ddafa4ae-f14d-4f5b-8d38-df9bf2fd5d19')\"\n",
              "              title=\"Convert this dataframe to an interactive table.\"\n",
              "              style=\"display:none;\">\n",
              "        \n",
              "  <svg xmlns=\"http://www.w3.org/2000/svg\" height=\"24px\"viewBox=\"0 0 24 24\"\n",
              "       width=\"24px\">\n",
              "    <path d=\"M0 0h24v24H0V0z\" fill=\"none\"/>\n",
              "    <path d=\"M18.56 5.44l.94 2.06.94-2.06 2.06-.94-2.06-.94-.94-2.06-.94 2.06-2.06.94zm-11 1L8.5 8.5l.94-2.06 2.06-.94-2.06-.94L8.5 2.5l-.94 2.06-2.06.94zm10 10l.94 2.06.94-2.06 2.06-.94-2.06-.94-.94-2.06-.94 2.06-2.06.94z\"/><path d=\"M17.41 7.96l-1.37-1.37c-.4-.4-.92-.59-1.43-.59-.52 0-1.04.2-1.43.59L10.3 9.45l-7.72 7.72c-.78.78-.78 2.05 0 2.83L4 21.41c.39.39.9.59 1.41.59.51 0 1.02-.2 1.41-.59l7.78-7.78 2.81-2.81c.8-.78.8-2.07 0-2.86zM5.41 20L4 18.59l7.72-7.72 1.47 1.35L5.41 20z\"/>\n",
              "  </svg>\n",
              "      </button>\n",
              "      \n",
              "  <style>\n",
              "    .colab-df-container {\n",
              "      display:flex;\n",
              "      flex-wrap:wrap;\n",
              "      gap: 12px;\n",
              "    }\n",
              "\n",
              "    .colab-df-convert {\n",
              "      background-color: #E8F0FE;\n",
              "      border: none;\n",
              "      border-radius: 50%;\n",
              "      cursor: pointer;\n",
              "      display: none;\n",
              "      fill: #1967D2;\n",
              "      height: 32px;\n",
              "      padding: 0 0 0 0;\n",
              "      width: 32px;\n",
              "    }\n",
              "\n",
              "    .colab-df-convert:hover {\n",
              "      background-color: #E2EBFA;\n",
              "      box-shadow: 0px 1px 2px rgba(60, 64, 67, 0.3), 0px 1px 3px 1px rgba(60, 64, 67, 0.15);\n",
              "      fill: #174EA6;\n",
              "    }\n",
              "\n",
              "    [theme=dark] .colab-df-convert {\n",
              "      background-color: #3B4455;\n",
              "      fill: #D2E3FC;\n",
              "    }\n",
              "\n",
              "    [theme=dark] .colab-df-convert:hover {\n",
              "      background-color: #434B5C;\n",
              "      box-shadow: 0px 1px 3px 1px rgba(0, 0, 0, 0.15);\n",
              "      filter: drop-shadow(0px 1px 2px rgba(0, 0, 0, 0.3));\n",
              "      fill: #FFFFFF;\n",
              "    }\n",
              "  </style>\n",
              "\n",
              "      <script>\n",
              "        const buttonEl =\n",
              "          document.querySelector('#df-ddafa4ae-f14d-4f5b-8d38-df9bf2fd5d19 button.colab-df-convert');\n",
              "        buttonEl.style.display =\n",
              "          google.colab.kernel.accessAllowed ? 'block' : 'none';\n",
              "\n",
              "        async function convertToInteractive(key) {\n",
              "          const element = document.querySelector('#df-ddafa4ae-f14d-4f5b-8d38-df9bf2fd5d19');\n",
              "          const dataTable =\n",
              "            await google.colab.kernel.invokeFunction('convertToInteractive',\n",
              "                                                     [key], {});\n",
              "          if (!dataTable) return;\n",
              "\n",
              "          const docLinkHtml = 'Like what you see? Visit the ' +\n",
              "            '<a target=\"_blank\" href=https://colab.research.google.com/notebooks/data_table.ipynb>data table notebook</a>'\n",
              "            + ' to learn more about interactive tables.';\n",
              "          element.innerHTML = '';\n",
              "          dataTable['output_type'] = 'display_data';\n",
              "          await google.colab.output.renderOutput(dataTable, element);\n",
              "          const docLink = document.createElement('div');\n",
              "          docLink.innerHTML = docLinkHtml;\n",
              "          element.appendChild(docLink);\n",
              "        }\n",
              "      </script>\n",
              "    </div>\n",
              "  </div>\n",
              "  "
            ]
          },
          "metadata": {}
        },
        {
          "output_type": "stream",
          "name": "stdout",
          "text": [
            "-------------------------------------------------\n",
            "статистические характеристики платформы: Wii\n",
            "-------------------------------------------------\n"
          ]
        },
        {
          "output_type": "display_data",
          "data": {
            "text/plain": [
              "       year_of_release  na_sales  eu_sales  jp_sales  other_sales  \\\n",
              "count              5.0  5.000000  5.000000  5.000000     5.000000   \n",
              "mean            2012.0  1.406000  0.820000  0.218000     0.202000   \n",
              "std                0.0  1.577444  0.891768  0.334993     0.218792   \n",
              "min             2012.0  0.110000  0.000000  0.000000     0.010000   \n",
              "25%             2012.0  0.330000  0.020000  0.000000     0.020000   \n",
              "50%             2012.0  1.060000  0.830000  0.000000     0.210000   \n",
              "75%             2012.0  1.480000  1.090000  0.330000     0.220000   \n",
              "max             2012.0  4.050000  2.160000  0.760000     0.550000   \n",
              "\n",
              "       critic_score  user_score  total_sales  \n",
              "count      5.000000    5.000000     5.000000  \n",
              "mean      76.200000    7.180000     2.646000  \n",
              "std        3.768289    1.025671     2.613442  \n",
              "min       73.000000    6.000000     0.140000  \n",
              "25%       74.000000    6.800000     0.680000  \n",
              "50%       74.000000    7.000000     2.520000  \n",
              "75%       78.000000    7.300000     3.130000  \n",
              "max       82.000000    8.800000     6.760000  "
            ],
            "text/html": [
              "\n",
              "  <div id=\"df-5fb734b4-c24a-40fa-98a2-04146fdcebed\">\n",
              "    <div class=\"colab-df-container\">\n",
              "      <div>\n",
              "<style scoped>\n",
              "    .dataframe tbody tr th:only-of-type {\n",
              "        vertical-align: middle;\n",
              "    }\n",
              "\n",
              "    .dataframe tbody tr th {\n",
              "        vertical-align: top;\n",
              "    }\n",
              "\n",
              "    .dataframe thead th {\n",
              "        text-align: right;\n",
              "    }\n",
              "</style>\n",
              "<table border=\"1\" class=\"dataframe\">\n",
              "  <thead>\n",
              "    <tr style=\"text-align: right;\">\n",
              "      <th></th>\n",
              "      <th>year_of_release</th>\n",
              "      <th>na_sales</th>\n",
              "      <th>eu_sales</th>\n",
              "      <th>jp_sales</th>\n",
              "      <th>other_sales</th>\n",
              "      <th>critic_score</th>\n",
              "      <th>user_score</th>\n",
              "      <th>total_sales</th>\n",
              "    </tr>\n",
              "  </thead>\n",
              "  <tbody>\n",
              "    <tr>\n",
              "      <th>count</th>\n",
              "      <td>5.0</td>\n",
              "      <td>5.000000</td>\n",
              "      <td>5.000000</td>\n",
              "      <td>5.000000</td>\n",
              "      <td>5.000000</td>\n",
              "      <td>5.000000</td>\n",
              "      <td>5.000000</td>\n",
              "      <td>5.000000</td>\n",
              "    </tr>\n",
              "    <tr>\n",
              "      <th>mean</th>\n",
              "      <td>2012.0</td>\n",
              "      <td>1.406000</td>\n",
              "      <td>0.820000</td>\n",
              "      <td>0.218000</td>\n",
              "      <td>0.202000</td>\n",
              "      <td>76.200000</td>\n",
              "      <td>7.180000</td>\n",
              "      <td>2.646000</td>\n",
              "    </tr>\n",
              "    <tr>\n",
              "      <th>std</th>\n",
              "      <td>0.0</td>\n",
              "      <td>1.577444</td>\n",
              "      <td>0.891768</td>\n",
              "      <td>0.334993</td>\n",
              "      <td>0.218792</td>\n",
              "      <td>3.768289</td>\n",
              "      <td>1.025671</td>\n",
              "      <td>2.613442</td>\n",
              "    </tr>\n",
              "    <tr>\n",
              "      <th>min</th>\n",
              "      <td>2012.0</td>\n",
              "      <td>0.110000</td>\n",
              "      <td>0.000000</td>\n",
              "      <td>0.000000</td>\n",
              "      <td>0.010000</td>\n",
              "      <td>73.000000</td>\n",
              "      <td>6.000000</td>\n",
              "      <td>0.140000</td>\n",
              "    </tr>\n",
              "    <tr>\n",
              "      <th>25%</th>\n",
              "      <td>2012.0</td>\n",
              "      <td>0.330000</td>\n",
              "      <td>0.020000</td>\n",
              "      <td>0.000000</td>\n",
              "      <td>0.020000</td>\n",
              "      <td>74.000000</td>\n",
              "      <td>6.800000</td>\n",
              "      <td>0.680000</td>\n",
              "    </tr>\n",
              "    <tr>\n",
              "      <th>50%</th>\n",
              "      <td>2012.0</td>\n",
              "      <td>1.060000</td>\n",
              "      <td>0.830000</td>\n",
              "      <td>0.000000</td>\n",
              "      <td>0.210000</td>\n",
              "      <td>74.000000</td>\n",
              "      <td>7.000000</td>\n",
              "      <td>2.520000</td>\n",
              "    </tr>\n",
              "    <tr>\n",
              "      <th>75%</th>\n",
              "      <td>2012.0</td>\n",
              "      <td>1.480000</td>\n",
              "      <td>1.090000</td>\n",
              "      <td>0.330000</td>\n",
              "      <td>0.220000</td>\n",
              "      <td>78.000000</td>\n",
              "      <td>7.300000</td>\n",
              "      <td>3.130000</td>\n",
              "    </tr>\n",
              "    <tr>\n",
              "      <th>max</th>\n",
              "      <td>2012.0</td>\n",
              "      <td>4.050000</td>\n",
              "      <td>2.160000</td>\n",
              "      <td>0.760000</td>\n",
              "      <td>0.550000</td>\n",
              "      <td>82.000000</td>\n",
              "      <td>8.800000</td>\n",
              "      <td>6.760000</td>\n",
              "    </tr>\n",
              "  </tbody>\n",
              "</table>\n",
              "</div>\n",
              "      <button class=\"colab-df-convert\" onclick=\"convertToInteractive('df-5fb734b4-c24a-40fa-98a2-04146fdcebed')\"\n",
              "              title=\"Convert this dataframe to an interactive table.\"\n",
              "              style=\"display:none;\">\n",
              "        \n",
              "  <svg xmlns=\"http://www.w3.org/2000/svg\" height=\"24px\"viewBox=\"0 0 24 24\"\n",
              "       width=\"24px\">\n",
              "    <path d=\"M0 0h24v24H0V0z\" fill=\"none\"/>\n",
              "    <path d=\"M18.56 5.44l.94 2.06.94-2.06 2.06-.94-2.06-.94-.94-2.06-.94 2.06-2.06.94zm-11 1L8.5 8.5l.94-2.06 2.06-.94-2.06-.94L8.5 2.5l-.94 2.06-2.06.94zm10 10l.94 2.06.94-2.06 2.06-.94-2.06-.94-.94-2.06-.94 2.06-2.06.94z\"/><path d=\"M17.41 7.96l-1.37-1.37c-.4-.4-.92-.59-1.43-.59-.52 0-1.04.2-1.43.59L10.3 9.45l-7.72 7.72c-.78.78-.78 2.05 0 2.83L4 21.41c.39.39.9.59 1.41.59.51 0 1.02-.2 1.41-.59l7.78-7.78 2.81-2.81c.8-.78.8-2.07 0-2.86zM5.41 20L4 18.59l7.72-7.72 1.47 1.35L5.41 20z\"/>\n",
              "  </svg>\n",
              "      </button>\n",
              "      \n",
              "  <style>\n",
              "    .colab-df-container {\n",
              "      display:flex;\n",
              "      flex-wrap:wrap;\n",
              "      gap: 12px;\n",
              "    }\n",
              "\n",
              "    .colab-df-convert {\n",
              "      background-color: #E8F0FE;\n",
              "      border: none;\n",
              "      border-radius: 50%;\n",
              "      cursor: pointer;\n",
              "      display: none;\n",
              "      fill: #1967D2;\n",
              "      height: 32px;\n",
              "      padding: 0 0 0 0;\n",
              "      width: 32px;\n",
              "    }\n",
              "\n",
              "    .colab-df-convert:hover {\n",
              "      background-color: #E2EBFA;\n",
              "      box-shadow: 0px 1px 2px rgba(60, 64, 67, 0.3), 0px 1px 3px 1px rgba(60, 64, 67, 0.15);\n",
              "      fill: #174EA6;\n",
              "    }\n",
              "\n",
              "    [theme=dark] .colab-df-convert {\n",
              "      background-color: #3B4455;\n",
              "      fill: #D2E3FC;\n",
              "    }\n",
              "\n",
              "    [theme=dark] .colab-df-convert:hover {\n",
              "      background-color: #434B5C;\n",
              "      box-shadow: 0px 1px 3px 1px rgba(0, 0, 0, 0.15);\n",
              "      filter: drop-shadow(0px 1px 2px rgba(0, 0, 0, 0.3));\n",
              "      fill: #FFFFFF;\n",
              "    }\n",
              "  </style>\n",
              "\n",
              "      <script>\n",
              "        const buttonEl =\n",
              "          document.querySelector('#df-5fb734b4-c24a-40fa-98a2-04146fdcebed button.colab-df-convert');\n",
              "        buttonEl.style.display =\n",
              "          google.colab.kernel.accessAllowed ? 'block' : 'none';\n",
              "\n",
              "        async function convertToInteractive(key) {\n",
              "          const element = document.querySelector('#df-5fb734b4-c24a-40fa-98a2-04146fdcebed');\n",
              "          const dataTable =\n",
              "            await google.colab.kernel.invokeFunction('convertToInteractive',\n",
              "                                                     [key], {});\n",
              "          if (!dataTable) return;\n",
              "\n",
              "          const docLinkHtml = 'Like what you see? Visit the ' +\n",
              "            '<a target=\"_blank\" href=https://colab.research.google.com/notebooks/data_table.ipynb>data table notebook</a>'\n",
              "            + ' to learn more about interactive tables.';\n",
              "          element.innerHTML = '';\n",
              "          dataTable['output_type'] = 'display_data';\n",
              "          await google.colab.output.renderOutput(dataTable, element);\n",
              "          const docLink = document.createElement('div');\n",
              "          docLink.innerHTML = docLinkHtml;\n",
              "          element.appendChild(docLink);\n",
              "        }\n",
              "      </script>\n",
              "    </div>\n",
              "  </div>\n",
              "  "
            ]
          },
          "metadata": {}
        },
        {
          "output_type": "stream",
          "name": "stdout",
          "text": [
            "-------------------------------------------------\n",
            "статистические характеристики платформы: PC\n",
            "-------------------------------------------------\n"
          ]
        },
        {
          "output_type": "display_data",
          "data": {
            "text/plain": [
              "       year_of_release    na_sales    eu_sales  jp_sales  other_sales  \\\n",
              "count       197.000000  197.000000  197.000000     197.0   197.000000   \n",
              "mean       2013.959391    0.089949    0.171117       0.0     0.027259   \n",
              "std           1.501148    0.232055    0.271890       0.0     0.057637   \n",
              "min        2012.000000    0.000000    0.000000       0.0     0.000000   \n",
              "25%        2013.000000    0.000000    0.030000       0.0     0.000000   \n",
              "50%        2014.000000    0.010000    0.080000       0.0     0.010000   \n",
              "75%        2015.000000    0.090000    0.160000       0.0     0.030000   \n",
              "max        2016.000000    2.440000    2.160000       0.0     0.540000   \n",
              "\n",
              "       critic_score  user_score  total_sales  \n",
              "count    197.000000  197.000000   197.000000  \n",
              "mean      75.878173    6.454315     0.288325  \n",
              "std       10.400421    1.639451     0.539578  \n",
              "min       33.000000    1.400000     0.010000  \n",
              "25%       71.000000    5.500000     0.040000  \n",
              "50%       78.000000    6.800000     0.120000  \n",
              "75%       83.000000    7.700000     0.290000  \n",
              "max       96.000000    9.300000     5.140000  "
            ],
            "text/html": [
              "\n",
              "  <div id=\"df-a9857923-13c5-438d-98e8-61dc4d4e1452\">\n",
              "    <div class=\"colab-df-container\">\n",
              "      <div>\n",
              "<style scoped>\n",
              "    .dataframe tbody tr th:only-of-type {\n",
              "        vertical-align: middle;\n",
              "    }\n",
              "\n",
              "    .dataframe tbody tr th {\n",
              "        vertical-align: top;\n",
              "    }\n",
              "\n",
              "    .dataframe thead th {\n",
              "        text-align: right;\n",
              "    }\n",
              "</style>\n",
              "<table border=\"1\" class=\"dataframe\">\n",
              "  <thead>\n",
              "    <tr style=\"text-align: right;\">\n",
              "      <th></th>\n",
              "      <th>year_of_release</th>\n",
              "      <th>na_sales</th>\n",
              "      <th>eu_sales</th>\n",
              "      <th>jp_sales</th>\n",
              "      <th>other_sales</th>\n",
              "      <th>critic_score</th>\n",
              "      <th>user_score</th>\n",
              "      <th>total_sales</th>\n",
              "    </tr>\n",
              "  </thead>\n",
              "  <tbody>\n",
              "    <tr>\n",
              "      <th>count</th>\n",
              "      <td>197.000000</td>\n",
              "      <td>197.000000</td>\n",
              "      <td>197.000000</td>\n",
              "      <td>197.0</td>\n",
              "      <td>197.000000</td>\n",
              "      <td>197.000000</td>\n",
              "      <td>197.000000</td>\n",
              "      <td>197.000000</td>\n",
              "    </tr>\n",
              "    <tr>\n",
              "      <th>mean</th>\n",
              "      <td>2013.959391</td>\n",
              "      <td>0.089949</td>\n",
              "      <td>0.171117</td>\n",
              "      <td>0.0</td>\n",
              "      <td>0.027259</td>\n",
              "      <td>75.878173</td>\n",
              "      <td>6.454315</td>\n",
              "      <td>0.288325</td>\n",
              "    </tr>\n",
              "    <tr>\n",
              "      <th>std</th>\n",
              "      <td>1.501148</td>\n",
              "      <td>0.232055</td>\n",
              "      <td>0.271890</td>\n",
              "      <td>0.0</td>\n",
              "      <td>0.057637</td>\n",
              "      <td>10.400421</td>\n",
              "      <td>1.639451</td>\n",
              "      <td>0.539578</td>\n",
              "    </tr>\n",
              "    <tr>\n",
              "      <th>min</th>\n",
              "      <td>2012.000000</td>\n",
              "      <td>0.000000</td>\n",
              "      <td>0.000000</td>\n",
              "      <td>0.0</td>\n",
              "      <td>0.000000</td>\n",
              "      <td>33.000000</td>\n",
              "      <td>1.400000</td>\n",
              "      <td>0.010000</td>\n",
              "    </tr>\n",
              "    <tr>\n",
              "      <th>25%</th>\n",
              "      <td>2013.000000</td>\n",
              "      <td>0.000000</td>\n",
              "      <td>0.030000</td>\n",
              "      <td>0.0</td>\n",
              "      <td>0.000000</td>\n",
              "      <td>71.000000</td>\n",
              "      <td>5.500000</td>\n",
              "      <td>0.040000</td>\n",
              "    </tr>\n",
              "    <tr>\n",
              "      <th>50%</th>\n",
              "      <td>2014.000000</td>\n",
              "      <td>0.010000</td>\n",
              "      <td>0.080000</td>\n",
              "      <td>0.0</td>\n",
              "      <td>0.010000</td>\n",
              "      <td>78.000000</td>\n",
              "      <td>6.800000</td>\n",
              "      <td>0.120000</td>\n",
              "    </tr>\n",
              "    <tr>\n",
              "      <th>75%</th>\n",
              "      <td>2015.000000</td>\n",
              "      <td>0.090000</td>\n",
              "      <td>0.160000</td>\n",
              "      <td>0.0</td>\n",
              "      <td>0.030000</td>\n",
              "      <td>83.000000</td>\n",
              "      <td>7.700000</td>\n",
              "      <td>0.290000</td>\n",
              "    </tr>\n",
              "    <tr>\n",
              "      <th>max</th>\n",
              "      <td>2016.000000</td>\n",
              "      <td>2.440000</td>\n",
              "      <td>2.160000</td>\n",
              "      <td>0.0</td>\n",
              "      <td>0.540000</td>\n",
              "      <td>96.000000</td>\n",
              "      <td>9.300000</td>\n",
              "      <td>5.140000</td>\n",
              "    </tr>\n",
              "  </tbody>\n",
              "</table>\n",
              "</div>\n",
              "      <button class=\"colab-df-convert\" onclick=\"convertToInteractive('df-a9857923-13c5-438d-98e8-61dc4d4e1452')\"\n",
              "              title=\"Convert this dataframe to an interactive table.\"\n",
              "              style=\"display:none;\">\n",
              "        \n",
              "  <svg xmlns=\"http://www.w3.org/2000/svg\" height=\"24px\"viewBox=\"0 0 24 24\"\n",
              "       width=\"24px\">\n",
              "    <path d=\"M0 0h24v24H0V0z\" fill=\"none\"/>\n",
              "    <path d=\"M18.56 5.44l.94 2.06.94-2.06 2.06-.94-2.06-.94-.94-2.06-.94 2.06-2.06.94zm-11 1L8.5 8.5l.94-2.06 2.06-.94-2.06-.94L8.5 2.5l-.94 2.06-2.06.94zm10 10l.94 2.06.94-2.06 2.06-.94-2.06-.94-.94-2.06-.94 2.06-2.06.94z\"/><path d=\"M17.41 7.96l-1.37-1.37c-.4-.4-.92-.59-1.43-.59-.52 0-1.04.2-1.43.59L10.3 9.45l-7.72 7.72c-.78.78-.78 2.05 0 2.83L4 21.41c.39.39.9.59 1.41.59.51 0 1.02-.2 1.41-.59l7.78-7.78 2.81-2.81c.8-.78.8-2.07 0-2.86zM5.41 20L4 18.59l7.72-7.72 1.47 1.35L5.41 20z\"/>\n",
              "  </svg>\n",
              "      </button>\n",
              "      \n",
              "  <style>\n",
              "    .colab-df-container {\n",
              "      display:flex;\n",
              "      flex-wrap:wrap;\n",
              "      gap: 12px;\n",
              "    }\n",
              "\n",
              "    .colab-df-convert {\n",
              "      background-color: #E8F0FE;\n",
              "      border: none;\n",
              "      border-radius: 50%;\n",
              "      cursor: pointer;\n",
              "      display: none;\n",
              "      fill: #1967D2;\n",
              "      height: 32px;\n",
              "      padding: 0 0 0 0;\n",
              "      width: 32px;\n",
              "    }\n",
              "\n",
              "    .colab-df-convert:hover {\n",
              "      background-color: #E2EBFA;\n",
              "      box-shadow: 0px 1px 2px rgba(60, 64, 67, 0.3), 0px 1px 3px 1px rgba(60, 64, 67, 0.15);\n",
              "      fill: #174EA6;\n",
              "    }\n",
              "\n",
              "    [theme=dark] .colab-df-convert {\n",
              "      background-color: #3B4455;\n",
              "      fill: #D2E3FC;\n",
              "    }\n",
              "\n",
              "    [theme=dark] .colab-df-convert:hover {\n",
              "      background-color: #434B5C;\n",
              "      box-shadow: 0px 1px 3px 1px rgba(0, 0, 0, 0.15);\n",
              "      filter: drop-shadow(0px 1px 2px rgba(0, 0, 0, 0.3));\n",
              "      fill: #FFFFFF;\n",
              "    }\n",
              "  </style>\n",
              "\n",
              "      <script>\n",
              "        const buttonEl =\n",
              "          document.querySelector('#df-a9857923-13c5-438d-98e8-61dc4d4e1452 button.colab-df-convert');\n",
              "        buttonEl.style.display =\n",
              "          google.colab.kernel.accessAllowed ? 'block' : 'none';\n",
              "\n",
              "        async function convertToInteractive(key) {\n",
              "          const element = document.querySelector('#df-a9857923-13c5-438d-98e8-61dc4d4e1452');\n",
              "          const dataTable =\n",
              "            await google.colab.kernel.invokeFunction('convertToInteractive',\n",
              "                                                     [key], {});\n",
              "          if (!dataTable) return;\n",
              "\n",
              "          const docLinkHtml = 'Like what you see? Visit the ' +\n",
              "            '<a target=\"_blank\" href=https://colab.research.google.com/notebooks/data_table.ipynb>data table notebook</a>'\n",
              "            + ' to learn more about interactive tables.';\n",
              "          element.innerHTML = '';\n",
              "          dataTable['output_type'] = 'display_data';\n",
              "          await google.colab.output.renderOutput(dataTable, element);\n",
              "          const docLink = document.createElement('div');\n",
              "          docLink.innerHTML = docLinkHtml;\n",
              "          element.appendChild(docLink);\n",
              "        }\n",
              "      </script>\n",
              "    </div>\n",
              "  </div>\n",
              "  "
            ]
          },
          "metadata": {}
        },
        {
          "output_type": "stream",
          "name": "stdout",
          "text": [
            "-------------------------------------------------\n",
            "статистические характеристики платформы: PSV\n",
            "-------------------------------------------------\n"
          ]
        },
        {
          "output_type": "display_data",
          "data": {
            "text/plain": [
              "       year_of_release    na_sales    eu_sales    jp_sales  other_sales  \\\n",
              "count       106.000000  106.000000  106.000000  106.000000   106.000000   \n",
              "mean       2013.528302    0.080377    0.069717    0.066509     0.037642   \n",
              "std           1.281424    0.116250    0.110621    0.078946     0.052145   \n",
              "min        2012.000000    0.000000    0.000000    0.000000     0.000000   \n",
              "25%        2012.000000    0.000000    0.010000    0.010000     0.010000   \n",
              "50%        2013.500000    0.040000    0.030000    0.040000     0.020000   \n",
              "75%        2014.000000    0.100000    0.080000    0.097500     0.040000   \n",
              "max        2016.000000    0.710000    0.610000    0.380000     0.270000   \n",
              "\n",
              "       critic_score  user_score  total_sales  \n",
              "count    106.000000  106.000000   106.000000  \n",
              "mean      71.339623    7.601887     0.254245  \n",
              "std       10.600887    0.975020     0.272012  \n",
              "min       33.000000    3.800000     0.010000  \n",
              "25%       64.250000    7.225000     0.090000  \n",
              "50%       72.000000    7.800000     0.170000  \n",
              "75%       78.750000    8.300000     0.327500  \n",
              "max       93.000000    9.300000     1.470000  "
            ],
            "text/html": [
              "\n",
              "  <div id=\"df-29dd5ef9-5c32-4d34-b6da-d2669d054248\">\n",
              "    <div class=\"colab-df-container\">\n",
              "      <div>\n",
              "<style scoped>\n",
              "    .dataframe tbody tr th:only-of-type {\n",
              "        vertical-align: middle;\n",
              "    }\n",
              "\n",
              "    .dataframe tbody tr th {\n",
              "        vertical-align: top;\n",
              "    }\n",
              "\n",
              "    .dataframe thead th {\n",
              "        text-align: right;\n",
              "    }\n",
              "</style>\n",
              "<table border=\"1\" class=\"dataframe\">\n",
              "  <thead>\n",
              "    <tr style=\"text-align: right;\">\n",
              "      <th></th>\n",
              "      <th>year_of_release</th>\n",
              "      <th>na_sales</th>\n",
              "      <th>eu_sales</th>\n",
              "      <th>jp_sales</th>\n",
              "      <th>other_sales</th>\n",
              "      <th>critic_score</th>\n",
              "      <th>user_score</th>\n",
              "      <th>total_sales</th>\n",
              "    </tr>\n",
              "  </thead>\n",
              "  <tbody>\n",
              "    <tr>\n",
              "      <th>count</th>\n",
              "      <td>106.000000</td>\n",
              "      <td>106.000000</td>\n",
              "      <td>106.000000</td>\n",
              "      <td>106.000000</td>\n",
              "      <td>106.000000</td>\n",
              "      <td>106.000000</td>\n",
              "      <td>106.000000</td>\n",
              "      <td>106.000000</td>\n",
              "    </tr>\n",
              "    <tr>\n",
              "      <th>mean</th>\n",
              "      <td>2013.528302</td>\n",
              "      <td>0.080377</td>\n",
              "      <td>0.069717</td>\n",
              "      <td>0.066509</td>\n",
              "      <td>0.037642</td>\n",
              "      <td>71.339623</td>\n",
              "      <td>7.601887</td>\n",
              "      <td>0.254245</td>\n",
              "    </tr>\n",
              "    <tr>\n",
              "      <th>std</th>\n",
              "      <td>1.281424</td>\n",
              "      <td>0.116250</td>\n",
              "      <td>0.110621</td>\n",
              "      <td>0.078946</td>\n",
              "      <td>0.052145</td>\n",
              "      <td>10.600887</td>\n",
              "      <td>0.975020</td>\n",
              "      <td>0.272012</td>\n",
              "    </tr>\n",
              "    <tr>\n",
              "      <th>min</th>\n",
              "      <td>2012.000000</td>\n",
              "      <td>0.000000</td>\n",
              "      <td>0.000000</td>\n",
              "      <td>0.000000</td>\n",
              "      <td>0.000000</td>\n",
              "      <td>33.000000</td>\n",
              "      <td>3.800000</td>\n",
              "      <td>0.010000</td>\n",
              "    </tr>\n",
              "    <tr>\n",
              "      <th>25%</th>\n",
              "      <td>2012.000000</td>\n",
              "      <td>0.000000</td>\n",
              "      <td>0.010000</td>\n",
              "      <td>0.010000</td>\n",
              "      <td>0.010000</td>\n",
              "      <td>64.250000</td>\n",
              "      <td>7.225000</td>\n",
              "      <td>0.090000</td>\n",
              "    </tr>\n",
              "    <tr>\n",
              "      <th>50%</th>\n",
              "      <td>2013.500000</td>\n",
              "      <td>0.040000</td>\n",
              "      <td>0.030000</td>\n",
              "      <td>0.040000</td>\n",
              "      <td>0.020000</td>\n",
              "      <td>72.000000</td>\n",
              "      <td>7.800000</td>\n",
              "      <td>0.170000</td>\n",
              "    </tr>\n",
              "    <tr>\n",
              "      <th>75%</th>\n",
              "      <td>2014.000000</td>\n",
              "      <td>0.100000</td>\n",
              "      <td>0.080000</td>\n",
              "      <td>0.097500</td>\n",
              "      <td>0.040000</td>\n",
              "      <td>78.750000</td>\n",
              "      <td>8.300000</td>\n",
              "      <td>0.327500</td>\n",
              "    </tr>\n",
              "    <tr>\n",
              "      <th>max</th>\n",
              "      <td>2016.000000</td>\n",
              "      <td>0.710000</td>\n",
              "      <td>0.610000</td>\n",
              "      <td>0.380000</td>\n",
              "      <td>0.270000</td>\n",
              "      <td>93.000000</td>\n",
              "      <td>9.300000</td>\n",
              "      <td>1.470000</td>\n",
              "    </tr>\n",
              "  </tbody>\n",
              "</table>\n",
              "</div>\n",
              "      <button class=\"colab-df-convert\" onclick=\"convertToInteractive('df-29dd5ef9-5c32-4d34-b6da-d2669d054248')\"\n",
              "              title=\"Convert this dataframe to an interactive table.\"\n",
              "              style=\"display:none;\">\n",
              "        \n",
              "  <svg xmlns=\"http://www.w3.org/2000/svg\" height=\"24px\"viewBox=\"0 0 24 24\"\n",
              "       width=\"24px\">\n",
              "    <path d=\"M0 0h24v24H0V0z\" fill=\"none\"/>\n",
              "    <path d=\"M18.56 5.44l.94 2.06.94-2.06 2.06-.94-2.06-.94-.94-2.06-.94 2.06-2.06.94zm-11 1L8.5 8.5l.94-2.06 2.06-.94-2.06-.94L8.5 2.5l-.94 2.06-2.06.94zm10 10l.94 2.06.94-2.06 2.06-.94-2.06-.94-.94-2.06-.94 2.06-2.06.94z\"/><path d=\"M17.41 7.96l-1.37-1.37c-.4-.4-.92-.59-1.43-.59-.52 0-1.04.2-1.43.59L10.3 9.45l-7.72 7.72c-.78.78-.78 2.05 0 2.83L4 21.41c.39.39.9.59 1.41.59.51 0 1.02-.2 1.41-.59l7.78-7.78 2.81-2.81c.8-.78.8-2.07 0-2.86zM5.41 20L4 18.59l7.72-7.72 1.47 1.35L5.41 20z\"/>\n",
              "  </svg>\n",
              "      </button>\n",
              "      \n",
              "  <style>\n",
              "    .colab-df-container {\n",
              "      display:flex;\n",
              "      flex-wrap:wrap;\n",
              "      gap: 12px;\n",
              "    }\n",
              "\n",
              "    .colab-df-convert {\n",
              "      background-color: #E8F0FE;\n",
              "      border: none;\n",
              "      border-radius: 50%;\n",
              "      cursor: pointer;\n",
              "      display: none;\n",
              "      fill: #1967D2;\n",
              "      height: 32px;\n",
              "      padding: 0 0 0 0;\n",
              "      width: 32px;\n",
              "    }\n",
              "\n",
              "    .colab-df-convert:hover {\n",
              "      background-color: #E2EBFA;\n",
              "      box-shadow: 0px 1px 2px rgba(60, 64, 67, 0.3), 0px 1px 3px 1px rgba(60, 64, 67, 0.15);\n",
              "      fill: #174EA6;\n",
              "    }\n",
              "\n",
              "    [theme=dark] .colab-df-convert {\n",
              "      background-color: #3B4455;\n",
              "      fill: #D2E3FC;\n",
              "    }\n",
              "\n",
              "    [theme=dark] .colab-df-convert:hover {\n",
              "      background-color: #434B5C;\n",
              "      box-shadow: 0px 1px 3px 1px rgba(0, 0, 0, 0.15);\n",
              "      filter: drop-shadow(0px 1px 2px rgba(0, 0, 0, 0.3));\n",
              "      fill: #FFFFFF;\n",
              "    }\n",
              "  </style>\n",
              "\n",
              "      <script>\n",
              "        const buttonEl =\n",
              "          document.querySelector('#df-29dd5ef9-5c32-4d34-b6da-d2669d054248 button.colab-df-convert');\n",
              "        buttonEl.style.display =\n",
              "          google.colab.kernel.accessAllowed ? 'block' : 'none';\n",
              "\n",
              "        async function convertToInteractive(key) {\n",
              "          const element = document.querySelector('#df-29dd5ef9-5c32-4d34-b6da-d2669d054248');\n",
              "          const dataTable =\n",
              "            await google.colab.kernel.invokeFunction('convertToInteractive',\n",
              "                                                     [key], {});\n",
              "          if (!dataTable) return;\n",
              "\n",
              "          const docLinkHtml = 'Like what you see? Visit the ' +\n",
              "            '<a target=\"_blank\" href=https://colab.research.google.com/notebooks/data_table.ipynb>data table notebook</a>'\n",
              "            + ' to learn more about interactive tables.';\n",
              "          element.innerHTML = '';\n",
              "          dataTable['output_type'] = 'display_data';\n",
              "          await google.colab.output.renderOutput(dataTable, element);\n",
              "          const docLink = document.createElement('div');\n",
              "          docLink.innerHTML = docLinkHtml;\n",
              "          element.appendChild(docLink);\n",
              "        }\n",
              "      </script>\n",
              "    </div>\n",
              "  </div>\n",
              "  "
            ]
          },
          "metadata": {}
        },
        {
          "output_type": "stream",
          "name": "stdout",
          "text": [
            "-------------------------------------------------\n",
            "статистические характеристики платформы: PSP\n",
            "-------------------------------------------------\n"
          ]
        },
        {
          "output_type": "display_data",
          "data": {
            "text/plain": [
              "       year_of_release  na_sales  eu_sales  jp_sales  other_sales  \\\n",
              "count              1.0       1.0       1.0      1.00          1.0   \n",
              "mean            2013.0       0.0       0.0      0.15          0.0   \n",
              "std                NaN       NaN       NaN       NaN          NaN   \n",
              "min             2013.0       0.0       0.0      0.15          0.0   \n",
              "25%             2013.0       0.0       0.0      0.15          0.0   \n",
              "50%             2013.0       0.0       0.0      0.15          0.0   \n",
              "75%             2013.0       0.0       0.0      0.15          0.0   \n",
              "max             2013.0       0.0       0.0      0.15          0.0   \n",
              "\n",
              "       critic_score  user_score  total_sales  \n",
              "count           1.0         1.0         1.00  \n",
              "mean           74.0         8.3         0.15  \n",
              "std             NaN         NaN          NaN  \n",
              "min            74.0         8.3         0.15  \n",
              "25%            74.0         8.3         0.15  \n",
              "50%            74.0         8.3         0.15  \n",
              "75%            74.0         8.3         0.15  \n",
              "max            74.0         8.3         0.15  "
            ],
            "text/html": [
              "\n",
              "  <div id=\"df-77f12f5b-4856-46f9-b065-245af007f748\">\n",
              "    <div class=\"colab-df-container\">\n",
              "      <div>\n",
              "<style scoped>\n",
              "    .dataframe tbody tr th:only-of-type {\n",
              "        vertical-align: middle;\n",
              "    }\n",
              "\n",
              "    .dataframe tbody tr th {\n",
              "        vertical-align: top;\n",
              "    }\n",
              "\n",
              "    .dataframe thead th {\n",
              "        text-align: right;\n",
              "    }\n",
              "</style>\n",
              "<table border=\"1\" class=\"dataframe\">\n",
              "  <thead>\n",
              "    <tr style=\"text-align: right;\">\n",
              "      <th></th>\n",
              "      <th>year_of_release</th>\n",
              "      <th>na_sales</th>\n",
              "      <th>eu_sales</th>\n",
              "      <th>jp_sales</th>\n",
              "      <th>other_sales</th>\n",
              "      <th>critic_score</th>\n",
              "      <th>user_score</th>\n",
              "      <th>total_sales</th>\n",
              "    </tr>\n",
              "  </thead>\n",
              "  <tbody>\n",
              "    <tr>\n",
              "      <th>count</th>\n",
              "      <td>1.0</td>\n",
              "      <td>1.0</td>\n",
              "      <td>1.0</td>\n",
              "      <td>1.00</td>\n",
              "      <td>1.0</td>\n",
              "      <td>1.0</td>\n",
              "      <td>1.0</td>\n",
              "      <td>1.00</td>\n",
              "    </tr>\n",
              "    <tr>\n",
              "      <th>mean</th>\n",
              "      <td>2013.0</td>\n",
              "      <td>0.0</td>\n",
              "      <td>0.0</td>\n",
              "      <td>0.15</td>\n",
              "      <td>0.0</td>\n",
              "      <td>74.0</td>\n",
              "      <td>8.3</td>\n",
              "      <td>0.15</td>\n",
              "    </tr>\n",
              "    <tr>\n",
              "      <th>std</th>\n",
              "      <td>NaN</td>\n",
              "      <td>NaN</td>\n",
              "      <td>NaN</td>\n",
              "      <td>NaN</td>\n",
              "      <td>NaN</td>\n",
              "      <td>NaN</td>\n",
              "      <td>NaN</td>\n",
              "      <td>NaN</td>\n",
              "    </tr>\n",
              "    <tr>\n",
              "      <th>min</th>\n",
              "      <td>2013.0</td>\n",
              "      <td>0.0</td>\n",
              "      <td>0.0</td>\n",
              "      <td>0.15</td>\n",
              "      <td>0.0</td>\n",
              "      <td>74.0</td>\n",
              "      <td>8.3</td>\n",
              "      <td>0.15</td>\n",
              "    </tr>\n",
              "    <tr>\n",
              "      <th>25%</th>\n",
              "      <td>2013.0</td>\n",
              "      <td>0.0</td>\n",
              "      <td>0.0</td>\n",
              "      <td>0.15</td>\n",
              "      <td>0.0</td>\n",
              "      <td>74.0</td>\n",
              "      <td>8.3</td>\n",
              "      <td>0.15</td>\n",
              "    </tr>\n",
              "    <tr>\n",
              "      <th>50%</th>\n",
              "      <td>2013.0</td>\n",
              "      <td>0.0</td>\n",
              "      <td>0.0</td>\n",
              "      <td>0.15</td>\n",
              "      <td>0.0</td>\n",
              "      <td>74.0</td>\n",
              "      <td>8.3</td>\n",
              "      <td>0.15</td>\n",
              "    </tr>\n",
              "    <tr>\n",
              "      <th>75%</th>\n",
              "      <td>2013.0</td>\n",
              "      <td>0.0</td>\n",
              "      <td>0.0</td>\n",
              "      <td>0.15</td>\n",
              "      <td>0.0</td>\n",
              "      <td>74.0</td>\n",
              "      <td>8.3</td>\n",
              "      <td>0.15</td>\n",
              "    </tr>\n",
              "    <tr>\n",
              "      <th>max</th>\n",
              "      <td>2013.0</td>\n",
              "      <td>0.0</td>\n",
              "      <td>0.0</td>\n",
              "      <td>0.15</td>\n",
              "      <td>0.0</td>\n",
              "      <td>74.0</td>\n",
              "      <td>8.3</td>\n",
              "      <td>0.15</td>\n",
              "    </tr>\n",
              "  </tbody>\n",
              "</table>\n",
              "</div>\n",
              "      <button class=\"colab-df-convert\" onclick=\"convertToInteractive('df-77f12f5b-4856-46f9-b065-245af007f748')\"\n",
              "              title=\"Convert this dataframe to an interactive table.\"\n",
              "              style=\"display:none;\">\n",
              "        \n",
              "  <svg xmlns=\"http://www.w3.org/2000/svg\" height=\"24px\"viewBox=\"0 0 24 24\"\n",
              "       width=\"24px\">\n",
              "    <path d=\"M0 0h24v24H0V0z\" fill=\"none\"/>\n",
              "    <path d=\"M18.56 5.44l.94 2.06.94-2.06 2.06-.94-2.06-.94-.94-2.06-.94 2.06-2.06.94zm-11 1L8.5 8.5l.94-2.06 2.06-.94-2.06-.94L8.5 2.5l-.94 2.06-2.06.94zm10 10l.94 2.06.94-2.06 2.06-.94-2.06-.94-.94-2.06-.94 2.06-2.06.94z\"/><path d=\"M17.41 7.96l-1.37-1.37c-.4-.4-.92-.59-1.43-.59-.52 0-1.04.2-1.43.59L10.3 9.45l-7.72 7.72c-.78.78-.78 2.05 0 2.83L4 21.41c.39.39.9.59 1.41.59.51 0 1.02-.2 1.41-.59l7.78-7.78 2.81-2.81c.8-.78.8-2.07 0-2.86zM5.41 20L4 18.59l7.72-7.72 1.47 1.35L5.41 20z\"/>\n",
              "  </svg>\n",
              "      </button>\n",
              "      \n",
              "  <style>\n",
              "    .colab-df-container {\n",
              "      display:flex;\n",
              "      flex-wrap:wrap;\n",
              "      gap: 12px;\n",
              "    }\n",
              "\n",
              "    .colab-df-convert {\n",
              "      background-color: #E8F0FE;\n",
              "      border: none;\n",
              "      border-radius: 50%;\n",
              "      cursor: pointer;\n",
              "      display: none;\n",
              "      fill: #1967D2;\n",
              "      height: 32px;\n",
              "      padding: 0 0 0 0;\n",
              "      width: 32px;\n",
              "    }\n",
              "\n",
              "    .colab-df-convert:hover {\n",
              "      background-color: #E2EBFA;\n",
              "      box-shadow: 0px 1px 2px rgba(60, 64, 67, 0.3), 0px 1px 3px 1px rgba(60, 64, 67, 0.15);\n",
              "      fill: #174EA6;\n",
              "    }\n",
              "\n",
              "    [theme=dark] .colab-df-convert {\n",
              "      background-color: #3B4455;\n",
              "      fill: #D2E3FC;\n",
              "    }\n",
              "\n",
              "    [theme=dark] .colab-df-convert:hover {\n",
              "      background-color: #434B5C;\n",
              "      box-shadow: 0px 1px 3px 1px rgba(0, 0, 0, 0.15);\n",
              "      filter: drop-shadow(0px 1px 2px rgba(0, 0, 0, 0.3));\n",
              "      fill: #FFFFFF;\n",
              "    }\n",
              "  </style>\n",
              "\n",
              "      <script>\n",
              "        const buttonEl =\n",
              "          document.querySelector('#df-77f12f5b-4856-46f9-b065-245af007f748 button.colab-df-convert');\n",
              "        buttonEl.style.display =\n",
              "          google.colab.kernel.accessAllowed ? 'block' : 'none';\n",
              "\n",
              "        async function convertToInteractive(key) {\n",
              "          const element = document.querySelector('#df-77f12f5b-4856-46f9-b065-245af007f748');\n",
              "          const dataTable =\n",
              "            await google.colab.kernel.invokeFunction('convertToInteractive',\n",
              "                                                     [key], {});\n",
              "          if (!dataTable) return;\n",
              "\n",
              "          const docLinkHtml = 'Like what you see? Visit the ' +\n",
              "            '<a target=\"_blank\" href=https://colab.research.google.com/notebooks/data_table.ipynb>data table notebook</a>'\n",
              "            + ' to learn more about interactive tables.';\n",
              "          element.innerHTML = '';\n",
              "          dataTable['output_type'] = 'display_data';\n",
              "          await google.colab.output.renderOutput(dataTable, element);\n",
              "          const docLink = document.createElement('div');\n",
              "          docLink.innerHTML = docLinkHtml;\n",
              "          element.appendChild(docLink);\n",
              "        }\n",
              "      </script>\n",
              "    </div>\n",
              "  </div>\n",
              "  "
            ]
          },
          "metadata": {}
        }
      ],
      "source": [
        "# выведем на экран статистические характеристики платформ\n",
        "for names in df_good_list:\n",
        "  print('-------------------------------------------------')\n",
        "  print(f'статистические характеристики платформы: {names}')\n",
        "  print('-------------------------------------------------')\n",
        "  display(df_good.query('platform == @names and critic_score > 0 and user_score > 0').describe())\n",
        "  plt.show();"
      ]
    },
    {
      "cell_type": "markdown",
      "metadata": {
        "id": "CJS0UXSroI_F"
      },
      "source": [
        " За весь период на платформах DS и PSP было продано по 1 игре, на платформе Wii продано 5 игр.Наибольшей популярностью в Европе пользуются платформы PS3, PS4. В Сев.Америке X360, XOne, WiiU. В Японии 3DS. Платформа 3DS в Европе и Сев.Америке пользуется одинаковой популярностью."
      ]
    },
    {
      "cell_type": "code",
      "execution_count": null,
      "metadata": {
        "colab": {
          "base_uri": "https://localhost:8080/",
          "height": 760
        },
        "id": "kGh-_H05_MMQ",
        "outputId": "7a63cd1d-7d83-4ffc-a318-31bc899237cb"
      },
      "outputs": [
        {
          "output_type": "display_data",
          "data": {
            "text/plain": [
              "<Figure size 1440x432 with 1 Axes>"
            ],
            "image/png": "[encoded data removed]"
          },
          "metadata": {
            "needs_background": "light"
          }
        },
        {
          "output_type": "display_data",
          "data": {
            "text/plain": [
              "<Figure size 1440x432 with 1 Axes>"
            ],
            "image/png": "[encoded data removed]"
          },
          "metadata": {
            "needs_background": "light"
          }
        }
      ],
      "source": [
        "# посмотрим, как влияют на продажи внутри одной популярной платформы  PS3 отзывы пользователей и критиков. \n",
        "PS3 = df_good.query('platform == \"PS3\" and critic_score > 0 and user_score > 0')      # в переменной сохраним срез данных для платформы  PS3\n",
        "PS3.plot(x= 'critic_score', y= 'total_sales', style='o', grid=True, figsize=(20, 6)) # построим диаграмму рассеяния для оценок критиков\n",
        "PS3.plot(x= 'user_score', y= 'total_sales', style='o', grid=True, figsize=(20, 6))   # построим диаграмму рассеяния для оценок пользоваталей\n",
        "plt.show()"
      ]
    },
    {
      "cell_type": "code",
      "execution_count": null,
      "metadata": {
        "colab": {
          "base_uri": "https://localhost:8080/"
        },
        "id": "sDtTfJA9Ah6y",
        "outputId": "d366d22c-ea64-4d47-eceb-86bc329ae7ca"
      },
      "outputs": [
        {
          "output_type": "stream",
          "name": "stdout",
          "text": [
            "Корреляция между продажами и оценкой критиков: 0.3310566175801407\n",
            "Корреляция между продажами и оценкой пользователей: 0.0032274054930356904\n"
          ]
        }
      ],
      "source": [
        "# найдем корреляцию м/у продажами и оценкой критиков и пользователей\n",
        "a=PS3['total_sales'].corr(PS3['critic_score'])\n",
        "print(f'Корреляция между продажами и оценкой критиков: {a}')\n",
        "b=PS3['total_sales'].corr(PS3['user_score'])\n",
        "print(f'Корреляция между продажами и оценкой пользователей: {b}')"
      ]
    },
    {
      "cell_type": "markdown",
      "metadata": {
        "id": "t3eavfy9E2M6"
      },
      "source": [
        "Оценки критиков и пользователей различаются, при этом продажи имеют слабую корреляцию с оценками."
      ]
    },
    {
      "cell_type": "code",
      "execution_count": null,
      "metadata": {
        "colab": {
          "base_uri": "https://localhost:8080/",
          "height": 760
        },
        "id": "wEWFVKgQFD28",
        "outputId": "d89e13b3-4bda-4030-e716-06db66892de5"
      },
      "outputs": [
        {
          "output_type": "display_data",
          "data": {
            "text/plain": [
              "<Figure size 1440x432 with 1 Axes>"
            ],
            "image/png": "[encoded data removed]"
          },
          "metadata": {
            "needs_background": "light"
          }
        },
        {
          "output_type": "display_data",
          "data": {
            "text/plain": [
              "<Figure size 1440x432 with 1 Axes>"
            ],
            "image/png": "[encoded data removed]"
          },
          "metadata": {
            "needs_background": "light"
          }
        }
      ],
      "source": [
        "# посмотрим ещё платформу PS4 для сравнения\n",
        "PS4 = df_good.query('platform == \"PS4\" and critic_score > 0 and user_score > 0')\n",
        "\n",
        "PS4.plot(x= 'critic_score', y= 'total_sales', style='o', grid=True, figsize=(20, 6))\n",
        "PS4.plot(x= 'user_score', y= 'total_sales', style='o', grid=True, figsize=(20, 6))\n",
        "plt.show();"
      ]
    },
    {
      "cell_type": "code",
      "execution_count": null,
      "metadata": {
        "colab": {
          "base_uri": "https://localhost:8080/"
        },
        "id": "RCD6ouUzFvO7",
        "outputId": "b07a6641-ebf6-4184-a3d0-21f0fc216b0a"
      },
      "outputs": [
        {
          "output_type": "stream",
          "name": "stdout",
          "text": [
            "Корреляция между продажами и оценкой критиков: -0.03362497596528878\n",
            "Корреляция между продажами и оценкой пользователей: 0.40589480145836687\n"
          ]
        }
      ],
      "source": [
        "a=PS4['total_sales'].corr(PS4['user_score'])\n",
        "print(f'Корреляция между продажами и оценкой критиков: {a}')\n",
        "b=PS4['total_sales'].corr(PS4['critic_score'])\n",
        "print(f'Корреляция между продажами и оценкой пользователей: {b}')"
      ]
    },
    {
      "cell_type": "code",
      "execution_count": null,
      "metadata": {
        "colab": {
          "base_uri": "https://localhost:8080/",
          "height": 760
        },
        "id": "OAeuKtTRGvVX",
        "outputId": "54fdc15a-448c-4c89-d0d2-734ba467b511"
      },
      "outputs": [
        {
          "output_type": "display_data",
          "data": {
            "text/plain": [
              "<Figure size 1440x432 with 1 Axes>"
            ],
            "image/png": "[encoded data removed]"
          },
          "metadata": {
            "needs_background": "light"
          }
        },
        {
          "output_type": "display_data",
          "data": {
            "text/plain": [
              "<Figure size 1440x432 with 1 Axes>"
            ],
            "image/png": "[encoded data removed]"
          },
          "metadata": {
            "needs_background": "light"
          }
        }
      ],
      "source": [
        "# посмотрим ещё платформу 3DS для сравнения\n",
        "X = df_good.query('platform == \"X360\" and critic_score > 0 and user_score > 0')\n",
        "\n",
        "X.plot(x= 'critic_score', y= 'total_sales', style='o', grid=True, figsize=(20, 6))\n",
        "X.plot(x= 'user_score', y= 'total_sales', style='o', grid=True, figsize=(20, 6))\n",
        "plt.show()"
      ]
    },
    {
      "cell_type": "code",
      "execution_count": null,
      "metadata": {
        "colab": {
          "base_uri": "https://localhost:8080/"
        },
        "id": "NMGFEbaZGxmo",
        "outputId": "95d45635-37b2-4998-bac0-4eeee0358172"
      },
      "outputs": [
        {
          "output_type": "stream",
          "name": "stdout",
          "text": [
            "Корреляция между продажами и оценкой критиков: -0.002014039482689792\n",
            "Корреляция между продажами и оценкой пользователей: -0.002014039482689792\n"
          ]
        }
      ],
      "source": [
        "a=X['total_sales'].corr(X['user_score'])\n",
        "print(f'Корреляция между продажами и оценкой критиков: {a}')\n",
        "b=X['total_sales'].corr(X['user_score'])\n",
        "print(f'Корреляция между продажами и оценкой пользователей: {b}')"
      ]
    },
    {
      "cell_type": "markdown",
      "metadata": {
        "id": "_axFtn0qHdsr"
      },
      "source": [
        "Корелляция по оценкам и продажам разная по лидерам платформ - PS4, PS3, X360. Единственным объединяющим факторам можно считать слабую связь между оценками критиков и особенно пользователей."
      ]
    },
    {
      "cell_type": "code",
      "execution_count": null,
      "metadata": {
        "colab": {
          "base_uri": "https://localhost:8080/",
          "height": 457
        },
        "id": "zIsw5tcnHwi4",
        "outputId": "ebcea75d-a0a3-4af8-c45c-1441af13a2f4"
      },
      "outputs": [
        {
          "output_type": "execute_result",
          "data": {
            "text/plain": [
              "           genre total_sales              \n",
              "                      median     sum count\n",
              "8        Shooter       0.440  304.73   235\n",
              "10        Sports       0.240  181.07   268\n",
              "4       Platform       0.210   61.00    85\n",
              "7   Role-Playing       0.140  192.80   370\n",
              "6         Racing       0.140   53.50   115\n",
              "2       Fighting       0.130   44.49   109\n",
              "0         Action       0.120  441.12  1031\n",
              "3           Misc       0.120   85.04   192\n",
              "9     Simulation       0.120   35.12    80\n",
              "11      Strategy       0.080   13.34    71\n",
              "5         Puzzle       0.045    4.89    28\n",
              "1      Adventure       0.030   29.43   302"
            ],
            "text/html": [
              "\n",
              "  <div id=\"df-4ad4e85a-2f1d-4ed3-95c9-b35a8d752979\">\n",
              "    <div class=\"colab-df-container\">\n",
              "      <div>\n",
              "<style scoped>\n",
              "    .dataframe tbody tr th:only-of-type {\n",
              "        vertical-align: middle;\n",
              "    }\n",
              "\n",
              "    .dataframe tbody tr th {\n",
              "        vertical-align: top;\n",
              "    }\n",
              "\n",
              "    .dataframe thead tr th {\n",
              "        text-align: left;\n",
              "    }\n",
              "</style>\n",
              "<table border=\"1\" class=\"dataframe\">\n",
              "  <thead>\n",
              "    <tr>\n",
              "      <th></th>\n",
              "      <th>genre</th>\n",
              "      <th colspan=\"3\" halign=\"left\">total_sales</th>\n",
              "    </tr>\n",
              "    <tr>\n",
              "      <th></th>\n",
              "      <th></th>\n",
              "      <th>median</th>\n",
              "      <th>sum</th>\n",
              "      <th>count</th>\n",
              "    </tr>\n",
              "  </thead>\n",
              "  <tbody>\n",
              "    <tr>\n",
              "      <th>8</th>\n",
              "      <td>Shooter</td>\n",
              "      <td>0.440</td>\n",
              "      <td>304.73</td>\n",
              "      <td>235</td>\n",
              "    </tr>\n",
              "    <tr>\n",
              "      <th>10</th>\n",
              "      <td>Sports</td>\n",
              "      <td>0.240</td>\n",
              "      <td>181.07</td>\n",
              "      <td>268</td>\n",
              "    </tr>\n",
              "    <tr>\n",
              "      <th>4</th>\n",
              "      <td>Platform</td>\n",
              "      <td>0.210</td>\n",
              "      <td>61.00</td>\n",
              "      <td>85</td>\n",
              "    </tr>\n",
              "    <tr>\n",
              "      <th>7</th>\n",
              "      <td>Role-Playing</td>\n",
              "      <td>0.140</td>\n",
              "      <td>192.80</td>\n",
              "      <td>370</td>\n",
              "    </tr>\n",
              "    <tr>\n",
              "      <th>6</th>\n",
              "      <td>Racing</td>\n",
              "      <td>0.140</td>\n",
              "      <td>53.50</td>\n",
              "      <td>115</td>\n",
              "    </tr>\n",
              "    <tr>\n",
              "      <th>2</th>\n",
              "      <td>Fighting</td>\n",
              "      <td>0.130</td>\n",
              "      <td>44.49</td>\n",
              "      <td>109</td>\n",
              "    </tr>\n",
              "    <tr>\n",
              "      <th>0</th>\n",
              "      <td>Action</td>\n",
              "      <td>0.120</td>\n",
              "      <td>441.12</td>\n",
              "      <td>1031</td>\n",
              "    </tr>\n",
              "    <tr>\n",
              "      <th>3</th>\n",
              "      <td>Misc</td>\n",
              "      <td>0.120</td>\n",
              "      <td>85.04</td>\n",
              "      <td>192</td>\n",
              "    </tr>\n",
              "    <tr>\n",
              "      <th>9</th>\n",
              "      <td>Simulation</td>\n",
              "      <td>0.120</td>\n",
              "      <td>35.12</td>\n",
              "      <td>80</td>\n",
              "    </tr>\n",
              "    <tr>\n",
              "      <th>11</th>\n",
              "      <td>Strategy</td>\n",
              "      <td>0.080</td>\n",
              "      <td>13.34</td>\n",
              "      <td>71</td>\n",
              "    </tr>\n",
              "    <tr>\n",
              "      <th>5</th>\n",
              "      <td>Puzzle</td>\n",
              "      <td>0.045</td>\n",
              "      <td>4.89</td>\n",
              "      <td>28</td>\n",
              "    </tr>\n",
              "    <tr>\n",
              "      <th>1</th>\n",
              "      <td>Adventure</td>\n",
              "      <td>0.030</td>\n",
              "      <td>29.43</td>\n",
              "      <td>302</td>\n",
              "    </tr>\n",
              "  </tbody>\n",
              "</table>\n",
              "</div>\n",
              "      <button class=\"colab-df-convert\" onclick=\"convertToInteractive('df-4ad4e85a-2f1d-4ed3-95c9-b35a8d752979')\"\n",
              "              title=\"Convert this dataframe to an interactive table.\"\n",
              "              style=\"display:none;\">\n",
              "        \n",
              "  <svg xmlns=\"http://www.w3.org/2000/svg\" height=\"24px\"viewBox=\"0 0 24 24\"\n",
              "       width=\"24px\">\n",
              "    <path d=\"M0 0h24v24H0V0z\" fill=\"none\"/>\n",
              "    <path d=\"M18.56 5.44l.94 2.06.94-2.06 2.06-.94-2.06-.94-.94-2.06-.94 2.06-2.06.94zm-11 1L8.5 8.5l.94-2.06 2.06-.94-2.06-.94L8.5 2.5l-.94 2.06-2.06.94zm10 10l.94 2.06.94-2.06 2.06-.94-2.06-.94-.94-2.06-.94 2.06-2.06.94z\"/><path d=\"M17.41 7.96l-1.37-1.37c-.4-.4-.92-.59-1.43-.59-.52 0-1.04.2-1.43.59L10.3 9.45l-7.72 7.72c-.78.78-.78 2.05 0 2.83L4 21.41c.39.39.9.59 1.41.59.51 0 1.02-.2 1.41-.59l7.78-7.78 2.81-2.81c.8-.78.8-2.07 0-2.86zM5.41 20L4 18.59l7.72-7.72 1.47 1.35L5.41 20z\"/>\n",
              "  </svg>\n",
              "      </button>\n",
              "      \n",
              "  <style>\n",
              "    .colab-df-container {\n",
              "      display:flex;\n",
              "      flex-wrap:wrap;\n",
              "      gap: 12px;\n",
              "    }\n",
              "\n",
              "    .colab-df-convert {\n",
              "      background-color: #E8F0FE;\n",
              "      border: none;\n",
              "      border-radius: 50%;\n",
              "      cursor: pointer;\n",
              "      display: none;\n",
              "      fill: #1967D2;\n",
              "      height: 32px;\n",
              "      padding: 0 0 0 0;\n",
              "      width: 32px;\n",
              "    }\n",
              "\n",
              "    .colab-df-convert:hover {\n",
              "      background-color: #E2EBFA;\n",
              "      box-shadow: 0px 1px 2px rgba(60, 64, 67, 0.3), 0px 1px 3px 1px rgba(60, 64, 67, 0.15);\n",
              "      fill: #174EA6;\n",
              "    }\n",
              "\n",
              "    [theme=dark] .colab-df-convert {\n",
              "      background-color: #3B4455;\n",
              "      fill: #D2E3FC;\n",
              "    }\n",
              "\n",
              "    [theme=dark] .colab-df-convert:hover {\n",
              "      background-color: #434B5C;\n",
              "      box-shadow: 0px 1px 3px 1px rgba(0, 0, 0, 0.15);\n",
              "      filter: drop-shadow(0px 1px 2px rgba(0, 0, 0, 0.3));\n",
              "      fill: #FFFFFF;\n",
              "    }\n",
              "  </style>\n",
              "\n",
              "      <script>\n",
              "        const buttonEl =\n",
              "          document.querySelector('#df-4ad4e85a-2f1d-4ed3-95c9-b35a8d752979 button.colab-df-convert');\n",
              "        buttonEl.style.display =\n",
              "          google.colab.kernel.accessAllowed ? 'block' : 'none';\n",
              "\n",
              "        async function convertToInteractive(key) {\n",
              "          const element = document.querySelector('#df-4ad4e85a-2f1d-4ed3-95c9-b35a8d752979');\n",
              "          const dataTable =\n",
              "            await google.colab.kernel.invokeFunction('convertToInteractive',\n",
              "                                                     [key], {});\n",
              "          if (!dataTable) return;\n",
              "\n",
              "          const docLinkHtml = 'Like what you see? Visit the ' +\n",
              "            '<a target=\"_blank\" href=https://colab.research.google.com/notebooks/data_table.ipynb>data table notebook</a>'\n",
              "            + ' to learn more about interactive tables.';\n",
              "          element.innerHTML = '';\n",
              "          dataTable['output_type'] = 'display_data';\n",
              "          await google.colab.output.renderOutput(dataTable, element);\n",
              "          const docLink = document.createElement('div');\n",
              "          docLink.innerHTML = docLinkHtml;\n",
              "          element.appendChild(docLink);\n",
              "        }\n",
              "      </script>\n",
              "    </div>\n",
              "  </div>\n",
              "  "
            ]
          },
          "metadata": {},
          "execution_count": 47
        }
      ],
      "source": [
        "# посмотрим на общее распределение игр по жанрам. \n",
        "df_good.groupby('genre', as_index=False).agg(\n",
        "    {'total_sales':['median', 'sum', 'count']}\n",
        "    ).sort_values(by=('total_sales', 'median'), ascending = False)"
      ]
    },
    {
      "cell_type": "markdown",
      "metadata": {
        "id": "zbQjn7i5H_IN"
      },
      "source": [
        "По медианным показателям прибыльности лидируют Shooter, Sports, Racing, Platform, Role-Playing. В жанре Action самый высокий показатель по суммарным продажам, это могло произойти в следствии большего количества выпущенных и проданных игр."
      ]
    },
    {
      "cell_type": "markdown",
      "metadata": {
        "id": "Nmzi9ry3Ic54"
      },
      "source": [
        "# Портрет пользователя каждого региона."
      ]
    },
    {
      "cell_type": "code",
      "execution_count": null,
      "metadata": {
        "id": "I-1Ji1grIjJP"
      },
      "outputs": [],
      "source": [
        "# составим список регионов\n",
        "region = ['na_sales',\t'eu_sales',\t'jp_sales',\t'other_sales']"
      ]
    },
    {
      "cell_type": "code",
      "execution_count": null,
      "metadata": {
        "colab": {
          "base_uri": "https://localhost:8080/",
          "height": 1000
        },
        "id": "X_dDnaxSJbt7",
        "outputId": "5a570cf4-a50e-4072-abcd-e3c5eba3eb5b"
      },
      "outputs": [
        {
          "output_type": "stream",
          "name": "stdout",
          "text": [
            "na_sales\n"
          ]
        },
        {
          "output_type": "display_data",
          "data": {
            "text/plain": [
              "   platform na_sales        \n",
              "              median     sum\n",
              "9      X360     0.17  140.05\n",
              "4       PS4     0.06  108.74\n",
              "3       PS3     0.05  103.38\n",
              "10     XOne     0.12   93.12\n",
              "0       3DS     0.00   55.31"
            ],
            "text/html": [
              "\n",
              "  <div id=\"df-7b1fff7f-9dd3-4e90-8465-eca2c2e7b450\">\n",
              "    <div class=\"colab-df-container\">\n",
              "      <div>\n",
              "<style scoped>\n",
              "    .dataframe tbody tr th:only-of-type {\n",
              "        vertical-align: middle;\n",
              "    }\n",
              "\n",
              "    .dataframe tbody tr th {\n",
              "        vertical-align: top;\n",
              "    }\n",
              "\n",
              "    .dataframe thead tr th {\n",
              "        text-align: left;\n",
              "    }\n",
              "</style>\n",
              "<table border=\"1\" class=\"dataframe\">\n",
              "  <thead>\n",
              "    <tr>\n",
              "      <th></th>\n",
              "      <th>platform</th>\n",
              "      <th colspan=\"2\" halign=\"left\">na_sales</th>\n",
              "    </tr>\n",
              "    <tr>\n",
              "      <th></th>\n",
              "      <th></th>\n",
              "      <th>median</th>\n",
              "      <th>sum</th>\n",
              "    </tr>\n",
              "  </thead>\n",
              "  <tbody>\n",
              "    <tr>\n",
              "      <th>9</th>\n",
              "      <td>X360</td>\n",
              "      <td>0.17</td>\n",
              "      <td>140.05</td>\n",
              "    </tr>\n",
              "    <tr>\n",
              "      <th>4</th>\n",
              "      <td>PS4</td>\n",
              "      <td>0.06</td>\n",
              "      <td>108.74</td>\n",
              "    </tr>\n",
              "    <tr>\n",
              "      <th>3</th>\n",
              "      <td>PS3</td>\n",
              "      <td>0.05</td>\n",
              "      <td>103.38</td>\n",
              "    </tr>\n",
              "    <tr>\n",
              "      <th>10</th>\n",
              "      <td>XOne</td>\n",
              "      <td>0.12</td>\n",
              "      <td>93.12</td>\n",
              "    </tr>\n",
              "    <tr>\n",
              "      <th>0</th>\n",
              "      <td>3DS</td>\n",
              "      <td>0.00</td>\n",
              "      <td>55.31</td>\n",
              "    </tr>\n",
              "  </tbody>\n",
              "</table>\n",
              "</div>\n",
              "      <button class=\"colab-df-convert\" onclick=\"convertToInteractive('df-7b1fff7f-9dd3-4e90-8465-eca2c2e7b450')\"\n",
              "              title=\"Convert this dataframe to an interactive table.\"\n",
              "              style=\"display:none;\">\n",
              "        \n",
              "  <svg xmlns=\"http://www.w3.org/2000/svg\" height=\"24px\"viewBox=\"0 0 24 24\"\n",
              "       width=\"24px\">\n",
              "    <path d=\"M0 0h24v24H0V0z\" fill=\"none\"/>\n",
              "    <path d=\"M18.56 5.44l.94 2.06.94-2.06 2.06-.94-2.06-.94-.94-2.06-.94 2.06-2.06.94zm-11 1L8.5 8.5l.94-2.06 2.06-.94-2.06-.94L8.5 2.5l-.94 2.06-2.06.94zm10 10l.94 2.06.94-2.06 2.06-.94-2.06-.94-.94-2.06-.94 2.06-2.06.94z\"/><path d=\"M17.41 7.96l-1.37-1.37c-.4-.4-.92-.59-1.43-.59-.52 0-1.04.2-1.43.59L10.3 9.45l-7.72 7.72c-.78.78-.78 2.05 0 2.83L4 21.41c.39.39.9.59 1.41.59.51 0 1.02-.2 1.41-.59l7.78-7.78 2.81-2.81c.8-.78.8-2.07 0-2.86zM5.41 20L4 18.59l7.72-7.72 1.47 1.35L5.41 20z\"/>\n",
              "  </svg>\n",
              "      </button>\n",
              "      \n",
              "  <style>\n",
              "    .colab-df-container {\n",
              "      display:flex;\n",
              "      flex-wrap:wrap;\n",
              "      gap: 12px;\n",
              "    }\n",
              "\n",
              "    .colab-df-convert {\n",
              "      background-color: #E8F0FE;\n",
              "      border: none;\n",
              "      border-radius: 50%;\n",
              "      cursor: pointer;\n",
              "      display: none;\n",
              "      fill: #1967D2;\n",
              "      height: 32px;\n",
              "      padding: 0 0 0 0;\n",
              "      width: 32px;\n",
              "    }\n",
              "\n",
              "    .colab-df-convert:hover {\n",
              "      background-color: #E2EBFA;\n",
              "      box-shadow: 0px 1px 2px rgba(60, 64, 67, 0.3), 0px 1px 3px 1px rgba(60, 64, 67, 0.15);\n",
              "      fill: #174EA6;\n",
              "    }\n",
              "\n",
              "    [theme=dark] .colab-df-convert {\n",
              "      background-color: #3B4455;\n",
              "      fill: #D2E3FC;\n",
              "    }\n",
              "\n",
              "    [theme=dark] .colab-df-convert:hover {\n",
              "      background-color: #434B5C;\n",
              "      box-shadow: 0px 1px 3px 1px rgba(0, 0, 0, 0.15);\n",
              "      filter: drop-shadow(0px 1px 2px rgba(0, 0, 0, 0.3));\n",
              "      fill: #FFFFFF;\n",
              "    }\n",
              "  </style>\n",
              "\n",
              "      <script>\n",
              "        const buttonEl =\n",
              "          document.querySelector('#df-7b1fff7f-9dd3-4e90-8465-eca2c2e7b450 button.colab-df-convert');\n",
              "        buttonEl.style.display =\n",
              "          google.colab.kernel.accessAllowed ? 'block' : 'none';\n",
              "\n",
              "        async function convertToInteractive(key) {\n",
              "          const element = document.querySelector('#df-7b1fff7f-9dd3-4e90-8465-eca2c2e7b450');\n",
              "          const dataTable =\n",
              "            await google.colab.kernel.invokeFunction('convertToInteractive',\n",
              "                                                     [key], {});\n",
              "          if (!dataTable) return;\n",
              "\n",
              "          const docLinkHtml = 'Like what you see? Visit the ' +\n",
              "            '<a target=\"_blank\" href=https://colab.research.google.com/notebooks/data_table.ipynb>data table notebook</a>'\n",
              "            + ' to learn more about interactive tables.';\n",
              "          element.innerHTML = '';\n",
              "          dataTable['output_type'] = 'display_data';\n",
              "          await google.colab.output.renderOutput(dataTable, element);\n",
              "          const docLink = document.createElement('div');\n",
              "          docLink.innerHTML = docLinkHtml;\n",
              "          element.appendChild(docLink);\n",
              "        }\n",
              "      </script>\n",
              "    </div>\n",
              "  </div>\n",
              "  "
            ]
          },
          "metadata": {}
        },
        {
          "output_type": "stream",
          "name": "stdout",
          "text": [
            " \n",
            "сумма продаж: 590.97\n",
            " \n",
            "доля продаж\n"
          ]
        },
        {
          "output_type": "display_data",
          "data": {
            "text/plain": [
              "9     0.236983\n",
              "4     0.184003\n",
              "3     0.174933\n",
              "10    0.157571\n",
              "0     0.093592\n",
              "Name: (na_sales, sum), dtype: float64"
            ]
          },
          "metadata": {}
        },
        {
          "output_type": "stream",
          "name": "stdout",
          "text": [
            "-------------------------------\n",
            " \n",
            "eu_sales\n"
          ]
        },
        {
          "output_type": "display_data",
          "data": {
            "text/plain": [
              "   platform eu_sales        \n",
              "              median     sum\n",
              "4       PS4     0.08  141.09\n",
              "3       PS3     0.03  106.86\n",
              "9      X360     0.10   74.52\n",
              "10     XOne     0.07   51.59\n",
              "0       3DS     0.00   42.64"
            ],
            "text/html": [
              "\n",
              "  <div id=\"df-4857cf7e-423c-47d0-8e89-0c965fe7f3e8\">\n",
              "    <div class=\"colab-df-container\">\n",
              "      <div>\n",
              "<style scoped>\n",
              "    .dataframe tbody tr th:only-of-type {\n",
              "        vertical-align: middle;\n",
              "    }\n",
              "\n",
              "    .dataframe tbody tr th {\n",
              "        vertical-align: top;\n",
              "    }\n",
              "\n",
              "    .dataframe thead tr th {\n",
              "        text-align: left;\n",
              "    }\n",
              "</style>\n",
              "<table border=\"1\" class=\"dataframe\">\n",
              "  <thead>\n",
              "    <tr>\n",
              "      <th></th>\n",
              "      <th>platform</th>\n",
              "      <th colspan=\"2\" halign=\"left\">eu_sales</th>\n",
              "    </tr>\n",
              "    <tr>\n",
              "      <th></th>\n",
              "      <th></th>\n",
              "      <th>median</th>\n",
              "      <th>sum</th>\n",
              "    </tr>\n",
              "  </thead>\n",
              "  <tbody>\n",
              "    <tr>\n",
              "      <th>4</th>\n",
              "      <td>PS4</td>\n",
              "      <td>0.08</td>\n",
              "      <td>141.09</td>\n",
              "    </tr>\n",
              "    <tr>\n",
              "      <th>3</th>\n",
              "      <td>PS3</td>\n",
              "      <td>0.03</td>\n",
              "      <td>106.86</td>\n",
              "    </tr>\n",
              "    <tr>\n",
              "      <th>9</th>\n",
              "      <td>X360</td>\n",
              "      <td>0.10</td>\n",
              "      <td>74.52</td>\n",
              "    </tr>\n",
              "    <tr>\n",
              "      <th>10</th>\n",
              "      <td>XOne</td>\n",
              "      <td>0.07</td>\n",
              "      <td>51.59</td>\n",
              "    </tr>\n",
              "    <tr>\n",
              "      <th>0</th>\n",
              "      <td>3DS</td>\n",
              "      <td>0.00</td>\n",
              "      <td>42.64</td>\n",
              "    </tr>\n",
              "  </tbody>\n",
              "</table>\n",
              "</div>\n",
              "      <button class=\"colab-df-convert\" onclick=\"convertToInteractive('df-4857cf7e-423c-47d0-8e89-0c965fe7f3e8')\"\n",
              "              title=\"Convert this dataframe to an interactive table.\"\n",
              "              style=\"display:none;\">\n",
              "        \n",
              "  <svg xmlns=\"http://www.w3.org/2000/svg\" height=\"24px\"viewBox=\"0 0 24 24\"\n",
              "       width=\"24px\">\n",
              "    <path d=\"M0 0h24v24H0V0z\" fill=\"none\"/>\n",
              "    <path d=\"M18.56 5.44l.94 2.06.94-2.06 2.06-.94-2.06-.94-.94-2.06-.94 2.06-2.06.94zm-11 1L8.5 8.5l.94-2.06 2.06-.94-2.06-.94L8.5 2.5l-.94 2.06-2.06.94zm10 10l.94 2.06.94-2.06 2.06-.94-2.06-.94-.94-2.06-.94 2.06-2.06.94z\"/><path d=\"M17.41 7.96l-1.37-1.37c-.4-.4-.92-.59-1.43-.59-.52 0-1.04.2-1.43.59L10.3 9.45l-7.72 7.72c-.78.78-.78 2.05 0 2.83L4 21.41c.39.39.9.59 1.41.59.51 0 1.02-.2 1.41-.59l7.78-7.78 2.81-2.81c.8-.78.8-2.07 0-2.86zM5.41 20L4 18.59l7.72-7.72 1.47 1.35L5.41 20z\"/>\n",
              "  </svg>\n",
              "      </button>\n",
              "      \n",
              "  <style>\n",
              "    .colab-df-container {\n",
              "      display:flex;\n",
              "      flex-wrap:wrap;\n",
              "      gap: 12px;\n",
              "    }\n",
              "\n",
              "    .colab-df-convert {\n",
              "      background-color: #E8F0FE;\n",
              "      border: none;\n",
              "      border-radius: 50%;\n",
              "      cursor: pointer;\n",
              "      display: none;\n",
              "      fill: #1967D2;\n",
              "      height: 32px;\n",
              "      padding: 0 0 0 0;\n",
              "      width: 32px;\n",
              "    }\n",
              "\n",
              "    .colab-df-convert:hover {\n",
              "      background-color: #E2EBFA;\n",
              "      box-shadow: 0px 1px 2px rgba(60, 64, 67, 0.3), 0px 1px 3px 1px rgba(60, 64, 67, 0.15);\n",
              "      fill: #174EA6;\n",
              "    }\n",
              "\n",
              "    [theme=dark] .colab-df-convert {\n",
              "      background-color: #3B4455;\n",
              "      fill: #D2E3FC;\n",
              "    }\n",
              "\n",
              "    [theme=dark] .colab-df-convert:hover {\n",
              "      background-color: #434B5C;\n",
              "      box-shadow: 0px 1px 3px 1px rgba(0, 0, 0, 0.15);\n",
              "      filter: drop-shadow(0px 1px 2px rgba(0, 0, 0, 0.3));\n",
              "      fill: #FFFFFF;\n",
              "    }\n",
              "  </style>\n",
              "\n",
              "      <script>\n",
              "        const buttonEl =\n",
              "          document.querySelector('#df-4857cf7e-423c-47d0-8e89-0c965fe7f3e8 button.colab-df-convert');\n",
              "        buttonEl.style.display =\n",
              "          google.colab.kernel.accessAllowed ? 'block' : 'none';\n",
              "\n",
              "        async function convertToInteractive(key) {\n",
              "          const element = document.querySelector('#df-4857cf7e-423c-47d0-8e89-0c965fe7f3e8');\n",
              "          const dataTable =\n",
              "            await google.colab.kernel.invokeFunction('convertToInteractive',\n",
              "                                                     [key], {});\n",
              "          if (!dataTable) return;\n",
              "\n",
              "          const docLinkHtml = 'Like what you see? Visit the ' +\n",
              "            '<a target=\"_blank\" href=https://colab.research.google.com/notebooks/data_table.ipynb>data table notebook</a>'\n",
              "            + ' to learn more about interactive tables.';\n",
              "          element.innerHTML = '';\n",
              "          dataTable['output_type'] = 'display_data';\n",
              "          await google.colab.output.renderOutput(dataTable, element);\n",
              "          const docLink = document.createElement('div');\n",
              "          docLink.innerHTML = docLinkHtml;\n",
              "          element.appendChild(docLink);\n",
              "        }\n",
              "      </script>\n",
              "    </div>\n",
              "  </div>\n",
              "  "
            ]
          },
          "metadata": {}
        },
        {
          "output_type": "stream",
          "name": "stdout",
          "text": [
            " \n",
            "сумма продаж: 506.82000000000005\n",
            " \n",
            "доля продаж\n"
          ]
        },
        {
          "output_type": "display_data",
          "data": {
            "text/plain": [
              "4     0.278383\n",
              "3     0.210844\n",
              "9     0.147034\n",
              "10    0.101792\n",
              "0     0.084132\n",
              "Name: (eu_sales, sum), dtype: float64"
            ]
          },
          "metadata": {}
        },
        {
          "output_type": "stream",
          "name": "stdout",
          "text": [
            "-------------------------------\n",
            " \n",
            "jp_sales\n"
          ]
        },
        {
          "output_type": "display_data",
          "data": {
            "text/plain": [
              "  platform jp_sales       \n",
              "             median    sum\n",
              "0      3DS     0.06  87.79\n",
              "3      PS3     0.03  35.29\n",
              "6      PSV     0.03  21.04\n",
              "4      PS4     0.01  15.96\n",
              "8     WiiU     0.00  13.01"
            ],
            "text/html": [
              "\n",
              "  <div id=\"df-707a264d-ee23-43d0-864e-3d1f6208e966\">\n",
              "    <div class=\"colab-df-container\">\n",
              "      <div>\n",
              "<style scoped>\n",
              "    .dataframe tbody tr th:only-of-type {\n",
              "        vertical-align: middle;\n",
              "    }\n",
              "\n",
              "    .dataframe tbody tr th {\n",
              "        vertical-align: top;\n",
              "    }\n",
              "\n",
              "    .dataframe thead tr th {\n",
              "        text-align: left;\n",
              "    }\n",
              "</style>\n",
              "<table border=\"1\" class=\"dataframe\">\n",
              "  <thead>\n",
              "    <tr>\n",
              "      <th></th>\n",
              "      <th>platform</th>\n",
              "      <th colspan=\"2\" halign=\"left\">jp_sales</th>\n",
              "    </tr>\n",
              "    <tr>\n",
              "      <th></th>\n",
              "      <th></th>\n",
              "      <th>median</th>\n",
              "      <th>sum</th>\n",
              "    </tr>\n",
              "  </thead>\n",
              "  <tbody>\n",
              "    <tr>\n",
              "      <th>0</th>\n",
              "      <td>3DS</td>\n",
              "      <td>0.06</td>\n",
              "      <td>87.79</td>\n",
              "    </tr>\n",
              "    <tr>\n",
              "      <th>3</th>\n",
              "      <td>PS3</td>\n",
              "      <td>0.03</td>\n",
              "      <td>35.29</td>\n",
              "    </tr>\n",
              "    <tr>\n",
              "      <th>6</th>\n",
              "      <td>PSV</td>\n",
              "      <td>0.03</td>\n",
              "      <td>21.04</td>\n",
              "    </tr>\n",
              "    <tr>\n",
              "      <th>4</th>\n",
              "      <td>PS4</td>\n",
              "      <td>0.01</td>\n",
              "      <td>15.96</td>\n",
              "    </tr>\n",
              "    <tr>\n",
              "      <th>8</th>\n",
              "      <td>WiiU</td>\n",
              "      <td>0.00</td>\n",
              "      <td>13.01</td>\n",
              "    </tr>\n",
              "  </tbody>\n",
              "</table>\n",
              "</div>\n",
              "      <button class=\"colab-df-convert\" onclick=\"convertToInteractive('df-707a264d-ee23-43d0-864e-3d1f6208e966')\"\n",
              "              title=\"Convert this dataframe to an interactive table.\"\n",
              "              style=\"display:none;\">\n",
              "        \n",
              "  <svg xmlns=\"http://www.w3.org/2000/svg\" height=\"24px\"viewBox=\"0 0 24 24\"\n",
              "       width=\"24px\">\n",
              "    <path d=\"M0 0h24v24H0V0z\" fill=\"none\"/>\n",
              "    <path d=\"M18.56 5.44l.94 2.06.94-2.06 2.06-.94-2.06-.94-.94-2.06-.94 2.06-2.06.94zm-11 1L8.5 8.5l.94-2.06 2.06-.94-2.06-.94L8.5 2.5l-.94 2.06-2.06.94zm10 10l.94 2.06.94-2.06 2.06-.94-2.06-.94-.94-2.06-.94 2.06-2.06.94z\"/><path d=\"M17.41 7.96l-1.37-1.37c-.4-.4-.92-.59-1.43-.59-.52 0-1.04.2-1.43.59L10.3 9.45l-7.72 7.72c-.78.78-.78 2.05 0 2.83L4 21.41c.39.39.9.59 1.41.59.51 0 1.02-.2 1.41-.59l7.78-7.78 2.81-2.81c.8-.78.8-2.07 0-2.86zM5.41 20L4 18.59l7.72-7.72 1.47 1.35L5.41 20z\"/>\n",
              "  </svg>\n",
              "      </button>\n",
              "      \n",
              "  <style>\n",
              "    .colab-df-container {\n",
              "      display:flex;\n",
              "      flex-wrap:wrap;\n",
              "      gap: 12px;\n",
              "    }\n",
              "\n",
              "    .colab-df-convert {\n",
              "      background-color: #E8F0FE;\n",
              "      border: none;\n",
              "      border-radius: 50%;\n",
              "      cursor: pointer;\n",
              "      display: none;\n",
              "      fill: #1967D2;\n",
              "      height: 32px;\n",
              "      padding: 0 0 0 0;\n",
              "      width: 32px;\n",
              "    }\n",
              "\n",
              "    .colab-df-convert:hover {\n",
              "      background-color: #E2EBFA;\n",
              "      box-shadow: 0px 1px 2px rgba(60, 64, 67, 0.3), 0px 1px 3px 1px rgba(60, 64, 67, 0.15);\n",
              "      fill: #174EA6;\n",
              "    }\n",
              "\n",
              "    [theme=dark] .colab-df-convert {\n",
              "      background-color: #3B4455;\n",
              "      fill: #D2E3FC;\n",
              "    }\n",
              "\n",
              "    [theme=dark] .colab-df-convert:hover {\n",
              "      background-color: #434B5C;\n",
              "      box-shadow: 0px 1px 3px 1px rgba(0, 0, 0, 0.15);\n",
              "      filter: drop-shadow(0px 1px 2px rgba(0, 0, 0, 0.3));\n",
              "      fill: #FFFFFF;\n",
              "    }\n",
              "  </style>\n",
              "\n",
              "      <script>\n",
              "        const buttonEl =\n",
              "          document.querySelector('#df-707a264d-ee23-43d0-864e-3d1f6208e966 button.colab-df-convert');\n",
              "        buttonEl.style.display =\n",
              "          google.colab.kernel.accessAllowed ? 'block' : 'none';\n",
              "\n",
              "        async function convertToInteractive(key) {\n",
              "          const element = document.querySelector('#df-707a264d-ee23-43d0-864e-3d1f6208e966');\n",
              "          const dataTable =\n",
              "            await google.colab.kernel.invokeFunction('convertToInteractive',\n",
              "                                                     [key], {});\n",
              "          if (!dataTable) return;\n",
              "\n",
              "          const docLinkHtml = 'Like what you see? Visit the ' +\n",
              "            '<a target=\"_blank\" href=https://colab.research.google.com/notebooks/data_table.ipynb>data table notebook</a>'\n",
              "            + ' to learn more about interactive tables.';\n",
              "          element.innerHTML = '';\n",
              "          dataTable['output_type'] = 'display_data';\n",
              "          await google.colab.output.renderOutput(dataTable, element);\n",
              "          const docLink = document.createElement('div');\n",
              "          docLink.innerHTML = docLinkHtml;\n",
              "          element.appendChild(docLink);\n",
              "        }\n",
              "      </script>\n",
              "    </div>\n",
              "  </div>\n",
              "  "
            ]
          },
          "metadata": {}
        },
        {
          "output_type": "stream",
          "name": "stdout",
          "text": [
            " \n",
            "сумма продаж: 192.58\n",
            " \n",
            "доля продаж\n"
          ]
        },
        {
          "output_type": "display_data",
          "data": {
            "text/plain": [
              "0    0.455862\n",
              "3    0.183249\n",
              "6    0.109253\n",
              "4    0.082875\n",
              "8    0.067556\n",
              "Name: (jp_sales, sum), dtype: float64"
            ]
          },
          "metadata": {}
        },
        {
          "output_type": "stream",
          "name": "stdout",
          "text": [
            "-------------------------------\n",
            " \n",
            "other_sales\n"
          ]
        },
        {
          "output_type": "display_data",
          "data": {
            "text/plain": [
              "   platform other_sales       \n",
              "                 median    sum\n",
              "4       PS4        0.03  48.35\n",
              "3       PS3        0.02  43.26\n",
              "9      X360        0.03  20.40\n",
              "10     XOne        0.02  14.27\n",
              "0       3DS        0.00   8.87"
            ],
            "text/html": [
              "\n",
              "  <div id=\"df-a1f71b2a-1dd1-4ace-84c5-d6193f54c6a0\">\n",
              "    <div class=\"colab-df-container\">\n",
              "      <div>\n",
              "<style scoped>\n",
              "    .dataframe tbody tr th:only-of-type {\n",
              "        vertical-align: middle;\n",
              "    }\n",
              "\n",
              "    .dataframe tbody tr th {\n",
              "        vertical-align: top;\n",
              "    }\n",
              "\n",
              "    .dataframe thead tr th {\n",
              "        text-align: left;\n",
              "    }\n",
              "</style>\n",
              "<table border=\"1\" class=\"dataframe\">\n",
              "  <thead>\n",
              "    <tr>\n",
              "      <th></th>\n",
              "      <th>platform</th>\n",
              "      <th colspan=\"2\" halign=\"left\">other_sales</th>\n",
              "    </tr>\n",
              "    <tr>\n",
              "      <th></th>\n",
              "      <th></th>\n",
              "      <th>median</th>\n",
              "      <th>sum</th>\n",
              "    </tr>\n",
              "  </thead>\n",
              "  <tbody>\n",
              "    <tr>\n",
              "      <th>4</th>\n",
              "      <td>PS4</td>\n",
              "      <td>0.03</td>\n",
              "      <td>48.35</td>\n",
              "    </tr>\n",
              "    <tr>\n",
              "      <th>3</th>\n",
              "      <td>PS3</td>\n",
              "      <td>0.02</td>\n",
              "      <td>43.26</td>\n",
              "    </tr>\n",
              "    <tr>\n",
              "      <th>9</th>\n",
              "      <td>X360</td>\n",
              "      <td>0.03</td>\n",
              "      <td>20.40</td>\n",
              "    </tr>\n",
              "    <tr>\n",
              "      <th>10</th>\n",
              "      <td>XOne</td>\n",
              "      <td>0.02</td>\n",
              "      <td>14.27</td>\n",
              "    </tr>\n",
              "    <tr>\n",
              "      <th>0</th>\n",
              "      <td>3DS</td>\n",
              "      <td>0.00</td>\n",
              "      <td>8.87</td>\n",
              "    </tr>\n",
              "  </tbody>\n",
              "</table>\n",
              "</div>\n",
              "      <button class=\"colab-df-convert\" onclick=\"convertToInteractive('df-a1f71b2a-1dd1-4ace-84c5-d6193f54c6a0')\"\n",
              "              title=\"Convert this dataframe to an interactive table.\"\n",
              "              style=\"display:none;\">\n",
              "        \n",
              "  <svg xmlns=\"http://www.w3.org/2000/svg\" height=\"24px\"viewBox=\"0 0 24 24\"\n",
              "       width=\"24px\">\n",
              "    <path d=\"M0 0h24v24H0V0z\" fill=\"none\"/>\n",
              "    <path d=\"M18.56 5.44l.94 2.06.94-2.06 2.06-.94-2.06-.94-.94-2.06-.94 2.06-2.06.94zm-11 1L8.5 8.5l.94-2.06 2.06-.94-2.06-.94L8.5 2.5l-.94 2.06-2.06.94zm10 10l.94 2.06.94-2.06 2.06-.94-2.06-.94-.94-2.06-.94 2.06-2.06.94z\"/><path d=\"M17.41 7.96l-1.37-1.37c-.4-.4-.92-.59-1.43-.59-.52 0-1.04.2-1.43.59L10.3 9.45l-7.72 7.72c-.78.78-.78 2.05 0 2.83L4 21.41c.39.39.9.59 1.41.59.51 0 1.02-.2 1.41-.59l7.78-7.78 2.81-2.81c.8-.78.8-2.07 0-2.86zM5.41 20L4 18.59l7.72-7.72 1.47 1.35L5.41 20z\"/>\n",
              "  </svg>\n",
              "      </button>\n",
              "      \n",
              "  <style>\n",
              "    .colab-df-container {\n",
              "      display:flex;\n",
              "      flex-wrap:wrap;\n",
              "      gap: 12px;\n",
              "    }\n",
              "\n",
              "    .colab-df-convert {\n",
              "      background-color: #E8F0FE;\n",
              "      border: none;\n",
              "      border-radius: 50%;\n",
              "      cursor: pointer;\n",
              "      display: none;\n",
              "      fill: #1967D2;\n",
              "      height: 32px;\n",
              "      padding: 0 0 0 0;\n",
              "      width: 32px;\n",
              "    }\n",
              "\n",
              "    .colab-df-convert:hover {\n",
              "      background-color: #E2EBFA;\n",
              "      box-shadow: 0px 1px 2px rgba(60, 64, 67, 0.3), 0px 1px 3px 1px rgba(60, 64, 67, 0.15);\n",
              "      fill: #174EA6;\n",
              "    }\n",
              "\n",
              "    [theme=dark] .colab-df-convert {\n",
              "      background-color: #3B4455;\n",
              "      fill: #D2E3FC;\n",
              "    }\n",
              "\n",
              "    [theme=dark] .colab-df-convert:hover {\n",
              "      background-color: #434B5C;\n",
              "      box-shadow: 0px 1px 3px 1px rgba(0, 0, 0, 0.15);\n",
              "      filter: drop-shadow(0px 1px 2px rgba(0, 0, 0, 0.3));\n",
              "      fill: #FFFFFF;\n",
              "    }\n",
              "  </style>\n",
              "\n",
              "      <script>\n",
              "        const buttonEl =\n",
              "          document.querySelector('#df-a1f71b2a-1dd1-4ace-84c5-d6193f54c6a0 button.colab-df-convert');\n",
              "        buttonEl.style.display =\n",
              "          google.colab.kernel.accessAllowed ? 'block' : 'none';\n",
              "\n",
              "        async function convertToInteractive(key) {\n",
              "          const element = document.querySelector('#df-a1f71b2a-1dd1-4ace-84c5-d6193f54c6a0');\n",
              "          const dataTable =\n",
              "            await google.colab.kernel.invokeFunction('convertToInteractive',\n",
              "                                                     [key], {});\n",
              "          if (!dataTable) return;\n",
              "\n",
              "          const docLinkHtml = 'Like what you see? Visit the ' +\n",
              "            '<a target=\"_blank\" href=https://colab.research.google.com/notebooks/data_table.ipynb>data table notebook</a>'\n",
              "            + ' to learn more about interactive tables.';\n",
              "          element.innerHTML = '';\n",
              "          dataTable['output_type'] = 'display_data';\n",
              "          await google.colab.output.renderOutput(dataTable, element);\n",
              "          const docLink = document.createElement('div');\n",
              "          docLink.innerHTML = docLinkHtml;\n",
              "          element.appendChild(docLink);\n",
              "        }\n",
              "      </script>\n",
              "    </div>\n",
              "  </div>\n",
              "  "
            ]
          },
          "metadata": {}
        },
        {
          "output_type": "stream",
          "name": "stdout",
          "text": [
            " \n",
            "сумма продаж: 156.16\n",
            " \n",
            "доля продаж\n"
          ]
        },
        {
          "output_type": "display_data",
          "data": {
            "text/plain": [
              "4     0.309618\n",
              "3     0.277024\n",
              "9     0.130635\n",
              "10    0.091381\n",
              "0     0.056801\n",
              "Name: (other_sales, sum), dtype: float64"
            ]
          },
          "metadata": {}
        },
        {
          "output_type": "stream",
          "name": "stdout",
          "text": [
            "-------------------------------\n",
            " \n"
          ]
        }
      ],
      "source": [
        "# сгруппируем данный продаж по платформам в различных регионах\n",
        "for area in region:\n",
        "  print(area)                    # название региона\n",
        "  ar=(df_good.groupby('platform', as_index=False).agg({area: ['median','sum']}).sort_values(by =(area, 'sum'), ascending=False).head())  # группирием датафрейм и вычисляем общую сумму продаж по платформам\n",
        "  display(ar)                    #\n",
        "  print(' ')\n",
        "  print(f'сумма продаж: {df_good[area].sum()}') \n",
        "  print(' ')\n",
        "  print('доля продаж')\n",
        "  display(ar[(area, 'sum')] / (df_good[area].sum()))    # вычисляем долю продаж\n",
        "  print('-------------------------------')\n",
        "  print(' ')"
      ]
    },
    {
      "cell_type": "markdown",
      "metadata": {
        "id": "7ztFeBTXM_5G"
      },
      "source": [
        "Группировка и вычисление значений по регионам подтверждают выводы сделенные выше. В Сев.Америке лидируют в продажах по суммарным продажам X360, PS4, PS3, а по медианным значениям X360, XOne, PS4 В Европе по суммарным значениям лидируют PS4, PS3, X360. По медианным значениям X360, PS4, XOne. В Японии по суммарным и по медианным значениям 3DS, PS3, PSV."
      ]
    },
    {
      "cell_type": "code",
      "execution_count": null,
      "metadata": {
        "colab": {
          "base_uri": "https://localhost:8080/",
          "height": 1000
        },
        "id": "BQ4zk4tbNS-e",
        "outputId": "c57085ed-2711-4294-833a-fa8fb6e5a9c5"
      },
      "outputs": [
        {
          "output_type": "stream",
          "name": "stdout",
          "text": [
            "na_sales\n",
            "           genre na_sales        \n",
            "                   median     sum\n",
            "0         Action     0.02  177.84\n",
            "8        Shooter     0.20  144.77\n",
            "10        Sports     0.08   81.53\n",
            "7   Role-Playing     0.02   64.00\n",
            "3           Misc     0.01   38.19\n",
            " \n"
          ]
        },
        {
          "output_type": "display_data",
          "data": {
            "text/plain": [
              "<Figure size 432x288 with 1 Axes>"
            ],
            "image/png": "[encoded data removed]"
          },
          "metadata": {
            "needs_background": "light"
          }
        },
        {
          "output_type": "display_data",
          "data": {
            "text/plain": [
              "<Figure size 432x288 with 1 Axes>"
            ],
            "image/png": "[encoded data removed]"
          },
          "metadata": {
            "needs_background": "light"
          }
        },
        {
          "output_type": "stream",
          "name": "stdout",
          "text": [
            " \n",
            "eu_sales\n",
            "           genre eu_sales        \n",
            "                   median     sum\n",
            "0         Action     0.02  159.34\n",
            "8        Shooter     0.17  113.47\n",
            "10        Sports     0.05   69.09\n",
            "7   Role-Playing     0.01   48.53\n",
            "6         Racing     0.09   27.29\n",
            " \n"
          ]
        },
        {
          "output_type": "display_data",
          "data": {
            "text/plain": [
              "<Figure size 432x288 with 1 Axes>"
            ],
            "image/png": "[encoded data removed]"
          },
          "metadata": {
            "needs_background": "light"
          }
        },
        {
          "output_type": "display_data",
          "data": {
            "text/plain": [
              "<Figure size 432x288 with 1 Axes>"
            ],
            "image/png": "[encoded data removed]"
          },
          "metadata": {
            "needs_background": "light"
          }
        },
        {
          "output_type": "stream",
          "name": "stdout",
          "text": [
            " \n",
            "jp_sales\n",
            "          genre jp_sales       \n",
            "                  median    sum\n",
            "7  Role-Playing     0.06  65.44\n",
            "0        Action     0.01  52.80\n",
            "3          Misc     0.02  12.86\n",
            "9    Simulation     0.00  10.41\n",
            "2      Fighting     0.03   9.44\n",
            " \n"
          ]
        },
        {
          "output_type": "display_data",
          "data": {
            "text/plain": [
              "<Figure size 432x288 with 1 Axes>"
            ],
            "image/png": "[encoded data removed]"
          },
          "metadata": {
            "needs_background": "light"
          }
        },
        {
          "output_type": "display_data",
          "data": {
            "text/plain": [
              "<Figure size 432x288 with 1 Axes>"
            ],
            "image/png": "[encoded data removed]"
          },
          "metadata": {
            "needs_background": "light"
          }
        },
        {
          "output_type": "stream",
          "name": "stdout",
          "text": [
            " \n",
            "other_sales\n",
            "           genre other_sales       \n",
            "                      median    sum\n",
            "0         Action        0.01  51.14\n",
            "8        Shooter        0.05  37.26\n",
            "10        Sports        0.02  22.44\n",
            "7   Role-Playing        0.01  14.83\n",
            "3           Misc        0.00   7.67\n",
            " \n"
          ]
        },
        {
          "output_type": "display_data",
          "data": {
            "text/plain": [
              "<Figure size 432x288 with 1 Axes>"
            ],
            "image/png": "[encoded data removed]"
          },
          "metadata": {
            "needs_background": "light"
          }
        },
        {
          "output_type": "display_data",
          "data": {
            "text/plain": [
              "<Figure size 432x288 with 1 Axes>"
            ],
            "image/png": "[encoded data removed]"
          },
          "metadata": {
            "needs_background": "light"
          }
        },
        {
          "output_type": "stream",
          "name": "stdout",
          "text": [
            " \n"
          ]
        }
      ],
      "source": [
        "# Самые популярные жанры для каждого региона.\n",
        "for area in region:\n",
        "  na_g = df_good.groupby('genre', as_index=False).agg({area: ['median','sum']}).sort_values(by =(area, 'sum'), ascending=False).head()\n",
        "  print(area)\n",
        "  print(na_g)\n",
        "  print(' ')\n",
        "  sns.barplot(x=\"genre\", y=(area, 'sum'), data=na_g)\n",
        "  plt.show();\n",
        "  sns.barplot(x=\"genre\", y=(area, 'median'), data=na_g)\n",
        "  plt.show();\n",
        "  print(' ')"
      ]
    },
    {
      "cell_type": "markdown",
      "metadata": {
        "id": "Tw-Qns-VOmbx"
      },
      "source": [
        "Лидирующие жанры также различаются по регионам. В Сев.Америке и Европе по суммарным продажам Action, Shooter, Sports, по медианным продажам порядок меняется Shooter, Sports, Action. По моему мнению игры жанра Action более дешевые, но и более популярные. В Японии по суммарным продажам Role-Playing, Action, Misc, по медианным Role-Playing, Misc, Action."
      ]
    },
    {
      "cell_type": "markdown",
      "metadata": {
        "id": "PHcfFS2HPADw"
      },
      "source": [
        "Проверим зависимость продаж от рейтинга ESRB"
      ]
    },
    {
      "cell_type": "code",
      "execution_count": null,
      "metadata": {
        "colab": {
          "base_uri": "https://localhost:8080/",
          "height": 1000
        },
        "id": "EqLkjsXIO_TF",
        "outputId": "e01868bf-e81d-4f63-cd68-c59b91ff64c3"
      },
      "outputs": [
        {
          "output_type": "stream",
          "name": "stdout",
          "text": [
            "na_sales\n",
            "  rating na_sales        \n",
            "           median     sum\n",
            "3      M    0.155  231.57\n",
            "1      E    0.070  114.37\n",
            "0      0    0.000  103.31\n",
            "2   E10+    0.130   75.70\n",
            "4      T    0.050   66.02\n",
            " \n"
          ]
        },
        {
          "output_type": "display_data",
          "data": {
            "text/plain": [
              "<Figure size 432x288 with 1 Axes>"
            ],
            "image/png": "[encoded data removed]"
          },
          "metadata": {
            "needs_background": "light"
          }
        },
        {
          "output_type": "stream",
          "name": "stdout",
          "text": [
            " \n",
            "eu_sales\n",
            "  rating eu_sales        \n",
            "           median     sum\n",
            "3      M     0.13  193.96\n",
            "1      E     0.06  113.03\n",
            "0      0     0.00   91.50\n",
            "2   E10+     0.11   55.37\n",
            "4      T     0.04   52.96\n",
            " \n"
          ]
        },
        {
          "output_type": "display_data",
          "data": {
            "text/plain": [
              "<Figure size 432x288 with 1 Axes>"
            ],
            "image/png": "[encoded data removed]"
          },
          "metadata": {
            "needs_background": "light"
          }
        },
        {
          "output_type": "stream",
          "name": "stdout",
          "text": [
            " \n",
            "jp_sales\n",
            "  rating jp_sales        \n",
            "           median     sum\n",
            "0      0     0.03  108.84\n",
            "1      E     0.00   28.33\n",
            "4      T     0.01   26.02\n",
            "3      M     0.00   21.20\n",
            "2   E10+     0.00    8.19\n",
            " \n"
          ]
        },
        {
          "output_type": "display_data",
          "data": {
            "text/plain": [
              "<Figure size 432x288 with 1 Axes>"
            ],
            "image/png": "[encoded data removed]"
          },
          "metadata": {
            "needs_background": "light"
          }
        },
        {
          "output_type": "stream",
          "name": "stdout",
          "text": [
            " \n",
            "other_sales\n",
            "  rating other_sales       \n",
            "              median    sum\n",
            "3      M        0.04  63.38\n",
            "1      E        0.02  31.44\n",
            "0      0        0.00  27.17\n",
            "4      T        0.01  17.94\n",
            "2   E10+        0.03  16.23\n",
            " \n"
          ]
        },
        {
          "output_type": "display_data",
          "data": {
            "text/plain": [
              "<Figure size 432x288 with 1 Axes>"
            ],
            "image/png": "[encoded data removed]"
          },
          "metadata": {
            "needs_background": "light"
          }
        },
        {
          "output_type": "stream",
          "name": "stdout",
          "text": [
            " \n"
          ]
        }
      ],
      "source": [
        "# вычислим и выведем на экран рейтинг ESRB по регионам\n",
        "for area in region:\n",
        "  n = df_good.groupby('rating', as_index=False).agg({area: ['median','sum']}).sort_values(by =(area, 'sum'), ascending=False).head()\n",
        "  print(area)\n",
        "  print(n)\n",
        "  print(' ')\n",
        "  ax = sns.barplot(x=\"rating\", y=area, data=df_good)\n",
        "  plt.show();\n",
        "  print(' ')"
      ]
    },
    {
      "cell_type": "markdown",
      "metadata": {
        "id": "NFCithdrPndK"
      },
      "source": [
        "Зависимость рейтинга ESRB на продажи подтверждает два предыдущих вывода. Есть виды игр, которые пользуются огромной любовью в Японии (без рейтинга, похоже, что это игры жанра Role-Playing), а есть игры, которые любят весь остальной мир - M и E (похоже, что это Shooter и Action-игры) Возможо, ESRB не проставляет рейтинг японским играм, потому что японская культура существует в параллельной реальности и на параллельном рынке со своими законами.И в Японии есть собственный рейтинг игр - CERO"
      ]
    },
    {
      "cell_type": "markdown",
      "metadata": {
        "id": "8UuN7MvaPs2q"
      },
      "source": [
        "# Проверка гипотез"
      ]
    },
    {
      "cell_type": "markdown",
      "metadata": {
        "id": "2XknUZSnGoHL"
      },
      "source": [
        "Для выявления потенциально популярной платформы и планирования рекламных компаний сравним пользовательские рейтинги платформ Xbox One и PC и жанров Action и Sports."
      ]
    },
    {
      "cell_type": "markdown",
      "metadata": {
        "id": "0m2lSvOEHW4F"
      },
      "source": [
        "Сформулируем гипотезы:  \n",
        "нулевая гипотеза: Средние пользовательские рейтинги платформ Xbox One и PC одинаковые, т.е. XOne_score = PC_score.  \n",
        "альтернативная гипотеза: Средние пользовательские рейтинги платформ Xbox One и PC различаются, т.е. XOne_score != PC_score."
      ]
    },
    {
      "cell_type": "code",
      "execution_count": null,
      "metadata": {
        "colab": {
          "base_uri": "https://localhost:8080/",
          "height": 334
        },
        "id": "LwRXkv5lwDRE",
        "outputId": "c985563d-384a-4be6-8872-3a27a562c78b"
      },
      "outputs": [
        {
          "output_type": "stream",
          "name": "stdout",
          "text": [
            "Среднее значение оценок пользователей платформы XOne равно: 6.52142857142857\n",
            "Дисперсия оценок пользователей платформы XOne равна: 1.8965188383045533\n",
            " \n",
            "Распределение оценок пользователей платформы XOne:\n"
          ]
        },
        {
          "output_type": "display_data",
          "data": {
            "text/plain": [
              "<Figure size 432x288 with 1 Axes>"
            ],
            "image/png": "[encoded data removed]"
          },
          "metadata": {
            "needs_background": "light"
          }
        }
      ],
      "source": [
        "# Для проверки гипотезы сохраним пользовательские рейтинги платформы Xbox One  в переменной  'XOne_score'\n",
        "XOne_score = df_good.query('(platform == \"XOne\")&(user_score != 0.00)').user_score\n",
        "print(f'Среднее значение оценок пользователей платформы XOne равно: {XOne_score.mean()}') # Вычислим среднее значение оценок пользователей  платформы XOne\n",
        "print(f'Дисперсия оценок пользователей платформы XOne равна: {np.var(XOne_score)}')       # Вычислим дисперсию оценок пользователей  платформы XOne\n",
        "print(' ')\n",
        "print('Распределение оценок пользователей платформы XOne:')                         \n",
        "XOne_score.plot(y=XOne_score, kind='hist', bins=15);                                              # Построим гистограмму распределения оценок пользователей платформы XOne"
      ]
    },
    {
      "cell_type": "code",
      "execution_count": null,
      "metadata": {
        "colab": {
          "base_uri": "https://localhost:8080/",
          "height": 334
        },
        "id": "_nHCThrEyYho",
        "outputId": "969ade40-8eda-4aa4-a39b-fc550a0f2b5b"
      },
      "outputs": [
        {
          "output_type": "stream",
          "name": "stdout",
          "text": [
            "Среднее значение оценок пользователей платформы PC равно: 6.428640776699027\n",
            "Дисперсия оценок пользователей платформы PC равна: 2.7569952398906565\n",
            " \n",
            "Распределение оценок пользователей платформы PC:\n"
          ]
        },
        {
          "output_type": "display_data",
          "data": {
            "text/plain": [
              "<Figure size 432x288 with 1 Axes>"
            ],
            "image/png": "[encoded data removed]"
          },
          "metadata": {
            "needs_background": "light"
          }
        }
      ],
      "source": [
        "# Для проверки гипотезы сохраним пользовательские рейтинги платформы PC в переменной  'PC_score'\n",
        "PC_score = df_good.query('(platform == \"PC\")&(user_score != 0.00)').user_score\n",
        "print(f'Среднее значение оценок пользователей платформы PC равно: {PC_score.mean()}') # Вычислим среднее значение оценок пользователей  платформы PC\n",
        "print(f'Дисперсия оценок пользователей платформы PC равна: {np.var(PC_score)}')       # Вычислим дисперсию оценок пользователей  платформы PC\n",
        "print(' ')\n",
        "print('Распределение оценок пользователей платформы PC:')                         \n",
        "PC_score.plot(y=PC_score, kind='hist', bins=15);                                              # Построим гистограмму распределения оценок пользователей платформы PC"
      ]
    },
    {
      "cell_type": "markdown",
      "metadata": {
        "id": "qP8TLHzEGijU"
      },
      "source": [
        "Средние значения оценок пользователей по платформам практически не отличаются, гистограммы имеют асимметрию, что может сказать о преобладании высоких оценок пользователей. Рассчитанные дисперсии отличаются, поэтому при расчете р-значения дисперсии учитывать не будем `equal_var = False`. Критический уровень статистической значимости примем `alpha = 0.05`.  \n",
        "Проверим гипотезы. "
      ]
    },
    {
      "cell_type": "code",
      "execution_count": null,
      "metadata": {
        "colab": {
          "base_uri": "https://localhost:8080/"
        },
        "id": "WIGj-8G8GgmU",
        "outputId": "5715d4a3-c9d7-436e-ef5d-8ad3b0c2e51e"
      },
      "outputs": [
        {
          "output_type": "stream",
          "name": "stdout",
          "text": [
            "p-значение: 0.5489537965134912\n",
            "Не получилось отвергнуть нулевую гипотезу\n"
          ]
        }
      ],
      "source": [
        "alpha = 0.05  # критический уровень статистической значимости\n",
        "# если p-value окажется меньше него - отвергнем гипотезу\n",
        "\n",
        "results = st.ttest_ind(XOne_score, PC_score, equal_var = False)\n",
        "\n",
        "print('p-значение:', results.pvalue)\n",
        "\n",
        "if results.pvalue < alpha:\n",
        "    print('Отвергаем нулевую гипотезу')\n",
        "else:\n",
        "    print('Не получилось отвергнуть нулевую гипотезу') "
      ]
    },
    {
      "cell_type": "markdown",
      "metadata": {
        "id": "YXumTv1dTO3L"
      },
      "source": [
        "При проверке не получилось отвергнуть нулевую гипотезу, наблюдаемое различие в расчетных средних получилось случайно."
      ]
    },
    {
      "cell_type": "markdown",
      "metadata": {
        "id": "bkZZJcKhT9_d"
      },
      "source": [
        "Сравним пользовательские рейтинги по жанрам Action и Sports.  \n",
        "нулевая гипотеза: Средние пользовательские рейтинги жанрам Action и Sports одинаковые, т.е. Ac_score = Sp_score.  \n",
        "альтернативная гипотеза: Средние пользовательские рейтинги жанрам Action и Sports различаются, т.е. Ac_score != Sp_score."
      ]
    },
    {
      "cell_type": "code",
      "execution_count": null,
      "metadata": {
        "colab": {
          "base_uri": "https://localhost:8080/",
          "height": 334
        },
        "id": "yT1o2pHsT3Jc",
        "outputId": "d6de9037-48db-4f33-b31e-85a79ddbc74a"
      },
      "outputs": [
        {
          "output_type": "stream",
          "name": "stdout",
          "text": [
            "Среднее значение оценок пользователей жанра Action равно: 6.825047801147237\n",
            "Дисперсия оценок пользователей жанра Action равна: 1.8854720340439228\n",
            " \n",
            "Распределение оценок пользователей жанра Action:\n"
          ]
        },
        {
          "output_type": "display_data",
          "data": {
            "text/plain": [
              "<Figure size 432x288 with 1 Axes>"
            ],
            "image/png": "[encoded data removed]"
          },
          "metadata": {
            "needs_background": "light"
          }
        }
      ],
      "source": [
        "# Для проверки гипотезы сохраним пользовательские рейтинги жанра Action  в переменной  'Ac_score'\n",
        "Ac_score = df_good.query('(genre == \"Action\")&(user_score != 0.00)').user_score\n",
        "print(f'Среднее значение оценок пользователей жанра Action равно: {Ac_score.mean()}') # Вычислим среднее значение оценок пользователей  жанра Action\n",
        "print(f'Дисперсия оценок пользователей жанра Action равна: {np.var(Ac_score)}')       # Вычислим дисперсию оценок пользователей  жанра Action\n",
        "print(' ')\n",
        "print('Распределение оценок пользователей жанра Action:')                         \n",
        "Ac_score.plot(y=Ac_score, kind='hist', bins=15);                                              # Построим гистограмму распределения оценок пользователей жанра Action"
      ]
    },
    {
      "cell_type": "code",
      "execution_count": null,
      "metadata": {
        "colab": {
          "base_uri": "https://localhost:8080/",
          "height": 334
        },
        "id": "1yfJFgtvgAfk",
        "outputId": "6f666850-5c87-4be3-c0b3-2e62393d3cbd"
      },
      "outputs": [
        {
          "output_type": "stream",
          "name": "stdout",
          "text": [
            "Среднее значение оценок пользователей жанра Sports равно: 5.455897435897437\n",
            "Дисперсия оценок пользователей жанра Sports равна: 3.007388297172914\n",
            " \n",
            "Распределение оценок пользователей жанра Sports:\n"
          ]
        },
        {
          "output_type": "display_data",
          "data": {
            "text/plain": [
              "<Figure size 432x288 with 1 Axes>"
            ],
            "image/png": "[encoded data removed]"
          },
          "metadata": {
            "needs_background": "light"
          }
        }
      ],
      "source": [
        "# Для проверки гипотезы сохраним пользовательские рейтинги жанра Sports  в переменной  'Sp_score'\n",
        "Sp_score = df_good.query('(genre == \"Sports\")&(user_score != 0.00)').user_score\n",
        "print(f'Среднее значение оценок пользователей жанра Sports равно: { Sp_score.mean()}') # Вычислим среднее значение оценок пользователей  жанра Sports\n",
        "print(f'Дисперсия оценок пользователей жанра Sports равна: {np.var( Sp_score)}')       # Вычислим дисперсию оценок пользователей  жанра Sports\n",
        "print(' ')\n",
        "print('Распределение оценок пользователей жанра Sports:')                         \n",
        "Sp_score.plot(y= Sp_score, kind='hist', bins=15);                                      # Построим гистограмму распределения оценок пользователей жанра Sports"
      ]
    },
    {
      "cell_type": "markdown",
      "metadata": {
        "id": "XEDYzfeTtrDm"
      },
      "source": [
        "Средние значения оценок пользователей по жанрам имеют существенное различие , по гистограммам видно, что большее количество игр жанра Action оценены пользователями высокими оценками . Рассчитанные дисперсии отличаются, поэтому при расчете р-значения дисперсии учитывать не будем `equal_var = False`.  \n",
        "Критический уровень статистической значимости примем `alpha = 0.05`.\n",
        "Проверим гипотезы."
      ]
    },
    {
      "cell_type": "code",
      "execution_count": null,
      "metadata": {
        "colab": {
          "base_uri": "https://localhost:8080/"
        },
        "id": "7QSbL3U-gY3Q",
        "outputId": "1b7df5e0-5363-401a-fd86-98b20f86b900"
      },
      "outputs": [
        {
          "output_type": "stream",
          "name": "stdout",
          "text": [
            "p-значение: 4.24307776572644e-20\n",
            "Отвергаем нулевую гипотезу\n"
          ]
        }
      ],
      "source": [
        "alpha = 0.05  # критический уровень статистической значимости\n",
        "# если p-value окажется меньше него - отвергнем гипотезу\n",
        "\n",
        "results = st.ttest_ind(Ac_score, Sp_score, equal_var = False)\n",
        "\n",
        "print('p-значение:', results.pvalue)\n",
        "\n",
        "if results.pvalue < alpha:\n",
        "    print('Отвергаем нулевую гипотезу')\n",
        "else:\n",
        "    print('Не получилось отвергнуть нулевую гипотезу') "
      ]
    },
    {
      "cell_type": "markdown",
      "metadata": {
        "id": "jFn_djerue_m"
      },
      "source": [
        "При проведении `ttest` не получилось отвергнуть нулевую гипотезу, наблюдаемое различие в расчетных средних слишком велико."
      ]
    },
    {
      "cell_type": "markdown",
      "metadata": {
        "id": "90Pd2DRhuzdR"
      },
      "source": [
        "# Общий вывод"
      ]
    },
    {
      "cell_type": "markdown",
      "metadata": {
        "id": "YHVf3Fzau9Zo"
      },
      "source": [
        "Анализ показал, что изначальных данных были пропуски по столбцам \"name\",\"year_of_release\", \"genre\", \"critic_score\", \"user_score\",\"rating\". Причина пропусков связана с тем, что до 94-ого года не было рейтинга ESRB, также, возможно, данные просто ошибочно не были введены.  \n",
        "Так как до 94-ого года у нас были не все данные, а количество игр до этого периода выпускалось не так много, поэтому данные до 1994 года в исследовании не использовали.  \n",
        "За анализированный период большего всего продаж было на платформах PS2 - 1233.56, X360 - 961.24, PS3 - 931.34, Wii - 891.18, DS -802.76  \n",
        "Игровые предпочтения по жанрам и платформам схожи в Северной Америке, Европе и других странах, но отличаются с Японией: первые выбирают - жанры Action и Shooter-игры на платформах PlayStation и Xbox, а вторые - жанры Role-Playing и Action-игры на платформах Nintendo и PlayStation.  \n",
        "Самый высокий рейтинг от критиков (кол-во макс.оценок) у игр жанра Sports, у пользователей - Role-Playing, Action.  \n",
        "Оценки пользователей и критиков часто различаются по играм  \n",
        "По рейтингу ESRB нет информации по жанру Role-Playing, который так любим в Японии, а есть игры, которые любят весь остальной мир - M и E (похоже, что это Shooter и Action-игры)  \n",
        "Средние пользовательские рейтинги жанров Action и Sports отличаются, а по платформам Xbox One и PC одинаковые.  \n",
        "Средняя продолжительность активности игры 8-10 лет  \n",
        "Игры платформ PlayStation самые востребованные у пользователей. С каждым новым поколением игр эта платформы продаётся всё лучше. Это заметно с релизом новых версий этой платформы.\n",
        "Перспективные игры выпускаются для платформ PS4 и XOne (консоли PlayStation 4 и Xbox one), жанров Shooter, Sports, Racing (если судить по медианным значениям продаж). Успешность игры также определяется и общим количеством проданных игр, по этому критерию лидируют игры жанров Action, Shooter, Sports. По моему мнению перспективные игры жанров Shooter, Sports, по общей сумме продаж они находятся на втором и третьем местах, а по медианным значениям продаж на первом и втором.  \n",
        "Направление маркетинговой компании рекомендую планировать на игры в жанрах Shooter, Action, Sports на платформах PS4 и XOne для всего мира, а отдельно для Японии можно добавить игры жанра Role-Playing, Action на платформах 3DS, PS3.  \n"
      ]
    },
    {
      "cell_type": "code",
      "source": [
        "from google.colab import drive\n",
        "drive.mount('/content/drive')"
      ],
      "metadata": {
        "colab": {
          "base_uri": "https://localhost:8080/"
        },
        "id": "VYXm-F4FvvXg",
        "outputId": "6c97e384-6d98-41ab-aea8-2beabae4eac1"
      },
      "execution_count": null,
      "outputs": [
        {
          "output_type": "stream",
          "name": "stdout",
          "text": [
            "Drive already mounted at /content/drive; to attempt to forcibly remount, call drive.mount(\"/content/drive\", force_remount=True).\n"
          ]
        }
      ]
    }
  ],
  "metadata": {
    "ExecuteTimeLog": [
      {
        "duration": 1336,
        "start_time": "2022-02-13T20:24:17.849Z"
      },
      {
        "duration": 38,
        "start_time": "2022-02-13T20:24:19.188Z"
      },
      {
        "duration": 17,
        "start_time": "2022-02-13T20:24:19.229Z"
      },
      {
        "duration": 25,
        "start_time": "2022-02-13T20:24:19.249Z"
      },
      {
        "duration": 18,
        "start_time": "2022-02-13T20:24:19.276Z"
      },
      {
        "duration": 42,
        "start_time": "2022-02-13T20:24:19.296Z"
      },
      {
        "duration": 8,
        "start_time": "2022-02-13T20:24:19.340Z"
      },
      {
        "duration": 19,
        "start_time": "2022-02-13T20:24:19.351Z"
      },
      {
        "duration": 35,
        "start_time": "2022-02-13T20:24:19.372Z"
      },
      {
        "duration": 14,
        "start_time": "2022-02-13T20:24:19.409Z"
      },
      {
        "duration": 24,
        "start_time": "2022-02-13T20:24:19.425Z"
      },
      {
        "duration": 11,
        "start_time": "2022-02-13T20:24:19.451Z"
      },
      {
        "duration": 23,
        "start_time": "2022-02-13T20:24:19.464Z"
      },
      {
        "duration": 19,
        "start_time": "2022-02-13T20:24:19.489Z"
      },
      {
        "duration": 12,
        "start_time": "2022-02-13T20:24:19.511Z"
      },
      {
        "duration": 16,
        "start_time": "2022-02-13T20:24:19.525Z"
      },
      {
        "duration": 19,
        "start_time": "2022-02-13T20:24:19.542Z"
      },
      {
        "duration": 5,
        "start_time": "2022-02-13T20:24:19.563Z"
      },
      {
        "duration": 11,
        "start_time": "2022-02-13T20:24:19.570Z"
      },
      {
        "duration": 34,
        "start_time": "2022-02-13T20:24:19.582Z"
      },
      {
        "duration": 15,
        "start_time": "2022-02-13T20:24:19.618Z"
      },
      {
        "duration": 809,
        "start_time": "2022-02-13T20:24:19.634Z"
      },
      {
        "duration": 5,
        "start_time": "2022-02-13T20:24:20.448Z"
      },
      {
        "duration": 12,
        "start_time": "2022-02-13T20:24:20.456Z"
      },
      {
        "duration": 47,
        "start_time": "2022-02-13T20:24:20.470Z"
      },
      {
        "duration": 5,
        "start_time": "2022-02-13T20:24:20.520Z"
      },
      {
        "duration": 12,
        "start_time": "2022-02-13T20:24:20.527Z"
      },
      {
        "duration": 30,
        "start_time": "2022-02-13T20:24:20.541Z"
      },
      {
        "duration": 440,
        "start_time": "2022-02-13T20:24:20.573Z"
      },
      {
        "duration": 1320,
        "start_time": "2022-02-13T20:24:21.016Z"
      },
      {
        "duration": 27,
        "start_time": "2022-02-13T20:24:22.338Z"
      },
      {
        "duration": 10,
        "start_time": "2022-02-13T20:24:22.367Z"
      },
      {
        "duration": 50,
        "start_time": "2022-02-13T20:24:22.379Z"
      },
      {
        "duration": 9,
        "start_time": "2022-02-13T20:24:22.432Z"
      },
      {
        "duration": 19,
        "start_time": "2022-02-13T20:24:22.443Z"
      },
      {
        "duration": 5,
        "start_time": "2022-02-13T20:24:22.464Z"
      },
      {
        "duration": 40,
        "start_time": "2022-02-13T20:24:22.471Z"
      },
      {
        "duration": 440,
        "start_time": "2022-02-13T20:24:22.513Z"
      },
      {
        "duration": 178,
        "start_time": "2022-02-13T20:24:22.955Z"
      },
      {
        "duration": 741,
        "start_time": "2022-02-13T20:24:23.135Z"
      },
      {
        "duration": 6,
        "start_time": "2022-02-13T20:24:23.878Z"
      },
      {
        "duration": 636,
        "start_time": "2022-02-13T20:24:23.886Z"
      },
      {
        "duration": 6,
        "start_time": "2022-02-13T20:24:24.524Z"
      },
      {
        "duration": 698,
        "start_time": "2022-02-13T20:24:24.533Z"
      },
      {
        "duration": 6,
        "start_time": "2022-02-13T20:24:25.233Z"
      },
      {
        "duration": 14,
        "start_time": "2022-02-13T20:24:25.241Z"
      },
      {
        "duration": 4,
        "start_time": "2022-02-13T20:24:25.257Z"
      },
      {
        "duration": 90,
        "start_time": "2022-02-13T20:24:25.263Z"
      },
      {
        "duration": 1333,
        "start_time": "2022-02-13T20:24:25.355Z"
      },
      {
        "duration": 1477,
        "start_time": "2022-02-13T20:24:26.690Z"
      },
      {
        "duration": 225,
        "start_time": "2022-02-13T20:24:28.170Z"
      },
      {
        "duration": 232,
        "start_time": "2022-02-13T20:24:28.407Z"
      },
      {
        "duration": 4,
        "start_time": "2022-02-13T20:24:28.641Z"
      },
      {
        "duration": 248,
        "start_time": "2022-02-13T20:24:28.647Z"
      },
      {
        "duration": 240,
        "start_time": "2022-02-13T20:24:28.898Z"
      },
      {
        "duration": 6,
        "start_time": "2022-02-13T20:24:29.140Z"
      },
      {
        "duration": 1227,
        "start_time": "2022-02-14T10:07:33.990Z"
      },
      {
        "duration": 34,
        "start_time": "2022-02-14T10:07:35.219Z"
      },
      {
        "duration": 15,
        "start_time": "2022-02-14T10:07:35.255Z"
      },
      {
        "duration": 29,
        "start_time": "2022-02-14T10:07:35.272Z"
      },
      {
        "duration": 13,
        "start_time": "2022-02-14T10:07:35.303Z"
      },
      {
        "duration": 45,
        "start_time": "2022-02-14T10:07:35.318Z"
      },
      {
        "duration": 8,
        "start_time": "2022-02-14T10:07:35.365Z"
      },
      {
        "duration": 15,
        "start_time": "2022-02-14T10:07:35.377Z"
      },
      {
        "duration": 28,
        "start_time": "2022-02-14T10:07:35.395Z"
      },
      {
        "duration": 15,
        "start_time": "2022-02-14T10:07:35.425Z"
      },
      {
        "duration": 25,
        "start_time": "2022-02-14T10:07:35.442Z"
      },
      {
        "duration": 10,
        "start_time": "2022-02-14T10:07:35.469Z"
      },
      {
        "duration": 40,
        "start_time": "2022-02-14T10:07:35.481Z"
      },
      {
        "duration": 4,
        "start_time": "2022-02-14T10:07:35.522Z"
      },
      {
        "duration": 33,
        "start_time": "2022-02-14T10:07:35.528Z"
      },
      {
        "duration": 4,
        "start_time": "2022-02-14T10:07:35.563Z"
      },
      {
        "duration": 10,
        "start_time": "2022-02-14T10:07:35.569Z"
      },
      {
        "duration": 15,
        "start_time": "2022-02-14T10:07:35.580Z"
      },
      {
        "duration": 15,
        "start_time": "2022-02-14T10:07:35.597Z"
      },
      {
        "duration": 30,
        "start_time": "2022-02-14T10:07:35.614Z"
      },
      {
        "duration": 18,
        "start_time": "2022-02-14T10:07:35.646Z"
      },
      {
        "duration": 631,
        "start_time": "2022-02-14T10:07:35.666Z"
      },
      {
        "duration": 650,
        "start_time": "2022-02-14T10:07:36.302Z"
      },
      {
        "duration": 10,
        "start_time": "2022-02-14T10:07:36.955Z"
      },
      {
        "duration": 21,
        "start_time": "2022-02-14T10:07:36.967Z"
      },
      {
        "duration": 23,
        "start_time": "2022-02-14T10:07:36.990Z"
      },
      {
        "duration": 4,
        "start_time": "2022-02-14T10:07:37.015Z"
      },
      {
        "duration": 7,
        "start_time": "2022-02-14T10:07:37.021Z"
      },
      {
        "duration": 41,
        "start_time": "2022-02-14T10:07:37.030Z"
      },
      {
        "duration": 405,
        "start_time": "2022-02-14T10:07:37.074Z"
      },
      {
        "duration": 1294,
        "start_time": "2022-02-14T10:07:37.481Z"
      },
      {
        "duration": 23,
        "start_time": "2022-02-14T10:07:38.777Z"
      },
      {
        "duration": 9,
        "start_time": "2022-02-14T10:07:38.801Z"
      },
      {
        "duration": 20,
        "start_time": "2022-02-14T10:07:38.811Z"
      },
      {
        "duration": 13,
        "start_time": "2022-02-14T10:07:38.860Z"
      },
      {
        "duration": 17,
        "start_time": "2022-02-14T10:07:38.876Z"
      },
      {
        "duration": 3,
        "start_time": "2022-02-14T10:07:38.895Z"
      },
      {
        "duration": 7,
        "start_time": "2022-02-14T10:07:38.900Z"
      },
      {
        "duration": 444,
        "start_time": "2022-02-14T10:07:38.908Z"
      },
      {
        "duration": 179,
        "start_time": "2022-02-14T10:07:39.353Z"
      },
      {
        "duration": 637,
        "start_time": "2022-02-14T10:07:39.534Z"
      },
      {
        "duration": 7,
        "start_time": "2022-02-14T10:07:40.174Z"
      },
      {
        "duration": 617,
        "start_time": "2022-02-14T10:07:40.183Z"
      },
      {
        "duration": 6,
        "start_time": "2022-02-14T10:07:40.802Z"
      },
      {
        "duration": 610,
        "start_time": "2022-02-14T10:07:40.810Z"
      },
      {
        "duration": 5,
        "start_time": "2022-02-14T10:07:41.423Z"
      },
      {
        "duration": 13,
        "start_time": "2022-02-14T10:07:41.430Z"
      },
      {
        "duration": 6,
        "start_time": "2022-02-14T10:07:41.460Z"
      },
      {
        "duration": 91,
        "start_time": "2022-02-14T10:07:41.469Z"
      },
      {
        "duration": 790,
        "start_time": "2022-02-14T10:07:41.562Z"
      },
      {
        "duration": 1180,
        "start_time": "2022-02-14T10:07:42.354Z"
      },
      {
        "duration": 221,
        "start_time": "2022-02-14T10:07:43.537Z"
      },
      {
        "duration": 224,
        "start_time": "2022-02-14T10:07:43.761Z"
      },
      {
        "duration": 5,
        "start_time": "2022-02-14T10:07:43.986Z"
      },
      {
        "duration": 231,
        "start_time": "2022-02-14T10:07:43.993Z"
      },
      {
        "duration": 201,
        "start_time": "2022-02-14T10:07:44.225Z"
      },
      {
        "duration": 5,
        "start_time": "2022-02-14T10:07:44.428Z"
      },
      {
        "duration": 1139,
        "start_time": "2022-02-14T10:58:56.463Z"
      },
      {
        "duration": 33,
        "start_time": "2022-02-14T10:58:57.607Z"
      },
      {
        "duration": 18,
        "start_time": "2022-02-14T10:58:57.642Z"
      },
      {
        "duration": 13,
        "start_time": "2022-02-14T10:58:57.661Z"
      },
      {
        "duration": 14,
        "start_time": "2022-02-14T10:58:57.676Z"
      },
      {
        "duration": 28,
        "start_time": "2022-02-14T10:58:57.692Z"
      },
      {
        "duration": 7,
        "start_time": "2022-02-14T10:58:57.722Z"
      },
      {
        "duration": 12,
        "start_time": "2022-02-14T10:58:57.759Z"
      },
      {
        "duration": 10,
        "start_time": "2022-02-14T10:58:57.773Z"
      },
      {
        "duration": 12,
        "start_time": "2022-02-14T10:58:57.784Z"
      },
      {
        "duration": 10,
        "start_time": "2022-02-14T10:58:57.798Z"
      },
      {
        "duration": 7,
        "start_time": "2022-02-14T10:58:57.809Z"
      },
      {
        "duration": 46,
        "start_time": "2022-02-14T10:58:57.818Z"
      },
      {
        "duration": 4,
        "start_time": "2022-02-14T10:58:57.865Z"
      },
      {
        "duration": 14,
        "start_time": "2022-02-14T10:58:57.870Z"
      },
      {
        "duration": 4,
        "start_time": "2022-02-14T10:58:57.886Z"
      },
      {
        "duration": 12,
        "start_time": "2022-02-14T10:58:57.892Z"
      },
      {
        "duration": 3,
        "start_time": "2022-02-14T10:58:57.906Z"
      },
      {
        "duration": 7,
        "start_time": "2022-02-14T10:58:57.911Z"
      },
      {
        "duration": 47,
        "start_time": "2022-02-14T10:58:57.919Z"
      },
      {
        "duration": 14,
        "start_time": "2022-02-14T10:58:57.968Z"
      },
      {
        "duration": 632,
        "start_time": "2022-02-14T10:58:57.986Z"
      },
      {
        "duration": 608,
        "start_time": "2022-02-14T10:58:58.621Z"
      },
      {
        "duration": 5,
        "start_time": "2022-02-14T10:58:59.230Z"
      },
      {
        "duration": 8,
        "start_time": "2022-02-14T10:58:59.237Z"
      },
      {
        "duration": 32,
        "start_time": "2022-02-14T10:58:59.247Z"
      },
      {
        "duration": 4,
        "start_time": "2022-02-14T10:58:59.280Z"
      },
      {
        "duration": 5,
        "start_time": "2022-02-14T10:58:59.285Z"
      },
      {
        "duration": 20,
        "start_time": "2022-02-14T10:58:59.292Z"
      },
      {
        "duration": 409,
        "start_time": "2022-02-14T10:58:59.313Z"
      },
      {
        "duration": 1250,
        "start_time": "2022-02-14T10:58:59.724Z"
      },
      {
        "duration": 23,
        "start_time": "2022-02-14T10:59:00.976Z"
      },
      {
        "duration": 10,
        "start_time": "2022-02-14T10:59:01.001Z"
      },
      {
        "duration": 48,
        "start_time": "2022-02-14T10:59:01.013Z"
      },
      {
        "duration": 9,
        "start_time": "2022-02-14T10:59:01.063Z"
      },
      {
        "duration": 19,
        "start_time": "2022-02-14T10:59:01.074Z"
      },
      {
        "duration": 10,
        "start_time": "2022-02-14T10:59:01.094Z"
      },
      {
        "duration": 418,
        "start_time": "2022-02-14T10:59:01.106Z"
      },
      {
        "duration": 6,
        "start_time": "2022-02-14T10:59:01.526Z"
      },
      {
        "duration": 413,
        "start_time": "2022-02-14T10:59:01.533Z"
      },
      {
        "duration": 162,
        "start_time": "2022-02-14T10:59:01.948Z"
      },
      {
        "duration": 559,
        "start_time": "2022-02-14T10:59:02.112Z"
      },
      {
        "duration": 6,
        "start_time": "2022-02-14T10:59:02.672Z"
      },
      {
        "duration": 572,
        "start_time": "2022-02-14T10:59:02.680Z"
      },
      {
        "duration": 7,
        "start_time": "2022-02-14T10:59:03.254Z"
      },
      {
        "duration": 571,
        "start_time": "2022-02-14T10:59:03.263Z"
      },
      {
        "duration": 5,
        "start_time": "2022-02-14T10:59:03.836Z"
      },
      {
        "duration": 22,
        "start_time": "2022-02-14T10:59:03.842Z"
      },
      {
        "duration": 5,
        "start_time": "2022-02-14T10:59:03.866Z"
      },
      {
        "duration": 153,
        "start_time": "2022-02-14T10:59:03.872Z"
      },
      {
        "duration": 663,
        "start_time": "2022-02-14T10:59:04.026Z"
      },
      {
        "duration": 1113,
        "start_time": "2022-02-14T10:59:04.691Z"
      },
      {
        "duration": 211,
        "start_time": "2022-02-14T10:59:05.805Z"
      },
      {
        "duration": 199,
        "start_time": "2022-02-14T10:59:06.017Z"
      },
      {
        "duration": 5,
        "start_time": "2022-02-14T10:59:06.217Z"
      },
      {
        "duration": 198,
        "start_time": "2022-02-14T10:59:06.224Z"
      },
      {
        "duration": 278,
        "start_time": "2022-02-14T10:59:06.424Z"
      },
      {
        "duration": 5,
        "start_time": "2022-02-14T10:59:06.704Z"
      },
      {
        "duration": 393,
        "start_time": "2022-02-14T11:04:34.333Z"
      },
      {
        "duration": 1034,
        "start_time": "2022-02-14T11:07:43.899Z"
      },
      {
        "duration": 33,
        "start_time": "2022-02-14T11:07:44.935Z"
      },
      {
        "duration": 16,
        "start_time": "2022-02-14T11:07:44.970Z"
      },
      {
        "duration": 12,
        "start_time": "2022-02-14T11:07:44.988Z"
      },
      {
        "duration": 22,
        "start_time": "2022-02-14T11:07:45.003Z"
      },
      {
        "duration": 46,
        "start_time": "2022-02-14T11:07:45.027Z"
      },
      {
        "duration": 7,
        "start_time": "2022-02-14T11:07:45.074Z"
      },
      {
        "duration": 15,
        "start_time": "2022-02-14T11:07:45.083Z"
      },
      {
        "duration": 15,
        "start_time": "2022-02-14T11:07:45.100Z"
      },
      {
        "duration": 12,
        "start_time": "2022-02-14T11:07:45.117Z"
      },
      {
        "duration": 29,
        "start_time": "2022-02-14T11:07:45.131Z"
      },
      {
        "duration": 7,
        "start_time": "2022-02-14T11:07:45.162Z"
      },
      {
        "duration": 20,
        "start_time": "2022-02-14T11:07:45.171Z"
      },
      {
        "duration": 3,
        "start_time": "2022-02-14T11:07:45.192Z"
      },
      {
        "duration": 12,
        "start_time": "2022-02-14T11:07:45.197Z"
      },
      {
        "duration": 3,
        "start_time": "2022-02-14T11:07:45.211Z"
      },
      {
        "duration": 8,
        "start_time": "2022-02-14T11:07:45.216Z"
      },
      {
        "duration": 34,
        "start_time": "2022-02-14T11:07:45.225Z"
      },
      {
        "duration": 4,
        "start_time": "2022-02-14T11:07:45.261Z"
      },
      {
        "duration": 22,
        "start_time": "2022-02-14T11:07:45.267Z"
      },
      {
        "duration": 13,
        "start_time": "2022-02-14T11:07:45.290Z"
      },
      {
        "duration": 609,
        "start_time": "2022-02-14T11:07:45.305Z"
      },
      {
        "duration": 613,
        "start_time": "2022-02-14T11:07:45.918Z"
      },
      {
        "duration": 5,
        "start_time": "2022-02-14T11:07:46.534Z"
      },
      {
        "duration": 18,
        "start_time": "2022-02-14T11:07:46.541Z"
      },
      {
        "duration": 27,
        "start_time": "2022-02-14T11:07:46.561Z"
      },
      {
        "duration": 3,
        "start_time": "2022-02-14T11:07:46.590Z"
      },
      {
        "duration": 5,
        "start_time": "2022-02-14T11:07:46.595Z"
      },
      {
        "duration": 19,
        "start_time": "2022-02-14T11:07:46.601Z"
      },
      {
        "duration": 394,
        "start_time": "2022-02-14T11:07:46.622Z"
      },
      {
        "duration": 1193,
        "start_time": "2022-02-14T11:07:47.018Z"
      },
      {
        "duration": 23,
        "start_time": "2022-02-14T11:07:48.212Z"
      },
      {
        "duration": 26,
        "start_time": "2022-02-14T11:07:48.236Z"
      },
      {
        "duration": 21,
        "start_time": "2022-02-14T11:07:48.264Z"
      },
      {
        "duration": 8,
        "start_time": "2022-02-14T11:07:48.286Z"
      },
      {
        "duration": 18,
        "start_time": "2022-02-14T11:07:48.296Z"
      },
      {
        "duration": 4,
        "start_time": "2022-02-14T11:07:48.315Z"
      },
      {
        "duration": 418,
        "start_time": "2022-02-14T11:07:48.321Z"
      },
      {
        "duration": 18,
        "start_time": "2022-02-14T11:07:48.741Z"
      },
      {
        "duration": 400,
        "start_time": "2022-02-14T11:07:48.761Z"
      },
      {
        "duration": 329,
        "start_time": "2022-02-14T11:07:49.163Z"
      },
      {
        "duration": 179,
        "start_time": "2022-02-14T11:07:49.495Z"
      },
      {
        "duration": 199,
        "start_time": "2022-02-14T11:07:49.676Z"
      },
      {
        "duration": 577,
        "start_time": "2022-02-14T11:07:49.878Z"
      },
      {
        "duration": 6,
        "start_time": "2022-02-14T11:07:50.457Z"
      },
      {
        "duration": 579,
        "start_time": "2022-02-14T11:07:50.465Z"
      },
      {
        "duration": 14,
        "start_time": "2022-02-14T11:07:51.046Z"
      },
      {
        "duration": 684,
        "start_time": "2022-02-14T11:07:51.062Z"
      },
      {
        "duration": 13,
        "start_time": "2022-02-14T11:07:51.748Z"
      },
      {
        "duration": 18,
        "start_time": "2022-02-14T11:07:51.763Z"
      },
      {
        "duration": 3,
        "start_time": "2022-02-14T11:07:51.783Z"
      },
      {
        "duration": 83,
        "start_time": "2022-02-14T11:07:51.787Z"
      },
      {
        "duration": 684,
        "start_time": "2022-02-14T11:07:51.872Z"
      },
      {
        "duration": 1101,
        "start_time": "2022-02-14T11:07:52.559Z"
      },
      {
        "duration": 210,
        "start_time": "2022-02-14T11:07:53.662Z"
      },
      {
        "duration": 211,
        "start_time": "2022-02-14T11:07:53.874Z"
      },
      {
        "duration": 6,
        "start_time": "2022-02-14T11:07:54.086Z"
      },
      {
        "duration": 198,
        "start_time": "2022-02-14T11:07:54.094Z"
      },
      {
        "duration": 293,
        "start_time": "2022-02-14T11:07:54.294Z"
      },
      {
        "duration": 5,
        "start_time": "2022-02-14T11:07:54.589Z"
      },
      {
        "duration": 1131,
        "start_time": "2022-02-14T12:41:59.480Z"
      },
      {
        "duration": 35,
        "start_time": "2022-02-14T12:42:00.612Z"
      },
      {
        "duration": 23,
        "start_time": "2022-02-14T12:42:00.649Z"
      },
      {
        "duration": 18,
        "start_time": "2022-02-14T12:42:00.674Z"
      },
      {
        "duration": 21,
        "start_time": "2022-02-14T12:42:00.694Z"
      },
      {
        "duration": 43,
        "start_time": "2022-02-14T12:42:00.717Z"
      },
      {
        "duration": 7,
        "start_time": "2022-02-14T12:42:00.762Z"
      },
      {
        "duration": 16,
        "start_time": "2022-02-14T12:42:00.771Z"
      },
      {
        "duration": 10,
        "start_time": "2022-02-14T12:42:00.789Z"
      },
      {
        "duration": 15,
        "start_time": "2022-02-14T12:42:00.800Z"
      },
      {
        "duration": 10,
        "start_time": "2022-02-14T12:42:00.816Z"
      },
      {
        "duration": 36,
        "start_time": "2022-02-14T12:42:00.828Z"
      },
      {
        "duration": 37,
        "start_time": "2022-02-14T12:42:00.865Z"
      },
      {
        "duration": 4,
        "start_time": "2022-02-14T12:42:00.904Z"
      },
      {
        "duration": 17,
        "start_time": "2022-02-14T12:42:00.909Z"
      },
      {
        "duration": 12,
        "start_time": "2022-02-14T12:42:00.928Z"
      },
      {
        "duration": 38,
        "start_time": "2022-02-14T12:42:00.942Z"
      },
      {
        "duration": 25,
        "start_time": "2022-02-14T12:42:00.981Z"
      },
      {
        "duration": 16,
        "start_time": "2022-02-14T12:42:01.008Z"
      },
      {
        "duration": 25,
        "start_time": "2022-02-14T12:42:01.026Z"
      },
      {
        "duration": 12,
        "start_time": "2022-02-14T12:42:01.053Z"
      },
      {
        "duration": 620,
        "start_time": "2022-02-14T12:42:01.067Z"
      },
      {
        "duration": 632,
        "start_time": "2022-02-14T12:42:01.691Z"
      },
      {
        "duration": 5,
        "start_time": "2022-02-14T12:42:02.326Z"
      },
      {
        "duration": 24,
        "start_time": "2022-02-14T12:42:02.333Z"
      },
      {
        "duration": 26,
        "start_time": "2022-02-14T12:42:02.358Z"
      },
      {
        "duration": 4,
        "start_time": "2022-02-14T12:42:02.386Z"
      },
      {
        "duration": 17,
        "start_time": "2022-02-14T12:42:02.391Z"
      },
      {
        "duration": 27,
        "start_time": "2022-02-14T12:42:02.410Z"
      },
      {
        "duration": 392,
        "start_time": "2022-02-14T12:42:02.439Z"
      },
      {
        "duration": 1226,
        "start_time": "2022-02-14T12:42:02.833Z"
      },
      {
        "duration": 23,
        "start_time": "2022-02-14T12:42:04.060Z"
      },
      {
        "duration": 9,
        "start_time": "2022-02-14T12:42:04.085Z"
      },
      {
        "duration": 21,
        "start_time": "2022-02-14T12:42:04.095Z"
      },
      {
        "duration": 8,
        "start_time": "2022-02-14T12:42:04.118Z"
      },
      {
        "duration": 46,
        "start_time": "2022-02-14T12:42:04.127Z"
      },
      {
        "duration": 4,
        "start_time": "2022-02-14T12:42:04.174Z"
      },
      {
        "duration": 412,
        "start_time": "2022-02-14T12:42:04.180Z"
      },
      {
        "duration": 5,
        "start_time": "2022-02-14T12:42:04.594Z"
      },
      {
        "duration": 411,
        "start_time": "2022-02-14T12:42:04.601Z"
      },
      {
        "duration": 336,
        "start_time": "2022-02-14T12:42:05.014Z"
      },
      {
        "duration": 177,
        "start_time": "2022-02-14T12:42:05.353Z"
      },
      {
        "duration": 188,
        "start_time": "2022-02-14T12:42:05.532Z"
      },
      {
        "duration": 599,
        "start_time": "2022-02-14T12:42:05.722Z"
      },
      {
        "duration": 6,
        "start_time": "2022-02-14T12:42:06.322Z"
      },
      {
        "duration": 573,
        "start_time": "2022-02-14T12:42:06.329Z"
      },
      {
        "duration": 6,
        "start_time": "2022-02-14T12:42:06.903Z"
      },
      {
        "duration": 687,
        "start_time": "2022-02-14T12:42:06.910Z"
      },
      {
        "duration": 5,
        "start_time": "2022-02-14T12:42:07.599Z"
      },
      {
        "duration": 16,
        "start_time": "2022-02-14T12:42:07.606Z"
      },
      {
        "duration": 10,
        "start_time": "2022-02-14T12:42:07.624Z"
      },
      {
        "duration": 24,
        "start_time": "2022-02-14T12:42:07.636Z"
      },
      {
        "duration": 53,
        "start_time": "2022-02-14T12:42:07.662Z"
      },
      {
        "duration": 750,
        "start_time": "2022-02-14T12:42:07.717Z"
      },
      {
        "duration": 1144,
        "start_time": "2022-02-14T12:42:08.469Z"
      },
      {
        "duration": 229,
        "start_time": "2022-02-14T12:42:09.615Z"
      },
      {
        "duration": 225,
        "start_time": "2022-02-14T12:42:09.847Z"
      },
      {
        "duration": 6,
        "start_time": "2022-02-14T12:42:10.074Z"
      },
      {
        "duration": 208,
        "start_time": "2022-02-14T12:42:10.081Z"
      },
      {
        "duration": 298,
        "start_time": "2022-02-14T12:42:10.291Z"
      },
      {
        "duration": 6,
        "start_time": "2022-02-14T12:42:10.591Z"
      },
      {
        "duration": 1140,
        "start_time": "2022-02-14T14:10:18.165Z"
      },
      {
        "duration": 32,
        "start_time": "2022-02-14T14:10:19.307Z"
      },
      {
        "duration": 19,
        "start_time": "2022-02-14T14:10:19.341Z"
      },
      {
        "duration": 13,
        "start_time": "2022-02-14T14:10:19.361Z"
      },
      {
        "duration": 28,
        "start_time": "2022-02-14T14:10:19.376Z"
      },
      {
        "duration": 35,
        "start_time": "2022-02-14T14:10:19.406Z"
      },
      {
        "duration": 7,
        "start_time": "2022-02-14T14:10:19.442Z"
      },
      {
        "duration": 18,
        "start_time": "2022-02-14T14:10:19.451Z"
      },
      {
        "duration": 13,
        "start_time": "2022-02-14T14:10:19.471Z"
      },
      {
        "duration": 12,
        "start_time": "2022-02-14T14:10:19.486Z"
      },
      {
        "duration": 10,
        "start_time": "2022-02-14T14:10:19.500Z"
      },
      {
        "duration": 9,
        "start_time": "2022-02-14T14:10:19.512Z"
      },
      {
        "duration": 37,
        "start_time": "2022-02-14T14:10:19.523Z"
      },
      {
        "duration": 4,
        "start_time": "2022-02-14T14:10:19.562Z"
      },
      {
        "duration": 12,
        "start_time": "2022-02-14T14:10:19.568Z"
      },
      {
        "duration": 4,
        "start_time": "2022-02-14T14:10:19.582Z"
      },
      {
        "duration": 9,
        "start_time": "2022-02-14T14:10:19.588Z"
      },
      {
        "duration": 5,
        "start_time": "2022-02-14T14:10:19.598Z"
      },
      {
        "duration": 7,
        "start_time": "2022-02-14T14:10:19.605Z"
      },
      {
        "duration": 47,
        "start_time": "2022-02-14T14:10:19.613Z"
      },
      {
        "duration": 13,
        "start_time": "2022-02-14T14:10:19.661Z"
      },
      {
        "duration": 619,
        "start_time": "2022-02-14T14:10:19.675Z"
      },
      {
        "duration": 622,
        "start_time": "2022-02-14T14:10:20.298Z"
      },
      {
        "duration": 5,
        "start_time": "2022-02-14T14:10:20.923Z"
      },
      {
        "duration": 8,
        "start_time": "2022-02-14T14:10:20.930Z"
      },
      {
        "duration": 36,
        "start_time": "2022-02-14T14:10:20.940Z"
      },
      {
        "duration": 3,
        "start_time": "2022-02-14T14:10:20.978Z"
      },
      {
        "duration": 7,
        "start_time": "2022-02-14T14:10:20.982Z"
      },
      {
        "duration": 22,
        "start_time": "2022-02-14T14:10:20.990Z"
      },
      {
        "duration": 407,
        "start_time": "2022-02-14T14:10:21.014Z"
      },
      {
        "duration": 1244,
        "start_time": "2022-02-14T14:10:21.423Z"
      },
      {
        "duration": 24,
        "start_time": "2022-02-14T14:10:22.668Z"
      },
      {
        "duration": 10,
        "start_time": "2022-02-14T14:10:22.693Z"
      },
      {
        "duration": 22,
        "start_time": "2022-02-14T14:10:22.704Z"
      },
      {
        "duration": 36,
        "start_time": "2022-02-14T14:10:22.728Z"
      },
      {
        "duration": 18,
        "start_time": "2022-02-14T14:10:22.766Z"
      },
      {
        "duration": 20,
        "start_time": "2022-02-14T14:10:22.785Z"
      },
      {
        "duration": 415,
        "start_time": "2022-02-14T14:10:22.807Z"
      },
      {
        "duration": 6,
        "start_time": "2022-02-14T14:10:23.224Z"
      },
      {
        "duration": 1326,
        "start_time": "2022-02-15T12:33:50.849Z"
      },
      {
        "duration": 36,
        "start_time": "2022-02-15T12:33:52.177Z"
      },
      {
        "duration": 60,
        "start_time": "2022-02-15T12:33:52.216Z"
      },
      {
        "duration": 14,
        "start_time": "2022-02-15T12:33:52.278Z"
      },
      {
        "duration": 14,
        "start_time": "2022-02-15T12:33:52.293Z"
      },
      {
        "duration": 84,
        "start_time": "2022-02-15T12:33:52.309Z"
      },
      {
        "duration": 7,
        "start_time": "2022-02-15T12:33:52.394Z"
      },
      {
        "duration": 15,
        "start_time": "2022-02-15T12:33:52.404Z"
      },
      {
        "duration": 12,
        "start_time": "2022-02-15T12:33:52.421Z"
      },
      {
        "duration": 43,
        "start_time": "2022-02-15T12:33:52.434Z"
      },
      {
        "duration": 12,
        "start_time": "2022-02-15T12:33:52.479Z"
      },
      {
        "duration": 11,
        "start_time": "2022-02-15T12:33:52.493Z"
      },
      {
        "duration": 29,
        "start_time": "2022-02-15T12:33:52.506Z"
      },
      {
        "duration": 4,
        "start_time": "2022-02-15T12:33:52.536Z"
      },
      {
        "duration": 37,
        "start_time": "2022-02-15T12:33:52.541Z"
      },
      {
        "duration": 4,
        "start_time": "2022-02-15T12:33:52.579Z"
      },
      {
        "duration": 13,
        "start_time": "2022-02-15T12:33:52.585Z"
      },
      {
        "duration": 6,
        "start_time": "2022-02-15T12:33:52.600Z"
      },
      {
        "duration": 8,
        "start_time": "2022-02-15T12:33:52.607Z"
      },
      {
        "duration": 19,
        "start_time": "2022-02-15T12:33:52.616Z"
      },
      {
        "duration": 36,
        "start_time": "2022-02-15T12:33:52.636Z"
      },
      {
        "duration": 676,
        "start_time": "2022-02-15T12:33:52.674Z"
      },
      {
        "duration": 697,
        "start_time": "2022-02-15T12:33:53.354Z"
      },
      {
        "duration": 5,
        "start_time": "2022-02-15T12:33:54.054Z"
      },
      {
        "duration": 7,
        "start_time": "2022-02-15T12:33:54.069Z"
      },
      {
        "duration": 28,
        "start_time": "2022-02-15T12:33:54.078Z"
      },
      {
        "duration": 4,
        "start_time": "2022-02-15T12:33:54.107Z"
      },
      {
        "duration": 15,
        "start_time": "2022-02-15T12:33:54.112Z"
      },
      {
        "duration": 32,
        "start_time": "2022-02-15T12:33:54.128Z"
      },
      {
        "duration": 436,
        "start_time": "2022-02-15T12:33:54.162Z"
      },
      {
        "duration": 1350,
        "start_time": "2022-02-15T12:33:54.600Z"
      },
      {
        "duration": 33,
        "start_time": "2022-02-15T12:33:55.952Z"
      },
      {
        "duration": 9,
        "start_time": "2022-02-15T12:33:55.987Z"
      },
      {
        "duration": 28,
        "start_time": "2022-02-15T12:33:55.998Z"
      },
      {
        "duration": 8,
        "start_time": "2022-02-15T12:33:56.028Z"
      },
      {
        "duration": 40,
        "start_time": "2022-02-15T12:33:56.037Z"
      },
      {
        "duration": 5,
        "start_time": "2022-02-15T12:33:56.079Z"
      },
      {
        "duration": 442,
        "start_time": "2022-02-15T12:33:56.086Z"
      },
      {
        "duration": 6,
        "start_time": "2022-02-15T12:33:56.530Z"
      },
      {
        "duration": 454,
        "start_time": "2022-02-15T12:33:56.537Z"
      },
      {
        "duration": 360,
        "start_time": "2022-02-15T12:33:56.994Z"
      },
      {
        "duration": 178,
        "start_time": "2022-02-15T12:33:57.356Z"
      },
      {
        "duration": 200,
        "start_time": "2022-02-15T12:33:57.536Z"
      },
      {
        "duration": 637,
        "start_time": "2022-02-15T12:33:57.738Z"
      },
      {
        "duration": 7,
        "start_time": "2022-02-15T12:33:58.377Z"
      },
      {
        "duration": 655,
        "start_time": "2022-02-15T12:33:58.386Z"
      },
      {
        "duration": 7,
        "start_time": "2022-02-15T12:33:59.043Z"
      },
      {
        "duration": 737,
        "start_time": "2022-02-15T12:33:59.052Z"
      },
      {
        "duration": 6,
        "start_time": "2022-02-15T12:33:59.791Z"
      },
      {
        "duration": 20,
        "start_time": "2022-02-15T12:33:59.799Z"
      },
      {
        "duration": 17,
        "start_time": "2022-02-15T12:33:59.821Z"
      },
      {
        "duration": 23,
        "start_time": "2022-02-15T12:33:59.840Z"
      },
      {
        "duration": 67,
        "start_time": "2022-02-15T12:33:59.865Z"
      },
      {
        "duration": 758,
        "start_time": "2022-02-15T12:33:59.934Z"
      },
      {
        "duration": 1321,
        "start_time": "2022-02-15T12:34:00.693Z"
      },
      {
        "duration": 245,
        "start_time": "2022-02-15T12:34:02.017Z"
      },
      {
        "duration": 252,
        "start_time": "2022-02-15T12:34:02.269Z"
      },
      {
        "duration": 5,
        "start_time": "2022-02-15T12:34:02.523Z"
      },
      {
        "duration": 363,
        "start_time": "2022-02-15T12:34:02.530Z"
      },
      {
        "duration": 508,
        "start_time": "2022-02-15T12:34:02.895Z"
      },
      {
        "duration": 5,
        "start_time": "2022-02-15T12:34:03.404Z"
      },
      {
        "duration": 25,
        "start_time": "2022-02-15T12:35:34.854Z"
      },
      {
        "duration": 1385,
        "start_time": "2022-02-15T14:11:51.222Z"
      },
      {
        "duration": 55,
        "start_time": "2022-02-15T14:11:52.609Z"
      },
      {
        "duration": 19,
        "start_time": "2022-02-15T14:11:52.666Z"
      },
      {
        "duration": 14,
        "start_time": "2022-02-15T14:11:52.687Z"
      },
      {
        "duration": 15,
        "start_time": "2022-02-15T14:11:52.703Z"
      },
      {
        "duration": 50,
        "start_time": "2022-02-15T14:11:52.719Z"
      },
      {
        "duration": 8,
        "start_time": "2022-02-15T14:11:52.771Z"
      },
      {
        "duration": 18,
        "start_time": "2022-02-15T14:11:52.782Z"
      },
      {
        "duration": 10,
        "start_time": "2022-02-15T14:11:52.802Z"
      },
      {
        "duration": 10,
        "start_time": "2022-02-15T14:11:52.813Z"
      },
      {
        "duration": 8,
        "start_time": "2022-02-15T14:11:52.845Z"
      },
      {
        "duration": 10,
        "start_time": "2022-02-15T14:11:52.854Z"
      },
      {
        "duration": 21,
        "start_time": "2022-02-15T14:11:52.865Z"
      },
      {
        "duration": 3,
        "start_time": "2022-02-15T14:11:52.888Z"
      },
      {
        "duration": 14,
        "start_time": "2022-02-15T14:11:52.892Z"
      },
      {
        "duration": 4,
        "start_time": "2022-02-15T14:11:52.907Z"
      },
      {
        "duration": 12,
        "start_time": "2022-02-15T14:11:52.912Z"
      },
      {
        "duration": 23,
        "start_time": "2022-02-15T14:11:52.925Z"
      },
      {
        "duration": 7,
        "start_time": "2022-02-15T14:11:52.949Z"
      },
      {
        "duration": 15,
        "start_time": "2022-02-15T14:11:52.957Z"
      },
      {
        "duration": 11,
        "start_time": "2022-02-15T14:11:52.974Z"
      },
      {
        "duration": 542,
        "start_time": "2022-02-15T14:11:52.987Z"
      },
      {
        "duration": 542,
        "start_time": "2022-02-15T14:11:53.533Z"
      },
      {
        "duration": 5,
        "start_time": "2022-02-15T14:11:54.078Z"
      },
      {
        "duration": 7,
        "start_time": "2022-02-15T14:11:54.084Z"
      },
      {
        "duration": 21,
        "start_time": "2022-02-15T14:11:54.093Z"
      },
      {
        "duration": 4,
        "start_time": "2022-02-15T14:11:54.116Z"
      },
      {
        "duration": 27,
        "start_time": "2022-02-15T14:11:54.121Z"
      },
      {
        "duration": 25,
        "start_time": "2022-02-15T14:11:54.150Z"
      },
      {
        "duration": 523,
        "start_time": "2022-02-15T14:11:54.177Z"
      },
      {
        "duration": 1547,
        "start_time": "2022-02-15T14:11:54.702Z"
      },
      {
        "duration": 31,
        "start_time": "2022-02-15T14:11:56.251Z"
      },
      {
        "duration": 10,
        "start_time": "2022-02-15T14:11:56.284Z"
      },
      {
        "duration": 26,
        "start_time": "2022-02-15T14:11:56.296Z"
      },
      {
        "duration": 29,
        "start_time": "2022-02-15T14:11:56.324Z"
      },
      {
        "duration": 21,
        "start_time": "2022-02-15T14:11:56.355Z"
      },
      {
        "duration": 5,
        "start_time": "2022-02-15T14:11:56.378Z"
      },
      {
        "duration": 362,
        "start_time": "2022-02-15T14:11:56.384Z"
      },
      {
        "duration": 20,
        "start_time": "2022-02-15T14:11:56.747Z"
      },
      {
        "duration": 5,
        "start_time": "2022-02-15T14:11:56.769Z"
      },
      {
        "duration": 380,
        "start_time": "2022-02-15T14:11:56.775Z"
      },
      {
        "duration": 314,
        "start_time": "2022-02-15T14:11:57.157Z"
      },
      {
        "duration": 140,
        "start_time": "2022-02-15T14:11:57.473Z"
      },
      {
        "duration": 168,
        "start_time": "2022-02-15T14:11:57.614Z"
      },
      {
        "duration": 508,
        "start_time": "2022-02-15T14:11:57.784Z"
      },
      {
        "duration": 5,
        "start_time": "2022-02-15T14:11:58.294Z"
      },
      {
        "duration": 523,
        "start_time": "2022-02-15T14:11:58.300Z"
      },
      {
        "duration": 6,
        "start_time": "2022-02-15T14:11:58.825Z"
      },
      {
        "duration": 684,
        "start_time": "2022-02-15T14:11:58.833Z"
      },
      {
        "duration": 5,
        "start_time": "2022-02-15T14:11:59.520Z"
      },
      {
        "duration": 27,
        "start_time": "2022-02-15T14:11:59.527Z"
      },
      {
        "duration": 10,
        "start_time": "2022-02-15T14:11:59.555Z"
      },
      {
        "duration": 14,
        "start_time": "2022-02-15T14:11:59.567Z"
      },
      {
        "duration": 71,
        "start_time": "2022-02-15T14:11:59.583Z"
      },
      {
        "duration": 727,
        "start_time": "2022-02-15T14:11:59.655Z"
      },
      {
        "duration": 1114,
        "start_time": "2022-02-15T14:12:00.384Z"
      },
      {
        "duration": 201,
        "start_time": "2022-02-15T14:12:01.499Z"
      },
      {
        "duration": 206,
        "start_time": "2022-02-15T14:12:01.702Z"
      },
      {
        "duration": 4,
        "start_time": "2022-02-15T14:12:01.910Z"
      },
      {
        "duration": 184,
        "start_time": "2022-02-15T14:12:01.916Z"
      },
      {
        "duration": 333,
        "start_time": "2022-02-15T14:12:02.102Z"
      },
      {
        "duration": 5,
        "start_time": "2022-02-15T14:12:02.436Z"
      },
      {
        "duration": 398,
        "start_time": "2022-02-15T14:12:02.446Z"
      },
      {
        "duration": 1085,
        "start_time": "2022-02-15T15:37:45.694Z"
      },
      {
        "duration": 34,
        "start_time": "2022-02-15T15:37:46.780Z"
      },
      {
        "duration": 13,
        "start_time": "2022-02-15T15:37:46.815Z"
      },
      {
        "duration": 11,
        "start_time": "2022-02-15T15:37:46.830Z"
      },
      {
        "duration": 11,
        "start_time": "2022-02-15T15:37:46.842Z"
      },
      {
        "duration": 25,
        "start_time": "2022-02-15T15:37:46.854Z"
      },
      {
        "duration": 5,
        "start_time": "2022-02-15T15:37:46.880Z"
      },
      {
        "duration": 10,
        "start_time": "2022-02-15T15:37:46.888Z"
      },
      {
        "duration": 8,
        "start_time": "2022-02-15T15:37:46.900Z"
      },
      {
        "duration": 17,
        "start_time": "2022-02-15T15:37:46.945Z"
      },
      {
        "duration": 10,
        "start_time": "2022-02-15T15:37:46.964Z"
      },
      {
        "duration": 8,
        "start_time": "2022-02-15T15:37:46.976Z"
      },
      {
        "duration": 29,
        "start_time": "2022-02-15T15:37:46.986Z"
      },
      {
        "duration": 3,
        "start_time": "2022-02-15T15:37:47.017Z"
      },
      {
        "duration": 33,
        "start_time": "2022-02-15T15:37:47.021Z"
      },
      {
        "duration": 3,
        "start_time": "2022-02-15T15:37:47.056Z"
      },
      {
        "duration": 10,
        "start_time": "2022-02-15T15:37:47.061Z"
      },
      {
        "duration": 5,
        "start_time": "2022-02-15T15:37:47.073Z"
      },
      {
        "duration": 6,
        "start_time": "2022-02-15T15:37:47.079Z"
      },
      {
        "duration": 15,
        "start_time": "2022-02-15T15:37:47.086Z"
      },
      {
        "duration": 12,
        "start_time": "2022-02-15T15:37:47.103Z"
      },
      {
        "duration": 573,
        "start_time": "2022-02-15T15:37:47.116Z"
      },
      {
        "duration": 545,
        "start_time": "2022-02-15T15:37:47.693Z"
      },
      {
        "duration": 7,
        "start_time": "2022-02-15T15:37:48.241Z"
      },
      {
        "duration": 6,
        "start_time": "2022-02-15T15:37:48.250Z"
      },
      {
        "duration": 19,
        "start_time": "2022-02-15T15:37:48.258Z"
      },
      {
        "duration": 4,
        "start_time": "2022-02-15T15:37:48.278Z"
      },
      {
        "duration": 6,
        "start_time": "2022-02-15T15:37:48.284Z"
      },
      {
        "duration": 25,
        "start_time": "2022-02-15T15:37:48.292Z"
      },
      {
        "duration": 578,
        "start_time": "2022-02-15T15:37:48.319Z"
      },
      {
        "duration": 1032,
        "start_time": "2022-02-15T15:37:48.899Z"
      },
      {
        "duration": 28,
        "start_time": "2022-02-15T15:37:49.933Z"
      },
      {
        "duration": 8,
        "start_time": "2022-02-15T15:37:49.963Z"
      },
      {
        "duration": 19,
        "start_time": "2022-02-15T15:37:49.973Z"
      },
      {
        "duration": 7,
        "start_time": "2022-02-15T15:37:49.993Z"
      },
      {
        "duration": 44,
        "start_time": "2022-02-15T15:37:50.002Z"
      },
      {
        "duration": 4,
        "start_time": "2022-02-15T15:37:50.048Z"
      },
      {
        "duration": 351,
        "start_time": "2022-02-15T15:37:50.053Z"
      },
      {
        "duration": 21,
        "start_time": "2022-02-15T15:37:50.406Z"
      },
      {
        "duration": 18,
        "start_time": "2022-02-15T15:37:50.428Z"
      },
      {
        "duration": 369,
        "start_time": "2022-02-15T15:37:50.447Z"
      },
      {
        "duration": 308,
        "start_time": "2022-02-15T15:37:50.817Z"
      },
      {
        "duration": 154,
        "start_time": "2022-02-15T15:37:51.126Z"
      },
      {
        "duration": 190,
        "start_time": "2022-02-15T15:37:51.282Z"
      },
      {
        "duration": 509,
        "start_time": "2022-02-15T15:37:51.474Z"
      },
      {
        "duration": 5,
        "start_time": "2022-02-15T15:37:51.984Z"
      },
      {
        "duration": 505,
        "start_time": "2022-02-15T15:37:51.991Z"
      },
      {
        "duration": 5,
        "start_time": "2022-02-15T15:37:52.497Z"
      },
      {
        "duration": 588,
        "start_time": "2022-02-15T15:37:52.503Z"
      },
      {
        "duration": 5,
        "start_time": "2022-02-15T15:37:53.092Z"
      },
      {
        "duration": 12,
        "start_time": "2022-02-15T15:37:53.098Z"
      },
      {
        "duration": 10,
        "start_time": "2022-02-15T15:37:53.111Z"
      },
      {
        "duration": 24,
        "start_time": "2022-02-15T15:37:53.123Z"
      },
      {
        "duration": 49,
        "start_time": "2022-02-15T15:37:53.149Z"
      },
      {
        "duration": 773,
        "start_time": "2022-02-15T15:37:53.200Z"
      },
      {
        "duration": 1117,
        "start_time": "2022-02-15T15:37:53.975Z"
      },
      {
        "duration": 182,
        "start_time": "2022-02-15T15:37:55.094Z"
      },
      {
        "duration": 178,
        "start_time": "2022-02-15T15:37:55.277Z"
      },
      {
        "duration": 4,
        "start_time": "2022-02-15T15:37:55.456Z"
      },
      {
        "duration": 173,
        "start_time": "2022-02-15T15:37:55.462Z"
      },
      {
        "duration": 243,
        "start_time": "2022-02-15T15:37:55.637Z"
      },
      {
        "duration": 5,
        "start_time": "2022-02-15T15:37:55.881Z"
      },
      {
        "duration": 385,
        "start_time": "2022-02-15T15:37:55.888Z"
      },
      {
        "duration": 3,
        "start_time": "2022-02-15T15:37:56.274Z"
      },
      {
        "duration": 334,
        "start_time": "2022-02-15T15:37:56.279Z"
      },
      {
        "duration": 521,
        "start_time": "2022-02-15T15:37:56.614Z"
      },
      {
        "duration": 11,
        "start_time": "2022-02-15T15:37:57.137Z"
      },
      {
        "duration": 509,
        "start_time": "2022-02-15T15:37:57.152Z"
      },
      {
        "duration": 4,
        "start_time": "2022-02-15T15:37:57.663Z"
      },
      {
        "duration": 425,
        "start_time": "2022-02-15T15:37:57.669Z"
      },
      {
        "duration": 20,
        "start_time": "2022-02-15T15:38:24.910Z"
      },
      {
        "duration": 329,
        "start_time": "2022-02-15T15:39:29.773Z"
      },
      {
        "duration": 15,
        "start_time": "2022-02-15T15:41:22.380Z"
      },
      {
        "duration": 15,
        "start_time": "2022-02-15T15:41:43.102Z"
      },
      {
        "duration": 14,
        "start_time": "2022-02-15T15:44:06.427Z"
      },
      {
        "duration": 1134,
        "start_time": "2022-02-15T15:52:21.763Z"
      },
      {
        "duration": 36,
        "start_time": "2022-02-15T15:52:22.898Z"
      },
      {
        "duration": 14,
        "start_time": "2022-02-15T15:52:22.936Z"
      },
      {
        "duration": 29,
        "start_time": "2022-02-15T15:52:22.952Z"
      },
      {
        "duration": 11,
        "start_time": "2022-02-15T15:52:22.982Z"
      },
      {
        "duration": 24,
        "start_time": "2022-02-15T15:52:22.995Z"
      },
      {
        "duration": 6,
        "start_time": "2022-02-15T15:52:23.021Z"
      },
      {
        "duration": 23,
        "start_time": "2022-02-15T15:52:23.029Z"
      },
      {
        "duration": 11,
        "start_time": "2022-02-15T15:52:23.054Z"
      },
      {
        "duration": 15,
        "start_time": "2022-02-15T15:52:23.066Z"
      },
      {
        "duration": 8,
        "start_time": "2022-02-15T15:52:23.082Z"
      },
      {
        "duration": 7,
        "start_time": "2022-02-15T15:52:23.091Z"
      },
      {
        "duration": 20,
        "start_time": "2022-02-15T15:52:23.099Z"
      },
      {
        "duration": 3,
        "start_time": "2022-02-15T15:52:23.121Z"
      },
      {
        "duration": 14,
        "start_time": "2022-02-15T15:52:23.146Z"
      },
      {
        "duration": 10,
        "start_time": "2022-02-15T15:52:23.162Z"
      },
      {
        "duration": 8,
        "start_time": "2022-02-15T15:52:23.173Z"
      },
      {
        "duration": 3,
        "start_time": "2022-02-15T15:52:23.183Z"
      },
      {
        "duration": 6,
        "start_time": "2022-02-15T15:52:23.187Z"
      },
      {
        "duration": 14,
        "start_time": "2022-02-15T15:52:23.195Z"
      },
      {
        "duration": 45,
        "start_time": "2022-02-15T15:52:23.211Z"
      },
      {
        "duration": 864,
        "start_time": "2022-02-15T15:52:23.257Z"
      },
      {
        "duration": 565,
        "start_time": "2022-02-15T15:52:24.126Z"
      },
      {
        "duration": 5,
        "start_time": "2022-02-15T15:52:24.694Z"
      },
      {
        "duration": 5,
        "start_time": "2022-02-15T15:52:24.700Z"
      },
      {
        "duration": 41,
        "start_time": "2022-02-15T15:52:24.706Z"
      },
      {
        "duration": 3,
        "start_time": "2022-02-15T15:52:24.748Z"
      },
      {
        "duration": 14,
        "start_time": "2022-02-15T15:52:24.753Z"
      },
      {
        "duration": 25,
        "start_time": "2022-02-15T15:52:24.770Z"
      },
      {
        "duration": 557,
        "start_time": "2022-02-15T15:52:24.796Z"
      },
      {
        "duration": 1676,
        "start_time": "2022-02-15T15:52:25.354Z"
      },
      {
        "duration": 34,
        "start_time": "2022-02-15T15:52:27.032Z"
      },
      {
        "duration": 8,
        "start_time": "2022-02-15T15:52:27.068Z"
      },
      {
        "duration": 17,
        "start_time": "2022-02-15T15:52:27.078Z"
      },
      {
        "duration": 7,
        "start_time": "2022-02-15T15:52:27.096Z"
      },
      {
        "duration": 14,
        "start_time": "2022-02-15T15:52:27.105Z"
      },
      {
        "duration": 32,
        "start_time": "2022-02-15T15:52:27.120Z"
      },
      {
        "duration": 367,
        "start_time": "2022-02-15T15:52:27.154Z"
      },
      {
        "duration": 36,
        "start_time": "2022-02-15T15:52:27.522Z"
      },
      {
        "duration": 5,
        "start_time": "2022-02-15T15:52:27.559Z"
      },
      {
        "duration": 480,
        "start_time": "2022-02-15T15:52:27.566Z"
      },
      {
        "duration": 308,
        "start_time": "2022-02-15T15:52:28.050Z"
      },
      {
        "duration": 215,
        "start_time": "2022-02-15T15:52:28.360Z"
      },
      {
        "duration": 204,
        "start_time": "2022-02-15T15:52:28.578Z"
      },
      {
        "duration": 526,
        "start_time": "2022-02-15T15:52:28.784Z"
      },
      {
        "duration": 6,
        "start_time": "2022-02-15T15:52:29.312Z"
      },
      {
        "duration": 541,
        "start_time": "2022-02-15T15:52:29.320Z"
      },
      {
        "duration": 5,
        "start_time": "2022-02-15T15:52:29.863Z"
      },
      {
        "duration": 721,
        "start_time": "2022-02-15T15:52:29.869Z"
      },
      {
        "duration": 5,
        "start_time": "2022-02-15T15:52:30.591Z"
      },
      {
        "duration": 30,
        "start_time": "2022-02-15T15:52:30.598Z"
      },
      {
        "duration": 28,
        "start_time": "2022-02-15T15:52:30.630Z"
      },
      {
        "duration": 21,
        "start_time": "2022-02-15T15:52:30.659Z"
      },
      {
        "duration": 64,
        "start_time": "2022-02-15T15:52:30.682Z"
      },
      {
        "duration": 679,
        "start_time": "2022-02-15T15:52:30.747Z"
      },
      {
        "duration": 1066,
        "start_time": "2022-02-15T15:52:31.428Z"
      },
      {
        "duration": 188,
        "start_time": "2022-02-15T15:52:32.496Z"
      },
      {
        "duration": 188,
        "start_time": "2022-02-15T15:52:32.685Z"
      },
      {
        "duration": 4,
        "start_time": "2022-02-15T15:52:32.874Z"
      },
      {
        "duration": 180,
        "start_time": "2022-02-15T15:52:32.880Z"
      },
      {
        "duration": 299,
        "start_time": "2022-02-15T15:52:33.062Z"
      },
      {
        "duration": 24,
        "start_time": "2022-02-15T15:52:33.370Z"
      },
      {
        "duration": 758,
        "start_time": "2022-02-15T15:52:33.410Z"
      },
      {
        "duration": 3,
        "start_time": "2022-02-15T15:52:34.170Z"
      },
      {
        "duration": 344,
        "start_time": "2022-02-15T15:52:34.175Z"
      },
      {
        "duration": 533,
        "start_time": "2022-02-15T15:52:34.521Z"
      },
      {
        "duration": 5,
        "start_time": "2022-02-15T15:52:35.056Z"
      },
      {
        "duration": 543,
        "start_time": "2022-02-15T15:52:35.066Z"
      },
      {
        "duration": 5,
        "start_time": "2022-02-15T15:52:35.611Z"
      },
      {
        "duration": 40,
        "start_time": "2022-02-15T15:52:35.617Z"
      },
      {
        "duration": 8,
        "start_time": "2022-02-15T15:52:35.659Z"
      },
      {
        "duration": 102,
        "start_time": "2022-02-15T15:52:35.669Z"
      },
      {
        "duration": 1458,
        "start_time": "2022-02-15T15:52:35.773Z"
      },
      {
        "duration": 1104,
        "start_time": "2022-02-15T15:54:54.268Z"
      },
      {
        "duration": 35,
        "start_time": "2022-02-15T15:54:55.374Z"
      },
      {
        "duration": 14,
        "start_time": "2022-02-15T15:54:55.412Z"
      },
      {
        "duration": 25,
        "start_time": "2022-02-15T15:54:55.428Z"
      },
      {
        "duration": 16,
        "start_time": "2022-02-15T15:54:55.455Z"
      },
      {
        "duration": 32,
        "start_time": "2022-02-15T15:54:55.473Z"
      },
      {
        "duration": 6,
        "start_time": "2022-02-15T15:54:55.506Z"
      },
      {
        "duration": 12,
        "start_time": "2022-02-15T15:54:55.515Z"
      },
      {
        "duration": 11,
        "start_time": "2022-02-15T15:54:55.547Z"
      },
      {
        "duration": 13,
        "start_time": "2022-02-15T15:54:55.559Z"
      },
      {
        "duration": 8,
        "start_time": "2022-02-15T15:54:55.574Z"
      },
      {
        "duration": 7,
        "start_time": "2022-02-15T15:54:55.583Z"
      },
      {
        "duration": 20,
        "start_time": "2022-02-15T15:54:55.592Z"
      },
      {
        "duration": 3,
        "start_time": "2022-02-15T15:54:55.614Z"
      },
      {
        "duration": 42,
        "start_time": "2022-02-15T15:54:55.618Z"
      },
      {
        "duration": 6,
        "start_time": "2022-02-15T15:54:55.661Z"
      },
      {
        "duration": 7,
        "start_time": "2022-02-15T15:54:55.668Z"
      },
      {
        "duration": 6,
        "start_time": "2022-02-15T15:54:55.676Z"
      },
      {
        "duration": 9,
        "start_time": "2022-02-15T15:54:55.683Z"
      },
      {
        "duration": 15,
        "start_time": "2022-02-15T15:54:55.693Z"
      },
      {
        "duration": 10,
        "start_time": "2022-02-15T15:54:55.710Z"
      },
      {
        "duration": 565,
        "start_time": "2022-02-15T15:54:55.722Z"
      },
      {
        "duration": 557,
        "start_time": "2022-02-15T15:54:56.291Z"
      },
      {
        "duration": 6,
        "start_time": "2022-02-15T15:54:56.850Z"
      },
      {
        "duration": 13,
        "start_time": "2022-02-15T15:54:56.858Z"
      },
      {
        "duration": 23,
        "start_time": "2022-02-15T15:54:56.872Z"
      },
      {
        "duration": 3,
        "start_time": "2022-02-15T15:54:56.897Z"
      },
      {
        "duration": 7,
        "start_time": "2022-02-15T15:54:56.902Z"
      },
      {
        "duration": 18,
        "start_time": "2022-02-15T15:54:56.911Z"
      },
      {
        "duration": 370,
        "start_time": "2022-02-15T15:54:56.931Z"
      },
      {
        "duration": 1065,
        "start_time": "2022-02-15T15:54:57.302Z"
      },
      {
        "duration": 22,
        "start_time": "2022-02-15T15:54:58.369Z"
      },
      {
        "duration": 8,
        "start_time": "2022-02-15T15:54:58.392Z"
      },
      {
        "duration": 20,
        "start_time": "2022-02-15T15:54:58.401Z"
      },
      {
        "duration": 31,
        "start_time": "2022-02-15T15:54:58.423Z"
      },
      {
        "duration": 20,
        "start_time": "2022-02-15T15:54:58.456Z"
      },
      {
        "duration": 5,
        "start_time": "2022-02-15T15:54:58.477Z"
      },
      {
        "duration": 389,
        "start_time": "2022-02-15T15:54:58.484Z"
      },
      {
        "duration": 21,
        "start_time": "2022-02-15T15:54:58.877Z"
      },
      {
        "duration": 4,
        "start_time": "2022-02-15T15:54:58.899Z"
      },
      {
        "duration": 404,
        "start_time": "2022-02-15T15:54:58.905Z"
      },
      {
        "duration": 331,
        "start_time": "2022-02-15T15:54:59.311Z"
      },
      {
        "duration": 160,
        "start_time": "2022-02-15T15:54:59.645Z"
      },
      {
        "duration": 180,
        "start_time": "2022-02-15T15:54:59.807Z"
      },
      {
        "duration": 558,
        "start_time": "2022-02-15T15:54:59.989Z"
      },
      {
        "duration": 6,
        "start_time": "2022-02-15T15:55:00.551Z"
      },
      {
        "duration": 754,
        "start_time": "2022-02-15T15:55:00.560Z"
      },
      {
        "duration": 6,
        "start_time": "2022-02-15T15:55:01.316Z"
      },
      {
        "duration": 639,
        "start_time": "2022-02-15T15:55:01.324Z"
      },
      {
        "duration": 4,
        "start_time": "2022-02-15T15:55:01.965Z"
      },
      {
        "duration": 15,
        "start_time": "2022-02-15T15:55:01.970Z"
      },
      {
        "duration": 9,
        "start_time": "2022-02-15T15:55:01.986Z"
      },
      {
        "duration": 8,
        "start_time": "2022-02-15T15:55:01.997Z"
      },
      {
        "duration": 68,
        "start_time": "2022-02-15T15:55:02.007Z"
      },
      {
        "duration": 798,
        "start_time": "2022-02-15T15:55:02.077Z"
      },
      {
        "duration": 1132,
        "start_time": "2022-02-15T15:55:02.877Z"
      },
      {
        "duration": 190,
        "start_time": "2022-02-15T15:55:04.012Z"
      },
      {
        "duration": 191,
        "start_time": "2022-02-15T15:55:04.204Z"
      },
      {
        "duration": 5,
        "start_time": "2022-02-15T15:55:04.397Z"
      },
      {
        "duration": 195,
        "start_time": "2022-02-15T15:55:04.404Z"
      },
      {
        "duration": 261,
        "start_time": "2022-02-15T15:55:04.601Z"
      },
      {
        "duration": 5,
        "start_time": "2022-02-15T15:55:04.864Z"
      },
      {
        "duration": 405,
        "start_time": "2022-02-15T15:55:04.871Z"
      },
      {
        "duration": 3,
        "start_time": "2022-02-15T15:55:05.278Z"
      },
      {
        "duration": 523,
        "start_time": "2022-02-15T15:55:05.283Z"
      },
      {
        "duration": 542,
        "start_time": "2022-02-15T15:55:05.807Z"
      },
      {
        "duration": 6,
        "start_time": "2022-02-15T15:55:06.351Z"
      },
      {
        "duration": 638,
        "start_time": "2022-02-15T15:55:06.364Z"
      },
      {
        "duration": 5,
        "start_time": "2022-02-15T15:55:07.004Z"
      },
      {
        "duration": 20,
        "start_time": "2022-02-15T15:55:07.011Z"
      },
      {
        "duration": 3,
        "start_time": "2022-02-15T15:55:07.045Z"
      },
      {
        "duration": 99,
        "start_time": "2022-02-15T15:55:07.049Z"
      },
      {
        "duration": 464,
        "start_time": "2022-02-15T15:55:07.149Z"
      },
      {
        "duration": -25452,
        "start_time": "2022-02-15T15:55:33.068Z"
      },
      {
        "duration": 2252,
        "start_time": "2022-02-15T15:56:07.004Z"
      },
      {
        "duration": 1290,
        "start_time": "2022-02-15T15:56:38.091Z"
      },
      {
        "duration": 54,
        "start_time": "2022-02-15T15:58:46.277Z"
      },
      {
        "duration": 568,
        "start_time": "2022-02-15T16:01:06.359Z"
      },
      {
        "duration": 807,
        "start_time": "2022-02-15T16:01:58.864Z"
      },
      {
        "duration": 661,
        "start_time": "2022-02-15T16:02:21.197Z"
      },
      {
        "duration": 678,
        "start_time": "2022-02-15T16:02:37.063Z"
      },
      {
        "duration": 1232,
        "start_time": "2022-02-15T16:03:18.460Z"
      },
      {
        "duration": 1071,
        "start_time": "2022-02-15T17:12:46.598Z"
      },
      {
        "duration": 34,
        "start_time": "2022-02-15T17:12:47.670Z"
      },
      {
        "duration": 13,
        "start_time": "2022-02-15T17:12:47.706Z"
      },
      {
        "duration": 12,
        "start_time": "2022-02-15T17:12:47.721Z"
      },
      {
        "duration": 10,
        "start_time": "2022-02-15T17:12:47.746Z"
      },
      {
        "duration": 23,
        "start_time": "2022-02-15T17:12:47.758Z"
      },
      {
        "duration": 6,
        "start_time": "2022-02-15T17:12:47.782Z"
      },
      {
        "duration": 12,
        "start_time": "2022-02-15T17:12:47.790Z"
      },
      {
        "duration": 8,
        "start_time": "2022-02-15T17:12:47.804Z"
      },
      {
        "duration": 40,
        "start_time": "2022-02-15T17:12:47.814Z"
      },
      {
        "duration": 7,
        "start_time": "2022-02-15T17:12:47.855Z"
      },
      {
        "duration": 6,
        "start_time": "2022-02-15T17:12:47.863Z"
      },
      {
        "duration": 21,
        "start_time": "2022-02-15T17:12:47.870Z"
      },
      {
        "duration": 2,
        "start_time": "2022-02-15T17:12:47.893Z"
      },
      {
        "duration": 10,
        "start_time": "2022-02-15T17:12:47.897Z"
      },
      {
        "duration": 3,
        "start_time": "2022-02-15T17:12:47.909Z"
      },
      {
        "duration": 37,
        "start_time": "2022-02-15T17:12:47.913Z"
      },
      {
        "duration": 4,
        "start_time": "2022-02-15T17:12:47.951Z"
      },
      {
        "duration": 7,
        "start_time": "2022-02-15T17:12:47.956Z"
      },
      {
        "duration": 15,
        "start_time": "2022-02-15T17:12:47.964Z"
      },
      {
        "duration": 11,
        "start_time": "2022-02-15T17:12:47.980Z"
      },
      {
        "duration": 658,
        "start_time": "2022-02-15T17:12:47.992Z"
      },
      {
        "duration": 533,
        "start_time": "2022-02-15T17:12:48.654Z"
      },
      {
        "duration": 5,
        "start_time": "2022-02-15T17:12:49.190Z"
      },
      {
        "duration": 7,
        "start_time": "2022-02-15T17:12:49.196Z"
      },
      {
        "duration": 18,
        "start_time": "2022-02-15T17:12:49.204Z"
      },
      {
        "duration": 23,
        "start_time": "2022-02-15T17:12:49.223Z"
      },
      {
        "duration": 7,
        "start_time": "2022-02-15T17:12:49.247Z"
      },
      {
        "duration": 28,
        "start_time": "2022-02-15T17:12:49.255Z"
      },
      {
        "duration": 344,
        "start_time": "2022-02-15T17:12:49.285Z"
      },
      {
        "duration": 1035,
        "start_time": "2022-02-15T17:12:49.631Z"
      },
      {
        "duration": 24,
        "start_time": "2022-02-15T17:12:50.667Z"
      },
      {
        "duration": 10,
        "start_time": "2022-02-15T17:12:50.693Z"
      },
      {
        "duration": 47,
        "start_time": "2022-02-15T17:12:50.705Z"
      },
      {
        "duration": 8,
        "start_time": "2022-02-15T17:12:50.754Z"
      },
      {
        "duration": 16,
        "start_time": "2022-02-15T17:12:50.763Z"
      },
      {
        "duration": 4,
        "start_time": "2022-02-15T17:12:50.781Z"
      },
      {
        "duration": 436,
        "start_time": "2022-02-15T17:12:50.786Z"
      },
      {
        "duration": 34,
        "start_time": "2022-02-15T17:12:51.224Z"
      },
      {
        "duration": 5,
        "start_time": "2022-02-15T17:12:51.260Z"
      },
      {
        "duration": 457,
        "start_time": "2022-02-15T17:12:51.267Z"
      },
      {
        "duration": 310,
        "start_time": "2022-02-15T17:12:51.726Z"
      },
      {
        "duration": 132,
        "start_time": "2022-02-15T17:12:52.045Z"
      },
      {
        "duration": 141,
        "start_time": "2022-02-15T17:12:52.179Z"
      },
      {
        "duration": 503,
        "start_time": "2022-02-15T17:12:52.322Z"
      },
      {
        "duration": 4,
        "start_time": "2022-02-15T17:12:52.827Z"
      },
      {
        "duration": 502,
        "start_time": "2022-02-15T17:12:52.832Z"
      },
      {
        "duration": 5,
        "start_time": "2022-02-15T17:12:53.335Z"
      },
      {
        "duration": 669,
        "start_time": "2022-02-15T17:12:53.345Z"
      },
      {
        "duration": 5,
        "start_time": "2022-02-15T17:12:54.015Z"
      },
      {
        "duration": 13,
        "start_time": "2022-02-15T17:12:54.021Z"
      },
      {
        "duration": 9,
        "start_time": "2022-02-15T17:12:54.045Z"
      },
      {
        "duration": 22,
        "start_time": "2022-02-15T17:12:54.056Z"
      },
      {
        "duration": 151,
        "start_time": "2022-02-15T17:12:54.082Z"
      },
      {
        "duration": 691,
        "start_time": "2022-02-15T17:12:54.235Z"
      },
      {
        "duration": 1034,
        "start_time": "2022-02-15T17:12:54.927Z"
      },
      {
        "duration": 172,
        "start_time": "2022-02-15T17:12:55.962Z"
      },
      {
        "duration": 181,
        "start_time": "2022-02-15T17:12:56.135Z"
      },
      {
        "duration": 5,
        "start_time": "2022-02-15T17:12:56.318Z"
      },
      {
        "duration": 180,
        "start_time": "2022-02-15T17:12:56.325Z"
      },
      {
        "duration": 246,
        "start_time": "2022-02-15T17:12:56.507Z"
      },
      {
        "duration": 4,
        "start_time": "2022-02-15T17:12:56.755Z"
      },
      {
        "duration": 389,
        "start_time": "2022-02-15T17:12:56.761Z"
      },
      {
        "duration": 3,
        "start_time": "2022-02-15T17:12:57.151Z"
      },
      {
        "duration": 328,
        "start_time": "2022-02-15T17:12:57.155Z"
      },
      {
        "duration": 494,
        "start_time": "2022-02-15T17:12:57.485Z"
      },
      {
        "duration": 5,
        "start_time": "2022-02-15T17:12:57.980Z"
      },
      {
        "duration": 512,
        "start_time": "2022-02-15T17:12:57.990Z"
      },
      {
        "duration": 5,
        "start_time": "2022-02-15T17:12:58.503Z"
      },
      {
        "duration": 17,
        "start_time": "2022-02-15T17:12:58.509Z"
      },
      {
        "duration": 2,
        "start_time": "2022-02-15T17:12:58.528Z"
      },
      {
        "duration": 66,
        "start_time": "2022-02-15T17:12:58.531Z"
      },
      {
        "duration": 1319,
        "start_time": "2022-02-15T17:12:58.599Z"
      },
      {
        "duration": 1143,
        "start_time": "2022-02-15T17:12:59.920Z"
      },
      {
        "duration": 17,
        "start_time": "2022-02-15T17:16:45.609Z"
      },
      {
        "duration": 354,
        "start_time": "2022-02-15T17:17:07.474Z"
      },
      {
        "duration": 5,
        "start_time": "2022-02-15T17:17:26.851Z"
      }
    ],
    "colab": {
      "collapsed_sections": [],
      "name": "Анализ игрового рынка",
      "provenance": [],
      "toc_visible": true
    },
    "kernelspec": {
      "display_name": "Python 3 (ipykernel)",
      "language": "python",
      "name": "python3"
    },
    "language_info": {
      "codemirror_mode": {
        "name": "ipython",
        "version": 3
      },
      "file_extension": ".py",
      "mimetype": "text/x-python",
      "name": "python",
      "nbconvert_exporter": "python",
      "pygments_lexer": "ipython3",
      "version": "3.9.5"
    },
    "toc": {
      "base_numbering": 1,
      "nav_menu": {},
      "number_sections": true,
      "sideBar": true,
      "skip_h1_title": true,
      "title_cell": "Table of Contents",
      "title_sidebar": "Contents",
      "toc_cell": false,
      "toc_position": {
        "height": "calc(100% - 180px)",
        "left": "10px",
        "top": "150px",
        "width": "240px"
      },
      "toc_section_display": true,
      "toc_window_display": true
    }
  },
  "nbformat": 4,
  "nbformat_minor": 0
}